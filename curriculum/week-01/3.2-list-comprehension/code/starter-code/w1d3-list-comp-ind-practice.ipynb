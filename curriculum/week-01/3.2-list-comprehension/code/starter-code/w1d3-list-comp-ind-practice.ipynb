{
 "cells": [
  {
   "cell_type": "markdown",
   "metadata": {},
   "source": [
    "### List comprehension independent practice\n",
    "\n",
    "Each problem should be completed with a single list (or dictionary) comprehension!"
   ]
  },
  {
   "cell_type": "code",
   "execution_count": 1,
   "metadata": {
    "collapsed": true
   },
   "outputs": [],
   "source": [
    "import pandas as pd\n",
    "import numpy as np\n",
    "import string"
   ]
  },
  {
   "cell_type": "markdown",
   "metadata": {},
   "source": [
    "#### Easy problems"
   ]
  },
  {
   "cell_type": "markdown",
   "metadata": {},
   "source": [
    "##### 1. convert each string from lowercase to uppercase\n",
    "\n",
    "[Hint: python strings can be turned to uppercase by appending: .upper(), e.g 'hello'.upper()]"
   ]
  },
  {
   "cell_type": "code",
   "execution_count": 3,
   "metadata": {
    "collapsed": false
   },
   "outputs": [
    {
     "name": "stdout",
     "output_type": "stream",
     "text": [
      "['BLACK', 'YELLOW', 'RED', 'GREEN', 'BLUE']\n"
     ]
    }
   ],
   "source": [
    "strings = ['black','Yellow','ReD','GreeN','BLUe']\n",
    "strings2=[ x.upper() for x in strings]\n",
    "print strings2"
   ]
  },
  {
   "cell_type": "markdown",
   "metadata": {},
   "source": [
    "##### 2. take the numbers in the list and keep only the even numbers\n",
    "\n",
    "[Hint: the modulo operator **%** can be used to calculate the remainder, e.g. 5 % 2 == 1]"
   ]
  },
  {
   "cell_type": "code",
   "execution_count": 5,
   "metadata": {
    "collapsed": false
   },
   "outputs": [
    {
     "name": "stdout",
     "output_type": "stream",
     "text": [
      "[2, 4, 6, 8, 10]\n"
     ]
    }
   ],
   "source": [
    "numbers = [1,2,3,4,5,6,7,8,9,10]\n",
    "num_even=[x for x in numbers if x%2==0]\n",
    "print num_even"
   ]
  },
  {
   "cell_type": "markdown",
   "metadata": {},
   "source": [
    "##### 3. convert to 'v' if a character is a vowel and 'c' if a consonant, otherwise convert to '?'"
   ]
  },
  {
   "cell_type": "code",
   "execution_count": 17,
   "metadata": {
    "collapsed": false
   },
   "outputs": [
    {
     "name": "stdout",
     "output_type": "stream",
     "text": [
      "['v', 'c', '?', 'c', 'c', '?', '?', 'v', 'v', '?', 'v', 'c', 'c']\n"
     ]
    }
   ],
   "source": [
    "characters = ['a','f',None,'k','l','1',12,'e','e',-1,'i','b','p']\n",
    "alphabet = list(string.ascii_lowercase)\n",
    "vowels = ['a','e','i','o','u']\n",
    "char_check=['v' if x in vowels else 'c' if x in alphabet else '?' for x in characters]\n",
    "print char_check"
   ]
  },
  {
   "cell_type": "markdown",
   "metadata": {},
   "source": [
    "#### Medium problems"
   ]
  },
  {
   "cell_type": "markdown",
   "metadata": {},
   "source": [
    "##### 4. calculate the means of the numbers in each list that lie between 0 and 100 (inclusive)"
   ]
  },
  {
   "cell_type": "code",
   "execution_count": 1,
   "metadata": {
    "collapsed": false
   },
   "outputs": [
    {
     "name": "stdout",
     "output_type": "stream",
     "text": [
      "[[34, 55, 77], [40, 34], [1, 50, 20, 90]]\n",
      "[[[161.0, 4.0]], [[74.0, 2.0]], [[166.0, 3.0]]]\n",
      "[40.25, 37.0, 55.333333333333336]\n"
     ]
    }
   ],
   "source": [
    "number_sets = [[1,50,-40,20,90], [1004,1002,101,-90,40,34], [-1,-2,34,55,77,109]]\n",
    "lis=[]\n",
    "for x in number_sets:\n",
    "    lis.insert(0,[])\n",
    "    for y in x:\n",
    "        if y<101 and y>-1:\n",
    "            lis[0].append(y)\n",
    "print lis\n",
    "lis2=[]\n",
    "for x in lis:\n",
    "    lis2.insert(0,[])\n",
    "    sum=0\n",
    "    len=0\n",
    "    for y in x:\n",
    "        sum+=y\n",
    "        len+=1\n",
    "    r=[float(sum),float(len)]\n",
    "    lis2[0].append(r)\n",
    "print lis2\n",
    "lis3=[]\n",
    "for x in lis2:\n",
    "    mean=x[0][0]/x[0][1]\n",
    "    lis3.append(mean)\n",
    "print lis3"
   ]
  },
  {
   "cell_type": "markdown",
   "metadata": {},
   "source": [
    "##### 5. for each string in each list, if the index of the strings is even, join them like: 'item1 item2'. Otherwise join them like: 'item2 item1'."
   ]
  },
  {
   "cell_type": "code",
   "execution_count": 12,
   "metadata": {
    "collapsed": false
   },
   "outputs": [
    {
     "name": "stdout",
     "output_type": "stream",
     "text": [
      "['alpha echo', 'foxtrot bravo', 'charlie golf', 'hotel delta']\n"
     ]
    }
   ],
   "source": [
    "strings1 = ['alpha','bravo','charlie','delta']\n",
    "strings2 = ['echo','foxtrot','golf','hotel']\n",
    "i=2\n",
    "strings=[]\n",
    "for x,y in zip(strings1,strings2):\n",
    "    if i%2==0:\n",
    "        strings.append(x+' '+y)\n",
    "        i+=1\n",
    "    else:\n",
    "        strings.append(y+' '+x)\n",
    "        i+=1\n",
    "print strings"
   ]
  },
  {
   "cell_type": "markdown",
   "metadata": {},
   "source": [
    "##### 6. create a pandas dataframe from the columns and associated values where each column is the first five multiples of the values:"
   ]
  },
  {
   "cell_type": "code",
   "execution_count": 52,
   "metadata": {
    "collapsed": false
   },
   "outputs": [
    {
     "name": "stdout",
     "output_type": "stream",
     "text": [
      "[[  5.  10.  15.  20.  25.]\n",
      " [  7.  14.  21.  28.  35.]\n",
      " [ 12.  24.  36.  48.  60.]]\n"
     ]
    },
    {
     "data": {
      "text/html": [
       "<div>\n",
       "<table border=\"1\" class=\"dataframe\">\n",
       "  <thead>\n",
       "    <tr style=\"text-align: right;\">\n",
       "      <th></th>\n",
       "      <th>1</th>\n",
       "      <th>2</th>\n",
       "      <th>3</th>\n",
       "      <th>4</th>\n",
       "      <th>5</th>\n",
       "    </tr>\n",
       "  </thead>\n",
       "  <tbody>\n",
       "    <tr>\n",
       "      <th>five</th>\n",
       "      <td>5.0</td>\n",
       "      <td>10.0</td>\n",
       "      <td>15.0</td>\n",
       "      <td>20.0</td>\n",
       "      <td>25.0</td>\n",
       "    </tr>\n",
       "    <tr>\n",
       "      <th>seven</th>\n",
       "      <td>7.0</td>\n",
       "      <td>14.0</td>\n",
       "      <td>21.0</td>\n",
       "      <td>28.0</td>\n",
       "      <td>35.0</td>\n",
       "    </tr>\n",
       "    <tr>\n",
       "      <th>twelve</th>\n",
       "      <td>12.0</td>\n",
       "      <td>24.0</td>\n",
       "      <td>36.0</td>\n",
       "      <td>48.0</td>\n",
       "      <td>60.0</td>\n",
       "    </tr>\n",
       "  </tbody>\n",
       "</table>\n",
       "</div>"
      ],
      "text/plain": [
       "           1     2     3     4     5\n",
       "five     5.0  10.0  15.0  20.0  25.0\n",
       "seven    7.0  14.0  21.0  28.0  35.0\n",
       "twelve  12.0  24.0  36.0  48.0  60.0"
      ]
     },
     "execution_count": 52,
     "metadata": {},
     "output_type": "execute_result"
    }
   ],
   "source": [
    "import numpy as np\n",
    "import pandas as pd\n",
    "indices = ['five','seven','twelve']\n",
    "values = [5, 7, 12]\n",
    "multiples = [1, 2, 3, 4, 5]\n",
    "x=np.array([[5],[7],[12]])\n",
    "y=np.array(multiples)\n",
    "one=np.ones((3,5))\n",
    "z=np.multiply(x,one)\n",
    "z=np.multiply(y,z)\n",
    "print z\n",
    "pd.DataFrame(z,index=indices,columns=multiples)"
   ]
  },
  {
   "cell_type": "markdown",
   "metadata": {},
   "source": [
    "#### Hard problems"
   ]
  },
  {
   "cell_type": "markdown",
   "metadata": {},
   "source": [
    "##### 7. manually calculate the median of the first n numbers (from list \"N\") in list \"X\""
   ]
  },
  {
   "cell_type": "code",
   "execution_count": null,
   "metadata": {
    "collapsed": false
   },
   "outputs": [],
   "source": [
    "N = [12, 5, 6, 8, 10]\n",
    "X = [1, 2, 3, 4, 5, 6, 7, 8, 9, 10, 11, 12, 13, 14, 15]\n"
   ]
  },
  {
   "cell_type": "markdown",
   "metadata": {},
   "source": [
    "##### 8. combine into a flat list: \n",
    "\n",
    "1. iterate the elements of one list \n",
    "2. iteratively multiply by them by the elements in the second list\n",
    "3. then iteratively subtract the elements in a third list\n",
    "\n",
    "e.g:\n",
    "\n",
    "    a = [1,2]\n",
    "    b = [0,1]\n",
    "    c = [1,2]\n",
    "    output = [0,0,0,-1,0,0,1,0]"
   ]
  },
  {
   "cell_type": "code",
   "execution_count": null,
   "metadata": {
    "collapsed": false
   },
   "outputs": [],
   "source": [
    "a = [9,7,5]\n",
    "b = [10,5,1]\n",
    "c = [1,2,3]\n"
   ]
  }
 ],
 "metadata": {
  "anaconda-cloud": {},
  "kernelspec": {
   "display_name": "Python [default]",
   "language": "python",
   "name": "python2"
  },
  "language_info": {
   "codemirror_mode": {
    "name": "ipython",
    "version": 2
   },
   "file_extension": ".py",
   "mimetype": "text/x-python",
   "name": "python",
   "nbconvert_exporter": "python",
   "pygments_lexer": "ipython2",
   "version": "2.7.12"
  }
 },
 "nbformat": 4,
 "nbformat_minor": 0
}
