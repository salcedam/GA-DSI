{
 "cells": [
  {
   "cell_type": "code",
   "execution_count": null,
   "metadata": {
    "collapsed": true,
    "nbpresent": {
     "id": "1199c2fb-16b5-4a41-a924-e00faf1a4dc0"
    },
    "slideshow": {
     "slide_type": "-"
    }
   },
   "outputs": [],
   "source": [
    "from IPython.display import Image\n",
    "from IPython.core.display import HTML "
   ]
  },
  {
   "cell_type": "markdown",
   "metadata": {
    "nbpresent": {
     "id": "d99014c9-65c2-4bad-9171-a6998c616c41"
    },
    "slideshow": {
     "slide_type": "-"
    }
   },
   "source": [
    "# KMeans"
   ]
  },
  {
   "cell_type": "markdown",
   "metadata": {
    "nbpresent": {
     "id": "eb816777-18d2-4e52-994e-401468bb8c71"
    }
   },
   "source": [
    "### LEARNING OBJECTIVES\n",
    "*After this lesson, you will be able to:*"
   ]
  },
  {
   "cell_type": "markdown",
   "metadata": {
    "collapsed": true,
    "nbpresent": {
     "id": "a9ea75cb-5460-4066-bb1c-be6095fb681b"
    }
   },
   "source": [
    "Know what KMeans is, and give an eli5 (explain like I'm 5) to a recruiter."
   ]
  },
  {
   "cell_type": "markdown",
   "metadata": {
    "nbpresent": {
     "id": "3219ab8d-cd00-4745-963c-1dae3c39391e"
    }
   },
   "source": [
    "### Introduction (5 mins)"
   ]
  },
  {
   "cell_type": "markdown",
   "metadata": {
    "collapsed": true,
    "nbpresent": {
     "id": "d39704ce-44ec-43c1-8874-c2dd84a49bfe"
    }
   },
   "source": [
    "There are 3 types of learning (I think):\n",
    "\n",
    "* Supervised Learning - We use regressions and ensembles to take in a set of data 'X' in order to try and predict y\n",
    "* Unsupervised Learning - We use clustering to take in a set of data 'X' to try and create an artificial 'y'\n",
    "* Reinforcement Learning - We use dynamic supervised learning methods to teach the model over time\n",
    "\n",
    "KMeans is an unsupervised learning method."
   ]
  },
  {
   "cell_type": "markdown",
   "metadata": {
    "nbpresent": {
     "id": "6a4dc40e-7211-4b89-bc75-ad9f9affe08f"
    }
   },
   "source": [
    "When we use KMeans, we select how many artificial labels, 'y', we want. Furthermore, we can tell the algorithms how to start, when to stop, and what criteria needs to be met for a cluster to be formed. Before we go into fine tuning though, let's take a look at how KMeans works."
   ]
  },
  {
   "cell_type": "markdown",
   "metadata": {
    "nbpresent": {
     "id": "edf6c478-4da0-4cbc-9184-540721b73d62"
    }
   },
   "source": [
    "Given some data X, we decide we want to use KMeans to create some clusters. We tell KMeans to start at random locations in this example. This will yield non-deterministic results (not necessarily repeatable). We would use init='KMeans++' if we wanted the cluster to always start at precomputed cluster centers.\n",
    "\n",
    "![](assets/images/kmeans2.png)"
   ]
  },
  {
   "cell_type": "markdown",
   "metadata": {
    "nbpresent": {
     "id": "8b43f79a-e871-4596-adf6-b66049a8e1bb"
    }
   },
   "source": [
    "The KMeans algorithm works by iteratively moving the centroids to the center of its cluster. So, each time the cluster center moves, the cluster boundaries change, which results in the need to relocate the cluster center yet again. Once the cluster centers reach a point in which their new location is less than a threshold distance 'd' from the previous cluster center, the algorithm halts. Alternatively, if an algorithm is having trouble determining cluster centers, there is a max number of iterations parameter.\n",
    "\n",
    "![](assets/images/kmeans4.png)"
   ]
  },
  {
   "cell_type": "markdown",
   "metadata": {
    "nbpresent": {
     "id": "ed91c87a-0213-4713-94b6-2cef7a034069"
    }
   },
   "source": [
    "The boundaries of a cluster a decided by something called a Voronoi Diagram. A Voronoi Diagram creates boundaries based upon euclidian distance. The boundaries ensure that every point within the bound is closest to the appropriate cluster center.\n",
    "\n",
    "![](https://upload.wikimedia.org/wikipedia/commons/thumb/5/54/Euclidean_Voronoi_diagram.svg/764px-Euclidean_Voronoi_diagram.svg.png)"
   ]
  },
  {
   "cell_type": "markdown",
   "metadata": {
    "nbpresent": {
     "id": "d9de8bb1-ebda-4ede-a00c-1f0c4f2a6f7a"
    }
   },
   "source": [
    "Additional Parameters"
   ]
  },
  {
   "cell_type": "markdown",
   "metadata": {
    "nbpresent": {
     "id": "cb5c48d8-9266-4f4a-9817-15a35c8feb41"
    }
   },
   "source": [
    "### Guided practice (10 mins)\n",
    "\n",
    "Let's take some time to try KMeans for ourselves. We will be using the beloved Iris dataset in this exercise."
   ]
  },
  {
   "cell_type": "code",
   "execution_count": 51,
   "metadata": {
    "collapsed": false,
    "nbpresent": {
     "id": "171f5b77-5f8d-46ec-b2ac-a82d36f78b35"
    }
   },
   "outputs": [],
   "source": [
    "%matplotlib inline \n",
    "\n",
    "import pandas as pd\n",
    "import numpy as np\n",
    "from sklearn.metrics import pairwise_distances\n",
    "from sklearn import cluster, datasets, preprocessing, metrics\n",
    "from sklearn.metrics import accuracy_score\n",
    "import matplotlib.pyplot as plt\n",
    "import seaborn as sns\n",
    "import matplotlib\n",
    "matplotlib.style.use('ggplot') "
   ]
  },
  {
   "cell_type": "code",
   "execution_count": 3,
   "metadata": {
    "collapsed": false,
    "nbpresent": {
     "id": "0a3aa5a3-aa73-49d5-9a86-9f140293a8d3"
    }
   },
   "outputs": [
    {
     "name": "stdout",
     "output_type": "stream",
     "text": [
      "Iris-setosa        50\n",
      "Iris-versicolor    50\n",
      "Iris-virginica     50\n",
      "Name: Name, dtype: int64\n"
     ]
    },
    {
     "data": {
      "text/html": [
       "<div>\n",
       "<table border=\"1\" class=\"dataframe\">\n",
       "  <thead>\n",
       "    <tr style=\"text-align: right;\">\n",
       "      <th></th>\n",
       "      <th>SepalLength</th>\n",
       "      <th>SepalWidth</th>\n",
       "      <th>PetalLength</th>\n",
       "      <th>PetalWidth</th>\n",
       "      <th>Name</th>\n",
       "    </tr>\n",
       "  </thead>\n",
       "  <tbody>\n",
       "    <tr>\n",
       "      <th>0</th>\n",
       "      <td>5.1</td>\n",
       "      <td>3.5</td>\n",
       "      <td>1.4</td>\n",
       "      <td>0.2</td>\n",
       "      <td>Iris-setosa</td>\n",
       "    </tr>\n",
       "    <tr>\n",
       "      <th>1</th>\n",
       "      <td>4.9</td>\n",
       "      <td>3.0</td>\n",
       "      <td>1.4</td>\n",
       "      <td>0.2</td>\n",
       "      <td>Iris-setosa</td>\n",
       "    </tr>\n",
       "    <tr>\n",
       "      <th>2</th>\n",
       "      <td>4.7</td>\n",
       "      <td>3.2</td>\n",
       "      <td>1.3</td>\n",
       "      <td>0.2</td>\n",
       "      <td>Iris-setosa</td>\n",
       "    </tr>\n",
       "    <tr>\n",
       "      <th>3</th>\n",
       "      <td>4.6</td>\n",
       "      <td>3.1</td>\n",
       "      <td>1.5</td>\n",
       "      <td>0.2</td>\n",
       "      <td>Iris-setosa</td>\n",
       "    </tr>\n",
       "    <tr>\n",
       "      <th>4</th>\n",
       "      <td>5.0</td>\n",
       "      <td>3.6</td>\n",
       "      <td>1.4</td>\n",
       "      <td>0.2</td>\n",
       "      <td>Iris-setosa</td>\n",
       "    </tr>\n",
       "  </tbody>\n",
       "</table>\n",
       "</div>"
      ],
      "text/plain": [
       "   SepalLength  SepalWidth  PetalLength  PetalWidth         Name\n",
       "0          5.1         3.5          1.4         0.2  Iris-setosa\n",
       "1          4.9         3.0          1.4         0.2  Iris-setosa\n",
       "2          4.7         3.2          1.3         0.2  Iris-setosa\n",
       "3          4.6         3.1          1.5         0.2  Iris-setosa\n",
       "4          5.0         3.6          1.4         0.2  Iris-setosa"
      ]
     },
     "execution_count": 3,
     "metadata": {},
     "output_type": "execute_result"
    }
   ],
   "source": [
    "# Check out the dataset and our target values\n",
    "df = pd.read_csv(\"assets/datasets/iris.csv\")\n",
    "print df.Name.value_counts()\n",
    "df.head(5)"
   ]
  },
  {
   "cell_type": "code",
   "execution_count": 59,
   "metadata": {
    "collapsed": false,
    "nbpresent": {
     "id": "79583842-4e90-4afc-b212-e3e00dda7e8d"
    }
   },
   "outputs": [
    {
     "data": {
      "text/plain": [
       "array(['Iris-setosa', 'Iris-versicolor', 'Iris-virginica'], dtype=object)"
      ]
     },
     "execution_count": 59,
     "metadata": {},
     "output_type": "execute_result"
    }
   ],
   "source": [
    "df['Name'].unique()"
   ]
  },
  {
   "cell_type": "code",
   "execution_count": 61,
   "metadata": {
    "collapsed": false,
    "nbpresent": {
     "id": "9e4b0991-9233-4246-ac3f-19dd57acab5b"
    },
    "scrolled": false
   },
   "outputs": [
    {
     "data": {
      "image/png": "[encoded data removed]",
      "text/plain": [
       "<matplotlib.figure.Figure at 0x12303f150>"
      ]
     },
     "metadata": {},
     "output_type": "display_data"
    }
   ],
   "source": [
    "def namer(value):\n",
    "    if value=='Iris-setosa':\n",
    "        return 0\n",
    "    if value=='Iris-versicolor':\n",
    "        return 1\n",
    "    if value=='Iris-virginica':\n",
    "        return 2\n",
    "\n",
    "cols = df.columns[:-1]\n",
    "y=df[\"Name\"].copy().apply(lambda x: namer(x))\n",
    "sns.pairplot(df[cols]);"
   ]
  },
  {
   "cell_type": "code",
   "execution_count": null,
   "metadata": {
    "collapsed": true,
    "nbpresent": {
     "id": "f5525dcd-9b11-48b4-8804-dba6fc57e23a"
    }
   },
   "outputs": [],
   "source": []
  },
  {
   "cell_type": "code",
   "execution_count": 28,
   "metadata": {
    "collapsed": false,
    "nbpresent": {
     "id": "af05baba-24ab-42ae-b039-ead2cc78d47e"
    }
   },
   "outputs": [
    {
     "data": {
      "image/png": "[encoded data removed]",
      "text/plain": [
       "<matplotlib.figure.Figure at 0x122c9b350>"
      ]
     },
     "metadata": {},
     "output_type": "display_data"
    }
   ],
   "source": [
    "X_0 = df[cols].copy()\n",
    "X_scaled1 = preprocessing.MinMaxScaler().fit_transform(df[cols])\n",
    "X_1=pd.DataFrame(X_scaled1, columns=cols)\n",
    "X_scaled2 = preprocessing.RobustScaler().fit_transform(df[cols])\n",
    "X_2=pd.DataFrame(X_scaled2, columns=cols)\n",
    "X_scaled3 = preprocessing.Normalizer().fit_transform(df[cols])\n",
    "X_3=pd.DataFrame(X_scaled3, columns=cols)\n",
    "plt.subplots(figsize=(10,7))\n",
    "plt.scatter(X_0['PetalWidth'],X_0['PetalLength'],c='black', label='Original Data')\n",
    "plt.scatter(X_1['PetalWidth'],X_1['PetalLength'],c='blue', label='Min Max Scaler')\n",
    "plt.scatter(X_2['PetalWidth'],X_2['PetalLength'],c='red', label='Robust Scaler')\n",
    "plt.scatter(X_3['PetalWidth'],X_3['PetalLength'],c='green', label='Normalizer')\n",
    "plt.title('Data Scaling Matters')\n",
    "plt.legend(loc='upper left')\n",
    "plt.xlabel('PetalWidth')\n",
    "plt.ylabel('PetalLength')\n",
    "plt.show()"
   ]
  },
  {
   "cell_type": "markdown",
   "metadata": {
    "nbpresent": {
     "id": "c0df8c58-5221-47fd-9437-a0733c8294d0"
    }
   },
   "source": [
    "Now, let's use KMeans.\n",
    "\n",
    "(Note: We create the label_changer function because labels given to the cluster data aren't always the same as the actual data. So, we test all possible permutations of label names to find the permutation that yields the best accuracy score. This permutation with the highest accuracy score is the correct clustering.)"
   ]
  },
  {
   "cell_type": "code",
   "execution_count": 85,
   "metadata": {
    "collapsed": true,
    "nbpresent": {
     "id": "f372faa1-aec7-4fde-86ef-b2772f7b620d"
    }
   },
   "outputs": [],
   "source": [
    "def label_changer(y,l):\n",
    "    l1=pd.DataFrame(l)[0].apply(lambda x: 0 if x==0 else 1 if x==1 else 2)\n",
    "    l2=pd.DataFrame(l)[0].apply(lambda x: 0 if x==0 else 2 if x==1 else 1)\n",
    "    l3=pd.DataFrame(l)[0].apply(lambda x: 1 if x==0 else 0 if x==1 else 2)\n",
    "    l4=pd.DataFrame(l)[0].apply(lambda x: 1 if x==0 else 2 if x==1 else 0)\n",
    "    l5=pd.DataFrame(l)[0].apply(lambda x: 2 if x==0 else 0 if x==1 else 1)\n",
    "    l6=pd.DataFrame(l)[0].apply(lambda x: 2 if x==0 else 1 if x==1 else 0)\n",
    "    p1=accuracy_score(y,l1)\n",
    "    p2=accuracy_score(y,l2)\n",
    "    p3=accuracy_score(y,l3)\n",
    "    p4=accuracy_score(y,l4)\n",
    "    p5=accuracy_score(y,l5)\n",
    "    p6=accuracy_score(y,l6)\n",
    "    s=[p1,p2,p3,p4,p5,p6]\n",
    "    if p1==max(s):\n",
    "        return l1\n",
    "    if p2==max(s):\n",
    "        return l2\n",
    "    if p3==max(s):\n",
    "        return l3\n",
    "    if p4==max(s):\n",
    "        return l4\n",
    "    if p5==max(s):\n",
    "        return l5\n",
    "    if p6==max(s):\n",
    "        return l6"
   ]
  },
  {
   "cell_type": "code",
   "execution_count": 90,
   "metadata": {
    "collapsed": false,
    "nbpresent": {
     "id": "2fb1e360-cd99-4bff-9477-892ed2b539f7"
    }
   },
   "outputs": [
    {
     "name": "stdout",
     "output_type": "stream",
     "text": [
      "0.893333333333\n"
     ]
    }
   ],
   "source": [
    "k = 3\n",
    "kmeans = cluster.KMeans(n_clusters=k)\n",
    "kmeans.fit(X_0)\n",
    "labels = kmeans.labels_\n",
    "centroids = kmeans.cluster_centers_\n",
    "inertia = kmeans.inertia_\n",
    "metrics.silhouette_score(X_0, labels, metric='euclidean')\n",
    "labels=label_changer(y,labels)\n",
    "print accuracy_score(y,labels)"
   ]
  },
  {
   "cell_type": "code",
   "execution_count": 91,
   "metadata": {
    "collapsed": false,
    "nbpresent": {
     "id": "78029036-0801-47ef-bbe4-8e053eff200d"
    }
   },
   "outputs": [
    {
     "name": "stdout",
     "output_type": "stream",
     "text": [
      "0.886666666667\n"
     ]
    }
   ],
   "source": [
    "k = 3\n",
    "kmeans = cluster.KMeans(n_clusters=k)\n",
    "kmeans.fit(X_1,y=y) \n",
    "labels = kmeans.labels_\n",
    "centroids = kmeans.cluster_centers_\n",
    "inertia = kmeans.inertia_\n",
    "metrics.silhouette_score(X_scaled1, labels, metric='euclidean')\n",
    "labels=label_changer(y,labels)\n",
    "print accuracy_score(y,labels)"
   ]
  },
  {
   "cell_type": "code",
   "execution_count": 92,
   "metadata": {
    "collapsed": false,
    "nbpresent": {
     "id": "939a6dc0-61cd-4370-8db5-1ed027c6279b"
    }
   },
   "outputs": [
    {
     "name": "stdout",
     "output_type": "stream",
     "text": [
      "0.813333333333\n"
     ]
    }
   ],
   "source": [
    "k = 3\n",
    "kmeans = cluster.KMeans(n_clusters=k)\n",
    "kmeans.fit(X_2)\n",
    "labels = kmeans.labels_\n",
    "centroids = kmeans.cluster_centers_\n",
    "inertia = kmeans.inertia_\n",
    "metrics.silhouette_score(X_scaled2, labels, metric='euclidean')\n",
    "labels=label_changer(y,labels)\n",
    "print accuracy_score(y,labels)"
   ]
  },
  {
   "cell_type": "code",
   "execution_count": 93,
   "metadata": {
    "collapsed": false,
    "nbpresent": {
     "id": "58c459fc-d63c-4b2b-aa69-e3e3f37b412b"
    }
   },
   "outputs": [
    {
     "name": "stdout",
     "output_type": "stream",
     "text": [
      "0.966666666667\n"
     ]
    }
   ],
   "source": [
    "k = 3\n",
    "kmeans = cluster.KMeans(n_clusters=k)\n",
    "kmeans.fit(X_3)\n",
    "labels = kmeans.labels_\n",
    "centroids = kmeans.cluster_centers_\n",
    "inertia = kmeans.inertia_\n",
    "metrics.silhouette_score(X_scaled3, labels, metric='euclidean')\n",
    "labels=label_changer(y,labels)\n",
    "print accuracy_score(y,labels)"
   ]
  },
  {
   "cell_type": "markdown",
   "metadata": {
    "nbpresent": {
     "id": "d580f322-f5be-4dce-b1d6-5dedd6fdcdfb"
    }
   },
   "source": [
    "### Independent practice / Questions to Consider (5 mins)"
   ]
  },
  {
   "cell_type": "markdown",
   "metadata": {
    "collapsed": true,
    "nbpresent": {
     "id": "b497cfbc-3786-4650-971c-a7f058265a3f"
    }
   },
   "source": [
    "1) Why do different standardizations yield different accuracy scores?\n",
    "\n",
    "2) Why do we use n_clusters=3?\n",
    "\n",
    "3) How would we know what to set n_clusters to if we didn't have a target variable to test against?\n",
    "\n",
    "4) Have we seen any data so far where clustering would be useful in addition to using ensemble and regression methods?"
   ]
  },
  {
   "cell_type": "markdown",
   "metadata": {
    "collapsed": true,
    "nbpresent": {
     "id": "7f98fa29-6fa7-46a7-b838-fd39a62f71d6"
    }
   },
   "source": [
    "# Questions?\n",
    "\n",
    "![](assets/images/Amer3.png)"
   ]
  },
  {
   "cell_type": "code",
   "execution_count": null,
   "metadata": {
    "collapsed": true
   },
   "outputs": [],
   "source": []
  }
 ],
 "metadata": {
  "anaconda-cloud": {},
  "celltoolbar": "Slideshow",
  "kernelspec": {
   "display_name": "Python [default]",
   "language": "python",
   "name": "python2"
  },
  "language_info": {
   "codemirror_mode": {
    "name": "ipython",
    "version": 2
   },
   "file_extension": ".py",
   "mimetype": "text/x-python",
   "name": "python",
   "nbconvert_exporter": "python",
   "pygments_lexer": "ipython2",
   "version": "2.7.12"
  },
  "nbpresent": {
   "slides": {
    "01c48d21-e672-46d1-b7db-ea6073506203": {
     "id": "01c48d21-e672-46d1-b7db-ea6073506203",
     "prev": "58abd2e3-0aee-43e9-944d-5428fe8669f4",
     "regions": {
      "da392bb8-a156-4b14-a845-27768aa33f5b": {
       "attrs": {
        "height": 0.8,
        "width": 0.8,
        "x": 0.1,
        "y": 0.1
       },
       "content": {
        "cell": "cb5c48d8-9266-4f4a-9817-15a35c8feb41",
        "part": "whole"
       },
       "id": "da392bb8-a156-4b14-a845-27768aa33f5b"
      }
     }
    },
    "076c0d31-66a3-40eb-968c-191d32b86b42": {
     "id": "076c0d31-66a3-40eb-968c-191d32b86b42",
     "prev": "19e77369-2d86-4fe7-87ce-3ffd51ab4ccd",
     "regions": {
      "01482e81-a8b9-4202-89b4-9cc1a6251809": {
       "attrs": {
        "height": 0.8,
        "width": 0.8,
        "x": 0.1,
        "y": 0.1
       },
       "content": {
        "cell": "ed91c87a-0213-4713-94b6-2cef7a034069",
        "part": "whole"
       },
       "id": "01482e81-a8b9-4202-89b4-9cc1a6251809"
      }
     }
    },
    "0f8c8180-1177-4f3e-8515-939db740c390": {
     "id": "0f8c8180-1177-4f3e-8515-939db740c390",
     "prev": "8488d67d-6292-420f-9105-e399f59ff058",
     "regions": {
      "c21e7a29-a528-47b7-b59e-30943f482073": {
       "attrs": {
        "height": 0.8,
        "width": 0.8,
        "x": 0.1,
        "y": 0.1
       },
       "content": {
        "cell": "d580f322-f5be-4dce-b1d6-5dedd6fdcdfb",
        "part": "whole"
       },
       "id": "c21e7a29-a528-47b7-b59e-30943f482073"
      }
     }
    },
    "19327b51-1640-4338-8eac-e5a9e08dfacf": {
     "id": "19327b51-1640-4338-8eac-e5a9e08dfacf",
     "prev": "833edc49-b8aa-4548-a753-9154edf3d2c2",
     "regions": {
      "bc6fde4d-475b-4644-8afb-e33a73597ebe": {
       "attrs": {
        "height": 0.8,
        "width": 0.8,
        "x": 0.1,
        "y": 0.1
       },
       "content": {
        "cell": "5a4eaf69-0262-47cf-b0f7-f05b49769911",
        "part": "whole"
       },
       "id": "bc6fde4d-475b-4644-8afb-e33a73597ebe"
      }
     }
    },
    "19e77369-2d86-4fe7-87ce-3ffd51ab4ccd": {
     "id": "19e77369-2d86-4fe7-87ce-3ffd51ab4ccd",
     "prev": "3d21738d-5a04-4973-b230-ad80231cea89",
     "regions": {
      "3907c80a-bf24-43c7-a455-39e4919b80da": {
       "attrs": {
        "height": 0.8,
        "width": 0.8,
        "x": 0.1,
        "y": 0.1
       },
       "content": {
        "cell": "8b43f79a-e871-4596-adf6-b66049a8e1bb",
        "part": "whole"
       },
       "id": "3907c80a-bf24-43c7-a455-39e4919b80da"
      }
     }
    },
    "1cb4b945-4dbe-4721-9d52-8fac16eea785": {
     "id": "1cb4b945-4dbe-4721-9d52-8fac16eea785",
     "prev": "77776bce-61b8-48d9-b7af-2d6ac3fdbb71",
     "regions": {
      "2a902d82-b3b4-4384-a179-d5b22cb4b25b": {
       "attrs": {
        "height": 0.8,
        "width": 0.8,
        "x": 0.1,
        "y": 0.1
       },
       "content": {
        "cell": "d39704ce-44ec-43c1-8874-c2dd84a49bfe",
        "part": "whole"
       },
       "id": "2a902d82-b3b4-4384-a179-d5b22cb4b25b"
      }
     }
    },
    "29816fd2-9b68-4f10-9a25-3eb7bca35980": {
     "id": "29816fd2-9b68-4f10-9a25-3eb7bca35980",
     "prev": "77c96e16-2f30-4d88-93bb-86b15b1c044e",
     "regions": {
      "6c6f554b-ad8f-41c2-a98a-d7a564055017": {
       "attrs": {
        "height": 0.8,
        "width": 0.8,
        "x": 0.1,
        "y": 0.1
       },
       "content": {
        "cell": "f372faa1-aec7-4fde-86ef-b2772f7b620d",
        "part": "whole"
       },
       "id": "6c6f554b-ad8f-41c2-a98a-d7a564055017"
      }
     }
    },
    "2f17fd38-f68f-4a05-8f6b-9c920b174cf1": {
     "id": "2f17fd38-f68f-4a05-8f6b-9c920b174cf1",
     "prev": "9981ee25-7a9a-4b8e-8d61-fd2316250f21",
     "regions": {
      "df6981ce-86c8-4abf-ac49-6648ff55d3f6": {
       "attrs": {
        "height": 0.8,
        "width": 0.8,
        "x": 0.1,
        "y": 0.1
       },
       "content": {
        "cell": "eb816777-18d2-4e52-994e-401468bb8c71",
        "part": "whole"
       },
       "id": "df6981ce-86c8-4abf-ac49-6648ff55d3f6"
      }
     }
    },
    "31e56142-a762-4840-abdd-6f84aa736205": {
     "id": "31e56142-a762-4840-abdd-6f84aa736205",
     "prev": "7c1c3202-613d-4745-8e45-248de4309829",
     "regions": {
      "124e93c3-e3e1-48d7-9ec6-4fb814114a07": {
       "attrs": {
        "height": 0.8,
        "width": 0.8,
        "x": 0.1,
        "y": 0.1
       },
       "content": {
        "cell": "0a3aa5a3-aa73-49d5-9a86-9f140293a8d3",
        "part": "whole"
       },
       "id": "124e93c3-e3e1-48d7-9ec6-4fb814114a07"
      }
     }
    },
    "385093c7-bf5f-4f7b-bac6-f07373369831": {
     "id": "385093c7-bf5f-4f7b-bac6-f07373369831",
     "prev": "ea2d20d0-ae88-4948-bcfe-a23f497f66e2",
     "regions": {
      "391586d7-15db-4ec4-89c3-8e25d69be458": {
       "attrs": {
        "height": 0.8,
        "width": 0.8,
        "x": 0.1,
        "y": 0.1
       },
       "content": {
        "cell": "55311c00-303b-4a1a-ac9e-e69a6d409728",
        "part": "whole"
       },
       "id": "391586d7-15db-4ec4-89c3-8e25d69be458"
      }
     }
    },
    "3d21738d-5a04-4973-b230-ad80231cea89": {
     "id": "3d21738d-5a04-4973-b230-ad80231cea89",
     "prev": "bf11189e-56d0-4363-89ea-e5a08ea3554f",
     "regions": {
      "b8222882-ba75-4a05-a341-9d0efa63855d": {
       "attrs": {
        "height": 0.8,
        "width": 0.8,
        "x": 0.1,
        "y": 0.1
       },
       "content": {
        "cell": "edf6c478-4da0-4cbc-9184-540721b73d62",
        "part": "whole"
       },
       "id": "b8222882-ba75-4a05-a341-9d0efa63855d"
      }
     }
    },
    "44e94141-f0b0-4f3c-ad7e-bf44993209e9": {
     "id": "44e94141-f0b0-4f3c-ad7e-bf44993209e9",
     "prev": "93e01c42-1cde-45fc-9951-599f09f986f6",
     "regions": {
      "f38d7913-9d7b-40b0-aa97-1ff12cfa6bca": {
       "attrs": {
        "height": 0.8,
        "width": 0.8,
        "x": 0.1,
        "y": 0.1
       },
       "content": {
        "cell": "f5525dcd-9b11-48b4-8804-dba6fc57e23a",
        "part": "whole"
       },
       "id": "f38d7913-9d7b-40b0-aa97-1ff12cfa6bca"
      }
     }
    },
    "58abd2e3-0aee-43e9-944d-5428fe8669f4": {
     "id": "58abd2e3-0aee-43e9-944d-5428fe8669f4",
     "prev": "076c0d31-66a3-40eb-968c-191d32b86b42",
     "regions": {
      "b7973d29-b1e0-4f1c-8877-49fa0a004010": {
       "attrs": {
        "height": 0.8,
        "width": 0.8,
        "x": 0.1,
        "y": 0.1
       },
       "content": {
        "cell": "d9de8bb1-ebda-4ede-a00c-1f0c4f2a6f7a",
        "part": "whole"
       },
       "id": "b7973d29-b1e0-4f1c-8877-49fa0a004010"
      }
     }
    },
    "5a1b3f3e-9345-4d7f-87c2-a1801177f2a5": {
     "id": "5a1b3f3e-9345-4d7f-87c2-a1801177f2a5",
     "prev": "385093c7-bf5f-4f7b-bac6-f07373369831",
     "regions": {
      "ad62333e-c3cf-4e96-8244-6116c6647d7d": {
       "attrs": {
        "height": 0.8,
        "width": 0.8,
        "x": 0.1,
        "y": 0.1
       },
       "content": {
        "cell": "db77dc08-2181-496a-9c46-fe7376d0fab1",
        "part": "whole"
       },
       "id": "ad62333e-c3cf-4e96-8244-6116c6647d7d"
      }
     }
    },
    "71e203ce-c8b4-40fc-b075-c246af9bad2c": {
     "id": "71e203ce-c8b4-40fc-b075-c246af9bad2c",
     "prev": "9b17d506-c0f6-4093-9032-aa57838219a1",
     "regions": {
      "756a97d9-b8b4-4518-8130-69238896fde7": {
       "attrs": {
        "height": 0.8,
        "width": 0.8,
        "x": 0.1,
        "y": 0.1
       },
       "content": {
        "cell": "78029036-0801-47ef-bbe4-8e053eff200d",
        "part": "whole"
       },
       "id": "756a97d9-b8b4-4518-8130-69238896fde7"
      }
     }
    },
    "77776bce-61b8-48d9-b7af-2d6ac3fdbb71": {
     "id": "77776bce-61b8-48d9-b7af-2d6ac3fdbb71",
     "prev": "a4884d85-4cc0-445f-a566-8edf072c5fc4",
     "regions": {
      "f03ef0c1-9436-426f-a086-d006a384d00a": {
       "attrs": {
        "height": 0.8,
        "width": 0.8,
        "x": 0.1,
        "y": 0.1
       },
       "content": {
        "cell": "3219ab8d-cd00-4745-963c-1dae3c39391e",
        "part": "whole"
       },
       "id": "f03ef0c1-9436-426f-a086-d006a384d00a"
      }
     }
    },
    "77c96e16-2f30-4d88-93bb-86b15b1c044e": {
     "id": "77c96e16-2f30-4d88-93bb-86b15b1c044e",
     "prev": "9e3b92ca-664b-49f1-9a48-1630b34260d5",
     "regions": {
      "b04fce81-9927-4da9-9525-e19f458bbe29": {
       "attrs": {
        "height": 0.8,
        "width": 0.8,
        "x": 0.1,
        "y": 0.1
       },
       "content": {
        "cell": "c0df8c58-5221-47fd-9437-a0733c8294d0",
        "part": "whole"
       },
       "id": "b04fce81-9927-4da9-9525-e19f458bbe29"
      }
     }
    },
    "7c1c3202-613d-4745-8e45-248de4309829": {
     "id": "7c1c3202-613d-4745-8e45-248de4309829",
     "prev": "01c48d21-e672-46d1-b7db-ea6073506203",
     "regions": {
      "3fdfe956-c218-4866-bda9-948fabd369c2": {
       "attrs": {
        "height": 0.8,
        "width": 0.8,
        "x": 0.1,
        "y": 0.1
       },
       "content": {
        "cell": "171f5b77-5f8d-46ec-b2ac-a82d36f78b35",
        "part": "whole"
       },
       "id": "3fdfe956-c218-4866-bda9-948fabd369c2"
      }
     }
    },
    "833edc49-b8aa-4548-a753-9154edf3d2c2": {
     "id": "833edc49-b8aa-4548-a753-9154edf3d2c2",
     "prev": "bd76e117-4995-45a4-86ee-1faecdc3286c",
     "regions": {
      "9a784faf-31a9-4c29-9804-390e80145fce": {
       "attrs": {
        "height": 0.8,
        "width": 0.8,
        "x": 0.1,
        "y": 0.1
       },
       "content": {
        "cell": "7f98fa29-6fa7-46a7-b838-fd39a62f71d6",
        "part": "whole"
       },
       "id": "9a784faf-31a9-4c29-9804-390e80145fce"
      }
     }
    },
    "8488d67d-6292-420f-9105-e399f59ff058": {
     "id": "8488d67d-6292-420f-9105-e399f59ff058",
     "prev": "e22edc8d-3062-406f-aefd-c7bed17c2f6a",
     "regions": {
      "5ab5a78b-bc39-4902-b82a-9dad59a3509b": {
       "attrs": {
        "height": 0.8,
        "width": 0.8,
        "x": 0.1,
        "y": 0.1
       },
       "content": {
        "cell": "58c459fc-d63c-4b2b-aa69-e3e3f37b412b",
        "part": "whole"
       },
       "id": "5ab5a78b-bc39-4902-b82a-9dad59a3509b"
      }
     }
    },
    "93e01c42-1cde-45fc-9951-599f09f986f6": {
     "id": "93e01c42-1cde-45fc-9951-599f09f986f6",
     "prev": "9eea4044-403e-4848-922c-42e7bb944280",
     "regions": {
      "3dd0f2d8-f210-4f03-a7e4-03e57b24361f": {
       "attrs": {
        "height": 0.8,
        "width": 0.8,
        "x": 0.1,
        "y": 0.1
       },
       "content": {
        "cell": "9e4b0991-9233-4246-ac3f-19dd57acab5b",
        "part": "whole"
       },
       "id": "3dd0f2d8-f210-4f03-a7e4-03e57b24361f"
      }
     }
    },
    "9981ee25-7a9a-4b8e-8d61-fd2316250f21": {
     "id": "9981ee25-7a9a-4b8e-8d61-fd2316250f21",
     "prev": "e4794f04-cd0d-49f1-bfe1-9bfbb37106ff",
     "regions": {
      "0311970a-f1cc-4e0a-b137-22eb710d4320": {
       "attrs": {
        "height": 0.8,
        "width": 0.8,
        "x": 0.1,
        "y": 0.1
       },
       "content": {
        "cell": "d99014c9-65c2-4bad-9171-a6998c616c41",
        "part": "whole"
       },
       "id": "0311970a-f1cc-4e0a-b137-22eb710d4320"
      }
     }
    },
    "9b17d506-c0f6-4093-9032-aa57838219a1": {
     "id": "9b17d506-c0f6-4093-9032-aa57838219a1",
     "prev": "29816fd2-9b68-4f10-9a25-3eb7bca35980",
     "regions": {
      "13f09834-55b7-416d-b88f-dd426d9703a6": {
       "attrs": {
        "height": 0.8,
        "width": 0.8,
        "x": 0.1,
        "y": 0.1
       },
       "content": {
        "cell": "2fb1e360-cd99-4bff-9477-892ed2b539f7",
        "part": "whole"
       },
       "id": "13f09834-55b7-416d-b88f-dd426d9703a6"
      }
     }
    },
    "9e3b92ca-664b-49f1-9a48-1630b34260d5": {
     "id": "9e3b92ca-664b-49f1-9a48-1630b34260d5",
     "prev": "44e94141-f0b0-4f3c-ad7e-bf44993209e9",
     "regions": {
      "1025c7dc-80b1-4f1b-9e29-87056334a4af": {
       "attrs": {
        "height": 0.8,
        "width": 0.8,
        "x": 0.1,
        "y": 0.1
       },
       "content": {
        "cell": "af05baba-24ab-42ae-b039-ead2cc78d47e",
        "part": "whole"
       },
       "id": "1025c7dc-80b1-4f1b-9e29-87056334a4af"
      }
     }
    },
    "9eea4044-403e-4848-922c-42e7bb944280": {
     "id": "9eea4044-403e-4848-922c-42e7bb944280",
     "prev": "31e56142-a762-4840-abdd-6f84aa736205",
     "regions": {
      "01b5a7fd-c05e-4c2b-9d28-3c9246c9138d": {
       "attrs": {
        "height": 0.8,
        "width": 0.8,
        "x": 0.1,
        "y": 0.1
       },
       "content": {
        "cell": "79583842-4e90-4afc-b212-e3e00dda7e8d",
        "part": "whole"
       },
       "id": "01b5a7fd-c05e-4c2b-9d28-3c9246c9138d"
      }
     }
    },
    "a4884d85-4cc0-445f-a566-8edf072c5fc4": {
     "id": "a4884d85-4cc0-445f-a566-8edf072c5fc4",
     "prev": "2f17fd38-f68f-4a05-8f6b-9c920b174cf1",
     "regions": {
      "5ae2ddd6-08dd-4530-98b8-9db10944c9c2": {
       "attrs": {
        "height": 0.8,
        "width": 0.8,
        "x": 0.1,
        "y": 0.1
       },
       "content": {
        "cell": "a9ea75cb-5460-4066-bb1c-be6095fb681b",
        "part": "whole"
       },
       "id": "5ae2ddd6-08dd-4530-98b8-9db10944c9c2"
      }
     }
    },
    "b99994a4-a442-4373-95d4-3c916837549e": {
     "id": "b99994a4-a442-4373-95d4-3c916837549e",
     "prev": "19327b51-1640-4338-8eac-e5a9e08dfacf",
     "regions": {
      "b4f12af1-cb6a-40d6-ba20-fa7e9b960014": {
       "attrs": {
        "height": 0.8,
        "width": 0.8,
        "x": 0.1,
        "y": 0.1
       },
       "content": {
        "cell": "a0d2606e-79cb-4217-9f0d-62db01caff28",
        "part": "whole"
       },
       "id": "b4f12af1-cb6a-40d6-ba20-fa7e9b960014"
      }
     }
    },
    "bd76e117-4995-45a4-86ee-1faecdc3286c": {
     "id": "bd76e117-4995-45a4-86ee-1faecdc3286c",
     "prev": "0f8c8180-1177-4f3e-8515-939db740c390",
     "regions": {
      "b2db254e-58be-4ded-be39-7e7e0b37bb3c": {
       "attrs": {
        "height": 0.8,
        "width": 0.8,
        "x": 0.1,
        "y": 0.1
       },
       "content": {
        "cell": "b497cfbc-3786-4650-971c-a7f058265a3f",
        "part": "whole"
       },
       "id": "b2db254e-58be-4ded-be39-7e7e0b37bb3c"
      }
     }
    },
    "bf11189e-56d0-4363-89ea-e5a08ea3554f": {
     "id": "bf11189e-56d0-4363-89ea-e5a08ea3554f",
     "prev": "1cb4b945-4dbe-4721-9d52-8fac16eea785",
     "regions": {
      "7cee7181-0521-4e30-b7f6-19642007a2c2": {
       "attrs": {
        "height": 0.8,
        "width": 0.8,
        "x": 0.1,
        "y": 0.1
       },
       "content": {
        "cell": "6a4dc40e-7211-4b89-bc75-ad9f9affe08f",
        "part": "whole"
       },
       "id": "7cee7181-0521-4e30-b7f6-19642007a2c2"
      }
     }
    },
    "d3a1351a-a257-4c4b-8c25-9cc40f92b7a6": {
     "id": "d3a1351a-a257-4c4b-8c25-9cc40f92b7a6",
     "prev": "5a1b3f3e-9345-4d7f-87c2-a1801177f2a5",
     "regions": {
      "781b8610-14e2-44a1-aacd-a1e4f1677754": {
       "attrs": {
        "height": 0.8,
        "width": 0.8,
        "x": 0.1,
        "y": 0.1
       },
       "content": {
        "cell": "9821c8c1-8f35-4f58-9e42-dff27ad10c2e",
        "part": "whole"
       },
       "id": "781b8610-14e2-44a1-aacd-a1e4f1677754"
      }
     }
    },
    "e22edc8d-3062-406f-aefd-c7bed17c2f6a": {
     "id": "e22edc8d-3062-406f-aefd-c7bed17c2f6a",
     "prev": "71e203ce-c8b4-40fc-b075-c246af9bad2c",
     "regions": {
      "3cbf895b-eb44-4ba7-87da-d8d159d47305": {
       "attrs": {
        "height": 0.8,
        "width": 0.8,
        "x": 0.1,
        "y": 0.1
       },
       "content": {
        "cell": "939a6dc0-61cd-4370-8db5-1ed027c6279b",
        "part": "whole"
       },
       "id": "3cbf895b-eb44-4ba7-87da-d8d159d47305"
      }
     }
    },
    "e4794f04-cd0d-49f1-bfe1-9bfbb37106ff": {
     "id": "e4794f04-cd0d-49f1-bfe1-9bfbb37106ff",
     "prev": null,
     "regions": {
      "6ea56809-f4c4-4e35-bcae-b6811dd67f4a": {
       "attrs": {
        "height": 0.8,
        "width": 0.8,
        "x": 0.1,
        "y": 0.1
       },
       "content": {
        "cell": "1199c2fb-16b5-4a41-a924-e00faf1a4dc0",
        "part": "whole"
       },
       "id": "6ea56809-f4c4-4e35-bcae-b6811dd67f4a"
      }
     }
    },
    "ea2d20d0-ae88-4948-bcfe-a23f497f66e2": {
     "id": "ea2d20d0-ae88-4948-bcfe-a23f497f66e2",
     "prev": "b99994a4-a442-4373-95d4-3c916837549e",
     "regions": {
      "06bf7c6e-4a4b-440f-bfce-51ea78cc6bda": {
       "attrs": {
        "height": 0.8,
        "width": 0.8,
        "x": 0.1,
        "y": 0.1
       },
       "content": {
        "cell": "72070429-8af3-41e3-8a56-2406470121fb",
        "part": "whole"
       },
       "id": "06bf7c6e-4a4b-440f-bfce-51ea78cc6bda"
      }
     }
    }
   },
   "themes": {}
  }
 },
 "nbformat": 4,
 "nbformat_minor": 0
}
