{
 "cells": [
  {
   "cell_type": "code",
   "execution_count": 2,
   "metadata": {
    "collapsed": true,
    "slideshow": {
     "slide_type": "skip"
    }
   },
   "outputs": [],
   "source": [
    "import pandas as pd\n",
    "import numpy as np"
   ]
  },
  {
   "cell_type": "markdown",
   "metadata": {
    "slideshow": {
     "slide_type": "slide"
    }
   },
   "source": [
    "# ![](https://ga-dash.s3.amazonaws.com/production/assets/logo-9f88ae6c9c3871690e33280fcf557f33.png) Webscraping\n",
    "\n",
    "Week 4 | Day 4"
   ]
  },
  {
   "cell_type": "markdown",
   "metadata": {
    "slideshow": {
     "slide_type": "slide"
    }
   },
   "source": [
    "### LEARNING OBJECTIVES\n",
    "*After this lesson, you will be able to:*\n",
    "- Describe how web scraping works conceptually\n",
    "- Explain how to Web Scraping works using python\n",
    "- Define how to approach scraping project data"
   ]
  },
  {
   "cell_type": "markdown",
   "metadata": {
    "slideshow": {
     "slide_type": "slide"
    }
   },
   "source": [
    "# Webscraping"
   ]
  },
  {
   "cell_type": "markdown",
   "metadata": {
    "slideshow": {
     "slide_type": "-"
    }
   },
   "source": [
    "In data science work, it is often necessary to retrieve data from websites. Occassionally, sites will provide an API that allows their data to be easily accessed, but often this isn't the case. When an API is not available, the only real option is to build a webscraper. \n",
    "\n",
    "\n",
    "A webscraper retrieves the webpage in the same way your browser retrieves the page, but because we're doing it with code, we are able to parse the resulting site's content.\n",
    "\n",
    "\n",
    "**So how can we retrieve webpage content programmatically?**<br>\n",
    "The first step is to understand how HTTP works..."
   ]
  },
  {
   "cell_type": "markdown",
   "metadata": {
    "slideshow": {
     "slide_type": "slide"
    }
   },
   "source": [
    "## HTTP"
   ]
  },
  {
   "cell_type": "markdown",
   "metadata": {
    "slideshow": {
     "slide_type": "-"
    }
   },
   "source": [
    "Hypertext Transfer Protocol, or HTTP, is a text-based standard that allows clients and servers to communicate over TCP/IP. \n",
    "\n",
    "**HTTP  = the language computers communicate with**<br>\n",
    "**TCP/IP = the channel over which that communication takes place**\n",
    "\n",
    "HTTP is based on a client-server model. A client makes a request for some resource, and the server responds with the status of that request and the resource if available."
   ]
  },
  {
   "cell_type": "markdown",
   "metadata": {
    "slideshow": {
     "slide_type": "slide"
    }
   },
   "source": [
    "## HTTP Requests"
   ]
  },
  {
   "cell_type": "markdown",
   "metadata": {
    "slideshow": {
     "slide_type": "-"
    }
   },
   "source": [
    "There are two common types of HTTP requests: **GET and POST**"
   ]
  },
  {
   "cell_type": "markdown",
   "metadata": {
    "slideshow": {
     "slide_type": "slide"
    }
   },
   "source": [
    "### GET Requests"
   ]
  },
  {
   "cell_type": "markdown",
   "metadata": {
    "slideshow": {
     "slide_type": "-"
    }
   },
   "source": [
    "GET requests are by far the most common, they simply ask the server to retrieve some resource, typically a webpage, and to return it."
   ]
  },
  {
   "cell_type": "markdown",
   "metadata": {
    "collapsed": false,
    "slideshow": {
     "slide_type": "-"
    }
   },
   "source": [
    "<img src=\"http://i.imgur.com/qBG7jmB.png\" width=\"900\">"
   ]
  },
  {
   "cell_type": "markdown",
   "metadata": {
    "slideshow": {
     "slide_type": "slide"
    }
   },
   "source": [
    "### POST Requests"
   ]
  },
  {
   "cell_type": "markdown",
   "metadata": {
    "slideshow": {
     "slide_type": "-"
    }
   },
   "source": [
    "A POST request is nearly identical to a GET request, but includes a payload of some sort in the request body. "
   ]
  },
  {
   "cell_type": "markdown",
   "metadata": {
    "collapsed": false,
    "slideshow": {
     "slide_type": "-"
    }
   },
   "source": [
    "<img src=\"http://i.imgur.com/mzWB0wD.png\" width=900>"
   ]
  },
  {
   "cell_type": "markdown",
   "metadata": {
    "slideshow": {
     "slide_type": "slide"
    }
   },
   "source": [
    "## Typical Use Cases"
   ]
  },
  {
   "cell_type": "markdown",
   "metadata": {
    "slideshow": {
     "slide_type": "-"
    }
   },
   "source": [
    "GET requests are the standard way to request a webpage (as your browser would do). Some simple forms will use get as well. \n",
    "\n",
    "More sophisticated forms will utilize a POST request. GET requests pass parameters in the URL, while POST requests do not. This tends to make POST request more secure. \n",
    "\n",
    "N.B. Do not rely on POST alone as a security measure!"
   ]
  },
  {
   "cell_type": "markdown",
   "metadata": {
    "slideshow": {
     "slide_type": "slide"
    }
   },
   "source": [
    "## So once you make a request, naturally you expect a response...\n",
    "\n",
    "\n",
    "In the language of http, responses are provided first as a code"
   ]
  },
  {
   "cell_type": "markdown",
   "metadata": {
    "slideshow": {
     "slide_type": "slide"
    }
   },
   "source": [
    "## HTTP Response Codes"
   ]
  },
  {
   "cell_type": "markdown",
   "metadata": {
    "slideshow": {
     "slide_type": "-"
    }
   },
   "source": [
    "- 1XX - Informational\n",
    "- 2XX - Success\n",
    "- 3XX - Redirection\n",
    "- 4XX - Client Error\n",
    "- 5XX - Server Error"
   ]
  },
  {
   "cell_type": "markdown",
   "metadata": {
    "slideshow": {
     "slide_type": "slide"
    }
   },
   "source": [
    "### Response Codes - The Greatest Hits"
   ]
  },
  {
   "cell_type": "markdown",
   "metadata": {
    "slideshow": {
     "slide_type": "-"
    }
   },
   "source": [
    "- **200 - OK** - The requested action was successfully executed\n",
    "- **301 - Moved Permanently** - The resource has been relocated (and will not be back, so please stop asking me)\n",
    "- **400 - Bad Request** - The the client request is malformed in some way\n",
    "- **403 - Forbidden** - The requesting client (i.e. you) does not have permission to view the resource\n",
    "- **404 - Not Found** - The resource can't be found at the moment (may be in the future, so check back later)\n",
    "- **405 - Method Not Allowed** - Used GET when only POST was applicable for example\n",
    "- **418 - I'm a teapot** - For when the server is a teapot\n",
    "- **420 - NOT an HTTP code** - you're thinking of something else\n",
    "- **429 - Too Many Requests** - They're on to you and if you keep it up, they'll block you permenantly\n",
    "- **500 - Internal Server Error** -Some non-specific bad happened on their end\n",
    "- **502 - Bad Gateway** - The server was waiting on another resource and it ended badly\n",
    "- **503 - Service Unavailable** - The server is overloaded or down at the moment"
   ]
  },
  {
   "cell_type": "markdown",
   "metadata": {
    "slideshow": {
     "slide_type": "slide"
    }
   },
   "source": [
    "## So that is the basic language of the web, now how do we actually use this to get our content..."
   ]
  },
  {
   "cell_type": "markdown",
   "metadata": {
    "slideshow": {
     "slide_type": "slide"
    }
   },
   "source": [
    "## Python Requests"
   ]
  },
  {
   "cell_type": "markdown",
   "metadata": {
    "slideshow": {
     "slide_type": "-"
    }
   },
   "source": [
    "<img src=\"http://i.imgur.com/qpfNAPb.png\" width=\"900\">"
   ]
  },
  {
   "cell_type": "markdown",
   "metadata": {
    "slideshow": {
     "slide_type": "-"
    }
   },
   "source": [
    "Requests allows us to send the server a request using (POST or GET) and in return we receive our response code and content where applicable."
   ]
  },
  {
   "cell_type": "markdown",
   "metadata": {
    "slideshow": {
     "slide_type": "slide"
    }
   },
   "source": [
    "## First, we make a request to retrieve a website"
   ]
  },
  {
   "cell_type": "code",
   "execution_count": 3,
   "metadata": {
    "collapsed": true,
    "slideshow": {
     "slide_type": "-"
    }
   },
   "outputs": [],
   "source": [
    "import requests"
   ]
  },
  {
   "cell_type": "code",
   "execution_count": 4,
   "metadata": {
    "collapsed": true,
    "slideshow": {
     "slide_type": "-"
    }
   },
   "outputs": [],
   "source": [
    "r = requests.get('http://news.ycombinator.com')"
   ]
  },
  {
   "cell_type": "markdown",
   "metadata": {
    "slideshow": {
     "slide_type": "slide"
    }
   },
   "source": [
    "## We can check the response code"
   ]
  },
  {
   "cell_type": "code",
   "execution_count": 13,
   "metadata": {
    "collapsed": false,
    "slideshow": {
     "slide_type": "-"
    }
   },
   "outputs": [
    {
     "data": {
      "text/plain": [
       "<Response [200]>"
      ]
     },
     "execution_count": 13,
     "metadata": {},
     "output_type": "execute_result"
    }
   ],
   "source": [
    "r"
   ]
  },
  {
   "cell_type": "markdown",
   "metadata": {
    "slideshow": {
     "slide_type": "-"
    }
   },
   "source": [
    "### Check: What is a 200? Is that good or bad for what we're trying to do?"
   ]
  },
  {
   "cell_type": "markdown",
   "metadata": {
    "slideshow": {
     "slide_type": "slide"
    }
   },
   "source": [
    "## Let's see the request headers we sent"
   ]
  },
  {
   "cell_type": "code",
   "execution_count": 5,
   "metadata": {
    "collapsed": false,
    "slideshow": {
     "slide_type": "-"
    }
   },
   "outputs": [
    {
     "data": {
      "text/plain": [
       "{'Connection': 'keep-alive', 'Cookie': '__cfduid=d5bee5841e29ae019d87a12dd7a55818c1476384756', 'Accept-Encoding': 'gzip, deflate', 'Accept': '*/*', 'User-Agent': 'python-requests/2.11.1'}"
      ]
     },
     "execution_count": 5,
     "metadata": {},
     "output_type": "execute_result"
    }
   ],
   "source": [
    "r.request.headers"
   ]
  },
  {
   "cell_type": "code",
   "execution_count": 14,
   "metadata": {
    "collapsed": false,
    "slideshow": {
     "slide_type": "-"
    }
   },
   "outputs": [
    {
     "name": "stdout",
     "output_type": "stream",
     "text": [
      "('Connection:', 'keep-alive')\n",
      "('Accept-Encoding:', 'gzip, deflate')\n",
      "('Accept:', '*/*')\n",
      "('User-Agent:', 'python-requests/2.11.1')\n",
      "('Cookie:', '__cfduid=d5bee5841e29ae019d87a12dd7a55818c1476384756')\n"
     ]
    }
   ],
   "source": [
    "# we can print those out nicely\n",
    "for k, v in r.request.headers.items():\n",
    "    print(k + ':', v)"
   ]
  },
  {
   "cell_type": "markdown",
   "metadata": {
    "slideshow": {
     "slide_type": "slide"
    }
   },
   "source": [
    "## We can also see the response headers"
   ]
  },
  {
   "cell_type": "code",
   "execution_count": 7,
   "metadata": {
    "collapsed": false,
    "slideshow": {
     "slide_type": "-"
    }
   },
   "outputs": [
    {
     "data": {
      "text/plain": [
       "{'Content-Encoding': 'gzip', 'Transfer-Encoding': 'chunked', 'Strict-Transport-Security': 'max-age=31556900; includeSubDomains', 'Vary': 'Accept-Encoding', 'Server': 'cloudflare-nginx', 'Connection': 'keep-alive', 'Cache-Control': 'private, max-age=0', 'Date': 'Thu, 13 Oct 2016 18:52:36 GMT', 'X-Frame-Options': 'DENY', 'Content-Type': 'text/html; charset=utf-8', 'CF-RAY': '2f14fd575e2b21bc-EWR'}"
      ]
     },
     "execution_count": 7,
     "metadata": {},
     "output_type": "execute_result"
    }
   ],
   "source": [
    "r.headers"
   ]
  },
  {
   "cell_type": "code",
   "execution_count": 8,
   "metadata": {
    "collapsed": false,
    "slideshow": {
     "slide_type": "-"
    }
   },
   "outputs": [
    {
     "name": "stdout",
     "output_type": "stream",
     "text": [
      "('Date:', 'Thu, 13 Oct 2016 18:52:36 GMT')\n",
      "('Content-Type:', 'text/html; charset=utf-8')\n",
      "('Transfer-Encoding:', 'chunked')\n",
      "('Connection:', 'keep-alive')\n",
      "('Vary:', 'Accept-Encoding')\n",
      "('Cache-Control:', 'private, max-age=0')\n",
      "('X-Frame-Options:', 'DENY')\n",
      "('Strict-Transport-Security:', 'max-age=31556900; includeSubDomains')\n",
      "('Content-Encoding:', 'gzip')\n",
      "('Server:', 'cloudflare-nginx')\n",
      "('CF-RAY:', '2f14fd575e2b21bc-EWR')\n"
     ]
    }
   ],
   "source": [
    "for k, v in r.headers.items():\n",
    "    print(k + ':', v)"
   ]
  },
  {
   "cell_type": "markdown",
   "metadata": {
    "slideshow": {
     "slide_type": "slide"
    }
   },
   "source": [
    "## Let's see what content came back"
   ]
  },
  {
   "cell_type": "code",
   "execution_count": 17,
   "metadata": {
    "collapsed": false,
    "slideshow": {
     "slide_type": "fragment"
    }
   },
   "outputs": [
    {
     "data": {
      "text/plain": [
       "'<html op=\"news\"><head><meta name=\"referrer\" content=\"origin\"><meta name=\"viewport\" content=\"width=device-width, initial-scale=1.0\"><link rel=\"stylesheet\" type=\"text/css\" href=\"news.css?0jKc9Keyn2Zl7D1UAQcy\">\\n        <link rel=\"shortcut icon\" href=\"favicon.ico\">\\n          <link rel=\"alternate\" type=\"application/rss+xml\" title=\"RSS\" href=\"rss\">\\n        <title>Hacker News</title>\\n      </head><body><center><table id=\"hnmain\" border=\"0\" cellpadding=\"0\" cellspacing=\"0\" width=\"85%\" bgcolor=\"#f6f6ef\">\\n        <tr><td bgcolor=\"#ff6600\"><table border=\"0\" cellpadding=\"0\" cellspacing=\"0\" width=\"100%\" style=\"padding:2px\"><tr><td style=\"width:18px;padding-right:4px\"><a href=\"http://www.ycombinator.com\"><img src=\"y18.gif\" width=\"18\" height=\"18\" style=\"border:1px white solid;\"></a></td>\\n                  <td style=\"line-height:12pt; height:10px;\"><span class=\"pagetop\"><b class=\"hnname\"><a href=\"news\">Hacker News</a></b>\\n              <a href=\"newest\">new</a> | <a href=\"newcomments\">comments</a> | <a href=\"show\">show</a> | <a href=\"ask\">ask</a> | <a href=\"jobs\">jobs</a> | <a href=\"submit\">submit</a>            </span></td><td style=\"text-align:right;padding-right:4px;\"><span class=\"pagetop\">\\n                              <a href=\"login?goto=news\">login</a>\\n                          </span></td>\\n              </tr></table></td></tr>\\n<tr style=\"height:10px\"></tr><tr><td><table border=\"0\" cellpadding=\"0\" cellspacing=\"0\" class=\"itemlist\">\\n              <tr class=\\'athing\\' id=\\'12699834\\'>\\n      <td align=\"right\" valign=\"top\" class=\"title\"><span class=\"rank\">1.</span></td>      <td valign=\"top\" class=\"votelinks\"><center><a id=\\'up_12699834\\' href=\\'vote?id=12699834&amp;how=up&amp;goto=news\\'><div class=\\'votearrow\\' title=\\'upvote\\'></div></a></center></td><td class=\"title\"><a href=\"http://www.nobelprize.org/nobel_prizes/literature/laureates/2016/press.html\" class=\"storylink\">The Nobel Prize in Literature 2016 to Bob Dylan</a><span class=\"sitebit comhead\"> (<a href=\"from?site=nobelprize.org\"><span class=\"sitestr\">nobelprize.org</span></a>)</span></td></tr><tr><td colspan=\"2\"></td><td class=\"subtext\">\\n        <span class=\"score\" id=\"score_12699834\">418 points</span> by <a href=\"user?id=eCa\" class=\"hnuser\">eCa</a> <span class=\"age\"><a href=\"item?id=12699834\">4 hours ago</a></span> <span id=\"unv_12699834\"></span> | <a href=\"hide?id=12699834&amp;goto=news\">hide</a> | <a href=\"item?id=12699834\">158&nbsp;comments</a>              </td></tr>\\n      <tr class=\"spacer\" style=\"height:5px\"></tr>\\n                <tr class=\\'athing\\' id=\\'12701272\\'>\\n      <td align=\"right\" valign=\"top\" class=\"title\"><span class=\"rank\">2.</span></td>      <td valign=\"top\" class=\"votelinks\"><center><a id=\\'up_12701272\\' href=\\'vote?id=12701272&amp;how=up&amp;goto=news\\'><div class=\\'votearrow\\' title=\\'upvote\\'></div></a></center></td><td class=\"title\"><a href=\"http://www.gwan.com/blog/20160405.html\" class=\"storylink\">Google\\'s \\xe2\\x80\\x9cDirector of Engineering\\xe2\\x80\\x9d Hiring Test</a><span class=\"sitebit comhead\"> (<a href=\"from?site=gwan.com\"><span class=\"sitestr\">gwan.com</span></a>)</span></td></tr><tr><td colspan=\"2\"></td><td class=\"subtext\">\\n        <span class=\"score\" id=\"score_12701272\">213 points</span> by <a href=\"user?id=fatihky\" class=\"hnuser\">fatihky</a> <span class=\"age\"><a href=\"item?id=12701272\">40 minutes ago</a></span> <span id=\"unv_12701272\"></span> | <a href=\"hide?id=12701272&amp;goto=news\">hide</a> | <a href=\"item?id=12701272\">52&nbsp;comments</a>              </td></tr>\\n      <tr class=\"spacer\" style=\"height:5px\"></tr>\\n                <tr class=\\'athing\\' id=\\'12700141\\'>\\n      <td align=\"right\" valign=\"top\" class=\"title\"><span class=\"rank\">3.</span></td>      <td valign=\"top\" class=\"votelinks\"><center><a id=\\'up_12700141\\' href=\\'vote?id=12700141&amp;how=up&amp;goto=news\\'><div class=\\'votearrow\\' title=\\'upvote\\'></div></a></center></td><td class=\"title\"><a href=\"http://www.newyorker.com/magazine/2016/10/17/leonard-cohen-makes-it-darker\" class=\"storylink\">Leonard Cohen Makes It Darker</a><span class=\"sitebit comhead\"> (<a href=\"from?site=newyorker.com\"><span class=\"sitestr\">newyorker.com</span></a>)</span></td></tr><tr><td colspan=\"2\"></td><td class=\"subtext\">\\n        <span class=\"score\" id=\"score_12700141\">100 points</span> by <a href=\"user?id=ehudla\" class=\"hnuser\">ehudla</a> <span class=\"age\"><a href=\"item?id=12700141\">3 hours ago</a></span> <span id=\"unv_12700141\"></span> | <a href=\"hide?id=12700141&amp;goto=news\">hide</a> | <a href=\"item?id=12700141\">23&nbsp;comments</a>              </td></tr>\\n      <tr class=\"spacer\" style=\"height:5px\"></tr>\\n                <tr class=\\'athing\\' id=\\'12700177\\'>\\n      <td align=\"right\" valign=\"top\" class=\"title\"><span class=\"rank\">4.</span></td>      <td valign=\"top\" class=\"votelinks\"><center><a id=\\'up_12700177\\' href=\\'vote?id=12700177&amp;how=up&amp;goto=news\\'><div class=\\'votearrow\\' title=\\'upvote\\'></div></a></center></td><td class=\"title\"><a href=\"http://minimaxir.com/2015/02/password-numbers/\" class=\"storylink\">Analyzing the Patterns of Numbers in 10M Passwords (2015)</a><span class=\"sitebit comhead\"> (<a href=\"from?site=minimaxir.com\"><span class=\"sitestr\">minimaxir.com</span></a>)</span></td></tr><tr><td colspan=\"2\"></td><td class=\"subtext\">\\n        <span class=\"score\" id=\"score_12700177\">62 points</span> by <a href=\"user?id=BeautifulData\" class=\"hnuser\">BeautifulData</a> <span class=\"age\"><a href=\"item?id=12700177\">3 hours ago</a></span> <span id=\"unv_12700177\"></span> | <a href=\"hide?id=12700177&amp;goto=news\">hide</a> | <a href=\"item?id=12700177\">21&nbsp;comments</a>              </td></tr>\\n      <tr class=\"spacer\" style=\"height:5px\"></tr>\\n                <tr class=\\'athing\\' id=\\'12699721\\'>\\n      <td align=\"right\" valign=\"top\" class=\"title\"><span class=\"rank\">5.</span></td>      <td valign=\"top\" class=\"votelinks\"><center><a id=\\'up_12699721\\' href=\\'vote?id=12699721&amp;how=up&amp;goto=news\\'><div class=\\'votearrow\\' title=\\'upvote\\'></div></a></center></td><td class=\"title\"><a href=\"http://www.newyorker.com/magazine/2005/02/28/time-bandits-2\" class=\"storylink\">What were Einstein and G\\xc3\\xb6del talking about? (2005)</a><span class=\"sitebit comhead\"> (<a href=\"from?site=newyorker.com\"><span class=\"sitestr\">newyorker.com</span></a>)</span></td></tr><tr><td colspan=\"2\"></td><td class=\"subtext\">\\n        <span class=\"score\" id=\"score_12699721\">105 points</span> by <a href=\"user?id=cZuLi\" class=\"hnuser\">cZuLi</a> <span class=\"age\"><a href=\"item?id=12699721\">5 hours ago</a></span> <span id=\"unv_12699721\"></span> | <a href=\"hide?id=12699721&amp;goto=news\">hide</a> | <a href=\"item?id=12699721\">11&nbsp;comments</a>              </td></tr>\\n      <tr class=\"spacer\" style=\"height:5px\"></tr>\\n                <tr class=\\'athing\\' id=\\'12700705\\'>\\n      <td align=\"right\" valign=\"top\" class=\"title\"><span class=\"rank\">6.</span></td>      <td valign=\"top\" class=\"votelinks\"><center><a id=\\'up_12700705\\' href=\\'vote?id=12700705&amp;how=up&amp;goto=news\\'><div class=\\'votearrow\\' title=\\'upvote\\'></div></a></center></td><td class=\"title\"><a href=\"http://insights.ubuntu.com/2016/10/13/canonical-releases-ubuntu-16-10/\" class=\"storylink\">Canonical releases Ubuntu 16.10</a><span class=\"sitebit comhead\"> (<a href=\"from?site=ubuntu.com\"><span class=\"sitestr\">ubuntu.com</span></a>)</span></td></tr><tr><td colspan=\"2\"></td><td class=\"subtext\">\\n        <span class=\"score\" id=\"score_12700705\">113 points</span> by <a href=\"user?id=Jarlakxen\" class=\"hnuser\">Jarlakxen</a> <span class=\"age\"><a href=\"item?id=12700705\">2 hours ago</a></span> <span id=\"unv_12700705\"></span> | <a href=\"hide?id=12700705&amp;goto=news\">hide</a> | <a href=\"item?id=12700705\">72&nbsp;comments</a>              </td></tr>\\n      <tr class=\"spacer\" style=\"height:5px\"></tr>\\n                <tr class=\\'athing\\' id=\\'12699504\\'>\\n      <td align=\"right\" valign=\"top\" class=\"title\"><span class=\"rank\">7.</span></td>      <td valign=\"top\" class=\"votelinks\"><center><a id=\\'up_12699504\\' href=\\'vote?id=12699504&amp;how=up&amp;goto=news\\'><div class=\\'votearrow\\' title=\\'upvote\\'></div></a></center></td><td class=\"title\"><a href=\"https://ayende.com/blog/175714/timing-the-time-it-takes-to-parse-time-part-ii?Key=f65c7092-3f17-4ded-bb30-9dd479848d5c\" class=\"storylink\">Timing the time it takes to parse time</a><span class=\"sitebit comhead\"> (<a href=\"from?site=ayende.com\"><span class=\"sitestr\">ayende.com</span></a>)</span></td></tr><tr><td colspan=\"2\"></td><td class=\"subtext\">\\n        <span class=\"score\" id=\"score_12699504\">75 points</span> by <a href=\"user?id=yread\" class=\"hnuser\">yread</a> <span class=\"age\"><a href=\"item?id=12699504\">6 hours ago</a></span> <span id=\"unv_12699504\"></span> | <a href=\"hide?id=12699504&amp;goto=news\">hide</a> | <a href=\"item?id=12699504\">41&nbsp;comments</a>              </td></tr>\\n      <tr class=\"spacer\" style=\"height:5px\"></tr>\\n                <tr class=\\'athing\\' id=\\'12698872\\'>\\n      <td align=\"right\" valign=\"top\" class=\"title\"><span class=\"rank\">8.</span></td>      <td valign=\"top\" class=\"votelinks\"><center><a id=\\'up_12698872\\' href=\\'vote?id=12698872&amp;how=up&amp;goto=news\\'><div class=\\'votearrow\\' title=\\'upvote\\'></div></a></center></td><td class=\"title\"><a href=\"https://deepmind.com/blog/differentiable-neural-computers/\" class=\"storylink\">Differentiable Neural Computers</a><span class=\"sitebit comhead\"> (<a href=\"from?site=deepmind.com\"><span class=\"sitestr\">deepmind.com</span></a>)</span></td></tr><tr><td colspan=\"2\"></td><td class=\"subtext\">\\n        <span class=\"score\" id=\"score_12698872\">191 points</span> by <a href=\"user?id=tonybeltramelli\" class=\"hnuser\">tonybeltramelli</a> <span class=\"age\"><a href=\"item?id=12698872\">9 hours ago</a></span> <span id=\"unv_12698872\"></span> | <a href=\"hide?id=12698872&amp;goto=news\">hide</a> | <a href=\"item?id=12698872\">51&nbsp;comments</a>              </td></tr>\\n      <tr class=\"spacer\" style=\"height:5px\"></tr>\\n                <tr class=\\'athing\\' id=\\'12698776\\'>\\n      <td align=\"right\" valign=\"top\" class=\"title\"><span class=\"rank\">9.</span></td>      <td valign=\"top\" class=\"votelinks\"><center><a id=\\'up_12698776\\' href=\\'vote?id=12698776&amp;how=up&amp;goto=news\\'><div class=\\'votearrow\\' title=\\'upvote\\'></div></a></center></td><td class=\"title\"><a href=\"http://www.citylab.com/design/2016/09/instead-of-a-wall-build-a-binational-city-us-mexico-border-trump/499634/\" class=\"storylink\">Building a bi-national city at US-Mexico border</a><span class=\"sitebit comhead\"> (<a href=\"from?site=citylab.com\"><span class=\"sitestr\">citylab.com</span></a>)</span></td></tr><tr><td colspan=\"2\"></td><td class=\"subtext\">\\n        <span class=\"score\" id=\"score_12698776\">26 points</span> by <a href=\"user?id=waqasaday\" class=\"hnuser\">waqasaday</a> <span class=\"age\"><a href=\"item?id=12698776\">3 hours ago</a></span> <span id=\"unv_12698776\"></span> | <a href=\"hide?id=12698776&amp;goto=news\">hide</a> | <a href=\"item?id=12698776\">15&nbsp;comments</a>              </td></tr>\\n      <tr class=\"spacer\" style=\"height:5px\"></tr>\\n                <tr class=\\'athing\\' id=\\'12697983\\'>\\n      <td align=\"right\" valign=\"top\" class=\"title\"><span class=\"rank\">10.</span></td>      <td valign=\"top\" class=\"votelinks\"><center><a id=\\'up_12697983\\' href=\\'vote?id=12697983&amp;how=up&amp;goto=news\\'><div class=\\'votearrow\\' title=\\'upvote\\'></div></a></center></td><td class=\"title\"><a href=\"http://www.cntraveler.com/stories/2013-06-17/transcontinental-air-mail-route-maphead-ken-jennings\" class=\"storylink\">Giant Concrete Arrows That Point Your Way Across America (2013)</a><span class=\"sitebit comhead\"> (<a href=\"from?site=cntraveler.com\"><span class=\"sitestr\">cntraveler.com</span></a>)</span></td></tr><tr><td colspan=\"2\"></td><td class=\"subtext\">\\n        <span class=\"score\" id=\"score_12697983\">52 points</span> by <a href=\"user?id=denzell\" class=\"hnuser\">denzell</a> <span class=\"age\"><a href=\"item?id=12697983\">6 hours ago</a></span> <span id=\"unv_12697983\"></span> | <a href=\"hide?id=12697983&amp;goto=news\">hide</a> | <a href=\"item?id=12697983\">2&nbsp;comments</a>              </td></tr>\\n      <tr class=\"spacer\" style=\"height:5px\"></tr>\\n                <tr class=\\'athing\\' id=\\'12697561\\'>\\n      <td align=\"right\" valign=\"top\" class=\"title\"><span class=\"rank\">11.</span></td>      <td valign=\"top\" class=\"votelinks\"><center><a id=\\'up_12697561\\' href=\\'vote?id=12697561&amp;how=up&amp;goto=news\\'><div class=\\'votearrow\\' title=\\'upvote\\'></div></a></center></td><td class=\"title\"><a href=\"https://raptureinvenice.com/its-been-real-android-why-im-retiring-from-android/\" class=\"storylink\">It\\xe2\\x80\\x99s Been Real, Android: Why I\\xe2\\x80\\x99m Retiring from Android</a><span class=\"sitebit comhead\"> (<a href=\"from?site=raptureinvenice.com\"><span class=\"sitestr\">raptureinvenice.com</span></a>)</span></td></tr><tr><td colspan=\"2\"></td><td class=\"subtext\">\\n        <span class=\"score\" id=\"score_12697561\">417 points</span> by <a href=\"user?id=chx\" class=\"hnuser\">chx</a> <span class=\"age\"><a href=\"item?id=12697561\">15 hours ago</a></span> <span id=\"unv_12697561\"></span> | <a href=\"hide?id=12697561&amp;goto=news\">hide</a> | <a href=\"item?id=12697561\">266&nbsp;comments</a>              </td></tr>\\n      <tr class=\"spacer\" style=\"height:5px\"></tr>\\n                <tr class=\\'athing\\' id=\\'12698204\\'>\\n      <td align=\"right\" valign=\"top\" class=\"title\"><span class=\"rank\">12.</span></td>      <td valign=\"top\" class=\"votelinks\"><center><a id=\\'up_12698204\\' href=\\'vote?id=12698204&amp;how=up&amp;goto=news\\'><div class=\\'votearrow\\' title=\\'upvote\\'></div></a></center></td><td class=\"title\"><a href=\"https://www.washingtonpost.com/news/storyline/wp/2014/12/04/people-around-you-control-your-mind-the-latest-evidence\" class=\"storylink\">Peer pressure\\xe2\\x80\\x99s effects are perhaps more powerful than we thought</a><span class=\"sitebit comhead\"> (<a href=\"from?site=washingtonpost.com\"><span class=\"sitestr\">washingtonpost.com</span></a>)</span></td></tr><tr><td colspan=\"2\"></td><td class=\"subtext\">\\n        <span class=\"score\" id=\"score_12698204\">34 points</span> by <a href=\"user?id=thebent\" class=\"hnuser\">thebent</a> <span class=\"age\"><a href=\"item?id=12698204\">4 hours ago</a></span> <span id=\"unv_12698204\"></span> | <a href=\"hide?id=12698204&amp;goto=news\">hide</a> | <a href=\"item?id=12698204\">19&nbsp;comments</a>              </td></tr>\\n      <tr class=\"spacer\" style=\"height:5px\"></tr>\\n                <tr class=\\'athing\\' id=\\'12700445\\'>\\n      <td align=\"right\" valign=\"top\" class=\"title\"><span class=\"rank\">13.</span></td>      <td valign=\"top\" class=\"votelinks\"><center><a id=\\'up_12700445\\' href=\\'vote?id=12700445&amp;how=up&amp;goto=news\\'><div class=\\'votearrow\\' title=\\'upvote\\'></div></a></center></td><td class=\"title\"><a href=\"http://www.theverge.com/2016/10/13/13243072/twitter-bot-tracks-dictator-planes-geneva-gva-tracker?href=\" class=\"storylink\">This Twitter bot is tracking dictators\\' flights in and out of Geneva</a><span class=\"sitebit comhead\"> (<a href=\"from?site=theverge.com\"><span class=\"sitestr\">theverge.com</span></a>)</span></td></tr><tr><td colspan=\"2\"></td><td class=\"subtext\">\\n        <span class=\"score\" id=\"score_12700445\">74 points</span> by <a href=\"user?id=jonbaer\" class=\"hnuser\">jonbaer</a> <span class=\"age\"><a href=\"item?id=12700445\">2 hours ago</a></span> <span id=\"unv_12700445\"></span> | <a href=\"hide?id=12700445&amp;goto=news\">hide</a> | <a href=\"item?id=12700445\">19&nbsp;comments</a>              </td></tr>\\n      <tr class=\"spacer\" style=\"height:5px\"></tr>\\n                <tr class=\\'athing\\' id=\\'12700153\\'>\\n      <td align=\"right\" valign=\"top\" class=\"title\"><span class=\"rank\">14.</span></td>      <td valign=\"top\" class=\"votelinks\"><center><a id=\\'up_12700153\\' href=\\'vote?id=12700153&amp;how=up&amp;goto=news\\'><div class=\\'votearrow\\' title=\\'upvote\\'></div></a></center></td><td class=\"title\"><a href=\"http://www.bbc.com/news/world-asia-37643326\" class=\"storylink\">Thailand\\'s King Bhumibol Adulyadej Dies at 88</a><span class=\"sitebit comhead\"> (<a href=\"from?site=bbc.com\"><span class=\"sitestr\">bbc.com</span></a>)</span></td></tr><tr><td colspan=\"2\"></td><td class=\"subtext\">\\n        <span class=\"score\" id=\"score_12700153\">17 points</span> by <a href=\"user?id=Osiris30\" class=\"hnuser\">Osiris30</a> <span class=\"age\"><a href=\"item?id=12700153\">3 hours ago</a></span> <span id=\"unv_12700153\"></span> | <a href=\"hide?id=12700153&amp;goto=news\">hide</a> | <a href=\"item?id=12700153\">2&nbsp;comments</a>              </td></tr>\\n      <tr class=\"spacer\" style=\"height:5px\"></tr>\\n                <tr class=\\'athing\\' id=\\'12699767\\'>\\n      <td align=\"right\" valign=\"top\" class=\"title\"><span class=\"rank\">15.</span></td>      <td valign=\"top\" class=\"votelinks\"><center><a id=\\'up_12699767\\' href=\\'vote?id=12699767&amp;how=up&amp;goto=news\\'><div class=\\'votearrow\\' title=\\'upvote\\'></div></a></center></td><td class=\"title\"><a href=\"https://styled-components.com\" class=\"storylink\">Show HN: Styled-components \\xe2\\x80\\x93 Use the best of ES6 to style React apps</a><span class=\"sitebit comhead\"> (<a href=\"from?site=styled-components.com\"><span class=\"sitestr\">styled-components.com</span></a>)</span></td></tr><tr><td colspan=\"2\"></td><td class=\"subtext\">\\n        <span class=\"score\" id=\"score_12699767\">121 points</span> by <a href=\"user?id=mxstbr\" class=\"hnuser\">mxstbr</a> <span class=\"age\"><a href=\"item?id=12699767\">5 hours ago</a></span> <span id=\"unv_12699767\"></span> | <a href=\"hide?id=12699767&amp;goto=news\">hide</a> | <a href=\"item?id=12699767\">50&nbsp;comments</a>              </td></tr>\\n      <tr class=\"spacer\" style=\"height:5px\"></tr>\\n                <tr class=\\'athing\\' id=\\'12700928\\'>\\n      <td align=\"right\" valign=\"top\" class=\"title\"><span class=\"rank\">16.</span></td>      <td></td><td class=\"title\"><a href=\"https://boards.greenhouse.io/gusto/jobs/33667#.V_b3zZMrI4M\" class=\"storylink\" rel=\"nofollow\">Gusto is hiring a Site Reliability Engineer in SF to help us scale</a><span class=\"sitebit comhead\"> (<a href=\"from?site=greenhouse.io\"><span class=\"sitestr\">greenhouse.io</span></a>)</span></td></tr><tr><td colspan=\"2\"></td><td class=\"subtext\">\\n        <span class=\"age\"><a href=\"item?id=12700928\">1 hour ago</a></span> | <a href=\"hide?id=12700928&amp;goto=news\">hide</a>      </td></tr>\\n      <tr class=\"spacer\" style=\"height:5px\"></tr>\\n                <tr class=\\'athing\\' id=\\'12700160\\'>\\n      <td align=\"right\" valign=\"top\" class=\"title\"><span class=\"rank\">17.</span></td>      <td valign=\"top\" class=\"votelinks\"><center><a id=\\'up_12700160\\' href=\\'vote?id=12700160&amp;how=up&amp;goto=news\\'><div class=\\'votearrow\\' title=\\'upvote\\'></div></a></center></td><td class=\"title\"><a href=\"http://takeaim.io\" class=\"storylink\">Show HN: TakeAim \\xe2\\x80\\x93 expose your team\\'s daily aims</a><span class=\"sitebit comhead\"> (<a href=\"from?site=takeaim.io\"><span class=\"sitestr\">takeaim.io</span></a>)</span></td></tr><tr><td colspan=\"2\"></td><td class=\"subtext\">\\n        <span class=\"score\" id=\"score_12700160\">23 points</span> by <a href=\"user?id=bmark757\" class=\"hnuser\">bmark757</a> <span class=\"age\"><a href=\"item?id=12700160\">3 hours ago</a></span> <span id=\"unv_12700160\"></span> | <a href=\"hide?id=12700160&amp;goto=news\">hide</a> | <a href=\"item?id=12700160\">9&nbsp;comments</a>              </td></tr>\\n      <tr class=\"spacer\" style=\"height:5px\"></tr>\\n                <tr class=\\'athing\\' id=\\'12699398\\'>\\n      <td align=\"right\" valign=\"top\" class=\"title\"><span class=\"rank\">18.</span></td>      <td valign=\"top\" class=\"votelinks\"><center><a id=\\'up_12699398\\' href=\\'vote?id=12699398&amp;how=up&amp;goto=news\\'><div class=\\'votearrow\\' title=\\'upvote\\'></div></a></center></td><td class=\"title\"><a href=\"http://spectrum.ieee.org/the-human-os/biomedical/bionics/at-the-worlds-first-cyborg-olympics-manmachine-hybrids-raced-for-the-gold\" class=\"storylink\">At the World\\'s First Cybathlon, Proud Cyborg Athletes Raced for the Gold</a><span class=\"sitebit comhead\"> (<a href=\"from?site=ieee.org\"><span class=\"sitestr\">ieee.org</span></a>)</span></td></tr><tr><td colspan=\"2\"></td><td class=\"subtext\">\\n        <span class=\"score\" id=\"score_12699398\">13 points</span> by <a href=\"user?id=timgluz\" class=\"hnuser\">timgluz</a> <span class=\"age\"><a href=\"item?id=12699398\">4 hours ago</a></span> <span id=\"unv_12699398\"></span> | <a href=\"hide?id=12699398&amp;goto=news\">hide</a> | <a href=\"item?id=12699398\">discuss</a>              </td></tr>\\n      <tr class=\"spacer\" style=\"height:5px\"></tr>\\n                <tr class=\\'athing\\' id=\\'12700184\\'>\\n      <td align=\"right\" valign=\"top\" class=\"title\"><span class=\"rank\">19.</span></td>      <td valign=\"top\" class=\"votelinks\"><center><a id=\\'up_12700184\\' href=\\'vote?id=12700184&amp;how=up&amp;goto=news\\'><div class=\\'votearrow\\' title=\\'upvote\\'></div></a></center></td><td class=\"title\"><a href=\"item?id=12700184\" class=\"storylink\">Ask HN: How can I create a decentralized GNU-social-compatible website?</a></td></tr><tr><td colspan=\"2\"></td><td class=\"subtext\">\\n        <span class=\"score\" id=\"score_12700184\">34 points</span> by <a href=\"user?id=rayalez\" class=\"hnuser\">rayalez</a> <span class=\"age\"><a href=\"item?id=12700184\">3 hours ago</a></span> <span id=\"unv_12700184\"></span> | <a href=\"hide?id=12700184&amp;goto=news\">hide</a> | <a href=\"item?id=12700184\">12&nbsp;comments</a>              </td></tr>\\n      <tr class=\"spacer\" style=\"height:5px\"></tr>\\n                <tr class=\\'athing\\' id=\\'12700307\\'>\\n      <td align=\"right\" valign=\"top\" class=\"title\"><span class=\"rank\">20.</span></td>      <td valign=\"top\" class=\"votelinks\"><center><a id=\\'up_12700307\\' href=\\'vote?id=12700307&amp;how=up&amp;goto=news\\'><div class=\\'votearrow\\' title=\\'upvote\\'></div></a></center></td><td class=\"title\"><a href=\"http://product.okfn.org/\" class=\"storylink\">Open Product Data: a public database of product data</a><span class=\"sitebit comhead\"> (<a href=\"from?site=okfn.org\"><span class=\"sitestr\">okfn.org</span></a>)</span></td></tr><tr><td colspan=\"2\"></td><td class=\"subtext\">\\n        <span class=\"score\" id=\"score_12700307\">45 points</span> by <a href=\"user?id=0xmohit\" class=\"hnuser\">0xmohit</a> <span class=\"age\"><a href=\"item?id=12700307\">3 hours ago</a></span> <span id=\"unv_12700307\"></span> | <a href=\"hide?id=12700307&amp;goto=news\">hide</a> | <a href=\"item?id=12700307\">discuss</a>              </td></tr>\\n      <tr class=\"spacer\" style=\"height:5px\"></tr>\\n                <tr class=\\'athing\\' id=\\'12699412\\'>\\n      <td align=\"right\" valign=\"top\" class=\"title\"><span class=\"rank\">21.</span></td>      <td valign=\"top\" class=\"votelinks\"><center><a id=\\'up_12699412\\' href=\\'vote?id=12699412&amp;how=up&amp;goto=news\\'><div class=\\'votearrow\\' title=\\'upvote\\'></div></a></center></td><td class=\"title\"><a href=\"https://joinup.ec.europa.eu/community/osor/news/nl-parliament-makes-open-standards-mandatory\" class=\"storylink\">Netherlands parliament makes open standards mandatory</a><span class=\"sitebit comhead\"> (<a href=\"from?site=europa.eu\"><span class=\"sitestr\">europa.eu</span></a>)</span></td></tr><tr><td colspan=\"2\"></td><td class=\"subtext\">\\n        <span class=\"score\" id=\"score_12699412\">124 points</span> by <a href=\"user?id=Tsiolkovsky\" class=\"hnuser\">Tsiolkovsky</a> <span class=\"age\"><a href=\"item?id=12699412\">6 hours ago</a></span> <span id=\"unv_12699412\"></span> | <a href=\"hide?id=12699412&amp;goto=news\">hide</a> | <a href=\"item?id=12699412\">25&nbsp;comments</a>              </td></tr>\\n      <tr class=\"spacer\" style=\"height:5px\"></tr>\\n                <tr class=\\'athing\\' id=\\'12701381\\'>\\n      <td align=\"right\" valign=\"top\" class=\"title\"><span class=\"rank\">22.</span></td>      <td valign=\"top\" class=\"votelinks\"><center><a id=\\'up_12701381\\' href=\\'vote?id=12701381&amp;how=up&amp;goto=news\\'><div class=\\'votearrow\\' title=\\'upvote\\'></div></a></center></td><td class=\"title\"><a href=\"http://www.theverge.com/2016/10/13/13262994/really-bad-chess-zach-gage-iphone-ipad\" class=\"storylink\" rel=\"nofollow\">Really Bad Chess makes chess fun even if you\\xe2\\x80\\x99re really bad</a><span class=\"sitebit comhead\"> (<a href=\"from?site=theverge.com\"><span class=\"sitestr\">theverge.com</span></a>)</span></td></tr><tr><td colspan=\"2\"></td><td class=\"subtext\">\\n        <span class=\"score\" id=\"score_12701381\">4 points</span> by <a href=\"user?id=Swifty\" class=\"hnuser\">Swifty</a> <span class=\"age\"><a href=\"item?id=12701381\">24 minutes ago</a></span> <span id=\"unv_12701381\"></span> | <a href=\"hide?id=12701381&amp;goto=news\">hide</a> | <a href=\"item?id=12701381\">1&nbsp;comment</a>              </td></tr>\\n      <tr class=\"spacer\" style=\"height:5px\"></tr>\\n                <tr class=\\'athing\\' id=\\'12698668\\'>\\n      <td align=\"right\" valign=\"top\" class=\"title\"><span class=\"rank\">23.</span></td>      <td valign=\"top\" class=\"votelinks\"><center><a id=\\'up_12698668\\' href=\\'vote?id=12698668&amp;how=up&amp;goto=news\\'><div class=\\'votearrow\\' title=\\'upvote\\'></div></a></center></td><td class=\"title\"><a href=\"http://www.nextplatform.com/2016/10/12/raising-standard-storage-memory-fabrics/\" class=\"storylink\">Raising the Standard for Storage Memory Fabrics</a><span class=\"sitebit comhead\"> (<a href=\"from?site=nextplatform.com\"><span class=\"sitestr\">nextplatform.com</span></a>)</span></td></tr><tr><td colspan=\"2\"></td><td class=\"subtext\">\\n        <span class=\"score\" id=\"score_12698668\">13 points</span> by <a href=\"user?id=Katydid\" class=\"hnuser\">Katydid</a> <span class=\"age\"><a href=\"item?id=12698668\">5 hours ago</a></span> <span id=\"unv_12698668\"></span> | <a href=\"hide?id=12698668&amp;goto=news\">hide</a> | <a href=\"item?id=12698668\">discuss</a>              </td></tr>\\n      <tr class=\"spacer\" style=\"height:5px\"></tr>\\n                <tr class=\\'athing\\' id=\\'12698090\\'>\\n      <td align=\"right\" valign=\"top\" class=\"title\"><span class=\"rank\">24.</span></td>      <td valign=\"top\" class=\"votelinks\"><center><a id=\\'up_12698090\\' href=\\'vote?id=12698090&amp;how=up&amp;goto=news\\'><div class=\\'votearrow\\' title=\\'upvote\\'></div></a></center></td><td class=\"title\"><a href=\"https://www.washingtonpost.com/news/the-intersect/wp/2016/10/12/facebook-has-repeatedly-trended-fake-news-since-firing-its-human-editors/?tid=sm_fb\" class=\"storylink\">Facebook Has Repeatedly Trended Fake News Since Firing Its Human Editors</a><span class=\"sitebit comhead\"> (<a href=\"from?site=washingtonpost.com\"><span class=\"sitestr\">washingtonpost.com</span></a>)</span></td></tr><tr><td colspan=\"2\"></td><td class=\"subtext\">\\n        <span class=\"score\" id=\"score_12698090\">316 points</span> by <a href=\"user?id=M_Grey\" class=\"hnuser\">M_Grey</a> <span class=\"age\"><a href=\"item?id=12698090\">13 hours ago</a></span> <span id=\"unv_12698090\"></span> | <a href=\"hide?id=12698090&amp;goto=news\">hide</a> | <a href=\"item?id=12698090\">240&nbsp;comments</a>              </td></tr>\\n      <tr class=\"spacer\" style=\"height:5px\"></tr>\\n                <tr class=\\'athing\\' id=\\'12700641\\'>\\n      <td align=\"right\" valign=\"top\" class=\"title\"><span class=\"rank\">25.</span></td>      <td valign=\"top\" class=\"votelinks\"><center><a id=\\'up_12700641\\' href=\\'vote?id=12700641&amp;how=up&amp;goto=news\\'><div class=\\'votearrow\\' title=\\'upvote\\'></div></a></center></td><td class=\"title\"><a href=\"http://www.theatlantic.com/magazine/archive/2016/11/why-for-profit-education-fails/501140/?utm_source=feedburner&amp;utm_medium=feed&amp;utm_campaign=Feed%3A+Best-Of-The-Atlantic+%28The+Atlantic+-+Best+Of%29&amp;amp;single_page=true\" class=\"storylink\">Why For-Profit Education Fails</a><span class=\"sitebit comhead\"> (<a href=\"from?site=theatlantic.com\"><span class=\"sitestr\">theatlantic.com</span></a>)</span></td></tr><tr><td colspan=\"2\"></td><td class=\"subtext\">\\n        <span class=\"score\" id=\"score_12700641\">14 points</span> by <a href=\"user?id=jseliger\" class=\"hnuser\">jseliger</a> <span class=\"age\"><a href=\"item?id=12700641\">2 hours ago</a></span> <span id=\"unv_12700641\"></span> | <a href=\"hide?id=12700641&amp;goto=news\">hide</a> | <a href=\"item?id=12700641\">7&nbsp;comments</a>              </td></tr>\\n      <tr class=\"spacer\" style=\"height:5px\"></tr>\\n                <tr class=\\'athing\\' id=\\'12694004\\'>\\n      <td align=\"right\" valign=\"top\" class=\"title\"><span class=\"rank\">26.</span></td>      <td valign=\"top\" class=\"votelinks\"><center><a id=\\'up_12694004\\' href=\\'vote?id=12694004&amp;how=up&amp;goto=news\\'><div class=\\'votearrow\\' title=\\'upvote\\'></div></a></center></td><td class=\"title\"><a href=\"https://github.com/naptha/tesseract.js\" class=\"storylink\">Show HN: Tesseract.js \\xe2\\x80\\x93 Pure JavaScript OCR for 60 Languages</a><span class=\"sitebit comhead\"> (<a href=\"from?site=github.com\"><span class=\"sitestr\">github.com</span></a>)</span></td></tr><tr><td colspan=\"2\"></td><td class=\"subtext\">\\n        <span class=\"score\" id=\"score_12694004\">662 points</span> by <a href=\"user?id=bijection\" class=\"hnuser\">bijection</a> <span class=\"age\"><a href=\"item?id=12694004\">23 hours ago</a></span> <span id=\"unv_12694004\"></span> | <a href=\"hide?id=12694004&amp;goto=news\">hide</a> | <a href=\"item?id=12694004\">91&nbsp;comments</a>              </td></tr>\\n      <tr class=\"spacer\" style=\"height:5px\"></tr>\\n                <tr class=\\'athing\\' id=\\'12699936\\'>\\n      <td align=\"right\" valign=\"top\" class=\"title\"><span class=\"rank\">27.</span></td>      <td valign=\"top\" class=\"votelinks\"><center><a id=\\'up_12699936\\' href=\\'vote?id=12699936&amp;how=up&amp;goto=news\\'><div class=\\'votearrow\\' title=\\'upvote\\'></div></a></center></td><td class=\"title\"><a href=\"http://www.nybooks.com/articles/2005/03/10/i-is-someone-else/\" class=\"storylink\" rel=\"nofollow\">\\xe2\\x80\\x98I Is Someone Else\\xe2\\x80\\x99</a><span class=\"sitebit comhead\"> (<a href=\"from?site=nybooks.com\"><span class=\"sitestr\">nybooks.com</span></a>)</span></td></tr><tr><td colspan=\"2\"></td><td class=\"subtext\">\\n        <span class=\"score\" id=\"score_12699936\">4 points</span> by <a href=\"user?id=var_eps\" class=\"hnuser\">var_eps</a> <span class=\"age\"><a href=\"item?id=12699936\">2 hours ago</a></span> <span id=\"unv_12699936\"></span> | <a href=\"hide?id=12699936&amp;goto=news\">hide</a> | <a href=\"item?id=12699936\">discuss</a>              </td></tr>\\n      <tr class=\"spacer\" style=\"height:5px\"></tr>\\n                <tr class=\\'athing\\' id=\\'12697570\\'>\\n      <td align=\"right\" valign=\"top\" class=\"title\"><span class=\"rank\">28.</span></td>      <td valign=\"top\" class=\"votelinks\"><center><a id=\\'up_12697570\\' href=\\'vote?id=12697570&amp;how=up&amp;goto=news\\'><div class=\\'votearrow\\' title=\\'upvote\\'></div></a></center></td><td class=\"title\"><a href=\"http://www.wsj.com/articles/google-facebook-to-invest-in-u-s-china-data-link-1476302632\" class=\"storylink\">Google, Facebook to Invest in U.S.-China Data Link</a><span class=\"sitebit comhead\"> (<a href=\"from?site=wsj.com\"><span class=\"sitestr\">wsj.com</span></a>)</span></td></tr><tr><td colspan=\"2\"></td><td class=\"subtext\">\\n        <span class=\"score\" id=\"score_12697570\">67 points</span> by <a href=\"user?id=jstreebin\" class=\"hnuser\">jstreebin</a> <span class=\"age\"><a href=\"item?id=12697570\">15 hours ago</a></span> <span id=\"unv_12697570\"></span> | <a href=\"hide?id=12697570&amp;goto=news\">hide</a> | <a href=\"item?id=12697570\">22&nbsp;comments</a>              </td></tr>\\n      <tr class=\"spacer\" style=\"height:5px\"></tr>\\n                <tr class=\\'athing\\' id=\\'12691985\\'>\\n      <td align=\"right\" valign=\"top\" class=\"title\"><span class=\"rank\">29.</span></td>      <td valign=\"top\" class=\"votelinks\"><center><a id=\\'up_12691985\\' href=\\'vote?id=12691985&amp;how=up&amp;goto=news\\'><div class=\\'votearrow\\' title=\\'upvote\\'></div></a></center></td><td class=\"title\"><a href=\"https://www.wired.com/2016/10/president-obama-mit-joi-ito-interview\" class=\"storylink\">Barack Obama on A.I., Autonomous Cars, and the Future of Humanity</a><span class=\"sitebit comhead\"> (<a href=\"from?site=wired.com\"><span class=\"sitestr\">wired.com</span></a>)</span></td></tr><tr><td colspan=\"2\"></td><td class=\"subtext\">\\n        <span class=\"score\" id=\"score_12691985\">280 points</span> by <a href=\"user?id=gflandre\" class=\"hnuser\">gflandre</a> <span class=\"age\"><a href=\"item?id=12691985\">17 hours ago</a></span> <span id=\"unv_12691985\"></span> | <a href=\"hide?id=12691985&amp;goto=news\">hide</a> | <a href=\"item?id=12691985\">175&nbsp;comments</a>              </td></tr>\\n      <tr class=\"spacer\" style=\"height:5px\"></tr>\\n                <tr class=\\'athing\\' id=\\'12692190\\'>\\n      <td align=\"right\" valign=\"top\" class=\"title\"><span class=\"rank\">30.</span></td>      <td valign=\"top\" class=\"votelinks\"><center><a id=\\'up_12692190\\' href=\\'vote?id=12692190&amp;how=up&amp;goto=news\\'><div class=\\'votearrow\\' title=\\'upvote\\'></div></a></center></td><td class=\"title\"><a href=\"https://robinlinus.github.io/socialmedia-leak/\" class=\"storylink\">Show HN: Your Social Media Fingerprint (maybe NSFW)</a><span class=\"sitebit comhead\"> (<a href=\"from?site=robinlinus.github.io\"><span class=\"sitestr\">robinlinus.github.io</span></a>)</span></td></tr><tr><td colspan=\"2\"></td><td class=\"subtext\">\\n        <span class=\"score\" id=\"score_12692190\">870 points</span> by <a href=\"user?id=Capira\" class=\"hnuser\">Capira</a> <span class=\"age\"><a href=\"item?id=12692190\">1 day ago</a></span> <span id=\"unv_12692190\"></span> | <a href=\"hide?id=12692190&amp;goto=news\">hide</a> | <a href=\"item?id=12692190\">238&nbsp;comments</a>              </td></tr>\\n      <tr class=\"spacer\" style=\"height:5px\"></tr>\\n            <tr class=\"morespace\" style=\"height:10px\"></tr><tr><td colspan=\"2\"></td><td class=\"title\"><a href=\"news?p=2\" class=\"morelink\" rel=\"nofollow\">More</a></td></tr>\\n  </table>\\n</td></tr>\\n<tr><td><img src=\"s.gif\" height=\"10\" width=\"0\"><table width=\"100%\" cellspacing=\"0\" cellpadding=\"1\"><tr><td bgcolor=\"#ff6600\"></td></tr></table><br><center><span class=\"yclinks\"><a href=\"newsguidelines.html\">Guidelines</a>\\n        | <a href=\"newsfaq.html\">FAQ</a>\\n        | <a href=\"mailto:hn@ycombinator.com\">Support</a>\\n        | <a href=\"https://github.com/HackerNews/API\">API</a>\\n        | <a href=\"security.html\">Security</a>\\n        | <a href=\"lists\">Lists</a>\\n        | <a href=\"bookmarklet.html\">Bookmarklet</a>\\n        | <a href=\"dmca.html\">DMCA</a>\\n        | <a href=\"http://www.ycombinator.com/apply/\">Apply to YC</a>\\n        | <a href=\"mailto:hn@ycombinator.com\">Contact</a></span><br><br><form method=\"get\" action=\"//hn.algolia.com/\">Search:\\n          <input type=\"text\" name=\"q\" value=\"\" size=\"17\" autocorrect=\"off\" spellcheck=\"false\" autocapitalize=\"off\" autocomplete=\"false\"></form>\\n            </center></td></tr>      </table></center></body><script type=\\'text/javascript\\' src=\\'hn.js?0jKc9Keyn2Zl7D1UAQcy\\'></script></html>\\n'"
      ]
     },
     "execution_count": 17,
     "metadata": {},
     "output_type": "execute_result"
    }
   ],
   "source": [
    "r.content"
   ]
  },
  {
   "cell_type": "markdown",
   "metadata": {
    "slideshow": {
     "slide_type": "slide"
    }
   },
   "source": [
    "## We can wrap that in HTML to see the code"
   ]
  },
  {
   "cell_type": "code",
   "execution_count": 5,
   "metadata": {
    "collapsed": false,
    "slideshow": {
     "slide_type": "-"
    }
   },
   "outputs": [
    {
     "data": {
      "text/html": [
       "<html op=\"news\"><head><meta name=\"referrer\" content=\"origin\"><meta name=\"viewport\" content=\"width=device-width, initial-scale=1.0\"><link rel=\"stylesheet\" type=\"text/css\" href=\"news.css?0jKc9Keyn2Zl7D1UAQcy\">\n",
       "        <link rel=\"shortcut icon\" href=\"favicon.ico\">\n",
       "          <link rel=\"alternate\" type=\"application/rss+xml\" title=\"RSS\" href=\"rss\">\n",
       "        <title>Hacker News</title>\n",
       "      </head><body><center><table id=\"hnmain\" border=\"0\" cellpadding=\"0\" cellspacing=\"0\" width=\"85%\" bgcolor=\"#f6f6ef\">\n",
       "        <tr><td bgcolor=\"#ff6600\"><table border=\"0\" cellpadding=\"0\" cellspacing=\"0\" width=\"100%\" style=\"padding:2px\"><tr><td style=\"width:18px;padding-right:4px\"><a href=\"http://www.ycombinator.com\"><img src=\"y18.gif\" width=\"18\" height=\"18\" style=\"border:1px white solid;\"></a></td>\n",
       "                  <td style=\"line-height:12pt; height:10px;\"><span class=\"pagetop\"><b class=\"hnname\"><a href=\"news\">Hacker News</a></b>\n",
       "              <a href=\"newest\">new</a> | <a href=\"newcomments\">comments</a> | <a href=\"show\">show</a> | <a href=\"ask\">ask</a> | <a href=\"jobs\">jobs</a> | <a href=\"submit\">submit</a>            </span></td><td style=\"text-align:right;padding-right:4px;\"><span class=\"pagetop\">\n",
       "                              <a href=\"login?goto=news\">login</a>\n",
       "                          </span></td>\n",
       "              </tr></table></td></tr>\n",
       "<tr style=\"height:10px\"></tr><tr><td><table border=\"0\" cellpadding=\"0\" cellspacing=\"0\" class=\"itemlist\">\n",
       "              <tr class='athing' id='12706531'>\n",
       "      <td align=\"right\" valign=\"top\" class=\"title\"><span class=\"rank\">1.</span></td>      <td valign=\"top\" class=\"votelinks\"><center><a id='up_12706531' href='vote?id=12706531&amp;how=up&amp;goto=news'><div class='votearrow' title='upvote'></div></a></center></td><td class=\"title\"><a href=\"http://www.heliocastro.info/?p=291\" class=\"storylink\">KDE Project releases KDE 1</a><span class=\"sitebit comhead\"> (<a href=\"from?site=heliocastro.info\"><span class=\"sitestr\">heliocastro.info</span></a>)</span></td></tr><tr><td colspan=\"2\"></td><td class=\"subtext\">\n",
       "        <span class=\"score\" id=\"score_12706531\">161 points</span> by <a href=\"user?id=oever\" class=\"hnuser\">oever</a> <span class=\"age\"><a href=\"item?id=12706531\">5 hours ago</a></span> <span id=\"unv_12706531\"></span> | <a href=\"hide?id=12706531&amp;goto=news\">hide</a> | <a href=\"item?id=12706531\">68&nbsp;comments</a>              </td></tr>\n",
       "      <tr class=\"spacer\" style=\"height:5px\"></tr>\n",
       "                <tr class='athing' id='12707411'>\n",
       "      <td align=\"right\" valign=\"top\" class=\"title\"><span class=\"rank\">2.</span></td>      <td valign=\"top\" class=\"votelinks\"><center><a id='up_12707411' href='vote?id=12707411&amp;how=up&amp;goto=news'><div class='votearrow' title='upvote'></div></a></center></td><td class=\"title\"><a href=\"http://med.stanford.edu/news/all-news/2016/10/common-prostate-cancer-treatment-linked-to-later-dementia.html\" class=\"storylink\">Common prostate cancer treatment linked to later dementia, researcher says</a><span class=\"sitebit comhead\"> (<a href=\"from?site=stanford.edu\"><span class=\"sitestr\">stanford.edu</span></a>)</span></td></tr><tr><td colspan=\"2\"></td><td class=\"subtext\">\n",
       "        <span class=\"score\" id=\"score_12707411\">24 points</span> by <a href=\"user?id=CapitalistCartr\" class=\"hnuser\">CapitalistCartr</a> <span class=\"age\"><a href=\"item?id=12707411\">1 hour ago</a></span> <span id=\"unv_12707411\"></span> | <a href=\"hide?id=12707411&amp;goto=news\">hide</a> | <a href=\"item?id=12707411\">7&nbsp;comments</a>              </td></tr>\n",
       "      <tr class=\"spacer\" style=\"height:5px\"></tr>\n",
       "                <tr class='athing' id='12706986'>\n",
       "      <td align=\"right\" valign=\"top\" class=\"title\"><span class=\"rank\">3.</span></td>      <td valign=\"top\" class=\"votelinks\"><center><a id='up_12706986' href='vote?id=12706986&amp;how=up&amp;goto=news'><div class='votearrow' title='upvote'></div></a></center></td><td class=\"title\"><a href=\"http://dmitryfrank.com/articles/lisp_on_mcu\" class=\"storylink\">Let’s Run Lisp on a Microcontroller</a><span class=\"sitebit comhead\"> (<a href=\"from?site=dmitryfrank.com\"><span class=\"sitestr\">dmitryfrank.com</span></a>)</span></td></tr><tr><td colspan=\"2\"></td><td class=\"subtext\">\n",
       "        <span class=\"score\" id=\"score_12706986\">35 points</span> by <a href=\"user?id=gattilorenz\" class=\"hnuser\">gattilorenz</a> <span class=\"age\"><a href=\"item?id=12706986\">3 hours ago</a></span> <span id=\"unv_12706986\"></span> | <a href=\"hide?id=12706986&amp;goto=news\">hide</a> | <a href=\"item?id=12706986\">4&nbsp;comments</a>              </td></tr>\n",
       "      <tr class=\"spacer\" style=\"height:5px\"></tr>\n",
       "                <tr class='athing' id='12705546'>\n",
       "      <td align=\"right\" valign=\"top\" class=\"title\"><span class=\"rank\">4.</span></td>      <td valign=\"top\" class=\"votelinks\"><center><a id='up_12705546' href='vote?id=12705546&amp;how=up&amp;goto=news'><div class='votearrow' title='upvote'></div></a></center></td><td class=\"title\"><a href=\"http://www.MaslowCNC.com\" class=\"storylink\">Maslow CNC</a><span class=\"sitebit comhead\"> (<a href=\"from?site=maslowcnc.com\"><span class=\"sitestr\">maslowcnc.com</span></a>)</span></td></tr><tr><td colspan=\"2\"></td><td class=\"subtext\">\n",
       "        <span class=\"score\" id=\"score_12705546\">280 points</span> by <a href=\"user?id=MaslowCNC\" class=\"hnuser\">MaslowCNC</a> <span class=\"age\"><a href=\"item?id=12705546\">11 hours ago</a></span> <span id=\"unv_12705546\"></span> | <a href=\"hide?id=12705546&amp;goto=news\">hide</a> | <a href=\"item?id=12705546\">65&nbsp;comments</a>              </td></tr>\n",
       "      <tr class=\"spacer\" style=\"height:5px\"></tr>\n",
       "                <tr class='athing' id='12705816'>\n",
       "      <td align=\"right\" valign=\"top\" class=\"title\"><span class=\"rank\">5.</span></td>      <td valign=\"top\" class=\"votelinks\"><center><a id='up_12705816' href='vote?id=12705816&amp;how=up&amp;goto=news'><div class='votearrow' title='upvote'></div></a></center></td><td class=\"title\"><a href=\"https://flynn.io/\" class=\"storylink\">Flynn: open source PaaS</a><span class=\"sitebit comhead\"> (<a href=\"from?site=flynn.io\"><span class=\"sitestr\">flynn.io</span></a>)</span></td></tr><tr><td colspan=\"2\"></td><td class=\"subtext\">\n",
       "        <span class=\"score\" id=\"score_12705816\">171 points</span> by <a href=\"user?id=cheiVia0\" class=\"hnuser\">cheiVia0</a> <span class=\"age\"><a href=\"item?id=12705816\">10 hours ago</a></span> <span id=\"unv_12705816\"></span> | <a href=\"hide?id=12705816&amp;goto=news\">hide</a> | <a href=\"item?id=12705816\">44&nbsp;comments</a>              </td></tr>\n",
       "      <tr class=\"spacer\" style=\"height:5px\"></tr>\n",
       "                <tr class='athing' id='12706308'>\n",
       "      <td align=\"right\" valign=\"top\" class=\"title\"><span class=\"rank\">6.</span></td>      <td valign=\"top\" class=\"votelinks\"><center><a id='up_12706308' href='vote?id=12706308&amp;how=up&amp;goto=news'><div class='votearrow' title='upvote'></div></a></center></td><td class=\"title\"><a href=\"https://blog.mozilla.org/nnethercote/2016/10/14/how-to-speed-up-the-rust-compiler/\" class=\"storylink\">How to speed up the Rust compiler</a><span class=\"sitebit comhead\"> (<a href=\"from?site=mozilla.org\"><span class=\"sitestr\">mozilla.org</span></a>)</span></td></tr><tr><td colspan=\"2\"></td><td class=\"subtext\">\n",
       "        <span class=\"score\" id=\"score_12706308\">96 points</span> by <a href=\"user?id=nnethercote\" class=\"hnuser\">nnethercote</a> <span class=\"age\"><a href=\"item?id=12706308\">7 hours ago</a></span> <span id=\"unv_12706308\"></span> | <a href=\"hide?id=12706308&amp;goto=news\">hide</a> | <a href=\"item?id=12706308\">38&nbsp;comments</a>              </td></tr>\n",
       "      <tr class=\"spacer\" style=\"height:5px\"></tr>\n",
       "                <tr class='athing' id='12703751'>\n",
       "      <td align=\"right\" valign=\"top\" class=\"title\"><span class=\"rank\">7.</span></td>      <td valign=\"top\" class=\"votelinks\"><center><a id='up_12703751' href='vote?id=12703751&amp;how=up&amp;goto=news'><div class='votearrow' title='upvote'></div></a></center></td><td class=\"title\"><a href=\"https://slack.engineering/taking-php-seriously-cf7a60065329#.v643zvbw3\" class=\"storylink\">Taking PHP Seriously</a><span class=\"sitebit comhead\"> (<a href=\"from?site=slack.engineering\"><span class=\"sitestr\">slack.engineering</span></a>)</span></td></tr><tr><td colspan=\"2\"></td><td class=\"subtext\">\n",
       "        <span class=\"score\" id=\"score_12703751\">518 points</span> by <a href=\"user?id=josephscott\" class=\"hnuser\">josephscott</a> <span class=\"age\"><a href=\"item?id=12703751\">16 hours ago</a></span> <span id=\"unv_12703751\"></span> | <a href=\"hide?id=12703751&amp;goto=news\">hide</a> | <a href=\"item?id=12703751\">445&nbsp;comments</a>              </td></tr>\n",
       "      <tr class=\"spacer\" style=\"height:5px\"></tr>\n",
       "                <tr class='athing' id='12707606'>\n",
       "      <td align=\"right\" valign=\"top\" class=\"title\"><span class=\"rank\">8.</span></td>      <td valign=\"top\" class=\"votelinks\"><center><a id='up_12707606' href='vote?id=12707606&amp;how=up&amp;goto=news'><div class='votearrow' title='upvote'></div></a></center></td><td class=\"title\"><a href=\"https://www.briangilham.com/blog/2016/10/10/be-kind\" class=\"storylink\" rel=\"nofollow\">Mentoring Junior Devs: Be Kind</a><span class=\"sitebit comhead\"> (<a href=\"from?site=briangilham.com\"><span class=\"sitestr\">briangilham.com</span></a>)</span></td></tr><tr><td colspan=\"2\"></td><td class=\"subtext\">\n",
       "        <span class=\"score\" id=\"score_12707606\">8 points</span> by <a href=\"user?id=bgilham\" class=\"hnuser\">bgilham</a> <span class=\"age\"><a href=\"item?id=12707606\">26 minutes ago</a></span> <span id=\"unv_12707606\"></span> | <a href=\"hide?id=12707606&amp;goto=news\">hide</a> | <a href=\"item?id=12707606\">1&nbsp;comment</a>              </td></tr>\n",
       "      <tr class=\"spacer\" style=\"height:5px\"></tr>\n",
       "                <tr class='athing' id='12704511'>\n",
       "      <td align=\"right\" valign=\"top\" class=\"title\"><span class=\"rank\">9.</span></td>      <td valign=\"top\" class=\"votelinks\"><center><a id='up_12704511' href='vote?id=12704511&amp;how=up&amp;goto=news'><div class='votearrow' title='upvote'></div></a></center></td><td class=\"title\"><a href=\"http://engineering.dailymotion.com/php-7-deployment-at-dailymotion/\" class=\"storylink\">PHP 7 deployment at Dailymotion</a><span class=\"sitebit comhead\"> (<a href=\"from?site=dailymotion.com\"><span class=\"sitestr\">dailymotion.com</span></a>)</span></td></tr><tr><td colspan=\"2\"></td><td class=\"subtext\">\n",
       "        <span class=\"score\" id=\"score_12704511\">279 points</span> by <a href=\"user?id=dailymotioneng\" class=\"hnuser\">dailymotioneng</a> <span class=\"age\"><a href=\"item?id=12704511\">14 hours ago</a></span> <span id=\"unv_12704511\"></span> | <a href=\"hide?id=12704511&amp;goto=news\">hide</a> | <a href=\"item?id=12704511\">118&nbsp;comments</a>              </td></tr>\n",
       "      <tr class=\"spacer\" style=\"height:5px\"></tr>\n",
       "                <tr class='athing' id='12703121'>\n",
       "      <td align=\"right\" valign=\"top\" class=\"title\"><span class=\"rank\">10.</span></td>      <td valign=\"top\" class=\"votelinks\"><center><a id='up_12703121' href='vote?id=12703121&amp;how=up&amp;goto=news'><div class='votearrow' title='upvote'></div></a></center></td><td class=\"title\"><a href=\"http://www.bitmatica.com/blog/an-open-source-self-hosted-heroku/\" class=\"storylink\">An Open Source, Self-Hosted Heroku</a><span class=\"sitebit comhead\"> (<a href=\"from?site=bitmatica.com\"><span class=\"sitestr\">bitmatica.com</span></a>)</span></td></tr><tr><td colspan=\"2\"></td><td class=\"subtext\">\n",
       "        <span class=\"score\" id=\"score_12703121\">385 points</span> by <a href=\"user?id=stucat\" class=\"hnuser\">stucat</a> <span class=\"age\"><a href=\"item?id=12703121\">17 hours ago</a></span> <span id=\"unv_12703121\"></span> | <a href=\"hide?id=12703121&amp;goto=news\">hide</a> | <a href=\"item?id=12703121\">105&nbsp;comments</a>              </td></tr>\n",
       "      <tr class=\"spacer\" style=\"height:5px\"></tr>\n",
       "                <tr class='athing' id='12703008'>\n",
       "      <td align=\"right\" valign=\"top\" class=\"title\"><span class=\"rank\">11.</span></td>      <td valign=\"top\" class=\"votelinks\"><center><a id='up_12703008' href='vote?id=12703008&amp;how=up&amp;goto=news'><div class='votearrow' title='upvote'></div></a></center></td><td class=\"title\"><a href=\"http://blog.zulip.org/2016/10/13/static-types-in-python-oh-mypy/\" class=\"storylink\">Static types in Python</a><span class=\"sitebit comhead\"> (<a href=\"from?site=zulip.org\"><span class=\"sitestr\">zulip.org</span></a>)</span></td></tr><tr><td colspan=\"2\"></td><td class=\"subtext\">\n",
       "        <span class=\"score\" id=\"score_12703008\">373 points</span> by <a href=\"user?id=tabbott\" class=\"hnuser\">tabbott</a> <span class=\"age\"><a href=\"item?id=12703008\">18 hours ago</a></span> <span id=\"unv_12703008\"></span> | <a href=\"hide?id=12703008&amp;goto=news\">hide</a> | <a href=\"item?id=12703008\">165&nbsp;comments</a>              </td></tr>\n",
       "      <tr class=\"spacer\" style=\"height:5px\"></tr>\n",
       "                <tr class='athing' id='12706557'>\n",
       "      <td align=\"right\" valign=\"top\" class=\"title\"><span class=\"rank\">12.</span></td>      <td valign=\"top\" class=\"votelinks\"><center><a id='up_12706557' href='vote?id=12706557&amp;how=up&amp;goto=news'><div class='votearrow' title='upvote'></div></a></center></td><td class=\"title\"><a href=\"http://astronomynow.com/2016/10/13/observable-universe-contains-ten-times-more-galaxies-than-previously-thought/\" class=\"storylink\" rel=\"nofollow\">Observable universe contains ten times more galaxies than previously thought</a><span class=\"sitebit comhead\"> (<a href=\"from?site=astronomynow.com\"><span class=\"sitestr\">astronomynow.com</span></a>)</span></td></tr><tr><td colspan=\"2\"></td><td class=\"subtext\">\n",
       "        <span class=\"score\" id=\"score_12706557\">4 points</span> by <a href=\"user?id=yurisagalov\" class=\"hnuser\">yurisagalov</a> <span class=\"age\"><a href=\"item?id=12706557\">1 hour ago</a></span> <span id=\"unv_12706557\"></span> | <a href=\"hide?id=12706557&amp;goto=news\">hide</a> | <a href=\"item?id=12706557\">discuss</a>              </td></tr>\n",
       "      <tr class=\"spacer\" style=\"height:5px\"></tr>\n",
       "                <tr class='athing' id='12704889'>\n",
       "      <td align=\"right\" valign=\"top\" class=\"title\"><span class=\"rank\">13.</span></td>      <td valign=\"top\" class=\"votelinks\"><center><a id='up_12704889' href='vote?id=12704889&amp;how=up&amp;goto=news'><div class='votearrow' title='upvote'></div></a></center></td><td class=\"title\"><a href=\"https://github.com/transcranial/keras-js\" class=\"storylink\">Keras.js – Run trained Keras models in your browser</a><span class=\"sitebit comhead\"> (<a href=\"from?site=github.com\"><span class=\"sitestr\">github.com</span></a>)</span></td></tr><tr><td colspan=\"2\"></td><td class=\"subtext\">\n",
       "        <span class=\"score\" id=\"score_12704889\">144 points</span> by <a href=\"user?id=transcranial\" class=\"hnuser\">transcranial</a> <span class=\"age\"><a href=\"item?id=12704889\">13 hours ago</a></span> <span id=\"unv_12704889\"></span> | <a href=\"hide?id=12704889&amp;goto=news\">hide</a> | <a href=\"item?id=12704889\">20&nbsp;comments</a>              </td></tr>\n",
       "      <tr class=\"spacer\" style=\"height:5px\"></tr>\n",
       "                <tr class='athing' id='12703769'>\n",
       "      <td align=\"right\" valign=\"top\" class=\"title\"><span class=\"rank\">14.</span></td>      <td valign=\"top\" class=\"votelinks\"><center><a id='up_12703769' href='vote?id=12703769&amp;how=up&amp;goto=news'><div class='votearrow' title='upvote'></div></a></center></td><td class=\"title\"><a href=\"http://spectrum.ieee.org/automaton/robotics/humanoids/this-robot-can-do-more-pushups-because-it-sweats\" class=\"storylink\">Robot Can Do More Push-Ups Because It Sweats</a><span class=\"sitebit comhead\"> (<a href=\"from?site=ieee.org\"><span class=\"sitestr\">ieee.org</span></a>)</span></td></tr><tr><td colspan=\"2\"></td><td class=\"subtext\">\n",
       "        <span class=\"score\" id=\"score_12703769\">236 points</span> by <a href=\"user?id=mcspecter\" class=\"hnuser\">mcspecter</a> <span class=\"age\"><a href=\"item?id=12703769\">16 hours ago</a></span> <span id=\"unv_12703769\"></span> | <a href=\"hide?id=12703769&amp;goto=news\">hide</a> | <a href=\"item?id=12703769\">45&nbsp;comments</a>              </td></tr>\n",
       "      <tr class=\"spacer\" style=\"height:5px\"></tr>\n",
       "                <tr class='athing' id='12705851'>\n",
       "      <td align=\"right\" valign=\"top\" class=\"title\"><span class=\"rank\">15.</span></td>      <td valign=\"top\" class=\"votelinks\"><center><a id='up_12705851' href='vote?id=12705851&amp;how=up&amp;goto=news'><div class='votearrow' title='upvote'></div></a></center></td><td class=\"title\"><a href=\"http://arxiv.org/abs/1610.03452\" class=\"storylink\">A Study of 4chan’s Politically Incorrect Forum and its Effect on the Web</a><span class=\"sitebit comhead\"> (<a href=\"from?site=arxiv.org\"><span class=\"sitestr\">arxiv.org</span></a>)</span></td></tr><tr><td colspan=\"2\"></td><td class=\"subtext\">\n",
       "        <span class=\"score\" id=\"score_12705851\">79 points</span> by <a href=\"user?id=ivarious\" class=\"hnuser\">ivarious</a> <span class=\"age\"><a href=\"item?id=12705851\">10 hours ago</a></span> <span id=\"unv_12705851\"></span> | <a href=\"hide?id=12705851&amp;goto=news\">hide</a> | <a href=\"item?id=12705851\">51&nbsp;comments</a>              </td></tr>\n",
       "      <tr class=\"spacer\" style=\"height:5px\"></tr>\n",
       "                <tr class='athing' id='12704160'>\n",
       "      <td align=\"right\" valign=\"top\" class=\"title\"><span class=\"rank\">16.</span></td>      <td valign=\"top\" class=\"votelinks\"><center><a id='up_12704160' href='vote?id=12704160&amp;how=up&amp;goto=news'><div class='votearrow' title='upvote'></div></a></center></td><td class=\"title\"><a href=\"http://mobile.nytimes.com/2016/10/14/business/economy/pastry-workers-restaurant-job-training.html?em_pos=small&amp;emc=edit_dk_20161013&amp;nl=dealbook&amp;nl_art=1&amp;nlid=65508833&amp;ref=headline&amp;te=1&amp;referer=\" class=\"storylink\">Pastry Chefs Are in Demand, Why Aren’t Wages Rising?</a><span class=\"sitebit comhead\"> (<a href=\"from?site=nytimes.com\"><span class=\"sitestr\">nytimes.com</span></a>)</span></td></tr><tr><td colspan=\"2\"></td><td class=\"subtext\">\n",
       "        <span class=\"score\" id=\"score_12704160\">128 points</span> by <a href=\"user?id=JumpCrisscross\" class=\"hnuser\">JumpCrisscross</a> <span class=\"age\"><a href=\"item?id=12704160\">15 hours ago</a></span> <span id=\"unv_12704160\"></span> | <a href=\"hide?id=12704160&amp;goto=news\">hide</a> | <a href=\"item?id=12704160\">175&nbsp;comments</a>              </td></tr>\n",
       "      <tr class=\"spacer\" style=\"height:5px\"></tr>\n",
       "                <tr class='athing' id='12705705'>\n",
       "      <td align=\"right\" valign=\"top\" class=\"title\"><span class=\"rank\">17.</span></td>      <td valign=\"top\" class=\"votelinks\"><center><a id='up_12705705' href='vote?id=12705705&amp;how=up&amp;goto=news'><div class='votearrow' title='upvote'></div></a></center></td><td class=\"title\"><a href=\"http://ntrs.nasa.gov/archive/nasa/casi.ntrs.nasa.gov/20000096503.pdf\" class=\"storylink\">Nuclear Pulse Propulsion – Orion and Beyond (2000) [pdf]</a><span class=\"sitebit comhead\"> (<a href=\"from?site=nasa.gov\"><span class=\"sitestr\">nasa.gov</span></a>)</span></td></tr><tr><td colspan=\"2\"></td><td class=\"subtext\">\n",
       "        <span class=\"score\" id=\"score_12705705\">58 points</span> by <a href=\"user?id=maverick_iceman\" class=\"hnuser\">maverick_iceman</a> <span class=\"age\"><a href=\"item?id=12705705\">10 hours ago</a></span> <span id=\"unv_12705705\"></span> | <a href=\"hide?id=12705705&amp;goto=news\">hide</a> | <a href=\"item?id=12705705\">48&nbsp;comments</a>              </td></tr>\n",
       "      <tr class=\"spacer\" style=\"height:5px\"></tr>\n",
       "                <tr class='athing' id='12701633'>\n",
       "      <td align=\"right\" valign=\"top\" class=\"title\"><span class=\"rank\">18.</span></td>      <td valign=\"top\" class=\"votelinks\"><center><a id='up_12701633' href='vote?id=12701633&amp;how=up&amp;goto=news'><div class='votearrow' title='upvote'></div></a></center></td><td class=\"title\"><a href=\"http://petapixel.com/2016/10/11/cooled-nikon-d5500a-chills-sensor-clearer-star-photos/?utm_source=feedburner&amp;utm_medium=feed&amp;utm_campaign=Feed%25253A+PetaPixel+%252528PetaPixel%252529\" class=\"storylink\">Cooled Nikon D5500a Chills the Sensor for Clearer Star Photos</a><span class=\"sitebit comhead\"> (<a href=\"from?site=petapixel.com\"><span class=\"sitestr\">petapixel.com</span></a>)</span></td></tr><tr><td colspan=\"2\"></td><td class=\"subtext\">\n",
       "        <span class=\"score\" id=\"score_12701633\">236 points</span> by <a href=\"user?id=uptown\" class=\"hnuser\">uptown</a> <span class=\"age\"><a href=\"item?id=12701633\">20 hours ago</a></span> <span id=\"unv_12701633\"></span> | <a href=\"hide?id=12701633&amp;goto=news\">hide</a> | <a href=\"item?id=12701633\">84&nbsp;comments</a>              </td></tr>\n",
       "      <tr class=\"spacer\" style=\"height:5px\"></tr>\n",
       "                <tr class='athing' id='12704190'>\n",
       "      <td align=\"right\" valign=\"top\" class=\"title\"><span class=\"rank\">19.</span></td>      <td valign=\"top\" class=\"votelinks\"><center><a id='up_12704190' href='vote?id=12704190&amp;how=up&amp;goto=news'><div class='votearrow' title='upvote'></div></a></center></td><td class=\"title\"><a href=\"http://voxeu.org/article/piketty-s-housing-capital-results-new-us-facts\" class=\"storylink\">Piketty’s rising share of capital income and the US housing market</a><span class=\"sitebit comhead\"> (<a href=\"from?site=voxeu.org\"><span class=\"sitestr\">voxeu.org</span></a>)</span></td></tr><tr><td colspan=\"2\"></td><td class=\"subtext\">\n",
       "        <span class=\"score\" id=\"score_12704190\">102 points</span> by <a href=\"user?id=cossatot\" class=\"hnuser\">cossatot</a> <span class=\"age\"><a href=\"item?id=12704190\">15 hours ago</a></span> <span id=\"unv_12704190\"></span> | <a href=\"hide?id=12704190&amp;goto=news\">hide</a> | <a href=\"item?id=12704190\">39&nbsp;comments</a>              </td></tr>\n",
       "      <tr class=\"spacer\" style=\"height:5px\"></tr>\n",
       "                <tr class='athing' id='12702759'>\n",
       "      <td align=\"right\" valign=\"top\" class=\"title\"><span class=\"rank\">20.</span></td>      <td valign=\"top\" class=\"votelinks\"><center><a id='up_12702759' href='vote?id=12702759&amp;how=up&amp;goto=news'><div class='votearrow' title='upvote'></div></a></center></td><td class=\"title\"><a href=\"http://www.nasa.gov/feature/goddard/2016/hubble-reveals-observable-universe-contains-10-times-more-galaxies-than-previously-thought/\" class=\"storylink\">Hubble Finds 10 Times More Galaxies Than Thought</a><span class=\"sitebit comhead\"> (<a href=\"from?site=nasa.gov\"><span class=\"sitestr\">nasa.gov</span></a>)</span></td></tr><tr><td colspan=\"2\"></td><td class=\"subtext\">\n",
       "        <span class=\"score\" id=\"score_12702759\">152 points</span> by <a href=\"user?id=lx\" class=\"hnuser\">lx</a> <span class=\"age\"><a href=\"item?id=12702759\">18 hours ago</a></span> <span id=\"unv_12702759\"></span> | <a href=\"hide?id=12702759&amp;goto=news\">hide</a> | <a href=\"item?id=12702759\">85&nbsp;comments</a>              </td></tr>\n",
       "      <tr class=\"spacer\" style=\"height:5px\"></tr>\n",
       "                <tr class='athing' id='12705740'>\n",
       "      <td align=\"right\" valign=\"top\" class=\"title\"><span class=\"rank\">21.</span></td>      <td valign=\"top\" class=\"votelinks\"><center><a id='up_12705740' href='vote?id=12705740&amp;how=up&amp;goto=news'><div class='votearrow' title='upvote'></div></a></center></td><td class=\"title\"><a href=\"https://lists.gnu.org/archive/html/guile-user/2016-10/msg00007.html\" class=\"storylink\">Guile security vulnerability with listening on localhost and port</a><span class=\"sitebit comhead\"> (<a href=\"from?site=gnu.org\"><span class=\"sitestr\">gnu.org</span></a>)</span></td></tr><tr><td colspan=\"2\"></td><td class=\"subtext\">\n",
       "        <span class=\"score\" id=\"score_12705740\">43 points</span> by <a href=\"user?id=cheiVia0\" class=\"hnuser\">cheiVia0</a> <span class=\"age\"><a href=\"item?id=12705740\">10 hours ago</a></span> <span id=\"unv_12705740\"></span> | <a href=\"hide?id=12705740&amp;goto=news\">hide</a> | <a href=\"item?id=12705740\">28&nbsp;comments</a>              </td></tr>\n",
       "      <tr class=\"spacer\" style=\"height:5px\"></tr>\n",
       "                <tr class='athing' id='12703884'>\n",
       "      <td align=\"right\" valign=\"top\" class=\"title\"><span class=\"rank\">22.</span></td>      <td valign=\"top\" class=\"votelinks\"><center><a id='up_12703884' href='vote?id=12703884&amp;how=up&amp;goto=news'><div class='votearrow' title='upvote'></div></a></center></td><td class=\"title\"><a href=\"https://techcrunch.com/2016/10/13/vmware-cloud-on-aws/\" class=\"storylink\">VMware’s new cloud service will run on AWS</a><span class=\"sitebit comhead\"> (<a href=\"from?site=techcrunch.com\"><span class=\"sitestr\">techcrunch.com</span></a>)</span></td></tr><tr><td colspan=\"2\"></td><td class=\"subtext\">\n",
       "        <span class=\"score\" id=\"score_12703884\">124 points</span> by <a href=\"user?id=frostmatthew\" class=\"hnuser\">frostmatthew</a> <span class=\"age\"><a href=\"item?id=12703884\">16 hours ago</a></span> <span id=\"unv_12703884\"></span> | <a href=\"hide?id=12703884&amp;goto=news\">hide</a> | <a href=\"item?id=12703884\">67&nbsp;comments</a>              </td></tr>\n",
       "      <tr class=\"spacer\" style=\"height:5px\"></tr>\n",
       "                <tr class='athing' id='12701272'>\n",
       "      <td align=\"right\" valign=\"top\" class=\"title\"><span class=\"rank\">23.</span></td>      <td valign=\"top\" class=\"votelinks\"><center><a id='up_12701272' href='vote?id=12701272&amp;how=up&amp;goto=news'><div class='votearrow' title='upvote'></div></a></center></td><td class=\"title\"><a href=\"http://www.gwan.com/blog/20160405.html\" class=\"storylink\">Google's “Director of Engineering” Hiring Test</a><span class=\"sitebit comhead\"> (<a href=\"from?site=gwan.com\"><span class=\"sitestr\">gwan.com</span></a>)</span></td></tr><tr><td colspan=\"2\"></td><td class=\"subtext\">\n",
       "        <span class=\"score\" id=\"score_12701272\">1615 points</span> by <a href=\"user?id=fatihky\" class=\"hnuser\">fatihky</a> <span class=\"age\"><a href=\"item?id=12701272\">21 hours ago</a></span> <span id=\"unv_12701272\"></span> | <a href=\"hide?id=12701272&amp;goto=news\">hide</a> | <a href=\"item?id=12701272\">848&nbsp;comments</a>              </td></tr>\n",
       "      <tr class=\"spacer\" style=\"height:5px\"></tr>\n",
       "                <tr class='athing' id='12702651'>\n",
       "      <td align=\"right\" valign=\"top\" class=\"title\"><span class=\"rank\">24.</span></td>      <td valign=\"top\" class=\"votelinks\"><center><a id='up_12702651' href='vote?id=12702651&amp;how=up&amp;goto=news'><div class='votearrow' title='upvote'></div></a></center></td><td class=\"title\"><a href=\"item?id=12702651\" class=\"storylink\">Ask HN: What is your favorite YouTube channel for developers?</a></td></tr><tr><td colspan=\"2\"></td><td class=\"subtext\">\n",
       "        <span class=\"score\" id=\"score_12702651\">829 points</span> by <a href=\"user?id=justanton\" class=\"hnuser\">justanton</a> <span class=\"age\"><a href=\"item?id=12702651\">19 hours ago</a></span> <span id=\"unv_12702651\"></span> | <a href=\"hide?id=12702651&amp;goto=news\">hide</a> | <a href=\"item?id=12702651\">136&nbsp;comments</a>              </td></tr>\n",
       "      <tr class=\"spacer\" style=\"height:5px\"></tr>\n",
       "                <tr class='athing' id='12701847'>\n",
       "      <td align=\"right\" valign=\"top\" class=\"title\"><span class=\"rank\">25.</span></td>      <td valign=\"top\" class=\"votelinks\"><center><a id='up_12701847' href='vote?id=12701847&amp;how=up&amp;goto=news'><div class='votearrow' title='upvote'></div></a></center></td><td class=\"title\"><a href=\"http://www.atlasobscura.com/articles/inside-the-new-york-public-librarys-last-secret-apartments\" class=\"storylink\">Inside the New York Public Library's Last, Secret Apartments</a><span class=\"sitebit comhead\"> (<a href=\"from?site=atlasobscura.com\"><span class=\"sitestr\">atlasobscura.com</span></a>)</span></td></tr><tr><td colspan=\"2\"></td><td class=\"subtext\">\n",
       "        <span class=\"score\" id=\"score_12701847\">158 points</span> by <a href=\"user?id=Tomte\" class=\"hnuser\">Tomte</a> <span class=\"age\"><a href=\"item?id=12701847\">20 hours ago</a></span> <span id=\"unv_12701847\"></span> | <a href=\"hide?id=12701847&amp;goto=news\">hide</a> | <a href=\"item?id=12701847\">30&nbsp;comments</a>              </td></tr>\n",
       "      <tr class=\"spacer\" style=\"height:5px\"></tr>\n",
       "                <tr class='athing' id='12703498'>\n",
       "      <td align=\"right\" valign=\"top\" class=\"title\"><span class=\"rank\">26.</span></td>      <td valign=\"top\" class=\"votelinks\"><center><a id='up_12703498' href='vote?id=12703498&amp;how=up&amp;goto=news'><div class='votearrow' title='upvote'></div></a></center></td><td class=\"title\"><a href=\"http://smbx.org/\" class=\"storylink\">Symbolics Lisp Machine Museum</a><span class=\"sitebit comhead\"> (<a href=\"from?site=smbx.org\"><span class=\"sitestr\">smbx.org</span></a>)</span></td></tr><tr><td colspan=\"2\"></td><td class=\"subtext\">\n",
       "        <span class=\"score\" id=\"score_12703498\">108 points</span> by <a href=\"user?id=rbc\" class=\"hnuser\">rbc</a> <span class=\"age\"><a href=\"item?id=12703498\">17 hours ago</a></span> <span id=\"unv_12703498\"></span> | <a href=\"hide?id=12703498&amp;goto=news\">hide</a> | <a href=\"item?id=12703498\">101&nbsp;comments</a>              </td></tr>\n",
       "      <tr class=\"spacer\" style=\"height:5px\"></tr>\n",
       "                <tr class='athing' id='12703679'>\n",
       "      <td align=\"right\" valign=\"top\" class=\"title\"><span class=\"rank\">27.</span></td>      <td valign=\"top\" class=\"votelinks\"><center><a id='up_12703679' href='vote?id=12703679&amp;how=up&amp;goto=news'><div class='votearrow' title='upvote'></div></a></center></td><td class=\"title\"><a href=\"http://stackshare.io/match?ref=hackernews\" class=\"storylink\">Show HN: Stack Match – Find engineering jobs that match your preferred stack</a><span class=\"sitebit comhead\"> (<a href=\"from?site=stackshare.io\"><span class=\"sitestr\">stackshare.io</span></a>)</span></td></tr><tr><td colspan=\"2\"></td><td class=\"subtext\">\n",
       "        <span class=\"score\" id=\"score_12703679\">115 points</span> by <a href=\"user?id=yonasb\" class=\"hnuser\">yonasb</a> <span class=\"age\"><a href=\"item?id=12703679\">16 hours ago</a></span> <span id=\"unv_12703679\"></span> | <a href=\"hide?id=12703679&amp;goto=news\">hide</a> | <a href=\"item?id=12703679\">26&nbsp;comments</a>              </td></tr>\n",
       "      <tr class=\"spacer\" style=\"height:5px\"></tr>\n",
       "                <tr class='athing' id='12702252'>\n",
       "      <td align=\"right\" valign=\"top\" class=\"title\"><span class=\"rank\">28.</span></td>      <td valign=\"top\" class=\"votelinks\"><center><a id='up_12702252' href='vote?id=12702252&amp;how=up&amp;goto=news'><div class='votearrow' title='upvote'></div></a></center></td><td class=\"title\"><a href=\"https://downloads.globalsign.com/acton/fs/blocks/showLandingPage/a/2674/p/p-008f/t/page/fm/0\" class=\"storylink\">Certificate Revocation Issue</a><span class=\"sitebit comhead\"> (<a href=\"from?site=globalsign.com\"><span class=\"sitestr\">globalsign.com</span></a>)</span></td></tr><tr><td colspan=\"2\"></td><td class=\"subtext\">\n",
       "        <span class=\"score\" id=\"score_12702252\">173 points</span> by <a href=\"user?id=directionless\" class=\"hnuser\">directionless</a> <span class=\"age\"><a href=\"item?id=12702252\">19 hours ago</a></span> <span id=\"unv_12702252\"></span> | <a href=\"hide?id=12702252&amp;goto=news\">hide</a> | <a href=\"item?id=12702252\">75&nbsp;comments</a>              </td></tr>\n",
       "      <tr class=\"spacer\" style=\"height:5px\"></tr>\n",
       "                <tr class='athing' id='12704574'>\n",
       "      <td align=\"right\" valign=\"top\" class=\"title\"><span class=\"rank\">29.</span></td>      <td valign=\"top\" class=\"votelinks\"><center><a id='up_12704574' href='vote?id=12704574&amp;how=up&amp;goto=news'><div class='votearrow' title='upvote'></div></a></center></td><td class=\"title\"><a href=\"https://www.washingtonpost.com/news/the-switch/wp/2016/10/13/verizon-just-raised-a-big-warning-flag-for-yahoo/\" class=\"storylink\">Verizon just raised a big warning flag for Yahoo</a><span class=\"sitebit comhead\"> (<a href=\"from?site=washingtonpost.com\"><span class=\"sitestr\">washingtonpost.com</span></a>)</span></td></tr><tr><td colspan=\"2\"></td><td class=\"subtext\">\n",
       "        <span class=\"score\" id=\"score_12704574\">60 points</span> by <a href=\"user?id=phrogdriver\" class=\"hnuser\">phrogdriver</a> <span class=\"age\"><a href=\"item?id=12704574\">14 hours ago</a></span> <span id=\"unv_12704574\"></span> | <a href=\"hide?id=12704574&amp;goto=news\">hide</a> | <a href=\"item?id=12704574\">35&nbsp;comments</a>              </td></tr>\n",
       "      <tr class=\"spacer\" style=\"height:5px\"></tr>\n",
       "                <tr class='athing' id='12703125'>\n",
       "      <td align=\"right\" valign=\"top\" class=\"title\"><span class=\"rank\">30.</span></td>      <td valign=\"top\" class=\"votelinks\"><center><a id='up_12703125' href='vote?id=12703125&amp;how=up&amp;goto=news'><div class='votearrow' title='upvote'></div></a></center></td><td class=\"title\"><a href=\"https://learnrelay.org/\" class=\"storylink\">Learn Relay – A comprehensive introduction to Relay and GraphQL</a><span class=\"sitebit comhead\"> (<a href=\"from?site=learnrelay.org\"><span class=\"sitestr\">learnrelay.org</span></a>)</span></td></tr><tr><td colspan=\"2\"></td><td class=\"subtext\">\n",
       "        <span class=\"score\" id=\"score_12703125\">109 points</span> by <a href=\"user?id=schickling\" class=\"hnuser\">schickling</a> <span class=\"age\"><a href=\"item?id=12703125\">17 hours ago</a></span> <span id=\"unv_12703125\"></span> | <a href=\"hide?id=12703125&amp;goto=news\">hide</a> | <a href=\"item?id=12703125\">23&nbsp;comments</a>              </td></tr>\n",
       "      <tr class=\"spacer\" style=\"height:5px\"></tr>\n",
       "            <tr class=\"morespace\" style=\"height:10px\"></tr><tr><td colspan=\"2\"></td><td class=\"title\"><a href=\"news?p=2\" class=\"morelink\" rel=\"nofollow\">More</a></td></tr>\n",
       "  </table>\n",
       "</td></tr>\n",
       "<tr><td><img src=\"s.gif\" height=\"10\" width=\"0\"><table width=\"100%\" cellspacing=\"0\" cellpadding=\"1\"><tr><td bgcolor=\"#ff6600\"></td></tr></table><br><center><span class=\"yclinks\"><a href=\"newsguidelines.html\">Guidelines</a>\n",
       "        | <a href=\"newsfaq.html\">FAQ</a>\n",
       "        | <a href=\"mailto:hn@ycombinator.com\">Support</a>\n",
       "        | <a href=\"https://github.com/HackerNews/API\">API</a>\n",
       "        | <a href=\"security.html\">Security</a>\n",
       "        | <a href=\"lists\">Lists</a>\n",
       "        | <a href=\"bookmarklet.html\">Bookmarklet</a>\n",
       "        | <a href=\"dmca.html\">DMCA</a>\n",
       "        | <a href=\"http://www.ycombinator.com/apply/\">Apply to YC</a>\n",
       "        | <a href=\"mailto:hn@ycombinator.com\">Contact</a></span><br><br><form method=\"get\" action=\"//hn.algolia.com/\">Search:\n",
       "          <input type=\"text\" name=\"q\" value=\"\" size=\"17\" autocorrect=\"off\" spellcheck=\"false\" autocapitalize=\"off\" autocomplete=\"false\"></form>\n",
       "            </center></td></tr>      </table></center></body><script type='text/javascript' src='hn.js?0jKc9Keyn2Zl7D1UAQcy'></script></html>\n"
      ],
      "text/plain": [
       "<IPython.core.display.HTML object>"
      ]
     },
     "execution_count": 5,
     "metadata": {},
     "output_type": "execute_result"
    }
   ],
   "source": [
    "from IPython.core.display import HTML\n",
    "HTML(r.content.decode('utf-8'))"
   ]
  },
  {
   "cell_type": "markdown",
   "metadata": {
    "collapsed": false,
    "scrolled": true,
    "slideshow": {
     "slide_type": "slide"
    }
   },
   "source": [
    "## Exercise\n",
    "\n",
    "- Using the requests library, retrieve a wepage of your choosing with a GET request\n",
    "- Examine the response code, the headers, and the content\n",
    "- Use ```IPython.core.display's HTML()``` to display the page in your notebook \n",
    "- Compare the results with the actual page you requested in your browser"
   ]
  },
  {
   "cell_type": "code",
   "execution_count": 22,
   "metadata": {
    "collapsed": false
   },
   "outputs": [
    {
     "data": {
      "text/html": [
       "<!doctype html><html xmlns=\"http://www.w3.org/1999/xhtml\" lang=\"en\" xml:lang=\"en\"><head><title>reddit: the front page of the internet</title><meta name=\"keywords\" content=\" reddit, reddit.com, vote, comment, submit \" /><meta name=\"description\" content=\"reddit: the front page of the internet\" /><meta name=\"referrer\" content=\"always\"><meta http-equiv=\"Content-Type\" content=\"text/html; charset=UTF-8\" /><link rel=\"canonical\" href=\"https://www.reddit.com/\" /><link rel=\"alternate\" media=\"only screen and (max-width: 640px)\" href=\"https://m.reddit.com/\" /><meta name=\"viewport\" content=\"width=1024\"><link rel=\"dns-prefetch\" href=\"//out.reddit.com\"><link rel=\"preconnect\" href=\"//out.reddit.com\"><link rel='icon' href=\"//www.redditstatic.com/icon.png\" sizes=\"256x256\" type=\"image/png\" /><link rel='shortcut icon' href=\"//www.redditstatic.com/favicon.ico\" type=\"image/x-icon\" /><link rel='apple-touch-icon-precomposed' href=\"//www.redditstatic.com/icon-touch.png\" /><link rel=\"alternate\" type=\"application/atom+xml\" title=\"RSS\" href=\"https://www.reddit.com/.rss\" /><link rel=\"stylesheet\" type=\"text/css\" href=\"//www.redditstatic.com/reddit.z5gfnYi5SEY.css\" media=\"all\"><link rel=\"stylesheet\" type=\"text/css\" href=\"//www.redditstatic.com/expando.08hOMVzoQuQ.css\" media=\"all\"><!--[if gte IE 8]><!--><!--<![endif]--><!--[if gte IE 9]><!--><script type=\"text/javascript\" src=\"//www.redditstatic.com/reddit-init.en.62JQU9s19Uw.js\"></script><!--<![endif]--><!--[if lt IE 9]><script type=\"text/javascript\" src=\"//www.redditstatic.com/reddit-init-legacy.en.H9Di4IhgUak.js\"></script><![endif]--><script type=\"text/javascript\" id=\"config\">r.setup({\"ajax_domain\": \"www.reddit.com\", \"is_fake\": true, \"server_time\": 1476385970.0, \"post_site\": \"\", \"clicktracker_url\": \"//pixel.redditmedia.com/click\", \"pref_no_profanity\": true, \"renderstyle\": \"html\", \"requires_eu_cookie_policy\": false, \"nsfw_media_acknowledged\": false, \"stats_domain\": \"https://stats.redditmedia.com\", \"pref_email_messages\": false, \"user_websocket_url\": null, \"cur_domain\": \"reddit.com\", \"feature_new_report_dialog\": true, \"events_collector_url\": \"https://events.redditmedia.com/v1\", \"feature_expando_events\": true, \"is_sponsor\": false, \"feature_frontall_100previews\": null, \"https_forced\": true, \"user_in_timeout\": false, \"user_id\": false, \"eventtracker_url\": \"//pixel.redditmedia.com/pixel/of_delight.png\", \"ad_serving_events_sample_rate\": 1.0, \"poisoning_canary\": null, \"logged\": false, \"feature_outbound_beacons\": false, \"ads_loading_timeout_ms\": 5000, \"over_18\": false, \"vote_hash\": \"iqN3iVYILNhsH2dIy1ho8mFKanbJ3Cyo/My5H2yvybKcFW6nSCEFC6yIx0YfzOx/3IbTvr6qWVeZJTF28qJXwLRvFdtrXVCzFD/I/fYYYSRxqI4EOdbtyejQoXaEn3eaLkgvvOK4IibiW2LTMRWTergT1LYEXEVAdIg24X5CaP4=\", \"poisoning_report_mac\": null, \"feature_ads_user_matching\": false, \"events_collector_secret\": \"thiiM0ahsieSiech1phithe6chahngoo8sah6aid\\n\", \"adtracker_url\": \"//pixel.redditmedia.com/pixel/of_doom.png\", \"events_collector_key\": \"RedditFrontend1\", \"live_orangereds_pref\": true, \"feature_post_embed\": true, \"feature_mobile_native_banner\": true, \"uitracker_url\": \"//pixel.redditmedia.com/pixel/of_discovery.png\", \"cache_policy\": \"loggedout_www\", \"facebook_app_id\": \"322647334569188\", \"share_tracking_ts\": 1476385970944, \"modhash\": \"\", \"feature_flatlist_events\": false, \"store_visits\": false, \"feature_frontpage_tagline\": false, \"anon_eventtracker_url\": \"//pixel.redditmedia.com/pixel/of_diversity.png\", \"media_domain\": \"www.redditmedia.com\", \"pref_beta\": false, \"share_tracking_hmac\": null, \"feature_double_sidebar\": false, \"feature_lazy_load_listings\": false, \"send_logs\": true, \"gold\": false, \"eu_cookie_max_attempts\": 3, \"listing_over_18\": false, \"pageInfo\": {\"actionName\": \"hot.GET_listing\", \"statsVerification\": \"adfad553bf3b6c42e703170c536073e9c1f952f0\", \"verification\": \"adfad553bf3b6c42e703170c536073e9c1f952f0\", \"statsName\": \"hot.GET_listing\"}, \"mweb_blacklist_expressions\": [\"^/prefs/?\", \"^/live/?\", \"/message/compose\", \"/m/\", \"^/subreddits/create\", \"^/gold\", \"^/advertising\", \"^/promoted\", \"^/buttons\"], \"https_endpoint\": \"https://www.reddit.com\", \"static_root\": \"//www.redditstatic.com\", \"extension\": null, \"feature_screenview_events\": true, \"cur_listing\": \"frontpage\", \"email_verified\": false, \"status_msg\": {\"fetching\": \"fetching title...\", \"loading\": \"loading...\", \"submitting\": \"submitting...\"}, \"cur_site\": \"\", \"stats_sample_rate\": \"5\", \"new_window\": false, \"event_target\": {\"target_type\": \"listing\", \"target_sort\": \"hot\"}, \"tracker_url\": \"//pixel.redditmedia.com/pixel/of_destiny.png?v=IGrafuOdfHJPSuxIPI2LUHCYw1p9uKyA36LU2GH%2B5jvRRz8aj7JGfAUOun8X9foQZE0ABb1hKWevhJHBviOp94v%2ByP1KNmP8\", \"eu_cookie\": \"eu_cookie\", \"expando_preference\": \"subreddit_default\", \"debug\": false, \"has_subscribed\": false, \"feature_scroll_events\": true})</script><style type=\"text/css\">/* Custom css: use this block to insert special translation-dependent css in the page header */</style><script type=\"text/javascript\">if (!window.DO_NOT_TRACK) { window.user_type = 'guest'; window.is_gold_page = 'False'.toLowerCase() === 'true'; }</script><script type=\"text/javascript\">if (!window.DO_NOT_TRACK) { var _gaq = _gaq || []; _gaq.push( ['_require', 'inpage_linkid', '//www.google-analytics.com/plugins/ga/inpage_linkid.js'], ['_setAccount', 'UA-12131688-1'], ['_setDomainName', 'reddit.com'], ['_setCustomVar', 1, 'site', ' reddit.com', 3], ['_setCustomVar', 2, 'srpath', ' reddit.com-GET_listing', 3], ['_setCustomVar', 3, 'usertype', user_type, 2], ['_setCustomVar', 4, 'uitype', 'web', 3], ['_setCustomVar', 5, 'style_override', '', 2], ['_setSampleRate', '10'], ['_trackPageview'] ); (function() { var ga = document.createElement('script'); ga.type = 'text/javascript'; ga.async = true; ga.src = ('https:' == document.location.protocol ? 'https://ssl' : 'http://www') + '.google-analytics.com/ga.js'; var s = document.getElementsByTagName('script')[0]; s.parentNode.insertBefore(ga, s); })(); }</script><script type=\"text/javascript\">if (!window.DO_NOT_TRACK) { (function(i,s,o,g,r,a,m){i['GoogleAnalyticsObject']=r;i[r]=i[r]||function(){ (i[r].q=i[r].q||[]).push(arguments)},i[r].l=1*new Date();a=s.createElement(o), m=s.getElementsByTagName(o)[0];a.async=1;a.src=g;m.parentNode.insertBefore(a,m) })(window,document,'script','//www.google-analytics.com/analytics.js','_ga'); window._ga('create', 'UA-12131688-9', { 'name': 'goldTracker', 'cookieDomain': 'reddit.com', '1': ' reddit.com', '2': ' reddit.com-GET_listing', '3': window.user_type, '4': 'web', 'sampleRate': 100 }); if (window.is_gold_page) { window._ga('goldTracker.send', 'pageview'); } }</script></head><body class=\"listing-page hot-page front-page\" ><div class=\"GoogleAd HomeAds InArticleAd LeftAd SidebarAd ad-300-250 ad-banner adbar adbox1 ads-area adsense-ad box_ad googad\" id=\"adblock-test\"></div><script>if (!window.DO_NOT_TRACK) { var frame = document.createElement('iframe'); frame.style.display = 'none'; frame.referrer = 'no-referrer'; frame.id = 'gtm-jail'; frame.name = JSON.stringify({ subreddit: r.config.post_site, origin: location.origin, url: location.href, userMatching: r.config.feature_ads_user_matching, }); frame.src = '//' + \"www.redditmedia.com\" + '/gtm/jail?cb=' + \"8CqR7FcToPI\"; document.body.appendChild(frame); }</script><script>if (!window.DO_NOT_TRACK) { var mf = document.createElement('script'); mf.type = 'text/javascript'; mf.async = true; mf.src = \"//www.redditstatic.com/moat/moatframe.js\"; var s = document.getElementsByTagName('script')[0]; s.parentNode.insertBefore(mf, s); }</script><div id=\"header\" role=\"banner\"><a tabindex=\"1\" href=\"#content\" id=\"jumpToContent\">jump to content</a><div id=\"sr-header-area\"><div class=\"width-clip\"><div class=\"dropdown srdrop\" onclick=\"open_menu(this)\"><span class=\"selected title\">my subreddits</span></div><div class=\"drop-choices srdrop\"><a href=\"https://www.reddit.com/r/announcements/\" class=\"choice\" >announcements</a><a href=\"https://www.reddit.com/r/Art/\" class=\"choice\" >Art</a><a href=\"https://www.reddit.com/r/AskReddit/\" class=\"choice\" >AskReddit</a><a href=\"https://www.reddit.com/r/askscience/\" class=\"choice\" >askscience</a><a href=\"https://www.reddit.com/r/aww/\" class=\"choice\" >aww</a><a href=\"https://www.reddit.com/r/blog/\" class=\"choice\" >blog</a><a href=\"https://www.reddit.com/r/books/\" class=\"choice\" >books</a><a href=\"https://www.reddit.com/r/creepy/\" class=\"choice\" >creepy</a><a href=\"https://www.reddit.com/r/dataisbeautiful/\" class=\"choice\" >dataisbeautiful</a><a href=\"https://www.reddit.com/r/DIY/\" class=\"choice\" >DIY</a><a href=\"https://www.reddit.com/r/Documentaries/\" class=\"choice\" >Documentaries</a><a href=\"https://www.reddit.com/r/EarthPorn/\" class=\"choice\" >EarthPorn</a><a href=\"https://www.reddit.com/r/explainlikeimfive/\" class=\"choice\" >explainlikeimfive</a><a href=\"https://www.reddit.com/r/food/\" class=\"choice\" >food</a><a href=\"https://www.reddit.com/r/funny/\" class=\"choice\" >funny</a><a href=\"https://www.reddit.com/r/Futurology/\" class=\"choice\" >Futurology</a><a href=\"https://www.reddit.com/r/gadgets/\" class=\"choice\" >gadgets</a><a href=\"https://www.reddit.com/r/gaming/\" class=\"choice\" >gaming</a><a href=\"https://www.reddit.com/r/GetMotivated/\" class=\"choice\" >GetMotivated</a><a href=\"https://www.reddit.com/r/gifs/\" class=\"choice\" >gifs</a><a href=\"https://www.reddit.com/r/history/\" class=\"choice\" >history</a><a href=\"https://www.reddit.com/r/IAmA/\" class=\"choice\" >IAmA</a><a href=\"https://www.reddit.com/r/InternetIsBeautiful/\" class=\"choice\" >InternetIsBeautiful</a><a href=\"https://www.reddit.com/r/Jokes/\" class=\"choice\" >Jokes</a><a href=\"https://www.reddit.com/r/LifeProTips/\" class=\"choice\" >LifeProTips</a><a href=\"https://www.reddit.com/r/listentothis/\" class=\"choice\" >listentothis</a><a href=\"https://www.reddit.com/r/mildlyinteresting/\" class=\"choice\" >mildlyinteresting</a><a href=\"https://www.reddit.com/r/movies/\" class=\"choice\" >movies</a><a href=\"https://www.reddit.com/r/Music/\" class=\"choice\" >Music</a><a href=\"https://www.reddit.com/r/news/\" class=\"choice\" >news</a><a href=\"https://www.reddit.com/r/nosleep/\" class=\"choice\" >nosleep</a><a href=\"https://www.reddit.com/r/nottheonion/\" class=\"choice\" >nottheonion</a><a href=\"https://www.reddit.com/r/OldSchoolCool/\" class=\"choice\" >OldSchoolCool</a><a href=\"https://www.reddit.com/r/personalfinance/\" class=\"choice\" >personalfinance</a><a href=\"https://www.reddit.com/r/philosophy/\" class=\"choice\" >philosophy</a><a href=\"https://www.reddit.com/r/photoshopbattles/\" class=\"choice\" >photoshopbattles</a><a href=\"https://www.reddit.com/r/pics/\" class=\"choice\" >pics</a><a href=\"https://www.reddit.com/r/science/\" class=\"choice\" >science</a><a href=\"https://www.reddit.com/r/Showerthoughts/\" class=\"choice\" >Showerthoughts</a><a href=\"https://www.reddit.com/r/space/\" class=\"choice\" >space</a><a href=\"https://www.reddit.com/r/sports/\" class=\"choice\" >sports</a><a href=\"https://www.reddit.com/r/television/\" class=\"choice\" >television</a><a href=\"https://www.reddit.com/r/tifu/\" class=\"choice\" >tifu</a><a href=\"https://www.reddit.com/r/todayilearned/\" class=\"choice\" >todayilearned</a><a href=\"https://www.reddit.com/r/TwoXChromosomes/\" class=\"choice\" >TwoXChromosomes</a><a href=\"https://www.reddit.com/r/UpliftingNews/\" class=\"choice\" >UpliftingNews</a><a href=\"https://www.reddit.com/r/videos/\" class=\"choice\" >videos</a><a href=\"https://www.reddit.com/r/worldnews/\" class=\"choice\" >worldnews</a><a href=\"https://www.reddit.com/r/WritingPrompts/\" class=\"choice\" >WritingPrompts</a><a href=\"https://www.reddit.com/subreddits/\" class=\"bottom-option choice\" >edit subscriptions</a></div><div class=\"sr-list\"><ul class=\"flat-list sr-bar hover\" ><li class='selected'><a href=\"https://www.reddit.com/\" class=\"choice\" >front</a></li><li ><span class=\"separator\">-</span><a href=\"https://www.reddit.com/r/all\" class=\"choice\" >all</a></li><li ><span class=\"separator\">-</span><a href=\"https://www.reddit.com/r/random/\" class=\"random choice\" >random</a></li></ul><span class=\"separator\">&nbsp;|&nbsp;</span><ul class=\"flat-list sr-bar hover\" id='sr-bar'><li ><a href=\"https://www.reddit.com/r/AskReddit/\" class=\"choice\" >AskReddit</a></li><li ><span class=\"separator\">-</span><a href=\"https://www.reddit.com/r/funny/\" class=\"choice\" >funny</a></li><li ><span class=\"separator\">-</span><a href=\"https://www.reddit.com/r/pics/\" class=\"choice\" >pics</a></li><li ><span class=\"separator\">-</span><a href=\"https://www.reddit.com/r/videos/\" class=\"choice\" >videos</a></li><li ><span class=\"separator\">-</span><a href=\"https://www.reddit.com/r/todayilearned/\" class=\"choice\" >todayilearned</a></li><li ><span class=\"separator\">-</span><a href=\"https://www.reddit.com/r/gifs/\" class=\"choice\" >gifs</a></li><li ><span class=\"separator\">-</span><a href=\"https://www.reddit.com/r/gaming/\" class=\"choice\" >gaming</a></li><li ><span class=\"separator\">-</span><a href=\"https://www.reddit.com/r/worldnews/\" class=\"choice\" >worldnews</a></li><li ><span class=\"separator\">-</span><a href=\"https://www.reddit.com/r/news/\" class=\"choice\" >news</a></li><li ><span class=\"separator\">-</span><a href=\"https://www.reddit.com/r/aww/\" class=\"choice\" >aww</a></li><li ><span class=\"separator\">-</span><a href=\"https://www.reddit.com/r/IAmA/\" class=\"choice\" >IAmA</a></li><li ><span class=\"separator\">-</span><a href=\"https://www.reddit.com/r/Showerthoughts/\" class=\"choice\" >Showerthoughts</a></li><li ><span class=\"separator\">-</span><a href=\"https://www.reddit.com/r/movies/\" class=\"choice\" >movies</a></li><li ><span class=\"separator\">-</span><a href=\"https://www.reddit.com/r/mildlyinteresting/\" class=\"choice\" >mildlyinteresting</a></li><li ><span class=\"separator\">-</span><a href=\"https://www.reddit.com/r/Jokes/\" class=\"choice\" >Jokes</a></li><li ><span class=\"separator\">-</span><a href=\"https://www.reddit.com/r/tifu/\" class=\"choice\" >tifu</a></li><li ><span class=\"separator\">-</span><a href=\"https://www.reddit.com/r/television/\" class=\"choice\" >television</a></li><li ><span class=\"separator\">-</span><a href=\"https://www.reddit.com/r/science/\" class=\"choice\" >science</a></li><li ><span class=\"separator\">-</span><a href=\"https://www.reddit.com/r/Futurology/\" class=\"choice\" >Futurology</a></li><li ><span class=\"separator\">-</span><a href=\"https://www.reddit.com/r/books/\" class=\"choice\" >books</a></li><li ><span class=\"separator\">-</span><a href=\"https://www.reddit.com/r/TwoXChromosomes/\" class=\"choice\" >TwoXChromosomes</a></li><li ><span class=\"separator\">-</span><a href=\"https://www.reddit.com/r/nottheonion/\" class=\"choice\" >nottheonion</a></li><li ><span class=\"separator\">-</span><a href=\"https://www.reddit.com/r/space/\" class=\"choice\" >space</a></li><li ><span class=\"separator\">-</span><a href=\"https://www.reddit.com/r/explainlikeimfive/\" class=\"choice\" >explainlikeimfive</a></li><li ><span class=\"separator\">-</span><a href=\"https://www.reddit.com/r/OldSchoolCool/\" class=\"choice\" >OldSchoolCool</a></li><li ><span class=\"separator\">-</span><a href=\"https://www.reddit.com/r/LifeProTips/\" class=\"choice\" >LifeProTips</a></li><li ><span class=\"separator\">-</span><a href=\"https://www.reddit.com/r/Art/\" class=\"choice\" >Art</a></li><li ><span class=\"separator\">-</span><a href=\"https://www.reddit.com/r/personalfinance/\" class=\"choice\" >personalfinance</a></li><li ><span class=\"separator\">-</span><a href=\"https://www.reddit.com/r/photoshopbattles/\" class=\"choice\" >photoshopbattles</a></li><li ><span class=\"separator\">-</span><a href=\"https://www.reddit.com/r/gadgets/\" class=\"choice\" >gadgets</a></li><li ><span class=\"separator\">-</span><a href=\"https://www.reddit.com/r/sports/\" class=\"choice\" >sports</a></li><li ><span class=\"separator\">-</span><a href=\"https://www.reddit.com/r/Music/\" class=\"choice\" >Music</a></li><li ><span class=\"separator\">-</span><a href=\"https://www.reddit.com/r/WritingPrompts/\" class=\"choice\" >WritingPrompts</a></li><li ><span class=\"separator\">-</span><a href=\"https://www.reddit.com/r/creepy/\" class=\"choice\" >creepy</a></li><li ><span class=\"separator\">-</span><a href=\"https://www.reddit.com/r/food/\" class=\"choice\" >food</a></li><li ><span class=\"separator\">-</span><a href=\"https://www.reddit.com/r/EarthPorn/\" class=\"choice\" >EarthPorn</a></li><li ><span class=\"separator\">-</span><a href=\"https://www.reddit.com/r/dataisbeautiful/\" class=\"choice\" >dataisbeautiful</a></li><li ><span class=\"separator\">-</span><a href=\"https://www.reddit.com/r/nosleep/\" class=\"choice\" >nosleep</a></li><li ><span class=\"separator\">-</span><a href=\"https://www.reddit.com/r/GetMotivated/\" class=\"choice\" >GetMotivated</a></li><li ><span class=\"separator\">-</span><a href=\"https://www.reddit.com/r/askscience/\" class=\"choice\" >askscience</a></li><li ><span class=\"separator\">-</span><a href=\"https://www.reddit.com/r/UpliftingNews/\" class=\"choice\" >UpliftingNews</a></li><li ><span class=\"separator\">-</span><a href=\"https://www.reddit.com/r/DIY/\" class=\"choice\" >DIY</a></li><li ><span class=\"separator\">-</span><a href=\"https://www.reddit.com/r/Documentaries/\" class=\"choice\" >Documentaries</a></li><li ><span class=\"separator\">-</span><a href=\"https://www.reddit.com/r/history/\" class=\"choice\" >history</a></li><li ><span class=\"separator\">-</span><a href=\"https://www.reddit.com/r/philosophy/\" class=\"choice\" >philosophy</a></li><li ><span class=\"separator\">-</span><a href=\"https://www.reddit.com/r/listentothis/\" class=\"choice\" >listentothis</a></li><li ><span class=\"separator\">-</span><a href=\"https://www.reddit.com/r/InternetIsBeautiful/\" class=\"choice\" >InternetIsBeautiful</a></li><li ><span class=\"separator\">-</span><a href=\"https://www.reddit.com/r/announcements/\" class=\"choice\" >announcements</a></li><li ><span class=\"separator\">-</span><a href=\"https://www.reddit.com/r/blog/\" class=\"choice\" >blog</a></li></ul></div><a href=\"https://www.reddit.com/subreddits/\" id=\"sr-more-link\" >more &raquo;</a></div></div><div id=\"header-bottom-left\"><a href=\"/\" id=\"header-img\" class=\"default-header\" title=\"\">reddit.com</a>&nbsp;<ul class=\"tabmenu \" ><li class='selected'><a href=\"https://www.reddit.com/\" class=\"choice\" >hot</a></li><li ><a href=\"https://www.reddit.com/new/\" class=\"choice\" >new</a></li><li ><a href=\"https://www.reddit.com/rising/\" class=\"choice\" >rising</a></li><li ><a href=\"https://www.reddit.com/controversial/\" class=\"choice\" >controversial</a></li><li ><a href=\"https://www.reddit.com/top/\" class=\"choice\" >top</a></li><li ><a href=\"https://www.reddit.com/gilded/\" class=\"choice\" >gilded</a></li><li ><a href=\"https://www.reddit.com/wiki/\" class=\"choice\" >wiki</a></li><li ><a href=\"https://www.reddit.com/ads/\" class=\"choice\" >promoted</a></li></ul></div><div id=\"header-bottom-right\"><span class=\"user\">Want to join?&#32;<a href=\"https://www.reddit.com/login\" class=\"login-required\" >Log in or sign up</a>&#32;in seconds.</span><span class=\"separator\">|</span><ul class=\"flat-list hover\" ><li ><a href=\"javascript:void(0)\" class=\"pref-lang choice\" onclick=\"return showlang();\" >English</a></li></ul></div></div><div class=\"side\"><div class='spacer'><form action=\"https://www.reddit.com/search\" id=\"search\" role=\"search\"><input type=\"text\" name=\"q\" placeholder=\"search\" tabindex=\"20\"><input type=\"submit\" value=\"\" tabindex=\"22\"><div id=\"searchexpando\" class=\"infobar\"><div id=\"moresearchinfo\"><p>use the following search parameters to narrow your results:</p><dl><dt>subreddit:<i>subreddit</i></dt><dd>find submissions in &quot;subreddit&quot;</dd><dt>author:<i>username</i></dt><dd>find submissions by &quot;username&quot;</dd><dt>site:<i>example.com</i></dt><dd>find submissions from &quot;example.com&quot;</dd><dt>url:<i>text</i></dt><dd>search for &quot;text&quot; in url</dd><dt>selftext:<i>text</i></dt><dd>search for &quot;text&quot; in self post contents</dd><dt>self:yes (or self:no)</dt><dd>include (or exclude) self posts</dd><dt>nsfw:yes (or nsfw:no)</dt><dd>include (or exclude) results marked as NSFW</dd></dl><p>e.g.&#32;<code>subreddit:aww site:imgur.com dog</code></p><p><a href=\"https://www.reddit.com/wiki/search\">see the search faq for details.</a></p></div><p><a href=\"https://www.reddit.com/wiki/search\" id=\"search_showmore\">advanced search: by author, subreddit...</a></p></div></form></div><div class='spacer'><form method=\"post\" action=\"https://www.reddit.com/post/login\" id=\"login_login-main\" class=\"login-form login-form-side\"><input type=\"hidden\" name=\"op\" value=\"login-main\" /><input name=\"user\" placeholder=\"username\" type=\"text\" maxlength=\"20\" tabindex=\"1\"/><input name=\"passwd\" placeholder=\"password\" type=\"password\" tabindex=\"1\"/><div class=\"g-recaptcha\" data-sitekey=\"6LeTnxkTAAAAAN9QEuDZRpn90WwKk_R1TRW_g-JC\"></div><div class=\"status\"></div><div id=\"remember-me\"><input type=\"checkbox\" name=\"rem\" id=\"rem-login-main\" tabindex=\"1\" /><label for=\"rem-login-main\">remember me</label><a class=\"recover-password\" href=\"/password\">reset password</a></div><div class=\"submit\"><span class=\"throbber\"></span><button class=\"btn\" type=\"submit\" tabindex=\"1\">login</button></div><div class=\"clear\"></div></form></div><div class='spacer'><div class=\"sponsorshipbox\"></div></div><div class='spacer'><div class=\"sidebox submit submit-link\"><div class=\"morelink\"><a href=\"https://www.reddit.com/submit\" data-event-action=\"submit\" data-type=\"subreddit\" data-event-detail=\"link\" class=\"login-required access-required\" target=\"_top\" >Submit a new link</a><div class=\"nub\"></div></div></div></div><div class='spacer'><div class=\"sidebox submit submit-text\"><div class=\"morelink\"><a href=\"https://www.reddit.com/submit?selftext=true\" data-event-action=\"submit\" data-type=\"subreddit\" data-event-detail=\"self\" class=\"login-required access-required\" target=\"_top\" >Submit a new text post</a><div class=\"nub\"></div></div></div></div><div class='spacer'><div id=\"ad_main\" class=\"ad300x250\"></div><script>r.hooks.get('reddit').register(function() { var timeout, adLoaded = false; var age; if (!r.config.logged) { var loidcreated = r.cookies.get('loidcreated'); if (loidcreated) { age = Math.floor((new Date() - new Date(loidcreated)) / (1000 * 60 * 60)); } } r.frames.listen('adzerk'); r.frames.receiveMessage('request.adzerk', function(e) { var data = e.detail; r.analytics.adServingEvent('ad_request', data); }); r.frames.receiveMessage('response.adzerk', function(e) { var data = e.detail; r.analytics.adServingEvent('ad_response', data); }); function parseJSONHash(hash) { var PREFIX = '{%22'; var json = hash.replace(/^#/, ''); var isEncoded = json.indexOf(PREFIX) === 0; if (isEncoded) { json = decodeURIComponent(json); } try { return JSON.parse(json); } catch (e) { return {}; } } function loadAd() { if (timeout) { clearTimeout(timeout); } if (adLoaded) { return; } adLoaded = true; var frame_id = \"ad_main\"; var $ad = $('#' + frame_id); var iframe = document.createElement('iframe'); var parser = document.createElement('a'); parser.href = \"//www.redditmedia.com/ads/display/300x250#{\\\"keywords\\\": [\\\"k.star wars rogue one\\\", \\\"s.brandlift.google\\\", \\\"s.frontpage\\\", \\\"k.news\\\", \\\"k.star\\\", \\\"s.programmatic\\\", \\\"s.brandlift.wow\\\", \\\"s.loggedout\\\", \\\"s.sfw\\\", \\\"k.star wars\\\"], \\\"origin\\\": \\\"https://www.reddit.com\\\", \\\"properties\\\": {\\\"percentage\\\": 75, \\\"full_url\\\": \\\"https://www.reddit.com/\\\"}}\"; var data = parseJSONHash(parser.hash); data.properties = data.properties || {}; if (!r.config.logged) { data.properties.age_hours = age; } if (r.config.feature_double_sidebar) { data.properties.double_sidebar = true; } data.properties.adblock = r.utils.getAdblockLevel(); data.properties.frame_id = frame_id; var pageType; if (/^(\\/(hot|new|rising|controversial|top))?(\\/)?$/.test(location.pathname)) { pageType = 'frontpage-listing'; } else if (/^\\/r\\/[^\\/]+(\\/(hot|new|rising|controversial|top))?(\\/)?$/.test(location.pathname)) { pageType = 'subreddit-listing'; } else if ($('body').hasClass('comments-page')) { pageType = 'comments'; } else if ($('body').hasClass('listing-page')) { pageType = 'listing'; } if (pageType) { data.properties.pageType = pageType; } parser.hash = JSON.stringify(data); iframe.frameborder = 0; iframe.scrolling = 'no'; iframe.name = frame_id; iframe.src = parser.href; iframe.style.border = '0'; iframe.style.height = '100%'; iframe.style.width = '100%'; if (!$ad.length) { return; } $ad.get(0).appendChild(iframe); if ($ad.height() === 0 || $ad.width() === 0 || $ad.offset().left === 0) { r.analytics.adblockEvent('banners'); $('.footer').append( '<img alt=\"\" src=\"' + \"//pixel.redditmedia.com/pixel/of_defenestration.png?v=tiezb8o2s5WM9rI9Sc8vAzZQJu7bs%2BQhYXxEq0SSt28iRddsaR5dF%2BEcmiDHWG5rtilyQM1ZLC0gAcCiwMLXLQq28znwHn%2FQ\\u0026hash=adblock0e31bc319d5b5882b0cddf147f4ce1da5ac9c731\\u0026id=adblock\" + '&random=' + (Math.random() * 10000000000000000) + '\"/>' ); } } var frame_id = \"ad_main\"; /* Start loading ad if it's the main ad, otherwise wait for main ad to finish requesting ads from Adzerk. */ if (frame_id === 'ad_main'){ timeout = setTimeout(loadAd, 500); if (r.config.feature_ads_user_matching && !window.DO_NOT_TRACK) { r.frames.receiveMessageOnce('userMatched.gtm', loadAd); } else { loadAd(); } } else if (frame_id === 'ad_main_top') { window.loadAd = loadAd; $(window).on('message', function(e) { e = e.originalEvent; if (!new RegExp('^http(s)?:\\\\/\\\\/' + r.config.media_domain, 'i').test(e.origin)) { return; } var data = e.data; if (typeof data === 'string') { var message = data.split(':'); if (message[0] == 'ados.createAdFrame' && message[1] == 'top') { loadAd(); } } }); } });</script></div><div class='spacer'><div class=\"goldvertisement \"><div class=\"inner\"><h2 >daily reddit gold goal</h2><div class=\"progress\"><p>45%</p><div class=\"bar\"><span style=\"width: 45%\"></span></div></div><a href=\"/gold?goldtype=code&amp;source=progressbar\" target=\"_blank\">help support reddit</a><div class=\"gold-bubble hover-bubble help-bubble anchor-top-centered\"><p><span class=\"gold-branding\">reddit gold</span>&#32;gives you extra features and helps keep our servers running. We believe the more reddit can be user-supported, the freer we will be to make reddit the best it can be.</p><p class=\"buy-gold\">Buy gold for yourself to gain access to&#32;<a href=\"/gold/about\" target=\"_blank\">extra features</a>&#32;and&#32;<a href=\"/r/goldbenefits\" target=\"_blank\">special benefits</a>. A month of gold pays for &#32;<b>231.26 minutes</b>&#32;of reddit server time!</p><p class=\"give-gold\">Give gold to thank exemplary people and encourage them to post more.</p><p class=\"aside\">This daily goal updates every 10 minutes and is reset at midnight&#32;<a target=\"_blank\" href=\"https://en.wikipedia.org/wiki/Pacific_Time_Zone\">Pacific Time</a>&#32; (11 hours, 47 minutes from now).</p><div class=\"history\"><p >Yesterday's reddit gold goal</p><div class=\"progress\"><p>94%</p><div class=\"bar\"><span style=\"width: 94%\"></span></div></div></div></div></div></div></div></div><a name=\"content\"></a><div class=\"content\" role=\"main\"><section hidden class=\"infobar newsletterbar newsletter-container\"><header><h1 class=\"subscribe-callout\"><a href=\"/newsletter\"><img src=\"//www.redditstatic.com/subscribe-header.svg\" alt=\"subscribe to our newsletter\"></a></h1><div class=\"subscribe-thanks\"><img src=\"//www.redditstatic.com/subscribe-header-thanks.svg\" alt=\"_('thanks for subscribing')\" /></div><h2 class=\"result-message\">get the best of reddit, delivered once a week</h2></header><form class=\"newsletter-signup form-v2 c-form-inline\" method=\"post\" action=\"https://www.reddit.com/api/newsletter.json\"><input type=\"hidden\" name=\"uh\" value=\"\" /><input type=\"hidden\" name=\"source\" value=\"newsletterbar\"><div class=\"c-form-group \"><label for=\"email\" class=\"screenreader-only\">email:</label><input value=\"\" name=\"email\" class=\"c-form-control\" type=\"email\" placeholder=\"enter your email\" data-validate-url=\"/api/check_email.json\" data-validate-on=\"change blur\"><div class=\"c-form-control-feedback-wrapper inside-input\"><span class=\"c-form-control-feedback c-form-control-feedback-throbber\"></span><span class=\"c-form-control-feedback c-form-control-feedback-error\" title=\"\"></span><span class=\"c-form-control-feedback c-form-control-feedback-success\"></span></div></div><button type=\"submit\" class=\"c-btn c-btn-highlight\">subscribe</button><br/><div class=\"c-form-group \"><div class=\"g-recaptcha\" data-sitekey=\"6LeTnxkTAAAAAN9QEuDZRpn90WwKk_R1TRW_g-JC\"></div><div class=\"c-form-control-feedback-wrapper inside-input\"><span class=\"c-form-control-feedback c-form-control-feedback-throbber\"></span><span class=\"c-form-control-feedback c-form-control-feedback-error\" title=\"\"></span><span class=\"c-form-control-feedback c-form-control-feedback-success\"></span></div></div></form><a href=\"#\" class=\"newsletter-close\" title=\"close\">&times;</a></section><div class='spacer'><div id=\"siteTable_organic\" class=\"organic-listing loading\" ><div class=\" thing id-t3_57bzxy odd&#32; link self\" id=\"thing_t3_57bzxy\" style='display:none' onclick=\"click_thing(this)\" data-fullname=\"t3_57bzxy\" data-type=\"link\" data-author=\"dankT3\" data-author-fullname=\"t2_zc7e1\" data-subreddit=\"AskReddit\" data-subreddit-fullname=\"t5_2qh1i\" data-timestamp=\"1476385311000\" data-url=\"/r/AskReddit/comments/57bzxy/what_did_you_think_youd_be_better_at_by_now/\" data-domain=\"self.AskReddit\" data-rank=\"\" ><p class=\"parent\"></p><span class=\"rank\"></span><div class=\"midcol unvoted\" ><div class=\"arrow up login-required access-required\" data-event-action=\"upvote\" role=\"button\" aria-label=\"upvote\" tabindex=\"0\" ></div><div class=\"score likes\">&bull;</div><div class=\"score unvoted\">&bull;</div><div class=\"score dislikes\">&bull;</div><div class=\"arrow down login-required access-required\" data-event-action=\"downvote\" role=\"button\" aria-label=\"downvote\" tabindex=\"0\" ></div></div><a class=\"thumbnail self may-blank \" href=\"/r/AskReddit/comments/57bzxy/what_did_you_think_youd_be_better_at_by_now/\" rel=\"nofollow\" ></a><div class=\"entry unvoted\"><p class=\"title\"><a class=\"title may-blank \" href=\"/r/AskReddit/comments/57bzxy/what_did_you_think_youd_be_better_at_by_now/\" tabindex=\"1\" rel=\"nofollow\" >What did you think you'd be better at by now?</a>&#32;<span class=\"domain\">(<a href=\"/r/AskReddit/\">self.AskReddit</a>)</span></p><p class=\"tagline \">submitted&#32;<time title=\"Thu Oct 13 19:01:51 2016 UTC\" datetime=\"2016-10-13T19:01:51+00:00\" class=\"live-timestamp\">10 minutes ago</time>&#32;by&#32;<a href=\"https://www.reddit.com/user/dankT3\" class=\"author may-blank id-t2_zc7e1\" >dankT3</a><span class=\"userattrs\"></span>&#32;to&#32;<a href=\"https://www.reddit.com/r/AskReddit/\" class=\"subreddit hover may-blank\" >/r/AskReddit</a></p><ul class=\"flat-list buttons\"><li class=\"first\"><a href=\"https://www.reddit.com/r/AskReddit/comments/57bzxy/what_did_you_think_youd_be_better_at_by_now/\" data-event-action=\"comments\" class=\"bylink comments may-blank\" rel=\"nofollow\" >9 comments</a></li><li class=\"share\"><a class=\"post-sharing-button\" href=\"javascript: void 0;\">share</a></li></ul><div class=\"reportform report-t3_57bzxy\"></div><div class=\"expando expando-uninitialized\" style='display: none' ><span class=\"error\">loading...</span></div></div><div class=\"child\" ></div><div class=\"clearleft\"></div></div><div class=\"clearleft\"></div><div class=\" thing id-t3_57bzmc even&#32; link \" id=\"thing_t3_57bzmc\" style='display:none' onclick=\"click_thing(this)\" data-fullname=\"t3_57bzmc\" data-type=\"link\" data-author=\"NativeNarnian\" data-author-fullname=\"t2_b6qgl\" data-subreddit=\"aww\" data-subreddit-fullname=\"t5_2qh1o\" data-timestamp=\"1476385218000\" data-url=\"https://i.reddituploads.com/ccb7986858da4140971f2d1cffeb8c81?fit=max&amp;h=1536&amp;w=1536&amp;s=ab4d90145b07d94a9beaf476d760287c\" data-domain=\"i.reddituploads.com\" data-rank=\"\" ><p class=\"parent\"></p><span class=\"rank\"></span><div class=\"midcol unvoted\" ><div class=\"arrow up login-required access-required\" data-event-action=\"upvote\" role=\"button\" aria-label=\"upvote\" tabindex=\"0\" ></div><div class=\"score likes\">&bull;</div><div class=\"score unvoted\">&bull;</div><div class=\"score dislikes\">&bull;</div><div class=\"arrow down login-required access-required\" data-event-action=\"downvote\" role=\"button\" aria-label=\"downvote\" tabindex=\"0\" ></div></div><a class=\"thumbnail may-blank outbound \" href=\"https://i.reddituploads.com/ccb7986858da4140971f2d1cffeb8c81?fit=max&amp;h=1536&amp;w=1536&amp;s=ab4d90145b07d94a9beaf476d760287c\" data-href-url=\"https://i.reddituploads.com/ccb7986858da4140971f2d1cffeb8c81?fit=max&amp;h=1536&amp;w=1536&amp;s=ab4d90145b07d94a9beaf476d760287c\" data-outbound-url=\"https://out.reddit.com/t3_57bzmc?url=https%3A%2F%2Fi.reddituploads.com%2Fccb7986858da4140971f2d1cffeb8c81%3Ffit%3Dmax%26h%3D1536%26w%3D1536%26s%3Dab4d90145b07d94a9beaf476d760287c&amp;token=AQAAwur_V1iFDhfx7fM-5GgKCeeEnLAsMqKDBVSRymlhPsuQ_MYr\" data-outbound-expiration=\"1476389570000\" rel=\"\" ><img src=\"//b.thumbs.redditmedia.com/LFUHO-W8FnGh0cthdq5hG2_yG6kVonzW9raCQD4my5M.jpg\" width='70' height='70' alt=\"\"></a><div class=\"entry unvoted\"><p class=\"title\"><a class=\"title may-blank outbound \" href=\"https://i.reddituploads.com/ccb7986858da4140971f2d1cffeb8c81?fit=max&amp;h=1536&amp;w=1536&amp;s=ab4d90145b07d94a9beaf476d760287c\" tabindex=\"1\" data-href-url=\"https://i.reddituploads.com/ccb7986858da4140971f2d1cffeb8c81?fit=max&amp;h=1536&amp;w=1536&amp;s=ab4d90145b07d94a9beaf476d760287c\" data-outbound-url=\"https://out.reddit.com/t3_57bzmc?url=https%3A%2F%2Fi.reddituploads.com%2Fccb7986858da4140971f2d1cffeb8c81%3Ffit%3Dmax%26h%3D1536%26w%3D1536%26s%3Dab4d90145b07d94a9beaf476d760287c&amp;token=AQAAwur_V1iFDhfx7fM-5GgKCeeEnLAsMqKDBVSRymlhPsuQ_MYr\" data-outbound-expiration=\"1476389570000\" rel=\"\" >10 months and 100 lbs ago</a>&#32;<span class=\"domain\">(<a href=\"/domain/i.reddituploads.com/\">i.reddituploads.com</a>)</span></p><div class=\"expando-button collapsed video\"></div><p class=\"tagline \">submitted&#32;<time title=\"Thu Oct 13 19:00:18 2016 UTC\" datetime=\"2016-10-13T19:00:18+00:00\" class=\"live-timestamp\">12 minutes ago</time>&#32;by&#32;<a href=\"https://www.reddit.com/user/NativeNarnian\" class=\"author may-blank id-t2_b6qgl\" >NativeNarnian</a><span class=\"userattrs\"></span>&#32;to&#32;<a href=\"https://www.reddit.com/r/aww/\" class=\"subreddit hover may-blank\" >/r/aww</a></p><ul class=\"flat-list buttons\"><li class=\"first\"><a href=\"https://www.reddit.com/r/aww/comments/57bzmc/10_months_and_100_lbs_ago/\" data-event-action=\"comments\" class=\"bylink comments empty may-blank\" rel=\"nofollow\" >comment</a></li><li class=\"share\"><a class=\"post-sharing-button\" href=\"javascript: void 0;\">share</a></li></ul><div class=\"reportform report-t3_57bzmc\"></div><div class=\"expando expando-uninitialized\" style='display: none' data-cachedhtml=\" &lt;div class=&quot;media-preview&quot; id=&quot;media-preview-57bzmc&quot; style=&quot;max-width: 576px&quot;&gt; &lt;div class=&quot;media-preview-content&quot;&gt; &lt;a href=&quot;https://i.reddituploads.com/ccb7986858da4140971f2d1cffeb8c81?fit=max&amp;amp;h=1536&amp;amp;w=1536&amp;amp;s=ab4d90145b07d94a9beaf476d760287c&quot; class=&quot;may-blank&quot;&gt; &lt;img class=&quot;preview&quot; src=&quot;https://i.redditmedia.com/D0JUZHurXJ9J1Sw-4DkDbk1T0laSsn7STuTwSbfYnAE.jpg?w=576&amp;amp;s=16cba7a9b67d8aed56d8933529af5662&quot; width=&quot;576&quot; height=&quot;768&quot;&gt; &lt;/a&gt; &lt;/div&gt; &lt;/div&gt; \" ><span class=\"error\">loading...</span></div></div><div class=\"child\" ></div><div class=\"clearleft\"></div></div><div class=\"clearleft\"></div><div class=\" thing id-t3_57bz8e odd&#32; link self\" id=\"thing_t3_57bz8e\" style='display:none' onclick=\"click_thing(this)\" data-fullname=\"t3_57bz8e\" data-type=\"link\" data-author=\"InfamousCthulu\" data-author-fullname=\"t2_bsdou\" data-subreddit=\"Showerthoughts\" data-subreddit-fullname=\"t5_2szyo\" data-timestamp=\"1476385098000\" data-url=\"/r/Showerthoughts/comments/57bz8e/when_i_was_15_on_reddit_i_felt_like_no_one_cared/\" data-domain=\"self.Showerthoughts\" data-rank=\"\" ><p class=\"parent\"></p><span class=\"rank\"></span><div class=\"midcol unvoted\" ><div class=\"arrow up login-required access-required\" data-event-action=\"upvote\" role=\"button\" aria-label=\"upvote\" tabindex=\"0\" ></div><div class=\"score likes\">&bull;</div><div class=\"score unvoted\">&bull;</div><div class=\"score dislikes\">&bull;</div><div class=\"arrow down login-required access-required\" data-event-action=\"downvote\" role=\"button\" aria-label=\"downvote\" tabindex=\"0\" ></div></div><a class=\"thumbnail self may-blank \" href=\"/r/Showerthoughts/comments/57bz8e/when_i_was_15_on_reddit_i_felt_like_no_one_cared/\" rel=\"nofollow\" ></a><div class=\"entry unvoted\"><p class=\"title\"><a class=\"title may-blank \" href=\"/r/Showerthoughts/comments/57bz8e/when_i_was_15_on_reddit_i_felt_like_no_one_cared/\" tabindex=\"1\" rel=\"nofollow\" >When I was 15 on reddit I felt like no one cared about what you have to say unless you were older than 19 or so, now that I'm 20 I feel like nobody cares about what I have to say unless you're at least 25.</a>&#32;<span class=\"domain\">(<a href=\"/r/Showerthoughts/\">self.Showerthoughts</a>)</span></p><p class=\"tagline \">submitted&#32;<time title=\"Thu Oct 13 18:58:18 2016 UTC\" datetime=\"2016-10-13T18:58:18+00:00\" class=\"live-timestamp\">14 minutes ago</time>&#32;by&#32;<a href=\"https://www.reddit.com/user/InfamousCthulu\" class=\"author may-blank id-t2_bsdou\" >InfamousCthulu</a><span class=\"userattrs\"></span>&#32;to&#32;<a href=\"https://www.reddit.com/r/Showerthoughts/\" class=\"subreddit hover may-blank\" >/r/Showerthoughts</a></p><ul class=\"flat-list buttons\"><li class=\"first\"><a href=\"https://www.reddit.com/r/Showerthoughts/comments/57bz8e/when_i_was_15_on_reddit_i_felt_like_no_one_cared/\" data-event-action=\"comments\" class=\"bylink comments may-blank\" rel=\"nofollow\" >1 comment</a></li><li class=\"share\"><a class=\"post-sharing-button\" href=\"javascript: void 0;\">share</a></li></ul><div class=\"reportform report-t3_57bz8e\"></div><div class=\"expando expando-uninitialized\" style='display: none' ><span class=\"error\">loading...</span></div></div><div class=\"child\" ></div><div class=\"clearleft\"></div></div><div class=\"clearleft\"></div><div class=\" thing id-t3_57bz71 linkflair even&#32; link \" id=\"thing_t3_57bz71\" style='display:none' onclick=\"click_thing(this)\" data-fullname=\"t3_57bz71\" data-type=\"link\" data-author=\"ranopano\" data-author-fullname=\"t2_4vmuv\" data-subreddit=\"food\" data-subreddit-fullname=\"t5_2qh55\" data-timestamp=\"1476385085000\" data-url=\"https://i.redd.it/f290ih9aharx.png\" data-domain=\"i.redd.it\" data-rank=\"\" ><p class=\"parent\"></p><span class=\"rank\"></span><div class=\"midcol unvoted\" ><div class=\"arrow up login-required access-required\" data-event-action=\"upvote\" role=\"button\" aria-label=\"upvote\" tabindex=\"0\" ></div><div class=\"score likes\">&bull;</div><div class=\"score unvoted\">&bull;</div><div class=\"score dislikes\">&bull;</div><div class=\"arrow down login-required access-required\" data-event-action=\"downvote\" role=\"button\" aria-label=\"downvote\" tabindex=\"0\" ></div></div><a class=\"thumbnail may-blank \" href=\"/r/food/comments/57bz71/homemade_chinese_pork_dumplings/\" rel=\"nofollow\" ><img src=\"//b.thumbs.redditmedia.com/cXf3-0-uMNE6uAJCRZOU2l9N9utglmxhr_LLhintQWk.jpg\" width='70' height='70' alt=\"\"></a><div class=\"entry unvoted\"><p class=\"title\"><a class=\"title may-blank \" href=\"/r/food/comments/57bz71/homemade_chinese_pork_dumplings/\" tabindex=\"1\" rel=\"nofollow\" >[homemade] Chinese Pork Dumplings</a><span class=\"linkflairlabel\" title=\"[homemade]\">[homemade]</span>&#32;<span class=\"domain\">(<a href=\"/domain/i.redd.it/\">i.redd.it</a>)</span></p><div class=\"expando-button collapsed video\"></div><p class=\"tagline \">submitted&#32;<time title=\"Thu Oct 13 18:58:05 2016 UTC\" datetime=\"2016-10-13T18:58:05+00:00\" class=\"live-timestamp\">14 minutes ago</time>&#32;by&#32;<a href=\"https://www.reddit.com/user/ranopano\" class=\"author may-blank id-t2_4vmuv\" >ranopano</a><span class=\"userattrs\"></span>&#32;to&#32;<a href=\"https://www.reddit.com/r/food/\" class=\"subreddit hover may-blank\" >/r/food</a></p><ul class=\"flat-list buttons\"><li class=\"first\"><a href=\"https://www.reddit.com/r/food/comments/57bz71/homemade_chinese_pork_dumplings/\" data-event-action=\"comments\" class=\"bylink comments empty may-blank\" rel=\"nofollow\" >comment</a></li><li class=\"share\"><a class=\"post-sharing-button\" href=\"javascript: void 0;\">share</a></li></ul><div class=\"reportform report-t3_57bz71\"></div><div class=\"expando expando-uninitialized\" style='display: none' data-cachedhtml=\" &lt;div class=&quot;media-preview&quot; id=&quot;media-preview-57bz71&quot; style=&quot;max-width: 564px&quot;&gt; &lt;div class=&quot;media-preview-content&quot;&gt; &lt;a href=&quot;https://i.redd.it/f290ih9aharx.png&quot; class=&quot;may-blank&quot;&gt; &lt;img class=&quot;preview&quot; src=&quot;https://i.redditmedia.com/VnCqNuoR86n5HdEj9nlCD7sun49l1l7jPjD1VDsc9hQ.png?w=564&amp;amp;s=ac97ac5ac8421bfda86c3ed4ab1ba1f0&quot; width=&quot;564&quot; height=&quot;596&quot;&gt; &lt;/a&gt; &lt;/div&gt; &lt;/div&gt; \" ><span class=\"error\">loading...</span></div></div><div class=\"child\" ></div><div class=\"clearleft\"></div></div><div class=\"clearleft\"></div><div class=\" thing id-t3_57byqp odd&#32; link \" id=\"thing_t3_57byqp\" style='display:none' onclick=\"click_thing(this)\" data-fullname=\"t3_57byqp\" data-type=\"link\" data-author=\"Swqordfish\" data-author-fullname=\"t2_nuov6\" data-subreddit=\"TwoXChromosomes\" data-subreddit-fullname=\"t5_2r2jt\" data-timestamp=\"1476384942000\" data-url=\"http://www.cracked.com/article_24360_6-ways-fight-trans-rights-civil-rights-repeating.html#Comments\" data-domain=\"cracked.com\" data-rank=\"\" ><p class=\"parent\"></p><span class=\"rank\"></span><div class=\"midcol unvoted\" ><div class=\"arrow up login-required access-required\" data-event-action=\"upvote\" role=\"button\" aria-label=\"upvote\" tabindex=\"0\" ></div><div class=\"score likes\">&bull;</div><div class=\"score unvoted\">&bull;</div><div class=\"score dislikes\">&bull;</div><div class=\"arrow down login-required access-required\" data-event-action=\"downvote\" role=\"button\" aria-label=\"downvote\" tabindex=\"0\" ></div></div><a class=\"thumbnail default may-blank outbound \" href=\"http://www.cracked.com/article_24360_6-ways-fight-trans-rights-civil-rights-repeating.html#Comments\" data-href-url=\"http://www.cracked.com/article_24360_6-ways-fight-trans-rights-civil-rights-repeating.html#Comments\" data-outbound-url=\"https://out.reddit.com/t3_57byqp?url=http%3A%2F%2Fwww.cracked.com%2Farticle_24360_6-ways-fight-trans-rights-civil-rights-repeating.html%23Comments&amp;token=AQAAwur_V9JAJi3x3ZsDzTZRFJ0nfASPN9kyul6J0aDvhGjcuBbE\" data-outbound-expiration=\"1476389570000\" rel=\"nofollow\" ></a><div class=\"entry unvoted\"><p class=\"title\"><a class=\"title may-blank outbound \" href=\"http://www.cracked.com/article_24360_6-ways-fight-trans-rights-civil-rights-repeating.html#Comments\" tabindex=\"1\" data-href-url=\"http://www.cracked.com/article_24360_6-ways-fight-trans-rights-civil-rights-repeating.html#Comments\" data-outbound-url=\"https://out.reddit.com/t3_57byqp?url=http%3A%2F%2Fwww.cracked.com%2Farticle_24360_6-ways-fight-trans-rights-civil-rights-repeating.html%23Comments&amp;token=AQAAwur_V9JAJi3x3ZsDzTZRFJ0nfASPN9kyul6J0aDvhGjcuBbE\" data-outbound-expiration=\"1476389570000\" rel=\"nofollow\" >Transphobia is every other bigotry repackaged</a>&#32;<span class=\"domain\">(<a href=\"/domain/cracked.com/\">cracked.com</a>)</span></p><p class=\"tagline \">submitted&#32;<time title=\"Thu Oct 13 18:55:42 2016 UTC\" datetime=\"2016-10-13T18:55:42+00:00\" class=\"live-timestamp\">17 minutes ago</time>&#32;by&#32;<a href=\"https://www.reddit.com/user/Swqordfish\" class=\"author may-blank id-t2_nuov6\" >Swqordfish</a><span class=\"userattrs\"></span>&#32;to&#32;<a href=\"https://www.reddit.com/r/TwoXChromosomes/\" class=\"subreddit hover may-blank\" >/r/TwoXChromosomes</a></p><ul class=\"flat-list buttons\"><li class=\"first\"><a href=\"https://www.reddit.com/r/TwoXChromosomes/comments/57byqp/transphobia_is_every_other_bigotry_repackaged/\" data-event-action=\"comments\" class=\"bylink comments empty may-blank\" rel=\"nofollow\" >comment</a></li><li class=\"share\"><a class=\"post-sharing-button\" href=\"javascript: void 0;\">share</a></li></ul><div class=\"reportform report-t3_57byqp\"></div><div class=\"expando expando-uninitialized\" style='display: none' ><span class=\"error\">loading...</span></div></div><div class=\"child\" ></div><div class=\"clearleft\"></div></div><div class=\"clearleft\"></div><div class=\" thing id-t3_57bzah linkflair linkflair-flairwp even&#32; link self\" id=\"thing_t3_57bzah\" style='display:none' onclick=\"click_thing(this)\" data-fullname=\"t3_57bzah\" data-type=\"link\" data-author=\"budabongo\" data-author-fullname=\"t2_zfvg2\" data-subreddit=\"WritingPrompts\" data-subreddit-fullname=\"t5_2s3nb\" data-timestamp=\"1476385113000\" data-url=\"/r/WritingPrompts/comments/57bzah/wp_hitman_is_hired_by_a_mob_boss_to_take_out_a/\" data-domain=\"self.WritingPrompts\" data-rank=\"\" ><p class=\"parent\"></p><span class=\"rank\"></span><div class=\"midcol unvoted\" ><div class=\"arrow up login-required access-required\" data-event-action=\"upvote\" role=\"button\" aria-label=\"upvote\" tabindex=\"0\" ></div><div class=\"score likes\">&bull;</div><div class=\"score unvoted\">&bull;</div><div class=\"score dislikes\">&bull;</div><div class=\"arrow down login-required access-required\" data-event-action=\"downvote\" role=\"button\" aria-label=\"downvote\" tabindex=\"0\" ></div></div><a class=\"thumbnail self may-blank \" href=\"/r/WritingPrompts/comments/57bzah/wp_hitman_is_hired_by_a_mob_boss_to_take_out_a/\" rel=\"nofollow\" ></a><div class=\"entry unvoted\"><p class=\"title\"><a class=\"title may-blank \" href=\"/r/WritingPrompts/comments/57bzah/wp_hitman_is_hired_by_a_mob_boss_to_take_out_a/\" tabindex=\"1\" rel=\"nofollow\" >[wp] Hitman is hired by a mob boss to take out a target. The mob boss gives him details of when and where the target will be</a><span class=\"linkflairlabel\" title=\"Writing Prompt\">Writing Prompt</span>&#32;<span class=\"domain\">(<a href=\"/r/WritingPrompts/\">self.WritingPrompts</a>)</span></p><div class=\"expando-button collapsed selftext\"></div><p class=\"tagline \">submitted&#32;<time title=\"Thu Oct 13 18:58:33 2016 UTC\" datetime=\"2016-10-13T18:58:33+00:00\" class=\"live-timestamp\">14 minutes ago</time>&#32;by&#32;<a href=\"https://www.reddit.com/user/budabongo\" class=\"author may-blank id-t2_zfvg2\" >budabongo</a><span class=\"userattrs\"></span>&#32;to&#32;<a href=\"https://www.reddit.com/r/WritingPrompts/\" class=\"subreddit hover may-blank\" >/r/WritingPrompts</a></p><ul class=\"flat-list buttons\"><li class=\"first\"><a href=\"https://www.reddit.com/r/WritingPrompts/comments/57bzah/wp_hitman_is_hired_by_a_mob_boss_to_take_out_a/\" data-event-action=\"comments\" class=\"bylink comments may-blank\" rel=\"nofollow\" >1 comment</a></li><li class=\"share\"><a class=\"post-sharing-button\" href=\"javascript: void 0;\">share</a></li></ul><div class=\"reportform report-t3_57bzah\"></div><div class=\"expando expando-uninitialized\" style='display: none' ><span class=\"error\">loading...</span></div></div><div class=\"child\" ></div><div class=\"clearleft\"></div></div><div class=\"clearleft\"></div><div class=\" thing id-t3_57bzwg odd&#32; link \" id=\"thing_t3_57bzwg\" style='display:none' onclick=\"click_thing(this)\" data-fullname=\"t3_57bzwg\" data-type=\"link\" data-author=\"Noerdy\" data-author-fullname=\"t2_9gqpg\" data-subreddit=\"aww\" data-subreddit-fullname=\"t5_2qh1o\" data-timestamp=\"1476385299000\" data-url=\"http://i.imgur.com/yqeIhjq.gifv\" data-domain=\"i.imgur.com\" data-rank=\"\" ><p class=\"parent\"></p><span class=\"rank\"></span><div class=\"midcol unvoted\" ><div class=\"arrow up login-required access-required\" data-event-action=\"upvote\" role=\"button\" aria-label=\"upvote\" tabindex=\"0\" ></div><div class=\"score likes\">&bull;</div><div class=\"score unvoted\">&bull;</div><div class=\"score dislikes\">&bull;</div><div class=\"arrow down login-required access-required\" data-event-action=\"downvote\" role=\"button\" aria-label=\"downvote\" tabindex=\"0\" ></div></div><a class=\"thumbnail may-blank outbound \" href=\"http://i.imgur.com/yqeIhjq.gifv\" data-href-url=\"http://i.imgur.com/yqeIhjq.gifv\" data-outbound-url=\"https://out.reddit.com/t3_57bzwg?url=http%3A%2F%2Fi.imgur.com%2FyqeIhjq.gifv&amp;token=AQAAwur_VxFrPU2HO_1_o8I9Eylj9hlmBuFljRVubesBvYduX2-8\" data-outbound-expiration=\"1476389570000\" rel=\"\" ><img src=\"//b.thumbs.redditmedia.com/GnAN_kGNJ0AxBNfAwt573y5PdmJEeFT5WxQ2eIX0mPI.jpg\" width='70' height='39' alt=\"\"></a><div class=\"entry unvoted\"><p class=\"title\"><a class=\"title may-blank outbound \" href=\"http://i.imgur.com/yqeIhjq.gifv\" tabindex=\"1\" data-href-url=\"http://i.imgur.com/yqeIhjq.gifv\" data-outbound-url=\"https://out.reddit.com/t3_57bzwg?url=http%3A%2F%2Fi.imgur.com%2FyqeIhjq.gifv&amp;token=AQAAwur_VxFrPU2HO_1_o8I9Eylj9hlmBuFljRVubesBvYduX2-8\" data-outbound-expiration=\"1476389570000\" rel=\"\" >Crunch Crunch Goes The Ice</a>&#32;<span class=\"domain\">(<a href=\"/domain/i.imgur.com/\">i.imgur.com</a>)</span></p><div class=\"expando-button collapsed video\"></div><p class=\"tagline \">submitted&#32;<time title=\"Thu Oct 13 19:01:39 2016 UTC\" datetime=\"2016-10-13T19:01:39+00:00\" class=\"live-timestamp\">11 minutes ago</time>&#32;by&#32;<a href=\"https://www.reddit.com/user/Noerdy\" class=\"author may-blank id-t2_9gqpg\" >Noerdy</a><span class=\"userattrs\"></span>&#32;to&#32;<a href=\"https://www.reddit.com/r/aww/\" class=\"subreddit hover may-blank\" >/r/aww</a></p><ul class=\"flat-list buttons\"><li class=\"first\"><a href=\"https://www.reddit.com/r/aww/comments/57bzwg/crunch_crunch_goes_the_ice/\" data-event-action=\"comments\" class=\"bylink comments empty may-blank\" rel=\"nofollow\" >comment</a></li><li class=\"share\"><a class=\"post-sharing-button\" href=\"javascript: void 0;\">share</a></li></ul><div class=\"reportform report-t3_57bzwg\"></div><div class=\"expando expando-uninitialized\" style='display: none' data-cachedhtml=\" &lt;div class=&quot;media-preview&quot; id=&quot;media-preview-57bzwg&quot; style=&quot;max-width: 720px&quot;&gt; &lt;div class=&quot;media-preview-content&quot;&gt; &lt;a href=&quot;http://i.imgur.com/yqeIhjq.gifv&quot; class=&quot;may-blank&quot;&gt; &lt;video class=&quot;preview&quot; preload=&quot;auto&quot; autoplay=&quot;autoplay&quot; muted=&quot;muted&quot; loop=&quot;loop&quot; webkit-playsinline=&quot;&quot; style=&quot;width: 720px; height: 404px;&quot;&gt; &lt;source src=&quot;https://g.redditmedia.com/zJU4Sa32NZJpxsAiYIhKVtT-sbrF5Ji2lsE3PY70uPU.gif?w=720&amp;amp;fm=mp4&amp;amp;mp4-fragmented=false&amp;amp;s=d3677dc2f522ba39d42cf90293d106c7&quot; type=&quot;video/mp4&quot;&gt; &lt;/video&gt; &lt;/a&gt; &lt;/div&gt; &lt;/div&gt; \" ><span class=\"error\">loading...</span></div></div><div class=\"child\" ></div><div class=\"clearleft\"></div></div><div class=\"clearleft\"></div><div class=\" thing id-t3_57bzng even&#32; link \" id=\"thing_t3_57bzng\" style='display:none' onclick=\"click_thing(this)\" data-fullname=\"t3_57bzng\" data-type=\"link\" data-author=\"ModernVisage\" data-author-fullname=\"t2_dz32y\" data-subreddit=\"videos\" data-subreddit-fullname=\"t5_2qh1e\" data-timestamp=\"1476385226000\" data-url=\"https://www.youtube.com/watch?v=41GJnQJKzXI\" data-domain=\"youtube.com\" data-rank=\"\" ><p class=\"parent\"></p><span class=\"rank\"></span><div class=\"midcol unvoted\" ><div class=\"arrow up login-required access-required\" data-event-action=\"upvote\" role=\"button\" aria-label=\"upvote\" tabindex=\"0\" ></div><div class=\"score likes\">&bull;</div><div class=\"score unvoted\">&bull;</div><div class=\"score dislikes\">&bull;</div><div class=\"arrow down login-required access-required\" data-event-action=\"downvote\" role=\"button\" aria-label=\"downvote\" tabindex=\"0\" ></div></div><a class=\"thumbnail may-blank outbound \" href=\"https://www.youtube.com/watch?v=41GJnQJKzXI\" data-href-url=\"https://www.youtube.com/watch?v=41GJnQJKzXI\" data-outbound-url=\"https://out.reddit.com/t3_57bzng?url=https%3A%2F%2Fwww.youtube.com%2Fwatch%3Fv%3D41GJnQJKzXI&amp;token=AQAAwur_VyijQT2XGb0vppxypd9utr0CW-AKbDkMoukTPz3arYRU\" data-outbound-expiration=\"1476389570000\" rel=\"\" ><img src=\"//b.thumbs.redditmedia.com/NC71L_yBJu1L5mMVMp_CQw0yTkEEgqccqKJRGstp-OE.jpg\" width='70' height='52' alt=\"\"></a><div class=\"entry unvoted\"><p class=\"title\"><a class=\"title may-blank outbound \" href=\"https://www.youtube.com/watch?v=41GJnQJKzXI\" tabindex=\"1\" data-href-url=\"https://www.youtube.com/watch?v=41GJnQJKzXI\" data-outbound-url=\"https://out.reddit.com/t3_57bzng?url=https%3A%2F%2Fwww.youtube.com%2Fwatch%3Fv%3D41GJnQJKzXI&amp;token=AQAAwur_VyijQT2XGb0vppxypd9utr0CW-AKbDkMoukTPz3arYRU\" data-outbound-expiration=\"1476389570000\" rel=\"\" >Picture Santa Monica banning cars to promote its train and good bus system. Now, Imagine the entire city gets around on these.</a>&#32;<span class=\"domain\">(<a href=\"/domain/youtube.com/\">youtube.com</a>)</span></p><div class=\"expando-button collapsed video\"></div><p class=\"tagline \">submitted&#32;<time title=\"Thu Oct 13 19:00:26 2016 UTC\" datetime=\"2016-10-13T19:00:26+00:00\" class=\"live-timestamp\">12 minutes ago</time>&#32;by&#32;<a href=\"https://www.reddit.com/user/ModernVisage\" class=\"author may-blank id-t2_dz32y\" >ModernVisage</a><span class=\"userattrs\"></span>&#32;to&#32;<a href=\"https://www.reddit.com/r/videos/\" class=\"subreddit hover may-blank\" >/r/videos</a></p><ul class=\"flat-list buttons\"><li class=\"first\"><a href=\"https://www.reddit.com/r/videos/comments/57bzng/picture_santa_monica_banning_cars_to_promote_its/\" data-event-action=\"comments\" class=\"bylink comments empty may-blank\" rel=\"nofollow\" >comment</a></li><li class=\"share\"><a class=\"post-sharing-button\" href=\"javascript: void 0;\">share</a></li></ul><div class=\"reportform report-t3_57bzng\"></div><div class=\"expando expando-uninitialized\" style='display: none' data-cachedhtml=\" &lt;iframe src=&quot;//www.redditmedia.com/mediaembed/57bzng&quot; id=&quot;media-embed-57bzng-fy9&quot; class=&quot;media-embed &quot; width=&quot;469&quot; height=&quot;354&quot; border=&quot;0&quot; frameBorder=&quot;0&quot; scrolling=&quot;no&quot; allowfullscreen&gt;&lt;/iframe&gt; \" ><span class=\"error\">loading...</span></div></div><div class=\"child\" ></div><div class=\"clearleft\"></div></div><div class=\"clearleft\"></div><div class=\" thing id-t3_57bz77 odd&#32; link \" id=\"thing_t3_57bz77\" style='display:none' onclick=\"click_thing(this)\" data-fullname=\"t3_57bz77\" data-type=\"link\" data-author=\"sweetbabycarrot\" data-author-fullname=\"t2_mz5ho\" data-subreddit=\"news\" data-subreddit-fullname=\"t5_2qh3l\" data-timestamp=\"1476385088000\" data-url=\"http://uncnews.unc.edu/2016/10/12/unvaccinated-adults-cost-u-s-7-billion-year/\" data-domain=\"uncnews.unc.edu\" data-rank=\"\" ><p class=\"parent\"></p><span class=\"rank\"></span><div class=\"midcol unvoted\" ><div class=\"arrow up login-required access-required\" data-event-action=\"upvote\" role=\"button\" aria-label=\"upvote\" tabindex=\"0\" ></div><div class=\"score likes\">&bull;</div><div class=\"score unvoted\">&bull;</div><div class=\"score dislikes\">&bull;</div><div class=\"arrow down login-required access-required\" data-event-action=\"downvote\" role=\"button\" aria-label=\"downvote\" tabindex=\"0\" ></div></div><a class=\"thumbnail default may-blank outbound \" href=\"http://uncnews.unc.edu/2016/10/12/unvaccinated-adults-cost-u-s-7-billion-year/\" data-href-url=\"http://uncnews.unc.edu/2016/10/12/unvaccinated-adults-cost-u-s-7-billion-year/\" data-outbound-url=\"https://out.reddit.com/t3_57bz77?url=http%3A%2F%2Funcnews.unc.edu%2F2016%2F10%2F12%2Funvaccinated-adults-cost-u-s-7-billion-year%2F&amp;token=AQAAwur_VzXbWNN_0UNj4InN0JW_9mBGMf7K69rVcNo_dGMqY_3V\" data-outbound-expiration=\"1476389570000\" rel=\"\" ></a><div class=\"entry unvoted\"><p class=\"title\"><a class=\"title may-blank outbound \" href=\"http://uncnews.unc.edu/2016/10/12/unvaccinated-adults-cost-u-s-7-billion-year/\" tabindex=\"1\" data-href-url=\"http://uncnews.unc.edu/2016/10/12/unvaccinated-adults-cost-u-s-7-billion-year/\" data-outbound-url=\"https://out.reddit.com/t3_57bz77?url=http%3A%2F%2Funcnews.unc.edu%2F2016%2F10%2F12%2Funvaccinated-adults-cost-u-s-7-billion-year%2F&amp;token=AQAAwur_VzXbWNN_0UNj4InN0JW_9mBGMf7K69rVcNo_dGMqY_3V\" data-outbound-expiration=\"1476389570000\" rel=\"\" >Unvaccinated Adults Cost the U.S. More Than $7 Billion a Year</a>&#32;<span class=\"domain\">(<a href=\"/domain/uncnews.unc.edu/\">uncnews.unc.edu</a>)</span></p><p class=\"tagline \">submitted&#32;<time title=\"Thu Oct 13 18:58:08 2016 UTC\" datetime=\"2016-10-13T18:58:08+00:00\" class=\"live-timestamp\">14 minutes ago</time>&#32;by&#32;<a href=\"https://www.reddit.com/user/sweetbabycarrot\" class=\"author may-blank id-t2_mz5ho\" >sweetbabycarrot</a><span class=\"userattrs\"></span>&#32;to&#32;<a href=\"https://www.reddit.com/r/news/\" class=\"subreddit hover may-blank\" >/r/news</a></p><ul class=\"flat-list buttons\"><li class=\"first\"><a href=\"https://www.reddit.com/r/news/comments/57bz77/unvaccinated_adults_cost_the_us_more_than_7/\" data-event-action=\"comments\" class=\"bylink comments may-blank\" rel=\"nofollow\" >4 comments</a></li><li class=\"share\"><a class=\"post-sharing-button\" href=\"javascript: void 0;\">share</a></li></ul><div class=\"reportform report-t3_57bz77\"></div><div class=\"expando expando-uninitialized\" style='display: none' ><span class=\"error\">loading...</span></div></div><div class=\"child\" ></div><div class=\"clearleft\"></div></div><div class=\"clearleft\"></div><div class=\" thing id-t3_57bz2p even&#32; link self\" id=\"thing_t3_57bz2p\" style='display:none' onclick=\"click_thing(this)\" data-fullname=\"t3_57bz2p\" data-type=\"link\" data-author=\"andrewcampbell2003\" data-author-fullname=\"t2_73gvg\" data-subreddit=\"Showerthoughts\" data-subreddit-fullname=\"t5_2szyo\" data-timestamp=\"1476385047000\" data-url=\"/r/Showerthoughts/comments/57bz2p/humans_can_do_more_than_7_billion_unique_things/\" data-domain=\"self.Showerthoughts\" data-rank=\"\" ><p class=\"parent\"></p><span class=\"rank\"></span><div class=\"midcol unvoted\" ><div class=\"arrow up login-required access-required\" data-event-action=\"upvote\" role=\"button\" aria-label=\"upvote\" tabindex=\"0\" ></div><div class=\"score likes\">&bull;</div><div class=\"score unvoted\">&bull;</div><div class=\"score dislikes\">&bull;</div><div class=\"arrow down login-required access-required\" data-event-action=\"downvote\" role=\"button\" aria-label=\"downvote\" tabindex=\"0\" ></div></div><a class=\"thumbnail self may-blank \" href=\"/r/Showerthoughts/comments/57bz2p/humans_can_do_more_than_7_billion_unique_things/\" rel=\"nofollow\" ></a><div class=\"entry unvoted\"><p class=\"title\"><a class=\"title may-blank \" href=\"/r/Showerthoughts/comments/57bz2p/humans_can_do_more_than_7_billion_unique_things/\" tabindex=\"1\" rel=\"nofollow\" >Humans can do more than 7 billion unique things, and there are more than 7 billion people in the world. Therefore I must be the worst at something in the world.</a>&#32;<span class=\"domain\">(<a href=\"/r/Showerthoughts/\">self.Showerthoughts</a>)</span></p><p class=\"tagline \">submitted&#32;<time title=\"Thu Oct 13 18:57:27 2016 UTC\" datetime=\"2016-10-13T18:57:27+00:00\" class=\"live-timestamp\">15 minutes ago</time>&#32;by&#32;<a href=\"https://www.reddit.com/user/andrewcampbell2003\" class=\"author may-blank id-t2_73gvg\" >andrewcampbell2003</a><span class=\"userattrs\"></span>&#32;to&#32;<a href=\"https://www.reddit.com/r/Showerthoughts/\" class=\"subreddit hover may-blank\" >/r/Showerthoughts</a></p><ul class=\"flat-list buttons\"><li class=\"first\"><a href=\"https://www.reddit.com/r/Showerthoughts/comments/57bz2p/humans_can_do_more_than_7_billion_unique_things/\" data-event-action=\"comments\" class=\"bylink comments may-blank\" rel=\"nofollow\" >2 comments</a></li><li class=\"share\"><a class=\"post-sharing-button\" href=\"javascript: void 0;\">share</a></li></ul><div class=\"reportform report-t3_57bz2p\"></div><div class=\"expando expando-uninitialized\" style='display: none' ><span class=\"error\">loading...</span></div></div><div class=\"child\" ></div><div class=\"clearleft\"></div></div><div class=\"clearleft\"></div><div class=\"thing interestbar\" style=\"display:none\"><div class=\"sr-interest-bar\"><div class=\"bubble\"><p class=\"caption\">it looks like you haven't &#32;<span class=\"subscribe\">subscribed</span>&#32; to any subreddits yet. want some ideas?</p><p class=\"error-caption\"></p><div class=\"query-box\"><input class=\"query\" placeholder=\"what are you interested in?\"><div class=\"throbber\"></div></div><ul class=\"results\"><li>try these:</li><li><a href=\"/r/random\" class=\"random\" target=\"_blank\"><span class=\"name\">serendipity</span></a></li></ul></div></div></div><div class=\"nextprev spot-nextprev\"><div class=\"throbber\"></div><button class=\"arrow prev\">prev</button><button class=\"arrow next\">next</button></div><div class=\"help help-hoverable\">what's this?<div id=\"spotlight-help\" class=\"hover-bubble help-bubble anchor-top\"><div class=\"help-section help-promoted\"><p>This promoted post is an advertisement generated with our&#32;<a href=\"https://www.reddit.com/wiki/selfserve\" >self-serve advertisement tool</a>.</p><p>Use of this tool is open to all members of reddit.com, and for as little as $5.00 you can advertise in this area.&#32;<a href=\"https://www.reddit.com/advertising\" >Get started &rsaquo;</a></p></div><div class=\"help-section help-adserver\"><p>This is a new ad format that we are currently testing. We often try new types of ads in a limited capacity. If you have feedback, please let us know in the&#32;<a href=\"https://www.reddit.com/r/ads\" >ads subreddit</a>.</p></div><div class=\"help-section help-organic\"><p>This area shows new and upcoming links. Vote on links here to help them become popular, and click the forwards and backwards buttons to view more.</p></div><div class=\"help-section help-interestbar\"><p>Enter a keyword or topic to discover new subreddits around your interests. Be specific!</p><p>You can access this tool at any time on the&#32;<a href=\"https://www.reddit.com/subreddits/\" >/subreddits/</a>&#32;page.</p></div></div></div></div><script>r.spotlight.setup( [\"t3_57bzxy\", \"t3_57bzmc\", \"t3_57bz8e\", \"t3_57bz71\", \"t3_57byqp\", \"t3_57bzah\", \"t3_57bzwg\", \"t3_57bzng\", \"t3_57bz77\", \"t3_57bz2p\"], 0.5, true, 1, \" reddit.com\", \"t3_57atll,t3_57aysz,t3_57ayjj,t3_57b7fa,t3_57aj6a,t3_57a7on,t3_579vzr,t3_579ugt,t3_579tlh,t3_57a62t\" )</script></div><div class='spacer'><div class=\"trending-subreddits\"><div class=\"rank-spacer\"></div><div class=\"midcol-spacer\"></div><div class=\"trending-subreddits-content\"><strong>trending subreddits</strong><ul><li><a href=\"/r/accidentalrockwell?utm_source=reddit&utm_medium=trending_subreddits_bar&utm_name=trending_sr_1\" target=\"_blank\">/r/accidentalrockwell</a></li><li><a href=\"/r/ClassicHorror?utm_source=reddit&utm_medium=trending_subreddits_bar&utm_name=trending_sr_2\" target=\"_blank\">/r/ClassicHorror</a></li><li><a href=\"/r/CHICubs?utm_source=reddit&utm_medium=trending_subreddits_bar&utm_name=trending_sr_3\" target=\"_blank\">/r/CHICubs</a></li><li><a href=\"/r/kenbone?utm_source=reddit&utm_medium=trending_subreddits_bar&utm_name=trending_sr_4\" target=\"_blank\">/r/kenbone</a></li><li><a href=\"/r/casualiama?utm_source=reddit&utm_medium=trending_subreddits_bar&utm_name=trending_sr_5\" target=\"_blank\">/r/casualiama</a></li></ul><a href=\"/r/trendingsubreddits/comments/5791ok/trending_subreddits_for_20161013/\" class=\"comments may-blank\">20 comments</a></div></div></div><div class='spacer'><style>body >.content .link .rank, .rank-spacer { width: 2.2ex } body >.content .link .midcol, .midcol-spacer { width: 6.1ex } .adsense-wrap { background-color: #eff7ff; font-size: 18px; padding-left: 8.3ex; padding-right: 5px; }</style><div id=\"siteTable\" class=\"sitetable linklisting\"><div class=\" thing id-t3_57atll linkflair odd&#32; gilded link \" id=\"thing_t3_57atll\" onclick=\"click_thing(this)\" data-fullname=\"t3_57atll\" data-type=\"link\" data-author=\"JimKB\" data-author-fullname=\"t2_3imex\" data-subreddit=\"funny\" data-subreddit-fullname=\"t5_2qh33\" data-timestamp=\"1476372387000\" data-url=\"http://i.imgur.com/lcEUZHv.jpg\" data-domain=\"i.imgur.com\" data-rank=\"1\" ><p class=\"parent\"></p><span class=\"rank\">1</span><div class=\"midcol unvoted\" ><div class=\"arrow up login-required access-required\" data-event-action=\"upvote\" role=\"button\" aria-label=\"upvote\" tabindex=\"0\" ></div><div class=\"score dislikes\">12642</div><div class=\"score unvoted\">12643</div><div class=\"score likes\">12644</div><div class=\"arrow down login-required access-required\" data-event-action=\"downvote\" role=\"button\" aria-label=\"downvote\" tabindex=\"0\" ></div></div><a class=\"thumbnail may-blank outbound \" href=\"http://i.imgur.com/lcEUZHv.jpg\" data-href-url=\"http://i.imgur.com/lcEUZHv.jpg\" data-outbound-url=\"https://out.reddit.com/t3_57atll?url=http%3A%2F%2Fi.imgur.com%2FlcEUZHv.jpg&amp;token=AQAAwur_V7jHw4qyZSbFj9zgB0Rw12h_LFHXoLL6rc3MS2aY011P\" data-outbound-expiration=\"1476389570000\" rel=\"\" ><img src=\"//b.thumbs.redditmedia.com/LevyZadUudBsx_0gKy-U7reWSh2RVG13ltvzH9pnXQU.jpg\" width='70' height='70' alt=\"\"></a><div class=\"entry unvoted\"><p class=\"title\"><a class=\"title may-blank outbound \" href=\"http://i.imgur.com/lcEUZHv.jpg\" tabindex=\"1\" data-href-url=\"http://i.imgur.com/lcEUZHv.jpg\" data-outbound-url=\"https://out.reddit.com/t3_57atll?url=http%3A%2F%2Fi.imgur.com%2FlcEUZHv.jpg&amp;token=AQAAwur_V7jHw4qyZSbFj9zgB0Rw12h_LFHXoLL6rc3MS2aY011P\" data-outbound-expiration=\"1476389570000\" rel=\"\" >this cartoon of mine gets reposted every fall. Guess I'll repost it this year.</a><span class=\"linkflairlabel\" title=\"Verified\">Verified</span>&#32;<span class=\"domain\">(<a href=\"/domain/i.imgur.com/\">i.imgur.com</a>)</span></p><div class=\"expando-button collapsed video\"></div><p class=\"tagline \">submitted&#32;<time title=\"Thu Oct 13 15:26:27 2016 UTC\" datetime=\"2016-10-13T15:26:27+00:00\" class=\"live-timestamp\">3 hours ago</time>&#32;by&#32;<a href=\"https://www.reddit.com/user/JimKB\" class=\"author may-blank id-t2_3imex\" >JimKB</a><span class=\"userattrs\"></span>&#32;to&#32;<a href=\"https://www.reddit.com/r/funny/\" class=\"subreddit hover may-blank\" >/r/funny</a></p><ul class=\"flat-list buttons\"><li class=\"first\"><a href=\"https://www.reddit.com/r/funny/comments/57atll/this_cartoon_of_mine_gets_reposted_every_fall/\" data-event-action=\"comments\" class=\"bylink comments may-blank\" rel=\"nofollow\" >1002 comments</a></li><li class=\"share\"><a class=\"post-sharing-button\" href=\"javascript: void 0;\">share</a></li></ul><div class=\"reportform report-t3_57atll\"></div><div class=\"expando expando-uninitialized\" style='display: none' data-cachedhtml=\" &lt;div class=&quot;media-preview&quot; id=&quot;media-preview-57atll&quot; style=&quot;max-width: 702px&quot;&gt; &lt;div class=&quot;media-preview-content&quot;&gt; &lt;a href=&quot;http://i.imgur.com/lcEUZHv.jpg&quot; class=&quot;may-blank&quot;&gt; &lt;img class=&quot;preview&quot; src=&quot;https://i.redditmedia.com/j1Ofrzz20YWJuK5Gc0ejNDb71FS2GR13rk04HVAj8f4.jpg?w=702&amp;amp;s=7c9ae8e656b7de4003241417914880a4&quot; width=&quot;702&quot; height=&quot;750&quot;&gt; &lt;/a&gt; &lt;/div&gt; &lt;/div&gt; \" ><span class=\"error\">loading...</span></div></div><div class=\"child\" ></div><div class=\"clearleft\"></div></div><div class=\"clearleft\"></div><div class=\" thing id-t3_57aysz even&#32; link \" id=\"thing_t3_57aysz\" onclick=\"click_thing(this)\" data-fullname=\"t3_57aysz\" data-type=\"link\" data-author=\"Bokalok\" data-author-fullname=\"t2_1163y3\" data-subreddit=\"aww\" data-subreddit-fullname=\"t5_2qh1o\" data-timestamp=\"1476374042000\" data-url=\"http://i.imgur.com/PcPPRh5.jpg\" data-domain=\"i.imgur.com\" data-rank=\"2\" ><p class=\"parent\"></p><span class=\"rank\">2</span><div class=\"midcol unvoted\" ><div class=\"arrow up login-required access-required\" data-event-action=\"upvote\" role=\"button\" aria-label=\"upvote\" tabindex=\"0\" ></div><div class=\"score dislikes\">6703</div><div class=\"score unvoted\">6704</div><div class=\"score likes\">6705</div><div class=\"arrow down login-required access-required\" data-event-action=\"downvote\" role=\"button\" aria-label=\"downvote\" tabindex=\"0\" ></div></div><a class=\"thumbnail may-blank outbound \" href=\"http://i.imgur.com/PcPPRh5.jpg\" data-href-url=\"http://i.imgur.com/PcPPRh5.jpg\" data-outbound-url=\"https://out.reddit.com/t3_57aysz?url=http%3A%2F%2Fi.imgur.com%2FPcPPRh5.jpg&amp;token=AQAAwur_VyURkx9tlTVVqgTI6oKQO8Iag5tVLlC0i4gPDtn5U9VV\" data-outbound-expiration=\"1476389570000\" rel=\"\" ><img src=\"//a.thumbs.redditmedia.com/xVNoftTbgVs_MevewYGCbQcPpei2saR1BKdal7uvRC8.jpg\" width='70' height='52' alt=\"\"></a><div class=\"entry unvoted\"><p class=\"title\"><a class=\"title may-blank outbound \" href=\"http://i.imgur.com/PcPPRh5.jpg\" tabindex=\"1\" data-href-url=\"http://i.imgur.com/PcPPRh5.jpg\" data-outbound-url=\"https://out.reddit.com/t3_57aysz?url=http%3A%2F%2Fi.imgur.com%2FPcPPRh5.jpg&amp;token=AQAAwur_VyURkx9tlTVVqgTI6oKQO8Iag5tVLlC0i4gPDtn5U9VV\" data-outbound-expiration=\"1476389570000\" rel=\"\" >My mouse not working</a>&#32;<span class=\"domain\">(<a href=\"/domain/i.imgur.com/\">i.imgur.com</a>)</span></p><div class=\"expando-button collapsed video\"></div><p class=\"tagline \">submitted&#32;<time title=\"Thu Oct 13 15:54:02 2016 UTC\" datetime=\"2016-10-13T15:54:02+00:00\" class=\"live-timestamp\">3 hours ago</time>&#32;by&#32;<a href=\"https://www.reddit.com/user/Bokalok\" class=\"author may-blank id-t2_1163y3\" >Bokalok</a><span class=\"userattrs\"></span>&#32;to&#32;<a href=\"https://www.reddit.com/r/aww/\" class=\"subreddit hover may-blank\" >/r/aww</a></p><ul class=\"flat-list buttons\"><li class=\"first\"><a href=\"https://www.reddit.com/r/aww/comments/57aysz/my_mouse_not_working/\" data-event-action=\"comments\" class=\"bylink comments may-blank\" rel=\"nofollow\" >326 comments</a></li><li class=\"share\"><a class=\"post-sharing-button\" href=\"javascript: void 0;\">share</a></li></ul><div class=\"reportform report-t3_57aysz\"></div><div class=\"expando expando-uninitialized\" style='display: none' data-cachedhtml=\" &lt;div class=&quot;media-preview&quot; id=&quot;media-preview-57aysz&quot; style=&quot;max-width: 1024px&quot;&gt; &lt;div class=&quot;media-preview-content&quot;&gt; &lt;a href=&quot;http://i.imgur.com/PcPPRh5.jpg&quot; class=&quot;may-blank&quot;&gt; &lt;img class=&quot;preview&quot; src=&quot;https://i.redditmedia.com/N7HJFMJxMhjCReVzyMq-yegLi842U_Fivaegms3nzRc.jpg?w=1024&amp;amp;s=3d674dcb6fa9c38e110a56e5a78ea9f6&quot; width=&quot;1024&quot; height=&quot;767&quot;&gt; &lt;/a&gt; &lt;/div&gt; &lt;/div&gt; \" ><span class=\"error\">loading...</span></div></div><div class=\"child\" ></div><div class=\"clearleft\"></div></div><div class=\"clearleft\"></div><div class=\" thing id-t3_57ayjj linkflair linkflair-camera odd&#32; link \" id=\"thing_t3_57ayjj\" onclick=\"click_thing(this)\" data-fullname=\"t3_57ayjj\" data-type=\"link\" data-author=\"abhinavwow\" data-author-fullname=\"t2_mzjh1\" data-subreddit=\"sports\" data-subreddit-fullname=\"t5_2qgzy\" data-timestamp=\"1476373961000\" data-url=\"http://i.imgur.com/5lu97Fd.gifv\" data-domain=\"i.imgur.com\" data-rank=\"3\" ><p class=\"parent\"></p><span class=\"rank\">3</span><div class=\"midcol unvoted\" ><div class=\"arrow up login-required access-required\" data-event-action=\"upvote\" role=\"button\" aria-label=\"upvote\" tabindex=\"0\" ></div><div class=\"score dislikes\">6526</div><div class=\"score unvoted\">6527</div><div class=\"score likes\">6528</div><div class=\"arrow down login-required access-required\" data-event-action=\"downvote\" role=\"button\" aria-label=\"downvote\" tabindex=\"0\" ></div></div><a class=\"thumbnail may-blank outbound \" href=\"http://i.imgur.com/5lu97Fd.gifv\" data-href-url=\"http://i.imgur.com/5lu97Fd.gifv\" data-outbound-url=\"https://out.reddit.com/t3_57ayjj?url=http%3A%2F%2Fi.imgur.com%2F5lu97Fd.gifv&amp;token=AQAAwur_V8A2EzqwMvHCsUghC79BC6nXPzasNCe95p83T5i49opb\" data-outbound-expiration=\"1476389570000\" rel=\"\" ><img src=\"//b.thumbs.redditmedia.com/EoPrUCet4Qpo-CWla2y6-ec2DugqEDFt8tk8yYaM4AY.jpg\" width='70' height='49' alt=\"\"></a><div class=\"entry unvoted\"><p class=\"title\"><a class=\"title may-blank outbound \" href=\"http://i.imgur.com/5lu97Fd.gifv\" tabindex=\"1\" data-href-url=\"http://i.imgur.com/5lu97Fd.gifv\" data-outbound-url=\"https://out.reddit.com/t3_57ayjj?url=http%3A%2F%2Fi.imgur.com%2F5lu97Fd.gifv&amp;token=AQAAwur_V8A2EzqwMvHCsUghC79BC6nXPzasNCe95p83T5i49opb\" data-outbound-expiration=\"1476389570000\" rel=\"\" >Goalkeeper performs miracle</a><span class=\"linkflairlabel\" title=\"Picture/Video\">Picture/Video</span>&#32;<span class=\"domain\">(<a href=\"/domain/i.imgur.com/\">i.imgur.com</a>)</span></p><div class=\"expando-button collapsed video\"></div><p class=\"tagline \">submitted&#32;<time title=\"Thu Oct 13 15:52:41 2016 UTC\" datetime=\"2016-10-13T15:52:41+00:00\" class=\"live-timestamp\">3 hours ago</time>&#32;by&#32;<a href=\"https://www.reddit.com/user/abhinavwow\" class=\"author may-blank id-t2_mzjh1\" >abhinavwow</a><span class=\"userattrs\"></span>&#32;to&#32;<a href=\"https://www.reddit.com/r/sports/\" class=\"subreddit hover may-blank\" >/r/sports</a></p><ul class=\"flat-list buttons\"><li class=\"first\"><a href=\"https://www.reddit.com/r/sports/comments/57ayjj/goalkeeper_performs_miracle/\" data-event-action=\"comments\" class=\"bylink comments may-blank\" rel=\"nofollow\" >1232 comments</a></li><li class=\"share\"><a class=\"post-sharing-button\" href=\"javascript: void 0;\">share</a></li></ul><div class=\"reportform report-t3_57ayjj\"></div><div class=\"expando expando-uninitialized\" style='display: none' data-cachedhtml=\" &lt;div class=&quot;media-preview&quot; id=&quot;media-preview-57ayjj&quot; style=&quot;max-width: 275px&quot;&gt; &lt;div class=&quot;media-preview-content&quot;&gt; &lt;a href=&quot;http://i.imgur.com/5lu97Fd.gifv&quot; class=&quot;may-blank&quot;&gt; &lt;video class=&quot;preview&quot; preload=&quot;auto&quot; autoplay=&quot;autoplay&quot; muted=&quot;muted&quot; loop=&quot;loop&quot; webkit-playsinline=&quot;&quot; style=&quot;width: 275px; height: 193px;&quot;&gt; &lt;source src=&quot;https://g.redditmedia.com/Xx9QDkbUbQeAnmW957M-nHcJ3WanlI9A5d_DmI33ULI.gif?w=275&amp;amp;fm=mp4&amp;amp;mp4-fragmented=false&amp;amp;s=977b78b6a61d3da860486ceff34fd275&quot; type=&quot;video/mp4&quot;&gt; &lt;/video&gt; &lt;/a&gt; &lt;/div&gt; &lt;/div&gt; \" ><span class=\"error\">loading...</span></div></div><div class=\"child\" ></div><div class=\"clearleft\"></div></div><div class=\"clearleft\"></div><div class=\" thing id-t3_57b7fa even&#32; link \" id=\"thing_t3_57b7fa\" onclick=\"click_thing(this)\" data-fullname=\"t3_57b7fa\" data-type=\"link\" data-author=\"mozarda\" data-author-fullname=\"t2_u79if\" data-subreddit=\"gifs\" data-subreddit-fullname=\"t5_2qt55\" data-timestamp=\"1476376649000\" data-url=\"http://i.imgur.com/dhJkIU5.gif\" data-domain=\"i.imgur.com\" data-rank=\"4\" ><p class=\"parent\"></p><span class=\"rank\">4</span><div class=\"midcol unvoted\" ><div class=\"arrow up login-required access-required\" data-event-action=\"upvote\" role=\"button\" aria-label=\"upvote\" tabindex=\"0\" ></div><div class=\"score dislikes\">3726</div><div class=\"score unvoted\">3727</div><div class=\"score likes\">3728</div><div class=\"arrow down login-required access-required\" data-event-action=\"downvote\" role=\"button\" aria-label=\"downvote\" tabindex=\"0\" ></div></div><a class=\"thumbnail may-blank outbound \" href=\"http://i.imgur.com/dhJkIU5.gif\" data-href-url=\"http://i.imgur.com/dhJkIU5.gif\" data-outbound-url=\"https://out.reddit.com/t3_57b7fa?url=http%3A%2F%2Fi.imgur.com%2FdhJkIU5.gif&amp;token=AQAAwur_Vzkp2vSjtR-1YIeCba6t1KX47MLRGi_D-5hhH0GwuORr\" data-outbound-expiration=\"1476389570000\" rel=\"\" ><img src=\"//b.thumbs.redditmedia.com/2-6KrFM9BfvJQP8DHk1ovrH54QEJ_VZ80u_11CCBDug.jpg\" width='70' height='51' alt=\"\"></a><div class=\"entry unvoted\"><p class=\"title\"><a class=\"title may-blank outbound \" href=\"http://i.imgur.com/dhJkIU5.gif\" tabindex=\"1\" data-href-url=\"http://i.imgur.com/dhJkIU5.gif\" data-outbound-url=\"https://out.reddit.com/t3_57b7fa?url=http%3A%2F%2Fi.imgur.com%2FdhJkIU5.gif&amp;token=AQAAwur_Vzkp2vSjtR-1YIeCba6t1KX47MLRGi_D-5hhH0GwuORr\" data-outbound-expiration=\"1476389570000\" rel=\"\" >Sprinkler Gear</a>&#32;<span class=\"domain\">(<a href=\"/domain/i.imgur.com/\">i.imgur.com</a>)</span></p><div class=\"expando-button collapsed video\"></div><p class=\"tagline \">submitted&#32;<time title=\"Thu Oct 13 16:37:29 2016 UTC\" datetime=\"2016-10-13T16:37:29+00:00\" class=\"live-timestamp\">2 hours ago</time>&#32;by&#32;<a href=\"https://www.reddit.com/user/mozarda\" class=\"author may-blank id-t2_u79if\" >mozarda</a><span class=\"userattrs\"></span>&#32;to&#32;<a href=\"https://www.reddit.com/r/gifs/\" class=\"subreddit hover may-blank\" >/r/gifs</a></p><ul class=\"flat-list buttons\"><li class=\"first\"><a href=\"https://www.reddit.com/r/gifs/comments/57b7fa/sprinkler_gear/\" data-event-action=\"comments\" class=\"bylink comments may-blank\" rel=\"nofollow\" >153 comments</a></li><li class=\"share\"><a class=\"post-sharing-button\" href=\"javascript: void 0;\">share</a></li></ul><div class=\"reportform report-t3_57b7fa\"></div><div class=\"expando expando-uninitialized\" style='display: none' data-cachedhtml=\" &lt;div class=&quot;media-preview&quot; id=&quot;media-preview-57b7fa&quot; style=&quot;max-width: 304px&quot;&gt; &lt;div class=&quot;media-preview-content&quot;&gt; &lt;a href=&quot;http://i.imgur.com/dhJkIU5.gif&quot; class=&quot;may-blank&quot;&gt; &lt;video class=&quot;preview&quot; preload=&quot;auto&quot; autoplay=&quot;autoplay&quot; muted=&quot;muted&quot; loop=&quot;loop&quot; webkit-playsinline=&quot;&quot; style=&quot;width: 304px; height: 224px;&quot;&gt; &lt;source src=&quot;https://g.redditmedia.com/KxPYZhR3liJxtKEED6B3200T8XJLev_QKKnUZtNvSbE.gif?w=304&amp;amp;fm=mp4&amp;amp;mp4-fragmented=false&amp;amp;s=ab42b94aea30f4ac0c16186c537cb33a&quot; type=&quot;video/mp4&quot;&gt; &lt;/video&gt; &lt;/a&gt; &lt;/div&gt; &lt;/div&gt; \" ><span class=\"error\">loading...</span></div></div><div class=\"child\" ></div><div class=\"clearleft\"></div></div><div class=\"clearleft\"></div><div class=\" thing id-t3_57aj6a linkflair odd&#32; link \" id=\"thing_t3_57aj6a\" onclick=\"click_thing(this)\" data-fullname=\"t3_57aj6a\" data-type=\"link\" data-author=\"Tomoof\" data-author-fullname=\"t2_wqml6\" data-subreddit=\"food\" data-subreddit-fullname=\"t5_2qh55\" data-timestamp=\"1476369030000\" data-url=\"https://i.reddituploads.com/d6b9dd596f954498a3760a760d0e4e21?fit=max&amp;h=1536&amp;w=1536&amp;s=2fa561dd838dbac7328789d038ef5475\" data-domain=\"i.reddituploads.com\" data-rank=\"5\" ><p class=\"parent\"></p><span class=\"rank\">5</span><div class=\"midcol unvoted\" ><div class=\"arrow up login-required access-required\" data-event-action=\"upvote\" role=\"button\" aria-label=\"upvote\" tabindex=\"0\" ></div><div class=\"score dislikes\">4751</div><div class=\"score unvoted\">4752</div><div class=\"score likes\">4753</div><div class=\"arrow down login-required access-required\" data-event-action=\"downvote\" role=\"button\" aria-label=\"downvote\" tabindex=\"0\" ></div></div><a class=\"thumbnail may-blank outbound \" href=\"https://i.reddituploads.com/d6b9dd596f954498a3760a760d0e4e21?fit=max&amp;h=1536&amp;w=1536&amp;s=2fa561dd838dbac7328789d038ef5475\" data-href-url=\"https://i.reddituploads.com/d6b9dd596f954498a3760a760d0e4e21?fit=max&amp;h=1536&amp;w=1536&amp;s=2fa561dd838dbac7328789d038ef5475\" data-outbound-url=\"https://out.reddit.com/t3_57aj6a?url=https%3A%2F%2Fi.reddituploads.com%2Fd6b9dd596f954498a3760a760d0e4e21%3Ffit%3Dmax%26h%3D1536%26w%3D1536%26s%3D2fa561dd838dbac7328789d038ef5475&amp;token=AQAAwur_VwdIMXSQHryNm47WVMJNlGkTHyaZZicq9hy4bvHmqU0c\" data-outbound-expiration=\"1476389570000\" rel=\"\" ><img src=\"//b.thumbs.redditmedia.com/DKHrvoEUZcZ74IfxJoQ3r4DdLzmhpgh5_fBFZ9SHB9I.jpg\" width='70' height='52' alt=\"\"></a><div class=\"entry unvoted\"><p class=\"title\"><a class=\"title may-blank outbound \" href=\"https://i.reddituploads.com/d6b9dd596f954498a3760a760d0e4e21?fit=max&amp;h=1536&amp;w=1536&amp;s=2fa561dd838dbac7328789d038ef5475\" tabindex=\"1\" data-href-url=\"https://i.reddituploads.com/d6b9dd596f954498a3760a760d0e4e21?fit=max&amp;h=1536&amp;w=1536&amp;s=2fa561dd838dbac7328789d038ef5475\" data-outbound-url=\"https://out.reddit.com/t3_57aj6a?url=https%3A%2F%2Fi.reddituploads.com%2Fd6b9dd596f954498a3760a760d0e4e21%3Ffit%3Dmax%26h%3D1536%26w%3D1536%26s%3D2fa561dd838dbac7328789d038ef5475&amp;token=AQAAwur_VwdIMXSQHryNm47WVMJNlGkTHyaZZicq9hy4bvHmqU0c\" data-outbound-expiration=\"1476389570000\" rel=\"\" >[homemade] A bunch of Empanadas</a><span class=\"linkflairlabel\" title=\"[homemade]\">[homemade]</span>&#32;<span class=\"domain\">(<a href=\"/domain/i.reddituploads.com/\">i.reddituploads.com</a>)</span></p><div class=\"expando-button collapsed video\"></div><p class=\"tagline \">submitted&#32;<time title=\"Thu Oct 13 14:30:30 2016 UTC\" datetime=\"2016-10-13T14:30:30+00:00\" class=\"live-timestamp\">4 hours ago</time>&#32;by&#32;<a href=\"https://www.reddit.com/user/Tomoof\" class=\"author may-blank id-t2_wqml6\" >Tomoof</a><span class=\"userattrs\"></span>&#32;to&#32;<a href=\"https://www.reddit.com/r/food/\" class=\"subreddit hover may-blank\" >/r/food</a></p><ul class=\"flat-list buttons\"><li class=\"first\"><a href=\"https://www.reddit.com/r/food/comments/57aj6a/homemade_a_bunch_of_empanadas/\" data-event-action=\"comments\" class=\"bylink comments may-blank\" rel=\"nofollow\" >539 comments</a></li><li class=\"share\"><a class=\"post-sharing-button\" href=\"javascript: void 0;\">share</a></li></ul><div class=\"reportform report-t3_57aj6a\"></div><div class=\"expando expando-uninitialized\" style='display: none' data-cachedhtml=\" &lt;div class=&quot;media-preview&quot; id=&quot;media-preview-57aj6a&quot; style=&quot;max-width: 1024px&quot;&gt; &lt;div class=&quot;media-preview-content&quot;&gt; &lt;a href=&quot;https://i.reddituploads.com/d6b9dd596f954498a3760a760d0e4e21?fit=max&amp;amp;h=1536&amp;amp;w=1536&amp;amp;s=2fa561dd838dbac7328789d038ef5475&quot; class=&quot;may-blank&quot;&gt; &lt;img class=&quot;preview&quot; src=&quot;https://i.redditmedia.com/ru69XCy3IHEoofl2tyG6jdG5KhPZsu3Y2Xc3S9ZGosA.jpg?w=1024&amp;amp;s=ddfba88c8cc99fe220a77a8750fe4f77&quot; width=&quot;1024&quot; height=&quot;768&quot;&gt; &lt;/a&gt; &lt;/div&gt; &lt;/div&gt; \" ><span class=\"error\">loading...</span></div></div><div class=\"child\" ></div><div class=\"clearleft\"></div></div><div class=\"clearleft\"></div><div class=\" thing id-t3_57a7on even&#32; link self\" id=\"thing_t3_57a7on\" onclick=\"click_thing(this)\" data-fullname=\"t3_57a7on\" data-type=\"link\" data-author=\"Cemil55\" data-author-fullname=\"t2_y3i76\" data-subreddit=\"Showerthoughts\" data-subreddit-fullname=\"t5_2szyo\" data-timestamp=\"1476364897000\" data-url=\"/r/Showerthoughts/comments/57a7on/if_cats_had_wingstheyd_still_just_lay_there/\" data-domain=\"self.Showerthoughts\" data-rank=\"6\" ><p class=\"parent\"></p><span class=\"rank\">6</span><div class=\"midcol unvoted\" ><div class=\"arrow up login-required access-required\" data-event-action=\"upvote\" role=\"button\" aria-label=\"upvote\" tabindex=\"0\" ></div><div class=\"score dislikes\">5231</div><div class=\"score unvoted\">5232</div><div class=\"score likes\">5233</div><div class=\"arrow down login-required access-required\" data-event-action=\"downvote\" role=\"button\" aria-label=\"downvote\" tabindex=\"0\" ></div></div><a class=\"thumbnail self may-blank \" href=\"/r/Showerthoughts/comments/57a7on/if_cats_had_wingstheyd_still_just_lay_there/\" rel=\"\" ></a><div class=\"entry unvoted\"><p class=\"title\"><a class=\"title may-blank \" href=\"/r/Showerthoughts/comments/57a7on/if_cats_had_wingstheyd_still_just_lay_there/\" tabindex=\"1\" rel=\"\" >If cats had wings,they'd still just lay there.</a>&#32;<span class=\"domain\">(<a href=\"/r/Showerthoughts/\">self.Showerthoughts</a>)</span></p><p class=\"tagline \">submitted&#32;<time title=\"Thu Oct 13 13:21:37 2016 UTC\" datetime=\"2016-10-13T13:21:37+00:00\" class=\"live-timestamp\">5 hours ago</time>&#32;by&#32;<a href=\"https://www.reddit.com/user/Cemil55\" class=\"author may-blank id-t2_y3i76\" >Cemil55</a><span class=\"userattrs\"></span>&#32;to&#32;<a href=\"https://www.reddit.com/r/Showerthoughts/\" class=\"subreddit hover may-blank\" >/r/Showerthoughts</a></p><ul class=\"flat-list buttons\"><li class=\"first\"><a href=\"https://www.reddit.com/r/Showerthoughts/comments/57a7on/if_cats_had_wingstheyd_still_just_lay_there/\" data-event-action=\"comments\" class=\"bylink comments may-blank\" rel=\"nofollow\" >444 comments</a></li><li class=\"share\"><a class=\"post-sharing-button\" href=\"javascript: void 0;\">share</a></li></ul><div class=\"reportform report-t3_57a7on\"></div><div class=\"expando expando-uninitialized\" style='display: none' ><span class=\"error\">loading...</span></div></div><div class=\"child\" ></div><div class=\"clearleft\"></div></div><div class=\"clearleft\"></div><div class=\" thing id-t3_579vzr odd&#32; link \" id=\"thing_t3_579vzr\" onclick=\"click_thing(this)\" data-fullname=\"t3_579vzr\" data-type=\"link\" data-author=\"GallowBoob\" data-author-fullname=\"t2_iqsg6\" data-subreddit=\"pics\" data-subreddit-fullname=\"t5_2qh0u\" data-timestamp=\"1476360281000\" data-url=\"http://i.imgur.com/cSUp5u1.jpg\" data-domain=\"i.imgur.com\" data-rank=\"7\" ><p class=\"parent\"></p><span class=\"rank\">7</span><div class=\"midcol unvoted\" ><div class=\"arrow up login-required access-required\" data-event-action=\"upvote\" role=\"button\" aria-label=\"upvote\" tabindex=\"0\" ></div><div class=\"score dislikes\">6988</div><div class=\"score unvoted\">6989</div><div class=\"score likes\">6990</div><div class=\"arrow down login-required access-required\" data-event-action=\"downvote\" role=\"button\" aria-label=\"downvote\" tabindex=\"0\" ></div></div><a class=\"thumbnail may-blank outbound \" href=\"http://i.imgur.com/cSUp5u1.jpg\" data-href-url=\"http://i.imgur.com/cSUp5u1.jpg\" data-outbound-url=\"https://out.reddit.com/t3_579vzr?url=http%3A%2F%2Fi.imgur.com%2FcSUp5u1.jpg&amp;token=AQAAwur_VzteI9o0DlOc3nCnAtJGts80vvmpnx2yuKRsQlJV2-9F\" data-outbound-expiration=\"1476389570000\" rel=\"\" ><img src=\"//b.thumbs.redditmedia.com/ukSFxq_-E9VMwYh34ipSSiiVAqLyQec6E5vnW8PEkdA.jpg\" width='70' height='70' alt=\"\"></a><div class=\"entry unvoted\"><p class=\"title\"><a class=\"title may-blank outbound \" href=\"http://i.imgur.com/cSUp5u1.jpg\" tabindex=\"1\" data-href-url=\"http://i.imgur.com/cSUp5u1.jpg\" data-outbound-url=\"https://out.reddit.com/t3_579vzr?url=http%3A%2F%2Fi.imgur.com%2FcSUp5u1.jpg&amp;token=AQAAwur_VzteI9o0DlOc3nCnAtJGts80vvmpnx2yuKRsQlJV2-9F\" data-outbound-expiration=\"1476389570000\" rel=\"\" >Perfect Julius Caesar pencil holder</a>&#32;<span class=\"domain\">(<a href=\"/domain/i.imgur.com/\">i.imgur.com</a>)</span></p><div class=\"expando-button collapsed video\"></div><p class=\"tagline \">submitted&#32;<time title=\"Thu Oct 13 12:04:41 2016 UTC\" datetime=\"2016-10-13T12:04:41+00:00\" class=\"live-timestamp\">7 hours ago</time>&#32;by&#32;<a href=\"https://www.reddit.com/user/GallowBoob\" class=\"author may-blank id-t2_iqsg6\" >GallowBoob</a><span class=\"userattrs\"></span>&#32;to&#32;<a href=\"https://www.reddit.com/r/pics/\" class=\"subreddit hover may-blank\" >/r/pics</a></p><ul class=\"flat-list buttons\"><li class=\"first\"><a href=\"https://www.reddit.com/r/pics/comments/579vzr/perfect_julius_caesar_pencil_holder/\" data-event-action=\"comments\" class=\"bylink comments may-blank\" rel=\"nofollow\" >945 comments</a></li><li class=\"share\"><a class=\"post-sharing-button\" href=\"javascript: void 0;\">share</a></li></ul><div class=\"reportform report-t3_579vzr\"></div><div class=\"expando expando-uninitialized\" style='display: none' data-cachedhtml=\" &lt;div class=&quot;media-preview&quot; id=&quot;media-preview-579vzr&quot; style=&quot;max-width: 576px&quot;&gt; &lt;div class=&quot;media-preview-content&quot;&gt; &lt;a href=&quot;http://i.imgur.com/cSUp5u1.jpg&quot; class=&quot;may-blank&quot;&gt; &lt;img class=&quot;preview&quot; src=&quot;https://i.redditmedia.com/HvDTUiTLT8wizVktjYvDr-5mEk82ijPb72lcJb7FU94.jpg?w=576&amp;amp;s=971d54aea49e064fdbea86c51bfeef89&quot; width=&quot;576&quot; height=&quot;768&quot;&gt; &lt;/a&gt; &lt;/div&gt; &lt;/div&gt; \" ><span class=\"error\">loading...</span></div></div><div class=\"child\" ></div><div class=\"clearleft\"></div></div><div class=\"clearleft\"></div><div class=\" thing id-t3_579ugt even&#32; link \" id=\"thing_t3_579ugt\" onclick=\"click_thing(this)\" data-fullname=\"t3_579ugt\" data-type=\"link\" data-author=\"Ven_ae\" data-author-fullname=\"t2_il5nm\" data-subreddit=\"worldnews\" data-subreddit-fullname=\"t5_2qh13\" data-timestamp=\"1476359659000\" data-url=\"http://www.bbc.co.uk/news/world-asia-37643326?ns_mchannel=social&amp;ns_campaign=bbc_breaking&amp;ns_source=twitter&amp;ns_linkname=news_central\" data-domain=\"bbc.co.uk\" data-rank=\"8\" ><p class=\"parent\"></p><span class=\"rank\">8</span><div class=\"midcol unvoted\" ><div class=\"arrow up login-required access-required\" data-event-action=\"upvote\" role=\"button\" aria-label=\"upvote\" tabindex=\"0\" ></div><div class=\"score dislikes\">6328</div><div class=\"score unvoted\">6329</div><div class=\"score likes\">6330</div><div class=\"arrow down login-required access-required\" data-event-action=\"downvote\" role=\"button\" aria-label=\"downvote\" tabindex=\"0\" ></div></div><a class=\"thumbnail default may-blank outbound \" href=\"http://www.bbc.co.uk/news/world-asia-37643326?ns_mchannel=social&amp;ns_campaign=bbc_breaking&amp;ns_source=twitter&amp;ns_linkname=news_central\" data-href-url=\"http://www.bbc.co.uk/news/world-asia-37643326?ns_mchannel=social&amp;ns_campaign=bbc_breaking&amp;ns_source=twitter&amp;ns_linkname=news_central\" data-outbound-url=\"https://out.reddit.com/t3_579ugt?url=http%3A%2F%2Fwww.bbc.co.uk%2Fnews%2Fworld-asia-37643326%3Fns_mchannel%3Dsocial%26ns_campaign%3Dbbc_breaking%26ns_source%3Dtwitter%26ns_linkname%3Dnews_central&amp;token=AQAAwur_V2SrMO9gK9tHh-UoQHAxmP0g10HZnFZCJ-4PG7ylgFdc\" data-outbound-expiration=\"1476389570000\" rel=\"\" ></a><div class=\"entry unvoted\"><p class=\"title\"><a class=\"title may-blank outbound \" href=\"http://www.bbc.co.uk/news/world-asia-37643326?ns_mchannel=social&amp;ns_campaign=bbc_breaking&amp;ns_source=twitter&amp;ns_linkname=news_central\" tabindex=\"1\" data-href-url=\"http://www.bbc.co.uk/news/world-asia-37643326?ns_mchannel=social&amp;ns_campaign=bbc_breaking&amp;ns_source=twitter&amp;ns_linkname=news_central\" data-outbound-url=\"https://out.reddit.com/t3_579ugt?url=http%3A%2F%2Fwww.bbc.co.uk%2Fnews%2Fworld-asia-37643326%3Fns_mchannel%3Dsocial%26ns_campaign%3Dbbc_breaking%26ns_source%3Dtwitter%26ns_linkname%3Dnews_central&amp;token=AQAAwur_V2SrMO9gK9tHh-UoQHAxmP0g10HZnFZCJ-4PG7ylgFdc\" data-outbound-expiration=\"1476389570000\" rel=\"\" >Thailand's King Bhumibol Adulyadej dies at 88 - BBC News</a>&#32;<span class=\"domain\">(<a href=\"/domain/bbc.co.uk/\">bbc.co.uk</a>)</span></p><p class=\"tagline \">submitted&#32;<time title=\"Thu Oct 13 11:54:19 2016 UTC\" datetime=\"2016-10-13T11:54:19+00:00\" class=\"live-timestamp\">7 hours ago</time>&#32;by&#32;<a href=\"https://www.reddit.com/user/Ven_ae\" class=\"author may-blank id-t2_il5nm\" >Ven_ae</a><span class=\"userattrs\"></span>&#32;to&#32;<a href=\"https://www.reddit.com/r/worldnews/\" class=\"subreddit hover may-blank\" >/r/worldnews</a></p><ul class=\"flat-list buttons\"><li class=\"first\"><a href=\"https://www.reddit.com/r/worldnews/comments/579ugt/thailands_king_bhumibol_adulyadej_dies_at_88_bbc/\" data-event-action=\"comments\" class=\"bylink comments may-blank\" rel=\"nofollow\" >2671 comments</a></li><li class=\"share\"><a class=\"post-sharing-button\" href=\"javascript: void 0;\">share</a></li></ul><div class=\"reportform report-t3_579ugt\"></div><div class=\"expando expando-uninitialized\" style='display: none' ><span class=\"error\">loading...</span></div></div><div class=\"child\" ></div><div class=\"clearleft\"></div></div><div class=\"clearleft\"></div><div class=\" thing id-t3_579tlh odd&#32; link \" id=\"thing_t3_579tlh\" onclick=\"click_thing(this)\" data-fullname=\"t3_579tlh\" data-type=\"link\" data-author=\"DavidAegis\" data-author-fullname=\"t2_huhat\" data-subreddit=\"movies\" data-subreddit-fullname=\"t5_2qh3s\" data-timestamp=\"1476359259000\" data-url=\"https://www.youtube.com/watch?v=sC9abcLLQpI\" data-domain=\"youtube.com\" data-rank=\"9\" ><p class=\"parent\"></p><span class=\"rank\">9</span><div class=\"midcol unvoted\" ><div class=\"arrow up login-required access-required\" data-event-action=\"upvote\" role=\"button\" aria-label=\"upvote\" tabindex=\"0\" ></div><div class=\"score dislikes\">6201</div><div class=\"score unvoted\">6202</div><div class=\"score likes\">6203</div><div class=\"arrow down login-required access-required\" data-event-action=\"downvote\" role=\"button\" aria-label=\"downvote\" tabindex=\"0\" ></div></div><a class=\"thumbnail may-blank outbound \" href=\"https://www.youtube.com/watch?v=sC9abcLLQpI\" data-href-url=\"https://www.youtube.com/watch?v=sC9abcLLQpI\" data-outbound-url=\"https://out.reddit.com/t3_579tlh?url=https%3A%2F%2Fwww.youtube.com%2Fwatch%3Fv%3DsC9abcLLQpI&amp;token=AQAAwur_V66kmegiHSfNQs0FGyCL24Nes1N3HRXjm5Sa4XV_ihFR\" data-outbound-expiration=\"1476389570000\" rel=\"\" ><img src=\"//b.thumbs.redditmedia.com/YDEdcMzNq9qUfKFCnevbbzQhZ6chqmY3svPbNuxy24w.jpg\" width='70' height='52' alt=\"\"></a><div class=\"entry unvoted\"><p class=\"title\"><a class=\"title may-blank outbound \" href=\"https://www.youtube.com/watch?v=sC9abcLLQpI\" tabindex=\"1\" data-href-url=\"https://www.youtube.com/watch?v=sC9abcLLQpI\" data-outbound-url=\"https://out.reddit.com/t3_579tlh?url=https%3A%2F%2Fwww.youtube.com%2Fwatch%3Fv%3DsC9abcLLQpI&amp;token=AQAAwur_V66kmegiHSfNQs0FGyCL24Nes1N3HRXjm5Sa4XV_ihFR\" data-outbound-expiration=\"1476389570000\" rel=\"\" >Star Wars Rogue One Trailer</a>&#32;<span class=\"domain\">(<a href=\"/domain/youtube.com/\">youtube.com</a>)</span></p><div class=\"expando-button collapsed video\"></div><p class=\"tagline \">submitted&#32;<time title=\"Thu Oct 13 11:47:39 2016 UTC\" datetime=\"2016-10-13T11:47:39+00:00\" class=\"live-timestamp\">7 hours ago</time>&#32;by&#32;<a href=\"https://www.reddit.com/user/DavidAegis\" class=\"author may-blank id-t2_huhat\" >DavidAegis</a><span class=\"userattrs\"></span>&#32;to&#32;<a href=\"https://www.reddit.com/r/movies/\" class=\"subreddit hover may-blank\" >/r/movies</a></p><ul class=\"flat-list buttons\"><li class=\"first\"><a href=\"https://www.reddit.com/r/movies/comments/579tlh/star_wars_rogue_one_trailer/\" data-event-action=\"comments\" class=\"bylink comments may-blank\" rel=\"nofollow\" >5051 comments</a></li><li class=\"share\"><a class=\"post-sharing-button\" href=\"javascript: void 0;\">share</a></li></ul><div class=\"reportform report-t3_579tlh\"></div><div class=\"expando expando-uninitialized\" style='display: none' data-cachedhtml=\" &lt;iframe src=&quot;//www.redditmedia.com/mediaembed/579tlh&quot; id=&quot;media-embed-579tlh-jis&quot; class=&quot;media-embed &quot; width=&quot;610&quot; height=&quot;348&quot; border=&quot;0&quot; frameBorder=&quot;0&quot; scrolling=&quot;no&quot; allowfullscreen&gt;&lt;/iframe&gt; \" ><span class=\"error\">loading...</span></div></div><div class=\"child\" ></div><div class=\"clearleft\"></div></div><div class=\"clearleft\"></div><div class=\" thing id-t3_57a62t even&#32; link self\" id=\"thing_t3_57a62t\" onclick=\"click_thing(this)\" data-fullname=\"t3_57a62t\" data-type=\"link\" data-author=\"Culluh\" data-author-fullname=\"t2_11c0ss\" data-subreddit=\"Jokes\" data-subreddit-fullname=\"t5_2qh72\" data-timestamp=\"1476364320000\" data-url=\"/r/Jokes/comments/57a62t/ill_do_algebra_ill_do_trigonometry_ill_even_do/\" data-domain=\"self.Jokes\" data-rank=\"10\" ><p class=\"parent\"></p><span class=\"rank\">10</span><div class=\"midcol unvoted\" ><div class=\"arrow up login-required access-required\" data-event-action=\"upvote\" role=\"button\" aria-label=\"upvote\" tabindex=\"0\" ></div><div class=\"score dislikes\">4414</div><div class=\"score unvoted\">4415</div><div class=\"score likes\">4416</div><div class=\"arrow down login-required access-required\" data-event-action=\"downvote\" role=\"button\" aria-label=\"downvote\" tabindex=\"0\" ></div></div><a class=\"thumbnail self may-blank \" href=\"/r/Jokes/comments/57a62t/ill_do_algebra_ill_do_trigonometry_ill_even_do/\" rel=\"\" ></a><div class=\"entry unvoted\"><p class=\"title\"><a class=\"title may-blank \" href=\"/r/Jokes/comments/57a62t/ill_do_algebra_ill_do_trigonometry_ill_even_do/\" tabindex=\"1\" rel=\"\" >I'll do algebra, I'll do trigonometry, I'll even do statistics...</a>&#32;<span class=\"domain\">(<a href=\"/r/Jokes/\">self.Jokes</a>)</span></p><div class=\"expando-button collapsed selftext\"></div><p class=\"tagline \">submitted&#32;<time title=\"Thu Oct 13 13:12:00 2016 UTC\" datetime=\"2016-10-13T13:12:00+00:00\" class=\"live-timestamp\">6 hours ago</time>&#32;by&#32;<a href=\"https://www.reddit.com/user/Culluh\" class=\"author may-blank id-t2_11c0ss\" >Culluh</a><span class=\"userattrs\"></span>&#32;to&#32;<a href=\"https://www.reddit.com/r/Jokes/\" class=\"subreddit hover may-blank\" >/r/Jokes</a></p><ul class=\"flat-list buttons\"><li class=\"first\"><a href=\"https://www.reddit.com/r/Jokes/comments/57a62t/ill_do_algebra_ill_do_trigonometry_ill_even_do/\" data-event-action=\"comments\" class=\"bylink comments may-blank\" rel=\"nofollow\" >242 comments</a></li><li class=\"share\"><a class=\"post-sharing-button\" href=\"javascript: void 0;\">share</a></li></ul><div class=\"reportform report-t3_57a62t\"></div><div class=\"expando expando-uninitialized\" style='display: none' ><span class=\"error\">loading...</span></div></div><div class=\"child\" ></div><div class=\"clearleft\"></div></div><div class=\"clearleft\"></div><div class=\" thing id-t3_57ahx5 odd&#32; link \" id=\"thing_t3_57ahx5\" onclick=\"click_thing(this)\" data-fullname=\"t3_57ahx5\" data-type=\"link\" data-author=\"KaitlynCarlos45\" data-author-fullname=\"t2_1239zz\" data-subreddit=\"mildlyinteresting\" data-subreddit-fullname=\"t5_2ti4h\" data-timestamp=\"1476368596000\" data-url=\"http://imgur.com/a/QM2vB\" data-domain=\"imgur.com\" data-rank=\"11\" ><p class=\"parent\"></p><span class=\"rank\">11</span><div class=\"midcol unvoted\" ><div class=\"arrow up login-required access-required\" data-event-action=\"upvote\" role=\"button\" aria-label=\"upvote\" tabindex=\"0\" ></div><div class=\"score dislikes\">3322</div><div class=\"score unvoted\">3323</div><div class=\"score likes\">3324</div><div class=\"arrow down login-required access-required\" data-event-action=\"downvote\" role=\"button\" aria-label=\"downvote\" tabindex=\"0\" ></div></div><a class=\"thumbnail may-blank outbound \" href=\"http://imgur.com/a/QM2vB\" data-href-url=\"http://imgur.com/a/QM2vB\" data-outbound-url=\"https://out.reddit.com/t3_57ahx5?url=http%3A%2F%2Fimgur.com%2Fa%2FQM2vB&amp;token=AQAAwur_V03q27G8psgWROQR328IP3xx-B5-oCDSpHb6V4TUbMhS\" data-outbound-expiration=\"1476389570000\" rel=\"\" ><img src=\"//b.thumbs.redditmedia.com/IHPAZlpJTK-2o-w-UBOVPxoRmr1jK0UbiqvzQlA5EFA.jpg\" width='70' height='46' alt=\"\"></a><div class=\"entry unvoted\"><p class=\"title\"><a class=\"title may-blank outbound \" href=\"http://imgur.com/a/QM2vB\" tabindex=\"1\" data-href-url=\"http://imgur.com/a/QM2vB\" data-outbound-url=\"https://out.reddit.com/t3_57ahx5?url=http%3A%2F%2Fimgur.com%2Fa%2FQM2vB&amp;token=AQAAwur_V03q27G8psgWROQR328IP3xx-B5-oCDSpHb6V4TUbMhS\" data-outbound-expiration=\"1476389570000\" rel=\"\" >My roommate cooked a cat shaped pizza, the parchment paper he cooked it on now looks like a cave painting of a cat.</a>&#32;<span class=\"domain\">(<a href=\"/domain/imgur.com/\">imgur.com</a>)</span></p><div class=\"expando-button collapsed video\"></div><p class=\"tagline \">submitted&#32;<time title=\"Thu Oct 13 14:23:16 2016 UTC\" datetime=\"2016-10-13T14:23:16+00:00\" class=\"live-timestamp\">4 hours ago</time>&#32;by&#32;<a href=\"https://www.reddit.com/user/KaitlynCarlos45\" class=\"author may-blank id-t2_1239zz\" >KaitlynCarlos45</a><span class=\"userattrs\"></span>&#32;to&#32;<a href=\"https://www.reddit.com/r/mildlyinteresting/\" class=\"subreddit hover may-blank\" >/r/mildlyinteresting</a></p><ul class=\"flat-list buttons\"><li class=\"first\"><a href=\"https://www.reddit.com/r/mildlyinteresting/comments/57ahx5/my_roommate_cooked_a_cat_shaped_pizza_the/\" data-event-action=\"comments\" class=\"bylink comments may-blank\" rel=\"nofollow\" >173 comments</a></li><li class=\"share\"><a class=\"post-sharing-button\" href=\"javascript: void 0;\">share</a></li></ul><div class=\"reportform report-t3_57ahx5\"></div><div class=\"expando expando-uninitialized\" style='display: none' data-cachedhtml=\" &lt;iframe src=&quot;//www.redditmedia.com/mediaembed/57ahx5&quot; id=&quot;media-embed-57ahx5-onv&quot; class=&quot;media-embed &quot; width=&quot;560&quot; height=&quot;560&quot; border=&quot;0&quot; frameBorder=&quot;0&quot; scrolling=&quot;no&quot; allowfullscreen&gt;&lt;/iframe&gt; \" ><span class=\"error\">loading...</span></div></div><div class=\"child\" ></div><div class=\"clearleft\"></div></div><div class=\"clearleft\"></div><div class=\" thing id-t3_579qy0 even&#32; link \" id=\"thing_t3_579qy0\" onclick=\"click_thing(this)\" data-fullname=\"t3_579qy0\" data-type=\"link\" data-author=\"Amelia-reddit\" data-author-fullname=\"t2_zyked\" data-subreddit=\"gaming\" data-subreddit-fullname=\"t5_2qh03\" data-timestamp=\"1476357956000\" data-url=\"http://i.imgur.com/SO9kvWq.gifv\" data-domain=\"i.imgur.com\" data-rank=\"12\" ><p class=\"parent\"></p><span class=\"rank\">12</span><div class=\"midcol unvoted\" ><div class=\"arrow up login-required access-required\" data-event-action=\"upvote\" role=\"button\" aria-label=\"upvote\" tabindex=\"0\" ></div><div class=\"score dislikes\">5437</div><div class=\"score unvoted\">5438</div><div class=\"score likes\">5439</div><div class=\"arrow down login-required access-required\" data-event-action=\"downvote\" role=\"button\" aria-label=\"downvote\" tabindex=\"0\" ></div></div><a class=\"thumbnail may-blank outbound \" href=\"http://i.imgur.com/SO9kvWq.gifv\" data-href-url=\"http://i.imgur.com/SO9kvWq.gifv\" data-outbound-url=\"https://out.reddit.com/t3_579qy0?url=http%3A%2F%2Fi.imgur.com%2FSO9kvWq.gifv&amp;token=AQAAwur_V4wBpPuVZnwCXG3Cz4pZkpUDAiRnxjPjHxRO2Krni_3r\" data-outbound-expiration=\"1476389570000\" rel=\"\" ><img src=\"//b.thumbs.redditmedia.com/HcVJ0iDpzRsXx7vsdm-1dV4WWiLPUdnVIGvrIp11_WA.jpg\" width='70' height='39' alt=\"\"></a><div class=\"entry unvoted\"><p class=\"title\"><a class=\"title may-blank outbound \" href=\"http://i.imgur.com/SO9kvWq.gifv\" tabindex=\"1\" data-href-url=\"http://i.imgur.com/SO9kvWq.gifv\" data-outbound-url=\"https://out.reddit.com/t3_579qy0?url=http%3A%2F%2Fi.imgur.com%2FSO9kvWq.gifv&amp;token=AQAAwur_V4wBpPuVZnwCXG3Cz4pZkpUDAiRnxjPjHxRO2Krni_3r\" data-outbound-expiration=\"1476389570000\" rel=\"\" >Lost Ember</a>&#32;<span class=\"domain\">(<a href=\"/domain/i.imgur.com/\">i.imgur.com</a>)</span></p><div class=\"expando-button collapsed video\"></div><p class=\"tagline \">submitted&#32;<time title=\"Thu Oct 13 11:25:56 2016 UTC\" datetime=\"2016-10-13T11:25:56+00:00\" class=\"live-timestamp\">7 hours ago</time>&#32;by&#32;<a href=\"https://www.reddit.com/user/Amelia-reddit\" class=\"author may-blank id-t2_zyked\" >Amelia-reddit</a><span class=\"userattrs\"></span>&#32;to&#32;<a href=\"https://www.reddit.com/r/gaming/\" class=\"subreddit hover may-blank\" >/r/gaming</a></p><ul class=\"flat-list buttons\"><li class=\"first\"><a href=\"https://www.reddit.com/r/gaming/comments/579qy0/lost_ember/\" data-event-action=\"comments\" class=\"bylink comments may-blank\" rel=\"nofollow\" >1024 comments</a></li><li class=\"share\"><a class=\"post-sharing-button\" href=\"javascript: void 0;\">share</a></li></ul><div class=\"reportform report-t3_579qy0\"></div><div class=\"expando expando-uninitialized\" style='display: none' data-cachedhtml=\" &lt;div class=&quot;media-preview&quot; id=&quot;media-preview-579qy0&quot; style=&quot;max-width: 720px&quot;&gt; &lt;div class=&quot;media-preview-content&quot;&gt; &lt;a href=&quot;http://i.imgur.com/SO9kvWq.gifv&quot; class=&quot;may-blank&quot;&gt; &lt;video class=&quot;preview&quot; preload=&quot;auto&quot; autoplay=&quot;autoplay&quot; muted=&quot;muted&quot; loop=&quot;loop&quot; webkit-playsinline=&quot;&quot; style=&quot;width: 720px; height: 404px;&quot;&gt; &lt;source src=&quot;https://g.redditmedia.com/RlCMye24auAwaZp048L88-UzA_PQU52tRdtsJBYz-oo.gif?w=720&amp;amp;fm=mp4&amp;amp;mp4-fragmented=false&amp;amp;s=dab89170d3f20630dd4c1de5d37f39b4&quot; type=&quot;video/mp4&quot;&gt; &lt;/video&gt; &lt;/a&gt; &lt;/div&gt; &lt;/div&gt; \" ><span class=\"error\">loading...</span></div></div><div class=\"child\" ></div><div class=\"clearleft\"></div></div><div class=\"clearleft\"></div><div class=\" thing id-t3_579oeb odd&#32; link \" id=\"thing_t3_579oeb\" onclick=\"click_thing(this)\" data-fullname=\"t3_579oeb\" data-type=\"link\" data-author=\"Serapho\" data-author-fullname=\"t2_9t9l7\" data-subreddit=\"books\" data-subreddit-fullname=\"t5_2qh4i\" data-timestamp=\"1476356616000\" data-url=\"http://www.nobelprize.org/nobel_prizes/literature/laureates/2016/press.html\" data-domain=\"nobelprize.org\" data-rank=\"13\" ><p class=\"parent\"></p><span class=\"rank\">13</span><div class=\"midcol unvoted\" ><div class=\"arrow up login-required access-required\" data-event-action=\"upvote\" role=\"button\" aria-label=\"upvote\" tabindex=\"0\" ></div><div class=\"score dislikes\">5551</div><div class=\"score unvoted\">5552</div><div class=\"score likes\">5553</div><div class=\"arrow down login-required access-required\" data-event-action=\"downvote\" role=\"button\" aria-label=\"downvote\" tabindex=\"0\" ></div></div><a class=\"thumbnail may-blank outbound \" href=\"http://www.nobelprize.org/nobel_prizes/literature/laureates/2016/press.html\" data-href-url=\"http://www.nobelprize.org/nobel_prizes/literature/laureates/2016/press.html\" data-outbound-url=\"https://out.reddit.com/t3_579oeb?url=http%3A%2F%2Fwww.nobelprize.org%2Fnobel_prizes%2Fliterature%2Flaureates%2F2016%2Fpress.html&amp;token=AQAAwur_V-z04opUY4PDJn7qDMvNiGBkrT4KXF-1E3zauVv4UoHU\" data-outbound-expiration=\"1476389570000\" rel=\"\" ><img src=\"//a.thumbs.redditmedia.com/SuoqRTRrWr5gQ3x5Ukp0isAgh50D94omgl7qjtElRa8.jpg\" width='70' height='63' alt=\"\"></a><div class=\"entry unvoted\"><p class=\"title\"><a class=\"title may-blank outbound \" href=\"http://www.nobelprize.org/nobel_prizes/literature/laureates/2016/press.html\" tabindex=\"1\" data-href-url=\"http://www.nobelprize.org/nobel_prizes/literature/laureates/2016/press.html\" data-outbound-url=\"https://out.reddit.com/t3_579oeb?url=http%3A%2F%2Fwww.nobelprize.org%2Fnobel_prizes%2Fliterature%2Flaureates%2F2016%2Fpress.html&amp;token=AQAAwur_V-z04opUY4PDJn7qDMvNiGBkrT4KXF-1E3zauVv4UoHU\" data-outbound-expiration=\"1476389570000\" rel=\"\" >Bob Dylan receives the Nobel Prize in Literature 2016</a>&#32;<span class=\"domain\">(<a href=\"/domain/nobelprize.org/\">nobelprize.org</a>)</span></p><p class=\"tagline \">submitted&#32;<time title=\"Thu Oct 13 11:03:36 2016 UTC\" datetime=\"2016-10-13T11:03:36+00:00\" class=\"live-timestamp\">8 hours ago</time>&#32;by&#32;<a href=\"https://www.reddit.com/user/Serapho\" class=\"author may-blank id-t2_9t9l7\" >Serapho</a><span class=\"userattrs\"></span>&#32;to&#32;<a href=\"https://www.reddit.com/r/books/\" class=\"subreddit hover may-blank\" >/r/books</a></p><ul class=\"flat-list buttons\"><li class=\"first\"><a href=\"https://www.reddit.com/r/books/comments/579oeb/bob_dylan_receives_the_nobel_prize_in_literature/\" data-event-action=\"comments\" class=\"bylink comments may-blank\" rel=\"nofollow\" >1804 comments</a></li><li class=\"share\"><a class=\"post-sharing-button\" href=\"javascript: void 0;\">share</a></li></ul><div class=\"reportform report-t3_579oeb\"></div><div class=\"expando expando-uninitialized\" style='display: none' ><span class=\"error\">loading...</span></div></div><div class=\"child\" ></div><div class=\"clearleft\"></div></div><div class=\"clearleft\"></div><div class=\" thing id-t3_579jlw even&#32; link \" id=\"thing_t3_579jlw\" onclick=\"click_thing(this)\" data-fullname=\"t3_579jlw\" data-type=\"link\" data-author=\"El-Arairah\" data-author-fullname=\"t2_ga4v4\" data-subreddit=\"todayilearned\" data-subreddit-fullname=\"t5_2qqjc\" data-timestamp=\"1476353891000\" data-url=\"http://the-talks.com/interview/sir-michael-caine/\" data-domain=\"the-talks.com\" data-rank=\"14\" ><p class=\"parent\"></p><span class=\"rank\">14</span><div class=\"midcol unvoted\" ><div class=\"arrow up login-required access-required\" data-event-action=\"upvote\" role=\"button\" aria-label=\"upvote\" tabindex=\"0\" ></div><div class=\"score dislikes\">6064</div><div class=\"score unvoted\">6065</div><div class=\"score likes\">6066</div><div class=\"arrow down login-required access-required\" data-event-action=\"downvote\" role=\"button\" aria-label=\"downvote\" tabindex=\"0\" ></div></div><a class=\"thumbnail may-blank outbound \" href=\"http://the-talks.com/interview/sir-michael-caine/\" data-href-url=\"http://the-talks.com/interview/sir-michael-caine/\" data-outbound-url=\"https://out.reddit.com/t3_579jlw?url=http%3A%2F%2Fthe-talks.com%2Finterview%2Fsir-michael-caine%2F&amp;token=AQAAwur_V3DeUdlHHWxeL5STzanVsS7pFMWv_3EZcPbLJIzL78qI\" data-outbound-expiration=\"1476389570000\" rel=\"\" ><img src=\"//a.thumbs.redditmedia.com/nF4uAW0I3yaiy0FrOqlUm6b0UwQVjWY6yPmf8CYI2K8.jpg\" width='70' height='36' alt=\"\"></a><div class=\"entry unvoted\"><p class=\"title\"><a class=\"title may-blank outbound \" href=\"http://the-talks.com/interview/sir-michael-caine/\" tabindex=\"1\" data-href-url=\"http://the-talks.com/interview/sir-michael-caine/\" data-outbound-url=\"https://out.reddit.com/t3_579jlw?url=http%3A%2F%2Fthe-talks.com%2Finterview%2Fsir-michael-caine%2F&amp;token=AQAAwur_V3DeUdlHHWxeL5STzanVsS7pFMWv_3EZcPbLJIzL78qI\" data-outbound-expiration=\"1476389570000\" rel=\"\" >TIL that Michael Caine started acting because the drama classes were full of pretty girls and he wanted to get laid</a>&#32;<span class=\"domain\">(<a href=\"/domain/the-talks.com/\">the-talks.com</a>)</span></p><p class=\"tagline \">submitted&#32;<time title=\"Thu Oct 13 10:18:11 2016 UTC\" datetime=\"2016-10-13T10:18:11+00:00\" class=\"live-timestamp\">8 hours ago</time>&#32;by&#32;<a href=\"https://www.reddit.com/user/El-Arairah\" class=\"author may-blank id-t2_ga4v4\" >El-Arairah</a><span class=\"userattrs\"></span>&#32;to&#32;<a href=\"https://www.reddit.com/r/todayilearned/\" class=\"subreddit hover may-blank\" >/r/todayilearned</a></p><ul class=\"flat-list buttons\"><li class=\"first\"><a href=\"https://www.reddit.com/r/todayilearned/comments/579jlw/til_that_michael_caine_started_acting_because_the/\" data-event-action=\"comments\" class=\"bylink comments may-blank\" rel=\"nofollow\" >1775 comments</a></li><li class=\"share\"><a class=\"post-sharing-button\" href=\"javascript: void 0;\">share</a></li></ul><div class=\"reportform report-t3_579jlw\"></div><div class=\"expando expando-uninitialized\" style='display: none' ><span class=\"error\">loading...</span></div></div><div class=\"child\" ></div><div class=\"clearleft\"></div></div><div class=\"clearleft\"></div><div class=\" thing id-t3_579jh4 odd&#32; link self\" id=\"thing_t3_579jh4\" onclick=\"click_thing(this)\" data-fullname=\"t3_579jh4\" data-type=\"link\" data-author=\"Gol1m\" data-author-fullname=\"t2_ipodz\" data-subreddit=\"AskReddit\" data-subreddit-fullname=\"t5_2qh1i\" data-timestamp=\"1476353814000\" data-url=\"/r/AskReddit/comments/579jh4/what_is_something_most_think_is_real_but_is/\" data-domain=\"self.AskReddit\" data-rank=\"15\" ><p class=\"parent\"></p><span class=\"rank\">15</span><div class=\"midcol unvoted\" ><div class=\"arrow up login-required access-required\" data-event-action=\"upvote\" role=\"button\" aria-label=\"upvote\" tabindex=\"0\" ></div><div class=\"score dislikes\">5082</div><div class=\"score unvoted\">5083</div><div class=\"score likes\">5084</div><div class=\"arrow down login-required access-required\" data-event-action=\"downvote\" role=\"button\" aria-label=\"downvote\" tabindex=\"0\" ></div></div><a class=\"thumbnail self may-blank \" href=\"/r/AskReddit/comments/579jh4/what_is_something_most_think_is_real_but_is/\" rel=\"\" ></a><div class=\"entry unvoted\"><p class=\"title\"><a class=\"title may-blank \" href=\"/r/AskReddit/comments/579jh4/what_is_something_most_think_is_real_but_is/\" tabindex=\"1\" rel=\"\" >What is something most think is real but is really fake?</a>&#32;<span class=\"domain\">(<a href=\"/r/AskReddit/\">self.AskReddit</a>)</span></p><p class=\"tagline \">submitted&#32;<time title=\"Thu Oct 13 10:16:54 2016 UTC\" datetime=\"2016-10-13T10:16:54+00:00\" class=\"live-timestamp\">8 hours ago</time>&#32;by&#32;<a href=\"https://www.reddit.com/user/Gol1m\" class=\"author may-blank id-t2_ipodz\" >Gol1m</a><span class=\"userattrs\"></span>&#32;to&#32;<a href=\"https://www.reddit.com/r/AskReddit/\" class=\"subreddit hover may-blank\" >/r/AskReddit</a></p><ul class=\"flat-list buttons\"><li class=\"first\"><a href=\"https://www.reddit.com/r/AskReddit/comments/579jh4/what_is_something_most_think_is_real_but_is/\" data-event-action=\"comments\" class=\"bylink comments may-blank\" rel=\"nofollow\" >14127 comments</a></li><li class=\"share\"><a class=\"post-sharing-button\" href=\"javascript: void 0;\">share</a></li></ul><div class=\"reportform report-t3_579jh4\"></div><div class=\"expando expando-uninitialized\" style='display: none' ><span class=\"error\">loading...</span></div></div><div class=\"child\" ></div><div class=\"clearleft\"></div></div><div class=\"clearleft\"></div><div class=\" thing id-t3_579ohn even&#32; link \" id=\"thing_t3_579ohn\" onclick=\"click_thing(this)\" data-fullname=\"t3_579ohn\" data-type=\"link\" data-author=\"Chuffnell\" data-author-fullname=\"t2_clwmc\" data-subreddit=\"news\" data-subreddit-fullname=\"t5_2qh3l\" data-timestamp=\"1476356661000\" data-url=\"https://www.theguardian.com/books/live/2016/oct/13/nobel-prize-in-literature-2016-liveblog\" data-domain=\"theguardian.com\" data-rank=\"16\" ><p class=\"parent\"></p><span class=\"rank\">16</span><div class=\"midcol unvoted\" ><div class=\"arrow up login-required access-required\" data-event-action=\"upvote\" role=\"button\" aria-label=\"upvote\" tabindex=\"0\" ></div><div class=\"score dislikes\">4337</div><div class=\"score unvoted\">4338</div><div class=\"score likes\">4339</div><div class=\"arrow down login-required access-required\" data-event-action=\"downvote\" role=\"button\" aria-label=\"downvote\" tabindex=\"0\" ></div></div><a class=\"thumbnail default may-blank outbound \" href=\"https://www.theguardian.com/books/live/2016/oct/13/nobel-prize-in-literature-2016-liveblog\" data-href-url=\"https://www.theguardian.com/books/live/2016/oct/13/nobel-prize-in-literature-2016-liveblog\" data-outbound-url=\"https://out.reddit.com/t3_579ohn?url=https%3A%2F%2Fwww.theguardian.com%2Fbooks%2Flive%2F2016%2Foct%2F13%2Fnobel-prize-in-literature-2016-liveblog&amp;token=AQAAwur_V4g7-g_74dinZ4p9LYLTzr49y9bP0WJCuK_-daRKNS4F\" data-outbound-expiration=\"1476389570000\" rel=\"\" ></a><div class=\"entry unvoted\"><p class=\"title\"><a class=\"title may-blank outbound \" href=\"https://www.theguardian.com/books/live/2016/oct/13/nobel-prize-in-literature-2016-liveblog\" tabindex=\"1\" data-href-url=\"https://www.theguardian.com/books/live/2016/oct/13/nobel-prize-in-literature-2016-liveblog\" data-outbound-url=\"https://out.reddit.com/t3_579ohn?url=https%3A%2F%2Fwww.theguardian.com%2Fbooks%2Flive%2F2016%2Foct%2F13%2Fnobel-prize-in-literature-2016-liveblog&amp;token=AQAAwur_V4g7-g_74dinZ4p9LYLTzr49y9bP0WJCuK_-daRKNS4F\" data-outbound-expiration=\"1476389570000\" rel=\"\" >Bob Dylan wins Nobel prize in literature</a>&#32;<span class=\"domain\">(<a href=\"/domain/theguardian.com/\">theguardian.com</a>)</span></p><p class=\"tagline \">submitted&#32;<time title=\"Thu Oct 13 11:04:21 2016 UTC\" datetime=\"2016-10-13T11:04:21+00:00\" class=\"live-timestamp\">8 hours ago</time>&#32;by&#32;<a href=\"https://www.reddit.com/user/Chuffnell\" class=\"author may-blank id-t2_clwmc\" >Chuffnell</a><span class=\"userattrs\"></span>&#32;to&#32;<a href=\"https://www.reddit.com/r/news/\" class=\"subreddit hover may-blank\" >/r/news</a></p><ul class=\"flat-list buttons\"><li class=\"first\"><a href=\"https://www.reddit.com/r/news/comments/579ohn/bob_dylan_wins_nobel_prize_in_literature/\" data-event-action=\"comments\" class=\"bylink comments may-blank\" rel=\"nofollow\" >863 comments</a></li><li class=\"share\"><a class=\"post-sharing-button\" href=\"javascript: void 0;\">share</a></li></ul><div class=\"reportform report-t3_579ohn\"></div><div class=\"expando expando-uninitialized\" style='display: none' ><span class=\"error\">loading...</span></div></div><div class=\"child\" ></div><div class=\"clearleft\"></div></div><div class=\"clearleft\"></div><div class=\" thing id-t3_579itm linkflair linkflair-soft-lock odd&#32; link \" id=\"thing_t3_579itm\" onclick=\"click_thing(this)\" data-fullname=\"t3_579itm\" data-type=\"link\" data-author=\"_korbendallas_\" data-author-fullname=\"t2_iqgmk\" data-subreddit=\"photoshopbattles\" data-subreddit-fullname=\"t5_2tecy\" data-timestamp=\"1476353414000\" data-url=\"https://i.redd.it/y4kpo3zxu7rx.jpg\" data-domain=\"i.redd.it\" data-rank=\"17\" ><p class=\"parent\"></p><span class=\"rank\">17</span><div class=\"midcol unvoted\" ><div class=\"arrow up login-required access-required\" data-event-action=\"upvote\" role=\"button\" aria-label=\"upvote\" tabindex=\"0\" ></div><div class=\"score dislikes\">5100</div><div class=\"score unvoted\">5101</div><div class=\"score likes\">5102</div><div class=\"arrow down login-required access-required\" data-event-action=\"downvote\" role=\"button\" aria-label=\"downvote\" tabindex=\"0\" ></div></div><a class=\"thumbnail may-blank outbound \" href=\"https://i.redd.it/y4kpo3zxu7rx.jpg\" data-href-url=\"https://i.redd.it/y4kpo3zxu7rx.jpg\" data-outbound-url=\"https://out.reddit.com/t3_579itm?url=https%3A%2F%2Fi.redd.it%2Fy4kpo3zxu7rx.jpg&amp;token=AQAAwur_V2oAFsdJ0flqmlqNJerAY_uRWuJBm5N5EulLzWO4EWT4\" data-outbound-expiration=\"1476389570000\" rel=\"\" ><img src=\"//b.thumbs.redditmedia.com/cdtHteYlgj2DE_Jy8r41YtNhwckssADNvahB_ZMw2KE.jpg\" width='70' height='42' alt=\"\"></a><div class=\"entry unvoted\"><p class=\"title\"><a class=\"title may-blank outbound \" href=\"https://i.redd.it/y4kpo3zxu7rx.jpg\" tabindex=\"1\" data-href-url=\"https://i.redd.it/y4kpo3zxu7rx.jpg\" data-outbound-url=\"https://out.reddit.com/t3_579itm?url=https%3A%2F%2Fi.redd.it%2Fy4kpo3zxu7rx.jpg&amp;token=AQAAwur_V2oAFsdJ0flqmlqNJerAY_uRWuJBm5N5EulLzWO4EWT4\" data-outbound-expiration=\"1476389570000\" rel=\"\" >PsBattle: A frog with its mouth open</a><span class=\"linkflairlabel\" title=\"Photoshops Only Mode\">Photoshops Only Mode</span>&#32;<span class=\"domain\">(<a href=\"/domain/i.redd.it/\">i.redd.it</a>)</span></p><div class=\"expando-button collapsed video\"></div><p class=\"tagline \">submitted&#32;<time title=\"Thu Oct 13 10:10:14 2016 UTC\" datetime=\"2016-10-13T10:10:14+00:00\" class=\"live-timestamp\">9 hours ago</time>&#32;by&#32;<a href=\"https://www.reddit.com/user/_korbendallas_\" class=\"author may-blank id-t2_iqgmk\" >_korbendallas_</a><span class=\"userattrs\"></span>&#32;to&#32;<a href=\"https://www.reddit.com/r/photoshopbattles/\" class=\"subreddit hover may-blank\" >/r/photoshopbattles</a></p><ul class=\"flat-list buttons\"><li class=\"first\"><a href=\"https://www.reddit.com/r/photoshopbattles/comments/579itm/psbattle_a_frog_with_its_mouth_open/\" data-event-action=\"comments\" class=\"bylink comments may-blank\" rel=\"nofollow\" >388 comments</a></li><li class=\"share\"><a class=\"post-sharing-button\" href=\"javascript: void 0;\">share</a></li></ul><div class=\"reportform report-t3_579itm\"></div><div class=\"expando expando-uninitialized\" style='display: none' data-cachedhtml=\" &lt;div class=&quot;media-preview&quot; id=&quot;media-preview-579itm&quot; style=&quot;max-width: 1024px&quot;&gt; &lt;div class=&quot;media-preview-content&quot;&gt; &lt;a href=&quot;https://i.redd.it/y4kpo3zxu7rx.jpg&quot; class=&quot;may-blank&quot;&gt; &lt;img class=&quot;preview&quot; src=&quot;https://i.redditmedia.com/xybpSXh_lvUNGX0tcE7ouPTYaOqwO82tQQ6gu2dW1yA.jpg?w=1024&amp;amp;s=dd14c1648353748ee6aeedf76a83c6a0&quot; width=&quot;1024&quot; height=&quot;614&quot;&gt; &lt;/a&gt; &lt;/div&gt; &lt;/div&gt; \" ><span class=\"error\">loading...</span></div></div><div class=\"child\" ></div><div class=\"clearleft\"></div></div><div class=\"clearleft\"></div><div class=\" thing id-t3_579ied even&#32; link \" id=\"thing_t3_579ied\" onclick=\"click_thing(this)\" data-fullname=\"t3_579ied\" data-type=\"link\" data-author=\"AspLeaf\" data-author-fullname=\"t2_44i1i\" data-subreddit=\"EarthPorn\" data-subreddit-fullname=\"t5_2sbq3\" data-timestamp=\"1476353185000\" data-url=\"https://i.redd.it/9vndmaibu7rx.jpg\" data-domain=\"i.redd.it\" data-rank=\"18\" ><p class=\"parent\"></p><span class=\"rank\">18</span><div class=\"midcol unvoted\" ><div class=\"arrow up login-required access-required\" data-event-action=\"upvote\" role=\"button\" aria-label=\"upvote\" tabindex=\"0\" ></div><div class=\"score dislikes\">4924</div><div class=\"score unvoted\">4925</div><div class=\"score likes\">4926</div><div class=\"arrow down login-required access-required\" data-event-action=\"downvote\" role=\"button\" aria-label=\"downvote\" tabindex=\"0\" ></div></div><a class=\"thumbnail may-blank \" href=\"/r/EarthPorn/comments/579ied/cold_morning_in_sweden_oc_1600x1200/\" rel=\"\" ><img src=\"//b.thumbs.redditmedia.com/I9s0-oW1eUM0QmgsTURfTVziZLWs3FGcQGXsmGYFp0c.jpg\" width='70' height='52' alt=\"\"></a><div class=\"entry unvoted\"><p class=\"title\"><a class=\"title may-blank \" href=\"/r/EarthPorn/comments/579ied/cold_morning_in_sweden_oc_1600x1200/\" tabindex=\"1\" rel=\"\" >Cold morning in Sweden [OC] [1600x1200]</a>&#32;<span class=\"domain\">(<a href=\"/domain/i.redd.it/\">i.redd.it</a>)</span></p><div class=\"expando-button collapsed video\"></div><p class=\"tagline \">submitted&#32;<time title=\"Thu Oct 13 10:06:25 2016 UTC\" datetime=\"2016-10-13T10:06:25+00:00\" class=\"live-timestamp\">9 hours ago</time>&#32;by&#32;<a href=\"https://www.reddit.com/user/AspLeaf\" class=\"author may-blank id-t2_44i1i\" >AspLeaf</a><span class=\"userattrs\"></span>&#32;to&#32;<a href=\"https://www.reddit.com/r/EarthPorn/\" class=\"subreddit hover may-blank\" >/r/EarthPorn</a></p><ul class=\"flat-list buttons\"><li class=\"first\"><a href=\"https://www.reddit.com/r/EarthPorn/comments/579ied/cold_morning_in_sweden_oc_1600x1200/\" data-event-action=\"comments\" class=\"bylink comments may-blank\" rel=\"nofollow\" >159 comments</a></li><li class=\"share\"><a class=\"post-sharing-button\" href=\"javascript: void 0;\">share</a></li></ul><div class=\"reportform report-t3_579ied\"></div><div class=\"expando expando-uninitialized\" style='display: none' data-cachedhtml=\" &lt;div class=&quot;media-preview&quot; id=&quot;media-preview-579ied&quot; style=&quot;max-width: 1024px&quot;&gt; &lt;div class=&quot;media-preview-content&quot;&gt; &lt;a href=&quot;https://i.redd.it/9vndmaibu7rx.jpg&quot; class=&quot;may-blank&quot;&gt; &lt;img class=&quot;preview&quot; src=&quot;https://i.redditmedia.com/H_Bhy9pU5P_Fo54FwpkK1Nvrrg1ZDfB0n8WY0IOT-Cs.jpg?w=1024&amp;amp;s=870a8c6b1ca4a3e2eb8e9f682e8c6a0b&quot; width=&quot;1024&quot; height=&quot;768&quot;&gt; &lt;/a&gt; &lt;/div&gt; &lt;/div&gt; \" ><span class=\"error\">loading...</span></div></div><div class=\"child\" ></div><div class=\"clearleft\"></div></div><div class=\"clearleft\"></div><div class=\" thing id-t3_579lnl odd&#32; link self\" id=\"thing_t3_579lnl\" onclick=\"click_thing(this)\" data-fullname=\"t3_579lnl\" data-type=\"link\" data-author=\"snarfi\" data-author-fullname=\"t2_g2bak\" data-subreddit=\"LifeProTips\" data-subreddit-fullname=\"t5_2s5oq\" data-timestamp=\"1476355105000\" data-url=\"/r/LifeProTips/comments/579lnl/lpt_google_has_a_testament_function_what_should/\" data-domain=\"self.LifeProTips\" data-rank=\"19\" ><p class=\"parent\"></p><span class=\"rank\">19</span><div class=\"midcol unvoted\" ><div class=\"arrow up login-required access-required\" data-event-action=\"upvote\" role=\"button\" aria-label=\"upvote\" tabindex=\"0\" ></div><div class=\"score dislikes\">4167</div><div class=\"score unvoted\">4168</div><div class=\"score likes\">4169</div><div class=\"arrow down login-required access-required\" data-event-action=\"downvote\" role=\"button\" aria-label=\"downvote\" tabindex=\"0\" ></div></div><a class=\"thumbnail self may-blank \" href=\"/r/LifeProTips/comments/579lnl/lpt_google_has_a_testament_function_what_should/\" rel=\"\" ></a><div class=\"entry unvoted\"><p class=\"title\"><a class=\"title may-blank \" href=\"/r/LifeProTips/comments/579lnl/lpt_google_has_a_testament_function_what_should/\" tabindex=\"1\" rel=\"\" >LPT: Google has a testament function, what should happen with your data if you die, and probably the last chance to say some words to your beloved ones.</a>&#32;<span class=\"domain\">(<a href=\"/r/LifeProTips/\">self.LifeProTips</a>)</span></p><div class=\"expando-button collapsed selftext\"></div><p class=\"tagline \">submitted&#32;<time title=\"Thu Oct 13 10:38:25 2016 UTC\" datetime=\"2016-10-13T10:38:25+00:00\" class=\"live-timestamp\">8 hours ago</time>&#32;<time class=\"edited-timestamp\" title=\"last edited 25 minutes ago\" datetime=\"2016-10-13T18:47:20+00:00\">*</time>&#32;by&#32;<a href=\"https://www.reddit.com/user/snarfi\" class=\"author may-blank id-t2_g2bak\" >snarfi</a><span class=\"userattrs\"></span>&#32;to&#32;<a href=\"https://www.reddit.com/r/LifeProTips/\" class=\"subreddit hover may-blank\" >/r/LifeProTips</a></p><ul class=\"flat-list buttons\"><li class=\"first\"><a href=\"https://www.reddit.com/r/LifeProTips/comments/579lnl/lpt_google_has_a_testament_function_what_should/\" data-event-action=\"comments\" class=\"bylink comments may-blank\" rel=\"nofollow\" >364 comments</a></li><li class=\"share\"><a class=\"post-sharing-button\" href=\"javascript: void 0;\">share</a></li></ul><div class=\"reportform report-t3_579lnl\"></div><div class=\"expando expando-uninitialized\" style='display: none' ><span class=\"error\">loading...</span></div></div><div class=\"child\" ></div><div class=\"clearleft\"></div></div><div class=\"clearleft\"></div><div class=\" thing id-t3_57alqo linkflair linkflair-request even&#32; link self\" id=\"thing_t3_57alqo\" onclick=\"click_thing(this)\" data-fullname=\"t3_57alqo\" data-type=\"link\" data-author=\"Jakechelsea\" data-author-fullname=\"t2_pirlk\" data-subreddit=\"IAmA\" data-subreddit-fullname=\"t5_2qzb6\" data-timestamp=\"1476369887000\" data-url=\"/r/IAmA/comments/57alqo/ama_request_anyone_that_worked_at_stratton_oakmont/\" data-domain=\"self.IAmA\" data-rank=\"20\" ><p class=\"parent\"></p><span class=\"rank\">20</span><div class=\"midcol unvoted\" ><div class=\"arrow up login-required access-required\" data-event-action=\"upvote\" role=\"button\" aria-label=\"upvote\" tabindex=\"0\" ></div><div class=\"score dislikes\">1546</div><div class=\"score unvoted\">1547</div><div class=\"score likes\">1548</div><div class=\"arrow down login-required access-required\" data-event-action=\"downvote\" role=\"button\" aria-label=\"downvote\" tabindex=\"0\" ></div></div><a class=\"thumbnail self may-blank \" href=\"/r/IAmA/comments/57alqo/ama_request_anyone_that_worked_at_stratton_oakmont/\" rel=\"\" ></a><div class=\"entry unvoted\"><p class=\"title\"><a class=\"title may-blank \" href=\"/r/IAmA/comments/57alqo/ama_request_anyone_that_worked_at_stratton_oakmont/\" tabindex=\"1\" rel=\"\" >[AMA Request] Anyone that worked at Stratton Oakmont</a><span class=\"linkflairlabel\" title=\"Request\">Request</span>&#32;<span class=\"domain\">(<a href=\"/r/IAmA/\">self.IAmA</a>)</span></p><div class=\"expando-button collapsed selftext\"></div><p class=\"tagline \">submitted&#32;<time title=\"Thu Oct 13 14:44:47 2016 UTC\" datetime=\"2016-10-13T14:44:47+00:00\" class=\"live-timestamp\">4 hours ago</time>&#32;by&#32;<a href=\"https://www.reddit.com/user/Jakechelsea\" class=\"author may-blank id-t2_pirlk\" >Jakechelsea</a><span class=\"userattrs\"></span>&#32;to&#32;<a href=\"https://www.reddit.com/r/IAmA/\" class=\"subreddit hover may-blank\" >/r/IAmA</a></p><ul class=\"flat-list buttons\"><li class=\"first\"><a href=\"https://www.reddit.com/r/IAmA/comments/57alqo/ama_request_anyone_that_worked_at_stratton_oakmont/\" data-event-action=\"comments\" class=\"bylink comments may-blank\" rel=\"nofollow\" >187 comments</a></li><li class=\"share\"><a class=\"post-sharing-button\" href=\"javascript: void 0;\">share</a></li></ul><div class=\"reportform report-t3_57alqo\"></div><div class=\"expando expando-uninitialized\" style='display: none' ><span class=\"error\">loading...</span></div></div><div class=\"child\" ></div><div class=\"clearleft\"></div></div><div class=\"clearleft\"></div><div class=\" thing id-t3_579736 linkflair linkflair-other odd&#32; gilded link self\" id=\"thing_t3_579736\" onclick=\"click_thing(this)\" data-fullname=\"t3_579736\" data-type=\"link\" data-author=\"Jumala\" data-author-fullname=\"t2_5a8u8\" data-subreddit=\"Music\" data-subreddit-fullname=\"t5_2qh1u\" data-timestamp=\"1476345928000\" data-url=\"/r/Music/comments/579736/you_all_seem_to_be_complaining_that_there_isnt/\" data-domain=\"self.Music\" data-rank=\"21\" ><p class=\"parent\"></p><span class=\"rank\">21</span><div class=\"midcol unvoted\" ><div class=\"arrow up login-required access-required\" data-event-action=\"upvote\" role=\"button\" aria-label=\"upvote\" tabindex=\"0\" ></div><div class=\"score dislikes\">4818</div><div class=\"score unvoted\">4819</div><div class=\"score likes\">4820</div><div class=\"arrow down login-required access-required\" data-event-action=\"downvote\" role=\"button\" aria-label=\"downvote\" tabindex=\"0\" ></div></div><a class=\"thumbnail self may-blank \" href=\"/r/Music/comments/579736/you_all_seem_to_be_complaining_that_there_isnt/\" rel=\"\" ></a><div class=\"entry unvoted\"><p class=\"title\"><a class=\"title may-blank \" href=\"/r/Music/comments/579736/you_all_seem_to_be_complaining_that_there_isnt/\" tabindex=\"1\" rel=\"\" >You all seem to be complaining that there isn't enough variety on r/music, but then you downvote genres and songs you don't like to zero.</a><span class=\"linkflairlabel\" title=\"meta\">meta</span>&#32;<span class=\"domain\">(<a href=\"/r/Music/\">self.Music</a>)</span></p><div class=\"expando-button collapsed selftext\"></div><p class=\"tagline \">submitted&#32;<time title=\"Thu Oct 13 08:05:28 2016 UTC\" datetime=\"2016-10-13T08:05:28+00:00\" class=\"live-timestamp\">11 hours ago</time>&#32;by&#32;<a href=\"https://www.reddit.com/user/Jumala\" class=\"author may-blank id-t2_5a8u8\" >Jumala</a><span class=\"userattrs\"></span>&#32;to&#32;<a href=\"https://www.reddit.com/r/Music/\" class=\"subreddit hover may-blank\" >/r/Music</a></p><ul class=\"flat-list buttons\"><li class=\"first\"><a href=\"https://www.reddit.com/r/Music/comments/579736/you_all_seem_to_be_complaining_that_there_isnt/\" data-event-action=\"comments\" class=\"bylink comments may-blank\" rel=\"nofollow\" >1503 comments</a></li><li class=\"share\"><a class=\"post-sharing-button\" href=\"javascript: void 0;\">share</a></li></ul><div class=\"reportform report-t3_579736\"></div><div class=\"expando expando-uninitialized\" style='display: none' ><span class=\"error\">loading...</span></div></div><div class=\"child\" ></div><div class=\"clearleft\"></div></div><div class=\"clearleft\"></div><div class=\" thing id-t3_57a3hm linkflair linkflair-news even&#32; link \" id=\"thing_t3_57a3hm\" onclick=\"click_thing(this)\" data-fullname=\"t3_57a3hm\" data-type=\"link\" data-author=\"mvea\" data-author-fullname=\"t2_6hji\" data-subreddit=\"Futurology\" data-subreddit-fullname=\"t5_2t7no\" data-timestamp=\"1476363322000\" data-url=\"http://www.ecowatch.com/worlds-largest-solar-project-nevada-2041546638.html\" data-domain=\"ecowatch.com\" data-rank=\"22\" ><p class=\"parent\"></p><span class=\"rank\">22</span><div class=\"midcol unvoted\" ><div class=\"arrow up login-required access-required\" data-event-action=\"upvote\" role=\"button\" aria-label=\"upvote\" tabindex=\"0\" ></div><div class=\"score dislikes\">1900</div><div class=\"score unvoted\">1901</div><div class=\"score likes\">1902</div><div class=\"arrow down login-required access-required\" data-event-action=\"downvote\" role=\"button\" aria-label=\"downvote\" tabindex=\"0\" ></div></div><a class=\"thumbnail may-blank outbound \" href=\"http://www.ecowatch.com/worlds-largest-solar-project-nevada-2041546638.html\" data-href-url=\"http://www.ecowatch.com/worlds-largest-solar-project-nevada-2041546638.html\" data-outbound-url=\"https://out.reddit.com/t3_57a3hm?url=http%3A%2F%2Fwww.ecowatch.com%2Fworlds-largest-solar-project-nevada-2041546638.html&amp;token=AQAAwur_V2PhW3qW76kroRE3nMZbzuQzKxWZdRZgzFXHAwpg8ALf\" data-outbound-expiration=\"1476389570000\" rel=\"\" ><img src=\"//b.thumbs.redditmedia.com/d4X63lFg9mDgqGrIsevEjDAY_GyW0ThO1WO7A6dJS0U.jpg\" width='70' height='35' alt=\"\"></a><div class=\"entry unvoted\"><p class=\"title\"><a class=\"title may-blank outbound \" href=\"http://www.ecowatch.com/worlds-largest-solar-project-nevada-2041546638.html\" tabindex=\"1\" data-href-url=\"http://www.ecowatch.com/worlds-largest-solar-project-nevada-2041546638.html\" data-outbound-url=\"https://out.reddit.com/t3_57a3hm?url=http%3A%2F%2Fwww.ecowatch.com%2Fworlds-largest-solar-project-nevada-2041546638.html&amp;token=AQAAwur_V2PhW3qW76kroRE3nMZbzuQzKxWZdRZgzFXHAwpg8ALf\" data-outbound-expiration=\"1476389570000\" rel=\"\" >World's Largest Solar Project Would Generate Electricity 24 Hours a Day, Power 1 Million U.S. Homes: &quot;That amount of power is as much as a nuclear power plant, or the 2,000-megawatt Hoover Dam and far bigger than any other existing solar facility on Earth&quot;</a><span class=\"linkflairlabel\" title=\"article\">article</span>&#32;<span class=\"domain\">(<a href=\"/domain/ecowatch.com/\">ecowatch.com</a>)</span></p><p class=\"tagline \">submitted&#32;<time title=\"Thu Oct 13 12:55:22 2016 UTC\" datetime=\"2016-10-13T12:55:22+00:00\" class=\"live-timestamp\">6 hours ago</time>&#32;by&#32;<a href=\"https://www.reddit.com/user/mvea\" class=\"author may-blank id-t2_6hji\" >mvea</a><span class=\"userattrs\"></span>&#32;to&#32;<a href=\"https://www.reddit.com/r/Futurology/\" class=\"subreddit hover may-blank\" >/r/Futurology</a></p><ul class=\"flat-list buttons\"><li class=\"first\"><a href=\"https://www.reddit.com/r/Futurology/comments/57a3hm/worlds_largest_solar_project_would_generate/\" data-event-action=\"comments\" class=\"bylink comments may-blank\" rel=\"nofollow\" >304 comments</a></li><li class=\"share\"><a class=\"post-sharing-button\" href=\"javascript: void 0;\">share</a></li></ul><div class=\"reportform report-t3_57a3hm\"></div><div class=\"expando expando-uninitialized\" style='display: none' ><span class=\"error\">loading...</span></div></div><div class=\"child\" ></div><div class=\"clearleft\"></div></div><div class=\"clearleft\"></div><div class=\" thing id-t3_579v6t linkflair linkflair-geo linkflair-ama odd&#32; link self\" id=\"thing_t3_579v6t\" onclick=\"click_thing(this)\" data-fullname=\"t3_579v6t\" data-type=\"link\" data-author=\"AmGeophysicalU-AMA\" data-author-fullname=\"t2_rp7zg\" data-subreddit=\"science\" data-subreddit-fullname=\"t5_mouw\" data-timestamp=\"1476359975000\" data-url=\"/r/science/comments/579v6t/science_ama_series_hi_reddit_im_phil_klotzbach_a/\" data-domain=\"self.science\" data-rank=\"23\" ><p class=\"parent\"></p><span class=\"rank\">23</span><div class=\"midcol unvoted\" ><div class=\"arrow up login-required access-required\" data-event-action=\"upvote\" role=\"button\" aria-label=\"upvote\" tabindex=\"0\" ></div><div class=\"score dislikes\">2237</div><div class=\"score unvoted\">2238</div><div class=\"score likes\">2239</div><div class=\"arrow down login-required access-required\" data-event-action=\"downvote\" role=\"button\" aria-label=\"downvote\" tabindex=\"0\" ></div></div><a class=\"thumbnail self may-blank \" href=\"/r/science/comments/579v6t/science_ama_series_hi_reddit_im_phil_klotzbach_a/\" rel=\"\" ></a><div class=\"entry unvoted\"><p class=\"title\"><a class=\"title may-blank \" href=\"/r/science/comments/579v6t/science_ama_series_hi_reddit_im_phil_klotzbach_a/\" tabindex=\"1\" rel=\"\" >Science AMA Series: Hi Reddit, I'm Phil Klotzbach, a research scientist in the Department of Atmospheric Science at Colorado State University. I'm here to talk about the 2016 Atlantic hurricane season specifically as well as any other hurricane/typhoon related questions you have. Ask me anything!</a><span class=\"linkflairlabel\" title=\"Hurricane AMA\">Hurricane AMA</span>&#32;<span class=\"domain\">(<a href=\"/r/science/\">self.science</a>)</span></p><div class=\"expando-button collapsed selftext\"></div><p class=\"tagline \">submitted&#32;<time title=\"Thu Oct 13 11:59:35 2016 UTC\" datetime=\"2016-10-13T11:59:35+00:00\" class=\"live-timestamp\">7 hours ago</time>&#32;by&#32;<a href=\"https://www.reddit.com/user/AmGeophysicalU-AMA\" class=\"author may-blank id-t2_rp7zg\" >AmGeophysicalU-AMA</a><span class=\"userattrs\"></span>&#32;to&#32;<a href=\"https://www.reddit.com/r/science/\" class=\"subreddit hover may-blank\" >/r/science</a></p><ul class=\"flat-list buttons\"><li class=\"first\"><a href=\"https://www.reddit.com/r/science/comments/579v6t/science_ama_series_hi_reddit_im_phil_klotzbach_a/\" data-event-action=\"comments\" class=\"bylink comments may-blank\" rel=\"nofollow\" >257 comments</a></li><li class=\"share\"><a class=\"post-sharing-button\" href=\"javascript: void 0;\">share</a></li></ul><div class=\"reportform report-t3_579v6t\"></div><div class=\"expando expando-uninitialized\" style='display: none' ><span class=\"error\">loading...</span></div></div><div class=\"child\" ></div><div class=\"clearleft\"></div></div><div class=\"clearleft\"></div><div class=\" thing id-t3_57bf36 even&#32; link \" id=\"thing_t3_57bf36\" onclick=\"click_thing(this)\" data-fullname=\"t3_57bf36\" data-type=\"link\" data-author=\"Mr-Snarky\" data-author-fullname=\"t2_twz1g\" data-subreddit=\"DIY\" data-subreddit-fullname=\"t5_2qh7d\" data-timestamp=\"1476378962000\" data-url=\"http://imgur.com/a/RC6Hy\" data-domain=\"imgur.com\" data-rank=\"24\" ><p class=\"parent\"></p><span class=\"rank\">24</span><div class=\"midcol unvoted\" ><div class=\"arrow up login-required access-required\" data-event-action=\"upvote\" role=\"button\" aria-label=\"upvote\" tabindex=\"0\" ></div><div class=\"score likes\">&bull;</div><div class=\"score unvoted\">&bull;</div><div class=\"score dislikes\">&bull;</div><div class=\"arrow down login-required access-required\" data-event-action=\"downvote\" role=\"button\" aria-label=\"downvote\" tabindex=\"0\" ></div></div><a class=\"thumbnail may-blank outbound \" href=\"http://imgur.com/a/RC6Hy\" data-href-url=\"http://imgur.com/a/RC6Hy\" data-outbound-url=\"https://out.reddit.com/t3_57bf36?url=http%3A%2F%2Fimgur.com%2Fa%2FRC6Hy&amp;token=AQAAwur_VwLxDzC4Dj4r06caYBjx2o4cLcdJ9jwN_XnYrcXyym2Q\" data-outbound-expiration=\"1476389570000\" rel=\"\" ><img src=\"//b.thumbs.redditmedia.com/qHFfcWGN0nI2dqJoGkHRmP8lw2Rrw6g30_1N-3cuxmw.jpg\" width='70' height='52' alt=\"\"></a><div class=\"entry unvoted\"><p class=\"title\"><a class=\"title may-blank outbound \" href=\"http://imgur.com/a/RC6Hy\" tabindex=\"1\" data-href-url=\"http://imgur.com/a/RC6Hy\" data-outbound-url=\"https://out.reddit.com/t3_57bf36?url=http%3A%2F%2Fimgur.com%2Fa%2FRC6Hy&amp;token=AQAAwur_VwLxDzC4Dj4r06caYBjx2o4cLcdJ9jwN_XnYrcXyym2Q\" data-outbound-expiration=\"1476389570000\" rel=\"\" >This spring/summer, I built a chicken coop and invited 15 gals to come live with me.</a>&#32;<span class=\"domain\">(<a href=\"/domain/imgur.com/\">imgur.com</a>)</span></p><div class=\"expando-button collapsed video\"></div><p class=\"tagline \">submitted&#32;<time title=\"Thu Oct 13 17:16:02 2016 UTC\" datetime=\"2016-10-13T17:16:02+00:00\" class=\"live-timestamp\">1 hour ago</time>&#32;by&#32;<a href=\"https://www.reddit.com/user/Mr-Snarky\" class=\"author may-blank id-t2_twz1g\" >Mr-Snarky</a><span class=\"userattrs\"></span>&#32;to&#32;<a href=\"https://www.reddit.com/r/DIY/\" class=\"subreddit hover may-blank\" >/r/DIY</a></p><ul class=\"flat-list buttons\"><li class=\"first\"><a href=\"https://www.reddit.com/r/DIY/comments/57bf36/this_springsummer_i_built_a_chicken_coop_and/\" data-event-action=\"comments\" class=\"bylink comments may-blank\" rel=\"nofollow\" >82 comments</a></li><li class=\"share\"><a class=\"post-sharing-button\" href=\"javascript: void 0;\">share</a></li></ul><div class=\"reportform report-t3_57bf36\"></div><div class=\"expando expando-uninitialized\" style='display: none' data-cachedhtml=\" &lt;iframe src=&quot;//www.redditmedia.com/mediaembed/57bf36&quot; id=&quot;media-embed-57bf36-26c&quot; class=&quot;media-embed &quot; width=&quot;560&quot; height=&quot;560&quot; border=&quot;0&quot; frameBorder=&quot;0&quot; scrolling=&quot;no&quot; allowfullscreen&gt;&lt;/iframe&gt; \" ><span class=\"error\">loading...</span></div></div><div class=\"child\" ></div><div class=\"clearleft\"></div></div><div class=\"clearleft\"></div><div class=\" thing id-t3_5791c3 odd&#32; link \" id=\"thing_t3_5791c3\" onclick=\"click_thing(this)\" data-fullname=\"t3_5791c3\" data-type=\"link\" data-author=\"indie_pendent\" data-author-fullname=\"t2_khamz\" data-subreddit=\"space\" data-subreddit-fullname=\"t5_2qh87\" data-timestamp=\"1476342400000\" data-url=\"http://www.nasa.gov/sites/default/files/images/576200main_s84-27017_full.jpg\" data-domain=\"nasa.gov\" data-rank=\"25\" ><p class=\"parent\"></p><span class=\"rank\">25</span><div class=\"midcol unvoted\" ><div class=\"arrow up login-required access-required\" data-event-action=\"upvote\" role=\"button\" aria-label=\"upvote\" tabindex=\"0\" ></div><div class=\"score dislikes\">5145</div><div class=\"score unvoted\">5146</div><div class=\"score likes\">5147</div><div class=\"arrow down login-required access-required\" data-event-action=\"downvote\" role=\"button\" aria-label=\"downvote\" tabindex=\"0\" ></div></div><a class=\"thumbnail may-blank outbound \" href=\"http://www.nasa.gov/sites/default/files/images/576200main_s84-27017_full.jpg\" data-href-url=\"http://www.nasa.gov/sites/default/files/images/576200main_s84-27017_full.jpg\" data-outbound-url=\"https://out.reddit.com/t3_5791c3?url=http%3A%2F%2Fwww.nasa.gov%2Fsites%2Fdefault%2Ffiles%2Fimages%2F576200main_s84-27017_full.jpg&amp;token=AQAAwur_VwQTj5zSWGIP_nzWB__R_ZAmKGU6a6c2rsVCevCnwUyl\" data-outbound-expiration=\"1476389570000\" rel=\"\" ><img src=\"//b.thumbs.redditmedia.com/o1EtkhI3cokVU7U0fjYXjPV106bMMv-hdd0duwqOA-s.jpg\" width='70' height='70' alt=\"\"></a><div class=\"entry unvoted\"><p class=\"title\"><a class=\"title may-blank outbound \" href=\"http://www.nasa.gov/sites/default/files/images/576200main_s84-27017_full.jpg\" tabindex=\"1\" data-href-url=\"http://www.nasa.gov/sites/default/files/images/576200main_s84-27017_full.jpg\" data-outbound-url=\"https://out.reddit.com/t3_5791c3?url=http%3A%2F%2Fwww.nasa.gov%2Fsites%2Fdefault%2Ffiles%2Fimages%2F576200main_s84-27017_full.jpg&amp;token=AQAAwur_VwQTj5zSWGIP_nzWB__R_ZAmKGU6a6c2rsVCevCnwUyl\" data-outbound-expiration=\"1476389570000\" rel=\"\" >Astronaut Bruce McCandless Floating Free</a>&#32;<span class=\"domain\">(<a href=\"/domain/nasa.gov/\">nasa.gov</a>)</span></p><div class=\"expando-button collapsed video\"></div><p class=\"tagline \">submitted&#32;<time title=\"Thu Oct 13 07:06:40 2016 UTC\" datetime=\"2016-10-13T07:06:40+00:00\" class=\"live-timestamp\">12 hours ago</time>&#32;by&#32;<a href=\"https://www.reddit.com/user/indie_pendent\" class=\"author may-blank id-t2_khamz\" >indie_pendent</a><span class=\"userattrs\"></span>&#32;to&#32;<a href=\"https://www.reddit.com/r/space/\" class=\"subreddit hover may-blank\" >/r/space</a></p><ul class=\"flat-list buttons\"><li class=\"first\"><a href=\"https://www.reddit.com/r/space/comments/5791c3/astronaut_bruce_mccandless_floating_free/\" data-event-action=\"comments\" class=\"bylink comments may-blank\" rel=\"nofollow\" >742 comments</a></li><li class=\"share\"><a class=\"post-sharing-button\" href=\"javascript: void 0;\">share</a></li></ul><div class=\"reportform report-t3_5791c3\"></div><div class=\"expando expando-uninitialized\" style='display: none' data-cachedhtml=\" &lt;div class=&quot;media-preview&quot; id=&quot;media-preview-5791c3&quot; style=&quot;max-width: 762px&quot;&gt; &lt;div class=&quot;media-preview-content&quot;&gt; &lt;a href=&quot;http://www.nasa.gov/sites/default/files/images/576200main_s84-27017_full.jpg&quot; class=&quot;may-blank&quot;&gt; &lt;img class=&quot;preview&quot; src=&quot;https://i.redditmedia.com/JzfjI6QGCY4p8nYUaUunq24hBBDo7P85ZFce--ikDPo.jpg?w=762&amp;amp;s=227eb99113aab41c25a4c15cc32002d2&quot; width=&quot;762&quot; height=&quot;768&quot;&gt; &lt;/a&gt; &lt;/div&gt; &lt;/div&gt; \" ><span class=\"error\">loading...</span></div></div><div class=\"child\" ></div><div class=\"clearleft\"></div></div><div class=\"clearleft\"></div><div class=\"nav-buttons\"><span class=\"nextprev\">view more:&#32;<span class=\"next-button\"><a href=\"https://www.reddit.com/?count=25&amp;after=t3_5791c3\" rel=\"nofollow next\" >next &rsaquo;</a></span></span><span class=\"next-suggestions\">or try a&#32;<a href=\"https://www.reddit.com/r/random\" >random subreddit</a></span></div></div><script></script></div><script id=\"archived-popup\" type=\"text/template\"><div class=\"interstitial\"><img class=\"interstitial-image\" src=\"//www.redditstatic.com/interstitial-image-archived.png\" alt=\"archived\" height=\"150\" width=\"150\"><div class=\"interstitial-message md-container\"><div class=\"md\"><h3>This is an archived post. You won't be able to vote or comment.</h3><p>Posts&#32;are&#32;automatically&#32;archived&#32;after&#32;6&#32;months.</p></div></div><div class=\"buttons\"><a href=\"/\" class=\"c-btn c-btn-primary\">Got It</a></div></div></script></div><div class=\"footer-parent\"><div by-zero class=\"footer rounded\"><div class=\"col\"><ul class=\"flat-vert hover\" ><li class=\"flat-vert title\">about</li><li ><a href=\"https://www.reddit.com/blog/\" class=\"choice\" >blog</a></li><li ><span class=\"separator\"></span><a href=\"https://about.reddit.com/\" class=\"choice\" >about</a></li><li ><span class=\"separator\"></span><a href=\"https://www.reddit.com/code/\" class=\"choice\" >source code</a></li><li ><span class=\"separator\"></span><a href=\"https://www.reddit.com/advertising/\" class=\"choice\" >advertise</a></li><li ><span class=\"separator\"></span><a href=\"https://www.reddit.com/jobs/\" class=\"choice\" >jobs</a></li></ul></div><div class=\"col\"><ul class=\"flat-vert hover\" ><li class=\"flat-vert title\">help</li><li ><a href=\"https://www.reddit.com/rules/\" class=\"choice\" >site rules</a></li><li ><span class=\"separator\"></span><a href=\"https://reddit.zendesk.com\" class=\"choice\" >FAQ</a></li><li ><span class=\"separator\"></span><a href=\"https://www.reddit.com/wiki/\" class=\"choice\" >wiki</a></li><li ><span class=\"separator\"></span><a href=\"https://www.reddit.com/wiki/reddiquette/\" class=\"choice\" >reddiquette</a></li><li ><span class=\"separator\"></span><a href=\"https://www.reddit.com/wiki/transparency/\" class=\"choice\" >transparency</a></li><li ><span class=\"separator\"></span><a href=\"https://www.reddit.com/contact/\" class=\"choice\" >contact us</a></li></ul></div><div class=\"col\"><ul class=\"flat-vert hover\" ><li class=\"flat-vert title\">apps &amp; tools</li><li ><a href=\"https://itunes.apple.com/us/app/reddit-the-official-app/id1064216828?mt=8\" class=\"choice\" >Reddit for iPhone</a></li><li ><span class=\"separator\"></span><a href=\"https://play.google.com/store/apps/details?id=com.reddit.frontpage\" class=\"choice\" >Reddit for Android</a></li><li ><span class=\"separator\"></span><a href=\"#\" class=\"mweb-redirect-btn choice\" >mobile website</a></li><li ><span class=\"separator\"></span><a href=\"https://www.reddit.com/buttons/\" class=\"choice\" >buttons</a></li></ul></div><div class=\"col\"><ul class=\"flat-vert hover\" ><li class=\"flat-vert title\">&lt;3</li><li ><a href=\"https://www.reddit.com/gold/about/\" class=\"buygold choice\" >reddit gold</a></li><li ><span class=\"separator\"></span><a href=\"http://redditgifts.com\" class=\"choice\" >redditgifts</a></li></ul></div></div><p class=\"bottommenu\">Use of this site constitutes acceptance of our&#32;<a href=\"https://www.reddit.com/help/useragreement\" >User Agreement</a>&#32;and&#32;<a href=\"https://www.reddit.com/help/privacypolicy\" class=\"updated\" >Privacy Policy (updated)</a>. &copy; 2016 reddit inc. All rights reserved.</p><p class=\"bottommenu\">REDDIT and the ALIEN Logo are registered trademarks of reddit inc.</p></div><script>var BETA_HOST = 'beta.reddit.com'; if (location.host === BETA_HOST) { r.config.https_endpoint = 'https://' + BETA_HOST; }</script><script id=\"login-popup\" type=\"text/template\"><h3 id=\"cover-msg\" class=\"modal-title\">You need to login to do that.</h3><div id=\"login\"><div class=\"split-panel\"><div class=\"split-panel-section split-panel-divider\"><h4 class=\"modal-title\">create a new account</h4><form id=\"register-form\" method=\"post\" action=\"https://www.reddit.com/post/reg\" class=\"form-v2\"><input type=\"hidden\" name=\"op\" value=\"reg\"><div class=\"c-form-group \"><label for=\"user_reg\" class=\"screenreader-only\">username:</label><input value=\"\" name=\"user\" id=\"user_reg\" class=\"c-form-control\" type=\"text\" maxlength=\"20\" tabindex=\"2\" placeholder=\"choose a username\" data-validate-url=\"/api/check_username.json\" data-validate-min=\"3\" autocomplete=\"off\" ><div class=\"c-form-control-feedback-wrapper \"><span class=\"c-form-control-feedback c-form-control-feedback-throbber\"></span><span class=\"c-form-control-feedback c-form-control-feedback-error\" title=\"\"></span><span class=\"c-form-control-feedback c-form-control-feedback-success\"></span></div></div><div class=\"c-form-group \"><label for=\"passwd_reg\" class=\"screenreader-only\">password:</label><input id=\"passwd_reg\" class=\"c-form-control\" name=\"passwd\" type=\"password\" tabindex=\"2\" placeholder=\"password\" data-validate-url='/api/check_password.json'><div class=\"c-form-control-feedback-wrapper \"><span class=\"c-form-control-feedback c-form-control-feedback-throbber\"></span><span class=\"c-form-control-feedback c-form-control-feedback-error\" title=\"\"></span><span class=\"c-form-control-feedback c-form-control-feedback-success\"></span></div></div><div class=\"c-form-group \"><label for=\"passwd2_reg\" class=\"screenreader-only\">verify password:</label><input name=\"passwd2\" id=\"passwd2_reg\" class=\"c-form-control\" type=\"password\" tabindex=\"2\" placeholder=\"verify password\"><div class=\"c-form-control-feedback-wrapper \"><span class=\"c-form-control-feedback c-form-control-feedback-throbber\"></span><span class=\"c-form-control-feedback c-form-control-feedback-error\" title=\"\"></span><span class=\"c-form-control-feedback c-form-control-feedback-success\"></span></div></div><div class=\"c-form-group \"><label for=\"email_reg\" class=\"screenreader-only\">email: &nbsp;<i>(optional)</i></label><input value=\"\" name=\"email\" id=\"email_reg\" class=\"c-form-control\" type=\"text\" tabindex=\"2\" placeholder=\"email\" data-validate-url=\"/api/check_email.json\" data-validate-on=\"change blur\"><div class=\"c-form-control-feedback-wrapper \"><span class=\"c-form-control-feedback c-form-control-feedback-throbber\"></span><span class=\"c-form-control-feedback c-form-control-feedback-error\" title=\"\"></span><span class=\"c-form-control-feedback c-form-control-feedback-success\"></span></div></div><div class=\"c-checkbox\"><input type=\"checkbox\" name=\"rem\" id=\"rem_reg\" tabindex=\"2\"><label for=\"rem_reg\">remember me</label></div><div class=\"c-checkbox\"><input type=\"checkbox\" name=\"newsletter_subscribe\" id=\"newsletter_subscribe\" tabindex=\"2\" data-validate-url=\"/api/check_email.json\" data-validate-on=\"change blur\" data-validate-with=\"email\" ><label for=\"newsletter_subscribe\">get the best of reddit emailed to you once a week.&#32;<a href=\"/newsletter\" target=\"_blank\">learn more</a></label></div><div class=\"spacer\"><div class=\"c-form-group g-recaptcha\" data-sitekey=\"6LeTnxkTAAAAAN9QEuDZRpn90WwKk_R1TRW_g-JC\"></div><span class=\"error BAD_CAPTCHA field-captcha\" style=\"display:none\"></span></div><div class=\"c-clearfix c-submit-group\"><span class=\"c-form-throbber\"></span><button type=\"submit\" class=\"c-btn c-btn-primary c-pull-right\" tabindex=\"2\">sign up</button></div><div><div class=\"c-alert c-alert-danger\"></div><span class=\"error RATELIMIT field-ratelimit\" style=\"display:none\"></span><span class=\"error RATELIMIT field-vdelay\" style=\"display:none\"></span></div></form></div><div class=\"split-panel-section\"><h4 class=\"modal-title\">log in</h4><form id=\"login-form\" method=\"post\" action=\"https://www.reddit.com/post/login\" class=\"form-v2\"><input type=\"hidden\" name=\"op\" value=\"login\"><div class=\"c-form-group \"><label for=\"user_login\" class=\"screenreader-only\">username:</label><input value=\"\" name=\"user\" id=\"user_login\" class=\"c-form-control\" type=\"text\" maxlength=\"20\" tabindex=\"3\" placeholder=\"username\" ></div><div class=\"c-form-group \"><label for=\"passwd_login\" class=\"screenreader-only\">password:</label><input id=\"passwd_login\" class=\"c-form-control\" name=\"passwd\" type=\"password\" tabindex=\"3\" placeholder=\"password\" ><div class=\"c-form-control-feedback-wrapper \"><span class=\"c-form-control-feedback c-form-control-feedback-throbber\"></span><span class=\"c-form-control-feedback c-form-control-feedback-error\" title=\"\"></span><span class=\"c-form-control-feedback c-form-control-feedback-success\"></span></div></div><div class=\"c-checkbox\"><input type=\"checkbox\" name=\"rem\" id=\"rem_login\" tabindex=\"3\"><label for=\"rem_login\">remember me</label><a href=\"/password\" class=\"c-pull-right\">reset password</a></div><div class=\"spacer\"><div class=\"c-form-group g-recaptcha\" data-sitekey=\"6LeTnxkTAAAAAN9QEuDZRpn90WwKk_R1TRW_g-JC\"></div><span class=\"error BAD_CAPTCHA field-captcha\" style=\"display:none\"></span></div><div class=\"c-clearfix c-submit-group\"><span class=\"c-form-throbber\"></span><button type=\"submit\" class=\"c-btn c-btn-primary c-pull-right\" tabindex=\"3\">log in</button></div><div><div class=\"c-alert c-alert-danger\"></div></div></form></div></div><p class=\"login-disclaimer\">By signing up, you agree to our&#32;<a href=\"https://www.reddit.com/help/useragreement/\" >Terms</a>&#32;and that you have read our&#32;<a href=\"https://www.reddit.com/help/privacypolicy/\" >Privacy Policy</a>&#32;and&#32;<a href=\"https://www.reddit.com/help/contentpolicy/\" >Content Policy</a>.</p></div></script><script id=\"lang-popup\" type=\"text/template\"><form action=\"https://www.reddit.com/post/unlogged_options\" method=\"post\" class=\"pretty-form short-text\"><input type=\"hidden\" name=\"uh\" value=\"\" /><table class=\"content preftable\"><tr><th>interface language</th><td class=\"prefright\"><select id=\"lang\" name=\"lang\"><option selected='selected' value=\"en\">English [en]</option><option value=\"ar\">العربية [ar]</option><option value=\"be\">Беларуская мова [be]</option><option value=\"bg\">български език [bg]</option><option value=\"bs\">Bosanski [bs]</option><option value=\"ca\">català [ca]</option><option value=\"cs\">česky [cs]</option><option value=\"da\">dansk [da]</option><option value=\"de\">Deutsch [de]</option><option value=\"el\">Ελληνικά [el]</option><option value=\"en-au\">English (Australia) [en-au]</option><option value=\"en-ca\">English (Canadian) [en-ca]</option><option value=\"en-gb\">English (Great Britain) [en-gb]</option><option value=\"en-us\">English [en-us]</option><option value=\"eo\">Esperanto [eo]</option><option value=\"es\">español [es]</option><option value=\"es-ar\">español [es-ar]</option><option value=\"et\">eesti keel [et]</option><option value=\"eu\">Euskara [eu]</option><option value=\"fa\">فارسی [fa]</option><option value=\"fi\">suomi [fi]</option><option value=\"fr\">français [fr]</option><option value=\"gd\">Gàidhlig [gd]</option><option value=\"he\">עברית [he]</option><option value=\"hi\">मानक हिन्दी [hi]</option><option value=\"hr\">hrvatski [hr]</option><option value=\"hu\">Magyar [hu]</option><option value=\"hy\">Հայերեն լեզու [hy]</option><option value=\"id\">Bahasa Indonesia [id]</option><option value=\"is\">íslenska [is]</option><option value=\"it\">italiano (Italy) [it]</option><option value=\"ja\">日本語 [ja]</option><option value=\"kn_IN\">ಕನ್ನಡ [kn_IN]</option><option value=\"ko\">한국어 [ko]</option><option value=\"la\">Latin [la]</option><option value=\"leet\">1337 [leet]</option><option value=\"lol\">LOL [lol]</option><option value=\"lt\">lietuvių kalba [lt]</option><option value=\"lv\">latviešu valoda [lv]</option><option value=\"nl\">Nederlands [nl]</option><option value=\"nn\">Nynorsk [nn]</option><option value=\"no\">Norsk [no]</option><option value=\"pir\">Arrrrrrrr! [pir]</option><option value=\"pl\">polski [pl]</option><option value=\"pt\">português [pt] (*)</option><option value=\"pt-pt\">português [pt-pt]</option><option value=\"pt_BR\">português brasileiro [pt_BR]</option><option value=\"ro\">română [ro]</option><option value=\"ru\">русский [ru]</option><option value=\"sk\">slovenčina [sk]</option><option value=\"sl\">slovenščina [sl]</option><option value=\"sr\">српски језик [sr]</option><option value=\"sr-la\">Srpski [sr-la]</option><option value=\"sv\">Svenska [sv]</option><option value=\"ta\">தமிழ் [ta]</option><option value=\"th\">ภาษาไทย [th]</option><option value=\"tr\">Türkçe [tr]</option><option value=\"uk\">українська мова [uk]</option><option value=\"vi\">Tiếng Việt [vi]</option><option value=\"zh\">中文 [zh]</option></select>&#32;<span class=\"details hover\">(*) incomplete &#32;<a href=\"https://www.reddit.com/r/i18n/wiki/getting_started\">volunteer to translate</a></span></td></tr><tr><td><input type=\"submit\" class=\"btn\" value=\"save options\"/></td></tr></table></form></script><img id=\"hsts_pixel\" src=\"//reddit.com/static/pixel.png\"><p class=\"debuginfo\"><span class=\"icon\">&pi;</span>&nbsp;<span class=\"content\">Rendered by PID 23957 on&#32; app-04 &#32;at 2016-10-13 19:12:50.725119+00:00 running 00b0b7f country code: US.</span></p><script type=\"text/javascript\" src=\"//www.redditstatic.com/reddit.en.ZKuOO7afgf4.js\"></script></body></html>"
      ],
      "text/plain": [
       "<IPython.core.display.HTML object>"
      ]
     },
     "execution_count": 22,
     "metadata": {},
     "output_type": "execute_result"
    }
   ],
   "source": [
    "r=requests.get(\"https://www.reddit.com/\")\n",
    "HTML(r.content.decode('utf-8'))"
   ]
  },
  {
   "cell_type": "markdown",
   "metadata": {
    "slideshow": {
     "slide_type": "slide"
    }
   },
   "source": [
    "## Webscraping - The Struggle is real"
   ]
  },
  {
   "cell_type": "markdown",
   "metadata": {
    "slideshow": {
     "slide_type": "-"
    }
   },
   "source": [
    "- Robots.txt\n",
    "- User Agent\n",
    "- Ajax"
   ]
  },
  {
   "cell_type": "markdown",
   "metadata": {
    "slideshow": {
     "slide_type": "slide"
    }
   },
   "source": [
    "## Ajax - The enemy of the webscraper"
   ]
  },
  {
   "cell_type": "code",
   "execution_count": 23,
   "metadata": {
    "collapsed": true,
    "slideshow": {
     "slide_type": "-"
    }
   },
   "outputs": [],
   "source": [
    "r2 = requests.get('https://www.google.com/#q=data+science')"
   ]
  },
  {
   "cell_type": "code",
   "execution_count": 24,
   "metadata": {
    "collapsed": false,
    "slideshow": {
     "slide_type": "-"
    }
   },
   "outputs": [
    {
     "data": {
      "text/plain": [
       "<Response [200]>"
      ]
     },
     "execution_count": 24,
     "metadata": {},
     "output_type": "execute_result"
    }
   ],
   "source": [
    "r2"
   ]
  },
  {
   "cell_type": "code",
   "execution_count": 25,
   "metadata": {
    "collapsed": false,
    "slideshow": {
     "slide_type": "slide"
    }
   },
   "outputs": [
    {
     "data": {
      "text/html": [
       "<!doctype html><html itemscope=\"\" itemtype=\"http://schema.org/WebPage\" lang=\"en\"><head><meta content=\"Search the world's information, including webpages, images, videos and more. Google has many special features to help you find exactly what you're looking for.\" name=\"description\"><meta content=\"noodp\" name=\"robots\"><meta content=\"text/html; charset=UTF-8\" http-equiv=\"Content-Type\"><meta content=\"/images/branding/googleg/1x/googleg_standard_color_128dp.png\" itemprop=\"image\"><title>Google</title><script>(function(){window.google={kEI:'v9z_V5GLBoSy-AHj57-ABw',kEXPI:'750722,1351633,1351949,3700316,3700389,3700400,4026241,4028875,4029815,4031109,4032677,4036527,4038012,4039268,4041302,4043492,4045841,4048347,4052304,4052811,4053233,4062982,4064904,4065787,4067939,4068550,4069148,4069838,4069841,4070138,4070327,4071603,4072287,4072364,4072602,4072705,4072777,4073111,4073404,4073419,4073958,4074612,4074682,4074809,4076081,4076096,4076121,4076758,4076930,4076997,4077039,4077222,4077237,4077298,4078430,4078457,4078547,4078562,4078605,4079106,4079155,4079388,4079423,4079553,4079660,4079668,4079963,4080105,4080167,4080230,4080435,4080480,4080513,4080654,4080820,4081017,4081037,4081039,4081253,4081265,4081371,4081460,4081519,4081671,4081757,4082080,4082114,4082164,4082167,4082177,4082183,8300273,8502184,8503585,8504846,8505150,8505152,8506251,8506255,8506339,8506399,8506615,8507045,8507070,8507073,8507080,8507125,8507203,8507209,8507273,8507336,8507380,8507536,10200083,13500017,19000789',authuser:0,kscs:'c9c918f0_24'};google.kHL='en';})();(function(){google.lc=[];google.li=0;google.getEI=function(a){for(var b;a&&(!a.getAttribute||!(b=a.getAttribute(\"eid\")));)a=a.parentNode;return b||google.kEI};google.getLEI=function(a){for(var b=null;a&&(!a.getAttribute||!(b=a.getAttribute(\"leid\")));)a=a.parentNode;return b};google.https=function(){return\"https:\"==window.location.protocol};google.ml=function(){return null};google.wl=function(a,b){try{google.ml(Error(a),!1,b)}catch(c){}};google.time=function(){return(new Date).getTime()};google.log=function(a,b,c,e,g){a=google.logUrl(a,b,c,e,g);if(\"\"!=a){b=new Image;var d=google.lc,f=google.li;d[f]=b;b.onerror=b.onload=b.onabort=function(){delete d[f]};window.google&&window.google.vel&&window.google.vel.lu&&window.google.vel.lu(a);b.src=a;google.li=f+1}};google.logUrl=function(a,b,c,e,g){var d=\"\",f=google.ls||\"\";if(!c&&-1==b.search(\"&ei=\")){var h=google.getEI(e),d=\"&ei=\"+h;-1==b.search(\"&lei=\")&&((e=google.getLEI(e))?d+=\"&lei=\"+e:h!=google.kEI&&(d+=\"&lei=\"+google.kEI))}a=c||\"/\"+(g||\"gen_204\")+\"?atyp=i&ct=\"+a+\"&cad=\"+b+d+f+\"&zx=\"+google.time();/^http:/i.test(a)&&google.https()&&(google.ml(Error(\"a\"),!1,{src:a,glmm:1}),a=\"\");return a};google.y={};google.x=function(a,b){google.y[a.id]=[a,b];return!1};google.lq=[];google.load=function(a,b,c){google.lq.push([[a],b,c])};google.loadAll=function(a,b){google.lq.push([a,b])};})();var a=window.location,b=a.href.indexOf(\"#\");if(0<=b){var c=a.href.substring(b+1);/(^|&)q=/.test(c)&&-1==c.indexOf(\"#\")&&a.replace(\"/search?\"+c.replace(/(^|&)fp=[^&]*/g,\"\")+\"&cad=h\")};</script><style>#gbar,#guser{font-size:13px;padding-top:1px !important;}#gbar{height:22px}#guser{padding-bottom:7px !important;text-align:right}.gbh,.gbd{border-top:1px solid #c9d7f1;font-size:1px}.gbh{height:0;position:absolute;top:24px;width:100%}@media all{.gb1{height:22px;margin-right:.5em;vertical-align:top}#gbar{float:left}}a.gb1,a.gb4{text-decoration:underline !important}a.gb1,a.gb4{color:#00c !important}.gbi .gb4{color:#dd8e27 !important}.gbf .gb4{color:#900 !important}\n",
       "</style><style>body,td,a,p,.h{font-family:arial,sans-serif}body{margin:0;overflow-y:scroll}#gog{padding:3px 8px 0}td{line-height:.8em}.gac_m td{line-height:17px}form{margin-bottom:20px}.h{color:#36c}.q{color:#00c}.ts td{padding:0}.ts{border-collapse:collapse}em{font-weight:bold;font-style:normal}.lst{height:25px;width:496px}.gsfi,.lst{font:18px arial,sans-serif}.gsfs{font:17px arial,sans-serif}.ds{display:inline-box;display:inline-block;margin:3px 0 4px;margin-left:4px}input{font-family:inherit}a.gb1,a.gb2,a.gb3,a.gb4{color:#11c !important}body{background:#fff;color:black}a{color:#11c;text-decoration:none}a:hover,a:active{text-decoration:underline}.fl a{color:#36c}a:visited{color:#551a8b}a.gb1,a.gb4{text-decoration:underline}a.gb3:hover{text-decoration:none}#ghead a.gb2:hover{color:#fff !important}.sblc{padding-top:5px}.sblc a{display:block;margin:2px 0;margin-left:13px;font-size:11px}.lsbb{background:#eee;border:solid 1px;border-color:#ccc #999 #999 #ccc;height:30px}.lsbb{display:block}.ftl,#fll a{display:inline-block;margin:0 12px}.lsb{background:url(/images/nav_logo229.png) 0 -261px repeat-x;border:none;color:#000;cursor:pointer;height:30px;margin:0;outline:0;font:15px arial,sans-serif;vertical-align:top}.lsb:active{background:#ccc}.lst:focus{outline:none}</style><script></script><link href=\"/images/branding/product/ico/googleg_lodp.ico\" rel=\"shortcut icon\"></head><body bgcolor=\"#fff\"><script>(function(){var src='/images/nav_logo229.png';var iesg=false;document.body.onload = function(){window.n && window.n();if (document.images){new Image().src=src;}\n",
       "if (!iesg){document.f&&document.f.q.focus();document.gbqf&&document.gbqf.q.focus();}\n",
       "}\n",
       "})();</script><div id=\"mngb\"> <div id=gbar><nobr><b class=gb1>Search</b> <a class=gb1 href=\"https://www.google.com/imghp?hl=en&tab=wi\">Images</a> <a class=gb1 href=\"https://maps.google.com/maps?hl=en&tab=wl\">Maps</a> <a class=gb1 href=\"https://play.google.com/?hl=en&tab=w8\">Play</a> <a class=gb1 href=\"https://www.youtube.com/?tab=w1\">YouTube</a> <a class=gb1 href=\"https://news.google.com/nwshp?hl=en&tab=wn\">News</a> <a class=gb1 href=\"https://mail.google.com/mail/?tab=wm\">Gmail</a> <a class=gb1 href=\"https://drive.google.com/?tab=wo\">Drive</a> <a class=gb1 style=\"text-decoration:none\" href=\"https://www.google.com/intl/en/options/\"><u>More</u> &raquo;</a></nobr></div><div id=guser width=100%><nobr><span id=gbn class=gbi></span><span id=gbf class=gbf></span><span id=gbe></span><a href=\"http://www.google.com/history/optout?hl=en\" class=gb4>Web History</a> | <a  href=\"/preferences?hl=en\" class=gb4>Settings</a> | <a target=_top id=gb_70 href=\"https://accounts.google.com/ServiceLogin?hl=en&passive=true&continue=https://www.google.com/\" class=gb4>Sign in</a></nobr></div><div class=gbh style=left:0></div><div class=gbh style=right:0></div> </div><center><br clear=\"all\" id=\"lgpd\"><div id=\"lga\"><img alt=\"Google\" height=\"92\" src=\"/images/branding/googlelogo/1x/googlelogo_white_background_color_272x92dp.png\" style=\"padding:28px 0 14px\" width=\"272\" id=\"hplogo\" onload=\"window.lol&&lol()\"><br><br></div><form action=\"/search\" name=\"f\"><table cellpadding=\"0\" cellspacing=\"0\"><tr valign=\"top\"><td width=\"25%\">&nbsp;</td><td align=\"center\" nowrap=\"\"><input name=\"ie\" value=\"ISO-8859-1\" type=\"hidden\"><input value=\"en\" name=\"hl\" type=\"hidden\"><input name=\"source\" type=\"hidden\" value=\"hp\"><input name=\"biw\" type=\"hidden\"><input name=\"bih\" type=\"hidden\"><div class=\"ds\" style=\"height:32px;margin:4px 0\"><input style=\"color:#000;margin:0;padding:5px 8px 0 6px;vertical-align:top\" autocomplete=\"off\" class=\"lst\" value=\"\" title=\"Google Search\" maxlength=\"2048\" name=\"q\" size=\"57\"></div><br style=\"line-height:0\"><span class=\"ds\"><span class=\"lsbb\"><input class=\"lsb\" value=\"Google Search\" name=\"btnG\" type=\"submit\"></span></span><span class=\"ds\"><span class=\"lsbb\"><input class=\"lsb\" value=\"I'm Feeling Lucky\" name=\"btnI\" onclick=\"if(this.form.q.value)this.checked=1; else top.location='/doodles/'\" type=\"submit\"></span></span></td><td class=\"fl sblc\" align=\"left\" nowrap=\"\" width=\"25%\"><a href=\"/advanced_search?hl=en&amp;authuser=0\">Advanced search</a><a href=\"/language_tools?hl=en&amp;authuser=0\">Language tools</a></td></tr></table><input id=\"gbv\" name=\"gbv\" type=\"hidden\" value=\"1\"></form><div id=\"gac_scont\"></div><div style=\"font-size:83%;min-height:3.5em\"><br><div id=\"prm\"><style>.szppmdbYutt__middle-slot-promo{font-size:small;margin-bottom:32px}.szppmdbYutt__middle-slot-promo a._uFi{display:inline-block;text-decoration:none}.szppmdbYutt__middle-slot-promo img{border:none;margin-right:5px;vertical-align:middle}.szppmdbYutt__middle-slot-promo ._vFi{color:red}</style><div class=\"szppmdbYutt__middle-slot-promo r-iwxo_gVbFu2c\" jsl=\"$t t-Gza07Ho9En4;$x 0;\" data-ved=\"0ahUKEwjR5suwvtjPAhUEGT4KHePzD3AQnIcBCAQ\">It&#8217;s Cyber Security Month. Stay safe online with a 2-minute <a class=\"_XIi\" href=\"https://www.google.com/url?q=https://security.google.com/settings/intro/security/secureaccount/welcome%3Futm_source%3Dgoogle%26utm_medium%3Dhpp-desktop-unauth%26utm_campaign%3Dsc-cybersecmonth&amp;source=hpp&amp;id=19000789&amp;ct=3&amp;usg=AFQjCNG7Foo3jPv0dRDSIPfZ0P24Tw8JWw&amp;sa=X&amp;ved=0ahUKEwjR5suwvtjPAhUEGT4KHePzD3AQ8IcBCAU\" rel=\"nofollow\">Security Checkup</a></div></div></div><span id=\"footer\"><div style=\"font-size:10pt\"><div style=\"margin:19px auto;text-align:center\" id=\"fll\"><a href=\"/intl/en/ads/\">Advertising Programs</a><a href=\"/services/\">Business Solutions</a><a href=\"https://plus.google.com/116899029375914044550\" rel=\"publisher\">+Google</a><a href=\"/intl/en/about.html\">About Google</a></div></div><p style=\"color:#767676;font-size:8pt\">&copy; 2016 - <a href=\"/intl/en/policies/privacy/\">Privacy</a> - <a href=\"/intl/en/policies/terms/\">Terms</a></p></span></center><script>(function(){window.google.cdo={height:0,width:0};(function(){var a=window.innerWidth,b=window.innerHeight;if(!a||!b)var c=window.document,d=\"CSS1Compat\"==c.compatMode?c.documentElement:c.body,a=d.clientWidth,b=d.clientHeight;a&&b&&(a!=google.cdo.width||b!=google.cdo.height)&&google.log(\"\",\"\",\"/client_204?&atyp=i&biw=\"+a+\"&bih=\"+b+\"&ei=\"+google.kEI);})();})();</script><div id=\"xjsd\"></div><div id=\"xjsi\"><script>(function(){function c(b){window.setTimeout(function(){var a=document.createElement(\"script\");a.src=b;document.getElementById(\"xjsd\").appendChild(a)},0)}google.dljp=function(b,a){google.xjsu=b;c(a)};google.dlj=c;})();(function(){window.google.xjsrm=['mids'];})();if(google.y)google.y.first=[];if(!google.xjs){window._=window._||{};window._._DumpException=function(e){throw e};if(google.timers&&google.timers.load.t){google.timers.load.t.xjsls=new Date().getTime();}google.dljp('/xjs/_/js/k\\x3dxjs.hp.en_US.OKd_GehDbVo.O/m\\x3dsb_he,d/rt\\x3dj/d\\x3d1/t\\x3dzcms/rs\\x3dACT90oHqsFYagKUT1F8bn3nE4HJSQZWqTQ','/xjs/_/js/k\\x3dxjs.hp.en_US.OKd_GehDbVo.O/m\\x3dsb_he,d/rt\\x3dj/d\\x3d1/t\\x3dzcms/rs\\x3dACT90oHqsFYagKUT1F8bn3nE4HJSQZWqTQ');google.xjs=1;}google.pmc={\"sb_he\":{\"agen\":true,\"cgen\":true,\"client\":\"heirloom-hp\",\"dh\":true,\"dhqt\":true,\"ds\":\"\",\"fl\":true,\"host\":\"google.com\",\"isbh\":28,\"jam\":0,\"jsonp\":true,\"msgs\":{\"cibl\":\"Clear Search\",\"dym\":\"Did you mean:\",\"lcky\":\"I\\u0026#39;m Feeling Lucky\",\"lml\":\"Learn more\",\"oskt\":\"Input tools\",\"psrc\":\"This search was removed from your \\u003Ca href=\\\"/history\\\"\\u003EWeb History\\u003C/a\\u003E\",\"psrl\":\"Remove\",\"sbit\":\"Search by image\",\"srch\":\"Google Search\"},\"nds\":true,\"ovr\":{},\"pq\":\"\",\"refpd\":true,\"rfs\":[],\"scd\":10,\"sce\":5,\"stok\":\"pWXrbzjpiHkjmDEowStg0oomKMk\"},\"d\":{}};google.y.first.push(function(){if(google.med){google.med('init');google.initHistory();google.med('history');}});if(google.j&&google.j.en&&google.j.xi){window.setTimeout(google.j.xi,0);}\n",
       "</script></div></body></html>"
      ],
      "text/plain": [
       "<IPython.core.display.HTML object>"
      ]
     },
     "execution_count": 25,
     "metadata": {},
     "output_type": "execute_result"
    }
   ],
   "source": [
    "# notice anything missing?\n",
    "HTML(r2.content.decode('latin-1'))"
   ]
  },
  {
   "cell_type": "markdown",
   "metadata": {
    "slideshow": {
     "slide_type": "slide"
    }
   },
   "source": [
    "## What is AJAX?"
   ]
  },
  {
   "cell_type": "markdown",
   "metadata": {
    "slideshow": {
     "slide_type": "-"
    }
   },
   "source": [
    ">Conventional web applications transmit information to and from the server using synchronous requests. It means you fill out a form, hit submit, and get directed to a new page with new information from the server.\n",
    "\n",
    ">With AJAX, when you hit submit, JavaScript will make a request to the server, interpret the results, and **update the current screen**. In the purest sense, the user would never know that anything was even transmitted to the server."
   ]
  },
  {
   "cell_type": "markdown",
   "metadata": {
    "slideshow": {
     "slide_type": "slide"
    }
   },
   "source": [
    "## How do you handle Ajax?"
   ]
  },
  {
   "cell_type": "markdown",
   "metadata": {
    "slideshow": {
     "slide_type": "-"
    }
   },
   "source": [
    "If a site uses ajax on content you need to scrape, **you will have to use a browser object** to retrieve it. \n",
    "\n",
    "The difference between a library like requests and an actual browser object is that requests just sends and receives text. The browser object \"renders\" the webpage just like Firefox or Chrome does. \n",
    "\n",
    "So how do we do this? We'll need to libraries to accomplish this...\n",
    "\n",
    "\n",
    "- Selenium\n",
    "\n",
    "- PhantomJS"
   ]
  },
  {
   "cell_type": "markdown",
   "metadata": {
    "slideshow": {
     "slide_type": "slide"
    }
   },
   "source": [
    "## Selenium\n",
    "\n",
    "- Selenium is a browser automation library (used extensively in testing)<br>"
   ]
  },
  {
   "cell_type": "markdown",
   "metadata": {
    "slideshow": {
     "slide_type": "-"
    }
   },
   "source": [
    " <img src=\"http://i.imgur.com/WLs22wp.png\" width=500>"
   ]
  },
  {
   "cell_type": "markdown",
   "metadata": {
    "slideshow": {
     "slide_type": "slide"
    }
   },
   "source": [
    "## PhantomJS\n",
    "\n",
    "PhantomJS is a \"headless\" browswer. It allows us all the functionality available in a full browser, but without the overhead of a UI."
   ]
  },
  {
   "cell_type": "markdown",
   "metadata": {
    "slideshow": {
     "slide_type": "-"
    }
   },
   "source": [
    "<img src=\"http://i.imgur.com/hN5trU9.png\" width=\"500\">"
   ]
  },
  {
   "cell_type": "markdown",
   "metadata": {
    "slideshow": {
     "slide_type": "slide"
    }
   },
   "source": [
    "## Using Selenium with PhantomJS"
   ]
  },
  {
   "cell_type": "code",
   "execution_count": 6,
   "metadata": {
    "collapsed": false,
    "scrolled": true,
    "slideshow": {
     "slide_type": "-"
    }
   },
   "outputs": [],
   "source": [
    "from selenium import webdriver\n",
    "\n",
    "driver = webdriver.PhantomJS(executable_path='/Users/thomas/Downloads/phantomjs-2.1.1-macosx/bin/phantomjs')\n",
    "driver.set_window_size(300, 200) \n",
    "driver.get('https://www.google.com/#q=data+science')"
   ]
  },
  {
   "cell_type": "code",
   "execution_count": 35,
   "metadata": {
    "collapsed": false
   },
   "outputs": [
    {
     "data": {
      "text/plain": [
       "<selenium.webdriver.phantomjs.webdriver.WebDriver (session=\"d67f8da0-917a-11e6-847e-074f08f33fad\")>"
      ]
     },
     "execution_count": 35,
     "metadata": {},
     "output_type": "execute_result"
    }
   ],
   "source": [
    "driver"
   ]
  },
  {
   "cell_type": "code",
   "execution_count": 38,
   "metadata": {
    "collapsed": false,
    "slideshow": {
     "slide_type": "slide"
    }
   },
   "outputs": [
    {
     "data": {
      "text/html": [
       "<!DOCTYPE html><html itemscope=\"\" itemtype=\"http://schema.org/SearchResultsPage\" lang=\"en\"><head><meta content=\"text/html; charset=UTF-8\" http-equiv=\"Content-Type\"><meta content=\"/images/branding/googleg/1x/googleg_standard_color_128dp.png\" itemprop=\"image\"><link href=\"/images/branding/product/ico/googleg_lodp.ico\" rel=\"shortcut icon\"><noscript>&lt;meta content=\"0;url=/search?q=data+science&amp;amp;gbv=1&amp;amp;sei=CuD_V5SDFMrUmAGItLLQCg\" http-equiv=\"refresh\"&gt;&lt;style&gt;table,div,span,p{display:none}&lt;/style&gt;&lt;div style=\"display:block\"&gt;Please click &lt;a href=\"/search?q=data+science&amp;amp;gbv=1&amp;amp;sei=CuD_V5SDFMrUmAGItLLQCg\"&gt;here&lt;/a&gt; if you are not redirected within a few seconds.&lt;/div&gt;</noscript><title>data science - Google Search</title><style>#gb{font:13px/27px Arial,sans-serif;height:30px}#gbz,#gbg{position:absolute;white-space:nowrap;top:0;height:30px;z-index:1000}#gbz{left:0;padding-left:4px}#gbg{right:0;padding-right:5px}#gbs{background:transparent;position:absolute;top:-999px;visibility:hidden;z-index:998;right:0}.gbto #gbs{background:#fff}#gbx3,#gbx4{background-color:#2d2d2d;background-image:none;_background-image:none;background-position:0 -138px;background-repeat:repeat-x;border-bottom:1px solid #000;font-size:24px;height:29px;_height:30px;opacity:1;filter:alpha(opacity=100);position:absolute;top:0;width:100%;z-index:990}#gbx3{left:0}#gbx4{right:0}#gbb{position:relative}#gbbw{left:0;position:absolute;top:30px;width:100%}.gbtcb{position:absolute;visibility:hidden}#gbz .gbtcb{right:0}#gbg .gbtcb{left:0}.gbxx{display:none !important}.gbxo{opacity:0 !important;filter:alpha(opacity=0) !important}.gbm{position:absolute;z-index:999;top:-999px;visibility:hidden;text-align:left;border:1px solid #bebebe;background:#fff;-moz-box-shadow:-1px 1px 1px rgba(0,0,0,.2);-webkit-box-shadow:0 2px 4px rgba(0,0,0,.2);box-shadow:0 2px 4px rgba(0,0,0,.2)}.gbrtl .gbm{-moz-box-shadow:1px 1px 1px rgba(0,0,0,.2)}.gbto .gbm,.gbto #gbs{top:29px;visibility:visible}#gbz .gbm{left:0}#gbg .gbm{right:0}.gbxms{background-color:#ccc;display:block;position:absolute;z-index:1;top:-1px;left:-2px;right:-2px;bottom:-2px;opacity:.4;-moz-border-radius:3px;filter:progid:DXImageTransform.Microsoft.Blur(pixelradius=5);*opacity:1;*top:-2px;*left:-5px;*right:5px;*bottom:4px;-ms-filter:\"progid:DXImageTransform.Microsoft.Blur(pixelradius=5)\";opacity:1\\0/;top:-4px\\0/;left:-6px\\0/;right:5px\\0/;bottom:4px\\0/}.gbma{position:relative;top:-1px;border-style:solid dashed dashed;border-color:transparent;border-top-color:#c0c0c0;display:-moz-inline-box;display:inline-block;font-size:0;height:0;line-height:0;width:0;border-width:3px 3px 0;padding-top:1px;left:4px}#gbztms1,#gbi4m1,#gbi4s,#gbi4t{zoom:1}.gbtc,.gbmc,.gbmcc{display:block;list-style:none;margin:0;padding:0}.gbmc{background:#fff;padding:10px 0;position:relative;z-index:2;zoom:1}.gbt{position:relative;display:-moz-inline-box;display:inline-block;line-height:27px;padding:0;vertical-align:top}.gbt{*display:inline}.gbto{box-shadow:0 2px 4px rgba(0,0,0,.2);-moz-box-shadow:0 2px 4px rgba(0,0,0,.2);-webkit-box-shadow:0 2px 4px rgba(0,0,0,.2)}.gbzt,.gbgt{cursor:pointer;display:block;text-decoration:none !important}span#gbg6,span#gbg4{cursor:default}.gbts{border-left:1px solid transparent;border-right:1px solid transparent;display:block;*display:inline-block;padding:0 5px;position:relative;z-index:1000}.gbts{*display:inline}.gbzt .gbts{display:inline;zoom:1}.gbto .gbts{background:#fff;border-color:#bebebe;color:#36c;padding-bottom:1px;padding-top:2px}.gbz0l .gbts{color:#fff;font-weight:bold}.gbtsa{padding-right:9px}#gbz .gbzt,#gbz .gbgt,#gbg .gbgt{color:#ccc!important}.gbtb2{display:block;border-top:2px solid transparent}.gbto .gbzt .gbtb2,.gbto .gbgt .gbtb2{border-top-width:0}.gbtb .gbts{background:url(//ssl.gstatic.com/gb/images/b_8d5afc09.png);_background:url(//ssl.gstatic.com/gb/images/b8_3615d64d.png);background-position:-27px -22px;border:0;font-size:0;padding:29px 0 0;*padding:27px 0 0;width:1px}.gbzt:hover,.gbzt:focus,.gbgt-hvr,.gbgt:focus{background-color:#4c4c4c;background-image:none;_background-image:none;background-position:0 -102px;background-repeat:repeat-x;outline:none;text-decoration:none !important}.gbpdjs .gbto .gbm{min-width:99%}.gbz0l .gbtb2{border-top-color:#dd4b39!important}#gbi4s,#gbi4s1{font-weight:bold}#gbg6.gbgt-hvr,#gbg6.gbgt:focus{background-color:transparent;background-image:none}.gbg4a{font-size:0;line-height:0}.gbg4a .gbts{padding:27px 5px 0;*padding:25px 5px 0}.gbto .gbg4a .gbts{padding:29px 5px 1px;*padding:27px 5px 1px}#gbi4i,#gbi4id{left:5px;border:0;height:24px;position:absolute;top:1px;width:24px}.gbto #gbi4i,.gbto #gbi4id{top:3px}.gbi4p{display:block;width:24px}#gbi4id{background-position:-44px -101px}#gbmpid{background-position:0 0}#gbmpi,#gbmpid{border:none;display:inline-block;height:48px;width:48px}#gbmpiw{display:inline-block;line-height:9px;padding-left:20px;margin-top:10px;position:relative}#gbmpi,#gbmpid,#gbmpiw{*display:inline}#gbg5{font-size:0}#gbgs5{padding:5px !important}.gbto #gbgs5{padding:7px 5px 6px !important}#gbi5{background:url(//ssl.gstatic.com/gb/images/b_8d5afc09.png);_background:url(//ssl.gstatic.com/gb/images/b8_3615d64d.png);background-position:0 0;display:block;font-size:0;height:17px;width:16px}.gbto #gbi5{background-position:-6px -22px}.gbn .gbmt,.gbn .gbmt:visited,.gbnd .gbmt,.gbnd .gbmt:visited{color:#dd8e27 !important}.gbf .gbmt,.gbf .gbmt:visited{color:#900 !important}.gbmt,.gbml1,.gbmlb,.gbmt:visited,.gbml1:visited,.gbmlb:visited{color:#36c !important;text-decoration:none !important}.gbmt,.gbmt:visited{display:block}.gbml1,.gbmlb,.gbml1:visited,.gbmlb:visited{display:inline-block;margin:0 10px}.gbml1,.gbmlb,.gbml1:visited,.gbmlb:visited{*display:inline}.gbml1,.gbml1:visited{padding:0 10px}.gbml1-hvr,.gbml1:focus{outline:none;text-decoration:underline !important}#gbpm .gbml1{display:inline;margin:0;padding:0;white-space:nowrap}.gbmlb,.gbmlb:visited{line-height:27px}.gbmlb-hvr,.gbmlb:focus{outline:none;text-decoration:underline !important}.gbmlbw{color:#ccc;margin:0 10px}.gbmt{padding:0 20px}.gbmt:hover,.gbmt:focus{background:#eee;cursor:pointer;outline:0 solid black;text-decoration:none !important}.gbm0l,.gbm0l:visited{color:#000 !important;font-weight:bold}.gbmh{border-top:1px solid #bebebe;font-size:0;margin:10px 0}#gbd4 .gbmc{background:#f5f5f5;padding-top:0}#gbd4 .gbsbic::-webkit-scrollbar-track:vertical{background-color:#f5f5f5;margin-top:2px}#gbmpdv{background:#fff;border-bottom:1px solid #bebebe;-moz-box-shadow:0 2px 4px rgba(0,0,0,.12);-o-box-shadow:0 2px 4px rgba(0,0,0,.12);-webkit-box-shadow:0 2px 4px rgba(0,0,0,.12);box-shadow:0 2px 4px rgba(0,0,0,.12);position:relative;z-index:1}#gbd4 .gbmh{margin:0}.gbmtc{padding:0;margin:0;line-height:27px}.GBMCC:last-child:after,#GBMPAL:last-child:after{content:'\\0A\\0A';white-space:pre;position:absolute}#gbmps{*zoom:1}#gbd4 .gbpc,#gbmpas .gbmt{line-height:17px}#gbd4 .gbpgs .gbmtc{line-height:27px}#gbd4 .gbmtc{border-bottom:1px solid #bebebe}#gbd4 .gbpc{display:inline-block;margin:16px 0 10px;padding-right:50px;vertical-align:top}#gbd4 .gbpc{*display:inline}.gbpc .gbps,.gbpc .gbps2{display:block;margin:0 20px}#gbmplp.gbps{margin:0 10px}.gbpc .gbps{color:#000;font-weight:bold}.gbpc .gbpd{margin-bottom:5px}.gbpd .gbmt,.gbpd .gbps{color:#666 !important}.gbpd .gbmt{opacity:.4;filter:alpha(opacity=40)}.gbps2{color:#666;display:block}.gbp0{display:none}.gbp0 .gbps2{font-weight:bold}#gbd4 .gbmcc{margin-top:5px}.gbpmc{background:#fef9db}.gbpmc .gbpmtc{padding:10px 20px}#gbpm{border:0;*border-collapse:collapse;border-spacing:0;margin:0;white-space:normal}#gbpm .gbpmtc{border-top:none;color:#000 !important;font:11px Arial,sans-serif}#gbpms{*white-space:nowrap}.gbpms2{font-weight:bold;white-space:nowrap}#gbmpal{*border-collapse:collapse;border-spacing:0;border:0;margin:0;white-space:nowrap;width:100%}.gbmpala,.gbmpalb{font:13px Arial,sans-serif;line-height:27px;padding:10px 20px 0;white-space:nowrap}.gbmpala{padding-left:0;text-align:left}.gbmpalb{padding-right:0;text-align:right}#gbmpasb .gbps{color:#000}#gbmpal .gbqfbb{margin:0 20px}.gbp0 .gbps{*display:inline}a.gbiba{margin:8px 20px 10px}.gbmpiaw{display:inline-block;padding-right:10px;margin-bottom:6px;margin-top:10px}.gbxv{visibility:hidden}.gbmpiaa{display:block;margin-top:10px}.gbmpia{border:none;display:block;height:48px;width:48px}.gbmpnw{display:inline-block;height:auto;margin:10px 0;vertical-align:top} .gbqfb,.gbqfba,.gbqfbb{-moz-border-radius:2px;-webkit-border-radius:2px;border-radius:2px;cursor:default !important;display:inline-block;font-weight:bold;height:29px;line-height:29px;min-width:54px;*min-width:70px;padding:0 8px;text-align:center;text-decoration:none !important;-moz-user-select:none;-webkit-user-select:none}.gbqfb:focus,.gbqfba:focus,.gbqfbb:focus{border:1px solid #4d90fe;-moz-box-shadow:inset 0 0 0 1px rgba(255, 255, 255, 0.5);-webkit-box-shadow:inset 0 0 0 1px rgba(255, 255, 255, 0.5);box-shadow:inset 0 0 0 1px rgba(255, 255, 255, 0.5);outline:none}.gbqfb-hvr:focus,.gbqfba-hvr:focus,.gbqfbb-hvr:focus{-webkit-box-shadow:inset 0 0 0 1px #fff,0 1px 1px rgba(0,0,0,.1);-moz-box-shadow:inset 0 0 0 1px #fff,0 1px 1px rgba(0,0,0,.1);box-shadow:inset 0 0 0 1px #fff,0 1px 1px rgba(0,0,0,.1)}.gbqfb-no-focus:focus{border:1px solid #3079ed;-moz-box-shadow:none;-webkit-box-shadow:none;box-shadow:none}.gbqfb-hvr,.gbqfba-hvr,.gbqfbb-hvr{-webkit-box-shadow:0 1px 1px rgba(0,0,0,.1);-moz-box-shadow:0 1px 1px rgba(0,0,0,.1);box-shadow:0 1px 1px rgba(0,0,0,.1)}.gbqfb::-moz-focus-inner,.gbqfba::-moz-focus-inner,.gbqfbb::-moz-focus-inner{border:0}.gbqfba,.gbqfbb{border:1px solid #dcdcdc;border-color:rgba(0,0,0,.1);color:#444 !important;font-size:11px}.gbqfb{background-color:#4d90fe;background-image:-webkit-gradient(linear,left top,left bottom,from(#4d90fe),to(#4787ed));background-image:-webkit-linear-gradient(top,#4d90fe,#4787ed);background-image:-moz-linear-gradient(top,#4d90fe,#4787ed);background-image:-ms-linear-gradient(top,#4d90fe,#4787ed);background-image:-o-linear-gradient(top,#4d90fe,#4787ed);background-image:linear-gradient(top,#4d90fe,#4787ed);filter:progid:DXImageTransform.Microsoft.gradient(startColorStr='#4d90fe',EndColorStr='#4787ed');border:1px solid #3079ed;color:#fff!important;margin:0 0}.gbqfb-hvr{border-color:#2f5bb7}.gbqfb-hvr:focus{border-color:#2f5bb7}.gbqfb-hvr,.gbqfb-hvr:focus{background-color:#357ae8;background-image:-webkit-gradient(linear,left top,left bottom,from(#4d90fe),to(#357ae8));background-image:-webkit-linear-gradient(top,#4d90fe,#357ae8);background-image:-moz-linear-gradient(top,#4d90fe,#357ae8);background-image:-ms-linear-gradient(top,#4d90fe,#357ae8);background-image:-o-linear-gradient(top,#4d90fe,#357ae8);background-image:linear-gradient(top,#4d90fe,#357ae8)}.gbqfb:active{background-color:inherit;-webkit-box-shadow:inset 0 1px 2px rgba(0, 0, 0, 0.3);-moz-box-shadow:inset 0 1px 2px rgba(0, 0, 0, 0.3);box-shadow:inset 0 1px 2px rgba(0, 0, 0, 0.3)}.gbqfba{background-color:#f5f5f5;background-image:-webkit-gradient(linear,left top,left bottom,from(#f5f5f5),to(#f1f1f1));background-image:-webkit-linear-gradient(top,#f5f5f5,#f1f1f1);background-image:-moz-linear-gradient(top,#f5f5f5,#f1f1f1);background-image:-ms-linear-gradient(top,#f5f5f5,#f1f1f1);background-image:-o-linear-gradient(top,#f5f5f5,#f1f1f1);background-image:linear-gradient(top,#f5f5f5,#f1f1f1);filter:progid:DXImageTransform.Microsoft.gradient(startColorStr='#f5f5f5',EndColorStr='#f1f1f1')}.gbqfba-hvr,.gbqfba-hvr:active{background-color:#f8f8f8;background-image:-webkit-gradient(linear,left top,left bottom,from(#f8f8f8),to(#f1f1f1));background-image:-webkit-linear-gradient(top,#f8f8f8,#f1f1f1);background-image:-moz-linear-gradient(top,#f8f8f8,#f1f1f1);background-image:-ms-linear-gradient(top,#f8f8f8,#f1f1f1);background-image:-o-linear-gradient(top,#f8f8f8,#f1f1f1);background-image:linear-gradient(top,#f8f8f8,#f1f1f1);filter:progid:DXImageTransform.Microsoft.gradient(startColorStr='#f8f8f8',EndColorStr='#f1f1f1')}.gbqfbb{background-color:#fff;background-image:-webkit-gradient(linear,left top,left bottom,from(#fff),to(#fbfbfb));background-image:-webkit-linear-gradient(top,#fff,#fbfbfb);background-image:-moz-linear-gradient(top,#fff,#fbfbfb);background-image:-ms-linear-gradient(top,#fff,#fbfbfb);background-image:-o-linear-gradient(top,#fff,#fbfbfb);background-image:linear-gradient(top,#fff,#fbfbfb);filter:progid:DXImageTransform.Microsoft.gradient(startColorStr='#ffffff',EndColorStr='#fbfbfb')}.gbqfbb-hvr,.gbqfbb-hvr:active{background-color:#fff;background-image:-webkit-gradient(linear,left top,left bottom,from(#fff),to(#f8f8f8));background-image:-webkit-linear-gradient(top,#fff,#f8f8f8);background-image:-moz-linear-gradient(top,#fff,#f8f8f8);background-image:-ms-linear-gradient(top,#fff,#f8f8f8);background-image:-o-linear-gradient(top,#fff,#f8f8f8);background-image:linear-gradient(top,#fff,#f8f8f8);filter:progid:DXImageTransform.Microsoft.gradient(startColorStr='#ffffff',EndColorStr='#f8f8f8')}.gbqfba-hvr,.gbqfba-hvr:active,.gbqfbb-hvr,.gbqfbb-hvr:active{border-color:#c6c6c6;-webkit-box-shadow:0 1px 1px rgba(0,0,0,.1);-moz-box-shadow:0 1px 1px rgba(0,0,0,.1);box-shadow:0 1px 1px rgba(0,0,0,.1);color:#222 !important}.gbqfba:active,.gbqfbb:active{-webkit-box-shadow:inset 0 1px 2px rgba(0,0,0,.1);-moz-box-shadow:inset 0 1px 2px rgba(0,0,0,.1);box-shadow:inset 0 1px 2px rgba(0,0,0,.1)} .gbprcd{padding:0;width:258px;white-space:normal}.gbprcb{display:inline-block;height:27px;padding:0 15px;text-decoration:none}#gbprc .gbprcbc{background-color:;background-image:none;border-color:;color:!important}#gbprc .gbprcbc:hover{color:!important}#gbprc .gbprcbc:active,#gbprc .gbprcbc:focus{color:!important}.gbprct{color:#666;line-height:17px;margin:0;margin-bottom:20px}.gbprci{color:#333;font-size:16px;line-height:20px;margin:0;margin-bottom:16px}#gbprc .gbmc{padding:26px;padding-bottom:22px;border:1px solid #bebebe}#gbprc .gbm{border:0}#gbprc .gbprcx,#gbprc .gbprcx.gbgt-hvr,#gbprc .gbprcx:focus,#gbprc .gbprcx:active{right:12px;background:url(//ssl.gstatic.com/s2/oz/images/stars/x.png);display:block;height:9px;opacity:.8;filter:alpha(opacity=80);position:absolute;top:12px;width:9px}#gbprc .gbprcx.gbgt-hvr,#gbprc .gbprcx:focus,#gbprc .gbprcx:active{opacity:1;filter:alpha(opacity=100)}.gbgs .gbmab,.gbgs .gbmab{left:10px;margin:40px 0 0}.gbgs .gbmac,.gbgs .gbmac{left:10px;margin:41px 0 0}.gbemi .gbgs .gbmab,.gbem .gbgs .gbmab{left:10px;margin:40px 0 0}.gbemi .gbgs .gbmac,.gbem .gbgs .gbmac{left:10px;margin:41px 0 0}.gbesi .gbgs .gbmab,.gbes .gbgs .gbmab{left:10px;margin:40px 0 0}.gbesi .gbgs .gbmac,.gbes .gbgs .gbmac{left:10px;margin:41px 0 0}#gbprca .gbmab{z-index:999}#gbprca .gbmac{border-bottom-color:#fff;z-index:999}#gbprcs{position:absolute;background:transparent;top:-999px;z-index:-1;visibility:hidden;margin-top:1px;margin-left:1px} #gb #gbprc{right:-28px;top:15px;z-index:997}#gbprca{left:-63px;position:relative;top:-22px}.gbmab,.gbmac{left:5px;border-style:dashed dashed solid;border-color:transparent;border-bottom-color:#bebebe;border-width:0 10px 10px;display:-moz-inline-box;display:inline-block;font-size:0;height:0;line-height:0;position:absolute;top:0;width:0;z-index:1000}.gbmab,.gbmac{visibility:hidden}.gbmac{border-bottom-color:#fff}.gbto .gbmab,.gbto .gbmac{visibility:visible}#gbqfqw,#gbqfb{vertical-align:top}#gbqfbw{right:0;margin:0 15px;position:absolute;top:0}.gbqfb{background-color:#4d90fe;background-image:-webkit-gradient(linear,left top,left bottom,from(#4d90fe),to(#4787ed));background-image:-webkit-linear-gradient(top,#4d90fe,#4787ed);background-image:-moz-linear-gradient(top,#4d90fe,#4787ed);background-image:-ms-linear-gradient(top,#4d90fe,#4787ed);background-image:-o-linear-gradient(top,#4d90fe,#4787ed);background-image:linear-gradient(top,#4d90fe,#4787ed);filter:progid:DXImageTransform.Microsoft.gradient(startColorStr='#4d90fe',EndColorStr='#4787ed');border:1px solid #3079ed;-moz-border-radius:2px;-webkit-border-radius:2px;border-radius:2px;-moz-user-select:none;-webkit-user-select:none;color:#fff;cursor:default;font-size:11px;font-weight:bold;height:29px;min-width:54px;*min-width:70px;text-align:center;padding:0 8px}.gbqfb-hvr{border:1px solid #2f5bb7;background-color:#357ae8;background-image:-webkit-gradient(linear,left top,left bottom,from(#4d90fe),to(#357ae8));background-image:-webkit-linear-gradient(top,#4d90fe,#357ae8);background-image:-moz-linear-gradient(top,#4d90fe,#357ae8);background-image:-ms-linear-gradient(top,#4d90fe,#357ae8);background-image:-o-linear-gradient(top,#4d90fe,#357ae8);background-image:linear-gradient(top,#4d90fe,#357ae8);-webkit-box-shadow:0 1px 1px rgba(0,0,0,.1);-moz-box-shadow:0 1px 1px rgba(0,0,0,.1);box-shadow:0 1px 1px rgba(0,0,0,.1)}.gbqfb:focus{-moz-box-shadow:inset 0 0 0 1px #fff;-webkit-box-shadow:inset 0 0 0 1px #fff;box-shadow:inset 0 0 0 1px #fff;outline:none}.gbqfb::-moz-focus-inner{border:0}.gbqfb-hvr:focus{-moz-box-shadow:inset 0 0 0 1px #fff,0 1px 1px rgba(0,0,0,.1);-webkit-box-shadow:inset 0 0 0 1px #fff,0 1px 1px rgba(0,0,0,.1);box-shadow:inset 0 0 0 1px #fff,0 1px 1px rgba(0,0,0,.1)}.gbqfb:active{-moz-box-shadow:inset 0 1px 2px rgba(0,0,0,.3);-webkit-box-shadow:inset 0 1px 2px rgba(0,0,0,.3);box-shadow:inset 0 1px 2px rgba(0,0,0,.3)} #gbmpas{max-height:220px}#gbmm{max-height:530px}.gbsb{-webkit-box-sizing:border-box;display:block;position:relative;*zoom:1}.gbsbic{overflow:auto}.gbsbis .gbsbt,.gbsbis .gbsbb{-webkit-mask-box-image:-webkit-gradient(linear,left top,right top,color-stop(0,rgba(0,0,0,.1)),color-stop(.5,rgba(0,0,0,.8)),color-stop(1,rgba(0,0,0,.1)));left:0;margin-right:0;opacity:0;position:absolute;width:100%}.gbsb .gbsbt:after,.gbsb .gbsbb:after{content:\"\";display:block;height:0;left:0;position:absolute;width:100%}.gbsbis .gbsbt{background:-webkit-gradient(linear,left top,left bottom,from(rgba(0,0,0,.2)),to(rgba(0,0,0,0)));background-image:-webkit-linear-gradient(top,rgba(0,0,0,.2),rgba(0,0,0,0));background-image:-moz-linear-gradient(top,rgba(0,0,0,.2),rgba(0,0,0,0));background-image:-ms-linear-gradient(top,rgba(0,0,0,.2),rgba(0,0,0,0));background-image:-o-linear-gradient(top,rgba(0,0,0,.2),rgba(0,0,0,0));background-image:linear-gradient(top,rgba(0,0,0,.2),rgba(0,0,0,0));height:6px;top:0}.gbsb .gbsbt:after{border-top:1px solid #ebebeb;border-color:rgba(0,0,0,.3);top:0}.gbsb .gbsbb{-webkit-mask-box-image:-webkit-gradient(linear,left top,right top,color-stop(0,rgba(0,0,0,.1)),color-stop(.5,rgba(0,0,0,.8)),color-stop(1,rgba(0,0,0,.1)));background:-webkit-gradient(linear,left bottom,left top,from(rgba(0,0,0,.2)),to(rgba(0,0,0,0)));background-image:-webkit-linear-gradient(bottom,rgba(0,0,0,.2),rgba(0,0,0,0));background-image:-moz-linear-gradient(bottom,rgba(0,0,0,.2),rgba(0,0,0,0));background-image:-ms-linear-gradient(bottom,rgba(0,0,0,.2),rgba(0,0,0,0));background-image:-o-linear-gradient(bottom,rgba(0,0,0,.2),rgba(0,0,0,0));background-image:linear-gradient(bottom,rgba(0,0,0,.2),rgba(0,0,0,0));bottom:0;height:4px}.gbsb .gbsbb:after{border-bottom:1px solid #ebebeb;border-color:rgba(0,0,0,.3);bottom:0} .gbsbic::-webkit-scrollbar{height:16px;width:16px}.gbsbic::-webkit-scrollbar-button{height:0;width:0}.gbsbic::-webkit-scrollbar-button:start:decrement,.gbsbic::-webkit-scrollbar-button:end:increment{display:block}.gbsbic::-webkit-scrollbar-button:vertical:start:increment,.gbsbic::-webkit-scrollbar-button:vertical:end:decrement{display:none}.gbsbic::-webkit-scrollbar-track:vertical,.gbsbic::-webkit-scrollbar-track:horizontal,.gbsbic::-webkit-scrollbar-thumb:vertical,.gbsbic::-webkit-scrollbar-thumb:horizontal,.gbsbis .gbsbic::-webkit-scrollbar-track:vertical,.gbsbis .gbsbic::-webkit-scrollbar-track:horizontal,.gbsbis .gbsbic::-webkit-scrollbar-thumb:vertical,.gbsbis .gbsbic::-webkit-scrollbar-thumb:horizontal{border-style:solid;border-color:transparent}.gbsbic::-webkit-scrollbar-track:vertical{background-clip:padding-box;background-color:#fff;border-left-width:5px;border-right-width:0}.gbsbic::-webkit-scrollbar-track:horizontal{background-clip:padding-box;background-color:#fff;border-bottom-width:0;border-top-width:5px}.gbsbic::-webkit-scrollbar-thumb{-webkit-box-shadow:inset 1px 1px 0 rgba(0,0,0,.1),inset 0 -1px 0 rgba(0,0,0,.07);background-clip:padding-box;background-color:rgba(0,0,0,.2);min-height:28px;padding-top:100px}.gbsbic::-webkit-scrollbar-thumb:hover{-webkit-box-shadow:inset 1px 1px 1px rgba(0,0,0,.25);background-color:rgba(0,0,0,.4)}.gbsbic::-webkit-scrollbar-thumb:active{-webkit-box-shadow:inset 1px 1px 3px rgba(0,0,0,.35);background-color:rgba(0,0,0,.5)}.gbsbic::-webkit-scrollbar-thumb:vertical{border-width:0;border-left-width:5px}.gbsbic::-webkit-scrollbar-thumb:horizontal{border-width:0;border-top-width:5px}.gbsbis .gbsbic::-webkit-scrollbar-track:vertical{border-left-width:6px;border-right-width:1px}.gbsbis .gbsbic::-webkit-scrollbar-track:horizontal{border-bottom:1px;border-top:6px}.gbsbis .gbsbic::-webkit-scrollbar-thumb:vertical{border-width:0;border-left-width:6px;border-right-width:1px}.gbsbis .gbsbic::-webkit-scrollbar-thumb:horizontal{border-width:0;border-bottom:1px;border-top:6px}.gbsbic::-webkit-scrollbar-track:hover{-webkit-box-shadow:inset 1px 0 0 rgba(0,0,0,.1);background-color:rgba(0,0,0,.05)}.gbsbic::-webkit-scrollbar-track:active{-webkit-box-shadow:inset 1px 0 0 rgba(0,0,0,.14),inset -1px -1px 0 rgba(0,0,0,.07);background-color:rgba(0,0,0,.05)} </style><style>.star{float:left;margin-top:1px;overflow:hidden}._yhd{font-size:11px}.j{width:34em}body,td,div,.p,a{font-family:arial,sans-serif;-webkit-tap-highlight-color:rgba(255,255,255,0)}body{margin:0}a img{border:0}#gbar{float:left;height:22px;padding-left:2px;font-size:13px}.gsfi,.gsfs{font-size:17px}.w,.q:active,.q:visited,.tbotu{color:#11c}a.gl{text-decoration:none}._Umd a:link{color:#0E1CB3}#foot{padding:0 8px}#foot a{white-space:nowrap}h3{font-size:16px;font-weight:normal;margin:0;padding:0}#res h3{display:inline}.hd{height:1px;position:absolute;top:-1000em}.g,body,html,table,.std{font-size:13px}.g{margin-bottom:23px;margin-top:0;zoom:1}ol li,ul li{list-style:none}h1,ol,ul,li{margin:0;padding:0}#mbEnd h2{font-weight:normal}.e{margin:2px 0 0.75em}#leftnav a{text-decoration:none}#leftnav h2{color:#767676;font-weight:normal;margin:0}#nav{border-collapse:collapse;margin-top:17px;text-align:left}#nav td{text-align:center}.nobr{white-space:nowrap}.ts{border-collapse:collapse}.s br{display:none}.csb{display:block;height:40px}.images_table td{line-height:17px;padding-bottom:16px}.images_table img{border:1px solid #ccc;padding:1px}#tbd,#abd{display:block;min-height:1px}#abd{padding-top:3px}#tbd li{display:inline}._ITd,._JTd{margin-bottom:8px}#tbd .tbt li{display:block;font-size:13px;line-height:1.2;padding-bottom:3px;padding-left:8px;text-indent:-8px}.tbos,.b{font-weight:bold}em{font-weight:bold;font-style:normal}.mime{color:#1a0dab;font-weight:bold;font-size:x-small}._lwd{right:-2px !important;overflow:hidden}.soc a{text-decoration:none}.soc{color:#808080}._AC a{text-decoration:none}._AC{color:#808080}._kgd{color:#e7711b}#_vBb{border:1px solid #e0e0e0;margin-left:-8px;margin-right:-8px;padding:15px 20px 5px}._m3b{font-size:32px}._eGc{color:#777;font-size:16px;margin-top:5px}._H0d{color:#777;font-size:14px;margin-top:5px}._HLh{border:1px solid #e0e0e0;padding-left:20px}._Tki{border:1px solid #e0e0e0;padding:5px 20px}#vob{border:1px solid #e0e0e0;padding:15px 15px}#_Nyc{font-size:22px;line-height:22px;padding-bottom:5px}#vob_st{line-height:1.24}._Tsb{border-width:1px;border-style:solid;border-color:#eee;background-color:#fff;position:relative;margin-bottom:26px}._Peb,._Qeb,._Usb{font-family:Arial;font-weight:lighter}._Peb{margin-bottom:5px}._Peb{font-size:xx-large}._Qeb{font-size:medium}._Usb{font-size:small}._Tsb{margin-left:-8px;margin-right:-15px;padding:20px 20px 24px}._rOc{border-spacing:0px 2px}._sOc{max-width:380px;text-overflow:ellipsis;white-space:nowrap;overflow:hidden;padding-left:0px}._v9b{padding-left:15px;white-space:nowrap;color:#666}._pOc{padding-left:0px}._rkc{color:#212121}._HOb{color:#878787}._lMf{color:#093}._jMf{color:#c00}._kMf{padding:1px}._CKg{color:#dd4b39}.gssb_a{padding:0 10px !important}.gssb_c{left:132px !important;right:295px !important;top:78px !important;width:572px !important}.gssb_c table{font-size:16px !important}.gssb_e{border:1px solid #ccc !important;border-top-color:#d9d9d9 !important}.gssb_i{background:#eee !important}#res{padding:0 8px}#rhs_block{padding-top:43px}#_FQd{padding:0 8px}#subform_ctrl{font-size:11px;height:17px;margin:5px 3px 0 17px}.taf{padding-bottom:3px}._chd{padding:20px 0 3px}._bhd{padding:20px 0 3px}#topstuff .e{padding-bottom:6px}.slk .sld{width:250px}.slk{margin-bottom:-3px}.slk ._z3b{padding-bottom:5px;width:250px}._QPd{margin-top:1px;margin-bottom:-11px}._zuc{color:#545454}._Auc{padding-top:2px;padding-bottom:1px}._Buc{padding-top:1px;margin-bottom:14px}.ac,.st{line-height:1.24}.mfr,#ofr{font-size:16px;margin:1em 0;padding:0 8px}._tLi{padding-bottom:25px}.s{color:#545454}.ac,._JEe{color:#545454}a.fl,._cD a,.osl a{color:#1a0dab;text-decoration:none}a:link{color:#1a0dab;cursor:pointer}#tads a:link{color:#1a0dab}#tads .soc a:link{color:#808080}#tads ._AC a:link{color:#808080}._AC a:link{color:#808080}._AC a:visited{color:#808080}._AC a:hover{color:#808080;text-decoration:underline}a:visited{color:#61C}.blg a{text-decoration:none}cite,cite a:link{color:#006621;font-style:normal}#tads cite{color:#006621}.kv{font-size:15px}.kvs{margin-top:1px}.kv,.kvs,.slp{display:block;margin-bottom:1px}.kt{border-spacing:2px 0;margin-top:1px}#mbEnd li{margin:20px 8px 0 0}.f{color:#808080}._pJb{color:#093}h4.r{display:inline;font-size:small;font-weight:normal}.g{line-height:1.2}._sPb{display:inline-block;vertical-align:top;overflow:hidden;position:relative}._Gnc{margin:0 0 2em 1.3em}._Gnc li{list-style-type:disc}.osl{color:#777;margin-top:4px}.r{font-size:16px;margin:0}.spell{font-size:16px}.spell_orig{font-size:13px}.spell_orig a{text-decoration:none}.spell_orig b i{font-style:normal;font-weight:normal}.th{border:1px solid #ebebeb}.ts td{padding:0}.videobox{padding-bottom:3px}.slk a{text-decoration:none}#leftnav a:hover,#leftnav .tbou a:hover,.slk h3 a,a:hover{text-decoration:underline}#mn{table-layout:fixed;width:100%}#leftnav a{color:#222;font-size:13px}#leftnav{padding:43px 4px 4px 0}.tbos{color:#dd4b39}._AEd{border-top:1px solid #efefef;font-size:13px;margin:10px 0 14px 10px;padding:0}.tbt{margin-bottom:28px}#tbd{padding:0 0 0 16px}.tbou a{color:#222}#center_col{border:0;padding:0 8px 0 0}#topstuff .e{padding-top:3px}#topstuff .sp_cnt{padding-top:6px}#ab_name{color:#dd4b39;font:20px \"Arial\";margin-left:15px}._fld{border-bottom:1px solid #dedede;height:56px;padding-top:1px}#resultStats{color:#999;font-size:13px;overflow:hidden;white-space:nowrap}.mslg>td{padding-right:1px;padding-top:2px}.slk .sld{margin-top:2px;padding:5px 0 5px 5px}._Mvd,.fmp{padding-top:3px}.close_btn{overflow:hidden}#fll a,#bfl a{color:#1a0dab !important;margin:0 12px;text-decoration:none !important}.ng{color:#dd4b39}#mss{margin:.33em 0 0;padding:0;display:table}._mY{display:inline-block;float:left;white-space:nowrap;padding-right:16px}#mss p{margin:0;padding-top:5px}.tn{border-bottom:1px solid #ebebeb;display:block;float:left;height:59px;line-height:54px;min-width:980px;padding:0;position:relative;white-space:nowrap}._UXb,a._UXb{color:#777;cursor:pointer;display:inline-block;font-family:arial,sans-serif;font-size:small;height:54px;line-height:54px;margin:0 8px;padding:0 8px;text-decoration:none;white-space:nowrap}._Ihd{border-bottom:3px solid #dd4b39;color:#dd4b39;font-weight:bold;margin:2px 8px 0}a._Jhd:hover{color:black;text-decoration:none;white-space:nowrap}body{margin:0;padding:0}._sxc{display:inline-block;float:left;margin-top:2px}._Hhd,a._Hhd{margin-left:1px}.sd{line-height:43px;padding:0 8px 0 9px}a:active,.osl a:active,.tbou a:active,#leftnav a:active{color:#dd4b39}#_Xud a:active,#bfl a:active{color:#dd4b39 !important}.csb{background:url(/images/nav_logo229.png) no-repeat;overflow:hidden}.close_btn{background:url(/images/nav_logo229.png) no-repeat -138px -84px;height:14px;width:14px;display:block}.star{background:url(/images/nav_logo229.png) no-repeat -94px -245px;height:13px;width:65px;display:block}.star div,.star span{background:url(/images/nav_logo229.png) no-repeat 0 -245px;height:13px;width:65px;display:block}._nBb{display:inline;margin:0 3px;outline-color:transparent;overflow:hidden;position:relative}._nBb>div{outline-color:transparent}._O0{border-color:transparent;border-style:solid dashed dashed;border-top-color:green;border-width:4px 4px 0 4px;cursor:pointer;display:inline-block;font-size:0;height:0;left:4px;line-height:0;outline-color:transparent;position:relative;top:-3px;width:0}._O0{margin-top:-4px}.am-dropdown-menu{display:block;background:#fff;border:1px solid #dcdcdc;font-size:13px;left:0;padding:0;position:absolute;right:auto;white-space:nowrap;z-index:3}._Ykb{list-style:none;white-space:nowrap}._Ykb:hover{background-color:#eee}a._Zkb{color:#333;cursor:pointer;display:block;padding:7px 18px;text-decoration:none}#tads a._Zkb{color:#333}.sfbgg{background:#f1f1f1;border-bottom:1px solid #e5e5e5;height:71px}#logocont{z-index:1;padding-left:4px;padding-top:4px}#logo{display:block;height:49px;margin-top:12px;margin-left:12px;overflow:hidden;position:relative;width:137px}#logo img{left:0;position:absolute;top:-41px}.lst-a{background:white;border:1px solid #d9d9d9;border-top-color:silver;width:570px}.lst-a:hover{border:1px solid #b9b9b9;border-top:1px solid #a0a0a0;box-shadow:inset 0 1px 2px rgba(0,0,0,0.1);-webkit-box-shadow:inset 0 1px 2px rgba(0,0,0,0.1);-moz-box-shadow:inset 0 1px 2px rgba(0,0,0,0.1)}.lst-td{border:none;padding:0}.tia input{border-right:none;padding-right:0}.tia{padding-right:0}.lst{background:none;border:none;color:#000;font:16px arial,sans-serif;float:left;height:22px;margin:0;padding:3px 6px 2px 9px;vertical-align:top;width:100%;word-break:break-all}.lst:focus{outline:none}.lst-b{background:none;border:none;height:26px;padding:0 6px 0 12px}.ds{border-right:1px solid #e7e7e7;position:relative;height:29px;margin-left:17px;z-index:100}.lsbb{background-image:-moz-linear-gradient(top,#4d90fe,#4787ed);background-image:-ms-linear-gradient(top,#4d90fe,#4787ed);background-image:-o-linear-gradient(top,#4d90fe,#4787ed);background-image:-webkit-gradient(linear,left top,left bottom,from(#4d90fe),to(#4787ed));background-image:-webkit-linear-gradient(top,#4d90fe,#4787ed);background-image:linear-gradient(top,#4d90fe,#4787ed);border:1px solid #3079ed;border-radius:2px;background-color:#4d90fe;height:27px;width:68px}.lsbb:hover{background-image:-moz-linear-gradient(top,#4d90fe,#357ae8);background-image:-ms-linear-gradient(top,#4d90fe,#357ae8);background-image:-o-linear-gradient(top,#4d90fe,#357ae8);background-image:-webkit-gradient(linear,left top,left bottom,from(#4d90fe),to(#357ae8));background-image:-webkit-linear-gradient(top,#4d90fe,#357ae8);background-color:#357ae8;background-image:linear-gradient(top,#4d90fe,#357ae8);border:1px solid #2f5bb7}.lsb{background:transparent;background-position:0 -343px;background-repeat:repeat-x;border:none;color:#000;cursor:default;font:15px arial,sans-serif;height:29px;margin:0;vertical-align:top;width:100%}.lsb:active{-moz-box-shadow:inset 0 1px 2px rgba(0,0,0,0.3);-webkit-box-shadow:inset 0 1px 2px rgba(0,0,0,0.3);box-shadow:inset 0 1px 2px rgba(0,0,0,0.3);background:transparent;color:transparent;overflow:hidden;position:relative;width:100%}.sbico{color:transparent;display:inline-block;height:15px;margin:0 auto;margin-top:2px;width:15px;overflow:hidden}</style><script>(function(){window.google={kEI:'CuD_V5SDFMrUmAGItLLQCg',kEXPI:'1351634,1351949,3700249,3700389,3700400,4019511,4028875,4029815,4031109,4032678,4036211,4036527,4038012,4039268,4043492,4045841,4048347,4052304,4058720,4061942,4062184,4063220,4064857,4065787,4066196,4067860,4067940,4068188,4068550,4068560,4068816,4069148,4069773,4069838,4069841,4070327,4071229,4071604,4071842,4071907,4071911,4072288,4072364,4072602,4072705,4072776,4073111,4073276,4073405,4073418,4073727,4073874,4073959,4074348,4074684,4074807,4076082,4076095,4076121,4076686,4076931,4076999,4077039,4077221,4077237,4077298,4077776,4078456,4078547,4078606,4079105,4079155,4079388,4079553,4079669,4079810,4079871,4079874,4079963,4080099,4080104,4080116,4080167,4080230,4080272,4080475,4080496,4080513,4080641,4080696,4080820,4081037,4081039,4081252,4081265,4081371,4081460,4081518,4081671,4081716,4082115,4082591,8300273,8502184,8503585,8504846,8505150,8505152,8506251,8506255,8506339,8506615,8507045,8507061,8507070,8507073,8507080,8507098,8507125,8507204,8507210,8507273,8507336,8507380,10200083,10200095,10201957,13500017,16200027',authuser:0,kscs:'c9c918f0_24'};google.kHL='en';})();(function(){google.lc=[];google.li=0;google.getEI=function(a){for(var b;a&&(!a.getAttribute||!(b=a.getAttribute(\"eid\")));)a=a.parentNode;return b||google.kEI};google.getLEI=function(a){for(var b=null;a&&(!a.getAttribute||!(b=a.getAttribute(\"leid\")));)a=a.parentNode;return b};google.https=function(){return\"https:\"==window.location.protocol};google.ml=function(){return null};google.wl=function(a,b){try{google.ml(Error(a),!1,b)}catch(c){}};google.time=function(){return(new Date).getTime()};google.log=function(a,b,c,e,g){a=google.logUrl(a,b,c,e,g);if(\"\"!=a){b=new Image;var d=google.lc,f=google.li;d[f]=b;b.onerror=b.onload=b.onabort=function(){delete d[f]};window.google&&window.google.vel&&window.google.vel.lu&&window.google.vel.lu(a);b.src=a;google.li=f+1}};google.logUrl=function(a,b,c,e,g){var d=\"\",f=google.ls||\"\";if(!c&&-1==b.search(\"&ei=\")){var h=google.getEI(e),d=\"&ei=\"+h;-1==b.search(\"&lei=\")&&((e=google.getLEI(e))?d+=\"&lei=\"+e:h!=google.kEI&&(d+=\"&lei=\"+google.kEI))}a=c||\"/\"+(g||\"gen_204\")+\"?atyp=i&ct=\"+a+\"&cad=\"+b+d+f+\"&zx=\"+google.time();/^http:/i.test(a)&&google.https()&&(google.ml(Error(\"a\"),!1,{src:a,glmm:1}),a=\"\");return a};google.y={};google.x=function(a,b){google.y[a.id]=[a,b];return!1};google.lq=[];google.load=function(a,b,c){google.lq.push([[a],b,c])};google.loadAll=function(a,b){google.lq.push([a,b])};})();(function(){var b=[function(){google.c&&google.tick(\"load\",\"dcl\")}];google.dcl=!1;google.dclc=function(a){google.dcl?a():b.push(a)};function c(){if(!google.dcl){google.dcl=!0;for(var a;a=b.shift();)a()}}window.addEventListener?(document.addEventListener(\"DOMContentLoaded\",c,!1),window.addEventListener(\"load\",c,!1)):window.attachEvent&&window.attachEvent(\"onload\",c);})();</script><script type=\"text/javascript\">(function(){try{var e=this;var aa=function(a,b,c,d){d=d||{};d._sn=[\"cfg\",b,c].join(\".\");window.gbar.logger.ml(a,d)};var h=window.gbar=window.gbar||{},k=window.gbar.i=window.gbar.i||{},ba;function _tvn(a,b){var c=parseInt(a,10);return isNaN(c)?b:c}function _tvf(a,b){var c=parseFloat(a);return isNaN(c)?b:c}function _tvv(a){return!!a}function p(a,b,c){(c||h)[a]=b}h.bv={n:_tvn(\"2\",0),r:\"\",f:\".66.41.\",e:\"1300102,3700249,3700389,3700400\",m:_tvn(\"1\",1)}; function ca(a,b,c){var d=\"on\"+b;if(a.addEventListener)a.addEventListener(b,c,!1);else if(a.attachEvent)a.attachEvent(d,c);else{var f=a[d];a[d]=function(){var a=f.apply(this,arguments),b=c.apply(this,arguments);return void 0==a?b:void 0==b?a:b&&a}}}var da=function(a){return function(){return h.bv.m==a}},ea=da(1),fa=da(2);p(\"sb\",ea);p(\"kn\",fa);k.a=_tvv;k.b=_tvf;k.c=_tvn;k.i=aa;var q=window.gbar.i.i;var t=function(){},u=function(){},ia=function(a){var b=new Image,c=ga;b.onerror=b.onload=b.onabort=function(){try{delete ha[c]}catch(d){}};ha[c]=b;b.src=a;ga=c+1},ha=[],ga=0;p(\"logger\",{il:u,ml:t,log:ia});var v=window.gbar.logger;var y={},ja={},A=[],ka=k.b(\"0.1\",.1),la=k.a(\"1\",!0),ma=function(a,b){A.push([a,b])},na=function(a,b){y[a]=b},oa=function(a){return a in y},B={},C=function(a,b){B[a]||(B[a]=[]);B[a].push(b)},D=function(a){C(\"m\",a)},pa=function(a,b){var c=document.createElement(\"script\");c.src=a;c.async=la;Math.random()<ka&&(c.onerror=function(){c.onerror=null;t(Error(\"Bundle load failed: name=\"+(b||\"UNK\")+\" url=\"+a))});(document.getElementById(\"xjsc\")||document.getElementsByTagName(\"body\")[0]|| document.getElementsByTagName(\"head\")[0]).appendChild(c)},F=function(a){for(var b=0,c;(c=A[b])&&c[0]!=a;++b);!c||c[1].l||c[1].s||(c[1].s=!0,qa(2,a),c[1].url&&pa(c[1].url,a),c[1].libs&&E&&E(c[1].libs))},ra=function(a){C(\"gc\",a)},sa=null,ta=function(a){sa=a},qa=function(a,b,c){if(sa){a={t:a,b:b};if(c)for(var d in c)a[d]=c[d];try{sa(a)}catch(f){}}};p(\"mdc\",y);p(\"mdi\",ja);p(\"bnc\",A);p(\"qGC\",ra);p(\"qm\",D);p(\"qd\",B);p(\"lb\",F);p(\"mcf\",na);p(\"bcf\",ma);p(\"aq\",C);p(\"mdd\",\"\"); p(\"has\",oa);p(\"trh\",ta);p(\"tev\",qa);if(k.a(\"1\")){var ua=k.a(\"1\"),va=k.a(\"\"),wa=k.a(\"\"),xa=window.gapi={},ya=function(a,b){var c=function(){h.dgl(a,b)};ua?D(c):(C(\"gl\",c),F(\"gl\"))},za={},Aa=function(a){a=a.split(\":\");for(var b;(b=a.pop())&&za[b];);return!b},E=function(a){function b(){for(var b=a.split(\":\"),d=0,f;f=b[d];++d)za[f]=1;for(b=0;d=A[b];++b)d=d[1],(f=d.libs)&&!d.l&&d.i&&Aa(f)&&d.i()}h.dgl(a,b)},H=window.___jsl={};H.h=\"m;/_/scs/abc-static/_/js/k=gapi.gapi.en.7oVtUiQEjBQ.O/m=__features__/rt=j/d=1/rs=AHpOoo_fXT30ofkY5Dx9fPN7DPCKQYvAAQ\";H.ms=\"https://apis.google.com\"; H.m=\"\";H.l=[];ua||A.push([\"gl\",{url:\"//ssl.gstatic.com/gb/js/abc/glm_e7bb39a7e1a24581ff4f8d199678b1b9.js\"}]);var Ba={pu:va,sh:\"\",si:wa,hl:\"en\"};y.gl=Ba;p(\"load\",ya,xa);p(\"dgl\",ya);p(\"agl\",Aa);k.o=ua};var Ca=k.b(\"0.1\",.001),Da=0; function _mlToken(a,b){try{if(1>Da){Da++;var c,d=a,f=b||{},g=encodeURIComponent,l=[\"//www.google.com/gen_204?atyp=i&zx=\",(new Date).getTime(),\"&jexpid=\",g(\"28834\"),\"&srcpg=\",g(\"prop=1\"),\"&jsr=\",Math.round(1/Ca),\"&ogev=\",g(\"CuD_V-KvFozjmAHvk4HgBg\"),\"&ogf=\",h.bv.f,\"&ogrp=\",g(\"1\"),\"&ogv=\",g(\"1476066396.0\"),\"&oggv=\"+g(\"es_plusone_gc_20161006.0_p0\"),\"&ogd=\",g(\"com\"),\"&ogc=\",g(\"USA\"),\"&ogl=\",g(\"en\")];f._sn&&(f._sn= \"og.\"+f._sn);for(var n in f)l.push(\"&\"),l.push(g(n)),l.push(\"=\"),l.push(g(f[n]));l.push(\"&emsg=\");l.push(g(d.name+\":\"+d.message));var m=l.join(\"\");Ea(m)&&(m=m.substr(0,2E3));c=m;var r=window.gbar.logger._aem(a,c);ia(r)}}catch(z){}}var Ea=function(a){return 2E3<=a.length},Fa=function(a,b){return b};function Ga(a){t=a;p(\"_itl\",Ea,v);p(\"_aem\",Fa,v);p(\"ml\",t,v);a={};y.er=a}k.a(\"\")?Ga(function(a){throw a;}):k.a(\"1\")&&Math.random()<Ca&&Ga(_mlToken);var _E=\"left\",Ha=k.a(\"\"),J=function(a,b){var c=a.className;I(a,b)||(a.className+=(\"\"!=c?\" \":\"\")+b)},K=function(a,b){var c=a.className,d=new RegExp(\"\\\\s?\\\\b\"+b+\"\\\\b\");c&&c.match(d)&&(a.className=c.replace(d,\"\"))},I=function(a,b){var c=new RegExp(\"\\\\b\"+b+\"\\\\b\"),d=a.className;return!(!d||!d.match(c))},Ia=function(a,b){I(a,b)?K(a,b):J(a,b)},Ja=function(a,b){a[b]=function(c){var d=arguments;h.qm(function(){a[b].apply(this,d)})}},Ka=function(a){a=[\"//www.gstatic.com\", \"/og/_/js/d=1/k=\",\"og.og2.en_US.5GdZkFfW974.O\",\"/rt=j/m=\",a,\"/rs=\",\"AA2YrTvoYEywEgOlIXNj5qfXUsEKpzh87A\"];Ha&&a.push(\"?host=www.gstatic.com&bust=og.og2.en_US.DQydnUMOqeA.DU\");a=a.join(\"\");pa(a)};p(\"ca\",J);p(\"cr\",K);p(\"cc\",I);k.k=J;k.l=K;k.m=I;k.n=Ia;k.p=Ka;k.q=Ja;var La=[\"gb_71\",\"gb_155\"],Ma;function Na(a){Ma=a}function Oa(a){var b=Ma&&!a.href.match(/.*\\/accounts\\/ClearSID[?]/)&&encodeURIComponent(Ma());b&&(a.href=a.href.replace(/([?&]continue=)[^&]*/,\"$1\"+b))}function Pa(a){window.gApplication&&(a.href=window.gApplication.getTabUrl(a.href))}function Qa(a){try{var b=(document.forms[0].q||\"\").value;b&&(a.href=a.href.replace(/([?&])q=[^&]*|$/,function(a,d){return(d||\"&\")+\"q=\"+encodeURIComponent(b)}))}catch(c){q(c,\"sb\",\"pq\")}} var Ra=function(){for(var a=[],b=0,c;c=La[b];++b)(c=document.getElementById(c))&&a.push(c);return a},Sa=function(){var a=Ra();return 0<a.length?a[0]:null},Ta=function(){return document.getElementById(\"gb_70\")},L={},M={},Ua={},N={},O=void 0,Za=function(a,b){try{var c=document.getElementById(\"gb\");J(c,\"gbpdjs\");P();Va(document.getElementById(\"gb\"))&&J(c,\"gbrtl\");if(b&&b.getAttribute){var d=b.getAttribute(\"aria-owns\");if(d.length){var f=document.getElementById(d);if(f){var g=b.parentNode;if(O==d)O=void 0, K(g,\"gbto\");else{if(O){var l=document.getElementById(O);if(l&&l.getAttribute){var n=l.getAttribute(\"aria-owner\");if(n.length){var m=document.getElementById(n);m&&m.parentNode&&K(m.parentNode,\"gbto\")}}}Wa(f)&&Xa(f);O=d;J(g,\"gbto\")}}}}D(function(){h.tg(a,b,!0)});Ya(a)}catch(r){q(r,\"sb\",\"tg\")}},$a=function(a){D(function(){h.close(a)})},ab=function(a){D(function(){h.rdd(a)})},Va=function(a){var b,c=document.defaultView;c&&c.getComputedStyle?(a=c.getComputedStyle(a,\"\"))&&(b=a.direction):b=a.currentStyle? a.currentStyle.direction:a.style.direction;return\"rtl\"==b},cb=function(a,b,c){if(a)try{var d=document.getElementById(\"gbd5\");if(d){var f=d.firstChild,g=f.firstChild,l=document.createElement(\"li\");l.className=b+\" gbmtc\";l.id=c;a.className=\"gbmt\";l.appendChild(a);if(g.hasChildNodes()){c=[[\"gbkc\"],[\"gbf\",\"gbe\",\"gbn\"],[\"gbkp\"],[\"gbnd\"]];for(var d=0,n=g.childNodes.length,f=!1,m=-1,r=0,z;z=c[r];r++){for(var T=0,G;G=z[T];T++){for(;d<n&&I(g.childNodes[d],G);)d++;if(G==b){g.insertBefore(l,g.childNodes[d]|| null);f=!0;break}}if(f){if(d+1<g.childNodes.length){var U=g.childNodes[d+1];I(U.firstChild,\"gbmh\")||bb(U,z)||(m=d+1)}else if(0<=d-1){var V=g.childNodes[d-1];I(V.firstChild,\"gbmh\")||bb(V,z)||(m=d)}break}0<d&&d+1<n&&d++}if(0<=m){var w=document.createElement(\"li\"),x=document.createElement(\"div\");w.className=\"gbmtc\";x.className=\"gbmt gbmh\";w.appendChild(x);g.insertBefore(w,g.childNodes[m])}h.addHover&&h.addHover(a)}else g.appendChild(l)}}catch(Ab){q(Ab,\"sb\",\"al\")}},bb=function(a,b){for(var c=b.length, d=0;d<c;d++)if(I(a,b[d]))return!0;return!1},db=function(a,b,c){cb(a,b,c)},eb=function(a,b){cb(a,\"gbe\",b)},fb=function(){D(function(){h.pcm&&h.pcm()})},gb=function(){D(function(){h.pca&&h.pca()})},hb=function(a,b,c,d,f,g,l,n,m,r){D(function(){h.paa&&h.paa(a,b,c,d,f,g,l,n,m,r)})},ib=function(a,b){L[a]||(L[a]=[]);L[a].push(b)},jb=function(a,b){M[a]||(M[a]=[]);M[a].push(b)},kb=function(a,b){Ua[a]=b},lb=function(a,b){N[a]||(N[a]=[]);N[a].push(b)},Ya=function(a){a.preventDefault&&a.preventDefault();a.returnValue= !1;a.cancelBubble=!0},mb=null,Xa=function(a,b){P();if(a){nb(a,\"Opening&hellip;\");Q(a,!0);var c=\"undefined\"!=typeof b?b:1E4,d=function(){ob(a)};mb=window.setTimeout(d,c)}},pb=function(a){P();a&&(Q(a,!1),nb(a,\"\"))},ob=function(a){try{P();var b=a||document.getElementById(O);b&&(nb(b,\"This service is currently unavailable.%1$sPlease try again later.\",\"%1$s\"),Q(b,!0))}catch(c){q(c,\"sb\",\"sdhe\")}},nb=function(a,b,c){if(a&&b){var d=Wa(a);if(d){if(c){d.innerHTML=\"\";b=b.split(c);c=0;for(var f;f=b[c];c++){var g=document.createElement(\"div\"); g.innerHTML=f;d.appendChild(g)}}else d.innerHTML=b;Q(a,!0)}}},Q=function(a,b){var c=void 0!==b?b:!0;c?J(a,\"gbmsgo\"):K(a,\"gbmsgo\")},Wa=function(a){for(var b=0,c;c=a.childNodes[b];b++)if(I(c,\"gbmsg\"))return c},P=function(){mb&&window.clearTimeout(mb)},qb=function(a){var b=\"inner\"+a;a=\"offset\"+a;return window[b]?window[b]:document.documentElement&&document.documentElement[a]?document.documentElement[a]:0},rb=function(){return!1},sb=function(){return!!O};p(\"so\",Sa);p(\"sos\",Ra);p(\"si\",Ta);p(\"tg\",Za); p(\"close\",$a);p(\"rdd\",ab);p(\"addLink\",db);p(\"addExtraLink\",eb);p(\"pcm\",fb);p(\"pca\",gb);p(\"paa\",hb);p(\"ddld\",Xa);p(\"ddrd\",pb);p(\"dderr\",ob);p(\"rtl\",Va);p(\"op\",sb);p(\"bh\",L);p(\"abh\",ib);p(\"dh\",M);p(\"adh\",jb);p(\"ch\",N);p(\"ach\",lb);p(\"eh\",Ua);p(\"aeh\",kb);ba=k.a(\"\")?Pa:Qa;p(\"qs\",ba);p(\"setContinueCb\",Na);p(\"pc\",Oa);p(\"bsy\",rb);k.d=Ya;k.j=qb;var tb={};y.base=tb;A.push([\"m\",{url:\"//ssl.gstatic.com/gb/js/sem_28ccd69532c2390ae661f0e31ef881fd.js\"}]);h.sg={c:\"1\"};p(\"wg\",{rg:{}});var ub={tiw:k.c(\"15000\",0),tie:k.c(\"30000\",0)};y.wg=ub;var vb={thi:k.c(\"10000\",0),thp:k.c(\"180000\",0),tho:k.c(\"5000\",0),tet:k.b(\"0.5\",0)};y.wm=vb;if(k.a(\"1\")){var wb=k.a(\"\");A.push([\"gc\",{auto:wb,url:\"//ssl.gstatic.com/gb/js/abc/gci_91f30755d6a6b787dcc2a4062e6e9824.js\",libs:\"googleapis.client:plusone:gapi.iframes\"}]);var xb={version:\"gci_91f30755d6a6b787dcc2a4062e6e9824.js\",index:\"\",lang:\"en\"};y.gc=xb;var yb=function(a){window.googleapis&&window.iframes?a&&a():(a&&ra(a),F(\"gc\"))};p(\"lGC\",yb);k.a(\"1\")&&p(\"lPWF\",yb)};window.__PVT=\"\";if(k.a(\"1\")&&k.a(\"1\")){var zb=function(a){yb(function(){C(\"pw\",a);F(\"pw\")})};p(\"lPW\",zb);A.push([\"pw\",{url:\"//ssl.gstatic.com/gb/js/abc/pwm_45f73e4df07a0e388b0fa1f3d30e7280.js\"}]);var Bb=[],Cb=function(a){Bb[0]=a},Db=function(a,b){var c=b||{};c._sn=\"pw\";t(a,c)},Eb={signed:Bb,elog:Db,base:\"https://plusone.google.com/u/0\",loadTime:(new Date).getTime()};y.pw=Eb;var Fb=function(a,b){for(var c=b.split(\".\"),d=function(){var b=arguments;a(function(){for(var a=h,d=0,f=c.length-1;d<f;++d)a=a[c[d]];a[c[d]].apply(a,b)})},f=h,g=0,l=c.length-1;g< l;++g)f=f[c[g]]=f[c[g]]||{};return f[c[g]]=d};Fb(zb,\"pw.clk\");Fb(zb,\"pw.hvr\");p(\"su\",Cb,h.pw)};var Gb=[1,2,3,4,5,6,9,10,11,13,14,28,29,30,34,35,37,38,39,40,41,42,43,48,49,500];var Hb=k.b(\"0.001\",1E-4),Ib=k.b(\"1\",1),Jb=!1,Kb=!1;if(k.a(\"1\")){var Lb=Math.random();Lb<Hb&&(Jb=!0);Lb<Ib&&(Kb=!0)}var R=null; function Mb(a,b){var c=Hb,d=Jb,f;f=a;if(!R){R={};for(var g=0;g<Gb.length;g++){var l=Gb[g];R[l]=!0}}if(f=!!R[f])c=Ib,d=Kb;if(d){var d=encodeURIComponent,n=\"es_plusone_gc_20161006.0_p0\",m;h.rp?(m=h.rp(),m=\"-1\"!=m?m:\"1\"):m=\"1\";f=(new Date).getTime();var g=d(\"28834\"),l=d(\"CuD_V-KvFozjmAHvk4HgBg\"),r=h.bv.f,z=d(\"1\");m=d(m);var c=Math.round(1/c),T=d(\"1476066396.0\"),n=n?\"&oggv=\"+d(n):\"\",G=d(\"com\"),U=d(\"en\"), V=d(\"USA\"),w;w=0;k.a(\"\")&&(w|=1);k.a(\"\")&&(w|=2);k.a(\"\")&&(w|=4);f=[\"//www.google.com/gen_204?atyp=i&zx=\",f,\"&oge=\",a,\"&ogex=\",g,\"&ogev=\",l,\"&ogf=\",r,\"&ogp=\",z,\"&ogrp=\",m,\"&ogsr=\",c,\"&ogv=\",T,n,\"&ogd=\",G,\"&ogl=\",U,\"&ogc=\",V,\"&ogus=\",w];if(b){\"ogw\"in b&&(f.push(\"&ogw=\"+b.ogw),delete b.ogw);var x,g=b,l=[];for(x in g)0!=l.length&&l.push(\",\"),l.push(Nb(x)),l.push(\".\"),l.push(Nb(g[x]));x=l.join(\"\");\"\"!=x&&(f.push(\"&ogad=\"),f.push(d(x)))}ia(f.join(\"\"))}} function Nb(a){\"number\"==typeof a&&(a+=\"\");return\"string\"==typeof a?a.replace(\".\",\"%2E\").replace(\",\",\"%2C\"):a}u=Mb;p(\"il\",u,v);var Ob={};y.il=Ob;var Pb=function(a,b,c,d,f,g,l,n,m,r){D(function(){h.paa(a,b,c,d,f,g,l,n,m,r)})},Qb=function(){D(function(){h.prm()})},Rb=function(a){D(function(){h.spn(a)})},Sb=function(a){D(function(){h.sps(a)})},Tb=function(a){D(function(){h.spp(a)})},Ub={\"27\":\"//ssl.gstatic.com/gb/images/silhouette_24.png\",\"27\":\"//ssl.gstatic.com/gb/images/silhouette_24.png\",\"27\":\"//ssl.gstatic.com/gb/images/silhouette_24.png\"},Vb=function(a){return(a=Ub[a])||\"//ssl.gstatic.com/gb/images/silhouette_24.png\"}, Wb=function(){D(function(){h.spd()})};p(\"spn\",Rb);p(\"spp\",Tb);p(\"sps\",Sb);p(\"spd\",Wb);p(\"paa\",Pb);p(\"prm\",Qb);ib(\"gbd4\",Qb); if(k.a(\"\")){var Xb={d:k.a(\"\"),e:\"\",sanw:k.a(\"\"),p:\"//ssl.gstatic.com/gb/images/silhouette_96.png\",cp:\"1\",xp:k.a(\"1\"),mg:\"%1$s (delegated)\",md:\"%1$s (default)\",mh:\"220\",s:\"1\",pp:Vb,ppl:k.a(\"\"),ppa:k.a(\"\"), ppm:\"Google+ page\"};y.prf=Xb};var S,Yb,W,Zb,X=0,$b=function(a,b,c){if(a.indexOf)return a.indexOf(b,c);if(Array.indexOf)return Array.indexOf(a,b,c);for(c=null==c?0:0>c?Math.max(0,a.length+c):c;c<a.length;c++)if(c in a&&a[c]===b)return c;return-1},Y=function(a,b){return-1==$b(a,X)?(q(Error(X+\"_\"+b),\"up\",\"caa\"),!1):!0},bc=function(a,b){Y([1,2],\"r\")&&(S[a]=S[a]||[],S[a].push(b),2==X&&window.setTimeout(function(){b(ac(a))},0))},cc=function(a,b,c){if(Y([1],\"nap\")&&c){for(var d=0;d<c.length;d++)Yb[c[d]]=!0;h.up.spl(a,b,\"nap\",c)}},dc= function(a,b,c){if(Y([1],\"aop\")&&c){if(W)for(var d in W)W[d]=W[d]&&-1!=$b(c,d);else for(W={},d=0;d<c.length;d++)W[c[d]]=!0;h.up.spl(a,b,\"aop\",c)}},ec=function(){try{if(X=2,!Zb){Zb=!0;for(var a in S)for(var b=S[a],c=0;c<b.length;c++)try{b[c](ac(a))}catch(d){q(d,\"up\",\"tp\")}}}catch(d){q(d,\"up\",\"mtp\")}},ac=function(a){if(Y([2],\"ssp\")){var b=!Yb[a];W&&(b=b&&!!W[a]);return b}};Zb=!1;S={};Yb={};W=null; var X=1,fc=function(a){var b=!1;try{b=a.cookie&&a.cookie.match(\"PREF\")}catch(c){}return!b},gc=function(){try{return!!e.localStorage&&\"object\"==typeof e.localStorage}catch(a){return!1}},hc=function(a){return a&&a.style&&a.style.behavior&&\"undefined\"!=typeof a.load},ic=function(a,b,c,d){try{fc(document)||(d||(b=\"og-up-\"+b),gc()?e.localStorage.setItem(b,c):hc(a)&&(a.setAttribute(b,c),a.save(a.id)))}catch(f){f.code!=DOMException.QUOTA_EXCEEDED_ERR&&q(f,\"up\",\"spd\")}},jc=function(a,b,c){try{if(fc(document))return\"\"; c||(b=\"og-up-\"+b);if(gc())return e.localStorage.getItem(b);if(hc(a))return a.load(a.id),a.getAttribute(b)}catch(d){d.code!=DOMException.QUOTA_EXCEEDED_ERR&&q(d,\"up\",\"gpd\")}return\"\"},kc=function(a,b,c){a.addEventListener?a.addEventListener(b,c,!1):a.attachEvent&&a.attachEvent(\"on\"+b,c)},lc=function(a){for(var b=0,c;c=a[b];b++){var d=h.up;c=c in d&&d[c];if(!c)return!1}return!0},mc=function(a,b){try{if(fc(a))return-1;var c=a.cookie.match(/OGPC=([^;]*)/);if(c&&c[1]){var d=c[1].match(new RegExp(\"\\\\b\"+ b+\"-([0-9]+):\"));if(d&&d[1])return parseInt(d[1],10)}}catch(f){f.code!=DOMException.QUOTA_EXCEEDED_ERR&&q(f,\"up\",\"gcc\")}return-1};p(\"up\",{r:bc,nap:cc,aop:dc,tp:ec,ssp:ac,spd:ic,gpd:jc,aeh:kc,aal:lc,gcc:mc});var Z=function(a,b){a[b]=function(c){var d=arguments;h.qm(function(){a[b].apply(this,d)})}};Z(h.up,\"sl\");Z(h.up,\"si\");Z(h.up,\"spl\");Z(h.up,\"dpc\");Z(h.up,\"iic\");h.mcf(\"up\",{sp:k.b(\"0.01\",1),tld:\"com\",prid:\"1\"});function nc(){function a(){for(var b;(b=g[l++])&&\"m\"!=b[0]&&!b[1].auto;);b&&(qa(2,b[0]),b[1].url&&pa(b[1].url,b[0]),b[1].libs&&E&&E(b[1].libs));l<g.length&&setTimeout(a,0)}function b(){0<f--?setTimeout(b,0):a()}var c=k.a(\"1\"),d=k.a(\"\"),f=3,g=A,l=0,n=window.gbarOnReady;if(n)try{n()}catch(m){q(m,\"ml\",\"or\")}d?p(\"ldb\",a):c?ca(window,\"load\",b):b()}p(\"rdl\",nc);}catch(e){window.gbar&&gbar.logger&&gbar.logger.ml(e,{\"_sn\":\"cfg.init\"});}})(); (function(){try{var b=window.gbar;var d=function(a,c){b[a]=function(){return window.navigator&&window.navigator.userAgent?c(window.navigator.userAgent):!1}},e=function(a){return!(/AppleWebKit\\/.+(?:Version\\/[35]\\.|Chrome\\/[01]\\.)/.test(a)||-1!=a.indexOf(\"Firefox/3.5.\"))};d(\"bs_w\",e);}catch(e){window.gbar&&gbar.logger&&gbar.logger.ml(e,{\"_sn\":\"cfg.init\"});}})(); (function(){try{var a=window.gbar;a.mcf(\"pm\",{p:\"19000096,8QJ,7,,\"});}catch(e){window.gbar&&gbar.logger&&gbar.logger.ml(e,{\"_sn\":\"cfg.init\"});}})(); (function(){try{var a=window.gbar;a.mcf(\"mm\",{s:\"1\"});}catch(e){window.gbar&&gbar.logger&&gbar.logger.ml(e,{\"_sn\":\"cfg.init\"});}})(); (function(){try{var d=window.gbar.i.i;var e=window.gbar;var f=e.i;var g=f.c(\"1\",0),h=/\\bgbmt\\b/,k=function(a){try{var b=document.getElementById(\"gb_\"+g),c=document.getElementById(\"gb_\"+a);b&&f.l(b,h.test(b.className)?\"gbm0l\":\"gbz0l\");c&&f.k(c,h.test(c.className)?\"gbm0l\":\"gbz0l\")}catch(l){d(l,\"sj\",\"ssp\")}g=a},m=e.qs,n=function(a){var b;b=a.href;var c=window.location.href.match(/.*?:\\/\\/[^\\/]*/)[0],c=new RegExp(\"^\"+c+\"/search\\\\?\");(b=c.test(b))&&!/(^|\\\\?|&)ei=/.test(a.href)&&(b=window.google)&&b.kEXPI&&(a.href+=\"&ei=\"+b.kEI)},p=function(a){m(a); n(a)},q=function(){if(window.google&&window.google.sn){var a=/.*hp$/;return a.test(window.google.sn)?\"\":\"1\"}return\"-1\"};e.rp=q;e.slp=k;e.qs=p;e.qsi=n;}catch(e){window.gbar&&gbar.logger&&gbar.logger.ml(e,{\"_sn\":\"cfg.init\"});}})(); (function(){try{var a=this;var b=window.gbar;var c=b.i;var d=c.a,e=c.c,f={cty:\"USA\",cv:\"1476066396\",dbg:d(\"\"),ecv:\"0\",ei:e(\"CuD_V-KvFozjmAHvk4HgBg\"),ele:d(\"1\"),esr:e(\"0.1\"),evts:[\"mousedown\",\"touchstart\",\"touchmove\",\"wheel\",\"keydown\"],gbl:\"es_plusone_gc_20161006.0_p0\",hd:\"com\",hl:\"en\",irp:d(\"1\"),pid:e(\"1\"), snid:e(\"28834\"),to:e(\"300000\"),u:e(\"\"),vf:\".66.41.\"},g=f,h=[\"bndcfg\"],k=a;h[0]in k||!k.execScript||k.execScript(\"var \"+h[0]);for(var l;h.length&&(l=h.shift());)h.length||void 0===g?k=k[l]?k[l]:k[l]={}:k[l]=g;}catch(e){window.gbar&&gbar.logger&&gbar.logger.ml(e,{\"_sn\":\"cfg.init\"});}})(); (function(){try{window.gbar.rdl();}catch(e){window.gbar&&gbar.logger&&gbar.logger.ml(e,{\"_sn\":\"cfg.init\"});}})(); </script><script>(function(){var a=function(f){for(var g=f.parentElement,d=null,e=0;e<g.childNodes.length;e++){var h=g.childNodes[e];-1<(\" \"+h.className+\" \").indexOf(\" am-dropdown-menu \")&&(d=h)}\"none\"==d.style.display?(d.style.display=\"\",google.log(\"hpam\",\"&ved=\"+f.getAttribute(\"data-ved\"))):d.style.display=\"none\"},b=[\"google\",\"sham\"],c=this;b[0]in c||!c.execScript||c.execScript(\"var \"+b[0]);for(var k;b.length&&(k=b.shift());)b.length||void 0===a?c[k]?c=c[k]:c=c[k]={}:c[k]=a;}).call(window);</script><style type=\"text/css\">.gsib_a{width:100%;padding:4px 6px 0}.gsib_a,.gsib_b{vertical-align:top}.gssb_c{border:0;position:absolute;z-index:989}.gssb_e{border:1px solid #ccc;border-top-color:#d9d9d9;box-shadow:0 2px 4px rgba(0,0,0,0.2);-webkit-box-shadow:0 2px 4px rgba(0,0,0,0.2);cursor:default}.gssb_f{visibility:hidden;white-space:nowrap}.gssb_k{border:0;display:block;position:absolute;top:0;z-index:988}.gsdd_a{border:none!important}.gsmq_a{padding:0}a.gspqs_a{padding:0 3px 0 8px}.gspqs_b{color:#666;line-height:22px}.gsls_a{color:red}.gsn_a{padding-top:4px;padding-bottom:1px}.gsn_b{display:block;line-height:16px}.gsn_c{color:green;font-size:13px}.gsq_a{padding:0}.gssb_a{padding:0 7px}.gssb_a,.gssb_a td{white-space:nowrap;overflow:hidden;line-height:22px}#gssb_b{font-size:11px;color:#36c;text-decoration:none}#gssb_b:hover{font-size:11px;color:#36c;text-decoration:underline}.gssb_g{text-align:center;padding:8px 0 7px;position:relative}.gssb_h{font-size:15px;height:28px;margin:0.2em;-webkit-appearance:button}.gssb_i{background:#eee}.gss_ifl{visibility:hidden;padding-left:5px}.gssb_i .gss_ifl{visibility:visible}a.gssb_j{font-size:13px;color:#36c;text-decoration:none;line-height:100%}a.gssb_j:hover{text-decoration:underline}.gssb_l{height:1px;background-color:#e5e5e5}.gssb_m{color:#000;background:#fff}a.gspqs_a{padding-left:0}.gssb_e{border-top:1px solid #a2bff0;border-right:1px solid #558be3;border-bottom:1px solid #558be3;border-left:1px solid #a2bff0;}.gssb_i{background:#d5e2ff}</style></head><body class=\"hsrp\" bgcolor=\"#ffffff\" marginheight=\"0\" marginwidth=\"0\" topmargin=\"0\"><div id=\"gb\"><script>window.gbar&&gbar.eli&&gbar.eli()</script><div id=\"gbw\"><div id=\"gbz\"><span class=\"gbtcb\"></span><ol id=\"gbzc\" class=\"gbtc\"><li class=\"gbt\"><a onclick=\"gbar.logger.il(1,{t:119});\" class=\"gbzt\" id=\"gb_119\" href=\"https://plus.google.com/?gpsrc=ogpy0&amp;tab=wX\"><span class=\"gbtb2\"></span><span class=\"gbts\">Google+</span></a></li><li class=\"gbt\"><a onclick=\"gbar.logger.il(1,{t:1});\" class=\"gbzt gbz0l gbp1\" id=\"gb_1\" href=\"https://www.google.com/webhp?tab=ww\"><span class=\"gbtb2\"></span><span class=\"gbts\">Search</span></a></li><li class=\"gbt\"><a onclick=\"gbar.logger.il(1,{t:2});\" class=\"gbzt\" id=\"gb_2\" href=\"https://www.google.com/search?hl=en&amp;tbm=isch&amp;source=og&amp;tab=wi\"><span class=\"gbtb2\"></span><span class=\"gbts\">Images</span></a></li><li class=\"gbt\"><a onclick=\"gbar.logger.il(1,{t:8});\" class=\"gbzt\" id=\"gb_8\" href=\"https://maps.google.com/maps?hl=en&amp;tab=wl\"><span class=\"gbtb2\"></span><span class=\"gbts\">Maps</span></a></li><li class=\"gbt\"><a onclick=\"gbar.logger.il(1,{t:78});\" class=\"gbzt\" id=\"gb_78\" href=\"https://play.google.com/?hl=en&amp;tab=w8\"><span class=\"gbtb2\"></span><span class=\"gbts\">Play</span></a></li><li class=\"gbt\"><a onclick=\"gbar.logger.il(1,{t:36});\" class=\"gbzt\" id=\"gb_36\" href=\"https://www.youtube.com/results?tab=w1\"><span class=\"gbtb2\"></span><span class=\"gbts\">YouTube</span></a></li><li class=\"gbt\"><a onclick=\"gbar.logger.il(1,{t:5});\" class=\"gbzt\" id=\"gb_5\" href=\"https://news.google.com/nwshp?hl=en&amp;tab=wn\"><span class=\"gbtb2\"></span><span class=\"gbts\">News</span></a></li><li class=\"gbt\"><a onclick=\"gbar.logger.il(1,{t:23});\" class=\"gbzt\" id=\"gb_23\" href=\"https://mail.google.com/mail/?tab=wm\"><span class=\"gbtb2\"></span><span class=\"gbts\">Gmail</span></a></li><li class=\"gbt\"><a class=\"gbgt\" id=\"gbztm\" href=\"https://www.google.com/intl/en/options/\" onclick=\"gbar.tg(event,this)\" aria-haspopup=\"true\" aria-owns=\"gbd\"><span class=\"gbtb2\"></span><span id=\"gbztms\" class=\"gbts gbtsa\"><span id=\"gbztms1\">More</span><span class=\"gbma\"></span></span></a><div class=\"gbm\" id=\"gbd\" aria-owner=\"gbztm\"><div id=\"gbmmb\" class=\"gbmc gbsb gbsbis\"><ol id=\"gbmm\" class=\"gbmcc gbsbic\"><li class=\"gbmtc\"><a onclick=\"gbar.logger.il(1,{t:49});\" class=\"gbmt\" id=\"gb_49\" href=\"https://drive.google.com/?tab=wo\">Drive</a></li><li class=\"gbmtc\"><a onclick=\"gbar.logger.il(1,{t:24});\" class=\"gbmt\" id=\"gb_24\" href=\"https://www.google.com/calendar?tab=wc\">Calendar</a></li><li class=\"gbmtc\"><a onclick=\"gbar.logger.il(1,{t:51});\" class=\"gbmt\" id=\"gb_51\" href=\"https://translate.google.com/?hl=en&amp;tab=wT\">Translate</a></li><li class=\"gbmtc\"><a onclick=\"gbar.logger.il(1,{t:17});\" class=\"gbmt\" id=\"gb_17\" href=\"http://www.google.com/mobile/?hl=en&amp;tab=wD\">Mobile</a></li><li class=\"gbmtc\"><a onclick=\"gbar.logger.il(1,{t:10});\" class=\"gbmt\" id=\"gb_10\" href=\"https://www.google.com/search?hl=en&amp;tbo=u&amp;tbm=bks&amp;source=og&amp;tab=wp\">Books</a></li><li class=\"gbmtc\"><a onclick=\"gbar.logger.il(1,{t:212});\" class=\"gbmt\" id=\"gb_212\" href=\"https://wallet.google.com/manage/?tab=wa\">Wallet</a></li><li class=\"gbmtc\"><a onclick=\"gbar.logger.il(1,{t:6});\" class=\"gbmt\" id=\"gb_6\" href=\"https://www.google.com/search?hl=en&amp;tbo=u&amp;tbm=shop&amp;source=og&amp;tab=wf\">Shopping</a></li><li class=\"gbmtc\"><a onclick=\"gbar.logger.il(1,{t:30});\" class=\"gbmt\" id=\"gb_30\" href=\"https://www.blogger.com/?tab=wj\">Blogger</a></li><li class=\"gbmtc\"><a onclick=\"gbar.logger.il(1,{t:27});\" class=\"gbmt\" id=\"gb_27\" href=\"https://www.google.com/finance?tab=we\">Finance</a></li><li class=\"gbmtc\"><a onclick=\"gbar.logger.il(1,{t:31});\" class=\"gbmt\" id=\"gb_31\" href=\"https://photos.google.com/?tab=wq\">Photos</a></li><li class=\"gbmtc\"><a onclick=\"gbar.logger.il(1,{t:12});\" class=\"gbmt\" id=\"gb_12\" href=\"https://www.google.com/search?hl=en&amp;tbo=u&amp;tbm=vid&amp;source=og&amp;tab=wv\">Videos</a></li><li class=\"gbmtc\"><a onclick=\"gbar.logger.il(1,{t:25});\" class=\"gbmt\" id=\"gb_25\" href=\"https://docs.google.com/document/?usp=docs_alc\">Docs</a></li><li class=\"gbmtc\"><div class=\"gbmt gbmh\"></div></li><li class=\"gbmtc\"><a onclick=\"gbar.logger.il(1,{t:66});\" href=\"https://www.google.com/intl/en/options/\" class=\"gbmt\">Even more »</a></li></ol><div class=\"gbsbt\" style=\"opacity: 0;\"></div><div class=\"gbsbb\" style=\"opacity: 0;\"></div></div></div></li></ol></div><div id=\"gbg\"><h2 class=\"gbxx\">Account Options</h2><span class=\"gbtcb\"></span><ol class=\"gbtc\"><li class=\"gbt\"><a target=\"_top\" href=\"https://accounts.google.com/ServiceLogin?hl=en&amp;passive=true&amp;continue=https://www.google.com/search%3Fq%3Ddata%2Bscience\" onclick=\"gbar.logger.il(9,{l:'i'})\" id=\"gb_70\" class=\"gbgt\"><span class=\"gbtb2\"></span><span id=\"gbgs4\" class=\"gbts\"><span id=\"gbi4s1\">Sign in</span></span></a></li><li class=\"gbt gbtb\"><span class=\"gbts\"></span></li><li class=\"gbt\"><a class=\"gbgt\" id=\"gbg5\" href=\"http://www.google.com/preferences?hl=en\" title=\"Options\" onclick=\"gbar.tg(event,this)\" aria-haspopup=\"true\" aria-owns=\"gbd5\"><span class=\"gbtb2\"></span><span id=\"gbgs5\" class=\"gbts\"><span id=\"gbi5\"></span></span></a><div class=\"gbm\" id=\"gbd5\" aria-owner=\"gbg5\"><div class=\"gbmc\"><ol id=\"gbom\" class=\"gbmcc\"><li class=\"gbkc gbmtc\"><a class=\"gbmt\" href=\"/preferences?hl=en\">Search settings</a></li><li class=\"gbmtc\"><div class=\"gbmt gbmh\"></div></li><li class=\"gbkp gbmtc\"><a class=\"gbmt\" href=\"http://www.google.com/history/optout?hl=en\">Web History</a></li></ol></div></div></li></ol></div></div><div id=\"gbx3\"></div><div id=\"gbx4\"></div><script>window.gbar&&gbar.elp&&gbar.elp()</script></div><table id=\"mn\" border=\"0\" cellpadding=\"0\" cellspacing=\"0\" style=\"position:relative\"><tbody><tr><th width=\"132\"></th><th width=\"573\"></th><th width=\"278\"></th><th></th></tr><tr><td class=\"sfbgg\" valign=\"top\"><div id=\"logocont\"><h1><a href=\"/webhp?hl=en\" style=\"background:url(/images/nav_logo229.png) no-repeat 0 -41px;height:37px;width:95px;display:block\" id=\"logo\" title=\"Go to Google Home\"></a></h1></div></td><td class=\"sfbgg\" colspan=\"2\" valign=\"top\" style=\"padding-left:0px\"><form style=\"display:block;margin:0;background:none\" action=\"/search\" id=\"tsf\" method=\"GET\" name=\"gs\"><table border=\"0\" cellpadding=\"0\" cellspacing=\"0\" style=\"margin-top:20px;position:relative\"><tbody><tr><td><div class=\"lst-a\"><table cellpadding=\"0\" cellspacing=\"0\"><tbody><tr><td class=\"lst-td\" width=\"555\" valign=\"bottom\"><div style=\"position:relative;zoom:1\"><input class=\"lst\" value=\"data science\" title=\"Search\" autocomplete=\"off\" id=\"sbhost\" maxlength=\"2048\" name=\"q\" type=\"text\" dir=\"ltr\" spellcheck=\"false\" style=\"outline: none;\"></div></td></tr></tbody></table></div></td><td><div class=\"ds\"><div class=\"lsbb\"><button class=\"lsb\" value=\"Search\" name=\"btnG\" type=\"submit\"><span class=\"sbico\" style=\"background:url(/images/nav_logo229.png) no-repeat -36px -111px;height:14px;width:13px;display:block\"></span></button></div></div></td></tr></tbody></table><input type=\"hidden\" name=\"oq\"><input type=\"hidden\" name=\"gs_l\"></form></td><td class=\"sfbgg\">&nbsp;</td></tr><tr style=\"position:relative\"><td><div style=\"border-bottom:1px solid #ebebeb;height:59px\"></div></td><td colspan=\"2\"><div class=\"tn\"><div class=\"_UXb _Ihd _sxc _Hhd\">All</div><div class=\"_sxc\"><a class=\"_UXb _Jhd\" href=\"/search?q=data+science&amp;prmd=ivnsb&amp;source=lnms&amp;tbm=isch&amp;sa=X&amp;ved=0ahUKEwiUsNbCwdjPAhVKKiYKHQiaDKoQ_AUIBQ\">Images</a></div><div class=\"_sxc\"><a class=\"_UXb _Jhd\" href=\"/search?q=data+science&amp;prmd=ivnsb&amp;source=lnms&amp;tbm=vid&amp;sa=X&amp;ved=0ahUKEwiUsNbCwdjPAhVKKiYKHQiaDKoQ_AUIBg\">Videos</a></div><div class=\"_sxc\"><a class=\"_UXb _Jhd\" href=\"/search?q=data+science&amp;prmd=ivnsb&amp;source=lnms&amp;tbm=nws&amp;sa=X&amp;ved=0ahUKEwiUsNbCwdjPAhVKKiYKHQiaDKoQ_AUIBw\">News</a></div><div class=\"_sxc\"><a class=\"_UXb _Jhd\" href=\"/search?q=data+science&amp;prmd=ivnsb&amp;source=lnms&amp;tbm=shop&amp;sa=X&amp;ved=0ahUKEwiUsNbCwdjPAhVKKiYKHQiaDKoQ_AUICA\">Shopping</a></div><div class=\"_sxc\"><a class=\"_UXb _Jhd\" href=\"/search?q=data+science&amp;prmd=ivnsb&amp;source=lnms&amp;tbm=bks&amp;sa=X&amp;ved=0ahUKEwiUsNbCwdjPAhVKKiYKHQiaDKoQ_AUICQ\">Books</a></div><div class=\"_sxc\"><a class=\"_UXb _Jhd\" href=\"https://maps.google.com/maps?q=data+science&amp;um=1&amp;ie=UTF-8&amp;sa=X&amp;ved=0ahUKEwiUsNbCwdjPAhVKKiYKHQiaDKoQ_AUICg\">Maps</a></div></div><div style=\"border-bottom:1px solid #ebebeb;height:59px\"></div></td><td><div style=\"border-bottom:1px solid #ebebeb;height:59px\"></div></td></tr></tbody><tbody data-jibp=\"h\" data-jiis=\"uc\" id=\"desktop-search\"><style>._Bu,._Bu a:link,._Bu a:visited,a._Bu:link,a._Bu:visited{color:#808080}._kBb{color:#61C}.ellip{overflow:hidden;text-overflow:ellipsis;white-space:nowrap}._hM{margin:0;font-weight:normal;font-size:0;line-height:0}#_Ltg ._Dtg,#_Ktg ._Dtg{float:right}#_Ltg ._hM,#_Ktg ._hM{position:relative;top:3px;right:4px}._kug{margin-bottom:23px}#_Ltg{padding:0 8px 11px}#_Ktg{margin:-10px 0 11px;padding-left:8px;padding-right:8px}#_Ltg{margin-bottom:6px}#_Ktg{padding-bottom:12px;padding-top:9px}#_Stg{padding:0 8px 18px 10px;white-space:nowrap}#_Stg ._hM{padding-bottom:13px}#_Stg ._hM{padding-top:1px}#_Stg ._Dtg{position:relative;top:2px;left:3px}.ads-ad{color:#545454}.ads-ad a{text-decoration:none}.ads-ad a:hover,.ads-ad h3 a{text-decoration:underline}.ads-visurl{font-size:15px;margin-bottom:2px}._WGk{display:inline-block;max-width:505px;overflow:hidden;text-overflow:ellipsis;vertical-align:bottom;white-space:nowrap}.ads-visurl ._mB{margin-right:7px}._Tkg{overflow:hidden;max-height:38px}._xyk{overflow:hidden;max-height:32px}.ads-ad{color:#545454;line-height:1.24}._mB{background-color:#59946b;border-radius:2px;color:#fff;display:inline-block;font-size:12px;padding:0 2px;line-height:14px;vertical-align:baseline}._MEc{margin-top:3px}._pNg{color:#545454;font-size:small;white-space:nowrap;vertical-align:bottom}</style><tr><td id=\"leftnav\" valign=\"top\"><div><h2 class=\"hd\">Search Options</h2><ul class=\"med\" id=\"tbd\"><li><ul class=\"tbt\"><li class=\"tbos\" id=\"qdr_\">Any time</li><li class=\"tbou\" id=\"qdr_h\"><a class=\"q\" href=\"/search?q=data+science&amp;prmd=ivnsb&amp;source=lnt&amp;tbs=qdr:h&amp;sa=X&amp;ved=0ahUKEwiUsNbCwdjPAhVKKiYKHQiaDKoQpwUIDw\">Past hour</a></li><li class=\"tbou\" id=\"qdr_d\"><a class=\"q\" href=\"/search?q=data+science&amp;prmd=ivnsb&amp;source=lnt&amp;tbs=qdr:d&amp;sa=X&amp;ved=0ahUKEwiUsNbCwdjPAhVKKiYKHQiaDKoQpwUIDw\">Past 24 hours</a></li><li class=\"tbou\" id=\"qdr_w\"><a class=\"q\" href=\"/search?q=data+science&amp;prmd=ivnsb&amp;source=lnt&amp;tbs=qdr:w&amp;sa=X&amp;ved=0ahUKEwiUsNbCwdjPAhVKKiYKHQiaDKoQpwUIDw\">Past week</a></li><li class=\"tbou\" id=\"qdr_m\"><a class=\"q\" href=\"/search?q=data+science&amp;prmd=ivnsb&amp;source=lnt&amp;tbs=qdr:m&amp;sa=X&amp;ved=0ahUKEwiUsNbCwdjPAhVKKiYKHQiaDKoQpwUIDw\">Past month</a></li><li class=\"tbou\" id=\"qdr_y\"><a class=\"q\" href=\"/search?q=data+science&amp;prmd=ivnsb&amp;source=lnt&amp;tbs=qdr:y&amp;sa=X&amp;ved=0ahUKEwiUsNbCwdjPAhVKKiYKHQiaDKoQpwUIDw\">Past year</a></li></ul></li><li><ul class=\"tbt\"><li class=\"tbos\" id=\"li_\">All results</li><li class=\"tbou\" id=\"li_1\"><a class=\"q\" href=\"/search?q=data+science&amp;prmd=ivnsb&amp;source=lnt&amp;tbs=li:1&amp;sa=X&amp;ved=0ahUKEwiUsNbCwdjPAhVKKiYKHQiaDKoQpwUIDw\">Verbatim</a></li></ul></li></ul></div></td><td valign=\"top\"><div id=\"center_col\"><div class=\"sd\" id=\"resultStats\">About 62,800,000 results</div><div class=\"_Ak\" id=\"_Ltg\"><h2 class=\"_hM\"></h2><ol><li class=\"ads-ad _kug\"><h3 class=\"ellip\"><a href=\"http://www.google.com/aclk?sa=l&amp;ai=DChcSEwign9vCwdjPAhUQKWkKHf7ZCkEYABAA&amp;sig=AOD64_1Cp7PGiMad8QAmZjL0TqE7GUat6Q&amp;ved=0ahUKEwiUsNbCwdjPAhVKKiYKHQiaDKoQ0QwIEg&amp;adurl=\"><b>Data Science</b> - 12 Weeks - generalassemb.ly</a></h3><div class=\"ads-visurl\"><span class=\"_mB\">Ad</span><cite class=\"_WGk\">www.generalassemb.ly/<b>Data</b>-<b>Science</b></cite>‎<div class=\"_nBb\"><div style=\"display:inline\" onclick=\"google.sham(this);\" aria-expanded=\"false\" aria-haspopup=\"true\" tabindex=\"0\" data-ved=\"0ahUKEwiUsNbCwdjPAhVKKiYKHQiaDKoQ7B0IEw\"><span class=\"_O0\"></span></div><div style=\"display:none\" class=\"am-dropdown-menu\" role=\"menu\" tabindex=\"-1\"><ul><li class=\"_Ykb\" style=\"margin:0\"><a class=\"_Zkb\" href=\"/url?q=/settings/ads/preferences%3Fhl%3Den&amp;sa=U&amp;ved=0ahUKEwiUsNbCwdjPAhVKKiYKHQiaDKoQgRMIFQ&amp;usg=AFQjCNEAXNOZ62ka46D3FTH_48RcIwnQgw\" target=\"_blank\">Why this ad?</a></li></ul></div></div></div><div class=\"ads-creative ellip\">Learn Python, Git, Unix &amp; More. Join Our Tech Community Today.</div><div>Bring Ideas to Life&nbsp;·&nbsp;Advance Your Career</div><div class=\"ellip\">Courses: Git, UNIX, &amp; Relational Databases, Data Analysis &amp; Python…</div><a href=\"http://www.google.com/aclk?sa=l&amp;ai=DChcSEwign9vCwdjPAhUQKWkKHf7ZCkEYABAB&amp;sig=AOD64_20KsLsuS5ml-OlFkq83OOiz4i9yw&amp;ctype=50&amp;ved=0ahUKEwiUsNbCwdjPAhVKKiYKHQiaDKoQmxAIHA&amp;adurl=\">902 Broadway, 4th Floor, New York, NY</a></li><li class=\"ads-ad _kug\"><h3 class=\"ellip\"><a href=\"http://www.google.com/aclk?sa=l&amp;ai=DChcSEwign9vCwdjPAhUQKWkKHf7ZCkEYABAC&amp;sig=AOD64_2xO62fhbGiXiquJ7xVQUNeOYXdMA&amp;ved=0ahUKEwiUsNbCwdjPAhVKKiYKHQiaDKoQ0QwIHg&amp;adurl=\"><b>Data Science</b> - Find Your Dream Job With Hired - hired.com</a></h3><div class=\"ads-visurl\"><span class=\"_mB\">Ad</span><cite class=\"_WGk\">www.hired.com/NewYork/new-york-city</cite>‎<div class=\"_nBb\"><div style=\"display:inline\" onclick=\"google.sham(this);\" aria-expanded=\"false\" aria-haspopup=\"true\" tabindex=\"0\" data-ved=\"0ahUKEwiUsNbCwdjPAhVKKiYKHQiaDKoQ7B0IHw\"><span class=\"_O0\"></span></div><div style=\"display:none\" class=\"am-dropdown-menu\" role=\"menu\" tabindex=\"-1\"><ul><li class=\"_Ykb\" style=\"margin:0\"><a class=\"_Zkb\" href=\"/url?q=/settings/ads/preferences%3Fhl%3Den&amp;sa=U&amp;ved=0ahUKEwiUsNbCwdjPAhVKKiYKHQiaDKoQgRMIIQ&amp;usg=AFQjCNEAXNOZ62ka46D3FTH_48RcIwnQgw\" target=\"_blank\">Why this ad?</a></li></ul></div></div></div><div class=\"ads-creative ellip\">Your Dream Job Is Waiting to Apply To You. Get Hired on Hired. Sign Up Now!</div><div class=\"_MEc\"><a href=\"http://www.google.com/aclk?sa=l&amp;ai=DChcSEwign9vCwdjPAhUQKWkKHf7ZCkEYABAD&amp;sig=AOD64_2hjl2EzaU_U-Wfhz7js2Cka7wurA&amp;ctype=4&amp;ved=0ahUKEwiUsNbCwdjPAhVKKiYKHQiaDKoQpigIIygA&amp;adurl=\">Refer a Friend Bonus</a> - <a href=\"http://www.google.com/aclk?sa=l&amp;ai=DChcSEwign9vCwdjPAhUQKWkKHf7ZCkEYABAE&amp;sig=AOD64_3sHa-Cqs_golH_QwpHkwpegm1ztg&amp;ctype=4&amp;ved=0ahUKEwiUsNbCwdjPAhVKKiYKHQiaDKoQpigIJCgB&amp;adurl=\">List of Companies</a> - <a href=\"http://www.google.com/aclk?sa=l&amp;ai=DChcSEwign9vCwdjPAhUQKWkKHf7ZCkEYABAF&amp;sig=AOD64_3MTRqheHJAX2a-Yc0NAbTiQ885wQ&amp;ctype=4&amp;ved=0ahUKEwiUsNbCwdjPAhVKKiYKHQiaDKoQpigIJSgC&amp;adurl=\">Apply Once. Get Hired.</a></div></li><li class=\"ads-ad _kug\"><h3 class=\"ellip\"><a href=\"http://www.google.com/aclk?sa=L&amp;ai=DChcSEwign9vCwdjPAhUQKWkKHf7ZCkEYABAG&amp;sig=AOD64_0jD7Jagzye_QLtTleif-F5GJ9U_w&amp;ved=0ahUKEwiUsNbCwdjPAhVKKiYKHQiaDKoQ0QwIJw&amp;adurl=\"><b>Data Science</b> Jobs - indeed.com</a></h3><div class=\"ads-visurl\"><span class=\"_mB\">Ad</span><cite class=\"_WGk\">www.indeed.com/Prime</cite>‎<div class=\"_nBb\"><div style=\"display:inline\" onclick=\"google.sham(this);\" aria-expanded=\"false\" aria-haspopup=\"true\" tabindex=\"0\" data-ved=\"0ahUKEwiUsNbCwdjPAhVKKiYKHQiaDKoQ7B0IKA\"><span class=\"_O0\"></span></div><div style=\"display:none\" class=\"am-dropdown-menu\" role=\"menu\" tabindex=\"-1\"><ul><li class=\"_Ykb\" style=\"margin:0\"><a class=\"_Zkb\" href=\"/url?q=/settings/ads/preferences%3Fhl%3Den&amp;sa=U&amp;ved=0ahUKEwiUsNbCwdjPAhVKKiYKHQiaDKoQgRMIKg&amp;usg=AFQjCNEAXNOZ62ka46D3FTH_48RcIwnQgw\" target=\"_blank\">Why this ad?</a></li></ul></div></div></div><div class=\"ads-creative ellip\">The Best Tech Companies Are Hiring Find a Job, Get $2K Signing Bonus</div><div class=\"ellip\">Locations: Austin, London, Boston, San Francisco, Seattle…</div><div class=\"_MEc\"><a href=\"http://www.google.com/aclk?sa=L&amp;ai=DChcSEwign9vCwdjPAhUQKWkKHf7ZCkEYABAH&amp;sig=AOD64_0ciRkZr6uRja_E5MPuQZDZ_M18Ng&amp;ctype=4&amp;ved=0ahUKEwiUsNbCwdjPAhVKKiYKHQiaDKoQpigINCgA&amp;adurl=\">For Employers</a> - <a href=\"http://www.google.com/aclk?sa=L&amp;ai=DChcSEwign9vCwdjPAhUQKWkKHf7ZCkEYABAI&amp;sig=AOD64_2z-SVv9GnjFKDlsTnfrLBLTJiuRA&amp;ctype=4&amp;ved=0ahUKEwiUsNbCwdjPAhVKKiYKHQiaDKoQpigINSgB&amp;adurl=\">Free for Candidates</a> - <a href=\"http://www.google.com/aclk?sa=L&amp;ai=DChcSEwign9vCwdjPAhUQKWkKHf7ZCkEYABAJ&amp;sig=AOD64_3r0BC2k5eBQAeVBq8SlaCY70lzEg&amp;ctype=4&amp;ved=0ahUKEwiUsNbCwdjPAhVKKiYKHQiaDKoQpigINigC&amp;adurl=\">Referral Bonus</a></div></li><li class=\"ads-ad\"><h3 class=\"ellip\"><a href=\"http://www.google.com/aclk?sa=l&amp;ai=DChcSEwign9vCwdjPAhUQKWkKHf7ZCkEYABAK&amp;sig=AOD64_25KVUAFI3ZnIgdjdStEp291yEPiA&amp;ved=0ahUKEwiUsNbCwdjPAhVKKiYKHQiaDKoQ0QwIOA&amp;adurl=\">Actus <b>Data</b> - actus<b>data</b>.com</a></h3><div class=\"ads-visurl\"><span class=\"_mB\">Ad</span><cite class=\"_WGk\">www.actus<b>data</b>.com/Business_Analytics</cite>‎<div class=\"_nBb\"><div style=\"display:inline\" onclick=\"google.sham(this);\" aria-expanded=\"false\" aria-haspopup=\"true\" tabindex=\"0\" data-ved=\"0ahUKEwiUsNbCwdjPAhVKKiYKHQiaDKoQ7B0IOQ\"><span class=\"_O0\"></span></div><div style=\"display:none\" class=\"am-dropdown-menu\" role=\"menu\" tabindex=\"-1\"><ul><li class=\"_Ykb\" style=\"margin:0\"><a class=\"_Zkb\" href=\"/url?q=/settings/ads/preferences%3Fhl%3Den&amp;sa=U&amp;ved=0ahUKEwiUsNbCwdjPAhVKKiYKHQiaDKoQgRMIOw&amp;usg=AFQjCNEAXNOZ62ka46D3FTH_48RcIwnQgw\" target=\"_blank\">Why this ad?</a></li></ul></div></div></div><div class=\"ads-creative ellip\"><b>Data Science</b> as a Service US Based Startup</div><div class=\"_MEc\"><a href=\"http://www.google.com/aclk?sa=l&amp;ai=DChcSEwign9vCwdjPAhUQKWkKHf7ZCkEYABAL&amp;sig=AOD64_34m4RkqXCQi9gNq8AYplcFh2-VaQ&amp;ctype=4&amp;ved=0ahUKEwiUsNbCwdjPAhVKKiYKHQiaDKoQpigIPSgA&amp;adurl=\">Meet the Team</a> - <a href=\"http://www.google.com/aclk?sa=l&amp;ai=DChcSEwign9vCwdjPAhUQKWkKHf7ZCkEYABAM&amp;sig=AOD64_3VK2MRd6TAOrOaFINsFqAYaOgI6g&amp;ctype=4&amp;ved=0ahUKEwiUsNbCwdjPAhVKKiYKHQiaDKoQpigIPigB&amp;adurl=\">About US</a> - <a href=\"http://www.google.com/aclk?sa=l&amp;ai=DChcSEwign9vCwdjPAhUQKWkKHf7ZCkEYABAN&amp;sig=AOD64_0SZww8RO0StaF54oBgaF-2xx_NcQ&amp;ctype=4&amp;ved=0ahUKEwiUsNbCwdjPAhVKKiYKHQiaDKoQpigIPygC&amp;adurl=\">Data Science Startup</a> - <a href=\"http://www.google.com/aclk?sa=l&amp;ai=DChcSEwign9vCwdjPAhUQKWkKHf7ZCkEYABAO&amp;sig=AOD64_2kpmRzKI4GUbr98R-ELB3ZFhit1A&amp;ctype=4&amp;ved=0ahUKEwiUsNbCwdjPAhVKKiYKHQiaDKoQpigIQCgD&amp;adurl=\">Restaurant Analytics</a></div></li></ol></div><div id=\"res\"><div id=\"topstuff\"></div><div id=\"search\"><div id=\"ires\"><ol><div class=\"g\"><h3 class=\"r\"><a href=\"/url?q=https://en.wikipedia.org/wiki/Data_science&amp;sa=U&amp;ved=0ahUKEwiUsNbCwdjPAhVKKiYKHQiaDKoQFghFMAA&amp;usg=AFQjCNFQh0RwboJfKUkxOpkW7aPg9OGy3A\"><b>Data science</b> - Wikipedia</a></h3><div class=\"s\"><div class=\"kv\" style=\"margin-bottom:2px\"><cite>https://en.wikipedia.org/wiki/<b>Data</b>_<b>science</b></cite><div class=\"_nBb\">‎<div style=\"display:inline\" onclick=\"google.sham(this);\" aria-expanded=\"false\" aria-haspopup=\"true\" tabindex=\"0\" data-ved=\"0ahUKEwiUsNbCwdjPAhVKKiYKHQiaDKoQ7B0IRjAA\"><span class=\"_O0\"></span></div><div style=\"display:none\" class=\"am-dropdown-menu\" role=\"menu\" tabindex=\"-1\"><ul><li class=\"_Ykb\"><a class=\"_Zkb\" href=\"/url?q=http://webcache.googleusercontent.com/search%3Fq%3Dcache:0TLy5dtiWvwJ:https://en.wikipedia.org/wiki/Data_science%252Bdata%2Bscience%26hl%3Den%26ct%3Dclnk&amp;sa=U&amp;ved=0ahUKEwiUsNbCwdjPAhVKKiYKHQiaDKoQIAhIMAA&amp;usg=AFQjCNGdFs6gNsKnL9wfJf6ckr06__5y3w\">Cached</a></li><li class=\"_Ykb\"><a class=\"_Zkb\" href=\"/search?q=related:https://en.wikipedia.org/wiki/Data_science+data+science&amp;tbo=1&amp;sa=X&amp;ved=0ahUKEwiUsNbCwdjPAhVKKiYKHQiaDKoQHwhJMAA\">Similar</a></li></ul></div></div></div><span class=\"st\"><b>Data science</b> is an interdisciplinary field about processes and systems to extract <br>\n",
       "knowledge or insights from data in various forms, either structured or&nbsp;...</span><br><div class=\"osl\">‎<a href=\"/url?q=https://en.wikipedia.org/wiki/Data_science%23Overview&amp;sa=U&amp;ved=0ahUKEwiUsNbCwdjPAhVKKiYKHQiaDKoQ0gIISygAMAA&amp;usg=AFQjCNGBOuxrghbLoq3gGiAVmkJejPP6bg\">Overview</a> - ‎<a href=\"/url?q=https://en.wikipedia.org/wiki/Data_science%23Data_scientist&amp;sa=U&amp;ved=0ahUKEwiUsNbCwdjPAhVKKiYKHQiaDKoQ0gIITCgBMAA&amp;usg=AFQjCNGQAxmql0GYXKfYomoD0EH1_t4NOQ\">Data scientist</a> - ‎<a href=\"/url?q=https://en.wikipedia.org/wiki/Data_science%23History&amp;sa=U&amp;ved=0ahUKEwiUsNbCwdjPAhVKKiYKHQiaDKoQ0gIITSgCMAA&amp;usg=AFQjCNEw6GDVfZimin4kufPbS-r71Ut8fA\">History</a> - ‎<a href=\"/url?q=https://en.wikipedia.org/wiki/Data_science%23Criticism&amp;sa=U&amp;ved=0ahUKEwiUsNbCwdjPAhVKKiYKHQiaDKoQ0gIITigDMAA&amp;usg=AFQjCNFzbVrvYS0SIwnFMhc9PkQn08JKJA\">Criticism</a></div></div></div><div class=\"g\"><h3 class=\"r\"><a href=\"/url?q=https://www.coursera.org/specializations/jhu-data-science&amp;sa=U&amp;ved=0ahUKEwiUsNbCwdjPAhVKKiYKHQiaDKoQFghQMAE&amp;usg=AFQjCNEK59LpjiNInQWIC3fivzEiD7zICQ\"><b>Data Science</b> | Coursera</a></h3><div class=\"s\"><div class=\"kv\" style=\"margin-bottom:2px\"><cite>https://www.coursera.org/specializations/jhu-<b>data</b>-<b>science</b></cite><div class=\"_nBb\">‎<div style=\"display:inline\" onclick=\"google.sham(this);\" aria-expanded=\"false\" aria-haspopup=\"true\" tabindex=\"0\" data-ved=\"0ahUKEwiUsNbCwdjPAhVKKiYKHQiaDKoQ7B0IUTAB\"><span class=\"_O0\"></span></div><div style=\"display:none\" class=\"am-dropdown-menu\" role=\"menu\" tabindex=\"-1\"><ul><li class=\"_Ykb\"><a class=\"_Zkb\" href=\"/url?q=http://webcache.googleusercontent.com/search%3Fq%3Dcache:FLmQQ_RjoisJ:https://www.coursera.org/specializations/jhu-data-science%252Bdata%2Bscience%26hl%3Den%26ct%3Dclnk&amp;sa=U&amp;ved=0ahUKEwiUsNbCwdjPAhVKKiYKHQiaDKoQIAhTMAE&amp;usg=AFQjCNEHGGPJ2MsspIEqmPjnBIMBUA2yug\">Cached</a></li><li class=\"_Ykb\"><a class=\"_Zkb\" href=\"/search?q=related:https://www.coursera.org/specializations/jhu-data-science+data+science&amp;tbo=1&amp;sa=X&amp;ved=0ahUKEwiUsNbCwdjPAhVKKiYKHQiaDKoQHwhUMAE\">Similar</a></li></ul></div></div></div><span class=\"st\">Explore <b>Data Science</b> Certificate offered by Johns Hopkins University. Launch <br>\n",
       "Your Career in <b>Data Science</b> - A nine-course introduction to <b>data science</b>,&nbsp;...</span><br></div></div><div class=\"g\"><h3 class=\"r\"><a href=\"/url?q=http://datascience.nyu.edu/&amp;sa=U&amp;ved=0ahUKEwiUsNbCwdjPAhVKKiYKHQiaDKoQFghWMAI&amp;usg=AFQjCNE6eEHKOE8v9038R-YnfVdcBu9lTw\"><b>Data Science</b> at NYU</a></h3><div class=\"s\"><div class=\"kv\" style=\"margin-bottom:2px\"><cite><b>datascience</b>.nyu.edu/</cite><div class=\"_nBb\">‎<div style=\"display:inline\" onclick=\"google.sham(this);\" aria-expanded=\"false\" aria-haspopup=\"true\" tabindex=\"0\" data-ved=\"0ahUKEwiUsNbCwdjPAhVKKiYKHQiaDKoQ7B0IVzAC\"><span class=\"_O0\"></span></div><div style=\"display:none\" class=\"am-dropdown-menu\" role=\"menu\" tabindex=\"-1\"><ul><li class=\"_Ykb\"><a class=\"_Zkb\" href=\"/url?q=http://webcache.googleusercontent.com/search%3Fq%3Dcache:i15V01FkkrEJ:http://datascience.nyu.edu/%252Bdata%2Bscience%26hl%3Den%26ct%3Dclnk&amp;sa=U&amp;ved=0ahUKEwiUsNbCwdjPAhVKKiYKHQiaDKoQIAhZMAI&amp;usg=AFQjCNHKc91tK22CQcLojo30R53s3vdSoA\">Cached</a></li><li class=\"_Ykb\"><a class=\"_Zkb\" href=\"/search?q=related:datascience.nyu.edu/+data+science&amp;tbo=1&amp;sa=X&amp;ved=0ahUKEwiUsNbCwdjPAhVKKiYKHQiaDKoQHwhaMAI\">Similar</a></li></ul></div></div></div><span class=\"st\">The <b>data science</b> initiative at NYU is a university-wide effort to establish the <br>\n",
       "country's leading <b>data science</b> training and research facilities at NYU.</span><br></div></div><div class=\"g\"><div><h3 class=\"r\"><a href=\"/search?q=data+science&amp;prmd=ivnsb&amp;source=univ&amp;tbm=nws&amp;tbo=u&amp;sa=X&amp;ved=0ahUKEwiUsNbCwdjPAhVKKiYKHQiaDKoQqAIIXA\">News for <b>data science</b></a></h3><table class=\"ts\"><tbody><tr><td valign=\"top\" style=\"font-size:78%;line-height:normal;padding:7px 8px 0 0;text-align:center\"><a href=\"/url?q=http://searchcloudapplications.techtarget.com/news/450400951/Skills-and-temperament-drive-success-in-cloud-based-data-science&amp;sa=U&amp;ved=0ahUKEwiUsNbCwdjPAhVKKiYKHQiaDKoQpwIIXQ&amp;usg=AFQjCNE8tiTNLKBkt3MhFCdJpFS7rkahwA\"><img class=\"th\" height=\"100\" src=\"https://encrypted-tbn3.gstatic.com/images?q=tbn:ANd9GcQQGgUz7e6U_8MyHXrPZhc56342Yt_ADv9d1GQ2CfrEv7x4kXpYriSMho2T-8irdjieaCyJ\" width=\"100\" border=\"1\"><br></a><span class=\"_pJb _yhd\">TechTarget</span></td><td valign=\"top\"><div style=\"margin-top:5px\"><a href=\"/url?q=http://searchcloudapplications.techtarget.com/news/450400951/Skills-and-temperament-drive-success-in-cloud-based-data-science&amp;sa=U&amp;ved=0ahUKEwiUsNbCwdjPAhVKKiYKHQiaDKoQqQIIXzAD&amp;usg=AFQjCNE8tiTNLKBkt3MhFCdJpFS7rkahwA\">Skills and temperament drive success in cloud-based data science</a><div style=\"padding-top:2px\"><cite>TechTarget</cite><span class=\"f\"> - <span class=\"nobr\">1 day ago</span><span class=\"nobr\"></span></span></div><div class=\"j\" style=\"margin-top:1px;margin-bottom:4px\"><span class=\"st\">Despite the need for more talent in cloud-based <b>data science</b>, not everyone has <br>\n",
       "the right combination of tech skills and temperament to&nbsp;...</span></div></div><div style=\"margin-top:4px\"><a href=\"/url?q=http://www.nwitimes.com/business/jobs-and-employment/workplace/college-spotlight/vu-offers-new-undergrad-degree-in-data-science/article_9f2d1499-fce9-56e7-a4bf-39553c4adfd4.html&amp;sa=U&amp;ved=0ahUKEwiUsNbCwdjPAhVKKiYKHQiaDKoQqQIIYTAE&amp;usg=AFQjCNFe1-I_haxRz76FdeJyGOeuAt1eww\">VU offers new undergrad degree in data science</a><div style=\"padding-top:2px\"><cite>nwitimes.com</cite><span class=\"f\"> - <span class=\"nobr\">8 hours ago</span><span class=\"nobr\"></span></span></div></div><div style=\"margin-top:4px\"><a href=\"/url?q=http://www.businesswire.com/news/home/20161013006328/en/Data-Science-Technology-Program-Lowers-Risks-Asthma&amp;sa=U&amp;ved=0ahUKEwiUsNbCwdjPAhVKKiYKHQiaDKoQqQIIYzAF&amp;usg=AFQjCNERBzODS_ZRDfdHM5ZXOSnMqjKR_w\">Data Science &amp; Technology Program Lowers Risks Associated with Asthma</a><div style=\"padding-top:2px\"><cite>Business Wire</cite><span class=\"f\"> - <span class=\"nobr\">2 hours ago</span><span class=\"nobr\"></span></span></div></div></td></tr></tbody></table></div></div><div class=\"g\"><h3 class=\"r\"><a href=\"/url?q=http://datascience.columbia.edu/certification&amp;sa=U&amp;ved=0ahUKEwiUsNbCwdjPAhVKKiYKHQiaDKoQFghlMAY&amp;usg=AFQjCNGwYCPLO41a6e3dcNzHwGCg0eN2ow\">Certification of Professional Achievement in <b>Data Sciences</b> | Data ...</a></h3><div class=\"s\"><div class=\"kv\" style=\"margin-bottom:2px\"><cite><b>datascience</b>.columbia.edu/certification</cite><div class=\"_nBb\">‎<div style=\"display:inline\" onclick=\"google.sham(this);\" aria-expanded=\"false\" aria-haspopup=\"true\" tabindex=\"0\" data-ved=\"0ahUKEwiUsNbCwdjPAhVKKiYKHQiaDKoQ7B0IZjAG\"><span class=\"_O0\"></span></div><div style=\"display:none\" class=\"am-dropdown-menu\" role=\"menu\" tabindex=\"-1\"><ul><li class=\"_Ykb\"><a class=\"_Zkb\" href=\"/url?q=http://webcache.googleusercontent.com/search%3Fq%3Dcache:UcprjQ6g3NIJ:http://datascience.columbia.edu/certification%252Bdata%2Bscience%26hl%3Den%26ct%3Dclnk&amp;sa=U&amp;ved=0ahUKEwiUsNbCwdjPAhVKKiYKHQiaDKoQIAhoMAY&amp;usg=AFQjCNHr-tgyps5SMCSliqfz6BJXpf1_UA\">Cached</a></li><li class=\"_Ykb\"><a class=\"_Zkb\" href=\"/search?q=related:datascience.columbia.edu/certification+data+science&amp;tbo=1&amp;sa=X&amp;ved=0ahUKEwiUsNbCwdjPAhVKKiYKHQiaDKoQHwhpMAY\">Similar</a></li></ul></div></div></div><span class=\"st\">The Certification of Professional Achievement in <b>Data Sciences</b> prepares <br>\n",
       "students to expand their career prospects or change career paths by developing<br>\n",
       "&nbsp;...</span><br></div></div><div class=\"g\"><h3 class=\"r\"><a href=\"/url?q=https://www.udacity.com/course/intro-to-data-science--ud359&amp;sa=U&amp;ved=0ahUKEwiUsNbCwdjPAhVKKiYKHQiaDKoQFghrMAc&amp;usg=AFQjCNEpEPwQ5H--XzQPkAO7p_DeKEe6PA\">Intro to <b>Data Science</b> Online Course | Udacity</a></h3><div class=\"s\"><div class=\"kv\" style=\"margin-bottom:2px\"><cite>https://www.udacity.com/course/intro-to-<b>data</b>-<b>science</b>--ud359</cite><div class=\"_nBb\">‎<div style=\"display:inline\" onclick=\"google.sham(this);\" aria-expanded=\"false\" aria-haspopup=\"true\" tabindex=\"0\" data-ved=\"0ahUKEwiUsNbCwdjPAhVKKiYKHQiaDKoQ7B0IbDAH\"><span class=\"_O0\"></span></div><div style=\"display:none\" class=\"am-dropdown-menu\" role=\"menu\" tabindex=\"-1\"><ul><li class=\"_Ykb\"><a class=\"_Zkb\" href=\"/url?q=http://webcache.googleusercontent.com/search%3Fq%3Dcache:n8JCnEjMnysJ:https://www.udacity.com/course/intro-to-data-science--ud359%252Bdata%2Bscience%26hl%3Den%26ct%3Dclnk&amp;sa=U&amp;ved=0ahUKEwiUsNbCwdjPAhVKKiYKHQiaDKoQIAhuMAc&amp;usg=AFQjCNHbf8p3SEeSfsZMAAODsZto7wWG_w\">Cached</a></li><li class=\"_Ykb\"><a class=\"_Zkb\" href=\"/search?q=related:https://www.udacity.com/course/intro-to-data-science--ud359+data+science&amp;tbo=1&amp;sa=X&amp;ved=0ahUKEwiUsNbCwdjPAhVKKiYKHQiaDKoQHwhvMAc\">Similar</a></li></ul></div></div></div><span class=\"st\">Intro to <b>Data Science</b> covers the basics of big data through data manipulation, <br>\n",
       "analysis and communication while completing a hands on <b>data science</b> project.</span><br></div></div><div class=\"g\"><h3 class=\"r\"><a href=\"/url?q=https://datascience.berkeley.edu/about/what-is-data-science/&amp;sa=U&amp;ved=0ahUKEwiUsNbCwdjPAhVKKiYKHQiaDKoQFghxMAg&amp;usg=AFQjCNEBUaMPfWTilyBMTDJr63KQ3bQ63Q\">What is <b>Data Science</b>? - <b>DataScience</b>@Berkeley</a></h3><div class=\"s\"><div class=\"kv\" style=\"margin-bottom:2px\"><cite>https://<b>datascience</b>.berkeley.edu/about/what-is-<b>data</b>-<b>science</b>/</cite><div class=\"_nBb\">‎<div style=\"display:inline\" onclick=\"google.sham(this);\" aria-expanded=\"false\" aria-haspopup=\"true\" tabindex=\"0\" data-ved=\"0ahUKEwiUsNbCwdjPAhVKKiYKHQiaDKoQ7B0IcjAI\"><span class=\"_O0\"></span></div><div style=\"display:none\" class=\"am-dropdown-menu\" role=\"menu\" tabindex=\"-1\"><ul><li class=\"_Ykb\"><a class=\"_Zkb\" href=\"/url?q=http://webcache.googleusercontent.com/search%3Fq%3Dcache:EGIx1bXGIvMJ:https://datascience.berkeley.edu/about/what-is-data-science/%252Bdata%2Bscience%26hl%3Den%26ct%3Dclnk&amp;sa=U&amp;ved=0ahUKEwiUsNbCwdjPAhVKKiYKHQiaDKoQIAh0MAg&amp;usg=AFQjCNEDKqcZm0XyhSLD6I80JKtWmbgoog\">Cached</a></li><li class=\"_Ykb\"><a class=\"_Zkb\" href=\"/search?q=related:https://datascience.berkeley.edu/about/what-is-data-science/+data+science&amp;tbo=1&amp;sa=X&amp;ved=0ahUKEwiUsNbCwdjPAhVKKiYKHQiaDKoQHwh1MAg\">Similar</a></li></ul></div></div></div><span class=\"st\">The supply of professionals who can work effectively with data at scale is limited, <br>\n",
       "and is reflected by rapidly rising salaries for data engineers, <b>data scientists</b>,&nbsp;...</span><br></div></div><div class=\"g\"><h3 class=\"r\"><a href=\"/url?q=https://www.datascience.com/&amp;sa=U&amp;ved=0ahUKEwiUsNbCwdjPAhVKKiYKHQiaDKoQFgh3MAk&amp;usg=AFQjCNF2nTcIXBnSYXBwssLAgbfduzCSBg\"><b>Data Science</b> Company | <b>Data Science</b> Platform | <b>Data Science</b> ...</a></h3><div class=\"s\"><div class=\"kv\" style=\"margin-bottom:2px\"><cite>https://www.<b>datascience</b>.com/</cite><div class=\"_nBb\">‎<div style=\"display:inline\" onclick=\"google.sham(this);\" aria-expanded=\"false\" aria-haspopup=\"true\" tabindex=\"0\" data-ved=\"0ahUKEwiUsNbCwdjPAhVKKiYKHQiaDKoQ7B0IeDAJ\"><span class=\"_O0\"></span></div><div style=\"display:none\" class=\"am-dropdown-menu\" role=\"menu\" tabindex=\"-1\"><ul><li class=\"_Ykb\"><a class=\"_Zkb\" href=\"/url?q=http://webcache.googleusercontent.com/search%3Fq%3Dcache:KIV1I-Mk9sAJ:https://www.datascience.com/%252Bdata%2Bscience%26hl%3Den%26ct%3Dclnk&amp;sa=U&amp;ved=0ahUKEwiUsNbCwdjPAhVKKiYKHQiaDKoQIAh6MAk&amp;usg=AFQjCNH_vB0hXUKm1v453ochSBwY6mSjdA\">Cached</a></li></ul></div></div></div><span class=\"st\">The <b>DataScience</b> Cloud is a <b>data science</b> platform that brings together best-in-<br>\n",
       "class tools, infrastructure, and expertise in a modern, full-service offering.</span><br></div></div><div class=\"g\"><h3 class=\"r\"><a href=\"/url?q=https://www.extension.harvard.edu/academics/professional-graduate-certificates/data-science-certificate&amp;sa=U&amp;ved=0ahUKEwiUsNbCwdjPAhVKKiYKHQiaDKoQFgh8MAo&amp;usg=AFQjCNHe03FA3xaIUR_XdIju6r-2dS1kQA\"><b>Data Science</b> Certificate | Harvard Extension</a></h3><div class=\"s\"><div class=\"kv\" style=\"margin-bottom:2px\"><cite>https://www.extension.harvard.edu/academics/.../<b>data</b>-<b>science</b>-certificate</cite><div class=\"_nBb\">‎<div style=\"display:inline\" onclick=\"google.sham(this);\" aria-expanded=\"false\" aria-haspopup=\"true\" tabindex=\"0\" data-ved=\"0ahUKEwiUsNbCwdjPAhVKKiYKHQiaDKoQ7B0IfTAK\"><span class=\"_O0\"></span></div><div style=\"display:none\" class=\"am-dropdown-menu\" role=\"menu\" tabindex=\"-1\"><ul><li class=\"_Ykb\"><a class=\"_Zkb\" href=\"/search?q=related:https://www.extension.harvard.edu/academics/professional-graduate-certificates/data-science-certificate+data+science&amp;tbo=1&amp;sa=X&amp;ved=0ahUKEwiUsNbCwdjPAhVKKiYKHQiaDKoQHwh_MAo\">Similar</a></li></ul></div></div></div><span class=\"st\">Learn to interpret big data sets with the <b>data science</b> certificate from Harvard <br>\n",
       "Extension. Your analysis education can start today.</span><br></div></div><div class=\"g\"><h3 class=\"r\"><a href=\"/url?q=https://www.edx.org/course/programming-python-data-science-microsoft-dat210x-1&amp;sa=U&amp;ved=0ahUKEwiUsNbCwdjPAhVKKiYKHQiaDKoQFgiBATAL&amp;usg=AFQjCNEkzxFB2LBaWEpasJKjlzBEcjEz6A\">Programming with Python for <b>Data Science</b> | edX</a></h3><div class=\"s\"><div class=\"kv\" style=\"margin-bottom:2px\"><cite>https://www.edx.org/.../programming-python-<b>data</b>-<b>science</b>-microsoft-dat210x -1</cite><div class=\"_nBb\">‎<div style=\"display:inline\" onclick=\"google.sham(this);\" aria-expanded=\"false\" aria-haspopup=\"true\" tabindex=\"0\" data-ved=\"0ahUKEwiUsNbCwdjPAhVKKiYKHQiaDKoQ7B0IggEwCw\"><span class=\"_O0\"></span></div><div style=\"display:none\" class=\"am-dropdown-menu\" role=\"menu\" tabindex=\"-1\"><ul><li class=\"_Ykb\"><a class=\"_Zkb\" href=\"/url?q=http://webcache.googleusercontent.com/search%3Fq%3Dcache:BUC-gxy3J8AJ:https://www.edx.org/course/programming-python-data-science-microsoft-dat210x-1%252Bdata%2Bscience%26hl%3Den%26ct%3Dclnk&amp;sa=U&amp;ved=0ahUKEwiUsNbCwdjPAhVKKiYKHQiaDKoQIAiEATAL&amp;usg=AFQjCNGHyzuTBMucxiQdLf4kTpi9E3-vhQ\">Cached</a></li></ul></div></div></div><span class=\"st\">Traverse the <b>data</b> analysis pipeline using advanced visualizations in Python, and <br>\n",
       "make machine learning start working for you.</span><br></div></div></ol></div></div></div><div class=\"_Ak\" id=\"_Ktg\"><h2 class=\"_hM\"></h2><ol><li class=\"ads-ad _kug\"><h3 class=\"ellip\"><a href=\"http://www.google.com/aclk?sa=l&amp;ai=DChcSEwign9vCwdjPAhUQKWkKHf7ZCkEYABAP&amp;sig=AOD64_1sir06R0-kr2vDifGZySd6oDaDCg&amp;ved=0ahUKEwiUsNbCwdjPAhVKKiYKHQiaDKoQ0QwIhwE&amp;adurl=\">Google Cloud Big <b>Data</b> - Build at the Speed of Google</a></h3><div class=\"ads-visurl\"><span class=\"_mB\">Ad</span><cite class=\"_WGk\">cloud.google.com/</cite>‎<div class=\"_nBb\"><div style=\"display:inline\" onclick=\"google.sham(this);\" aria-expanded=\"false\" aria-haspopup=\"true\" tabindex=\"0\" data-ved=\"0ahUKEwiUsNbCwdjPAhVKKiYKHQiaDKoQ7B0IiAE\"><span class=\"_O0\"></span></div><div style=\"display:none\" class=\"am-dropdown-menu\" role=\"menu\" tabindex=\"-1\"><ul><li class=\"_Ykb\" style=\"margin:0\"><a class=\"_Zkb\" href=\"/url?q=/settings/ads/preferences%3Fhl%3Den&amp;sa=U&amp;ved=0ahUKEwiUsNbCwdjPAhVKKiYKHQiaDKoQgRMIigE&amp;usg=AFQjCNEAXNOZ62ka46D3FTH_48RcIwnQgw\" target=\"_blank\">Why this ad?</a></li></ul></div></div></div><div class=\"ads-creative ellip\">Create Simple Sites to Complex Apps</div><div class=\"ellip\">Highlights: Analytics Data Warehouse, Batch And Stream Data Processing…</div><div class=\"_MEc\"><a href=\"http://www.google.com/aclk?sa=l&amp;ai=DChcSEwign9vCwdjPAhUQKWkKHf7ZCkEYABAQ&amp;sig=AOD64_2f9zkwtK8cxwFicbPY7HCY_xqNTA&amp;ctype=4&amp;ved=0ahUKEwiUsNbCwdjPAhVKKiYKHQiaDKoQpigIkQEoAA&amp;adurl=\">Competitor Guide</a> - <a href=\"http://www.google.com/aclk?sa=l&amp;ai=DChcSEwign9vCwdjPAhUQKWkKHf7ZCkEYABAR&amp;sig=AOD64_06P_a7BpLSevW7n7CnMocAkY0FDA&amp;ctype=4&amp;ved=0ahUKEwiUsNbCwdjPAhVKKiYKHQiaDKoQpigIkgEoAQ&amp;adurl=\">Cloud Platform Training</a> - <a href=\"http://www.google.com/aclk?sa=l&amp;ai=DChcSEwign9vCwdjPAhUQKWkKHf7ZCkEYABAS&amp;sig=AOD64_0F8gbg3FpIBsUjKv1bYlkm50Js0A&amp;ctype=4&amp;ved=0ahUKEwiUsNbCwdjPAhVKKiYKHQiaDKoQpigIkwEoAg&amp;adurl=\">Deploy Bitnami Apps</a> - <a href=\"http://www.google.com/aclk?sa=l&amp;ai=DChcSEwign9vCwdjPAhUQKWkKHf7ZCkEYABAT&amp;sig=AOD64_2umCUb_xvih0rRMwM0q-Opo7QiPA&amp;ctype=4&amp;ved=0ahUKEwiUsNbCwdjPAhVKKiYKHQiaDKoQpigIlAEoAw&amp;adurl=\">Get Started</a></div></li><li class=\"ads-ad _kug\"><h3 class=\"ellip\"><a href=\"http://www.google.com/aclk?sa=l&amp;ai=DChcSEwign9vCwdjPAhUQKWkKHf7ZCkEYABAU&amp;sig=AOD64_0WYDMnl1OHcG-fWax5Tapv-tHC9A&amp;ved=0ahUKEwiUsNbCwdjPAhVKKiYKHQiaDKoQ0QwIlgE&amp;adurl=\">DeVry® Business Analytics - Learn How to Analyze Big <b>Data</b></a></h3><div class=\"ads-visurl\"><span class=\"_mB\">Ad</span><cite class=\"_WGk\" style=\"max-width:400px\">www.devry.edu/</cite>‎<div class=\"_nBb\"><div style=\"display:inline\" onclick=\"google.sham(this);\" aria-expanded=\"false\" aria-haspopup=\"true\" tabindex=\"0\" data-ved=\"0ahUKEwiUsNbCwdjPAhVKKiYKHQiaDKoQ7B0IlwE\"><span class=\"_O0\"></span></div><div style=\"display:none\" class=\"am-dropdown-menu\" role=\"menu\" tabindex=\"-1\"><ul><li class=\"_Ykb\" style=\"margin:0\"><a class=\"_Zkb\" href=\"/url?q=/settings/ads/preferences%3Fhl%3Den&amp;sa=U&amp;ved=0ahUKEwiUsNbCwdjPAhVKKiYKHQiaDKoQgRMImQE&amp;usg=AFQjCNEAXNOZ62ka46D3FTH_48RcIwnQgw\" target=\"_blank\">Why this ad?</a></li></ul></div></div>&nbsp;&nbsp;‎<span class=\"_pNg\">(855) 604-8442</span></div><div class=\"ads-creative ellip\">Help Drive Strategic Business Decisions.</div><div class=\"_MEc\"><a href=\"http://www.google.com/aclk?sa=l&amp;ai=DChcSEwign9vCwdjPAhUQKWkKHf7ZCkEYABAV&amp;sig=AOD64_2A6mzKu5EQQa-XuTdqW0qri07t2w&amp;ctype=4&amp;ved=0ahUKEwiUsNbCwdjPAhVKKiYKHQiaDKoQpigInAEoAA&amp;adurl=\">Different. On Purpose.</a> - <a href=\"http://www.google.com/aclk?sa=l&amp;ai=DChcSEwign9vCwdjPAhUQKWkKHf7ZCkEYABAW&amp;sig=AOD64_1QVOfRrgBC1njCHy5_c2m7Yh5ciA&amp;ctype=4&amp;ved=0ahUKEwiUsNbCwdjPAhVKKiYKHQiaDKoQpigInQEoAQ&amp;adurl=\">Find A Nearby Campus</a> - <a href=\"http://www.google.com/aclk?sa=l&amp;ai=DChcSEwign9vCwdjPAhUQKWkKHf7ZCkEYABAX&amp;sig=AOD64_0TbtedSrd7oBRATVLSyVPUkyE-NA&amp;ctype=4&amp;ved=0ahUKEwiUsNbCwdjPAhVKKiYKHQiaDKoQpigIngEoAg&amp;adurl=\">Online Classes</a></div><a href=\"http://www.google.com/aclk?sa=l&amp;ai=DChcSEwign9vCwdjPAhUQKWkKHf7ZCkEYABAY&amp;sig=AOD64_3PKx0Qal-H1eHeajlUxE8f9aWl_g&amp;ctype=50&amp;ved=0ahUKEwiUsNbCwdjPAhVKKiYKHQiaDKoQmxAInwE&amp;adurl=\">180 Madison Ave., Ste. 900, Midtown Manhattan, NY</a></li><li class=\"ads-ad\"><h3 class=\"ellip\"><a href=\"http://www.google.com/aclk?sa=l&amp;ai=DChcSEwign9vCwdjPAhUQKWkKHf7ZCkEYABAZ&amp;sig=AOD64_2kvbiv7Mjeydz6_xrzRSQ01y0YtA&amp;ved=0ahUKEwiUsNbCwdjPAhVKKiYKHQiaDKoQ0QwIoQE&amp;adurl=\">IIoT Resources - Videos, Case Studies, and more</a></h3><div class=\"ads-visurl\"><span class=\"_mB\">Ad</span><cite class=\"_WGk\">www.bitstew.com/Intel/case-study</cite>‎<div class=\"_nBb\"><div style=\"display:inline\" onclick=\"google.sham(this);\" aria-expanded=\"false\" aria-haspopup=\"true\" tabindex=\"0\" data-ved=\"0ahUKEwiUsNbCwdjPAhVKKiYKHQiaDKoQ7B0IogE\"><span class=\"_O0\"></span></div><div style=\"display:none\" class=\"am-dropdown-menu\" role=\"menu\" tabindex=\"-1\"><ul><li class=\"_Ykb\" style=\"margin:0\"><a class=\"_Zkb\" href=\"/url?q=/settings/ads/preferences%3Fhl%3Den&amp;sa=U&amp;ved=0ahUKEwiUsNbCwdjPAhVKKiYKHQiaDKoQgRMIpAE&amp;usg=AFQjCNEAXNOZ62ka46D3FTH_48RcIwnQgw\" target=\"_blank\">Why this ad?</a></li></ul></div></div></div><div class=\"ads-creative ellip\">Everything you need to know about the Industrial Internet of Things</div><div class=\"_MEc\"><a href=\"http://www.google.com/aclk?sa=l&amp;ai=DChcSEwign9vCwdjPAhUQKWkKHf7ZCkEYABAa&amp;sig=AOD64_0kja7QDrAKKIj6nTRAEGS6qCFdqg&amp;ctype=4&amp;ved=0ahUKEwiUsNbCwdjPAhVKKiYKHQiaDKoQpigIpgEoAA&amp;adurl=\">MIx Core for IIoT Data</a> - <a href=\"http://www.google.com/aclk?sa=l&amp;ai=DChcSEwign9vCwdjPAhUQKWkKHf7ZCkEYABAb&amp;sig=AOD64_2uqyCDh1lSK4LkenYrOaMawozx6A&amp;ctype=4&amp;ved=0ahUKEwiUsNbCwdjPAhVKKiYKHQiaDKoQpigIpwEoAQ&amp;adurl=\">MIx Core Live Demo</a> - <a href=\"http://www.google.com/aclk?sa=l&amp;ai=DChcSEwign9vCwdjPAhUQKWkKHf7ZCkEYABAc&amp;sig=AOD64_0PpdieYOnvOZN7juvig2bPg61TvA&amp;ctype=4&amp;ved=0ahUKEwiUsNbCwdjPAhVKKiYKHQiaDKoQpigIqAEoAg&amp;adurl=\">Industry Case Studies</a> - <a href=\"http://www.google.com/aclk?sa=l&amp;ai=DChcSEwign9vCwdjPAhUQKWkKHf7ZCkEYABAd&amp;sig=AOD64_1p7mG9I8ApkbKwnFS8Q1z-IeNt2Q&amp;ctype=4&amp;ved=0ahUKEwiUsNbCwdjPAhVKKiYKHQiaDKoQpigIqQEoAw&amp;adurl=\">Free Trial</a></div></li></ol></div><div style=\"clear:both;margin-bottom:17px;overflow:hidden\"><div style=\"font-size:16px;padding:0 8px 1px\">Searches related to <b>data science</b></div><table border=\"0\" cellpadding=\"0\" cellspacing=\"0\"><tbody><tr><td valign=\"top\"><p class=\"_Bmc\" style=\"margin:3px 8px\"><a href=\"/search?q=data+science+course&amp;sa=X&amp;ved=0ahUKEwiUsNbCwdjPAhVKKiYKHQiaDKoQ1QIIrAEoAA\">data science <b>course</b></a></p></td><td valign=\"top\" style=\"padding-left:10px\"><p class=\"_Bmc\" style=\"margin:3px 8px\"><a href=\"/search?q=data+science+coursera&amp;sa=X&amp;ved=0ahUKEwiUsNbCwdjPAhVKKiYKHQiaDKoQ1QIIrQEoAQ\">data science <b>coursera</b></a></p></td></tr><tr><td valign=\"top\"><p class=\"_Bmc\" style=\"margin:3px 8px\"><a href=\"/search?q=data+science+salary&amp;sa=X&amp;ved=0ahUKEwiUsNbCwdjPAhVKKiYKHQiaDKoQ1QIIrgEoAg\">data science <b>salary</b></a></p></td><td valign=\"top\" style=\"padding-left:10px\"><p class=\"_Bmc\" style=\"margin:3px 8px\"><a href=\"/search?q=data+science+certification&amp;sa=X&amp;ved=0ahUKEwiUsNbCwdjPAhVKKiYKHQiaDKoQ1QIIrwEoAw\">data science <b>certification</b></a></p></td></tr><tr><td valign=\"top\"><p class=\"_Bmc\" style=\"margin:3px 8px\"><a href=\"/search?q=data+science+degree&amp;sa=X&amp;ved=0ahUKEwiUsNbCwdjPAhVKKiYKHQiaDKoQ1QIIsAEoBA\">data science <b>degree</b></a></p></td><td valign=\"top\" style=\"padding-left:10px\"><p class=\"_Bmc\" style=\"margin:3px 8px\"><a href=\"/search?q=data+science+pdf&amp;sa=X&amp;ved=0ahUKEwiUsNbCwdjPAhVKKiYKHQiaDKoQ1QIIsQEoBQ\">data science <b>pdf</b></a></p></td></tr><tr><td valign=\"top\"><p class=\"_Bmc\" style=\"margin:3px 8px\"><a href=\"/search?q=data+science+definition&amp;sa=X&amp;ved=0ahUKEwiUsNbCwdjPAhVKKiYKHQiaDKoQ1QIIsgEoBg\">data science <b>definition</b></a></p></td><td valign=\"top\" style=\"padding-left:10px\"><p class=\"_Bmc\" style=\"margin:3px 8px\"><a href=\"/search?q=data+science+books&amp;sa=X&amp;ved=0ahUKEwiUsNbCwdjPAhVKKiYKHQiaDKoQ1QIIswEoBw\">data science <b>books</b></a></p></td></tr></tbody></table></div></div><div id=\"foot\"><table align=\"center\" border=\"0\" cellpadding=\"0\" cellspacing=\"0\" id=\"nav\"><tbody><tr valign=\"top\"><td align=\"left\" class=\"b\"><span class=\"csb\" style=\"background-position:-24px 0;width:28px\"></span><b></b></td><td><span class=\"csb\" style=\"background-position:-53px 0;width:20px\"></span><b>1</b></td><td><a class=\"fl\" href=\"/search?q=data+science&amp;prmd=ivnsb&amp;ei=CuD_V5SDFMrUmAGItLLQCg&amp;start=10&amp;sa=N\"><span class=\"csb\" style=\"background-position:-74px 0;width:20px\"></span>2</a></td><td><a class=\"fl\" href=\"/search?q=data+science&amp;prmd=ivnsb&amp;ei=CuD_V5SDFMrUmAGItLLQCg&amp;start=20&amp;sa=N\"><span class=\"csb\" style=\"background-position:-74px 0;width:20px\"></span>3</a></td><td><a class=\"fl\" href=\"/search?q=data+science&amp;prmd=ivnsb&amp;ei=CuD_V5SDFMrUmAGItLLQCg&amp;start=30&amp;sa=N\"><span class=\"csb\" style=\"background-position:-74px 0;width:20px\"></span>4</a></td><td><a class=\"fl\" href=\"/search?q=data+science&amp;prmd=ivnsb&amp;ei=CuD_V5SDFMrUmAGItLLQCg&amp;start=40&amp;sa=N\"><span class=\"csb\" style=\"background-position:-74px 0;width:20px\"></span>5</a></td><td><a class=\"fl\" href=\"/search?q=data+science&amp;prmd=ivnsb&amp;ei=CuD_V5SDFMrUmAGItLLQCg&amp;start=50&amp;sa=N\"><span class=\"csb\" style=\"background-position:-74px 0;width:20px\"></span>6</a></td><td><a class=\"fl\" href=\"/search?q=data+science&amp;prmd=ivnsb&amp;ei=CuD_V5SDFMrUmAGItLLQCg&amp;start=60&amp;sa=N\"><span class=\"csb\" style=\"background-position:-74px 0;width:20px\"></span>7</a></td><td><a class=\"fl\" href=\"/search?q=data+science&amp;prmd=ivnsb&amp;ei=CuD_V5SDFMrUmAGItLLQCg&amp;start=70&amp;sa=N\"><span class=\"csb\" style=\"background-position:-74px 0;width:20px\"></span>8</a></td><td><a class=\"fl\" href=\"/search?q=data+science&amp;prmd=ivnsb&amp;ei=CuD_V5SDFMrUmAGItLLQCg&amp;start=80&amp;sa=N\"><span class=\"csb\" style=\"background-position:-74px 0;width:20px\"></span>9</a></td><td><a class=\"fl\" href=\"/search?q=data+science&amp;prmd=ivnsb&amp;ei=CuD_V5SDFMrUmAGItLLQCg&amp;start=90&amp;sa=N\"><span class=\"csb\" style=\"background-position:-74px 0;width:20px\"></span>10</a></td><td class=\"b\" style=\"text-align:left\"><a class=\"fl\" href=\"/search?q=data+science&amp;prmd=ivnsb&amp;ei=CuD_V5SDFMrUmAGItLLQCg&amp;start=10&amp;sa=N\" style=\"text-align:left\"><span class=\"csb\" style=\"background-position:-96px 0;width:71px\"></span><span style=\"display:block;margin-left:53px\">Next</span></a></td></tr></tbody></table><p class=\"_cD\" id=\"bfl\" style=\"margin:19px 0 0;text-align:center\"><a href=\"/advanced_search?q=data+science&amp;prmd=ivnsb\">Advanced search</a><a href=\"/support/websearch/bin/answer.py?answer=134479&amp;hl=en\">Search Help</a> <a href=\"/tools/feedback/survey/html?productId=196&amp;query=data+science&amp;hl=en\">Send feedback</a></p><div class=\"_cD\" id=\"fll\" style=\"margin:19px auto 19px auto;text-align:center\"><a href=\"/\">Google&nbsp;Home</a> <a href=\"/intl/en/ads\">Advertising&nbsp;Programs</a> <a href=\"/services\">Business Solutions</a> <a href=\"/intl/en/policies/privacy/\">Privacy</a> <a href=\"/intl/en/policies/terms/\">Terms</a> <a href=\"/intl/en/about.html\">About Google</a></div></div></td><td id=\"rhs_block\" valign=\"top\"></td></tr></tbody></table><script type=\"text/javascript\">(function(){var eventid='CuD_V5SDFMrUmAGItLLQCg';google.kEI = eventid;})();</script><script src=\"/xjs/_/js/k=xjs.hp.en_US.OKd_GehDbVo.O/m=sb_he,d/rt=j/d=1/t=zcms/rs=ACT90oHqsFYagKUT1F8bn3nE4HJSQZWqTQ\"></script><script type=\"text/javascript\">google.ac&&google.ac.c({\"agen\":true,\"cgen\":true,\"client\":\"heirloom-serp\",\"dh\":true,\"dhqt\":true,\"ds\":\"\",\"fl\":true,\"host\":\"google.com\",\"isbh\":28,\"jam\":0,\"jsonp\":true,\"msgs\":{\"cibl\":\"Clear Search\",\"dym\":\"Did you mean:\",\"lcky\":\"I\\u0026#39;m Feeling Lucky\",\"lml\":\"Learn more\",\"oskt\":\"Input tools\",\"psrc\":\"This search was removed from your \\u003Ca href=\\\"/history\\\"\\u003EWeb History\\u003C/a\\u003E\",\"psrl\":\"Remove\",\"sbit\":\"Search by image\",\"srch\":\"Google Search\"},\"nds\":true,\"ovr\":{},\"pq\":\"data science\",\"refpd\":true,\"rfs\":[\"data science course\",\"data science salary\",\"data science degree\",\"data science definition\",\"data science coursera\",\"data science certification\",\"data science pdf\",\"data science books\"],\"scd\":10,\"sce\":5,\"stok\":\"jQpd8S0Hw46qNjHvvb91WysrdZ4\"})</script><table cellspacing=\"0\" cellpadding=\"0\" class=\"gstl_0 gssb_c\" style=\"width: 570px; display: none; top: 78px; left: 133px; position: absolute;\"><tbody><tr><td class=\"gssb_f\"></td><td class=\"gssb_e\" style=\"width: 100%;\"></td></tr></tbody></table><script>(function(){window.google.cdo={height:0,width:0};(function(){var a=window.innerWidth,b=window.innerHeight;if(!a||!b)var c=window.document,d=\"CSS1Compat\"==c.compatMode?c.documentElement:c.body,a=d.clientWidth,b=d.clientHeight;a&&b&&(a!=google.cdo.width||b!=google.cdo.height)&&google.log(\"\",\"\",\"/client_204?&atyp=i&biw=\"+a+\"&bih=\"+b+\"&ei=\"+google.kEI);})();})();</script><script src=\"//ssl.gstatic.com/gb/js/sem_28ccd69532c2390ae661f0e31ef881fd.js\" async=\"\"></script></body></html>"
      ],
      "text/plain": [
       "<IPython.core.display.HTML object>"
      ]
     },
     "execution_count": 38,
     "metadata": {},
     "output_type": "execute_result"
    }
   ],
   "source": [
    "from selenium import webdriver\n",
    "\n",
    "driver = webdriver.PhantomJS(executable_path='/Users/thomas/Downloads/phantomjs-2.1.1-macosx/bin/phantomjs')\n",
    "driver.set_window_size(300, 200) \n",
    "driver.get('https://www.google.com/#q=data+science')\n",
    "# .page_source gives us our document\n",
    "HTML(driver.page_source)"
   ]
  },
  {
   "cell_type": "markdown",
   "metadata": {
    "slideshow": {
     "slide_type": "slide"
    }
   },
   "source": [
    "## Exercise\n",
    "1. Pip install selenium \n",
    "2. Download and unzip phantomJS 2.1.1 from https://bitbucket.org/ariya/phantomjs/downloads\n",
    "3. Use the library to pull down an ajax-based page such as Google search results"
   ]
  },
  {
   "cell_type": "markdown",
   "metadata": {
    "slideshow": {
     "slide_type": "slide"
    }
   },
   "source": [
    "# Now how do we get the content we want from the page?"
   ]
  },
  {
   "cell_type": "markdown",
   "metadata": {
    "slideshow": {
     "slide_type": "slide"
    }
   },
   "source": [
    "## DOM"
   ]
  },
  {
   "cell_type": "markdown",
   "metadata": {
    "slideshow": {
     "slide_type": "-"
    }
   },
   "source": [
    "> The Document Object Model (DOM) is a programming interface for HTML and XML documents. It provides a structured representation of the document and it defines a way that the structure can be accessed from programs so that they can change the document structure, style and content. The DOM provides a representation of the document as a structured group of nodes and objects that have properties and methods. Essentially, it connects web pages to scripts or programming languages."
   ]
  },
  {
   "cell_type": "markdown",
   "metadata": {
    "slideshow": {
     "slide_type": "slide"
    }
   },
   "source": [
    "## Typical Web Page Structure"
   ]
  },
  {
   "cell_type": "markdown",
   "metadata": {
    "slideshow": {
     "slide_type": "-"
    }
   },
   "source": [
    "    <html>\n",
    "        <head>\n",
    "        </head>\n",
    "        <body>\n",
    "            <div id=\"header\" class=\"extraFancy\">I'm a header!</div>\n",
    "            <div id=\"main\">\n",
    "                I'm a div!\n",
    "                <ul>\n",
    "                    I'm an unordered list!\n",
    "                    <li>I'm list item 1</li>\n",
    "                    <li>I'm list item 2</li>\n",
    "                </ul>\n",
    "            </div>\n",
    "            <div id=\"footer\" class=\"extraFancy\">I'm a footer</div>\n",
    "        </body>\n",
    "    </html>"
   ]
  },
  {
   "cell_type": "code",
   "execution_count": 56,
   "metadata": {
    "collapsed": true,
    "slideshow": {
     "slide_type": "slide"
    }
   },
   "outputs": [],
   "source": [
    "page_html = \"\"\"\n",
    "    <html>\n",
    "        <head>\n",
    "        <title>Super Cool Website!</title>\n",
    "        </head>\n",
    "        <body>\n",
    "            <div id=\"header\" class=\"extraFancy\">I'm a header!</div>\n",
    "            <div id=\"main\">\n",
    "                I'm a div!\n",
    "                <ul>\n",
    "                    I'm an unordered list!\n",
    "                    <li>I'm list item 1</li>\n",
    "                    <li>I'm list item 2</li>\n",
    "                </ul>\n",
    "            </div>\n",
    "            <div id=\"footer\" class=\"extraFancy\">I'm a footer</div>\n",
    "        </body>\n",
    "    </html>\n",
    "\"\"\""
   ]
  },
  {
   "cell_type": "markdown",
   "metadata": {
    "slideshow": {
     "slide_type": "slide"
    }
   },
   "source": [
    "## We're going to feed this full HTML into a library called Beautiful Soup"
   ]
  },
  {
   "cell_type": "markdown",
   "metadata": {
    "slideshow": {
     "slide_type": "-"
    }
   },
   "source": [
    "<img src=\"http://i.imgur.com/klVeXY7.png\" width=\"800\">"
   ]
  },
  {
   "cell_type": "markdown",
   "metadata": {
    "slideshow": {
     "slide_type": "slide"
    }
   },
   "source": [
    "## Coding BeautifulSoup"
   ]
  },
  {
   "cell_type": "code",
   "execution_count": 7,
   "metadata": {
    "collapsed": true,
    "slideshow": {
     "slide_type": "-"
    }
   },
   "outputs": [],
   "source": [
    "from bs4 import BeautifulSoup as BeautifulSoup\n"
   ]
  },
  {
   "cell_type": "markdown",
   "metadata": {
    "slideshow": {
     "slide_type": "slide"
    }
   },
   "source": [
    "## Pass the HTML into the BS object"
   ]
  },
  {
   "cell_type": "code",
   "execution_count": 62,
   "metadata": {
    "collapsed": false,
    "slideshow": {
     "slide_type": "-"
    }
   },
   "outputs": [],
   "source": [
    "soup = BeautifulSoup(page_html, \"lxml\")"
   ]
  },
  {
   "cell_type": "code",
   "execution_count": 63,
   "metadata": {
    "collapsed": false
   },
   "outputs": [
    {
     "data": {
      "text/plain": [
       "<html>\\n<head>\\n<title>Super Cool Website!</title>\\n</head>\\n<body>\\n<div class=\"extraFancy\" id=\"header\">I'm a header!</div>\\n<div id=\"main\">\\n                I'm a div!\\n                <ul>\\n                    I'm an unordered list!\\n                    <li>I'm list item 1</li>\\n<li>I'm list item 2</li>\\n</ul>\\n</div>\\n<div class=\"extraFancy\" id=\"footer\">I'm a footer</div>\\n</body>\\n</html>\\n"
      ]
     },
     "execution_count": 63,
     "metadata": {},
     "output_type": "execute_result"
    }
   ],
   "source": [
    "soup"
   ]
  },
  {
   "cell_type": "markdown",
   "metadata": {
    "slideshow": {
     "slide_type": "-"
    }
   },
   "source": [
    "From there it can be searched and parsed"
   ]
  },
  {
   "cell_type": "markdown",
   "metadata": {
    "slideshow": {
     "slide_type": "slide"
    }
   },
   "source": [
    "## Print the html"
   ]
  },
  {
   "cell_type": "code",
   "execution_count": 83,
   "metadata": {
    "collapsed": false,
    "scrolled": false,
    "slideshow": {
     "slide_type": "-"
    }
   },
   "outputs": [
    {
     "name": "stdout",
     "output_type": "stream",
     "text": [
      "<html>\n",
      " <head>\n",
      "  <title>\n",
      "   Super Cool Website!\n",
      "  </title>\n",
      " </head>\n",
      " <body>\n",
      "  <div class=\"extraFancy\" id=\"header\">\n",
      "   I'm a header!\n",
      "  </div>\n",
      "  <div id=\"main\">\n",
      "   I'm a div!\n",
      "   <ul>\n",
      "    I'm an unordered list!\n",
      "    <li>\n",
      "     I'm list item 1\n",
      "    </li>\n",
      "    <li>\n",
      "     I'm list item 2\n",
      "    </li>\n",
      "   </ul>\n",
      "  </div>\n",
      "  <div class=\"extraFancy\" id=\"footer\">\n",
      "   I'm a footer\n",
      "  </div>\n",
      " </body>\n",
      "</html>\n",
      "\n"
     ]
    },
    {
     "data": {
      "text/plain": [
       "<listiterator at 0x117061c50>"
      ]
     },
     "execution_count": 83,
     "metadata": {},
     "output_type": "execute_result"
    }
   ],
   "source": [
    "print(soup.prettify())\n",
    "soup.children"
   ]
  },
  {
   "cell_type": "markdown",
   "metadata": {
    "slideshow": {
     "slide_type": "slide"
    }
   },
   "source": [
    "## Let's now do some parsing of the HTML using the DOM"
   ]
  },
  {
   "cell_type": "markdown",
   "metadata": {
    "slideshow": {
     "slide_type": "slide"
    }
   },
   "source": [
    "## Get the title"
   ]
  },
  {
   "cell_type": "code",
   "execution_count": 84,
   "metadata": {
    "collapsed": false,
    "scrolled": false,
    "slideshow": {
     "slide_type": "-"
    }
   },
   "outputs": [
    {
     "data": {
      "text/plain": [
       "<body>\\n<div class=\"extraFancy\" id=\"header\">I'm a header!</div>\\n<div id=\"main\">\\n                I'm a div!\\n                <ul>\\n                    I'm an unordered list!\\n                    <li>I'm list item 1</li>\\n<li>I'm list item 2</li>\\n</ul>\\n</div>\\n<div class=\"extraFancy\" id=\"footer\">I'm a footer</div>\\n</body>"
      ]
     },
     "execution_count": 84,
     "metadata": {},
     "output_type": "execute_result"
    }
   ],
   "source": [
    "soup.body"
   ]
  },
  {
   "cell_type": "code",
   "execution_count": 85,
   "metadata": {
    "collapsed": false,
    "slideshow": {
     "slide_type": "-"
    }
   },
   "outputs": [
    {
     "data": {
      "text/plain": [
       "[u'',\n",
       " u\"I'm a header!\",\n",
       " u'',\n",
       " u\"                I'm a div!\",\n",
       " u'                ',\n",
       " u\"                    I'm an unordered list!\",\n",
       " u\"                    I'm list item 1\",\n",
       " u\"I'm list item 2\",\n",
       " u'',\n",
       " u'',\n",
       " u\"I'm a footer\",\n",
       " u'']"
      ]
     },
     "execution_count": 85,
     "metadata": {},
     "output_type": "execute_result"
    }
   ],
   "source": [
    "soup.body.text.split('\\n')"
   ]
  },
  {
   "cell_type": "markdown",
   "metadata": {
    "slideshow": {
     "slide_type": "slide"
    }
   },
   "source": [
    "## Find - get the first result"
   ]
  },
  {
   "cell_type": "code",
   "execution_count": 86,
   "metadata": {
    "collapsed": false,
    "slideshow": {
     "slide_type": "-"
    }
   },
   "outputs": [
    {
     "data": {
      "text/plain": [
       "<div class=\"extraFancy\" id=\"header\">I'm a header!</div>"
      ]
     },
     "execution_count": 86,
     "metadata": {},
     "output_type": "execute_result"
    }
   ],
   "source": [
    "soup.find('div')"
   ]
  },
  {
   "cell_type": "markdown",
   "metadata": {
    "slideshow": {
     "slide_type": "slide"
    }
   },
   "source": [
    "## FindAll - get all matching results"
   ]
  },
  {
   "cell_type": "code",
   "execution_count": 100,
   "metadata": {
    "collapsed": false,
    "slideshow": {
     "slide_type": "-"
    }
   },
   "outputs": [
    {
     "name": "stdout",
     "output_type": "stream",
     "text": [
      "(0, <div class=\"extraFancy\" id=\"header\">I'm a header!</div>)\n",
      "\n",
      "\n",
      "(1, <div id=\"main\">\\n                I'm a div!\\n                <ul>\\n                    I'm an unordered list!\\n                    <li>I'm list item 1</li>\\n<li>I'm list item 2</li>\\n</ul>\\n</div>)\n",
      "\n",
      "\n",
      "(2, <div class=\"extraFancy\" id=\"footer\">I'm a footer</div>)\n",
      "\n",
      "\n"
     ]
    }
   ],
   "source": [
    "i = 0\n",
    "for d in soup.findAll('div'):\n",
    "    print(i, d)\n",
    "    print('\\n')\n",
    "    i += 1"
   ]
  },
  {
   "cell_type": "markdown",
   "metadata": {
    "slideshow": {
     "slide_type": "slide"
    }
   },
   "source": [
    "## Get the page's text"
   ]
  },
  {
   "cell_type": "code",
   "execution_count": 88,
   "metadata": {
    "collapsed": false,
    "slideshow": {
     "slide_type": "-"
    }
   },
   "outputs": [
    {
     "name": "stdout",
     "output_type": "stream",
     "text": [
      "\n",
      "\n",
      "Super Cool Website!\n",
      "\n",
      "\n",
      "I'm a header!\n",
      "\n",
      "                I'm a div!\n",
      "                \n",
      "                    I'm an unordered list!\n",
      "                    I'm list item 1\n",
      "I'm list item 2\n",
      "\n",
      "\n",
      "I'm a footer\n",
      "\n",
      "\n",
      "\n"
     ]
    }
   ],
   "source": [
    "print(soup.text)"
   ]
  },
  {
   "cell_type": "markdown",
   "metadata": {
    "slideshow": {
     "slide_type": "slide"
    }
   },
   "source": [
    "## Get the class of an element"
   ]
  },
  {
   "cell_type": "code",
   "execution_count": 89,
   "metadata": {
    "collapsed": false,
    "slideshow": {
     "slide_type": "-"
    }
   },
   "outputs": [
    {
     "data": {
      "text/plain": [
       "['extraFancy']"
      ]
     },
     "execution_count": 89,
     "metadata": {},
     "output_type": "execute_result"
    }
   ],
   "source": [
    "# find returns the first result\n",
    "soup.find('div')['class']"
   ]
  },
  {
   "cell_type": "markdown",
   "metadata": {
    "slideshow": {
     "slide_type": "slide"
    }
   },
   "source": [
    "## Search by the id of an element"
   ]
  },
  {
   "cell_type": "code",
   "execution_count": 90,
   "metadata": {
    "collapsed": false,
    "slideshow": {
     "slide_type": "-"
    }
   },
   "outputs": [
    {
     "name": "stdout",
     "output_type": "stream",
     "text": [
      "<div id=\"main\">\n",
      "                I'm a div!\n",
      "                <ul>\n",
      "                    I'm an unordered list!\n",
      "                    <li>I'm list item 1</li>\n",
      "<li>I'm list item 2</li>\n",
      "</ul>\n",
      "</div>\n"
     ]
    }
   ],
   "source": [
    "print(soup.find(id='main'))"
   ]
  },
  {
   "cell_type": "markdown",
   "metadata": {
    "slideshow": {
     "slide_type": "slide"
    }
   },
   "source": [
    "## Search by the class"
   ]
  },
  {
   "cell_type": "code",
   "execution_count": 93,
   "metadata": {
    "collapsed": false,
    "slideshow": {
     "slide_type": "fragment"
    }
   },
   "outputs": [
    {
     "name": "stdout",
     "output_type": "stream",
     "text": [
      "[<div class=\"extraFancy\" id=\"header\">I'm a header!</div>, <div class=\"extraFancy\" id=\"footer\">I'm a footer</div>]\n"
     ]
    }
   ],
   "source": [
    "#  note the underscore after class\n",
    "print(soup.findAll(class_='extraFancy'))"
   ]
  },
  {
   "cell_type": "markdown",
   "metadata": {
    "slideshow": {
     "slide_type": "slide"
    }
   },
   "source": [
    "## Get the children of an element"
   ]
  },
  {
   "cell_type": "code",
   "execution_count": 103,
   "metadata": {
    "collapsed": false,
    "slideshow": {
     "slide_type": "-"
    }
   },
   "outputs": [],
   "source": [
    "my_ul = soup.find('ul')"
   ]
  },
  {
   "cell_type": "code",
   "execution_count": 104,
   "metadata": {
    "collapsed": false,
    "slideshow": {
     "slide_type": "-"
    }
   },
   "outputs": [
    {
     "name": "stdout",
     "output_type": "stream",
     "text": [
      "<ul>\n",
      "                    I'm an unordered list!\n",
      "                    <li>I'm list item 1</li>\n",
      "<li>I'm list item 2</li>\n",
      "</ul>\n"
     ]
    }
   ],
   "source": [
    "print(my_ul)"
   ]
  },
  {
   "cell_type": "code",
   "execution_count": 105,
   "metadata": {
    "collapsed": false,
    "slideshow": {
     "slide_type": "-"
    }
   },
   "outputs": [
    {
     "data": {
      "text/plain": [
       "[<li>I'm list item 1</li>, <li>I'm list item 2</li>]"
      ]
     },
     "execution_count": 105,
     "metadata": {},
     "output_type": "execute_result"
    }
   ],
   "source": [
    "my_ul.findChildren()"
   ]
  },
  {
   "cell_type": "markdown",
   "metadata": {
    "slideshow": {
     "slide_type": "slide"
    }
   },
   "source": [
    "## Exercise\n",
    "\n",
    "Using Requests and BeautifulSoup, pull down hacker news and print out the headlines and the story links in your notebook"
   ]
  },
  {
   "cell_type": "code",
   "execution_count": 228,
   "metadata": {
    "collapsed": false,
    "slideshow": {
     "slide_type": "slide"
    }
   },
   "outputs": [],
   "source": [
    "r=requests.get(\"https://news.ycombinator.com/\")"
   ]
  },
  {
   "cell_type": "code",
   "execution_count": 229,
   "metadata": {
    "collapsed": false,
    "slideshow": {
     "slide_type": "-"
    }
   },
   "outputs": [],
   "source": [
    "soup=BeautifulSoup(r.text,'lxml')"
   ]
  },
  {
   "cell_type": "code",
   "execution_count": 132,
   "metadata": {
    "collapsed": true,
    "slideshow": {
     "slide_type": "slide"
    }
   },
   "outputs": [
    {
     "name": "stdout",
     "output_type": "stream",
     "text": [
      "\n",
      "\n",
      "Hacker News\n",
      "\n",
      "Hacker News\n",
      "new | comments | show | ask | jobs | submit \n",
      "login\n",
      "\n",
      "\n",
      "1. An Open Source, Self-Hosted Heroku (bitmatica.com)\n",
      "54 points by stucat 1 hour ago  | hide | 6 comments \n",
      "\n",
      "2. Cooled Nikon D5500a Chills the Sensor for Clearer Star Photos (petapixel.com)\n",
      "152 points by uptown 3 hours ago  | hide | 55 comments \n",
      "\n",
      "3. The Nobel Prize in Literature 2016 awarded to Bob Dylan (nobelprize.org)\n",
      "586 points by eCa 8 hours ago  | hide | 256 comments \n",
      "\n",
      "4. Google's “Director of Engineering” Hiring Test (gwan.com)\n",
      "1144 points by fatihky 4 hours ago  | hide | 546 comments \n",
      "\n",
      "5. Inside the New York Public Library's Last, Secret Apartments (atlasobscura.com)\n",
      "73 points by Tomte 3 hours ago  | hide | 9 comments \n",
      "\n",
      "6. Certificate Revocation Issue (globalsign.com)\n",
      "87 points by directionless 2 hours ago  | hide | 26 comments \n",
      "\n",
      "7. Ask HN: What is your favorite YouTube channel for developers?\n",
      "165 points by justanton 2 hours ago  | hide | 33 comments \n",
      "\n",
      "8. Static types in Python, oh my(py) (zulip.org)\n",
      "21 points by tabbott 1 hour ago  | hide | discuss \n",
      "\n",
      "9. Remediation Plan for WoSign and StartCom (groups.google.com)\n",
      "34 points by asayler 2 hours ago  | hide | 33 comments \n",
      "\n",
      "10. Leonard Cohen Makes It Darker (newyorker.com)\n",
      "149 points by ehudla 7 hours ago  | hide | 41 comments \n",
      "\n",
      "11. Computational Thinking Benefits Society (2014) (toronto.edu)\n",
      "41 points by sonabinu 3 hours ago  | hide | 11 comments \n",
      "\n",
      "12. What were Einstein and Gödel talking about? (2005) (newyorker.com)\n",
      "161 points by cZuLi 9 hours ago  | hide | 39 comments \n",
      "\n",
      "13. Segment (YC S11) Is Hiring Senior Solutions Engineers (greenhouse.io)\n",
      "55 minutes ago | hide \n",
      "\n",
      "14. Analyzing the Patterns of Numbers in 10M Passwords (2015) (minimaxir.com)\n",
      "101 points by BeautifulData 7 hours ago  | hide | 27 comments \n",
      "\n",
      "15. Show HN: CloudRail – API Integration Solution (cloudrail.com)\n",
      "19 points by gro_us 2 hours ago  | hide | 16 comments \n",
      "\n",
      "16. Peer pressure’s effects are perhaps more powerful than we thought (2014) (washingtonpost.com)\n",
      "77 points by thebent 8 hours ago  | hide | 44 comments \n",
      "\n",
      "17. Differentiable Neural Computers (deepmind.com)\n",
      "235 points by tonybeltramelli 13 hours ago  | hide | 61 comments \n",
      "\n",
      "18. Show HN: Styled-components – Use the best of ES6 to style React apps (styled-components.com)\n",
      "150 points by mxstbr 9 hours ago  | hide | 58 comments \n",
      "\n",
      "19. Canonical releases Ubuntu 16.10 (ubuntu.com)\n",
      "225 points by Jarlakxen 6 hours ago  | hide | 150 comments \n",
      "\n",
      "20. Timing the time it takes to parse time (ayende.com)\n",
      "96 points by yread 10 hours ago  | hide | 50 comments \n",
      "\n",
      "21. Giant Concrete Arrows That Point Your Way Across America (2013) (cntraveler.com)\n",
      "76 points by denzell 10 hours ago  | hide | 3 comments \n",
      "\n",
      "22. Thailand's King Bhumibol Adulyadej Dies at 88 (bbc.com)\n",
      "89 points by Osiris30 7 hours ago  | hide | 50 comments \n",
      "\n",
      "23. Really Bad Chess makes chess fun even if you’re really bad (theverge.com)\n",
      "75 points by Swifty 4 hours ago  | hide | 12 comments \n",
      "\n",
      "24. At the World's First Cybathlon, Proud Cyborg Athletes Raced for the Gold (ieee.org)\n",
      "29 points by timgluz 8 hours ago  | hide | 2 comments \n",
      "\n",
      "25. Tech luminaries laud Dennis Ritchie 5 years after death (cnet.com)\n",
      "41 points by mgiannopoulos 2 hours ago  | hide | 7 comments \n",
      "\n",
      "26. Twitter bot is tracking dictators' flights in and out of Geneva (theverge.com)\n",
      "146 points by jonbaer 6 hours ago  | hide | 35 comments \n",
      "\n",
      "27. Show HN: TakeAim – Expose your team's daily aims (takeaim.io)\n",
      "51 points by bmark757 7 hours ago  | hide | 20 comments \n",
      "\n",
      "28. Whether You’re a Democrat or Republican, Your Social Media Is an Echo Chamber (nautil.us)\n",
      "24 points by prostoalex 2 hours ago  | hide | 19 comments \n",
      "\n",
      "29. ‘I Is Someone Else’ (2005) (nybooks.com)\n",
      "14 points by var_eps 6 hours ago  | hide | discuss \n",
      "\n",
      "30. It’s Been Real, Android: Why I’m Retiring from Android (raptureinvenice.com)\n",
      "453 points by chx 19 hours ago  | hide | 293 comments \n",
      "More\n",
      "\n",
      "Guidelines\n",
      "        | FAQ\n",
      "        | Support\n",
      "        | API\n",
      "        | Security\n",
      "        | Lists\n",
      "        | Bookmarklet\n",
      "        | DMCA\n",
      "        | Apply to YC\n",
      "        | ContactSearch:\n",
      "          \n",
      " \n",
      "\n"
     ]
    }
   ],
   "source": [
    "l=soup.text.split(\"\\n\\n\")\n",
    "for x in l:\n",
    "    print x"
   ]
  },
  {
   "cell_type": "code",
   "execution_count": null,
   "metadata": {
    "collapsed": false,
    "slideshow": {
     "slide_type": "-"
    }
   },
   "outputs": [],
   "source": []
  },
  {
   "cell_type": "code",
   "execution_count": 230,
   "metadata": {
    "collapsed": false
   },
   "outputs": [
    {
     "name": "stdout",
     "output_type": "stream",
     "text": [
      "An Open Source, Self-Hosted Heroku\n",
      "http://www.bitmatica.com/blog/an-open-source-self-hosted-heroku/\n",
      "<a class=\"storylink\" href=\"http://www.bitmatica.com/blog/an-open-source-self-hosted-heroku/\">An Open Source, Self-Hosted Heroku</a>\n",
      "\n",
      "\n",
      "Robot Can Do More Push-Ups Because It Sweats\n",
      "http://spectrum.ieee.org/automaton/robotics/humanoids/this-robot-can-do-more-pushups-because-it-sweats\n",
      "<a class=\"storylink\" href=\"http://spectrum.ieee.org/automaton/robotics/humanoids/this-robot-can-do-more-pushups-because-it-sweats\">Robot Can Do More Push-Ups Because It Sweats</a>\n",
      "\n",
      "\n",
      "Static types in Python\n",
      "http://blog.zulip.org/2016/10/13/static-types-in-python-oh-mypy/\n",
      "<a class=\"storylink\" href=\"http://blog.zulip.org/2016/10/13/static-types-in-python-oh-mypy/\">Static types in Python</a>\n",
      "\n",
      "\n",
      "Symbolics Lisp Machine Museum\n",
      "http://smbx.org/\n",
      "<a class=\"storylink\" href=\"http://smbx.org/\">Symbolics Lisp Machine Museum</a>\n",
      "\n",
      "\n",
      "Cooled Nikon D5500a Chills the Sensor for Clearer Star Photos\n",
      "http://petapixel.com/2016/10/11/cooled-nikon-d5500a-chills-sensor-clearer-star-photos/?utm_source=feedburner&utm_medium=feed&utm_campaign=Feed%25253A+PetaPixel+%252528PetaPixel%252529\n",
      "<a class=\"storylink\" href=\"http://petapixel.com/2016/10/11/cooled-nikon-d5500a-chills-sensor-clearer-star-photos/?utm_source=feedburner&amp;utm_medium=feed&amp;utm_campaign=Feed%25253A+PetaPixel+%252528PetaPixel%252529\">Cooled Nikon D5500a Chills the Sensor for Clearer Star Photos</a>\n",
      "\n",
      "\n",
      "Taking PHP Seriously\n",
      "https://slack.engineering/taking-php-seriously-cf7a60065329#.v643zvbw3\n",
      "<a class=\"storylink\" href=\"https://slack.engineering/taking-php-seriously-cf7a60065329#.v643zvbw3\">Taking PHP Seriously</a>\n",
      "\n",
      "\n",
      "The Nobel Prize in Literature 2016 awarded to Bob Dylan\n",
      "http://www.nobelprize.org/nobel_prizes/literature/laureates/2016/press.html\n",
      "<a class=\"storylink\" href=\"http://www.nobelprize.org/nobel_prizes/literature/laureates/2016/press.html\">The Nobel Prize in Literature 2016 awarded to Bob Dylan</a>\n",
      "\n",
      "\n",
      "Inside the New York Public Library's Last, Secret Apartments\n",
      "http://www.atlasobscura.com/articles/inside-the-new-york-public-librarys-last-secret-apartments\n",
      "<a class=\"storylink\" href=\"http://www.atlasobscura.com/articles/inside-the-new-york-public-librarys-last-secret-apartments\">Inside the New York Public Library's Last, Secret Apartments</a>\n",
      "\n",
      "\n",
      "Google's “Director of Engineering” Hiring Test\n",
      "http://www.gwan.com/blog/20160405.html\n",
      "<a class=\"storylink\" href=\"http://www.gwan.com/blog/20160405.html\">Google's “Director of Engineering” Hiring Test</a>\n",
      "\n",
      "\n",
      "VMware’s new cloud service will run on AWS\n",
      "https://techcrunch.com/2016/10/13/vmware-cloud-on-aws/\n",
      "<a class=\"storylink\" href=\"https://techcrunch.com/2016/10/13/vmware-cloud-on-aws/\">VMware’s new cloud service will run on AWS</a>\n",
      "\n",
      "\n",
      "Ask HN: What is your favorite YouTube channel for developers?\n",
      "item?id=12702651\n",
      "<a class=\"storylink\" href=\"item?id=12702651\">Ask HN: What is your favorite YouTube channel for developers?</a>\n",
      "\n",
      "\n",
      "Certificate Revocation Issue\n",
      "https://downloads.globalsign.com/acton/fs/blocks/showLandingPage/a/2674/p/p-008f/t/page/fm/0\n",
      "<a class=\"storylink\" href=\"https://downloads.globalsign.com/acton/fs/blocks/showLandingPage/a/2674/p/p-008f/t/page/fm/0\">Certificate Revocation Issue</a>\n",
      "\n",
      "\n",
      "Learn Relay – A comprehensive introduction to Relay and GraphQL\n",
      "https://learnrelay.org/\n",
      "<a class=\"storylink\" href=\"https://learnrelay.org/\">Learn Relay – A comprehensive introduction to Relay and GraphQL</a>\n",
      "\n",
      "\n",
      "Remediation Plan for WoSign and StartCom\n",
      "https://groups.google.com/forum/#!topic/mozilla.dev.security.policy/BV5XyFJLnQM\n",
      "<a class=\"storylink\" href=\"https://groups.google.com/forum/#!topic/mozilla.dev.security.policy/BV5XyFJLnQM\">Remediation Plan for WoSign and StartCom</a>\n",
      "\n",
      "\n",
      "Leonard Cohen Makes It Darker\n",
      "http://www.newyorker.com/magazine/2016/10/17/leonard-cohen-makes-it-darker\n",
      "<a class=\"storylink\" href=\"http://www.newyorker.com/magazine/2016/10/17/leonard-cohen-makes-it-darker\">Leonard Cohen Makes It Darker</a>\n",
      "\n",
      "\n",
      "Computational Thinking Benefits Society (2014)\n",
      "http://socialissues.cs.toronto.edu/index.html%3Fp=279.html\n",
      "<a class=\"storylink\" href=\"http://socialissues.cs.toronto.edu/index.html%3Fp=279.html\">Computational Thinking Benefits Society (2014)</a>\n",
      "\n",
      "\n",
      "The King's Death Points to Thailand's Paradox\n",
      "http://www.npr.org/sections/parallels/2016/10/13/497693229/the-kings-death-points-to-thailands-paradox\n",
      "<a class=\"storylink\" href=\"http://www.npr.org/sections/parallels/2016/10/13/497693229/the-kings-death-points-to-thailands-paradox\">The King's Death Points to Thailand's Paradox</a>\n",
      "\n",
      "\n",
      "Hubble Finds 10 Times More Galaxies Than Thought\n",
      "http://www.nasa.gov/feature/goddard/2016/hubble-reveals-observable-universe-contains-10-times-more-galaxies-than-previously-thought/\n",
      "<a class=\"storylink\" href=\"http://www.nasa.gov/feature/goddard/2016/hubble-reveals-observable-universe-contains-10-times-more-galaxies-than-previously-thought/\">Hubble Finds 10 Times More Galaxies Than Thought</a>\n",
      "\n",
      "\n",
      "In defence of the comic novel\n",
      "http://www.newstatesman.com/culture/books/2016/10/defence-comic-novel\n",
      "<a class=\"storylink\" href=\"http://www.newstatesman.com/culture/books/2016/10/defence-comic-novel\">In defence of the comic novel</a>\n",
      "\n",
      "\n",
      "Taking PHP Seriously\n",
      "https://slack.engineering/taking-php-seriously-cf7a60065329#.z0s85af80\n",
      "<a class=\"storylink\" href=\"https://slack.engineering/taking-php-seriously-cf7a60065329#.z0s85af80\">Taking PHP Seriously</a>\n",
      "\n",
      "\n",
      "Segment (YC S11) Is Hiring Senior Solutions Engineers\n",
      "https://boards.greenhouse.io/segment/jobs/240906\n",
      "<a class=\"storylink\" href=\"https://boards.greenhouse.io/segment/jobs/240906\" rel=\"nofollow\">Segment (YC S11) Is Hiring Senior Solutions Engineers</a>\n",
      "\n",
      "\n",
      "Analyzing the Patterns of Numbers in 10M Passwords (2015)\n",
      "http://minimaxir.com/2015/02/password-numbers/\n",
      "<a class=\"storylink\" href=\"http://minimaxir.com/2015/02/password-numbers/\">Analyzing the Patterns of Numbers in 10M Passwords (2015)</a>\n",
      "\n",
      "\n",
      "What were Einstein and Gödel talking about? (2005)\n",
      "http://www.newyorker.com/magazine/2005/02/28/time-bandits-2\n",
      "<a class=\"storylink\" href=\"http://www.newyorker.com/magazine/2005/02/28/time-bandits-2\">What were Einstein and Gödel talking about? (2005)</a>\n",
      "\n",
      "\n",
      "Brain Chip Lets Paralyzed Man Touch Again\n",
      "http://sciencebulletin.org/archives/6351.html\n",
      "<a class=\"storylink\" href=\"http://sciencebulletin.org/archives/6351.html\" rel=\"nofollow\">Brain Chip Lets Paralyzed Man Touch Again</a>\n",
      "\n",
      "\n",
      "Peer pressure’s effects are perhaps more powerful than we thought (2014)\n",
      "https://www.washingtonpost.com/news/storyline/wp/2014/12/04/people-around-you-control-your-mind-the-latest-evidence\n",
      "<a class=\"storylink\" href=\"https://www.washingtonpost.com/news/storyline/wp/2014/12/04/people-around-you-control-your-mind-the-latest-evidence\">Peer pressure’s effects are perhaps more powerful than we thought (2014)</a>\n",
      "\n",
      "\n",
      "Differentiable Neural Computers\n",
      "https://deepmind.com/blog/differentiable-neural-computers/\n",
      "<a class=\"storylink\" href=\"https://deepmind.com/blog/differentiable-neural-computers/\">Differentiable Neural Computers</a>\n",
      "\n",
      "\n",
      "Show HN: Stack Match – find engineering jobs that match your preferred stack\n",
      "http://stackshare.io/match?ref=hackernews\n",
      "<a class=\"storylink\" href=\"http://stackshare.io/match?ref=hackernews\" rel=\"nofollow\">Show HN: Stack Match – find engineering jobs that match your preferred stack</a>\n",
      "\n",
      "\n",
      "Show HN: Styled-components – Use the best of ES6 to style React apps\n",
      "https://styled-components.com\n",
      "<a class=\"storylink\" href=\"https://styled-components.com\">Show HN: Styled-components – Use the best of ES6 to style React apps</a>\n",
      "\n",
      "\n",
      "A Mexican architect has a vision for a city straddling the U.S.-Mexico border\n",
      "http://www.citylab.com/design/2016/09/instead-of-a-wall-build-a-binational-city-us-mexico-border-trump/499634/\n",
      "<a class=\"storylink\" href=\"http://www.citylab.com/design/2016/09/instead-of-a-wall-build-a-binational-city-us-mexico-border-trump/499634/\">A Mexican architect has a vision for a city straddling the U.S.-Mexico border</a>\n",
      "\n",
      "\n",
      "Canonical releases Ubuntu 16.10\n",
      "http://insights.ubuntu.com/2016/10/13/canonical-releases-ubuntu-16-10/\n",
      "<a class=\"storylink\" href=\"http://insights.ubuntu.com/2016/10/13/canonical-releases-ubuntu-16-10/\">Canonical releases Ubuntu 16.10</a>\n",
      "\n",
      "\n"
     ]
    }
   ],
   "source": [
    "for d in soup.findAll(class_='storylink'):\n",
    "    print d.text\n",
    "    print d['href']\n",
    "    print d\n",
    "    print '\\n'"
   ]
  },
  {
   "cell_type": "markdown",
   "metadata": {
    "slideshow": {
     "slide_type": "slide"
    }
   },
   "source": [
    "## Now for the Easy Way"
   ]
  },
  {
   "cell_type": "markdown",
   "metadata": {
    "slideshow": {
     "slide_type": "slide"
    }
   },
   "source": [
    "## Import.io"
   ]
  },
  {
   "cell_type": "markdown",
   "metadata": {
    "slideshow": {
     "slide_type": "-"
    }
   },
   "source": [
    "Using the URL, go to \"http://www.zillow.com/new-york-city-ny/apartments/\""
   ]
  },
  {
   "cell_type": "markdown",
   "metadata": {
    "slideshow": {
     "slide_type": "slide"
    }
   },
   "source": [
    "## Independent Practice"
   ]
  },
  {
   "cell_type": "markdown",
   "metadata": {
    "slideshow": {
     "slide_type": "-"
    }
   },
   "source": [
    "1. Programmatically run a google search for 'Data Science' using Selenium and PhantomJS\n",
    "\n",
    "2. Retrieve only the links and their titles using BS - avoid getting the ads in your list\n",
    "\n",
    "3. Place those into a DataFrame"
   ]
  },
  {
   "cell_type": "code",
   "execution_count": 198,
   "metadata": {
    "collapsed": false,
    "slideshow": {
     "slide_type": "slide"
    }
   },
   "outputs": [],
   "source": [
    "from selenium import webdriver\n",
    "\n",
    "driver = webdriver.PhantomJS(executable_path='/Users/thomas/Downloads/phantomjs-2.1.1-macosx/bin/phantomjs')\n",
    "driver.set_window_size(300, 200) \n",
    "driver.get('https://www.google.com/#q=data+science')\n",
    "# .page_source gives us our document\n",
    "html=driver.page_source"
   ]
  },
  {
   "cell_type": "code",
   "execution_count": 202,
   "metadata": {
    "collapsed": true,
    "slideshow": {
     "slide_type": "-"
    }
   },
   "outputs": [
    {
     "name": "stdout",
     "output_type": "stream",
     "text": [
      "<!DOCTYPE html>\n",
      "<html itemscope=\"\" itemtype=\"http://schema.org/SearchResultsPage\" lang=\"en\">\n",
      " <head>\n",
      "  <meta content=\"text/html; charset=utf-8\" http-equiv=\"Content-Type\"/>\n",
      "  <meta content=\"/images/branding/googleg/1x/googleg_standard_color_128dp.png\" itemprop=\"image\"/>\n",
      "  <link href=\"/images/branding/product/ico/googleg_lodp.ico\" rel=\"shortcut icon\"/>\n",
      "  <noscript>\n",
      "   &lt;meta content=\"0;url=/search?q=data+science&amp;amp;gbv=1&amp;amp;sei=I_L_V9D6N8Pg-QGmvKf4BA\" http-equiv=\"refresh\"&gt;&lt;style&gt;table,div,span,p{display:none}&lt;/style&gt;&lt;div style=\"display:block\"&gt;Please click &lt;a href=\"/search?q=data+science&amp;amp;gbv=1&amp;amp;sei=I_L_V9D6N8Pg-QGmvKf4BA\"&gt;here&lt;/a&gt; if you are not redirected within a few seconds.&lt;/div&gt;\n",
      "  </noscript>\n",
      "  <title>\n",
      "   data science - Google Search\n",
      "  </title>\n",
      "  <style>\n",
      "   #gb{font:13px/27px Arial,sans-serif;height:30px}#gbz,#gbg{position:absolute;white-space:nowrap;top:0;height:30px;z-index:1000}#gbz{left:0;padding-left:4px}#gbg{right:0;padding-right:5px}#gbs{background:transparent;position:absolute;top:-999px;visibility:hidden;z-index:998;right:0}.gbto #gbs{background:#fff}#gbx3,#gbx4{background-color:#2d2d2d;background-image:none;_background-image:none;background-position:0 -138px;background-repeat:repeat-x;border-bottom:1px solid #000;font-size:24px;height:29px;_height:30px;opacity:1;filter:alpha(opacity=100);position:absolute;top:0;width:100%;z-index:990}#gbx3{left:0}#gbx4{right:0}#gbb{position:relative}#gbbw{left:0;position:absolute;top:30px;width:100%}.gbtcb{position:absolute;visibility:hidden}#gbz .gbtcb{right:0}#gbg .gbtcb{left:0}.gbxx{display:none !important}.gbxo{opacity:0 !important;filter:alpha(opacity=0) !important}.gbm{position:absolute;z-index:999;top:-999px;visibility:hidden;text-align:left;border:1px solid #bebebe;background:#fff;-moz-box-shadow:-1px 1px 1px rgba(0,0,0,.2);-webkit-box-shadow:0 2px 4px rgba(0,0,0,.2);box-shadow:0 2px 4px rgba(0,0,0,.2)}.gbrtl .gbm{-moz-box-shadow:1px 1px 1px rgba(0,0,0,.2)}.gbto .gbm,.gbto #gbs{top:29px;visibility:visible}#gbz .gbm{left:0}#gbg .gbm{right:0}.gbxms{background-color:#ccc;display:block;position:absolute;z-index:1;top:-1px;left:-2px;right:-2px;bottom:-2px;opacity:.4;-moz-border-radius:3px;filter:progid:DXImageTransform.Microsoft.Blur(pixelradius=5);*opacity:1;*top:-2px;*left:-5px;*right:5px;*bottom:4px;-ms-filter:\"progid:DXImageTransform.Microsoft.Blur(pixelradius=5)\";opacity:1\\0/;top:-4px\\0/;left:-6px\\0/;right:5px\\0/;bottom:4px\\0/}.gbma{position:relative;top:-1px;border-style:solid dashed dashed;border-color:transparent;border-top-color:#c0c0c0;display:-moz-inline-box;display:inline-block;font-size:0;height:0;line-height:0;width:0;border-width:3px 3px 0;padding-top:1px;left:4px}#gbztms1,#gbi4m1,#gbi4s,#gbi4t{zoom:1}.gbtc,.gbmc,.gbmcc{display:block;list-style:none;margin:0;padding:0}.gbmc{background:#fff;padding:10px 0;position:relative;z-index:2;zoom:1}.gbt{position:relative;display:-moz-inline-box;display:inline-block;line-height:27px;padding:0;vertical-align:top}.gbt{*display:inline}.gbto{box-shadow:0 2px 4px rgba(0,0,0,.2);-moz-box-shadow:0 2px 4px rgba(0,0,0,.2);-webkit-box-shadow:0 2px 4px rgba(0,0,0,.2)}.gbzt,.gbgt{cursor:pointer;display:block;text-decoration:none !important}span#gbg6,span#gbg4{cursor:default}.gbts{border-left:1px solid transparent;border-right:1px solid transparent;display:block;*display:inline-block;padding:0 5px;position:relative;z-index:1000}.gbts{*display:inline}.gbzt .gbts{display:inline;zoom:1}.gbto .gbts{background:#fff;border-color:#bebebe;color:#36c;padding-bottom:1px;padding-top:2px}.gbz0l .gbts{color:#fff;font-weight:bold}.gbtsa{padding-right:9px}#gbz .gbzt,#gbz .gbgt,#gbg .gbgt{color:#ccc!important}.gbtb2{display:block;border-top:2px solid transparent}.gbto .gbzt .gbtb2,.gbto .gbgt .gbtb2{border-top-width:0}.gbtb .gbts{background:url(//ssl.gstatic.com/gb/images/b_8d5afc09.png);_background:url(//ssl.gstatic.com/gb/images/b8_3615d64d.png);background-position:-27px -22px;border:0;font-size:0;padding:29px 0 0;*padding:27px 0 0;width:1px}.gbzt:hover,.gbzt:focus,.gbgt-hvr,.gbgt:focus{background-color:#4c4c4c;background-image:none;_background-image:none;background-position:0 -102px;background-repeat:repeat-x;outline:none;text-decoration:none !important}.gbpdjs .gbto .gbm{min-width:99%}.gbz0l .gbtb2{border-top-color:#dd4b39!important}#gbi4s,#gbi4s1{font-weight:bold}#gbg6.gbgt-hvr,#gbg6.gbgt:focus{background-color:transparent;background-image:none}.gbg4a{font-size:0;line-height:0}.gbg4a .gbts{padding:27px 5px 0;*padding:25px 5px 0}.gbto .gbg4a .gbts{padding:29px 5px 1px;*padding:27px 5px 1px}#gbi4i,#gbi4id{left:5px;border:0;height:24px;position:absolute;top:1px;width:24px}.gbto #gbi4i,.gbto #gbi4id{top:3px}.gbi4p{display:block;width:24px}#gbi4id{background-position:-44px -101px}#gbmpid{background-position:0 0}#gbmpi,#gbmpid{border:none;display:inline-block;height:48px;width:48px}#gbmpiw{display:inline-block;line-height:9px;padding-left:20px;margin-top:10px;position:relative}#gbmpi,#gbmpid,#gbmpiw{*display:inline}#gbg5{font-size:0}#gbgs5{padding:5px !important}.gbto #gbgs5{padding:7px 5px 6px !important}#gbi5{background:url(//ssl.gstatic.com/gb/images/b_8d5afc09.png);_background:url(//ssl.gstatic.com/gb/images/b8_3615d64d.png);background-position:0 0;display:block;font-size:0;height:17px;width:16px}.gbto #gbi5{background-position:-6px -22px}.gbn .gbmt,.gbn .gbmt:visited,.gbnd .gbmt,.gbnd .gbmt:visited{color:#dd8e27 !important}.gbf .gbmt,.gbf .gbmt:visited{color:#900 !important}.gbmt,.gbml1,.gbmlb,.gbmt:visited,.gbml1:visited,.gbmlb:visited{color:#36c !important;text-decoration:none !important}.gbmt,.gbmt:visited{display:block}.gbml1,.gbmlb,.gbml1:visited,.gbmlb:visited{display:inline-block;margin:0 10px}.gbml1,.gbmlb,.gbml1:visited,.gbmlb:visited{*display:inline}.gbml1,.gbml1:visited{padding:0 10px}.gbml1-hvr,.gbml1:focus{outline:none;text-decoration:underline !important}#gbpm .gbml1{display:inline;margin:0;padding:0;white-space:nowrap}.gbmlb,.gbmlb:visited{line-height:27px}.gbmlb-hvr,.gbmlb:focus{outline:none;text-decoration:underline !important}.gbmlbw{color:#ccc;margin:0 10px}.gbmt{padding:0 20px}.gbmt:hover,.gbmt:focus{background:#eee;cursor:pointer;outline:0 solid black;text-decoration:none !important}.gbm0l,.gbm0l:visited{color:#000 !important;font-weight:bold}.gbmh{border-top:1px solid #bebebe;font-size:0;margin:10px 0}#gbd4 .gbmc{background:#f5f5f5;padding-top:0}#gbd4 .gbsbic::-webkit-scrollbar-track:vertical{background-color:#f5f5f5;margin-top:2px}#gbmpdv{background:#fff;border-bottom:1px solid #bebebe;-moz-box-shadow:0 2px 4px rgba(0,0,0,.12);-o-box-shadow:0 2px 4px rgba(0,0,0,.12);-webkit-box-shadow:0 2px 4px rgba(0,0,0,.12);box-shadow:0 2px 4px rgba(0,0,0,.12);position:relative;z-index:1}#gbd4 .gbmh{margin:0}.gbmtc{padding:0;margin:0;line-height:27px}.GBMCC:last-child:after,#GBMPAL:last-child:after{content:'\\0A\\0A';white-space:pre;position:absolute}#gbmps{*zoom:1}#gbd4 .gbpc,#gbmpas .gbmt{line-height:17px}#gbd4 .gbpgs .gbmtc{line-height:27px}#gbd4 .gbmtc{border-bottom:1px solid #bebebe}#gbd4 .gbpc{display:inline-block;margin:16px 0 10px;padding-right:50px;vertical-align:top}#gbd4 .gbpc{*display:inline}.gbpc .gbps,.gbpc .gbps2{display:block;margin:0 20px}#gbmplp.gbps{margin:0 10px}.gbpc .gbps{color:#000;font-weight:bold}.gbpc .gbpd{margin-bottom:5px}.gbpd .gbmt,.gbpd .gbps{color:#666 !important}.gbpd .gbmt{opacity:.4;filter:alpha(opacity=40)}.gbps2{color:#666;display:block}.gbp0{display:none}.gbp0 .gbps2{font-weight:bold}#gbd4 .gbmcc{margin-top:5px}.gbpmc{background:#fef9db}.gbpmc .gbpmtc{padding:10px 20px}#gbpm{border:0;*border-collapse:collapse;border-spacing:0;margin:0;white-space:normal}#gbpm .gbpmtc{border-top:none;color:#000 !important;font:11px Arial,sans-serif}#gbpms{*white-space:nowrap}.gbpms2{font-weight:bold;white-space:nowrap}#gbmpal{*border-collapse:collapse;border-spacing:0;border:0;margin:0;white-space:nowrap;width:100%}.gbmpala,.gbmpalb{font:13px Arial,sans-serif;line-height:27px;padding:10px 20px 0;white-space:nowrap}.gbmpala{padding-left:0;text-align:left}.gbmpalb{padding-right:0;text-align:right}#gbmpasb .gbps{color:#000}#gbmpal .gbqfbb{margin:0 20px}.gbp0 .gbps{*display:inline}a.gbiba{margin:8px 20px 10px}.gbmpiaw{display:inline-block;padding-right:10px;margin-bottom:6px;margin-top:10px}.gbxv{visibility:hidden}.gbmpiaa{display:block;margin-top:10px}.gbmpia{border:none;display:block;height:48px;width:48px}.gbmpnw{display:inline-block;height:auto;margin:10px 0;vertical-align:top} .gbqfb,.gbqfba,.gbqfbb{-moz-border-radius:2px;-webkit-border-radius:2px;border-radius:2px;cursor:default !important;display:inline-block;font-weight:bold;height:29px;line-height:29px;min-width:54px;*min-width:70px;padding:0 8px;text-align:center;text-decoration:none !important;-moz-user-select:none;-webkit-user-select:none}.gbqfb:focus,.gbqfba:focus,.gbqfbb:focus{border:1px solid #4d90fe;-moz-box-shadow:inset 0 0 0 1px rgba(255, 255, 255, 0.5);-webkit-box-shadow:inset 0 0 0 1px rgba(255, 255, 255, 0.5);box-shadow:inset 0 0 0 1px rgba(255, 255, 255, 0.5);outline:none}.gbqfb-hvr:focus,.gbqfba-hvr:focus,.gbqfbb-hvr:focus{-webkit-box-shadow:inset 0 0 0 1px #fff,0 1px 1px rgba(0,0,0,.1);-moz-box-shadow:inset 0 0 0 1px #fff,0 1px 1px rgba(0,0,0,.1);box-shadow:inset 0 0 0 1px #fff,0 1px 1px rgba(0,0,0,.1)}.gbqfb-no-focus:focus{border:1px solid #3079ed;-moz-box-shadow:none;-webkit-box-shadow:none;box-shadow:none}.gbqfb-hvr,.gbqfba-hvr,.gbqfbb-hvr{-webkit-box-shadow:0 1px 1px rgba(0,0,0,.1);-moz-box-shadow:0 1px 1px rgba(0,0,0,.1);box-shadow:0 1px 1px rgba(0,0,0,.1)}.gbqfb::-moz-focus-inner,.gbqfba::-moz-focus-inner,.gbqfbb::-moz-focus-inner{border:0}.gbqfba,.gbqfbb{border:1px solid #dcdcdc;border-color:rgba(0,0,0,.1);color:#444 !important;font-size:11px}.gbqfb{background-color:#4d90fe;background-image:-webkit-gradient(linear,left top,left bottom,from(#4d90fe),to(#4787ed));background-image:-webkit-linear-gradient(top,#4d90fe,#4787ed);background-image:-moz-linear-gradient(top,#4d90fe,#4787ed);background-image:-ms-linear-gradient(top,#4d90fe,#4787ed);background-image:-o-linear-gradient(top,#4d90fe,#4787ed);background-image:linear-gradient(top,#4d90fe,#4787ed);filter:progid:DXImageTransform.Microsoft.gradient(startColorStr='#4d90fe',EndColorStr='#4787ed');border:1px solid #3079ed;color:#fff!important;margin:0 0}.gbqfb-hvr{border-color:#2f5bb7}.gbqfb-hvr:focus{border-color:#2f5bb7}.gbqfb-hvr,.gbqfb-hvr:focus{background-color:#357ae8;background-image:-webkit-gradient(linear,left top,left bottom,from(#4d90fe),to(#357ae8));background-image:-webkit-linear-gradient(top,#4d90fe,#357ae8);background-image:-moz-linear-gradient(top,#4d90fe,#357ae8);background-image:-ms-linear-gradient(top,#4d90fe,#357ae8);background-image:-o-linear-gradient(top,#4d90fe,#357ae8);background-image:linear-gradient(top,#4d90fe,#357ae8)}.gbqfb:active{background-color:inherit;-webkit-box-shadow:inset 0 1px 2px rgba(0, 0, 0, 0.3);-moz-box-shadow:inset 0 1px 2px rgba(0, 0, 0, 0.3);box-shadow:inset 0 1px 2px rgba(0, 0, 0, 0.3)}.gbqfba{background-color:#f5f5f5;background-image:-webkit-gradient(linear,left top,left bottom,from(#f5f5f5),to(#f1f1f1));background-image:-webkit-linear-gradient(top,#f5f5f5,#f1f1f1);background-image:-moz-linear-gradient(top,#f5f5f5,#f1f1f1);background-image:-ms-linear-gradient(top,#f5f5f5,#f1f1f1);background-image:-o-linear-gradient(top,#f5f5f5,#f1f1f1);background-image:linear-gradient(top,#f5f5f5,#f1f1f1);filter:progid:DXImageTransform.Microsoft.gradient(startColorStr='#f5f5f5',EndColorStr='#f1f1f1')}.gbqfba-hvr,.gbqfba-hvr:active{background-color:#f8f8f8;background-image:-webkit-gradient(linear,left top,left bottom,from(#f8f8f8),to(#f1f1f1));background-image:-webkit-linear-gradient(top,#f8f8f8,#f1f1f1);background-image:-moz-linear-gradient(top,#f8f8f8,#f1f1f1);background-image:-ms-linear-gradient(top,#f8f8f8,#f1f1f1);background-image:-o-linear-gradient(top,#f8f8f8,#f1f1f1);background-image:linear-gradient(top,#f8f8f8,#f1f1f1);filter:progid:DXImageTransform.Microsoft.gradient(startColorStr='#f8f8f8',EndColorStr='#f1f1f1')}.gbqfbb{background-color:#fff;background-image:-webkit-gradient(linear,left top,left bottom,from(#fff),to(#fbfbfb));background-image:-webkit-linear-gradient(top,#fff,#fbfbfb);background-image:-moz-linear-gradient(top,#fff,#fbfbfb);background-image:-ms-linear-gradient(top,#fff,#fbfbfb);background-image:-o-linear-gradient(top,#fff,#fbfbfb);background-image:linear-gradient(top,#fff,#fbfbfb);filter:progid:DXImageTransform.Microsoft.gradient(startColorStr='#ffffff',EndColorStr='#fbfbfb')}.gbqfbb-hvr,.gbqfbb-hvr:active{background-color:#fff;background-image:-webkit-gradient(linear,left top,left bottom,from(#fff),to(#f8f8f8));background-image:-webkit-linear-gradient(top,#fff,#f8f8f8);background-image:-moz-linear-gradient(top,#fff,#f8f8f8);background-image:-ms-linear-gradient(top,#fff,#f8f8f8);background-image:-o-linear-gradient(top,#fff,#f8f8f8);background-image:linear-gradient(top,#fff,#f8f8f8);filter:progid:DXImageTransform.Microsoft.gradient(startColorStr='#ffffff',EndColorStr='#f8f8f8')}.gbqfba-hvr,.gbqfba-hvr:active,.gbqfbb-hvr,.gbqfbb-hvr:active{border-color:#c6c6c6;-webkit-box-shadow:0 1px 1px rgba(0,0,0,.1);-moz-box-shadow:0 1px 1px rgba(0,0,0,.1);box-shadow:0 1px 1px rgba(0,0,0,.1);color:#222 !important}.gbqfba:active,.gbqfbb:active{-webkit-box-shadow:inset 0 1px 2px rgba(0,0,0,.1);-moz-box-shadow:inset 0 1px 2px rgba(0,0,0,.1);box-shadow:inset 0 1px 2px rgba(0,0,0,.1)} .gbprcd{padding:0;width:258px;white-space:normal}.gbprcb{display:inline-block;height:27px;padding:0 15px;text-decoration:none}#gbprc .gbprcbc{background-color:;background-image:none;border-color:;color:!important}#gbprc .gbprcbc:hover{color:!important}#gbprc .gbprcbc:active,#gbprc .gbprcbc:focus{color:!important}.gbprct{color:#666;line-height:17px;margin:0;margin-bottom:20px}.gbprci{color:#333;font-size:16px;line-height:20px;margin:0;margin-bottom:16px}#gbprc .gbmc{padding:26px;padding-bottom:22px;border:1px solid #bebebe}#gbprc .gbm{border:0}#gbprc .gbprcx,#gbprc .gbprcx.gbgt-hvr,#gbprc .gbprcx:focus,#gbprc .gbprcx:active{right:12px;background:url(//ssl.gstatic.com/s2/oz/images/stars/x.png);display:block;height:9px;opacity:.8;filter:alpha(opacity=80);position:absolute;top:12px;width:9px}#gbprc .gbprcx.gbgt-hvr,#gbprc .gbprcx:focus,#gbprc .gbprcx:active{opacity:1;filter:alpha(opacity=100)}.gbgs .gbmab,.gbgs .gbmab{left:10px;margin:40px 0 0}.gbgs .gbmac,.gbgs .gbmac{left:10px;margin:41px 0 0}.gbemi .gbgs .gbmab,.gbem .gbgs .gbmab{left:10px;margin:40px 0 0}.gbemi .gbgs .gbmac,.gbem .gbgs .gbmac{left:10px;margin:41px 0 0}.gbesi .gbgs .gbmab,.gbes .gbgs .gbmab{left:10px;margin:40px 0 0}.gbesi .gbgs .gbmac,.gbes .gbgs .gbmac{left:10px;margin:41px 0 0}#gbprca .gbmab{z-index:999}#gbprca .gbmac{border-bottom-color:#fff;z-index:999}#gbprcs{position:absolute;background:transparent;top:-999px;z-index:-1;visibility:hidden;margin-top:1px;margin-left:1px} #gb #gbprc{right:-28px;top:15px;z-index:997}#gbprca{left:-63px;position:relative;top:-22px}.gbmab,.gbmac{left:5px;border-style:dashed dashed solid;border-color:transparent;border-bottom-color:#bebebe;border-width:0 10px 10px;display:-moz-inline-box;display:inline-block;font-size:0;height:0;line-height:0;position:absolute;top:0;width:0;z-index:1000}.gbmab,.gbmac{visibility:hidden}.gbmac{border-bottom-color:#fff}.gbto .gbmab,.gbto .gbmac{visibility:visible}#gbqfqw,#gbqfb{vertical-align:top}#gbqfbw{right:0;margin:0 15px;position:absolute;top:0}.gbqfb{background-color:#4d90fe;background-image:-webkit-gradient(linear,left top,left bottom,from(#4d90fe),to(#4787ed));background-image:-webkit-linear-gradient(top,#4d90fe,#4787ed);background-image:-moz-linear-gradient(top,#4d90fe,#4787ed);background-image:-ms-linear-gradient(top,#4d90fe,#4787ed);background-image:-o-linear-gradient(top,#4d90fe,#4787ed);background-image:linear-gradient(top,#4d90fe,#4787ed);filter:progid:DXImageTransform.Microsoft.gradient(startColorStr='#4d90fe',EndColorStr='#4787ed');border:1px solid #3079ed;-moz-border-radius:2px;-webkit-border-radius:2px;border-radius:2px;-moz-user-select:none;-webkit-user-select:none;color:#fff;cursor:default;font-size:11px;font-weight:bold;height:29px;min-width:54px;*min-width:70px;text-align:center;padding:0 8px}.gbqfb-hvr{border:1px solid #2f5bb7;background-color:#357ae8;background-image:-webkit-gradient(linear,left top,left bottom,from(#4d90fe),to(#357ae8));background-image:-webkit-linear-gradient(top,#4d90fe,#357ae8);background-image:-moz-linear-gradient(top,#4d90fe,#357ae8);background-image:-ms-linear-gradient(top,#4d90fe,#357ae8);background-image:-o-linear-gradient(top,#4d90fe,#357ae8);background-image:linear-gradient(top,#4d90fe,#357ae8);-webkit-box-shadow:0 1px 1px rgba(0,0,0,.1);-moz-box-shadow:0 1px 1px rgba(0,0,0,.1);box-shadow:0 1px 1px rgba(0,0,0,.1)}.gbqfb:focus{-moz-box-shadow:inset 0 0 0 1px #fff;-webkit-box-shadow:inset 0 0 0 1px #fff;box-shadow:inset 0 0 0 1px #fff;outline:none}.gbqfb::-moz-focus-inner{border:0}.gbqfb-hvr:focus{-moz-box-shadow:inset 0 0 0 1px #fff,0 1px 1px rgba(0,0,0,.1);-webkit-box-shadow:inset 0 0 0 1px #fff,0 1px 1px rgba(0,0,0,.1);box-shadow:inset 0 0 0 1px #fff,0 1px 1px rgba(0,0,0,.1)}.gbqfb:active{-moz-box-shadow:inset 0 1px 2px rgba(0,0,0,.3);-webkit-box-shadow:inset 0 1px 2px rgba(0,0,0,.3);box-shadow:inset 0 1px 2px rgba(0,0,0,.3)} #gbmpas{max-height:220px}#gbmm{max-height:530px}.gbsb{-webkit-box-sizing:border-box;display:block;position:relative;*zoom:1}.gbsbic{overflow:auto}.gbsbis .gbsbt,.gbsbis .gbsbb{-webkit-mask-box-image:-webkit-gradient(linear,left top,right top,color-stop(0,rgba(0,0,0,.1)),color-stop(.5,rgba(0,0,0,.8)),color-stop(1,rgba(0,0,0,.1)));left:0;margin-right:0;opacity:0;position:absolute;width:100%}.gbsb .gbsbt:after,.gbsb .gbsbb:after{content:\"\";display:block;height:0;left:0;position:absolute;width:100%}.gbsbis .gbsbt{background:-webkit-gradient(linear,left top,left bottom,from(rgba(0,0,0,.2)),to(rgba(0,0,0,0)));background-image:-webkit-linear-gradient(top,rgba(0,0,0,.2),rgba(0,0,0,0));background-image:-moz-linear-gradient(top,rgba(0,0,0,.2),rgba(0,0,0,0));background-image:-ms-linear-gradient(top,rgba(0,0,0,.2),rgba(0,0,0,0));background-image:-o-linear-gradient(top,rgba(0,0,0,.2),rgba(0,0,0,0));background-image:linear-gradient(top,rgba(0,0,0,.2),rgba(0,0,0,0));height:6px;top:0}.gbsb .gbsbt:after{border-top:1px solid #ebebeb;border-color:rgba(0,0,0,.3);top:0}.gbsb .gbsbb{-webkit-mask-box-image:-webkit-gradient(linear,left top,right top,color-stop(0,rgba(0,0,0,.1)),color-stop(.5,rgba(0,0,0,.8)),color-stop(1,rgba(0,0,0,.1)));background:-webkit-gradient(linear,left bottom,left top,from(rgba(0,0,0,.2)),to(rgba(0,0,0,0)));background-image:-webkit-linear-gradient(bottom,rgba(0,0,0,.2),rgba(0,0,0,0));background-image:-moz-linear-gradient(bottom,rgba(0,0,0,.2),rgba(0,0,0,0));background-image:-ms-linear-gradient(bottom,rgba(0,0,0,.2),rgba(0,0,0,0));background-image:-o-linear-gradient(bottom,rgba(0,0,0,.2),rgba(0,0,0,0));background-image:linear-gradient(bottom,rgba(0,0,0,.2),rgba(0,0,0,0));bottom:0;height:4px}.gbsb .gbsbb:after{border-bottom:1px solid #ebebeb;border-color:rgba(0,0,0,.3);bottom:0} .gbsbic::-webkit-scrollbar{height:16px;width:16px}.gbsbic::-webkit-scrollbar-button{height:0;width:0}.gbsbic::-webkit-scrollbar-button:start:decrement,.gbsbic::-webkit-scrollbar-button:end:increment{display:block}.gbsbic::-webkit-scrollbar-button:vertical:start:increment,.gbsbic::-webkit-scrollbar-button:vertical:end:decrement{display:none}.gbsbic::-webkit-scrollbar-track:vertical,.gbsbic::-webkit-scrollbar-track:horizontal,.gbsbic::-webkit-scrollbar-thumb:vertical,.gbsbic::-webkit-scrollbar-thumb:horizontal,.gbsbis .gbsbic::-webkit-scrollbar-track:vertical,.gbsbis .gbsbic::-webkit-scrollbar-track:horizontal,.gbsbis .gbsbic::-webkit-scrollbar-thumb:vertical,.gbsbis .gbsbic::-webkit-scrollbar-thumb:horizontal{border-style:solid;border-color:transparent}.gbsbic::-webkit-scrollbar-track:vertical{background-clip:padding-box;background-color:#fff;border-left-width:5px;border-right-width:0}.gbsbic::-webkit-scrollbar-track:horizontal{background-clip:padding-box;background-color:#fff;border-bottom-width:0;border-top-width:5px}.gbsbic::-webkit-scrollbar-thumb{-webkit-box-shadow:inset 1px 1px 0 rgba(0,0,0,.1),inset 0 -1px 0 rgba(0,0,0,.07);background-clip:padding-box;background-color:rgba(0,0,0,.2);min-height:28px;padding-top:100px}.gbsbic::-webkit-scrollbar-thumb:hover{-webkit-box-shadow:inset 1px 1px 1px rgba(0,0,0,.25);background-color:rgba(0,0,0,.4)}.gbsbic::-webkit-scrollbar-thumb:active{-webkit-box-shadow:inset 1px 1px 3px rgba(0,0,0,.35);background-color:rgba(0,0,0,.5)}.gbsbic::-webkit-scrollbar-thumb:vertical{border-width:0;border-left-width:5px}.gbsbic::-webkit-scrollbar-thumb:horizontal{border-width:0;border-top-width:5px}.gbsbis .gbsbic::-webkit-scrollbar-track:vertical{border-left-width:6px;border-right-width:1px}.gbsbis .gbsbic::-webkit-scrollbar-track:horizontal{border-bottom:1px;border-top:6px}.gbsbis .gbsbic::-webkit-scrollbar-thumb:vertical{border-width:0;border-left-width:6px;border-right-width:1px}.gbsbis .gbsbic::-webkit-scrollbar-thumb:horizontal{border-width:0;border-bottom:1px;border-top:6px}.gbsbic::-webkit-scrollbar-track:hover{-webkit-box-shadow:inset 1px 0 0 rgba(0,0,0,.1);background-color:rgba(0,0,0,.05)}.gbsbic::-webkit-scrollbar-track:active{-webkit-box-shadow:inset 1px 0 0 rgba(0,0,0,.14),inset -1px -1px 0 rgba(0,0,0,.07);background-color:rgba(0,0,0,.05)}\n",
      "  </style>\n",
      "  <style>\n",
      "   .star{float:left;margin-top:1px;overflow:hidden}._yhd{font-size:11px}.j{width:34em}body,td,div,.p,a{font-family:arial,sans-serif;-webkit-tap-highlight-color:rgba(255,255,255,0)}body{margin:0}a img{border:0}#gbar{float:left;height:22px;padding-left:2px;font-size:13px}.gsfi,.gsfs{font-size:17px}.w,.q:active,.q:visited,.tbotu{color:#11c}a.gl{text-decoration:none}._Umd a:link{color:#0E1CB3}#foot{padding:0 8px}#foot a{white-space:nowrap}h3{font-size:16px;font-weight:normal;margin:0;padding:0}#res h3{display:inline}.hd{height:1px;position:absolute;top:-1000em}.g,body,html,table,.std{font-size:13px}.g{margin-bottom:23px;margin-top:0;zoom:1}ol li,ul li{list-style:none}h1,ol,ul,li{margin:0;padding:0}#mbEnd h2{font-weight:normal}.e{margin:2px 0 0.75em}#leftnav a{text-decoration:none}#leftnav h2{color:#767676;font-weight:normal;margin:0}#nav{border-collapse:collapse;margin-top:17px;text-align:left}#nav td{text-align:center}.nobr{white-space:nowrap}.ts{border-collapse:collapse}.s br{display:none}.csb{display:block;height:40px}.images_table td{line-height:17px;padding-bottom:16px}.images_table img{border:1px solid #ccc;padding:1px}#tbd,#abd{display:block;min-height:1px}#abd{padding-top:3px}#tbd li{display:inline}._ITd,._JTd{margin-bottom:8px}#tbd .tbt li{display:block;font-size:13px;line-height:1.2;padding-bottom:3px;padding-left:8px;text-indent:-8px}.tbos,.b{font-weight:bold}em{font-weight:bold;font-style:normal}.mime{color:#1a0dab;font-weight:bold;font-size:x-small}._lwd{right:-2px !important;overflow:hidden}.soc a{text-decoration:none}.soc{color:#808080}._AC a{text-decoration:none}._AC{color:#808080}._kgd{color:#e7711b}#_vBb{border:1px solid #e0e0e0;margin-left:-8px;margin-right:-8px;padding:15px 20px 5px}._m3b{font-size:32px}._eGc{color:#777;font-size:16px;margin-top:5px}._H0d{color:#777;font-size:14px;margin-top:5px}._HLh{border:1px solid #e0e0e0;padding-left:20px}._Tki{border:1px solid #e0e0e0;padding:5px 20px}#vob{border:1px solid #e0e0e0;padding:15px 15px}#_Nyc{font-size:22px;line-height:22px;padding-bottom:5px}#vob_st{line-height:1.24}._Tsb{border-width:1px;border-style:solid;border-color:#eee;background-color:#fff;position:relative;margin-bottom:26px}._Peb,._Qeb,._Usb{font-family:Arial;font-weight:lighter}._Peb{margin-bottom:5px}._Peb{font-size:xx-large}._Qeb{font-size:medium}._Usb{font-size:small}._Tsb{margin-left:-8px;margin-right:-15px;padding:20px 20px 24px}._rOc{border-spacing:0px 2px}._sOc{max-width:380px;text-overflow:ellipsis;white-space:nowrap;overflow:hidden;padding-left:0px}._v9b{padding-left:15px;white-space:nowrap;color:#666}._pOc{padding-left:0px}._rkc{color:#212121}._HOb{color:#878787}._lMf{color:#093}._jMf{color:#c00}._kMf{padding:1px}._CKg{color:#dd4b39}.gssb_a{padding:0 10px !important}.gssb_c{left:132px !important;right:295px !important;top:78px !important;width:572px !important}.gssb_c table{font-size:16px !important}.gssb_e{border:1px solid #ccc !important;border-top-color:#d9d9d9 !important}.gssb_i{background:#eee !important}#res{padding:0 8px}#rhs_block{padding-top:43px}#_FQd{padding:0 8px}#subform_ctrl{font-size:11px;height:17px;margin:5px 3px 0 17px}.taf{padding-bottom:3px}._chd{padding:20px 0 3px}._bhd{padding:20px 0 3px}#topstuff .e{padding-bottom:6px}.slk .sld{width:250px}.slk{margin-bottom:-3px}.slk ._z3b{padding-bottom:5px;width:250px}._QPd{margin-top:1px;margin-bottom:-11px}._zuc{color:#545454}._Auc{padding-top:2px;padding-bottom:1px}._Buc{padding-top:1px;margin-bottom:14px}.ac,.st{line-height:1.24}.mfr,#ofr{font-size:16px;margin:1em 0;padding:0 8px}._tLi{padding-bottom:25px}.s{color:#545454}.ac,._JEe{color:#545454}a.fl,._cD a,.osl a{color:#1a0dab;text-decoration:none}a:link{color:#1a0dab;cursor:pointer}#tads a:link{color:#1a0dab}#tads .soc a:link{color:#808080}#tads ._AC a:link{color:#808080}._AC a:link{color:#808080}._AC a:visited{color:#808080}._AC a:hover{color:#808080;text-decoration:underline}a:visited{color:#61C}.blg a{text-decoration:none}cite,cite a:link{color:#006621;font-style:normal}#tads cite{color:#006621}.kv{font-size:15px}.kvs{margin-top:1px}.kv,.kvs,.slp{display:block;margin-bottom:1px}.kt{border-spacing:2px 0;margin-top:1px}#mbEnd li{margin:20px 8px 0 0}.f{color:#808080}._pJb{color:#093}h4.r{display:inline;font-size:small;font-weight:normal}.g{line-height:1.2}._sPb{display:inline-block;vertical-align:top;overflow:hidden;position:relative}._Gnc{margin:0 0 2em 1.3em}._Gnc li{list-style-type:disc}.osl{color:#777;margin-top:4px}.r{font-size:16px;margin:0}.spell{font-size:16px}.spell_orig{font-size:13px}.spell_orig a{text-decoration:none}.spell_orig b i{font-style:normal;font-weight:normal}.th{border:1px solid #ebebeb}.ts td{padding:0}.videobox{padding-bottom:3px}.slk a{text-decoration:none}#leftnav a:hover,#leftnav .tbou a:hover,.slk h3 a,a:hover{text-decoration:underline}#mn{table-layout:fixed;width:100%}#leftnav a{color:#222;font-size:13px}#leftnav{padding:43px 4px 4px 0}.tbos{color:#dd4b39}._AEd{border-top:1px solid #efefef;font-size:13px;margin:10px 0 14px 10px;padding:0}.tbt{margin-bottom:28px}#tbd{padding:0 0 0 16px}.tbou a{color:#222}#center_col{border:0;padding:0 8px 0 0}#topstuff .e{padding-top:3px}#topstuff .sp_cnt{padding-top:6px}#ab_name{color:#dd4b39;font:20px \"Arial\";margin-left:15px}._fld{border-bottom:1px solid #dedede;height:56px;padding-top:1px}#resultStats{color:#999;font-size:13px;overflow:hidden;white-space:nowrap}.mslg>td{padding-right:1px;padding-top:2px}.slk .sld{margin-top:2px;padding:5px 0 5px 5px}._Mvd,.fmp{padding-top:3px}.close_btn{overflow:hidden}#fll a,#bfl a{color:#1a0dab !important;margin:0 12px;text-decoration:none !important}.ng{color:#dd4b39}#mss{margin:.33em 0 0;padding:0;display:table}._mY{display:inline-block;float:left;white-space:nowrap;padding-right:16px}#mss p{margin:0;padding-top:5px}.tn{border-bottom:1px solid #ebebeb;display:block;float:left;height:59px;line-height:54px;min-width:980px;padding:0;position:relative;white-space:nowrap}._UXb,a._UXb{color:#777;cursor:pointer;display:inline-block;font-family:arial,sans-serif;font-size:small;height:54px;line-height:54px;margin:0 8px;padding:0 8px;text-decoration:none;white-space:nowrap}._Ihd{border-bottom:3px solid #dd4b39;color:#dd4b39;font-weight:bold;margin:2px 8px 0}a._Jhd:hover{color:black;text-decoration:none;white-space:nowrap}body{margin:0;padding:0}._sxc{display:inline-block;float:left;margin-top:2px}._Hhd,a._Hhd{margin-left:1px}.sd{line-height:43px;padding:0 8px 0 9px}a:active,.osl a:active,.tbou a:active,#leftnav a:active{color:#dd4b39}#_Xud a:active,#bfl a:active{color:#dd4b39 !important}.csb{background:url(/images/nav_logo229.png) no-repeat;overflow:hidden}.close_btn{background:url(/images/nav_logo229.png) no-repeat -138px -84px;height:14px;width:14px;display:block}.star{background:url(/images/nav_logo229.png) no-repeat -94px -245px;height:13px;width:65px;display:block}.star div,.star span{background:url(/images/nav_logo229.png) no-repeat 0 -245px;height:13px;width:65px;display:block}._nBb{display:inline;margin:0 3px;outline-color:transparent;overflow:hidden;position:relative}._nBb>div{outline-color:transparent}._O0{border-color:transparent;border-style:solid dashed dashed;border-top-color:green;border-width:4px 4px 0 4px;cursor:pointer;display:inline-block;font-size:0;height:0;left:4px;line-height:0;outline-color:transparent;position:relative;top:-3px;width:0}._O0{margin-top:-4px}.am-dropdown-menu{display:block;background:#fff;border:1px solid #dcdcdc;font-size:13px;left:0;padding:0;position:absolute;right:auto;white-space:nowrap;z-index:3}._Ykb{list-style:none;white-space:nowrap}._Ykb:hover{background-color:#eee}a._Zkb{color:#333;cursor:pointer;display:block;padding:7px 18px;text-decoration:none}#tads a._Zkb{color:#333}.sfbgg{background:#f1f1f1;border-bottom:1px solid #e5e5e5;height:71px}#logocont{z-index:1;padding-left:4px;padding-top:4px}#logo{display:block;height:49px;margin-top:12px;margin-left:12px;overflow:hidden;position:relative;width:137px}#logo img{left:0;position:absolute;top:-41px}.lst-a{background:white;border:1px solid #d9d9d9;border-top-color:silver;width:570px}.lst-a:hover{border:1px solid #b9b9b9;border-top:1px solid #a0a0a0;box-shadow:inset 0 1px 2px rgba(0,0,0,0.1);-webkit-box-shadow:inset 0 1px 2px rgba(0,0,0,0.1);-moz-box-shadow:inset 0 1px 2px rgba(0,0,0,0.1)}.lst-td{border:none;padding:0}.tia input{border-right:none;padding-right:0}.tia{padding-right:0}.lst{background:none;border:none;color:#000;font:16px arial,sans-serif;float:left;height:22px;margin:0;padding:3px 6px 2px 9px;vertical-align:top;width:100%;word-break:break-all}.lst:focus{outline:none}.lst-b{background:none;border:none;height:26px;padding:0 6px 0 12px}.ds{border-right:1px solid #e7e7e7;position:relative;height:29px;margin-left:17px;z-index:100}.lsbb{background-image:-moz-linear-gradient(top,#4d90fe,#4787ed);background-image:-ms-linear-gradient(top,#4d90fe,#4787ed);background-image:-o-linear-gradient(top,#4d90fe,#4787ed);background-image:-webkit-gradient(linear,left top,left bottom,from(#4d90fe),to(#4787ed));background-image:-webkit-linear-gradient(top,#4d90fe,#4787ed);background-image:linear-gradient(top,#4d90fe,#4787ed);border:1px solid #3079ed;border-radius:2px;background-color:#4d90fe;height:27px;width:68px}.lsbb:hover{background-image:-moz-linear-gradient(top,#4d90fe,#357ae8);background-image:-ms-linear-gradient(top,#4d90fe,#357ae8);background-image:-o-linear-gradient(top,#4d90fe,#357ae8);background-image:-webkit-gradient(linear,left top,left bottom,from(#4d90fe),to(#357ae8));background-image:-webkit-linear-gradient(top,#4d90fe,#357ae8);background-color:#357ae8;background-image:linear-gradient(top,#4d90fe,#357ae8);border:1px solid #2f5bb7}.lsb{background:transparent;background-position:0 -343px;background-repeat:repeat-x;border:none;color:#000;cursor:default;font:15px arial,sans-serif;height:29px;margin:0;vertical-align:top;width:100%}.lsb:active{-moz-box-shadow:inset 0 1px 2px rgba(0,0,0,0.3);-webkit-box-shadow:inset 0 1px 2px rgba(0,0,0,0.3);box-shadow:inset 0 1px 2px rgba(0,0,0,0.3);background:transparent;color:transparent;overflow:hidden;position:relative;width:100%}.sbico{color:transparent;display:inline-block;height:15px;margin:0 auto;margin-top:2px;width:15px;overflow:hidden}\n",
      "  </style>\n",
      "  <script>\n",
      "   (function(){window.google={kEI:'I_L_V9D6N8Pg-QGmvKf4BA',kEXPI:'750722,1351634,1351948,3700325,3700389,3700400,4019511,4029815,4031109,4032677,4036211,4036527,4038012,4039268,4040138,4043492,4045841,4048347,4052304,4058720,4062186,4064857,4064904,4065787,4067860,4067939,4068188,4068550,4068560,4069148,4069838,4069840,4070327,4071231,4071604,4071842,4072288,4072364,4072602,4072705,4072774,4073404,4073419,4073958,4074612,4074684,4074807,4076081,4076096,4076121,4076686,4076931,4076999,4077039,4077199,4077221,4077238,4077298,4078430,4078456,4078459,4078547,4078767,4079105,4079155,4079388,4079553,4079656,4079810,4079963,4080099,4080105,4080167,4080230,4080272,4080337,4080353,4080383,4080513,4080535,4080640,4080655,4080814,4081017,4081037,4081038,4081165,4081252,4081264,4081371,4081460,4081518,4081671,4081875,4082114,4082168,8300273,8502184,8503585,8504846,8505150,8505152,8506251,8506255,8506339,8506398,8506615,8507045,8507070,8507074,8507080,8507124,8507204,8507210,8507273,8507336,8507380,10200083,10201956,13500017',authuser:0,kscs:'c9c918f0_24'};google.kHL='en';})();(function(){google.lc=[];google.li=0;google.getEI=function(a){for(var b;a&&(!a.getAttribute||!(b=a.getAttribute(\"eid\")));)a=a.parentNode;return b||google.kEI};google.getLEI=function(a){for(var b=null;a&&(!a.getAttribute||!(b=a.getAttribute(\"leid\")));)a=a.parentNode;return b};google.https=function(){return\"https:\"==window.location.protocol};google.ml=function(){return null};google.wl=function(a,b){try{google.ml(Error(a),!1,b)}catch(c){}};google.time=function(){return(new Date).getTime()};google.log=function(a,b,c,e,g){a=google.logUrl(a,b,c,e,g);if(\"\"!=a){b=new Image;var d=google.lc,f=google.li;d[f]=b;b.onerror=b.onload=b.onabort=function(){delete d[f]};window.google&&window.google.vel&&window.google.vel.lu&&window.google.vel.lu(a);b.src=a;google.li=f+1}};google.logUrl=function(a,b,c,e,g){var d=\"\",f=google.ls||\"\";if(!c&&-1==b.search(\"&ei=\")){var h=google.getEI(e),d=\"&ei=\"+h;-1==b.search(\"&lei=\")&&((e=google.getLEI(e))?d+=\"&lei=\"+e:h!=google.kEI&&(d+=\"&lei=\"+google.kEI))}a=c||\"/\"+(g||\"gen_204\")+\"?atyp=i&ct=\"+a+\"&cad=\"+b+d+f+\"&zx=\"+google.time();/^http:/i.test(a)&&google.https()&&(google.ml(Error(\"a\"),!1,{src:a,glmm:1}),a=\"\");return a};google.y={};google.x=function(a,b){google.y[a.id]=[a,b];return!1};google.lq=[];google.load=function(a,b,c){google.lq.push([[a],b,c])};google.loadAll=function(a,b){google.lq.push([a,b])};})();(function(){var b=[function(){google.c&&google.tick(\"load\",\"dcl\")}];google.dcl=!1;google.dclc=function(a){google.dcl?a():b.push(a)};function c(){if(!google.dcl){google.dcl=!0;for(var a;a=b.shift();)a()}}window.addEventListener?(document.addEventListener(\"DOMContentLoaded\",c,!1),window.addEventListener(\"load\",c,!1)):window.attachEvent&&window.attachEvent(\"onload\",c);})();\n",
      "  </script>\n",
      "  <script type=\"text/javascript\">\n",
      "   (function(){try{var e=this;var aa=function(a,b,c,d){d=d||{};d._sn=[\"cfg\",b,c].join(\".\");window.gbar.logger.ml(a,d)};var h=window.gbar=window.gbar||{},k=window.gbar.i=window.gbar.i||{},ba;function _tvn(a,b){var c=parseInt(a,10);return isNaN(c)?b:c}function _tvf(a,b){var c=parseFloat(a);return isNaN(c)?b:c}function _tvv(a){return!!a}function p(a,b,c){(c||h)[a]=b}h.bv={n:_tvn(\"2\",0),r:\"\",f:\".66.41.\",e:\"1300102,3700325,3700389,3700400\",m:_tvn(\"1\",1)}; function ca(a,b,c){var d=\"on\"+b;if(a.addEventListener)a.addEventListener(b,c,!1);else if(a.attachEvent)a.attachEvent(d,c);else{var f=a[d];a[d]=function(){var a=f.apply(this,arguments),b=c.apply(this,arguments);return void 0==a?b:void 0==b?a:b&&a}}}var da=function(a){return function(){return h.bv.m==a}},ea=da(1),fa=da(2);p(\"sb\",ea);p(\"kn\",fa);k.a=_tvv;k.b=_tvf;k.c=_tvn;k.i=aa;var q=window.gbar.i.i;var t=function(){},u=function(){},ia=function(a){var b=new Image,c=ga;b.onerror=b.onload=b.onabort=function(){try{delete ha[c]}catch(d){}};ha[c]=b;b.src=a;ga=c+1},ha=[],ga=0;p(\"logger\",{il:u,ml:t,log:ia});var v=window.gbar.logger;var y={},ja={},A=[],ka=k.b(\"0.1\",.1),la=k.a(\"1\",!0),ma=function(a,b){A.push([a,b])},na=function(a,b){y[a]=b},oa=function(a){return a in y},B={},C=function(a,b){B[a]||(B[a]=[]);B[a].push(b)},D=function(a){C(\"m\",a)},pa=function(a,b){var c=document.createElement(\"script\");c.src=a;c.async=la;Math.random()<ka&&(c.onerror=function(){c.onerror=null;t(Error(\"Bundle load failed: name=\"+(b||\"UNK\")+\" url=\"+a))});(document.getElementById(\"xjsc\")||document.getElementsByTagName(\"body\")[0]|| document.getElementsByTagName(\"head\")[0]).appendChild(c)},F=function(a){for(var b=0,c;(c=A[b])&&c[0]!=a;++b);!c||c[1].l||c[1].s||(c[1].s=!0,qa(2,a),c[1].url&&pa(c[1].url,a),c[1].libs&&E&&E(c[1].libs))},ra=function(a){C(\"gc\",a)},sa=null,ta=function(a){sa=a},qa=function(a,b,c){if(sa){a={t:a,b:b};if(c)for(var d in c)a[d]=c[d];try{sa(a)}catch(f){}}};p(\"mdc\",y);p(\"mdi\",ja);p(\"bnc\",A);p(\"qGC\",ra);p(\"qm\",D);p(\"qd\",B);p(\"lb\",F);p(\"mcf\",na);p(\"bcf\",ma);p(\"aq\",C);p(\"mdd\",\"\"); p(\"has\",oa);p(\"trh\",ta);p(\"tev\",qa);if(k.a(\"1\")){var ua=k.a(\"1\"),va=k.a(\"\"),wa=k.a(\"\"),xa=window.gapi={},ya=function(a,b){var c=function(){h.dgl(a,b)};ua?D(c):(C(\"gl\",c),F(\"gl\"))},za={},Aa=function(a){a=a.split(\":\");for(var b;(b=a.pop())&&za[b];);return!b},E=function(a){function b(){for(var b=a.split(\":\"),d=0,f;f=b[d];++d)za[f]=1;for(b=0;d=A[b];++b)d=d[1],(f=d.libs)&&!d.l&&d.i&&Aa(f)&&d.i()}h.dgl(a,b)},H=window.___jsl={};H.h=\"m;/_/scs/abc-static/_/js/k=gapi.gapi.en.7oVtUiQEjBQ.O/m=__features__/rt=j/d=1/rs=AHpOoo_fXT30ofkY5Dx9fPN7DPCKQYvAAQ\";H.ms=\"https://apis.google.com\"; H.m=\"\";H.l=[];ua||A.push([\"gl\",{url:\"//ssl.gstatic.com/gb/js/abc/glm_e7bb39a7e1a24581ff4f8d199678b1b9.js\"}]);var Ba={pu:va,sh:\"\",si:wa,hl:\"en\"};y.gl=Ba;p(\"load\",ya,xa);p(\"dgl\",ya);p(\"agl\",Aa);k.o=ua};var Ca=k.b(\"0.1\",.001),Da=0; function _mlToken(a,b){try{if(1>Da){Da++;var c,d=a,f=b||{},g=encodeURIComponent,l=[\"//www.google.com/gen_204?atyp=i&zx=\",(new Date).getTime(),\"&jexpid=\",g(\"28834\"),\"&srcpg=\",g(\"prop=1\"),\"&jsr=\",Math.round(1/Ca),\"&ogev=\",g(\"I_L_V7jIOYnZ-wHEtLOADA\"),\"&ogf=\",h.bv.f,\"&ogrp=\",g(\"1\"),\"&ogv=\",g(\"1476066396.0\"),\"&oggv=\"+g(\"es_plusone_gc_20161006.0_p0\"),\"&ogd=\",g(\"com\"),\"&ogc=\",g(\"USA\"),\"&ogl=\",g(\"en\")];f._sn&&(f._sn= \"og.\"+f._sn);for(var n in f)l.push(\"&\"),l.push(g(n)),l.push(\"=\"),l.push(g(f[n]));l.push(\"&emsg=\");l.push(g(d.name+\":\"+d.message));var m=l.join(\"\");Ea(m)&&(m=m.substr(0,2E3));c=m;var r=window.gbar.logger._aem(a,c);ia(r)}}catch(z){}}var Ea=function(a){return 2E3<=a.length},Fa=function(a,b){return b};function Ga(a){t=a;p(\"_itl\",Ea,v);p(\"_aem\",Fa,v);p(\"ml\",t,v);a={};y.er=a}k.a(\"\")?Ga(function(a){throw a;}):k.a(\"1\")&&Math.random()<Ca&&Ga(_mlToken);var _E=\"left\",Ha=k.a(\"\"),J=function(a,b){var c=a.className;I(a,b)||(a.className+=(\"\"!=c?\" \":\"\")+b)},K=function(a,b){var c=a.className,d=new RegExp(\"\\\\s?\\\\b\"+b+\"\\\\b\");c&&c.match(d)&&(a.className=c.replace(d,\"\"))},I=function(a,b){var c=new RegExp(\"\\\\b\"+b+\"\\\\b\"),d=a.className;return!(!d||!d.match(c))},Ia=function(a,b){I(a,b)?K(a,b):J(a,b)},Ja=function(a,b){a[b]=function(c){var d=arguments;h.qm(function(){a[b].apply(this,d)})}},Ka=function(a){a=[\"//www.gstatic.com\", \"/og/_/js/d=1/k=\",\"og.og2.en_US.5GdZkFfW974.O\",\"/rt=j/m=\",a,\"/rs=\",\"AA2YrTvoYEywEgOlIXNj5qfXUsEKpzh87A\"];Ha&&a.push(\"?host=www.gstatic.com&bust=og.og2.en_US.DQydnUMOqeA.DU\");a=a.join(\"\");pa(a)};p(\"ca\",J);p(\"cr\",K);p(\"cc\",I);k.k=J;k.l=K;k.m=I;k.n=Ia;k.p=Ka;k.q=Ja;var La=[\"gb_71\",\"gb_155\"],Ma;function Na(a){Ma=a}function Oa(a){var b=Ma&&!a.href.match(/.*\\/accounts\\/ClearSID[?]/)&&encodeURIComponent(Ma());b&&(a.href=a.href.replace(/([?&]continue=)[^&]*/,\"$1\"+b))}function Pa(a){window.gApplication&&(a.href=window.gApplication.getTabUrl(a.href))}function Qa(a){try{var b=(document.forms[0].q||\"\").value;b&&(a.href=a.href.replace(/([?&])q=[^&]*|$/,function(a,d){return(d||\"&\")+\"q=\"+encodeURIComponent(b)}))}catch(c){q(c,\"sb\",\"pq\")}} var Ra=function(){for(var a=[],b=0,c;c=La[b];++b)(c=document.getElementById(c))&&a.push(c);return a},Sa=function(){var a=Ra();return 0<a.length?a[0]:null},Ta=function(){return document.getElementById(\"gb_70\")},L={},M={},Ua={},N={},O=void 0,Za=function(a,b){try{var c=document.getElementById(\"gb\");J(c,\"gbpdjs\");P();Va(document.getElementById(\"gb\"))&&J(c,\"gbrtl\");if(b&&b.getAttribute){var d=b.getAttribute(\"aria-owns\");if(d.length){var f=document.getElementById(d);if(f){var g=b.parentNode;if(O==d)O=void 0, K(g,\"gbto\");else{if(O){var l=document.getElementById(O);if(l&&l.getAttribute){var n=l.getAttribute(\"aria-owner\");if(n.length){var m=document.getElementById(n);m&&m.parentNode&&K(m.parentNode,\"gbto\")}}}Wa(f)&&Xa(f);O=d;J(g,\"gbto\")}}}}D(function(){h.tg(a,b,!0)});Ya(a)}catch(r){q(r,\"sb\",\"tg\")}},$a=function(a){D(function(){h.close(a)})},ab=function(a){D(function(){h.rdd(a)})},Va=function(a){var b,c=document.defaultView;c&&c.getComputedStyle?(a=c.getComputedStyle(a,\"\"))&&(b=a.direction):b=a.currentStyle? a.currentStyle.direction:a.style.direction;return\"rtl\"==b},cb=function(a,b,c){if(a)try{var d=document.getElementById(\"gbd5\");if(d){var f=d.firstChild,g=f.firstChild,l=document.createElement(\"li\");l.className=b+\" gbmtc\";l.id=c;a.className=\"gbmt\";l.appendChild(a);if(g.hasChildNodes()){c=[[\"gbkc\"],[\"gbf\",\"gbe\",\"gbn\"],[\"gbkp\"],[\"gbnd\"]];for(var d=0,n=g.childNodes.length,f=!1,m=-1,r=0,z;z=c[r];r++){for(var T=0,G;G=z[T];T++){for(;d<n&&I(g.childNodes[d],G);)d++;if(G==b){g.insertBefore(l,g.childNodes[d]|| null);f=!0;break}}if(f){if(d+1<g.childNodes.length){var U=g.childNodes[d+1];I(U.firstChild,\"gbmh\")||bb(U,z)||(m=d+1)}else if(0<=d-1){var V=g.childNodes[d-1];I(V.firstChild,\"gbmh\")||bb(V,z)||(m=d)}break}0<d&&d+1<n&&d++}if(0<=m){var w=document.createElement(\"li\"),x=document.createElement(\"div\");w.className=\"gbmtc\";x.className=\"gbmt gbmh\";w.appendChild(x);g.insertBefore(w,g.childNodes[m])}h.addHover&&h.addHover(a)}else g.appendChild(l)}}catch(Ab){q(Ab,\"sb\",\"al\")}},bb=function(a,b){for(var c=b.length, d=0;d<c;d++)if(I(a,b[d]))return!0;return!1},db=function(a,b,c){cb(a,b,c)},eb=function(a,b){cb(a,\"gbe\",b)},fb=function(){D(function(){h.pcm&&h.pcm()})},gb=function(){D(function(){h.pca&&h.pca()})},hb=function(a,b,c,d,f,g,l,n,m,r){D(function(){h.paa&&h.paa(a,b,c,d,f,g,l,n,m,r)})},ib=function(a,b){L[a]||(L[a]=[]);L[a].push(b)},jb=function(a,b){M[a]||(M[a]=[]);M[a].push(b)},kb=function(a,b){Ua[a]=b},lb=function(a,b){N[a]||(N[a]=[]);N[a].push(b)},Ya=function(a){a.preventDefault&&a.preventDefault();a.returnValue= !1;a.cancelBubble=!0},mb=null,Xa=function(a,b){P();if(a){nb(a,\"Opening&hellip;\");Q(a,!0);var c=\"undefined\"!=typeof b?b:1E4,d=function(){ob(a)};mb=window.setTimeout(d,c)}},pb=function(a){P();a&&(Q(a,!1),nb(a,\"\"))},ob=function(a){try{P();var b=a||document.getElementById(O);b&&(nb(b,\"This service is currently unavailable.%1$sPlease try again later.\",\"%1$s\"),Q(b,!0))}catch(c){q(c,\"sb\",\"sdhe\")}},nb=function(a,b,c){if(a&&b){var d=Wa(a);if(d){if(c){d.innerHTML=\"\";b=b.split(c);c=0;for(var f;f=b[c];c++){var g=document.createElement(\"div\"); g.innerHTML=f;d.appendChild(g)}}else d.innerHTML=b;Q(a,!0)}}},Q=function(a,b){var c=void 0!==b?b:!0;c?J(a,\"gbmsgo\"):K(a,\"gbmsgo\")},Wa=function(a){for(var b=0,c;c=a.childNodes[b];b++)if(I(c,\"gbmsg\"))return c},P=function(){mb&&window.clearTimeout(mb)},qb=function(a){var b=\"inner\"+a;a=\"offset\"+a;return window[b]?window[b]:document.documentElement&&document.documentElement[a]?document.documentElement[a]:0},rb=function(){return!1},sb=function(){return!!O};p(\"so\",Sa);p(\"sos\",Ra);p(\"si\",Ta);p(\"tg\",Za); p(\"close\",$a);p(\"rdd\",ab);p(\"addLink\",db);p(\"addExtraLink\",eb);p(\"pcm\",fb);p(\"pca\",gb);p(\"paa\",hb);p(\"ddld\",Xa);p(\"ddrd\",pb);p(\"dderr\",ob);p(\"rtl\",Va);p(\"op\",sb);p(\"bh\",L);p(\"abh\",ib);p(\"dh\",M);p(\"adh\",jb);p(\"ch\",N);p(\"ach\",lb);p(\"eh\",Ua);p(\"aeh\",kb);ba=k.a(\"\")?Pa:Qa;p(\"qs\",ba);p(\"setContinueCb\",Na);p(\"pc\",Oa);p(\"bsy\",rb);k.d=Ya;k.j=qb;var tb={};y.base=tb;A.push([\"m\",{url:\"//ssl.gstatic.com/gb/js/sem_28ccd69532c2390ae661f0e31ef881fd.js\"}]);h.sg={c:\"1\"};p(\"wg\",{rg:{}});var ub={tiw:k.c(\"15000\",0),tie:k.c(\"30000\",0)};y.wg=ub;var vb={thi:k.c(\"10000\",0),thp:k.c(\"180000\",0),tho:k.c(\"5000\",0),tet:k.b(\"0.5\",0)};y.wm=vb;if(k.a(\"1\")){var wb=k.a(\"\");A.push([\"gc\",{auto:wb,url:\"//ssl.gstatic.com/gb/js/abc/gci_91f30755d6a6b787dcc2a4062e6e9824.js\",libs:\"googleapis.client:plusone:gapi.iframes\"}]);var xb={version:\"gci_91f30755d6a6b787dcc2a4062e6e9824.js\",index:\"\",lang:\"en\"};y.gc=xb;var yb=function(a){window.googleapis&&window.iframes?a&&a():(a&&ra(a),F(\"gc\"))};p(\"lGC\",yb);k.a(\"1\")&&p(\"lPWF\",yb)};window.__PVT=\"\";if(k.a(\"1\")&&k.a(\"1\")){var zb=function(a){yb(function(){C(\"pw\",a);F(\"pw\")})};p(\"lPW\",zb);A.push([\"pw\",{url:\"//ssl.gstatic.com/gb/js/abc/pwm_45f73e4df07a0e388b0fa1f3d30e7280.js\"}]);var Bb=[],Cb=function(a){Bb[0]=a},Db=function(a,b){var c=b||{};c._sn=\"pw\";t(a,c)},Eb={signed:Bb,elog:Db,base:\"https://plusone.google.com/u/0\",loadTime:(new Date).getTime()};y.pw=Eb;var Fb=function(a,b){for(var c=b.split(\".\"),d=function(){var b=arguments;a(function(){for(var a=h,d=0,f=c.length-1;d<f;++d)a=a[c[d]];a[c[d]].apply(a,b)})},f=h,g=0,l=c.length-1;g< l;++g)f=f[c[g]]=f[c[g]]||{};return f[c[g]]=d};Fb(zb,\"pw.clk\");Fb(zb,\"pw.hvr\");p(\"su\",Cb,h.pw)};var Gb=[1,2,3,4,5,6,9,10,11,13,14,28,29,30,34,35,37,38,39,40,41,42,43,48,49,500];var Hb=k.b(\"0.001\",1E-4),Ib=k.b(\"1\",1),Jb=!1,Kb=!1;if(k.a(\"1\")){var Lb=Math.random();Lb<Hb&&(Jb=!0);Lb<Ib&&(Kb=!0)}var R=null; function Mb(a,b){var c=Hb,d=Jb,f;f=a;if(!R){R={};for(var g=0;g<Gb.length;g++){var l=Gb[g];R[l]=!0}}if(f=!!R[f])c=Ib,d=Kb;if(d){var d=encodeURIComponent,n=\"es_plusone_gc_20161006.0_p0\",m;h.rp?(m=h.rp(),m=\"-1\"!=m?m:\"1\"):m=\"1\";f=(new Date).getTime();var g=d(\"28834\"),l=d(\"I_L_V7jIOYnZ-wHEtLOADA\"),r=h.bv.f,z=d(\"1\");m=d(m);var c=Math.round(1/c),T=d(\"1476066396.0\"),n=n?\"&oggv=\"+d(n):\"\",G=d(\"com\"),U=d(\"en\"), V=d(\"USA\"),w;w=0;k.a(\"\")&&(w|=1);k.a(\"\")&&(w|=2);k.a(\"\")&&(w|=4);f=[\"//www.google.com/gen_204?atyp=i&zx=\",f,\"&oge=\",a,\"&ogex=\",g,\"&ogev=\",l,\"&ogf=\",r,\"&ogp=\",z,\"&ogrp=\",m,\"&ogsr=\",c,\"&ogv=\",T,n,\"&ogd=\",G,\"&ogl=\",U,\"&ogc=\",V,\"&ogus=\",w];if(b){\"ogw\"in b&&(f.push(\"&ogw=\"+b.ogw),delete b.ogw);var x,g=b,l=[];for(x in g)0!=l.length&&l.push(\",\"),l.push(Nb(x)),l.push(\".\"),l.push(Nb(g[x]));x=l.join(\"\");\"\"!=x&&(f.push(\"&ogad=\"),f.push(d(x)))}ia(f.join(\"\"))}} function Nb(a){\"number\"==typeof a&&(a+=\"\");return\"string\"==typeof a?a.replace(\".\",\"%2E\").replace(\",\",\"%2C\"):a}u=Mb;p(\"il\",u,v);var Ob={};y.il=Ob;var Pb=function(a,b,c,d,f,g,l,n,m,r){D(function(){h.paa(a,b,c,d,f,g,l,n,m,r)})},Qb=function(){D(function(){h.prm()})},Rb=function(a){D(function(){h.spn(a)})},Sb=function(a){D(function(){h.sps(a)})},Tb=function(a){D(function(){h.spp(a)})},Ub={\"27\":\"//ssl.gstatic.com/gb/images/silhouette_24.png\",\"27\":\"//ssl.gstatic.com/gb/images/silhouette_24.png\",\"27\":\"//ssl.gstatic.com/gb/images/silhouette_24.png\"},Vb=function(a){return(a=Ub[a])||\"//ssl.gstatic.com/gb/images/silhouette_24.png\"}, Wb=function(){D(function(){h.spd()})};p(\"spn\",Rb);p(\"spp\",Tb);p(\"sps\",Sb);p(\"spd\",Wb);p(\"paa\",Pb);p(\"prm\",Qb);ib(\"gbd4\",Qb); if(k.a(\"\")){var Xb={d:k.a(\"\"),e:\"\",sanw:k.a(\"\"),p:\"//ssl.gstatic.com/gb/images/silhouette_96.png\",cp:\"1\",xp:k.a(\"1\"),mg:\"%1$s (delegated)\",md:\"%1$s (default)\",mh:\"220\",s:\"1\",pp:Vb,ppl:k.a(\"\"),ppa:k.a(\"\"), ppm:\"Google+ page\"};y.prf=Xb};var S,Yb,W,Zb,X=0,$b=function(a,b,c){if(a.indexOf)return a.indexOf(b,c);if(Array.indexOf)return Array.indexOf(a,b,c);for(c=null==c?0:0>c?Math.max(0,a.length+c):c;c<a.length;c++)if(c in a&&a[c]===b)return c;return-1},Y=function(a,b){return-1==$b(a,X)?(q(Error(X+\"_\"+b),\"up\",\"caa\"),!1):!0},bc=function(a,b){Y([1,2],\"r\")&&(S[a]=S[a]||[],S[a].push(b),2==X&&window.setTimeout(function(){b(ac(a))},0))},cc=function(a,b,c){if(Y([1],\"nap\")&&c){for(var d=0;d<c.length;d++)Yb[c[d]]=!0;h.up.spl(a,b,\"nap\",c)}},dc= function(a,b,c){if(Y([1],\"aop\")&&c){if(W)for(var d in W)W[d]=W[d]&&-1!=$b(c,d);else for(W={},d=0;d<c.length;d++)W[c[d]]=!0;h.up.spl(a,b,\"aop\",c)}},ec=function(){try{if(X=2,!Zb){Zb=!0;for(var a in S)for(var b=S[a],c=0;c<b.length;c++)try{b[c](ac(a))}catch(d){q(d,\"up\",\"tp\")}}}catch(d){q(d,\"up\",\"mtp\")}},ac=function(a){if(Y([2],\"ssp\")){var b=!Yb[a];W&&(b=b&&!!W[a]);return b}};Zb=!1;S={};Yb={};W=null; var X=1,fc=function(a){var b=!1;try{b=a.cookie&&a.cookie.match(\"PREF\")}catch(c){}return!b},gc=function(){try{return!!e.localStorage&&\"object\"==typeof e.localStorage}catch(a){return!1}},hc=function(a){return a&&a.style&&a.style.behavior&&\"undefined\"!=typeof a.load},ic=function(a,b,c,d){try{fc(document)||(d||(b=\"og-up-\"+b),gc()?e.localStorage.setItem(b,c):hc(a)&&(a.setAttribute(b,c),a.save(a.id)))}catch(f){f.code!=DOMException.QUOTA_EXCEEDED_ERR&&q(f,\"up\",\"spd\")}},jc=function(a,b,c){try{if(fc(document))return\"\"; c||(b=\"og-up-\"+b);if(gc())return e.localStorage.getItem(b);if(hc(a))return a.load(a.id),a.getAttribute(b)}catch(d){d.code!=DOMException.QUOTA_EXCEEDED_ERR&&q(d,\"up\",\"gpd\")}return\"\"},kc=function(a,b,c){a.addEventListener?a.addEventListener(b,c,!1):a.attachEvent&&a.attachEvent(\"on\"+b,c)},lc=function(a){for(var b=0,c;c=a[b];b++){var d=h.up;c=c in d&&d[c];if(!c)return!1}return!0},mc=function(a,b){try{if(fc(a))return-1;var c=a.cookie.match(/OGPC=([^;]*)/);if(c&&c[1]){var d=c[1].match(new RegExp(\"\\\\b\"+ b+\"-([0-9]+):\"));if(d&&d[1])return parseInt(d[1],10)}}catch(f){f.code!=DOMException.QUOTA_EXCEEDED_ERR&&q(f,\"up\",\"gcc\")}return-1};p(\"up\",{r:bc,nap:cc,aop:dc,tp:ec,ssp:ac,spd:ic,gpd:jc,aeh:kc,aal:lc,gcc:mc});var Z=function(a,b){a[b]=function(c){var d=arguments;h.qm(function(){a[b].apply(this,d)})}};Z(h.up,\"sl\");Z(h.up,\"si\");Z(h.up,\"spl\");Z(h.up,\"dpc\");Z(h.up,\"iic\");h.mcf(\"up\",{sp:k.b(\"0.01\",1),tld:\"com\",prid:\"1\"});function nc(){function a(){for(var b;(b=g[l++])&&\"m\"!=b[0]&&!b[1].auto;);b&&(qa(2,b[0]),b[1].url&&pa(b[1].url,b[0]),b[1].libs&&E&&E(b[1].libs));l<g.length&&setTimeout(a,0)}function b(){0<f--?setTimeout(b,0):a()}var c=k.a(\"1\"),d=k.a(\"\"),f=3,g=A,l=0,n=window.gbarOnReady;if(n)try{n()}catch(m){q(m,\"ml\",\"or\")}d?p(\"ldb\",a):c?ca(window,\"load\",b):b()}p(\"rdl\",nc);}catch(e){window.gbar&&gbar.logger&&gbar.logger.ml(e,{\"_sn\":\"cfg.init\"});}})(); (function(){try{var b=window.gbar;var d=function(a,c){b[a]=function(){return window.navigator&&window.navigator.userAgent?c(window.navigator.userAgent):!1}},e=function(a){return!(/AppleWebKit\\/.+(?:Version\\/[35]\\.|Chrome\\/[01]\\.)/.test(a)||-1!=a.indexOf(\"Firefox/3.5.\"))};d(\"bs_w\",e);}catch(e){window.gbar&&gbar.logger&&gbar.logger.ml(e,{\"_sn\":\"cfg.init\"});}})(); (function(){try{var a=window.gbar;a.mcf(\"pm\",{p:\"19000096,8QJ,7,,\"});}catch(e){window.gbar&&gbar.logger&&gbar.logger.ml(e,{\"_sn\":\"cfg.init\"});}})(); (function(){try{var a=window.gbar;a.mcf(\"mm\",{s:\"1\"});}catch(e){window.gbar&&gbar.logger&&gbar.logger.ml(e,{\"_sn\":\"cfg.init\"});}})(); (function(){try{var d=window.gbar.i.i;var e=window.gbar;var f=e.i;var g=f.c(\"1\",0),h=/\\bgbmt\\b/,k=function(a){try{var b=document.getElementById(\"gb_\"+g),c=document.getElementById(\"gb_\"+a);b&&f.l(b,h.test(b.className)?\"gbm0l\":\"gbz0l\");c&&f.k(c,h.test(c.className)?\"gbm0l\":\"gbz0l\")}catch(l){d(l,\"sj\",\"ssp\")}g=a},m=e.qs,n=function(a){var b;b=a.href;var c=window.location.href.match(/.*?:\\/\\/[^\\/]*/)[0],c=new RegExp(\"^\"+c+\"/search\\\\?\");(b=c.test(b))&&!/(^|\\\\?|&)ei=/.test(a.href)&&(b=window.google)&&b.kEXPI&&(a.href+=\"&ei=\"+b.kEI)},p=function(a){m(a); n(a)},q=function(){if(window.google&&window.google.sn){var a=/.*hp$/;return a.test(window.google.sn)?\"\":\"1\"}return\"-1\"};e.rp=q;e.slp=k;e.qs=p;e.qsi=n;}catch(e){window.gbar&&gbar.logger&&gbar.logger.ml(e,{\"_sn\":\"cfg.init\"});}})(); (function(){try{var a=this;var b=window.gbar;var c=b.i;var d=c.a,e=c.c,f={cty:\"USA\",cv:\"1476066396\",dbg:d(\"\"),ecv:\"0\",ei:e(\"I_L_V7jIOYnZ-wHEtLOADA\"),ele:d(\"1\"),esr:e(\"0.1\"),evts:[\"mousedown\",\"touchstart\",\"touchmove\",\"wheel\",\"keydown\"],gbl:\"es_plusone_gc_20161006.0_p0\",hd:\"com\",hl:\"en\",irp:d(\"1\"),pid:e(\"1\"), snid:e(\"28834\"),to:e(\"300000\"),u:e(\"\"),vf:\".66.41.\"},g=f,h=[\"bndcfg\"],k=a;h[0]in k||!k.execScript||k.execScript(\"var \"+h[0]);for(var l;h.length&&(l=h.shift());)h.length||void 0===g?k=k[l]?k[l]:k[l]={}:k[l]=g;}catch(e){window.gbar&&gbar.logger&&gbar.logger.ml(e,{\"_sn\":\"cfg.init\"});}})(); (function(){try{window.gbar.rdl();}catch(e){window.gbar&&gbar.logger&&gbar.logger.ml(e,{\"_sn\":\"cfg.init\"});}})();\n",
      "  </script>\n",
      "  <script>\n",
      "   (function(){var a=function(f){for(var g=f.parentElement,d=null,e=0;e<g.childNodes.length;e++){var h=g.childNodes[e];-1<(\" \"+h.className+\" \").indexOf(\" am-dropdown-menu \")&&(d=h)}\"none\"==d.style.display?(d.style.display=\"\",google.log(\"hpam\",\"&ved=\"+f.getAttribute(\"data-ved\"))):d.style.display=\"none\"},b=[\"google\",\"sham\"],c=this;b[0]in c||!c.execScript||c.execScript(\"var \"+b[0]);for(var k;b.length&&(k=b.shift());)b.length||void 0===a?c[k]?c=c[k]:c=c[k]={}:c[k]=a;}).call(window);\n",
      "  </script>\n",
      "  <style type=\"text/css\">\n",
      "   .gsib_a{width:100%;padding:4px 6px 0}.gsib_a,.gsib_b{vertical-align:top}.gssb_c{border:0;position:absolute;z-index:989}.gssb_e{border:1px solid #ccc;border-top-color:#d9d9d9;box-shadow:0 2px 4px rgba(0,0,0,0.2);-webkit-box-shadow:0 2px 4px rgba(0,0,0,0.2);cursor:default}.gssb_f{visibility:hidden;white-space:nowrap}.gssb_k{border:0;display:block;position:absolute;top:0;z-index:988}.gsdd_a{border:none!important}.gsmq_a{padding:0}a.gspqs_a{padding:0 3px 0 8px}.gspqs_b{color:#666;line-height:22px}.gsls_a{color:red}.gsn_a{padding-top:4px;padding-bottom:1px}.gsn_b{display:block;line-height:16px}.gsn_c{color:green;font-size:13px}.gsq_a{padding:0}.gssb_a{padding:0 7px}.gssb_a,.gssb_a td{white-space:nowrap;overflow:hidden;line-height:22px}#gssb_b{font-size:11px;color:#36c;text-decoration:none}#gssb_b:hover{font-size:11px;color:#36c;text-decoration:underline}.gssb_g{text-align:center;padding:8px 0 7px;position:relative}.gssb_h{font-size:15px;height:28px;margin:0.2em;-webkit-appearance:button}.gssb_i{background:#eee}.gss_ifl{visibility:hidden;padding-left:5px}.gssb_i .gss_ifl{visibility:visible}a.gssb_j{font-size:13px;color:#36c;text-decoration:none;line-height:100%}a.gssb_j:hover{text-decoration:underline}.gssb_l{height:1px;background-color:#e5e5e5}.gssb_m{color:#000;background:#fff}a.gspqs_a{padding-left:0}.gssb_e{border-top:1px solid #a2bff0;border-right:1px solid #558be3;border-bottom:1px solid #558be3;border-left:1px solid #a2bff0;}.gssb_i{background:#d5e2ff}\n",
      "  </style>\n",
      " </head>\n",
      " <body bgcolor=\"#ffffff\" class=\"hsrp\" marginheight=\"0\" marginwidth=\"0\" topmargin=\"0\">\n",
      "  <div id=\"gb\">\n",
      "   <script>\n",
      "    window.gbar&&gbar.eli&&gbar.eli()\n",
      "   </script>\n",
      "   <div id=\"gbw\">\n",
      "    <div id=\"gbz\">\n",
      "     <span class=\"gbtcb\">\n",
      "     </span>\n",
      "     <ol class=\"gbtc\" id=\"gbzc\">\n",
      "      <li class=\"gbt\">\n",
      "       <a class=\"gbzt\" href=\"https://plus.google.com/?gpsrc=ogpy0&amp;tab=wX\" id=\"gb_119\" onclick=\"gbar.logger.il(1,{t:119});\">\n",
      "        <span class=\"gbtb2\">\n",
      "        </span>\n",
      "        <span class=\"gbts\">\n",
      "         Google+\n",
      "        </span>\n",
      "       </a>\n",
      "      </li>\n",
      "      <li class=\"gbt\">\n",
      "       <a class=\"gbzt gbz0l gbp1\" href=\"https://www.google.com/webhp?tab=ww\" id=\"gb_1\" onclick=\"gbar.logger.il(1,{t:1});\">\n",
      "        <span class=\"gbtb2\">\n",
      "        </span>\n",
      "        <span class=\"gbts\">\n",
      "         Search\n",
      "        </span>\n",
      "       </a>\n",
      "      </li>\n",
      "      <li class=\"gbt\">\n",
      "       <a class=\"gbzt\" href=\"https://www.google.com/search?hl=en&amp;tbm=isch&amp;source=og&amp;tab=wi\" id=\"gb_2\" onclick=\"gbar.logger.il(1,{t:2});\">\n",
      "        <span class=\"gbtb2\">\n",
      "        </span>\n",
      "        <span class=\"gbts\">\n",
      "         Images\n",
      "        </span>\n",
      "       </a>\n",
      "      </li>\n",
      "      <li class=\"gbt\">\n",
      "       <a class=\"gbzt\" href=\"https://maps.google.com/maps?hl=en&amp;tab=wl\" id=\"gb_8\" onclick=\"gbar.logger.il(1,{t:8});\">\n",
      "        <span class=\"gbtb2\">\n",
      "        </span>\n",
      "        <span class=\"gbts\">\n",
      "         Maps\n",
      "        </span>\n",
      "       </a>\n",
      "      </li>\n",
      "      <li class=\"gbt\">\n",
      "       <a class=\"gbzt\" href=\"https://play.google.com/?hl=en&amp;tab=w8\" id=\"gb_78\" onclick=\"gbar.logger.il(1,{t:78});\">\n",
      "        <span class=\"gbtb2\">\n",
      "        </span>\n",
      "        <span class=\"gbts\">\n",
      "         Play\n",
      "        </span>\n",
      "       </a>\n",
      "      </li>\n",
      "      <li class=\"gbt\">\n",
      "       <a class=\"gbzt\" href=\"https://www.youtube.com/results?tab=w1\" id=\"gb_36\" onclick=\"gbar.logger.il(1,{t:36});\">\n",
      "        <span class=\"gbtb2\">\n",
      "        </span>\n",
      "        <span class=\"gbts\">\n",
      "         YouTube\n",
      "        </span>\n",
      "       </a>\n",
      "      </li>\n",
      "      <li class=\"gbt\">\n",
      "       <a class=\"gbzt\" href=\"https://news.google.com/nwshp?hl=en&amp;tab=wn\" id=\"gb_5\" onclick=\"gbar.logger.il(1,{t:5});\">\n",
      "        <span class=\"gbtb2\">\n",
      "        </span>\n",
      "        <span class=\"gbts\">\n",
      "         News\n",
      "        </span>\n",
      "       </a>\n",
      "      </li>\n",
      "      <li class=\"gbt\">\n",
      "       <a class=\"gbzt\" href=\"https://mail.google.com/mail/?tab=wm\" id=\"gb_23\" onclick=\"gbar.logger.il(1,{t:23});\">\n",
      "        <span class=\"gbtb2\">\n",
      "        </span>\n",
      "        <span class=\"gbts\">\n",
      "         Gmail\n",
      "        </span>\n",
      "       </a>\n",
      "      </li>\n",
      "      <li class=\"gbt\">\n",
      "       <a aria-haspopup=\"true\" aria-owns=\"gbd\" class=\"gbgt\" href=\"https://www.google.com/intl/en/options/\" id=\"gbztm\" onclick=\"gbar.tg(event,this)\">\n",
      "        <span class=\"gbtb2\">\n",
      "        </span>\n",
      "        <span class=\"gbts gbtsa\" id=\"gbztms\">\n",
      "         <span id=\"gbztms1\">\n",
      "          More\n",
      "         </span>\n",
      "         <span class=\"gbma\">\n",
      "         </span>\n",
      "        </span>\n",
      "       </a>\n",
      "       <div aria-owner=\"gbztm\" class=\"gbm\" id=\"gbd\">\n",
      "        <div class=\"gbmc gbsb gbsbis\" id=\"gbmmb\">\n",
      "         <ol class=\"gbmcc gbsbic\" id=\"gbmm\">\n",
      "          <li class=\"gbmtc\">\n",
      "           <a class=\"gbmt\" href=\"https://drive.google.com/?tab=wo\" id=\"gb_49\" onclick=\"gbar.logger.il(1,{t:49});\">\n",
      "            Drive\n",
      "           </a>\n",
      "          </li>\n",
      "          <li class=\"gbmtc\">\n",
      "           <a class=\"gbmt\" href=\"https://www.google.com/calendar?tab=wc\" id=\"gb_24\" onclick=\"gbar.logger.il(1,{t:24});\">\n",
      "            Calendar\n",
      "           </a>\n",
      "          </li>\n",
      "          <li class=\"gbmtc\">\n",
      "           <a class=\"gbmt\" href=\"https://translate.google.com/?hl=en&amp;tab=wT\" id=\"gb_51\" onclick=\"gbar.logger.il(1,{t:51});\">\n",
      "            Translate\n",
      "           </a>\n",
      "          </li>\n",
      "          <li class=\"gbmtc\">\n",
      "           <a class=\"gbmt\" href=\"http://www.google.com/mobile/?hl=en&amp;tab=wD\" id=\"gb_17\" onclick=\"gbar.logger.il(1,{t:17});\">\n",
      "            Mobile\n",
      "           </a>\n",
      "          </li>\n",
      "          <li class=\"gbmtc\">\n",
      "           <a class=\"gbmt\" href=\"https://www.google.com/search?hl=en&amp;tbo=u&amp;tbm=bks&amp;source=og&amp;tab=wp\" id=\"gb_10\" onclick=\"gbar.logger.il(1,{t:10});\">\n",
      "            Books\n",
      "           </a>\n",
      "          </li>\n",
      "          <li class=\"gbmtc\">\n",
      "           <a class=\"gbmt\" href=\"https://wallet.google.com/manage/?tab=wa\" id=\"gb_212\" onclick=\"gbar.logger.il(1,{t:212});\">\n",
      "            Wallet\n",
      "           </a>\n",
      "          </li>\n",
      "          <li class=\"gbmtc\">\n",
      "           <a class=\"gbmt\" href=\"https://www.google.com/search?hl=en&amp;tbo=u&amp;tbm=shop&amp;source=og&amp;tab=wf\" id=\"gb_6\" onclick=\"gbar.logger.il(1,{t:6});\">\n",
      "            Shopping\n",
      "           </a>\n",
      "          </li>\n",
      "          <li class=\"gbmtc\">\n",
      "           <a class=\"gbmt\" href=\"https://www.blogger.com/?tab=wj\" id=\"gb_30\" onclick=\"gbar.logger.il(1,{t:30});\">\n",
      "            Blogger\n",
      "           </a>\n",
      "          </li>\n",
      "          <li class=\"gbmtc\">\n",
      "           <a class=\"gbmt\" href=\"https://www.google.com/finance?tab=we\" id=\"gb_27\" onclick=\"gbar.logger.il(1,{t:27});\">\n",
      "            Finance\n",
      "           </a>\n",
      "          </li>\n",
      "          <li class=\"gbmtc\">\n",
      "           <a class=\"gbmt\" href=\"https://photos.google.com/?tab=wq\" id=\"gb_31\" onclick=\"gbar.logger.il(1,{t:31});\">\n",
      "            Photos\n",
      "           </a>\n",
      "          </li>\n",
      "          <li class=\"gbmtc\">\n",
      "           <a class=\"gbmt\" href=\"https://www.google.com/search?hl=en&amp;tbo=u&amp;tbm=vid&amp;source=og&amp;tab=wv\" id=\"gb_12\" onclick=\"gbar.logger.il(1,{t:12});\">\n",
      "            Videos\n",
      "           </a>\n",
      "          </li>\n",
      "          <li class=\"gbmtc\">\n",
      "           <a class=\"gbmt\" href=\"https://docs.google.com/document/?usp=docs_alc\" id=\"gb_25\" onclick=\"gbar.logger.il(1,{t:25});\">\n",
      "            Docs\n",
      "           </a>\n",
      "          </li>\n",
      "          <li class=\"gbmtc\">\n",
      "           <div class=\"gbmt gbmh\">\n",
      "           </div>\n",
      "          </li>\n",
      "          <li class=\"gbmtc\">\n",
      "           <a class=\"gbmt\" href=\"https://www.google.com/intl/en/options/\" onclick=\"gbar.logger.il(1,{t:66});\">\n",
      "            Even more »\n",
      "           </a>\n",
      "          </li>\n",
      "         </ol>\n",
      "         <div class=\"gbsbt\" style=\"opacity: 0;\">\n",
      "         </div>\n",
      "         <div class=\"gbsbb\" style=\"opacity: 0;\">\n",
      "         </div>\n",
      "        </div>\n",
      "       </div>\n",
      "      </li>\n",
      "     </ol>\n",
      "    </div>\n",
      "    <div id=\"gbg\">\n",
      "     <h2 class=\"gbxx\">\n",
      "      Account Options\n",
      "     </h2>\n",
      "     <span class=\"gbtcb\">\n",
      "     </span>\n",
      "     <ol class=\"gbtc\">\n",
      "      <li class=\"gbt\">\n",
      "       <a class=\"gbgt\" href=\"https://accounts.google.com/ServiceLogin?hl=en&amp;passive=true&amp;continue=https://www.google.com/search%3Fq%3Ddata%2Bscience\" id=\"gb_70\" onclick=\"gbar.logger.il(9,{l:'i'})\" target=\"_top\">\n",
      "        <span class=\"gbtb2\">\n",
      "        </span>\n",
      "        <span class=\"gbts\" id=\"gbgs4\">\n",
      "         <span id=\"gbi4s1\">\n",
      "          Sign in\n",
      "         </span>\n",
      "        </span>\n",
      "       </a>\n",
      "      </li>\n",
      "      <li class=\"gbt gbtb\">\n",
      "       <span class=\"gbts\">\n",
      "       </span>\n",
      "      </li>\n",
      "      <li class=\"gbt\">\n",
      "       <a aria-haspopup=\"true\" aria-owns=\"gbd5\" class=\"gbgt\" href=\"http://www.google.com/preferences?hl=en\" id=\"gbg5\" onclick=\"gbar.tg(event,this)\" title=\"Options\">\n",
      "        <span class=\"gbtb2\">\n",
      "        </span>\n",
      "        <span class=\"gbts\" id=\"gbgs5\">\n",
      "         <span id=\"gbi5\">\n",
      "         </span>\n",
      "        </span>\n",
      "       </a>\n",
      "       <div aria-owner=\"gbg5\" class=\"gbm\" id=\"gbd5\">\n",
      "        <div class=\"gbmc\">\n",
      "         <ol class=\"gbmcc\" id=\"gbom\">\n",
      "          <li class=\"gbkc gbmtc\">\n",
      "           <a class=\"gbmt\" href=\"/preferences?hl=en\">\n",
      "            Search settings\n",
      "           </a>\n",
      "          </li>\n",
      "          <li class=\"gbmtc\">\n",
      "           <div class=\"gbmt gbmh\">\n",
      "           </div>\n",
      "          </li>\n",
      "          <li class=\"gbkp gbmtc\">\n",
      "           <a class=\"gbmt\" href=\"http://www.google.com/history/optout?hl=en\">\n",
      "            Web History\n",
      "           </a>\n",
      "          </li>\n",
      "         </ol>\n",
      "        </div>\n",
      "       </div>\n",
      "      </li>\n",
      "     </ol>\n",
      "    </div>\n",
      "   </div>\n",
      "   <div id=\"gbx3\">\n",
      "   </div>\n",
      "   <div id=\"gbx4\">\n",
      "   </div>\n",
      "   <script>\n",
      "    window.gbar&&gbar.elp&&gbar.elp()\n",
      "   </script>\n",
      "  </div>\n",
      "  <table border=\"0\" cellpadding=\"0\" cellspacing=\"0\" id=\"mn\" style=\"position:relative\">\n",
      "   <tbody>\n",
      "    <tr>\n",
      "     <th width=\"132\">\n",
      "     </th>\n",
      "     <th width=\"573\">\n",
      "     </th>\n",
      "     <th width=\"278\">\n",
      "     </th>\n",
      "     <th>\n",
      "     </th>\n",
      "    </tr>\n",
      "    <tr>\n",
      "     <td class=\"sfbgg\" valign=\"top\">\n",
      "      <div id=\"logocont\">\n",
      "       <h1>\n",
      "        <a href=\"/webhp?hl=en\" id=\"logo\" style=\"background:url(/images/nav_logo229.png) no-repeat 0 -41px;height:37px;width:95px;display:block\" title=\"Go to Google Home\">\n",
      "        </a>\n",
      "       </h1>\n",
      "      </div>\n",
      "     </td>\n",
      "     <td class=\"sfbgg\" colspan=\"2\" style=\"padding-left:0px\" valign=\"top\">\n",
      "      <form action=\"/search\" id=\"tsf\" method=\"GET\" name=\"gs\" style=\"display:block;margin:0;background:none\">\n",
      "       <table border=\"0\" cellpadding=\"0\" cellspacing=\"0\" style=\"margin-top:20px;position:relative\">\n",
      "        <tbody>\n",
      "         <tr>\n",
      "          <td>\n",
      "           <div class=\"lst-a\">\n",
      "            <table cellpadding=\"0\" cellspacing=\"0\">\n",
      "             <tbody>\n",
      "              <tr>\n",
      "               <td class=\"lst-td\" valign=\"bottom\" width=\"555\">\n",
      "                <div style=\"position:relative;zoom:1\">\n",
      "                 <input autocomplete=\"off\" class=\"lst\" dir=\"ltr\" id=\"sbhost\" maxlength=\"2048\" name=\"q\" spellcheck=\"false\" style=\"outline: none;\" title=\"Search\" type=\"text\" value=\"data science\"/>\n",
      "                </div>\n",
      "               </td>\n",
      "              </tr>\n",
      "             </tbody>\n",
      "            </table>\n",
      "           </div>\n",
      "          </td>\n",
      "          <td>\n",
      "           <div class=\"ds\">\n",
      "            <div class=\"lsbb\">\n",
      "             <button class=\"lsb\" name=\"btnG\" type=\"submit\" value=\"Search\">\n",
      "              <span class=\"sbico\" style=\"background:url(/images/nav_logo229.png) no-repeat -36px -111px;height:14px;width:13px;display:block\">\n",
      "              </span>\n",
      "             </button>\n",
      "            </div>\n",
      "           </div>\n",
      "          </td>\n",
      "         </tr>\n",
      "        </tbody>\n",
      "       </table>\n",
      "       <input name=\"oq\" type=\"hidden\"/>\n",
      "       <input name=\"gs_l\" type=\"hidden\"/>\n",
      "      </form>\n",
      "     </td>\n",
      "     <td class=\"sfbgg\">\n",
      "     </td>\n",
      "    </tr>\n",
      "    <tr style=\"position:relative\">\n",
      "     <td>\n",
      "      <div style=\"border-bottom:1px solid #ebebeb;height:59px\">\n",
      "      </div>\n",
      "     </td>\n",
      "     <td colspan=\"2\">\n",
      "      <div class=\"tn\">\n",
      "       <div class=\"_UXb _Ihd _sxc _Hhd\">\n",
      "        All\n",
      "       </div>\n",
      "       <div class=\"_sxc\">\n",
      "        <a class=\"_UXb _Jhd\" href=\"/search?q=data+science&amp;prmd=ivnsb&amp;source=lnms&amp;tbm=isch&amp;sa=X&amp;ved=0ahUKEwiQmJLk0tjPAhVDcD4KHSbeCU8Q_AUIBQ\">\n",
      "         Images\n",
      "        </a>\n",
      "       </div>\n",
      "       <div class=\"_sxc\">\n",
      "        <a class=\"_UXb _Jhd\" href=\"/search?q=data+science&amp;prmd=ivnsb&amp;source=lnms&amp;tbm=vid&amp;sa=X&amp;ved=0ahUKEwiQmJLk0tjPAhVDcD4KHSbeCU8Q_AUIBg\">\n",
      "         Videos\n",
      "        </a>\n",
      "       </div>\n",
      "       <div class=\"_sxc\">\n",
      "        <a class=\"_UXb _Jhd\" href=\"/search?q=data+science&amp;prmd=ivnsb&amp;source=lnms&amp;tbm=nws&amp;sa=X&amp;ved=0ahUKEwiQmJLk0tjPAhVDcD4KHSbeCU8Q_AUIBw\">\n",
      "         News\n",
      "        </a>\n",
      "       </div>\n",
      "       <div class=\"_sxc\">\n",
      "        <a class=\"_UXb _Jhd\" href=\"/search?q=data+science&amp;prmd=ivnsb&amp;source=lnms&amp;tbm=shop&amp;sa=X&amp;ved=0ahUKEwiQmJLk0tjPAhVDcD4KHSbeCU8Q_AUICA\">\n",
      "         Shopping\n",
      "        </a>\n",
      "       </div>\n",
      "       <div class=\"_sxc\">\n",
      "        <a class=\"_UXb _Jhd\" href=\"/search?q=data+science&amp;prmd=ivnsb&amp;source=lnms&amp;tbm=bks&amp;sa=X&amp;ved=0ahUKEwiQmJLk0tjPAhVDcD4KHSbeCU8Q_AUICQ\">\n",
      "         Books\n",
      "        </a>\n",
      "       </div>\n",
      "       <div class=\"_sxc\">\n",
      "        <a class=\"_UXb _Jhd\" href=\"https://maps.google.com/maps?q=data+science&amp;um=1&amp;ie=UTF-8&amp;sa=X&amp;ved=0ahUKEwiQmJLk0tjPAhVDcD4KHSbeCU8Q_AUICg\">\n",
      "         Maps\n",
      "        </a>\n",
      "       </div>\n",
      "      </div>\n",
      "      <div style=\"border-bottom:1px solid #ebebeb;height:59px\">\n",
      "      </div>\n",
      "     </td>\n",
      "     <td>\n",
      "      <div style=\"border-bottom:1px solid #ebebeb;height:59px\">\n",
      "      </div>\n",
      "     </td>\n",
      "    </tr>\n",
      "   </tbody>\n",
      "   <tbody data-jibp=\"h\" data-jiis=\"uc\" id=\"desktop-search\">\n",
      "    <style>\n",
      "     ._Bu,._Bu a:link,._Bu a:visited,a._Bu:link,a._Bu:visited{color:#808080}._kBb{color:#61C}.ellip{overflow:hidden;text-overflow:ellipsis;white-space:nowrap}._hM{margin:0;font-weight:normal;font-size:0;line-height:0}#_Ltg ._Dtg,#_Ktg ._Dtg{float:right}#_Ltg ._hM,#_Ktg ._hM{position:relative;top:3px;right:4px}._kug{margin-bottom:23px}#_Ltg{padding:0 8px 11px}#_Ktg{margin:-10px 0 11px;padding-left:8px;padding-right:8px}#_Ltg{margin-bottom:6px}#_Ktg{padding-bottom:12px;padding-top:9px}#_Stg{padding:0 8px 18px 10px;white-space:nowrap}#_Stg ._hM{padding-bottom:13px}#_Stg ._hM{padding-top:1px}#_Stg ._Dtg{position:relative;top:2px;left:3px}.ads-ad{color:#545454}.ads-ad a{text-decoration:none}.ads-ad a:hover,.ads-ad h3 a{text-decoration:underline}.ads-visurl{font-size:15px;margin-bottom:2px}._WGk{display:inline-block;max-width:505px;overflow:hidden;text-overflow:ellipsis;vertical-align:bottom;white-space:nowrap}.ads-visurl ._mB{margin-right:7px}._Tkg{overflow:hidden;max-height:38px}._xyk{overflow:hidden;max-height:32px}.ads-ad{color:#545454;line-height:1.24}._mB{background-color:#59946b;border-radius:2px;color:#fff;display:inline-block;font-size:12px;padding:0 2px;line-height:14px;vertical-align:baseline}._MEc{margin-top:3px}\n",
      "    </style>\n",
      "    <tr>\n",
      "     <td id=\"leftnav\" valign=\"top\">\n",
      "      <div>\n",
      "       <h2 class=\"hd\">\n",
      "        Search Options\n",
      "       </h2>\n",
      "       <ul class=\"med\" id=\"tbd\">\n",
      "        <li>\n",
      "         <ul class=\"tbt\">\n",
      "          <li class=\"tbos\" id=\"qdr_\">\n",
      "           Any time\n",
      "          </li>\n",
      "          <li class=\"tbou\" id=\"qdr_h\">\n",
      "           <a class=\"q\" href=\"/search?q=data+science&amp;prmd=ivnsb&amp;source=lnt&amp;tbs=qdr:h&amp;sa=X&amp;ved=0ahUKEwiQmJLk0tjPAhVDcD4KHSbeCU8QpwUIDw\">\n",
      "            Past hour\n",
      "           </a>\n",
      "          </li>\n",
      "          <li class=\"tbou\" id=\"qdr_d\">\n",
      "           <a class=\"q\" href=\"/search?q=data+science&amp;prmd=ivnsb&amp;source=lnt&amp;tbs=qdr:d&amp;sa=X&amp;ved=0ahUKEwiQmJLk0tjPAhVDcD4KHSbeCU8QpwUIDw\">\n",
      "            Past 24 hours\n",
      "           </a>\n",
      "          </li>\n",
      "          <li class=\"tbou\" id=\"qdr_w\">\n",
      "           <a class=\"q\" href=\"/search?q=data+science&amp;prmd=ivnsb&amp;source=lnt&amp;tbs=qdr:w&amp;sa=X&amp;ved=0ahUKEwiQmJLk0tjPAhVDcD4KHSbeCU8QpwUIDw\">\n",
      "            Past week\n",
      "           </a>\n",
      "          </li>\n",
      "          <li class=\"tbou\" id=\"qdr_m\">\n",
      "           <a class=\"q\" href=\"/search?q=data+science&amp;prmd=ivnsb&amp;source=lnt&amp;tbs=qdr:m&amp;sa=X&amp;ved=0ahUKEwiQmJLk0tjPAhVDcD4KHSbeCU8QpwUIDw\">\n",
      "            Past month\n",
      "           </a>\n",
      "          </li>\n",
      "          <li class=\"tbou\" id=\"qdr_y\">\n",
      "           <a class=\"q\" href=\"/search?q=data+science&amp;prmd=ivnsb&amp;source=lnt&amp;tbs=qdr:y&amp;sa=X&amp;ved=0ahUKEwiQmJLk0tjPAhVDcD4KHSbeCU8QpwUIDw\">\n",
      "            Past year\n",
      "           </a>\n",
      "          </li>\n",
      "         </ul>\n",
      "        </li>\n",
      "        <li>\n",
      "         <ul class=\"tbt\">\n",
      "          <li class=\"tbos\" id=\"li_\">\n",
      "           All results\n",
      "          </li>\n",
      "          <li class=\"tbou\" id=\"li_1\">\n",
      "           <a class=\"q\" href=\"/search?q=data+science&amp;prmd=ivnsb&amp;source=lnt&amp;tbs=li:1&amp;sa=X&amp;ved=0ahUKEwiQmJLk0tjPAhVDcD4KHSbeCU8QpwUIDw\">\n",
      "            Verbatim\n",
      "           </a>\n",
      "          </li>\n",
      "         </ul>\n",
      "        </li>\n",
      "       </ul>\n",
      "      </div>\n",
      "     </td>\n",
      "     <td valign=\"top\">\n",
      "      <div id=\"center_col\">\n",
      "       <div class=\"sd\" id=\"resultStats\">\n",
      "        About 55,700,000 results\n",
      "       </div>\n",
      "       <div class=\"_Ak\" id=\"_Ltg\">\n",
      "        <h2 class=\"_hM\">\n",
      "        </h2>\n",
      "        <ol>\n",
      "         <li class=\"ads-ad _kug\">\n",
      "          <h3 class=\"ellip\">\n",
      "           <a href=\"http://www.google.com/aclk?sa=l&amp;ai=DChcSEwin75Xk0tjPAhXVWoYKHWbvB-AYABAA&amp;sig=AOD64_3MyAbe-dKXp8aV5SWZ6aF1we8tYg&amp;ved=0ahUKEwiQmJLk0tjPAhVDcD4KHSbeCU8Q0QwIEg&amp;adurl=\">\n",
      "            <b>\n",
      "             Data Science\n",
      "            </b>\n",
      "            - 12 Weeks - generalassemb.ly\n",
      "           </a>\n",
      "          </h3>\n",
      "          <div class=\"ads-visurl\">\n",
      "           <span class=\"_mB\">\n",
      "            Ad\n",
      "           </span>\n",
      "           <cite class=\"_WGk\">\n",
      "            www.generalassemb.ly/\n",
      "            <b>\n",
      "             Data\n",
      "            </b>\n",
      "            -\n",
      "            <b>\n",
      "             Science\n",
      "            </b>\n",
      "           </cite>\n",
      "           ‎\n",
      "           <div class=\"_nBb\">\n",
      "            <div aria-expanded=\"false\" aria-haspopup=\"true\" data-ved=\"0ahUKEwiQmJLk0tjPAhVDcD4KHSbeCU8Q7B0IEw\" onclick=\"google.sham(this);\" style=\"display:inline\" tabindex=\"0\">\n",
      "             <span class=\"_O0\">\n",
      "             </span>\n",
      "            </div>\n",
      "            <div class=\"am-dropdown-menu\" role=\"menu\" style=\"display:none\" tabindex=\"-1\">\n",
      "             <ul>\n",
      "              <li class=\"_Ykb\" style=\"margin:0\">\n",
      "               <a class=\"_Zkb\" href=\"/url?q=/settings/ads/preferences%3Fhl%3Den&amp;sa=U&amp;ved=0ahUKEwiQmJLk0tjPAhVDcD4KHSbeCU8QgRMIFQ&amp;usg=AFQjCNEAXNOZ62ka46D3FTH_48RcIwnQgw\" target=\"_blank\">\n",
      "                Why this ad?\n",
      "               </a>\n",
      "              </li>\n",
      "             </ul>\n",
      "            </div>\n",
      "           </div>\n",
      "          </div>\n",
      "          <div class=\"ads-creative ellip\">\n",
      "           Learn Python, Git, Unix &amp; More. Join Our Tech Community Today.\n",
      "          </div>\n",
      "          <div class=\"ellip\">\n",
      "           Courses: Git, UNIX, &amp; Relational Databases, Data Analysis &amp; Python…\n",
      "          </div>\n",
      "          <div>\n",
      "           2015's most innovative education company in the world‎ –\n",
      "           <a class=\"_Bu\" href=\"/url?q=http://www.fastcompany.com/3041645/most-innovative-companies-2015/the-worlds-top-10-most-innovative-companies-of-2015-in-educat&amp;sa=U&amp;ved=0ahUKEwiQmJLk0tjPAhVDcD4KHSbeCU8Q9xsIGw&amp;usg=AFQjCNGVAf_pHsAUTTfpP4GD5DlQpCwGzg\">\n",
      "            Fast Company\n",
      "           </a>\n",
      "          </div>\n",
      "          <a href=\"http://www.google.com/aclk?sa=l&amp;ai=DChcSEwin75Xk0tjPAhXVWoYKHWbvB-AYABAB&amp;sig=AOD64_3ZXfH05ddLZwNKjpgZZwQpJw16dQ&amp;ctype=50&amp;ved=0ahUKEwiQmJLk0tjPAhVDcD4KHSbeCU8QmxAIHA&amp;adurl=\">\n",
      "           902 Broadway, 4th Floor, New York, NY\n",
      "          </a>\n",
      "         </li>\n",
      "         <li class=\"ads-ad _kug\">\n",
      "          <h3 class=\"ellip\">\n",
      "           <a href=\"http://www.google.com/aclk?sa=l&amp;ai=DChcSEwin75Xk0tjPAhXVWoYKHWbvB-AYABAC&amp;sig=AOD64_00P9r7DkZFHfkKUs2RMhzMBM8dww&amp;ved=0ahUKEwiQmJLk0tjPAhVDcD4KHSbeCU8Q0QwIHg&amp;adurl=\">\n",
      "            <b>\n",
      "             Data Science\n",
      "            </b>\n",
      "            - Find Your Dream Job With Hired - hired.com\n",
      "           </a>\n",
      "          </h3>\n",
      "          <div class=\"ads-visurl\">\n",
      "           <span class=\"_mB\">\n",
      "            Ad\n",
      "           </span>\n",
      "           <cite class=\"_WGk\">\n",
      "            www.hired.com/NewYork/new-york-city\n",
      "           </cite>\n",
      "           ‎\n",
      "           <div class=\"_nBb\">\n",
      "            <div aria-expanded=\"false\" aria-haspopup=\"true\" data-ved=\"0ahUKEwiQmJLk0tjPAhVDcD4KHSbeCU8Q7B0IHw\" onclick=\"google.sham(this);\" style=\"display:inline\" tabindex=\"0\">\n",
      "             <span class=\"_O0\">\n",
      "             </span>\n",
      "            </div>\n",
      "            <div class=\"am-dropdown-menu\" role=\"menu\" style=\"display:none\" tabindex=\"-1\">\n",
      "             <ul>\n",
      "              <li class=\"_Ykb\" style=\"margin:0\">\n",
      "               <a class=\"_Zkb\" href=\"/url?q=/settings/ads/preferences%3Fhl%3Den&amp;sa=U&amp;ved=0ahUKEwiQmJLk0tjPAhVDcD4KHSbeCU8QgRMIIQ&amp;usg=AFQjCNEAXNOZ62ka46D3FTH_48RcIwnQgw\" target=\"_blank\">\n",
      "                Why this ad?\n",
      "               </a>\n",
      "              </li>\n",
      "             </ul>\n",
      "            </div>\n",
      "           </div>\n",
      "          </div>\n",
      "          <div class=\"ads-creative ellip\">\n",
      "           Don't Waste Time Job Searching. Let Tech Companies Apply to You!\n",
      "          </div>\n",
      "          <div>\n",
      "           Top Tech Companies · Get a $1k Signing Bonus · Join Hired Today\n",
      "          </div>\n",
      "          <div class=\"_MEc\">\n",
      "           <a href=\"http://www.google.com/aclk?sa=l&amp;ai=DChcSEwin75Xk0tjPAhXVWoYKHWbvB-AYABAD&amp;sig=AOD64_17fvL1yJWx_h89WfChbp4tiLrJww&amp;ctype=4&amp;ved=0ahUKEwiQmJLk0tjPAhVDcD4KHSbeCU8QpigIJCgA&amp;adurl=\">\n",
      "            For Employers\n",
      "           </a>\n",
      "           -\n",
      "           <a href=\"http://www.google.com/aclk?sa=l&amp;ai=DChcSEwin75Xk0tjPAhXVWoYKHWbvB-AYABAE&amp;sig=AOD64_2Fj9SAMTtMXrNRO6uup366FI4FYw&amp;ctype=4&amp;ved=0ahUKEwiQmJLk0tjPAhVDcD4KHSbeCU8QpigIJSgB&amp;adurl=\">\n",
      "            List of Companies\n",
      "           </a>\n",
      "           -\n",
      "           <a href=\"http://www.google.com/aclk?sa=l&amp;ai=DChcSEwin75Xk0tjPAhXVWoYKHWbvB-AYABAF&amp;sig=AOD64_0U8i9pDR7tuKDbpmQ1c6h66lnxMA&amp;ctype=4&amp;ved=0ahUKEwiQmJLk0tjPAhVDcD4KHSbeCU8QpigIJigC&amp;adurl=\">\n",
      "            Apply Once. Get Hired.\n",
      "           </a>\n",
      "          </div>\n",
      "         </li>\n",
      "         <li class=\"ads-ad _kug\">\n",
      "          <h3 class=\"ellip\">\n",
      "           <a href=\"http://www.google.com/aclk?sa=L&amp;ai=DChcSEwin75Xk0tjPAhXVWoYKHWbvB-AYABAG&amp;sig=AOD64_0jYFcLGOygBSqNKx0EjpU527BF-g&amp;ved=0ahUKEwiQmJLk0tjPAhVDcD4KHSbeCU8Q0QwIKA&amp;adurl=\">\n",
      "            <b>\n",
      "             Data Science\n",
      "            </b>\n",
      "            Jobs - The Best Tech Companies Are Hiring\n",
      "           </a>\n",
      "          </h3>\n",
      "          <div class=\"ads-visurl\">\n",
      "           <span class=\"_mB\">\n",
      "            Ad\n",
      "           </span>\n",
      "           <cite class=\"_WGk\">\n",
      "            www.indeed.com/Prime\n",
      "           </cite>\n",
      "           ‎\n",
      "           <div class=\"_nBb\">\n",
      "            <div aria-expanded=\"false\" aria-haspopup=\"true\" data-ved=\"0ahUKEwiQmJLk0tjPAhVDcD4KHSbeCU8Q7B0IKQ\" onclick=\"google.sham(this);\" style=\"display:inline\" tabindex=\"0\">\n",
      "             <span class=\"_O0\">\n",
      "             </span>\n",
      "            </div>\n",
      "            <div class=\"am-dropdown-menu\" role=\"menu\" style=\"display:none\" tabindex=\"-1\">\n",
      "             <ul>\n",
      "              <li class=\"_Ykb\" style=\"margin:0\">\n",
      "               <a class=\"_Zkb\" href=\"/url?q=/settings/ads/preferences%3Fhl%3Den&amp;sa=U&amp;ved=0ahUKEwiQmJLk0tjPAhVDcD4KHSbeCU8QgRMIKw&amp;usg=AFQjCNEAXNOZ62ka46D3FTH_48RcIwnQgw\" target=\"_blank\">\n",
      "                Why this ad?\n",
      "               </a>\n",
      "              </li>\n",
      "             </ul>\n",
      "            </div>\n",
      "           </div>\n",
      "          </div>\n",
      "          <div class=\"ads-creative ellip\">\n",
      "           Find a Job, Get $2K Signing Bonus\n",
      "          </div>\n",
      "          <div class=\"ellip\">\n",
      "           Locations: Austin, London, Boston, San Francisco, Seattle…\n",
      "          </div>\n",
      "          <div class=\"_MEc\">\n",
      "           <a href=\"http://www.google.com/aclk?sa=L&amp;ai=DChcSEwin75Xk0tjPAhXVWoYKHWbvB-AYABAH&amp;sig=AOD64_0sT7kx6LqCIa6mGISRoQJn-qt9Kw&amp;ctype=4&amp;ved=0ahUKEwiQmJLk0tjPAhVDcD4KHSbeCU8QpigINSgA&amp;adurl=\">\n",
      "            Free for Candidates\n",
      "           </a>\n",
      "           -\n",
      "           <a href=\"http://www.google.com/aclk?sa=L&amp;ai=DChcSEwin75Xk0tjPAhXVWoYKHWbvB-AYABAI&amp;sig=AOD64_3aqltJ6VLgblaPCXFIfRUvfB-QdQ&amp;ctype=4&amp;ved=0ahUKEwiQmJLk0tjPAhVDcD4KHSbeCU8QpigINigB&amp;adurl=\">\n",
      "            For Employers\n",
      "           </a>\n",
      "           -\n",
      "           <a href=\"http://www.google.com/aclk?sa=L&amp;ai=DChcSEwin75Xk0tjPAhXVWoYKHWbvB-AYABAJ&amp;sig=AOD64_0OcQHOL4fqNvZAqGiQLgySO4TuxA&amp;ctype=4&amp;ved=0ahUKEwiQmJLk0tjPAhVDcD4KHSbeCU8QpigINygC&amp;adurl=\">\n",
      "            Referral Bonus\n",
      "           </a>\n",
      "          </div>\n",
      "         </li>\n",
      "         <li class=\"ads-ad\">\n",
      "          <h3 class=\"ellip\">\n",
      "           <a href=\"http://www.google.com/aclk?sa=l&amp;ai=DChcSEwin75Xk0tjPAhXVWoYKHWbvB-AYABAK&amp;sig=AOD64_04sDzycfeQ5i73Cuqp5DfDoGxWXA&amp;ved=0ahUKEwiQmJLk0tjPAhVDcD4KHSbeCU8Q0QwIOQ&amp;adurl=\">\n",
      "            <b>\n",
      "             Data\n",
      "            </b>\n",
      "            Discovery &amp;\n",
      "            <b>\n",
      "             Data Science\n",
      "            </b>\n",
      "            . - Don't Let Your\n",
      "            <b>\n",
      "             Data\n",
      "            </b>\n",
      "            Own You.\n",
      "           </a>\n",
      "          </h3>\n",
      "          <div class=\"ads-visurl\">\n",
      "           <span class=\"_mB\">\n",
      "            Ad\n",
      "           </span>\n",
      "           <cite class=\"_WGk\">\n",
      "            sailfish.boozallen.com/\n",
      "           </cite>\n",
      "           ‎\n",
      "           <div class=\"_nBb\">\n",
      "            <div aria-expanded=\"false\" aria-haspopup=\"true\" data-ved=\"0ahUKEwiQmJLk0tjPAhVDcD4KHSbeCU8Q7B0IOg\" onclick=\"google.sham(this);\" style=\"display:inline\" tabindex=\"0\">\n",
      "             <span class=\"_O0\">\n",
      "             </span>\n",
      "            </div>\n",
      "            <div class=\"am-dropdown-menu\" role=\"menu\" style=\"display:none\" tabindex=\"-1\">\n",
      "             <ul>\n",
      "              <li class=\"_Ykb\" style=\"margin:0\">\n",
      "               <a class=\"_Zkb\" href=\"/url?q=/settings/ads/preferences%3Fhl%3Den&amp;sa=U&amp;ved=0ahUKEwiQmJLk0tjPAhVDcD4KHSbeCU8QgRMIPA&amp;usg=AFQjCNEAXNOZ62ka46D3FTH_48RcIwnQgw\" target=\"_blank\">\n",
      "                Why this ad?\n",
      "               </a>\n",
      "              </li>\n",
      "             </ul>\n",
      "            </div>\n",
      "           </div>\n",
      "          </div>\n",
      "          <div class=\"ads-creative ellip\">\n",
      "           With Sailfish, Insights Into Your Complex\n",
      "           <b>\n",
      "            Data\n",
      "           </b>\n",
      "           Are Within Reach. Try Today!\n",
      "          </div>\n",
      "          <div>\n",
      "           Social Data Curation · Data Science Made Easy · Data Science For All\n",
      "          </div>\n",
      "         </li>\n",
      "        </ol>\n",
      "       </div>\n",
      "       <div id=\"res\">\n",
      "        <div id=\"topstuff\">\n",
      "        </div>\n",
      "        <div id=\"search\">\n",
      "         <div id=\"ires\">\n",
      "          <ol>\n",
      "           <div class=\"g\">\n",
      "            <h3 class=\"r\">\n",
      "             <a href=\"/url?q=https://en.wikipedia.org/wiki/Data_science&amp;sa=U&amp;ved=0ahUKEwiQmJLk0tjPAhVDcD4KHSbeCU8QFghCMAA&amp;usg=AFQjCNFQh0RwboJfKUkxOpkW7aPg9OGy3A\">\n",
      "              <b>\n",
      "               Data science\n",
      "              </b>\n",
      "              - Wikipedia\n",
      "             </a>\n",
      "            </h3>\n",
      "            <div class=\"s\">\n",
      "             <div class=\"kv\" style=\"margin-bottom:2px\">\n",
      "              <cite>\n",
      "               https://en.wikipedia.org/wiki/\n",
      "               <b>\n",
      "                Data\n",
      "               </b>\n",
      "               _\n",
      "               <b>\n",
      "                science\n",
      "               </b>\n",
      "              </cite>\n",
      "              <div class=\"_nBb\">\n",
      "               ‎\n",
      "               <div aria-expanded=\"false\" aria-haspopup=\"true\" data-ved=\"0ahUKEwiQmJLk0tjPAhVDcD4KHSbeCU8Q7B0IQzAA\" onclick=\"google.sham(this);\" style=\"display:inline\" tabindex=\"0\">\n",
      "                <span class=\"_O0\">\n",
      "                </span>\n",
      "               </div>\n",
      "               <div class=\"am-dropdown-menu\" role=\"menu\" style=\"display:none\" tabindex=\"-1\">\n",
      "                <ul>\n",
      "                 <li class=\"_Ykb\">\n",
      "                  <a class=\"_Zkb\" href=\"/url?q=http://webcache.googleusercontent.com/search%3Fq%3Dcache:0TLy5dtiWvwJ:https://en.wikipedia.org/wiki/Data_science%252Bdata%2Bscience%26hl%3Den%26ct%3Dclnk&amp;sa=U&amp;ved=0ahUKEwiQmJLk0tjPAhVDcD4KHSbeCU8QIAhFMAA&amp;usg=AFQjCNGdFs6gNsKnL9wfJf6ckr06__5y3w\">\n",
      "                   Cached\n",
      "                  </a>\n",
      "                 </li>\n",
      "                 <li class=\"_Ykb\">\n",
      "                  <a class=\"_Zkb\" href=\"/search?q=related:https://en.wikipedia.org/wiki/Data_science+data+science&amp;tbo=1&amp;sa=X&amp;ved=0ahUKEwiQmJLk0tjPAhVDcD4KHSbeCU8QHwhGMAA\">\n",
      "                   Similar\n",
      "                  </a>\n",
      "                 </li>\n",
      "                </ul>\n",
      "               </div>\n",
      "              </div>\n",
      "             </div>\n",
      "             <span class=\"st\">\n",
      "              <b>\n",
      "               Data science\n",
      "              </b>\n",
      "              is an interdisciplinary field about processes and systems to extract\n",
      "              <br/>\n",
      "              knowledge or insights from data in various forms, either structured or ...\n",
      "             </span>\n",
      "             <br/>\n",
      "             <div class=\"osl\">\n",
      "              ‎\n",
      "              <a href=\"/url?q=https://en.wikipedia.org/wiki/Data_science%23Overview&amp;sa=U&amp;ved=0ahUKEwiQmJLk0tjPAhVDcD4KHSbeCU8Q0gIISCgAMAA&amp;usg=AFQjCNGBOuxrghbLoq3gGiAVmkJejPP6bg\">\n",
      "               Overview\n",
      "              </a>\n",
      "              - ‎\n",
      "              <a href=\"/url?q=https://en.wikipedia.org/wiki/Data_science%23Data_scientist&amp;sa=U&amp;ved=0ahUKEwiQmJLk0tjPAhVDcD4KHSbeCU8Q0gIISSgBMAA&amp;usg=AFQjCNGQAxmql0GYXKfYomoD0EH1_t4NOQ\">\n",
      "               Data scientist\n",
      "              </a>\n",
      "              - ‎\n",
      "              <a href=\"/url?q=https://en.wikipedia.org/wiki/Data_science%23History&amp;sa=U&amp;ved=0ahUKEwiQmJLk0tjPAhVDcD4KHSbeCU8Q0gIISigCMAA&amp;usg=AFQjCNEw6GDVfZimin4kufPbS-r71Ut8fA\">\n",
      "               History\n",
      "              </a>\n",
      "              - ‎\n",
      "              <a href=\"/url?q=https://en.wikipedia.org/wiki/Data_science%23Criticism&amp;sa=U&amp;ved=0ahUKEwiQmJLk0tjPAhVDcD4KHSbeCU8Q0gIISygDMAA&amp;usg=AFQjCNFzbVrvYS0SIwnFMhc9PkQn08JKJA\">\n",
      "               Criticism\n",
      "              </a>\n",
      "             </div>\n",
      "            </div>\n",
      "           </div>\n",
      "           <div class=\"g\">\n",
      "            <h3 class=\"r\">\n",
      "             <a href=\"/url?q=https://www.coursera.org/specializations/jhu-data-science&amp;sa=U&amp;ved=0ahUKEwiQmJLk0tjPAhVDcD4KHSbeCU8QFghNMAE&amp;usg=AFQjCNEK59LpjiNInQWIC3fivzEiD7zICQ\">\n",
      "              <b>\n",
      "               Data Science\n",
      "              </b>\n",
      "              | Coursera\n",
      "             </a>\n",
      "            </h3>\n",
      "            <div class=\"s\">\n",
      "             <div class=\"kv\" style=\"margin-bottom:2px\">\n",
      "              <cite>\n",
      "               https://www.coursera.org/specializations/jhu-\n",
      "               <b>\n",
      "                data\n",
      "               </b>\n",
      "               -\n",
      "               <b>\n",
      "                science\n",
      "               </b>\n",
      "              </cite>\n",
      "              <div class=\"_nBb\">\n",
      "               ‎\n",
      "               <div aria-expanded=\"false\" aria-haspopup=\"true\" data-ved=\"0ahUKEwiQmJLk0tjPAhVDcD4KHSbeCU8Q7B0ITjAB\" onclick=\"google.sham(this);\" style=\"display:inline\" tabindex=\"0\">\n",
      "                <span class=\"_O0\">\n",
      "                </span>\n",
      "               </div>\n",
      "               <div class=\"am-dropdown-menu\" role=\"menu\" style=\"display:none\" tabindex=\"-1\">\n",
      "                <ul>\n",
      "                 <li class=\"_Ykb\">\n",
      "                  <a class=\"_Zkb\" href=\"/url?q=http://webcache.googleusercontent.com/search%3Fq%3Dcache:FLmQQ_RjoisJ:https://www.coursera.org/specializations/jhu-data-science%252Bdata%2Bscience%26hl%3Den%26ct%3Dclnk&amp;sa=U&amp;ved=0ahUKEwiQmJLk0tjPAhVDcD4KHSbeCU8QIAhQMAE&amp;usg=AFQjCNEHGGPJ2MsspIEqmPjnBIMBUA2yug\">\n",
      "                   Cached\n",
      "                  </a>\n",
      "                 </li>\n",
      "                 <li class=\"_Ykb\">\n",
      "                  <a class=\"_Zkb\" href=\"/search?q=related:https://www.coursera.org/specializations/jhu-data-science+data+science&amp;tbo=1&amp;sa=X&amp;ved=0ahUKEwiQmJLk0tjPAhVDcD4KHSbeCU8QHwhRMAE\">\n",
      "                   Similar\n",
      "                  </a>\n",
      "                 </li>\n",
      "                </ul>\n",
      "               </div>\n",
      "              </div>\n",
      "             </div>\n",
      "             <span class=\"st\">\n",
      "              Explore\n",
      "              <b>\n",
      "               Data Science\n",
      "              </b>\n",
      "              Certificate offered by Johns Hopkins University. Launch\n",
      "              <br/>\n",
      "              Your Career in\n",
      "              <b>\n",
      "               Data Science\n",
      "              </b>\n",
      "              - A nine-course introduction to\n",
      "              <b>\n",
      "               data science\n",
      "              </b>\n",
      "              , ...\n",
      "             </span>\n",
      "             <br/>\n",
      "            </div>\n",
      "           </div>\n",
      "           <div class=\"g\">\n",
      "            <h3 class=\"r\">\n",
      "             <a href=\"/url?q=http://datascience.nyu.edu/&amp;sa=U&amp;ved=0ahUKEwiQmJLk0tjPAhVDcD4KHSbeCU8QFghTMAI&amp;usg=AFQjCNE6eEHKOE8v9038R-YnfVdcBu9lTw\">\n",
      "              <b>\n",
      "               Data Science\n",
      "              </b>\n",
      "              at NYU\n",
      "             </a>\n",
      "            </h3>\n",
      "            <div class=\"s\">\n",
      "             <div class=\"kv\" style=\"margin-bottom:2px\">\n",
      "              <cite>\n",
      "               <b>\n",
      "                datascience\n",
      "               </b>\n",
      "               .nyu.edu/\n",
      "              </cite>\n",
      "              <div class=\"_nBb\">\n",
      "               ‎\n",
      "               <div aria-expanded=\"false\" aria-haspopup=\"true\" data-ved=\"0ahUKEwiQmJLk0tjPAhVDcD4KHSbeCU8Q7B0IVDAC\" onclick=\"google.sham(this);\" style=\"display:inline\" tabindex=\"0\">\n",
      "                <span class=\"_O0\">\n",
      "                </span>\n",
      "               </div>\n",
      "               <div class=\"am-dropdown-menu\" role=\"menu\" style=\"display:none\" tabindex=\"-1\">\n",
      "                <ul>\n",
      "                 <li class=\"_Ykb\">\n",
      "                  <a class=\"_Zkb\" href=\"/url?q=http://webcache.googleusercontent.com/search%3Fq%3Dcache:i15V01FkkrEJ:http://datascience.nyu.edu/%252Bdata%2Bscience%26hl%3Den%26ct%3Dclnk&amp;sa=U&amp;ved=0ahUKEwiQmJLk0tjPAhVDcD4KHSbeCU8QIAhWMAI&amp;usg=AFQjCNHKc91tK22CQcLojo30R53s3vdSoA\">\n",
      "                   Cached\n",
      "                  </a>\n",
      "                 </li>\n",
      "                 <li class=\"_Ykb\">\n",
      "                  <a class=\"_Zkb\" href=\"/search?q=related:datascience.nyu.edu/+data+science&amp;tbo=1&amp;sa=X&amp;ved=0ahUKEwiQmJLk0tjPAhVDcD4KHSbeCU8QHwhXMAI\">\n",
      "                   Similar\n",
      "                  </a>\n",
      "                 </li>\n",
      "                </ul>\n",
      "               </div>\n",
      "              </div>\n",
      "             </div>\n",
      "             <span class=\"st\">\n",
      "              The\n",
      "              <b>\n",
      "               data science\n",
      "              </b>\n",
      "              initiative at NYU is a university-wide effort to establish the\n",
      "              <br/>\n",
      "              country's leading\n",
      "              <b>\n",
      "               data science\n",
      "              </b>\n",
      "              training and research facilities at NYU.\n",
      "             </span>\n",
      "             <br/>\n",
      "            </div>\n",
      "           </div>\n",
      "           <div class=\"g\">\n",
      "            <div>\n",
      "             <h3 class=\"r\">\n",
      "              <a href=\"/search?q=data+science&amp;prmd=ivnsb&amp;source=univ&amp;tbm=nws&amp;tbo=u&amp;sa=X&amp;ved=0ahUKEwiQmJLk0tjPAhVDcD4KHSbeCU8QqAIIWQ\">\n",
      "               News for\n",
      "               <b>\n",
      "                data science\n",
      "               </b>\n",
      "              </a>\n",
      "             </h3>\n",
      "             <table class=\"ts\">\n",
      "              <tbody>\n",
      "               <tr>\n",
      "                <td valign=\"top\">\n",
      "                 <div style=\"margin-top:5px\">\n",
      "                  <a href=\"/url?q=http://www.businesswire.com/news/home/20161012005898/en/Esri-Selects-Anaconda-Enhance-GIS-Applications-Open&amp;sa=U&amp;ved=0ahUKEwiQmJLk0tjPAhVDcD4KHSbeCU8QqQIIWzAD&amp;usg=AFQjCNFJV0RmeXHyzXvfa_mXPbc40Js9_A\">\n",
      "                   Esri Selects Anaconda to Enhance GIS Applications with Open Data Science\n",
      "                  </a>\n",
      "                  <div style=\"padding-top:2px\">\n",
      "                   <cite>\n",
      "                    Business Wire\n",
      "                   </cite>\n",
      "                   <span class=\"f\">\n",
      "                    -\n",
      "                    <span class=\"nobr\">\n",
      "                     1 day ago\n",
      "                    </span>\n",
      "                    <span class=\"nobr\">\n",
      "                    </span>\n",
      "                   </span>\n",
      "                  </div>\n",
      "                  <div class=\"j\" style=\"margin-top:1px;margin-bottom:4px\">\n",
      "                   <span class=\"st\">\n",
      "                    Continuum Analytics, the creator and driving force behind Anaconda, the leading\n",
      "                    <br/>\n",
      "                    Open\n",
      "                    <b>\n",
      "                     Data Science\n",
      "                    </b>\n",
      "                    platform powered by Python, today ...\n",
      "                   </span>\n",
      "                  </div>\n",
      "                 </div>\n",
      "                 <div style=\"margin-top:4px\">\n",
      "                  <a href=\"/url?q=http://www.nwitimes.com/business/jobs-and-employment/workplace/college-spotlight/vu-offers-new-undergrad-degree-in-data-science/article_9f2d1499-fce9-56e7-a4bf-39553c4adfd4.html&amp;sa=U&amp;ved=0ahUKEwiQmJLk0tjPAhVDcD4KHSbeCU8QqQIIXTAE&amp;usg=AFQjCNFe1-I_haxRz76FdeJyGOeuAt1eww\">\n",
      "                   VU offers new undergrad degree in data science\n",
      "                  </a>\n",
      "                  <div style=\"padding-top:2px\">\n",
      "                   <cite>\n",
      "                    nwitimes.com\n",
      "                   </cite>\n",
      "                   <span class=\"f\">\n",
      "                    -\n",
      "                    <span class=\"nobr\">\n",
      "                     10 hours ago\n",
      "                    </span>\n",
      "                    <span class=\"nobr\">\n",
      "                    </span>\n",
      "                   </span>\n",
      "                  </div>\n",
      "                 </div>\n",
      "                 <div style=\"margin-top:4px\">\n",
      "                  <a href=\"/url?q=http://www.businesswire.com/news/home/20161013006328/en/Data-Science-Technology-Program-Lowers-Risks-Asthma&amp;sa=U&amp;ved=0ahUKEwiQmJLk0tjPAhVDcD4KHSbeCU8QqQIIXzAF&amp;usg=AFQjCNERBzODS_ZRDfdHM5ZXOSnMqjKR_w\">\n",
      "                   Data Science &amp; Technology Program Lowers Risks Associated with Asthma\n",
      "                  </a>\n",
      "                  <div style=\"padding-top:2px\">\n",
      "                   <cite>\n",
      "                    Business Wire\n",
      "                   </cite>\n",
      "                   <span class=\"f\">\n",
      "                    -\n",
      "                    <span class=\"nobr\">\n",
      "                     4 hours ago\n",
      "                    </span>\n",
      "                    <span class=\"nobr\">\n",
      "                    </span>\n",
      "                   </span>\n",
      "                  </div>\n",
      "                 </div>\n",
      "                </td>\n",
      "               </tr>\n",
      "              </tbody>\n",
      "             </table>\n",
      "            </div>\n",
      "           </div>\n",
      "           <div class=\"g\">\n",
      "            <h3 class=\"r\">\n",
      "             <a href=\"/url?q=http://datascience.columbia.edu/certification&amp;sa=U&amp;ved=0ahUKEwiQmJLk0tjPAhVDcD4KHSbeCU8QFghhMAY&amp;usg=AFQjCNGwYCPLO41a6e3dcNzHwGCg0eN2ow\">\n",
      "              Certification of Professional Achievement in\n",
      "              <b>\n",
      "               Data Sciences\n",
      "              </b>\n",
      "              | Data ...\n",
      "             </a>\n",
      "            </h3>\n",
      "            <div class=\"s\">\n",
      "             <div class=\"kv\" style=\"margin-bottom:2px\">\n",
      "              <cite>\n",
      "               <b>\n",
      "                datascience\n",
      "               </b>\n",
      "               .columbia.edu/certification\n",
      "              </cite>\n",
      "              <div class=\"_nBb\">\n",
      "               ‎\n",
      "               <div aria-expanded=\"false\" aria-haspopup=\"true\" data-ved=\"0ahUKEwiQmJLk0tjPAhVDcD4KHSbeCU8Q7B0IYjAG\" onclick=\"google.sham(this);\" style=\"display:inline\" tabindex=\"0\">\n",
      "                <span class=\"_O0\">\n",
      "                </span>\n",
      "               </div>\n",
      "               <div class=\"am-dropdown-menu\" role=\"menu\" style=\"display:none\" tabindex=\"-1\">\n",
      "                <ul>\n",
      "                 <li class=\"_Ykb\">\n",
      "                  <a class=\"_Zkb\" href=\"/url?q=http://webcache.googleusercontent.com/search%3Fq%3Dcache:UcprjQ6g3NIJ:http://datascience.columbia.edu/certification%252Bdata%2Bscience%26hl%3Den%26ct%3Dclnk&amp;sa=U&amp;ved=0ahUKEwiQmJLk0tjPAhVDcD4KHSbeCU8QIAhkMAY&amp;usg=AFQjCNHr-tgyps5SMCSliqfz6BJXpf1_UA\">\n",
      "                   Cached\n",
      "                  </a>\n",
      "                 </li>\n",
      "                 <li class=\"_Ykb\">\n",
      "                  <a class=\"_Zkb\" href=\"/search?q=related:datascience.columbia.edu/certification+data+science&amp;tbo=1&amp;sa=X&amp;ved=0ahUKEwiQmJLk0tjPAhVDcD4KHSbeCU8QHwhlMAY\">\n",
      "                   Similar\n",
      "                  </a>\n",
      "                 </li>\n",
      "                </ul>\n",
      "               </div>\n",
      "              </div>\n",
      "             </div>\n",
      "             <span class=\"st\">\n",
      "              The Certification of Professional Achievement in\n",
      "              <b>\n",
      "               Data Sciences\n",
      "              </b>\n",
      "              prepares\n",
      "              <br/>\n",
      "              students to expand their career prospects or change career paths by developing\n",
      "              <br/>\n",
      "              ...\n",
      "             </span>\n",
      "             <br/>\n",
      "            </div>\n",
      "           </div>\n",
      "           <div class=\"g\">\n",
      "            <h3 class=\"r\">\n",
      "             <a href=\"/url?q=https://www.udacity.com/course/intro-to-data-science--ud359&amp;sa=U&amp;ved=0ahUKEwiQmJLk0tjPAhVDcD4KHSbeCU8QFghnMAc&amp;usg=AFQjCNEpEPwQ5H--XzQPkAO7p_DeKEe6PA\">\n",
      "              Intro to\n",
      "              <b>\n",
      "               Data Science\n",
      "              </b>\n",
      "              Online Course | Udacity\n",
      "             </a>\n",
      "            </h3>\n",
      "            <div class=\"s\">\n",
      "             <div class=\"kv\" style=\"margin-bottom:2px\">\n",
      "              <cite>\n",
      "               https://www.udacity.com/course/intro-to-\n",
      "               <b>\n",
      "                data\n",
      "               </b>\n",
      "               -\n",
      "               <b>\n",
      "                science\n",
      "               </b>\n",
      "               --ud359\n",
      "              </cite>\n",
      "              <div class=\"_nBb\">\n",
      "               ‎\n",
      "               <div aria-expanded=\"false\" aria-haspopup=\"true\" data-ved=\"0ahUKEwiQmJLk0tjPAhVDcD4KHSbeCU8Q7B0IaDAH\" onclick=\"google.sham(this);\" style=\"display:inline\" tabindex=\"0\">\n",
      "                <span class=\"_O0\">\n",
      "                </span>\n",
      "               </div>\n",
      "               <div class=\"am-dropdown-menu\" role=\"menu\" style=\"display:none\" tabindex=\"-1\">\n",
      "                <ul>\n",
      "                 <li class=\"_Ykb\">\n",
      "                  <a class=\"_Zkb\" href=\"/url?q=http://webcache.googleusercontent.com/search%3Fq%3Dcache:n8JCnEjMnysJ:https://www.udacity.com/course/intro-to-data-science--ud359%252Bdata%2Bscience%26hl%3Den%26ct%3Dclnk&amp;sa=U&amp;ved=0ahUKEwiQmJLk0tjPAhVDcD4KHSbeCU8QIAhqMAc&amp;usg=AFQjCNHbf8p3SEeSfsZMAAODsZto7wWG_w\">\n",
      "                   Cached\n",
      "                  </a>\n",
      "                 </li>\n",
      "                 <li class=\"_Ykb\">\n",
      "                  <a class=\"_Zkb\" href=\"/search?q=related:https://www.udacity.com/course/intro-to-data-science--ud359+data+science&amp;tbo=1&amp;sa=X&amp;ved=0ahUKEwiQmJLk0tjPAhVDcD4KHSbeCU8QHwhrMAc\">\n",
      "                   Similar\n",
      "                  </a>\n",
      "                 </li>\n",
      "                </ul>\n",
      "               </div>\n",
      "              </div>\n",
      "             </div>\n",
      "             <span class=\"st\">\n",
      "              Intro to\n",
      "              <b>\n",
      "               Data Science\n",
      "              </b>\n",
      "              covers the basics of big data through data manipulation,\n",
      "              <br/>\n",
      "              analysis and communication while completing a hands on\n",
      "              <b>\n",
      "               data science\n",
      "              </b>\n",
      "              project.\n",
      "             </span>\n",
      "             <br/>\n",
      "            </div>\n",
      "           </div>\n",
      "           <div class=\"g\">\n",
      "            <h3 class=\"r\">\n",
      "             <a href=\"/url?q=https://datascience.berkeley.edu/about/what-is-data-science/&amp;sa=U&amp;ved=0ahUKEwiQmJLk0tjPAhVDcD4KHSbeCU8QFghtMAg&amp;usg=AFQjCNEBUaMPfWTilyBMTDJr63KQ3bQ63Q\">\n",
      "              What is\n",
      "              <b>\n",
      "               Data Science\n",
      "              </b>\n",
      "              ? -\n",
      "              <b>\n",
      "               DataScience\n",
      "              </b>\n",
      "              @Berkeley\n",
      "             </a>\n",
      "            </h3>\n",
      "            <div class=\"s\">\n",
      "             <div class=\"kv\" style=\"margin-bottom:2px\">\n",
      "              <cite>\n",
      "               https://\n",
      "               <b>\n",
      "                datascience\n",
      "               </b>\n",
      "               .berkeley.edu/about/what-is-\n",
      "               <b>\n",
      "                data\n",
      "               </b>\n",
      "               -\n",
      "               <b>\n",
      "                science\n",
      "               </b>\n",
      "               /\n",
      "              </cite>\n",
      "              <div class=\"_nBb\">\n",
      "               ‎\n",
      "               <div aria-expanded=\"false\" aria-haspopup=\"true\" data-ved=\"0ahUKEwiQmJLk0tjPAhVDcD4KHSbeCU8Q7B0IbjAI\" onclick=\"google.sham(this);\" style=\"display:inline\" tabindex=\"0\">\n",
      "                <span class=\"_O0\">\n",
      "                </span>\n",
      "               </div>\n",
      "               <div class=\"am-dropdown-menu\" role=\"menu\" style=\"display:none\" tabindex=\"-1\">\n",
      "                <ul>\n",
      "                 <li class=\"_Ykb\">\n",
      "                  <a class=\"_Zkb\" href=\"/url?q=http://webcache.googleusercontent.com/search%3Fq%3Dcache:EGIx1bXGIvMJ:https://datascience.berkeley.edu/about/what-is-data-science/%252Bdata%2Bscience%26hl%3Den%26ct%3Dclnk&amp;sa=U&amp;ved=0ahUKEwiQmJLk0tjPAhVDcD4KHSbeCU8QIAhwMAg&amp;usg=AFQjCNEDKqcZm0XyhSLD6I80JKtWmbgoog\">\n",
      "                   Cached\n",
      "                  </a>\n",
      "                 </li>\n",
      "                 <li class=\"_Ykb\">\n",
      "                  <a class=\"_Zkb\" href=\"/search?q=related:https://datascience.berkeley.edu/about/what-is-data-science/+data+science&amp;tbo=1&amp;sa=X&amp;ved=0ahUKEwiQmJLk0tjPAhVDcD4KHSbeCU8QHwhxMAg\">\n",
      "                   Similar\n",
      "                  </a>\n",
      "                 </li>\n",
      "                </ul>\n",
      "               </div>\n",
      "              </div>\n",
      "             </div>\n",
      "             <span class=\"st\">\n",
      "              The supply of professionals who can work effectively with data at scale is limited,\n",
      "              <br/>\n",
      "              and is reflected by rapidly rising salaries for data engineers,\n",
      "              <b>\n",
      "               data scientists\n",
      "              </b>\n",
      "              , ...\n",
      "             </span>\n",
      "             <br/>\n",
      "            </div>\n",
      "           </div>\n",
      "           <div class=\"g\">\n",
      "            <h3 class=\"r\">\n",
      "             <a href=\"/url?q=https://www.datascience.com/&amp;sa=U&amp;ved=0ahUKEwiQmJLk0tjPAhVDcD4KHSbeCU8QFghzMAk&amp;usg=AFQjCNF2nTcIXBnSYXBwssLAgbfduzCSBg\">\n",
      "              <b>\n",
      "               Data Science\n",
      "              </b>\n",
      "              Company |\n",
      "              <b>\n",
      "               Data Science\n",
      "              </b>\n",
      "              Platform |\n",
      "              <b>\n",
      "               Data Science\n",
      "              </b>\n",
      "              ...\n",
      "             </a>\n",
      "            </h3>\n",
      "            <div class=\"s\">\n",
      "             <div class=\"kv\" style=\"margin-bottom:2px\">\n",
      "              <cite>\n",
      "               https://www.\n",
      "               <b>\n",
      "                datascience\n",
      "               </b>\n",
      "               .com/\n",
      "              </cite>\n",
      "              <div class=\"_nBb\">\n",
      "               ‎\n",
      "               <div aria-expanded=\"false\" aria-haspopup=\"true\" data-ved=\"0ahUKEwiQmJLk0tjPAhVDcD4KHSbeCU8Q7B0IdDAJ\" onclick=\"google.sham(this);\" style=\"display:inline\" tabindex=\"0\">\n",
      "                <span class=\"_O0\">\n",
      "                </span>\n",
      "               </div>\n",
      "               <div class=\"am-dropdown-menu\" role=\"menu\" style=\"display:none\" tabindex=\"-1\">\n",
      "                <ul>\n",
      "                 <li class=\"_Ykb\">\n",
      "                  <a class=\"_Zkb\" href=\"/url?q=http://webcache.googleusercontent.com/search%3Fq%3Dcache:KIV1I-Mk9sAJ:https://www.datascience.com/%252Bdata%2Bscience%26hl%3Den%26ct%3Dclnk&amp;sa=U&amp;ved=0ahUKEwiQmJLk0tjPAhVDcD4KHSbeCU8QIAh2MAk&amp;usg=AFQjCNH_vB0hXUKm1v453ochSBwY6mSjdA\">\n",
      "                   Cached\n",
      "                  </a>\n",
      "                 </li>\n",
      "                </ul>\n",
      "               </div>\n",
      "              </div>\n",
      "             </div>\n",
      "             <span class=\"st\">\n",
      "              The\n",
      "              <b>\n",
      "               DataScience\n",
      "              </b>\n",
      "              Cloud is a\n",
      "              <b>\n",
      "               data science\n",
      "              </b>\n",
      "              platform that brings together best-in-\n",
      "              <br/>\n",
      "              class tools, infrastructure, and expertise in a modern, full-service offering.\n",
      "             </span>\n",
      "             <br/>\n",
      "            </div>\n",
      "           </div>\n",
      "           <div class=\"g\">\n",
      "            <h3 class=\"r\">\n",
      "             <a href=\"/url?q=https://www.extension.harvard.edu/academics/professional-graduate-certificates/data-science-certificate&amp;sa=U&amp;ved=0ahUKEwiQmJLk0tjPAhVDcD4KHSbeCU8QFgh4MAo&amp;usg=AFQjCNHe03FA3xaIUR_XdIju6r-2dS1kQA\">\n",
      "              <b>\n",
      "               Data Science\n",
      "              </b>\n",
      "              Certificate | Harvard Extension\n",
      "             </a>\n",
      "            </h3>\n",
      "            <div class=\"s\">\n",
      "             <div class=\"kv\" style=\"margin-bottom:2px\">\n",
      "              <cite>\n",
      "               https://www.extension.harvard.edu/academics/.../\n",
      "               <b>\n",
      "                data\n",
      "               </b>\n",
      "               -\n",
      "               <b>\n",
      "                science\n",
      "               </b>\n",
      "               -certificate\n",
      "              </cite>\n",
      "              <div class=\"_nBb\">\n",
      "               ‎\n",
      "               <div aria-expanded=\"false\" aria-haspopup=\"true\" data-ved=\"0ahUKEwiQmJLk0tjPAhVDcD4KHSbeCU8Q7B0IeTAK\" onclick=\"google.sham(this);\" style=\"display:inline\" tabindex=\"0\">\n",
      "                <span class=\"_O0\">\n",
      "                </span>\n",
      "               </div>\n",
      "               <div class=\"am-dropdown-menu\" role=\"menu\" style=\"display:none\" tabindex=\"-1\">\n",
      "                <ul>\n",
      "                 <li class=\"_Ykb\">\n",
      "                  <a class=\"_Zkb\" href=\"/search?q=related:https://www.extension.harvard.edu/academics/professional-graduate-certificates/data-science-certificate+data+science&amp;tbo=1&amp;sa=X&amp;ved=0ahUKEwiQmJLk0tjPAhVDcD4KHSbeCU8QHwh7MAo\">\n",
      "                   Similar\n",
      "                  </a>\n",
      "                 </li>\n",
      "                </ul>\n",
      "               </div>\n",
      "              </div>\n",
      "             </div>\n",
      "             <span class=\"st\">\n",
      "              Learn to interpret big data sets with the\n",
      "              <b>\n",
      "               data science\n",
      "              </b>\n",
      "              certificate from Harvard\n",
      "              <br/>\n",
      "              Extension. Your analysis education can start today.\n",
      "             </span>\n",
      "             <br/>\n",
      "            </div>\n",
      "           </div>\n",
      "           <div class=\"g\">\n",
      "            <h3 class=\"r\">\n",
      "             <a href=\"/url?q=https://www.edx.org/course/programming-python-data-science-microsoft-dat210x-1&amp;sa=U&amp;ved=0ahUKEwiQmJLk0tjPAhVDcD4KHSbeCU8QFgh9MAs&amp;usg=AFQjCNEkzxFB2LBaWEpasJKjlzBEcjEz6A\">\n",
      "              Programming with Python for\n",
      "              <b>\n",
      "               Data Science\n",
      "              </b>\n",
      "              | edX\n",
      "             </a>\n",
      "            </h3>\n",
      "            <div class=\"s\">\n",
      "             <div class=\"kv\" style=\"margin-bottom:2px\">\n",
      "              <cite>\n",
      "               https://www.edx.org/.../programming-python-\n",
      "               <b>\n",
      "                data\n",
      "               </b>\n",
      "               -\n",
      "               <b>\n",
      "                science\n",
      "               </b>\n",
      "               -microsoft-dat210x -1\n",
      "              </cite>\n",
      "              <div class=\"_nBb\">\n",
      "               ‎\n",
      "               <div aria-expanded=\"false\" aria-haspopup=\"true\" data-ved=\"0ahUKEwiQmJLk0tjPAhVDcD4KHSbeCU8Q7B0IfjAL\" onclick=\"google.sham(this);\" style=\"display:inline\" tabindex=\"0\">\n",
      "                <span class=\"_O0\">\n",
      "                </span>\n",
      "               </div>\n",
      "               <div class=\"am-dropdown-menu\" role=\"menu\" style=\"display:none\" tabindex=\"-1\">\n",
      "                <ul>\n",
      "                 <li class=\"_Ykb\">\n",
      "                  <a class=\"_Zkb\" href=\"/url?q=http://webcache.googleusercontent.com/search%3Fq%3Dcache:BUC-gxy3J8AJ:https://www.edx.org/course/programming-python-data-science-microsoft-dat210x-1%252Bdata%2Bscience%26hl%3Den%26ct%3Dclnk&amp;sa=U&amp;ved=0ahUKEwiQmJLk0tjPAhVDcD4KHSbeCU8QIAiAATAL&amp;usg=AFQjCNGHyzuTBMucxiQdLf4kTpi9E3-vhQ\">\n",
      "                   Cached\n",
      "                  </a>\n",
      "                 </li>\n",
      "                </ul>\n",
      "               </div>\n",
      "              </div>\n",
      "             </div>\n",
      "             <span class=\"st\">\n",
      "              Traverse the\n",
      "              <b>\n",
      "               data\n",
      "              </b>\n",
      "              analysis pipeline using advanced visualizations in Python, and\n",
      "              <br/>\n",
      "              make machine learning start working for you.\n",
      "             </span>\n",
      "             <br/>\n",
      "            </div>\n",
      "           </div>\n",
      "          </ol>\n",
      "         </div>\n",
      "        </div>\n",
      "       </div>\n",
      "       <div class=\"_Ak\" id=\"_Ktg\">\n",
      "        <h2 class=\"_hM\">\n",
      "        </h2>\n",
      "        <ol>\n",
      "         <li class=\"ads-ad _kug\">\n",
      "          <h3 class=\"ellip\">\n",
      "           <a href=\"http://www.google.com/aclk?sa=l&amp;ai=DChcSEwin75Xk0tjPAhXVWoYKHWbvB-AYABAL&amp;sig=AOD64_1O7P2k0UCOWk1jAo3YUbShdlC8hA&amp;ved=0ahUKEwiQmJLk0tjPAhVDcD4KHSbeCU8Q0QwIgwE&amp;adurl=\">\n",
      "            Big\n",
      "            <b>\n",
      "             Data\n",
      "            </b>\n",
      "            and Social Analytics - MIT Online Certificate Course\n",
      "           </a>\n",
      "          </h3>\n",
      "          <div class=\"ads-visurl\">\n",
      "           <span class=\"_mB\">\n",
      "            Ad\n",
      "           </span>\n",
      "           <cite class=\"_WGk\">\n",
      "            getsmarter.mit.edu/getsmarter/\n",
      "            <b>\n",
      "             data\n",
      "            </b>\n",
      "            -\n",
      "            <b>\n",
      "             science\n",
      "            </b>\n",
      "           </cite>\n",
      "           ‎\n",
      "           <div class=\"_nBb\">\n",
      "            <div aria-expanded=\"false\" aria-haspopup=\"true\" data-ved=\"0ahUKEwiQmJLk0tjPAhVDcD4KHSbeCU8Q7B0IhAE\" onclick=\"google.sham(this);\" style=\"display:inline\" tabindex=\"0\">\n",
      "             <span class=\"_O0\">\n",
      "             </span>\n",
      "            </div>\n",
      "            <div class=\"am-dropdown-menu\" role=\"menu\" style=\"display:none\" tabindex=\"-1\">\n",
      "             <ul>\n",
      "              <li class=\"_Ykb\" style=\"margin:0\">\n",
      "               <a class=\"_Zkb\" href=\"/url?q=/settings/ads/preferences%3Fhl%3Den&amp;sa=U&amp;ved=0ahUKEwiQmJLk0tjPAhVDcD4KHSbeCU8QgRMIhgE&amp;usg=AFQjCNEAXNOZ62ka46D3FTH_48RcIwnQgw\" target=\"_blank\">\n",
      "                Why this ad?\n",
      "               </a>\n",
      "              </li>\n",
      "             </ul>\n",
      "            </div>\n",
      "           </div>\n",
      "          </div>\n",
      "          <div class=\"ads-creative ellip\">\n",
      "           Drive Smarter Strategies With Big\n",
      "           <b>\n",
      "            Data\n",
      "           </b>\n",
      "           . Study Online With MIT - Enroll Today!\n",
      "          </div>\n",
      "          <div>\n",
      "           Personalized Support · Earn an MIT Certificate\n",
      "          </div>\n",
      "          <div class=\"ellip\">\n",
      "           Options: Online, Part-Time…\n",
      "          </div>\n",
      "         </li>\n",
      "         <li class=\"ads-ad _kug\">\n",
      "          <h3 class=\"ellip\">\n",
      "           <a href=\"http://www.google.com/aclk?sa=l&amp;ai=DChcSEwin75Xk0tjPAhXVWoYKHWbvB-AYABAM&amp;sig=AOD64_3p_V8W0QroUAYOCxX63kIZrMW9jw&amp;ved=0ahUKEwiQmJLk0tjPAhVDcD4KHSbeCU8Q0QwIjgE&amp;adurl=\">\n",
      "            <b>\n",
      "             Data Science\n",
      "            </b>\n",
      "            For All - Strategies for Easy Deployment\n",
      "           </a>\n",
      "          </h3>\n",
      "          <div class=\"ads-visurl\">\n",
      "           <span class=\"_mB\">\n",
      "            Ad\n",
      "           </span>\n",
      "           <cite class=\"_WGk\">\n",
      "            site.tera\n",
      "            <b>\n",
      "             data\n",
      "            </b>\n",
      "            .com/\n",
      "            <b>\n",
      "             Data\n",
      "            </b>\n",
      "            -\n",
      "            <b>\n",
      "             Science\n",
      "            </b>\n",
      "           </cite>\n",
      "           ‎\n",
      "           <div class=\"_nBb\">\n",
      "            <div aria-expanded=\"false\" aria-haspopup=\"true\" data-ved=\"0ahUKEwiQmJLk0tjPAhVDcD4KHSbeCU8Q7B0IjwE\" onclick=\"google.sham(this);\" style=\"display:inline\" tabindex=\"0\">\n",
      "             <span class=\"_O0\">\n",
      "             </span>\n",
      "            </div>\n",
      "            <div class=\"am-dropdown-menu\" role=\"menu\" style=\"display:none\" tabindex=\"-1\">\n",
      "             <ul>\n",
      "              <li class=\"_Ykb\" style=\"margin:0\">\n",
      "               <a class=\"_Zkb\" href=\"/url?q=/settings/ads/preferences%3Fhl%3Den&amp;sa=U&amp;ved=0ahUKEwiQmJLk0tjPAhVDcD4KHSbeCU8QgRMIkQE&amp;usg=AFQjCNEAXNOZ62ka46D3FTH_48RcIwnQgw\" target=\"_blank\">\n",
      "                Why this ad?\n",
      "               </a>\n",
      "              </li>\n",
      "             </ul>\n",
      "            </div>\n",
      "           </div>\n",
      "          </div>\n",
      "          <div class=\"ads-creative ellip\">\n",
      "           Increase Your Analytical Strength and Help Unify Your Organization. Learn More!\n",
      "          </div>\n",
      "          <div>\n",
      "           30 Years of Expertise · Leader in Data Analytics\n",
      "          </div>\n",
      "          <div class=\"_MEc\">\n",
      "           <a href=\"http://www.google.com/aclk?sa=l&amp;ai=DChcSEwin75Xk0tjPAhXVWoYKHWbvB-AYABAN&amp;sig=AOD64_1kwLct9ek9Ecpuhz-V_Bm6Pv4F2g&amp;ctype=4&amp;ved=0ahUKEwiQmJLk0tjPAhVDcD4KHSbeCU8QpigIlAEoAA&amp;adurl=\">\n",
      "            Big Data Strategy\n",
      "           </a>\n",
      "           -\n",
      "           <a href=\"http://www.google.com/aclk?sa=l&amp;ai=DChcSEwin75Xk0tjPAhXVWoYKHWbvB-AYABAO&amp;sig=AOD64_0M7pnDtBRg3zRxXhtxDqA-NmC4Sw&amp;ctype=4&amp;ved=0ahUKEwiQmJLk0tjPAhVDcD4KHSbeCU8QpigIlQEoAQ&amp;adurl=\">\n",
      "            Agile Big Data Consulting\n",
      "           </a>\n",
      "           -\n",
      "           <a href=\"http://www.google.com/aclk?sa=l&amp;ai=DChcSEwin75Xk0tjPAhXVWoYKHWbvB-AYABAP&amp;sig=AOD64_2NdWDAIBBvxxeRxN_atWCX9kFPhg&amp;ctype=4&amp;ved=0ahUKEwiQmJLk0tjPAhVDcD4KHSbeCU8QpigIlgEoAg&amp;adurl=\">\n",
      "            Unified Data Architecture\n",
      "           </a>\n",
      "          </div>\n",
      "         </li>\n",
      "         <li class=\"ads-ad\">\n",
      "          <h3 class=\"ellip\">\n",
      "           <a href=\"http://www.google.com/aclk?sa=l&amp;ai=DChcSEwin75Xk0tjPAhXVWoYKHWbvB-AYABAQ&amp;sig=AOD64_0LD97_Nh52lERq7J_3lSwmhkixOg&amp;ved=0ahUKEwiQmJLk0tjPAhVDcD4KHSbeCU8Q0QwImAE&amp;adurl=\">\n",
      "            <b>\n",
      "             Data Science\n",
      "            </b>\n",
      "            Consulting - Request a demo today.\n",
      "           </a>\n",
      "          </h3>\n",
      "          <div class=\"ads-visurl\">\n",
      "           <span class=\"_mB\">\n",
      "            Ad\n",
      "           </span>\n",
      "           <cite class=\"_WGk\">\n",
      "            www.\n",
      "            <b>\n",
      "             datascience\n",
      "            </b>\n",
      "            .com/consulting\n",
      "           </cite>\n",
      "           ‎\n",
      "           <div class=\"_nBb\">\n",
      "            <div aria-expanded=\"false\" aria-haspopup=\"true\" data-ved=\"0ahUKEwiQmJLk0tjPAhVDcD4KHSbeCU8Q7B0ImQE\" onclick=\"google.sham(this);\" style=\"display:inline\" tabindex=\"0\">\n",
      "             <span class=\"_O0\">\n",
      "             </span>\n",
      "            </div>\n",
      "            <div class=\"am-dropdown-menu\" role=\"menu\" style=\"display:none\" tabindex=\"-1\">\n",
      "             <ul>\n",
      "              <li class=\"_Ykb\" style=\"margin:0\">\n",
      "               <a class=\"_Zkb\" href=\"/url?q=/settings/ads/preferences%3Fhl%3Den&amp;sa=U&amp;ved=0ahUKEwiQmJLk0tjPAhVDcD4KHSbeCU8QgRMImwE&amp;usg=AFQjCNEAXNOZ62ka46D3FTH_48RcIwnQgw\" target=\"_blank\">\n",
      "                Why this ad?\n",
      "               </a>\n",
      "              </li>\n",
      "             </ul>\n",
      "            </div>\n",
      "           </div>\n",
      "          </div>\n",
      "          <div class=\"ads-creative ellip\">\n",
      "           Unlock the value of your\n",
      "           <b>\n",
      "            data\n",
      "           </b>\n",
      "           with end-to-end tools, solutions and services.\n",
      "          </div>\n",
      "         </li>\n",
      "        </ol>\n",
      "       </div>\n",
      "       <div style=\"clear:both;margin-bottom:17px;overflow:hidden\">\n",
      "        <div style=\"font-size:16px;padding:0 8px 1px\">\n",
      "         Searches related to\n",
      "         <b>\n",
      "          data science\n",
      "         </b>\n",
      "        </div>\n",
      "        <table border=\"0\" cellpadding=\"0\" cellspacing=\"0\">\n",
      "         <tbody>\n",
      "          <tr>\n",
      "           <td valign=\"top\">\n",
      "            <p class=\"_Bmc\" style=\"margin:3px 8px\">\n",
      "             <a href=\"/search?q=data+science+course&amp;sa=X&amp;ved=0ahUKEwiQmJLk0tjPAhVDcD4KHSbeCU8Q1QIIngEoAA\">\n",
      "              data science\n",
      "              <b>\n",
      "               course\n",
      "              </b>\n",
      "             </a>\n",
      "            </p>\n",
      "           </td>\n",
      "           <td style=\"padding-left:10px\" valign=\"top\">\n",
      "            <p class=\"_Bmc\" style=\"margin:3px 8px\">\n",
      "             <a href=\"/search?q=data+science+coursera&amp;sa=X&amp;ved=0ahUKEwiQmJLk0tjPAhVDcD4KHSbeCU8Q1QIInwEoAQ\">\n",
      "              data science\n",
      "              <b>\n",
      "               coursera\n",
      "              </b>\n",
      "             </a>\n",
      "            </p>\n",
      "           </td>\n",
      "          </tr>\n",
      "          <tr>\n",
      "           <td valign=\"top\">\n",
      "            <p class=\"_Bmc\" style=\"margin:3px 8px\">\n",
      "             <a href=\"/search?q=data+science+salary&amp;sa=X&amp;ved=0ahUKEwiQmJLk0tjPAhVDcD4KHSbeCU8Q1QIIoAEoAg\">\n",
      "              data science\n",
      "              <b>\n",
      "               salary\n",
      "              </b>\n",
      "             </a>\n",
      "            </p>\n",
      "           </td>\n",
      "           <td style=\"padding-left:10px\" valign=\"top\">\n",
      "            <p class=\"_Bmc\" style=\"margin:3px 8px\">\n",
      "             <a href=\"/search?q=data+science+certification&amp;sa=X&amp;ved=0ahUKEwiQmJLk0tjPAhVDcD4KHSbeCU8Q1QIIoQEoAw\">\n",
      "              data science\n",
      "              <b>\n",
      "               certification\n",
      "              </b>\n",
      "             </a>\n",
      "            </p>\n",
      "           </td>\n",
      "          </tr>\n",
      "          <tr>\n",
      "           <td valign=\"top\">\n",
      "            <p class=\"_Bmc\" style=\"margin:3px 8px\">\n",
      "             <a href=\"/search?q=data+science+degree&amp;sa=X&amp;ved=0ahUKEwiQmJLk0tjPAhVDcD4KHSbeCU8Q1QIIogEoBA\">\n",
      "              data science\n",
      "              <b>\n",
      "               degree\n",
      "              </b>\n",
      "             </a>\n",
      "            </p>\n",
      "           </td>\n",
      "           <td style=\"padding-left:10px\" valign=\"top\">\n",
      "            <p class=\"_Bmc\" style=\"margin:3px 8px\">\n",
      "             <a href=\"/search?q=data+science+pdf&amp;sa=X&amp;ved=0ahUKEwiQmJLk0tjPAhVDcD4KHSbeCU8Q1QIIowEoBQ\">\n",
      "              data science\n",
      "              <b>\n",
      "               pdf\n",
      "              </b>\n",
      "             </a>\n",
      "            </p>\n",
      "           </td>\n",
      "          </tr>\n",
      "          <tr>\n",
      "           <td valign=\"top\">\n",
      "            <p class=\"_Bmc\" style=\"margin:3px 8px\">\n",
      "             <a href=\"/search?q=data+science+definition&amp;sa=X&amp;ved=0ahUKEwiQmJLk0tjPAhVDcD4KHSbeCU8Q1QIIpAEoBg\">\n",
      "              data science\n",
      "              <b>\n",
      "               definition\n",
      "              </b>\n",
      "             </a>\n",
      "            </p>\n",
      "           </td>\n",
      "           <td style=\"padding-left:10px\" valign=\"top\">\n",
      "            <p class=\"_Bmc\" style=\"margin:3px 8px\">\n",
      "             <a href=\"/search?q=data+science+books&amp;sa=X&amp;ved=0ahUKEwiQmJLk0tjPAhVDcD4KHSbeCU8Q1QIIpQEoBw\">\n",
      "              data science\n",
      "              <b>\n",
      "               books\n",
      "              </b>\n",
      "             </a>\n",
      "            </p>\n",
      "           </td>\n",
      "          </tr>\n",
      "         </tbody>\n",
      "        </table>\n",
      "       </div>\n",
      "      </div>\n",
      "      <div id=\"foot\">\n",
      "       <table align=\"center\" border=\"0\" cellpadding=\"0\" cellspacing=\"0\" id=\"nav\">\n",
      "        <tbody>\n",
      "         <tr valign=\"top\">\n",
      "          <td align=\"left\" class=\"b\">\n",
      "           <span class=\"csb\" style=\"background-position:-24px 0;width:28px\">\n",
      "           </span>\n",
      "           <b>\n",
      "           </b>\n",
      "          </td>\n",
      "          <td>\n",
      "           <span class=\"csb\" style=\"background-position:-53px 0;width:20px\">\n",
      "           </span>\n",
      "           <b>\n",
      "            1\n",
      "           </b>\n",
      "          </td>\n",
      "          <td>\n",
      "           <a class=\"fl\" href=\"/search?q=data+science&amp;prmd=ivnsb&amp;ei=I_L_V9D6N8Pg-QGmvKf4BA&amp;start=10&amp;sa=N\">\n",
      "            <span class=\"csb\" style=\"background-position:-74px 0;width:20px\">\n",
      "            </span>\n",
      "            2\n",
      "           </a>\n",
      "          </td>\n",
      "          <td>\n",
      "           <a class=\"fl\" href=\"/search?q=data+science&amp;prmd=ivnsb&amp;ei=I_L_V9D6N8Pg-QGmvKf4BA&amp;start=20&amp;sa=N\">\n",
      "            <span class=\"csb\" style=\"background-position:-74px 0;width:20px\">\n",
      "            </span>\n",
      "            3\n",
      "           </a>\n",
      "          </td>\n",
      "          <td>\n",
      "           <a class=\"fl\" href=\"/search?q=data+science&amp;prmd=ivnsb&amp;ei=I_L_V9D6N8Pg-QGmvKf4BA&amp;start=30&amp;sa=N\">\n",
      "            <span class=\"csb\" style=\"background-position:-74px 0;width:20px\">\n",
      "            </span>\n",
      "            4\n",
      "           </a>\n",
      "          </td>\n",
      "          <td>\n",
      "           <a class=\"fl\" href=\"/search?q=data+science&amp;prmd=ivnsb&amp;ei=I_L_V9D6N8Pg-QGmvKf4BA&amp;start=40&amp;sa=N\">\n",
      "            <span class=\"csb\" style=\"background-position:-74px 0;width:20px\">\n",
      "            </span>\n",
      "            5\n",
      "           </a>\n",
      "          </td>\n",
      "          <td>\n",
      "           <a class=\"fl\" href=\"/search?q=data+science&amp;prmd=ivnsb&amp;ei=I_L_V9D6N8Pg-QGmvKf4BA&amp;start=50&amp;sa=N\">\n",
      "            <span class=\"csb\" style=\"background-position:-74px 0;width:20px\">\n",
      "            </span>\n",
      "            6\n",
      "           </a>\n",
      "          </td>\n",
      "          <td>\n",
      "           <a class=\"fl\" href=\"/search?q=data+science&amp;prmd=ivnsb&amp;ei=I_L_V9D6N8Pg-QGmvKf4BA&amp;start=60&amp;sa=N\">\n",
      "            <span class=\"csb\" style=\"background-position:-74px 0;width:20px\">\n",
      "            </span>\n",
      "            7\n",
      "           </a>\n",
      "          </td>\n",
      "          <td>\n",
      "           <a class=\"fl\" href=\"/search?q=data+science&amp;prmd=ivnsb&amp;ei=I_L_V9D6N8Pg-QGmvKf4BA&amp;start=70&amp;sa=N\">\n",
      "            <span class=\"csb\" style=\"background-position:-74px 0;width:20px\">\n",
      "            </span>\n",
      "            8\n",
      "           </a>\n",
      "          </td>\n",
      "          <td>\n",
      "           <a class=\"fl\" href=\"/search?q=data+science&amp;prmd=ivnsb&amp;ei=I_L_V9D6N8Pg-QGmvKf4BA&amp;start=80&amp;sa=N\">\n",
      "            <span class=\"csb\" style=\"background-position:-74px 0;width:20px\">\n",
      "            </span>\n",
      "            9\n",
      "           </a>\n",
      "          </td>\n",
      "          <td>\n",
      "           <a class=\"fl\" href=\"/search?q=data+science&amp;prmd=ivnsb&amp;ei=I_L_V9D6N8Pg-QGmvKf4BA&amp;start=90&amp;sa=N\">\n",
      "            <span class=\"csb\" style=\"background-position:-74px 0;width:20px\">\n",
      "            </span>\n",
      "            10\n",
      "           </a>\n",
      "          </td>\n",
      "          <td class=\"b\" style=\"text-align:left\">\n",
      "           <a class=\"fl\" href=\"/search?q=data+science&amp;prmd=ivnsb&amp;ei=I_L_V9D6N8Pg-QGmvKf4BA&amp;start=10&amp;sa=N\" style=\"text-align:left\">\n",
      "            <span class=\"csb\" style=\"background-position:-96px 0;width:71px\">\n",
      "            </span>\n",
      "            <span style=\"display:block;margin-left:53px\">\n",
      "             Next\n",
      "            </span>\n",
      "           </a>\n",
      "          </td>\n",
      "         </tr>\n",
      "        </tbody>\n",
      "       </table>\n",
      "       <p class=\"_cD\" id=\"bfl\" style=\"margin:19px 0 0;text-align:center\">\n",
      "        <a href=\"/advanced_search?q=data+science&amp;prmd=ivnsb\">\n",
      "         Advanced search\n",
      "        </a>\n",
      "        <a href=\"/support/websearch/bin/answer.py?answer=134479&amp;hl=en\">\n",
      "         Search Help\n",
      "        </a>\n",
      "        <a href=\"/tools/feedback/survey/html?productId=196&amp;query=data+science&amp;hl=en\">\n",
      "         Send feedback\n",
      "        </a>\n",
      "       </p>\n",
      "       <div class=\"_cD\" id=\"fll\" style=\"margin:19px auto 19px auto;text-align:center\">\n",
      "        <a href=\"/\">\n",
      "         Google Home\n",
      "        </a>\n",
      "        <a href=\"/intl/en/ads\">\n",
      "         Advertising Programs\n",
      "        </a>\n",
      "        <a href=\"/services\">\n",
      "         Business Solutions\n",
      "        </a>\n",
      "        <a href=\"/intl/en/policies/privacy/\">\n",
      "         Privacy\n",
      "        </a>\n",
      "        <a href=\"/intl/en/policies/terms/\">\n",
      "         Terms\n",
      "        </a>\n",
      "        <a href=\"/intl/en/about.html\">\n",
      "         About Google\n",
      "        </a>\n",
      "       </div>\n",
      "      </div>\n",
      "     </td>\n",
      "     <td id=\"rhs_block\" valign=\"top\">\n",
      "     </td>\n",
      "    </tr>\n",
      "   </tbody>\n",
      "  </table>\n",
      "  <script type=\"text/javascript\">\n",
      "   (function(){var eventid='I_L_V9D6N8Pg-QGmvKf4BA';google.kEI = eventid;})();\n",
      "  </script>\n",
      "  <script src=\"/xjs/_/js/k=xjs.hp.en_US.OKd_GehDbVo.O/m=sb_he,d/rt=j/d=1/t=zcms/rs=ACT90oHqsFYagKUT1F8bn3nE4HJSQZWqTQ\">\n",
      "  </script>\n",
      "  <script type=\"text/javascript\">\n",
      "   google.ac&&google.ac.c({\"agen\":true,\"cgen\":true,\"client\":\"heirloom-serp\",\"dh\":true,\"dhqt\":true,\"ds\":\"\",\"fl\":true,\"host\":\"google.com\",\"isbh\":28,\"jam\":0,\"jsonp\":true,\"msgs\":{\"cibl\":\"Clear Search\",\"dym\":\"Did you mean:\",\"lcky\":\"I\\u0026#39;m Feeling Lucky\",\"lml\":\"Learn more\",\"oskt\":\"Input tools\",\"psrc\":\"This search was removed from your \\u003Ca href=\\\"/history\\\"\\u003EWeb History\\u003C/a\\u003E\",\"psrl\":\"Remove\",\"sbit\":\"Search by image\",\"srch\":\"Google Search\"},\"nds\":true,\"ovr\":{},\"pq\":\"data science\",\"refpd\":true,\"rfs\":[\"data science course\",\"data science salary\",\"data science degree\",\"data science definition\",\"data science coursera\",\"data science certification\",\"data science pdf\",\"data science books\"],\"scd\":10,\"sce\":5,\"stok\":\"DTi-Sbd5WD_LIymLV6YtUabMn9s\"})\n",
      "  </script>\n",
      "  <table cellpadding=\"0\" cellspacing=\"0\" class=\"gstl_0 gssb_c\" style=\"width: 570px; display: none; top: 78px; left: 133px; position: absolute;\">\n",
      "   <tbody>\n",
      "    <tr>\n",
      "     <td class=\"gssb_f\">\n",
      "     </td>\n",
      "     <td class=\"gssb_e\" style=\"width: 100%;\">\n",
      "     </td>\n",
      "    </tr>\n",
      "   </tbody>\n",
      "  </table>\n",
      "  <script>\n",
      "   (function(){window.google.cdo={height:0,width:0};(function(){var a=window.innerWidth,b=window.innerHeight;if(!a||!b)var c=window.document,d=\"CSS1Compat\"==c.compatMode?c.documentElement:c.body,a=d.clientWidth,b=d.clientHeight;a&&b&&(a!=google.cdo.width||b!=google.cdo.height)&&google.log(\"\",\"\",\"/client_204?&atyp=i&biw=\"+a+\"&bih=\"+b+\"&ei=\"+google.kEI);})();})();\n",
      "  </script>\n",
      "  <script async=\"\" src=\"//ssl.gstatic.com/gb/js/sem_28ccd69532c2390ae661f0e31ef881fd.js\">\n",
      "  </script>\n",
      " </body>\n",
      "</html>\n"
     ]
    }
   ],
   "source": [
    "soup=BeautifulSoup(html,'html')\n",
    "print (soup.prettify())"
   ]
  },
  {
   "cell_type": "code",
   "execution_count": null,
   "metadata": {
    "collapsed": true
   },
   "outputs": [],
   "source": []
  },
  {
   "cell_type": "code",
   "execution_count": null,
   "metadata": {
    "collapsed": false,
    "slideshow": {
     "slide_type": "slide"
    }
   },
   "outputs": [],
   "source": [
    "#, attrs={'class':'_Ykb'}\n",
    "soup=BeautifulSoup('https://www.google.com/#q=data+science','lxml')"
   ]
  },
  {
   "cell_type": "code",
   "execution_count": 8,
   "metadata": {
    "collapsed": false,
    "scrolled": true,
    "slideshow": {
     "slide_type": "slide"
    }
   },
   "outputs": [
    {
     "name": "stdout",
     "output_type": "stream",
     "text": [
      "Data science - Wikipedia\n",
      "/url?q=https://en.wikipedia.org/wiki/Data_science&sa=U&ved=0ahUKEwjH4Lb5q9rPAhUHJiYKHT8QD00QFgg4MAA&usg=AFQjCNFQh0RwboJfKUkxOpkW7aPg9OGy3A\n",
      "\n",
      "\n",
      "Data Science | Coursera\n",
      "/url?q=https://www.coursera.org/specializations/jhu-data-science&sa=U&ved=0ahUKEwjH4Lb5q9rPAhUHJiYKHT8QD00QFghDMAE&usg=AFQjCNEK59LpjiNInQWIC3fivzEiD7zICQ\n",
      "\n",
      "\n",
      "Data Science at NYU\n",
      "/url?q=http://datascience.nyu.edu/&sa=U&ved=0ahUKEwjH4Lb5q9rPAhUHJiYKHT8QD00QFghJMAI&usg=AFQjCNE6eEHKOE8v9038R-YnfVdcBu9lTw\n",
      "\n",
      "\n",
      "News for data science\n",
      "/search?q=data+science&prmd=ivnsb&source=univ&tbm=nws&tbo=u&sa=X&ved=0ahUKEwjH4Lb5q9rPAhUHJiYKHT8QD00QqAIITw\n",
      "\n",
      "\n",
      "Columbia Certification of Professional Achievement in Data Sciences\n",
      "/url?q=http://datascience.columbia.edu/certification&sa=U&ved=0ahUKEwjH4Lb5q9rPAhUHJiYKHT8QD00QFghYMAY&usg=AFQjCNGwYCPLO41a6e3dcNzHwGCg0eN2ow\n",
      "\n",
      "\n",
      "Intro to Data Science Online Course | Udacity\n",
      "/url?q=https://www.udacity.com/course/intro-to-data-science--ud359&sa=U&ved=0ahUKEwjH4Lb5q9rPAhUHJiYKHT8QD00QFgheMAc&usg=AFQjCNEpEPwQ5H--XzQPkAO7p_DeKEe6PA\n",
      "\n",
      "\n",
      "What is Data Science? - DataScience@Berkeley\n",
      "/url?q=https://datascience.berkeley.edu/about/what-is-data-science/&sa=U&ved=0ahUKEwjH4Lb5q9rPAhUHJiYKHT8QD00QFghkMAg&usg=AFQjCNEBUaMPfWTilyBMTDJr63KQ3bQ63Q\n",
      "\n",
      "\n",
      "Data Science Company | Data Science Platform | Data Science ...\n",
      "/url?q=https://www.datascience.com/&sa=U&ved=0ahUKEwjH4Lb5q9rPAhUHJiYKHT8QD00QFghqMAk&usg=AFQjCNF2nTcIXBnSYXBwssLAgbfduzCSBg\n",
      "\n",
      "\n",
      "Data Science Certificate | Harvard Extension\n",
      "/url?q=https://www.extension.harvard.edu/academics/professional-graduate-certificates/data-science-certificate&sa=U&ved=0ahUKEwjH4Lb5q9rPAhUHJiYKHT8QD00QFghvMAo&usg=AFQjCNHe03FA3xaIUR_XdIju6r-2dS1kQA\n",
      "\n",
      "\n",
      "Programming with Python for Data Science | edX\n",
      "/url?q=https://www.edx.org/course/programming-python-data-science-microsoft-dat210x-1&sa=U&ved=0ahUKEwjH4Lb5q9rPAhUHJiYKHT8QD00QFgh0MAs&usg=AFQjCNEkzxFB2LBaWEpasJKjlzBEcjEz6A\n",
      "\n",
      "\n"
     ]
    },
    {
     "name": "stderr",
     "output_type": "stream",
     "text": [
      "/Users/thomas/anaconda/lib/python2.7/site-packages/bs4/__init__.py:181: UserWarning: No parser was explicitly specified, so I'm using the best available HTML parser for this system (\"lxml\"). This usually isn't a problem, but if you run this code on another system, or in a different virtual environment, it may use a different parser and behave differently.\n",
      "\n",
      "The code that caused this warning is on line 174 of the file /Users/thomas/anaconda/lib/python2.7/runpy.py. To get rid of this warning, change code that looks like this:\n",
      "\n",
      " BeautifulSoup([your markup])\n",
      "\n",
      "to this:\n",
      "\n",
      " BeautifulSoup([your markup], \"lxml\")\n",
      "\n",
      "  markup_type=markup_type))\n"
     ]
    }
   ],
   "source": [
    "from selenium import webdriver\n",
    "\n",
    "driver = webdriver.PhantomJS(executable_path='/Users/thomas/Downloads/phantomjs-2.1.1-macosx/bin/phantomjs')\n",
    "driver.set_window_size(300, 200) \n",
    "driver.get('https://www.google.com/#q=data+science')\n",
    "\n",
    "#.page_source gives us our document\n",
    "html=driver.page_source\n",
    "\n",
    "soup=BeautifulSoup(html,'html')\n",
    "#the attrs was used to lookup the class I wanted; the li was used because I am pretty sure all of the stuff I want is within li\n",
    "for d in soup.findAll(class_='r'):\n",
    "    print d.text\n",
    "    print d.a['href']\n",
    "    print '\\n'"
   ]
  },
  {
   "cell_type": "code",
   "execution_count": null,
   "metadata": {
    "collapsed": false
   },
   "outputs": [],
   "source": []
  },
  {
   "cell_type": "code",
   "execution_count": null,
   "metadata": {
    "collapsed": true
   },
   "outputs": [],
   "source": []
  },
  {
   "cell_type": "code",
   "execution_count": null,
   "metadata": {
    "collapsed": true
   },
   "outputs": [],
   "source": []
  },
  {
   "cell_type": "code",
   "execution_count": null,
   "metadata": {
    "collapsed": true
   },
   "outputs": [],
   "source": []
  },
  {
   "cell_type": "code",
   "execution_count": 236,
   "metadata": {
    "collapsed": false
   },
   "outputs": [
    {
     "data": {
      "text/html": [
       "<div>\n",
       "<table border=\"1\" class=\"dataframe\">\n",
       "  <thead>\n",
       "    <tr style=\"text-align: right;\">\n",
       "      <th></th>\n",
       "      <th>title</th>\n",
       "      <th>link</th>\n",
       "    </tr>\n",
       "  </thead>\n",
       "  <tbody>\n",
       "  </tbody>\n",
       "</table>\n",
       "</div>"
      ],
      "text/plain": [
       "Empty DataFrame\n",
       "Columns: [title, link]\n",
       "Index: []"
      ]
     },
     "execution_count": 236,
     "metadata": {},
     "output_type": "execute_result"
    }
   ],
   "source": [
    "\n",
    "df = pd.DataFrame(columns=['title', 'link'])\n",
    "for i, d in enumerate(soup.findAll(class_='r')):\n",
    "    children = d.findChildren()\n",
    "    row= [children[0].text, children[0]['href'].split(\"?q=\")[1]]\n",
    "    df.loc[i] = row\n",
    "    \n",
    "df"
   ]
  },
  {
   "cell_type": "code",
   "execution_count": 14,
   "metadata": {
    "collapsed": false
   },
   "outputs": [],
   "source": [
    "import glassdoor\n",
    "from bs4 import BeautifulSoup"
   ]
  },
  {
   "cell_type": "code",
   "execution_count": 16,
   "metadata": {
    "collapsed": false
   },
   "outputs": [
    {
     "data": {
      "text/plain": [
       "{'ceo': {'%approval': None, 'avatar': '', 'name': '', 'reviews': 0},\n",
       " 'meta': {'connections': 0,\n",
       "  'location': '',\n",
       "  'logo': None,\n",
       "  'name': '',\n",
       "  'reviews': None,\n",
       "  'score': None,\n",
       "  'size': [None, None],\n",
       "  'website': ''},\n",
       " 'salary': [],\n",
       " 'satisfaction': {'ratings': 0, 'score': None}}"
      ]
     },
     "execution_count": 16,
     "metadata": {},
     "output_type": "execute_result"
    }
   ],
   "source": [
    "x= glassdoor.get('google')\n",
    "x"
   ]
  },
  {
   "cell_type": "code",
   "execution_count": null,
   "metadata": {
    "collapsed": true
   },
   "outputs": [],
   "source": []
  },
  {
   "cell_type": "code",
   "execution_count": null,
   "metadata": {
    "collapsed": true
   },
   "outputs": [],
   "source": []
  },
  {
   "cell_type": "code",
   "execution_count": null,
   "metadata": {
    "collapsed": true
   },
   "outputs": [],
   "source": []
  }
 ],
 "metadata": {
  "anaconda-cloud": {},
  "celltoolbar": "Slideshow",
  "kernelspec": {
   "display_name": "Python [default]",
   "language": "python",
   "name": "python2"
  },
  "language_info": {
   "codemirror_mode": {
    "name": "ipython",
    "version": 2
   },
   "file_extension": ".py",
   "mimetype": "text/x-python",
   "name": "python",
   "nbconvert_exporter": "python",
   "pygments_lexer": "ipython2",
   "version": "2.7.12"
  }
 },
 "nbformat": 4,
 "nbformat_minor": 0
}
