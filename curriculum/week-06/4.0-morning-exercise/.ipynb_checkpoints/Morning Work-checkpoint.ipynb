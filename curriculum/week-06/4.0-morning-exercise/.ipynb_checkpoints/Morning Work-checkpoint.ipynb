{
 "cells": [
  {
   "cell_type": "code",
   "execution_count": 49,
   "metadata": {
    "collapsed": false
   },
   "outputs": [],
   "source": [
    "ones={0:\"\",1:\"I\",2:\"II\",3:\"III\",4:\"IV\",5:\"V\",6:\"VI\",7:\"VII\",8:\"VIII\",9:\"IX\"}\n",
    "tens={0:\"\",1:\"X\",2:\"XX\",3:\"XXX\",4:\"XL\",5:\"L\",6:\"LX\",7:\"LXX\",8:\"LXXX\",9:\"XC\"}\n",
    "hund={0:\"\",1:\"C\",2:\"CC\",3:\"CCC\",4:\"CD\",5:\"D\",6:\"DC\",7:\"DCC\",8:\"DCCC\",9:\"CM\"}\n",
    "thou={0:\"\",1:\"M\"}\n",
    "all_romans={}\n",
    "\n",
    "def to_roman(number):\n",
    "    if number in range(1,1001):\n",
    "        one = number%10\n",
    "        ten = (number%100 - one)/10\n",
    "        hun = (number%1000 - (ten + one))/100\n",
    "        thousand = (number%10000 - (ten + one + hun))/1000\n",
    "        return str(thou[thousand] + hund[hun] + tens[ten] + ones[one])\n",
    "    else:\n",
    "        print \"Invalid Number\"\n",
    "\n",
    "for num in range(1,1001,1):\n",
    "    all_romans[to_roman(num)]=num\n",
    "    \n",
    "def to_num(roman):\n",
    "    if roman in all_romans.keys():\n",
    "        return all_romans[roman]\n",
    "    else:\n",
    "        print \"Invalid Roman\""
   ]
  },
  {
   "cell_type": "code",
   "execution_count": 60,
   "metadata": {
    "collapsed": false
   },
   "outputs": [
    {
     "name": "stdout",
     "output_type": "stream",
     "text": [
      "C\n",
      "100\n"
     ]
    }
   ],
   "source": [
    "num=100\n",
    "print to_roman(num)\n",
    "rom=  to_roman(num)\n",
    "print to_num(rom)"
   ]
  },
  {
   "cell_type": "code",
   "execution_count": 58,
   "metadata": {
    "collapsed": false
   },
   "outputs": [
    {
     "data": {
      "text/plain": [
       "3"
      ]
     },
     "execution_count": 58,
     "metadata": {},
     "output_type": "execute_result"
    }
   ],
   "source": [
    "to_num(\"III\")"
   ]
  },
  {
   "cell_type": "code",
   "execution_count": null,
   "metadata": {
    "collapsed": true
   },
   "outputs": [],
   "source": []
  },
  {
   "cell_type": "code",
   "execution_count": null,
   "metadata": {
    "collapsed": true
   },
   "outputs": [],
   "source": []
  },
  {
   "cell_type": "code",
   "execution_count": null,
   "metadata": {
    "collapsed": true
   },
   "outputs": [],
   "source": []
  },
  {
   "cell_type": "code",
   "execution_count": null,
   "metadata": {
    "collapsed": true
   },
   "outputs": [],
   "source": []
  },
  {
   "cell_type": "code",
   "execution_count": null,
   "metadata": {
    "collapsed": true
   },
   "outputs": [],
   "source": []
  },
  {
   "cell_type": "code",
   "execution_count": null,
   "metadata": {
    "collapsed": true
   },
   "outputs": [],
   "source": []
  },
  {
   "cell_type": "code",
   "execution_count": null,
   "metadata": {
    "collapsed": true
   },
   "outputs": [],
   "source": []
  },
  {
   "cell_type": "code",
   "execution_count": null,
   "metadata": {
    "collapsed": true
   },
   "outputs": [],
   "source": []
  },
  {
   "cell_type": "code",
   "execution_count": null,
   "metadata": {
    "collapsed": true
   },
   "outputs": [],
   "source": []
  },
  {
   "cell_type": "code",
   "execution_count": null,
   "metadata": {
    "collapsed": true
   },
   "outputs": [],
   "source": []
  },
  {
   "cell_type": "code",
   "execution_count": null,
   "metadata": {
    "collapsed": true
   },
   "outputs": [],
   "source": []
  },
  {
   "cell_type": "code",
   "execution_count": null,
   "metadata": {
    "collapsed": true
   },
   "outputs": [],
   "source": []
  },
  {
   "cell_type": "code",
   "execution_count": 6,
   "metadata": {
    "collapsed": false
   },
   "outputs": [],
   "source": [
    "rom_ones={}\n",
    "rom_tens={}\n",
    "rom_hund={}\n",
    "rom_thou={}\n",
    "for key in ones.keys():\n",
    "    rom_ones[ones[key]]=key\n",
    "for key in tens.keys():\n",
    "    rom_tens[tens[key]]=key\n",
    "for key in hund.keys():\n",
    "    rom_hund[hund[key]]=key\n",
    "for key in thou.keys():\n",
    "    rom_thou[thou[key]]=key"
   ]
  }
 ],
 "metadata": {
  "anaconda-cloud": {},
  "kernelspec": {
   "display_name": "Python [default]",
   "language": "python",
   "name": "python2"
  },
  "language_info": {
   "codemirror_mode": {
    "name": "ipython",
    "version": 2
   },
   "file_extension": ".py",
   "mimetype": "text/x-python",
   "name": "python",
   "nbconvert_exporter": "python",
   "pygments_lexer": "ipython2",
   "version": "2.7.12"
  }
 },
 "nbformat": 4,
 "nbformat_minor": 1
}
