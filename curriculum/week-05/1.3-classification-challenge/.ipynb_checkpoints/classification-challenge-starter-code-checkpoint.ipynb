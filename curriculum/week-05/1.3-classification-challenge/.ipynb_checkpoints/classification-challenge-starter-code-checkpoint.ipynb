{
 "cells": [
  {
   "cell_type": "code",
   "execution_count": 43,
   "metadata": {
    "collapsed": false,
    "scrolled": true
   },
   "outputs": [
    {
     "name": "stderr",
     "output_type": "stream",
     "text": [
      "/Users/thomas/anaconda/lib/python2.7/site-packages/sklearn/grid_search.py:43: DeprecationWarning: This module was deprecated in version 0.18 in favor of the model_selection module into which all the refactored classes and functions are moved. This module will be removed in 0.20.\n",
      "  DeprecationWarning)\n"
     ]
    }
   ],
   "source": [
    "import pandas as pd\n",
    "import matplotlib.pyplot as plt\n",
    "%matplotlib inline\n",
    "import numpy as np\n",
    "\n",
    "from sklearn.metrics import classification_report, confusion_matrix, accuracy_score\n",
    "from sklearn.cross_validation import train_test_split, cross_val_score\n",
    "from sklearn.linear_model import LogisticRegression, LogisticRegressionCV\n",
    "from sklearn.grid_search import GridSearchCV\n",
    "from sklearn.cross_validation import train_test_split\n",
    "from sklearn.metrics import roc_auc_score\n",
    "from sklearn.metrics import roc_curve\n",
    "from sklearn.metrics import auc"
   ]
  },
  {
   "cell_type": "code",
   "execution_count": 289,
   "metadata": {
    "collapsed": false
   },
   "outputs": [],
   "source": [
    "df = pd.read_csv(\"classification_challenge_training.csv\") # read in the census-derived data; mind the separator\n",
    "test = pd.read_csv(\"classification_challenge_submission.csv\") # read in the census-derived data; mind the separator\n",
    "\n",
    "d={'11th':\"HS-non-grad\", 'HS-grad':'HS-grad', '10th':\"HS-non-grad\", 'Assoc-voc':'College', 'Bachelors':'College', \\\n",
    "   'Some-college':'Some-college','Assoc-acdm':'College', '12th':\"HS-non-grad\", 'Doctorate':'Higher-Level Education', \\\n",
    "   'Masters':'Higher-Level Education','9th':\"HS-non-grad\", '5th-6th':\"HS-non-grad\",'1st-4th':\"HS-non-grad\",\\\n",
    "   'Prof-school':'College', '7th-8th':\"HS-non-grad\", 'Preschool':\"HS-non-grad\"}\n",
    "df['education']=df['education'].apply(lambda x: d[x])\n",
    "\n",
    "df = df[df['type_employer'] != 'Never-worked']\n",
    "df1 = pd.get_dummies(df,columns = ['type_employer','education','marital', 'occupation','relationship','race','sex'])\n",
    "y=df1[\"income\"].copy()\n",
    "del df1['income']\n",
    "del df1['country']\n",
    "del df1['Unnamed: 0']"
   ]
  },
  {
   "cell_type": "code",
   "execution_count": 281,
   "metadata": {
    "collapsed": false
   },
   "outputs": [
    {
     "data": {
      "text/plain": [
       "Index([u'Unnamed: 0', u'age', u'type_employer', u'education', u'education_num',\n",
       "       u'marital', u'occupation', u'relationship', u'race', u'sex',\n",
       "       u'capital_gain', u'capital_loss', u'hr_per_week', u'country',\n",
       "       u'income'],\n",
       "      dtype='object')"
      ]
     },
     "execution_count": 281,
     "metadata": {},
     "output_type": "execute_result"
    }
   ],
   "source": [
    "df['type_employer'].values()"
   ]
  },
  {
   "cell_type": "code",
   "execution_count": 226,
   "metadata": {
    "collapsed": false
   },
   "outputs": [],
   "source": [
    "# dummies = pd.get_dummies(df,columns = ['country'])\n",
    "# delete=[u'age', u'type_employer', u'education', u'education_num', u'marital',\n",
    "#        u'occupation', u'relationship', u'race', u'sex', u'capital_gain',\n",
    "#         u'capital_loss', u'hr_per_week', u'income', u'country_?',\"Unnamed: 0\"]\n",
    "# for x in delete:\n",
    "#     del dummies[x]\n",
    "# cols=dummies.columns\n",
    "# dummies['education_num'] = df['education_num']\n",
    "# dummies[''] = df['education_num']\n",
    "# dummies[\"Unnamed: 0\"]=df[\"Unnamed: 0\"]\n",
    "# i=0\n",
    "\n",
    "# for z in cols:\n",
    "#     name=z+\"_new\"\n",
    "#     dummies[name]=dummies['education_num']*dummies[z]\n",
    "# df1=df1.merge(dummies)\n",
    "# del df1[\"Unnamed: 0\"]"
   ]
  },
  {
   "cell_type": "code",
   "execution_count": 283,
   "metadata": {
    "collapsed": false
   },
   "outputs": [],
   "source": [
    "\"\"\"Clean/munge your data.\"\"\"\n",
    "X_train, X_test, y_train, y_test = train_test_split(df1,y,test_size=.33, random_state=77)\n",
    "\n",
    "\"\"\" Fit a binary classification predictor.\"\"\"\n",
    "logreg = LogisticRegression(solver='liblinear')\n",
    "C_vals = np.linspace(.47,.61,50)\n",
    "penalties = ['l1','l2']\n",
    "\n",
    "gs = GridSearchCV(logreg, {'penalty': penalties, 'C': C_vals}, verbose=False, cv=3)\n",
    "gs.fit(X_train, y_train)\n",
    "\n",
    "logreg = LogisticRegression(C=gs.best_params_['C'], penalty=gs.best_params_['penalty'])\n",
    "cv_model = logreg.fit(X_train, y_train)\n",
    "cv_pred = cv_model.predict(X_test)\n",
    "\n",
    "y_score = cv_model.decision_function(X_test) # Submit these response, the output of model.decision_function"
   ]
  },
  {
   "cell_type": "code",
   "execution_count": 284,
   "metadata": {
    "collapsed": false
   },
   "outputs": [
    {
     "data": {
      "text/plain": [
       "{'C': 0.47285714285714281, 'penalty': 'l2'}"
      ]
     },
     "execution_count": 284,
     "metadata": {},
     "output_type": "execute_result"
    }
   ],
   "source": [
    "gs.best_params_"
   ]
  },
  {
   "cell_type": "code",
   "execution_count": null,
   "metadata": {
    "collapsed": false
   },
   "outputs": [],
   "source": []
  },
  {
   "cell_type": "code",
   "execution_count": 285,
   "metadata": {
    "collapsed": false
   },
   "outputs": [
    {
     "name": "stdout",
     "output_type": "stream",
     "text": [
      "           predicted_over50k  predicted_under50k\n",
      "over_50k                1196                 755\n",
      "under_50k                480                5626\n",
      "             precision    recall  f1-score   support\n",
      "\n",
      "          0       0.88      0.92      0.90      6106\n",
      "          1       0.71      0.61      0.66      1951\n",
      "\n",
      "avg / total       0.84      0.85      0.84      8057\n",
      "\n"
     ]
    },
    {
     "data": {
      "image/png": "[encoded data removed]",
      "text/plain": [
       "<matplotlib.figure.Figure at 0x118820890>"
      ]
     },
     "metadata": {},
     "output_type": "display_data"
    }
   ],
   "source": [
    "\"\"\" Check your performance so far.\"\"\"\n",
    "\n",
    "conmat = np.array(confusion_matrix(y_test, cv_pred, labels=[1,0]))\n",
    "confusion = pd.DataFrame(conmat, index=['over_50k', 'under_50k'],\n",
    "                            columns=['predicted_over50k','predicted_under50k'])\n",
    "\n",
    "print(confusion)\n",
    "print classification_report(y_test,cv_pred)\n",
    "roc_auc_score(y_test, y_score)\n",
    "\n",
    "\"\"\" Plot AUC\"\"\"\n",
    "\n",
    "FPR = dict()\n",
    "TPR = dict()\n",
    "ROC_AUC = dict()\n",
    "\n",
    "# For class 1, find the area under the curve\n",
    "FPR[1], TPR[1], _ = roc_curve(y_test, y_score)\n",
    "ROC_AUC[1] = auc(FPR[1], TPR[1])\n",
    "\n",
    "# Plot of a ROC curve for class 1 (has_cancer)\n",
    "plt.figure(figsize=[11,9])\n",
    "plt.plot(FPR[1], TPR[1], label='ROC curve (area = %0.2f)' % ROC_AUC[1], linewidth=4)\n",
    "plt.plot([0, 1], [0, 1], 'k--', linewidth=4)\n",
    "plt.xlim([0.0, 1.0])\n",
    "plt.ylim([0.0, 1.05])\n",
    "plt.xlabel('False Positive Rate', fontsize=18)\n",
    "plt.ylabel('True Positive Rate', fontsize=18)\n",
    "plt.title('Receiver operating characteristic for high/low income', fontsize=18)\n",
    "plt.legend(loc=\"lower right\")\n",
    "plt.show()"
   ]
  },
  {
   "cell_type": "code",
   "execution_count": 241,
   "metadata": {
    "collapsed": false
   },
   "outputs": [
    {
     "ename": "SyntaxError",
     "evalue": "invalid syntax (<ipython-input-241-cae8c725c88a>, line 1)",
     "output_type": "error",
     "traceback": [
      "\u001b[0;36m  File \u001b[0;32m\"<ipython-input-241-cae8c725c88a>\"\u001b[0;36m, line \u001b[0;32m1\u001b[0m\n\u001b[0;31m    predicted_over50k  predicted_under50k\u001b[0m\n\u001b[0m                                        ^\u001b[0m\n\u001b[0;31mSyntaxError\u001b[0m\u001b[0;31m:\u001b[0m invalid syntax\n"
     ]
    }
   ],
   "source": [
    "           predicted_over50k  predicted_under50k\n",
    "over_50k                 707                 475\n",
    "under_50k                258                3444\n",
    "             precision    recall  f1-score   support\n",
    "\n",
    "          0       0.88      0.93      0.90      3702\n",
    "          1       0.73      0.60      0.66      1182\n",
    "\n",
    "avg / total       0.84      0.85      0.84      4884\n",
    "\n",
    "\n",
    "        predicted_over50k  predicted_under50k\n",
    "over_50k                 708                 474\n",
    "under_50k                259                3443\n",
    "             precision    recall  f1-score   support\n",
    "\n",
    "          0       0.88      0.93      0.90      3702\n",
    "          1       0.73      0.60      0.66      1182\n",
    "\n",
    "avg / total       0.84      0.85      0.84      4884"
   ]
  },
  {
   "cell_type": "code",
   "execution_count": null,
   "metadata": {
    "collapsed": true
   },
   "outputs": [],
   "source": [
    "'C': 0.52714285714285714, 'penalty': 'l1'"
   ]
  },
  {
   "cell_type": "code",
   "execution_count": 276,
   "metadata": {
    "collapsed": false
   },
   "outputs": [
    {
     "data": {
      "text/html": [
       "<div>\n",
       "<table border=\"1\" class=\"dataframe\">\n",
       "  <thead>\n",
       "    <tr style=\"text-align: right;\">\n",
       "      <th></th>\n",
       "      <th>age</th>\n",
       "      <th>type_employer</th>\n",
       "      <th>education</th>\n",
       "      <th>education_num</th>\n",
       "      <th>marital</th>\n",
       "      <th>occupation</th>\n",
       "      <th>relationship</th>\n",
       "      <th>race</th>\n",
       "      <th>sex</th>\n",
       "      <th>capital_gain</th>\n",
       "      <th>capital_loss</th>\n",
       "      <th>hr_per_week</th>\n",
       "    </tr>\n",
       "  </thead>\n",
       "  <tbody>\n",
       "    <tr>\n",
       "      <th>0</th>\n",
       "      <td>45</td>\n",
       "      <td>Federal-gov</td>\n",
       "      <td>Some-college</td>\n",
       "      <td>10</td>\n",
       "      <td>Married-civ-spouse</td>\n",
       "      <td>Adm-clerical</td>\n",
       "      <td>Husband</td>\n",
       "      <td>Black</td>\n",
       "      <td>Male</td>\n",
       "      <td>0</td>\n",
       "      <td>0</td>\n",
       "      <td>20</td>\n",
       "    </tr>\n",
       "    <tr>\n",
       "      <th>1</th>\n",
       "      <td>17</td>\n",
       "      <td>Private</td>\n",
       "      <td>HS-non-grad</td>\n",
       "      <td>8</td>\n",
       "      <td>Never-married</td>\n",
       "      <td>Sales</td>\n",
       "      <td>Own-child</td>\n",
       "      <td>White</td>\n",
       "      <td>Male</td>\n",
       "      <td>0</td>\n",
       "      <td>0</td>\n",
       "      <td>40</td>\n",
       "    </tr>\n",
       "    <tr>\n",
       "      <th>2</th>\n",
       "      <td>24</td>\n",
       "      <td>Private</td>\n",
       "      <td>College</td>\n",
       "      <td>13</td>\n",
       "      <td>Never-married</td>\n",
       "      <td>Adm-clerical</td>\n",
       "      <td>Own-child</td>\n",
       "      <td>White</td>\n",
       "      <td>Male</td>\n",
       "      <td>0</td>\n",
       "      <td>0</td>\n",
       "      <td>40</td>\n",
       "    </tr>\n",
       "    <tr>\n",
       "      <th>3</th>\n",
       "      <td>46</td>\n",
       "      <td>Private</td>\n",
       "      <td>HS-grad</td>\n",
       "      <td>9</td>\n",
       "      <td>Married-civ-spouse</td>\n",
       "      <td>Craft-repair</td>\n",
       "      <td>Husband</td>\n",
       "      <td>Black</td>\n",
       "      <td>Male</td>\n",
       "      <td>4064</td>\n",
       "      <td>0</td>\n",
       "      <td>40</td>\n",
       "    </tr>\n",
       "    <tr>\n",
       "      <th>4</th>\n",
       "      <td>59</td>\n",
       "      <td>Private</td>\n",
       "      <td>College</td>\n",
       "      <td>13</td>\n",
       "      <td>Separated</td>\n",
       "      <td>Adm-clerical</td>\n",
       "      <td>Unmarried</td>\n",
       "      <td>White</td>\n",
       "      <td>Male</td>\n",
       "      <td>0</td>\n",
       "      <td>0</td>\n",
       "      <td>60</td>\n",
       "    </tr>\n",
       "  </tbody>\n",
       "</table>\n",
       "</div>"
      ],
      "text/plain": [
       "   age type_employer     education  education_num             marital  \\\n",
       "0   45   Federal-gov  Some-college             10  Married-civ-spouse   \n",
       "1   17       Private   HS-non-grad              8       Never-married   \n",
       "2   24       Private       College             13       Never-married   \n",
       "3   46       Private       HS-grad              9  Married-civ-spouse   \n",
       "4   59       Private       College             13           Separated   \n",
       "\n",
       "     occupation relationship   race   sex  capital_gain  capital_loss  \\\n",
       "0  Adm-clerical      Husband  Black  Male             0             0   \n",
       "1         Sales    Own-child  White  Male             0             0   \n",
       "2  Adm-clerical    Own-child  White  Male             0             0   \n",
       "3  Craft-repair      Husband  Black  Male          4064             0   \n",
       "4  Adm-clerical    Unmarried  White  Male             0             0   \n",
       "\n",
       "   hr_per_week  \n",
       "0           20  \n",
       "1           40  \n",
       "2           40  \n",
       "3           40  \n",
       "4           60  "
      ]
     },
     "execution_count": 276,
     "metadata": {},
     "output_type": "execute_result"
    }
   ],
   "source": [
    "submission = pd.read_csv('classification_challenge_submission.csv')\n",
    "submission\n",
    "del submission['Unnamed: 0']\n",
    "del submission['country']\n",
    "#submission['sex_race'] = submission['sex'] + \"_\" + submission['race']\n",
    "d={'11th':\"HS-non-grad\", 'HS-grad':'HS-grad', '10th':\"HS-non-grad\", 'Assoc-voc':'College', 'Bachelors':'College', \\\n",
    "  'Some-college':'Some-college','Assoc-acdm':'College', '12th':\"HS-non-grad\", 'Doctorate':'Higher-Level Education', \\\n",
    "  'Masters':'Higher-Level Education','9th':\"HS-non-grad\", '5th-6th':\"HS-non-grad\",'1st-4th':\"HS-non-grad\",\\\n",
    "  'Prof-school':'College', '7th-8th':\"HS-non-grad\", 'Preschool':\"HS-non-grad\"}\n",
    "submission['education'] = submission['education'].apply(lambda x: d[x])\n",
    "submission.head()"
   ]
  },
  {
   "cell_type": "code",
   "execution_count": 277,
   "metadata": {
    "collapsed": false
   },
   "outputs": [],
   "source": [
    "\"\"\"Clean/munge your data.\"\"\"\n",
    "sub_df = pd.get_dummies(submission,columns = ['type_employer','education','marital', 'occupation','relationship','race','sex'])\n",
    "#y = sub_df['income'].copy()\n",
    "#del df1['income']\n",
    "#del df1['country']\n",
    "X_sub = sub_df\n",
    "# print X_sub.shape\n",
    "# print X.shape"
   ]
  },
  {
   "cell_type": "code",
   "execution_count": 278,
   "metadata": {
    "collapsed": false,
    "scrolled": true
   },
   "outputs": [
    {
     "ename": "ValueError",
     "evalue": "X has 53 features per sample; expecting 54",
     "output_type": "error",
     "traceback": [
      "\u001b[0;31m---------------------------------------------------------------------------\u001b[0m",
      "\u001b[0;31mValueError\u001b[0m                                Traceback (most recent call last)",
      "\u001b[0;32m<ipython-input-278-a3f1eb06adc0>\u001b[0m in \u001b[0;36m<module>\u001b[0;34m()\u001b[0m\n\u001b[0;32m----> 1\u001b[0;31m \u001b[0msub_y_pred\u001b[0m \u001b[0;34m=\u001b[0m \u001b[0mcv_model\u001b[0m\u001b[0;34m.\u001b[0m\u001b[0mpredict\u001b[0m\u001b[0;34m(\u001b[0m\u001b[0mX_sub\u001b[0m\u001b[0;34m)\u001b[0m\u001b[0;34m\u001b[0m\u001b[0m\n\u001b[0m\u001b[1;32m      2\u001b[0m \u001b[0my_score_sub\u001b[0m \u001b[0;34m=\u001b[0m \u001b[0mcv_model\u001b[0m\u001b[0;34m.\u001b[0m\u001b[0mdecision_function\u001b[0m\u001b[0;34m(\u001b[0m\u001b[0mX_sub\u001b[0m\u001b[0;34m)\u001b[0m\u001b[0;34m\u001b[0m\u001b[0m\n",
      "\u001b[0;32m/Users/thomas/anaconda/lib/python2.7/site-packages/sklearn/linear_model/base.pyc\u001b[0m in \u001b[0;36mpredict\u001b[0;34m(self, X)\u001b[0m\n\u001b[1;32m    334\u001b[0m             \u001b[0mPredicted\u001b[0m \u001b[0;32mclass\u001b[0m \u001b[0mlabel\u001b[0m \u001b[0mper\u001b[0m \u001b[0msample\u001b[0m\u001b[0;34m.\u001b[0m\u001b[0;34m\u001b[0m\u001b[0m\n\u001b[1;32m    335\u001b[0m         \"\"\"\n\u001b[0;32m--> 336\u001b[0;31m         \u001b[0mscores\u001b[0m \u001b[0;34m=\u001b[0m \u001b[0mself\u001b[0m\u001b[0;34m.\u001b[0m\u001b[0mdecision_function\u001b[0m\u001b[0;34m(\u001b[0m\u001b[0mX\u001b[0m\u001b[0;34m)\u001b[0m\u001b[0;34m\u001b[0m\u001b[0m\n\u001b[0m\u001b[1;32m    337\u001b[0m         \u001b[0;32mif\u001b[0m \u001b[0mlen\u001b[0m\u001b[0;34m(\u001b[0m\u001b[0mscores\u001b[0m\u001b[0;34m.\u001b[0m\u001b[0mshape\u001b[0m\u001b[0;34m)\u001b[0m \u001b[0;34m==\u001b[0m \u001b[0;36m1\u001b[0m\u001b[0;34m:\u001b[0m\u001b[0;34m\u001b[0m\u001b[0m\n\u001b[1;32m    338\u001b[0m             \u001b[0mindices\u001b[0m \u001b[0;34m=\u001b[0m \u001b[0;34m(\u001b[0m\u001b[0mscores\u001b[0m \u001b[0;34m>\u001b[0m \u001b[0;36m0\u001b[0m\u001b[0;34m)\u001b[0m\u001b[0;34m.\u001b[0m\u001b[0mastype\u001b[0m\u001b[0;34m(\u001b[0m\u001b[0mnp\u001b[0m\u001b[0;34m.\u001b[0m\u001b[0mint\u001b[0m\u001b[0;34m)\u001b[0m\u001b[0;34m\u001b[0m\u001b[0m\n",
      "\u001b[0;32m/Users/thomas/anaconda/lib/python2.7/site-packages/sklearn/linear_model/base.pyc\u001b[0m in \u001b[0;36mdecision_function\u001b[0;34m(self, X)\u001b[0m\n\u001b[1;32m    315\u001b[0m         \u001b[0;32mif\u001b[0m \u001b[0mX\u001b[0m\u001b[0;34m.\u001b[0m\u001b[0mshape\u001b[0m\u001b[0;34m[\u001b[0m\u001b[0;36m1\u001b[0m\u001b[0;34m]\u001b[0m \u001b[0;34m!=\u001b[0m \u001b[0mn_features\u001b[0m\u001b[0;34m:\u001b[0m\u001b[0;34m\u001b[0m\u001b[0m\n\u001b[1;32m    316\u001b[0m             raise ValueError(\"X has %d features per sample; expecting %d\"\n\u001b[0;32m--> 317\u001b[0;31m                              % (X.shape[1], n_features))\n\u001b[0m\u001b[1;32m    318\u001b[0m \u001b[0;34m\u001b[0m\u001b[0m\n\u001b[1;32m    319\u001b[0m         scores = safe_sparse_dot(X, self.coef_.T,\n",
      "\u001b[0;31mValueError\u001b[0m: X has 53 features per sample; expecting 54"
     ]
    }
   ],
   "source": [
    "sub_y_pred = cv_model.predict(X_sub)\n",
    "y_score_sub = cv_model.decision_function(X_sub)"
   ]
  },
  {
   "cell_type": "code",
   "execution_count": null,
   "metadata": {
    "collapsed": true
   },
   "outputs": [],
   "source": [
    "sub_yscore = y_score_sub.reshape((len(y_score_sub),1))\n",
    "sub_yscore.shape"
   ]
  },
  {
   "cell_type": "code",
   "execution_count": null,
   "metadata": {
    "collapsed": true
   },
   "outputs": [],
   "source": [
    "X_sub['y_score'] = sub_yscore"
   ]
  },
  {
   "cell_type": "code",
   "execution_count": null,
   "metadata": {
    "collapsed": true
   },
   "outputs": [],
   "source": [
    "X_sub.to_csv('Team One - Sara, Maria, Thomas, Amish - Try 2.csv')"
   ]
  },
  {
   "cell_type": "code",
   "execution_count": 291,
   "metadata": {
    "collapsed": false
   },
   "outputs": [
    {
     "data": {
      "text/plain": [
       "[]"
      ]
     },
     "execution_count": 291,
     "metadata": {},
     "output_type": "execute_result"
    }
   ],
   "source": [
    "[x for x in df1.columns if x not in X_sub.columns]"
   ]
  },
  {
   "cell_type": "code",
   "execution_count": null,
   "metadata": {
    "collapsed": true
   },
   "outputs": [],
   "source": []
  },
  {
   "cell_type": "code",
   "execution_count": null,
   "metadata": {
    "collapsed": true
   },
   "outputs": [],
   "source": []
  }
 ],
 "metadata": {
  "anaconda-cloud": {},
  "kernelspec": {
   "display_name": "Python [default]",
   "language": "python",
   "name": "python2"
  },
  "language_info": {
   "codemirror_mode": {
    "name": "ipython",
    "version": 2
   },
   "file_extension": ".py",
   "mimetype": "text/x-python",
   "name": "python",
   "nbconvert_exporter": "python",
   "pygments_lexer": "ipython2",
   "version": "2.7.12"
  }
 },
 "nbformat": 4,
 "nbformat_minor": 0
}
