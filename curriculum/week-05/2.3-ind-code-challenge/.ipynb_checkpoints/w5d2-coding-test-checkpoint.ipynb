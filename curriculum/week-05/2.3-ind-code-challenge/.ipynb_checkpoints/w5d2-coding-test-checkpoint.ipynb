{
 "cells": [
  {
   "cell_type": "markdown",
   "metadata": {},
   "source": [
    "# ![](https://ga-dash.s3.amazonaws.com/production/assets/logo-9f88ae6c9c3871690e33280fcf557f33.png) Individual Coding Challenge\n",
    "Week 5 | Day 2"
   ]
  },
  {
   "cell_type": "markdown",
   "metadata": {},
   "source": [
    "This is your first individual coding challenge. There are a series of exercises in this notebook that you will need to perform. This challenge to be done individually - **without help from either fellow students or the instructors**. You are free to use the documention or any online resources you choose. You will have one hour to complete this workbook. If you get stuck on one question keep moving.<br><br> **It must be submitted before 5pm via Slack**. <br><br>**- _NO LATE ENTRIES WILL BE ACCEPTED_ - <br><br>The Slack timestamp of submission will be definitive.**"
   ]
  },
  {
   "cell_type": "markdown",
   "metadata": {},
   "source": [
    "### 1. Read in the csv at this link using pandas and save it as a DataFrame:\n",
    "https://www.dropbox.com/s/1k9cgsd7bzce0yk/housing-data.csv?dl=1"
   ]
  },
  {
   "cell_type": "code",
   "execution_count": 56,
   "metadata": {
    "collapsed": false
   },
   "outputs": [],
   "source": [
    "import pandas as pd"
   ]
  },
  {
   "cell_type": "code",
   "execution_count": 57,
   "metadata": {
    "collapsed": false,
    "scrolled": true
   },
   "outputs": [],
   "source": [
    "df=pd.read_csv(\"housing-data.csv\")"
   ]
  },
  {
   "cell_type": "markdown",
   "metadata": {},
   "source": [
    "### 2. Get the datatypes of your DataFrame and find the 75th percentile of 'age' and 'price'"
   ]
  },
  {
   "cell_type": "code",
   "execution_count": 58,
   "metadata": {
    "collapsed": false
   },
   "outputs": [
    {
     "data": {
      "text/plain": [
       "sqft     int64\n",
       "bdrms    int64\n",
       "age      int64\n",
       "price    int64\n",
       "dtype: object"
      ]
     },
     "execution_count": 58,
     "metadata": {},
     "output_type": "execute_result"
    }
   ],
   "source": [
    "df.dtypes"
   ]
  },
  {
   "cell_type": "code",
   "execution_count": 59,
   "metadata": {
    "collapsed": false
   },
   "outputs": [
    {
     "data": {
      "text/plain": [
       "sqft       2269.0\n",
       "bdrms         4.0\n",
       "age          61.5\n",
       "price    384450.0\n",
       "Name: 75%, dtype: float64"
      ]
     },
     "execution_count": 59,
     "metadata": {},
     "output_type": "execute_result"
    }
   ],
   "source": [
    "df.describe(percentiles=[.75]).iloc[5]"
   ]
  },
  {
   "cell_type": "markdown",
   "metadata": {},
   "source": [
    "### 3. Get the correlations for each column vs. the others. Which feature has the highest correlation with price?"
   ]
  },
  {
   "cell_type": "code",
   "execution_count": 60,
   "metadata": {
    "collapsed": false
   },
   "outputs": [
    {
     "data": {
      "text/html": [
       "<div>\n",
       "<table border=\"1\" class=\"dataframe\">\n",
       "  <thead>\n",
       "    <tr style=\"text-align: right;\">\n",
       "      <th></th>\n",
       "      <th>sqft</th>\n",
       "      <th>bdrms</th>\n",
       "      <th>age</th>\n",
       "      <th>price</th>\n",
       "    </tr>\n",
       "  </thead>\n",
       "  <tbody>\n",
       "    <tr>\n",
       "      <th>sqft</th>\n",
       "      <td>1.000000</td>\n",
       "      <td>0.559967</td>\n",
       "      <td>0.079853</td>\n",
       "      <td>0.854988</td>\n",
       "    </tr>\n",
       "    <tr>\n",
       "      <th>bdrms</th>\n",
       "      <td>0.559967</td>\n",
       "      <td>1.000000</td>\n",
       "      <td>0.077486</td>\n",
       "      <td>0.442261</td>\n",
       "    </tr>\n",
       "    <tr>\n",
       "      <th>age</th>\n",
       "      <td>0.079853</td>\n",
       "      <td>0.077486</td>\n",
       "      <td>1.000000</td>\n",
       "      <td>0.051791</td>\n",
       "    </tr>\n",
       "    <tr>\n",
       "      <th>price</th>\n",
       "      <td>0.854988</td>\n",
       "      <td>0.442261</td>\n",
       "      <td>0.051791</td>\n",
       "      <td>1.000000</td>\n",
       "    </tr>\n",
       "  </tbody>\n",
       "</table>\n",
       "</div>"
      ],
      "text/plain": [
       "           sqft     bdrms       age     price\n",
       "sqft   1.000000  0.559967  0.079853  0.854988\n",
       "bdrms  0.559967  1.000000  0.077486  0.442261\n",
       "age    0.079853  0.077486  1.000000  0.051791\n",
       "price  0.854988  0.442261  0.051791  1.000000"
      ]
     },
     "execution_count": 60,
     "metadata": {},
     "output_type": "execute_result"
    }
   ],
   "source": [
    "df.corr()"
   ]
  },
  {
   "cell_type": "code",
   "execution_count": 61,
   "metadata": {
    "collapsed": false
   },
   "outputs": [
    {
     "data": {
      "text/plain": [
       "sqft     0.854988\n",
       "bdrms    0.442261\n",
       "age      0.051791\n",
       "Name: price, dtype: float64"
      ]
     },
     "execution_count": 61,
     "metadata": {},
     "output_type": "execute_result"
    }
   ],
   "source": [
    "df.corr()['price'][0:-1] #sqft has max correlation"
   ]
  },
  {
   "cell_type": "markdown",
   "metadata": {},
   "source": [
    "### 4. Plot the correlations and histograms using seaborn"
   ]
  },
  {
   "cell_type": "code",
   "execution_count": 62,
   "metadata": {
    "collapsed": false
   },
   "outputs": [],
   "source": [
    "import seaborn as sns\n",
    "import matplotlib.pyplot as plt\n",
    "% matplotlib inline"
   ]
  },
  {
   "cell_type": "code",
   "execution_count": 63,
   "metadata": {
    "collapsed": false
   },
   "outputs": [
    {
     "data": {
      "image/png": "[encoded data removed]",
      "text/plain": [
       "<matplotlib.figure.Figure at 0x11b015fd0>"
      ]
     },
     "metadata": {},
     "output_type": "display_data"
    }
   ],
   "source": [
    "figure,axes=plt.subplots(2,2,figsize=(8,8))\n",
    "i=0\n",
    "for x in df.columns:\n",
    "    i+=1\n",
    "    plt.subplot(2,2,i)\n",
    "    sns.distplot(df[x])\n",
    "plt.show()"
   ]
  },
  {
   "cell_type": "code",
   "execution_count": 64,
   "metadata": {
    "collapsed": false
   },
   "outputs": [
    {
     "data": {
      "image/png": "[encoded data removed]",
      "text/plain": [
       "<matplotlib.figure.Figure at 0x11b605c50>"
      ]
     },
     "metadata": {},
     "output_type": "display_data"
    }
   ],
   "source": [
    "import numpy as np\n",
    "plt.pcolor(df.corr())\n",
    "plt.xticks(np.linspace(0.5,4.5,5),df.corr().index)\n",
    "plt.yticks(np.linspace(0.5,4.5,5),df.corr().index)\n",
    "plt.title(\"Heatmap of Correlation Coefficients\")\n",
    "plt.xlabel(\"\\n Darker squares are more correlated\")\n",
    "plt.show()\n",
    "\n"
   ]
  },
  {
   "cell_type": "code",
   "execution_count": null,
   "metadata": {
    "collapsed": false
   },
   "outputs": [],
   "source": []
  },
  {
   "cell_type": "code",
   "execution_count": null,
   "metadata": {
    "collapsed": false
   },
   "outputs": [],
   "source": []
  },
  {
   "cell_type": "markdown",
   "metadata": {},
   "source": [
    "### 5. Change the column names to uppercase using a list comprehension"
   ]
  },
  {
   "cell_type": "code",
   "execution_count": 65,
   "metadata": {
    "collapsed": false
   },
   "outputs": [
    {
     "data": {
      "text/html": [
       "<div>\n",
       "<table border=\"1\" class=\"dataframe\">\n",
       "  <thead>\n",
       "    <tr style=\"text-align: right;\">\n",
       "      <th></th>\n",
       "      <th>SQFT</th>\n",
       "      <th>BDRMS</th>\n",
       "      <th>AGE</th>\n",
       "      <th>PRICE</th>\n",
       "    </tr>\n",
       "  </thead>\n",
       "  <tbody>\n",
       "    <tr>\n",
       "      <th>0</th>\n",
       "      <td>2104</td>\n",
       "      <td>3</td>\n",
       "      <td>70</td>\n",
       "      <td>399900</td>\n",
       "    </tr>\n",
       "    <tr>\n",
       "      <th>1</th>\n",
       "      <td>1600</td>\n",
       "      <td>3</td>\n",
       "      <td>28</td>\n",
       "      <td>329900</td>\n",
       "    </tr>\n",
       "    <tr>\n",
       "      <th>2</th>\n",
       "      <td>2400</td>\n",
       "      <td>3</td>\n",
       "      <td>44</td>\n",
       "      <td>369000</td>\n",
       "    </tr>\n",
       "    <tr>\n",
       "      <th>3</th>\n",
       "      <td>1416</td>\n",
       "      <td>2</td>\n",
       "      <td>49</td>\n",
       "      <td>232000</td>\n",
       "    </tr>\n",
       "    <tr>\n",
       "      <th>4</th>\n",
       "      <td>3000</td>\n",
       "      <td>4</td>\n",
       "      <td>75</td>\n",
       "      <td>539900</td>\n",
       "    </tr>\n",
       "  </tbody>\n",
       "</table>\n",
       "</div>"
      ],
      "text/plain": [
       "   SQFT  BDRMS  AGE   PRICE\n",
       "0  2104      3   70  399900\n",
       "1  1600      3   28  329900\n",
       "2  2400      3   44  369000\n",
       "3  1416      2   49  232000\n",
       "4  3000      4   75  539900"
      ]
     },
     "execution_count": 65,
     "metadata": {},
     "output_type": "execute_result"
    }
   ],
   "source": [
    "df.columns=[x.upper() for x in df.columns]\n",
    "df.head()"
   ]
  },
  {
   "cell_type": "code",
   "execution_count": null,
   "metadata": {
    "collapsed": false,
    "scrolled": true
   },
   "outputs": [],
   "source": []
  },
  {
   "cell_type": "markdown",
   "metadata": {},
   "source": [
    "### 6. Standardize each column - except price - using a list comprehension. Save the newly scaled columns to the DataFrame with the prepend 'SC_'. For example, 'SC_BDRMS'. You may use numpy for this. \n",
    "\n",
    "Refer to this if you are confused as to the formula: [Standardization](http://sebastianraschka.com/Articles/2014_about_feature_scaling.html#z-score-standardization-or-min-max-scaling)"
   ]
  },
  {
   "cell_type": "code",
   "execution_count": 96,
   "metadata": {
    "collapsed": false,
    "scrolled": true
   },
   "outputs": [],
   "source": [
    "mean=0\n",
    "std=0\n",
    "copy=df.copy()\n",
    "for x in df.columns:\n",
    "    mean=np.mean(df[x])\n",
    "    std=np.std(df[x])\n",
    "    new_name=\"SC_\"+x\n",
    "    standardized=[(y-mean)/float(std) for y in df[x]]\n",
    "    copy[new_name]=standardized"
   ]
  },
  {
   "cell_type": "code",
   "execution_count": 97,
   "metadata": {
    "collapsed": false,
    "scrolled": true
   },
   "outputs": [
    {
     "data": {
      "text/html": [
       "<div>\n",
       "<table border=\"1\" class=\"dataframe\">\n",
       "  <thead>\n",
       "    <tr style=\"text-align: right;\">\n",
       "      <th></th>\n",
       "      <th>SQFT</th>\n",
       "      <th>BDRMS</th>\n",
       "      <th>AGE</th>\n",
       "      <th>PRICE</th>\n",
       "      <th>SC_SQFT</th>\n",
       "      <th>SC_BDRMS</th>\n",
       "      <th>SC_AGE</th>\n",
       "      <th>SC_PRICE</th>\n",
       "    </tr>\n",
       "  </thead>\n",
       "  <tbody>\n",
       "    <tr>\n",
       "      <th>0</th>\n",
       "      <td>2104</td>\n",
       "      <td>3</td>\n",
       "      <td>70</td>\n",
       "      <td>399900</td>\n",
       "      <td>0.131415</td>\n",
       "      <td>-0.226093</td>\n",
       "      <td>1.204453</td>\n",
       "      <td>0.480890</td>\n",
       "    </tr>\n",
       "    <tr>\n",
       "      <th>1</th>\n",
       "      <td>1600</td>\n",
       "      <td>3</td>\n",
       "      <td>28</td>\n",
       "      <td>329900</td>\n",
       "      <td>-0.509641</td>\n",
       "      <td>-0.226093</td>\n",
       "      <td>-0.651589</td>\n",
       "      <td>-0.084983</td>\n",
       "    </tr>\n",
       "    <tr>\n",
       "      <th>2</th>\n",
       "      <td>2400</td>\n",
       "      <td>3</td>\n",
       "      <td>44</td>\n",
       "      <td>369000</td>\n",
       "      <td>0.507909</td>\n",
       "      <td>-0.226093</td>\n",
       "      <td>0.055474</td>\n",
       "      <td>0.231097</td>\n",
       "    </tr>\n",
       "    <tr>\n",
       "      <th>3</th>\n",
       "      <td>1416</td>\n",
       "      <td>2</td>\n",
       "      <td>49</td>\n",
       "      <td>232000</td>\n",
       "      <td>-0.743677</td>\n",
       "      <td>-1.554392</td>\n",
       "      <td>0.276432</td>\n",
       "      <td>-0.876398</td>\n",
       "    </tr>\n",
       "    <tr>\n",
       "      <th>4</th>\n",
       "      <td>3000</td>\n",
       "      <td>4</td>\n",
       "      <td>75</td>\n",
       "      <td>539900</td>\n",
       "      <td>1.271071</td>\n",
       "      <td>1.102205</td>\n",
       "      <td>1.425410</td>\n",
       "      <td>1.612637</td>\n",
       "    </tr>\n",
       "    <tr>\n",
       "      <th>5</th>\n",
       "      <td>1985</td>\n",
       "      <td>4</td>\n",
       "      <td>61</td>\n",
       "      <td>299900</td>\n",
       "      <td>-0.019945</td>\n",
       "      <td>1.102205</td>\n",
       "      <td>0.806730</td>\n",
       "      <td>-0.327501</td>\n",
       "    </tr>\n",
       "    <tr>\n",
       "      <th>6</th>\n",
       "      <td>1534</td>\n",
       "      <td>3</td>\n",
       "      <td>12</td>\n",
       "      <td>314900</td>\n",
       "      <td>-0.593589</td>\n",
       "      <td>-0.226093</td>\n",
       "      <td>-1.358653</td>\n",
       "      <td>-0.206242</td>\n",
       "    </tr>\n",
       "    <tr>\n",
       "      <th>7</th>\n",
       "      <td>1427</td>\n",
       "      <td>3</td>\n",
       "      <td>57</td>\n",
       "      <td>198999</td>\n",
       "      <td>-0.729686</td>\n",
       "      <td>-0.226093</td>\n",
       "      <td>0.629964</td>\n",
       "      <td>-1.143175</td>\n",
       "    </tr>\n",
       "    <tr>\n",
       "      <th>8</th>\n",
       "      <td>1380</td>\n",
       "      <td>3</td>\n",
       "      <td>14</td>\n",
       "      <td>212000</td>\n",
       "      <td>-0.789467</td>\n",
       "      <td>-0.226093</td>\n",
       "      <td>-1.270270</td>\n",
       "      <td>-1.038076</td>\n",
       "    </tr>\n",
       "    <tr>\n",
       "      <th>9</th>\n",
       "      <td>1494</td>\n",
       "      <td>3</td>\n",
       "      <td>15</td>\n",
       "      <td>242500</td>\n",
       "      <td>-0.644466</td>\n",
       "      <td>-0.226093</td>\n",
       "      <td>-1.226078</td>\n",
       "      <td>-0.791517</td>\n",
       "    </tr>\n",
       "    <tr>\n",
       "      <th>10</th>\n",
       "      <td>1940</td>\n",
       "      <td>4</td>\n",
       "      <td>7</td>\n",
       "      <td>239999</td>\n",
       "      <td>-0.077182</td>\n",
       "      <td>1.102205</td>\n",
       "      <td>-1.579610</td>\n",
       "      <td>-0.811735</td>\n",
       "    </tr>\n",
       "    <tr>\n",
       "      <th>11</th>\n",
       "      <td>2000</td>\n",
       "      <td>3</td>\n",
       "      <td>27</td>\n",
       "      <td>347000</td>\n",
       "      <td>-0.000866</td>\n",
       "      <td>-0.226093</td>\n",
       "      <td>-0.695781</td>\n",
       "      <td>0.053251</td>\n",
       "    </tr>\n",
       "    <tr>\n",
       "      <th>12</th>\n",
       "      <td>1890</td>\n",
       "      <td>3</td>\n",
       "      <td>45</td>\n",
       "      <td>329999</td>\n",
       "      <td>-0.140779</td>\n",
       "      <td>-0.226093</td>\n",
       "      <td>0.099666</td>\n",
       "      <td>-0.084183</td>\n",
       "    </tr>\n",
       "    <tr>\n",
       "      <th>13</th>\n",
       "      <td>4478</td>\n",
       "      <td>5</td>\n",
       "      <td>49</td>\n",
       "      <td>699900</td>\n",
       "      <td>3.150993</td>\n",
       "      <td>2.430504</td>\n",
       "      <td>0.276432</td>\n",
       "      <td>2.906063</td>\n",
       "    </tr>\n",
       "    <tr>\n",
       "      <th>14</th>\n",
       "      <td>1268</td>\n",
       "      <td>3</td>\n",
       "      <td>58</td>\n",
       "      <td>259900</td>\n",
       "      <td>-0.931924</td>\n",
       "      <td>-0.226093</td>\n",
       "      <td>0.674155</td>\n",
       "      <td>-0.650857</td>\n",
       "    </tr>\n",
       "    <tr>\n",
       "      <th>15</th>\n",
       "      <td>2300</td>\n",
       "      <td>4</td>\n",
       "      <td>77</td>\n",
       "      <td>449900</td>\n",
       "      <td>0.380715</td>\n",
       "      <td>1.102205</td>\n",
       "      <td>1.513793</td>\n",
       "      <td>0.885086</td>\n",
       "    </tr>\n",
       "    <tr>\n",
       "      <th>16</th>\n",
       "      <td>1320</td>\n",
       "      <td>2</td>\n",
       "      <td>62</td>\n",
       "      <td>299900</td>\n",
       "      <td>-0.865783</td>\n",
       "      <td>-1.554392</td>\n",
       "      <td>0.850921</td>\n",
       "      <td>-0.327501</td>\n",
       "    </tr>\n",
       "    <tr>\n",
       "      <th>17</th>\n",
       "      <td>1236</td>\n",
       "      <td>3</td>\n",
       "      <td>78</td>\n",
       "      <td>199900</td>\n",
       "      <td>-0.972626</td>\n",
       "      <td>-0.226093</td>\n",
       "      <td>1.557985</td>\n",
       "      <td>-1.135892</td>\n",
       "    </tr>\n",
       "    <tr>\n",
       "      <th>18</th>\n",
       "      <td>2609</td>\n",
       "      <td>4</td>\n",
       "      <td>5</td>\n",
       "      <td>499998</td>\n",
       "      <td>0.773743</td>\n",
       "      <td>1.102205</td>\n",
       "      <td>-1.667993</td>\n",
       "      <td>1.290073</td>\n",
       "    </tr>\n",
       "    <tr>\n",
       "      <th>19</th>\n",
       "      <td>3031</td>\n",
       "      <td>4</td>\n",
       "      <td>21</td>\n",
       "      <td>599000</td>\n",
       "      <td>1.310501</td>\n",
       "      <td>1.102205</td>\n",
       "      <td>-0.960930</td>\n",
       "      <td>2.090396</td>\n",
       "    </tr>\n",
       "    <tr>\n",
       "      <th>20</th>\n",
       "      <td>1767</td>\n",
       "      <td>3</td>\n",
       "      <td>44</td>\n",
       "      <td>252900</td>\n",
       "      <td>-0.297227</td>\n",
       "      <td>-0.226093</td>\n",
       "      <td>0.055474</td>\n",
       "      <td>-0.707444</td>\n",
       "    </tr>\n",
       "    <tr>\n",
       "      <th>21</th>\n",
       "      <td>1888</td>\n",
       "      <td>2</td>\n",
       "      <td>79</td>\n",
       "      <td>255000</td>\n",
       "      <td>-0.143323</td>\n",
       "      <td>-1.554392</td>\n",
       "      <td>1.602176</td>\n",
       "      <td>-0.690468</td>\n",
       "    </tr>\n",
       "    <tr>\n",
       "      <th>22</th>\n",
       "      <td>1604</td>\n",
       "      <td>3</td>\n",
       "      <td>13</td>\n",
       "      <td>242900</td>\n",
       "      <td>-0.504553</td>\n",
       "      <td>-0.226093</td>\n",
       "      <td>-1.314461</td>\n",
       "      <td>-0.788283</td>\n",
       "    </tr>\n",
       "    <tr>\n",
       "      <th>23</th>\n",
       "      <td>1962</td>\n",
       "      <td>4</td>\n",
       "      <td>53</td>\n",
       "      <td>259900</td>\n",
       "      <td>-0.049200</td>\n",
       "      <td>1.102205</td>\n",
       "      <td>0.453198</td>\n",
       "      <td>-0.650857</td>\n",
       "    </tr>\n",
       "    <tr>\n",
       "      <th>24</th>\n",
       "      <td>3890</td>\n",
       "      <td>3</td>\n",
       "      <td>36</td>\n",
       "      <td>573900</td>\n",
       "      <td>2.403094</td>\n",
       "      <td>-0.226093</td>\n",
       "      <td>-0.298057</td>\n",
       "      <td>1.887490</td>\n",
       "    </tr>\n",
       "    <tr>\n",
       "      <th>25</th>\n",
       "      <td>1100</td>\n",
       "      <td>3</td>\n",
       "      <td>60</td>\n",
       "      <td>249900</td>\n",
       "      <td>-1.145609</td>\n",
       "      <td>-0.226093</td>\n",
       "      <td>0.762538</td>\n",
       "      <td>-0.731696</td>\n",
       "    </tr>\n",
       "    <tr>\n",
       "      <th>26</th>\n",
       "      <td>1458</td>\n",
       "      <td>3</td>\n",
       "      <td>29</td>\n",
       "      <td>464500</td>\n",
       "      <td>-0.690256</td>\n",
       "      <td>-0.226093</td>\n",
       "      <td>-0.607398</td>\n",
       "      <td>1.003111</td>\n",
       "    </tr>\n",
       "    <tr>\n",
       "      <th>27</th>\n",
       "      <td>2526</td>\n",
       "      <td>3</td>\n",
       "      <td>13</td>\n",
       "      <td>469000</td>\n",
       "      <td>0.668173</td>\n",
       "      <td>-0.226093</td>\n",
       "      <td>-1.314461</td>\n",
       "      <td>1.039488</td>\n",
       "    </tr>\n",
       "    <tr>\n",
       "      <th>28</th>\n",
       "      <td>2200</td>\n",
       "      <td>3</td>\n",
       "      <td>28</td>\n",
       "      <td>475000</td>\n",
       "      <td>0.253521</td>\n",
       "      <td>-0.226093</td>\n",
       "      <td>-0.651589</td>\n",
       "      <td>1.087992</td>\n",
       "    </tr>\n",
       "    <tr>\n",
       "      <th>29</th>\n",
       "      <td>2637</td>\n",
       "      <td>3</td>\n",
       "      <td>25</td>\n",
       "      <td>299900</td>\n",
       "      <td>0.809358</td>\n",
       "      <td>-0.226093</td>\n",
       "      <td>-0.784164</td>\n",
       "      <td>-0.327501</td>\n",
       "    </tr>\n",
       "    <tr>\n",
       "      <th>30</th>\n",
       "      <td>1839</td>\n",
       "      <td>2</td>\n",
       "      <td>40</td>\n",
       "      <td>349900</td>\n",
       "      <td>-0.205648</td>\n",
       "      <td>-1.554392</td>\n",
       "      <td>-0.121292</td>\n",
       "      <td>0.076695</td>\n",
       "    </tr>\n",
       "    <tr>\n",
       "      <th>31</th>\n",
       "      <td>1000</td>\n",
       "      <td>1</td>\n",
       "      <td>5</td>\n",
       "      <td>169900</td>\n",
       "      <td>-1.272803</td>\n",
       "      <td>-2.882690</td>\n",
       "      <td>-1.667993</td>\n",
       "      <td>-1.378409</td>\n",
       "    </tr>\n",
       "    <tr>\n",
       "      <th>32</th>\n",
       "      <td>2040</td>\n",
       "      <td>4</td>\n",
       "      <td>75</td>\n",
       "      <td>314900</td>\n",
       "      <td>0.050011</td>\n",
       "      <td>1.102205</td>\n",
       "      <td>1.425410</td>\n",
       "      <td>-0.206242</td>\n",
       "    </tr>\n",
       "    <tr>\n",
       "      <th>33</th>\n",
       "      <td>3137</td>\n",
       "      <td>3</td>\n",
       "      <td>67</td>\n",
       "      <td>579900</td>\n",
       "      <td>1.445326</td>\n",
       "      <td>-0.226093</td>\n",
       "      <td>1.071878</td>\n",
       "      <td>1.935994</td>\n",
       "    </tr>\n",
       "    <tr>\n",
       "      <th>34</th>\n",
       "      <td>1811</td>\n",
       "      <td>4</td>\n",
       "      <td>24</td>\n",
       "      <td>285900</td>\n",
       "      <td>-0.241262</td>\n",
       "      <td>1.102205</td>\n",
       "      <td>-0.828355</td>\n",
       "      <td>-0.440675</td>\n",
       "    </tr>\n",
       "    <tr>\n",
       "      <th>35</th>\n",
       "      <td>1437</td>\n",
       "      <td>3</td>\n",
       "      <td>50</td>\n",
       "      <td>249900</td>\n",
       "      <td>-0.716966</td>\n",
       "      <td>-0.226093</td>\n",
       "      <td>0.320623</td>\n",
       "      <td>-0.731696</td>\n",
       "    </tr>\n",
       "    <tr>\n",
       "      <th>36</th>\n",
       "      <td>1239</td>\n",
       "      <td>3</td>\n",
       "      <td>22</td>\n",
       "      <td>229900</td>\n",
       "      <td>-0.968810</td>\n",
       "      <td>-0.226093</td>\n",
       "      <td>-0.916738</td>\n",
       "      <td>-0.893374</td>\n",
       "    </tr>\n",
       "    <tr>\n",
       "      <th>37</th>\n",
       "      <td>2132</td>\n",
       "      <td>4</td>\n",
       "      <td>28</td>\n",
       "      <td>345000</td>\n",
       "      <td>0.167030</td>\n",
       "      <td>1.102205</td>\n",
       "      <td>-0.651589</td>\n",
       "      <td>0.037084</td>\n",
       "    </tr>\n",
       "    <tr>\n",
       "      <th>38</th>\n",
       "      <td>4215</td>\n",
       "      <td>4</td>\n",
       "      <td>66</td>\n",
       "      <td>549000</td>\n",
       "      <td>2.816474</td>\n",
       "      <td>1.102205</td>\n",
       "      <td>1.027687</td>\n",
       "      <td>1.686201</td>\n",
       "    </tr>\n",
       "    <tr>\n",
       "      <th>39</th>\n",
       "      <td>2162</td>\n",
       "      <td>4</td>\n",
       "      <td>43</td>\n",
       "      <td>287000</td>\n",
       "      <td>0.205188</td>\n",
       "      <td>1.102205</td>\n",
       "      <td>0.011283</td>\n",
       "      <td>-0.431783</td>\n",
       "    </tr>\n",
       "    <tr>\n",
       "      <th>40</th>\n",
       "      <td>1664</td>\n",
       "      <td>2</td>\n",
       "      <td>40</td>\n",
       "      <td>368500</td>\n",
       "      <td>-0.428237</td>\n",
       "      <td>-1.554392</td>\n",
       "      <td>-0.121292</td>\n",
       "      <td>0.227055</td>\n",
       "    </tr>\n",
       "    <tr>\n",
       "      <th>41</th>\n",
       "      <td>2238</td>\n",
       "      <td>3</td>\n",
       "      <td>37</td>\n",
       "      <td>329900</td>\n",
       "      <td>0.301855</td>\n",
       "      <td>-0.226093</td>\n",
       "      <td>-0.253866</td>\n",
       "      <td>-0.084983</td>\n",
       "    </tr>\n",
       "    <tr>\n",
       "      <th>42</th>\n",
       "      <td>2567</td>\n",
       "      <td>4</td>\n",
       "      <td>57</td>\n",
       "      <td>314000</td>\n",
       "      <td>0.720322</td>\n",
       "      <td>1.102205</td>\n",
       "      <td>0.629964</td>\n",
       "      <td>-0.213518</td>\n",
       "    </tr>\n",
       "    <tr>\n",
       "      <th>43</th>\n",
       "      <td>1200</td>\n",
       "      <td>3</td>\n",
       "      <td>76</td>\n",
       "      <td>299000</td>\n",
       "      <td>-1.018415</td>\n",
       "      <td>-0.226093</td>\n",
       "      <td>1.469602</td>\n",
       "      <td>-0.334776</td>\n",
       "    </tr>\n",
       "    <tr>\n",
       "      <th>44</th>\n",
       "      <td>852</td>\n",
       "      <td>2</td>\n",
       "      <td>70</td>\n",
       "      <td>179900</td>\n",
       "      <td>-1.461049</td>\n",
       "      <td>-1.554392</td>\n",
       "      <td>1.204453</td>\n",
       "      <td>-1.297570</td>\n",
       "    </tr>\n",
       "    <tr>\n",
       "      <th>45</th>\n",
       "      <td>1852</td>\n",
       "      <td>4</td>\n",
       "      <td>64</td>\n",
       "      <td>299900</td>\n",
       "      <td>-0.189113</td>\n",
       "      <td>1.102205</td>\n",
       "      <td>0.939304</td>\n",
       "      <td>-0.327501</td>\n",
       "    </tr>\n",
       "    <tr>\n",
       "      <th>46</th>\n",
       "      <td>1203</td>\n",
       "      <td>3</td>\n",
       "      <td>11</td>\n",
       "      <td>239500</td>\n",
       "      <td>-1.014600</td>\n",
       "      <td>-0.226093</td>\n",
       "      <td>-1.402844</td>\n",
       "      <td>-0.815769</td>\n",
       "    </tr>\n",
       "  </tbody>\n",
       "</table>\n",
       "</div>"
      ],
      "text/plain": [
       "    SQFT  BDRMS  AGE   PRICE   SC_SQFT  SC_BDRMS    SC_AGE  SC_PRICE\n",
       "0   2104      3   70  399900  0.131415 -0.226093  1.204453  0.480890\n",
       "1   1600      3   28  329900 -0.509641 -0.226093 -0.651589 -0.084983\n",
       "2   2400      3   44  369000  0.507909 -0.226093  0.055474  0.231097\n",
       "3   1416      2   49  232000 -0.743677 -1.554392  0.276432 -0.876398\n",
       "4   3000      4   75  539900  1.271071  1.102205  1.425410  1.612637\n",
       "5   1985      4   61  299900 -0.019945  1.102205  0.806730 -0.327501\n",
       "6   1534      3   12  314900 -0.593589 -0.226093 -1.358653 -0.206242\n",
       "7   1427      3   57  198999 -0.729686 -0.226093  0.629964 -1.143175\n",
       "8   1380      3   14  212000 -0.789467 -0.226093 -1.270270 -1.038076\n",
       "9   1494      3   15  242500 -0.644466 -0.226093 -1.226078 -0.791517\n",
       "10  1940      4    7  239999 -0.077182  1.102205 -1.579610 -0.811735\n",
       "11  2000      3   27  347000 -0.000866 -0.226093 -0.695781  0.053251\n",
       "12  1890      3   45  329999 -0.140779 -0.226093  0.099666 -0.084183\n",
       "13  4478      5   49  699900  3.150993  2.430504  0.276432  2.906063\n",
       "14  1268      3   58  259900 -0.931924 -0.226093  0.674155 -0.650857\n",
       "15  2300      4   77  449900  0.380715  1.102205  1.513793  0.885086\n",
       "16  1320      2   62  299900 -0.865783 -1.554392  0.850921 -0.327501\n",
       "17  1236      3   78  199900 -0.972626 -0.226093  1.557985 -1.135892\n",
       "18  2609      4    5  499998  0.773743  1.102205 -1.667993  1.290073\n",
       "19  3031      4   21  599000  1.310501  1.102205 -0.960930  2.090396\n",
       "20  1767      3   44  252900 -0.297227 -0.226093  0.055474 -0.707444\n",
       "21  1888      2   79  255000 -0.143323 -1.554392  1.602176 -0.690468\n",
       "22  1604      3   13  242900 -0.504553 -0.226093 -1.314461 -0.788283\n",
       "23  1962      4   53  259900 -0.049200  1.102205  0.453198 -0.650857\n",
       "24  3890      3   36  573900  2.403094 -0.226093 -0.298057  1.887490\n",
       "25  1100      3   60  249900 -1.145609 -0.226093  0.762538 -0.731696\n",
       "26  1458      3   29  464500 -0.690256 -0.226093 -0.607398  1.003111\n",
       "27  2526      3   13  469000  0.668173 -0.226093 -1.314461  1.039488\n",
       "28  2200      3   28  475000  0.253521 -0.226093 -0.651589  1.087992\n",
       "29  2637      3   25  299900  0.809358 -0.226093 -0.784164 -0.327501\n",
       "30  1839      2   40  349900 -0.205648 -1.554392 -0.121292  0.076695\n",
       "31  1000      1    5  169900 -1.272803 -2.882690 -1.667993 -1.378409\n",
       "32  2040      4   75  314900  0.050011  1.102205  1.425410 -0.206242\n",
       "33  3137      3   67  579900  1.445326 -0.226093  1.071878  1.935994\n",
       "34  1811      4   24  285900 -0.241262  1.102205 -0.828355 -0.440675\n",
       "35  1437      3   50  249900 -0.716966 -0.226093  0.320623 -0.731696\n",
       "36  1239      3   22  229900 -0.968810 -0.226093 -0.916738 -0.893374\n",
       "37  2132      4   28  345000  0.167030  1.102205 -0.651589  0.037084\n",
       "38  4215      4   66  549000  2.816474  1.102205  1.027687  1.686201\n",
       "39  2162      4   43  287000  0.205188  1.102205  0.011283 -0.431783\n",
       "40  1664      2   40  368500 -0.428237 -1.554392 -0.121292  0.227055\n",
       "41  2238      3   37  329900  0.301855 -0.226093 -0.253866 -0.084983\n",
       "42  2567      4   57  314000  0.720322  1.102205  0.629964 -0.213518\n",
       "43  1200      3   76  299000 -1.018415 -0.226093  1.469602 -0.334776\n",
       "44   852      2   70  179900 -1.461049 -1.554392  1.204453 -1.297570\n",
       "45  1852      4   64  299900 -0.189113  1.102205  0.939304 -0.327501\n",
       "46  1203      3   11  239500 -1.014600 -0.226093 -1.402844 -0.815769"
      ]
     },
     "execution_count": 97,
     "metadata": {},
     "output_type": "execute_result"
    }
   ],
   "source": [
    "copy"
   ]
  },
  {
   "cell_type": "markdown",
   "metadata": {},
   "source": [
    "## 7. Use sk-learn's StandardScaler to confirm that your results are correct. You will need to read the documentation on how to use this.\n",
    "\n",
    "[StandardScaler](http://scikit-learn.org/stable/modules/generated/sklearn.preprocessing.StandardScaler.html)"
   ]
  },
  {
   "cell_type": "code",
   "execution_count": 98,
   "metadata": {
    "collapsed": true
   },
   "outputs": [],
   "source": [
    "from sklearn.preprocessing import StandardScaler"
   ]
  },
  {
   "cell_type": "code",
   "execution_count": 99,
   "metadata": {
    "collapsed": false
   },
   "outputs": [
    {
     "data": {
      "text/plain": [
       "<matplotlib.collections.PathCollection at 0x11b0fe050>"
      ]
     },
     "execution_count": 99,
     "metadata": {},
     "output_type": "execute_result"
    },
    {
     "data": {
      "image/png": "[encoded data removed]",
      "text/plain": [
       "<matplotlib.figure.Figure at 0x11b4b0b90>"
      ]
     },
     "metadata": {},
     "output_type": "display_data"
    }
   ],
   "source": [
    "cols=[ u'SC_SQFT', u'SC_BDRMS', u'SC_AGE',u'SC_PRICE']\n",
    "plt.scatter(copy[cols],fit)    "
   ]
  },
  {
   "cell_type": "code",
   "execution_count": null,
   "metadata": {
    "collapsed": false,
    "scrolled": true
   },
   "outputs": [],
   "source": []
  },
  {
   "cell_type": "markdown",
   "metadata": {},
   "source": [
    "### 8. Using .apply() on your _DataFrame_, create a function that returns a count of the number of scaled columns that are positive. For example, if one scaled column is positive and two are negative, return 1. If all are negative return 0. Hint: It may be helpful to use .apply() on just a portion of your DataFrame. Save this new column as 'POS'."
   ]
  },
  {
   "cell_type": "code",
   "execution_count": 109,
   "metadata": {
    "collapsed": false,
    "scrolled": true
   },
   "outputs": [],
   "source": [
    "def fun(x):\n",
    "    a=x[0]\n",
    "    b=x[1]\n",
    "    c=x[2]\n",
    "    d=x[3]\n",
    "    count=0\n",
    "    l=[a,b,c,d]\n",
    "    for i in l:\n",
    "        if i>=0:\n",
    "            count+=1\n",
    "    return count\n",
    "    "
   ]
  },
  {
   "cell_type": "code",
   "execution_count": 112,
   "metadata": {
    "collapsed": false
   },
   "outputs": [],
   "source": [
    "#I made the assumption that if a value was 0, it was postiive; shouldnt be important though\n",
    "copy[\"POS\"]=copy[cols].apply(fun, axis=1)"
   ]
  },
  {
   "cell_type": "code",
   "execution_count": 114,
   "metadata": {
    "collapsed": false
   },
   "outputs": [
    {
     "data": {
      "text/html": [
       "<div>\n",
       "<table border=\"1\" class=\"dataframe\">\n",
       "  <thead>\n",
       "    <tr style=\"text-align: right;\">\n",
       "      <th></th>\n",
       "      <th>SQFT</th>\n",
       "      <th>BDRMS</th>\n",
       "      <th>AGE</th>\n",
       "      <th>PRICE</th>\n",
       "      <th>SC_SQFT</th>\n",
       "      <th>SC_BDRMS</th>\n",
       "      <th>SC_AGE</th>\n",
       "      <th>SC_PRICE</th>\n",
       "      <th>POS</th>\n",
       "    </tr>\n",
       "  </thead>\n",
       "  <tbody>\n",
       "    <tr>\n",
       "      <th>0</th>\n",
       "      <td>2104</td>\n",
       "      <td>3</td>\n",
       "      <td>70</td>\n",
       "      <td>399900</td>\n",
       "      <td>0.131415</td>\n",
       "      <td>-0.226093</td>\n",
       "      <td>1.204453</td>\n",
       "      <td>0.480890</td>\n",
       "      <td>3</td>\n",
       "    </tr>\n",
       "    <tr>\n",
       "      <th>1</th>\n",
       "      <td>1600</td>\n",
       "      <td>3</td>\n",
       "      <td>28</td>\n",
       "      <td>329900</td>\n",
       "      <td>-0.509641</td>\n",
       "      <td>-0.226093</td>\n",
       "      <td>-0.651589</td>\n",
       "      <td>-0.084983</td>\n",
       "      <td>0</td>\n",
       "    </tr>\n",
       "    <tr>\n",
       "      <th>2</th>\n",
       "      <td>2400</td>\n",
       "      <td>3</td>\n",
       "      <td>44</td>\n",
       "      <td>369000</td>\n",
       "      <td>0.507909</td>\n",
       "      <td>-0.226093</td>\n",
       "      <td>0.055474</td>\n",
       "      <td>0.231097</td>\n",
       "      <td>3</td>\n",
       "    </tr>\n",
       "    <tr>\n",
       "      <th>3</th>\n",
       "      <td>1416</td>\n",
       "      <td>2</td>\n",
       "      <td>49</td>\n",
       "      <td>232000</td>\n",
       "      <td>-0.743677</td>\n",
       "      <td>-1.554392</td>\n",
       "      <td>0.276432</td>\n",
       "      <td>-0.876398</td>\n",
       "      <td>1</td>\n",
       "    </tr>\n",
       "    <tr>\n",
       "      <th>4</th>\n",
       "      <td>3000</td>\n",
       "      <td>4</td>\n",
       "      <td>75</td>\n",
       "      <td>539900</td>\n",
       "      <td>1.271071</td>\n",
       "      <td>1.102205</td>\n",
       "      <td>1.425410</td>\n",
       "      <td>1.612637</td>\n",
       "      <td>4</td>\n",
       "    </tr>\n",
       "  </tbody>\n",
       "</table>\n",
       "</div>"
      ],
      "text/plain": [
       "   SQFT  BDRMS  AGE   PRICE   SC_SQFT  SC_BDRMS    SC_AGE  SC_PRICE  POS\n",
       "0  2104      3   70  399900  0.131415 -0.226093  1.204453  0.480890    3\n",
       "1  1600      3   28  329900 -0.509641 -0.226093 -0.651589 -0.084983    0\n",
       "2  2400      3   44  369000  0.507909 -0.226093  0.055474  0.231097    3\n",
       "3  1416      2   49  232000 -0.743677 -1.554392  0.276432 -0.876398    1\n",
       "4  3000      4   75  539900  1.271071  1.102205  1.425410  1.612637    4"
      ]
     },
     "execution_count": 114,
     "metadata": {},
     "output_type": "execute_result"
    }
   ],
   "source": [
    "copy.head()"
   ]
  },
  {
   "cell_type": "markdown",
   "metadata": {},
   "source": [
    "### 9. Using a lambda function with .apply() return a 1 if the price is above the mean price and a 0 if not. Save this new column as 'HIGH_PRICE'."
   ]
  },
  {
   "cell_type": "code",
   "execution_count": 115,
   "metadata": {
    "collapsed": false
   },
   "outputs": [],
   "source": [
    "copy[\"HIGH_PRICE\"]=copy[\"SC_PRICE\"].apply(lambda x: 1 if x>=0 else 0)"
   ]
  },
  {
   "cell_type": "code",
   "execution_count": 116,
   "metadata": {
    "collapsed": false
   },
   "outputs": [
    {
     "data": {
      "text/html": [
       "<div>\n",
       "<table border=\"1\" class=\"dataframe\">\n",
       "  <thead>\n",
       "    <tr style=\"text-align: right;\">\n",
       "      <th></th>\n",
       "      <th>SQFT</th>\n",
       "      <th>BDRMS</th>\n",
       "      <th>AGE</th>\n",
       "      <th>PRICE</th>\n",
       "      <th>SC_SQFT</th>\n",
       "      <th>SC_BDRMS</th>\n",
       "      <th>SC_AGE</th>\n",
       "      <th>SC_PRICE</th>\n",
       "      <th>POS</th>\n",
       "      <th>HIGH_PRICE</th>\n",
       "    </tr>\n",
       "  </thead>\n",
       "  <tbody>\n",
       "    <tr>\n",
       "      <th>0</th>\n",
       "      <td>2104</td>\n",
       "      <td>3</td>\n",
       "      <td>70</td>\n",
       "      <td>399900</td>\n",
       "      <td>0.131415</td>\n",
       "      <td>-0.226093</td>\n",
       "      <td>1.204453</td>\n",
       "      <td>0.480890</td>\n",
       "      <td>3</td>\n",
       "      <td>1</td>\n",
       "    </tr>\n",
       "    <tr>\n",
       "      <th>1</th>\n",
       "      <td>1600</td>\n",
       "      <td>3</td>\n",
       "      <td>28</td>\n",
       "      <td>329900</td>\n",
       "      <td>-0.509641</td>\n",
       "      <td>-0.226093</td>\n",
       "      <td>-0.651589</td>\n",
       "      <td>-0.084983</td>\n",
       "      <td>0</td>\n",
       "      <td>0</td>\n",
       "    </tr>\n",
       "    <tr>\n",
       "      <th>2</th>\n",
       "      <td>2400</td>\n",
       "      <td>3</td>\n",
       "      <td>44</td>\n",
       "      <td>369000</td>\n",
       "      <td>0.507909</td>\n",
       "      <td>-0.226093</td>\n",
       "      <td>0.055474</td>\n",
       "      <td>0.231097</td>\n",
       "      <td>3</td>\n",
       "      <td>1</td>\n",
       "    </tr>\n",
       "    <tr>\n",
       "      <th>3</th>\n",
       "      <td>1416</td>\n",
       "      <td>2</td>\n",
       "      <td>49</td>\n",
       "      <td>232000</td>\n",
       "      <td>-0.743677</td>\n",
       "      <td>-1.554392</td>\n",
       "      <td>0.276432</td>\n",
       "      <td>-0.876398</td>\n",
       "      <td>1</td>\n",
       "      <td>0</td>\n",
       "    </tr>\n",
       "    <tr>\n",
       "      <th>4</th>\n",
       "      <td>3000</td>\n",
       "      <td>4</td>\n",
       "      <td>75</td>\n",
       "      <td>539900</td>\n",
       "      <td>1.271071</td>\n",
       "      <td>1.102205</td>\n",
       "      <td>1.425410</td>\n",
       "      <td>1.612637</td>\n",
       "      <td>4</td>\n",
       "      <td>1</td>\n",
       "    </tr>\n",
       "  </tbody>\n",
       "</table>\n",
       "</div>"
      ],
      "text/plain": [
       "   SQFT  BDRMS  AGE   PRICE   SC_SQFT  SC_BDRMS    SC_AGE  SC_PRICE  POS  \\\n",
       "0  2104      3   70  399900  0.131415 -0.226093  1.204453  0.480890    3   \n",
       "1  1600      3   28  329900 -0.509641 -0.226093 -0.651589 -0.084983    0   \n",
       "2  2400      3   44  369000  0.507909 -0.226093  0.055474  0.231097    3   \n",
       "3  1416      2   49  232000 -0.743677 -1.554392  0.276432 -0.876398    1   \n",
       "4  3000      4   75  539900  1.271071  1.102205  1.425410  1.612637    4   \n",
       "\n",
       "   HIGH_PRICE  \n",
       "0           1  \n",
       "1           0  \n",
       "2           1  \n",
       "3           0  \n",
       "4           1  "
      ]
     },
     "execution_count": 116,
     "metadata": {},
     "output_type": "execute_result"
    }
   ],
   "source": [
    "copy.head()"
   ]
  },
  {
   "cell_type": "markdown",
   "metadata": {},
   "source": [
    "### 9. Using a minimum of 3 feature columns (not 'PRICE'), set a design matrix (X).  Next set a target vector (y). The target vector should be the 'HIGH_PRICE' column you just created."
   ]
  },
  {
   "cell_type": "code",
   "execution_count": 118,
   "metadata": {
    "collapsed": false
   },
   "outputs": [
    {
     "data": {
      "text/plain": [
       "Index([u'SQFT', u'BDRMS', u'AGE', u'PRICE', u'SC_SQFT', u'SC_BDRMS', u'SC_AGE',\n",
       "       u'SC_PRICE', u'POS', u'HIGH_PRICE'],\n",
       "      dtype='object')"
      ]
     },
     "execution_count": 118,
     "metadata": {},
     "output_type": "execute_result"
    }
   ],
   "source": [
    "copy.columns"
   ]
  },
  {
   "cell_type": "code",
   "execution_count": 132,
   "metadata": {
    "collapsed": false
   },
   "outputs": [],
   "source": [
    "independent=[u'SC_SQFT', u'SC_BDRMS', u'SC_AGE']\n",
    "x=copy[independent]\n",
    "y=copy[\"HIGH_PRICE\"]"
   ]
  },
  {
   "cell_type": "markdown",
   "metadata": {},
   "source": [
    "### 10. Using sk-learn's GridSearchCV and k-nn, find the optimal hyper-parmaters. Set the number of folds to 3 and the k to the range from 1 to 5. What is the best k? What is the best score? What does this score represent?"
   ]
  },
  {
   "cell_type": "code",
   "execution_count": 133,
   "metadata": {
    "collapsed": false
   },
   "outputs": [],
   "source": [
    "from sklearn.linear_model import LogisticRegression, LogisticRegressionCV\n",
    "from sklearn.grid_search import GridSearchCV\n",
    "from sklearn.neighbors import KNeighborsClassifier as KNeighborsClassifier\n",
    "from sklearn.cross_validation import train_test_split"
   ]
  },
  {
   "cell_type": "code",
   "execution_count": 134,
   "metadata": {
    "collapsed": false
   },
   "outputs": [
    {
     "name": "stdout",
     "output_type": "stream",
     "text": [
      "Best k value is:  1\n",
      "Best Score is:    0.702127659574\n"
     ]
    }
   ],
   "source": [
    "klist=range(1,6)\n",
    "kneigh=KNeighborsClassifier()\n",
    "gs=GridSearchCV(kneigh, {'n_neighbors':klist},cv=3)\n",
    "gs.fit(x,y)\n",
    "print \"Best k value is: \",gs.best_params_[\"n_neighbors\"]\n",
    "print \"Best Score is:   \",gs.best_score_\n",
    "#The score represents how well the model correctly assigns the binary of 1 or 0 to the high_price\n",
    "#High scores mean that the model works really well at predicting our binary values\n",
    "#Low scores mean that the model is poor at predicting our binary values"
   ]
  },
  {
   "cell_type": "code",
   "execution_count": null,
   "metadata": {
    "collapsed": false
   },
   "outputs": [],
   "source": []
  },
  {
   "cell_type": "code",
   "execution_count": null,
   "metadata": {
    "collapsed": false
   },
   "outputs": [],
   "source": []
  },
  {
   "cell_type": "code",
   "execution_count": 131,
   "metadata": {
    "collapsed": false
   },
   "outputs": [
    {
     "data": {
      "text/plain": [
       "4"
      ]
     },
     "execution_count": 131,
     "metadata": {},
     "output_type": "execute_result"
    }
   ],
   "source": []
  },
  {
   "cell_type": "markdown",
   "metadata": {},
   "source": [
    "### Bonus: If you have time, re-run the model using the scaled feature columns using a logistic regression. Test which features are most important using a penalized regression. Which is better L1 or L2? What penalty (C) is optimal?"
   ]
  },
  {
   "cell_type": "code",
   "execution_count": 135,
   "metadata": {
    "collapsed": false
   },
   "outputs": [
    {
     "name": "stdout",
     "output_type": "stream",
     "text": [
      "You should use the following penalizer:  l1\n",
      "You should use the following inverse regularization value: 1\n"
     ]
    }
   ],
   "source": [
    "c_list=[10**z for z in range(-5,5)]\n",
    "p_list=['l1','l2']\n",
    "logreg=LogisticRegression(solver='liblinear')\n",
    "gs=GridSearchCV(logreg,{'penalty':p_list,'C':c_list},cv=3)\n",
    "gs.fit(x,y)\n",
    "\n",
    "print \"You should use the following penalizer: \",gs.best_params_[\"penalty\"]\n",
    "print \"You should use the following inverse regularization value:\",gs.best_params_[\"C\"]"
   ]
  },
  {
   "cell_type": "code",
   "execution_count": null,
   "metadata": {
    "collapsed": true
   },
   "outputs": [],
   "source": []
  },
  {
   "cell_type": "code",
   "execution_count": null,
   "metadata": {
    "collapsed": true
   },
   "outputs": [],
   "source": []
  },
  {
   "cell_type": "code",
   "execution_count": null,
   "metadata": {
    "collapsed": true
   },
   "outputs": [],
   "source": []
  },
  {
   "cell_type": "code",
   "execution_count": null,
   "metadata": {
    "collapsed": true
   },
   "outputs": [],
   "source": []
  },
  {
   "cell_type": "code",
   "execution_count": null,
   "metadata": {
    "collapsed": true
   },
   "outputs": [],
   "source": []
  },
  {
   "cell_type": "code",
   "execution_count": null,
   "metadata": {
    "collapsed": true
   },
   "outputs": [],
   "source": []
  }
 ],
 "metadata": {
  "anaconda-cloud": {},
  "kernelspec": {
   "display_name": "Python [default]",
   "language": "python",
   "name": "python2"
  },
  "language_info": {
   "codemirror_mode": {
    "name": "ipython",
    "version": 2
   },
   "file_extension": ".py",
   "mimetype": "text/x-python",
   "name": "python",
   "nbconvert_exporter": "python",
   "pygments_lexer": "ipython2",
   "version": "2.7.12"
  }
 },
 "nbformat": 4,
 "nbformat_minor": 0
}
