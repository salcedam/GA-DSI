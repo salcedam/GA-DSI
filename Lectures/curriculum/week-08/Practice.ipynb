{
 "cells": [
  {
   "cell_type": "code",
   "execution_count": 56,
   "metadata": {
    "collapsed": false
   },
   "outputs": [],
   "source": [
    "def num_check(l):\n",
    "    array=l[0]\n",
    "    integer=l[1]\n",
    "    return_value=False\n",
    "    switch=True\n",
    "    a=[]\n",
    "    i=0\n",
    "    j=0\n",
    "    while switch:\n",
    "        while i < len(array):\n",
    "            j=i\n",
    "            while j < len(array):\n",
    "                a.append([array[i],array[j]])\n",
    "                if array[i]+array[j]==integer:\n",
    "                    return_value=True   \n",
    "                    switch=False\n",
    "                    j=len(array)+5\n",
    "                    i=len(array)+5\n",
    "                j+=1\n",
    "            i+=1\n",
    "        switch=False\n",
    "    print a\n",
    "    return return_value"
   ]
  },
  {
   "cell_type": "code",
   "execution_count": 57,
   "metadata": {
    "collapsed": true
   },
   "outputs": [],
   "source": [
    "test_1 = ([3, 7, 88, 24, 9, 0], 9)\n",
    "test_2 = ([4, 93, 2000, 36, 55], 41)\n",
    "test_3 = ([4, 44, 4444, 1616, 8, 16], 48)\n",
    "test_4 =([2, -3, 72, -6, 1], 1)"
   ]
  },
  {
   "cell_type": "code",
   "execution_count": 58,
   "metadata": {
    "collapsed": false
   },
   "outputs": [
    {
     "name": "stdout",
     "output_type": "stream",
     "text": [
      "[[3, 3], [3, 7], [3, 88], [3, 24], [3, 9], [3, 0], [7, 7], [7, 88], [7, 24], [7, 9], [7, 0], [88, 88], [88, 24], [88, 9], [88, 0], [24, 24], [24, 9], [24, 0], [9, 9], [9, 0]]\n",
      "True\n",
      "[[4, 4], [4, 93], [4, 2000], [4, 36], [4, 55], [93, 93], [93, 2000], [93, 36], [93, 55], [2000, 2000], [2000, 36], [2000, 55], [36, 36], [36, 55], [55, 55]]\n",
      "False\n",
      "[[4, 4], [4, 44]]\n",
      "True\n",
      "[[2, 2], [2, -3], [2, 72], [2, -6], [2, 1], [-3, -3], [-3, 72], [-3, -6], [-3, 1], [72, 72], [72, -6], [72, 1], [-6, -6], [-6, 1], [1, 1]]\n",
      "False\n"
     ]
    }
   ],
   "source": [
    "print num_check(test_1)\n",
    "print num_check(test_2)\n",
    "print num_check(test_3)\n",
    "print num_check(test_4)"
   ]
  },
  {
   "cell_type": "markdown",
   "metadata": {},
   "source": [
    "Q: Thinking about data structures in python, what is the difference between a binary tree data structure vs a hashmap data structure?\n",
    "\n",
    "A: Binary Tree Data structure chooses true or false, simply put boolean. Even in the multiclass case, there is only one true value that it will pursue. As for the hashmap data structure, it will look up a the value associated with a key. Rather than having an option, there is 1:1 matching."
   ]
  },
  {
   "cell_type": "code",
   "execution_count": null,
   "metadata": {
    "collapsed": true
   },
   "outputs": [],
   "source": []
  },
  {
   "cell_type": "markdown",
   "metadata": {},
   "source": [
    "How does the import module work in pyton?"
   ]
  },
  {
   "cell_type": "markdown",
   "metadata": {},
   "source": [
    "The import module brings in a library of premade functions, so that you don't have to go making functions that you want to use. If you want to do something, chances are there's a library for that."
   ]
  },
  {
   "cell_type": "code",
   "execution_count": null,
   "metadata": {
    "collapsed": true
   },
   "outputs": [],
   "source": [
    "def num_check(l):\n",
    "    array=l[0]\n",
    "    integer=l[1]\n",
    "    return_value=False\n",
    "    for x in array:\n",
    "        for y in array:\n",
    "            if x+y=integer:\n",
    "                return_value=True   \n",
    "    return return_value"
   ]
  },
  {
   "cell_type": "code",
   "execution_count": null,
   "metadata": {
    "collapsed": true
   },
   "outputs": [],
   "source": []
  },
  {
   "cell_type": "code",
   "execution_count": null,
   "metadata": {
    "collapsed": true
   },
   "outputs": [],
   "source": []
  },
  {
   "cell_type": "code",
   "execution_count": null,
   "metadata": {
    "collapsed": true
   },
   "outputs": [],
   "source": []
  },
  {
   "cell_type": "code",
   "execution_count": null,
   "metadata": {
    "collapsed": true
   },
   "outputs": [],
   "source": []
  },
  {
   "cell_type": "code",
   "execution_count": null,
   "metadata": {
    "collapsed": true
   },
   "outputs": [],
   "source": []
  }
 ],
 "metadata": {
  "anaconda-cloud": {},
  "kernelspec": {
   "display_name": "Python [default]",
   "language": "python",
   "name": "python2"
  },
  "language_info": {
   "codemirror_mode": {
    "name": "ipython",
    "version": 2
   },
   "file_extension": ".py",
   "mimetype": "text/x-python",
   "name": "python",
   "nbconvert_exporter": "python",
   "pygments_lexer": "ipython2",
   "version": "2.7.12"
  }
 },
 "nbformat": 4,
 "nbformat_minor": 1
}
