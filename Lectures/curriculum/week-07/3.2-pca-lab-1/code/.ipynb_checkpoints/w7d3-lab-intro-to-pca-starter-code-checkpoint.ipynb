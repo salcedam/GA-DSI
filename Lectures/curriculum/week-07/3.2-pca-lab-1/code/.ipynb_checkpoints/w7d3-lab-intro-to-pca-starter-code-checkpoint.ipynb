{
 "cells": [
  {
   "cell_type": "code",
   "execution_count": 88,
   "metadata": {
    "collapsed": true
   },
   "outputs": [],
   "source": [
    "import pandas as pd\n",
    "import numpy as np\n",
    "import os\n",
    "from matplotlib import pyplot as plt\n",
    "import numpy as np\n",
    "import math\n",
    "from sklearn.preprocessing import StandardScaler\n",
    "from sklearn.decomposition import PCA \n",
    "%matplotlib inline\n",
    "\n",
    "votes_file = '../assets/datasets/votes.csv'\n",
    "airport_file = '../assets/datasets/Airport_operations.csv'"
   ]
  },
  {
   "cell_type": "markdown",
   "metadata": {},
   "source": [
    "# Case #1: Congressional Voting Data"
   ]
  },
  {
   "cell_type": "markdown",
   "metadata": {},
   "source": [
    "After you've downloaded the data from the repository, go ahead and load it with Pandas"
   ]
  },
  {
   "cell_type": "code",
   "execution_count": 89,
   "metadata": {
    "collapsed": false
   },
   "outputs": [],
   "source": [
    "votes=pd.read_csv(votes_file)\n",
    "airport=pd.read_csv(airport_file)"
   ]
  },
  {
   "cell_type": "code",
   "execution_count": 90,
   "metadata": {
    "collapsed": false
   },
   "outputs": [
    {
     "data": {
      "text/html": [
       "<div>\n",
       "<table border=\"1\" class=\"dataframe\">\n",
       "  <thead>\n",
       "    <tr style=\"text-align: right;\">\n",
       "      <th></th>\n",
       "      <th>Unnamed: 0</th>\n",
       "      <th>Class</th>\n",
       "      <th>V1</th>\n",
       "      <th>V2</th>\n",
       "      <th>V3</th>\n",
       "      <th>V4</th>\n",
       "      <th>V5</th>\n",
       "      <th>V6</th>\n",
       "      <th>V7</th>\n",
       "      <th>V8</th>\n",
       "      <th>V9</th>\n",
       "      <th>V10</th>\n",
       "      <th>V11</th>\n",
       "      <th>V12</th>\n",
       "      <th>V13</th>\n",
       "      <th>V14</th>\n",
       "      <th>V15</th>\n",
       "      <th>V16</th>\n",
       "    </tr>\n",
       "  </thead>\n",
       "  <tbody>\n",
       "    <tr>\n",
       "      <th>0</th>\n",
       "      <td>1</td>\n",
       "      <td>republican</td>\n",
       "      <td>n</td>\n",
       "      <td>y</td>\n",
       "      <td>n</td>\n",
       "      <td>y</td>\n",
       "      <td>y</td>\n",
       "      <td>y</td>\n",
       "      <td>n</td>\n",
       "      <td>n</td>\n",
       "      <td>n</td>\n",
       "      <td>y</td>\n",
       "      <td>NaN</td>\n",
       "      <td>y</td>\n",
       "      <td>y</td>\n",
       "      <td>y</td>\n",
       "      <td>n</td>\n",
       "      <td>y</td>\n",
       "    </tr>\n",
       "    <tr>\n",
       "      <th>1</th>\n",
       "      <td>2</td>\n",
       "      <td>republican</td>\n",
       "      <td>n</td>\n",
       "      <td>y</td>\n",
       "      <td>n</td>\n",
       "      <td>y</td>\n",
       "      <td>y</td>\n",
       "      <td>y</td>\n",
       "      <td>n</td>\n",
       "      <td>n</td>\n",
       "      <td>n</td>\n",
       "      <td>n</td>\n",
       "      <td>n</td>\n",
       "      <td>y</td>\n",
       "      <td>y</td>\n",
       "      <td>y</td>\n",
       "      <td>n</td>\n",
       "      <td>NaN</td>\n",
       "    </tr>\n",
       "    <tr>\n",
       "      <th>2</th>\n",
       "      <td>3</td>\n",
       "      <td>democrat</td>\n",
       "      <td>NaN</td>\n",
       "      <td>y</td>\n",
       "      <td>y</td>\n",
       "      <td>NaN</td>\n",
       "      <td>y</td>\n",
       "      <td>y</td>\n",
       "      <td>n</td>\n",
       "      <td>n</td>\n",
       "      <td>n</td>\n",
       "      <td>n</td>\n",
       "      <td>y</td>\n",
       "      <td>n</td>\n",
       "      <td>y</td>\n",
       "      <td>y</td>\n",
       "      <td>n</td>\n",
       "      <td>n</td>\n",
       "    </tr>\n",
       "    <tr>\n",
       "      <th>3</th>\n",
       "      <td>4</td>\n",
       "      <td>democrat</td>\n",
       "      <td>n</td>\n",
       "      <td>y</td>\n",
       "      <td>y</td>\n",
       "      <td>n</td>\n",
       "      <td>NaN</td>\n",
       "      <td>y</td>\n",
       "      <td>n</td>\n",
       "      <td>n</td>\n",
       "      <td>n</td>\n",
       "      <td>n</td>\n",
       "      <td>y</td>\n",
       "      <td>n</td>\n",
       "      <td>y</td>\n",
       "      <td>n</td>\n",
       "      <td>n</td>\n",
       "      <td>y</td>\n",
       "    </tr>\n",
       "    <tr>\n",
       "      <th>4</th>\n",
       "      <td>5</td>\n",
       "      <td>democrat</td>\n",
       "      <td>y</td>\n",
       "      <td>y</td>\n",
       "      <td>y</td>\n",
       "      <td>n</td>\n",
       "      <td>y</td>\n",
       "      <td>y</td>\n",
       "      <td>n</td>\n",
       "      <td>n</td>\n",
       "      <td>n</td>\n",
       "      <td>n</td>\n",
       "      <td>y</td>\n",
       "      <td>NaN</td>\n",
       "      <td>y</td>\n",
       "      <td>y</td>\n",
       "      <td>y</td>\n",
       "      <td>y</td>\n",
       "    </tr>\n",
       "  </tbody>\n",
       "</table>\n",
       "</div>"
      ],
      "text/plain": [
       "   Unnamed: 0       Class   V1 V2 V3   V4   V5 V6 V7 V8 V9 V10  V11  V12 V13  \\\n",
       "0           1  republican    n  y  n    y    y  y  n  n  n   y  NaN    y   y   \n",
       "1           2  republican    n  y  n    y    y  y  n  n  n   n    n    y   y   \n",
       "2           3    democrat  NaN  y  y  NaN    y  y  n  n  n   n    y    n   y   \n",
       "3           4    democrat    n  y  y    n  NaN  y  n  n  n   n    y    n   y   \n",
       "4           5    democrat    y  y  y    n    y  y  n  n  n   n    y  NaN   y   \n",
       "\n",
       "  V14 V15  V16  \n",
       "0   y   n    y  \n",
       "1   y   n  NaN  \n",
       "2   y   n    n  \n",
       "3   n   n    y  \n",
       "4   y   y    y  "
      ]
     },
     "execution_count": 90,
     "metadata": {},
     "output_type": "execute_result"
    }
   ],
   "source": [
    "votes.head()"
   ]
  },
  {
   "cell_type": "markdown",
   "metadata": {},
   "source": [
    "Next, let's define the x and y variables: "
   ]
  },
  {
   "cell_type": "code",
   "execution_count": 91,
   "metadata": {
    "collapsed": false
   },
   "outputs": [],
   "source": [
    "y=votes[\"Class\"].copy()\n",
    "cols=[u'V1', u'V2', u'V3', u'V4', u'V5', u'V6',\n",
    "       u'V7', u'V8', u'V9', u'V10', u'V11', u'V12', u'V13', u'V14', u'V15',\n",
    "       u'V16']\n",
    "X=votes[cols]"
   ]
  },
  {
   "cell_type": "markdown",
   "metadata": {},
   "source": [
    "Next, create the covariance matrix from the standardized x-values and decompose these values to find the eigenvalues and eigenvectors"
   ]
  },
  {
   "cell_type": "code",
   "execution_count": 92,
   "metadata": {
    "collapsed": false
   },
   "outputs": [],
   "source": [
    "def binning(beta):\n",
    "    return_value=0.\n",
    "    if beta==np.NaN:\n",
    "        return_value=0.5\n",
    "    elif beta=='y':\n",
    "        return_value=1.\n",
    "    elif beta=='n':\n",
    "        return_value=0.\n",
    "    return return_value\n",
    "\n",
    "def normalization(beta,columns):\n",
    "    mean=np.mean(X[columns])\n",
    "    standard=np.std(X[columns])+10**-8\n",
    "    return (beta-mean)/standard"
   ]
  },
  {
   "cell_type": "code",
   "execution_count": 93,
   "metadata": {
    "collapsed": false
   },
   "outputs": [
    {
     "name": "stderr",
     "output_type": "stream",
     "text": [
      "/Users/thomas/anaconda/lib/python2.7/site-packages/ipykernel/__main__.py:2: SettingWithCopyWarning: \n",
      "A value is trying to be set on a copy of a slice from a DataFrame.\n",
      "Try using .loc[row_indexer,col_indexer] = value instead\n",
      "\n",
      "See the caveats in the documentation: http://pandas.pydata.org/pandas-docs/stable/indexing.html#indexing-view-versus-copy\n",
      "  from ipykernel import kernelapp as app\n",
      "/Users/thomas/anaconda/lib/python2.7/site-packages/ipykernel/__main__.py:4: SettingWithCopyWarning: \n",
      "A value is trying to be set on a copy of a slice from a DataFrame.\n",
      "Try using .loc[row_indexer,col_indexer] = value instead\n",
      "\n",
      "See the caveats in the documentation: http://pandas.pydata.org/pandas-docs/stable/indexing.html#indexing-view-versus-copy\n"
     ]
    }
   ],
   "source": [
    "for col in cols:\n",
    "    X[col]=X[col].apply(lambda x: binning(x))\n",
    "for col in cols:\n",
    "    X[col]=X[col].apply(lambda x: normalization(x,col))"
   ]
  },
  {
   "cell_type": "code",
   "execution_count": 94,
   "metadata": {
    "collapsed": false,
    "scrolled": true
   },
   "outputs": [
    {
     "data": {
      "image/png": "[encoded data removed]",
      "text/plain": [
       "<matplotlib.figure.Figure at 0x11e47b450>"
      ]
     },
     "metadata": {},
     "output_type": "display_data"
    }
   ],
   "source": [
    "plt.imshow(X.cov(),cmap='hot',interpolation='nearest')\n",
    "plt.show()"
   ]
  },
  {
   "cell_type": "markdown",
   "metadata": {},
   "source": [
    "Now, let's check the eigenvalues: "
   ]
  },
  {
   "cell_type": "code",
   "execution_count": null,
   "metadata": {
    "collapsed": false
   },
   "outputs": [],
   "source": []
  },
  {
   "cell_type": "code",
   "execution_count": 95,
   "metadata": {
    "collapsed": false,
    "scrolled": true
   },
   "outputs": [
    {
     "name": "stdout",
     "output_type": "stream",
     "text": [
      "[ 7.085916    1.44534852  1.19704822  0.87923662  0.8229492   0.73630883\n",
      "  0.14054025  0.21139682  0.6089635   0.27558846  0.31785755  0.35884644\n",
      "  0.41245451  0.53906544  0.51313228  0.45534734]\n"
     ]
    }
   ],
   "source": [
    "X_noage_corr = np.corrcoef(X.values.T)\n",
    "eig_vals, eig_vecs = np.linalg.eig(X_noage_corr)\n",
    "print eig_vals"
   ]
  },
  {
   "cell_type": "markdown",
   "metadata": {},
   "source": [
    "And the eigenvectors: "
   ]
  },
  {
   "cell_type": "code",
   "execution_count": 96,
   "metadata": {
    "collapsed": false,
    "scrolled": true
   },
   "outputs": [
    {
     "name": "stdout",
     "output_type": "stream",
     "text": [
      "[[-0.18803934 -0.19357121  0.07328808  0.51751543  0.35845006  0.62089874\n",
      "   0.05713493  0.00747574 -0.15602045  0.03613906  0.07010134  0.20296072\n",
      "   0.12290505  0.07348099  0.20525446 -0.04760145]\n",
      " [ 0.05231849 -0.5860793  -0.23045319  0.37516036  0.12646973 -0.55398342\n",
      "  -0.01855198  0.10910015 -0.10486865 -0.0799821  -0.0801356   0.13259865\n",
      "  -0.06581724  0.07925709 -0.00808044  0.26963501]\n",
      " [-0.29660826 -0.08013044 -0.16884543 -0.01308925  0.10990706  0.03068335\n",
      "   0.2133564   0.06665988  0.17958811  0.23883742 -0.56681358 -0.45295072\n",
      "   0.08181081 -0.3596669   0.23464645  0.08418781]\n",
      " [ 0.31510691  0.1422561   0.07340739  0.13936979 -0.00770719 -0.05450439\n",
      "   0.39727071 -0.4526401  -0.17904898  0.55964437 -0.01205996 -0.0780124\n",
      "  -0.11191782  0.25270932  0.01034961  0.24886662]\n",
      " [ 0.33401889 -0.0385968  -0.02237429  0.09559165 -0.01349543  0.13452608\n",
      "  -0.76511773  0.07320061 -0.17191793  0.32328863 -0.03152091 -0.26761767\n",
      "  -0.17093715 -0.13088875  0.11234843  0.05101759]\n",
      " [ 0.26716267 -0.07972083 -0.25992991 -0.19341153  0.03386373  0.03842238\n",
      "   0.07856633 -0.01950334  0.31205465  0.18250948  0.37816447  0.3496993\n",
      "   0.1915876  -0.44154008  0.37379665  0.20186102]\n",
      " [-0.29182075  0.19643052 -0.04588376  0.09917934  0.00585422 -0.01333985\n",
      "   0.02286656  0.27081755  0.13634586 -0.05344028  0.51147706 -0.42817513\n",
      "  -0.13996501  0.23355998  0.16912358  0.47021755]\n",
      " [-0.32681104  0.0725546  -0.07536811  0.00111245  0.08663186 -0.07794592\n",
      "  -0.39578094 -0.73144287  0.23223146 -0.17757482 -0.07836788  0.07319843\n",
      "   0.12111501  0.11381175  0.10993021  0.20086437]\n",
      " [-0.29287877  0.18058669 -0.00924878  0.03611105  0.01701353 -0.17373675\n",
      "  -0.15624907  0.28123287  0.34831872  0.50427207 -0.13000295  0.41876627\n",
      "  -0.17583247  0.31855412  0.09648134 -0.1914593 ]\n",
      " [ 0.01359228  0.37071451 -0.57391342 -0.15274865  0.60726484 -0.0858061\n",
      "  -0.01674202  0.04673526 -0.31069277 -0.0048658   0.02398412  0.01148239\n",
      "   0.03878859  0.03544397 -0.15575929 -0.08244357]\n",
      " [-0.07112483 -0.4880378  -0.44655414 -0.38257418 -0.2003779   0.38145471\n",
      "   0.01032933 -0.05008511  0.06897903  0.14494611  0.04193094 -0.08099002\n",
      "  -0.04240787  0.37112324 -0.22157141 -0.0016436 ]\n",
      " [ 0.28929338  0.15955659  0.01496153 -0.04203207 -0.07669119  0.06817755\n",
      "  -0.07946873  0.26127784  0.03239667 -0.10602841 -0.33002518  0.05724727\n",
      "   0.6390797   0.39062137  0.10896117  0.32616483]\n",
      " [ 0.27553751 -0.06114016 -0.14476793  0.12948346  0.04813455 -0.14713108\n",
      "   0.06865143 -0.10365127  0.22486428 -0.14032207  0.11204054 -0.32483382\n",
      "   0.06428168  0.30238212  0.46090533 -0.58895758]\n",
      " [ 0.28769832  0.14238328 -0.13711492  0.00581328  0.03355151  0.24352607\n",
      "   0.08900957  0.0304292   0.19874087 -0.37634747 -0.33552707  0.1694557\n",
      "  -0.63338072  0.07327798  0.17909653  0.2186269 ]\n",
      " [-0.24744034 -0.0173265  -0.01321806 -0.29871419 -0.2442241  -0.07884425\n",
      "   0.01302678  0.00362204 -0.61764899 -0.03636348 -0.04670851  0.15415021\n",
      "  -0.0844283   0.07268007  0.60154166  0.00202327]\n",
      " [-0.07138452  0.28757258 -0.51258496  0.48647494 -0.59693453  0.05455208\n",
      "   0.01953834 -0.02986224 -0.07535585 -0.02494754 -0.00497602  0.06360254\n",
      "   0.0780074  -0.14271012 -0.0933167  -0.08182005]]\n"
     ]
    }
   ],
   "source": [
    "print eig_vecs"
   ]
  },
  {
   "cell_type": "markdown",
   "metadata": {},
   "source": [
    "To find the principal componants, find the eigenpairs, and sort them from highest to lowest. "
   ]
  },
  {
   "cell_type": "code",
   "execution_count": 100,
   "metadata": {
    "collapsed": true
   },
   "outputs": [],
   "source": [
    "from sklearn.cross_validation import train_test_split"
   ]
  },
  {
   "cell_type": "code",
   "execution_count": 115,
   "metadata": {
    "collapsed": false
   },
   "outputs": [],
   "source": [
    "pca=PCA()\n",
    "pca.fit(X)\n",
    "x_tranform=pca.transform(X)"
   ]
  },
  {
   "cell_type": "code",
   "execution_count": 116,
   "metadata": {
    "collapsed": false
   },
   "outputs": [
    {
     "data": {
      "text/html": [
       "<div>\n",
       "<table border=\"1\" class=\"dataframe\">\n",
       "  <thead>\n",
       "    <tr style=\"text-align: right;\">\n",
       "      <th></th>\n",
       "      <th>0</th>\n",
       "      <th>1</th>\n",
       "      <th>2</th>\n",
       "      <th>3</th>\n",
       "      <th>4</th>\n",
       "      <th>5</th>\n",
       "      <th>6</th>\n",
       "      <th>7</th>\n",
       "      <th>8</th>\n",
       "      <th>9</th>\n",
       "      <th>10</th>\n",
       "      <th>11</th>\n",
       "      <th>12</th>\n",
       "      <th>13</th>\n",
       "      <th>14</th>\n",
       "      <th>15</th>\n",
       "    </tr>\n",
       "  </thead>\n",
       "  <tbody>\n",
       "    <tr>\n",
       "      <th>0</th>\n",
       "      <td>1.000000</td>\n",
       "      <td>0.038959</td>\n",
       "      <td>0.397613</td>\n",
       "      <td>-0.397852</td>\n",
       "      <td>-0.344995</td>\n",
       "      <td>-0.383045</td>\n",
       "      <td>0.347719</td>\n",
       "      <td>0.392259</td>\n",
       "      <td>0.297665</td>\n",
       "      <td>-0.082241</td>\n",
       "      <td>0.112518</td>\n",
       "      <td>-0.394638</td>\n",
       "      <td>-0.323868</td>\n",
       "      <td>-0.343410</td>\n",
       "      <td>0.219905</td>\n",
       "      <td>0.041686</td>\n",
       "    </tr>\n",
       "    <tr>\n",
       "      <th>1</th>\n",
       "      <td>0.038959</td>\n",
       "      <td>1.000000</td>\n",
       "      <td>-0.031990</td>\n",
       "      <td>0.072032</td>\n",
       "      <td>0.138401</td>\n",
       "      <td>0.143904</td>\n",
       "      <td>-0.187092</td>\n",
       "      <td>-0.116142</td>\n",
       "      <td>-0.183201</td>\n",
       "      <td>-0.090858</td>\n",
       "      <td>0.211607</td>\n",
       "      <td>-0.025128</td>\n",
       "      <td>0.206417</td>\n",
       "      <td>-0.010947</td>\n",
       "      <td>-0.113228</td>\n",
       "      <td>-0.062672</td>\n",
       "    </tr>\n",
       "    <tr>\n",
       "      <th>2</th>\n",
       "      <td>0.397613</td>\n",
       "      <td>-0.031990</td>\n",
       "      <td>1.000000</td>\n",
       "      <td>-0.701463</td>\n",
       "      <td>-0.627474</td>\n",
       "      <td>-0.425515</td>\n",
       "      <td>0.580665</td>\n",
       "      <td>0.696477</td>\n",
       "      <td>0.556208</td>\n",
       "      <td>0.031433</td>\n",
       "      <td>0.213332</td>\n",
       "      <td>-0.614966</td>\n",
       "      <td>-0.518202</td>\n",
       "      <td>-0.557641</td>\n",
       "      <td>0.473727</td>\n",
       "      <td>0.158740</td>\n",
       "    </tr>\n",
       "    <tr>\n",
       "      <th>3</th>\n",
       "      <td>-0.397852</td>\n",
       "      <td>0.072032</td>\n",
       "      <td>-0.701463</td>\n",
       "      <td>1.000000</td>\n",
       "      <td>0.765237</td>\n",
       "      <td>0.476841</td>\n",
       "      <td>-0.547834</td>\n",
       "      <td>-0.692007</td>\n",
       "      <td>-0.583073</td>\n",
       "      <td>0.057189</td>\n",
       "      <td>-0.285850</td>\n",
       "      <td>0.684253</td>\n",
       "      <td>0.561587</td>\n",
       "      <td>0.634164</td>\n",
       "      <td>-0.513902</td>\n",
       "      <td>-0.110348</td>\n",
       "    </tr>\n",
       "    <tr>\n",
       "      <th>4</th>\n",
       "      <td>-0.344995</td>\n",
       "      <td>0.138401</td>\n",
       "      <td>-0.627474</td>\n",
       "      <td>0.765237</td>\n",
       "      <td>1.000000</td>\n",
       "      <td>0.612266</td>\n",
       "      <td>-0.660717</td>\n",
       "      <td>-0.804828</td>\n",
       "      <td>-0.735647</td>\n",
       "      <td>0.015923</td>\n",
       "      <td>-0.146143</td>\n",
       "      <td>0.618277</td>\n",
       "      <td>0.627278</td>\n",
       "      <td>0.679440</td>\n",
       "      <td>-0.533240</td>\n",
       "      <td>-0.124014</td>\n",
       "    </tr>\n",
       "    <tr>\n",
       "      <th>5</th>\n",
       "      <td>-0.383045</td>\n",
       "      <td>0.143904</td>\n",
       "      <td>-0.425515</td>\n",
       "      <td>0.476841</td>\n",
       "      <td>0.612266</td>\n",
       "      <td>1.000000</td>\n",
       "      <td>-0.538765</td>\n",
       "      <td>-0.547933</td>\n",
       "      <td>-0.546174</td>\n",
       "      <td>0.103896</td>\n",
       "      <td>0.012059</td>\n",
       "      <td>0.506346</td>\n",
       "      <td>0.525807</td>\n",
       "      <td>0.565316</td>\n",
       "      <td>-0.434304</td>\n",
       "      <td>-0.099742</td>\n",
       "    </tr>\n",
       "    <tr>\n",
       "      <th>6</th>\n",
       "      <td>0.347719</td>\n",
       "      <td>-0.187092</td>\n",
       "      <td>0.580665</td>\n",
       "      <td>-0.547834</td>\n",
       "      <td>-0.660717</td>\n",
       "      <td>-0.538765</td>\n",
       "      <td>1.000000</td>\n",
       "      <td>0.716452</td>\n",
       "      <td>0.631587</td>\n",
       "      <td>0.049200</td>\n",
       "      <td>0.044581</td>\n",
       "      <td>-0.510349</td>\n",
       "      <td>-0.534795</td>\n",
       "      <td>-0.497046</td>\n",
       "      <td>0.465902</td>\n",
       "      <td>0.230213</td>\n",
       "    </tr>\n",
       "    <tr>\n",
       "      <th>7</th>\n",
       "      <td>0.392259</td>\n",
       "      <td>-0.116142</td>\n",
       "      <td>0.696477</td>\n",
       "      <td>-0.692007</td>\n",
       "      <td>-0.804828</td>\n",
       "      <td>-0.547933</td>\n",
       "      <td>0.716452</td>\n",
       "      <td>1.000000</td>\n",
       "      <td>0.711943</td>\n",
       "      <td>0.044741</td>\n",
       "      <td>0.131926</td>\n",
       "      <td>-0.588588</td>\n",
       "      <td>-0.585979</td>\n",
       "      <td>-0.597885</td>\n",
       "      <td>0.511926</td>\n",
       "      <td>0.174781</td>\n",
       "    </tr>\n",
       "    <tr>\n",
       "      <th>8</th>\n",
       "      <td>0.297665</td>\n",
       "      <td>-0.183201</td>\n",
       "      <td>0.556208</td>\n",
       "      <td>-0.583073</td>\n",
       "      <td>-0.735647</td>\n",
       "      <td>-0.546174</td>\n",
       "      <td>0.631587</td>\n",
       "      <td>0.711943</td>\n",
       "      <td>1.000000</td>\n",
       "      <td>0.029587</td>\n",
       "      <td>0.035064</td>\n",
       "      <td>-0.540679</td>\n",
       "      <td>-0.474065</td>\n",
       "      <td>-0.511519</td>\n",
       "      <td>0.443490</td>\n",
       "      <td>0.189447</td>\n",
       "    </tr>\n",
       "    <tr>\n",
       "      <th>9</th>\n",
       "      <td>-0.082241</td>\n",
       "      <td>-0.090858</td>\n",
       "      <td>0.031433</td>\n",
       "      <td>0.057189</td>\n",
       "      <td>0.015923</td>\n",
       "      <td>0.103896</td>\n",
       "      <td>0.049200</td>\n",
       "      <td>0.044741</td>\n",
       "      <td>0.029587</td>\n",
       "      <td>1.000000</td>\n",
       "      <td>-0.024016</td>\n",
       "      <td>0.057324</td>\n",
       "      <td>0.057247</td>\n",
       "      <td>0.128678</td>\n",
       "      <td>-0.031910</td>\n",
       "      <td>0.155483</td>\n",
       "    </tr>\n",
       "    <tr>\n",
       "      <th>10</th>\n",
       "      <td>0.112518</td>\n",
       "      <td>0.211607</td>\n",
       "      <td>0.213332</td>\n",
       "      <td>-0.285850</td>\n",
       "      <td>-0.146143</td>\n",
       "      <td>0.012059</td>\n",
       "      <td>0.044581</td>\n",
       "      <td>0.131926</td>\n",
       "      <td>0.035064</td>\n",
       "      <td>-0.024016</td>\n",
       "      <td>1.000000</td>\n",
       "      <td>-0.177894</td>\n",
       "      <td>-0.087791</td>\n",
       "      <td>-0.122288</td>\n",
       "      <td>0.177705</td>\n",
       "      <td>0.032272</td>\n",
       "    </tr>\n",
       "    <tr>\n",
       "      <th>11</th>\n",
       "      <td>-0.394638</td>\n",
       "      <td>-0.025128</td>\n",
       "      <td>-0.614966</td>\n",
       "      <td>0.684253</td>\n",
       "      <td>0.618277</td>\n",
       "      <td>0.506346</td>\n",
       "      <td>-0.510349</td>\n",
       "      <td>-0.588588</td>\n",
       "      <td>-0.540679</td>\n",
       "      <td>0.057324</td>\n",
       "      <td>-0.177894</td>\n",
       "      <td>1.000000</td>\n",
       "      <td>0.535459</td>\n",
       "      <td>0.575271</td>\n",
       "      <td>-0.464986</td>\n",
       "      <td>-0.094413</td>\n",
       "    </tr>\n",
       "    <tr>\n",
       "      <th>12</th>\n",
       "      <td>-0.323868</td>\n",
       "      <td>0.206417</td>\n",
       "      <td>-0.518202</td>\n",
       "      <td>0.561587</td>\n",
       "      <td>0.627278</td>\n",
       "      <td>0.525807</td>\n",
       "      <td>-0.534795</td>\n",
       "      <td>-0.585979</td>\n",
       "      <td>-0.474065</td>\n",
       "      <td>0.057247</td>\n",
       "      <td>-0.087791</td>\n",
       "      <td>0.535459</td>\n",
       "      <td>1.000000</td>\n",
       "      <td>0.537636</td>\n",
       "      <td>-0.465853</td>\n",
       "      <td>-0.087554</td>\n",
       "    </tr>\n",
       "    <tr>\n",
       "      <th>13</th>\n",
       "      <td>-0.343410</td>\n",
       "      <td>-0.010947</td>\n",
       "      <td>-0.557641</td>\n",
       "      <td>0.634164</td>\n",
       "      <td>0.679440</td>\n",
       "      <td>0.565316</td>\n",
       "      <td>-0.497046</td>\n",
       "      <td>-0.597885</td>\n",
       "      <td>-0.511519</td>\n",
       "      <td>0.128678</td>\n",
       "      <td>-0.122288</td>\n",
       "      <td>0.575271</td>\n",
       "      <td>0.537636</td>\n",
       "      <td>1.000000</td>\n",
       "      <td>-0.504266</td>\n",
       "      <td>-0.051245</td>\n",
       "    </tr>\n",
       "    <tr>\n",
       "      <th>14</th>\n",
       "      <td>0.219905</td>\n",
       "      <td>-0.113228</td>\n",
       "      <td>0.473727</td>\n",
       "      <td>-0.513902</td>\n",
       "      <td>-0.533240</td>\n",
       "      <td>-0.434304</td>\n",
       "      <td>0.465902</td>\n",
       "      <td>0.511926</td>\n",
       "      <td>0.443490</td>\n",
       "      <td>-0.031910</td>\n",
       "      <td>0.177705</td>\n",
       "      <td>-0.464986</td>\n",
       "      <td>-0.465853</td>\n",
       "      <td>-0.504266</td>\n",
       "      <td>1.000000</td>\n",
       "      <td>0.110121</td>\n",
       "    </tr>\n",
       "    <tr>\n",
       "      <th>15</th>\n",
       "      <td>0.041686</td>\n",
       "      <td>-0.062672</td>\n",
       "      <td>0.158740</td>\n",
       "      <td>-0.110348</td>\n",
       "      <td>-0.124014</td>\n",
       "      <td>-0.099742</td>\n",
       "      <td>0.230213</td>\n",
       "      <td>0.174781</td>\n",
       "      <td>0.189447</td>\n",
       "      <td>0.155483</td>\n",
       "      <td>0.032272</td>\n",
       "      <td>-0.094413</td>\n",
       "      <td>-0.087554</td>\n",
       "      <td>-0.051245</td>\n",
       "      <td>0.110121</td>\n",
       "      <td>1.000000</td>\n",
       "    </tr>\n",
       "  </tbody>\n",
       "</table>\n",
       "</div>"
      ],
      "text/plain": [
       "          0         1         2         3         4         5         6   \\\n",
       "0   1.000000  0.038959  0.397613 -0.397852 -0.344995 -0.383045  0.347719   \n",
       "1   0.038959  1.000000 -0.031990  0.072032  0.138401  0.143904 -0.187092   \n",
       "2   0.397613 -0.031990  1.000000 -0.701463 -0.627474 -0.425515  0.580665   \n",
       "3  -0.397852  0.072032 -0.701463  1.000000  0.765237  0.476841 -0.547834   \n",
       "4  -0.344995  0.138401 -0.627474  0.765237  1.000000  0.612266 -0.660717   \n",
       "5  -0.383045  0.143904 -0.425515  0.476841  0.612266  1.000000 -0.538765   \n",
       "6   0.347719 -0.187092  0.580665 -0.547834 -0.660717 -0.538765  1.000000   \n",
       "7   0.392259 -0.116142  0.696477 -0.692007 -0.804828 -0.547933  0.716452   \n",
       "8   0.297665 -0.183201  0.556208 -0.583073 -0.735647 -0.546174  0.631587   \n",
       "9  -0.082241 -0.090858  0.031433  0.057189  0.015923  0.103896  0.049200   \n",
       "10  0.112518  0.211607  0.213332 -0.285850 -0.146143  0.012059  0.044581   \n",
       "11 -0.394638 -0.025128 -0.614966  0.684253  0.618277  0.506346 -0.510349   \n",
       "12 -0.323868  0.206417 -0.518202  0.561587  0.627278  0.525807 -0.534795   \n",
       "13 -0.343410 -0.010947 -0.557641  0.634164  0.679440  0.565316 -0.497046   \n",
       "14  0.219905 -0.113228  0.473727 -0.513902 -0.533240 -0.434304  0.465902   \n",
       "15  0.041686 -0.062672  0.158740 -0.110348 -0.124014 -0.099742  0.230213   \n",
       "\n",
       "          7         8         9         10        11        12        13  \\\n",
       "0   0.392259  0.297665 -0.082241  0.112518 -0.394638 -0.323868 -0.343410   \n",
       "1  -0.116142 -0.183201 -0.090858  0.211607 -0.025128  0.206417 -0.010947   \n",
       "2   0.696477  0.556208  0.031433  0.213332 -0.614966 -0.518202 -0.557641   \n",
       "3  -0.692007 -0.583073  0.057189 -0.285850  0.684253  0.561587  0.634164   \n",
       "4  -0.804828 -0.735647  0.015923 -0.146143  0.618277  0.627278  0.679440   \n",
       "5  -0.547933 -0.546174  0.103896  0.012059  0.506346  0.525807  0.565316   \n",
       "6   0.716452  0.631587  0.049200  0.044581 -0.510349 -0.534795 -0.497046   \n",
       "7   1.000000  0.711943  0.044741  0.131926 -0.588588 -0.585979 -0.597885   \n",
       "8   0.711943  1.000000  0.029587  0.035064 -0.540679 -0.474065 -0.511519   \n",
       "9   0.044741  0.029587  1.000000 -0.024016  0.057324  0.057247  0.128678   \n",
       "10  0.131926  0.035064 -0.024016  1.000000 -0.177894 -0.087791 -0.122288   \n",
       "11 -0.588588 -0.540679  0.057324 -0.177894  1.000000  0.535459  0.575271   \n",
       "12 -0.585979 -0.474065  0.057247 -0.087791  0.535459  1.000000  0.537636   \n",
       "13 -0.597885 -0.511519  0.128678 -0.122288  0.575271  0.537636  1.000000   \n",
       "14  0.511926  0.443490 -0.031910  0.177705 -0.464986 -0.465853 -0.504266   \n",
       "15  0.174781  0.189447  0.155483  0.032272 -0.094413 -0.087554 -0.051245   \n",
       "\n",
       "          14        15  \n",
       "0   0.219905  0.041686  \n",
       "1  -0.113228 -0.062672  \n",
       "2   0.473727  0.158740  \n",
       "3  -0.513902 -0.110348  \n",
       "4  -0.533240 -0.124014  \n",
       "5  -0.434304 -0.099742  \n",
       "6   0.465902  0.230213  \n",
       "7   0.511926  0.174781  \n",
       "8   0.443490  0.189447  \n",
       "9  -0.031910  0.155483  \n",
       "10  0.177705  0.032272  \n",
       "11 -0.464986 -0.094413  \n",
       "12 -0.465853 -0.087554  \n",
       "13 -0.504266 -0.051245  \n",
       "14  1.000000  0.110121  \n",
       "15  0.110121  1.000000  "
      ]
     },
     "execution_count": 116,
     "metadata": {},
     "output_type": "execute_result"
    }
   ],
   "source": [
    "pd.DataFrame(pca.get_covariance())"
   ]
  },
  {
   "cell_type": "code",
   "execution_count": 117,
   "metadata": {
    "collapsed": false
   },
   "outputs": [
    {
     "name": "stdout",
     "output_type": "stream",
     "text": [
      "Explained Variance\n",
      "[ 7.08591571  1.44534846  1.19704817  0.87923658  0.82294917  0.7363088\n",
      "  0.60896348  0.53906542  0.51313226  0.45534733  0.41245449  0.35884643\n",
      "  0.31785753  0.27558845  0.21139681  0.14054024]\n",
      "\n",
      "Explained Variance Ratio\n",
      "[ 0.44286975  0.09033428  0.07481551  0.05495229  0.05143433  0.0460193\n",
      "  0.03806022  0.03369159  0.03207077  0.02845921  0.02577841  0.0224279\n",
      "  0.0198661   0.01722428  0.0132123   0.00878377]\n",
      "\n",
      "Cumulative Explained Variance Ratio\n",
      "[ 0.44286975  0.53320403  0.60801955  0.66297184  0.71440616  0.76042546\n",
      "  0.79848568  0.83217727  0.86424804  0.89270725  0.91848565  0.94091356\n",
      "  0.96077965  0.97800393  0.99121623  1.        ]\n"
     ]
    }
   ],
   "source": [
    "print \"Explained Variance\"\n",
    "print pca.explained_variance_\n",
    "print \"\\nExplained Variance Ratio\"\n",
    "print pca.explained_variance_ratio_\n",
    "print \"\\nCumulative Explained Variance Ratio\"\n",
    "print np.cumsum(pca.explained_variance_ratio_)"
   ]
  },
  {
   "cell_type": "markdown",
   "metadata": {
    "collapsed": true
   },
   "source": [
    "Now, calculate the explained variance. Recall the methods we learned in lesson 2.2!"
   ]
  },
  {
   "cell_type": "markdown",
   "metadata": {
    "collapsed": true
   },
   "source": [
    "* Redundant"
   ]
  },
  {
   "cell_type": "markdown",
   "metadata": {},
   "source": [
    "Now, calculate the explained variance and the Cumulative explained variance"
   ]
  },
  {
   "cell_type": "markdown",
   "metadata": {
    "collapsed": true
   },
   "source": [
    "* Redundant"
   ]
  },
  {
   "cell_type": "markdown",
   "metadata": {},
   "source": [
    "Now, conduct a PCA using scikit learn\n",
    "\n",
    "http://scikit-learn.org/stable/modules/generated/sklearn.decomposition.PCA.html"
   ]
  },
  {
   "cell_type": "markdown",
   "metadata": {
    "collapsed": true
   },
   "source": [
    "* Redundant"
   ]
  },
  {
   "cell_type": "markdown",
   "metadata": {},
   "source": [
    "# Case #2: Airport Delays"
   ]
  },
  {
   "cell_type": "code",
   "execution_count": null,
   "metadata": {
    "collapsed": true
   },
   "outputs": [],
   "source": []
  },
  {
   "cell_type": "markdown",
   "metadata": {},
   "source": [
    "First, let's define the x and y variables: Airport is going to be our target variable"
   ]
  },
  {
   "cell_type": "code",
   "execution_count": null,
   "metadata": {
    "collapsed": true
   },
   "outputs": [],
   "source": []
  },
  {
   "cell_type": "markdown",
   "metadata": {},
   "source": [
    "Then, standardize the x variable for analysis"
   ]
  },
  {
   "cell_type": "code",
   "execution_count": null,
   "metadata": {
    "collapsed": false
   },
   "outputs": [],
   "source": []
  },
  {
   "cell_type": "markdown",
   "metadata": {},
   "source": [
    "Next, create the covariance matrix from the standardized x-values and decompose these values to find the eigenvalues and eigenvectors"
   ]
  },
  {
   "cell_type": "code",
   "execution_count": null,
   "metadata": {
    "collapsed": false
   },
   "outputs": [],
   "source": []
  },
  {
   "cell_type": "markdown",
   "metadata": {},
   "source": [
    "Then, check your eigenvalues and eigenvectors:"
   ]
  },
  {
   "cell_type": "code",
   "execution_count": null,
   "metadata": {
    "collapsed": true
   },
   "outputs": [],
   "source": []
  },
  {
   "cell_type": "markdown",
   "metadata": {},
   "source": [
    "To find the principal components, find the eigenpairs, and sort them from highest to lowest. "
   ]
  },
  {
   "cell_type": "code",
   "execution_count": null,
   "metadata": {
    "collapsed": true
   },
   "outputs": [],
   "source": []
  },
  {
   "cell_type": "markdown",
   "metadata": {},
   "source": [
    "Next, Calculate the explained variance"
   ]
  },
  {
   "cell_type": "code",
   "execution_count": null,
   "metadata": {
    "collapsed": false
   },
   "outputs": [],
   "source": []
  },
  {
   "cell_type": "markdown",
   "metadata": {},
   "source": [
    "Finally, conduct the PCA - use the results above to guide your selection of n components"
   ]
  },
  {
   "cell_type": "code",
   "execution_count": null,
   "metadata": {
    "collapsed": true
   },
   "outputs": [],
   "source": []
  },
  {
   "cell_type": "markdown",
   "metadata": {
    "collapsed": false
   },
   "source": [
    "**Bonus**: build and contrast classification models to predict the target classes for each problem, using both the original (or n-best) features and the principal components. If you arrive at <= 3-dimensional feature space, try plotting your data!"
   ]
  },
  {
   "cell_type": "code",
   "execution_count": null,
   "metadata": {
    "collapsed": true
   },
   "outputs": [],
   "source": []
  }
 ],
 "metadata": {
  "anaconda-cloud": {},
  "kernelspec": {
   "display_name": "Python [default]",
   "language": "python",
   "name": "python2"
  },
  "language_info": {
   "codemirror_mode": {
    "name": "ipython",
    "version": 2
   },
   "file_extension": ".py",
   "mimetype": "text/x-python",
   "name": "python",
   "nbconvert_exporter": "python",
   "pygments_lexer": "ipython2",
   "version": "2.7.12"
  }
 },
 "nbformat": 4,
 "nbformat_minor": 0
}
