{
 "cells": [
  {
   "cell_type": "markdown",
   "metadata": {},
   "source": [
    "# APIs and SQL Joins Lab\n",
    "\n",
    "The city of San Francisco wants to assess the quality of restaurants in the city. Their data is scattered across multiple sources and incomplete.\n",
    "\n",
    "They tasked you to help them assess it.\n",
    "\n",
    "They would like to know what the most common violations are where they happen most frequently."
   ]
  },
  {
   "cell_type": "markdown",
   "metadata": {},
   "source": [
    "## 1. Initial data inspection\n",
    "\n",
    "To answer the question we will need to retrieve and merge data from multiple files.\n",
    "\n",
    "Yelp provides data on food quality, that can be found at [this address](http://www.yelp.com/healthscores/feeds). We already downloaded 4 files that you can find in the [assets folder](../../assets/datasets/yelp/).\n",
    "\n",
    "In the bonus part we will also use the Google Geocoding API and data on [Neighborhoods](https://www.google.com/fusiontables/DataSource?docid=1zNwsvTwj-dH0QxuuDrKFsyfNklajd7WwEyaZ2U9M#rows:id=1).\n",
    "\n",
    "1. Open each of the files and inspect them visually\n",
    "- What information do they contain?"
   ]
  },
  {
   "cell_type": "code",
   "execution_count": 129,
   "metadata": {
    "collapsed": false
   },
   "outputs": [
    {
     "name": "stdout",
     "output_type": "stream",
     "text": [
      "\u001b[31mbusinesses.csv\u001b[m\u001b[m  \u001b[31minspections.csv\u001b[m\u001b[m \u001b[31mlegend.csv\u001b[m\u001b[m      \u001b[31mviolations.csv\u001b[m\u001b[m\r\n"
     ]
    }
   ],
   "source": [
    "!ls ../../assets/datasets/yelp"
   ]
  },
  {
   "cell_type": "markdown",
   "metadata": {},
   "source": [
    "## 2. Local database\n",
    "\n",
    "The first step in our analysis is to import the data into a local PostgreSQL database.\n",
    "\n",
    "1. Launch a local Postgres server;\n",
    "2. Create a local database named 'inspections';\n",
    "3. Connect to it with sqlalchemy (see starter code) and import the files to separate tables.\n",
    "\n",
    "**Note:** The files are not encoded in utf8, but in latin1. You can read more about encodings here: http://www.postgresql.org/docs/current/interactive/multibyte.html"
   ]
  },
  {
   "cell_type": "code",
   "execution_count": 130,
   "metadata": {
    "collapsed": false
   },
   "outputs": [],
   "source": [
    "import pandas as pd\n",
    "import numpy as np\n",
    "import matplotlib.pyplot as plt\n",
    "%matplotlib inline\n",
    "from sqlalchemy import create_engine\n",
    "\n",
    "engine = create_engine('postgresql://thomas@localhost:5432/inspections') # Replace 'winston' with your username"
   ]
  },
  {
   "cell_type": "code",
   "execution_count": 131,
   "metadata": {
    "collapsed": false
   },
   "outputs": [
    {
     "name": "stdout",
     "output_type": "stream",
     "text": [
      "\u001b[31mbusinesses.csv\u001b[m\u001b[m  \u001b[31minspections.csv\u001b[m\u001b[m \u001b[31mlegend.csv\u001b[m\u001b[m      \u001b[31mviolations.csv\u001b[m\u001b[m\r\n"
     ]
    }
   ],
   "source": [
    "!ls ../../assets/datasets/yelp"
   ]
  },
  {
   "cell_type": "code",
   "execution_count": 132,
   "metadata": {
    "collapsed": false
   },
   "outputs": [
    {
     "ename": "NameError",
     "evalue": "name 'businesses' is not defined",
     "output_type": "error",
     "traceback": [
      "\u001b[0;31m---------------------------------------------------------------------------\u001b[0m",
      "\u001b[0;31mNameError\u001b[0m                                 Traceback (most recent call last)",
      "\u001b[0;32m<ipython-input-132-2ddbf8f1754d>\u001b[0m in \u001b[0;36m<module>\u001b[0;34m()\u001b[0m\n\u001b[1;32m      3\u001b[0m \u001b[0mdf3\u001b[0m\u001b[0;34m=\u001b[0m \u001b[0mpd\u001b[0m\u001b[0;34m.\u001b[0m\u001b[0mread_csv\u001b[0m\u001b[0;34m(\u001b[0m\u001b[0;34m'../../assets/datasets/yelp/legend.csv'\u001b[0m\u001b[0;34m)\u001b[0m\u001b[0;34m\u001b[0m\u001b[0m\n\u001b[1;32m      4\u001b[0m \u001b[0mdf4\u001b[0m\u001b[0;34m=\u001b[0m \u001b[0mpd\u001b[0m\u001b[0;34m.\u001b[0m\u001b[0mread_csv\u001b[0m\u001b[0;34m(\u001b[0m\u001b[0;34m'../../assets/datasets/yelp/violations.csv'\u001b[0m\u001b[0;34m)\u001b[0m\u001b[0;34m\u001b[0m\u001b[0m\n\u001b[0;32m----> 5\u001b[0;31m \u001b[0mdf1\u001b[0m\u001b[0;34m.\u001b[0m\u001b[0mto_sql\u001b[0m\u001b[0;34m(\u001b[0m\u001b[0mbusinesses\u001b[0m\u001b[0;34m,\u001b[0m\u001b[0;34m)\u001b[0m\u001b[0;34m\u001b[0m\u001b[0m\n\u001b[0m",
      "\u001b[0;31mNameError\u001b[0m: name 'businesses' is not defined"
     ]
    }
   ],
   "source": [
    "df1= pd.read_csv('../../assets/datasets/yelp/businesses.csv')\n",
    "df2= pd.read_csv('../../assets/datasets/yelp/inspections.csv')\n",
    "df3= pd.read_csv('../../assets/datasets/yelp/legend.csv')\n",
    "df4= pd.read_csv('../../assets/datasets/yelp/violations.csv')\n",
    "df1.to_sql(businesses,)"
   ]
  },
  {
   "cell_type": "code",
   "execution_count": null,
   "metadata": {
    "collapsed": false
   },
   "outputs": [],
   "source": [
    "def load_to_sql(name):\n",
    "    df = pd.read_csv('../../assets/datasets/yelp/{}.csv'.format(name), encoding='latin1')\n",
    "    df.to_sql(name, engine, if_exists='replace')\n",
    "    print \"done\", name\n",
    "    \n",
    "load_to_sql('businesses')\n",
    "load_to_sql('inspections')\n",
    "load_to_sql('legend')\n",
    "load_to_sql('violations')"
   ]
  },
  {
   "cell_type": "markdown",
   "metadata": {},
   "source": [
    "### 2.b Display the first few lines of each table"
   ]
  },
  {
   "cell_type": "code",
   "execution_count": null,
   "metadata": {
    "collapsed": false,
    "scrolled": false
   },
   "outputs": [],
   "source": [
    "# Replace <user> with your user name\n",
    "\n",
    "%sql postgresql://thomas@localhost:5432/inspections"
   ]
  },
  {
   "cell_type": "code",
   "execution_count": null,
   "metadata": {
    "collapsed": false
   },
   "outputs": [],
   "source": [
    "%%sql\n",
    "select * from businesses LIMIT 5;"
   ]
  },
  {
   "cell_type": "code",
   "execution_count": null,
   "metadata": {
    "collapsed": false
   },
   "outputs": [],
   "source": []
  },
  {
   "cell_type": "markdown",
   "metadata": {},
   "source": [
    "## 2.b Investigate violations\n",
    "\n",
    "Let's focus on the violations table initially.\n",
    "\n",
    "\n",
    "Answer these questions using sql:\n",
    "1. How many violations are there?\n",
    "- How many businesses committing violations?\n",
    "- What's the average number of violations per business?\n",
    "\n",
    "Answer these questions using python\n",
    "1. Draw a plot of the violations count\n",
    "- Is the average number of violations meaningful?\n",
    "- Draw a plot of the normalized cumulative violation counts. Can we discard the restaurants with few violations?\n",
    "- Where would you draw a threshold if you were to keep 90% of the violations?"
   ]
  },
  {
   "cell_type": "code",
   "execution_count": null,
   "metadata": {
    "collapsed": false
   },
   "outputs": [],
   "source": [
    "total=%sql SELECT count(\"business_id\") FROM violations\n",
    "total"
   ]
  },
  {
   "cell_type": "code",
   "execution_count": null,
   "metadata": {
    "collapsed": false
   },
   "outputs": [],
   "source": [
    "%sql SELECT * from violations limit 5"
   ]
  },
  {
   "cell_type": "code",
   "execution_count": null,
   "metadata": {
    "collapsed": false
   },
   "outputs": [],
   "source": [
    "counter= %sql SELECT COUNT(DISTINCT \"business_id\") FROM violations \n",
    "counter"
   ]
  },
  {
   "cell_type": "code",
   "execution_count": null,
   "metadata": {
    "collapsed": false
   },
   "outputs": [],
   "source": []
  },
  {
   "cell_type": "code",
   "execution_count": null,
   "metadata": {
    "collapsed": false,
    "scrolled": true
   },
   "outputs": [],
   "source": [
    "%sql SELECT CAST(count(\"business_id\")/COUNT(DISTINCT \"business_id\") AS NUMERIC(5,2)) \"AVG Violations per Business\" from violations"
   ]
  },
  {
   "cell_type": "code",
   "execution_count": null,
   "metadata": {
    "collapsed": false
   },
   "outputs": [],
   "source": [
    "df= % sql SELECT * FROM violations\n",
    "df=pd.DataFrame(df,columns=['index','business_id','date','description'])\n",
    "temp=df.groupby(\"business_id\")[\"description\"].count()\n",
    "plt.hist(temp)"
   ]
  },
  {
   "cell_type": "markdown",
   "metadata": {},
   "source": [
    "### 2.c Investigate Inspections\n",
    "\n",
    "In the previous step we looked at violations count. However we also have an inspection score available in the inspections table. Let's have a look at that too.\n",
    "\n",
    "Answer these questions using SQL:\n",
    "1. What's the average score for the whole city?\n",
    "1. What's the average score per business?\n",
    "- Does the score correlate with the number of inspections?\n",
    "- Create a dataframe from a table with the following columns:\n",
    "    business_id, average_score, number_of_inspections, number_of_violations\n",
    "- Use pandas to do a scatter matrix plot of average_score, number_of_inspections, number_of_violations to check for correlations"
   ]
  },
  {
   "cell_type": "code",
   "execution_count": null,
   "metadata": {
    "collapsed": false
   },
   "outputs": [],
   "source": [
    "%sql select * from inspections limit 1"
   ]
  },
  {
   "cell_type": "code",
   "execution_count": null,
   "metadata": {
    "collapsed": true
   },
   "outputs": [],
   "source": [
    "%sql select AVG(\"score\") from inspections"
   ]
  },
  {
   "cell_type": "code",
   "execution_count": 137,
   "metadata": {
    "collapsed": false
   },
   "outputs": [
    {
     "name": "stdout",
     "output_type": "stream",
     "text": [
      "1 rows affected.\n"
     ]
    },
    {
     "data": {
      "text/html": [
       "<table>\n",
       "    <tr>\n",
       "        <th>avg</th>\n",
       "    </tr>\n",
       "    <tr>\n",
       "        <td>94.0000000000000000</td>\n",
       "    </tr>\n",
       "</table>"
      ],
      "text/plain": [
       "[(Decimal('94.0000000000000000'),)]"
      ]
     },
     "execution_count": 137,
     "metadata": {},
     "output_type": "execute_result"
    }
   ],
   "source": [
    "%sql select AVG(\"score\") from inspections group by \"business_id\" limit 1"
   ]
  },
  {
   "cell_type": "code",
   "execution_count": 138,
   "metadata": {
    "collapsed": false,
    "scrolled": true
   },
   "outputs": [
    {
     "name": "stdout",
     "output_type": "stream",
     "text": [
      "3 rows affected.\n"
     ]
    },
    {
     "data": {
      "text/html": [
       "<table>\n",
       "    <tr>\n",
       "        <th>avg</th>\n",
       "        <th>count</th>\n",
       "    </tr>\n",
       "    <tr>\n",
       "        <td>94.0000000000000000</td>\n",
       "        <td>2</td>\n",
       "    </tr>\n",
       "    <tr>\n",
       "        <td>59.0000000000000000</td>\n",
       "        <td>1</td>\n",
       "    </tr>\n",
       "    <tr>\n",
       "        <td>94.0000000000000000</td>\n",
       "        <td>1</td>\n",
       "    </tr>\n",
       "</table>"
      ],
      "text/plain": [
       "[(Decimal('94.0000000000000000'), 2L),\n",
       " (Decimal('59.0000000000000000'), 1L),\n",
       " (Decimal('94.0000000000000000'), 1L)]"
      ]
     },
     "execution_count": 138,
     "metadata": {},
     "output_type": "execute_result"
    }
   ],
   "source": [
    "%sql select AVG(\"score\"),count(\"score\") from inspections group by \"business_id\" limit 3"
   ]
  },
  {
   "cell_type": "code",
   "execution_count": 155,
   "metadata": {
    "collapsed": false
   },
   "outputs": [
    {
     "name": "stdout",
     "output_type": "stream",
     "text": [
      "(psycopg2.ProgrammingError) column \"inspections.business_id\" must appear in the GROUP BY clause or be used in an aggregate function\n",
      "LINE 1: select inspections.business_id,max(inspections.date),inspect...\n",
      "               ^\n",
      " [SQL: 'select inspections.business_id,max(inspections.date),inspections.score from inspections limit 5']\n"
     ]
    }
   ],
   "source": [
    "%sql select inspections.business_id,max(inspections.date),inspections.score from inspections limit 5"
   ]
  },
  {
   "cell_type": "code",
   "execution_count": 153,
   "metadata": {
    "collapsed": false
   },
   "outputs": [
    {
     "name": "stdout",
     "output_type": "stream",
     "text": [
      "(psycopg2.ProgrammingError) column \"inspections.score\" must appear in the GROUP BY clause or be used in an aggregate function\n",
      "LINE 1: ...ect inspections.business_id,max(inspections.date),inspection...\n",
      "                                                             ^\n",
      " [SQL: 'select inspections.business_id,max(inspections.date),inspections.score from violations inner join inspections on \\nviolations.business_id=inspections.business_id group by inspections.business_id limit 5;']\n"
     ]
    }
   ],
   "source": [
    "%%sql select inspections.business_id,max(inspections.date),inspections.score from violations inner join inspections on \n",
    "violations.business_id=inspections.business_id group by inspections.business_id limit 5;"
   ]
  },
  {
   "cell_type": "code",
   "execution_count": 143,
   "metadata": {
    "collapsed": false
   },
   "outputs": [
    {
     "name": "stdout",
     "output_type": "stream",
     "text": [
      "128926 rows affected.\n"
     ]
    }
   ],
   "source": [
    "df=%sql select * from violations v inner join inspections i on v.\"business_id\"=i.\"business_id\""
   ]
  },
  {
   "cell_type": "code",
   "execution_count": 198,
   "metadata": {
    "collapsed": false
   },
   "outputs": [],
   "source": [
    "data=pd.DataFrame(df,columns=[\"index\",\"business_id\",\"date\",\"description\",\"index_1\",\"business_id_1\",\n",
    "                            \"score\",\"date_1\",\"type\"])\n",
    "del data[\"index\"]\n",
    "del data[\"index_1\"]\n",
    "del data[\"business_id_1\"]\n",
    "del data[\"date_1\"]\n",
    "data=data[data[\"score\"]!=np.NaN]\n",
    "temp=data.groupby(\"business_id\")[\"date\"].count().to_frame()\n",
    "temp=temp.reset_index()\n",
    "data=data.merge(temp,on=\"business_id\")"
   ]
  },
  {
   "cell_type": "code",
   "execution_count": 199,
   "metadata": {
    "collapsed": false
   },
   "outputs": [],
   "source": [
    "data[\"count\"]=data[\"date_y\"].copy()\n",
    "del data[\"date_y\"]\n",
    "data[\"date\"]=data[\"date_x\"].copy()\n",
    "del data[\"date_x\"]"
   ]
  },
  {
   "cell_type": "code",
   "execution_count": null,
   "metadata": {
    "collapsed": false
   },
   "outputs": [],
   "source": []
  },
  {
   "cell_type": "code",
   "execution_count": 200,
   "metadata": {
    "collapsed": false
   },
   "outputs": [
    {
     "data": {
      "text/html": [
       "<div>\n",
       "<table border=\"1\" class=\"dataframe\">\n",
       "  <thead>\n",
       "    <tr style=\"text-align: right;\">\n",
       "      <th></th>\n",
       "      <th>business_id</th>\n",
       "      <th>description</th>\n",
       "      <th>score</th>\n",
       "      <th>type</th>\n",
       "      <th>count</th>\n",
       "      <th>date</th>\n",
       "    </tr>\n",
       "  </thead>\n",
       "  <tbody>\n",
       "    <tr>\n",
       "      <th>0</th>\n",
       "      <td>10</td>\n",
       "      <td>Insufficient hot water or running water  [ dat...</td>\n",
       "      <td>92</td>\n",
       "      <td>routine</td>\n",
       "      <td>10</td>\n",
       "      <td>20140729</td>\n",
       "    </tr>\n",
       "    <tr>\n",
       "      <th>1</th>\n",
       "      <td>10</td>\n",
       "      <td>Insufficient hot water or running water  [ dat...</td>\n",
       "      <td>94</td>\n",
       "      <td>routine</td>\n",
       "      <td>10</td>\n",
       "      <td>20140729</td>\n",
       "    </tr>\n",
       "    <tr>\n",
       "      <th>2</th>\n",
       "      <td>10</td>\n",
       "      <td>Unapproved or unmaintained equipment or utensi...</td>\n",
       "      <td>92</td>\n",
       "      <td>routine</td>\n",
       "      <td>10</td>\n",
       "      <td>20140729</td>\n",
       "    </tr>\n",
       "    <tr>\n",
       "      <th>3</th>\n",
       "      <td>10</td>\n",
       "      <td>Unapproved or unmaintained equipment or utensi...</td>\n",
       "      <td>94</td>\n",
       "      <td>routine</td>\n",
       "      <td>10</td>\n",
       "      <td>20140729</td>\n",
       "    </tr>\n",
       "    <tr>\n",
       "      <th>4</th>\n",
       "      <td>10</td>\n",
       "      <td>Inadequate and inaccessible handwashing facili...</td>\n",
       "      <td>92</td>\n",
       "      <td>routine</td>\n",
       "      <td>10</td>\n",
       "      <td>20140114</td>\n",
       "    </tr>\n",
       "    <tr>\n",
       "      <th>5</th>\n",
       "      <td>10</td>\n",
       "      <td>Inadequate and inaccessible handwashing facili...</td>\n",
       "      <td>94</td>\n",
       "      <td>routine</td>\n",
       "      <td>10</td>\n",
       "      <td>20140114</td>\n",
       "    </tr>\n",
       "    <tr>\n",
       "      <th>6</th>\n",
       "      <td>10</td>\n",
       "      <td>Unclean or degraded floors walls or ceilings  ...</td>\n",
       "      <td>92</td>\n",
       "      <td>routine</td>\n",
       "      <td>10</td>\n",
       "      <td>20140114</td>\n",
       "    </tr>\n",
       "    <tr>\n",
       "      <th>7</th>\n",
       "      <td>10</td>\n",
       "      <td>Unclean or degraded floors walls or ceilings  ...</td>\n",
       "      <td>94</td>\n",
       "      <td>routine</td>\n",
       "      <td>10</td>\n",
       "      <td>20140114</td>\n",
       "    </tr>\n",
       "    <tr>\n",
       "      <th>8</th>\n",
       "      <td>10</td>\n",
       "      <td>Improper storage of equipment utensils or line...</td>\n",
       "      <td>92</td>\n",
       "      <td>routine</td>\n",
       "      <td>10</td>\n",
       "      <td>20140114</td>\n",
       "    </tr>\n",
       "    <tr>\n",
       "      <th>9</th>\n",
       "      <td>10</td>\n",
       "      <td>Improper storage of equipment utensils or line...</td>\n",
       "      <td>94</td>\n",
       "      <td>routine</td>\n",
       "      <td>10</td>\n",
       "      <td>20140114</td>\n",
       "    </tr>\n",
       "    <tr>\n",
       "      <th>10</th>\n",
       "      <td>19</td>\n",
       "      <td>Improper storage of equipment utensils or linens</td>\n",
       "      <td>96</td>\n",
       "      <td>routine</td>\n",
       "      <td>15</td>\n",
       "      <td>20141110</td>\n",
       "    </tr>\n",
       "    <tr>\n",
       "      <th>11</th>\n",
       "      <td>19</td>\n",
       "      <td>Improper storage of equipment utensils or linens</td>\n",
       "      <td>94</td>\n",
       "      <td>routine</td>\n",
       "      <td>15</td>\n",
       "      <td>20141110</td>\n",
       "    </tr>\n",
       "    <tr>\n",
       "      <th>12</th>\n",
       "      <td>19</td>\n",
       "      <td>Improper storage of equipment utensils or linens</td>\n",
       "      <td>94</td>\n",
       "      <td>routine</td>\n",
       "      <td>15</td>\n",
       "      <td>20141110</td>\n",
       "    </tr>\n",
       "    <tr>\n",
       "      <th>13</th>\n",
       "      <td>19</td>\n",
       "      <td>Inadequate food safety knowledge or lack of ce...</td>\n",
       "      <td>96</td>\n",
       "      <td>routine</td>\n",
       "      <td>15</td>\n",
       "      <td>20141110</td>\n",
       "    </tr>\n",
       "    <tr>\n",
       "      <th>14</th>\n",
       "      <td>19</td>\n",
       "      <td>Inadequate food safety knowledge or lack of ce...</td>\n",
       "      <td>94</td>\n",
       "      <td>routine</td>\n",
       "      <td>15</td>\n",
       "      <td>20141110</td>\n",
       "    </tr>\n",
       "    <tr>\n",
       "      <th>15</th>\n",
       "      <td>19</td>\n",
       "      <td>Inadequate food safety knowledge or lack of ce...</td>\n",
       "      <td>94</td>\n",
       "      <td>routine</td>\n",
       "      <td>15</td>\n",
       "      <td>20141110</td>\n",
       "    </tr>\n",
       "    <tr>\n",
       "      <th>16</th>\n",
       "      <td>19</td>\n",
       "      <td>Inadequately cleaned or sanitized food contact...</td>\n",
       "      <td>96</td>\n",
       "      <td>routine</td>\n",
       "      <td>15</td>\n",
       "      <td>20140214</td>\n",
       "    </tr>\n",
       "    <tr>\n",
       "      <th>17</th>\n",
       "      <td>19</td>\n",
       "      <td>Inadequately cleaned or sanitized food contact...</td>\n",
       "      <td>94</td>\n",
       "      <td>routine</td>\n",
       "      <td>15</td>\n",
       "      <td>20140214</td>\n",
       "    </tr>\n",
       "    <tr>\n",
       "      <th>18</th>\n",
       "      <td>19</td>\n",
       "      <td>Inadequately cleaned or sanitized food contact...</td>\n",
       "      <td>94</td>\n",
       "      <td>routine</td>\n",
       "      <td>15</td>\n",
       "      <td>20140214</td>\n",
       "    </tr>\n",
       "    <tr>\n",
       "      <th>19</th>\n",
       "      <td>19</td>\n",
       "      <td>Permit license or inspection report not posted...</td>\n",
       "      <td>96</td>\n",
       "      <td>routine</td>\n",
       "      <td>15</td>\n",
       "      <td>20140214</td>\n",
       "    </tr>\n",
       "    <tr>\n",
       "      <th>20</th>\n",
       "      <td>19</td>\n",
       "      <td>Permit license or inspection report not posted...</td>\n",
       "      <td>94</td>\n",
       "      <td>routine</td>\n",
       "      <td>15</td>\n",
       "      <td>20140214</td>\n",
       "    </tr>\n",
       "    <tr>\n",
       "      <th>21</th>\n",
       "      <td>19</td>\n",
       "      <td>Permit license or inspection report not posted...</td>\n",
       "      <td>94</td>\n",
       "      <td>routine</td>\n",
       "      <td>15</td>\n",
       "      <td>20140214</td>\n",
       "    </tr>\n",
       "    <tr>\n",
       "      <th>22</th>\n",
       "      <td>19</td>\n",
       "      <td>Foods not protected from contamination  [ date...</td>\n",
       "      <td>96</td>\n",
       "      <td>routine</td>\n",
       "      <td>15</td>\n",
       "      <td>20130904</td>\n",
       "    </tr>\n",
       "    <tr>\n",
       "      <th>23</th>\n",
       "      <td>19</td>\n",
       "      <td>Foods not protected from contamination  [ date...</td>\n",
       "      <td>94</td>\n",
       "      <td>routine</td>\n",
       "      <td>15</td>\n",
       "      <td>20130904</td>\n",
       "    </tr>\n",
       "    <tr>\n",
       "      <th>24</th>\n",
       "      <td>19</td>\n",
       "      <td>Foods not protected from contamination  [ date...</td>\n",
       "      <td>94</td>\n",
       "      <td>routine</td>\n",
       "      <td>15</td>\n",
       "      <td>20130904</td>\n",
       "    </tr>\n",
       "    <tr>\n",
       "      <th>25</th>\n",
       "      <td>24</td>\n",
       "      <td>Unclean or degraded floors walls or ceilings</td>\n",
       "      <td>100</td>\n",
       "      <td>routine</td>\n",
       "      <td>20</td>\n",
       "      <td>20160311</td>\n",
       "    </tr>\n",
       "    <tr>\n",
       "      <th>26</th>\n",
       "      <td>24</td>\n",
       "      <td>Unclean or degraded floors walls or ceilings</td>\n",
       "      <td>96</td>\n",
       "      <td>routine</td>\n",
       "      <td>20</td>\n",
       "      <td>20160311</td>\n",
       "    </tr>\n",
       "    <tr>\n",
       "      <th>27</th>\n",
       "      <td>24</td>\n",
       "      <td>Unclean or degraded floors walls or ceilings</td>\n",
       "      <td>96</td>\n",
       "      <td>routine</td>\n",
       "      <td>20</td>\n",
       "      <td>20160311</td>\n",
       "    </tr>\n",
       "    <tr>\n",
       "      <th>28</th>\n",
       "      <td>24</td>\n",
       "      <td>Unclean or degraded floors walls or ceilings</td>\n",
       "      <td>96</td>\n",
       "      <td>routine</td>\n",
       "      <td>20</td>\n",
       "      <td>20160311</td>\n",
       "    </tr>\n",
       "    <tr>\n",
       "      <th>29</th>\n",
       "      <td>24</td>\n",
       "      <td>Unclean or degraded floors walls or ceilings  ...</td>\n",
       "      <td>100</td>\n",
       "      <td>routine</td>\n",
       "      <td>20</td>\n",
       "      <td>20160311</td>\n",
       "    </tr>\n",
       "    <tr>\n",
       "      <th>...</th>\n",
       "      <td>...</td>\n",
       "      <td>...</td>\n",
       "      <td>...</td>\n",
       "      <td>...</td>\n",
       "      <td>...</td>\n",
       "      <td>...</td>\n",
       "    </tr>\n",
       "    <tr>\n",
       "      <th>128896</th>\n",
       "      <td>86670</td>\n",
       "      <td>Unapproved or unmaintained equipment or utensils</td>\n",
       "      <td>77</td>\n",
       "      <td>routine</td>\n",
       "      <td>6</td>\n",
       "      <td>20160325</td>\n",
       "    </tr>\n",
       "    <tr>\n",
       "      <th>128897</th>\n",
       "      <td>86681</td>\n",
       "      <td>High risk food holding temperature   [ date vi...</td>\n",
       "      <td>79</td>\n",
       "      <td>routine</td>\n",
       "      <td>6</td>\n",
       "      <td>20160314</td>\n",
       "    </tr>\n",
       "    <tr>\n",
       "      <th>128898</th>\n",
       "      <td>86681</td>\n",
       "      <td>Inadequate and inaccessible handwashing facili...</td>\n",
       "      <td>79</td>\n",
       "      <td>routine</td>\n",
       "      <td>6</td>\n",
       "      <td>20160314</td>\n",
       "    </tr>\n",
       "    <tr>\n",
       "      <th>128899</th>\n",
       "      <td>86681</td>\n",
       "      <td>Inadequately cleaned or sanitized food contact...</td>\n",
       "      <td>79</td>\n",
       "      <td>routine</td>\n",
       "      <td>6</td>\n",
       "      <td>20160314</td>\n",
       "    </tr>\n",
       "    <tr>\n",
       "      <th>128900</th>\n",
       "      <td>86681</td>\n",
       "      <td>Other low risk violation  [ date violation cor...</td>\n",
       "      <td>79</td>\n",
       "      <td>routine</td>\n",
       "      <td>6</td>\n",
       "      <td>20160314</td>\n",
       "    </tr>\n",
       "    <tr>\n",
       "      <th>128901</th>\n",
       "      <td>86681</td>\n",
       "      <td>Unclean or degraded floors walls or ceilings  ...</td>\n",
       "      <td>79</td>\n",
       "      <td>routine</td>\n",
       "      <td>6</td>\n",
       "      <td>20160314</td>\n",
       "    </tr>\n",
       "    <tr>\n",
       "      <th>128902</th>\n",
       "      <td>86681</td>\n",
       "      <td>Improper storage of equipment utensils or line...</td>\n",
       "      <td>79</td>\n",
       "      <td>routine</td>\n",
       "      <td>6</td>\n",
       "      <td>20160314</td>\n",
       "    </tr>\n",
       "    <tr>\n",
       "      <th>128903</th>\n",
       "      <td>86682</td>\n",
       "      <td>Improper food storage</td>\n",
       "      <td>86</td>\n",
       "      <td>routine</td>\n",
       "      <td>6</td>\n",
       "      <td>20160301</td>\n",
       "    </tr>\n",
       "    <tr>\n",
       "      <th>128904</th>\n",
       "      <td>86682</td>\n",
       "      <td>Food safety certificate or food handler card n...</td>\n",
       "      <td>86</td>\n",
       "      <td>routine</td>\n",
       "      <td>6</td>\n",
       "      <td>20160301</td>\n",
       "    </tr>\n",
       "    <tr>\n",
       "      <th>128905</th>\n",
       "      <td>86682</td>\n",
       "      <td>Unclean or degraded floors walls or ceilings</td>\n",
       "      <td>86</td>\n",
       "      <td>routine</td>\n",
       "      <td>6</td>\n",
       "      <td>20160301</td>\n",
       "    </tr>\n",
       "    <tr>\n",
       "      <th>128906</th>\n",
       "      <td>86682</td>\n",
       "      <td>Unclean nonfood contact surfaces</td>\n",
       "      <td>86</td>\n",
       "      <td>routine</td>\n",
       "      <td>6</td>\n",
       "      <td>20160301</td>\n",
       "    </tr>\n",
       "    <tr>\n",
       "      <th>128907</th>\n",
       "      <td>86682</td>\n",
       "      <td>Wiping cloths not clean or properly stored or ...</td>\n",
       "      <td>86</td>\n",
       "      <td>routine</td>\n",
       "      <td>6</td>\n",
       "      <td>20160301</td>\n",
       "    </tr>\n",
       "    <tr>\n",
       "      <th>128908</th>\n",
       "      <td>86682</td>\n",
       "      <td>Inadequate and inaccessible handwashing facili...</td>\n",
       "      <td>86</td>\n",
       "      <td>routine</td>\n",
       "      <td>6</td>\n",
       "      <td>20160301</td>\n",
       "    </tr>\n",
       "    <tr>\n",
       "      <th>128909</th>\n",
       "      <td>86774</td>\n",
       "      <td>Food safety certificate or food handler card n...</td>\n",
       "      <td>96</td>\n",
       "      <td>routine</td>\n",
       "      <td>2</td>\n",
       "      <td>20160321</td>\n",
       "    </tr>\n",
       "    <tr>\n",
       "      <th>128910</th>\n",
       "      <td>86774</td>\n",
       "      <td>Improper food storage</td>\n",
       "      <td>96</td>\n",
       "      <td>routine</td>\n",
       "      <td>2</td>\n",
       "      <td>20160321</td>\n",
       "    </tr>\n",
       "    <tr>\n",
       "      <th>128911</th>\n",
       "      <td>86845</td>\n",
       "      <td>Inadequate or unsanitary refuse containers or ...</td>\n",
       "      <td>90</td>\n",
       "      <td>routine</td>\n",
       "      <td>4</td>\n",
       "      <td>20160329</td>\n",
       "    </tr>\n",
       "    <tr>\n",
       "      <th>128912</th>\n",
       "      <td>86845</td>\n",
       "      <td>Improper food storage</td>\n",
       "      <td>90</td>\n",
       "      <td>routine</td>\n",
       "      <td>4</td>\n",
       "      <td>20160329</td>\n",
       "    </tr>\n",
       "    <tr>\n",
       "      <th>128913</th>\n",
       "      <td>86845</td>\n",
       "      <td>Unapproved or unmaintained equipment or utensils</td>\n",
       "      <td>90</td>\n",
       "      <td>routine</td>\n",
       "      <td>4</td>\n",
       "      <td>20160329</td>\n",
       "    </tr>\n",
       "    <tr>\n",
       "      <th>128914</th>\n",
       "      <td>86845</td>\n",
       "      <td>Inadequately cleaned or sanitized food contact...</td>\n",
       "      <td>90</td>\n",
       "      <td>routine</td>\n",
       "      <td>4</td>\n",
       "      <td>20160329</td>\n",
       "    </tr>\n",
       "    <tr>\n",
       "      <th>128915</th>\n",
       "      <td>86933</td>\n",
       "      <td>Wiping cloths not clean or properly stored or ...</td>\n",
       "      <td>87</td>\n",
       "      <td>routine</td>\n",
       "      <td>3</td>\n",
       "      <td>20160411</td>\n",
       "    </tr>\n",
       "    <tr>\n",
       "      <th>128916</th>\n",
       "      <td>86933</td>\n",
       "      <td>Unclean or unsanitary food contact surfaces</td>\n",
       "      <td>87</td>\n",
       "      <td>routine</td>\n",
       "      <td>3</td>\n",
       "      <td>20160411</td>\n",
       "    </tr>\n",
       "    <tr>\n",
       "      <th>128917</th>\n",
       "      <td>86933</td>\n",
       "      <td>Moderate risk vermin infestation</td>\n",
       "      <td>87</td>\n",
       "      <td>routine</td>\n",
       "      <td>3</td>\n",
       "      <td>20160411</td>\n",
       "    </tr>\n",
       "    <tr>\n",
       "      <th>128918</th>\n",
       "      <td>87149</td>\n",
       "      <td>Inadequate and inaccessible handwashing facili...</td>\n",
       "      <td>92</td>\n",
       "      <td>routine</td>\n",
       "      <td>3</td>\n",
       "      <td>20160405</td>\n",
       "    </tr>\n",
       "    <tr>\n",
       "      <th>128919</th>\n",
       "      <td>87149</td>\n",
       "      <td>Wiping cloths not clean or properly stored or ...</td>\n",
       "      <td>92</td>\n",
       "      <td>routine</td>\n",
       "      <td>3</td>\n",
       "      <td>20160405</td>\n",
       "    </tr>\n",
       "    <tr>\n",
       "      <th>128920</th>\n",
       "      <td>87149</td>\n",
       "      <td>Low risk vermin infestation</td>\n",
       "      <td>92</td>\n",
       "      <td>routine</td>\n",
       "      <td>3</td>\n",
       "      <td>20160405</td>\n",
       "    </tr>\n",
       "    <tr>\n",
       "      <th>128921</th>\n",
       "      <td>87154</td>\n",
       "      <td>Improper cooling methods</td>\n",
       "      <td>93</td>\n",
       "      <td>routine</td>\n",
       "      <td>1</td>\n",
       "      <td>20160405</td>\n",
       "    </tr>\n",
       "    <tr>\n",
       "      <th>128922</th>\n",
       "      <td>87202</td>\n",
       "      <td>Improper food storage</td>\n",
       "      <td>96</td>\n",
       "      <td>routine</td>\n",
       "      <td>2</td>\n",
       "      <td>20160408</td>\n",
       "    </tr>\n",
       "    <tr>\n",
       "      <th>128923</th>\n",
       "      <td>87202</td>\n",
       "      <td>Inadequate ventilation or lighting</td>\n",
       "      <td>96</td>\n",
       "      <td>routine</td>\n",
       "      <td>2</td>\n",
       "      <td>20160408</td>\n",
       "    </tr>\n",
       "    <tr>\n",
       "      <th>128924</th>\n",
       "      <td>87282</td>\n",
       "      <td>Unapproved or unmaintained equipment or utensils</td>\n",
       "      <td>94</td>\n",
       "      <td>routine</td>\n",
       "      <td>2</td>\n",
       "      <td>20160411</td>\n",
       "    </tr>\n",
       "    <tr>\n",
       "      <th>128925</th>\n",
       "      <td>87282</td>\n",
       "      <td>Insufficient hot water or running water</td>\n",
       "      <td>94</td>\n",
       "      <td>routine</td>\n",
       "      <td>2</td>\n",
       "      <td>20160411</td>\n",
       "    </tr>\n",
       "  </tbody>\n",
       "</table>\n",
       "<p>128926 rows × 6 columns</p>\n",
       "</div>"
      ],
      "text/plain": [
       "        business_id                                        description  score  \\\n",
       "0                10  Insufficient hot water or running water  [ dat...     92   \n",
       "1                10  Insufficient hot water or running water  [ dat...     94   \n",
       "2                10  Unapproved or unmaintained equipment or utensi...     92   \n",
       "3                10  Unapproved or unmaintained equipment or utensi...     94   \n",
       "4                10  Inadequate and inaccessible handwashing facili...     92   \n",
       "5                10  Inadequate and inaccessible handwashing facili...     94   \n",
       "6                10  Unclean or degraded floors walls or ceilings  ...     92   \n",
       "7                10  Unclean or degraded floors walls or ceilings  ...     94   \n",
       "8                10  Improper storage of equipment utensils or line...     92   \n",
       "9                10  Improper storage of equipment utensils or line...     94   \n",
       "10               19   Improper storage of equipment utensils or linens     96   \n",
       "11               19   Improper storage of equipment utensils or linens     94   \n",
       "12               19   Improper storage of equipment utensils or linens     94   \n",
       "13               19  Inadequate food safety knowledge or lack of ce...     96   \n",
       "14               19  Inadequate food safety knowledge or lack of ce...     94   \n",
       "15               19  Inadequate food safety knowledge or lack of ce...     94   \n",
       "16               19  Inadequately cleaned or sanitized food contact...     96   \n",
       "17               19  Inadequately cleaned or sanitized food contact...     94   \n",
       "18               19  Inadequately cleaned or sanitized food contact...     94   \n",
       "19               19  Permit license or inspection report not posted...     96   \n",
       "20               19  Permit license or inspection report not posted...     94   \n",
       "21               19  Permit license or inspection report not posted...     94   \n",
       "22               19  Foods not protected from contamination  [ date...     96   \n",
       "23               19  Foods not protected from contamination  [ date...     94   \n",
       "24               19  Foods not protected from contamination  [ date...     94   \n",
       "25               24       Unclean or degraded floors walls or ceilings    100   \n",
       "26               24       Unclean or degraded floors walls or ceilings     96   \n",
       "27               24       Unclean or degraded floors walls or ceilings     96   \n",
       "28               24       Unclean or degraded floors walls or ceilings     96   \n",
       "29               24  Unclean or degraded floors walls or ceilings  ...    100   \n",
       "...             ...                                                ...    ...   \n",
       "128896        86670   Unapproved or unmaintained equipment or utensils     77   \n",
       "128897        86681  High risk food holding temperature   [ date vi...     79   \n",
       "128898        86681  Inadequate and inaccessible handwashing facili...     79   \n",
       "128899        86681  Inadequately cleaned or sanitized food contact...     79   \n",
       "128900        86681  Other low risk violation  [ date violation cor...     79   \n",
       "128901        86681  Unclean or degraded floors walls or ceilings  ...     79   \n",
       "128902        86681  Improper storage of equipment utensils or line...     79   \n",
       "128903        86682                              Improper food storage     86   \n",
       "128904        86682  Food safety certificate or food handler card n...     86   \n",
       "128905        86682       Unclean or degraded floors walls or ceilings     86   \n",
       "128906        86682                   Unclean nonfood contact surfaces     86   \n",
       "128907        86682  Wiping cloths not clean or properly stored or ...     86   \n",
       "128908        86682  Inadequate and inaccessible handwashing facili...     86   \n",
       "128909        86774  Food safety certificate or food handler card n...     96   \n",
       "128910        86774                              Improper food storage     96   \n",
       "128911        86845  Inadequate or unsanitary refuse containers or ...     90   \n",
       "128912        86845                              Improper food storage     90   \n",
       "128913        86845   Unapproved or unmaintained equipment or utensils     90   \n",
       "128914        86845  Inadequately cleaned or sanitized food contact...     90   \n",
       "128915        86933  Wiping cloths not clean or properly stored or ...     87   \n",
       "128916        86933        Unclean or unsanitary food contact surfaces     87   \n",
       "128917        86933                   Moderate risk vermin infestation     87   \n",
       "128918        87149  Inadequate and inaccessible handwashing facili...     92   \n",
       "128919        87149  Wiping cloths not clean or properly stored or ...     92   \n",
       "128920        87149                        Low risk vermin infestation     92   \n",
       "128921        87154                           Improper cooling methods     93   \n",
       "128922        87202                              Improper food storage     96   \n",
       "128923        87202                 Inadequate ventilation or lighting     96   \n",
       "128924        87282   Unapproved or unmaintained equipment or utensils     94   \n",
       "128925        87282            Insufficient hot water or running water     94   \n",
       "\n",
       "           type  count      date  \n",
       "0       routine     10  20140729  \n",
       "1       routine     10  20140729  \n",
       "2       routine     10  20140729  \n",
       "3       routine     10  20140729  \n",
       "4       routine     10  20140114  \n",
       "5       routine     10  20140114  \n",
       "6       routine     10  20140114  \n",
       "7       routine     10  20140114  \n",
       "8       routine     10  20140114  \n",
       "9       routine     10  20140114  \n",
       "10      routine     15  20141110  \n",
       "11      routine     15  20141110  \n",
       "12      routine     15  20141110  \n",
       "13      routine     15  20141110  \n",
       "14      routine     15  20141110  \n",
       "15      routine     15  20141110  \n",
       "16      routine     15  20140214  \n",
       "17      routine     15  20140214  \n",
       "18      routine     15  20140214  \n",
       "19      routine     15  20140214  \n",
       "20      routine     15  20140214  \n",
       "21      routine     15  20140214  \n",
       "22      routine     15  20130904  \n",
       "23      routine     15  20130904  \n",
       "24      routine     15  20130904  \n",
       "25      routine     20  20160311  \n",
       "26      routine     20  20160311  \n",
       "27      routine     20  20160311  \n",
       "28      routine     20  20160311  \n",
       "29      routine     20  20160311  \n",
       "...         ...    ...       ...  \n",
       "128896  routine      6  20160325  \n",
       "128897  routine      6  20160314  \n",
       "128898  routine      6  20160314  \n",
       "128899  routine      6  20160314  \n",
       "128900  routine      6  20160314  \n",
       "128901  routine      6  20160314  \n",
       "128902  routine      6  20160314  \n",
       "128903  routine      6  20160301  \n",
       "128904  routine      6  20160301  \n",
       "128905  routine      6  20160301  \n",
       "128906  routine      6  20160301  \n",
       "128907  routine      6  20160301  \n",
       "128908  routine      6  20160301  \n",
       "128909  routine      2  20160321  \n",
       "128910  routine      2  20160321  \n",
       "128911  routine      4  20160329  \n",
       "128912  routine      4  20160329  \n",
       "128913  routine      4  20160329  \n",
       "128914  routine      4  20160329  \n",
       "128915  routine      3  20160411  \n",
       "128916  routine      3  20160411  \n",
       "128917  routine      3  20160411  \n",
       "128918  routine      3  20160405  \n",
       "128919  routine      3  20160405  \n",
       "128920  routine      3  20160405  \n",
       "128921  routine      1  20160405  \n",
       "128922  routine      2  20160408  \n",
       "128923  routine      2  20160408  \n",
       "128924  routine      2  20160411  \n",
       "128925  routine      2  20160411  \n",
       "\n",
       "[128926 rows x 6 columns]"
      ]
     },
     "execution_count": 200,
     "metadata": {},
     "output_type": "execute_result"
    }
   ],
   "source": [
    "data"
   ]
  },
  {
   "cell_type": "code",
   "execution_count": 187,
   "metadata": {
    "collapsed": false
   },
   "outputs": [
    {
     "data": {
      "text/html": [
       "<div>\n",
       "<table border=\"1\" class=\"dataframe\">\n",
       "  <thead>\n",
       "    <tr style=\"text-align: right;\">\n",
       "      <th></th>\n",
       "      <th>business_id</th>\n",
       "      <th>date_x</th>\n",
       "      <th>score</th>\n",
       "      <th>date_y</th>\n",
       "    </tr>\n",
       "  </thead>\n",
       "  <tbody>\n",
       "    <tr>\n",
       "      <th>business_id</th>\n",
       "      <td>1.000000</td>\n",
       "      <td>0.058049</td>\n",
       "      <td>-0.059325</td>\n",
       "      <td>-0.019898</td>\n",
       "    </tr>\n",
       "    <tr>\n",
       "      <th>date_x</th>\n",
       "      <td>0.058049</td>\n",
       "      <td>1.000000</td>\n",
       "      <td>0.008211</td>\n",
       "      <td>-0.000048</td>\n",
       "    </tr>\n",
       "    <tr>\n",
       "      <th>score</th>\n",
       "      <td>-0.059325</td>\n",
       "      <td>0.008211</td>\n",
       "      <td>1.000000</td>\n",
       "      <td>-0.397523</td>\n",
       "    </tr>\n",
       "    <tr>\n",
       "      <th>date_y</th>\n",
       "      <td>-0.019898</td>\n",
       "      <td>-0.000048</td>\n",
       "      <td>-0.397523</td>\n",
       "      <td>1.000000</td>\n",
       "    </tr>\n",
       "  </tbody>\n",
       "</table>\n",
       "</div>"
      ],
      "text/plain": [
       "             business_id    date_x     score    date_y\n",
       "business_id     1.000000  0.058049 -0.059325 -0.019898\n",
       "date_x          0.058049  1.000000  0.008211 -0.000048\n",
       "score          -0.059325  0.008211  1.000000 -0.397523\n",
       "date_y         -0.019898 -0.000048 -0.397523  1.000000"
      ]
     },
     "execution_count": 187,
     "metadata": {},
     "output_type": "execute_result"
    }
   ],
   "source": [
    "data.corr()"
   ]
  },
  {
   "cell_type": "markdown",
   "metadata": {},
   "source": [
    "## 3 Zipcode analysis\n",
    "\n",
    "The town administration would like to know which zip code are the ones where they should focus the inspections.\n",
    "\n",
    "Use the information contained in the `businesses` table as well as the previous tables to answer the following questions using SQL:\n",
    "\n",
    "1. Count the number of businesses per zipcode and sort them by descending order\n",
    "- Which are the top 5 zipcodes with the worst average score?\n",
    "    - restrict your analysis to the zipcodes with at least 50 businesses\n",
    "    - do a simple average of the inspections scores in the postal code\n",
    "- Which are the top 5 zipcodes with the highest number of violations per restaurant?\n",
    "    - restrict your  analysis to the zipcodes with at least 50 businesses\n"
   ]
  },
  {
   "cell_type": "code",
   "execution_count": null,
   "metadata": {
    "collapsed": false
   },
   "outputs": [],
   "source": []
  },
  {
   "cell_type": "markdown",
   "metadata": {},
   "source": [
    "## Final recommendation\n",
    "Give a final recommendation on which 2 zipcodes should the administration focus and choose an appropriate plot to convince them visually."
   ]
  },
  {
   "cell_type": "code",
   "execution_count": null,
   "metadata": {
    "collapsed": true
   },
   "outputs": [],
   "source": []
  },
  {
   "cell_type": "markdown",
   "metadata": {
    "collapsed": true
   },
   "source": [
    "## Bonus: Neighborhood data\n",
    "\n",
    "Instead of looking at zipcodes we may be interested in using Neighborhood names.\n",
    "\n",
    "It's beyond the scope of this lab to do a proper introduction to Geocoding and Reverse Geocoding, but we will give some pointers for further exploration.\n",
    "\n",
    "### 1. Google Geocoding API\n",
    "Have a look at:\n",
    "- https://developers.google.com/maps/documentation/geocoding/intro\n",
    "- https://maps.googleapis.com/maps/api/geocode/json?address=\n",
    "- https://maps.googleapis.com/maps/api/geocode/json?latlng=\n",
    "\n",
    "Through this API you can retrieve an address or a neighborhood from a lat-lon pair (reverse geocoding), or you can retrieve lat long and other information from an address (geocoding).\n",
    "\n",
    "1. Try experimenting with and retrieving a few addresses\n",
    "- Note that google imposes limits on the number of free queries\n",
    "- How many missing lat-lon pairs do we have?"
   ]
  },
  {
   "cell_type": "code",
   "execution_count": null,
   "metadata": {
    "collapsed": true
   },
   "outputs": [],
   "source": []
  },
  {
   "cell_type": "markdown",
   "metadata": {},
   "source": [
    "### Bonus 2\n",
    "The pycurl library seems to be faster than requests in getting information from the google api.\n",
    "\n",
    "1. See if you can extract the neighborhood from an address using the geocode api and a bit of json parsing\n",
    "- Note that you would surely hit the daily limit if you pulled each address' neighborhood from the api"
   ]
  },
  {
   "cell_type": "code",
   "execution_count": null,
   "metadata": {
    "collapsed": false
   },
   "outputs": [],
   "source": []
  },
  {
   "cell_type": "markdown",
   "metadata": {},
   "source": [
    "### Bonus 3\n",
    "We can find the neighborhood using the polygons associated to each of them.\n",
    "[Here](https://www.google.com/fusiontables/DataSource?docid=1zNwsvTwj-dH0QxuuDrKFsyfNklajd7WwEyaZ2U9M#rows:id=1) you can find these polygons (and we also copied them [locally](../../assets/datasets/sfneighborhoods.csv).\n",
    "\n",
    "[This article](http://streamhacker.com/2010/03/23/python-point-in-polygon-shapely/) describes how to use the shapely package to check if a point belongs to a polygon.\n",
    "\n",
    "- See if you can build a function that retrieves the neighborhood for a given address using the polygon data"
   ]
  },
  {
   "cell_type": "code",
   "execution_count": null,
   "metadata": {
    "collapsed": false
   },
   "outputs": [],
   "source": []
  },
  {
   "cell_type": "markdown",
   "metadata": {},
   "source": [
    "### Further exploration\n",
    "\n",
    "Postgres is actually GIS enabled, so we could do location based queries directly in the database.\n",
    "\n",
    "Have a look at http://postgis.refractions.net/ for more information."
   ]
  },
  {
   "cell_type": "code",
   "execution_count": null,
   "metadata": {
    "collapsed": true
   },
   "outputs": [],
   "source": []
  }
 ],
 "metadata": {
  "anaconda-cloud": {},
  "kernelspec": {
   "display_name": "Python [default]",
   "language": "python",
   "name": "python2"
  },
  "language_info": {
   "codemirror_mode": {
    "name": "ipython",
    "version": 2
   },
   "file_extension": ".py",
   "mimetype": "text/x-python",
   "name": "python",
   "nbconvert_exporter": "python",
   "pygments_lexer": "ipython2",
   "version": "2.7.12"
  }
 },
 "nbformat": 4,
 "nbformat_minor": 0
}
