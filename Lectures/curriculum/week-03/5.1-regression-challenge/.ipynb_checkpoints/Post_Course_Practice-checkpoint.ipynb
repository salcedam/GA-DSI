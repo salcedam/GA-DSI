{
 "cells": [
  {
   "cell_type": "code",
   "execution_count": 7,
   "metadata": {
    "collapsed": true
   },
   "outputs": [],
   "source": [
    "import pandas as pd\n",
    "import numpy as np\n",
    "import matplotlib.pyplot as plt\n",
    "from sklearn import linear_model,preprocessing\n",
    "from sklearn.ensemble import GradientBoostingRegressor, ExtraTreesRegressor, RandomForestRegressor"
   ]
  },
  {
   "cell_type": "code",
   "execution_count": 2,
   "metadata": {
    "collapsed": true
   },
   "outputs": [],
   "source": [
    "df=pd.read_csv('datasets/challenge-dataset.csv')\n",
    "\n",
    "df=df[df['year']!=2016]"
   ]
  },
  {
   "cell_type": "code",
   "execution_count": 3,
   "metadata": {
    "collapsed": false
   },
   "outputs": [],
   "source": [
    "keep_index=[]\n",
    "for index in df.index:\n",
    "    if '-' not in df.loc[index,'world_rank']:\n",
    "        keep_index.append(index)\n",
    "\n",
    "df=df.iloc[keep_index,:]\n",
    "\n",
    "df['female_male_ratio']=df['female_male_ratio'].apply(lambda x: 50 if pd.isnull(x) else x.split(':')[0])\n",
    "\n",
    "mean_international_students=np.mean(df[pd.notnull(df['international_students'])]\\\n",
    "                                ['international_students'].apply(lambda x: int(x.split('%')[0])).values)\n",
    "df['international_students']=df['international_students'].apply(lambda x: mean_international_students if\\\n",
    "                                                        pd.isnull(x) else x.split('%')[0])\n",
    "\n",
    "df=df[pd.notnull(df['num_students'])]\n",
    "\n",
    "df['num_students']=df['num_students'].apply(lambda x: int(x.replace(',',\"\")))\n",
    "\n",
    "df=df[pd.notnull(df['total_score'])]\n",
    "df['total_score']=df['total_score'].astype(float)\n",
    "\n",
    "df['world_rank']=df['world_rank'].astype(int)\n",
    "\n",
    "keep_columns=[u'world_rank', u'country', u'teaching', u'international', u'research', u'citations', u'total_score',\n",
    "       u'num_students', u'student_staff_ratio', u'international_students', u'female_male_ratio','year']\n",
    "\n",
    "df=df[keep_columns]\n",
    "\n",
    "for col in ['teaching',u'international', u'research', u'citations']:\n",
    "    temp_index=[]\n",
    "    for index in df.index:\n",
    "        if df.loc[index,col]!='-':\n",
    "            temp_index.append(index)\n",
    "    temp=df.loc[temp_index,:].copy()\n",
    "    temp_value=np.mean(temp[col].apply(lambda x: float(x)).values)\n",
    "    df[col]=df[col].apply(lambda x: temp_value if x=='-' else float(x))\n",
    "    \n",
    "df['international_students']=df['international_students'].astype(float)\n",
    "df['female_male_ratio']=df['female_male_ratio'].astype(float)\n",
    "\n",
    "# df=df.merge(pd.get_dummies(df['country']),left_index=True,right_index=True)\n",
    "del df['country']\n",
    "\n",
    "test_set=df[df['year']==2015].copy()\n",
    "df=df[df['year']!=2015]"
   ]
  },
  {
   "cell_type": "code",
   "execution_count": 4,
   "metadata": {
    "collapsed": true
   },
   "outputs": [],
   "source": [
    "x_train=df.copy()\n",
    "del x_train['total_score']\n",
    "y_train=df[u'total_score'].copy()\n",
    "\n",
    "x_test=test_set.copy()\n",
    "del x_test['total_score']\n",
    "y_test=test_set['total_score'].copy()"
   ]
  },
  {
   "cell_type": "code",
   "execution_count": 18,
   "metadata": {
    "collapsed": false
   },
   "outputs": [],
   "source": [
    "def test_model(model,boolean=False):\n",
    "    model.fit(x_train,y_train)\n",
    "    print model.score(x_test,y_test)\n",
    "    if boolean:\n",
    "        return model.predict(x_test),model.coef_\n",
    "    return"
   ]
  },
  {
   "cell_type": "code",
   "execution_count": 19,
   "metadata": {
    "collapsed": false
   },
   "outputs": [
    {
     "name": "stdout",
     "output_type": "stream",
     "text": [
      "0.99795345198\n",
      "0.988940218358\n",
      "0.989022619666\n",
      "0.989170611431\n"
     ]
    }
   ],
   "source": [
    "preds,coef=test_model(linear_model.LinearRegression(),True)\n",
    "test_model(RandomForestRegressor())\n",
    "test_model(ExtraTreesRegressor())\n",
    "test_model(GradientBoostingRegressor())"
   ]
  },
  {
   "cell_type": "code",
   "execution_count": 15,
   "metadata": {
    "collapsed": false
   },
   "outputs": [
    {
     "data": {
      "image/png": "[encoded data removed]",
      "text/plain": [
       "<matplotlib.figure.Figure at 0x11a89dd50>"
      ]
     },
     "metadata": {},
     "output_type": "display_data"
    }
   ],
   "source": [
    "plt.scatter(preds,y_test)\n",
    "plt.plot(preds,preds,'-')\n",
    "plt.ylabel('Actual Total Score')\n",
    "plt.xlabel('Predicted Total Score')\n",
    "plt.title('University Scores')\n",
    "plt.show()"
   ]
  },
  {
   "cell_type": "code",
   "execution_count": 30,
   "metadata": {
    "collapsed": false
   },
   "outputs": [
    {
     "data": {
      "text/html": [
       "<div>\n",
       "<table border=\"1\" class=\"dataframe\">\n",
       "  <thead>\n",
       "    <tr style=\"text-align: right;\">\n",
       "      <th></th>\n",
       "      <th>Coefficient</th>\n",
       "      <th>Beta</th>\n",
       "    </tr>\n",
       "  </thead>\n",
       "  <tbody>\n",
       "    <tr>\n",
       "      <th>0</th>\n",
       "      <td>research</td>\n",
       "      <td>0.308718</td>\n",
       "    </tr>\n",
       "    <tr>\n",
       "      <th>1</th>\n",
       "      <td>citations</td>\n",
       "      <td>0.293990</td>\n",
       "    </tr>\n",
       "    <tr>\n",
       "      <th>2</th>\n",
       "      <td>teaching</td>\n",
       "      <td>0.291857</td>\n",
       "    </tr>\n",
       "    <tr>\n",
       "      <th>3</th>\n",
       "      <td>year</td>\n",
       "      <td>-0.112500</td>\n",
       "    </tr>\n",
       "    <tr>\n",
       "      <th>4</th>\n",
       "      <td>international</td>\n",
       "      <td>0.071073</td>\n",
       "    </tr>\n",
       "    <tr>\n",
       "      <th>5</th>\n",
       "      <td>female_male_ratio</td>\n",
       "      <td>-0.016119</td>\n",
       "    </tr>\n",
       "    <tr>\n",
       "      <th>6</th>\n",
       "      <td>international_students</td>\n",
       "      <td>-0.009186</td>\n",
       "    </tr>\n",
       "    <tr>\n",
       "      <th>7</th>\n",
       "      <td>world_rank</td>\n",
       "      <td>-0.004795</td>\n",
       "    </tr>\n",
       "    <tr>\n",
       "      <th>8</th>\n",
       "      <td>student_staff_ratio</td>\n",
       "      <td>0.004634</td>\n",
       "    </tr>\n",
       "    <tr>\n",
       "      <th>9</th>\n",
       "      <td>num_students</td>\n",
       "      <td>-0.000006</td>\n",
       "    </tr>\n",
       "  </tbody>\n",
       "</table>\n",
       "</div>"
      ],
      "text/plain": [
       "              Coefficient      Beta\n",
       "0                research  0.308718\n",
       "1               citations  0.293990\n",
       "2                teaching  0.291857\n",
       "3                    year -0.112500\n",
       "4           international  0.071073\n",
       "5       female_male_ratio -0.016119\n",
       "6  international_students -0.009186\n",
       "7              world_rank -0.004795\n",
       "8     student_staff_ratio  0.004634\n",
       "9            num_students -0.000006"
      ]
     },
     "execution_count": 30,
     "metadata": {},
     "output_type": "execute_result"
    }
   ],
   "source": [
    "coef_df=zip(x_train.columns,model.coef_)\n",
    "coef_df.sort(key=lambda x: np.abs(x[1]),reverse=True)\n",
    "pd.DataFrame(coef_df,columns=['Coefficient','Beta'])"
   ]
  },
  {
   "cell_type": "code",
   "execution_count": null,
   "metadata": {
    "collapsed": true
   },
   "outputs": [],
   "source": []
  },
  {
   "cell_type": "code",
   "execution_count": null,
   "metadata": {
    "collapsed": true
   },
   "outputs": [],
   "source": []
  },
  {
   "cell_type": "code",
   "execution_count": null,
   "metadata": {
    "collapsed": true
   },
   "outputs": [],
   "source": []
  },
  {
   "cell_type": "code",
   "execution_count": null,
   "metadata": {
    "collapsed": true
   },
   "outputs": [],
   "source": []
  },
  {
   "cell_type": "code",
   "execution_count": null,
   "metadata": {
    "collapsed": true
   },
   "outputs": [],
   "source": []
  },
  {
   "cell_type": "code",
   "execution_count": null,
   "metadata": {
    "collapsed": true
   },
   "outputs": [],
   "source": []
  },
  {
   "cell_type": "code",
   "execution_count": null,
   "metadata": {
    "collapsed": true
   },
   "outputs": [],
   "source": []
  },
  {
   "cell_type": "code",
   "execution_count": null,
   "metadata": {
    "collapsed": true
   },
   "outputs": [],
   "source": []
  },
  {
   "cell_type": "code",
   "execution_count": null,
   "metadata": {
    "collapsed": true
   },
   "outputs": [],
   "source": []
  },
  {
   "cell_type": "code",
   "execution_count": null,
   "metadata": {
    "collapsed": true
   },
   "outputs": [],
   "source": []
  },
  {
   "cell_type": "code",
   "execution_count": null,
   "metadata": {
    "collapsed": true
   },
   "outputs": [],
   "source": []
  }
 ],
 "metadata": {
  "anaconda-cloud": {},
  "kernelspec": {
   "display_name": "Python [default]",
   "language": "python",
   "name": "python2"
  },
  "language_info": {
   "codemirror_mode": {
    "name": "ipython",
    "version": 2
   },
   "file_extension": ".py",
   "mimetype": "text/x-python",
   "name": "python",
   "nbconvert_exporter": "python",
   "pygments_lexer": "ipython2",
   "version": "2.7.12"
  }
 },
 "nbformat": 4,
 "nbformat_minor": 1
}
