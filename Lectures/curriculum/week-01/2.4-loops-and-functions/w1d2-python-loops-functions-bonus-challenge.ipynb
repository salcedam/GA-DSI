{
 "cells": [
  {
   "cell_type": "markdown",
   "metadata": {
    "focus": true,
    "id": "501db766-46cd-4c2b-b94f-cfb682eab872"
   },
   "source": [
    "# Bonus Code Challenges #3\n",
    "\n",
    "To supplement what is going on in class related to control structures and functions, we've come up with this fun challenge to explore futher practice.  Although we're not specifically covering recursive functions, they can be useful to avoid application complexity when implenting repeating processes that test repeating conditions.  You don't have to use them in this exercize, but we strongly suggest you try solve the challenges using recursive methods.  \n",
    "\n",
    "[Recurve Function Review](http://www.python-course.eu/recursive_functions.php)\n",
    "\n",
    "For these challenges, you will need to have a basic working knowledge of Python and be comfortable with fundamental usage. To get the most out of these exercises you should avoid using libraries (but feel free to use buil-in types ie: zip()) as much as possible and try to construct solutions by hand as much as possible. Also, if solutions are available, try not to peek to get the most out of this. Feel free to search and use resources on the web but try to figure as much of these out with careful thought."
   ]
  },
  {
   "cell_type": "markdown",
   "metadata": {
    "focus": false,
    "id": "f1fd0d67-6d40-484e-8f8b-b8fe8657c7fa"
   },
   "source": [
    "## Challenge 1 - Guess The Number\n",
    "\n",
    "In this challenge we will be creating one of the oldest, yet arguably exciting, games in the universe: \"Guess The Number\".  In order to provide the game mechanic, we will need to use control structures to facilitate the course of the game which is:\n",
    "\n",
    " 1. Generate random number\n",
    " 2. Ask for user input\n",
    " 3. Compare user input with generated number\n",
    " 4. Check winning conditions\n",
    " 5. Output response \"too high\", \"too low\", or \"You're the winner\"\n",
    " 6. Repeat until user wins\n",
    " \n",
    " \n",
    "**Input**\n",
    "\n",
    "     User prompt for numeric input.\n",
    "     \n",
    "**Output**\n",
    "\n",
    "     \"too high\" if user_input > random_number\n",
    "     \"too low\" if user_input < random_number\n",
    "     \"You're the winner\" if user_input == random_number\n",
    "\n",
    "*** The kernel may hang during testing of this type of app so use \"Kerenel -> Inturrupt\" as needed\n"
   ]
  },
  {
   "cell_type": "code",
   "execution_count": 8,
   "metadata": {
    "collapsed": false,
    "focus": false,
    "id": "8bc09cba-37bc-41f6-9d59-ee0cea9e5ac5"
   },
   "outputs": [
    {
     "name": "stdout",
     "output_type": "stream",
     "text": [
      "Are you excited?  It's time to play guess that number!\n",
      "Pick a number between 1-10:  1\n",
      "You entered:   1\n",
      "Sorry, your guess was too low\n",
      "Pick a number between 1-10:  2\n",
      "You entered:   2\n",
      "Sorry, your guess was too low\n",
      "Pick a number between 1-10:  5\n",
      "You entered:   5\n",
      "Sorry, your guess was too low\n",
      "Pick a number between 1-10:  8\n",
      "You entered:   8\n",
      "Sorry, your guess was too low\n",
      "Pick a number between 1-10:  9\n",
      "You entered:   9\n",
      "Sorry, your guess was too low\n",
      "Pick a number between 1-10:  10\n",
      "You entered:   10\n",
      "Congratualtions, you guessed the right number!\n",
      "Play again? (y/n):n\n"
     ]
    }
   ],
   "source": [
    "# You may enjoy writing your own random number function, but for the sake of time, let's use Python's built-in random module.\n",
    "from random import randint\n",
    "\n",
    "\n",
    "# In a notebook, this will prompt the user to enter a number, and pause execution of the app.\n",
    "# We use int() because anything that comes into\n",
    "def play_guess_that_number(rn):\n",
    "    state=True\n",
    "    while state:\n",
    "        un = int(raw_input(\"Pick a number between 1-10:  \"))\n",
    "        print \"You entered:  \", un\n",
    "        if un==rn:\n",
    "            print \"Congratualtions, you guessed the right number!\"\n",
    "            state=False\n",
    "        elif un>rn and un<=10:\n",
    "            print \"Sorry, your guess was too high\"\n",
    "        elif un<rn and un>=1:\n",
    "            print \"Sorry, your guess was too low\"\n",
    "        else:\n",
    "            print \"Sorry, your guess was invalid\"\n",
    "\n",
    "# Here is your random number\n",
    "# Tell the user what they are about to experience\n",
    "# We pass \"random_number\" so it can be referenced throughout\n",
    "\n",
    "random_number = randint(1, 10)\n",
    "print \"Are you excited?  It's time to play guess that number!\"\n",
    "stat=True\n",
    "temp=''\n",
    "while stat:\n",
    "    play_guess_that_number(random_number)\n",
    "    temp=str(raw_input(\"Play again? (y/n):\"))\n",
    "    if temp.lower()=='y':\n",
    "        stat=True\n",
    "    elif temp.lower()=='n':\n",
    "        stat=False\n",
    "    else:\n",
    "        print \"Game will end; you chose an incorrect state\""
   ]
  },
  {
   "cell_type": "markdown",
   "metadata": {
    "focus": false,
    "id": "ea42436c-eed5-4656-9410-18994247b60a"
   },
   "source": [
    "## Challenge 2 - Guess The Number  _(Enhanced Edition)_\n",
    "\n",
    "Guessing a number is good fun, but why don't we indroduce an element of danger shall we?  Let's give the user only 5 chances to guess!  Also, print the number of chances the user has used after each guess.  Take the previous function you created and modify it for these new features!\n",
    "\n",
    "**Input**\n",
    "\n",
    "     User prompt for numeric input.\n",
    "     \n",
    "**Output**\n",
    "\n",
    "     \"too high\" if user_input > random_number\n",
    "     \"too low\" if user_input < random_number\n",
    "     \"You're the winner\" if user_input == random_number\n",
    "     \"Game Over: Too many guesses!\"\n",
    "\n"
   ]
  },
  {
   "cell_type": "code",
   "execution_count": 14,
   "metadata": {
    "collapsed": false,
    "focus": false,
    "id": "52174e35-24b5-400a-b9a4-61ba4a13fecc"
   },
   "outputs": [
    {
     "name": "stdout",
     "output_type": "stream",
     "text": [
      "Are you excited?  It's time to play guess that number!\n",
      "You have 5 tries remaining.\n",
      "Pick a number between 1-10:  1\n",
      "You entered:   1\n",
      "Congratualtions, you guessed the right number!\n",
      "Play again? (y/n):2\n",
      "Game will end; you chose an incorrect state\n"
     ]
    }
   ],
   "source": [
    "# You may enjoy writing your own random number function, but for the sake of time, let's use Python's built-in random module.\n",
    "from random import randint\n",
    "\n",
    "\n",
    "# In a notebook, this will prompt the user to enter a number, and pause execution of the app.\n",
    "# We use int() because anything that comes into\n",
    "def play_guess_that_number(rn,tries):\n",
    "    state=True\n",
    "    while state:\n",
    "        print \"You have\",tries,\"tries remaining.\"\n",
    "        if tries==0:\n",
    "            state=False\n",
    "        else:\n",
    "            un = int(raw_input(\"Pick a number between 1-10:  \"))\n",
    "            print \"You entered:  \", un\n",
    "            if un==rn:\n",
    "                print \"Congratualtions, you guessed the right number!\"\n",
    "                state=False\n",
    "            elif un>rn and un<=10:\n",
    "                print \"Sorry, your guess was too high\"\n",
    "                tries+=-1\n",
    "            elif un<rn and un>=1:\n",
    "                print \"Sorry, your guess was too low\"\n",
    "                tries+=-1\n",
    "            else:\n",
    "                print \"Sorry, your guess was invalid\"\n",
    "                tries+=-1\n",
    "\n",
    "# Here is your random number\n",
    "# Tell the user what they are about to experience\n",
    "# We pass \"random_number\" so it can be referenced throughout\n",
    "\n",
    "print \"Are you excited?  It's time to play guess that number!\"\n",
    "stat=True\n",
    "tries=5\n",
    "temp=''\n",
    "while stat:\n",
    "    random_number = randint(1, 10)\n",
    "    play_guess_that_number(random_number,tries)\n",
    "    temp=str(raw_input(\"Play again? (y/n):\"))\n",
    "    if temp.lower()=='y':\n",
    "        stat=True\n",
    "    elif temp.lower()=='n':\n",
    "        stat=False\n",
    "    else:\n",
    "        print \"Game will end; you chose an incorrect state\"\n",
    "        stat=False"
   ]
  },
  {
   "cell_type": "code",
   "execution_count": 15,
   "metadata": {
    "collapsed": false
   },
   "outputs": [
    {
     "name": "stdout",
     "output_type": "stream",
     "text": [
      "1\n",
      "2\n",
      "3\n",
      "4\n",
      "5\n",
      "6\n"
     ]
    }
   ],
   "source": [
    "def print_list(x):\n",
    "    for y in x:\n",
    "        print y\n",
    "\n",
    "lis=[1,2,3,4,5,6]\n",
    "print_list(lis)"
   ]
  },
  {
   "cell_type": "code",
   "execution_count": 21,
   "metadata": {
    "collapsed": false
   },
   "outputs": [
    {
     "name": "stdout",
     "output_type": "stream",
     "text": [
      "a 1\n",
      "b 2\n"
     ]
    }
   ],
   "source": [
    "def dic_print(x):\n",
    "    for i in x.keys():\n",
    "        print i,x[i]\n",
    "        \n",
    "dic={'a':1,'b':2}\n",
    "dic_print(dic)"
   ]
  },
  {
   "cell_type": "code",
   "execution_count": null,
   "metadata": {
    "collapsed": false
   },
   "outputs": [],
   "source": []
  },
  {
   "cell_type": "code",
   "execution_count": null,
   "metadata": {
    "collapsed": true
   },
   "outputs": [],
   "source": []
  },
  {
   "cell_type": "code",
   "execution_count": null,
   "metadata": {
    "collapsed": true
   },
   "outputs": [],
   "source": []
  },
  {
   "cell_type": "code",
   "execution_count": null,
   "metadata": {
    "collapsed": true
   },
   "outputs": [],
   "source": []
  },
  {
   "cell_type": "code",
   "execution_count": null,
   "metadata": {
    "collapsed": true
   },
   "outputs": [],
   "source": []
  },
  {
   "cell_type": "code",
   "execution_count": null,
   "metadata": {
    "collapsed": true
   },
   "outputs": [],
   "source": []
  },
  {
   "cell_type": "code",
   "execution_count": null,
   "metadata": {
    "collapsed": true
   },
   "outputs": [],
   "source": []
  }
 ],
 "metadata": {
  "anaconda-cloud": {},
  "kernelspec": {
   "display_name": "Python [default]",
   "language": "python",
   "name": "python2"
  },
  "language_info": {
   "codemirror_mode": {
    "name": "ipython",
    "version": 2
   },
   "file_extension": ".py",
   "mimetype": "text/x-python",
   "name": "python",
   "nbconvert_exporter": "python",
   "pygments_lexer": "ipython2",
   "version": "2.7.12"
  }
 },
 "nbformat": 4,
 "nbformat_minor": 0
}
