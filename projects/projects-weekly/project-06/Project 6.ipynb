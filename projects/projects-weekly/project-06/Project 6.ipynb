{
 "cells": [
  {
   "cell_type": "code",
   "execution_count": 329,
   "metadata": {
    "collapsed": false
   },
   "outputs": [],
   "source": [
    "from imdbpie import Imdb\n",
    "import numpy as np\n",
    "import pandas as pd\n",
    "import matplotlib.pyplot as plt\n",
    "import seaborn as sns\n",
    "from sklearn.neighbors import KNeighborsClassifier as KNeighborsClassifier\n",
    "from sklearn.metrics import confusion_matrix, accuracy_score\n",
    "from sklearn.cross_validation import train_test_split, cross_val_score\n",
    "from sklearn.metrics import roc_auc_score, roc_curve, auc\n",
    "from sklearn.neighbors import KNeighborsClassifier\n",
    "from sklearn.grid_search import GridSearchCV\n",
    "from sklearn.cross_validation import train_test_split\n",
    "from sklearn.cross_validation import cross_val_score\n",
    "from sklearn.tree import DecisionTreeClassifier\n",
    "from sklearn.ensemble import BaggingClassifier\n",
    "from BeautifulSoup import BeautifulSoup\n",
    "import requests\n",
    "import time\n",
    "% matplotlib inline\n",
    "\n",
    "imdb = Imdb()"
   ]
  },
  {
   "cell_type": "code",
   "execution_count": 11,
   "metadata": {
    "collapsed": false
   },
   "outputs": [],
   "source": [
    "data=imdb.top_250()\n",
    "df=pd.DataFrame(data)\n",
    "del df['image']"
   ]
  },
  {
   "cell_type": "code",
   "execution_count": 553,
   "metadata": {
    "collapsed": false,
    "scrolled": false
   },
   "outputs": [
    {
     "data": {
      "text/html": [
       "<div>\n",
       "<table border=\"1\" class=\"dataframe\">\n",
       "  <thead>\n",
       "    <tr style=\"text-align: right;\">\n",
       "      <th></th>\n",
       "      <th>can_rate</th>\n",
       "      <th>num_votes</th>\n",
       "      <th>rating</th>\n",
       "      <th>tconst</th>\n",
       "      <th>title</th>\n",
       "      <th>type</th>\n",
       "      <th>year</th>\n",
       "    </tr>\n",
       "  </thead>\n",
       "  <tbody>\n",
       "    <tr>\n",
       "      <th>192</th>\n",
       "      <td>True</td>\n",
       "      <td>164388</td>\n",
       "      <td>8.1</td>\n",
       "      <td>tt0052618</td>\n",
       "      <td>Ben-Hur</td>\n",
       "      <td>feature</td>\n",
       "      <td>1959</td>\n",
       "    </tr>\n",
       "  </tbody>\n",
       "</table>\n",
       "</div>"
      ],
      "text/plain": [
       "    can_rate  num_votes  rating     tconst    title     type  year\n",
       "192     True     164388     8.1  tt0052618  Ben-Hur  feature  1959"
      ]
     },
     "execution_count": 553,
     "metadata": {},
     "output_type": "execute_result"
    }
   ],
   "source": [
    "df[df['title']==\"Ben-Hur\"]"
   ]
  },
  {
   "cell_type": "code",
   "execution_count": 528,
   "metadata": {
    "collapsed": false
   },
   "outputs": [
    {
     "data": {
      "image/png": "[encoded data removed]",
      "text/plain": [
       "<matplotlib.figure.Figure at 0x1226cf6d0>"
      ]
     },
     "metadata": {},
     "output_type": "display_data"
    },
    {
     "data": {
      "image/png": "[encoded data removed]",
      "text/plain": [
       "<matplotlib.figure.Figure at 0x11fcde290>"
      ]
     },
     "metadata": {},
     "output_type": "display_data"
    },
    {
     "data": {
      "image/png": "[encoded data removed]",
      "text/plain": [
       "<matplotlib.figure.Figure at 0x11fcdef90>"
      ]
     },
     "metadata": {},
     "output_type": "display_data"
    }
   ],
   "source": [
    "plt.hist(df[\"rating\"])\n",
    "plt.show()\n",
    "plt.bar(df.groupby('year')['rating'].count().to_frame().reset_index()['year'],\n",
    "              df.groupby('year')['rating'].count().to_frame().reset_index()['rating'])\n",
    "plt.show()\n",
    "plt.hist(df['num_votes'])\n",
    "plt.show()"
   ]
  },
  {
   "cell_type": "code",
   "execution_count": 38,
   "metadata": {
    "collapsed": false
   },
   "outputs": [
    {
     "data": {
      "text/plain": [
       "dtype('int64')"
      ]
     },
     "execution_count": 38,
     "metadata": {},
     "output_type": "execute_result"
    }
   ],
   "source": [
    "df['year'].astype(int).dtype"
   ]
  },
  {
   "cell_type": "code",
   "execution_count": 555,
   "metadata": {
    "collapsed": false
   },
   "outputs": [],
   "source": [
    "def get_movie_info(movie_name):\n",
    "    base_url='https://en.wikipedia.org/wiki/'\n",
    "    movie_name_url=base_url+movie_name.replace(\" \",\"_\")+\"_(film)\"\n",
    "    html=requests.get(movie_name_url)\n",
    "    soup=BeautifulSoup(html.text)\n",
    "    i=len(soup.findAll('td',{'style':'line-height:1.3em;'}))-1\n",
    "    information={\"URL\":movie_name_url}\n",
    "    for count in range(i):\n",
    "        information[soup.findAll('th', {'scope':\"row\"})[count].text]=\\\n",
    "                            soup.findAll('td',{'style':'line-height:1.3em;'})[count].text\n",
    "    for count in range(i):\n",
    "        temp=\"\"\n",
    "        length=len(soup.findAll('td',{'style':'line-height:1.3em;'})[count]('li'))-1\n",
    "        if length<1:\n",
    "            temp=soup.findAll('td',{'style':'line-height:1.3em;'})[i].text\n",
    "        else:\n",
    "            for x in range(length):\n",
    "                if x==0:\n",
    "                    temp+=soup.findAll('td',{'style':'line-height:1.3em;'})[count]('li')[x].text\n",
    "                else:\n",
    "                    temp+=\", \"+soup.findAll('td',{'style':'line-height:1.3em;'})[count]('li')[x].text\n",
    "            information[soup.findAll('th', {'scope':\"row\"})[count].text]=temp\n",
    "    return information\n",
    "def get_movie_info_with_year(movie_name,year):\n",
    "    base_url='https://en.wikipedia.org/wiki/'\n",
    "    movie_name_url=base_url+movie_name.replace(\" \",\"_\")+\"_(\"+year+\" film)\"\n",
    "    html=requests.get(movie_name_url)\n",
    "    soup=BeautifulSoup(html.text)\n",
    "    i=len(soup.findAll('td',{'style':'line-height:1.3em;'}))-1\n",
    "    information={\"URL\":movie_name_url}\n",
    "    for count in range(i):\n",
    "        information[soup.findAll('th', {'scope':\"row\"})[count].text]=\\\n",
    "                            soup.findAll('td',{'style':'line-height:1.3em;'})[count].text\n",
    "    for count in range(i):\n",
    "        temp=\"\"\n",
    "        length=len(soup.findAll('td',{'style':'line-height:1.3em;'})[count]('li'))-1\n",
    "        if length<1:\n",
    "            temp=soup.findAll('td',{'style':'line-height:1.3em;'})[i].text\n",
    "        else:\n",
    "            for x in range(length):\n",
    "                if x==0:\n",
    "                    temp+=soup.findAll('td',{'style':'line-height:1.3em;'})[count]('li')[x].text\n",
    "                else:\n",
    "                    temp+=\", \"+soup.findAll('td',{'style':'line-height:1.3em;'})[count]('li')[x].text\n",
    "            information[soup.findAll('th', {'scope':\"row\"})[count].text]=temp\n",
    "    return information\n",
    "\n",
    "def get_movie_info_no_film(movie_name):\n",
    "    base_url='https://en.wikipedia.org/wiki/'\n",
    "    movie_name_url=base_url+movie_name.replace(\" \",\"_\")\n",
    "    html=requests.get(movie_name_url)\n",
    "    soup=BeautifulSoup(html.text)\n",
    "    i=len(soup.findAll('td',{'style':'line-height:1.3em;'}))-1\n",
    "    information={\"URL\":movie_name_url}\n",
    "    for count in range(i):\n",
    "        information[soup.findAll('th', {'scope':\"row\"})[count].text]=\\\n",
    "                            soup.findAll('td',{'style':'line-height:1.3em;'})[count].text\n",
    "    for count in range(i):\n",
    "        temp=\"\"\n",
    "        length=len(soup.findAll('td',{'style':'line-height:1.3em;'})[count]('li'))-1\n",
    "        if length<1:\n",
    "            temp=soup.findAll('td',{'style':'line-height:1.3em;'})[i].text\n",
    "        else:\n",
    "            for x in range(length):\n",
    "                if x==0:\n",
    "                    temp+=soup.findAll('td',{'style':'line-height:1.3em;'})[count]('li')[x].text\n",
    "                else:\n",
    "                    temp+=\", \"+soup.findAll('td',{'style':'line-height:1.3em;'})[count]('li')[x].text\n",
    "            information[soup.findAll('th', {'scope':\"row\"})[count].text]=temp\n",
    "    return information"
   ]
  },
  {
   "cell_type": "code",
   "execution_count": 328,
   "metadata": {
    "collapsed": false,
    "scrolled": true
   },
   "outputs": [
    {
     "data": {
      "text/plain": [
       "{'URL': 'https://en.wikipedia.org/wiki/The_Good,_the_Bad_and_the_Ugly_(film)'}"
      ]
     },
     "execution_count": 328,
     "metadata": {},
     "output_type": "execute_result"
    }
   ],
   "source": [
    "get_movie_info('The Good, the Bad and the Ugly')"
   ]
  },
  {
   "cell_type": "code",
   "execution_count": 331,
   "metadata": {
    "collapsed": true
   },
   "outputs": [],
   "source": [
    "html=requests.get(\"https://en.wikipedia.org/wiki/The_Good,_the_Bad_and_the_Ugly_(film)\")"
   ]
  },
  {
   "cell_type": "code",
   "execution_count": 332,
   "metadata": {
    "collapsed": false
   },
   "outputs": [],
   "source": [
    "soup=BeautifulSoup(html.text)"
   ]
  },
  {
   "cell_type": "code",
   "execution_count": 352,
   "metadata": {
    "collapsed": false,
    "scrolled": false
   },
   "outputs": [
    {
     "name": "stdout",
     "output_type": "stream",
     "text": [
      "[]\n",
      "\n"
     ]
    }
   ],
   "source": [
    "i=len(soup.findAll('th',{'style':\"white-space:nowrap;padding-right:0.65em;\"}))-1\n",
    "print soup.findAll('th',{'style':\"white-space:nowrap;padding-right:0.65em;\"})\n",
    "print\n",
    "# for x in range(len(soup.findAll('td',{'style':'line-height:1.3em;'})[i]('li'))-1):\n",
    "#     print soup.findAll('td',{'style':'line-height:1.3em;'})[i]('li')[x].text\n",
    "#     print soup.findAll('td',{'style':'line-height:1.3em;'})[i]('td')[x].text\n",
    "# print soup.findAll('td',{'style':'line-height:1.3em;'})[i].text"
   ]
  },
  {
   "cell_type": "code",
   "execution_count": 558,
   "metadata": {
    "collapsed": true
   },
   "outputs": [],
   "source": [
    "movie_dict={}\n",
    "for number in range(len(df)):\n",
    "    movie=df.loc[number,'title']\n",
    "    movie_dict[movie]=get_movie_info(movie)"
   ]
  },
  {
   "cell_type": "code",
   "execution_count": 560,
   "metadata": {
    "collapsed": false
   },
   "outputs": [],
   "source": [
    "movie_information=pd.DataFrame(movie_dict).T"
   ]
  },
  {
   "cell_type": "code",
   "execution_count": 568,
   "metadata": {
    "collapsed": false
   },
   "outputs": [],
   "source": [
    "movie_information=movie_information.reset_index()\n",
    "movie_information=movie_information.rename(columns={'index':'title'})\n",
    "titles=movie_information[pd.isnull(movie_information['Budget'])]['title']\n",
    "\n",
    "movie_dict2={}\n",
    "rows=df[df['title'].apply(lambda x: x in titles)]\n",
    "rows=rows.reset_index()\n",
    "del rows['title']\n",
    "for number in range(len(rows)):\n",
    "    movie=df.loc[number,'title']\n",
    "    year=df.loc[number,'year']\n",
    "    movie_dict2[movie]=get_movie_info_with_year(movie,year)\n",
    "movie_information=pd.concat([movie_information,pd.DataFrame(movie_dict2).T])\n",
    "movie_information=movie_information.reset_index()\n",
    "movie_information=movie_information.rename(columns={'index':'title'})\n",
    "titles=movie_information[pd.isnull(movie_information['Budget'])]['title']\n",
    "\n",
    "movie_dict3={}\n",
    "rows=df[df['title'].apply(lambda x: True if x in titles else False)]\n",
    "rows=rows.reset_index()\n",
    "del rows['title']\n",
    "for number in range(len(rows)):\n",
    "    movie=df.loc[number,'title']\n",
    "    movie_dict3[movie]=get_movie_info_no_film(movie)\n",
    "movie_information=pd.concat([movie_information,pd.DataFrame(movie_dict3).T])\n",
    "movie_information=movie_information.reset_index()\n",
    "movie_information=movie_information.rename(columns={'index':'title'})"
   ]
  },
  {
   "cell_type": "code",
   "execution_count": 574,
   "metadata": {
    "collapsed": false
   },
   "outputs": [
    {
     "ename": "TypeError",
     "evalue": "'Series' objects are mutable, thus they cannot be hashed",
     "output_type": "error",
     "traceback": [
      "\u001b[0;31m---------------------------------------------------------------------------\u001b[0m",
      "\u001b[0;31mTypeError\u001b[0m                                 Traceback (most recent call last)",
      "\u001b[0;32m<ipython-input-574-708c69b68edf>\u001b[0m in \u001b[0;36m<module>\u001b[0;34m()\u001b[0m\n\u001b[0;32m----> 1\u001b[0;31m \u001b[0mrows\u001b[0m\u001b[0;34m=\u001b[0m\u001b[0mdf\u001b[0m\u001b[0;34m[\u001b[0m\u001b[0mdf\u001b[0m\u001b[0;34m[\u001b[0m\u001b[0;34m'title'\u001b[0m\u001b[0;34m]\u001b[0m\u001b[0;32min\u001b[0m \u001b[0mtitles\u001b[0m\u001b[0;34m]\u001b[0m\u001b[0;34m\u001b[0m\u001b[0m\n\u001b[0m\u001b[1;32m      2\u001b[0m \u001b[0mrows\u001b[0m\u001b[0;34m\u001b[0m\u001b[0m\n",
      "\u001b[0;32m/Users/thomas/anaconda/lib/python2.7/site-packages/pandas/core/generic.pyc\u001b[0m in \u001b[0;36m__contains__\u001b[0;34m(self, key)\u001b[0m\n\u001b[1;32m    869\u001b[0m     \u001b[0;32mdef\u001b[0m \u001b[0m__contains__\u001b[0m\u001b[0;34m(\u001b[0m\u001b[0mself\u001b[0m\u001b[0;34m,\u001b[0m \u001b[0mkey\u001b[0m\u001b[0;34m)\u001b[0m\u001b[0;34m:\u001b[0m\u001b[0;34m\u001b[0m\u001b[0m\n\u001b[1;32m    870\u001b[0m         \u001b[0;34m\"\"\"True if the key is in the info axis\"\"\"\u001b[0m\u001b[0;34m\u001b[0m\u001b[0m\n\u001b[0;32m--> 871\u001b[0;31m         \u001b[0;32mreturn\u001b[0m \u001b[0mkey\u001b[0m \u001b[0;32min\u001b[0m \u001b[0mself\u001b[0m\u001b[0;34m.\u001b[0m\u001b[0m_info_axis\u001b[0m\u001b[0;34m\u001b[0m\u001b[0m\n\u001b[0m\u001b[1;32m    872\u001b[0m \u001b[0;34m\u001b[0m\u001b[0m\n\u001b[1;32m    873\u001b[0m     \u001b[0;34m@\u001b[0m\u001b[0mproperty\u001b[0m\u001b[0;34m\u001b[0m\u001b[0m\n",
      "\u001b[0;32m/Users/thomas/anaconda/lib/python2.7/site-packages/pandas/indexes/base.pyc\u001b[0m in \u001b[0;36m__contains__\u001b[0;34m(self, key)\u001b[0m\n\u001b[1;32m   1361\u001b[0m \u001b[0;34m\u001b[0m\u001b[0m\n\u001b[1;32m   1362\u001b[0m     \u001b[0;32mdef\u001b[0m \u001b[0m__contains__\u001b[0m\u001b[0;34m(\u001b[0m\u001b[0mself\u001b[0m\u001b[0;34m,\u001b[0m \u001b[0mkey\u001b[0m\u001b[0;34m)\u001b[0m\u001b[0;34m:\u001b[0m\u001b[0;34m\u001b[0m\u001b[0m\n\u001b[0;32m-> 1363\u001b[0;31m         \u001b[0mhash\u001b[0m\u001b[0;34m(\u001b[0m\u001b[0mkey\u001b[0m\u001b[0;34m)\u001b[0m\u001b[0;34m\u001b[0m\u001b[0m\n\u001b[0m\u001b[1;32m   1364\u001b[0m         \u001b[0;31m# work around some kind of odd cython bug\u001b[0m\u001b[0;34m\u001b[0m\u001b[0;34m\u001b[0m\u001b[0m\n\u001b[1;32m   1365\u001b[0m         \u001b[0;32mtry\u001b[0m\u001b[0;34m:\u001b[0m\u001b[0;34m\u001b[0m\u001b[0m\n",
      "\u001b[0;32m/Users/thomas/anaconda/lib/python2.7/site-packages/pandas/core/generic.pyc\u001b[0m in \u001b[0;36m__hash__\u001b[0;34m(self)\u001b[0m\n\u001b[1;32m    829\u001b[0m     \u001b[0;32mdef\u001b[0m \u001b[0m__hash__\u001b[0m\u001b[0;34m(\u001b[0m\u001b[0mself\u001b[0m\u001b[0;34m)\u001b[0m\u001b[0;34m:\u001b[0m\u001b[0;34m\u001b[0m\u001b[0m\n\u001b[1;32m    830\u001b[0m         raise TypeError('{0!r} objects are mutable, thus they cannot be'\n\u001b[0;32m--> 831\u001b[0;31m                         ' hashed'.format(self.__class__.__name__))\n\u001b[0m\u001b[1;32m    832\u001b[0m \u001b[0;34m\u001b[0m\u001b[0m\n\u001b[1;32m    833\u001b[0m     \u001b[0;32mdef\u001b[0m \u001b[0m__iter__\u001b[0m\u001b[0;34m(\u001b[0m\u001b[0mself\u001b[0m\u001b[0;34m)\u001b[0m\u001b[0;34m:\u001b[0m\u001b[0;34m\u001b[0m\u001b[0m\n",
      "\u001b[0;31mTypeError\u001b[0m: 'Series' objects are mutable, thus they cannot be hashed"
     ]
    }
   ],
   "source": [
    "rows=df[df['title']in titles]\n",
    "rows"
   ]
  },
  {
   "cell_type": "code",
   "execution_count": 564,
   "metadata": {
    "collapsed": false
   },
   "outputs": [
    {
     "data": {
      "text/plain": [
       "<bound method DataFrame.reset_index of Empty DataFrame\n",
       "Columns: [can_rate, num_votes, rating, tconst, title, type, year]\n",
       "Index: []>"
      ]
     },
     "execution_count": 564,
     "metadata": {},
     "output_type": "execute_result"
    }
   ],
   "source": [
    "rows"
   ]
  },
  {
   "cell_type": "code",
   "execution_count": 544,
   "metadata": {
    "collapsed": false,
    "scrolled": true
   },
   "outputs": [],
   "source": [
    "movie_information=pd.DataFrame(movie_dict).T\n",
    "movie_information=movie_information.reset_index()\n",
    "movie_information=movie_information.rename(columns={'index':'title'})\n",
    "movie_information=movie_information[pd.notnull(movie_information['Budget'])]\n",
    "#movie_information.head(2)"
   ]
  },
  {
   "cell_type": "code",
   "execution_count": 545,
   "metadata": {
    "collapsed": true
   },
   "outputs": [],
   "source": [
    "merged_dfs=pd.merge(df,movie_information,on='title')"
   ]
  },
  {
   "cell_type": "code",
   "execution_count": 546,
   "metadata": {
    "collapsed": false
   },
   "outputs": [],
   "source": [
    "#merged_dfs.head(1)"
   ]
  },
  {
   "cell_type": "code",
   "execution_count": 547,
   "metadata": {
    "collapsed": false
   },
   "outputs": [],
   "source": [
    "merged_dfs['Budget']=merged_dfs['Budget'].apply(lambda x: x.replace(\"$\",\"\"))\n",
    "merged_dfs['Running time']=merged_dfs['Running time'].apply(lambda x: x.split(\" \")[0])\n",
    "merged_dfs['Budget']=merged_dfs['Budget'].apply(lambda x: x.replace(\"[1]\",\"\").replace(\"[2]\",\"\").replace(\"[3]\",\"\")\\\n",
    "    .replace(\"[4]\",\"\").replace(\"[5]\",\"\").replace(\"[6]\",\"\").replace(\"[7]\",\"\").replace(\"[8]\",\"\").replace(\"[9]\",\"\"))\n",
    "merged_dfs['Budget']=merged_dfs['Budget'].apply(lambda x: x.encode('ascii','ignore'))\n",
    "merged_dfs['Budget']=merged_dfs['Budget'].apply(lambda x: x.replace(\"million\",\"\"))\n",
    "merged_dfs['Budget']=merged_dfs['Budget'].apply(lambda x: x.replace(\"&#160;\",\"\"))\n",
    "merged_dfs['Budget']=merged_dfs['Budget'].apply(lambda x: x[:2]if x==4 else x )\n",
    "merged_dfs['Running time']=merged_dfs['Running time'].apply(lambda x: x.split(\" \")[0])\n",
    "#merged_dfs['Budget']=merged_dfs['Budget'].apply(lambda x: '0.'+x[:3]if \",\" in x else x)"
   ]
  },
  {
   "cell_type": "code",
   "execution_count": 549,
   "metadata": {
    "collapsed": false
   },
   "outputs": [],
   "source": [
    "#merged_dfs[merged_dfs['title']=='Aliens']"
   ]
  },
  {
   "cell_type": "code",
   "execution_count": 548,
   "metadata": {
    "collapsed": false
   },
   "outputs": [
    {
     "data": {
      "text/plain": [
       "array(['25 ', '67 ', '185 ', '22 ', '88.5 ', '94', '63 ', '93', '55',\n",
       "       '160 ', '94 ', '3 ', '63', '33 ', '19 ', '6 ', '165 ', '878,000',\n",
       "       '60 ', '1.5 ', '102 ', '90 ', '9 ', '40 ', '45 ', '911 ', '1.75 ',\n",
       "       '100 ', '230 ', '1718 ', '32 DM, (12 )', '4,326,000', '2.5 ', '72 ',\n",
       "       '10 ', '4.5 ', '2.2 ', '1.3 ', '980,000', '15 ', '2 ', '20 ', '18 ',\n",
       "       '30 ', '5.5 ', '10.512 ', '35 ', '5,100,000Reichsmarks(estimated)',\n",
       "       '1.4 ', '14.4 ', '28 ', '3.8 ', '11 ', '923,000', '4050 ', '5 ',\n",
       "       '58 ', '54 ', '6.5 ', '3.85 ', '7 ', '165', '61 ', '17.5 ', '80 ',\n",
       "       '8 ', '13 ', '4 ', '23 ', '16 ', '150 ', '800,000', '110 ', '1.1 ',\n",
       "       '2.8 ', '6.4 ', '14.6 ', '29.5 ', '1.2 ', '14 ', '108 ',\n",
       "       '232.3  (gross)', '1.8 '], dtype=object)"
      ]
     },
     "execution_count": 548,
     "metadata": {},
     "output_type": "execute_result"
    }
   ],
   "source": [
    "merged_dfs['Budget'].unique()"
   ]
  },
  {
   "cell_type": "code",
   "execution_count": 534,
   "metadata": {
    "collapsed": false
   },
   "outputs": [
    {
     "data": {
      "text/html": [
       "<div>\n",
       "<table border=\"1\" class=\"dataframe\">\n",
       "  <thead>\n",
       "    <tr style=\"text-align: right;\">\n",
       "      <th></th>\n",
       "      <th>can_rate</th>\n",
       "      <th>num_votes</th>\n",
       "      <th>rating</th>\n",
       "      <th>tconst</th>\n",
       "      <th>title</th>\n",
       "      <th>type</th>\n",
       "      <th>year</th>\n",
       "      <th>Based on</th>\n",
       "      <th>Budget</th>\n",
       "      <th>Cantonese</th>\n",
       "      <th>...</th>\n",
       "      <th>Productioncompany</th>\n",
       "      <th>Release dates</th>\n",
       "      <th>Revised Romanization</th>\n",
       "      <th>Running time</th>\n",
       "      <th>Screenplay by</th>\n",
       "      <th>Starring</th>\n",
       "      <th>Story by</th>\n",
       "      <th>Traditional</th>\n",
       "      <th>URL</th>\n",
       "      <th>Written by</th>\n",
       "    </tr>\n",
       "  </thead>\n",
       "  <tbody>\n",
       "    <tr>\n",
       "      <th>33</th>\n",
       "      <td>True</td>\n",
       "      <td>170810</td>\n",
       "      <td>8.4</td>\n",
       "      <td>tt0082096</td>\n",
       "      <td>Das Boot</td>\n",
       "      <td>feature</td>\n",
       "      <td>1981</td>\n",
       "      <td>Das BootbyLothar-Günther Buchheim</td>\n",
       "      <td>32 DM, (12 )</td>\n",
       "      <td>NaN</td>\n",
       "      <td>...</td>\n",
       "      <td>NaN</td>\n",
       "      <td>17&amp;#160;September&amp;#160;1981&amp;#160;(1981-09-17),...</td>\n",
       "      <td>NaN</td>\n",
       "      <td>149</td>\n",
       "      <td>Wolfgang Petersen</td>\n",
       "      <td>Jürgen Prochnow, Herbert Grönemeyer</td>\n",
       "      <td>NaN</td>\n",
       "      <td>NaN</td>\n",
       "      <td>https://en.wikipedia.org/wiki/Das_Boot_(film)</td>\n",
       "      <td>NaN</td>\n",
       "    </tr>\n",
       "  </tbody>\n",
       "</table>\n",
       "<p>1 rows × 35 columns</p>\n",
       "</div>"
      ],
      "text/plain": [
       "   can_rate  num_votes  rating     tconst     title     type  year  \\\n",
       "33     True     170810     8.4  tt0082096  Das Boot  feature  1981   \n",
       "\n",
       "                             Based on        Budget Cantonese    ...      \\\n",
       "33  Das BootbyLothar-Günther Buchheim  32 DM, (12 )       NaN    ...       \n",
       "\n",
       "   Productioncompany                                      Release dates  \\\n",
       "33               NaN  17&#160;September&#160;1981&#160;(1981-09-17),...   \n",
       "\n",
       "   Revised Romanization Running time      Screenplay by  \\\n",
       "33                  NaN          149  Wolfgang Petersen   \n",
       "\n",
       "                               Starring Story by Traditional  \\\n",
       "33  Jürgen Prochnow, Herbert Grönemeyer      NaN         NaN   \n",
       "\n",
       "                                              URL Written by  \n",
       "33  https://en.wikipedia.org/wiki/Das_Boot_(film)        NaN  \n",
       "\n",
       "[1 rows x 35 columns]"
      ]
     },
     "execution_count": 534,
     "metadata": {},
     "output_type": "execute_result"
    }
   ],
   "source": [
    "merged_dfs[merged_dfs['Budget']=='32 DM, (12 )']"
   ]
  },
  {
   "cell_type": "code",
   "execution_count": 530,
   "metadata": {
    "collapsed": false
   },
   "outputs": [
    {
     "data": {
      "text/plain": [
       "'2'"
      ]
     },
     "execution_count": 530,
     "metadata": {},
     "output_type": "execute_result"
    }
   ],
   "source": [
    "'2 DM, ($12 )'.split()[0]"
   ]
  },
  {
   "cell_type": "code",
   "execution_count": null,
   "metadata": {
    "collapsed": true
   },
   "outputs": [],
   "source": []
  },
  {
   "cell_type": "code",
   "execution_count": null,
   "metadata": {
    "collapsed": true
   },
   "outputs": [],
   "source": []
  },
  {
   "cell_type": "code",
   "execution_count": null,
   "metadata": {
    "collapsed": true
   },
   "outputs": [],
   "source": []
  },
  {
   "cell_type": "code",
   "execution_count": null,
   "metadata": {
    "collapsed": true
   },
   "outputs": [],
   "source": []
  },
  {
   "cell_type": "code",
   "execution_count": null,
   "metadata": {
    "collapsed": true
   },
   "outputs": [],
   "source": []
  }
 ],
 "metadata": {
  "anaconda-cloud": {},
  "kernelspec": {
   "display_name": "Python [default]",
   "language": "python",
   "name": "python2"
  },
  "language_info": {
   "codemirror_mode": {
    "name": "ipython",
    "version": 2
   },
   "file_extension": ".py",
   "mimetype": "text/x-python",
   "name": "python",
   "nbconvert_exporter": "python",
   "pygments_lexer": "ipython2",
   "version": "2.7.12"
  }
 },
 "nbformat": 4,
 "nbformat_minor": 1
}
