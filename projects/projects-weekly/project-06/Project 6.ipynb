{
 "cells": [
  {
   "cell_type": "code",
   "execution_count": 619,
   "metadata": {
    "collapsed": false
   },
   "outputs": [],
   "source": [
    "from imdbpie import Imdb\n",
    "import numpy as np\n",
    "import pandas as pd\n",
    "import matplotlib.pyplot as plt\n",
    "import seaborn as sns\n",
    "from sklearn.neighbors import KNeighborsClassifier as KNeighborsClassifier\n",
    "from sklearn.metrics import confusion_matrix, accuracy_score\n",
    "from sklearn.cross_validation import train_test_split, cross_val_score\n",
    "from sklearn.metrics import roc_auc_score, roc_curve, auc\n",
    "from sklearn.neighbors import KNeighborsClassifier\n",
    "from sklearn.grid_search import GridSearchCV\n",
    "from sklearn.cross_validation import train_test_split\n",
    "from sklearn.cross_validation import cross_val_score\n",
    "from sklearn.tree import DecisionTreeClassifier\n",
    "from sklearn.ensemble import BaggingClassifier,ExtraTreesClassifier,GradientBoostingClassifier,RandomForestClassifier\n",
    "from sklearn.linear_model import LogisticRegressionCV, LinearRegression\n",
    "from BeautifulSoup import BeautifulSoup\n",
    "import requests\n",
    "import time\n",
    "% matplotlib inline\n",
    "\n",
    "imdb = Imdb()"
   ]
  },
  {
   "cell_type": "code",
   "execution_count": 6,
   "metadata": {
    "collapsed": false
   },
   "outputs": [],
   "source": [
    "data=imdb.top_250()\n",
    "df=pd.DataFrame(data)\n",
    "del df['image']"
   ]
  },
  {
   "cell_type": "code",
   "execution_count": 4,
   "metadata": {
    "collapsed": false,
    "scrolled": false
   },
   "outputs": [
    {
     "data": {
      "text/html": [
       "<div>\n",
       "<table border=\"1\" class=\"dataframe\">\n",
       "  <thead>\n",
       "    <tr style=\"text-align: right;\">\n",
       "      <th></th>\n",
       "      <th>can_rate</th>\n",
       "      <th>num_votes</th>\n",
       "      <th>rating</th>\n",
       "      <th>tconst</th>\n",
       "      <th>title</th>\n",
       "      <th>type</th>\n",
       "      <th>year</th>\n",
       "    </tr>\n",
       "  </thead>\n",
       "  <tbody>\n",
       "    <tr>\n",
       "      <th>191</th>\n",
       "      <td>True</td>\n",
       "      <td>164573</td>\n",
       "      <td>8.1</td>\n",
       "      <td>tt0052618</td>\n",
       "      <td>Ben-Hur</td>\n",
       "      <td>feature</td>\n",
       "      <td>1959</td>\n",
       "    </tr>\n",
       "  </tbody>\n",
       "</table>\n",
       "</div>"
      ],
      "text/plain": [
       "    can_rate  num_votes  rating     tconst    title     type  year\n",
       "191     True     164573     8.1  tt0052618  Ben-Hur  feature  1959"
      ]
     },
     "execution_count": 4,
     "metadata": {},
     "output_type": "execute_result"
    }
   ],
   "source": [
    "df[df['title']==\"Ben-Hur\"]"
   ]
  },
  {
   "cell_type": "code",
   "execution_count": 5,
   "metadata": {
    "collapsed": false
   },
   "outputs": [
    {
     "data": {
      "image/png": "[encoded data removed]",
      "text/plain": [
       "<matplotlib.figure.Figure at 0x1069b8210>"
      ]
     },
     "metadata": {},
     "output_type": "display_data"
    },
    {
     "data": {
      "image/png": "[encoded data removed]",
      "text/plain": [
       "<matplotlib.figure.Figure at 0x11c9ddad0>"
      ]
     },
     "metadata": {},
     "output_type": "display_data"
    },
    {
     "data": {
      "image/png": "[encoded data removed]",
      "text/plain": [
       "<matplotlib.figure.Figure at 0x11cfa7a50>"
      ]
     },
     "metadata": {},
     "output_type": "display_data"
    }
   ],
   "source": [
    "plt.hist(df[\"rating\"])\n",
    "plt.show()\n",
    "plt.bar(df.groupby('year')['rating'].count().to_frame().reset_index()['year'],\n",
    "              df.groupby('year')['rating'].count().to_frame().reset_index()['rating'])\n",
    "plt.show()\n",
    "plt.hist(df['num_votes'])\n",
    "plt.show()"
   ]
  },
  {
   "cell_type": "code",
   "execution_count": 6,
   "metadata": {
    "collapsed": false
   },
   "outputs": [
    {
     "data": {
      "text/plain": [
       "dtype('int64')"
      ]
     },
     "execution_count": 6,
     "metadata": {},
     "output_type": "execute_result"
    }
   ],
   "source": [
    "df['year'].astype(int).dtype"
   ]
  },
  {
   "cell_type": "code",
   "execution_count": 7,
   "metadata": {
    "collapsed": false
   },
   "outputs": [
    {
     "data": {
      "text/plain": [
       "{'URL': 'https://en.wikipedia.org/wiki/12_Years_a_Slave_(1990 film)'}"
      ]
     },
     "execution_count": 7,
     "metadata": {},
     "output_type": "execute_result"
    }
   ],
   "source": [
    "get_movie_info('12 Years a Slave')"
   ]
  },
  {
   "cell_type": "code",
   "execution_count": 8,
   "metadata": {
    "collapsed": false
   },
   "outputs": [],
   "source": [
    "def get_movie_info(movie_name):\n",
    "    base_url='https://en.wikipedia.org/wiki/'\n",
    "    movie_name_url=base_url+movie_name.replace(\" \",\"_\")+\"_(film)\"\n",
    "    html=requests.get(movie_name_url)\n",
    "    soup=BeautifulSoup(html.text)\n",
    "    i=len(soup.findAll('td',{'style':'line-height:1.3em;'}))-1\n",
    "    information={\"URL\":movie_name_url}\n",
    "    for count in range(i+1):\n",
    "        information[soup.findAll('th', {'scope':\"row\"})[count].text]=\\\n",
    "                            soup.findAll('td',{'style':'line-height:1.3em;'})[count].text\n",
    "    for count in range(i):\n",
    "        temp=\"\"\n",
    "        length=len(soup.findAll('td',{'style':'line-height:1.3em;'})[count]('li'))-1\n",
    "        if length<1:\n",
    "            temp=soup.findAll('td',{'style':'line-height:1.3em;'})[i].text\n",
    "        else:\n",
    "            for x in range(length):\n",
    "                if x==0:\n",
    "                    temp+=soup.findAll('td',{'style':'line-height:1.3em;'})[count]('li')[x].text\n",
    "                else:\n",
    "                    temp+=\", \"+soup.findAll('td',{'style':'line-height:1.3em;'})[count]('li')[x].text\n",
    "            information[soup.findAll('th', {'scope':\"row\"})[count].text]=temp\n",
    "    return information\n",
    "def get_movie_info_with_year(movie_name,year):\n",
    "    base_url='https://en.wikipedia.org/wiki/'\n",
    "    movie_name_url=base_url+movie_name.replace(\" \",\"_\")+\"_(\"+year+\" film)\"\n",
    "    html=requests.get(movie_name_url)\n",
    "    soup=BeautifulSoup(html.text)\n",
    "    i=len(soup.findAll('td',{'style':'line-height:1.3em;'}))-1\n",
    "    information={\"URL\":movie_name_url}\n",
    "    for count in range(i+1):\n",
    "        information[soup.findAll('th', {'scope':\"row\"})[count].text]=\\\n",
    "                            soup.findAll('td',{'style':'line-height:1.3em;'})[count].text\n",
    "    for count in range(i):\n",
    "        temp=\"\"\n",
    "        length=len(soup.findAll('td',{'style':'line-height:1.3em;'})[count]('li'))-1\n",
    "        if length<1:\n",
    "            temp=soup.findAll('td',{'style':'line-height:1.3em;'})[i].text\n",
    "        else:\n",
    "            for x in range(length):\n",
    "                if x==0:\n",
    "                    temp+=soup.findAll('td',{'style':'line-height:1.3em;'})[count]('li')[x].text\n",
    "                else:\n",
    "                    temp+=\", \"+soup.findAll('td',{'style':'line-height:1.3em;'})[count]('li')[x].text\n",
    "            information[soup.findAll('th', {'scope':\"row\"})[count].text]=temp\n",
    "    return information\n",
    "\n",
    "def get_movie_info_no_film(movie_name):\n",
    "    base_url='https://en.wikipedia.org/wiki/'\n",
    "    movie_name_url=base_url+movie_name.replace(\" \",\"_\")\n",
    "    html=requests.get(movie_name_url)\n",
    "    soup=BeautifulSoup(html.text)\n",
    "    i=len(soup.findAll('td',{'style':'line-height:1.3em;'}))-1\n",
    "    information={\"URL\":movie_name_url}\n",
    "    for count in range(i+1):\n",
    "        information[soup.findAll('th', {'scope':\"row\"})[count].text]=\\\n",
    "                            soup.findAll('td',{'style':'line-height:1.3em;'})[count].text\n",
    "    for count in range(i):\n",
    "        temp=\"\"\n",
    "        length=len(soup.findAll('td',{'style':'line-height:1.3em;'})[count]('li'))-1\n",
    "        if length<1:\n",
    "            temp=soup.findAll('td',{'style':'line-height:1.3em;'})[i].text\n",
    "        else:\n",
    "            for x in range(length):\n",
    "                if x==0:\n",
    "                    temp+=soup.findAll('td',{'style':'line-height:1.3em;'})[count]('li')[x].text\n",
    "                else:\n",
    "                    temp+=\", \"+soup.findAll('td',{'style':'line-height:1.3em;'})[count]('li')[x].text\n",
    "            information[soup.findAll('th', {'scope':\"row\"})[count].text]=temp\n",
    "    return information"
   ]
  },
  {
   "cell_type": "code",
   "execution_count": 9,
   "metadata": {
    "collapsed": true
   },
   "outputs": [],
   "source": [
    "#####\n",
    "##### ONLY RUN IF YOU NEED TO GET ALL OF THE MOVIE INFORMATION\n",
    "#####\n",
    "\n",
    "\n",
    "movie_dict={}\n",
    "for number in range(len(df)):\n",
    "    movie=df.loc[number,'title']\n",
    "    movie_dict[movie]=get_movie_info(movie)\n",
    "\n",
    "\n",
    "#####\n",
    "#####\n",
    "#####"
   ]
  },
  {
   "cell_type": "code",
   "execution_count": 17,
   "metadata": {
    "collapsed": false
   },
   "outputs": [],
   "source": [
    "movie_information=pd.DataFrame(movie_dict).T"
   ]
  },
  {
   "cell_type": "code",
   "execution_count": 18,
   "metadata": {
    "collapsed": false
   },
   "outputs": [],
   "source": [
    "movie_information=movie_information.reset_index()\n",
    "movie_information=movie_information.rename(columns={'index':'title'})\n",
    "titles=movie_information[pd.isnull(movie_information['Budget'])]['title']\n",
    "\n",
    "movie_dict2={}\n",
    "rows=df.iloc[[0,1]].copy()\n",
    "rows=rows.drop(df.index[[0,1]])\n",
    "for name in titles:\n",
    "    rows=pd.concat([rows,df[df['title']==name]])\n",
    "for number in range(len(rows)):\n",
    "    movie=df.loc[number,'title']\n",
    "    year=df.loc[number,'year']\n",
    "    movie_dict2[movie]=get_movie_info_with_year(movie,year)\n",
    "movie_information=pd.concat([movie_information,pd.DataFrame(movie_dict2).T.reset_index().rename(\n",
    "                            columns={'index':'title'})])\n",
    "movie_information=movie_information.reset_index()\n",
    "del movie_information['index']\n",
    "titles=movie_information[pd.isnull(movie_information['Budget'])]['title']"
   ]
  },
  {
   "cell_type": "code",
   "execution_count": 19,
   "metadata": {
    "collapsed": true
   },
   "outputs": [],
   "source": [
    "movie_dict3={}\n",
    "rows=df.iloc[[0,1]].copy()\n",
    "rows=rows.drop(df.index[[0,1]])\n",
    "for name in titles:\n",
    "    rows=pd.concat([rows,df[df['title']==name]])\n",
    "for number in range(len(rows)):\n",
    "    movie=df.loc[number,'title']\n",
    "    movie_dict3[movie]=get_movie_info_no_film(movie)\n",
    "movie_information=pd.concat([movie_information,pd.DataFrame(movie_dict3).T.reset_index().rename(\n",
    "                            columns={'index':'title'})])\n",
    "movie_information=movie_information.reset_index()\n",
    "movie_information['index']=movie_information['title'].copy()\n",
    "del movie_information['title']\n",
    "movie_information=movie_information.rename(columns={'index':'title'})"
   ]
  },
  {
   "cell_type": "code",
   "execution_count": 20,
   "metadata": {
    "collapsed": false
   },
   "outputs": [],
   "source": [
    "copy=movie_information.copy()"
   ]
  },
  {
   "cell_type": "code",
   "execution_count": 163,
   "metadata": {
    "collapsed": true
   },
   "outputs": [],
   "source": [
    "movie_information=copy.copy()"
   ]
  },
  {
   "cell_type": "code",
   "execution_count": 818,
   "metadata": {
    "collapsed": false,
    "scrolled": true
   },
   "outputs": [],
   "source": [
    "def billion_conversion(dummy):\n",
    "    return_value=0\n",
    "    if 'billion' in str(dummy):\n",
    "        return_value=dummy[:5]\n",
    "        return float(return_value)*1000\n",
    "    else:\n",
    "        return dummy\n",
    "\n",
    "def comma_period_conjoined(dummy):\n",
    "    if len(dummy)>10:\n",
    "        value=dummy.split(\" \")[0]\n",
    "        comma_count=value.count(\",\")\n",
    "        period_count=value.count(\".\")\n",
    "        loop_value=\"\"\n",
    "        first=0\n",
    "        if comma_count>0:\n",
    "            first=len(value.split(\",\")[0])\n",
    "            for i in range(len(value.split(\",\"))/2+1):\n",
    "                loop_value+=value.split(\",\")[i]\n",
    "        if period_count>0:\n",
    "            first=len(value.split(\".\")[0])\n",
    "            for i in range(len(value.split(\".\"))/2+1):\n",
    "                loop_value+=value.split(\".\")[i]\n",
    "        loop_value=loop_value[:-first]\n",
    "        return loop_value\n",
    "    else:\n",
    "        return dummy\n",
    "    \n",
    "def remove_remaining_nonsense(value):\n",
    "    keep='0123456789.,'\n",
    "    return_string=\"\"\n",
    "    i=0\n",
    "    while i < len(value):\n",
    "        if value[i] in keep:\n",
    "            return_string+=value[i]\n",
    "            i+=1\n",
    "        else:\n",
    "            i=len(value)\n",
    "    return return_string\n",
    "\n",
    "def remove_spacing_brackets(value):\n",
    "    new=value\n",
    "    i=0\n",
    "    while i<len(new):\n",
    "        if new[i]==\" \":\n",
    "            new=new[i+1:]\n",
    "            i+=1\n",
    "        else:\n",
    "            i=len(new)\n",
    "    #new=new.split(\" \")[0]\n",
    "    new=new.split(\"(\")[0]\n",
    "    new=new.split(\"[\")[0]\n",
    "    return new\n",
    "\n",
    "def thou_to_mil(value):\n",
    "    if \",\" in value:\n",
    "        return float(value.replace(\",\",\"\"))/1000000\n",
    "    else:\n",
    "        return value"
   ]
  },
  {
   "cell_type": "code",
   "execution_count": 658,
   "metadata": {
    "collapsed": false,
    "scrolled": true
   },
   "outputs": [],
   "source": [
    "merged_dfs=pd.merge(df,movie_information,on='title')\n",
    "merged_dfs=merged_dfs.sort_values('Budget')\n",
    "merged_dfs=merged_dfs.drop_duplicates(['title'])\n",
    "merged_dfs=merged_dfs.reset_index()\n",
    "del merged_dfs['index']\n",
    "box_office={'Seven Samurai':'2.6','Princess Mononoke':'159.4',\"Spirited Away\":'289.1',\"Grave of the Fireflies\":'5.0',\n",
    "           \"The Intouchables\":'426.6','3 Idiots':'58',\"Children of Heaven\":'1.6','Cinema Paradiso':'12',\n",
    "           'The Lord of the Rings: The Return of the King':'1119','Alien':'104.9','Trainspotting':'2.25',\n",
    "           'Star Wars: Episode V - The Empire Strikes Back':'535','The Dark Knight':'1005','Incendies':'16',\n",
    "           'The Dark Knight Rises':'1085','It Happened One Night':'2.5','Touch of Evil':'2.24',\n",
    "           'Gone with the Wind':'390','Metropolis':'7'}\n",
    "budget    ={'Seven Samurai':'1.2','Princess Mononoke': '20.1',\"Spirited Away\":'18.12',\"Grave of the Fireflies\":'3.7',\n",
    "           \"The Intouchables\":'10.8','3 Idiots':'8.2',\"Children of Heaven\":'180,000','Cinema Paradiso':'5',\n",
    "           'Downfall':'20','The Grand Budapest Hotel':'31','Lock, Stock and Two Smoking Barrels':'1.35',\n",
    "            'Trainspotting':'2.2'}\n",
    "lang_change=[u'English', u'ItalianEnglish', u'EnglishRussianVietnameseFrench', u'EnglishGermanFrench', \n",
    "             u'ItalianGermanEnglish', u'English, Polish, German, Russian, French', u'English, German',\n",
    "    u'EnglishGerman', u'DanishEnglish',u'EnglishYiddish', u'Italian',u'ItalianEnglishPortugueseSicilian']\n",
    "for name in box_office.keys():\n",
    "    i=0\n",
    "    while i<len(merged_dfs):\n",
    "        if merged_dfs.loc[i,'title']==name:\n",
    "            merged_dfs.set_value(i,'Box office',box_office[name])\n",
    "        i+=1\n",
    "for name in budget.keys():\n",
    "    i=0\n",
    "    while i<len(merged_dfs):\n",
    "        if merged_dfs.loc[i,'title']==name:\n",
    "            merged_dfs.set_value(i,'Budget',budget[name])\n",
    "        i+=1\n",
    "\n",
    "        \n",
    "        \n",
    "merged_dfs=merged_dfs[pd.notnull(merged_dfs['Budget'])]\n",
    "merged_dfs=merged_dfs[pd.notnull(merged_dfs['Box office'])]\n",
    "merged_dfs=merged_dfs[pd.notnull(merged_dfs['Running time'])]\n",
    "merged_dfs=merged_dfs[pd.notnull(merged_dfs['Country'])]\n",
    "merged_dfs['Country']=merged_dfs['Country'].apply(lambda x: x.replace(\"[1]\",\"\").replace(\"[2]\",\"\").replace(\"[3]\",\"\")\\\n",
    "    .replace(\"[4]\",\"\").replace(\"[5]\",\"\").replace(\"[6]\",\"\").replace(\"[7]\",\"\").replace(\"[8]\",\"\").replace(\"[9]\",\"\"))\n",
    "merged_dfs['Running time']=merged_dfs['Running time'].apply(lambda x: x.split(\" \")[0])\n",
    "merged_dfs['Budget']=merged_dfs['Budget'].apply(lambda x: x.replace(\"$\",\"\"))\n",
    "merged_dfs['Budget']=merged_dfs['Budget'].apply(lambda x: x.replace(\"[1]\",\"\").replace(\"[2]\",\"\").replace(\"[3]\",\"\")\\\n",
    "    .replace(\"[4]\",\"\").replace(\"[5]\",\"\").replace(\"[6]\",\"\").replace(\"[7]\",\"\").replace(\"[8]\",\"\").replace(\"[9]\",\"\"))\n",
    "merged_dfs['Budget']=merged_dfs['Budget'].apply(lambda x: x.split(\"million\")[0])\n",
    "merged_dfs['Budget']=merged_dfs['Budget'].apply(lambda x: x.replace(\"&#160;\",\"\"))\n",
    "merged_dfs['Budget']=merged_dfs['Budget'].apply(lambda x: remove_spacing_brackets(x))\n",
    "merged_dfs['Budget']=merged_dfs['Budget'].apply(lambda x: remove_remaining_nonsense(x)) \n",
    "merged_dfs['Budget']=merged_dfs['Budget'].apply(lambda x: thou_to_mil(x)) \n",
    "\n",
    "\n",
    "merged_dfs['Box office']=merged_dfs['Box office'].apply(lambda x: x.replace(\"$\",\"\"))\n",
    "merged_dfs['Box office']=merged_dfs['Box office'].apply(lambda x: x.replace(\"[1]\",\"\").replace(\"[2]\",\"\").\\\n",
    "                                                        replace(\"[3]\",\"\")\\\n",
    "    .replace(\"[4]\",\"\").replace(\"[5]\",\"\").replace(\"[6]\",\"\").replace(\"[7]\",\"\").replace(\"[8]\",\"\").replace(\"[9]\",\"\"))\n",
    "merged_dfs['Box office']=merged_dfs['Box office'].apply(lambda x: x.split(\"million\")[0])\n",
    "merged_dfs['Box office']=merged_dfs['Box office'].apply(lambda x: x.replace(\"&#160;\",\"\"))\n",
    "merged_dfs['Box office']=merged_dfs['Box office'].apply(lambda x: x[:2]if x==4 else x )\n",
    "merged_dfs['Box office']=merged_dfs['Box office'].apply(lambda x: remove_spacing_brackets(x))\n",
    "#merged_dfs['Box office']=merged_dfs['Box office'].apply(lambda x: x.split(\".\")[0])\n",
    "#merged_dfs['Box office']=merged_dfs['Box office'].apply(lambda x: x.split(\",\")[0] if len(x.split(\",\")[0])==1 else x )\n",
    "merged_dfs['Box office']=merged_dfs['Box office'].apply(lambda x: comma_period_conjoined(x))\n",
    "merged_dfs['Box office']=merged_dfs['Box office'].apply(lambda x: remove_remaining_nonsense(x))\n",
    "merged_dfs['Box office']=merged_dfs['Box office'].apply(lambda x: billion_conversion(x))\n",
    "merged_dfs['Box office']=merged_dfs['Box office'].apply(lambda x: thou_to_mil(x))\n",
    "\n",
    "merged_dfs['Running time']=merged_dfs['Running time'].apply(lambda x: x.split(\" \")[0])\n",
    "merged_dfs=merged_dfs.drop_duplicates(['title'])\n",
    "merged_dfs=merged_dfs.drop_duplicates(['title'])\n",
    "merged_dfs=merged_dfs.reset_index()\n",
    "merged_dfs['index']=merged_dfs['title'].copy()\n",
    "del merged_dfs['title']\n",
    "merged_dfs['Production Company']=[x if pd.isnull(y) else y for x,y in \n",
    "                    zip(merged_dfs['Productioncompany'].copy(),merged_dfs['Productioncompanies'].copy())]\n",
    "del merged_dfs['Productioncompanies']\n",
    "del merged_dfs['Productioncompany']\n",
    "merged_dfs['Edit Guy']=[x if pd.isnull(y) else y for x,y in \n",
    "                    zip(merged_dfs['Edited by'].copy(),merged_dfs['Editor'].copy())]\n",
    "del merged_dfs['Edited by']\n",
    "del merged_dfs['Editor']\n",
    "merged_dfs=merged_dfs.rename(columns={'index':'title'})\n",
    "del merged_dfs['type']\n",
    "del merged_dfs['Cantonese']\n",
    "del merged_dfs['can_rate']\n",
    "del merged_dfs['Colourist']\n",
    "del merged_dfs['Revised Romanization']\n",
    "del merged_dfs['Simplified']\n",
    "del merged_dfs['Traditional']\n",
    "del merged_dfs['Artists']\n",
    "del merged_dfs['Date&#160;of publication']\n",
    "del merged_dfs['Publisher']\n",
    "del merged_dfs['Hepburn']\n",
    "del merged_dfs['Distributed by']\n",
    "del merged_dfs['Hangul']\n",
    "del merged_dfs['Hanja']\n",
    "del merged_dfs['Issues']\n",
    "del merged_dfs['Japanese']\n",
    "del merged_dfs['Letterer']\n",
    "\n",
    "i=0\n",
    "while i<len(merged_dfs):\n",
    "    if merged_dfs.loc[i,'Language'] in lang_change:\n",
    "        merged_dfs.set_value(i,'Language','English')\n",
    "        i+=1\n",
    "    else:\n",
    "        i+=1\n",
    "merged_dfs['Budget']=merged_dfs['Budget'].astype(float)\n",
    "merged_dfs['Box office']=merged_dfs['Box office'].astype(float)\n",
    "\n",
    "#---------------------------------------------------------------\n",
    "\n",
    "merged_dfs_copy=merged_dfs.copy()"
   ]
  },
  {
   "cell_type": "code",
   "execution_count": 376,
   "metadata": {
    "collapsed": false,
    "scrolled": true
   },
   "outputs": [
    {
     "data": {
      "image/png": "[encoded data removed]",
      "text/plain": [
       "<matplotlib.figure.Figure at 0x11d2e4e10>"
      ]
     },
     "metadata": {},
     "output_type": "display_data"
    },
    {
     "data": {
      "image/png": "[encoded data removed]",
      "text/plain": [
       "<matplotlib.figure.Figure at 0x11b610ed0>"
      ]
     },
     "metadata": {},
     "output_type": "display_data"
    },
    {
     "data": {
      "image/png": "[encoded data removed]",
      "text/plain": [
       "<matplotlib.figure.Figure at 0x11d2e3990>"
      ]
     },
     "metadata": {},
     "output_type": "display_data"
    },
    {
     "data": {
      "image/png": "[encoded data removed]",
      "text/plain": [
       "<matplotlib.figure.Figure at 0x12381edd0>"
      ]
     },
     "metadata": {},
     "output_type": "display_data"
    }
   ],
   "source": [
    "plt.scatter(merged_dfs['Budget'],merged_dfs['Box office'])\n",
    "plt.ylim(-200,1400)\n",
    "plt.xlim(-200,1400)\n",
    "plt.ylabel(\"Box Office\")\n",
    "plt.xlabel(\"Budget\")\n",
    "plt.show()\n",
    "plt.hist(np.log(merged_dfs['Box office']/merged_dfs['Budget']),bins=40)\n",
    "plt.title(\"Log Normalized (Box Office/Budget)\")\n",
    "plt.show()\n",
    "sns.barplot(x=merged_dfs[\"Language\"].value_counts().index,y=merged_dfs[\"Language\"].value_counts().values)\n",
    "plt.xticks(rotation=90)\n",
    "plt.show()\n",
    "sns.barplot(x=merged_dfs[\"Country\"].value_counts().index,y=merged_dfs[\"Country\"].value_counts().values)\n",
    "plt.xticks(rotation=90);\n",
    "plt.show()"
   ]
  },
  {
   "cell_type": "code",
   "execution_count": 841,
   "metadata": {
    "collapsed": true
   },
   "outputs": [],
   "source": [
    "def super_actor(starring_list):\n",
    "    actors=starring_list.split(\",\")\n",
    "    return_value=\"No\"\n",
    "    for actor in actors:\n",
    "        if actor in super_list:\n",
    "            return_value=\"Yes\"\n",
    "    return return_value\n",
    "\n",
    "def super_single(l):\n",
    "    return_value=\"No\"\n",
    "    if l in super_list:\n",
    "        return_value=\"Yes\"\n",
    "    return return_value\n",
    "\n",
    "def mega_actor(starring_list):\n",
    "    actors=starring_list.split(\",\")\n",
    "    return_value=\"No\"\n",
    "    for actor in actors:\n",
    "        if actor in mega_list:\n",
    "            return_value=\"Yes\"\n",
    "    return return_value\n",
    "\n",
    "def mega_single(l):\n",
    "    return_value=\"No\"\n",
    "    if l in mega_list:\n",
    "        return_value=\"Yes\"\n",
    "    return return_value\n",
    "\n",
    "def ultra_check(ultra_name,lookup_num):\n",
    "    return_value=False\n",
    "    if ultra_name in merged_dfs.loc[lookup_num,\"Starring\"]:\n",
    "        return_value=True\n",
    "    elif ultra_name in merged_dfs['Production Company']:\n",
    "        if ultra_name in merged_dfs.loc[lookup_num,\"Production Company\"]:\n",
    "            return_value=True\n",
    "    elif ultra_name in merged_dfs['Produced by']:\n",
    "        if ultra_name in merged_dfs.loc[lookup_num,\"Produced by\"]:\n",
    "            return_value=True\n",
    "    elif ultra_name in merged_dfs['Edit Guy']:\n",
    "        if ultra_name in merged_dfs.loc[lookup_num,\"Edit Guy\"]:\n",
    "            return_value=True\n",
    "    elif ultra_name in merged_dfs['Music by']:\n",
    "        if ultra_name in merged_dfs.loc[lookup_num,\"Music by\"]:\n",
    "            return_value=True\n",
    "    return return_value\n",
    "\n",
    "def ultra_type(ultra_name,lookup_num):\n",
    "    return_value=\"\"\n",
    "    if ultra_name in merged_dfs.loc[lookup_num,\"Starring\"]:\n",
    "        return_value='Starring'\n",
    "    elif ultra_name in merged_dfs.loc[lookup_num,\"Production Company\"]:\n",
    "        return_value=\"Production Company\"\n",
    "    elif ultra_name in merged_dfs.loc[lookup_num,\"Produced by\"]:\n",
    "        return_value=\"Produced by\"\n",
    "    elif ultra_name in merged_dfs.loc[lookup_num,\"Edit Guy\"]:\n",
    "        return_value=\"Edit Guy\"\n",
    "    elif ultra_name in merged_dfs['Music by']:\n",
    "        if ultra_name in merged_dfs.loc[lookup_num,\"Music by\"]:\n",
    "            return_value=\"Music by\"\n",
    "    return return_value\n",
    "\n",
    "def create_add_columns(Actors,Production_Company,Producer,Editor,Composer):\n",
    "    ###List is initiated with correct actors; everyone else is added to the list as listed. \n",
    "    #We ignore produced by because\n",
    "    # in most cases it is a diplicate from directed by.\n",
    "    actor_list=[]\n",
    "    for actors in merged_dfs['Starring']:\n",
    "        for actor in actors.split(\", \"):\n",
    "            actor_list.append(actor)\n",
    "            \n",
    "    super_min=2\n",
    "    super_list=[x for x in pd.DataFrame([actor_list,actor_list]).T[0].value_counts()[pd.DataFrame([actor_list,\\\n",
    "                    actor_list]).T[0].value_counts()>super_min].reset_index()['index'].copy()]\n",
    "    super_list.extend([x for x in merged_dfs['Directed by'].value_counts()[merged_dfs['Directed by']\\\n",
    "                                    .value_counts()>super_min].to_frame().index.copy()])\n",
    "    super_list.extend([x for x in merged_dfs['Edit Guy'].value_counts()[merged_dfs['Edit Guy']\\\n",
    "                                    .value_counts()>super_min].to_frame().index.copy()])\n",
    "    super_list.extend([x for x in merged_dfs['Produced by'].value_counts()[merged_dfs['Produced by']\\\n",
    "                                    .value_counts()>super_min].to_frame().index.copy()])\n",
    "    super_list.extend([x for x in merged_dfs['Production Company'].value_counts()[merged_dfs['Production Company']\\\n",
    "                                    .value_counts()>super_min].to_frame().index.copy()])\n",
    "    super_list.extend([x for x in merged_dfs['Music by'].value_counts()[merged_dfs['Music by']\\\n",
    "                                    .value_counts()>super_min].to_frame().index.copy()])\n",
    "    merged_dfs[\"Super Actors\"]=merged_dfs['Starring'].apply(lambda x: super_actor(x))\n",
    "    merged_dfs[\"Super Production Company\"]=merged_dfs['Production Company'].apply(lambda x: super_single(x))\n",
    "    merged_dfs[\"Super Producer\"]=merged_dfs['Produced by'].apply(lambda x: super_single(x))\n",
    "    merged_dfs[\"Super Editor\"]=merged_dfs['Edit Guy'].apply(lambda x: super_single(x))\n",
    "    merged_dfs[\"Super Composer\"]=merged_dfs['Edit Guy'].apply(lambda x: super_single(x))\n",
    "\n",
    "\n",
    "    mega_min=3\n",
    "    mega_list=[x for x in pd.DataFrame([actor_list,actor_list]).T[0].value_counts()[pd.DataFrame([actor_list,\\\n",
    "                    actor_list]).T[0].value_counts()>mega_min].reset_index()['index'].copy()]\n",
    "    mega_list.extend([x for x in merged_dfs['Directed by'].value_counts()[merged_dfs['Directed by']\\\n",
    "                                    .value_counts()>mega_min].to_frame().index.copy()])\n",
    "    mega_list.extend([x for x in merged_dfs['Edit Guy'].value_counts()[merged_dfs['Edit Guy']\\\n",
    "                                    .value_counts()>mega_min].to_frame().index.copy()])\n",
    "    mega_list.extend([x for x in merged_dfs['Produced by'].value_counts()[merged_dfs['Produced by']\\\n",
    "                                    .value_counts()>mega_min].to_frame().index.copy()])\n",
    "    mega_list.extend([x for x in merged_dfs['Production Company'].value_counts()[merged_dfs['Production Company']\\\n",
    "                                    .value_counts()>mega_min].to_frame().index.copy()])\n",
    "    mega_list.extend([x for x in merged_dfs['Music by'].value_counts()[merged_dfs['Music by']\\\n",
    "                                    .value_counts()>mega_min].to_frame().index.copy()])\n",
    "    merged_dfs[\"Mega Actors\"]=merged_dfs['Starring'].apply(lambda x: super_actor(x))\n",
    "    merged_dfs[\"Mega Production Company\"]=merged_dfs['Production Company'].apply(lambda x: mega_single(x))\n",
    "    merged_dfs[\"Mega Producer\"]=merged_dfs['Produced by'].apply(lambda x: mega_single(x))\n",
    "    merged_dfs[\"Mega Editor\"]=merged_dfs['Edit Guy'].apply(lambda x: mega_single(x))\n",
    "    merged_dfs[\"Mega Composer\"]=merged_dfs['Edit Guy'].apply(lambda x: mega_single(x))\n",
    "\n",
    "    ultra_min=4\n",
    "    ultra_list=[]\n",
    "    ultra_list=[x for x in pd.DataFrame([actor_list,actor_list]).T[0].value_counts()[pd.DataFrame([actor_list,\\\n",
    "                    actor_list]).T[0].value_counts()>ultra_min].reset_index()['index'].copy()]\n",
    "    ultra_list.extend([x for x in merged_dfs['Directed by'].value_counts()[merged_dfs['Directed by']\\\n",
    "                                    .value_counts()>ultra_min].to_frame().index.copy()])\n",
    "    ultra_list.extend([x for x in merged_dfs['Edit Guy'].value_counts()[merged_dfs['Edit Guy']\\\n",
    "                                    .value_counts()>ultra_min].to_frame().index.copy()])\n",
    "    ultra_list.extend([x for x in merged_dfs['Produced by'].value_counts()[merged_dfs['Produced by']\\\n",
    "                                    .value_counts()>ultra_min].to_frame().index.copy()])\n",
    "    ultra_list.extend([x for x in merged_dfs['Production Company'].value_counts()[merged_dfs['Production Company']\\\n",
    "                                    .value_counts()>ultra_min].to_frame().index.copy()])\n",
    "    ultra_list.extend([x for x in merged_dfs['Music by'].value_counts()[merged_dfs['Music by']\\\n",
    "                                    .value_counts()>ultra_min].to_frame().index.copy()])\n",
    "    ultra_unique=pd.DataFrame(ultra_list,columns=[\"List\"])[\"List\"].unique()\n",
    "    for x in ultra_unique:\n",
    "        temp=[]\n",
    "        for lookup in range(len(merged_dfs['Starring'])):\n",
    "            #I need to check whether the name is any of the appropriate columns\n",
    "            if ultra_check(x,lookup):\n",
    "                bin_label=ultra_type(x,lookup)\n",
    "                if Actors and (bin_label=='Starring'):\n",
    "                    temp.append(1)\n",
    "                elif Production_Company and (bin_label=='Production Company'):\n",
    "                    temp.append(1)\n",
    "                elif Producer and (bin_label=='Produced by'):\n",
    "                    temp.append(1)\n",
    "                elif Editor and (bin_label=='Edit Guy'):\n",
    "                    temp.append(1)\n",
    "                elif Composer and (bin_label=='Music by'):\n",
    "                    temp.append(1)\n",
    "                else:\n",
    "                    temp.append(0)\n",
    "            else:\n",
    "                temp.append(0)\n",
    "        merged_dfs[x]=temp\n",
    "    return ultra_unique\n",
    "\n",
    "def create_X_y(use_super,use_mega,use_ultra,Actors,Production_Company,Producer,Editor,Composer):\n",
    "    ultras=create_add_columns(Actors,Production_Company,Producer,Editor,Composer)\n",
    "    super_cols=create_super(Actors,Production_Company,Producer,Editor,Composer)\n",
    "    mega_cols =create_mega (Actors,Production_Company,Producer,Editor,Composer)\n",
    "    base=[u'Box office',u'Budget']\n",
    "    if use_ultra:\n",
    "        for ultra in ultras:\n",
    "            base.append(ultra)\n",
    "    init_cols=base\n",
    "    dumm_cols=[]\n",
    "    dele_cols=[]\n",
    "\n",
    "    if use_super:\n",
    "        init_cols.extend(super_cols[0])\n",
    "        dumm_cols.extend(super_cols[0])\n",
    "        dele_cols.extend(super_cols[0])\n",
    "        dele_cols.extend(super_cols[1])\n",
    "    if use_mega:\n",
    "        init_cols.extend(mega_cols[0])\n",
    "        dumm_cols.extend(mega_cols[0])\n",
    "        dele_cols.extend(mega_cols[0])\n",
    "        dele_cols.extend(mega_cols[1])\n",
    "\n",
    "\n",
    "    y=merged_dfs['rating'].copy()\n",
    "    X=merged_dfs[init_cols].copy()\n",
    "\n",
    "    if len(dumm_cols)>0:\n",
    "        X=pd.concat([X,pd.get_dummies(X[dumm_cols])],axis=1)\n",
    "\n",
    "    for col in dele_cols:\n",
    "        del X[col]\n",
    "    \n",
    "    return X,y\n",
    "\n",
    "def create_super(actors,production_company,producer,editor,composer):\n",
    "    sc1=[]\n",
    "    sc2=[]\n",
    "    if Actors:\n",
    "        sc1.append(u'Super Actors')\n",
    "        sc2.append(u'Super Actors_No')\n",
    "    if Production_Company:\n",
    "        sc1.append(u'Super Production Company')\n",
    "        sc2.append(u'Super Production Company_No')\n",
    "    if Producer:\n",
    "        sc1.append(u'Super Producer')\n",
    "        sc2.append(u'Super Producer_No')\n",
    "    if Editor:\n",
    "        sc1.append(u'Super Editor')\n",
    "        sc2.append(u'Super Editor_No')\n",
    "    if Composer:\n",
    "        sc1.append(u'Super Composer')\n",
    "        sc2.append(u'Super Composer_No')\n",
    "    master=[sc1,sc2]\n",
    "    return master\n",
    "        \n",
    "def create_mega (actors,production_company,producer,editor,composer):\n",
    "    mc1=[]\n",
    "    mc2=[]\n",
    "    if Actors:\n",
    "        mc1.append(u'Mega Actors')\n",
    "        mc2.append(u'Mega Actors_No')\n",
    "    if Production_Company:\n",
    "        mc1.append(u'Mega Production Company')\n",
    "        mc2.append(u'Mega Production Company_No')\n",
    "    if Producer:\n",
    "        mc1.append(u'Mega Producer')\n",
    "        mc2.append(u'Mega Producer_No')\n",
    "    if Editor:\n",
    "        mc1.append(u'Mega Editor')\n",
    "        mc2.append(u'Mega Editor_No')\n",
    "    if Composer:\n",
    "        mc1.append(u'Mega Composer')\n",
    "        mc2.append(u'Mega Composer_No')\n",
    "    master=[mc1,mc2]\n",
    "    return master"
   ]
  },
  {
   "cell_type": "code",
   "execution_count": 842,
   "metadata": {
    "collapsed": false,
    "scrolled": true
   },
   "outputs": [],
   "source": [
    "Super=True\n",
    "Mega =True\n",
    "Ultra=True\n",
    "Actors=False\n",
    "Production_Company=True\n",
    "Producer=False\n",
    "Editor=False\n",
    "Composer=True\n",
    "\n",
    "merged_dfs=merged_dfs_copy.copy()\n",
    "\n",
    "X,y=create_X_y(Super,Mega,Ultra,Actors,Production_Company,Producer,Editor,Composer)"
   ]
  },
  {
   "cell_type": "code",
   "execution_count": null,
   "metadata": {
    "collapsed": false
   },
   "outputs": [],
   "source": []
  },
  {
   "cell_type": "code",
   "execution_count": 845,
   "metadata": {
    "collapsed": true
   },
   "outputs": [
    {
     "name": "stdout",
     "output_type": "stream",
     "text": [
      "0.00534236538176\n",
      "0.00534236538176\n",
      "0.00534236538176\n",
      "0.0191213425817\n",
      "0.0121409470909\n",
      "0.0121409470909\n",
      "0.0121409470909\n",
      "0.00600204063065\n",
      "0.00576543351885\n",
      "0.00576543351885\n",
      "0.00576543351885\n",
      "0.0164405543188\n",
      "0.00851581856012\n",
      "0.00851581856012\n",
      "0.00851581856012\n",
      "0.00127761536905\n",
      "-0.0634429400752\n",
      "-0.0634429400752\n",
      "-0.0634429400752\n",
      "-0.105222721487\n",
      "-0.066784289129\n",
      "-0.066784289129\n",
      "-0.066784289129\n",
      "-0.114148763481\n",
      "-0.066045491802\n",
      "-0.066045491802\n",
      "-0.066045491802\n",
      "-0.107778645451\n",
      "-0.077400903119\n",
      "-0.077400903119\n",
      "-0.077400903119\n",
      "-0.124626857619\n",
      "-0.0928203287589\n",
      "-0.0928203287589\n",
      "-0.0928203287589\n",
      "-0.0848390830677\n",
      "-0.0951639067456\n",
      "-0.0951639067456\n",
      "-0.0951639067456\n",
      "-0.0909814897584\n",
      "-0.0943209204273\n",
      "-0.0943209204273\n",
      "-0.0943209204273\n",
      "-0.0821569837538\n",
      "-0.103874578807\n",
      "-0.103874578807\n",
      "-0.103874578807\n",
      "-0.0953395437418\n",
      "-0.0634429400752\n",
      "-0.0634429400752\n",
      "-0.0634429400752\n",
      "-0.105222721487\n",
      "-0.066784289129\n",
      "-0.066784289129\n",
      "-0.066784289129\n",
      "-0.114148763481\n",
      "-0.066045491802\n",
      "-0.066045491802\n",
      "-0.066045491802\n",
      "-0.107778645451\n",
      "-0.077400903119\n",
      "-0.077400903119\n",
      "-0.077400903119\n",
      "-0.124626857619\n",
      "-0.00648281866722\n",
      "-0.00648281866722\n",
      "-0.00648281866722\n",
      "0.0128587369442\n",
      "-0.0079132244309\n",
      "-0.0079132244309\n",
      "-0.0079132244309\n",
      "0.000531373928146\n",
      "-0.00220673449053\n",
      "-0.00220673449053\n",
      "-0.00220673449053\n",
      "0.0167689638609\n",
      "-0.008637385297\n",
      "-0.008637385297\n",
      "-0.008637385297\n",
      "0.00127761536904\n",
      "-0.0849381501906\n",
      "-0.0849381501905\n",
      "-0.0849381501905\n",
      "-0.104206284874\n",
      "-0.0839446822247\n",
      "-0.0839446822247\n",
      "-0.0839446822247\n",
      "-0.113822358133\n",
      "-0.0909728732392\n",
      "-0.0909728732392\n",
      "-0.0909728732392\n",
      "-0.10676107114\n",
      "-0.0995971870722\n",
      "-0.0995971870722\n",
      "-0.0995971870722\n",
      "-0.124626857619\n",
      "-0.109269828746\n",
      "-0.109269828746\n",
      "-0.109269828746\n",
      "-0.0793298450647\n",
      "-0.108680945627\n",
      "-0.108680945627\n",
      "-0.108680945627\n",
      "-0.086966746751\n",
      "-0.114492519154\n",
      "-0.114492519154\n",
      "-0.114492519154\n",
      "-0.0809388684256\n",
      "-0.123408232701\n",
      "-0.123408232701\n",
      "-0.123408232701\n",
      "-0.0953395437418\n",
      "-0.0849381501906\n",
      "-0.0849381501905\n",
      "-0.0849381501905\n",
      "-0.104206284874\n",
      "-0.0839446822247\n",
      "-0.0839446822247\n",
      "-0.0839446822247\n",
      "-0.113822358133\n",
      "-0.0909728732392\n",
      "-0.0909728732392\n",
      "-0.0909728732392\n",
      "-0.10676107114\n",
      "-0.0995971870722\n",
      "-0.0995971870722\n",
      "-0.0995971870722\n",
      "-0.124626857619\n",
      "0.0268026294139\n",
      "0.0268026294139\n",
      "0.0268026294139\n",
      "0.0260034439224\n",
      "0.030684252105\n",
      "0.030684252105\n",
      "0.030684252105\n",
      "0.00781476479773\n",
      "0.0221923847312\n",
      "0.0221923847312\n",
      "0.0221923847312\n",
      "0.0195933037392\n",
      "0.0268225122705\n",
      "0.0268225122705\n",
      "0.0268225122705\n",
      "0.00127761536904\n",
      "-0.0554182641407\n",
      "-0.0554182641407\n",
      "-0.0554182641407\n",
      "-0.106414485806\n",
      "-0.0533644176399\n",
      "-0.0533644176399\n",
      "-0.0533644176399\n",
      "-0.11828087165\n",
      "-0.0600204857891\n",
      "-0.0600204857891\n",
      "-0.0600204857891\n",
      "-0.113828605287\n",
      "-0.0572856091946\n",
      "-0.0572856091947\n",
      "-0.0572856091947\n",
      "-0.124626857619\n",
      "-0.0652442973115\n",
      "-0.0652442973115\n",
      "-0.0652442973115\n",
      "-0.087839245576\n",
      "-0.0623775711887\n",
      "-0.0623775711887\n",
      "-0.0623775711887\n",
      "-0.0967634668012\n",
      "-0.0669664575144\n",
      "-0.0669664575144\n",
      "-0.0669664575144\n",
      "-0.0871552319541\n",
      "-0.0629825863548\n",
      "-0.0629825863548\n",
      "-0.0629825863548\n",
      "-0.0953395437418\n",
      "-0.0554182641407\n",
      "-0.0554182641407\n",
      "-0.0554182641407\n",
      "-0.106414485806\n",
      "-0.0533644176399\n",
      "-0.0533644176399\n",
      "-0.0533644176399\n",
      "-0.11828087165\n",
      "-0.0600204857891\n",
      "-0.0600204857891\n",
      "-0.0600204857891\n",
      "-0.113828605287\n",
      "-0.0572856091946\n",
      "-0.0572856091947\n",
      "-0.0572856091947\n",
      "-0.124626857619\n",
      "0.0101809384202\n",
      "0.0101809384202\n",
      "0.0101809384202\n",
      "0.0101809384202\n",
      "0.0101809384202\n",
      "0.0101809384202\n",
      "0.0101809384202\n",
      "0.0101809384202\n",
      "0.0101809384202\n",
      "0.0101809384202\n",
      "0.0101809384202\n",
      "0.0101809384202\n",
      "0.0101809384202\n",
      "0.0101809384202\n",
      "0.0101809384202\n",
      "0.0101809384202\n",
      "-0.124626857619\n",
      "-0.124626857619\n",
      "-0.124626857619\n",
      "-0.124626857619\n",
      "-0.124626857619\n",
      "-0.124626857619\n",
      "-0.124626857619\n",
      "-0.124626857619\n",
      "-0.124626857619\n",
      "-0.124626857619\n",
      "-0.124626857619\n",
      "-0.124626857619\n",
      "-0.124626857619\n",
      "-0.124626857619\n",
      "-0.124626857619\n",
      "-0.124626857619\n",
      "-0.124626857619\n",
      "-0.124626857619\n",
      "-0.124626857619\n",
      "-0.124626857619\n",
      "-0.124626857619\n",
      "-0.124626857619\n",
      "-0.124626857619\n",
      "-0.124626857619\n",
      "-0.124626857619\n",
      "-0.124626857619\n",
      "-0.124626857619\n",
      "-0.124626857619\n",
      "-0.124626857619\n",
      "-0.124626857619\n",
      "-0.124626857619\n",
      "-0.124626857619\n",
      "-0.124626857619\n",
      "-0.124626857619\n",
      "-0.124626857619\n",
      "-0.124626857619\n",
      "-0.124626857619\n",
      "-0.124626857619\n",
      "-0.124626857619\n",
      "-0.124626857619\n",
      "-0.124626857619\n",
      "-0.124626857619\n",
      "-0.124626857619\n",
      "-0.124626857619\n",
      "-0.124626857619\n",
      "-0.124626857619\n",
      "-0.124626857619\n",
      "-0.124626857619\n",
      "0.000531373928146\n"
     ]
    },
    {
     "data": {
      "image/png": "[encoded data removed]",
      "text/plain": [
       "<matplotlib.figure.Figure at 0x123e1f8d0>"
      ]
     },
     "metadata": {},
     "output_type": "display_data"
    }
   ],
   "source": [
    "linregbest=[100.,True,True,True,True,True,True,True,True,[]]\n",
    "linregtemp=100.\n",
    "booleans=[True,False]\n",
    "for a in booleans:\n",
    "    Super=a\n",
    "    for b in booleans:\n",
    "        Mega=b\n",
    "        for c in booleans:\n",
    "            Ultra=c\n",
    "            for d in booleans:\n",
    "                Actors=d\n",
    "                for e in booleans:\n",
    "                    Production_Company=e\n",
    "                    for f in booleans:\n",
    "                        Producer=f\n",
    "                        for g in booleans:\n",
    "                            Editor=g\n",
    "                            for h in booleans:\n",
    "                                Composer=h\n",
    "                                merged_dfs=merged_dfs_copy.copy()\n",
    "                                X,y=create_X_y(Super,Mega,Ultra,Actors,Production_Company,Producer,\\\n",
    "                                            Editor,Composer)\n",
    "                                x_train,x_test,y_train,y_test=train_test_split(X,y,random_state=1)\n",
    "                                lr=LinearRegression()\n",
    "                                lr.fit(x_train,y_train)\n",
    "                                predlr=lr.predict(x_test)\n",
    "                                linregtemp=lr.score(x_test,y_test)\n",
    "                                print linregtemp\n",
    "                                if np.abs(linregtemp)<np.abs(linregbest[0]):\n",
    "                                    linregbest=[linregtemp,Super,Mega,Ultra,Actors,Production_Company,\\\n",
    "                                            Producer,Editor,Composer,predlr]\n",
    "print linregbest[0]\n",
    "plt.scatter(range(len(linregbest[-1])),linregbest[-1]-y_test);"
   ]
  },
  {
   "cell_type": "code",
   "execution_count": 847,
   "metadata": {
    "collapsed": false
   },
   "outputs": [
    {
     "data": {
      "image/png": "[encoded data removed]",
      "text/plain": [
       "<matplotlib.figure.Figure at 0x121fb16d0>"
      ]
     },
     "metadata": {},
     "output_type": "display_data"
    }
   ],
   "source": [
    "plt.scatter(range(len(linregbest[-1])),linregbest[-1]-y_test);"
   ]
  },
  {
   "cell_type": "code",
   "execution_count": null,
   "metadata": {
    "collapsed": false
   },
   "outputs": [],
   "source": []
  },
  {
   "cell_type": "code",
   "execution_count": 848,
   "metadata": {
    "collapsed": false
   },
   "outputs": [
    {
     "data": {
      "text/plain": [
       "[0.00053137392814639473,\n",
       " True,\n",
       " False,\n",
       " True,\n",
       " True,\n",
       " True,\n",
       " False,\n",
       " False,\n",
       " False,\n",
       " array([ 8.53661828,  8.3263254 ,  8.33224533,  8.30705375,  8.31111904,\n",
       "         8.34393605,  8.31201406,  8.33967615,  8.50695775,  8.34182799,\n",
       "         8.36231977,  8.43424334,  8.31481228,  8.31161583,  8.31279185,\n",
       "         8.30855991,  8.31056721,  8.30321027,  8.31759308,  8.31503463,\n",
       "         8.41207508,  8.41692944,  8.31283698,  8.33878761,  8.31224062,\n",
       "         8.30160938,  8.31466385,  8.33372786,  8.3465122 ,  8.31101557,\n",
       "         8.28581616,  8.31072881,  8.34164601,  8.31626989,  8.47644161,\n",
       "         8.29292791,  8.27789268,  8.29564354,  8.31774486,  8.50100309,\n",
       "         8.30457814,  8.31117821,  8.36419055,  8.39897836,  8.21258181,\n",
       "         8.31064649,  8.34544148,  8.30444879,  8.30344574])]"
      ]
     },
     "execution_count": 848,
     "metadata": {},
     "output_type": "execute_result"
    }
   ],
   "source": [
    "linregbest"
   ]
  },
  {
   "cell_type": "code",
   "execution_count": 849,
   "metadata": {
    "collapsed": false
   },
   "outputs": [
    {
     "data": {
      "text/plain": [
       "-0.124626857618946"
      ]
     },
     "execution_count": 849,
     "metadata": {},
     "output_type": "execute_result"
    }
   ],
   "source": [
    "linregtemp"
   ]
  },
  {
   "cell_type": "code",
   "execution_count": null,
   "metadata": {
    "collapsed": false
   },
   "outputs": [],
   "source": []
  },
  {
   "cell_type": "code",
   "execution_count": null,
   "metadata": {
    "collapsed": false
   },
   "outputs": [],
   "source": []
  },
  {
   "cell_type": "code",
   "execution_count": 850,
   "metadata": {
    "collapsed": false
   },
   "outputs": [],
   "source": [
    "def binned_y(y_list,zeta):\n",
    "    new_list=[]\n",
    "    for value in y_list:\n",
    "        temp=int(value*zeta)#/float(zeta)\n",
    "        new_list.append(temp)\n",
    "    return new_list    \n",
    "    \n",
    "def run_regressions_and_print(bins,x_train,x_test,y_train,y_test):\n",
    "    logreg=LogisticRegressionCV(cv=3)\n",
    "    params={'penalty':['l2'],\"Cs\":range(4,7)}\n",
    "    gs=GridSearchCV(logreg,params)\n",
    "    gs.fit(x_train,y_train)\n",
    "    logreg=LogisticRegressionCV(cv=3,Cs=gs.best_params_['Cs'],penalty=gs.best_params_['penalty'])\n",
    "    logreg.fit(x_train,y_train)\n",
    "    predlogreg=logreg.predict(x_test)\n",
    "    print \"LogReg Score:\"\n",
    "    print \"   \",logreg.score(x_test,y_test)\n",
    "    print pd.DataFrame(confusion_matrix(y_test,predlogreg),columns=[logreg.classes_/float(bins-1)],\n",
    "                 index=[logreg.classes_/float(bins-1)])\n",
    "    print gs.best_params_,\"\\n\"\n",
    "    \n",
    "    #--------\n",
    "    \n",
    "    knn=KNeighborsClassifier()\n",
    "    params={'n_neighbors':range(3,20),'weights':['uniform','distance']}\n",
    "    gs=GridSearchCV(knn,params)\n",
    "    gs.fit(x_train,y_train)\n",
    "    knn=KNeighborsClassifier(n_neighbors=gs.best_params_['n_neighbors'],weights=gs.best_params_['weights'])\n",
    "    knn.fit(x_train,y_train)\n",
    "    predknn=knn.predict(x_test)\n",
    "    print \"Knn Score:\"\n",
    "    print \"   \",knn.score(x_test,y_test)\n",
    "    print pd.DataFrame(confusion_matrix(y_test,predknn),columns=[logreg.classes_/float(bins-1)],\n",
    "                 index=[logreg.classes_/float(bins-1)])\n",
    "    print gs.best_params_,\"\\n\"\n",
    "    \n",
    "    #--------\n",
    "    \n",
    "    rf=RandomForestClassifier()\n",
    "    params={'n_estimators':range(4,15),'min_samples_leaf':range(3,7)}\n",
    "    gs=GridSearchCV(rf,params)\n",
    "    gs.fit(x_train,y_train)\n",
    "    rf=RandomForestClassifier(n_estimators=gs.best_params_['n_estimators'],\\\n",
    "                              min_samples_leaf=gs.best_params_['min_samples_leaf'])\n",
    "    rf.fit(x_train,y_train)\n",
    "    predrf=rf.predict(x_test)\n",
    "    print \"Random Forest Score:\"\n",
    "    print \"   \",rf.score(x_test,y_test)\n",
    "    print pd.DataFrame(confusion_matrix(y_test,predrf),columns=[logreg.classes_/float(bins-1)],\n",
    "                 index=[logreg.classes_/float(bins-1)])\n",
    "    print gs.best_params_,\"\\n\"\n",
    "    \n",
    "    #--------\n",
    "    \n",
    "    et=ExtraTreesClassifier()\n",
    "    params={'n_estimators':range(4,15),'min_samples_leaf':range(3,7)}\n",
    "    gs=GridSearchCV(et,params)\n",
    "    gs.fit(x_train,y_train)\n",
    "    et=ExtraTreesClassifier(n_estimators=gs.best_params_['n_estimators'],\\\n",
    "                              min_samples_leaf=gs.best_params_['min_samples_leaf'])\n",
    "    et.fit(x_train,y_train)\n",
    "    predet=et.predict(x_test)\n",
    "    print \"Extra Trees Score:\"\n",
    "    print \"   \",et.score(x_test,y_test)\n",
    "    print pd.DataFrame(confusion_matrix(y_test,predet),columns=[logreg.classes_/float(bins-1)],\n",
    "                 index=[logreg.classes_/float(bins-1)])\n",
    "    print gs.best_params_,\"\\n\"\n",
    "    \n",
    "    #--------\n",
    "    \n",
    "    gb=GradientBoostingClassifier()\n",
    "    params={'n_estimators':range(5,20,2),'max_depth':range(1,5)}\n",
    "    gs=GridSearchCV(gb,params)\n",
    "    gs.fit(x_train,y_train)\n",
    "    gb=GradientBoostingClassifier(n_estimators=gs.best_params_['n_estimators'],\\\n",
    "                                 max_depth=gs.best_params_['max_depth'])\n",
    "    gb.fit(x_train,y_train)\n",
    "    predgb=gb.predict(x_test)\n",
    "    print \"Gradient Boosting Score:\"\n",
    "    print \"   \",gb.score(x_test,y_test)\n",
    "    print pd.DataFrame(confusion_matrix(y_test,predgb),columns=[logreg.classes_/float(bins-1)],\n",
    "                 index=[logreg.classes_/float(bins-1)])\n",
    "    print gs.best_params_,\"\\n\"\n",
    "    return logreg.score(x_test,y_test),knn.score(x_test,y_test),rf.score(x_test,y_test),et.score(x_test,y_test),\\\n",
    "                    gb.score(x_test,y_test)\n"
   ]
  },
  {
   "cell_type": "code",
   "execution_count": 852,
   "metadata": {
    "collapsed": false,
    "scrolled": false
   },
   "outputs": [
    {
     "name": "stdout",
     "output_type": "stream",
     "text": [
      "LogReg Score:\n",
      "    0.589743589744\n",
      "          8.000000  8.333333  8.666667  9.000000\n",
      "8.000000        44         1         3         0\n",
      "8.333333        20         0         2         0\n",
      "8.666667         4         0         2         0\n",
      "9.000000         1         0         1         0\n",
      "{'Cs': 6, 'penalty': 'l2'} \n",
      "\n",
      "Knn Score:\n",
      "    0.641025641026\n",
      "          8.000000  8.333333  8.666667  9.000000\n",
      "8.000000        46         2         0         0\n",
      "8.333333        18         4         0         0\n",
      "8.666667         5         1         0         0\n",
      "9.000000         2         0         0         0\n",
      "{'n_neighbors': 16, 'weights': 'uniform'} \n",
      "\n",
      "Random Forest Score:\n",
      "    0.602564102564\n",
      "          8.000000  8.333333  8.666667  9.000000\n",
      "8.000000        45         1         2         0\n",
      "8.333333        20         0         2         0\n",
      "8.666667         4         0         2         0\n",
      "9.000000         1         0         1         0\n",
      "{'n_estimators': 13, 'min_samples_leaf': 3} \n",
      "\n",
      "Extra Trees Score:\n",
      "    0.615384615385\n",
      "          8.000000  8.333333  8.666667  9.000000\n",
      "8.000000        48         0         0         0\n",
      "8.333333        22         0         0         0\n",
      "8.666667         6         0         0         0\n",
      "9.000000         2         0         0         0\n",
      "{'n_estimators': 8, 'min_samples_leaf': 3} \n",
      "\n",
      "Gradient Boosting Score:\n",
      "    0.628205128205\n",
      "          8.000000  8.333333  8.666667  9.000000\n",
      "8.000000        48         0         0         0\n",
      "8.333333        22         0         0         0\n",
      "8.666667         5         0         1         0\n",
      "9.000000         2         0         0         0\n",
      "{'n_estimators': 5, 'max_depth': 1} \n",
      "\n",
      "Logistic Regression Best:  [0.58974358974358976, True, False, True, True, True, False, False, False]\n",
      "K Nearest Neighbors Best:  [0.64102564102564108, True, False, True, True, True, False, False, False]\n",
      "Random Forest Best:        [0.60256410256410253, True, False, True, True, True, False, False, False]\n",
      "Extra Trees Best:          [0.61538461538461542, True, False, True, True, True, False, False, False]\n",
      "Gradient Boosting Best:    [0.62820512820512819, True, False, True, True, True, False, False, False]\n"
     ]
    }
   ],
   "source": [
    "lrbest=[0.,True,True,True,True,True,True,True,True]\n",
    "knbest=[0.,True,True,True,True,True,True,True,True]\n",
    "rfbest=[0.,True,True,True,True,True,True,True,True]\n",
    "etbest=[0.,True,True,True,True,True,True,True,True]\n",
    "gbbest=[0.,True,True,True,True,True,True,True,True]\n",
    "lrtemp=0.\n",
    "kntemp=0.\n",
    "rftemp=0.\n",
    "ettemp=0.\n",
    "gbtemp=0.\n",
    "\n",
    "booleans=[True,False]\n",
    "Super=linregbest[1]\n",
    "Mega=linregbest[2]\n",
    "Ultra=linregbest[3]\n",
    "Actors=linregbest[4]\n",
    "Production_Company=linregbest[5]\n",
    "Producer=linregbest[6]\n",
    "Editor=linregbest[7]\n",
    "Composer=linregbest[8]\n",
    "merged_dfs=merged_dfs_copy.copy()\n",
    "X,y=create_X_y(Super,Mega,Ultra,Actors,Production_Company,Producer,Editor,Composer)\n",
    "\n",
    "#---------\n",
    "\n",
    "bins=4\n",
    "x_train,x_test,y_train,y_test=train_test_split(X,binned_y(y,bins-1),random_state=1,\\\n",
    "                                               test_size=0.4)\n",
    "\n",
    "#Returns scores in following order: Logistic Reg., K-Nearest, Random Forest, \\\n",
    "#Extra Trees, Gradient Boosting\n",
    "lrtemp,kntemp,rftemp,ettemp,gbtemp=run_regressions_and_print(bins,x_train,x_test,y_train,y_test)\n",
    "\n",
    "if lrtemp>lrbest[0]:\n",
    "    lrbest=[lrtemp,Super,Mega,Ultra,Actors,Production_Company,Producer,Editor,Composer]\n",
    "if kntemp>knbest[0]:\n",
    "    knbest=[kntemp,Super,Mega,Ultra,Actors,Production_Company,Producer,Editor,Composer]\n",
    "if rftemp>rfbest[0]:\n",
    "    rfbest=[rftemp,Super,Mega,Ultra,Actors,Production_Company,Producer,Editor,Composer]\n",
    "if ettemp>etbest[0]:\n",
    "    etbest=[ettemp,Super,Mega,Ultra,Actors,Production_Company,Producer,Editor,Composer]\n",
    "if gbtemp>gbbest[0]:\n",
    "    gbbest=[gbtemp,Super,Mega,Ultra,Actors,Production_Company,Producer,Editor,Composer]\n",
    "                                    \n",
    "print 'Logistic Regression Best: ',lrbest\n",
    "print 'K Nearest Neighbors Best: ',knbest\n",
    "print 'Random Forest Best:       ',rfbest\n",
    "print 'Extra Trees Best:         ',etbest\n",
    "print 'Gradient Boosting Best:   ',gbbest"
   ]
  },
  {
   "cell_type": "code",
   "execution_count": null,
   "metadata": {
    "collapsed": false
   },
   "outputs": [],
   "source": []
  },
  {
   "cell_type": "code",
   "execution_count": null,
   "metadata": {
    "collapsed": false
   },
   "outputs": [],
   "source": []
  },
  {
   "cell_type": "code",
   "execution_count": null,
   "metadata": {
    "collapsed": false
   },
   "outputs": [],
   "source": []
  },
  {
   "cell_type": "code",
   "execution_count": null,
   "metadata": {
    "collapsed": false
   },
   "outputs": [],
   "source": []
  },
  {
   "cell_type": "code",
   "execution_count": null,
   "metadata": {
    "collapsed": false
   },
   "outputs": [],
   "source": []
  },
  {
   "cell_type": "code",
   "execution_count": null,
   "metadata": {
    "collapsed": true
   },
   "outputs": [],
   "source": []
  },
  {
   "cell_type": "code",
   "execution_count": null,
   "metadata": {
    "collapsed": true
   },
   "outputs": [],
   "source": []
  },
  {
   "cell_type": "code",
   "execution_count": null,
   "metadata": {
    "collapsed": true
   },
   "outputs": [],
   "source": []
  },
  {
   "cell_type": "code",
   "execution_count": null,
   "metadata": {
    "collapsed": true
   },
   "outputs": [],
   "source": []
  },
  {
   "cell_type": "code",
   "execution_count": null,
   "metadata": {
    "collapsed": true
   },
   "outputs": [],
   "source": []
  },
  {
   "cell_type": "code",
   "execution_count": null,
   "metadata": {
    "collapsed": true
   },
   "outputs": [],
   "source": []
  },
  {
   "cell_type": "code",
   "execution_count": null,
   "metadata": {
    "collapsed": true
   },
   "outputs": [],
   "source": []
  },
  {
   "cell_type": "code",
   "execution_count": 688,
   "metadata": {
    "collapsed": false
   },
   "outputs": [],
   "source": [
    "pd.set_option('display.max_rows', 30)\n",
    "pd.set_option('display.max_columns', 35)"
   ]
  },
  {
   "cell_type": "code",
   "execution_count": null,
   "metadata": {
    "collapsed": true
   },
   "outputs": [],
   "source": []
  },
  {
   "cell_type": "code",
   "execution_count": null,
   "metadata": {
    "collapsed": true
   },
   "outputs": [],
   "source": []
  },
  {
   "cell_type": "code",
   "execution_count": null,
   "metadata": {
    "collapsed": true
   },
   "outputs": [],
   "source": []
  },
  {
   "cell_type": "code",
   "execution_count": null,
   "metadata": {
    "collapsed": true
   },
   "outputs": [],
   "source": []
  },
  {
   "cell_type": "code",
   "execution_count": null,
   "metadata": {
    "collapsed": true
   },
   "outputs": [],
   "source": []
  },
  {
   "cell_type": "code",
   "execution_count": null,
   "metadata": {
    "collapsed": true
   },
   "outputs": [],
   "source": []
  },
  {
   "cell_type": "code",
   "execution_count": null,
   "metadata": {
    "collapsed": true
   },
   "outputs": [],
   "source": []
  }
 ],
 "metadata": {
  "anaconda-cloud": {},
  "kernelspec": {
   "display_name": "Python [default]",
   "language": "python",
   "name": "python2"
  },
  "language_info": {
   "codemirror_mode": {
    "name": "ipython",
    "version": 2
   },
   "file_extension": ".py",
   "mimetype": "text/x-python",
   "name": "python",
   "nbconvert_exporter": "python",
   "pygments_lexer": "ipython2",
   "version": "2.7.12"
  }
 },
 "nbformat": 4,
 "nbformat_minor": 1
}
