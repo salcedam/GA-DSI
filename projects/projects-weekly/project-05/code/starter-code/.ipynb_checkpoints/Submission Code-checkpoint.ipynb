{
 "cells": [
  {
   "cell_type": "code",
   "execution_count": 1,
   "metadata": {
    "collapsed": false
   },
   "outputs": [],
   "source": [
    "import pandas as pd\n",
    "import numpy as np\n",
    "import seaborn as sns\n",
    "import matplotlib.pyplot as plt\n",
    "from sklearn.linear_model import LogisticRegressionCV, LogisticRegression\n",
    "from sklearn.linear_model import LinearRegression\n",
    "from sklearn.cross_validation import train_test_split\n",
    "from sklearn.grid_search import GridSearchCV\n",
    "from sklearn.metrics import mean_squared_error, classification_report, confusion_matrix, accuracy_score\n",
    "from sklearn.cross_validation import train_test_split, cross_val_score\n",
    "from sklearn.metrics import roc_auc_score, roc_curve, auc\n",
    "from sklearn.feature_selection import SelectKBest, f_classif\n",
    "from sklearn.neighbors import KNeighborsClassifier as KNeighborsClassifier\n",
    "from sklearn.ensemble import BaggingClassifier\n",
    "from sklearn.metrics import precision_recall_curve, average_precision_score\n",
    "import sqlite3\n",
    "from sklearn import tree\n",
    "% matplotlib inline\n",
    "pd.set_option('display.max_rows', 500)"
   ]
  },
  {
   "cell_type": "code",
   "execution_count": 2,
   "metadata": {
    "collapsed": true
   },
   "outputs": [],
   "source": [
    "lm = LinearRegression()\n",
    "LRCV=LogisticRegressionCV"
   ]
  },
  {
   "cell_type": "code",
   "execution_count": 13,
   "metadata": {
    "collapsed": false
   },
   "outputs": [],
   "source": [
    "def age_bin(age):\n",
    "    value=\"\"\n",
    "    if pd.isnull(age):\n",
    "        value=\"UnknownAge\"\n",
    "    elif age<20:\n",
    "        value=\"0-19\"\n",
    "    elif age<46:\n",
    "        value=\"20-45\"\n",
    "    else:\n",
    "        value=\"46+\"\n",
    "    return value\n",
    "\n",
    "def cabin_bin(cabin):\n",
    "    value=\"\"\n",
    "    if pd.isnull(cabin):\n",
    "        value=\"Unknown\"\n",
    "    else:\n",
    "        value=cabin[0]\n",
    "    return value\n",
    "\n",
    "def last_names(name):\n",
    "    splits=name.split(\",\")[0]\n",
    "    splits=splits.replace(\",\",\"\")\n",
    "    return splits\n",
    "def fare_bin(fare):\n",
    "    value=\"\"\n",
    "    if fare<10:\n",
    "        value=\"Und10\"\n",
    "    if fare<30:\n",
    "        value=\"10-30\"\n",
    "    if fare<75:\n",
    "        value\n",
    "def ticket_bin(ticket):\n",
    "    alpha=[\"ABCDEFGHIJKLMNOPQRSTUVWXYZ\"]\n",
    "    value=\"\"\n",
    "    if ticket[0] not in alpha:\n",
    "        value=str(ticket[0])\n",
    "    else:\n",
    "        value=ticket[:3]\n",
    "    return value\n",
    "def report(max_rand,bestf1,bestx0,prec,recall,f1score,confusion,test,predictions,modelname):\n",
    "    print classification_report(test,predictions)\n",
    "    print\n",
    "    print \"Random Iterations: \", max_rand-1\n",
    "    print \"Best f1:  \",max(bestf1)\n",
    "    print \"Best x0:  \",bestx0\n",
    "    print\n",
    "    print \"Average Precision: \", np.mean(prec)\n",
    "    print \"Average Recall:    \", np.mean(recall)\n",
    "    print \"Average F1-Score:  \", np.mean(f1score)\n",
    "    print \n",
    "    print \"Variance Precision:\", np.var(prec)\n",
    "    print \"Variance Recall:   \", np.var(recall)\n",
    "    print \"Variance F1-Score: \", np.var(f1score)\n",
    "    print \n",
    "    print \"Confusion for\",modelname\n",
    "    print(confusion)"
   ]
  },
  {
   "cell_type": "markdown",
   "metadata": {},
   "source": [
    "## Pre-Task: Describe the goals of your study"
   ]
  },
  {
   "cell_type": "markdown",
   "metadata": {},
   "source": [
    "The primary goal of this project is to use logistic regression, and other categorical methods to determine whether each of the passengers of the Titanic either lived or died. The secondary goals of this project are to correctly use dummy variables and to begin learning ML techniques by comparitive study."
   ]
  },
  {
   "cell_type": "markdown",
   "metadata": {},
   "source": [
    "  "
   ]
  },
  {
   "cell_type": "markdown",
   "metadata": {},
   "source": [
    "## Part 1: Aquire the Data"
   ]
  },
  {
   "cell_type": "markdown",
   "metadata": {
    "collapsed": true
   },
   "source": [
    "psql -h dsi.c20gkj5cvu3l.us-east-1.rds.amazonaws.com -p 5432 -U dsi_student titanic\n",
    "password: gastudents"
   ]
  },
  {
   "cell_type": "markdown",
   "metadata": {},
   "source": [
    "#### 1. Connect to the remote database"
   ]
  },
  {
   "cell_type": "code",
   "execution_count": 4,
   "metadata": {
    "collapsed": false
   },
   "outputs": [],
   "source": [
    "#df=pd.read_csv(\"train.csv\")\n",
    "import psycopg2\n",
    "params = {\n",
    " 'dbname': 'titanic',\n",
    " 'user': 'dsi_student',\n",
    " 'password': 'gastudents',\n",
    " 'host': 'dsi.c20gkj5cvu3l.us-east-1.rds.amazonaws.com',\n",
    " 'port': 5432\n",
    "}\n",
    "\n",
    "conn = psycopg2.connect(**params)\n",
    "c = conn.cursor()"
   ]
  },
  {
   "cell_type": "markdown",
   "metadata": {},
   "source": [
    "#### 2. Query the database and aggregate the data"
   ]
  },
  {
   "cell_type": "code",
   "execution_count": 5,
   "metadata": {
    "collapsed": false
   },
   "outputs": [],
   "source": [
    "df=pd.read_sql(\"SELECT * FROM train\",con=conn)\n",
    "copy=df.copy()"
   ]
  },
  {
   "cell_type": "markdown",
   "metadata": {},
   "source": [
    "#### 5. What are the risks and assumptions of our data? "
   ]
  },
  {
   "cell_type": "markdown",
   "metadata": {},
   "source": [
    "The data is not descriptive of the passengers on a personal level, so the results will be limited strictly to the information of the manifest. Thus the key assumption of this data is that all passengers can be described solely by their age, gender, travel class, and whether they are traveling with family members. Thus a large risk of the data is that it is not descriptive enough."
   ]
  },
  {
   "cell_type": "markdown",
   "metadata": {},
   "source": [
    "## Part 2: Exploratory Data Analysis"
   ]
  },
  {
   "cell_type": "code",
   "execution_count": 6,
   "metadata": {
    "collapsed": false
   },
   "outputs": [
    {
     "data": {
      "text/html": [
       "<div>\n",
       "<table border=\"1\" class=\"dataframe\">\n",
       "  <thead>\n",
       "    <tr style=\"text-align: right;\">\n",
       "      <th></th>\n",
       "      <th>index</th>\n",
       "      <th>PassengerId</th>\n",
       "      <th>Survived</th>\n",
       "      <th>Pclass</th>\n",
       "      <th>Name</th>\n",
       "      <th>Sex</th>\n",
       "      <th>Age</th>\n",
       "      <th>SibSp</th>\n",
       "      <th>Parch</th>\n",
       "      <th>Ticket</th>\n",
       "      <th>Fare</th>\n",
       "      <th>Cabin</th>\n",
       "      <th>Embarked</th>\n",
       "    </tr>\n",
       "  </thead>\n",
       "  <tbody>\n",
       "    <tr>\n",
       "      <th>0</th>\n",
       "      <td>0</td>\n",
       "      <td>1</td>\n",
       "      <td>0</td>\n",
       "      <td>3</td>\n",
       "      <td>Braund, Mr. Owen Harris</td>\n",
       "      <td>male</td>\n",
       "      <td>22.0</td>\n",
       "      <td>1</td>\n",
       "      <td>0</td>\n",
       "      <td>A/5 21171</td>\n",
       "      <td>7.2500</td>\n",
       "      <td>None</td>\n",
       "      <td>S</td>\n",
       "    </tr>\n",
       "    <tr>\n",
       "      <th>1</th>\n",
       "      <td>1</td>\n",
       "      <td>2</td>\n",
       "      <td>1</td>\n",
       "      <td>1</td>\n",
       "      <td>Cumings, Mrs. John Bradley (Florence Briggs Th...</td>\n",
       "      <td>female</td>\n",
       "      <td>38.0</td>\n",
       "      <td>1</td>\n",
       "      <td>0</td>\n",
       "      <td>PC 17599</td>\n",
       "      <td>71.2833</td>\n",
       "      <td>C85</td>\n",
       "      <td>C</td>\n",
       "    </tr>\n",
       "    <tr>\n",
       "      <th>2</th>\n",
       "      <td>2</td>\n",
       "      <td>3</td>\n",
       "      <td>1</td>\n",
       "      <td>3</td>\n",
       "      <td>Heikkinen, Miss. Laina</td>\n",
       "      <td>female</td>\n",
       "      <td>26.0</td>\n",
       "      <td>0</td>\n",
       "      <td>0</td>\n",
       "      <td>STON/O2. 3101282</td>\n",
       "      <td>7.9250</td>\n",
       "      <td>None</td>\n",
       "      <td>S</td>\n",
       "    </tr>\n",
       "    <tr>\n",
       "      <th>3</th>\n",
       "      <td>3</td>\n",
       "      <td>4</td>\n",
       "      <td>1</td>\n",
       "      <td>1</td>\n",
       "      <td>Futrelle, Mrs. Jacques Heath (Lily May Peel)</td>\n",
       "      <td>female</td>\n",
       "      <td>35.0</td>\n",
       "      <td>1</td>\n",
       "      <td>0</td>\n",
       "      <td>113803</td>\n",
       "      <td>53.1000</td>\n",
       "      <td>C123</td>\n",
       "      <td>S</td>\n",
       "    </tr>\n",
       "    <tr>\n",
       "      <th>4</th>\n",
       "      <td>4</td>\n",
       "      <td>5</td>\n",
       "      <td>0</td>\n",
       "      <td>3</td>\n",
       "      <td>Allen, Mr. William Henry</td>\n",
       "      <td>male</td>\n",
       "      <td>35.0</td>\n",
       "      <td>0</td>\n",
       "      <td>0</td>\n",
       "      <td>373450</td>\n",
       "      <td>8.0500</td>\n",
       "      <td>None</td>\n",
       "      <td>S</td>\n",
       "    </tr>\n",
       "  </tbody>\n",
       "</table>\n",
       "</div>"
      ],
      "text/plain": [
       "   index  PassengerId  Survived  Pclass  \\\n",
       "0      0            1         0       3   \n",
       "1      1            2         1       1   \n",
       "2      2            3         1       3   \n",
       "3      3            4         1       1   \n",
       "4      4            5         0       3   \n",
       "\n",
       "                                                Name     Sex   Age  SibSp  \\\n",
       "0                            Braund, Mr. Owen Harris    male  22.0      1   \n",
       "1  Cumings, Mrs. John Bradley (Florence Briggs Th...  female  38.0      1   \n",
       "2                             Heikkinen, Miss. Laina  female  26.0      0   \n",
       "3       Futrelle, Mrs. Jacques Heath (Lily May Peel)  female  35.0      1   \n",
       "4                           Allen, Mr. William Henry    male  35.0      0   \n",
       "\n",
       "   Parch            Ticket     Fare Cabin Embarked  \n",
       "0      0         A/5 21171   7.2500  None        S  \n",
       "1      0          PC 17599  71.2833   C85        C  \n",
       "2      0  STON/O2. 3101282   7.9250  None        S  \n",
       "3      0            113803  53.1000  C123        S  \n",
       "4      0            373450   8.0500  None        S  "
      ]
     },
     "execution_count": 6,
     "metadata": {},
     "output_type": "execute_result"
    }
   ],
   "source": [
    "df.head()"
   ]
  },
  {
   "cell_type": "markdown",
   "metadata": {},
   "source": [
    "#### 1. Describe the Data"
   ]
  },
  {
   "cell_type": "markdown",
   "metadata": {
    "collapsed": true
   },
   "source": [
    "The data is of the passenger manifest of the Titanic during its last voyage. In addition to the manifest information, the data also includes whether or not each passenger survived. "
   ]
  },
  {
   "cell_type": "code",
   "execution_count": 7,
   "metadata": {
    "collapsed": false
   },
   "outputs": [
    {
     "data": {
      "text/html": [
       "<div>\n",
       "<table border=\"1\" class=\"dataframe\">\n",
       "  <thead>\n",
       "    <tr style=\"text-align: right;\">\n",
       "      <th></th>\n",
       "      <th>index</th>\n",
       "      <th>PassengerId</th>\n",
       "      <th>Survived</th>\n",
       "      <th>Pclass</th>\n",
       "      <th>Age</th>\n",
       "      <th>SibSp</th>\n",
       "      <th>Parch</th>\n",
       "      <th>Fare</th>\n",
       "    </tr>\n",
       "  </thead>\n",
       "  <tbody>\n",
       "    <tr>\n",
       "      <th>count</th>\n",
       "      <td>891.000000</td>\n",
       "      <td>891.000000</td>\n",
       "      <td>891.000000</td>\n",
       "      <td>891.000000</td>\n",
       "      <td>714.000000</td>\n",
       "      <td>891.000000</td>\n",
       "      <td>891.000000</td>\n",
       "      <td>891.000000</td>\n",
       "    </tr>\n",
       "    <tr>\n",
       "      <th>mean</th>\n",
       "      <td>445.000000</td>\n",
       "      <td>446.000000</td>\n",
       "      <td>0.383838</td>\n",
       "      <td>2.308642</td>\n",
       "      <td>29.699118</td>\n",
       "      <td>0.523008</td>\n",
       "      <td>0.381594</td>\n",
       "      <td>32.204208</td>\n",
       "    </tr>\n",
       "    <tr>\n",
       "      <th>std</th>\n",
       "      <td>257.353842</td>\n",
       "      <td>257.353842</td>\n",
       "      <td>0.486592</td>\n",
       "      <td>0.836071</td>\n",
       "      <td>14.526497</td>\n",
       "      <td>1.102743</td>\n",
       "      <td>0.806057</td>\n",
       "      <td>49.693429</td>\n",
       "    </tr>\n",
       "    <tr>\n",
       "      <th>min</th>\n",
       "      <td>0.000000</td>\n",
       "      <td>1.000000</td>\n",
       "      <td>0.000000</td>\n",
       "      <td>1.000000</td>\n",
       "      <td>0.420000</td>\n",
       "      <td>0.000000</td>\n",
       "      <td>0.000000</td>\n",
       "      <td>0.000000</td>\n",
       "    </tr>\n",
       "    <tr>\n",
       "      <th>25%</th>\n",
       "      <td>222.500000</td>\n",
       "      <td>223.500000</td>\n",
       "      <td>0.000000</td>\n",
       "      <td>2.000000</td>\n",
       "      <td>20.125000</td>\n",
       "      <td>0.000000</td>\n",
       "      <td>0.000000</td>\n",
       "      <td>7.910400</td>\n",
       "    </tr>\n",
       "    <tr>\n",
       "      <th>50%</th>\n",
       "      <td>445.000000</td>\n",
       "      <td>446.000000</td>\n",
       "      <td>0.000000</td>\n",
       "      <td>3.000000</td>\n",
       "      <td>28.000000</td>\n",
       "      <td>0.000000</td>\n",
       "      <td>0.000000</td>\n",
       "      <td>14.454200</td>\n",
       "    </tr>\n",
       "    <tr>\n",
       "      <th>75%</th>\n",
       "      <td>667.500000</td>\n",
       "      <td>668.500000</td>\n",
       "      <td>1.000000</td>\n",
       "      <td>3.000000</td>\n",
       "      <td>38.000000</td>\n",
       "      <td>1.000000</td>\n",
       "      <td>0.000000</td>\n",
       "      <td>31.000000</td>\n",
       "    </tr>\n",
       "    <tr>\n",
       "      <th>max</th>\n",
       "      <td>890.000000</td>\n",
       "      <td>891.000000</td>\n",
       "      <td>1.000000</td>\n",
       "      <td>3.000000</td>\n",
       "      <td>80.000000</td>\n",
       "      <td>8.000000</td>\n",
       "      <td>6.000000</td>\n",
       "      <td>512.329200</td>\n",
       "    </tr>\n",
       "  </tbody>\n",
       "</table>\n",
       "</div>"
      ],
      "text/plain": [
       "            index  PassengerId    Survived      Pclass         Age  \\\n",
       "count  891.000000   891.000000  891.000000  891.000000  714.000000   \n",
       "mean   445.000000   446.000000    0.383838    2.308642   29.699118   \n",
       "std    257.353842   257.353842    0.486592    0.836071   14.526497   \n",
       "min      0.000000     1.000000    0.000000    1.000000    0.420000   \n",
       "25%    222.500000   223.500000    0.000000    2.000000   20.125000   \n",
       "50%    445.000000   446.000000    0.000000    3.000000   28.000000   \n",
       "75%    667.500000   668.500000    1.000000    3.000000   38.000000   \n",
       "max    890.000000   891.000000    1.000000    3.000000   80.000000   \n",
       "\n",
       "            SibSp       Parch        Fare  \n",
       "count  891.000000  891.000000  891.000000  \n",
       "mean     0.523008    0.381594   32.204208  \n",
       "std      1.102743    0.806057   49.693429  \n",
       "min      0.000000    0.000000    0.000000  \n",
       "25%      0.000000    0.000000    7.910400  \n",
       "50%      0.000000    0.000000   14.454200  \n",
       "75%      1.000000    0.000000   31.000000  \n",
       "max      8.000000    6.000000  512.329200  "
      ]
     },
     "execution_count": 7,
     "metadata": {},
     "output_type": "execute_result"
    }
   ],
   "source": [
    "df.describe()"
   ]
  },
  {
   "cell_type": "markdown",
   "metadata": {},
   "source": [
    "#### 2. Visualize the Data"
   ]
  },
  {
   "cell_type": "code",
   "execution_count": 8,
   "metadata": {
    "collapsed": false
   },
   "outputs": [
    {
     "name": "stderr",
     "output_type": "stream",
     "text": [
      "/Users/thomas/anaconda/lib/python2.7/site-packages/numpy/lib/function_base.py:583: RuntimeWarning: invalid value encountered in greater_equal\n",
      "  keep = (tmp_a >= mn)\n",
      "/Users/thomas/anaconda/lib/python2.7/site-packages/numpy/lib/function_base.py:584: RuntimeWarning: invalid value encountered in less_equal\n",
      "  keep &= (tmp_a <= mx)\n"
     ]
    },
    {
     "data": {
      "image/png": "[encoded data removed]",
      "text/plain": [
       "<matplotlib.figure.Figure at 0x106b21510>"
      ]
     },
     "metadata": {},
     "output_type": "display_data"
    }
   ],
   "source": [
    "cols=['Survived','Pclass','Age','SibSp','Parch','Fare']\n",
    "figure,axes=plt.subplots(3,2,figsize=(9,9))\n",
    "i=1\n",
    "for col in cols:\n",
    "    plt.subplot(3,2,i)\n",
    "    plt.hist(df[col],range=(min(df[col]),max(df[col])),bins=20)\n",
    "    plt.title(col,y=0.98)\n",
    "    i+=1\n",
    "plt.show()"
   ]
  },
  {
   "cell_type": "markdown",
   "metadata": {},
   "source": [
    "#### Notes on the data visualization\n",
    "It looks like a few of the columns are logarithmic in nature, so it would be logical to normalize those logarithmic columns. However, the only column that needs to be normalized is 'Fare'. This is because Fare is the only continuous logarithmic column, so it is the only column that a log normalization will have an affect on. That is, becasue SibSp and Parch are discretely binned, a normalization would just shift bins to being at a different value. And because discrete bins would be substituted with dummy variables, the normalization would be pointless."
   ]
  },
  {
   "cell_type": "markdown",
   "metadata": {},
   "source": [
    "## Part 3: Data Wrangling"
   ]
  },
  {
   "cell_type": "markdown",
   "metadata": {},
   "source": [
    "#### 1. Create Dummy Variables for *Sex* "
   ]
  },
  {
   "cell_type": "code",
   "execution_count": 9,
   "metadata": {
    "collapsed": false
   },
   "outputs": [],
   "source": [
    "copy=df.copy()\n",
    "copy[\"Survived\"]=copy[\"Survived\"].apply(lambda x: \"Alive\" if x==1 else \"Dead\")\n",
    "copy[\"Fare\"]=copy[\"Fare\"].apply(lambda x: x+3) #We add a value to each of the values because some people paid no fare\n",
    "                    #and log(0) is non-finite, which is something we cannot have. The number 3 might seem arbitrary,\n",
    "                    #but it was selected because it created the best bin diversity\n",
    "copy[\"Fare\"]=copy[\"Fare\"].apply(lambda x: np.log(x))\n",
    "#copy[\"Fare\"]=copy[\"Fare\"].apply(lambda x: round(x))\n",
    "\n",
    "regression_df=copy\n",
    "regression_df[\"Pclass\"]=regression_df[\"Pclass\"].apply(lambda x: str(x))\n",
    "regression_df[\"Age\"]=regression_df[\"Age\"].apply(lambda x: age_bin(x))\n",
    "regression_df[\"Name\"]=regression_df[\"Name\"].apply(lambda x: last_names(x))\n",
    "regression_df[\"Cabin\"]=regression_df[\"Cabin\"].apply(lambda x: cabin_bin(x))\n",
    "regression_df[\"Ticket\"]=regression_df[\"Ticket\"].apply(lambda x: ticket_bin(x))\n",
    "regression_df[\"Pclass-Sex\"]=regression_df[\"Pclass\"]+regression_df[\"Sex\"]\n",
    "regression_df[\"Age-Sex\"]=regression_df[\"Age\"]+regression_df[\"Sex\"]\n",
    "#regression_df[\"Pclass-Embarked\"]=regression_df[\"Pclass\"]+regression_df[\"Embarked\"]\n",
    "\n",
    "target=regression_df[\"Survived\"].copy()\n",
    "temp1=regression_df.copy()\n",
    "temp2=regression_df.copy()\n",
    "delete1=[\"Name\",\"Ticket\",\"index\",\"PassengerId\",\"Survived\",\"Sex\",\"Cabin\",\"Age\",\"Pclass\",\"Parch\",\n",
    "        \"Age-Sex\",\"Fare\"]#SibSp is not in this delete list\n",
    "delete2=[\"Name\",\"Ticket\",\"index\",\"PassengerId\",\"Survived\",\"Sex\",\"Cabin\",\"Age\",\"Pclass\",\"Parch\",\n",
    "        \"Embarked\",\"Pclass-Sex\"]\n",
    "for x in delete1:\n",
    "    del temp1[x]\n",
    "for x in delete2:\n",
    "    del temp2[x]\n",
    "temp1=pd.get_dummies(temp1,columns=[\"Pclass-Sex\",\"Embarked\"])\n",
    "temp2=pd.get_dummies(temp2,columns=[\"Age-Sex\"])\n",
    "delete1=[\"Pclass-Sex_1female\",\"Embarked_S\"]\n",
    "delete2=[\"Age-Sex_0-19female\"]\n",
    "for x in delete1:\n",
    "    del temp1[x]\n",
    "for x in delete2:\n",
    "    del temp2[x]"
   ]
  },
  {
   "cell_type": "code",
   "execution_count": 10,
   "metadata": {
    "collapsed": false,
    "scrolled": false
   },
   "outputs": [
    {
     "data": {
      "text/html": [
       "<div>\n",
       "<table border=\"1\" class=\"dataframe\">\n",
       "  <thead>\n",
       "    <tr style=\"text-align: right;\">\n",
       "      <th></th>\n",
       "      <th></th>\n",
       "      <th></th>\n",
       "      <th>Age</th>\n",
       "    </tr>\n",
       "    <tr>\n",
       "      <th>Age</th>\n",
       "      <th>Sex</th>\n",
       "      <th>Survived</th>\n",
       "      <th></th>\n",
       "    </tr>\n",
       "  </thead>\n",
       "  <tbody>\n",
       "    <tr>\n",
       "      <th rowspan=\"4\" valign=\"top\">0-19</th>\n",
       "      <th rowspan=\"2\" valign=\"top\">female</th>\n",
       "      <th>Alive</th>\n",
       "      <td>53</td>\n",
       "    </tr>\n",
       "    <tr>\n",
       "      <th>Dead</th>\n",
       "      <td>22</td>\n",
       "    </tr>\n",
       "    <tr>\n",
       "      <th rowspan=\"2\" valign=\"top\">male</th>\n",
       "      <th>Alive</th>\n",
       "      <td>26</td>\n",
       "    </tr>\n",
       "    <tr>\n",
       "      <th>Dead</th>\n",
       "      <td>63</td>\n",
       "    </tr>\n",
       "    <tr>\n",
       "      <th rowspan=\"4\" valign=\"top\">20-45</th>\n",
       "      <th rowspan=\"2\" valign=\"top\">female</th>\n",
       "      <th>Alive</th>\n",
       "      <td>118</td>\n",
       "    </tr>\n",
       "    <tr>\n",
       "      <th>Dead</th>\n",
       "      <td>38</td>\n",
       "    </tr>\n",
       "    <tr>\n",
       "      <th rowspan=\"2\" valign=\"top\">male</th>\n",
       "      <th>Alive</th>\n",
       "      <td>55</td>\n",
       "    </tr>\n",
       "    <tr>\n",
       "      <th>Dead</th>\n",
       "      <td>238</td>\n",
       "    </tr>\n",
       "    <tr>\n",
       "      <th rowspan=\"4\" valign=\"top\">46+</th>\n",
       "      <th rowspan=\"2\" valign=\"top\">female</th>\n",
       "      <th>Alive</th>\n",
       "      <td>26</td>\n",
       "    </tr>\n",
       "    <tr>\n",
       "      <th>Dead</th>\n",
       "      <td>4</td>\n",
       "    </tr>\n",
       "    <tr>\n",
       "      <th rowspan=\"2\" valign=\"top\">male</th>\n",
       "      <th>Alive</th>\n",
       "      <td>12</td>\n",
       "    </tr>\n",
       "    <tr>\n",
       "      <th>Dead</th>\n",
       "      <td>59</td>\n",
       "    </tr>\n",
       "    <tr>\n",
       "      <th rowspan=\"4\" valign=\"top\">UnknownAge</th>\n",
       "      <th rowspan=\"2\" valign=\"top\">female</th>\n",
       "      <th>Alive</th>\n",
       "      <td>36</td>\n",
       "    </tr>\n",
       "    <tr>\n",
       "      <th>Dead</th>\n",
       "      <td>17</td>\n",
       "    </tr>\n",
       "    <tr>\n",
       "      <th rowspan=\"2\" valign=\"top\">male</th>\n",
       "      <th>Alive</th>\n",
       "      <td>16</td>\n",
       "    </tr>\n",
       "    <tr>\n",
       "      <th>Dead</th>\n",
       "      <td>108</td>\n",
       "    </tr>\n",
       "  </tbody>\n",
       "</table>\n",
       "</div>"
      ],
      "text/plain": [
       "                            Age\n",
       "Age        Sex    Survived     \n",
       "0-19       female Alive      53\n",
       "                  Dead       22\n",
       "           male   Alive      26\n",
       "                  Dead       63\n",
       "20-45      female Alive     118\n",
       "                  Dead       38\n",
       "           male   Alive      55\n",
       "                  Dead      238\n",
       "46+        female Alive      26\n",
       "                  Dead        4\n",
       "           male   Alive      12\n",
       "                  Dead       59\n",
       "UnknownAge female Alive      36\n",
       "                  Dead       17\n",
       "           male   Alive      16\n",
       "                  Dead      108"
      ]
     },
     "execution_count": 10,
     "metadata": {},
     "output_type": "execute_result"
    }
   ],
   "source": [
    "regression_df.groupby([\"Age\",\"Sex\",\"Survived\"])[\"Age\"].count().to_frame()"
   ]
  },
  {
   "cell_type": "markdown",
   "metadata": {},
   "source": [
    "## Part 4: Logistic Regression and Model Validation"
   ]
  },
  {
   "cell_type": "markdown",
   "metadata": {},
   "source": [
    "#### 1. Define the variables that we will use in our classification analysis"
   ]
  },
  {
   "cell_type": "markdown",
   "metadata": {
    "collapsed": true
   },
   "source": [
    "Saved as the 'temp1' and 'temp2' (See Part 3)"
   ]
  },
  {
   "cell_type": "markdown",
   "metadata": {},
   "source": [
    "#### 2. Transform \"Y\" into a 1-Dimensional Array for SciKit-Learn"
   ]
  },
  {
   "cell_type": "markdown",
   "metadata": {
    "collapsed": true
   },
   "source": [
    "Saved as target (See Part 3)"
   ]
  },
  {
   "cell_type": "markdown",
   "metadata": {},
   "source": [
    "#### 3. Conduct the logistic regression"
   ]
  },
  {
   "cell_type": "markdown",
   "metadata": {},
   "source": [
    "Probability Tweaking does not work on a non-regularized regression. This is because a regression always chooses the best outcome."
   ]
  },
  {
   "cell_type": "code",
   "execution_count": 14,
   "metadata": {
    "collapsed": false
   },
   "outputs": [
    {
     "name": "stdout",
     "output_type": "stream",
     "text": [
      "Best prob:  0.04\n",
      "Using Pclass-Sex Dummies \n",
      "\n",
      "       Alive  Dead\n",
      "Alive     55    40\n",
      "Dead      13   115\n",
      "             precision    recall  f1-score   support\n",
      "\n",
      "       Dead       0.81      0.58      0.67        95\n",
      "      Alive       0.74      0.90      0.81       128\n",
      "\n",
      "avg / total       0.77      0.76      0.75       223\n",
      "\n",
      "\n",
      "\n"
     ]
    }
   ],
   "source": [
    "###Probability Tweaked (Demonstration)\n",
    "\n",
    "p_tweak=np.linspace(-.2,.2,41)\n",
    "best_prob=0.\n",
    "bestf1=0.\n",
    "for prob in p_tweak:\n",
    "    x_train,x_test,y_train,y_test=train_test_split(temp1,target,random_state=1)\n",
    "    logreg=LogisticRegressionCV(cv=5)\n",
    "    cv_model=logreg.fit(x_train,y_train)\n",
    "    cv_proba=cv_model.predict_proba(x_test)\n",
    "    cv_pred=[]\n",
    "    for conf in cv_proba:\n",
    "        if conf[0]+prob>0.5:\n",
    "            cv_pred.append(\"Alive\")\n",
    "        else:\n",
    "            cv_pred.append(\"Dead\")\n",
    "\n",
    "    if float(classification_report(y_test,cv_pred)[-15:-11])>bestf1:\n",
    "        bestf1=float(classification_report(y_test,cv_pred)[-15:-11])\n",
    "        best_prob=prob\n",
    "        \n",
    "prob=best_prob\n",
    "x_train,x_test,y_train,y_test=train_test_split(temp1,target,random_state=1)\n",
    "logreg=LogisticRegressionCV()\n",
    "cv_model=logreg.fit(x_train,y_train)\n",
    "cv_proba=cv_model.predict_proba(x_test)\n",
    "cv_pred=[]\n",
    "for conf in cv_proba:\n",
    "    if conf[0]+prob>0.5:\n",
    "        cv_pred.append(\"Alive\")\n",
    "    else:\n",
    "        cv_pred.append(\"Dead\")    \n",
    "conmat = np.array(confusion_matrix(y_test, cv_pred))\n",
    "confusion = pd.DataFrame(conmat, index=cv_model.classes_, columns=cv_model.classes_)  \n",
    "print \"Best prob: \",best_prob\n",
    "print  \"Using Pclass-Sex Dummies \\n\"\n",
    "print(confusion)\n",
    "print classification_report(y_test,cv_pred, target_names=[\"Dead\",\"Alive\"])\n",
    "print \"\\n\""
   ]
  },
  {
   "cell_type": "code",
   "execution_count": 15,
   "metadata": {
    "collapsed": false
   },
   "outputs": [],
   "source": [
    "###NOTE, WE ARE ONLY USING RANDOM_STATE=1; WE ARE NOT AVERAGING LIKE WE WILL DO BELOW\n",
    "\n",
    "x_train1,x_test1,y_train1,y_test1=train_test_split(temp1,target,random_state=1)\n",
    "logreg=LogisticRegressionCV(cv=5)\n",
    "cv_model1=logreg.fit(x_train1,y_train1)\n",
    "cv_pred1=cv_model1.predict(x_test1)\n",
    "conmat1 = np.array(confusion_matrix(y_test1, cv_pred1))\n",
    "confusion1 = pd.DataFrame(conmat1, index=cv_model1.classes_, columns=cv_model1.classes_)    \n",
    "originalconf1=confusion1\n",
    "logregy_test1=y_test1"
   ]
  },
  {
   "cell_type": "markdown",
   "metadata": {},
   "source": [
    "The upper limit of coefficient correlation is set at 0.4. Thus, the coefficients we are using show independence."
   ]
  },
  {
   "cell_type": "code",
   "execution_count": 17,
   "metadata": {
    "collapsed": false,
    "scrolled": false
   },
   "outputs": [
    {
     "data": {
      "text/html": [
       "\n",
       "        <style  type=\"text/css\" >\n",
       "        \n",
       "        \n",
       "            #T_49c04ae6_be41_11e6_b19a_3c15c2bbd21arow0_col0 {\n",
       "            \n",
       "                background-color:  Red;\n",
       "            \n",
       "            }\n",
       "        \n",
       "            #T_49c04ae6_be41_11e6_b19a_3c15c2bbd21arow0_col1 {\n",
       "            \n",
       "                background-color:  Lime;\n",
       "            \n",
       "            }\n",
       "        \n",
       "            #T_49c04ae6_be41_11e6_b19a_3c15c2bbd21arow0_col2 {\n",
       "            \n",
       "                background-color:  Lime;\n",
       "            \n",
       "            }\n",
       "        \n",
       "            #T_49c04ae6_be41_11e6_b19a_3c15c2bbd21arow0_col3 {\n",
       "            \n",
       "                background-color:  Lime;\n",
       "            \n",
       "            }\n",
       "        \n",
       "            #T_49c04ae6_be41_11e6_b19a_3c15c2bbd21arow0_col4 {\n",
       "            \n",
       "                background-color:  Lime;\n",
       "            \n",
       "            }\n",
       "        \n",
       "            #T_49c04ae6_be41_11e6_b19a_3c15c2bbd21arow0_col5 {\n",
       "            \n",
       "                background-color:  Lime;\n",
       "            \n",
       "            }\n",
       "        \n",
       "            #T_49c04ae6_be41_11e6_b19a_3c15c2bbd21arow0_col6 {\n",
       "            \n",
       "                background-color:  Lime;\n",
       "            \n",
       "            }\n",
       "        \n",
       "            #T_49c04ae6_be41_11e6_b19a_3c15c2bbd21arow0_col7 {\n",
       "            \n",
       "                background-color:  Lime;\n",
       "            \n",
       "            }\n",
       "        \n",
       "            #T_49c04ae6_be41_11e6_b19a_3c15c2bbd21arow1_col0 {\n",
       "            \n",
       "                background-color:  Lime;\n",
       "            \n",
       "            }\n",
       "        \n",
       "            #T_49c04ae6_be41_11e6_b19a_3c15c2bbd21arow1_col1 {\n",
       "            \n",
       "                background-color:  Red;\n",
       "            \n",
       "            }\n",
       "        \n",
       "            #T_49c04ae6_be41_11e6_b19a_3c15c2bbd21arow1_col2 {\n",
       "            \n",
       "                background-color:  Lime;\n",
       "            \n",
       "            }\n",
       "        \n",
       "            #T_49c04ae6_be41_11e6_b19a_3c15c2bbd21arow1_col3 {\n",
       "            \n",
       "                background-color:  Lime;\n",
       "            \n",
       "            }\n",
       "        \n",
       "            #T_49c04ae6_be41_11e6_b19a_3c15c2bbd21arow1_col4 {\n",
       "            \n",
       "                background-color:  Lime;\n",
       "            \n",
       "            }\n",
       "        \n",
       "            #T_49c04ae6_be41_11e6_b19a_3c15c2bbd21arow1_col5 {\n",
       "            \n",
       "                background-color:  Lime;\n",
       "            \n",
       "            }\n",
       "        \n",
       "            #T_49c04ae6_be41_11e6_b19a_3c15c2bbd21arow1_col6 {\n",
       "            \n",
       "                background-color:  Lime;\n",
       "            \n",
       "            }\n",
       "        \n",
       "            #T_49c04ae6_be41_11e6_b19a_3c15c2bbd21arow1_col7 {\n",
       "            \n",
       "                background-color:  Lime;\n",
       "            \n",
       "            }\n",
       "        \n",
       "            #T_49c04ae6_be41_11e6_b19a_3c15c2bbd21arow2_col0 {\n",
       "            \n",
       "                background-color:  Lime;\n",
       "            \n",
       "            }\n",
       "        \n",
       "            #T_49c04ae6_be41_11e6_b19a_3c15c2bbd21arow2_col1 {\n",
       "            \n",
       "                background-color:  Lime;\n",
       "            \n",
       "            }\n",
       "        \n",
       "            #T_49c04ae6_be41_11e6_b19a_3c15c2bbd21arow2_col2 {\n",
       "            \n",
       "                background-color:  Red;\n",
       "            \n",
       "            }\n",
       "        \n",
       "            #T_49c04ae6_be41_11e6_b19a_3c15c2bbd21arow2_col3 {\n",
       "            \n",
       "                background-color:  Lime;\n",
       "            \n",
       "            }\n",
       "        \n",
       "            #T_49c04ae6_be41_11e6_b19a_3c15c2bbd21arow2_col4 {\n",
       "            \n",
       "                background-color:  Lime;\n",
       "            \n",
       "            }\n",
       "        \n",
       "            #T_49c04ae6_be41_11e6_b19a_3c15c2bbd21arow2_col5 {\n",
       "            \n",
       "                background-color:  Lime;\n",
       "            \n",
       "            }\n",
       "        \n",
       "            #T_49c04ae6_be41_11e6_b19a_3c15c2bbd21arow2_col6 {\n",
       "            \n",
       "                background-color:  Lime;\n",
       "            \n",
       "            }\n",
       "        \n",
       "            #T_49c04ae6_be41_11e6_b19a_3c15c2bbd21arow2_col7 {\n",
       "            \n",
       "                background-color:  Lime;\n",
       "            \n",
       "            }\n",
       "        \n",
       "            #T_49c04ae6_be41_11e6_b19a_3c15c2bbd21arow3_col0 {\n",
       "            \n",
       "                background-color:  Lime;\n",
       "            \n",
       "            }\n",
       "        \n",
       "            #T_49c04ae6_be41_11e6_b19a_3c15c2bbd21arow3_col1 {\n",
       "            \n",
       "                background-color:  Lime;\n",
       "            \n",
       "            }\n",
       "        \n",
       "            #T_49c04ae6_be41_11e6_b19a_3c15c2bbd21arow3_col2 {\n",
       "            \n",
       "                background-color:  Lime;\n",
       "            \n",
       "            }\n",
       "        \n",
       "            #T_49c04ae6_be41_11e6_b19a_3c15c2bbd21arow3_col3 {\n",
       "            \n",
       "                background-color:  Red;\n",
       "            \n",
       "            }\n",
       "        \n",
       "            #T_49c04ae6_be41_11e6_b19a_3c15c2bbd21arow3_col4 {\n",
       "            \n",
       "                background-color:  Lime;\n",
       "            \n",
       "            }\n",
       "        \n",
       "            #T_49c04ae6_be41_11e6_b19a_3c15c2bbd21arow3_col5 {\n",
       "            \n",
       "                background-color:  Lime;\n",
       "            \n",
       "            }\n",
       "        \n",
       "            #T_49c04ae6_be41_11e6_b19a_3c15c2bbd21arow3_col6 {\n",
       "            \n",
       "                background-color:  Lime;\n",
       "            \n",
       "            }\n",
       "        \n",
       "            #T_49c04ae6_be41_11e6_b19a_3c15c2bbd21arow3_col7 {\n",
       "            \n",
       "                background-color:  Lime;\n",
       "            \n",
       "            }\n",
       "        \n",
       "            #T_49c04ae6_be41_11e6_b19a_3c15c2bbd21arow4_col0 {\n",
       "            \n",
       "                background-color:  Lime;\n",
       "            \n",
       "            }\n",
       "        \n",
       "            #T_49c04ae6_be41_11e6_b19a_3c15c2bbd21arow4_col1 {\n",
       "            \n",
       "                background-color:  Lime;\n",
       "            \n",
       "            }\n",
       "        \n",
       "            #T_49c04ae6_be41_11e6_b19a_3c15c2bbd21arow4_col2 {\n",
       "            \n",
       "                background-color:  Lime;\n",
       "            \n",
       "            }\n",
       "        \n",
       "            #T_49c04ae6_be41_11e6_b19a_3c15c2bbd21arow4_col3 {\n",
       "            \n",
       "                background-color:  Lime;\n",
       "            \n",
       "            }\n",
       "        \n",
       "            #T_49c04ae6_be41_11e6_b19a_3c15c2bbd21arow4_col4 {\n",
       "            \n",
       "                background-color:  Red;\n",
       "            \n",
       "            }\n",
       "        \n",
       "            #T_49c04ae6_be41_11e6_b19a_3c15c2bbd21arow4_col5 {\n",
       "            \n",
       "                background-color:  Lime;\n",
       "            \n",
       "            }\n",
       "        \n",
       "            #T_49c04ae6_be41_11e6_b19a_3c15c2bbd21arow4_col6 {\n",
       "            \n",
       "                background-color:  Lime;\n",
       "            \n",
       "            }\n",
       "        \n",
       "            #T_49c04ae6_be41_11e6_b19a_3c15c2bbd21arow4_col7 {\n",
       "            \n",
       "                background-color:  Lime;\n",
       "            \n",
       "            }\n",
       "        \n",
       "            #T_49c04ae6_be41_11e6_b19a_3c15c2bbd21arow5_col0 {\n",
       "            \n",
       "                background-color:  Lime;\n",
       "            \n",
       "            }\n",
       "        \n",
       "            #T_49c04ae6_be41_11e6_b19a_3c15c2bbd21arow5_col1 {\n",
       "            \n",
       "                background-color:  Lime;\n",
       "            \n",
       "            }\n",
       "        \n",
       "            #T_49c04ae6_be41_11e6_b19a_3c15c2bbd21arow5_col2 {\n",
       "            \n",
       "                background-color:  Lime;\n",
       "            \n",
       "            }\n",
       "        \n",
       "            #T_49c04ae6_be41_11e6_b19a_3c15c2bbd21arow5_col3 {\n",
       "            \n",
       "                background-color:  Lime;\n",
       "            \n",
       "            }\n",
       "        \n",
       "            #T_49c04ae6_be41_11e6_b19a_3c15c2bbd21arow5_col4 {\n",
       "            \n",
       "                background-color:  Lime;\n",
       "            \n",
       "            }\n",
       "        \n",
       "            #T_49c04ae6_be41_11e6_b19a_3c15c2bbd21arow5_col5 {\n",
       "            \n",
       "                background-color:  Red;\n",
       "            \n",
       "            }\n",
       "        \n",
       "            #T_49c04ae6_be41_11e6_b19a_3c15c2bbd21arow5_col6 {\n",
       "            \n",
       "                background-color:  Lime;\n",
       "            \n",
       "            }\n",
       "        \n",
       "            #T_49c04ae6_be41_11e6_b19a_3c15c2bbd21arow5_col7 {\n",
       "            \n",
       "                background-color:  Lime;\n",
       "            \n",
       "            }\n",
       "        \n",
       "            #T_49c04ae6_be41_11e6_b19a_3c15c2bbd21arow6_col0 {\n",
       "            \n",
       "                background-color:  Lime;\n",
       "            \n",
       "            }\n",
       "        \n",
       "            #T_49c04ae6_be41_11e6_b19a_3c15c2bbd21arow6_col1 {\n",
       "            \n",
       "                background-color:  Lime;\n",
       "            \n",
       "            }\n",
       "        \n",
       "            #T_49c04ae6_be41_11e6_b19a_3c15c2bbd21arow6_col2 {\n",
       "            \n",
       "                background-color:  Lime;\n",
       "            \n",
       "            }\n",
       "        \n",
       "            #T_49c04ae6_be41_11e6_b19a_3c15c2bbd21arow6_col3 {\n",
       "            \n",
       "                background-color:  Lime;\n",
       "            \n",
       "            }\n",
       "        \n",
       "            #T_49c04ae6_be41_11e6_b19a_3c15c2bbd21arow6_col4 {\n",
       "            \n",
       "                background-color:  Lime;\n",
       "            \n",
       "            }\n",
       "        \n",
       "            #T_49c04ae6_be41_11e6_b19a_3c15c2bbd21arow6_col5 {\n",
       "            \n",
       "                background-color:  Lime;\n",
       "            \n",
       "            }\n",
       "        \n",
       "            #T_49c04ae6_be41_11e6_b19a_3c15c2bbd21arow6_col6 {\n",
       "            \n",
       "                background-color:  Red;\n",
       "            \n",
       "            }\n",
       "        \n",
       "            #T_49c04ae6_be41_11e6_b19a_3c15c2bbd21arow6_col7 {\n",
       "            \n",
       "                background-color:  Lime;\n",
       "            \n",
       "            }\n",
       "        \n",
       "            #T_49c04ae6_be41_11e6_b19a_3c15c2bbd21arow7_col0 {\n",
       "            \n",
       "                background-color:  Lime;\n",
       "            \n",
       "            }\n",
       "        \n",
       "            #T_49c04ae6_be41_11e6_b19a_3c15c2bbd21arow7_col1 {\n",
       "            \n",
       "                background-color:  Lime;\n",
       "            \n",
       "            }\n",
       "        \n",
       "            #T_49c04ae6_be41_11e6_b19a_3c15c2bbd21arow7_col2 {\n",
       "            \n",
       "                background-color:  Lime;\n",
       "            \n",
       "            }\n",
       "        \n",
       "            #T_49c04ae6_be41_11e6_b19a_3c15c2bbd21arow7_col3 {\n",
       "            \n",
       "                background-color:  Lime;\n",
       "            \n",
       "            }\n",
       "        \n",
       "            #T_49c04ae6_be41_11e6_b19a_3c15c2bbd21arow7_col4 {\n",
       "            \n",
       "                background-color:  Lime;\n",
       "            \n",
       "            }\n",
       "        \n",
       "            #T_49c04ae6_be41_11e6_b19a_3c15c2bbd21arow7_col5 {\n",
       "            \n",
       "                background-color:  Lime;\n",
       "            \n",
       "            }\n",
       "        \n",
       "            #T_49c04ae6_be41_11e6_b19a_3c15c2bbd21arow7_col6 {\n",
       "            \n",
       "                background-color:  Lime;\n",
       "            \n",
       "            }\n",
       "        \n",
       "            #T_49c04ae6_be41_11e6_b19a_3c15c2bbd21arow7_col7 {\n",
       "            \n",
       "                background-color:  Red;\n",
       "            \n",
       "            }\n",
       "        \n",
       "        </style>\n",
       "\n",
       "        <table id=\"T_49c04ae6_be41_11e6_b19a_3c15c2bbd21a\" None>\n",
       "        \n",
       "\n",
       "        <thead>\n",
       "            \n",
       "            <tr>\n",
       "                \n",
       "                \n",
       "                <th class=\"blank level0\" >\n",
       "                  \n",
       "                \n",
       "                \n",
       "                \n",
       "                <th class=\"col_heading level0 col0\" colspan=1>\n",
       "                  SibSp\n",
       "                \n",
       "                \n",
       "                \n",
       "                <th class=\"col_heading level0 col1\" colspan=1>\n",
       "                  Pclass-Sex_1male\n",
       "                \n",
       "                \n",
       "                \n",
       "                <th class=\"col_heading level0 col2\" colspan=1>\n",
       "                  Pclass-Sex_2female\n",
       "                \n",
       "                \n",
       "                \n",
       "                <th class=\"col_heading level0 col3\" colspan=1>\n",
       "                  Pclass-Sex_2male\n",
       "                \n",
       "                \n",
       "                \n",
       "                <th class=\"col_heading level0 col4\" colspan=1>\n",
       "                  Pclass-Sex_3female\n",
       "                \n",
       "                \n",
       "                \n",
       "                <th class=\"col_heading level0 col5\" colspan=1>\n",
       "                  Pclass-Sex_3male\n",
       "                \n",
       "                \n",
       "                \n",
       "                <th class=\"col_heading level0 col6\" colspan=1>\n",
       "                  Embarked_C\n",
       "                \n",
       "                \n",
       "                \n",
       "                <th class=\"col_heading level0 col7\" colspan=1>\n",
       "                  Embarked_Q\n",
       "                \n",
       "                \n",
       "            </tr>\n",
       "            \n",
       "        </thead>\n",
       "        <tbody>\n",
       "            \n",
       "            <tr>\n",
       "                \n",
       "                \n",
       "                <th id=\"T_49c04ae6_be41_11e6_b19a_3c15c2bbd21a\"\n",
       "                 class=\"row_heading level0 row0\" rowspan=1>\n",
       "                    SibSp\n",
       "                \n",
       "                \n",
       "                \n",
       "                <td id=\"T_49c04ae6_be41_11e6_b19a_3c15c2bbd21arow0_col0\"\n",
       "                 class=\"data row0 col0\" >\n",
       "                    1\n",
       "                \n",
       "                \n",
       "                \n",
       "                <td id=\"T_49c04ae6_be41_11e6_b19a_3c15c2bbd21arow0_col1\"\n",
       "                 class=\"data row0 col1\" >\n",
       "                    -0.0764475\n",
       "                \n",
       "                \n",
       "                \n",
       "                <td id=\"T_49c04ae6_be41_11e6_b19a_3c15c2bbd21arow0_col2\"\n",
       "                 class=\"data row0 col2\" >\n",
       "                    -0.0100206\n",
       "                \n",
       "                \n",
       "                \n",
       "                <td id=\"T_49c04ae6_be41_11e6_b19a_3c15c2bbd21arow0_col3\"\n",
       "                 class=\"data row0 col3\" >\n",
       "                    -0.0607958\n",
       "                \n",
       "                \n",
       "                \n",
       "                <td id=\"T_49c04ae6_be41_11e6_b19a_3c15c2bbd21arow0_col4\"\n",
       "                 class=\"data row0 col4\" >\n",
       "                    0.148524\n",
       "                \n",
       "                \n",
       "                \n",
       "                <td id=\"T_49c04ae6_be41_11e6_b19a_3c15c2bbd21arow0_col5\"\n",
       "                 class=\"data row0 col5\" >\n",
       "                    -0.0177171\n",
       "                \n",
       "                \n",
       "                \n",
       "                <td id=\"T_49c04ae6_be41_11e6_b19a_3c15c2bbd21arow0_col6\"\n",
       "                 class=\"data row0 col6\" >\n",
       "                    -0.0595282\n",
       "                \n",
       "                \n",
       "                \n",
       "                <td id=\"T_49c04ae6_be41_11e6_b19a_3c15c2bbd21arow0_col7\"\n",
       "                 class=\"data row0 col7\" >\n",
       "                    -0.0263537\n",
       "                \n",
       "                \n",
       "            </tr>\n",
       "            \n",
       "            <tr>\n",
       "                \n",
       "                \n",
       "                <th id=\"T_49c04ae6_be41_11e6_b19a_3c15c2bbd21a\"\n",
       "                 class=\"row_heading level0 row1\" rowspan=1>\n",
       "                    Pclass-Sex_1male\n",
       "                \n",
       "                \n",
       "                \n",
       "                <td id=\"T_49c04ae6_be41_11e6_b19a_3c15c2bbd21arow1_col0\"\n",
       "                 class=\"data row1 col0\" >\n",
       "                    -0.0764475\n",
       "                \n",
       "                \n",
       "                \n",
       "                <td id=\"T_49c04ae6_be41_11e6_b19a_3c15c2bbd21arow1_col1\"\n",
       "                 class=\"data row1 col1\" >\n",
       "                    1\n",
       "                \n",
       "                \n",
       "                \n",
       "                <td id=\"T_49c04ae6_be41_11e6_b19a_3c15c2bbd21arow1_col2\"\n",
       "                 class=\"data row1 col2\" >\n",
       "                    -0.121631\n",
       "                \n",
       "                \n",
       "                \n",
       "                <td id=\"T_49c04ae6_be41_11e6_b19a_3c15c2bbd21arow1_col3\"\n",
       "                 class=\"data row1 col3\" >\n",
       "                    -0.147927\n",
       "                \n",
       "                \n",
       "                \n",
       "                <td id=\"T_49c04ae6_be41_11e6_b19a_3c15c2bbd21arow1_col4\"\n",
       "                 class=\"data row1 col4\" >\n",
       "                    -0.174879\n",
       "                \n",
       "                \n",
       "                \n",
       "                <td id=\"T_49c04ae6_be41_11e6_b19a_3c15c2bbd21arow1_col5\"\n",
       "                 class=\"data row1 col5\" >\n",
       "                    -0.318113\n",
       "                \n",
       "                \n",
       "                \n",
       "                <td id=\"T_49c04ae6_be41_11e6_b19a_3c15c2bbd21arow1_col6\"\n",
       "                 class=\"data row1 col6\" >\n",
       "                    0.158558\n",
       "                \n",
       "                \n",
       "                \n",
       "                <td id=\"T_49c04ae6_be41_11e6_b19a_3c15c2bbd21arow1_col7\"\n",
       "                 class=\"data row1 col7\" >\n",
       "                    -0.110885\n",
       "                \n",
       "                \n",
       "            </tr>\n",
       "            \n",
       "            <tr>\n",
       "                \n",
       "                \n",
       "                <th id=\"T_49c04ae6_be41_11e6_b19a_3c15c2bbd21a\"\n",
       "                 class=\"row_heading level0 row2\" rowspan=1>\n",
       "                    Pclass-Sex_2female\n",
       "                \n",
       "                \n",
       "                \n",
       "                <td id=\"T_49c04ae6_be41_11e6_b19a_3c15c2bbd21arow2_col0\"\n",
       "                 class=\"data row2 col0\" >\n",
       "                    -0.0100206\n",
       "                \n",
       "                \n",
       "                \n",
       "                <td id=\"T_49c04ae6_be41_11e6_b19a_3c15c2bbd21arow2_col1\"\n",
       "                 class=\"data row2 col1\" >\n",
       "                    -0.121631\n",
       "                \n",
       "                \n",
       "                \n",
       "                <td id=\"T_49c04ae6_be41_11e6_b19a_3c15c2bbd21arow2_col2\"\n",
       "                 class=\"data row2 col2\" >\n",
       "                    1\n",
       "                \n",
       "                \n",
       "                \n",
       "                <td id=\"T_49c04ae6_be41_11e6_b19a_3c15c2bbd21arow2_col3\"\n",
       "                 class=\"data row2 col3\" >\n",
       "                    -0.113412\n",
       "                \n",
       "                \n",
       "                \n",
       "                <td id=\"T_49c04ae6_be41_11e6_b19a_3c15c2bbd21arow2_col4\"\n",
       "                 class=\"data row2 col4\" >\n",
       "                    -0.134075\n",
       "                \n",
       "                \n",
       "                \n",
       "                <td id=\"T_49c04ae6_be41_11e6_b19a_3c15c2bbd21arow2_col5\"\n",
       "                 class=\"data row2 col5\" >\n",
       "                    -0.24389\n",
       "                \n",
       "                \n",
       "                \n",
       "                <td id=\"T_49c04ae6_be41_11e6_b19a_3c15c2bbd21arow2_col6\"\n",
       "                 class=\"data row2 col6\" >\n",
       "                    -0.0752957\n",
       "                \n",
       "                \n",
       "                \n",
       "                <td id=\"T_49c04ae6_be41_11e6_b19a_3c15c2bbd21arow2_col7\"\n",
       "                 class=\"data row2 col7\" >\n",
       "                    -0.0653208\n",
       "                \n",
       "                \n",
       "            </tr>\n",
       "            \n",
       "            <tr>\n",
       "                \n",
       "                \n",
       "                <th id=\"T_49c04ae6_be41_11e6_b19a_3c15c2bbd21a\"\n",
       "                 class=\"row_heading level0 row3\" rowspan=1>\n",
       "                    Pclass-Sex_2male\n",
       "                \n",
       "                \n",
       "                \n",
       "                <td id=\"T_49c04ae6_be41_11e6_b19a_3c15c2bbd21arow3_col0\"\n",
       "                 class=\"data row3 col0\" >\n",
       "                    -0.0607958\n",
       "                \n",
       "                \n",
       "                \n",
       "                <td id=\"T_49c04ae6_be41_11e6_b19a_3c15c2bbd21arow3_col1\"\n",
       "                 class=\"data row3 col1\" >\n",
       "                    -0.147927\n",
       "                \n",
       "                \n",
       "                \n",
       "                <td id=\"T_49c04ae6_be41_11e6_b19a_3c15c2bbd21arow3_col2\"\n",
       "                 class=\"data row3 col2\" >\n",
       "                    -0.113412\n",
       "                \n",
       "                \n",
       "                \n",
       "                <td id=\"T_49c04ae6_be41_11e6_b19a_3c15c2bbd21arow3_col3\"\n",
       "                 class=\"data row3 col3\" >\n",
       "                    1\n",
       "                \n",
       "                \n",
       "                \n",
       "                <td id=\"T_49c04ae6_be41_11e6_b19a_3c15c2bbd21arow3_col4\"\n",
       "                 class=\"data row3 col4\" >\n",
       "                    -0.163062\n",
       "                \n",
       "                \n",
       "                \n",
       "                <td id=\"T_49c04ae6_be41_11e6_b19a_3c15c2bbd21arow3_col5\"\n",
       "                 class=\"data row3 col5\" >\n",
       "                    -0.296617\n",
       "                \n",
       "                \n",
       "                \n",
       "                <td id=\"T_49c04ae6_be41_11e6_b19a_3c15c2bbd21arow3_col6\"\n",
       "                 class=\"data row3 col6\" >\n",
       "                    -0.0911115\n",
       "                \n",
       "                \n",
       "                \n",
       "                <td id=\"T_49c04ae6_be41_11e6_b19a_3c15c2bbd21arow3_col7\"\n",
       "                 class=\"data row3 col7\" >\n",
       "                    -0.101987\n",
       "                \n",
       "                \n",
       "            </tr>\n",
       "            \n",
       "            <tr>\n",
       "                \n",
       "                \n",
       "                <th id=\"T_49c04ae6_be41_11e6_b19a_3c15c2bbd21a\"\n",
       "                 class=\"row_heading level0 row4\" rowspan=1>\n",
       "                    Pclass-Sex_3female\n",
       "                \n",
       "                \n",
       "                \n",
       "                <td id=\"T_49c04ae6_be41_11e6_b19a_3c15c2bbd21arow4_col0\"\n",
       "                 class=\"data row4 col0\" >\n",
       "                    0.148524\n",
       "                \n",
       "                \n",
       "                \n",
       "                <td id=\"T_49c04ae6_be41_11e6_b19a_3c15c2bbd21arow4_col1\"\n",
       "                 class=\"data row4 col1\" >\n",
       "                    -0.174879\n",
       "                \n",
       "                \n",
       "                \n",
       "                <td id=\"T_49c04ae6_be41_11e6_b19a_3c15c2bbd21arow4_col2\"\n",
       "                 class=\"data row4 col2\" >\n",
       "                    -0.134075\n",
       "                \n",
       "                \n",
       "                \n",
       "                <td id=\"T_49c04ae6_be41_11e6_b19a_3c15c2bbd21arow4_col3\"\n",
       "                 class=\"data row4 col3\" >\n",
       "                    -0.163062\n",
       "                \n",
       "                \n",
       "                \n",
       "                <td id=\"T_49c04ae6_be41_11e6_b19a_3c15c2bbd21arow4_col4\"\n",
       "                 class=\"data row4 col4\" >\n",
       "                    1\n",
       "                \n",
       "                \n",
       "                \n",
       "                <td id=\"T_49c04ae6_be41_11e6_b19a_3c15c2bbd21arow4_col5\"\n",
       "                 class=\"data row4 col5\" >\n",
       "                    -0.35066\n",
       "                \n",
       "                \n",
       "                \n",
       "                <td id=\"T_49c04ae6_be41_11e6_b19a_3c15c2bbd21arow4_col6\"\n",
       "                 class=\"data row4 col6\" >\n",
       "                    -0.0323608\n",
       "                \n",
       "                \n",
       "                \n",
       "                <td id=\"T_49c04ae6_be41_11e6_b19a_3c15c2bbd21arow4_col7\"\n",
       "                 class=\"data row4 col7\" >\n",
       "                    0.223053\n",
       "                \n",
       "                \n",
       "            </tr>\n",
       "            \n",
       "            <tr>\n",
       "                \n",
       "                \n",
       "                <th id=\"T_49c04ae6_be41_11e6_b19a_3c15c2bbd21a\"\n",
       "                 class=\"row_heading level0 row5\" rowspan=1>\n",
       "                    Pclass-Sex_3male\n",
       "                \n",
       "                \n",
       "                \n",
       "                <td id=\"T_49c04ae6_be41_11e6_b19a_3c15c2bbd21arow5_col0\"\n",
       "                 class=\"data row5 col0\" >\n",
       "                    -0.0177171\n",
       "                \n",
       "                \n",
       "                \n",
       "                <td id=\"T_49c04ae6_be41_11e6_b19a_3c15c2bbd21arow5_col1\"\n",
       "                 class=\"data row5 col1\" >\n",
       "                    -0.318113\n",
       "                \n",
       "                \n",
       "                \n",
       "                <td id=\"T_49c04ae6_be41_11e6_b19a_3c15c2bbd21arow5_col2\"\n",
       "                 class=\"data row5 col2\" >\n",
       "                    -0.24389\n",
       "                \n",
       "                \n",
       "                \n",
       "                <td id=\"T_49c04ae6_be41_11e6_b19a_3c15c2bbd21arow5_col3\"\n",
       "                 class=\"data row5 col3\" >\n",
       "                    -0.296617\n",
       "                \n",
       "                \n",
       "                \n",
       "                <td id=\"T_49c04ae6_be41_11e6_b19a_3c15c2bbd21arow5_col4\"\n",
       "                 class=\"data row5 col4\" >\n",
       "                    -0.35066\n",
       "                \n",
       "                \n",
       "                \n",
       "                <td id=\"T_49c04ae6_be41_11e6_b19a_3c15c2bbd21arow5_col5\"\n",
       "                 class=\"data row5 col5\" >\n",
       "                    1\n",
       "                \n",
       "                \n",
       "                \n",
       "                <td id=\"T_49c04ae6_be41_11e6_b19a_3c15c2bbd21arow5_col6\"\n",
       "                 class=\"data row5 col6\" >\n",
       "                    -0.131969\n",
       "                \n",
       "                \n",
       "                \n",
       "                <td id=\"T_49c04ae6_be41_11e6_b19a_3c15c2bbd21arow5_col7\"\n",
       "                 class=\"data row5 col7\" >\n",
       "                    0.0738234\n",
       "                \n",
       "                \n",
       "            </tr>\n",
       "            \n",
       "            <tr>\n",
       "                \n",
       "                \n",
       "                <th id=\"T_49c04ae6_be41_11e6_b19a_3c15c2bbd21a\"\n",
       "                 class=\"row_heading level0 row6\" rowspan=1>\n",
       "                    Embarked_C\n",
       "                \n",
       "                \n",
       "                \n",
       "                <td id=\"T_49c04ae6_be41_11e6_b19a_3c15c2bbd21arow6_col0\"\n",
       "                 class=\"data row6 col0\" >\n",
       "                    -0.0595282\n",
       "                \n",
       "                \n",
       "                \n",
       "                <td id=\"T_49c04ae6_be41_11e6_b19a_3c15c2bbd21arow6_col1\"\n",
       "                 class=\"data row6 col1\" >\n",
       "                    0.158558\n",
       "                \n",
       "                \n",
       "                \n",
       "                <td id=\"T_49c04ae6_be41_11e6_b19a_3c15c2bbd21arow6_col2\"\n",
       "                 class=\"data row6 col2\" >\n",
       "                    -0.0752957\n",
       "                \n",
       "                \n",
       "                \n",
       "                <td id=\"T_49c04ae6_be41_11e6_b19a_3c15c2bbd21arow6_col3\"\n",
       "                 class=\"data row6 col3\" >\n",
       "                    -0.0911115\n",
       "                \n",
       "                \n",
       "                \n",
       "                <td id=\"T_49c04ae6_be41_11e6_b19a_3c15c2bbd21arow6_col4\"\n",
       "                 class=\"data row6 col4\" >\n",
       "                    -0.0323608\n",
       "                \n",
       "                \n",
       "                \n",
       "                <td id=\"T_49c04ae6_be41_11e6_b19a_3c15c2bbd21arow6_col5\"\n",
       "                 class=\"data row6 col5\" >\n",
       "                    -0.131969\n",
       "                \n",
       "                \n",
       "                \n",
       "                <td id=\"T_49c04ae6_be41_11e6_b19a_3c15c2bbd21arow6_col6\"\n",
       "                 class=\"data row6 col6\" >\n",
       "                    1\n",
       "                \n",
       "                \n",
       "                \n",
       "                <td id=\"T_49c04ae6_be41_11e6_b19a_3c15c2bbd21arow6_col7\"\n",
       "                 class=\"data row6 col7\" >\n",
       "                    -0.148258\n",
       "                \n",
       "                \n",
       "            </tr>\n",
       "            \n",
       "            <tr>\n",
       "                \n",
       "                \n",
       "                <th id=\"T_49c04ae6_be41_11e6_b19a_3c15c2bbd21a\"\n",
       "                 class=\"row_heading level0 row7\" rowspan=1>\n",
       "                    Embarked_Q\n",
       "                \n",
       "                \n",
       "                \n",
       "                <td id=\"T_49c04ae6_be41_11e6_b19a_3c15c2bbd21arow7_col0\"\n",
       "                 class=\"data row7 col0\" >\n",
       "                    -0.0263537\n",
       "                \n",
       "                \n",
       "                \n",
       "                <td id=\"T_49c04ae6_be41_11e6_b19a_3c15c2bbd21arow7_col1\"\n",
       "                 class=\"data row7 col1\" >\n",
       "                    -0.110885\n",
       "                \n",
       "                \n",
       "                \n",
       "                <td id=\"T_49c04ae6_be41_11e6_b19a_3c15c2bbd21arow7_col2\"\n",
       "                 class=\"data row7 col2\" >\n",
       "                    -0.0653208\n",
       "                \n",
       "                \n",
       "                \n",
       "                <td id=\"T_49c04ae6_be41_11e6_b19a_3c15c2bbd21arow7_col3\"\n",
       "                 class=\"data row7 col3\" >\n",
       "                    -0.101987\n",
       "                \n",
       "                \n",
       "                \n",
       "                <td id=\"T_49c04ae6_be41_11e6_b19a_3c15c2bbd21arow7_col4\"\n",
       "                 class=\"data row7 col4\" >\n",
       "                    0.223053\n",
       "                \n",
       "                \n",
       "                \n",
       "                <td id=\"T_49c04ae6_be41_11e6_b19a_3c15c2bbd21arow7_col5\"\n",
       "                 class=\"data row7 col5\" >\n",
       "                    0.0738234\n",
       "                \n",
       "                \n",
       "                \n",
       "                <td id=\"T_49c04ae6_be41_11e6_b19a_3c15c2bbd21arow7_col6\"\n",
       "                 class=\"data row7 col6\" >\n",
       "                    -0.148258\n",
       "                \n",
       "                \n",
       "                \n",
       "                <td id=\"T_49c04ae6_be41_11e6_b19a_3c15c2bbd21arow7_col7\"\n",
       "                 class=\"data row7 col7\" >\n",
       "                    1\n",
       "                \n",
       "                \n",
       "            </tr>\n",
       "            \n",
       "        </tbody>\n",
       "        </table>\n",
       "        "
      ],
      "text/plain": [
       "<pandas.formats.style.Styler at 0x11bc5a5d0>"
      ]
     },
     "execution_count": 17,
     "metadata": {},
     "output_type": "execute_result"
    }
   ],
   "source": [
    "def color(x):\n",
    "    color=\"Lime\"\n",
    "    if np.abs(x)>0.4:\n",
    "        color=\"Red\"\n",
    "    return 'background-color: %s' %color\n",
    "\n",
    "temp1.corr().style.applymap(color)"
   ]
  },
  {
   "cell_type": "code",
   "execution_count": null,
   "metadata": {
    "collapsed": false
   },
   "outputs": [],
   "source": [
    "###NOTE, WE ARE ONLY USING RANDOM_STATE=1; WE ARE NOT AVERAGING LIKE WE WILL DO BELOW\n",
    "\n",
    "x_train2,x_test2,y_train2,y_test2=train_test_split(temp2,target,random_state=1)\n",
    "logreg=LogisticRegressionCV(cv=5)\n",
    "cv_model2=logreg.fit(x_train2,y_train2)\n",
    "cv_pred2=cv_model2.predict(x_test2)\n",
    "conmat2 = np.array(confusion_matrix(y_test2, cv_pred2))\n",
    "confusion2 = pd.DataFrame(conmat2, index=cv_model2.classes_, columns=cv_model2.classes_)    \n",
    "logregy_test2=y_test2"
   ]
  },
  {
   "cell_type": "markdown",
   "metadata": {},
   "source": [
    "Again, the upper limit of coefficient correlation is set at 0.4. Thus, again, the coefficients we are using show independence."
   ]
  },
  {
   "cell_type": "code",
   "execution_count": null,
   "metadata": {
    "collapsed": false,
    "scrolled": false
   },
   "outputs": [],
   "source": [
    "def color(x):\n",
    "    color=\"Lime\"\n",
    "    if np.abs(x)>0.4:\n",
    "        color=\"Red\"\n",
    "    return 'background-color: %s' %color\n",
    "\n",
    "temp2.corr().style.applymap(color)"
   ]
  },
  {
   "cell_type": "markdown",
   "metadata": {},
   "source": [
    "#### 4. Examine the coefficients to see our correlations"
   ]
  },
  {
   "cell_type": "markdown",
   "metadata": {},
   "source": [
    "My apologies if I did this in the step before; I was not sure what was meant by this question. The question could have either meant the correlations between the independent variables with eachother, or the independent variables with the dependent variable."
   ]
  },
  {
   "cell_type": "code",
   "execution_count": null,
   "metadata": {
    "collapsed": false
   },
   "outputs": [],
   "source": [
    "coef1=pd.DataFrame([x_train1.columns,cv_model1.coef_[0]])\n",
    "coef1=coef1.T\n",
    "coef1.columns=[\"Coefficient\",\"Value\"]\n",
    "coef1"
   ]
  },
  {
   "cell_type": "code",
   "execution_count": null,
   "metadata": {
    "collapsed": false
   },
   "outputs": [],
   "source": [
    "coef2=pd.DataFrame([x_train2.columns,cv_model2.coef_[0]])\n",
    "coef2=coef2.T\n",
    "coef2.columns=[\"Coefficient\",\"Value\"]\n",
    "coef2"
   ]
  },
  {
   "cell_type": "markdown",
   "metadata": {},
   "source": [
    "#### 6. Test the Model by introducing a *Test* or *Validaton* set "
   ]
  },
  {
   "cell_type": "markdown",
   "metadata": {
    "collapsed": true
   },
   "source": [
    "Done above."
   ]
  },
  {
   "cell_type": "markdown",
   "metadata": {},
   "source": [
    "#### 7. Predict the class labels for the *Test* set"
   ]
  },
  {
   "cell_type": "code",
   "execution_count": null,
   "metadata": {
    "collapsed": false
   },
   "outputs": [],
   "source": [
    "cv_pred1"
   ]
  },
  {
   "cell_type": "code",
   "execution_count": null,
   "metadata": {
    "collapsed": false
   },
   "outputs": [],
   "source": [
    "cv_pred2"
   ]
  },
  {
   "cell_type": "markdown",
   "metadata": {},
   "source": [
    "#### 8. Predict the class probabilities for the *Test* set"
   ]
  },
  {
   "cell_type": "code",
   "execution_count": null,
   "metadata": {
    "collapsed": false
   },
   "outputs": [],
   "source": [
    "cv_proba1=cv_model1.predict_proba(x_test1)\n",
    "cv_proba1"
   ]
  },
  {
   "cell_type": "code",
   "execution_count": null,
   "metadata": {
    "collapsed": false
   },
   "outputs": [],
   "source": [
    "cv_proba2=cv_model2.predict_proba(x_test2)\n",
    "cv_proba2"
   ]
  },
  {
   "cell_type": "markdown",
   "metadata": {},
   "source": [
    "#### 9. Evaluate the *Test* set"
   ]
  },
  {
   "cell_type": "code",
   "execution_count": null,
   "metadata": {
    "collapsed": false
   },
   "outputs": [],
   "source": [
    "print \"----------------------------------------------------- \\n\"\n",
    "print  \"Using 'Pclass-Sex' Dummies and 'SibSp': \\n\"\n",
    "print(confusion1),\"\\n\"\n",
    "print classification_report(y_test1,cv_pred1, target_names=[\"Dead\",\"Alive\"])\n",
    "print \"----------------------------------------------------- \\n\"\n",
    "print  \"Using 'Age-Sex' Dummies: \\n\"\n",
    "print(confusion2),\"\\n\"\n",
    "print classification_report(y_test2,cv_pred2, target_names=[\"Dead\",\"Alive\"])\n",
    "print \"-----------------------------------------------------\""
   ]
  },
  {
   "cell_type": "markdown",
   "metadata": {},
   "source": [
    "#### 10. Cross validate the test set"
   ]
  },
  {
   "cell_type": "code",
   "execution_count": null,
   "metadata": {
    "collapsed": false
   },
   "outputs": [],
   "source": [
    "print \"Average Cross-Val Score Model-1:\",np.mean(cross_val_score(cv_model1,x_test1,y_test1,cv=5))\n",
    "print \"Average Cross-Val Score Model-2:\",np.mean(cross_val_score(cv_model2,x_test2,y_test2,cv=5))"
   ]
  },
  {
   "cell_type": "markdown",
   "metadata": {},
   "source": [
    "#### 11. Check the Classification Report"
   ]
  },
  {
   "cell_type": "code",
   "execution_count": null,
   "metadata": {
    "collapsed": false
   },
   "outputs": [],
   "source": [
    "print \"----------------------------------------------------- \\n\"\n",
    "print  \"Using 'Pclass-Sex' Dummies and 'SibSp' \\n\"\n",
    "print classification_report(y_test1,cv_pred1, target_names=[\"Dead\",\"Alive\"])\n",
    "print \"----------------------------------------------------- \\n\"\n",
    "print  \"Using 'Age-Sex' Dummies \\n\"\n",
    "print classification_report(y_test2,cv_pred2, target_names=[\"Dead\",\"Alive\"])\n",
    "print \"-----------------------------------------------------\""
   ]
  },
  {
   "cell_type": "markdown",
   "metadata": {},
   "source": [
    "#### 12. What do the classification metrics tell us?"
   ]
  },
  {
   "cell_type": "markdown",
   "metadata": {},
   "source": [
    "It states the precision, recall, and f1 scores for the Dead and Alive bins. Furthermore, the support column states how many names are in each bin. I like to use the f1-score as a basis for the predictive power of a logistic regression. The closer to 1.0 it is, the more accurate the regression is. What makes the classification report so useful is that it breaks down the categorical accuracy of the model in an intuitive way."
   ]
  },
  {
   "cell_type": "markdown",
   "metadata": {},
   "source": [
    "#### 13. Check the Confusion Matrix"
   ]
  },
  {
   "cell_type": "code",
   "execution_count": null,
   "metadata": {
    "collapsed": false
   },
   "outputs": [],
   "source": [
    "print(confusion1)\n",
    "print confusion2"
   ]
  },
  {
   "cell_type": "markdown",
   "metadata": {},
   "source": [
    "#### 14. What does the Confusion Matrix tell us? "
   ]
  },
  {
   "cell_type": "markdown",
   "metadata": {},
   "source": [
    "The confusion matrix matches the predicted values with the actual values. From this, the precision, recall, and f1-scores can be determined. More importantly though, the confusion matrix is a more intuitive approach to our results."
   ]
  },
  {
   "cell_type": "markdown",
   "metadata": {},
   "source": [
    "#### 15. Plot the ROC curve"
   ]
  },
  {
   "cell_type": "markdown",
   "metadata": {},
   "source": [
    "Model-1 corresponds uses 'Pclass-Sex' Dummies and 'SibSp' \n",
    "\n",
    "Model-2 corresponds uses 'Age-Sex' Dummies "
   ]
  },
  {
   "cell_type": "code",
   "execution_count": null,
   "metadata": {
    "collapsed": false
   },
   "outputs": [],
   "source": [
    "for j in [1]:\n",
    "\n",
    "    FPR, TPR, _ = roc_curve(y_test1, [i[1] for i in cv_proba1], pos_label=logreg.classes_[j])\n",
    "    ROC_AUC = auc(FPR, TPR)\n",
    "\n",
    "    amounts = logreg.classes_\n",
    "    title = \"ROC of Model-1\".format(amounts[0], amounts[1])\n",
    "\n",
    "    plt.figure(figsize=[5,4])\n",
    "    plt.plot(FPR, TPR, label='ROC curve (area = %0.2f)' % ROC_AUC, linewidth=4)\n",
    "    plt.plot([0, 1], [0, 1], 'k--', linewidth=4)\n",
    "    plt.xlim([0.0, 1.0])\n",
    "    plt.ylim([0.0, 1.05])\n",
    "    plt.xlabel('False Positive Rate', fontsize=18)\n",
    "    plt.ylabel('True Positive Rate', fontsize=18)\n",
    "    plt.title(title, fontsize=18)\n",
    "    plt.legend(loc=\"lower right\")\n",
    "    plt.show()\n",
    "    \n",
    "for j in [1]:\n",
    "\n",
    "    FPR, TPR, _ = roc_curve(y_test2, [i[1] for i in cv_proba2], pos_label=logreg.classes_[j])\n",
    "    ROC_AUC = auc(FPR, TPR)\n",
    "\n",
    "    amounts = logreg.classes_\n",
    "    title = \"ROC of Model-2\".format(amounts[0], amounts[1])\n",
    "\n",
    "    plt.figure(figsize=[5,4])\n",
    "    plt.plot(FPR, TPR, label='ROC curve (area = %0.2f)' % ROC_AUC, linewidth=4)\n",
    "    plt.plot([0, 1], [0, 1], 'k--', linewidth=4)\n",
    "    plt.xlim([0.0, 1.0])\n",
    "    plt.ylim([0.0, 1.05])\n",
    "    plt.xlabel('False Positive Rate', fontsize=18)\n",
    "    plt.ylabel('True Positive Rate', fontsize=18)\n",
    "    plt.title(title, fontsize=18)\n",
    "    plt.legend(loc=\"lower right\")\n",
    "    plt.show()"
   ]
  },
  {
   "cell_type": "markdown",
   "metadata": {},
   "source": [
    "#### 16. What does the ROC curve tell us?"
   ]
  },
  {
   "cell_type": "markdown",
   "metadata": {},
   "source": [
    "The ROC curve tells us the relationship between correctly predicting and incorrectly predicting whether someone is alive or dead. The curve is plotted by organizing the confidence scores of a model, and then plotting the true vs false predictions at different confidence levels. In some scenarios, one would want to maximize the AUC, but I prefer to go with maximizing the f1-score for this case."
   ]
  },
  {
   "cell_type": "markdown",
   "metadata": {},
   "source": [
    "## Part 5: Gridsearch"
   ]
  },
  {
   "cell_type": "markdown",
   "metadata": {},
   "source": [
    "#### 1. Use GridSearchCV with logistic regression to search for optimal parameters \n",
    "\n",
    "- Use the provided parameter grid. Feel free to add if you like (such as n_jobs).\n",
    "- Use 5-fold cross-validation."
   ]
  },
  {
   "cell_type": "markdown",
   "metadata": {},
   "source": [
    "On a side-note, the values I used in the gridsearch above created a stronger f1 score than the parameters below. I have provided those parameters from above directly below this cell."
   ]
  },
  {
   "cell_type": "code",
   "execution_count": null,
   "metadata": {
    "collapsed": false
   },
   "outputs": [],
   "source": [
    "###THIS IS FOR TEMP1 (GRIDSEARCH CELL)\n",
    "\n",
    "bestx0=0.\n",
    "bestx1=0.\n",
    "bestx2=0.\n",
    "bestf1=0.\n",
    "max_rand=4\n",
    "curr_f1=[]\n",
    "\n",
    "for x0_change in np.linspace(-.15,0.15,7):\n",
    "    curr_f1=[]\n",
    "    for random in range(1,max_rand):\n",
    "        x_train,x_test,y_train,y_test=train_test_split(temp1,target,\n",
    "                                                       stratify=target,random_state=random)\n",
    "        logreg = LogisticRegression(solver='liblinear') #'newton-cg', 'lbfgs', 'liblinear', 'sag'\n",
    "        C_vals = np.linspace(0.0000001,1.1,25)\n",
    "        penalties = ['l1','l2']\n",
    "\n",
    "        gs = GridSearchCV(logreg, {'penalty': penalties, 'C': C_vals}, cv=5)\n",
    "        gs.fit(x_train, y_train)\n",
    "\n",
    "        logreg = LogisticRegression(C=gs.best_params_['C'], penalty=gs.best_params_['penalty'])\n",
    "        cv_model = logreg.fit(x_train, y_train)\n",
    "        cv_pred = cv_model.predict(x_test)\n",
    "\n",
    "        prob = cv_model.predict_proba(x_test)\n",
    "        conmat = np.array(confusion_matrix(y_test, cv_pred))\n",
    "        confusion = pd.DataFrame(conmat, index=cv_model.classes_, columns=cv_model.classes_)      \n",
    "        conmat = np.array(confusion_matrix(y_test, cv_pred))\n",
    "        confusion = pd.DataFrame(conmat, index=cv_model.classes_, columns=cv_model.classes_)      \n",
    "        pred=[]\n",
    "        x0_change=bestx0\n",
    "        for x in prob.T[0]:\n",
    "            if (x+x0_change)>(0.5):\n",
    "                pred.append(cv_model.classes_[0])\n",
    "            else:\n",
    "                pred.append(cv_model.classes_[1])\n",
    "        cv_pred=pred\n",
    "\n",
    "        \"\"\" Check your performance so far.\"\"\"\n",
    "\n",
    "        conmat = np.array(confusion_matrix(y_test, cv_pred))\n",
    "        confusion = pd.DataFrame(conmat, index=cv_model.classes_, columns=cv_model.classes_)\n",
    "        curr_f1.append(float(classification_report(y_test,cv_pred)[-15:-11]))\n",
    "    if np.mean(curr_f1)>bestf1:\n",
    "        bestf1=np.mean(curr_f1)\n",
    "        bestx0=x0_change"
   ]
  },
  {
   "cell_type": "code",
   "execution_count": null,
   "metadata": {
    "collapsed": false
   },
   "outputs": [],
   "source": [
    "###THIS IS FOR TEMP1 (REGRESSION CELL)\n",
    "\n",
    "prec=[]\n",
    "recall=[]\n",
    "f1score=[]\n",
    "bestf1=[]\n",
    "max_rand=16\n",
    "\n",
    "for random in range(1,max_rand):\n",
    "    x_train,x_test,y_train,y_test=train_test_split(temp1,target,test_size=.33,stratify=target,\n",
    "                                                   random_state=random)\n",
    "    logreg = LogisticRegression(solver='liblinear') #'newton-cg', 'lbfgs', 'liblinear', 'sag'\n",
    "    C_vals = np.linspace(0.0000001,1.1,25)\n",
    "    penalties = ['l1','l2']\n",
    "\n",
    "    gs = GridSearchCV(logreg, {'penalty': penalties, 'C': C_vals}, cv=5)\n",
    "    gs.fit(x_train, y_train)\n",
    "\n",
    "    logreg = LogisticRegression(C=gs.best_params_['C'], penalty=gs.best_params_['penalty'])\n",
    "    cv_model = logreg.fit(x_train, y_train)\n",
    "    cv_pred = cv_model.predict(x_test)\n",
    "    prob = cv_model.predict_proba(x_test)\n",
    "    conmat = np.array(confusion_matrix(y_test, cv_pred))\n",
    "    confusion = pd.DataFrame(conmat, index=cv_model.classes_, columns=cv_model.classes_)      \n",
    "    conmat = np.array(confusion_matrix(y_test, cv_pred))\n",
    "    confusion = pd.DataFrame(conmat, index=cv_model.classes_, columns=cv_model.classes_)      \n",
    "    pred=[]\n",
    "    x0_change=bestx0\n",
    "    for x in prob.T[0]:\n",
    "        if (x+x0_change)>(0.5):\n",
    "            pred.append(cv_model.classes_[0])\n",
    "        else:\n",
    "            pred.append(cv_model.classes_[1])\n",
    "    cv_pred=pred\n",
    "\n",
    "    \"\"\" Check your performance so far.\"\"\"\n",
    "\n",
    "    conmat = np.array(confusion_matrix(y_test, cv_pred))\n",
    "    confusion = pd.DataFrame(conmat, index=cv_model.classes_, columns=cv_model.classes_)      \n",
    "    \n",
    "    prec.append(float(classification_report(y_test,cv_pred)[-35:-31]))\n",
    "    recall.append(float(classification_report(y_test,cv_pred)[-25:-21]))\n",
    "    f1score.append(float(classification_report(y_test,cv_pred)[-15:-11]))\n",
    "    bestf1.append(float(classification_report(y_test,cv_pred)[-15:-11]))\n",
    "\n"
   ]
  },
  {
   "cell_type": "code",
   "execution_count": null,
   "metadata": {
    "collapsed": false
   },
   "outputs": [],
   "source": [
    "print gs.best_params_"
   ]
  },
  {
   "cell_type": "code",
   "execution_count": null,
   "metadata": {
    "collapsed": false
   },
   "outputs": [],
   "source": [
    "###TEMP1 PRINT CELL\n",
    "report(max_rand,bestf1,bestx0,prec,recall,f1score,confusion,y_test,cv_pred,\"LogReg Model-1\")"
   ]
  },
  {
   "cell_type": "code",
   "execution_count": null,
   "metadata": {
    "collapsed": false
   },
   "outputs": [],
   "source": [
    "###THIS IS FOR TEMP2 (GRIDSEARCH CELL)\n",
    "\n",
    "bestx0=0.\n",
    "bestx1=0.\n",
    "bestx2=0.\n",
    "bestf1=0.\n",
    "max_rand=4\n",
    "curr_f1=[]\n",
    "\n",
    "for x0_change in np.linspace(-.15,0.15,7):\n",
    "    curr_f1=[]\n",
    "    for random in range(1,max_rand):\n",
    "        x_train,x_test,y_train,y_test=train_test_split(temp2,target,\n",
    "                                                       stratify=target,random_state=random)\n",
    "        logreg = LogisticRegression(solver='liblinear') #'newton-cg', 'lbfgs', 'liblinear', 'sag'\n",
    "        C_vals = np.linspace(0.0000001,1.1,25)\n",
    "        penalties = ['l1','l2']\n",
    "\n",
    "        gs = GridSearchCV(logreg, {'penalty': penalties, 'C': C_vals}, cv=5)\n",
    "        gs.fit(x_train, y_train)\n",
    "\n",
    "        logreg = LogisticRegression(C=gs.best_params_['C'], penalty=gs.best_params_['penalty'])\n",
    "        cv_model = logreg.fit(x_train, y_train)\n",
    "        cv_pred = cv_model.predict(x_test)\n",
    "        prob = cv_model.predict_proba(x_test)\n",
    "        conmat = np.array(confusion_matrix(y_test, cv_pred))\n",
    "        confusion = pd.DataFrame(conmat, index=cv_model.classes_, columns=cv_model.classes_)      \n",
    "        conmat = np.array(confusion_matrix(y_test, cv_pred))\n",
    "        confusion = pd.DataFrame(conmat, index=cv_model.classes_, columns=cv_model.classes_)      \n",
    "        pred=[]\n",
    "        x0_change=bestx0\n",
    "        for x in prob.T[0]:\n",
    "            if (x+x0_change)>(0.5):\n",
    "                pred.append(cv_model.classes_[0])\n",
    "            else:\n",
    "                pred.append(cv_model.classes_[1])\n",
    "        cv_pred=pred\n",
    "\n",
    "        y_test=np.array(y_test)\n",
    "        y_test=y_test.reshape((len(y_test),1))\n",
    "\n",
    "        \"\"\" Check your performance so far.\"\"\"\n",
    "\n",
    "        conmat = np.array(confusion_matrix(y_test, cv_pred))\n",
    "        confusion = pd.DataFrame(conmat, index=cv_model.classes_, columns=cv_model.classes_)\n",
    "        curr_f1.append(float(classification_report(y_test,cv_pred)[-15:-11]))\n",
    "    if np.mean(curr_f1)>bestf1:\n",
    "        bestf1=np.mean(curr_f1)\n",
    "        bestx0=x0_change"
   ]
  },
  {
   "cell_type": "code",
   "execution_count": null,
   "metadata": {
    "collapsed": true
   },
   "outputs": [],
   "source": [
    "###THIS IS FOR TEMP2 (REGERSSION CELL)\n",
    "\n",
    "prec=[]\n",
    "recall=[]\n",
    "f1score=[]\n",
    "bestf1=[]\n",
    "max_rand=6\n",
    "\n",
    "logreg_parameters = {\n",
    "    'penalty':['l1','l2'],\n",
    "    'C':np.logspace(-5,1,50),\n",
    "    'solver':['liblinear']\n",
    "}\n",
    "\n",
    "for random in range(1,max_rand):\n",
    "    x_train,x_test,y_train,y_test=train_test_split(temp2,target,test_size=.33,stratify=target,\n",
    "                                                   random_state=random)\n",
    "    logreg = LogisticRegression(solver='liblinear') #'newton-cg', 'lbfgs', 'liblinear', 'sag'\n",
    "    C_vals = [np.linspace(0.0000001,1.1,10)]\n",
    "    penalties = ['l1','l2']\n",
    "\n",
    "    gs = GridSearchCV(logreg, logreg_parameters, cv=5)\n",
    "    gs.fit(x_train, y_train)\n",
    "\n",
    "    logreg = LogisticRegression(C=gs.best_params_['C'], penalty=gs.best_params_['penalty'])\n",
    "    cv_model = logreg.fit(x_train, y_train)\n",
    "    cv_pred = cv_model.predict(x_test)\n",
    "    prob = cv_model.predict_proba(x_test)\n",
    "    conmat = np.array(confusion_matrix(y_test, cv_pred))\n",
    "    confusion = pd.DataFrame(conmat, index=cv_model.classes_, columns=cv_model.classes_)      \n",
    "    conmat = np.array(confusion_matrix(y_test, cv_pred))\n",
    "    confusion = pd.DataFrame(conmat, index=cv_model.classes_, columns=cv_model.classes_)      \n",
    "    pred=[]\n",
    "    x0_change=bestx0\n",
    "    for x in prob.T[0]:\n",
    "        if (x+x0_change)>(0.5):\n",
    "            pred.append(cv_model.classes_[0])\n",
    "        else:\n",
    "            pred.append(cv_model.classes_[1])\n",
    "    cv_pred=pred\n",
    "\n",
    "    \"\"\" Check your performance so far.\"\"\"\n",
    "\n",
    "    conmat = np.array(confusion_matrix(y_test, cv_pred))\n",
    "    confusion = pd.DataFrame(conmat, index=cv_model.classes_, columns=cv_model.classes_)      \n",
    "    \n",
    "    prec.append(float(classification_report(y_test,cv_pred)[-35:-31]))\n",
    "    recall.append(float(classification_report(y_test,cv_pred)[-25:-21]))\n",
    "    f1score.append(float(classification_report(y_test,cv_pred)[-15:-11]))\n",
    "    bestf1.append(float(classification_report(y_test,cv_pred)[-15:-11]))"
   ]
  },
  {
   "cell_type": "code",
   "execution_count": null,
   "metadata": {
    "collapsed": false,
    "scrolled": false
   },
   "outputs": [],
   "source": [
    "###TEMP2 PRINT CELL\n",
    "report(max_rand,bestf1,bestx0,prec,recall,f1score,confusion,y_test,cv_pred,\"LogReg Model-2\")\n",
    "print gs.best_score_"
   ]
  },
  {
   "cell_type": "markdown",
   "metadata": {},
   "source": [
    "Vanilla Logistic Regression BELOW (AGAIN)"
   ]
  },
  {
   "cell_type": "code",
   "execution_count": null,
   "metadata": {
    "collapsed": false
   },
   "outputs": [],
   "source": [
    "###TEMP1 Vanilla Regression repeat\n",
    "\n",
    "x_train,x_test,y_train,y_test=train_test_split(temp1,target,test_size=.33,stratify=target,random_state=random)\n",
    "prec=[]\n",
    "recall=[]\n",
    "f1score=[]\n",
    "bestf1=[]\n",
    "max_rand=11\n",
    "bestx0=0.\n",
    "for random in range(1,max_rand):\n",
    "    logreg = LogisticRegression()\n",
    "    cv_model = logreg.fit(x_train, y_train)\n",
    "    cv_pred = cv_model.predict(x_test)\n",
    "    y_score = cv_model.decision_function(x_test)\n",
    "    conmat = np.array(confusion_matrix(y_test, cv_pred))\n",
    "    confusion = pd.DataFrame(conmat, index=cv_model.classes_, columns=cv_model.classes_)      \n",
    "    conmat = np.array(confusion_matrix(y_test, cv_pred))\n",
    "    confusion = pd.DataFrame(conmat, index=cv_model.classes_, columns=cv_model.classes_)      \n",
    "    prec.append(float(classification_report(y_test,cv_pred)[-35:-31]))\n",
    "    recall.append(float(classification_report(y_test,cv_pred)[-25:-21]))\n",
    "    f1score.append(float(classification_report(y_test,cv_pred)[-15:-11]))\n",
    "    bestf1.append(float(classification_report(y_test,cv_pred)[-15:-11]))\n",
    "\n",
    "logreg_conf_1=confusion\n",
    "\n",
    "report(max_rand,bestf1,bestx0,prec,recall,f1score,confusion,y_test,cv_pred,\"Vanilla LogReg Model-1\")"
   ]
  },
  {
   "cell_type": "code",
   "execution_count": null,
   "metadata": {
    "collapsed": false
   },
   "outputs": [],
   "source": [
    "###TEMP2 VANILLA REGRESSION REPEAT\n",
    "\n",
    "x_train,x_test,y_train,y_test=train_test_split(temp2,target,test_size=.33,stratify=target,random_state=random)\n",
    "prec=[]\n",
    "recall=[]\n",
    "f1score=[]\n",
    "bestf1=[]\n",
    "max_rand=11\n",
    "for random in range(1,max_rand):\n",
    "    logreg = LogisticRegression()\n",
    "    cv_model = logreg.fit(x_train, y_train)\n",
    "    cv_pred = cv_model.predict(x_test)\n",
    "    y_score = cv_model.decision_function(x_test)\n",
    "    conmat = np.array(confusion_matrix(y_test, cv_pred))\n",
    "    confusion = pd.DataFrame(conmat, index=cv_model.classes_, columns=cv_model.classes_)      \n",
    "    conmat = np.array(confusion_matrix(y_test, cv_pred))\n",
    "    confusion = pd.DataFrame(conmat, index=cv_model.classes_, columns=cv_model.classes_)      \n",
    "    prec.append(float(classification_report(y_test,cv_pred)[-35:-31]))\n",
    "    recall.append(float(classification_report(y_test,cv_pred)[-25:-21]))\n",
    "    f1score.append(float(classification_report(y_test,cv_pred)[-15:-11]))\n",
    "    bestf1.append(float(classification_report(y_test,cv_pred)[-15:-11]))\n",
    "\n",
    "logreg_conf_2=confusion\n",
    "report(max_rand,bestf1,bestx0,prec,recall,f1score,confusion,y_test,cv_pred,\"Vanilla LogReg Model-2\")"
   ]
  },
  {
   "cell_type": "markdown",
   "metadata": {},
   "source": [
    "#### 2. Print out the best parameters and best score. Are they better than the vanilla logistic regression?"
   ]
  },
  {
   "cell_type": "markdown",
   "metadata": {
    "collapsed": true
   },
   "source": [
    "Surprisingly, the score is not better! At first, I thought the answer was a simple yes, and I was not going to bother with the vanilla regression, but running the vanilla regression shows that it actually is better. This is because the vanilla regression does not regularize the data, meaning that there is no compensation for plausible overfitting. As such, the regularization compensation term lowers the MSE of the model causing a drop in all scores."
   ]
  },
  {
   "cell_type": "markdown",
   "metadata": {},
   "source": [
    "#### 3. Explain the difference between the difference between the L1 (Lasso) and L2 (Ridge) penalties on the model coefficients."
   ]
  },
  {
   "cell_type": "markdown",
   "metadata": {},
   "source": [
    "The L1 sums the coefficient values and then multiplies the sum against the alpha value. \n",
    "\n",
    "The L2 sums the squared coefficient values and then multiplies the sum against the alpha value. "
   ]
  },
  {
   "cell_type": "markdown",
   "metadata": {},
   "source": [
    "#### 4. What hypothetical situations are the Ridge and Lasso penalties useful?"
   ]
  },
  {
   "cell_type": "markdown",
   "metadata": {},
   "source": [
    "When data is thin, and if there are many coefficients, the L1 and L2 penalties find themselves to be useful. In cases where there are a minimum number of coefficients, and especially if data is abundant, penalization is not necessary."
   ]
  },
  {
   "cell_type": "markdown",
   "metadata": {},
   "source": [
    "#### 5. [BONUS] Explain how the regularization strength (C) modifies the regression loss function. Why do the Ridge and Lasso penalties have their respective effects on the coefficients?"
   ]
  },
  {
   "cell_type": "markdown",
   "metadata": {
    "collapsed": true
   },
   "source": [
    "The regularization strength is the inverse alpha value. So as C decreases, alpha increases.\n",
    "\n",
    "The penalties get added into the MSE with the fit, so greater regularization values result in more tolerance for an MSE. "
   ]
  },
  {
   "cell_type": "markdown",
   "metadata": {},
   "source": [
    "#### 6.a. [BONUS] You decide that you want to minimize false positives. Use the predicted probabilities from the model to set your threshold for labeling the positive class to need at least 90% confidence. How and why does this affect your confusion matrix?"
   ]
  },
  {
   "cell_type": "code",
   "execution_count": null,
   "metadata": {
    "collapsed": false
   },
   "outputs": [],
   "source": [
    "###TEMP2 VANILLA REGRESSION REPEAT\n",
    "\n",
    "x_train,x_test,y_train,y_test=train_test_split(temp2,target,test_size=.33,stratify=target,random_state=random)\n",
    "prec=[]\n",
    "recall=[]\n",
    "f1score=[]\n",
    "bestf1=[]\n",
    "max_rand=11\n",
    "pred=[]\n",
    "bestx0=0.\n",
    "\n",
    "for random in range(1,max_rand):\n",
    "    logreg = LogisticRegression()\n",
    "    cv_model = logreg.fit(x_train, y_train)\n",
    "    cv_pred = cv_model.predict(x_test)\n",
    "    y_score = cv_model.predict_proba(x_test)\n",
    "    prob = cv_model.predict_proba(x_test)\n",
    "    conmat = np.array(confusion_matrix(y_test, cv_pred))\n",
    "    confusion = pd.DataFrame(conmat, index=cv_model.classes_, columns=cv_model.classes_)      \n",
    "    conmat = np.array(confusion_matrix(y_test, cv_pred))\n",
    "    confusion = pd.DataFrame(conmat, index=cv_model.classes_, columns=cv_model.classes_)      \n",
    "    pred=[]\n",
    "    x0_change=bestx0\n",
    "    for x in prob.T[0]:\n",
    "        if (x+x0_change)>(0.9):\n",
    "            pred.append(cv_model.classes_[0])\n",
    "        else:\n",
    "            pred.append(cv_model.classes_[1])\n",
    "    cv_pred=pred\n",
    "\n",
    "    \"\"\" Check your performance so far.\"\"\"\n",
    "\n",
    "    conmat = np.array(confusion_matrix(y_test, cv_pred))\n",
    "    confusion = pd.DataFrame(conmat, index=cv_model.classes_, columns=cv_model.classes_)   \n",
    "\n",
    "print(confusion)\n",
    "print classification_report(y_test,cv_pred)"
   ]
  },
  {
   "cell_type": "markdown",
   "metadata": {},
   "source": [
    "Gives way fewer predictions for being alive"
   ]
  },
  {
   "cell_type": "markdown",
   "metadata": {},
   "source": [
    "## Part 6: Gridsearch and kNN"
   ]
  },
  {
   "cell_type": "markdown",
   "metadata": {},
   "source": [
    "#### 1. Perform Gridsearch for the same classification problem as above, but use KNeighborsClassifier as your estimator\n",
    "\n",
    "At least have number of neighbors and weights in your parameters dictionary."
   ]
  },
  {
   "cell_type": "code",
   "execution_count": null,
   "metadata": {
    "collapsed": false
   },
   "outputs": [],
   "source": [
    "\n",
    "x_train,x_test,y_train,y_test=train_test_split(temp1,target,test_size=.33,stratify=target,random_state=random)\n",
    "knny_test1=y_test\n",
    "params={'n_neighbors':range(1,20,2),'weights':['uniform','distance']}\n",
    "gs= GridSearchCV(KNeighborsClassifier(),params, cv=5)\n",
    "model=gs.fit(x_train,y_train)\n",
    "\n",
    "KNeigh = KNeighborsClassifier(n_neighbors=gs.best_params_['n_neighbors'], \n",
    "                              weights=gs.best_params_['weights'])\n",
    "knnmodel1 = KNeigh.fit(x_train, y_train)\n",
    "knnpred1 = knnmodel1.predict(x_test)\n",
    "knnproba1= knnmodel1.predict_proba(x_test)"
   ]
  },
  {
   "cell_type": "code",
   "execution_count": null,
   "metadata": {
    "collapsed": false
   },
   "outputs": [],
   "source": [
    "x_train,x_test,y_train,y_test=train_test_split(temp2,target,test_size=.33,stratify=target,random_state=random)\n",
    "knny_test2=y_test\n",
    "params={'n_neighbors':range(1,20,2),'weights':['uniform','distance']}\n",
    "gs= GridSearchCV(KNeighborsClassifier(),params, cv=5)\n",
    "model=gs.fit(x_train,y_train)\n",
    "\n",
    "KNeigh = KNeighborsClassifier(n_neighbors=gs.best_params_['n_neighbors'], \n",
    "                              weights=gs.best_params_['weights'])\n",
    "knnmodel2 = KNeigh.fit(x_train, y_train)\n",
    "knnpred2 = knnmodel2.predict(x_test)\n",
    "knnproba2= knnmodel2.predict_proba(x_test)"
   ]
  },
  {
   "cell_type": "code",
   "execution_count": null,
   "metadata": {
    "collapsed": false
   },
   "outputs": [],
   "source": [
    "conmat1 = np.array(confusion_matrix(y_test, knnpred1))\n",
    "confusion1 = pd.DataFrame(conmat1, index=knnmodel1.classes_, columns=knnmodel1.classes_)   \n",
    "conmat2 = np.array(confusion_matrix(y_test, knnpred2))\n",
    "confusion2 = pd.DataFrame(conmat2, index=knnmodel2.classes_, columns=knnmodel2.classes_)   \n",
    "\n",
    "print \"For model 1 \\n\"\n",
    "print(confusion1)\n",
    "print classification_report(y_test,knnpred1)\n",
    "print \"\\n For model 2 \\n\"\n",
    "print(confusion2)\n",
    "print classification_report(y_test,knnpred2)"
   ]
  },
  {
   "cell_type": "markdown",
   "metadata": {},
   "source": [
    "#### 2. Print the best parameters and score for the gridsearched kNN model. How does it compare to the logistic regression model?"
   ]
  },
  {
   "cell_type": "code",
   "execution_count": null,
   "metadata": {
    "collapsed": false
   },
   "outputs": [],
   "source": [
    "gs.best_params_"
   ]
  },
  {
   "cell_type": "code",
   "execution_count": null,
   "metadata": {
    "collapsed": false
   },
   "outputs": [],
   "source": [
    "gs.best_score_"
   ]
  },
  {
   "cell_type": "markdown",
   "metadata": {},
   "source": [
    "The Log reg model is slightly better in terms of best score. In terms of parameters, there is no common parameter. They are different models."
   ]
  },
  {
   "cell_type": "markdown",
   "metadata": {},
   "source": [
    "#### 3. How does the number of neighbors affect the bias-variance tradeoff of your model?\n",
    "\n",
    "#### [BONUS] Why?"
   ]
  },
  {
   "cell_type": "markdown",
   "metadata": {},
   "source": [
    "As the number of neighbors increases, the bias decreases. This is similar to increasing the sample size of a normal distribution. Accordingly, by means of this analogy and in actual fact, the variance decreases. "
   ]
  },
  {
   "cell_type": "code",
   "execution_count": null,
   "metadata": {
    "collapsed": false
   },
   "outputs": [],
   "source": [
    "print \"This is for model 2 \\n The original confusion matrix was: \"\n",
    "print (confusion1)\n",
    "print\n",
    "\n",
    "for neighbor in range(1,20,2):\n",
    "    KNeigh = KNeighborsClassifier(n_neighbors=neighbor, weights='distance')\n",
    "    knnmodel1 = KNeigh.fit(x_train1, y_train1)\n",
    "    knnpred1 = knnmodel1.predict(x_test1)\n",
    "    prob1 = knnmodel1.predict_proba(x_test1)\n",
    "    conmat1 = np.array(confusion_matrix(y_test1, knnpred1))\n",
    "    confusion1 = pd.DataFrame(conmat1, index=knnmodel1.classes_, columns=knnmodel1.classes_)     \n",
    "\n",
    "    print \"\\n \\n For\",neighbor,\"Neighbors \\n\"\n",
    "    print(confusion1)\n",
    "    print classification_report(y_test1,knnpred1)[:45]+\"\\n\"+classification_report(y_test1,knnpred1)[161:-4]\n",
    "    print \"------------------------------------------\""
   ]
  },
  {
   "cell_type": "code",
   "execution_count": null,
   "metadata": {
    "collapsed": false,
    "scrolled": false
   },
   "outputs": [],
   "source": [
    "print \"This is for model 2 \\n The original confusion matrix was: \"\n",
    "print (confusion2)\n",
    "print\n",
    "\n",
    "for neighbor in range(1,20,2):\n",
    "    KNeigh = KNeighborsClassifier(n_neighbors=neighbor, weights='distance')\n",
    "    knnmodel2 = KNeigh.fit(x_train2, y_train2)\n",
    "    knnpred2 = knnmodel2.predict(x_test2)\n",
    "    prob2= knnmodel2.predict_proba(x_test2)\n",
    "    conmat2 = np.array(confusion_matrix(y_test2, knnpred2))\n",
    "    confusion2 = pd.DataFrame(conmat2, index=knnmodel2.classes_, columns=knnmodel2.classes_)     \n",
    "\n",
    "    print \"\\n \\n For\",neighbor,\"Neighbors \\n\"\n",
    "    print(confusion2)\n",
    "    print classification_report(y_test2,knnpred2)[:45]+\"\\n\"+classification_report(y_test2,knnpred2)[161:-4]\n",
    "    print \"------------------------------------------\""
   ]
  },
  {
   "cell_type": "markdown",
   "metadata": {},
   "source": [
    "#### 4. In what hypothetical scenario(s) might you prefer logistic regression over kNN, aside from model performance metrics?"
   ]
  },
  {
   "cell_type": "markdown",
   "metadata": {
    "collapsed": true
   },
   "source": [
    "A logistic regression is preferable for high dimensions of independent variables. For instance, consider have 10 independent variables of low correlation. If you wanted to do a kNN model, you would need to either eliminate independent variables or combine independent variables. It would be perfectly valid to run a 10 dimension kNN model, but the interpretability goes down, and the ability to weight the units of the variables meaningfully falls. As such, a logistic regression would be a more appropriate model for use in this case due to the complexity of the independent variables. "
   ]
  },
  {
   "cell_type": "markdown",
   "metadata": {},
   "source": [
    "#### 5. Fit a new kNN model with the optimal parameters found in gridsearch. "
   ]
  },
  {
   "cell_type": "markdown",
   "metadata": {
    "collapsed": true
   },
   "source": [
    "Already done."
   ]
  },
  {
   "cell_type": "markdown",
   "metadata": {},
   "source": [
    "#### 6. Construct the confusion matrix for the optimal kNN model. Is it different from the logistic regression model? If so, how?"
   ]
  },
  {
   "cell_type": "markdown",
   "metadata": {
    "collapsed": true
   },
   "source": [
    "Already done.\n",
    "\n",
    "Yes, the confusion matrices do differ according to the number of nearest neighbors. The logistic regression finds the most optimal fit. A kNN model classifies based upon neighbors."
   ]
  },
  {
   "cell_type": "markdown",
   "metadata": {},
   "source": [
    "#### 7. [BONUS] Plot the ROC curves for the optimized logistic regression model and the optimized kNN model on the same plot."
   ]
  },
  {
   "cell_type": "code",
   "execution_count": null,
   "metadata": {
    "collapsed": false
   },
   "outputs": [],
   "source": [
    "for j in [1]:\n",
    "    FPR, TPR, _ = roc_curve(y_test1, [i[1] for i in cv_proba1], pos_label=logreg.classes_[j])\n",
    "    ROC_AUC = auc(FPR, TPR)\n",
    "\n",
    "    amounts = logreg.classes_\n",
    "    title = \"ROC Plots of Various Models\".format(amounts[0], amounts[1])\n",
    "\n",
    "    plt.figure(figsize=[7,6])\n",
    "    plt.plot(FPR, TPR, label='LogReg-1 ROC curve (area = %0.2f)' % ROC_AUC, linewidth=4)\n",
    "    plt.plot([0, 1], [0, 1], 'k--', linewidth=4)\n",
    "    plt.xlim([0.0, 1.0])\n",
    "    plt.ylim([0.0, 1.05])\n",
    "    plt.xlabel('False Positive Rate', fontsize=18)\n",
    "    plt.ylabel('True Positive Rate', fontsize=18)\n",
    "    plt.title(title, fontsize=18)\n",
    "    \n",
    "    FPR2, TPR2, _ = roc_curve(y_test2, [i[1] for i in cv_proba2], pos_label=logreg.classes_[j])\n",
    "    ROC_AUC2 = auc(FPR2, TPR2)\n",
    "    plt.plot(FPR2, TPR2, label='LogReg-2 ROC curve (area = %0.2f)' % ROC_AUC2, linewidth=4)\n",
    "    plt.plot([0, 1], [0, 1], 'k--', linewidth=4)\n",
    "    \n",
    "    FPR3, TPR3, _ = roc_curve(y_test1, [i[1] for i in prob1], pos_label=logreg.classes_[j])\n",
    "    ROC_AUC3 = auc(FPR3, TPR3)\n",
    "    plt.plot(FPR3, TPR3, label='KNN-1 ROC curve (area = %0.2f)' % ROC_AUC3, linewidth=4)\n",
    "    plt.plot([0, 1], [0, 1], 'k--', linewidth=4)\n",
    "    \n",
    "    FPR4, TPR4, _ = roc_curve(y_test2, [i[1] for i in prob2], pos_label=logreg.classes_[j])\n",
    "    ROC_AUC4 = auc(FPR4, TPR4)\n",
    "    plt.plot(FPR4, TPR4, label='KNN-2 ROC curve (area = %0.2f)' % ROC_AUC4, linewidth=4)\n",
    "    plt.plot([0, 1], [0, 1], 'k--', linewidth=4)\n",
    "    \n",
    "    \n",
    "    plt.legend(loc=\"lower right\")\n",
    "    plt.show()"
   ]
  },
  {
   "cell_type": "markdown",
   "metadata": {},
   "source": [
    "## Part 7: [BONUS] Precision-recall"
   ]
  },
  {
   "cell_type": "markdown",
   "metadata": {},
   "source": [
    "#### 1. Gridsearch the same parameters for logistic regression but change the scoring function to 'average_precision'\n",
    "\n",
    "`'average_precision'` will optimize parameters for area under the precision-recall curve instead of for accuracy."
   ]
  },
  {
   "cell_type": "code",
   "execution_count": null,
   "metadata": {
    "collapsed": false,
    "scrolled": false
   },
   "outputs": [],
   "source": [
    "###THIS IS FOR TEMP1 (REGRESSION CELL)\n",
    "\n",
    "prec=[]\n",
    "recall=[]\n",
    "f1score=[]\n",
    "bestf1=[]\n",
    "max_rand=5\n",
    "\n",
    "for random in range(1,max_rand):\n",
    "    x_train,x_test,y_train,y_test=train_test_split(temp1,[1 if x==\"Dead\" else 0 for x in target],\n",
    "                                                   stratify=target,\n",
    "                                                   random_state=random)\n",
    "    precx_train1=x_train\n",
    "    precx_test1=x_test\n",
    "    precy_train1=y_train\n",
    "    precy_test1=y_test\n",
    "    precrec = LogisticRegression(solver='liblinear',)\n",
    "    C_vals = np.linspace(0.0000001,1.1,15)\n",
    "    penalties = ['l1','l2']\n",
    "\n",
    "    gs = GridSearchCV(precrec, {'penalty': penalties, 'C': C_vals},verbose=False, cv=5, scoring='average_precision')\n",
    "    gs.fit(x_train, y_train)\n",
    "\n",
    "    precrec = LogisticRegression(C=gs.best_params_['C'], penalty=gs.best_params_['penalty'])\n",
    "    cv_model3 = precrec.fit(x_train, y_train)\n",
    "    cv_pred3 = cv_model3.predict(x_test)\n",
    "    precprob1 = cv_model3.predict_proba(x_test)          \n",
    "\n",
    "    \"\"\" Check your performance so far.\"\"\"\n",
    "    conmat3 = np.array(confusion_matrix(y_test, cv_pred3))\n",
    "    confusion3 = pd.DataFrame(conmat3, index=cv_model2.classes_, columns=cv_model\n",
    "                              .classes_)      \n",
    "    \n",
    "    prec.append(float(classification_report(y_test,cv_pred3)[-35:-31]))\n",
    "    recall.append(float(classification_report(y_test,cv_pred3)[-25:-21]))\n",
    "    f1score.append(float(classification_report(y_test,cv_pred3)[-15:-11]))\n",
    "    bestf1.append(float(classification_report(y_test,cv_pred3)[-15:-11]))\n",
    "\n"
   ]
  },
  {
   "cell_type": "code",
   "execution_count": null,
   "metadata": {
    "collapsed": false
   },
   "outputs": [],
   "source": [
    "###TEMP1 PRINT CELL\n",
    "\n",
    "report(max_rand,bestf1,bestx0,prec,recall,f1score,confusion3,y_test,cv_pred3,\"Precision Recall model-1\")\n",
    "\n",
    "print \"\\n Confusion for kNN model-1:\"\n",
    "print(confusion1)\n",
    "print \"\\n Confusion for kNN model-2:\"\n",
    "print(confusion2)\n",
    "print \"\\n Confusion for logreg model-1:\"\n",
    "print(logreg_conf_1)\n",
    "print \"\\n Confusion for logreg model-2:\"\n",
    "print(logreg_conf_2)"
   ]
  },
  {
   "cell_type": "code",
   "execution_count": null,
   "metadata": {
    "collapsed": true
   },
   "outputs": [],
   "source": [
    "###THIS IS FOR TEMP2 (REGRESSION CELL)\n",
    "\n",
    "prec=[]\n",
    "recall=[]\n",
    "f1score=[]\n",
    "bestf1=[]\n",
    "max_rand=5\n",
    "\n",
    "for random in range(1,max_rand):\n",
    "    x_train,x_test,y_train,y_test=train_test_split(temp1,[1 if x==\"Dead\" else 0 for x in target],\n",
    "                                                   stratify=target,\n",
    "                                                   random_state=random)\n",
    "    precx_train2=x_train\n",
    "    precx_test2=x_test\n",
    "    precy_train2=y_train\n",
    "    precy_test2=y_test\n",
    "    precrec = LogisticRegression(solver='liblinear',)\n",
    "    C_vals = np.linspace(0.0000001,1.1,15)\n",
    "    penalties = ['l1','l2']\n",
    "\n",
    "    gs = GridSearchCV(precrec, {'penalty': penalties, 'C': C_vals},verbose=False, cv=5, scoring='average_precision')\n",
    "    gs.fit(x_train, y_train)\n",
    "\n",
    "    precrec = LogisticRegression(C=gs.best_params_['C'], penalty=gs.best_params_['penalty'])\n",
    "    cv_model4 = precrec.fit(x_train, y_train)\n",
    "    cv_pred4 = cv_model4.predict(x_test)\n",
    "    precprob2 = cv_model4.predict_proba(x_test)          \n",
    "\n",
    "    \"\"\" Check your performance so far.\"\"\"\n",
    "    conmat4 = np.array(confusion_matrix(y_test, cv_pred4))\n",
    "    confusion4 = pd.DataFrame(conmat4, index=cv_model2.classes_, columns=cv_model2\n",
    "                              .classes_)      \n",
    "    \n",
    "    prec.append(float(classification_report(y_test,cv_pred4)[-35:-31]))\n",
    "    recall.append(float(classification_report(y_test,cv_pred4)[-25:-21]))\n",
    "    f1score.append(float(classification_report(y_test,cv_pred4)[-15:-11]))\n",
    "    bestf1.append(float(classification_report(y_test,cv_pred4)[-15:-11]))\n",
    "\n"
   ]
  },
  {
   "cell_type": "code",
   "execution_count": null,
   "metadata": {
    "collapsed": false
   },
   "outputs": [],
   "source": []
  },
  {
   "cell_type": "code",
   "execution_count": null,
   "metadata": {
    "collapsed": false,
    "scrolled": true
   },
   "outputs": [],
   "source": [
    "###TEMP1 PRINT CELL\n",
    "\n",
    "report(max_rand,bestf1,bestx0,prec,recall,f1score,confusion4,y_test,cv_pred4,\"Precision Recall model-2\")\n",
    "print \"\\n Confusion for Precision Recall model-1:\"\n",
    "print(confusion3)\n",
    "print \"\\n Confusion for kNN model-2:\"\n",
    "print(confusion2)\n",
    "print \"\\n Confusion for kNN model-1:\"\n",
    "print(confusion1)\n",
    "print \"\\n Confusion for logreg model-2:\"\n",
    "print(logreg_conf_2)\n",
    "print \"\\n Confusion for logreg model-1:\"\n",
    "print(logreg_conf_1)"
   ]
  },
  {
   "cell_type": "markdown",
   "metadata": {},
   "source": [
    "#### 2. Examine the best parameters and score. Are they different than the logistic regression gridsearch in part 5?"
   ]
  },
  {
   "cell_type": "code",
   "execution_count": null,
   "metadata": {
    "collapsed": false
   },
   "outputs": [],
   "source": [
    "gs.best_params_"
   ]
  },
  {
   "cell_type": "code",
   "execution_count": null,
   "metadata": {
    "collapsed": false
   },
   "outputs": [],
   "source": [
    "print (gs.best_score_)"
   ]
  },
  {
   "cell_type": "markdown",
   "metadata": {},
   "source": [
    "The best C is lower than in part 5. The best score is the higher than in part 5.\n",
    "The general trend is that there are fewer alive that are predicted dead, and more dead predicted alive. "
   ]
  },
  {
   "cell_type": "markdown",
   "metadata": {},
   "source": [
    "#### 3. Create the confusion matrix. Is it different than when you optimized for the accuracy? If so, why would this be?"
   ]
  },
  {
   "cell_type": "markdown",
   "metadata": {
    "collapsed": true
   },
   "source": [
    "(See above for matrix) The matrix seems much worse off now."
   ]
  },
  {
   "cell_type": "markdown",
   "metadata": {},
   "source": [
    "#### 4. Plot the precision-recall curve. What does this tell us as opposed to the ROC curve?\n",
    "\n",
    "[See the sklearn plotting example here.](http://scikit-learn.org/stable/auto_examples/model_selection/plot_precision_recall.html)"
   ]
  },
  {
   "cell_type": "code",
   "execution_count": null,
   "metadata": {
    "collapsed": false,
    "scrolled": false
   },
   "outputs": [],
   "source": [
    "precision1, recall1, _ = precision_recall_curve(precy_test1,precprob1.T[1])\n",
    "average_precision1= average_precision_score(precy_test1,precprob1.T[1])\n",
    "precision2, recall2, _ = precision_recall_curve(precy_test2,precprob2.T[1])\n",
    "average_precision2= average_precision_score(precy_test2,precprob2.T[1])\n",
    "\n",
    "plt.plot(recall1,precision1,linewidth=4,c='black',label='Precision-Recall: AUC={0:0.5f}'.format(average_precision1))\n",
    "plt.plot(recall2,precision2,\"--\",linewidth=4,c='orange',label='Precision-Recall: AUC={0:0.5f}'.format(average_precision2))\n",
    "plt.title('Precision Recall Curve')\n",
    "plt.legend(loc='lower left')\n",
    "plt.xlim([0.0, 1.0])\n",
    "plt.ylim([0.0, 1.02])\n",
    "plt.xlabel('Recall')\n",
    "plt.ylabel('Precision')\n",
    "plt.show()"
   ]
  },
  {
   "cell_type": "markdown",
   "metadata": {},
   "source": [
    "## Part 8: [VERY BONUS] Decision trees, ensembles, bagging"
   ]
  },
  {
   "cell_type": "markdown",
   "metadata": {},
   "source": [
    "#### 1. Gridsearch a decision tree classifier model on the data, searching for optimal depth. Create a new decision tree model with the optimal parameters."
   ]
  },
  {
   "cell_type": "code",
   "execution_count": null,
   "metadata": {
    "collapsed": false
   },
   "outputs": [],
   "source": [
    "prec=[]\n",
    "recall=[]\n",
    "f1score=[]\n",
    "bestf1=[]\n",
    "max_rand=5\n",
    "\n",
    "for random in range(1,max_rand):\n",
    "    x_train,x_test,y_train,y_test=train_test_split(temp1,target,stratify=target,\n",
    "                                                       random_state=random)\n",
    "    treex_train1=x_train\n",
    "    treex_test1=x_test\n",
    "    treey_train1=y_train\n",
    "    treey_test1=y_test\n",
    "    clf = tree.DecisionTreeClassifier()\n",
    "    gs=GridSearchCV(clf,{'max_depth':range(1,15,1)})\n",
    "    gs.fit(x_train,y_train)\n",
    "\n",
    "    clf = tree.DecisionTreeClassifier(max_depth=gs.best_params_['max_depth'])\n",
    "    tree_model=clf.fit(x_train,y_train)\n",
    "    tree_proba=tree_model.predict_proba(x_test)\n",
    "    tree_pred =tree_model.predict(x_test)\n",
    "\n",
    "    prec.append(float(classification_report(y_test,tree_pred)[-35:-31]))\n",
    "    recall.append(float(classification_report(y_test,tree_pred)[-25:-21]))\n",
    "    f1score.append(float(classification_report(y_test,tree_pred)[-15:-11]))\n",
    "    bestf1.append(float(classification_report(y_test,tree_pred)[-15:-11]))\n",
    "    \n",
    "    tree_conmat = np.array(confusion_matrix(y_test, tree_pred))\n",
    "    tree_confusion = pd.DataFrame(tree_conmat, index=tree_model.classes_, columns=tree_model.classes_)  \n"
   ]
  },
  {
   "cell_type": "code",
   "execution_count": null,
   "metadata": {
    "collapsed": false
   },
   "outputs": [],
   "source": [
    "report(max_rand,bestf1,bestx0,prec,recall,f1score,tree_confusion,y_test,tree_pred,\"Decision Tree Model-1\")\n",
    "print \"Confusion for precision-recall\"\n",
    "print(confusion3)\n",
    "print \"\\n Confusion for kNN model-1:\"\n",
    "print(confusion1)\n",
    "print \"\\n Confusion for kNN model-2:\"\n",
    "print(confusion2)\n",
    "print \"\\n Confusion for logreg model-1:\"\n",
    "print(logreg_conf_1)\n",
    "print \"\\n Confusion for logreg model-2:\"\n",
    "print(logreg_conf_2)\n"
   ]
  },
  {
   "cell_type": "code",
   "execution_count": null,
   "metadata": {
    "collapsed": true
   },
   "outputs": [],
   "source": [
    "prec=[]\n",
    "recall=[]\n",
    "f1score=[]\n",
    "bestf1=[]\n",
    "max_rand=5\n",
    "\n",
    "for random in range(1,max_rand):\n",
    "    x_train,x_test,y_train,y_test=train_test_split(temp2,target,stratify=target,\n",
    "                                                       random_state=random)\n",
    "    treex_train2=x_train\n",
    "    treex_test2=x_test\n",
    "    treey_train2=y_train\n",
    "    treey_test2=y_test\n",
    "    clf = tree.DecisionTreeClassifier()\n",
    "    gs=GridSearchCV(clf,{'max_depth':range(1,15,1)})\n",
    "    gs.fit(x_train,y_train)\n",
    "\n",
    "    clf2 = tree.DecisionTreeClassifier(max_depth=gs.best_params_['max_depth'])\n",
    "    tree_model2=clf2.fit(x_train,y_train)\n",
    "    tree_proba2=tree_model2.predict_proba(x_test)\n",
    "    tree_pred2 =tree_model2.predict(x_test)\n",
    "\n",
    "    prec.append(float(classification_report(y_test,tree_pred2)[-35:-31]))\n",
    "    recall.append(float(classification_report(y_test,tree_pred2)[-25:-21]))\n",
    "    f1score.append(float(classification_report(y_test,tree_pred2)[-15:-11]))\n",
    "    bestf1.append(float(classification_report(y_test,tree_pred2)[-15:-11]))\n",
    "    \n",
    "    tree_conmat2 = np.array(confusion_matrix(y_test, tree_pred2))\n",
    "    tree_confusion2 = pd.DataFrame(tree_conmat2, index=tree_model2.classes_, columns=tree_model2.classes_)  \n"
   ]
  },
  {
   "cell_type": "markdown",
   "metadata": {},
   "source": [
    "#### 2. Compare the performace of the decision tree model to the logistic regression and kNN models."
   ]
  },
  {
   "cell_type": "code",
   "execution_count": null,
   "metadata": {
    "collapsed": false
   },
   "outputs": [],
   "source": [
    "report(max_rand,bestf1,bestx0,prec,recall,f1score,tree_confusion,y_test,tree_pred2,\"Decision Tree Model-2\")\n",
    "\n",
    "print \"Confusion for tree model-1\"\n",
    "print(tree_confusion)\n",
    "print \"\\n Confusion for Precision Recall model-2:\"\n",
    "print(confusion4)\n",
    "print \"\\n Confusion for Precision Recall model-1:\"\n",
    "print(confusion3)\n",
    "print \"\\n Confusion for kNN model-1:\"\n",
    "print(confusion1)\n",
    "print \"\\n Confusion for kNN model-2:\"\n",
    "print(confusion2)\n",
    "print \"\\n Confusion for logreg model-1:\"\n",
    "print(logreg_conf_1)\n",
    "print \"\\n Confusion for logreg model-2:\"\n",
    "print(logreg_conf_2)"
   ]
  },
  {
   "cell_type": "markdown",
   "metadata": {},
   "source": [
    "#### 3. Plot all three optimized models' ROC curves on the same plot. "
   ]
  },
  {
   "cell_type": "code",
   "execution_count": null,
   "metadata": {
    "collapsed": false,
    "scrolled": false
   },
   "outputs": [],
   "source": [
    "plt.figure(figsize=[7,6])\n",
    "amounts = logreg.classes_\n",
    "title = \"ROC Plots of Various Models of Data Set 1\".format(amounts[0], amounts[1])\n",
    "plt.xlim([0.0, 1.0])\n",
    "plt.ylim([0.0, 1.05])\n",
    "plt.xlabel('False Positive Rate', fontsize=18)\n",
    "plt.ylabel('True Positive Rate', fontsize=18)\n",
    "plt.title(title, fontsize=18)\n",
    "\n",
    "\n",
    "FPR, TPR, _ = roc_curve(logregy_test1, [i[1] for i in cv_proba1], pos_label=logreg.classes_[1])\n",
    "ROC_AUC = auc(FPR, TPR)\n",
    "plt.plot(FPR, TPR, label='LogReg-1 ROC curve (area = %0.5f)' % ROC_AUC, linewidth=4)\n",
    "plt.plot([0, 1], [0, 1], 'k--', linewidth=4)\n",
    "\n",
    "FPR3, TPR3, _ = roc_curve(knny_test1, [i[1] for i in knnproba1], pos_label=logreg.classes_[1])\n",
    "ROC_AUC3 = auc(FPR3, TPR3)\n",
    "plt.plot(FPR3, TPR3, label='KNN-1 ROC curve (area = %0.5f)' % ROC_AUC3, linewidth=4)\n",
    "plt.plot([0, 1], [0, 1], 'k--', linewidth=4)\n",
    "\n",
    "FPR5, TPR5, _ = roc_curve(precy_test1, [i[1] for i in precprob1])\n",
    "ROC_AUC5 = auc(FPR5, TPR5)\n",
    "plt.plot(FPR5, TPR5, label='Average Precision Model 1 ROC curve (area = %0.5f)' % ROC_AUC5, linewidth=4)\n",
    "plt.plot([0, 1], [0, 1], 'k--', linewidth=4)\n",
    "\n",
    "FPR6, TPR6, _ = roc_curve(treey_test1, [i[1] for i in tree_proba], pos_label=logreg.classes_[1])\n",
    "ROC_AUC6 = auc(FPR6, TPR6)\n",
    "plt.plot(FPR6, TPR6, label='Tree Classifier Model 1 ROC curve (area = %0.5f)' % ROC_AUC6, linewidth=4)\n",
    "plt.plot([0, 1], [0, 1], 'k--', linewidth=4)\n",
    "\n",
    "\n",
    "plt.legend(loc=\"lower right\")\n",
    "plt.show()"
   ]
  },
  {
   "cell_type": "code",
   "execution_count": null,
   "metadata": {
    "collapsed": false
   },
   "outputs": [],
   "source": [
    "plt.figure(figsize=[7,6])\n",
    "amounts = logreg.classes_\n",
    "title = \"ROC Plots of Various Models of Data Set 2\".format(amounts[0], amounts[1])\n",
    "plt.xlim([0.0, 1.0])\n",
    "plt.ylim([0.0, 1.05])\n",
    "plt.xlabel('False Positive Rate', fontsize=18)\n",
    "plt.ylabel('True Positive Rate', fontsize=18)\n",
    "plt.title(title, fontsize=18)\n",
    "\n",
    "lab=logreg.classes_[1]\n",
    "\n",
    "FPR2, TPR2, _ = roc_curve(logregy_test2, [i[1] for i in cv_proba2],lab)\n",
    "ROC_AUC2 = auc(FPR2, TPR2)\n",
    "plt.plot(FPR2, TPR2, label='LogReg-2 ROC curve (area = %0.5f)' % ROC_AUC2, linewidth=4)\n",
    "plt.plot([0, 1], [0, 1], 'k--', linewidth=4)\n",
    "\n",
    "FPR4, TPR4, _ = roc_curve(knny_test2, [i[1] for i in knnproba2],   lab)\n",
    "ROC_AUC4 = auc(FPR4, TPR4)\n",
    "plt.plot(FPR4, TPR4, label='KNN-2 ROC curve (area = %0.5f)' % ROC_AUC4, linewidth=4)\n",
    "plt.plot([0, 1], [0, 1], 'k--', linewidth=4)\n",
    "\n",
    "FPR8, TPR8, _ = roc_curve(precy_test1, [i[1] for i in precprob2])\n",
    "ROC_AUC8 = auc(FPR8, TPR8)\n",
    "plt.plot(FPR8, TPR8, label='Average Precision Model 2 ROC curve (area = %0.5f)' % ROC_AUC8, linewidth=4)\n",
    "plt.plot([0, 1], [0, 1], 'k--', linewidth=4)\n",
    "\n",
    "FPR7, TPR7, _ = roc_curve(treey_test2, [i[1] for i in tree_proba2],lab)\n",
    "ROC_AUC7 = auc(FPR7, TPR7)\n",
    "plt.plot(FPR7, TPR7, label='Tree Classifier Model 2 ROC curve (area = %0.5f)' % ROC_AUC7, linewidth=4)\n",
    "plt.plot([0, 1], [0, 1], 'k--', linewidth=4)\n",
    "\n",
    "\n",
    "plt.legend(loc=\"lower right\")\n",
    "plt.show()"
   ]
  },
  {
   "cell_type": "code",
   "execution_count": null,
   "metadata": {
    "collapsed": false
   },
   "outputs": [],
   "source": [
    "plt.figure(figsize=[7,6])\n",
    "amounts = logreg.classes_\n",
    "title = \"ROC Plots of Various Models\".format(amounts[0], amounts[1])\n",
    "plt.xlim([0.0, 1.0])\n",
    "plt.ylim([0.0, 1.05])\n",
    "plt.xlabel('False Positive Rate', fontsize=18)\n",
    "plt.ylabel('True Positive Rate', fontsize=18)\n",
    "plt.title(title, fontsize=18)\n",
    "\n",
    "lab=logreg.classes_[1]\n",
    "\n",
    "FPR6, TPR6, _ = roc_curve(treey_test1, [i[1] for i in tree_proba], pos_label=logreg.classes_[1])\n",
    "ROC_AUC6 = auc(FPR6, TPR6)\n",
    "plt.plot(FPR6, TPR6, label='Tree Classifier Model 1 ROC curve (area = %0.5f)' % ROC_AUC6, linewidth=4)\n",
    "plt.plot([0, 1], [0, 1], 'k--', linewidth=4)\n",
    "\n",
    "FPR7, TPR7, _ = roc_curve(treey_test2, [i[1] for i in tree_proba2],lab)\n",
    "ROC_AUC7 = auc(FPR7, TPR7)\n",
    "plt.plot(FPR7, TPR7, label='Tree Classifier Model 2 ROC curve (area = %0.5f)' % ROC_AUC7, linewidth=4)\n",
    "plt.plot([0, 1], [0, 1], 'k--', linewidth=4)\n",
    "\n",
    "\n",
    "plt.legend(loc=\"lower right\")\n",
    "plt.show()"
   ]
  },
  {
   "cell_type": "code",
   "execution_count": null,
   "metadata": {
    "collapsed": false
   },
   "outputs": [],
   "source": []
  },
  {
   "cell_type": "code",
   "execution_count": null,
   "metadata": {
    "collapsed": false
   },
   "outputs": [],
   "source": []
  },
  {
   "cell_type": "markdown",
   "metadata": {},
   "source": [
    "#### 4. Use sklearn's BaggingClassifier with the base estimator your optimized decision tree model. How does the performance compare to the single decision tree classifier?"
   ]
  },
  {
   "cell_type": "code",
   "execution_count": null,
   "metadata": {
    "collapsed": true
   },
   "outputs": [],
   "source": [
    "x_train,x_test,y_train,y_test=train_test_split(temp1,target,stratify=target,random_state=random)\n",
    "bagy_test1=y_test\n",
    "bagger=BaggingClassifier()\n",
    "bag_model1=bagger.fit(x_train,y_train)\n",
    "bag_proba1=bag_model1.predict_proba(x_test)\n",
    "bag_pred1 =bag_model1.predict(x_test)\n",
    "bag_conmat1 = np.array(confusion_matrix(y_test, bag_pred1))\n",
    "bag_confusion1 = pd.DataFrame(bag_conmat1, index=bag_model1.classes_, columns=bag_model1.classes_) "
   ]
  },
  {
   "cell_type": "code",
   "execution_count": null,
   "metadata": {
    "collapsed": true
   },
   "outputs": [],
   "source": [
    "x_train,x_test,y_train,y_test=train_test_split(temp2,target,stratify=target,random_state=random)\n",
    "bagy_test2=y_test\n",
    "bagger=BaggingClassifier()\n",
    "bag_model2=bagger.fit(x_train,y_train)\n",
    "bag_proba2=bag_model2.predict_proba(x_test)\n",
    "bag_pred2 =bag_model2.predict(x_test)\n",
    "bag_conmat2 = np.array(confusion_matrix(y_test, bag_pred2))\n",
    "bag_confusion2 = pd.DataFrame(bag_conmat2, index=bag_model2.classes_, columns=bag_model2.classes_) "
   ]
  },
  {
   "cell_type": "code",
   "execution_count": null,
   "metadata": {
    "collapsed": false
   },
   "outputs": [],
   "source": [
    "print \"Bagging w/ Model 1\"\n",
    "print bag_confusion1\n",
    "print classification_report(y_test,bag_pred1)\n",
    "print\n",
    "print \"Bagging w/ Model 2\"\n",
    "print bag_confusion1\n",
    "print classification_report(y_test,bag_pred1)"
   ]
  },
  {
   "cell_type": "markdown",
   "metadata": {},
   "source": [
    "#### 5. Gridsearch the optimal n_estimators, max_samples, and max_features for the bagging classifier."
   ]
  },
  {
   "cell_type": "code",
   "execution_count": null,
   "metadata": {
    "collapsed": false
   },
   "outputs": [],
   "source": [
    "x_train,x_test,y_train,y_test=train_test_split(temp1,target,stratify=target,random_state=random)\n",
    "x_train1=x_train\n",
    "x_test1=x_test\n",
    "y_train1=y_train\n",
    "bagy_test1=y_test\n",
    "bagger=BaggingClassifier()\n",
    "params={'max_samples':range(45,55,1),'n_estimators':range(32,40,1),'max_features':range(1,x_train.shape[1])}\n",
    "gs1=GridSearchCV(bagger,params)\n",
    "gs1.fit(x_train,y_train);"
   ]
  },
  {
   "cell_type": "code",
   "execution_count": null,
   "metadata": {
    "collapsed": false
   },
   "outputs": [],
   "source": [
    "x_train,x_test,y_train,y_test=train_test_split(temp2,target,stratify=target,random_state=random)\n",
    "x_train2=x_train\n",
    "x_test2=x_test\n",
    "y_train2=y_train\n",
    "bagy_test2=y_test\n",
    "bagger=BaggingClassifier()\n",
    "params={'max_samples':range(45,55,1),'n_estimators':range(32,40,1),'max_features':range(1,x_train.shape[1])}\n",
    "gs2=GridSearchCV(bagger,params)\n",
    "gs2.fit(x_train,y_train);"
   ]
  },
  {
   "cell_type": "code",
   "execution_count": null,
   "metadata": {
    "collapsed": false
   },
   "outputs": [],
   "source": [
    "gs1.best_params_"
   ]
  },
  {
   "cell_type": "code",
   "execution_count": null,
   "metadata": {
    "collapsed": false
   },
   "outputs": [],
   "source": [
    "gs2.best_params_"
   ]
  },
  {
   "cell_type": "markdown",
   "metadata": {},
   "source": [
    "#### 6. Create a bagging classifier model with the optimal parameters and compare it's performance to the other two models."
   ]
  },
  {
   "cell_type": "code",
   "execution_count": null,
   "metadata": {
    "collapsed": true
   },
   "outputs": [],
   "source": [
    "bagger=BaggingClassifier()\n",
    "bagger=BaggingClassifier(max_samples=gs1.best_params_['max_samples'],n_estimators=gs1.best_params_['n_estimators'],\n",
    "                         max_features=gs1.best_params_['max_features'])\n",
    "bag_model1=bagger.fit(x_train1,y_train1)\n",
    "bag_proba1=bag_model1.predict_proba(x_test1)\n",
    "bag_pred1 =bag_model1.predict(x_test1)\n",
    "bag_conmat1 = np.array(confusion_matrix(bagy_test1, bag_pred1))\n",
    "bag_confusion1 = pd.DataFrame(bag_conmat1, index=bag_model1.classes_, columns=bag_model1.classes_) "
   ]
  },
  {
   "cell_type": "code",
   "execution_count": null,
   "metadata": {
    "collapsed": true
   },
   "outputs": [],
   "source": [
    "bagger=BaggingClassifier()\n",
    "bagger=BaggingClassifier(max_samples=gs2.best_params_['max_samples'],n_estimators=gs2.best_params_['n_estimators'],\n",
    "                         max_features=gs2.best_params_['max_features'])\n",
    "bag_model1=bagger.fit(x_train2,y_train2)\n",
    "bag_proba1=bag_model1.predict_proba(x_test2)\n",
    "bag_pred1 =bag_model1.predict(x_test2)\n",
    "bag_conmat1 = np.array(confusion_matrix(bagy_test2, bag_pred1))\n",
    "bag_confusion1 = pd.DataFrame(bag_conmat1, index=bag_model1.classes_, columns=bag_model1.classes_) "
   ]
  },
  {
   "cell_type": "code",
   "execution_count": null,
   "metadata": {
    "collapsed": false
   },
   "outputs": [],
   "source": [
    "print classification_report(y_test,bag_pred1)\n",
    "bag_confusion1"
   ]
  },
  {
   "cell_type": "code",
   "execution_count": 13,
   "metadata": {
    "collapsed": false
   },
   "outputs": [
    {
     "ename": "NameError",
     "evalue": "name 'logregy_test1' is not defined",
     "output_type": "error",
     "traceback": [
      "\u001b[0;31m---------------------------------------------------------------------------\u001b[0m",
      "\u001b[0;31mNameError\u001b[0m                                 Traceback (most recent call last)",
      "\u001b[0;32m<ipython-input-13-44f5f6c56479>\u001b[0m in \u001b[0;36m<module>\u001b[0;34m()\u001b[0m\n\u001b[1;32m      9\u001b[0m \u001b[0;34m\u001b[0m\u001b[0m\n\u001b[1;32m     10\u001b[0m \u001b[0;34m\u001b[0m\u001b[0m\n\u001b[0;32m---> 11\u001b[0;31m \u001b[0mFPR\u001b[0m\u001b[0;34m,\u001b[0m \u001b[0mTPR\u001b[0m\u001b[0;34m,\u001b[0m \u001b[0m_\u001b[0m \u001b[0;34m=\u001b[0m \u001b[0mroc_curve\u001b[0m\u001b[0;34m(\u001b[0m\u001b[0mlogregy_test1\u001b[0m\u001b[0;34m,\u001b[0m \u001b[0;34m[\u001b[0m\u001b[0mi\u001b[0m\u001b[0;34m[\u001b[0m\u001b[0;36m1\u001b[0m\u001b[0;34m]\u001b[0m \u001b[0;32mfor\u001b[0m \u001b[0mi\u001b[0m \u001b[0;32min\u001b[0m \u001b[0mcv_proba1\u001b[0m\u001b[0;34m]\u001b[0m\u001b[0;34m,\u001b[0m \u001b[0mpos_label\u001b[0m\u001b[0;34m=\u001b[0m\u001b[0mlogreg\u001b[0m\u001b[0;34m.\u001b[0m\u001b[0mclasses_\u001b[0m\u001b[0;34m[\u001b[0m\u001b[0;36m1\u001b[0m\u001b[0;34m]\u001b[0m\u001b[0;34m)\u001b[0m\u001b[0;34m\u001b[0m\u001b[0m\n\u001b[0m\u001b[1;32m     12\u001b[0m \u001b[0mROC_AUC\u001b[0m \u001b[0;34m=\u001b[0m \u001b[0mauc\u001b[0m\u001b[0;34m(\u001b[0m\u001b[0mFPR\u001b[0m\u001b[0;34m,\u001b[0m \u001b[0mTPR\u001b[0m\u001b[0;34m)\u001b[0m\u001b[0;34m\u001b[0m\u001b[0m\n\u001b[1;32m     13\u001b[0m \u001b[0mplt\u001b[0m\u001b[0;34m.\u001b[0m\u001b[0mplot\u001b[0m\u001b[0;34m(\u001b[0m\u001b[0mFPR\u001b[0m\u001b[0;34m,\u001b[0m \u001b[0mTPR\u001b[0m\u001b[0;34m,\u001b[0m \u001b[0mlabel\u001b[0m\u001b[0;34m=\u001b[0m\u001b[0;34m'LogReg-1 ROC curve (area = %0.5f)'\u001b[0m \u001b[0;34m%\u001b[0m \u001b[0mROC_AUC\u001b[0m\u001b[0;34m,\u001b[0m \u001b[0mlinewidth\u001b[0m\u001b[0;34m=\u001b[0m\u001b[0;36m4\u001b[0m\u001b[0;34m)\u001b[0m\u001b[0;34m\u001b[0m\u001b[0m\n",
      "\u001b[0;31mNameError\u001b[0m: name 'logregy_test1' is not defined"
     ]
    },
    {
     "data": {
      "image/png": "[encoded data removed]",
      "text/plain": [
       "<matplotlib.figure.Figure at 0x11c3c94d0>"
      ]
     },
     "metadata": {},
     "output_type": "display_data"
    }
   ],
   "source": [
    "plt.figure(figsize=[7,6])\n",
    "amounts = logreg.classes_\n",
    "title = \"ROC Plots of Various Models of Data Set 1\".format(amounts[0], amounts[1])\n",
    "plt.xlim([0.0, 1.0])\n",
    "plt.ylim([0.0, 1.05])\n",
    "plt.xlabel('False Positive Rate', fontsize=18)\n",
    "plt.ylabel('True Positive Rate', fontsize=18)\n",
    "plt.title(title, fontsize=18)\n",
    "\n",
    "\n",
    "FPR, TPR, _ = roc_curve(logregy_test1, [i[1] for i in cv_proba1], pos_label=logreg.classes_[1])\n",
    "ROC_AUC = auc(FPR, TPR)\n",
    "plt.plot(FPR, TPR, label='LogReg-1 ROC curve (area = %0.5f)' % ROC_AUC, linewidth=4)\n",
    "plt.plot([0, 1], [0, 1], 'k--', linewidth=4)\n",
    "\n",
    "FPR3, TPR3, _ = roc_curve(knny_test1, [i[1] for i in knnproba1], pos_label=logreg.classes_[1])\n",
    "ROC_AUC3 = auc(FPR3, TPR3)\n",
    "plt.plot(FPR3, TPR3, label='KNN-1 ROC curve (area = %0.5f)' % ROC_AUC3, linewidth=4)\n",
    "plt.plot([0, 1], [0, 1], 'k--', linewidth=4)\n",
    "\n",
    "FPR5, TPR5, _ = roc_curve(precy_test1, [i[1] for i in precprob1])\n",
    "ROC_AUC5 = auc(FPR5, TPR5)\n",
    "plt.plot(FPR5, TPR5, label='Average Precision Model 1 ROC curve (area = %0.5f)' % ROC_AUC5, linewidth=4)\n",
    "plt.plot([0, 1], [0, 1], 'k--', linewidth=4)\n",
    "\n",
    "FPR6, TPR6, _ = roc_curve(treey_test1, [i[1] for i in tree_proba], pos_label=logreg.classes_[1])\n",
    "ROC_AUC6 = auc(FPR6, TPR6)\n",
    "plt.plot(FPR6, TPR6, label='Tree Classifier Model 1 ROC curve (area = %0.5f)' % ROC_AUC6, linewidth=4)\n",
    "plt.plot([0, 1], [0, 1], 'k--', linewidth=4)\n",
    "\n",
    "FPR9, TPR9, _ = roc_curve(bagy_test1, [i[1] for i in bag_proba1], pos_label=logreg.classes_[1])\n",
    "ROC_AUC9 = auc(FPR9, TPR9)\n",
    "plt.plot(FPR9, TPR9, label='Bagging Model 1 ROC curve (area = %0.5f)' % ROC_AUC9, linewidth=4)\n",
    "plt.plot([0, 1], [0, 1], 'k--', linewidth=4)\n",
    "\n",
    "\n",
    "plt.legend(loc=\"lower right\")\n",
    "plt.show()"
   ]
  },
  {
   "cell_type": "code",
   "execution_count": 14,
   "metadata": {
    "collapsed": false
   },
   "outputs": [
    {
     "ename": "NameError",
     "evalue": "name 'logregy_test2' is not defined",
     "output_type": "error",
     "traceback": [
      "\u001b[0;31m---------------------------------------------------------------------------\u001b[0m",
      "\u001b[0;31mNameError\u001b[0m                                 Traceback (most recent call last)",
      "\u001b[0;32m<ipython-input-14-0a8df06ca666>\u001b[0m in \u001b[0;36m<module>\u001b[0;34m()\u001b[0m\n\u001b[1;32m     10\u001b[0m \u001b[0mlab\u001b[0m\u001b[0;34m=\u001b[0m\u001b[0mlogreg\u001b[0m\u001b[0;34m.\u001b[0m\u001b[0mclasses_\u001b[0m\u001b[0;34m[\u001b[0m\u001b[0;36m1\u001b[0m\u001b[0;34m]\u001b[0m\u001b[0;34m\u001b[0m\u001b[0m\n\u001b[1;32m     11\u001b[0m \u001b[0;34m\u001b[0m\u001b[0m\n\u001b[0;32m---> 12\u001b[0;31m \u001b[0mFPR2\u001b[0m\u001b[0;34m,\u001b[0m \u001b[0mTPR2\u001b[0m\u001b[0;34m,\u001b[0m \u001b[0m_\u001b[0m \u001b[0;34m=\u001b[0m \u001b[0mroc_curve\u001b[0m\u001b[0;34m(\u001b[0m\u001b[0mlogregy_test2\u001b[0m\u001b[0;34m,\u001b[0m \u001b[0;34m[\u001b[0m\u001b[0mi\u001b[0m\u001b[0;34m[\u001b[0m\u001b[0;36m1\u001b[0m\u001b[0;34m]\u001b[0m \u001b[0;32mfor\u001b[0m \u001b[0mi\u001b[0m \u001b[0;32min\u001b[0m \u001b[0mcv_proba2\u001b[0m\u001b[0;34m]\u001b[0m\u001b[0;34m,\u001b[0m\u001b[0mlab\u001b[0m\u001b[0;34m)\u001b[0m\u001b[0;34m\u001b[0m\u001b[0m\n\u001b[0m\u001b[1;32m     13\u001b[0m \u001b[0mROC_AUC2\u001b[0m \u001b[0;34m=\u001b[0m \u001b[0mauc\u001b[0m\u001b[0;34m(\u001b[0m\u001b[0mFPR2\u001b[0m\u001b[0;34m,\u001b[0m \u001b[0mTPR2\u001b[0m\u001b[0;34m)\u001b[0m\u001b[0;34m\u001b[0m\u001b[0m\n\u001b[1;32m     14\u001b[0m \u001b[0mplt\u001b[0m\u001b[0;34m.\u001b[0m\u001b[0mplot\u001b[0m\u001b[0;34m(\u001b[0m\u001b[0mFPR2\u001b[0m\u001b[0;34m,\u001b[0m \u001b[0mTPR2\u001b[0m\u001b[0;34m,\u001b[0m \u001b[0mlabel\u001b[0m\u001b[0;34m=\u001b[0m\u001b[0;34m'LogReg-2 ROC curve (area = %0.5f)'\u001b[0m \u001b[0;34m%\u001b[0m \u001b[0mROC_AUC2\u001b[0m\u001b[0;34m,\u001b[0m \u001b[0mlinewidth\u001b[0m\u001b[0;34m=\u001b[0m\u001b[0;36m4\u001b[0m\u001b[0;34m)\u001b[0m\u001b[0;34m\u001b[0m\u001b[0m\n",
      "\u001b[0;31mNameError\u001b[0m: name 'logregy_test2' is not defined"
     ]
    },
    {
     "data": {
      "image/png": "[encoded data removed]",
      "text/plain": [
       "<matplotlib.figure.Figure at 0x11c715410>"
      ]
     },
     "metadata": {},
     "output_type": "display_data"
    }
   ],
   "source": [
    "plt.figure(figsize=[7,6])\n",
    "amounts = logreg.classes_\n",
    "title = \"ROC Plots of Various Models of Data Set 2\".format(amounts[0], amounts[1])\n",
    "plt.xlim([0.0, 1.0])\n",
    "plt.ylim([0.0, 1.05])\n",
    "plt.xlabel('False Positive Rate', fontsize=18)\n",
    "plt.ylabel('True Positive Rate', fontsize=18)\n",
    "plt.title(title, fontsize=18)\n",
    "\n",
    "lab=logreg.classes_[1]\n",
    "\n",
    "FPR2, TPR2, _ = roc_curve(logregy_test2, [i[1] for i in cv_proba2],lab)\n",
    "ROC_AUC2 = auc(FPR2, TPR2)\n",
    "plt.plot(FPR2, TPR2, label='LogReg-2 ROC curve (area = %0.5f)' % ROC_AUC2, linewidth=4)\n",
    "plt.plot([0, 1], [0, 1], 'k--', linewidth=4)\n",
    "\n",
    "FPR4, TPR4, _ = roc_curve(knny_test2, [i[1] for i in knnproba2],   lab)\n",
    "ROC_AUC4 = auc(FPR4, TPR4)\n",
    "plt.plot(FPR4, TPR4, label='KNN-2 ROC curve (area = %0.5f)' % ROC_AUC4, linewidth=4)\n",
    "plt.plot([0, 1], [0, 1], 'k--', linewidth=4)\n",
    "\n",
    "FPR8, TPR8, _ = roc_curve(precy_test1, [i[1] for i in precprob2])\n",
    "ROC_AUC8 = auc(FPR8, TPR8)\n",
    "plt.plot(FPR8, TPR8, label='Average Precision Model 2 ROC curve (area = %0.5f)' % ROC_AUC8, linewidth=4)\n",
    "plt.plot([0, 1], [0, 1], 'k--', linewidth=4)\n",
    "\n",
    "FPR7, TPR7, _ = roc_curve(treey_test2, [i[1] for i in tree_proba2],lab)\n",
    "ROC_AUC7 = auc(FPR7, TPR7)\n",
    "plt.plot(FPR7, TPR7, label='Tree Classifier Model 2 ROC curve (area = %0.5f)' % ROC_AUC7, linewidth=4)\n",
    "plt.plot([0, 1], [0, 1], 'k--', linewidth=4)\n",
    "\n",
    "FPR10, TPR10, _ = roc_curve(bagy_test2, [i[1] for i in bag_proba2], pos_label=logreg.classes_[1])\n",
    "ROC_AUC10 = auc(FPR10, TPR10)\n",
    "plt.plot(FPR10, TPR10, label='Bagging Model 2 ROC curve (area = %0.5f)' % ROC_AUC10, linewidth=4)\n",
    "plt.plot([0, 1], [0, 1], 'k--', linewidth=4)\n",
    "\n",
    "plt.legend(loc=\"lower right\")\n",
    "plt.show()"
   ]
  },
  {
   "cell_type": "code",
   "execution_count": 15,
   "metadata": {
    "collapsed": false
   },
   "outputs": [
    {
     "ename": "NameError",
     "evalue": "name 'bagy_test1' is not defined",
     "output_type": "error",
     "traceback": [
      "\u001b[0;31m---------------------------------------------------------------------------\u001b[0m",
      "\u001b[0;31mNameError\u001b[0m                                 Traceback (most recent call last)",
      "\u001b[0;32m<ipython-input-15-655f1b953267>\u001b[0m in \u001b[0;36m<module>\u001b[0;34m()\u001b[0m\n\u001b[1;32m     10\u001b[0m \u001b[0mlab\u001b[0m\u001b[0;34m=\u001b[0m\u001b[0mlogreg\u001b[0m\u001b[0;34m.\u001b[0m\u001b[0mclasses_\u001b[0m\u001b[0;34m[\u001b[0m\u001b[0;36m1\u001b[0m\u001b[0;34m]\u001b[0m\u001b[0;34m\u001b[0m\u001b[0m\n\u001b[1;32m     11\u001b[0m \u001b[0;34m\u001b[0m\u001b[0m\n\u001b[0;32m---> 12\u001b[0;31m \u001b[0mFPR9\u001b[0m\u001b[0;34m,\u001b[0m \u001b[0mTPR9\u001b[0m\u001b[0;34m,\u001b[0m \u001b[0m_\u001b[0m \u001b[0;34m=\u001b[0m \u001b[0mroc_curve\u001b[0m\u001b[0;34m(\u001b[0m\u001b[0mbagy_test1\u001b[0m\u001b[0;34m,\u001b[0m \u001b[0;34m[\u001b[0m\u001b[0mi\u001b[0m\u001b[0;34m[\u001b[0m\u001b[0;36m1\u001b[0m\u001b[0;34m]\u001b[0m \u001b[0;32mfor\u001b[0m \u001b[0mi\u001b[0m \u001b[0;32min\u001b[0m \u001b[0mbag_proba1\u001b[0m\u001b[0;34m]\u001b[0m\u001b[0;34m,\u001b[0m \u001b[0mpos_label\u001b[0m\u001b[0;34m=\u001b[0m\u001b[0mlogreg\u001b[0m\u001b[0;34m.\u001b[0m\u001b[0mclasses_\u001b[0m\u001b[0;34m[\u001b[0m\u001b[0;36m1\u001b[0m\u001b[0;34m]\u001b[0m\u001b[0;34m)\u001b[0m\u001b[0;34m\u001b[0m\u001b[0m\n\u001b[0m\u001b[1;32m     13\u001b[0m \u001b[0mROC_AUC9\u001b[0m \u001b[0;34m=\u001b[0m \u001b[0mauc\u001b[0m\u001b[0;34m(\u001b[0m\u001b[0mFPR9\u001b[0m\u001b[0;34m,\u001b[0m \u001b[0mTPR9\u001b[0m\u001b[0;34m)\u001b[0m\u001b[0;34m\u001b[0m\u001b[0m\n\u001b[1;32m     14\u001b[0m \u001b[0mplt\u001b[0m\u001b[0;34m.\u001b[0m\u001b[0mplot\u001b[0m\u001b[0;34m(\u001b[0m\u001b[0mFPR9\u001b[0m\u001b[0;34m,\u001b[0m \u001b[0mTPR9\u001b[0m\u001b[0;34m,\u001b[0m \u001b[0mlabel\u001b[0m\u001b[0;34m=\u001b[0m\u001b[0;34m'Bagging Model 1 ROC curve (area = %0.5f)'\u001b[0m \u001b[0;34m%\u001b[0m \u001b[0mROC_AUC9\u001b[0m\u001b[0;34m,\u001b[0m \u001b[0mlinewidth\u001b[0m\u001b[0;34m=\u001b[0m\u001b[0;36m4\u001b[0m\u001b[0;34m)\u001b[0m\u001b[0;34m\u001b[0m\u001b[0m\n",
      "\u001b[0;31mNameError\u001b[0m: name 'bagy_test1' is not defined"
     ]
    },
    {
     "data": {
      "image/png": "[encoded data removed]",
      "text/plain": [
       "<matplotlib.figure.Figure at 0x11ad92990>"
      ]
     },
     "metadata": {},
     "output_type": "display_data"
    }
   ],
   "source": [
    "plt.figure(figsize=[7,6])\n",
    "amounts = logreg.classes_\n",
    "title = \"ROC Plots of Various Models\".format(amounts[0], amounts[1])\n",
    "plt.xlim([0.0, 1.0])\n",
    "plt.ylim([0.0, 1.05])\n",
    "plt.xlabel('False Positive Rate', fontsize=18)\n",
    "plt.ylabel('True Positive Rate', fontsize=18)\n",
    "plt.title(title, fontsize=18)\n",
    "\n",
    "lab=logreg.classes_[1]\n",
    "\n",
    "FPR9, TPR9, _ = roc_curve(bagy_test1, [i[1] for i in bag_proba1], pos_label=logreg.classes_[1])\n",
    "ROC_AUC9 = auc(FPR9, TPR9)\n",
    "plt.plot(FPR9, TPR9, label='Bagging Model 1 ROC curve (area = %0.5f)' % ROC_AUC9, linewidth=4)\n",
    "plt.plot([0, 1], [0, 1], 'k--', linewidth=4)\n",
    "\n",
    "FPR10, TPR10, _ = roc_curve(bagy_test2, [i[1] for i in bag_proba2], pos_label=logreg.classes_[1])\n",
    "ROC_AUC10 = auc(FPR10, TPR10)\n",
    "plt.plot(FPR10, TPR10, label='Bagging Model 2 ROC curve (area = %0.5f)' % ROC_AUC10, linewidth=4)\n",
    "plt.plot([0, 1], [0, 1], 'k--', linewidth=4)\n",
    "\n",
    "plt.legend(loc=\"lower right\")\n",
    "plt.show()"
   ]
  },
  {
   "cell_type": "code",
   "execution_count": null,
   "metadata": {
    "collapsed": true
   },
   "outputs": [],
   "source": []
  },
  {
   "cell_type": "code",
   "execution_count": null,
   "metadata": {
    "collapsed": true
   },
   "outputs": [],
   "source": []
  },
  {
   "cell_type": "code",
   "execution_count": null,
   "metadata": {
    "collapsed": true
   },
   "outputs": [],
   "source": []
  },
  {
   "cell_type": "code",
   "execution_count": 172,
   "metadata": {
    "collapsed": false
   },
   "outputs": [],
   "source": [
    "from nltk import pos_tag, ne_chunk\n",
    "from nltk.tokenize import SpaceTokenizer\n",
    "import pandas as pd\n",
    "import numpy as np\n",
    "import matplotlib.pyplot as plt\n",
    "import seaborn as sns\n",
    "from sklearn.ensemble import ExtraTreesClassifier,GradientBoostingClassifier,RandomForestClassifier\n",
    "from sklearn.metrics import accuracy_score,classification_report,confusion_matrix\n",
    "from sklearn.feature_extraction.text import CountVectorizer\n",
    "from sklearn.feature_extraction.text import HashingVectorizer\n",
    "from nltk.stem import SnowballStemmer,PorterStemmer\n",
    "from stemming import lovins,porter2,paicehusk\n",
    "import nltk\n",
    "from nltk.corpus import stopwords\n",
    "from sklearn.feature_extraction.text import TfidfVectorizer\n",
    "import stop_words\n",
    "import pprint\n",
    "import re\n",
    "import time\n",
    "import spacy\n",
    "import datetime\n",
    "import requests\n",
    "import BeautifulSoup\n",
    "\n",
    "stoppers=stopwords.words('english')\n",
    "stoppers= [x.lower() for x in stoppers]\n",
    "%matplotlib inline\n",
    "tokenizer = SpaceTokenizer()"
   ]
  },
  {
   "cell_type": "code",
   "execution_count": 173,
   "metadata": {
    "collapsed": true
   },
   "outputs": [],
   "source": []
  },
  {
   "cell_type": "code",
   "execution_count": 174,
   "metadata": {
    "collapsed": false
   },
   "outputs": [],
   "source": []
  },
  {
   "cell_type": "code",
   "execution_count": 175,
   "metadata": {
    "collapsed": true
   },
   "outputs": [],
   "source": []
  },
  {
   "cell_type": "code",
   "execution_count": null,
   "metadata": {
    "collapsed": false
   },
   "outputs": [],
   "source": []
  },
  {
   "cell_type": "code",
   "execution_count": null,
   "metadata": {
    "collapsed": false
   },
   "outputs": [],
   "source": []
  },
  {
   "cell_type": "code",
   "execution_count": null,
   "metadata": {
    "collapsed": false
   },
   "outputs": [],
   "source": []
  },
  {
   "cell_type": "code",
   "execution_count": null,
   "metadata": {
    "collapsed": true
   },
   "outputs": [],
   "source": []
  },
  {
   "cell_type": "code",
   "execution_count": null,
   "metadata": {
    "collapsed": false
   },
   "outputs": [],
   "source": []
  },
  {
   "cell_type": "code",
   "execution_count": 171,
   "metadata": {
    "collapsed": false
   },
   "outputs": [
    {
     "data": {
      "text/html": [
       "<div>\n",
       "<table border=\"1\" class=\"dataframe\">\n",
       "  <thead>\n",
       "    <tr style=\"text-align: right;\">\n",
       "      <th></th>\n",
       "      <th>0</th>\n",
       "    </tr>\n",
       "  </thead>\n",
       "  <tbody>\n",
       "    <tr>\n",
       "      <th>0</th>\n",
       "      <td>1</td>\n",
       "    </tr>\n",
       "    <tr>\n",
       "      <th>1</th>\n",
       "      <td>2</td>\n",
       "    </tr>\n",
       "  </tbody>\n",
       "</table>\n",
       "</div>"
      ],
      "text/plain": [
       "   0\n",
       "0  1\n",
       "1  2"
      ]
     },
     "execution_count": 171,
     "metadata": {},
     "output_type": "execute_result"
    }
   ],
   "source": [
    "pd.DataFrame([1,2])"
   ]
  },
  {
   "cell_type": "code",
   "execution_count": null,
   "metadata": {
    "collapsed": true
   },
   "outputs": [],
   "source": []
  },
  {
   "cell_type": "code",
   "execution_count": 152,
   "metadata": {
    "collapsed": false
   },
   "outputs": [
    {
     "data": {
      "text/plain": [
       "['whomever', 'therefore', 'however', 'whoever', 'whomever']"
      ]
     },
     "execution_count": 152,
     "metadata": {},
     "output_type": "execute_result"
    }
   ],
   "source": [
    "stoppers[-5:]"
   ]
  },
  {
   "cell_type": "code",
   "execution_count": 156,
   "metadata": {
    "collapsed": false
   },
   "outputs": [
    {
     "data": {
      "text/plain": [
       "True"
      ]
     },
     "execution_count": 156,
     "metadata": {},
     "output_type": "execute_result"
    }
   ],
   "source": [
    "'abc' not in ['ab', 'ac']"
   ]
  },
  {
   "cell_type": "code",
   "execution_count": 153,
   "metadata": {
    "collapsed": false
   },
   "outputs": [
    {
     "data": {
      "text/plain": [
       "'therefore'"
      ]
     },
     "execution_count": 153,
     "metadata": {},
     "output_type": "execute_result"
    }
   ],
   "source": [
    "'Therefore'.lower()"
   ]
  },
  {
   "cell_type": "code",
   "execution_count": 148,
   "metadata": {
    "collapsed": false
   },
   "outputs": [],
   "source": [
    "stoppers.extend(['therefore','however','whoever','whomever'])"
   ]
  },
  {
   "cell_type": "code",
   "execution_count": 181,
   "metadata": {
    "collapsed": false
   },
   "outputs": [
    {
     "data": {
      "text/plain": [
       "[(u'Socrates', 'NNS'),\n",
       " (u'is', 'VBZ'),\n",
       " (u'man.', 'JJ'),\n",
       " (u'Man', 'NNP'),\n",
       " (u'is', 'VBZ'),\n",
       " (u'mortal.', 'JJ'),\n",
       " (u'Therefore,', 'NNP'),\n",
       " (u'socrates', 'NNS'),\n",
       " (u'is', 'VBZ'),\n",
       " (u'mortal.', 'JJ'),\n",
       " (u'However,', 'NNP'),\n",
       " (u'Thomas', 'NNP'),\n",
       " (u'is', 'VBZ'),\n",
       " (u'immortal.', 'JJ'),\n",
       " (u'Is', 'NNP'),\n",
       " (u'John', 'NNP'),\n",
       " (u'Cena', 'NNP'),\n",
       " (u'even', 'RB'),\n",
       " (u'a', 'DT'),\n",
       " (u'meme.', 'NN'),\n",
       " (u'123', 'CD'),\n",
       " (u'3M', 'CD'),\n",
       " (u'is', 'VBZ'),\n",
       " (u'a', 'DT'),\n",
       " (u'company,', 'NN'),\n",
       " (u'and', 'CC'),\n",
       " (u'so', 'RB'),\n",
       " (u'is', 'VBZ'),\n",
       " (u'Apple.', 'NNP')]"
      ]
     },
     "execution_count": 181,
     "metadata": {},
     "output_type": "execute_result"
    }
   ],
   "source": [
    "pos_tag(toks)"
   ]
  },
  {
   "cell_type": "code",
   "execution_count": 179,
   "metadata": {
    "collapsed": false
   },
   "outputs": [],
   "source": [
    "toks=tokenizer.tokenize(sentence)\n",
    "things= [x[0] for x in pos_tag(toks) if (('nns'== x[1].lower()) or 'nnp'==x[1].lower())]\n",
    "things2=[]\n",
    "for word in things:\n",
    "    word=word.strip('.').strip(',')\n",
    "    things2.append(word)\n",
    "new_words= [x for x in things2 if x.lower() not in stoppers]\n",
    "\n",
    "\n",
    "# nes = [' '.join(map(lambda x: x[0], ne.leaves())) for ne in chunked_nes if isinstance(ne, nltk.tree.Tree)]\n"
   ]
  },
  {
   "cell_type": "code",
   "execution_count": 168,
   "metadata": {
    "collapsed": false
   },
   "outputs": [
    {
     "data": {
      "text/plain": [
       "[u'Socrates', u'Man', u'socrates', u'Thomas', u'John', u'Cena', u'Apple']"
      ]
     },
     "execution_count": 168,
     "metadata": {},
     "output_type": "execute_result"
    }
   ],
   "source": [
    "new_words"
   ]
  },
  {
   "cell_type": "code",
   "execution_count": 150,
   "metadata": {
    "collapsed": false
   },
   "outputs": [
    {
     "data": {
      "text/plain": [
       "[u'Socrates',\n",
       " u'Man',\n",
       " u'Therefore',\n",
       " u'socrates',\n",
       " u'However',\n",
       " u'Thomas',\n",
       " u'John',\n",
       " u'Cena',\n",
       " u'Apple']"
      ]
     },
     "execution_count": 150,
     "metadata": {},
     "output_type": "execute_result"
    }
   ],
   "source": [
    "new_words"
   ]
  },
  {
   "cell_type": "code",
   "execution_count": 122,
   "metadata": {
    "collapsed": false
   },
   "outputs": [
    {
     "data": {
      "text/plain": [
       "[u'John Cena']"
      ]
     },
     "execution_count": 122,
     "metadata": {},
     "output_type": "execute_result"
    }
   ],
   "source": [
    "nes"
   ]
  },
  {
   "cell_type": "code",
   "execution_count": 111,
   "metadata": {
    "collapsed": false
   },
   "outputs": [
    {
     "data": {
      "text/plain": [
       "[(u'Socrates', 'NNS'),\n",
       " (u'is', 'VBZ'),\n",
       " (u'man.', 'JJ'),\n",
       " (u'Man', 'NNP'),\n",
       " (u'is', 'VBZ'),\n",
       " (u'mortal.', 'JJ'),\n",
       " (u'Therefore,', 'NNP'),\n",
       " (u'socrates', 'NNS'),\n",
       " (u'is', 'VBZ'),\n",
       " (u'mortal.', 'JJ'),\n",
       " (u'However,', 'NNP'),\n",
       " (u'Thomas', 'NNP'),\n",
       " (u'is', 'VBZ'),\n",
       " (u'immortal.', 'JJ'),\n",
       " (u'Is', 'NNP'),\n",
       " (u'John', 'NNP'),\n",
       " (u'Cena', 'NNP'),\n",
       " (u'even', 'RB'),\n",
       " (u'a', 'DT'),\n",
       " (u'meme.', 'NN'),\n",
       " (u'123', 'CD'),\n",
       " (u'3M', 'CD'),\n",
       " (u'is', 'VBZ'),\n",
       " (u'a', 'DT'),\n",
       " (u'company,', 'NN'),\n",
       " (u'and', 'CC'),\n",
       " (u'so', 'RB'),\n",
       " (u'is', 'VBZ'),\n",
       " (u'Apple.', 'NNP')]"
      ]
     },
     "execution_count": 111,
     "metadata": {},
     "output_type": "execute_result"
    }
   ],
   "source": [
    "pos_tag(toks)"
   ]
  },
  {
   "cell_type": "code",
   "execution_count": 51,
   "metadata": {
    "collapsed": true
   },
   "outputs": [],
   "source": [
    "import nltk"
   ]
  },
  {
   "cell_type": "code",
   "execution_count": 25,
   "metadata": {
    "collapsed": false
   },
   "outputs": [
    {
     "name": "stdout",
     "output_type": "stream",
     "text": [
      "showing info https://raw.githubusercontent.com/nltk/nltk_data/gh-pages/index.xml\n"
     ]
    },
    {
     "data": {
      "text/plain": [
       "True"
      ]
     },
     "execution_count": 25,
     "metadata": {},
     "output_type": "execute_result"
    }
   ],
   "source": [
    "nltk.download()"
   ]
  },
  {
   "cell_type": "code",
   "execution_count": null,
   "metadata": {
    "collapsed": true
   },
   "outputs": [],
   "source": []
  },
  {
   "cell_type": "code",
   "execution_count": null,
   "metadata": {
    "collapsed": true
   },
   "outputs": [],
   "source": []
  },
  {
   "cell_type": "code",
   "execution_count": null,
   "metadata": {
    "collapsed": true
   },
   "outputs": [],
   "source": []
  },
  {
   "cell_type": "code",
   "execution_count": null,
   "metadata": {
    "collapsed": true
   },
   "outputs": [],
   "source": []
  },
  {
   "cell_type": "code",
   "execution_count": null,
   "metadata": {
    "collapsed": true
   },
   "outputs": [],
   "source": []
  }
 ],
 "metadata": {
  "anaconda-cloud": {},
  "kernelspec": {
   "display_name": "Python [default]",
   "language": "python",
   "name": "python2"
  },
  "language_info": {
   "codemirror_mode": {
    "name": "ipython",
    "version": 2
   },
   "file_extension": ".py",
   "mimetype": "text/x-python",
   "name": "python",
   "nbconvert_exporter": "python",
   "pygments_lexer": "ipython2",
   "version": "2.7.12"
  }
 },
 "nbformat": 4,
 "nbformat_minor": 0
}
