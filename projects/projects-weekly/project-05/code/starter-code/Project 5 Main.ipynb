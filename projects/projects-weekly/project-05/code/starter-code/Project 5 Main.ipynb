{
 "cells": [
  {
   "cell_type": "code",
   "execution_count": 165,
   "metadata": {
    "collapsed": false
   },
   "outputs": [],
   "source": [
    "import pandas as pd\n",
    "import numpy as np\n",
    "import seaborn as sns\n",
    "import matplotlib.pyplot as plt\n",
    "from sklearn.linear_model import LogisticRegressionCV, LogisticRegression\n",
    "from sklearn.linear_model import LinearRegression\n",
    "from sklearn.cross_validation import train_test_split\n",
    "from sklearn.grid_search import GridSearchCV\n",
    "from sklearn.metrics import mean_squared_error, classification_report, confusion_matrix, accuracy_score\n",
    "from sklearn.cross_validation import train_test_split, cross_val_score\n",
    "from sklearn.metrics import roc_auc_score, roc_curve, auc\n",
    "import sqlite3\n",
    "import psycopg2\n",
    "% matplotlib inline\n",
    "pd.set_option('display.max_rows', 500)"
   ]
  },
  {
   "cell_type": "code",
   "execution_count": 115,
   "metadata": {
    "collapsed": false
   },
   "outputs": [],
   "source": [
    "lm = LinearRegression()\n",
    "LRCV=LogisticRegressionCV"
   ]
  },
  {
   "cell_type": "code",
   "execution_count": 116,
   "metadata": {
    "collapsed": false
   },
   "outputs": [],
   "source": [
    "def age_bin(age):\n",
    "    value=\"\"\n",
    "    if pd.isnull(age):\n",
    "        value=\"Unknown\"\n",
    "    elif age<10:\n",
    "        value=\"und10\"\n",
    "    elif age<20:\n",
    "        value=\"10-19\"\n",
    "    elif age<25:\n",
    "        value=\"20-24\"\n",
    "    elif age<30:\n",
    "        value=\"25-29\"\n",
    "    elif age<40:\n",
    "        value=\"30-39\"\n",
    "    elif age<45:\n",
    "        value=\"40-44\"\n",
    "    elif age<50:\n",
    "        value=\"45-49\"\n",
    "    elif age<55:\n",
    "        value=\"50-54\"\n",
    "    else:\n",
    "        value=\"55+\"\n",
    "    return value\n",
    "\n",
    "def cabin_bin(cabin):\n",
    "    value=\"\"\n",
    "    if pd.isnull(cabin):\n",
    "        value=\"Unknown\"\n",
    "    else:\n",
    "        value=cabin[0]\n",
    "    return value\n",
    "\n",
    "def last_names(name):\n",
    "    splits=name.split(\",\")[0]\n",
    "    splits=splits.replace(\",\",\"\")\n",
    "    return splits\n",
    "def fare_bin(fare):\n",
    "    value=\"\"\n",
    "    if fare<10:\n",
    "        value=\"Und10\"\n",
    "    if fare<30:\n",
    "        value=\"10-30\"\n",
    "    if fare<75:\n",
    "        value"
   ]
  },
  {
   "cell_type": "code",
   "execution_count": 117,
   "metadata": {
    "collapsed": true
   },
   "outputs": [],
   "source": [
    "#Potentially use name vectorization; ethnicity of names"
   ]
  },
  {
   "cell_type": "code",
   "execution_count": 144,
   "metadata": {
    "collapsed": false
   },
   "outputs": [],
   "source": [
    "#df=pd.read_csv(\"train.csv\")\n",
    "import psycopg2\n",
    "params = {\n",
    " 'dbname': 'titanic',\n",
    " 'user': 'dsi_student',\n",
    " 'password': 'gastudents',\n",
    " 'host': 'dsi.c20gkj5cvu3l.us-east-1.rds.amazonaws.com',\n",
    " 'port': 5432\n",
    "}\n",
    "\n",
    "conn = psycopg2.connect(**params)\n",
    "c = conn.cursor()\n",
    "df=pd.read_sql(\"SELECT * FROM train\",con=conn)\n",
    "copy=df.copy()"
   ]
  },
  {
   "cell_type": "code",
   "execution_count": 158,
   "metadata": {
    "collapsed": false
   },
   "outputs": [],
   "source": [
    "copy=df.copy()\n",
    "copy[\"Fare\"]=copy[\"Fare\"].apply(lambda x: x+.5)\n",
    "copy[\"Fare\"]=copy[\"Fare\"].apply(lambda x: np.log(x))\n",
    "copy[\"Fare\"]=copy[\"Fare\"].apply(lambda x: round(x))"
   ]
  },
  {
   "cell_type": "code",
   "execution_count": 159,
   "metadata": {
    "collapsed": false,
    "scrolled": false
   },
   "outputs": [
    {
     "data": {
      "text/plain": [
       "(array([  15.,    0.,    0.,    0.,  358.,  309.,    0.,  148.,   50.,   11.]),\n",
       " array([-1. , -0.3,  0.4,  1.1,  1.8,  2.5,  3.2,  3.9,  4.6,  5.3,  6. ]),\n",
       " <a list of 10 Patch objects>)"
      ]
     },
     "execution_count": 159,
     "metadata": {},
     "output_type": "execute_result"
    },
    {
     "data": {
      "image/png": "[encoded data removed]",
      "text/plain": [
       "<matplotlib.figure.Figure at 0x11e0c9550>"
      ]
     },
     "metadata": {},
     "output_type": "display_data"
    }
   ],
   "source": [
    "plt.hist(copy[\"Fare\"],bins=10)"
   ]
  },
  {
   "cell_type": "code",
   "execution_count": 139,
   "metadata": {
    "collapsed": false
   },
   "outputs": [
    {
     "data": {
      "text/html": [
       "<div>\n",
       "<table border=\"1\" class=\"dataframe\">\n",
       "  <thead>\n",
       "    <tr style=\"text-align: right;\">\n",
       "      <th></th>\n",
       "      <th>index</th>\n",
       "      <th>PassengerId</th>\n",
       "      <th>Survived</th>\n",
       "      <th>Pclass</th>\n",
       "      <th>Name</th>\n",
       "      <th>Sex</th>\n",
       "      <th>Age</th>\n",
       "      <th>SibSp</th>\n",
       "      <th>Parch</th>\n",
       "      <th>Ticket</th>\n",
       "      <th>Fare</th>\n",
       "      <th>Cabin</th>\n",
       "      <th>Embarked</th>\n",
       "    </tr>\n",
       "  </thead>\n",
       "  <tbody>\n",
       "    <tr>\n",
       "      <th>0</th>\n",
       "      <td>0</td>\n",
       "      <td>1</td>\n",
       "      <td>0</td>\n",
       "      <td>3</td>\n",
       "      <td>Braund</td>\n",
       "      <td>male</td>\n",
       "      <td>20-24</td>\n",
       "      <td>1</td>\n",
       "      <td>0</td>\n",
       "      <td>A/5 21171</td>\n",
       "      <td>1.981139</td>\n",
       "      <td>Unknown</td>\n",
       "      <td>S</td>\n",
       "    </tr>\n",
       "    <tr>\n",
       "      <th>1</th>\n",
       "      <td>1</td>\n",
       "      <td>2</td>\n",
       "      <td>1</td>\n",
       "      <td>1</td>\n",
       "      <td>Cumings</td>\n",
       "      <td>female</td>\n",
       "      <td>30-39</td>\n",
       "      <td>1</td>\n",
       "      <td>0</td>\n",
       "      <td>PC 17599</td>\n",
       "      <td>4.266676</td>\n",
       "      <td>C</td>\n",
       "      <td>C</td>\n",
       "    </tr>\n",
       "    <tr>\n",
       "      <th>2</th>\n",
       "      <td>2</td>\n",
       "      <td>3</td>\n",
       "      <td>1</td>\n",
       "      <td>3</td>\n",
       "      <td>Heikkinen</td>\n",
       "      <td>female</td>\n",
       "      <td>25-29</td>\n",
       "      <td>0</td>\n",
       "      <td>0</td>\n",
       "      <td>STON/O2. 3101282</td>\n",
       "      <td>2.070148</td>\n",
       "      <td>Unknown</td>\n",
       "      <td>S</td>\n",
       "    </tr>\n",
       "    <tr>\n",
       "      <th>3</th>\n",
       "      <td>3</td>\n",
       "      <td>4</td>\n",
       "      <td>1</td>\n",
       "      <td>1</td>\n",
       "      <td>Futrelle</td>\n",
       "      <td>female</td>\n",
       "      <td>30-39</td>\n",
       "      <td>1</td>\n",
       "      <td>0</td>\n",
       "      <td>113803</td>\n",
       "      <td>3.972196</td>\n",
       "      <td>C</td>\n",
       "      <td>S</td>\n",
       "    </tr>\n",
       "    <tr>\n",
       "      <th>4</th>\n",
       "      <td>4</td>\n",
       "      <td>5</td>\n",
       "      <td>0</td>\n",
       "      <td>3</td>\n",
       "      <td>Allen</td>\n",
       "      <td>male</td>\n",
       "      <td>30-39</td>\n",
       "      <td>0</td>\n",
       "      <td>0</td>\n",
       "      <td>373450</td>\n",
       "      <td>2.085796</td>\n",
       "      <td>Unknown</td>\n",
       "      <td>S</td>\n",
       "    </tr>\n",
       "  </tbody>\n",
       "</table>\n",
       "</div>"
      ],
      "text/plain": [
       "   index  PassengerId  Survived  Pclass       Name     Sex    Age  SibSp  \\\n",
       "0      0            1         0       3     Braund    male  20-24      1   \n",
       "1      1            2         1       1    Cumings  female  30-39      1   \n",
       "2      2            3         1       3  Heikkinen  female  25-29      0   \n",
       "3      3            4         1       1   Futrelle  female  30-39      1   \n",
       "4      4            5         0       3      Allen    male  30-39      0   \n",
       "\n",
       "   Parch            Ticket      Fare    Cabin Embarked  \n",
       "0      0         A/5 21171  1.981139  Unknown        S  \n",
       "1      0          PC 17599  4.266676        C        C  \n",
       "2      0  STON/O2. 3101282  2.070148  Unknown        S  \n",
       "3      0            113803  3.972196        C        S  \n",
       "4      0            373450  2.085796  Unknown        S  "
      ]
     },
     "execution_count": 139,
     "metadata": {},
     "output_type": "execute_result"
    }
   ],
   "source": [
    "copy.head(5)"
   ]
  },
  {
   "cell_type": "code",
   "execution_count": null,
   "metadata": {
    "collapsed": false
   },
   "outputs": [],
   "source": []
  },
  {
   "cell_type": "code",
   "execution_count": 172,
   "metadata": {
    "collapsed": false
   },
   "outputs": [],
   "source": [
    "copy=df.copy()\n",
    "copy[\"Fare\"]=copy[\"Fare\"].apply(lambda x: x+.5)\n",
    "copy[\"Fare\"]=copy[\"Fare\"].apply(lambda x: np.log(x))\n",
    "#copy[\"Fare\"]=copy[\"Fare\"].apply(lambda x: round(x))\n",
    "#copy=copy[copy[\"Sex\"]=='female'].copy()\n",
    "regression_df=copy\n",
    "regression_df[\"Age\"]=regression_df[\"Age\"].apply(lambda x: age_bin(x))\n",
    "regression_df[\"Name\"]=regression_df[\"Name\"].apply(lambda x: last_names(x))\n",
    "regression_df[\"Cabin\"]=regression_df[\"Cabin\"].apply(lambda x: cabin_bin(x))\n",
    "temp=regression_df.copy()\n",
    "#temp[\"Travel Group\"]=temp[\"Travel Group\"].apply(lambda x: \"1\" if x>1 else \"0\")\n",
    "temp.head()\n",
    "regression_df=temp\n",
    "regression_df[\"Age-Sex\"]=regression_df[\"Age\"]+regression_df[\"Sex\"]\n",
    "#regression_df[\"Cabin-Fare\"]=regression_df[\"Cabin\"]+regression_df[\"Fare\"]\n",
    "#regression_df[\"Embarked-Cabin\"]=regression_df[\"Embarked\"]+regression_df[\"Cabin\"]\n",
    "#regression_df[\"Cabin-Sex\"]=regression_df[\"Travel Group\"]+regression_df[\"Age\"]+regression_df[\"Sex\"]\n",
    "target=regression_df[\"Survived\"].copy()\n",
    "temp=regression_df.copy()\n",
    "delete=[\"Name\",\"Ticket\",\"index\",\"PassengerId\",\"Survived\",\"Age\"]\n",
    "for x in delete:\n",
    "    del regression_df[x]\n",
    "regression_df=pd.get_dummies(regression_df,columns=[\"Sex\",\"Embarked\",\"Cabin\",\"Age-Sex\"])"
   ]
  },
  {
   "cell_type": "code",
   "execution_count": 173,
   "metadata": {
    "collapsed": false,
    "scrolled": false
   },
   "outputs": [
    {
     "data": {
      "text/html": [
       "<div>\n",
       "<table border=\"1\" class=\"dataframe\">\n",
       "  <thead>\n",
       "    <tr style=\"text-align: right;\">\n",
       "      <th></th>\n",
       "      <th>index</th>\n",
       "      <th>PassengerId</th>\n",
       "      <th>Survived</th>\n",
       "      <th>Pclass</th>\n",
       "      <th>Name</th>\n",
       "      <th>Sex</th>\n",
       "      <th>Age</th>\n",
       "      <th>SibSp</th>\n",
       "      <th>Parch</th>\n",
       "      <th>Ticket</th>\n",
       "      <th>Fare</th>\n",
       "      <th>Cabin</th>\n",
       "      <th>Embarked</th>\n",
       "      <th>Age-Sex</th>\n",
       "    </tr>\n",
       "  </thead>\n",
       "  <tbody>\n",
       "    <tr>\n",
       "      <th>0</th>\n",
       "      <td>0</td>\n",
       "      <td>1</td>\n",
       "      <td>0</td>\n",
       "      <td>3</td>\n",
       "      <td>Braund</td>\n",
       "      <td>male</td>\n",
       "      <td>20-24</td>\n",
       "      <td>1</td>\n",
       "      <td>0</td>\n",
       "      <td>A/5 21171</td>\n",
       "      <td>2.047693</td>\n",
       "      <td>Unknown</td>\n",
       "      <td>S</td>\n",
       "      <td>20-24male</td>\n",
       "    </tr>\n",
       "    <tr>\n",
       "      <th>1</th>\n",
       "      <td>1</td>\n",
       "      <td>2</td>\n",
       "      <td>1</td>\n",
       "      <td>1</td>\n",
       "      <td>Cumings</td>\n",
       "      <td>female</td>\n",
       "      <td>30-39</td>\n",
       "      <td>1</td>\n",
       "      <td>0</td>\n",
       "      <td>PC 17599</td>\n",
       "      <td>4.273652</td>\n",
       "      <td>C</td>\n",
       "      <td>C</td>\n",
       "      <td>30-39female</td>\n",
       "    </tr>\n",
       "  </tbody>\n",
       "</table>\n",
       "</div>"
      ],
      "text/plain": [
       "   index  PassengerId  Survived  Pclass     Name     Sex    Age  SibSp  Parch  \\\n",
       "0      0            1         0       3   Braund    male  20-24      1      0   \n",
       "1      1            2         1       1  Cumings  female  30-39      1      0   \n",
       "\n",
       "      Ticket      Fare    Cabin Embarked      Age-Sex  \n",
       "0  A/5 21171  2.047693  Unknown        S    20-24male  \n",
       "1   PC 17599  4.273652        C        C  30-39female  "
      ]
     },
     "execution_count": 173,
     "metadata": {},
     "output_type": "execute_result"
    }
   ],
   "source": [
    "temp.head(2)"
   ]
  },
  {
   "cell_type": "code",
   "execution_count": 174,
   "metadata": {
    "collapsed": false
   },
   "outputs": [
    {
     "data": {
      "text/plain": [
       "array([3, 1, 2])"
      ]
     },
     "execution_count": 174,
     "metadata": {},
     "output_type": "execute_result"
    }
   ],
   "source": [
    "temp[\"Pclass\"].unique()"
   ]
  },
  {
   "cell_type": "code",
   "execution_count": 175,
   "metadata": {
    "collapsed": false
   },
   "outputs": [],
   "source": [
    "bestx0=0.\n",
    "bestx1=0.\n",
    "bestx2=0.\n",
    "bestf1=0.\n",
    "max_rand=5\n",
    "curr_f1=[]\n",
    "\n",
    "for x0_change in np.linspace(0.30,0.48,4):\n",
    "    curr_f1=[]\n",
    "    for random in range(1,max_rand):\n",
    "        x_train,x_test,y_train,y_test=train_test_split(regression_df,target,\n",
    "                                                       stratify=target,random_state=random)\n",
    "        logreg = LogisticRegression(solver='liblinear') #'newton-cg', 'lbfgs', 'liblinear', 'sag'\n",
    "        C_vals = np.linspace(0.0000001,1.1,10)\n",
    "        penalties = ['l1','l2']\n",
    "\n",
    "        gs = GridSearchCV(logreg, {'penalty': penalties, 'C': C_vals}, cv=5)\n",
    "        gs.fit(x_train, y_train)\n",
    "\n",
    "        logreg = LogisticRegression(C=gs.best_params_['C'], penalty=gs.best_params_['penalty'])\n",
    "        cv_model = logreg.fit(x_train, y_train)\n",
    "        cv_pred = cv_model.predict(x_test)\n",
    "\n",
    "        y_score = cv_model.decision_function(x_test)\n",
    "\n",
    "        i=0\n",
    "        pred=[]\n",
    "        for x in y_score:\n",
    "            if (x+x0_change)>(0.5):\n",
    "                pred.append(cv_model.classes_[1])\n",
    "            else:\n",
    "                pred.append(cv_model.classes_[0])\n",
    "        cv_pred=pred\n",
    "\n",
    "        y_test=np.array(y_test)\n",
    "        y_test=y_test.reshape((len(y_test),1))\n",
    "\n",
    "        \"\"\" Check your performance so far.\"\"\"\n",
    "\n",
    "        conmat = np.array(confusion_matrix(y_test, cv_pred))\n",
    "        confusion = pd.DataFrame(conmat, index=cv_model.classes_, columns=cv_model.classes_)\n",
    "        curr_f1.append(float(classification_report(y_test,cv_pred)[-15:-11]))\n",
    "    if np.mean(curr_f1)>bestf1:\n",
    "        bestf1=np.mean(curr_f1)\n",
    "        bestx0=x0_change"
   ]
  },
  {
   "cell_type": "code",
   "execution_count": 176,
   "metadata": {
    "collapsed": false
   },
   "outputs": [
    {
     "name": "stdout",
     "output_type": "stream",
     "text": [
      "Random Iterations:  15\n",
      "\n",
      "Best f1:   0.86\n",
      "Best x0:   0.42\n",
      "\n",
      "Average Precision:  0.825333333333\n",
      "Average Recall:     0.824666666667\n",
      "Average F1-Score:   0.824\n",
      "\n",
      "Variance Precision: 0.000304888888889\n",
      "Variance Recall:    0.000264888888889\n",
      "Variance F1-Score:  0.000317333333333\n",
      "\n",
      "     0   1\n",
      "0  165  17\n",
      "1   25  88\n",
      "             precision    recall  f1-score   support\n",
      "\n",
      "          0       0.87      0.91      0.89       182\n",
      "          1       0.84      0.78      0.81       113\n",
      "\n",
      "avg / total       0.86      0.86      0.86       295\n",
      "\n"
     ]
    }
   ],
   "source": [
    "prec=[]\n",
    "recall=[]\n",
    "f1score=[]\n",
    "bestf1=[]\n",
    "max_rand=16\n",
    "\n",
    "for random in range(1,max_rand):\n",
    "    x_train,x_test,y_train,y_test=train_test_split(regression_df,target,test_size=.33,stratify=target,\n",
    "                                                   random_state=random)\n",
    "    logreg = LogisticRegression(solver='liblinear') #'newton-cg', 'lbfgs', 'liblinear', 'sag'\n",
    "    C_vals = np.linspace(0.0000001,1.1,10)\n",
    "    penalties = ['l1','l2']\n",
    "\n",
    "    gs = GridSearchCV(logreg, {'penalty': penalties, 'C': C_vals}, cv=5)\n",
    "    gs.fit(x_train, y_train)\n",
    "\n",
    "    logreg = LogisticRegression(C=gs.best_params_['C'], penalty=gs.best_params_['penalty'])\n",
    "    cv_model = logreg.fit(x_train, y_train)\n",
    "    cv_pred = cv_model.predict(x_test)\n",
    "\n",
    "    y_score = cv_model.decision_function(x_test) # Submit these response, the output of model.decision_function\n",
    "\n",
    "    i=0\n",
    "    pred=[]\n",
    "    x0_change=bestx0\n",
    "    for x in y_score:\n",
    "        if (x+x0_change)>(0.5):\n",
    "            pred.append(cv_model.classes_[1])\n",
    "        else:\n",
    "            pred.append(cv_model.classes_[0])\n",
    "    cv_pred=pred\n",
    "\n",
    "    \"\"\" Check your performance so far.\"\"\"\n",
    "\n",
    "    conmat = np.array(confusion_matrix(y_test, cv_pred))\n",
    "    confusion = pd.DataFrame(conmat, index=cv_model.classes_, columns=cv_model.classes_)      \n",
    "    \n",
    "    prec.append(float(classification_report(y_test,cv_pred)[-35:-31]))\n",
    "    recall.append(float(classification_report(y_test,cv_pred)[-25:-21]))\n",
    "    f1score.append(float(classification_report(y_test,cv_pred)[-15:-11]))\n",
    "    bestf1.append(float(classification_report(y_test,cv_pred)[-15:-11]))\n",
    "\n",
    "\n",
    "\n",
    "print \"Random Iterations: \", max_rand-1\n",
    "print\n",
    "print \"Best f1:  \",max(bestf1)\n",
    "print \"Best x0:  \",bestx0\n",
    "print\n",
    "print \"Average Precision: \", np.mean(prec)\n",
    "print \"Average Recall:    \", np.mean(recall)\n",
    "print \"Average F1-Score:  \", np.mean(f1score)\n",
    "print \n",
    "print \"Variance Precision:\", np.var(prec)\n",
    "print \"Variance Recall:   \", np.var(recall)\n",
    "print \"Variance F1-Score: \", np.var(f1score)\n",
    "print \n",
    "\n",
    "print(confusion)\n",
    "print classification_report(y_test,cv_pred)\n"
   ]
  },
  {
   "cell_type": "code",
   "execution_count": 177,
   "metadata": {
    "collapsed": false
   },
   "outputs": [
    {
     "data": {
      "text/plain": [
       "Index([u'Pclass', u'SibSp', u'Parch', u'Fare', u'Sex_female', u'Sex_male',\n",
       "       u'Embarked_C', u'Embarked_Q', u'Embarked_S', u'Cabin_A', u'Cabin_B',\n",
       "       u'Cabin_C', u'Cabin_D', u'Cabin_E', u'Cabin_F', u'Cabin_G', u'Cabin_T',\n",
       "       u'Cabin_Unknown', u'Age-Sex_10-19female', u'Age-Sex_10-19male',\n",
       "       u'Age-Sex_20-24female', u'Age-Sex_20-24male', u'Age-Sex_25-29female',\n",
       "       u'Age-Sex_25-29male', u'Age-Sex_30-39female', u'Age-Sex_30-39male',\n",
       "       u'Age-Sex_40-44female', u'Age-Sex_40-44male', u'Age-Sex_45-49female',\n",
       "       u'Age-Sex_45-49male', u'Age-Sex_50-54female', u'Age-Sex_50-54male',\n",
       "       u'Age-Sex_55+female', u'Age-Sex_55+male', u'Age-Sex_Unknownfemale',\n",
       "       u'Age-Sex_Unknownmale', u'Age-Sex_und10female', u'Age-Sex_und10male'],\n",
       "      dtype='object')"
      ]
     },
     "execution_count": 177,
     "metadata": {},
     "output_type": "execute_result"
    }
   ],
   "source": [
    "x_train.columns"
   ]
  },
  {
   "cell_type": "code",
   "execution_count": 58,
   "metadata": {
    "collapsed": false
   },
   "outputs": [
    {
     "name": "stdout",
     "output_type": "stream",
     "text": [
      "AUC Score is  0.876714409722\n"
     ]
    }
   ],
   "source": [
    "print \"AUC Score is \", roc_auc_score(y_test,y_score)"
   ]
  },
  {
   "cell_type": "code",
   "execution_count": 64,
   "metadata": {
    "collapsed": false
   },
   "outputs": [
    {
     "name": "stdout",
     "output_type": "stream",
     "text": [
      "Pclass\n",
      "-0.538901513421\n",
      "\n",
      "SibSp\n",
      "-0.379891841\n",
      "\n",
      "Parch\n",
      "-0.360783815924\n",
      "\n",
      "Fare\n",
      "0.299046412293\n",
      "\n",
      "Sex_female\n",
      "2.05627277574\n",
      "\n",
      "Sex_male\n",
      "-1.30333400037\n",
      "\n",
      "Embarked_C\n",
      "0.304792238163\n",
      "\n",
      "Embarked_Q\n",
      "0.0\n",
      "\n",
      "Embarked_S\n",
      "0.0\n",
      "\n",
      "Cabin_A\n",
      "0.0\n",
      "\n",
      "Cabin_B\n",
      "0.344215925429\n",
      "\n",
      "Cabin_C\n",
      "-0.103341987447\n",
      "\n",
      "Cabin_D\n",
      "0.24387147339\n",
      "\n",
      "Cabin_E\n",
      "0.929506719187\n",
      "\n",
      "Cabin_F\n",
      "0.0\n",
      "\n",
      "Cabin_G\n",
      "0.0\n",
      "\n",
      "Cabin_T\n",
      "0.0\n",
      "\n",
      "Cabin_Unknown\n",
      "-0.0505848745768\n",
      "\n",
      "Age-Sex_10-19female\n",
      "0.0\n",
      "\n",
      "Age-Sex_10-19male\n",
      "0.0\n",
      "\n",
      "Age-Sex_20-24female\n",
      "0.0\n",
      "\n",
      "Age-Sex_20-24male\n",
      "0.0\n",
      "\n",
      "Age-Sex_25-29female\n",
      "0.0\n",
      "\n",
      "Age-Sex_25-29male\n",
      "0.333106304306\n",
      "\n",
      "Age-Sex_30-39female\n",
      "0.469748401112\n",
      "\n",
      "Age-Sex_30-39male\n",
      "0.407007921955\n",
      "\n",
      "Age-Sex_40-44female\n",
      "0.0\n",
      "\n",
      "Age-Sex_40-44male\n",
      "0.0\n",
      "\n",
      "Age-Sex_45-49female\n",
      "-0.623819513869\n",
      "\n",
      "Age-Sex_45-49male\n",
      "0.0\n",
      "\n",
      "Age-Sex_50-54female\n",
      "0.139521048852\n",
      "\n",
      "Age-Sex_50-54male\n",
      "-0.495363667325\n",
      "\n",
      "Age-Sex_55+female\n",
      "0.0\n",
      "\n",
      "Age-Sex_55+male\n",
      "-0.287833535078\n",
      "\n",
      "Age-Sex_Unknownfemale\n",
      "0.0\n",
      "\n",
      "Age-Sex_Unknownmale\n",
      "-0.0746094091828\n",
      "\n",
      "Age-Sex_und10female\n",
      "0.0\n",
      "\n",
      "Age-Sex_und10male\n",
      "3.03513017677\n",
      "\n"
     ]
    }
   ],
   "source": [
    "for x,y in zip(x_train.columns,cv_model.coef_[0]):\n",
    "    print x\n",
    "    print y\n",
    "    print"
   ]
  },
  {
   "cell_type": "code",
   "execution_count": null,
   "metadata": {
    "collapsed": true
   },
   "outputs": [],
   "source": []
  },
  {
   "cell_type": "code",
   "execution_count": null,
   "metadata": {
    "collapsed": true
   },
   "outputs": [],
   "source": []
  },
  {
   "cell_type": "code",
   "execution_count": null,
   "metadata": {
    "collapsed": true
   },
   "outputs": [],
   "source": []
  },
  {
   "cell_type": "code",
   "execution_count": null,
   "metadata": {
    "collapsed": true
   },
   "outputs": [],
   "source": []
  }
 ],
 "metadata": {
  "anaconda-cloud": {},
  "kernelspec": {
   "display_name": "Python [default]",
   "language": "python",
   "name": "python2"
  },
  "language_info": {
   "codemirror_mode": {
    "name": "ipython",
    "version": 2
   },
   "file_extension": ".py",
   "mimetype": "text/x-python",
   "name": "python",
   "nbconvert_exporter": "python",
   "pygments_lexer": "ipython2",
   "version": "2.7.12"
  }
 },
 "nbformat": 4,
 "nbformat_minor": 1
}
