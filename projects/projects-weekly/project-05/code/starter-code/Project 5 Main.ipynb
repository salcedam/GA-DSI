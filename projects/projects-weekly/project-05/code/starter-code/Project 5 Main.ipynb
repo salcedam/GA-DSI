{
 "cells": [
  {
   "cell_type": "code",
   "execution_count": 285,
   "metadata": {
    "collapsed": false
   },
   "outputs": [],
   "source": [
    "import pandas as pd\n",
    "import numpy as np\n",
    "import seaborn as sns\n",
    "import matplotlib.pyplot as plt\n",
    "from sklearn.linear_model import LogisticRegressionCV, LogisticRegression\n",
    "from sklearn.linear_model import LinearRegression\n",
    "from sklearn.cross_validation import train_test_split\n",
    "from sklearn.grid_search import GridSearchCV\n",
    "from sklearn.metrics import mean_squared_error, classification_report, confusion_matrix, accuracy_score\n",
    "from sklearn.cross_validation import train_test_split, cross_val_score\n",
    "from sklearn.metrics import roc_auc_score, roc_curve, auc\n",
    "% matplotlib inline\n",
    "pd.set_option('display.max_rows', 500)"
   ]
  },
  {
   "cell_type": "code",
   "execution_count": 93,
   "metadata": {
    "collapsed": false
   },
   "outputs": [],
   "source": [
    "lm = LinearRegression()\n",
    "LRCV=LogisticRegressionCV"
   ]
  },
  {
   "cell_type": "code",
   "execution_count": 359,
   "metadata": {
    "collapsed": false
   },
   "outputs": [],
   "source": [
    "def age_bin(age):\n",
    "    value=\"\"\n",
    "    if pd.isnull(age):\n",
    "        value=\"Unknown\"\n",
    "    elif age<10:\n",
    "        value=\"und10\"\n",
    "    elif age<20:\n",
    "        value=\"10-19\"\n",
    "    elif age<25:\n",
    "        value=\"20-24\"\n",
    "    elif age<30:\n",
    "        value=\"25-29\"\n",
    "    elif age<40:\n",
    "        value=\"30-39\"\n",
    "    elif age<45:\n",
    "        value=\"40-44\"\n",
    "    elif age<50:\n",
    "        value=\"45-49\"\n",
    "    elif age<55:\n",
    "        value=\"50-54\"\n",
    "    else:\n",
    "        value=\"55+\"\n",
    "    return value\n",
    "\n",
    "def cabin_bin(cabin):\n",
    "    value=\"\"\n",
    "    if pd.isnull(cabin):\n",
    "        value=\"Unknown\"\n",
    "    else:\n",
    "        value=cabin[0]\n",
    "    return value\n",
    "\n",
    "def last_names(name):\n",
    "    splits=name.split(\",\")[0]\n",
    "    splits=splits.replace(\",\",\"\")\n",
    "    return splits\n",
    "def fare_bin(fare):\n",
    "    value=\"\"\n",
    "    if fare<10:\n",
    "        value=\"Und10\"\n",
    "    if fare<30:\n",
    "        value=\"10-30\"\n",
    "    if fare<75:\n",
    "        value"
   ]
  },
  {
   "cell_type": "code",
   "execution_count": null,
   "metadata": {
    "collapsed": true
   },
   "outputs": [],
   "source": [
    "#Potentially use name vectorization; ethnicity of names"
   ]
  },
  {
   "cell_type": "code",
   "execution_count": 190,
   "metadata": {
    "collapsed": false
   },
   "outputs": [],
   "source": [
    "df=pd.read_csv(\"train.csv\")"
   ]
  },
  {
   "cell_type": "code",
   "execution_count": 340,
   "metadata": {
    "collapsed": true
   },
   "outputs": [],
   "source": [
    "copy=df.copy()\n",
    "copy[\"Fare\"]=copy[\"Fare\"].apply(lambda x: x+1)\n",
    "copy[\"Fare\"]=copy[\"Fare\"].apply(lambda x: np.log(x))\n",
    "copy[\"Fare\"]=copy[\"Fare\"].apply(lambda x: round(x))"
   ]
  },
  {
   "cell_type": "code",
   "execution_count": 341,
   "metadata": {
    "collapsed": false,
    "scrolled": false
   },
   "outputs": [
    {
     "data": {
      "text/plain": [
       "(array([  15.,    0.,    0.,    0.,    0.,    0.,  352.,    0.,    0.,\n",
       "           0.,  313.,    0.,    0.,  148.,    0.,    0.,   52.,    0.,\n",
       "           0.,   11.]),\n",
       " array([ 0. ,  0.3,  0.6,  0.9,  1.2,  1.5,  1.8,  2.1,  2.4,  2.7,  3. ,\n",
       "         3.3,  3.6,  3.9,  4.2,  4.5,  4.8,  5.1,  5.4,  5.7,  6. ]),\n",
       " <a list of 20 Patch objects>)"
      ]
     },
     "execution_count": 341,
     "metadata": {},
     "output_type": "execute_result"
    },
    {
     "data": {
      "image/png": "[encoded data removed]",
      "text/plain": [
       "<matplotlib.figure.Figure at 0x11b753190>"
      ]
     },
     "metadata": {},
     "output_type": "display_data"
    }
   ],
   "source": [
    "plt.hist(copy[\"Fare\"],bins=20)"
   ]
  },
  {
   "cell_type": "code",
   "execution_count": 366,
   "metadata": {
    "collapsed": false
   },
   "outputs": [
    {
     "data": {
      "text/html": [
       "<div>\n",
       "<table border=\"1\" class=\"dataframe\">\n",
       "  <thead>\n",
       "    <tr style=\"text-align: right;\">\n",
       "      <th></th>\n",
       "      <th>Pclass</th>\n",
       "      <th>Sex</th>\n",
       "      <th>SibSp</th>\n",
       "      <th>Parch</th>\n",
       "      <th>Fare</th>\n",
       "      <th>Cabin</th>\n",
       "      <th>Embarked</th>\n",
       "      <th>Age-Sex</th>\n",
       "      <th>Embarked-Cabin</th>\n",
       "    </tr>\n",
       "  </thead>\n",
       "  <tbody>\n",
       "    <tr>\n",
       "      <th>0</th>\n",
       "      <td>3</td>\n",
       "      <td>male</td>\n",
       "      <td>1</td>\n",
       "      <td>0</td>\n",
       "      <td>2.0</td>\n",
       "      <td>Unknown</td>\n",
       "      <td>S</td>\n",
       "      <td>20-24male</td>\n",
       "      <td>SUnknown</td>\n",
       "    </tr>\n",
       "    <tr>\n",
       "      <th>1</th>\n",
       "      <td>1</td>\n",
       "      <td>female</td>\n",
       "      <td>1</td>\n",
       "      <td>0</td>\n",
       "      <td>4.0</td>\n",
       "      <td>C</td>\n",
       "      <td>C</td>\n",
       "      <td>30-39female</td>\n",
       "      <td>CC</td>\n",
       "    </tr>\n",
       "    <tr>\n",
       "      <th>2</th>\n",
       "      <td>3</td>\n",
       "      <td>female</td>\n",
       "      <td>0</td>\n",
       "      <td>0</td>\n",
       "      <td>2.0</td>\n",
       "      <td>Unknown</td>\n",
       "      <td>S</td>\n",
       "      <td>25-29female</td>\n",
       "      <td>SUnknown</td>\n",
       "    </tr>\n",
       "    <tr>\n",
       "      <th>3</th>\n",
       "      <td>1</td>\n",
       "      <td>female</td>\n",
       "      <td>1</td>\n",
       "      <td>0</td>\n",
       "      <td>4.0</td>\n",
       "      <td>C</td>\n",
       "      <td>S</td>\n",
       "      <td>30-39female</td>\n",
       "      <td>SC</td>\n",
       "    </tr>\n",
       "    <tr>\n",
       "      <th>4</th>\n",
       "      <td>3</td>\n",
       "      <td>male</td>\n",
       "      <td>0</td>\n",
       "      <td>0</td>\n",
       "      <td>2.0</td>\n",
       "      <td>Unknown</td>\n",
       "      <td>S</td>\n",
       "      <td>30-39male</td>\n",
       "      <td>SUnknown</td>\n",
       "    </tr>\n",
       "  </tbody>\n",
       "</table>\n",
       "</div>"
      ],
      "text/plain": [
       "   Pclass     Sex  SibSp  Parch  Fare    Cabin Embarked      Age-Sex  \\\n",
       "0       3    male      1      0   2.0  Unknown        S    20-24male   \n",
       "1       1  female      1      0   4.0        C        C  30-39female   \n",
       "2       3  female      0      0   2.0  Unknown        S  25-29female   \n",
       "3       1  female      1      0   4.0        C        S  30-39female   \n",
       "4       3    male      0      0   2.0  Unknown        S    30-39male   \n",
       "\n",
       "  Embarked-Cabin  \n",
       "0       SUnknown  \n",
       "1             CC  \n",
       "2       SUnknown  \n",
       "3             SC  \n",
       "4       SUnknown  "
      ]
     },
     "execution_count": 366,
     "metadata": {},
     "output_type": "execute_result"
    }
   ],
   "source": [
    "copy.head(5)"
   ]
  },
  {
   "cell_type": "code",
   "execution_count": 250,
   "metadata": {
    "collapsed": false
   },
   "outputs": [
    {
     "data": {
      "text/plain": [
       "'C23 C25 C27'"
      ]
     },
     "execution_count": 250,
     "metadata": {},
     "output_type": "execute_result"
    }
   ],
   "source": [
    "df[\"Cabin\"].unique()[8]"
   ]
  },
  {
   "cell_type": "code",
   "execution_count": 554,
   "metadata": {
    "collapsed": false
   },
   "outputs": [],
   "source": [
    "copy=df.copy()\n",
    "copy[\"Fare\"]=copy[\"Fare\"].apply(lambda x: x+1)\n",
    "copy[\"Fare\"]=copy[\"Fare\"].apply(lambda x: np.log(x))\n",
    "copy[\"Fare\"]=copy[\"Fare\"].apply(lambda x: round(x))\n",
    "#copy=copy[copy[\"Sex\"]=='female'].copy()\n",
    "regression_df=copy\n",
    "regression_df[\"Age\"]=regression_df[\"Age\"].apply(lambda x: age_bin(x))\n",
    "regression_df[\"Name\"]=regression_df[\"Name\"].apply(lambda x: last_names(x))\n",
    "regression_df[\"Cabin\"]=regression_df[\"Cabin\"].apply(lambda x: cabin_bin(x))\n",
    "temp=regression_df.copy()\n",
    "travel_group=temp.groupby([\"Name\",\"Fare\"])[\"Embarked\"].count().to_frame()\n",
    "travel_group.columns=[\"Travel Group\"]\n",
    "travel_group[\"Travel Group\"]=travel_group[\"Travel Group\"].astype(str)\n",
    "travel_group=travel_group.reset_index()\n",
    "temp=temp.merge(travel_group, how='inner', on=['Name',\"Fare\"])\n",
    "temp[\"Fare\"]=temp[\"Fare\"].astype(str)\n",
    "#temp[\"Travel Group\"]=temp[\"Travel Group\"].apply(lambda x: \"1\" if x>1 else \"0\")\n",
    "temp.head()\n",
    "regression_df=temp\n",
    "regression_df[\"Age-Sex\"]=regression_df[\"Age\"]+regression_df[\"Sex\"]\n",
    "#regression_df[\"Cabin-Fare\"]=regression_df[\"Cabin\"]+regression_df[\"Fare\"]\n",
    "#regression_df[\"Embarked-Cabin\"]=regression_df[\"Embarked\"]+regression_df[\"Cabin\"]\n",
    "#regression_df[\"Cabin-Sex\"]=regression_df[\"Travel Group\"]+regression_df[\"Age\"]+regression_df[\"Sex\"]\n",
    "target=regression_df[\"Survived\"].copy()\n",
    "temp=regression_df.copy()\n",
    "delete=[\"Name\",\"Ticket\",\"index\",\"PassengerId\",\"Survived\",\"Age\",\"Travel Group\"]\n",
    "for x in delete:\n",
    "    del regression_df[x]\n",
    "regression_df=pd.get_dummies(regression_df,columns=[\"Sex\",\"Embarked\",\"Cabin\",\"Age-Sex\"])\n"
   ]
  },
  {
   "cell_type": "code",
   "execution_count": 550,
   "metadata": {
    "collapsed": false,
    "scrolled": true
   },
   "outputs": [
    {
     "data": {
      "text/html": [
       "<div>\n",
       "<table border=\"1\" class=\"dataframe\">\n",
       "  <thead>\n",
       "    <tr style=\"text-align: right;\">\n",
       "      <th></th>\n",
       "      <th>index</th>\n",
       "      <th>PassengerId</th>\n",
       "      <th>Survived</th>\n",
       "      <th>Pclass</th>\n",
       "      <th>Name</th>\n",
       "      <th>Sex</th>\n",
       "      <th>Age</th>\n",
       "      <th>SibSp</th>\n",
       "      <th>Parch</th>\n",
       "      <th>Ticket</th>\n",
       "      <th>Fare</th>\n",
       "      <th>Cabin</th>\n",
       "      <th>Embarked</th>\n",
       "      <th>Travel Group</th>\n",
       "      <th>Age-Sex</th>\n",
       "      <th>Embarked-Cabin</th>\n",
       "    </tr>\n",
       "  </thead>\n",
       "  <tbody>\n",
       "    <tr>\n",
       "      <th>0</th>\n",
       "      <td>0</td>\n",
       "      <td>1</td>\n",
       "      <td>0</td>\n",
       "      <td>3</td>\n",
       "      <td>Braund</td>\n",
       "      <td>male</td>\n",
       "      <td>20-24</td>\n",
       "      <td>1</td>\n",
       "      <td>0</td>\n",
       "      <td>A/5 21171</td>\n",
       "      <td>2.0</td>\n",
       "      <td>Unknown</td>\n",
       "      <td>S</td>\n",
       "      <td>2</td>\n",
       "      <td>20-24male</td>\n",
       "      <td>SUnknown</td>\n",
       "    </tr>\n",
       "    <tr>\n",
       "      <th>1</th>\n",
       "      <td>477</td>\n",
       "      <td>478</td>\n",
       "      <td>0</td>\n",
       "      <td>3</td>\n",
       "      <td>Braund</td>\n",
       "      <td>male</td>\n",
       "      <td>25-29</td>\n",
       "      <td>1</td>\n",
       "      <td>0</td>\n",
       "      <td>3460</td>\n",
       "      <td>2.0</td>\n",
       "      <td>Unknown</td>\n",
       "      <td>S</td>\n",
       "      <td>2</td>\n",
       "      <td>25-29male</td>\n",
       "      <td>SUnknown</td>\n",
       "    </tr>\n",
       "    <tr>\n",
       "      <th>2</th>\n",
       "      <td>1</td>\n",
       "      <td>2</td>\n",
       "      <td>1</td>\n",
       "      <td>1</td>\n",
       "      <td>Cumings</td>\n",
       "      <td>female</td>\n",
       "      <td>30-39</td>\n",
       "      <td>1</td>\n",
       "      <td>0</td>\n",
       "      <td>PC 17599</td>\n",
       "      <td>4.0</td>\n",
       "      <td>C</td>\n",
       "      <td>C</td>\n",
       "      <td>1</td>\n",
       "      <td>30-39female</td>\n",
       "      <td>CC</td>\n",
       "    </tr>\n",
       "    <tr>\n",
       "      <th>3</th>\n",
       "      <td>2</td>\n",
       "      <td>3</td>\n",
       "      <td>1</td>\n",
       "      <td>3</td>\n",
       "      <td>Heikkinen</td>\n",
       "      <td>female</td>\n",
       "      <td>25-29</td>\n",
       "      <td>0</td>\n",
       "      <td>0</td>\n",
       "      <td>STON/O2. 3101282</td>\n",
       "      <td>2.0</td>\n",
       "      <td>Unknown</td>\n",
       "      <td>S</td>\n",
       "      <td>1</td>\n",
       "      <td>25-29female</td>\n",
       "      <td>SUnknown</td>\n",
       "    </tr>\n",
       "    <tr>\n",
       "      <th>4</th>\n",
       "      <td>3</td>\n",
       "      <td>4</td>\n",
       "      <td>1</td>\n",
       "      <td>1</td>\n",
       "      <td>Futrelle</td>\n",
       "      <td>female</td>\n",
       "      <td>30-39</td>\n",
       "      <td>1</td>\n",
       "      <td>0</td>\n",
       "      <td>113803</td>\n",
       "      <td>4.0</td>\n",
       "      <td>C</td>\n",
       "      <td>S</td>\n",
       "      <td>2</td>\n",
       "      <td>30-39female</td>\n",
       "      <td>SC</td>\n",
       "    </tr>\n",
       "  </tbody>\n",
       "</table>\n",
       "</div>"
      ],
      "text/plain": [
       "   index  PassengerId  Survived  Pclass       Name     Sex    Age  SibSp  \\\n",
       "0      0            1         0       3     Braund    male  20-24      1   \n",
       "1    477          478         0       3     Braund    male  25-29      1   \n",
       "2      1            2         1       1    Cumings  female  30-39      1   \n",
       "3      2            3         1       3  Heikkinen  female  25-29      0   \n",
       "4      3            4         1       1   Futrelle  female  30-39      1   \n",
       "\n",
       "   Parch            Ticket Fare    Cabin Embarked Travel Group      Age-Sex  \\\n",
       "0      0         A/5 21171  2.0  Unknown        S            2    20-24male   \n",
       "1      0              3460  2.0  Unknown        S            2    25-29male   \n",
       "2      0          PC 17599  4.0        C        C            1  30-39female   \n",
       "3      0  STON/O2. 3101282  2.0  Unknown        S            1  25-29female   \n",
       "4      0            113803  4.0        C        S            2  30-39female   \n",
       "\n",
       "  Embarked-Cabin  \n",
       "0       SUnknown  \n",
       "1       SUnknown  \n",
       "2             CC  \n",
       "3       SUnknown  \n",
       "4             SC  "
      ]
     },
     "execution_count": 550,
     "metadata": {},
     "output_type": "execute_result"
    }
   ],
   "source": [
    "temp.head()"
   ]
  },
  {
   "cell_type": "code",
   "execution_count": 551,
   "metadata": {
    "collapsed": false
   },
   "outputs": [
    {
     "data": {
      "text/plain": [
       "array([3, 1, 2])"
      ]
     },
     "execution_count": 551,
     "metadata": {},
     "output_type": "execute_result"
    }
   ],
   "source": [
    "temp[\"Pclass\"].unique()"
   ]
  },
  {
   "cell_type": "code",
   "execution_count": 552,
   "metadata": {
    "collapsed": false
   },
   "outputs": [],
   "source": [
    "bestx0=0.\n",
    "bestx1=0.\n",
    "bestx2=0.\n",
    "bestf1=0.\n",
    "max_rand=5\n",
    "curr_f1=[]\n",
    "\n",
    "for x0_change in np.linspace(0.30,0.48,4):\n",
    "    curr_f1=[]\n",
    "    for random in range(1,max_rand):\n",
    "        x_train,x_test,y_train,y_test=train_test_split(regression_df,target,\n",
    "                                                       stratify=target,random_state=random)\n",
    "        logreg = LogisticRegression(solver='liblinear') #'newton-cg', 'lbfgs', 'liblinear', 'sag'\n",
    "        C_vals = np.linspace(0.0000001,1.1,10)\n",
    "        penalties = ['l1','l2']\n",
    "\n",
    "        gs = GridSearchCV(logreg, {'penalty': penalties, 'C': C_vals}, cv=5)\n",
    "        gs.fit(x_train, y_train)\n",
    "\n",
    "        logreg = LogisticRegression(C=gs.best_params_['C'], penalty=gs.best_params_['penalty'])\n",
    "        cv_model = logreg.fit(x_train, y_train)\n",
    "        cv_pred = cv_model.predict(x_test)\n",
    "\n",
    "        y_score = cv_model.decision_function(x_test)\n",
    "\n",
    "        i=0\n",
    "        pred=[]\n",
    "        for x in y_score:\n",
    "            if (x+x0_change)>(0.5):\n",
    "                pred.append(cv_model.classes_[1])\n",
    "            else:\n",
    "                pred.append(cv_model.classes_[0])\n",
    "        cv_pred=pred\n",
    "\n",
    "        y_test=np.array(y_test)\n",
    "        y_test=y_test.reshape((len(y_test),1))\n",
    "\n",
    "        \"\"\" Check your performance so far.\"\"\"\n",
    "\n",
    "        conmat = np.array(confusion_matrix(y_test, cv_pred))\n",
    "        confusion = pd.DataFrame(conmat, index=cv_model.classes_, columns=cv_model.classes_)\n",
    "        curr_f1.append(float(classification_report(y_test,cv_pred)[-15:-11]))\n",
    "    if np.mean(curr_f1)>bestf1:\n",
    "        bestf1=np.mean(curr_f1)\n",
    "        bestx0=x0_change"
   ]
  },
  {
   "cell_type": "code",
   "execution_count": 553,
   "metadata": {
    "collapsed": false
   },
   "outputs": [
    {
     "name": "stdout",
     "output_type": "stream",
     "text": [
      "Random Iterations:  15\n",
      "\n",
      "Best f1:   0.85\n",
      "Best x0:   0.3\n",
      "\n",
      "Average Precision:  0.820666666667\n",
      "Average Recall:     0.821333333333\n",
      "Average F1-Score:   0.819333333333\n",
      "\n",
      "Variance Precision: 0.000446222222222\n",
      "Variance Recall:    0.000398222222222\n",
      "Variance F1-Score:  0.000406222222222\n",
      "\n",
      "     0   1\n",
      "0  166  26\n",
      "1   30  90\n",
      "             precision    recall  f1-score   support\n",
      "\n",
      "          0       0.85      0.86      0.86       192\n",
      "          1       0.78      0.75      0.76       120\n",
      "\n",
      "avg / total       0.82      0.82      0.82       312\n",
      "\n"
     ]
    }
   ],
   "source": [
    "prec=[]\n",
    "recall=[]\n",
    "f1score=[]\n",
    "bestf1=[]\n",
    "max_rand=16\n",
    "\n",
    "for random in range(1,max_rand):\n",
    "    x_train,x_test,y_train,y_test=train_test_split(regression_df,target,test_size=.35,stratify=target,\n",
    "                                                   random_state=random)\n",
    "    logreg = LogisticRegression(solver='liblinear') #'newton-cg', 'lbfgs', 'liblinear', 'sag'\n",
    "    C_vals = np.linspace(0.0000001,1.1,10)\n",
    "    penalties = ['l1','l2']\n",
    "\n",
    "    gs = GridSearchCV(logreg, {'penalty': penalties, 'C': C_vals}, cv=5)\n",
    "    gs.fit(x_train, y_train)\n",
    "\n",
    "    logreg = LogisticRegression(C=gs.best_params_['C'], penalty=gs.best_params_['penalty'])\n",
    "    cv_model = logreg.fit(x_train, y_train)\n",
    "    cv_pred = cv_model.predict(x_test)\n",
    "\n",
    "    y_score = cv_model.decision_function(x_test) # Submit these response, the output of model.decision_function\n",
    "\n",
    "    i=0\n",
    "    pred=[]\n",
    "    x0_change=bestx0\n",
    "    for x in y_score:\n",
    "        if (x+x0_change)>(0.5):\n",
    "            pred.append(cv_model.classes_[1])\n",
    "        else:\n",
    "            pred.append(cv_model.classes_[0])\n",
    "    cv_pred=pred\n",
    "\n",
    "    \"\"\" Check your performance so far.\"\"\"\n",
    "\n",
    "    conmat = np.array(confusion_matrix(y_test, cv_pred))\n",
    "    confusion = pd.DataFrame(conmat, index=cv_model.classes_, columns=cv_model.classes_)      \n",
    "    \n",
    "    prec.append(float(classification_report(y_test,cv_pred)[-35:-31]))\n",
    "    recall.append(float(classification_report(y_test,cv_pred)[-25:-21]))\n",
    "    f1score.append(float(classification_report(y_test,cv_pred)[-15:-11]))\n",
    "    bestf1.append(float(classification_report(y_test,cv_pred)[-15:-11]))\n",
    "\n",
    "\n",
    "\n",
    "print \"Random Iterations: \", max_rand-1\n",
    "print\n",
    "print \"Best f1:  \",max(bestf1)\n",
    "print \"Best x0:  \",bestx0\n",
    "print\n",
    "print \"Average Precision: \", np.mean(prec)\n",
    "print \"Average Recall:    \", np.mean(recall)\n",
    "print \"Average F1-Score:  \", np.mean(f1score)\n",
    "print \n",
    "print \"Variance Precision:\", np.var(prec)\n",
    "print \"Variance Recall:   \", np.var(recall)\n",
    "print \"Variance F1-Score: \", np.var(f1score)\n",
    "print \n",
    "\n",
    "print(confusion)\n",
    "print classification_report(y_test,cv_pred)\n"
   ]
  },
  {
   "cell_type": "code",
   "execution_count": 527,
   "metadata": {
    "collapsed": false
   },
   "outputs": [
    {
     "data": {
      "text/plain": [
       "Index([u'Pclass', u'Parch', u'Fare', u'Sex_female', u'Sex_male', u'Embarked_C',\n",
       "       u'Embarked_Q', u'Embarked_S', u'Cabin_A', u'Cabin_B', u'Cabin_C',\n",
       "       u'Cabin_D', u'Cabin_E', u'Cabin_F', u'Cabin_G', u'Cabin_T',\n",
       "       u'Cabin_Unknown', u'Age-Sex_10-19female', u'Age-Sex_10-19male',\n",
       "       u'Age-Sex_20-24female', u'Age-Sex_20-24male', u'Age-Sex_25-29female',\n",
       "       u'Age-Sex_25-29male', u'Age-Sex_30-39female', u'Age-Sex_30-39male',\n",
       "       u'Age-Sex_40-44female', u'Age-Sex_40-44male', u'Age-Sex_45-49female',\n",
       "       u'Age-Sex_45-49male', u'Age-Sex_50-54female', u'Age-Sex_50-54male',\n",
       "       u'Age-Sex_55+female', u'Age-Sex_55+male', u'Age-Sex_Unknownfemale',\n",
       "       u'Age-Sex_Unknownmale', u'Age-Sex_und10female', u'Age-Sex_und10male',\n",
       "       u'SibSp_0', u'SibSp_1', u'SibSp_2', u'SibSp_3', u'SibSp_4', u'SibSp_5',\n",
       "       u'SibSp_8'],\n",
       "      dtype='object')"
      ]
     },
     "execution_count": 527,
     "metadata": {},
     "output_type": "execute_result"
    }
   ],
   "source": [
    "x_train.columns"
   ]
  },
  {
   "cell_type": "code",
   "execution_count": null,
   "metadata": {
    "collapsed": true
   },
   "outputs": [],
   "source": []
  },
  {
   "cell_type": "code",
   "execution_count": null,
   "metadata": {
    "collapsed": true
   },
   "outputs": [],
   "source": []
  }
 ],
 "metadata": {
  "kernelspec": {
   "display_name": "Python [default]",
   "language": "python",
   "name": "python2"
  },
  "language_info": {
   "codemirror_mode": {
    "name": "ipython",
    "version": 2
   },
   "file_extension": ".py",
   "mimetype": "text/x-python",
   "name": "python",
   "nbconvert_exporter": "python",
   "pygments_lexer": "ipython2",
   "version": "2.7.12"
  }
 },
 "nbformat": 4,
 "nbformat_minor": 1
}
