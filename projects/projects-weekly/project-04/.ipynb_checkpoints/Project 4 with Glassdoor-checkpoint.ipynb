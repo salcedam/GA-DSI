{
 "cells": [
  {
   "cell_type": "code",
   "execution_count": 63,
   "metadata": {
    "collapsed": false,
    "scrolled": false
   },
   "outputs": [],
   "source": [
    "\"\"\"ONLY USED FOR FINDING STOCKS\"\"\"\n",
    "\n",
    "names=[x for x,y in zip(stocks[\"Name\"].value_counts().sort_values(ascending=False).index,\\\n",
    "                        stocks[\"Name\"].value_counts().sort_values(ascending=False).values) if y>1]\n",
    "\n",
    "\n",
    "# [x for x in stocks[\"Name\"] if x[0:3]==\"Mat\"] #-->Additional Search Method; looks for first three letters\n",
    "\n",
    "#Finds all instances of a company name within stocks[\"Name\"], and prints the instance and its index numer\n",
    "for name in names:\n",
    "    i=0\n",
    "    while i<len(stocks):\n",
    "        if stocks.loc[i,\"Name\"]==name:\n",
    "            print \"index: \",i\n",
    "            print stocks.iloc[i]\n",
    "            print \"\\n\"\n",
    "        i+=1\n",
    "# top=stocks.index\n",
    "# keep=[]\n",
    "# for x in top:\n",
    "#     if x not in del_indices:\n",
    "#         keep.append(x)\n",
    "# len(keep)"
   ]
  },
  {
   "cell_type": "code",
   "execution_count": 64,
   "metadata": {
    "collapsed": false,
    "scrolled": false
   },
   "outputs": [
    {
     "data": {
      "text/plain": [
       "['Lockheed Martin']"
      ]
     },
     "execution_count": 64,
     "metadata": {},
     "output_type": "execute_result"
    }
   ],
   "source": [
    "[x for x in stocks[\"Name\"] if x[0:7]==\"Lockhee\"] #-->Additional Search Method; looks for first three letters"
   ]
  },
  {
   "cell_type": "code",
   "execution_count": 23,
   "metadata": {
    "collapsed": false
   },
   "outputs": [],
   "source": [
    "import pandas as pd\n",
    "import numpy as np\n",
    "import requests\n",
    "import bs4\n",
    "import pandas as pd\n",
    "from bs4 import BeautifulSoup\n",
    "import datetime\n",
    "import urllib\n",
    "import statsmodels.api as sm\n",
    "from sklearn import linear_model\n",
    "import sklearn\n",
    "from sklearn.cross_validation import train_test_split\n",
    "import matplotlib.pyplot as plt\n",
    "import seaborn as sns\n",
    "import time\n",
    "import statsmodels.api as sm\n",
    "from scipy import stats\n",
    "from sklearn import datasets, linear_model\n",
    "from sklearn.pipeline import Pipeline\n",
    "from sklearn.preprocessing import PolynomialFeatures\n",
    "from sklearn.linear_model import LinearRegression\n",
    "from sklearn.linear_model import Ridge\n",
    "from sklearn.linear_model import Lasso\n",
    "from sklearn.metrics import mean_squared_error\n",
    "from sklearn.metrics import classification_report, confusion_matrix, accuracy_score\n",
    "from sklearn.cross_validation import train_test_split, cross_val_score\n",
    "from sklearn.linear_model import LogisticRegression, LogisticRegressionCV\n",
    "from sklearn.grid_search import GridSearchCV\n",
    "from sklearn.cross_validation import train_test_split\n",
    "from sklearn.metrics import roc_auc_score\n",
    "from sklearn.metrics import roc_curve\n",
    "from sklearn.metrics import auc\n",
    "% matplotlib inline\n",
    "lm = linear_model.LinearRegression()\n",
    "LR=sklearn.linear_model.LogisticRegression\n",
    "LRCV=sklearn.linear_model.LogisticRegressionCV"
   ]
  },
  {
   "cell_type": "code",
   "execution_count": 465,
   "metadata": {
    "collapsed": true
   },
   "outputs": [],
   "source": [
    "def cap(x):\n",
    "    value=0\n",
    "    if x is np.NAN:\n",
    "        value=\"Unknown\"\n",
    "    elif x>3000:\n",
    "        value=\"Hugecap\"\n",
    "    elif x>500:\n",
    "        value=\"Largecap\"\n",
    "    elif x>100:\n",
    "        value=\"Midcap\"\n",
    "    else:\n",
    "        value=\"Smallcap\"\n",
    "    return value\n",
    "def create_bins(low,high,n):\n",
    "    increment=(high-low)/float(n)\n",
    "    bins=[]\n",
    "    for i in range(n+1):\n",
    "        bins.append(low+increment*(i))\n",
    "    replacements=[]\n",
    "    i=0\n",
    "    while i<len(bins)-1:\n",
    "        replacements.append(str(int(round(bins[i])))+\"-\"+str(int(round(bins[i+1]))))\n",
    "        i+=1\n",
    "    return bins,replacements\n",
    "def salary_bin(bins,replacements,x):\n",
    "    i=0\n",
    "    value=0\n",
    "    while i<len(bins)-1:\n",
    "        if x<=int(round(bins[i+1])):\n",
    "            value=replacements[i]\n",
    "            i=len(bins)\n",
    "        i+=1\n",
    "    if value==0:\n",
    "        value=str(bins[-1])+\"+\"\n",
    "    return value\n",
    "def only_numerics(seq):\n",
    "    seq = seq.split('-')\n",
    "    try:\n",
    "        out = ((int(filter(type(seq[0]).isdigit, seq[0])) + int(filter(type(seq[1]).isdigit, seq[1])))/2)*1000\n",
    "    except:\n",
    "        out = int(filter(type(seq[0]).isdigit, seq[0]))\n",
    "    return out\n"
   ]
  },
  {
   "cell_type": "code",
   "execution_count": 25,
   "metadata": {
    "collapsed": false
   },
   "outputs": [],
   "source": [
    "import pandas as pd\n",
    "import numpy as np\n",
    "\n",
    "#Cleans up the Stock information\n",
    "nyse=pd.read_csv(\"Data/NYSE.csv\")\n",
    "nasdaq=pd.read_csv(\"Data/NASDAQ.csv\")\n",
    "amex=pd.read_csv(\"Data/AMEX.csv\")\n",
    "stocks=nyse.append(nasdaq,ignore_index=True).append(amex,ignore_index=True)\n",
    "del stocks[\"Summary Quote\"]\n",
    "i=0\n",
    "while i<len(stocks[\"Symbol\"]):\n",
    "    if \" (The)\" in stocks.iloc[i,1]:\n",
    "        stocks.iloc[i,1]=stocks.iloc[i,1][:len(stocks.iloc[i,1])-len(\" (The)\")]\n",
    "    if \" Incorporated\" in stocks.iloc[i,1]:\n",
    "        stocks.iloc[i,1]=stocks.iloc[i,1][:len(stocks.iloc[i,1])-len(\" Incorporated\")]\n",
    "    if \", Inc.\" in stocks.iloc[i,1]:\n",
    "        stocks.iloc[i,1]=stocks.iloc[i,1][:len(stocks.iloc[i,1])-len(\", Inc.\")]\n",
    "    if \", Inc\" in stocks.iloc[i,1]:\n",
    "        stocks.iloc[i,1]=stocks.iloc[i,1][:len(stocks.iloc[i,1])-len(\", Inc\")]\n",
    "    if \", INC\" in stocks.iloc[i,1]:\n",
    "        stocks.iloc[i,1]=stocks.iloc[i,1][:len(stocks.iloc[i,1])-len(\", Inc\")]\n",
    "    if \" Inc.\" in stocks.iloc[i,1]:\n",
    "        stocks.iloc[i,1]=stocks.iloc[i,1][:len(stocks.iloc[i,1])-len(\" Inc.\")]\n",
    "    if \" Inc\" in stocks.iloc[i,1]:\n",
    "        stocks.iloc[i,1]=stocks.iloc[i,1][:len(stocks.iloc[i,1])-len(\" Inc\")]\n",
    "    if \" INC\" in stocks.iloc[i,1]:\n",
    "        stocks.iloc[i,1]=stocks.iloc[i,1][:len(stocks.iloc[i,1])-len(\" Inc\")]\n",
    "    if  \" Corporation\" in stocks.iloc[i,1]:\n",
    "        stocks.iloc[i,1]=stocks.iloc[i,1][:len(stocks.iloc[i,1])-len(\" Corporation\")]\n",
    "    if \" Corp.\" in stocks.iloc[i,1]:\n",
    "        stocks.iloc[i,1]=stocks.iloc[i,1][:len(stocks.iloc[i,1])-len(\" Corp.\")]\n",
    "    if \" Corp\" in stocks.iloc[i,1]:\n",
    "        stocks.iloc[i,1]=stocks.iloc[i,1][:len(stocks.iloc[i,1])-len(\" Corp\")]\n",
    "    if \" CORP\" in stocks.iloc[i,1]:\n",
    "        stocks.iloc[i,1]=stocks.iloc[i,1][:len(stocks.iloc[i,1])-len(\" Corp\")]\n",
    "    i+=1\n",
    "\n",
    "#Eliminates Duplicates, inactive tickers, and funds\n",
    "#For MarketCap n/a; the tickers listed had 1 market value and all other duplicates were n/a; safe to remove\n",
    "#Additionally, there was the occasional case of no market cap; market cap must have been insignificant or bankrupt\n",
    "#stocks= stocks[stocks['MarketCap']!=\"n/a\"]\n",
    "#stocks= stocks[stocks['industry']!=\"n/a\"]\n",
    "#stocks= stocks[stocks['Sector']!=\"n/a\"]\n",
    "#stocks= stocks[stocks['IPOyear']!=\"n/a\"]\n",
    "\n",
    "#Convert MarketCap to Millions of dollars\n",
    "i=0\n",
    "while i<len(stocks[\"MarketCap\"]):\n",
    "    if \"B\" in str(stocks.iloc[i,3])[-1:]:\n",
    "        stocks.iloc[i,3]=float(str(stocks.iloc[i,3])[1:-1])*1000\n",
    "    else:\n",
    "        stocks.iloc[i,3]=str(stocks.iloc[i,3])[1:-1]\n",
    "    i+=1\n",
    "\n",
    "stocks=stocks.reset_index()\n",
    "del stocks['index']\n",
    "#delete={1572:'WYIGU',1001:'ANDAU',873:'FNFV',1322:'ELECU',1376:'FCFS',1134:'CLACU',2041:'TRTLU',1706:'MSG'}\n",
    "# keys=delete.keys()\n",
    "# keys.sort()\n",
    "# keys=keys[::-1]\n",
    "# for key in keys:\n",
    "#     stocks=stocks.iloc[:key].append(stocks.iloc[key+1:])\n",
    "# stocks=stocks.reset_index()\n",
    "# del stocks['index']\n",
    "\n",
    "#Cleans cities data (eliminates counties and combined cities/towns)\n",
    "cities=pd.read_csv(\"Data/Living_Index.csv\")\n",
    "cities=cities.rename(columns={\"Urban Area\":\"City\"})\n",
    "values=[]\n",
    "for x in cities[\"City\"]:\n",
    "    if \"-\" in x:\n",
    "        values.append(False)\n",
    "    else:\n",
    "        values.append(True)\n",
    "cities=cities[values]\n",
    "values=[]\n",
    "for x in cities[\"City\"]:\n",
    "    if \"county\" in x.lower():\n",
    "        values.append(False)\n",
    "    else:\n",
    "        values.append(True)\n",
    "cities=cities[values]\n",
    "new_city_list=[]\n",
    "\n",
    "for x in cities[\"City\"]:\n",
    "    y=x[-4:]\n",
    "    z=x[:-len(y)].replace(\",\",\"\")+y\n",
    "    new_city_list.append(z)\n",
    "cities[\"City\"]=new_city_list"
   ]
  },
  {
   "cell_type": "code",
   "execution_count": 26,
   "metadata": {
    "collapsed": false,
    "scrolled": true
   },
   "outputs": [],
   "source": [
    "#Put ticker of name instances into a dictionary for all duplicates\n",
    "\n",
    "#Gives the duplicates in a list called names\n",
    "names=[x for x,y in zip(stocks[\"Name\"].value_counts().sort_values(ascending=False).index,\\\n",
    "                        stocks[\"Name\"].value_counts().sort_values(ascending=False).values) if y>1]\n",
    "indices=[]\n",
    "index=[]\n",
    "dic={}\n",
    "i=0\n",
    "while i < len(stocks[\"Name\"]):\n",
    "    if stocks.loc[i,\"Name\"] in names:\n",
    "        if stocks.loc[i,\"Name\"] in dic.keys():\n",
    "            dic[stocks.loc[i,\"Name\"]].append([stocks.loc[i,\"Symbol\"],stocks.loc[i,\"MarketCap\"]])\n",
    "        else:\n",
    "            dic[stocks.loc[i,\"Name\"]]=[[stocks.loc[i,\"Symbol\"],stocks.loc[i,\"MarketCap\"]]]\n",
    "    i+=1\n",
    "\n",
    "#Look up to see if there is a single entry with a market cap for the duplicates; if there is, delete others\n",
    "\n",
    "#Checks to see if among duplicate entries there is only a single one with market cap\n",
    "caps=[]\n",
    "for key in dic.keys():\n",
    "    l=dic[key]\n",
    "    single_cap=False\n",
    "    num_caps=0\n",
    "    for x in l:\n",
    "        if x[1]!=\"/\":\n",
    "            num_caps+=1\n",
    "        if num_caps==1:\n",
    "            single_cap=True\n",
    "        else: \n",
    "            single_cap=False\n",
    "    caps.append([key,single_cap])\n",
    "\n",
    "#Finds tickers without market cap to delete\n",
    "delete=[]\n",
    "for x in caps:\n",
    "    if x[1]==True:\n",
    "            #If there is a single market cap value, deletes all others\n",
    "        for y in dic[x[0]]:\n",
    "            if y[1]==\"/\":\n",
    "                delete.append(y[0])\n",
    "    if x[1]==False:\n",
    "            #Checks to see if there are duplicate market cap values; if there are, resorts to largest\n",
    "        mult=False\n",
    "        count=0\n",
    "        for y in dic[x[0]]:\n",
    "            if y[1]!=\"/\":\n",
    "                count+=1\n",
    "            if count>1:\n",
    "                mult=True\n",
    "        largest=0\n",
    "        save_ticker=\"\"\n",
    "        if mult:\n",
    "            for y in dic[x[0]]:\n",
    "                if y[1]!=\"/\":\n",
    "                    if y[1]>largest:\n",
    "                        largest=y[1]\n",
    "                        save_ticker=y[0]\n",
    "            for z in dic[x[0]]:\n",
    "                if z[0]!=save_ticker:\n",
    "                    delete.append(z[0])\n",
    "            #If there are no market cap values, resorts to shortest ticker name\n",
    "        else:\n",
    "            save_ticker=\"\"\n",
    "            length=10\n",
    "            for y in dic[x[0]]:\n",
    "                if len(y[0])<length:\n",
    "                    save_ticker=y[1]\n",
    "            for z in dic[x[0]]:\n",
    "                if z[0]!=save_ticker:\n",
    "                    delete.append(z[0])\n",
    "\n",
    "#NOW, time to go through and delete the unneeded rows; \n",
    "    #reset the index, get the indices, reverse order the sort,\n",
    "    #and reset the dataframe on each value; then reset index\n",
    "\n",
    "indices=[]\n",
    "i=0\n",
    "while i<len(stocks):\n",
    "    if stocks.loc[i,\"Symbol\"] in delete:\n",
    "        indices.append(i)\n",
    "    i+=1\n",
    "indices.sort()\n",
    "indices=indices[::-1]\n",
    "for key in indices:\n",
    "    stocks=stocks.iloc[:key].append(stocks.iloc[key+1:])\n",
    "stocks=stocks.reset_index()\n",
    "del stocks['index']\n",
    "\n",
    "#There is only one case left; where there are duplicate entries; let's delete those now\n",
    "names=[x for x,y in zip(stocks[\"Name\"].value_counts().sort_values(ascending=False).index,\\\n",
    "                        stocks[\"Name\"].value_counts().sort_values(ascending=False).values) if y>1]\n",
    "delete=[]\n",
    "\n",
    "for name in names:\n",
    "    first=True\n",
    "    i=0\n",
    "    while i<len(stocks[\"Name\"]):\n",
    "        if first:\n",
    "            first=False\n",
    "        if stocks.loc[i,\"Name\"]==name:\n",
    "            delete.append(i)\n",
    "        i+=1\n",
    "delete.sort()\n",
    "delete=delete[::-1]\n",
    "for key in delete:\n",
    "    stocks=stocks.iloc[:key].append(stocks.iloc[key+1:])\n",
    "stocks=stocks.reset_index()\n",
    "del stocks['index']"
   ]
  },
  {
   "cell_type": "code",
   "execution_count": 85,
   "metadata": {
    "collapsed": false
   },
   "outputs": [
    {
     "name": "stdout",
     "output_type": "stream",
     "text": [
      "92\n",
      "240\n"
     ]
    }
   ],
   "source": [
    "#Takes in json of webscraped information, puts it into a dataframe, converts Salary information to integers\n",
    "glass_door=pd.DataFrame(columns=[\"Salary\",\"Company\",\"Location\"])\n",
    "\n",
    "extension=\"Data/allcities.json\"\n",
    "json=pd.read_json(extension)\n",
    "df=pd.DataFrame([json[\"city\"],json[\"company\"],json[\"meanPay\"],json[\"jobTitle\"]]).T\n",
    "# l=[]\n",
    "# i=0\n",
    "# j=0\n",
    "# while i< len(json):\n",
    "#     j=0\n",
    "#     while j< len(json.iloc[i]):\n",
    "#         if type(json.iloc[i,j])==dict:\n",
    "#             l.append(json.iloc[i,j])\n",
    "#         j+=1\n",
    "#     i+=1\n",
    "# #for x in new_city_list:\n",
    "# salary=[x[\"meanPay\"] for x in l]\n",
    "# company=[x[\"company\"] for x in l]\n",
    "# location=[x[\"city\"] for x in l]\n",
    "# df=pd.DataFrame([salary,company,location]).T\n",
    "df.columns=[\"Location\",\"Company\",\"Salary\",\"Job\"]\n",
    "temp=[]\n",
    "\n",
    "\n",
    "df['Salary'] = df['Salary'].apply(only_numerics)\n",
    "df=df[pd.notnull(df[\"Salary\"])].reset_index()\n",
    "del df['index']\n",
    "df[\"Salary\"]=df['Salary'].astype(np.float)#\n",
    "\n",
    "glass_door=glass_door.append(df,ignore_index=True)\n",
    "\n",
    "df=pd.merge(glass_door,cities,left_on=\"Location\",right_on=\"City\")\n",
    "df=pd.merge(df,stocks,left_on=\"Company\",right_on=\"Name\",how='inner')\n",
    "i=0\n",
    "delete=[]\n",
    "for x in df[\"Salary\"]:\n",
    "    if x<10000:\n",
    "        delete.append(i)\n",
    "    i+=1\n",
    "delete.sort()\n",
    "delete=delete[::-1]\n",
    "for key in delete:\n",
    "    df=df.iloc[:key].append(df.iloc[key+1:])\n",
    "df=df.reset_index()\n",
    "del df['index']\n",
    "\n",
    "df['Salary']=df['Salary'].astype(np.int)\n",
    "df.columns\n",
    "\n",
    "\n",
    "# todrop=[\"Software Engineer (Data Scientist)\",\"Data Visualization Scientist\",\\\n",
    "#         \"Scientist, Statistical and Data Sciences\",\"Associate Data Scientist\",\"Data Scientist Intern - Hourly\",\\\n",
    "#         \"Data Scientist Intern\"]\n",
    "\n",
    "\n",
    "df[\"Senior\"]=[1 if x else 0 for x in df[\"Job\"]==(\"Senior Data Scientist\")]\n",
    "df[\"Mid\"]=[1 if x else 0 for x in df[\"Job\"]==(\"Data Scientist\" or \"Principal Data Scientist\")]\n",
    "#df[\"Junior\"]=[1 if x else 0 for x in df[\"Job\"]==(\"Data Scientist I\" or \"Junior Data Scientist\" \n",
    "#                                                 or \"Data Scientist II\")]\n",
    "df[\"Large\"]=[1 if x else 0 for x in df[\"MarketCap\"]>=500]\n",
    "df[\"Small\"]=[1 if x else 0 for x in df[\"MarketCap\"]<100]\n",
    "i=0\n",
    "while i<len(df):\n",
    "    if df.loc[i,\"MarketCap\"] is np.NAN:\n",
    "        df.loc[i,\"MarketCap\"]=350\n",
    "    i+=1\n",
    "df[\"MarketCap\"]=df[\"MarketCap\"].astype(np.float)\n",
    "\n",
    "copy=df.copy()\n",
    "print len(df[df[\"Senior\"]==1])\n",
    "print len(df[df[\"Mid\"]==1])"
   ]
  },
  {
   "cell_type": "code",
   "execution_count": 73,
   "metadata": {
    "collapsed": false
   },
   "outputs": [
    {
     "data": {
      "text/plain": [
       "2.608695652173913"
      ]
     },
     "execution_count": 73,
     "metadata": {},
     "output_type": "execute_result"
    }
   ],
   "source": [
    "240/92."
   ]
  },
  {
   "cell_type": "code",
   "execution_count": 76,
   "metadata": {
    "collapsed": false,
    "scrolled": false
   },
   "outputs": [
    {
     "data": {
      "image/png": "[encoded data removed]",
      "text/plain": [
       "<matplotlib.figure.Figure at 0x119d7b810>"
      ]
     },
     "metadata": {},
     "output_type": "display_data"
    }
   ],
   "source": [
    "plt.hist(df[df[\"Senior\"]==1][\"Salary\"],bins=10);\n",
    "plt.hist((df[df[\"Mid\"]==1][\"Salary\"]),bins=26);"
   ]
  },
  {
   "cell_type": "code",
   "execution_count": null,
   "metadata": {
    "collapsed": false
   },
   "outputs": [],
   "source": []
  },
  {
   "cell_type": "code",
   "execution_count": 93,
   "metadata": {
    "collapsed": false,
    "scrolled": false
   },
   "outputs": [
    {
     "name": "stdout",
     "output_type": "stream",
     "text": [
      "               48000-98333  98333-148667  148667-199000\n",
      "48000-98333              0             0             30\n",
      "98333-148667             0             0             39\n",
      "148667-199000            0             0             89\n",
      "               precision    recall  f1-score   support\n",
      "\n",
      "148667-199000       0.00      0.00      0.00        30\n",
      "  48000-98333       0.00      0.00      0.00        39\n",
      " 98333-148667       0.56      1.00      0.72        89\n",
      "\n",
      "  avg / total       0.32      0.56      0.41       158\n",
      "\n",
      "[[ -1.02951861e-02   4.55838023e-05  -2.11933942e-04  -1.66743390e-04]\n",
      " [ -8.63202431e-03  -1.15156881e-04   9.52776128e-05  -1.19436710e-05]\n",
      " [  2.71291498e-03   3.68842297e-05   2.31250892e-06   1.24653008e-05]]\n"
     ]
    }
   ],
   "source": [
    "n=3\n",
    "increment=(199000-48000.)/float(n)\n",
    "bins=[48000,85750,148667,199000]\n",
    "bins=[]\n",
    "for i in range(n+1):\n",
    "    bins.append(48000+increment*(i))\n",
    "\n",
    "replacements=[]\n",
    "i=0\n",
    "while i<len(bins)-1:\n",
    "    replacements.append(str(int(round(bins[i])))+\"-\"+str(int(round(bins[i+1]))))\n",
    "    i+=1\n",
    "    \n",
    "\n",
    "df=copy.copy()\n",
    "df[\"Salary\"]=df['Salary'].apply(lambda x: salary_bin(x))\n",
    "df1=pd.get_dummies(df,columns=[\"Salary\"])\n",
    "\n",
    "cols=['100% Composite Index','Senior',\"Mid\",\"Large\"]\n",
    "# for y in [x for x in df1.columns[20:]]:\n",
    "#     cols.append(y) \n",
    "    \n",
    "    \n",
    "X_train,X_test,y_train,y_test=train_test_split(df1[cols],df['Salary'],test_size=.4)#,random_state=69\n",
    "\"\"\" Fit a binary classification predictor.\"\"\"\n",
    "logreg = LogisticRegression(solver='lbfgs') #'newton-cg', 'lbfgs', 'liblinear', 'sag'\n",
    "C_vals = [10**x for x in range (-5,5)]\n",
    "penalties = ['l2']\n",
    "\n",
    "gs = GridSearchCV(logreg, {'penalty': penalties, 'C': C_vals}, verbose=False, cv=3)\n",
    "gs.fit(X_train, y_train)\n",
    "\n",
    "logreg = LogisticRegression(C=gs.best_params_['C'], penalty=gs.best_params_['penalty'])\n",
    "cv_model = logreg.fit(X_train, y_train)\n",
    "cv_pred = cv_model.predict(X_test)\n",
    "\n",
    "y_score = cv_model.decision_function(X_test) # Submit these response, the output of model.decision_function\n",
    "\n",
    "\"\"\" Check your performance so far.\"\"\"\n",
    "\n",
    "conmat = np.array(confusion_matrix(y_test, cv_pred))\n",
    "confusion = pd.DataFrame(conmat, index=replacements, columns=replacements)\n",
    "\n",
    "print(confusion)\n",
    "print classification_report(y_test,cv_pred)\n",
    "print cv_model.coef_"
   ]
  },
  {
   "cell_type": "code",
   "execution_count": null,
   "metadata": {
    "collapsed": false
   },
   "outputs": [],
   "source": [
    "\"\"\" Fit a binary classification predictor.\"\"\"\n",
    "logreg = LogisticRegression(solver='liblinear') #'newton-cg', 'lbfgs', 'liblinear', 'sag'\n",
    "C_vals = [10**x for x in range (-5,5)]\n",
    "penalties = ['l1','l2']\n",
    "\n",
    "gs = GridSearchCV(logreg, {'penalty': penalties, 'C': C_vals}, verbose=False, cv=3)\n",
    "gs.fit(X_train, y_train)\n",
    "\n",
    "logreg = LogisticRegression(C=gs.best_params_['C'], penalty=gs.best_params_['penalty'])\n",
    "cv_model = logreg.fit(X_train, y_train)\n",
    "cv_pred = cv_model.predict(X_test)\n",
    "\n",
    "y_score = cv_model.decision_function(X_test) # Submit these response, the output of model.decision_function\n",
    "\n",
    "\"\"\" Check your performance so far.\"\"\"\n",
    "\n",
    "conmat = np.array(confusion_matrix(y_test, cv_pred))\n",
    "confusion = pd.DataFrame(conmat, index=replacements,\n",
    "                            columns=replacements)\n",
    "\n",
    "print(confusion)\n",
    "print classification_report(y_test,cv_pred)\n"
   ]
  },
  {
   "cell_type": "code",
   "execution_count": 224,
   "metadata": {
    "collapsed": false
   },
   "outputs": [
    {
     "ename": "ValueError",
     "evalue": "continuous format is not supported",
     "output_type": "error",
     "traceback": [
      "\u001b[0;31m---------------------------------------------------------------------------\u001b[0m",
      "\u001b[0;31mValueError\u001b[0m                                Traceback (most recent call last)",
      "\u001b[0;32m<ipython-input-224-ac4c42468ff6>\u001b[0m in \u001b[0;36m<module>\u001b[0;34m()\u001b[0m\n\u001b[0;32m----> 1\u001b[0;31m \u001b[0mroc_auc_score\u001b[0m\u001b[0;34m(\u001b[0m\u001b[0my_test\u001b[0m\u001b[0;34m,\u001b[0m \u001b[0my_score\u001b[0m\u001b[0;34m)\u001b[0m\u001b[0;34m\u001b[0m\u001b[0m\n\u001b[0m\u001b[1;32m      2\u001b[0m \u001b[0;34m\u001b[0m\u001b[0m\n\u001b[1;32m      3\u001b[0m \u001b[0;34m\"\"\" Plot AUC\"\"\"\u001b[0m\u001b[0;34m\u001b[0m\u001b[0m\n\u001b[1;32m      4\u001b[0m \u001b[0;34m\u001b[0m\u001b[0m\n\u001b[1;32m      5\u001b[0m \u001b[0mFPR\u001b[0m \u001b[0;34m=\u001b[0m \u001b[0mdict\u001b[0m\u001b[0;34m(\u001b[0m\u001b[0;34m)\u001b[0m\u001b[0;34m\u001b[0m\u001b[0m\n",
      "\u001b[0;32m/Users/thomas/anaconda/lib/python2.7/site-packages/sklearn/metrics/ranking.pyc\u001b[0m in \u001b[0;36mroc_auc_score\u001b[0;34m(y_true, y_score, average, sample_weight)\u001b[0m\n\u001b[1;32m    258\u001b[0m     return _average_binary_score(\n\u001b[1;32m    259\u001b[0m         \u001b[0m_binary_roc_auc_score\u001b[0m\u001b[0;34m,\u001b[0m \u001b[0my_true\u001b[0m\u001b[0;34m,\u001b[0m \u001b[0my_score\u001b[0m\u001b[0;34m,\u001b[0m \u001b[0maverage\u001b[0m\u001b[0;34m,\u001b[0m\u001b[0;34m\u001b[0m\u001b[0m\n\u001b[0;32m--> 260\u001b[0;31m         sample_weight=sample_weight)\n\u001b[0m\u001b[1;32m    261\u001b[0m \u001b[0;34m\u001b[0m\u001b[0m\n\u001b[1;32m    262\u001b[0m \u001b[0;34m\u001b[0m\u001b[0m\n",
      "\u001b[0;32m/Users/thomas/anaconda/lib/python2.7/site-packages/sklearn/metrics/base.pyc\u001b[0m in \u001b[0;36m_average_binary_score\u001b[0;34m(binary_metric, y_true, y_score, average, sample_weight)\u001b[0m\n\u001b[1;32m     79\u001b[0m     \u001b[0my_type\u001b[0m \u001b[0;34m=\u001b[0m \u001b[0mtype_of_target\u001b[0m\u001b[0;34m(\u001b[0m\u001b[0my_true\u001b[0m\u001b[0;34m)\u001b[0m\u001b[0;34m\u001b[0m\u001b[0m\n\u001b[1;32m     80\u001b[0m     \u001b[0;32mif\u001b[0m \u001b[0my_type\u001b[0m \u001b[0;32mnot\u001b[0m \u001b[0;32min\u001b[0m \u001b[0;34m(\u001b[0m\u001b[0;34m\"binary\"\u001b[0m\u001b[0;34m,\u001b[0m \u001b[0;34m\"multilabel-indicator\"\u001b[0m\u001b[0;34m)\u001b[0m\u001b[0;34m:\u001b[0m\u001b[0;34m\u001b[0m\u001b[0m\n\u001b[0;32m---> 81\u001b[0;31m         \u001b[0;32mraise\u001b[0m \u001b[0mValueError\u001b[0m\u001b[0;34m(\u001b[0m\u001b[0;34m\"{0} format is not supported\"\u001b[0m\u001b[0;34m.\u001b[0m\u001b[0mformat\u001b[0m\u001b[0;34m(\u001b[0m\u001b[0my_type\u001b[0m\u001b[0;34m)\u001b[0m\u001b[0;34m)\u001b[0m\u001b[0;34m\u001b[0m\u001b[0m\n\u001b[0m\u001b[1;32m     82\u001b[0m \u001b[0;34m\u001b[0m\u001b[0m\n\u001b[1;32m     83\u001b[0m     \u001b[0;32mif\u001b[0m \u001b[0my_type\u001b[0m \u001b[0;34m==\u001b[0m \u001b[0;34m\"binary\"\u001b[0m\u001b[0;34m:\u001b[0m\u001b[0;34m\u001b[0m\u001b[0m\n",
      "\u001b[0;31mValueError\u001b[0m: continuous format is not supported"
     ]
    }
   ],
   "source": [
    "roc_auc_score(y_test, y_score)\n",
    "\n",
    "\"\"\" Plot AUC\"\"\"\n",
    "\n",
    "FPR = dict()\n",
    "TPR = dict()\n",
    "ROC_AUC = dict()\n",
    "\n",
    "# For class 1, find the area under the curve\n",
    "FPR[1], TPR[1], _ = roc_curve(y_test, y_score)\n",
    "ROC_AUC[1] = auc(FPR[1], TPR[1])\n",
    "\n",
    "# Plot of a ROC curve for class 1 (has_cancer)\n",
    "plt.figure(figsize=[11,9])\n",
    "plt.plot(FPR[1], TPR[1], label='ROC curve (area = %0.2f)' % ROC_AUC[1], linewidth=4)\n",
    "plt.plot([0, 1], [0, 1], 'k--', linewidth=4)\n",
    "plt.xlim([0.0, 1.0])\n",
    "plt.ylim([0.0, 1.05])\n",
    "plt.xlabel('False Positive Rate', fontsize=18)\n",
    "plt.ylabel('True Positive Rate', fontsize=18)\n",
    "plt.title('Receiver operating characteristic for high/low income', fontsize=18)\n",
    "plt.legend(loc=\"lower right\")\n",
    "plt.show()"
   ]
  },
  {
   "cell_type": "code",
   "execution_count": 258,
   "metadata": {
    "collapsed": false,
    "scrolled": false
   },
   "outputs": [
    {
     "data": {
      "image/png": "[encoded data removed]",
      "text/plain": [
       "<matplotlib.figure.Figure at 0x11adb4e10>"
      ]
     },
     "metadata": {},
     "output_type": "display_data"
    },
    {
     "name": "stdout",
     "output_type": "stream",
     "text": [
      "                  Results: Ordinary least squares\n",
      "===================================================================\n",
      "Model:              OLS              Adj. R-squared:     0.963     \n",
      "Dependent Variable: Salary           AIC:                6816.0834 \n",
      "Date:               2016-10-17 17:09 BIC:                6830.8448 \n",
      "No. Observations:   296              Log-Likelihood:     -3404.0   \n",
      "Df Model:           4                F-statistic:        1914.     \n",
      "Df Residuals:       292              Prob (F-statistic): 4.45e-208 \n",
      "R-squared:          0.963            Scale:              5.7854e+08\n",
      "--------------------------------------------------------------------\n",
      "        Coef.      Std.Err.     t     P>|t|     [0.025      0.975]  \n",
      "--------------------------------------------------------------------\n",
      "x1      754.2977    27.3167  27.6130  0.0000    700.5350    808.0604\n",
      "x2        0.0828     0.0085   9.6977  0.0000      0.0660      0.0997\n",
      "x3    30833.3325  4336.6601   7.1099  0.0000  22298.2588  39368.4061\n",
      "x4    16945.0181  3513.1597   4.8233  0.0000  10030.6933  23859.3429\n",
      "-------------------------------------------------------------------\n",
      "Omnibus:              23.576        Durbin-Watson:           1.680 \n",
      "Prob(Omnibus):        0.000         Jarque-Bera (JB):        85.925\n",
      "Skew:                 -0.118        Prob(JB):                0.000 \n",
      "Kurtosis:             5.629         Condition No.:           734007\n",
      "===================================================================\n",
      "* The condition number is large (7e+05). This might indicate\n",
      "strong multicollinearity or other numerical problems.\n"
     ]
    }
   ],
   "source": [
    "#Linear Regression\n",
    "xtr=x_train\n",
    "xte=x_test\n",
    "ytr=y_train\n",
    "yte=y_test\n",
    "\n",
    "xtr=np.array(xtr).reshape(len(xtr),4)\n",
    "xte=np.array(xte).reshape(len(xte),4)\n",
    "xtr2=sm.add_constant(xtr)\n",
    "model=sm.OLS(ytr,xtr).fit()\n",
    "\n",
    "xte2=sm.add_constant(xte)\n",
    "pred=model.predict(xte)\n",
    "\n",
    "plt.plot(pred,yte,'o')\n",
    "plt.plot(pred,pred,'-')\n",
    "plt.xlim(0,180000)\n",
    "plt.ylim(0,180000)\n",
    "plt.show()\n",
    "\n",
    "print model.summary2()"
   ]
  },
  {
   "cell_type": "code",
   "execution_count": 528,
   "metadata": {
    "collapsed": false
   },
   "outputs": [
    {
     "name": "stderr",
     "output_type": "stream",
     "text": [
      "/Users/thomas/anaconda/lib/python2.7/site-packages/ipykernel/__main__.py:2: VisibleDeprecationWarning: using a non-integer number instead of an integer will result in an error in the future\n",
      "  from ipykernel import kernelapp as app\n"
     ]
    },
    {
     "ename": "IndexError",
     "evalue": "only integers, slices (`:`), ellipsis (`...`), numpy.newaxis (`None`) and integer or boolean arrays are valid indices",
     "output_type": "error",
     "traceback": [
      "\u001b[0;31m---------------------------------------------------------------------------\u001b[0m",
      "\u001b[0;31mIndexError\u001b[0m                                Traceback (most recent call last)",
      "\u001b[0;32m<ipython-input-528-bb8d7f4a3f41>\u001b[0m in \u001b[0;36m<module>\u001b[0;34m()\u001b[0m\n\u001b[1;32m      1\u001b[0m \u001b[0mtemp\u001b[0m\u001b[0;34m=\u001b[0m\u001b[0mxtr\u001b[0m\u001b[0;34m[\u001b[0m\u001b[0;34m:\u001b[0m\u001b[0mlen\u001b[0m\u001b[0;34m(\u001b[0m\u001b[0mxtr\u001b[0m\u001b[0;34m)\u001b[0m\u001b[0;34m/\u001b[0m\u001b[0;36m3\u001b[0m\u001b[0;34m]\u001b[0m\u001b[0;34m\u001b[0m\u001b[0m\n\u001b[0;32m----> 2\u001b[0;31m \u001b[0mplt\u001b[0m\u001b[0;34m.\u001b[0m\u001b[0mhist\u001b[0m\u001b[0;34m(\u001b[0m\u001b[0mxte\u001b[0m\u001b[0;34m[\u001b[0m\u001b[0;34m\"100% Composite Index\"\u001b[0m\u001b[0;34m]\u001b[0m\u001b[0;34m,\u001b[0m\u001b[0mbins\u001b[0m\u001b[0;34m=\u001b[0m\u001b[0;36m5\u001b[0m\u001b[0;34m)\u001b[0m\u001b[0;34m\u001b[0m\u001b[0m\n\u001b[0m\u001b[1;32m      3\u001b[0m \u001b[0mplt\u001b[0m\u001b[0;34m.\u001b[0m\u001b[0mhist\u001b[0m\u001b[0;34m(\u001b[0m\u001b[0mtemp\u001b[0m\u001b[0;34m[\u001b[0m\u001b[0;34m\"100% Composite Index\"\u001b[0m\u001b[0;34m]\u001b[0m\u001b[0;34m,\u001b[0m\u001b[0mbins\u001b[0m\u001b[0;34m=\u001b[0m\u001b[0;36m5\u001b[0m\u001b[0;34m)\u001b[0m\u001b[0;34m\u001b[0m\u001b[0m\n\u001b[1;32m      4\u001b[0m \u001b[0mplt\u001b[0m\u001b[0;34m.\u001b[0m\u001b[0mshow\u001b[0m\u001b[0;34m(\u001b[0m\u001b[0;34m)\u001b[0m\u001b[0;34m\u001b[0m\u001b[0m\n",
      "\u001b[0;31mIndexError\u001b[0m: only integers, slices (`:`), ellipsis (`...`), numpy.newaxis (`None`) and integer or boolean arrays are valid indices"
     ]
    }
   ],
   "source": [
    "temp=xtr[:len(xtr)/3]\n",
    "plt.hist(xte[\"100% Composite Index\"],bins=5)\n",
    "plt.hist(temp[\"100% Composite Index\"],bins=5)\n",
    "plt.show()"
   ]
  },
  {
   "cell_type": "code",
   "execution_count": 416,
   "metadata": {
    "collapsed": false
   },
   "outputs": [
    {
     "data": {
      "text/plain": [
       "Salary                                           138500\n",
       "Company                                     Capital One\n",
       "Location                                 Wilmington, DE\n",
       "City                                     Wilmington, DE\n",
       "100% Composite Index                              105.2\n",
       "13 % Grocery Items                                108.1\n",
       "29 % Housing                                        102\n",
       "10% Utilities                                     115.4\n",
       "12 % Transportation                                98.6\n",
       "4% Health Care                                    108.7\n",
       "32 % Miscellaneous Goods and Services             105.2\n",
       "Name: 730, dtype: object"
      ]
     },
     "execution_count": 416,
     "metadata": {},
     "output_type": "execute_result"
    }
   ],
   "source": [
    "df.iloc[730]"
   ]
  },
  {
   "cell_type": "markdown",
   "metadata": {},
   "source": [
    "For the logistic regressions, make the discrete value a bin; the smallest bin will be 0. The goal should be to make the bins be organized so that a linear plot can be drawn through them. If the linear plot does not run through them, then there is significant risk of misidentifying a bin. Depending on what the x-axis is (most-likely score), the bins will have to have an equal width along this x-axis (i.e., all bins having a width of x-units on the x-axis).\n",
    "\n",
    "Contrarily, we want evenly distributed bins in the price aspect.\n",
    "\n",
    "So, if one were to not do a multinomial logistic regression, one could additionally do a series of logistic regressions. One would check to see if the point goes into bin 0 or 1. If it goes into 1, one would check to see if it goes into bins 1 or 2. If it is in bin 2, one would see if it goes into bins 2 or 3... If it does not go into the higher bin, the regression sequence ends, and the point enters the lower of the two bins.\n",
    "### Scratch ^; essentially a multinomial logistic regression"
   ]
  },
  {
   "cell_type": "code",
   "execution_count": 201,
   "metadata": {
    "collapsed": false,
    "scrolled": true
   },
   "outputs": [
    {
     "data": {
      "text/html": [
       "<div>\n",
       "<table border=\"1\" class=\"dataframe\">\n",
       "  <thead>\n",
       "    <tr style=\"text-align: right;\">\n",
       "      <th></th>\n",
       "      <th>Company</th>\n",
       "      <th>Job</th>\n",
       "      <th>Location</th>\n",
       "      <th>Salary</th>\n",
       "      <th>City</th>\n",
       "      <th>100% Composite Index</th>\n",
       "      <th>13 % Grocery Items</th>\n",
       "      <th>29 % Housing</th>\n",
       "      <th>10% Utilities</th>\n",
       "      <th>12 % Transportation</th>\n",
       "      <th>...</th>\n",
       "      <th>32 % Miscellaneous Goods and Services</th>\n",
       "      <th>Symbol</th>\n",
       "      <th>Name</th>\n",
       "      <th>LastSale</th>\n",
       "      <th>MarketCap</th>\n",
       "      <th>IPOyear</th>\n",
       "      <th>Sector</th>\n",
       "      <th>industry</th>\n",
       "      <th>Senior</th>\n",
       "      <th>Mid</th>\n",
       "    </tr>\n",
       "  </thead>\n",
       "  <tbody>\n",
       "    <tr>\n",
       "      <th>0</th>\n",
       "      <td>GE</td>\n",
       "      <td>Data Scientist</td>\n",
       "      <td>Albany, NY</td>\n",
       "      <td>104000</td>\n",
       "      <td>Albany, NY</td>\n",
       "      <td>108.1</td>\n",
       "      <td>105.0</td>\n",
       "      <td>112.6</td>\n",
       "      <td>101.0</td>\n",
       "      <td>102.8</td>\n",
       "      <td>...</td>\n",
       "      <td>108.6</td>\n",
       "      <td>NaN</td>\n",
       "      <td>NaN</td>\n",
       "      <td>NaN</td>\n",
       "      <td>250.0</td>\n",
       "      <td>NaN</td>\n",
       "      <td>NaN</td>\n",
       "      <td>NaN</td>\n",
       "      <td>0</td>\n",
       "      <td>1</td>\n",
       "    </tr>\n",
       "    <tr>\n",
       "      <th>1</th>\n",
       "      <td>State Farm</td>\n",
       "      <td>Data Scientist</td>\n",
       "      <td>Arlington, TX</td>\n",
       "      <td>105000</td>\n",
       "      <td>Arlington, TX</td>\n",
       "      <td>99.3</td>\n",
       "      <td>94.4</td>\n",
       "      <td>89.4</td>\n",
       "      <td>109.9</td>\n",
       "      <td>98.3</td>\n",
       "      <td>...</td>\n",
       "      <td>106.4</td>\n",
       "      <td>NaN</td>\n",
       "      <td>NaN</td>\n",
       "      <td>NaN</td>\n",
       "      <td>250.0</td>\n",
       "      <td>NaN</td>\n",
       "      <td>NaN</td>\n",
       "      <td>NaN</td>\n",
       "      <td>0</td>\n",
       "      <td>1</td>\n",
       "    </tr>\n",
       "    <tr>\n",
       "      <th>2</th>\n",
       "      <td>Epsilon</td>\n",
       "      <td>Data Scientist</td>\n",
       "      <td>Arlington, TX</td>\n",
       "      <td>166500</td>\n",
       "      <td>Arlington, TX</td>\n",
       "      <td>99.3</td>\n",
       "      <td>94.4</td>\n",
       "      <td>89.4</td>\n",
       "      <td>109.9</td>\n",
       "      <td>98.3</td>\n",
       "      <td>...</td>\n",
       "      <td>106.4</td>\n",
       "      <td>NaN</td>\n",
       "      <td>NaN</td>\n",
       "      <td>NaN</td>\n",
       "      <td>250.0</td>\n",
       "      <td>NaN</td>\n",
       "      <td>NaN</td>\n",
       "      <td>NaN</td>\n",
       "      <td>0</td>\n",
       "      <td>1</td>\n",
       "    </tr>\n",
       "    <tr>\n",
       "      <th>3</th>\n",
       "      <td>Match</td>\n",
       "      <td>Data Scientist</td>\n",
       "      <td>Arlington, TX</td>\n",
       "      <td>82500</td>\n",
       "      <td>Arlington, TX</td>\n",
       "      <td>99.3</td>\n",
       "      <td>94.4</td>\n",
       "      <td>89.4</td>\n",
       "      <td>109.9</td>\n",
       "      <td>98.3</td>\n",
       "      <td>...</td>\n",
       "      <td>106.4</td>\n",
       "      <td>NaN</td>\n",
       "      <td>NaN</td>\n",
       "      <td>NaN</td>\n",
       "      <td>250.0</td>\n",
       "      <td>NaN</td>\n",
       "      <td>NaN</td>\n",
       "      <td>NaN</td>\n",
       "      <td>0</td>\n",
       "      <td>1</td>\n",
       "    </tr>\n",
       "    <tr>\n",
       "      <th>4</th>\n",
       "      <td>Hudl</td>\n",
       "      <td>Data Scientist</td>\n",
       "      <td>Arlington, TX</td>\n",
       "      <td>90000</td>\n",
       "      <td>Arlington, TX</td>\n",
       "      <td>99.3</td>\n",
       "      <td>94.4</td>\n",
       "      <td>89.4</td>\n",
       "      <td>109.9</td>\n",
       "      <td>98.3</td>\n",
       "      <td>...</td>\n",
       "      <td>106.4</td>\n",
       "      <td>NaN</td>\n",
       "      <td>NaN</td>\n",
       "      <td>NaN</td>\n",
       "      <td>250.0</td>\n",
       "      <td>NaN</td>\n",
       "      <td>NaN</td>\n",
       "      <td>NaN</td>\n",
       "      <td>0</td>\n",
       "      <td>1</td>\n",
       "    </tr>\n",
       "  </tbody>\n",
       "</table>\n",
       "<p>5 rows × 21 columns</p>\n",
       "</div>"
      ],
      "text/plain": [
       "      Company             Job       Location  Salary           City  \\\n",
       "0          GE  Data Scientist     Albany, NY  104000     Albany, NY   \n",
       "1  State Farm  Data Scientist  Arlington, TX  105000  Arlington, TX   \n",
       "2     Epsilon  Data Scientist  Arlington, TX  166500  Arlington, TX   \n",
       "3       Match  Data Scientist  Arlington, TX   82500  Arlington, TX   \n",
       "4        Hudl  Data Scientist  Arlington, TX   90000  Arlington, TX   \n",
       "\n",
       "   100% Composite Index  13 % Grocery Items  29 % Housing  10% Utilities  \\\n",
       "0                 108.1               105.0         112.6          101.0   \n",
       "1                  99.3                94.4          89.4          109.9   \n",
       "2                  99.3                94.4          89.4          109.9   \n",
       "3                  99.3                94.4          89.4          109.9   \n",
       "4                  99.3                94.4          89.4          109.9   \n",
       "\n",
       "   12 % Transportation ...   32 % Miscellaneous Goods and Services  Symbol  \\\n",
       "0                102.8 ...                                   108.6     NaN   \n",
       "1                 98.3 ...                                   106.4     NaN   \n",
       "2                 98.3 ...                                   106.4     NaN   \n",
       "3                 98.3 ...                                   106.4     NaN   \n",
       "4                 98.3 ...                                   106.4     NaN   \n",
       "\n",
       "  Name LastSale MarketCap  IPOyear Sector industry Senior  Mid  \n",
       "0  NaN      NaN     250.0      NaN    NaN      NaN      0    1  \n",
       "1  NaN      NaN     250.0      NaN    NaN      NaN      0    1  \n",
       "2  NaN      NaN     250.0      NaN    NaN      NaN      0    1  \n",
       "3  NaN      NaN     250.0      NaN    NaN      NaN      0    1  \n",
       "4  NaN      NaN     250.0      NaN    NaN      NaN      0    1  \n",
       "\n",
       "[5 rows x 21 columns]"
      ]
     },
     "execution_count": 201,
     "metadata": {},
     "output_type": "execute_result"
    }
   ],
   "source": [
    "df.head()"
   ]
  },
  {
   "cell_type": "code",
   "execution_count": 146,
   "metadata": {
    "collapsed": false
   },
   "outputs": [],
   "source": [
    "#Merge Company Data and Location Data"
   ]
  },
  {
   "cell_type": "code",
   "execution_count": 203,
   "metadata": {
    "collapsed": true
   },
   "outputs": [],
   "source": [
    "i=0\n",
    "bad_names=[]\n",
    "while i<len(df):\n",
    "    if df.loc[i,\"IPOyear\"] is np.NAN:\n",
    "        bad_names.append(df.loc[i,\"Company\"])\n",
    "    i+=1"
   ]
  },
  {
   "cell_type": "code",
   "execution_count": null,
   "metadata": {
    "collapsed": true
   },
   "outputs": [],
   "source": []
  },
  {
   "cell_type": "code",
   "execution_count": 229,
   "metadata": {
    "collapsed": false
   },
   "outputs": [
    {
     "name": "stdout",
     "output_type": "stream",
     "text": [
      "Looked Up: Epsilon\n",
      "Found: []\n"
     ]
    }
   ],
   "source": [
    "i=2\n",
    "print \"Looked Up:\",bad_names[i]\n",
    "lookup=\"Epsilon\"\n",
    "\n",
    "print \"Found:\",[x for x in stocks[\"Name\"] if lookup in x]\n"
   ]
  },
  {
   "cell_type": "code",
   "execution_count": 207,
   "metadata": {
    "collapsed": false
   },
   "outputs": [
    {
     "data": {
      "text/plain": [
       "u'GE'"
      ]
     },
     "execution_count": 207,
     "metadata": {},
     "output_type": "execute_result"
    }
   ],
   "source": [
    "lookup"
   ]
  },
  {
   "cell_type": "code",
   "execution_count": null,
   "metadata": {
    "collapsed": true
   },
   "outputs": [],
   "source": [
    "change={\"General Electric Company\":\"GE\", }"
   ]
  },
  {
   "cell_type": "code",
   "execution_count": null,
   "metadata": {
    "collapsed": true
   },
   "outputs": [],
   "source": []
  },
  {
   "cell_type": "code",
   "execution_count": 98,
   "metadata": {
    "collapsed": true
   },
   "outputs": [],
   "source": [
    "todrop=[\"Software Engineer (Data Scientist)\",\"Data Visualization Scientist\",\\\n",
    "        \"Scientist, Statistical and Data Sciences\",\"Associate Data Scientist\",\"Data Scientist Intern - Hourly\",\\\n",
    "        \"Data Scientist Intern\"]\n"
   ]
  },
  {
   "cell_type": "code",
   "execution_count": 101,
   "metadata": {
    "collapsed": false
   },
   "outputs": [],
   "source": [
    "for x in todrop:\n",
    "    glass_door=glass_door[glass_door[\"Job\"]!=x]"
   ]
  },
  {
   "cell_type": "code",
   "execution_count": 113,
   "metadata": {
    "collapsed": false
   },
   "outputs": [
    {
     "data": {
      "image/png": "[encoded data removed]",
      "text/plain": [
       "<matplotlib.figure.Figure at 0x1213f8d50>"
      ]
     },
     "metadata": {},
     "output_type": "display_data"
    }
   ],
   "source": [
    "plt.hist(glass_door[glass_door[\"Job\"]==\"Senior Data Scientist\"][\"Salary\"],bins=10)\n",
    "plt.hist(glass_door[glass_door[\"Job\"]==\"Data Scientist\"][\"Salary\"],bins=36);"
   ]
  },
  {
   "cell_type": "code",
   "execution_count": 117,
   "metadata": {
    "collapsed": false
   },
   "outputs": [],
   "source": [
    "glass_door=glass_door.merge(cities, left_on=\"Location\", right_on=\"City\")"
   ]
  },
  {
   "cell_type": "code",
   "execution_count": 119,
   "metadata": {
    "collapsed": false
   },
   "outputs": [],
   "source": [
    "glass_door[\"Normalized Salary\"]=glass_door[\"Salary\"]/glass_door[\"100% Composite Index\"]"
   ]
  },
  {
   "cell_type": "code",
   "execution_count": 143,
   "metadata": {
    "collapsed": false
   },
   "outputs": [
    {
     "data": {
      "image/png": "[encoded data removed]",
      "text/plain": [
       "<matplotlib.figure.Figure at 0x1223d8090>"
      ]
     },
     "metadata": {},
     "output_type": "display_data"
    }
   ],
   "source": [
    "average=np.mean(glass_door[\"100% Composite Index\"])\n",
    "#\\plt.hist(glass_door[\"Salary\"]/average,width=50)\n",
    "plt.hist(glass_door[\"Normalized Salary\"],bins=50);"
   ]
  },
  {
   "cell_type": "code",
   "execution_count": 166,
   "metadata": {
    "collapsed": false,
    "scrolled": false
   },
   "outputs": [
    {
     "data": {
      "image/png": "[encoded data removed]",
      "text/plain": [
       "<matplotlib.figure.Figure at 0x1231b0b90>"
      ]
     },
     "metadata": {},
     "output_type": "display_data"
    },
    {
     "name": "stdout",
     "output_type": "stream",
     "text": [
      "                   Results: Ordinary least squares\n",
      "====================================================================\n",
      "Model:              OLS               Adj. R-squared:     0.849     \n",
      "Dependent Variable: Normalized Salary AIC:                13239.6585\n",
      "Date:               2016-10-17 20:39  BIC:                13249.2522\n",
      "No. Observations:   895               Log-Likelihood:     -6617.8   \n",
      "Df Model:           2                 F-statistic:        2525.     \n",
      "Df Residuals:       893               Prob (F-statistic): 0.00      \n",
      "R-squared:          0.850             Scale:              1.5525e+05\n",
      "----------------------------------------------------------------------\n",
      "         Coef.     Std.Err.      t      P>|t|      [0.025      0.975] \n",
      "----------------------------------------------------------------------\n",
      "x1     1099.8968    26.2680   41.8721   0.0000   1048.3425   1151.4511\n",
      "x2      950.2097    16.5473   57.4238   0.0000    917.7335    982.6858\n",
      "--------------------------------------------------------------------\n",
      "Omnibus:               286.299       Durbin-Watson:          1.843  \n",
      "Prob(Omnibus):         0.000         Jarque-Bera (JB):       713.144\n",
      "Skew:                  1.701         Prob(JB):               0.000  \n",
      "Kurtosis:              5.747         Condition No.:          2      \n",
      "====================================================================\n",
      "\n"
     ]
    }
   ],
   "source": [
    "df=glass_door.copy()\n",
    "df[\"Senior\"]=[1 if x else 0 for x in df[\"Job\"]==(\"Senior Data Scientist\" or \"Principal Data Scientist\")]\n",
    "df[\"Mid\"]=[1 if x else 0 for x in df[\"Job\"]==(\"Data Scientist\")]\n",
    "    \n",
    "#df=df[df[\"Job\"]==(\"Data Scientist\" or \"Principal Data Scientist\" or \"Senior Data Scientist\")]\n",
    "cols=['Senior',\"Mid\"]\n",
    "    \n",
    "    \n",
    "x_train,x_test,y_train,y_test=train_test_split(df[cols],df['Normalized Salary'],test_size=.35,random_state=70)\n",
    "\"\"\" Fit a binary classification predictor.\"\"\"\n",
    "#Linear Regression\n",
    "xtr=x_train\n",
    "xte=x_test\n",
    "ytr=y_train\n",
    "yte=y_test\n",
    "\n",
    "xtr=np.array(xtr).reshape(len(xtr),2)\n",
    "xte=np.array(xte).reshape(len(xte),2)\n",
    "xtr2=sm.add_constant(xtr)\n",
    "model=sm.OLS(ytr,xtr).fit()\n",
    "\n",
    "xte2=sm.add_constant(xte)\n",
    "pred=model.predict(xte)\n",
    "\n",
    "plt.plot(pred,yte,'o')\n",
    "plt.plot(pred,pred,'-')\n",
    "plt.xlim(0,2000)\n",
    "plt.ylim(0,2000)\n",
    "plt.show()\n",
    "\n",
    "print model.summary2()"
   ]
  },
  {
   "cell_type": "code",
   "execution_count": 174,
   "metadata": {
    "collapsed": false,
    "scrolled": true
   },
   "outputs": [
    {
     "ename": "MergeError",
     "evalue": "No common columns to perform merge on",
     "output_type": "error",
     "traceback": [
      "\u001b[0;31m---------------------------------------------------------------------------\u001b[0m",
      "\u001b[0;31mMergeError\u001b[0m                                Traceback (most recent call last)",
      "\u001b[0;32m<ipython-input-174-9cc393fff868>\u001b[0m in \u001b[0;36m<module>\u001b[0;34m()\u001b[0m\n\u001b[1;32m      1\u001b[0m \u001b[0mdf\u001b[0m\u001b[0;34m=\u001b[0m\u001b[0mglass_door\u001b[0m\u001b[0;34m.\u001b[0m\u001b[0mcopy\u001b[0m\u001b[0;34m(\u001b[0m\u001b[0;34m)\u001b[0m\u001b[0;34m\u001b[0m\u001b[0m\n\u001b[0;32m----> 2\u001b[0;31m \u001b[0mdf\u001b[0m\u001b[0;34m.\u001b[0m\u001b[0mmerge\u001b[0m\u001b[0;34m(\u001b[0m\u001b[0mstocks\u001b[0m\u001b[0;34m,\u001b[0m \u001b[0mhow\u001b[0m\u001b[0;34m=\u001b[0m\u001b[0;34m'outer'\u001b[0m\u001b[0;34m)\u001b[0m\u001b[0;34m\u001b[0m\u001b[0m\n\u001b[0m",
      "\u001b[0;32m/Users/thomas/anaconda/lib/python2.7/site-packages/pandas/core/frame.pyc\u001b[0m in \u001b[0;36mmerge\u001b[0;34m(self, right, how, on, left_on, right_on, left_index, right_index, sort, suffixes, copy, indicator)\u001b[0m\n\u001b[1;32m   4435\u001b[0m                      \u001b[0mright_on\u001b[0m\u001b[0;34m=\u001b[0m\u001b[0mright_on\u001b[0m\u001b[0;34m,\u001b[0m \u001b[0mleft_index\u001b[0m\u001b[0;34m=\u001b[0m\u001b[0mleft_index\u001b[0m\u001b[0;34m,\u001b[0m\u001b[0;34m\u001b[0m\u001b[0m\n\u001b[1;32m   4436\u001b[0m                      \u001b[0mright_index\u001b[0m\u001b[0;34m=\u001b[0m\u001b[0mright_index\u001b[0m\u001b[0;34m,\u001b[0m \u001b[0msort\u001b[0m\u001b[0;34m=\u001b[0m\u001b[0msort\u001b[0m\u001b[0;34m,\u001b[0m \u001b[0msuffixes\u001b[0m\u001b[0;34m=\u001b[0m\u001b[0msuffixes\u001b[0m\u001b[0;34m,\u001b[0m\u001b[0;34m\u001b[0m\u001b[0m\n\u001b[0;32m-> 4437\u001b[0;31m                      copy=copy, indicator=indicator)\n\u001b[0m\u001b[1;32m   4438\u001b[0m \u001b[0;34m\u001b[0m\u001b[0m\n\u001b[1;32m   4439\u001b[0m     \u001b[0;32mdef\u001b[0m \u001b[0mround\u001b[0m\u001b[0;34m(\u001b[0m\u001b[0mself\u001b[0m\u001b[0;34m,\u001b[0m \u001b[0mdecimals\u001b[0m\u001b[0;34m=\u001b[0m\u001b[0;36m0\u001b[0m\u001b[0;34m,\u001b[0m \u001b[0;34m*\u001b[0m\u001b[0margs\u001b[0m\u001b[0;34m,\u001b[0m \u001b[0;34m**\u001b[0m\u001b[0mkwargs\u001b[0m\u001b[0;34m)\u001b[0m\u001b[0;34m:\u001b[0m\u001b[0;34m\u001b[0m\u001b[0m\n",
      "\u001b[0;32m/Users/thomas/anaconda/lib/python2.7/site-packages/pandas/tools/merge.pyc\u001b[0m in \u001b[0;36mmerge\u001b[0;34m(left, right, how, on, left_on, right_on, left_index, right_index, sort, suffixes, copy, indicator)\u001b[0m\n\u001b[1;32m     36\u001b[0m                          \u001b[0mright_on\u001b[0m\u001b[0;34m=\u001b[0m\u001b[0mright_on\u001b[0m\u001b[0;34m,\u001b[0m \u001b[0mleft_index\u001b[0m\u001b[0;34m=\u001b[0m\u001b[0mleft_index\u001b[0m\u001b[0;34m,\u001b[0m\u001b[0;34m\u001b[0m\u001b[0m\n\u001b[1;32m     37\u001b[0m                          \u001b[0mright_index\u001b[0m\u001b[0;34m=\u001b[0m\u001b[0mright_index\u001b[0m\u001b[0;34m,\u001b[0m \u001b[0msort\u001b[0m\u001b[0;34m=\u001b[0m\u001b[0msort\u001b[0m\u001b[0;34m,\u001b[0m \u001b[0msuffixes\u001b[0m\u001b[0;34m=\u001b[0m\u001b[0msuffixes\u001b[0m\u001b[0;34m,\u001b[0m\u001b[0;34m\u001b[0m\u001b[0m\n\u001b[0;32m---> 38\u001b[0;31m                          copy=copy, indicator=indicator)\n\u001b[0m\u001b[1;32m     39\u001b[0m     \u001b[0;32mreturn\u001b[0m \u001b[0mop\u001b[0m\u001b[0;34m.\u001b[0m\u001b[0mget_result\u001b[0m\u001b[0;34m(\u001b[0m\u001b[0;34m)\u001b[0m\u001b[0;34m\u001b[0m\u001b[0m\n\u001b[1;32m     40\u001b[0m \u001b[0;32mif\u001b[0m \u001b[0m__debug__\u001b[0m\u001b[0;34m:\u001b[0m\u001b[0;34m\u001b[0m\u001b[0m\n",
      "\u001b[0;32m/Users/thomas/anaconda/lib/python2.7/site-packages/pandas/tools/merge.pyc\u001b[0m in \u001b[0;36m__init__\u001b[0;34m(self, left, right, how, on, left_on, right_on, axis, left_index, right_index, sort, suffixes, copy, indicator)\u001b[0m\n\u001b[1;32m    208\u001b[0m         (self.left_join_keys,\n\u001b[1;32m    209\u001b[0m          \u001b[0mself\u001b[0m\u001b[0;34m.\u001b[0m\u001b[0mright_join_keys\u001b[0m\u001b[0;34m,\u001b[0m\u001b[0;34m\u001b[0m\u001b[0m\n\u001b[0;32m--> 210\u001b[0;31m          self.join_names) = self._get_merge_keys()\n\u001b[0m\u001b[1;32m    211\u001b[0m \u001b[0;34m\u001b[0m\u001b[0m\n\u001b[1;32m    212\u001b[0m     \u001b[0;32mdef\u001b[0m \u001b[0mget_result\u001b[0m\u001b[0;34m(\u001b[0m\u001b[0mself\u001b[0m\u001b[0;34m)\u001b[0m\u001b[0;34m:\u001b[0m\u001b[0;34m\u001b[0m\u001b[0m\n",
      "\u001b[0;32m/Users/thomas/anaconda/lib/python2.7/site-packages/pandas/tools/merge.pyc\u001b[0m in \u001b[0;36m_get_merge_keys\u001b[0;34m(self)\u001b[0m\n\u001b[1;32m    405\u001b[0m         \u001b[0mleft_keys\u001b[0m\u001b[0;34m,\u001b[0m \u001b[0mright_keys\u001b[0m\u001b[0;34m\u001b[0m\u001b[0m\n\u001b[1;32m    406\u001b[0m         \"\"\"\n\u001b[0;32m--> 407\u001b[0;31m         \u001b[0mself\u001b[0m\u001b[0;34m.\u001b[0m\u001b[0m_validate_specification\u001b[0m\u001b[0;34m(\u001b[0m\u001b[0;34m)\u001b[0m\u001b[0;34m\u001b[0m\u001b[0m\n\u001b[0m\u001b[1;32m    408\u001b[0m \u001b[0;34m\u001b[0m\u001b[0m\n\u001b[1;32m    409\u001b[0m         \u001b[0mleft_keys\u001b[0m \u001b[0;34m=\u001b[0m \u001b[0;34m[\u001b[0m\u001b[0;34m]\u001b[0m\u001b[0;34m\u001b[0m\u001b[0m\n",
      "\u001b[0;32m/Users/thomas/anaconda/lib/python2.7/site-packages/pandas/tools/merge.pyc\u001b[0m in \u001b[0;36m_validate_specification\u001b[0;34m(self)\u001b[0m\n\u001b[1;32m    497\u001b[0m                     self.right.columns)\n\u001b[1;32m    498\u001b[0m                 \u001b[0;32mif\u001b[0m \u001b[0mlen\u001b[0m\u001b[0;34m(\u001b[0m\u001b[0mcommon_cols\u001b[0m\u001b[0;34m)\u001b[0m \u001b[0;34m==\u001b[0m \u001b[0;36m0\u001b[0m\u001b[0;34m:\u001b[0m\u001b[0;34m\u001b[0m\u001b[0m\n\u001b[0;32m--> 499\u001b[0;31m                     \u001b[0;32mraise\u001b[0m \u001b[0mMergeError\u001b[0m\u001b[0;34m(\u001b[0m\u001b[0;34m'No common columns to perform merge on'\u001b[0m\u001b[0;34m)\u001b[0m\u001b[0;34m\u001b[0m\u001b[0m\n\u001b[0m\u001b[1;32m    500\u001b[0m                 \u001b[0;32mif\u001b[0m \u001b[0;32mnot\u001b[0m \u001b[0mcommon_cols\u001b[0m\u001b[0;34m.\u001b[0m\u001b[0mis_unique\u001b[0m\u001b[0;34m:\u001b[0m\u001b[0;34m\u001b[0m\u001b[0m\n\u001b[1;32m    501\u001b[0m                     raise MergeError(\"Data columns not unique: %s\"\n",
      "\u001b[0;31mMergeError\u001b[0m: No common columns to perform merge on"
     ]
    }
   ],
   "source": []
  },
  {
   "cell_type": "code",
   "execution_count": 200,
   "metadata": {
    "collapsed": false
   },
   "outputs": [
    {
     "ename": "MergeError",
     "evalue": "No common columns to perform merge on",
     "output_type": "error",
     "traceback": [
      "\u001b[0;31m---------------------------------------------------------------------------\u001b[0m",
      "\u001b[0;31mMergeError\u001b[0m                                Traceback (most recent call last)",
      "\u001b[0;32m<ipython-input-200-d600370cfa63>\u001b[0m in \u001b[0;36m<module>\u001b[0;34m()\u001b[0m\n\u001b[1;32m      1\u001b[0m \u001b[0mdf\u001b[0m\u001b[0;34m=\u001b[0m\u001b[0mglass_door\u001b[0m\u001b[0;34m.\u001b[0m\u001b[0mcopy\u001b[0m\u001b[0;34m(\u001b[0m\u001b[0;34m)\u001b[0m\u001b[0;34m\u001b[0m\u001b[0m\n\u001b[0;32m----> 2\u001b[0;31m \u001b[0mdf\u001b[0m\u001b[0;34m.\u001b[0m\u001b[0mmerge\u001b[0m\u001b[0;34m(\u001b[0m\u001b[0mstocks\u001b[0m\u001b[0;34m,\u001b[0m \u001b[0mhow\u001b[0m\u001b[0;34m=\u001b[0m\u001b[0;34m'outer'\u001b[0m\u001b[0;34m)\u001b[0m\u001b[0;34m\u001b[0m\u001b[0m\n\u001b[0m\u001b[1;32m      3\u001b[0m \u001b[0mdf\u001b[0m\u001b[0;34m[\u001b[0m\u001b[0;34m\"Senior\"\u001b[0m\u001b[0;34m]\u001b[0m\u001b[0;34m=\u001b[0m\u001b[0;34m[\u001b[0m\u001b[0;36m1\u001b[0m \u001b[0;32mif\u001b[0m \u001b[0mx\u001b[0m \u001b[0;32melse\u001b[0m \u001b[0;36m0\u001b[0m \u001b[0;32mfor\u001b[0m \u001b[0mx\u001b[0m \u001b[0;32min\u001b[0m \u001b[0mdf\u001b[0m\u001b[0;34m[\u001b[0m\u001b[0;34m\"Job\"\u001b[0m\u001b[0;34m]\u001b[0m\u001b[0;34m==\u001b[0m\u001b[0;34m(\u001b[0m\u001b[0;34m\"Senior Data Scientist\"\u001b[0m \u001b[0;32mor\u001b[0m \u001b[0;34m\"Principal Data Scientist\"\u001b[0m\u001b[0;34m)\u001b[0m\u001b[0;34m]\u001b[0m\u001b[0;34m\u001b[0m\u001b[0m\n\u001b[1;32m      4\u001b[0m \u001b[0mdf\u001b[0m\u001b[0;34m[\u001b[0m\u001b[0;34m\"Mid\"\u001b[0m\u001b[0;34m]\u001b[0m\u001b[0;34m=\u001b[0m\u001b[0;34m[\u001b[0m\u001b[0;36m1\u001b[0m \u001b[0;32mif\u001b[0m \u001b[0mx\u001b[0m \u001b[0;32melse\u001b[0m \u001b[0;36m0\u001b[0m \u001b[0;32mfor\u001b[0m \u001b[0mx\u001b[0m \u001b[0;32min\u001b[0m \u001b[0mdf\u001b[0m\u001b[0;34m[\u001b[0m\u001b[0;34m\"Job\"\u001b[0m\u001b[0;34m]\u001b[0m\u001b[0;34m==\u001b[0m\u001b[0;34m(\u001b[0m\u001b[0;34m\"Data Scientist\"\u001b[0m\u001b[0;34m)\u001b[0m\u001b[0;34m]\u001b[0m\u001b[0;34m\u001b[0m\u001b[0m\n\u001b[1;32m      5\u001b[0m \u001b[0;34m\u001b[0m\u001b[0m\n",
      "\u001b[0;32m/Users/thomas/anaconda/lib/python2.7/site-packages/pandas/core/frame.pyc\u001b[0m in \u001b[0;36mmerge\u001b[0;34m(self, right, how, on, left_on, right_on, left_index, right_index, sort, suffixes, copy, indicator)\u001b[0m\n\u001b[1;32m   4435\u001b[0m                      \u001b[0mright_on\u001b[0m\u001b[0;34m=\u001b[0m\u001b[0mright_on\u001b[0m\u001b[0;34m,\u001b[0m \u001b[0mleft_index\u001b[0m\u001b[0;34m=\u001b[0m\u001b[0mleft_index\u001b[0m\u001b[0;34m,\u001b[0m\u001b[0;34m\u001b[0m\u001b[0m\n\u001b[1;32m   4436\u001b[0m                      \u001b[0mright_index\u001b[0m\u001b[0;34m=\u001b[0m\u001b[0mright_index\u001b[0m\u001b[0;34m,\u001b[0m \u001b[0msort\u001b[0m\u001b[0;34m=\u001b[0m\u001b[0msort\u001b[0m\u001b[0;34m,\u001b[0m \u001b[0msuffixes\u001b[0m\u001b[0;34m=\u001b[0m\u001b[0msuffixes\u001b[0m\u001b[0;34m,\u001b[0m\u001b[0;34m\u001b[0m\u001b[0m\n\u001b[0;32m-> 4437\u001b[0;31m                      copy=copy, indicator=indicator)\n\u001b[0m\u001b[1;32m   4438\u001b[0m \u001b[0;34m\u001b[0m\u001b[0m\n\u001b[1;32m   4439\u001b[0m     \u001b[0;32mdef\u001b[0m \u001b[0mround\u001b[0m\u001b[0;34m(\u001b[0m\u001b[0mself\u001b[0m\u001b[0;34m,\u001b[0m \u001b[0mdecimals\u001b[0m\u001b[0;34m=\u001b[0m\u001b[0;36m0\u001b[0m\u001b[0;34m,\u001b[0m \u001b[0;34m*\u001b[0m\u001b[0margs\u001b[0m\u001b[0;34m,\u001b[0m \u001b[0;34m**\u001b[0m\u001b[0mkwargs\u001b[0m\u001b[0;34m)\u001b[0m\u001b[0;34m:\u001b[0m\u001b[0;34m\u001b[0m\u001b[0m\n",
      "\u001b[0;32m/Users/thomas/anaconda/lib/python2.7/site-packages/pandas/tools/merge.pyc\u001b[0m in \u001b[0;36mmerge\u001b[0;34m(left, right, how, on, left_on, right_on, left_index, right_index, sort, suffixes, copy, indicator)\u001b[0m\n\u001b[1;32m     36\u001b[0m                          \u001b[0mright_on\u001b[0m\u001b[0;34m=\u001b[0m\u001b[0mright_on\u001b[0m\u001b[0;34m,\u001b[0m \u001b[0mleft_index\u001b[0m\u001b[0;34m=\u001b[0m\u001b[0mleft_index\u001b[0m\u001b[0;34m,\u001b[0m\u001b[0;34m\u001b[0m\u001b[0m\n\u001b[1;32m     37\u001b[0m                          \u001b[0mright_index\u001b[0m\u001b[0;34m=\u001b[0m\u001b[0mright_index\u001b[0m\u001b[0;34m,\u001b[0m \u001b[0msort\u001b[0m\u001b[0;34m=\u001b[0m\u001b[0msort\u001b[0m\u001b[0;34m,\u001b[0m \u001b[0msuffixes\u001b[0m\u001b[0;34m=\u001b[0m\u001b[0msuffixes\u001b[0m\u001b[0;34m,\u001b[0m\u001b[0;34m\u001b[0m\u001b[0m\n\u001b[0;32m---> 38\u001b[0;31m                          copy=copy, indicator=indicator)\n\u001b[0m\u001b[1;32m     39\u001b[0m     \u001b[0;32mreturn\u001b[0m \u001b[0mop\u001b[0m\u001b[0;34m.\u001b[0m\u001b[0mget_result\u001b[0m\u001b[0;34m(\u001b[0m\u001b[0;34m)\u001b[0m\u001b[0;34m\u001b[0m\u001b[0m\n\u001b[1;32m     40\u001b[0m \u001b[0;32mif\u001b[0m \u001b[0m__debug__\u001b[0m\u001b[0;34m:\u001b[0m\u001b[0;34m\u001b[0m\u001b[0m\n",
      "\u001b[0;32m/Users/thomas/anaconda/lib/python2.7/site-packages/pandas/tools/merge.pyc\u001b[0m in \u001b[0;36m__init__\u001b[0;34m(self, left, right, how, on, left_on, right_on, axis, left_index, right_index, sort, suffixes, copy, indicator)\u001b[0m\n\u001b[1;32m    208\u001b[0m         (self.left_join_keys,\n\u001b[1;32m    209\u001b[0m          \u001b[0mself\u001b[0m\u001b[0;34m.\u001b[0m\u001b[0mright_join_keys\u001b[0m\u001b[0;34m,\u001b[0m\u001b[0;34m\u001b[0m\u001b[0m\n\u001b[0;32m--> 210\u001b[0;31m          self.join_names) = self._get_merge_keys()\n\u001b[0m\u001b[1;32m    211\u001b[0m \u001b[0;34m\u001b[0m\u001b[0m\n\u001b[1;32m    212\u001b[0m     \u001b[0;32mdef\u001b[0m \u001b[0mget_result\u001b[0m\u001b[0;34m(\u001b[0m\u001b[0mself\u001b[0m\u001b[0;34m)\u001b[0m\u001b[0;34m:\u001b[0m\u001b[0;34m\u001b[0m\u001b[0m\n",
      "\u001b[0;32m/Users/thomas/anaconda/lib/python2.7/site-packages/pandas/tools/merge.pyc\u001b[0m in \u001b[0;36m_get_merge_keys\u001b[0;34m(self)\u001b[0m\n\u001b[1;32m    405\u001b[0m         \u001b[0mleft_keys\u001b[0m\u001b[0;34m,\u001b[0m \u001b[0mright_keys\u001b[0m\u001b[0;34m\u001b[0m\u001b[0m\n\u001b[1;32m    406\u001b[0m         \"\"\"\n\u001b[0;32m--> 407\u001b[0;31m         \u001b[0mself\u001b[0m\u001b[0;34m.\u001b[0m\u001b[0m_validate_specification\u001b[0m\u001b[0;34m(\u001b[0m\u001b[0;34m)\u001b[0m\u001b[0;34m\u001b[0m\u001b[0m\n\u001b[0m\u001b[1;32m    408\u001b[0m \u001b[0;34m\u001b[0m\u001b[0m\n\u001b[1;32m    409\u001b[0m         \u001b[0mleft_keys\u001b[0m \u001b[0;34m=\u001b[0m \u001b[0;34m[\u001b[0m\u001b[0;34m]\u001b[0m\u001b[0;34m\u001b[0m\u001b[0m\n",
      "\u001b[0;32m/Users/thomas/anaconda/lib/python2.7/site-packages/pandas/tools/merge.pyc\u001b[0m in \u001b[0;36m_validate_specification\u001b[0;34m(self)\u001b[0m\n\u001b[1;32m    497\u001b[0m                     self.right.columns)\n\u001b[1;32m    498\u001b[0m                 \u001b[0;32mif\u001b[0m \u001b[0mlen\u001b[0m\u001b[0;34m(\u001b[0m\u001b[0mcommon_cols\u001b[0m\u001b[0;34m)\u001b[0m \u001b[0;34m==\u001b[0m \u001b[0;36m0\u001b[0m\u001b[0;34m:\u001b[0m\u001b[0;34m\u001b[0m\u001b[0m\n\u001b[0;32m--> 499\u001b[0;31m                     \u001b[0;32mraise\u001b[0m \u001b[0mMergeError\u001b[0m\u001b[0;34m(\u001b[0m\u001b[0;34m'No common columns to perform merge on'\u001b[0m\u001b[0;34m)\u001b[0m\u001b[0;34m\u001b[0m\u001b[0m\n\u001b[0m\u001b[1;32m    500\u001b[0m                 \u001b[0;32mif\u001b[0m \u001b[0;32mnot\u001b[0m \u001b[0mcommon_cols\u001b[0m\u001b[0;34m.\u001b[0m\u001b[0mis_unique\u001b[0m\u001b[0;34m:\u001b[0m\u001b[0;34m\u001b[0m\u001b[0m\n\u001b[1;32m    501\u001b[0m                     raise MergeError(\"Data columns not unique: %s\"\n",
      "\u001b[0;31mMergeError\u001b[0m: No common columns to perform merge on"
     ]
    }
   ],
   "source": [
    "df=glass_door.copy()\n",
    "df.merge(stocks, how='outer')\n",
    "df[\"Senior\"]=[1 if x else 0 for x in df[\"Job\"]==(\"Senior Data Scientist\" or \"Principal Data Scientist\")]\n",
    "df[\"Mid\"]=[1 if x else 0 for x in df[\"Job\"]==(\"Data Scientist\")]\n",
    "    \n",
    "#df=df[df[\"Job\"]==(\"Data Scientist\" or \"Principal Data Scientist\" or \"Senior Data Scientist\")]\n",
    "cols=['Senior',\"Mid\"]\n",
    "    \n",
    "    \n",
    "x_train,x_test,y_train,y_test=train_test_split(df[cols],df['Normalized Salary'],test_size=.35,random_state=70)\n",
    "\"\"\" Fit a binary classification predictor.\"\"\"\n",
    "#Linear Regression\n",
    "xtr=x_train\n",
    "xte=x_test\n",
    "ytr=y_train\n",
    "yte=y_test\n",
    "\n",
    "xtr=np.array(xtr).reshape(len(xtr),2)\n",
    "xte=np.array(xte).reshape(len(xte),2)\n",
    "xtr2=sm.add_constant(xtr)\n",
    "model=sm.OLS(ytr,xtr).fit()\n",
    "\n",
    "xte2=sm.add_constant(xte)\n",
    "pred=model.predict(xte)\n",
    "\n",
    "plt.plot(pred,yte,'o')\n",
    "plt.plot(pred,pred,'-')\n",
    "plt.xlim(0,2000)\n",
    "plt.ylim(0,2000)\n",
    "plt.show()\n",
    "\n",
    "print model.summary2()"
   ]
  },
  {
   "cell_type": "code",
   "execution_count": 466,
   "metadata": {
    "collapsed": false
   },
   "outputs": [],
   "source": [
    "df=glass_door.copy()\n",
    "df=df.merge(stocks, how='left',left_on=\"Company\",right_on=\"Name\")\n",
    "df=df[df[\"Job\"]==(\"Senior Data Scientist\" or \"Principal Data Scientist\" or \"Data Scientist\")]\n",
    "df[\"Sector\"]=[\"Technology\" if pd.isnull(x) else x for x in df[\"Sector\"]]\n",
    "df[\"MarketCap\"]=df[\"MarketCap\"].apply(lambda x: cap(x))"
   ]
  },
  {
   "cell_type": "code",
   "execution_count": 467,
   "metadata": {
    "collapsed": false,
    "scrolled": true
   },
   "outputs": [],
   "source": [
    "df2=pd.get_dummies(df,columns=[\"Sector\",\"Job\",\"MarketCap\"])\n",
    "delete=[u'industry',u'Company', u'Location', u'Salary', u'City',\n",
    "       u'Symbol', u'Name', u'LastSale', u'IPOyear',u'Normalized Salary',u'100% Composite Index'] \n",
    "#u'13 % Grocery Items', u'29 % Housing',\n",
    "#      u'10% Utilities', u'12 % Transportation', u'4% Health Care',\n",
    "#       u'32 % Miscellaneous Goods and Services',\n",
    "for x in delete:\n",
    "    del df2[x]\n",
    "temp=pd.DataFrame(df[\"Normalized Salary\"].copy(),columns=[\"Normalized Salary\"])\n",
    "\n",
    "#ENTER BINS BELOW\n",
    "bin_NUMBER=3\n",
    "\n",
    "bins,replacements=create_bins(min(temp[\"Normalized Salary\"]),max(temp[\"Normalized Salary\"]),bin_NUMBER)\n",
    "temp[\"Normalized Salary\"]=temp[\"Normalized Salary\"].apply(lambda x: salary_bin(bins,replacements,x))\n",
    "#df1=pd.get_dummies(temp,columns=[\"Normalized Salary\"])\n",
    "df1=temp[\"Normalized Salary\"]"
   ]
  },
  {
   "cell_type": "code",
   "execution_count": null,
   "metadata": {
    "collapsed": false
   },
   "outputs": [],
   "source": []
  },
  {
   "cell_type": "code",
   "execution_count": 476,
   "metadata": {
    "collapsed": false,
    "scrolled": false
   },
   "outputs": [
    {
     "name": "stdout",
     "output_type": "stream",
     "text": [
      "           633-994  994-1356  1356-1717\n",
      "633-994          5         0          4\n",
      "994-1356         0        16         23\n",
      "1356-1717        0         5         70\n",
      "             precision    recall  f1-score   support\n",
      "\n",
      "  1356-1717       1.00      0.56      0.71         9\n",
      "    633-994       0.76      0.41      0.53        39\n",
      "   994-1356       0.72      0.93      0.81        75\n",
      "\n",
      "avg / total       0.75      0.74      0.72       123\n",
      "\n",
      "[[ -1.60685479e-01  -5.96418227e-03  -2.05205531e-02  -1.02759985e-01\n",
      "    6.74206976e-02  -1.43264092e-01  -1.91979348e+00   6.88147567e+00\n",
      "    7.82873885e+00  -8.49829128e-01  -2.77221360e-01  -2.69854039e+00\n",
      "    2.44473849e+00   1.14095687e+01   7.66956650e+00  -3.98423770e+00\n",
      "    7.72423985e+00]\n",
      " [  5.85369951e-02   1.72469556e-02   1.59036539e-02   1.72478418e-02\n",
      "   -9.33074065e-02   6.48989176e-02   2.45469696e+00  -2.48564365e-01\n",
      "   -1.04471796e+00   2.66128124e+00  -3.05875873e+00  -3.25871714e+00\n",
      "   -1.12965018e+00  -3.62443017e+00  -4.23707868e+00   2.45595300e+00\n",
      "   -1.84330448e+00]\n",
      " [  1.10934171e-03  -1.67476821e-02  -7.80824356e-03   4.42963874e-02\n",
      "    4.76706037e-02  -4.04582138e-02  -1.05488600e+00  -5.16700700e+00\n",
      "   -1.21198921e-01  -1.78511528e+00   2.31997280e+00   2.83975662e+00\n",
      "    1.61053102e+00  -1.35794676e+00   1.51568507e+00  -2.19321315e+00\n",
      "   -6.80418675e-01]]\n"
     ]
    }
   ],
   "source": [
    "x_train,x_test,y_train,y_test=train_test_split(df2,df1,test_size=.35)\n",
    "logreg = LogisticRegression(solver='lbfgs') #'newton-cg', 'lbfgs', 'liblinear', 'sag'\n",
    "C_vals = [10**x for x in range (-5,5)]\n",
    "penalties = ['l2']\n",
    "\n",
    "gs = GridSearchCV(logreg, {'penalty': penalties, 'C': C_vals}, cv=3)\n",
    "gs.fit(x_train, y_train)\n",
    "\n",
    "logreg = LogisticRegression(C=gs.best_params_['C'], penalty=gs.best_params_['penalty'])\n",
    "cv_model = logreg.fit(x_train, y_train)\n",
    "cv_pred = cv_model.predict(x_test)\n",
    "\n",
    "y_score = cv_model.decision_function(x_test) # Submit these response, the output of model.decision_function\n",
    "\n",
    "\"\"\" Check your performance so far.\"\"\"\n",
    "\n",
    "conmat = np.array(confusion_matrix(y_test, cv_pred))\n",
    "confusion = pd.DataFrame(conmat, index=replacements, columns=replacements)\n",
    "\n",
    "print(confusion)\n",
    "print classification_report(y_test,cv_pred)\n",
    "print cv_model.coef_"
   ]
  },
  {
   "cell_type": "code",
   "execution_count": 469,
   "metadata": {
    "collapsed": false
   },
   "outputs": [],
   "source": [
    "x_train2,x_test2,y_train2,y_test2=train_test_split(df2,df['Normalized Salary'],test_size=.35,random_state=70)"
   ]
  },
  {
   "cell_type": "code",
   "execution_count": 470,
   "metadata": {
    "collapsed": false
   },
   "outputs": [
    {
     "data": {
      "image/png": "[encoded data removed]",
      "text/plain": [
       "<matplotlib.figure.Figure at 0x1231d7710>"
      ]
     },
     "metadata": {},
     "output_type": "display_data"
    },
    {
     "name": "stdout",
     "output_type": "stream",
     "text": [
      "                  Results: Ordinary least squares\n",
      "===================================================================\n",
      "Model:              OLS               Adj. R-squared:     0.529    \n",
      "Dependent Variable: Normalized Salary AIC:                2852.7082\n",
      "Date:               2016-10-17 22:16  BIC:                2904.0824\n",
      "No. Observations:   227               Log-Likelihood:     -1411.4  \n",
      "Df Model:           14                F-statistic:        19.12    \n",
      "Df Residuals:       212               Prob (F-statistic): 1.95e-30 \n",
      "R-squared:          0.558             Scale:              15761.   \n",
      "--------------------------------------------------------------------\n",
      "            Coef.    Std.Err.     t     P>|t|     [0.025     0.975] \n",
      "--------------------------------------------------------------------\n",
      "x1          -5.8506    1.9254  -3.0386  0.0027    -9.6459    -2.0552\n",
      "x2          -0.8549    0.2023  -4.2261  0.0000    -1.2537    -0.4561\n",
      "x3          -1.3905    0.6033  -2.3049  0.0221    -2.5797    -0.2013\n",
      "x4          -2.6601    1.9251  -1.3818  0.1685    -6.4550     1.1347\n",
      "x5           1.9680    1.6018   1.2286  0.2206    -1.1895     5.1254\n",
      "x6          -2.1076    1.4920  -1.4126  0.1592    -5.0486     0.8334\n",
      "x7         128.4078   82.9372   1.5483  0.1231   -35.0795   291.8951\n",
      "x8         243.9673  113.7434   2.1449  0.0331    19.7544   468.1802\n",
      "x9         254.0900   43.2486   5.8751  0.0000   168.8377   339.3423\n",
      "x10         69.9694   61.4208   1.1392  0.2559   -51.1043   191.0432\n",
      "x11        239.6896  120.9282   1.9821  0.0488     1.3139   478.0654\n",
      "x12        244.7568   49.5177   4.9428  0.0000   147.1466   342.3671\n",
      "x13        304.0894   42.4407   7.1650  0.0000   220.4296   387.7491\n",
      "const     1484.9704  125.4898  11.8334  0.0000  1237.6027  1732.3381\n",
      "x14        621.3095   46.5585  13.3447  0.0000   529.5326   713.0864\n",
      "x15        390.8532   57.1341   6.8410  0.0000   278.2295   503.4769\n",
      "x16        472.8077   47.4086   9.9730  0.0000   379.3551   566.2602\n",
      "-------------------------------------------------------------------\n",
      "Omnibus:           5.355    Durbin-Watson:      1.881              \n",
      "Prob(Omnibus):     0.069    Jarque-Bera (JB):   5.091              \n",
      "Skew:              -0.302   Prob(JB):           0.078              \n",
      "Kurtosis:          3.415    Condition No.:      2226949904255838976\n",
      "===================================================================\n",
      "* The condition number is large (2e+18). This might indicate\n",
      "strong multicollinearity or other numerical problems.\n"
     ]
    }
   ],
   "source": [
    "\"\"\" Fit a binary classification predictor.\"\"\"\n",
    "#Linear Regression\n",
    "xtr=x_train2\n",
    "xte=x_test2\n",
    "ytr=y_train2\n",
    "yte=y_test2\n",
    "\n",
    "xtr=np.array(xtr).reshape(len(xtr),len(df2.columns))\n",
    "xte=np.array(xte).reshape(len(xte),len(df2.columns))\n",
    "xtr2=sm.add_constant(xtr)\n",
    "model=sm.OLS(ytr,xtr).fit()\n",
    "\n",
    "xte2=sm.add_constant(xte)\n",
    "pred=model.predict(xte)\n",
    "\n",
    "plt.plot(pred,yte,'o')\n",
    "plt.plot(pred,pred,'-')\n",
    "plt.xlim(0,2000)\n",
    "plt.ylim(0,2000)\n",
    "plt.show()\n",
    "\n",
    "print model.summary2()"
   ]
  },
  {
   "cell_type": "code",
   "execution_count": 474,
   "metadata": {
    "collapsed": false
   },
   "outputs": [
    {
     "data": {
      "image/png": "[encoded data removed]",
      "text/plain": [
       "<matplotlib.figure.Figure at 0x12373e750>"
      ]
     },
     "metadata": {},
     "output_type": "display_data"
    },
    {
     "name": "stdout",
     "output_type": "stream",
     "text": [
      "0.435532009421\n",
      "\n",
      "\n",
      "13 % Grocery Items\n",
      "-5.85055112561\n",
      "\n",
      "29 % Housing\n",
      "-0.854919438966\n",
      "\n",
      "10% Utilities\n",
      "-1.39050225752\n",
      "\n",
      "12 % Transportation\n",
      "-2.66014086537\n",
      "\n",
      "4% Health Care\n",
      "1.96795602463\n",
      "\n",
      "32 % Miscellaneous Goods and Services\n",
      "-2.1075890024\n",
      "\n",
      "Sector_Capital Goods\n",
      "-83.7308105569\n",
      "\n",
      "Sector_Consumer Durables\n",
      "31.828680913\n",
      "\n",
      "Sector_Consumer Services\n",
      "41.95135305\n",
      "\n",
      "Sector_Finance\n",
      "-142.169188718\n",
      "\n",
      "Sector_Health Care\n",
      "27.5509930978\n",
      "\n",
      "Sector_Public Utilities\n",
      "32.6182254861\n",
      "\n",
      "Sector_Technology\n",
      "91.9507467277\n",
      "\n",
      "Job_Senior Data Scientist\n",
      "0.0\n",
      "\n",
      "MarketCap_Hugecap\n",
      "126.319381\n",
      "\n",
      "MarketCap_Largecap\n",
      "-104.136931278\n",
      "\n",
      "MarketCap_Unknown\n",
      "-22.1824497214\n",
      "\n"
     ]
    }
   ],
   "source": [
    "ridge=Ridge(alpha=1) #Ridge is .28269 at 230\n",
    "lasso=Lasso(alpha=1.01) #Lasso is 0.289105 at 2.01\n",
    "lr=LinearRegression() #Linear Regression is .2763265\n",
    "model=lr.fit(x_train2,y_train2)\n",
    "pred=model.predict(x_test2)\n",
    "plt.scatter(pred,y_test2)\n",
    "plt.plot(pred,pred)\n",
    "plt.ylim(0,1800)\n",
    "plt.xlim(0,1800)\n",
    "plt.show()\n",
    "print model.score(x_test2, y_test2)\n",
    "print \"\\n\"\n",
    "for x,y in zip(x_test2.columns,model.coef_):\n",
    "    print x\n",
    "    print y\n",
    "    print"
   ]
  },
  {
   "cell_type": "code",
   "execution_count": null,
   "metadata": {
    "collapsed": false
   },
   "outputs": [],
   "source": []
  },
  {
   "cell_type": "code",
   "execution_count": null,
   "metadata": {
    "collapsed": true
   },
   "outputs": [],
   "source": []
  },
  {
   "cell_type": "code",
   "execution_count": null,
   "metadata": {
    "collapsed": true
   },
   "outputs": [],
   "source": []
  },
  {
   "cell_type": "code",
   "execution_count": null,
   "metadata": {
    "collapsed": true
   },
   "outputs": [],
   "source": []
  },
  {
   "cell_type": "code",
   "execution_count": null,
   "metadata": {
    "collapsed": true
   },
   "outputs": [],
   "source": []
  },
  {
   "cell_type": "code",
   "execution_count": null,
   "metadata": {
    "collapsed": true
   },
   "outputs": [],
   "source": []
  },
  {
   "cell_type": "code",
   "execution_count": null,
   "metadata": {
    "collapsed": true
   },
   "outputs": [],
   "source": []
  }
 ],
 "metadata": {
  "anaconda-cloud": {},
  "kernelspec": {
   "display_name": "Python [default]",
   "language": "python",
   "name": "python2"
  },
  "language_info": {
   "codemirror_mode": {
    "name": "ipython",
    "version": 2
   },
   "file_extension": ".py",
   "mimetype": "text/x-python",
   "name": "python",
   "nbconvert_exporter": "python",
   "pygments_lexer": "ipython2",
   "version": "2.7.12"
  }
 },
 "nbformat": 4,
 "nbformat_minor": 1
}
