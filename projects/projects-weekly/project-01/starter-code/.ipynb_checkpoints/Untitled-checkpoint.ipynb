{
 "cells": [
  {
   "cell_type": "code",
   "execution_count": 75,
   "metadata": {
    "collapsed": false
   },
   "outputs": [
    {
     "name": "stdout",
     "output_type": "stream",
     "text": [
      "(52, 1)\n",
      "(52, 4)\n"
     ]
    },
    {
     "ename": "ValueError",
     "evalue": "all the input array dimensions except for the concatenation axis must match exactly",
     "output_type": "error",
     "traceback": [
      "\u001b[0;31m---------------------------------------------------------------------------\u001b[0m",
      "\u001b[0;31mValueError\u001b[0m                                Traceback (most recent call last)",
      "\u001b[0;32m<ipython-input-75-dc5b4b534d35>\u001b[0m in \u001b[0;36m<module>\u001b[0;34m()\u001b[0m\n\u001b[1;32m     17\u001b[0m \u001b[0;32mprint\u001b[0m \u001b[0mdf\u001b[0m\u001b[0;34m.\u001b[0m\u001b[0mshape\u001b[0m\u001b[0;34m\u001b[0m\u001b[0m\n\u001b[1;32m     18\u001b[0m \u001b[0;31m#Create new matrix combining various new stats\u001b[0m\u001b[0;34m\u001b[0m\u001b[0;34m\u001b[0m\u001b[0m\n\u001b[0;32m---> 19\u001b[0;31m \u001b[0mmat\u001b[0m\u001b[0;34m=\u001b[0m\u001b[0mnp\u001b[0m\u001b[0;34m.\u001b[0m\u001b[0mconcatenate\u001b[0m\u001b[0;34m(\u001b[0m\u001b[0;34m(\u001b[0m\u001b[0mdf\u001b[0m\u001b[0;34m,\u001b[0m\u001b[0msat_mat\u001b[0m\u001b[0;34m.\u001b[0m\u001b[0mT\u001b[0m\u001b[0;34m)\u001b[0m\u001b[0;34m,\u001b[0m\u001b[0maxis\u001b[0m\u001b[0;34m=\u001b[0m\u001b[0;36m1\u001b[0m\u001b[0;34m)\u001b[0m\u001b[0;34m\u001b[0m\u001b[0m\n\u001b[0m\u001b[1;32m     20\u001b[0m \u001b[0mmat\u001b[0m\u001b[0;34m\u001b[0m\u001b[0m\n",
      "\u001b[0;31mValueError\u001b[0m: all the input array dimensions except for the concatenation axis must match exactly"
     ]
    }
   ],
   "source": [
    "\"\"\"\n",
    "Group by region, income, population density, private school density,\n",
    "\n",
    "\n",
    "\n",
    "\"\"\"\n",
    "\n",
    "import numpy as np\n",
    "import pandas as pd\n",
    "d=pd.read_table(\"/Users/thomas/GA-DSI/projects/projects-weekly/project-01/assets/sat_scores.csv\",sep=',')\n",
    "df=np.array(d)\n",
    "#Create new column with attrute sum\n",
    "sat_sum=[x[2]+x[3] for x in df]\n",
    "sat_mat=np.array(sat_sum)\n",
    "sat_mat.resize(len(sat_sum),1)\n",
    "\n",
    "print sat_mat.shape\n",
    "print df.shape\n",
    "\n",
    "#Create new matrix combining various new stats\n",
    "mat=np.concatenate((df,sat_mat.T),axis=1)\n",
    "mat"
   ]
  },
  {
   "cell_type": "code",
   "execution_count": 123,
   "metadata": {
    "collapsed": false,
    "scrolled": false
   },
   "outputs": [
    {
     "name": "stdout",
     "output_type": "stream",
     "text": [
      "['Math\\n', '510\\n', '513\\n', '515\\n', '505\\n', '516\\n', '499\\n', '499\\n', '506\\n', '500\\n', '501\\n', '499\\n', '510\\n', '499\\n', '489\\n', '501\\n', '488\\n', '474\\n', '526\\n', '499\\n', '527\\n', '499\\n', '515\\n', '510\\n', '517\\n', '525\\n', '515\\n', '542\\n', '439\\n', '539\\n', '512\\n', '542\\n', '553\\n', '542\\n', '589\\n', '550\\n', '545\\n', '572\\n', '589\\n', '580\\n', '554\\n', '568\\n', '561\\n', '577\\n', '562\\n', '596\\n', '550\\n', '570\\n', '603\\n', '582\\n', '599\\n', '551\\n', '514\\n']\n"
     ]
    }
   ],
   "source": [
    "import numpy as np\n",
    "import pandas as pd\n",
    "import csv\n",
    "#Open csv_file\n",
    "data=[]\n",
    "with open(\"/Users/thomas/GA-DSI/projects/projects-weekly/project-01/assets/sat_scores.csv\",'r') as f:\n",
    "    for line in f:\n",
    "        data.append(line)\n",
    "data2=[]\n",
    "for x in data:\n",
    "    data2.append(x.split(','))\n",
    "hold=[]\n",
    "for x in data2:\n",
    "    hold.append(x[3])\n",
    "hold2=[]\n",
    "for x in hold:\n",
    "    hold2.append(x.split('\\n'))\n",
    "print hold"
   ]
  },
  {
   "cell_type": "code",
   "execution_count": null,
   "metadata": {
    "collapsed": true
   },
   "outputs": [],
   "source": [
    "\"\"\"\n",
    "MATPLOTLIB PLOTS\n",
    "\"\"\"\n",
    "\n",
    "\"\"\"\n",
    "#Make matlibplot plots\n",
    "plt.hist(rate[len(rate)-1:],np.linspace(0, 100, 40),lw=3, fc=(0, 0, 0, 1),alpha=1)\n",
    "plt.hist(rate[:len(rate)-1],np.linspace(0, 100, 40),lw=3, fc=(0, 0, 1, 0.5))\n",
    "\n",
    "plt.show()\n",
    "\n",
    "\n",
    "plt.hist(verbal[len(verbal)-1:],np.linspace(400, 700, 40), lw=3, fc=(0, 0, 0, 1),alpha=1)\n",
    "plt.hist(verbal[:len(verbal)-1],np.linspace(400, 700, 40), lw=3, fc=(0, 0, 1, 0.5))\n",
    "plt.show()\n",
    "\n",
    "plt.hist(math[len(math)-1:],np.linspace(400, 700, 40), lw=3, fc=(0, 0, 0, 1),alpha=1)\n",
    "plt.hist(math[:len(math)-1],np.linspace(400, 700, 40),lw=3, fc=(1, 0, 0, 0.5))\n",
    "plt.show()\n",
    "\n",
    "plt.hist(verbal[:len(verbal)-1],np.linspace(400, 700, 40), lw=3, fc=(0, 0, 1, 0.5))\n",
    "plt.hist(math[:len(math)-1],np.linspace(400, 700, 40),lw=3, fc=(1, 0, 0, 0.5))\n",
    "plt.show()\n",
    "\n",
    "plt.hist(tot[len(rate)-1:],np.linspace(800, 1400, 40),lw=3, fc=(0, 0, 0, 1),alpha=1)\n",
    "plt.hist(tot[:len(rate)-1],np.linspace(800, 1400, 40),lw=3, fc=(0, 0, 1, 0.5))\n",
    "plt.show()\n",
    "\"\"\"\n",
    "#Make numpy array into pandas array\n",
    "d=pd.DataFrame(data=data[1:,1:],index=data[1:,0],columns=data[0,1:])"
   ]
  },
  {
   "cell_type": "code",
   "execution_count": 5,
   "metadata": {
    "collapsed": false,
    "scrolled": false
   },
   "outputs": [
    {
     "name": "stdout",
     "output_type": "stream",
     "text": [
      "Rate 45\n",
      "rate    37.0 , 27.2792386761\n",
      "Verbal 514\n",
      "math    532.529411765 , 33.0319826842\n",
      "Math 506\n",
      "verbal  531.843137255 , 35.9298731731\n",
      "Sum 1020\n",
      "total   1064.37254902 , 67.217224912\n",
      " \n"
     ]
    }
   ],
   "source": [
    "\"\"\"\n",
    "THIS IS THE PRIMARY CODE\n",
    "\n",
    "Rate is participation rate\n",
    "\"\"\"\n",
    "\n",
    "#Import Library\n",
    "import numpy as np\n",
    "import pandas as pd\n",
    "import csv\n",
    "import matplotlib.pyplot as plt\n",
    "\n",
    "#Open csv file and put it into an array; remove \\n\n",
    "data=data2=[]\n",
    "with open(\"/Users/thomas/GA-DSI/projects/projects-weekly/project-01/assets/sat_scores.csv\",'r') as f:\n",
    "    data=[line.rstrip('\\n') for line in f]\n",
    "for x in data:\n",
    "    data2.append(x.split(','))\n",
    "\n",
    "    \n",
    "#Make nums in array into ints, and add column for summing scores\n",
    "s=True\n",
    "for x in data2:\n",
    "    if s:\n",
    "        s=False\n",
    "    else:\n",
    "        x[1]=int(x[1])\n",
    "        x[2]=int(x[2])\n",
    "        x[3]=int(x[3])\n",
    "s=True\n",
    "for x in data2:\n",
    "    if s:\n",
    "        s=False\n",
    "    else:\n",
    "        x.append(x[2]+x[3])\n",
    "data2[0].append('Sum')\n",
    "\n",
    "\n",
    "#Make array into various numpy arrays; indices marks the names of each <column/row>\n",
    "data=np.array(data2)\n",
    "indices=data[:][0].T\n",
    "data2=data[:][1:].T\n",
    "state=data2[0]\n",
    "rate=(data2[1]).astype(int)\n",
    "verbal=(data2[2]).astype(int)\n",
    "math=(data2[3]).astype(int)\n",
    "tot=(data2[4]).astype(int)\n",
    "\n",
    "\n",
    "#The last row makes no sense; it is not of averages. Instead, I will find these values independently\n",
    "sex=data2[0][:len(data2[0])-1]\n",
    "rex=(data2[1][:len(data2[1])-1]).astype(int)\n",
    "vex=(data2[2][:len(data2[2])-1]).astype(int)\n",
    "mex=(data2[3][:len(data2[3])-1]).astype(int)\n",
    "tex=(data2[4][:len(data2[4])-1]).astype(int)\n",
    "\n",
    "\n",
    "#Various stats figures\n",
    "r_mean=rex.mean()\n",
    "r_std=rex.std()\n",
    "v_mean=vex.mean()\n",
    "v_std=vex.std()\n",
    "m_mean=mex.mean()\n",
    "m_std=mex.std()\n",
    "t_mean=tex.mean()\n",
    "t_std=tex.std()\n",
    "\n",
    "\n",
    "print indices[1],rate[-1]\n",
    "print \"rate   \",r_mean,\",\",r_std\n",
    "print indices[2],math[-1]\n",
    "print \"math   \",v_mean,\",\",v_std\n",
    "print indices[3],verbal[-1]\n",
    "print \"verbal \",m_mean,\",\",m_std\n",
    "print indices[4],tot[-1]\n",
    "print \"total  \",t_mean,\",\",t_std\n",
    "\"\"\"\n",
    "\n",
    "\n",
    "INSERT MATPLOTLIB PLOTS CELL HERE\n",
    "\n",
    "\n",
    "\"\"\"\n",
    "print ' '"
   ]
  },
  {
   "cell_type": "code",
   "execution_count": null,
   "metadata": {
    "collapsed": true
   },
   "outputs": [],
   "source": []
  },
  {
   "cell_type": "code",
   "execution_count": null,
   "metadata": {
    "collapsed": true
   },
   "outputs": [],
   "source": []
  },
  {
   "cell_type": "code",
   "execution_count": null,
   "metadata": {
    "collapsed": true
   },
   "outputs": [],
   "source": []
  },
  {
   "cell_type": "code",
   "execution_count": null,
   "metadata": {
    "collapsed": true
   },
   "outputs": [],
   "source": []
  },
  {
   "cell_type": "code",
   "execution_count": null,
   "metadata": {
    "collapsed": true
   },
   "outputs": [],
   "source": []
  }
 ],
 "metadata": {
  "anaconda-cloud": {},
  "kernelspec": {
   "display_name": "Python [default]",
   "language": "python",
   "name": "python2"
  },
  "language_info": {
   "codemirror_mode": {
    "name": "ipython",
    "version": 2
   },
   "file_extension": ".py",
   "mimetype": "text/x-python",
   "name": "python",
   "nbconvert_exporter": "python",
   "pygments_lexer": "ipython2",
   "version": "2.7.12"
  }
 },
 "nbformat": 4,
 "nbformat_minor": 1
}
