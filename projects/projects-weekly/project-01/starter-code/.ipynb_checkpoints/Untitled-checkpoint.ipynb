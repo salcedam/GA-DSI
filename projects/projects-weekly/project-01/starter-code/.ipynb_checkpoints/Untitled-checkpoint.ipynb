{
 "cells": [
  {
   "cell_type": "code",
   "execution_count": null,
   "metadata": {
    "collapsed": true
   },
   "outputs": [],
   "source": [
    "\"\"\"\n",
    "MATPLOTLIB PLOTS\n",
    "\"\"\"\n",
    "\n",
    "\"\"\"\n",
    "#Make matlibplot plots\n",
    "plt.hist(rate[len(rate)-1:],np.linspace(0, 100, 40),lw=3, fc=(0, 0, 0, 1),alpha=1)\n",
    "plt.hist(rate[:len(rate)-1],np.linspace(0, 100, 40),lw=3, fc=(0, 0, 1, 0.5))\n",
    "\n",
    "plt.show()\n",
    "\n",
    "\n",
    "plt.hist(verbal[len(verbal)-1:],np.linspace(400, 700, 40), lw=3, fc=(0, 0, 0, 1),alpha=1)\n",
    "plt.hist(verbal[:len(verbal)-1],np.linspace(400, 700, 40), lw=3, fc=(0, 0, 1, 0.5))\n",
    "plt.show()\n",
    "\n",
    "plt.hist(math[len(math)-1:],np.linspace(400, 700, 40), lw=3, fc=(0, 0, 0, 1),alpha=1)\n",
    "plt.hist(math[:len(math)-1],np.linspace(400, 700, 40),lw=3, fc=(1, 0, 0, 0.5))\n",
    "plt.show()\n",
    "\n",
    "plt.hist(verbal[:len(verbal)-1],np.linspace(400, 700, 40), lw=3, fc=(0, 0, 1, 0.5))\n",
    "plt.hist(math[:len(math)-1],np.linspace(400, 700, 40),lw=3, fc=(1, 0, 0, 0.5))\n",
    "plt.show()\n",
    "\n",
    "plt.hist(tot[len(rate)-1:],np.linspace(800, 1400, 40),lw=3, fc=(0, 0, 0, 1),alpha=1)\n",
    "plt.hist(tot[:len(rate)-1],np.linspace(800, 1400, 40),lw=3, fc=(0, 0, 1, 0.5))\n",
    "plt.show()\n",
    "\"\"\"\n",
    "#Make numpy array into pandas array\n",
    "d=pd.DataFrame(data=data[1:,1:],index=data[1:,0],columns=data[0,1:])"
   ]
  },
  {
   "cell_type": "code",
   "execution_count": 29,
   "metadata": {
    "collapsed": false,
    "scrolled": false
   },
   "outputs": [
    {
     "name": "stdout",
     "output_type": "stream",
     "text": [
      " ['State', 'Rate', 'Verbal', 'Math\\n'] []\n",
      "Rate 45\n",
      "rate    37.0 , 27.2792386761\n",
      "Verbal 514\n",
      "math    532.529411765 , 33.0319826842\n",
      "Math\n",
      "506\n",
      "verbal  531.843137255 , 35.9298731731\n",
      "Sum 1020\n",
      "total   1064.37254902 , 67.217224912\n",
      " \n"
     ]
    }
   ],
   "source": [
    "\"\"\"\n",
    "THIS IS THE PRIMARY CODE\n",
    "\n",
    "Rate is participation rate\n",
    "\"\"\"\n",
    "\n",
    "#Import Library\n",
    "import numpy as np\n",
    "import pandas as pd\n",
    "import csv\n",
    "import matplotlib.pyplot as plt\n",
    "\n",
    "#Open csv file and put it into an array; remove \\n\n",
    "data=data2=[]\n",
    "add=add2=ind=[]\n",
    "with open(\"/Users/thomas/GA-DSI/projects/projects-weekly/project-01/assets/sat_scores.csv\",'r') as f:\n",
    "    data=[line.rstrip('\\r') for line in f]\n",
    "for x in data:\n",
    "    data2.append(x.split(','))\n",
    "ind1=data2[0]\n",
    "d1=data2[1:]\n",
    "with open(\"/Users/thomas/GA-DSI/projects/projects-weekly/project-01/assets/untitled.csv\") as f:\n",
    "    add=[line.rstrip('\\r') for line in f]\n",
    "for x in add:\n",
    "    add2.append(x.split(','))\n",
    "ind2=add2[0]\n",
    "d2=add2[1:]\n",
    "\n",
    "\n",
    "\n",
    "print ind1, d2\n",
    "\n",
    "\n",
    "\n",
    "\n",
    "\n",
    "\n",
    "\n",
    "\n",
    "\n",
    "#Make nums in array into ints, and add column for summing scores\n",
    "s=True\n",
    "for x in data2:\n",
    "    if s:\n",
    "        s=False\n",
    "    else:\n",
    "        x[1]=int(x[1])\n",
    "        x[2]=int(x[2])\n",
    "        x[3]=int(x[3])\n",
    "s=True\n",
    "for x in data2:\n",
    "    if s:\n",
    "        s=False\n",
    "    else:\n",
    "        x.append(x[2]+x[3])\n",
    "data2[0].append('Sum')\n",
    "\n",
    "\n",
    "#Make array into various numpy arrays; indices marks the names of each <column/row>\n",
    "data=np.array(data2)\n",
    "indices=data[:][0].T\n",
    "data2=data[:][1:].T\n",
    "state=data2[0]\n",
    "rate=(data2[1]).astype(int)\n",
    "verbal=(data2[2]).astype(int)\n",
    "math=(data2[3]).astype(int)\n",
    "tot=(data2[4]).astype(int)\n",
    "\n",
    "\n",
    "#The last row makes no sense; it is not of averages. Instead, I will find these values independently\n",
    "sex=data2[0][:len(data2[0])-1]\n",
    "rex=(data2[1][:len(data2[1])-1]).astype(int)\n",
    "vex=(data2[2][:len(data2[2])-1]).astype(int)\n",
    "mex=(data2[3][:len(data2[3])-1]).astype(int)\n",
    "tex=(data2[4][:len(data2[4])-1]).astype(int)\n",
    "\n",
    "\n",
    "#Various stats figures\n",
    "r_mean=rex.mean()\n",
    "r_std=rex.std()\n",
    "v_mean=vex.mean()\n",
    "v_std=vex.std()\n",
    "m_mean=mex.mean()\n",
    "m_std=mex.std()\n",
    "t_mean=tex.mean()\n",
    "t_std=tex.std()\n",
    "\n",
    "\n",
    "\n",
    "\n",
    "# Discrepancy in ALL row values vs self-calculated means\n",
    "print indices[1],rate[-1]\n",
    "print \"rate   \",r_mean,\",\",r_std\n",
    "print indices[2],math[-1]\n",
    "print \"math   \",v_mean,\",\",v_std\n",
    "print indices[3],verbal[-1]\n",
    "print \"verbal \",m_mean,\",\",m_std\n",
    "print indices[4],tot[-1]\n",
    "print \"total  \",t_mean,\",\",t_std\n",
    "\n",
    "\n",
    "\"\"\"\n",
    "\n",
    "\n",
    "INSERT MATPLOTLIB PLOTS CELL HERE\n",
    "\n",
    "\n",
    "\"\"\"\n",
    "print ' '"
   ]
  },
  {
   "cell_type": "code",
   "execution_count": 99,
   "metadata": {
    "collapsed": false,
    "scrolled": false
   },
   "outputs": [
    {
     "data": {
      "image/png": "[encoded data removed]",
      "text/plain": [
       "<matplotlib.figure.Figure at 0x117ed1110>"
      ]
     },
     "metadata": {},
     "output_type": "display_data"
    },
    {
     "name": "stdout",
     "output_type": "stream",
     "text": [
      "[2949540, 7239780, 5328550, 15207500, 955440, 749050, 9080900, 432327, 917700] [3013400, 1545600, 1090100, 491130, 261360, 150560, 485120, 345480, 155350, 34127, 29579] [2183500, 3742860, 738400, 375733, 19788000, 2288540, 936870, 1660360, 235520, 277780, 271180, 64256, 147150] [5661680, 626861, 3884400, 6463600, 6363000, 3958200, 2754240, 368980, 10740600, 14288800, 333000, 851370, 529560, 436410, 310240, 271880, 177960, 119760]\n"
     ]
    },
    {
     "data": {
      "image/png": "[encoded data removed]",
      "text/plain": [
       "<matplotlib.figure.Figure at 0x118af5190>"
      ]
     },
     "metadata": {},
     "output_type": "display_data"
    },
    {
     "data": {
      "image/png": "[encoded data removed]",
      "text/plain": [
       "<matplotlib.figure.Figure at 0x117782f10>"
      ]
     },
     "metadata": {},
     "output_type": "display_data"
    },
    {
     "name": "stdout",
     "output_type": "stream",
     "text": [
      "4286078778\n"
     ]
    }
   ],
   "source": [
    "#Import Library\n",
    "import numpy as np\n",
    "import pandas as pd\n",
    "import csv\n",
    "import matplotlib.pyplot as plt\n",
    "\n",
    "#Open csv file and put it into an array; remove \\n\n",
    "data=data2=[]\n",
    "add=add2=ind=[]\n",
    "with open(\"/Users/thomas/GA-DSI/projects/projects-weekly/project-01/assets/sat_scores.csv\",'rU') as f:\n",
    "    data=[line.rstrip('\\n').replace('\\\"','') for line in f]\n",
    "for x in data:\n",
    "    data2.append(x.split(','))\n",
    "ind1=np.array(data2[0])\n",
    "d1=np.array(data2[1:])\n",
    "with open(\"/Users/thomas/GA-DSI/projects/projects-weekly/project-01/assets/untitled.csv\",'rU') as f:\n",
    "    add=[line.rstrip('\\n').replace('\\\"','') for line in f]\n",
    "for x in add:\n",
    "    add2.append(x.split('\\t'))\n",
    "ind2=np.array(add2[0][1:])\n",
    "d2=np.array([x[1:] for x in add2[1:]])\n",
    "ind=np.hstack((ind1,ind2))\n",
    "d=np.hstack((d1,d2))\n",
    "ind=ind.reshape(len(ind),1)\n",
    "d=d.T\n",
    "\n",
    "#d is the data matrix; ind is the index matrix\n",
    "#Break up 'ind' into arrays\n",
    "state=d[0][:-1]\n",
    "rate=d[1][:-1].astype(int)\n",
    "verbal=d[2][:-1].astype(int)\n",
    "math=d[3][:-1].astype(int)\n",
    "population=d[4][:-1].astype(int)\n",
    "region=d[5][:-1]\n",
    "avg_income=d[6][:-1].astype(int)\n",
    "dens_sqmi=d[7][:-1].astype(float)\n",
    "pop_urb=d[8][:-1].astype(float)\n",
    "tot=[(x+y)/2 for x,y in zip(verbal,math)]\n",
    "\n",
    "r_mean=np.mean(rate)\n",
    "r_std=np.std(rate)\n",
    "v_mean=np.mean(verbal)\n",
    "v_std=np.std(verbal)\n",
    "m_mean=np.mean(math)\n",
    "m_std=np.std(math)\n",
    "p_mean=np.mean(population)\n",
    "p_std=np.std(population)\n",
    "a_mean=np.mean(avg_income)\n",
    "a_std=np.std(avg_income)\n",
    "d_mean=np.mean(dens_sqmi)\n",
    "d_std=np.std(dens_sqmi)\n",
    "u_mean=np.mean(pop_urb)\n",
    "u_std=np.std(pop_urb)\n",
    "\n",
    "data_dict={}\n",
    "data_dict[ind[0][0]]=state\n",
    "data_dict[ind[1][0]]=rate\n",
    "data_dict[ind[2][0]]=verbal\n",
    "data_dict[ind[3][0]]=math\n",
    "data_dict[ind[4][0]]=population\n",
    "data_dict[ind[5][0]]=region\n",
    "data_dict[ind[6][0]]=avg_income\n",
    "data_dict[ind[7][0]]=dens_sqmi\n",
    "data_dict[ind[8][0]]=pop_urb\n",
    "\n",
    "\"\"\"\n",
    "print \"Rate:       \",r_mean,r_std\n",
    "print \"Verbal:     \",v_mean,v_std\n",
    "print \"Math:       \",m_mean,m_std\n",
    "print \"Population: \",p_mean,p_std\n",
    "print \"Avg Income: \",a_mean,a_std\n",
    "print \"Dens/Sqmi:  \",d_mean,d_std\n",
    "print \"% Pop Urb:  \",u_mean,u_std\n",
    "\n",
    "plt.hist(math,np.linspace(400,600,15),alpha=0.8,rwidth=0.35,color=(0.9,0.5,.5,0))\n",
    "plt.hist(verbal,np.linspace(400,600,15),alpha=0.8,rwidth=0.35,align='right',color=(0.5,1,0.7,0))\n",
    "plt.hist(tot,np.linspace(400,600,15),alpha=1,align='right',color=(0,0,0,1),histtype='step')\n",
    "x=\"math\"\n",
    "plt.title(\"Math and Verbal Scores\")\n",
    "plt.legend([\"Avg Comb\",\"Math\",\"Verbal\"])\n",
    "plt.xlabel(\"Score\")\n",
    "plt.ylabel(\"Occurrences\")\n",
    "plt.show()\n",
    "z=[(x,y) for x,y in zip(state,dens_sqmi)]\n",
    "\n",
    "plt.scatter(math,verbal)\n",
    "plt.xlabel(\"Math Scores\")\n",
    "plt.ylabel(\"Verbal Scores\")\n",
    "plt.title(\"Math Scores vs Verbal Scores\")\n",
    "plt.axis([400,650,400,650])\n",
    "plt.show()\n",
    "\n",
    "plt.scatter(tot,rate)\n",
    "plt.xlabel(\"Avg of Math and Verbal Scores\")\n",
    "plt.ylabel(\"Participation Rate\")\n",
    "plt.title(\"Combined Average Scores vs Participation Rate\")\n",
    "plt.show()\n",
    "\n",
    "plt.scatter(verbal,rate)\n",
    "plt.xlabel(\"Verbal Scores\")\n",
    "plt.ylabel(\"Participation Rate\")\n",
    "plt.title(\"Verbal Scores vs Participation Rate\")\n",
    "plt.show()\n",
    "\n",
    "plt.scatter(math,rate)\n",
    "plt.xlabel(\"Math Scores\")\n",
    "plt.ylabel(\"Participation Rate\")\n",
    "plt.title(\"Math Scores vs Participation Rate\")\n",
    "plt.show()\n",
    "\n",
    "plt.scatter(tot,population)\n",
    "plt.xlabel(\"Avg Comb\")\n",
    "plt.ylabel(\"Population\")\n",
    "plt.title(\"Avg Comb vs Population\")\n",
    "plt.show()\n",
    "\n",
    "\n",
    "plt.scatter(tot,avg_income,s=rate)\n",
    "plt.xlabel(\"Avg Comb\")\n",
    "plt.ylabel(\"Average Income\")\n",
    "plt.title(\"Avg Comb vs Average Income\")\n",
    "plt.show()\n",
    "\n",
    "plt.scatter(tot,dens_sqmi,s=rate)\n",
    "plt.xlabel(\"Avg Comb\")\n",
    "plt.ylabel(\"Density per Square Mile\")\n",
    "plt.title(\"Avg Comb vs Densiy/SqMi\")\n",
    "plt.show()\n",
    "\n",
    "plt.scatter(tot,pop_urb,s=rate)\n",
    "plt.xlabel(\"Avg Comb\")\n",
    "plt.ylabel(\"% of Population that is Urban\")\n",
    "plt.title(\"Avg Comb vs % of Population that is Urban\")\n",
    "plt.show()\n",
    "\"\"\"\n",
    "pop_urb\n",
    "\n",
    "#x_1-->Average Score\n",
    "#x_2-->Participation Rate\n",
    "#x_3-->Dens/SqMi (capped at 1500)\n",
    "#x_4-->Population\n",
    "#x_5-->% of Pop that is Urban\n",
    "\n",
    "ne_1=[x for x,y,z in zip(tot,region,rate) if y=='NE']\n",
    "ne_2=[z for x,y,z in zip(tot,region,rate) if y=='NE']\n",
    "ne_3=[1500 if x>1500 else x for x,y,z in zip(dens_sqmi,region,rate) if y=='NE']\n",
    "ne_4=[x for x,y,z in zip(population,region,rate) if y=='NE']\n",
    "ne_5=[x*z for x,y,z in zip(population,region,rate) if y=='NE']\n",
    "ne_sum=sum(ne_5)\n",
    "s_1 =[x for x,y,z in zip(tot,region,rate) if y=='S']\n",
    "s_2 =[z for x,y,z in zip(tot,region,rate) if y=='S']\n",
    "s_3 =[1500 if x>1500 else x for x,y,z in zip(dens_sqmi,region,rate) if y=='S']\n",
    "s_4 =[x for x,y,z in zip(population,region,rate) if y=='S']\n",
    "s_5 =[x*z for x,y,z in zip(population,region,rate) if y=='S']\n",
    "s_sum=sum(s_5)\n",
    "mw_1=[x for x,y,z in zip(tot,region,rate) if y=='MW']\n",
    "mw_2=[z for x,y,z in zip(tot,region,rate) if y=='MW']\n",
    "mw_3=[1500 if x>1500 else x for x,y,z in zip(dens_sqmi,region,rate) if y=='MW']\n",
    "mw_4=[x for x,y,z in zip(population,region,rate) if y=='MW']\n",
    "mw_5=[x*z for x,y,z in zip(population,region,rate) if y=='MW']\n",
    "mw_sum=sum(mw_5)\n",
    "w_1 =[x for x,y,z in zip(tot,region,rate) if y=='W']\n",
    "w_2 =[z for x,y,z in zip(tot,region,rate) if y=='W']\n",
    "w_3 =[1500 if x>1500 else x for x,y,z in zip(dens_sqmi,region,rate) if y=='W']\n",
    "w_4 =[x for x,y,z in zip(population,region,rate) if y=='W']\n",
    "w_5 =[x*z for x,y,z in zip(population,region,rate) if y=='W']\n",
    "w_sum=sum(w_5)\n",
    "\n",
    "#Barchart of pop*rate per region\n",
    "plt.bar([1,2,3,4],[ne_sum/100,s_sum/100,mw_sum/100,w_sum/100])\n",
    "plt.show()\n",
    "\n",
    "print [x/100 for x in ne_5],[x/100 for x in mw_5],[x/100 for x in w_5],[x/100 for x in s_5]\n",
    "\n",
    "fig=plt.figure()\n",
    "s=fig.add_subplot(111)\n",
    "s.scatter(ne_1,ne_2,c=(1,0,0,1),s=ne_3,label='NE')\n",
    "s.scatter(s_1,s_2,c=(1,1,1,0.8),s=s_3,label='S')\n",
    "s.scatter(mw_1,mw_2,c=(1,0,1,1),s=mw_3,label='MW')\n",
    "s.scatter(w_1,w_2,c=(0,1,0,1),s=w_3,label='W')\n",
    "plt.legend(loc='upper right',scatterpoints=1)\n",
    "plt.title(\"Avg Score vs Participation Rate by Region\")\n",
    "plt.show()\n",
    "\n",
    "\n",
    "\n",
    "bp=plt.boxplot([math,verbal])\n",
    "plt.setp(bp['boxes'], color='black',linewidth=2)\n",
    "plt.setp(bp['whiskers'], color='green',linewidth=2)\n",
    "plt.setp(bp['fliers'], color='red', marker='+')\n",
    "plt.xticks([1,2],[\"Verbal\",\"Math\"])\n",
    "plt.show()\n",
    "\n",
    "print ne_sum"
   ]
  },
  {
   "cell_type": "code",
   "execution_count": 43,
   "metadata": {
    "collapsed": false
   },
   "outputs": [],
   "source": [
    "with open(\"/Users/thomas/GA-DSI/projects/projects-weekly/project-01/assets/untitled.csv\",'rU') as f:\n",
    "    add=[line.rstrip('\\n').replace('\\\"','') for line in f]\n",
    "    add2 = [i.split('\\t') for i in add]"
   ]
  },
  {
   "cell_type": "code",
   "execution_count": 54,
   "metadata": {
    "collapsed": false
   },
   "outputs": [
    {
     "name": "stdout",
     "output_type": "stream",
     "text": [
      "['NE' 'NE' 'NE' 'NE' 'NE' 'NE' 'NE' 'NE' 'NE' 'S' 'S' 'S' 'S' 'S' 'S' 'S'\n",
      " 'S' 'W' 'S' 'W' 'S' 'W' 'W' 'W' 'W' 'W' 'W' 'MW' 'W' 'S' 'W' 'S' 'W' 'MW'\n",
      " 'S' 'W' 'MW' 'MW' 'MW' 'S' 'MW' 'S' 'MW' 'S' 'MW' 'S' 'W' 'MW' 'MW' 'MW'\n",
      " 'S']\n"
     ]
    }
   ],
   "source": [
    "print region"
   ]
  },
  {
   "cell_type": "code",
   "execution_count": 75,
   "metadata": {
    "collapsed": false
   },
   "outputs": [
    {
     "name": "stdout",
     "output_type": "stream",
     "text": [
      "[  7.42600000e+02   1.21010000e+03   8.58000000e+02   4.17000000e+02\n",
      "   1.47800000e+02   1.01710000e+03   2.85500000e+02   6.80000000e+01\n",
      "   4.31000000e+01   2.09200000e+02   4.57100000e+02   6.10800000e+02\n",
      "   2.02600000e+02   1.73700000e+02   1.83400000e+02   1.58800000e+02\n",
      "   1.05888000e+04   4.09000000e+01   3.64600000e+02   1.04900000e+02\n",
      "   1.01200000e+02   2.18600000e+02   1.30000000e+00   2.46100000e+02\n",
      "   5.83000000e+01   2.54000000e+01   5.08000000e+01   2.83200000e+02\n",
      "   7.00000000e+00   7.71000000e+01   1.95000000e+01   1.57500000e+02\n",
      "   1.72000000e+01   2.32000000e+02   1.11300000e+02   6.00000000e+00\n",
      "   1.75000000e+02   6.81000000e+01   3.54000000e+01   9.54000000e+01\n",
      "   2.43000000e+01   5.61000000e+01   8.79000000e+01   1.07100000e+02\n",
      "   1.06000000e+02   5.69000000e+01   3.53000000e+01   5.53000000e+01\n",
      "   1.11000000e+01   1.05000000e+01   6.37000000e+01]\n"
     ]
    }
   ],
   "source": [
    "print dens_sqmi"
   ]
  },
  {
   "cell_type": "code",
   "execution_count": null,
   "metadata": {
    "collapsed": true
   },
   "outputs": [],
   "source": []
  },
  {
   "cell_type": "code",
   "execution_count": null,
   "metadata": {
    "collapsed": true
   },
   "outputs": [],
   "source": []
  },
  {
   "cell_type": "code",
   "execution_count": 179,
   "metadata": {
    "collapsed": false
   },
   "outputs": [
    {
     "ename": "AttributeError",
     "evalue": "'file' object has no attribute 'writerow'",
     "output_type": "error",
     "traceback": [
      "\u001b[0;31m---------------------------------------------------------------------------\u001b[0m",
      "\u001b[0;31mAttributeError\u001b[0m                            Traceback (most recent call last)",
      "\u001b[0;32m<ipython-input-179-cc5a3829b1d9>\u001b[0m in \u001b[0;36m<module>\u001b[0;34m()\u001b[0m\n\u001b[1;32m      3\u001b[0m     \u001b[0mf\u001b[0m\u001b[0;34m.\u001b[0m\u001b[0mtruncate\u001b[0m\u001b[0;34m(\u001b[0m\u001b[0;34m)\u001b[0m\u001b[0;34m\u001b[0m\u001b[0m\n\u001b[1;32m      4\u001b[0m     \u001b[0;32mfor\u001b[0m \u001b[0mrow\u001b[0m \u001b[0;32min\u001b[0m \u001b[0md\u001b[0m\u001b[0;34m:\u001b[0m\u001b[0;34m\u001b[0m\u001b[0m\n\u001b[0;32m----> 5\u001b[0;31m         \u001b[0mf\u001b[0m\u001b[0;34m.\u001b[0m\u001b[0mwriterow\u001b[0m\u001b[0;34m(\u001b[0m\u001b[0mrow\u001b[0m\u001b[0;34m)\u001b[0m\u001b[0;34m\u001b[0m\u001b[0m\n\u001b[0m",
      "\u001b[0;31mAttributeError\u001b[0m: 'file' object has no attribute 'writerow'"
     ]
    }
   ],
   "source": [
    "\n",
    "with open(\"/Users/thomas/GA-DSI/projects/projects-weekly/project-01/assets/data_store.csv\",'w') as f:\n",
    "\n",
    "    f.truncate()\n",
    "    for row in d:\n",
    "        f.writerow(row)\n"
   ]
  }
 ],
 "metadata": {
  "anaconda-cloud": {},
  "kernelspec": {
   "display_name": "Python [default]",
   "language": "python",
   "name": "python2"
  },
  "language_info": {
   "codemirror_mode": {
    "name": "ipython",
    "version": 2
   },
   "file_extension": ".py",
   "mimetype": "text/x-python",
   "name": "python",
   "nbconvert_exporter": "python",
   "pygments_lexer": "ipython2",
   "version": "2.7.12"
  }
 },
 "nbformat": 4,
 "nbformat_minor": 1
}
