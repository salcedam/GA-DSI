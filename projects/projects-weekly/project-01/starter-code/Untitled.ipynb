{
 "cells": [
  {
   "cell_type": "code",
   "execution_count": 75,
   "metadata": {
    "collapsed": false
   },
   "outputs": [
    {
     "name": "stdout",
     "output_type": "stream",
     "text": [
      "(52, 1)\n",
      "(52, 4)\n"
     ]
    },
    {
     "ename": "ValueError",
     "evalue": "all the input array dimensions except for the concatenation axis must match exactly",
     "output_type": "error",
     "traceback": [
      "\u001b[0;31m---------------------------------------------------------------------------\u001b[0m",
      "\u001b[0;31mValueError\u001b[0m                                Traceback (most recent call last)",
      "\u001b[0;32m<ipython-input-75-dc5b4b534d35>\u001b[0m in \u001b[0;36m<module>\u001b[0;34m()\u001b[0m\n\u001b[1;32m     17\u001b[0m \u001b[0;32mprint\u001b[0m \u001b[0mdf\u001b[0m\u001b[0;34m.\u001b[0m\u001b[0mshape\u001b[0m\u001b[0;34m\u001b[0m\u001b[0m\n\u001b[1;32m     18\u001b[0m \u001b[0;31m#Create new matrix combining various new stats\u001b[0m\u001b[0;34m\u001b[0m\u001b[0;34m\u001b[0m\u001b[0m\n\u001b[0;32m---> 19\u001b[0;31m \u001b[0mmat\u001b[0m\u001b[0;34m=\u001b[0m\u001b[0mnp\u001b[0m\u001b[0;34m.\u001b[0m\u001b[0mconcatenate\u001b[0m\u001b[0;34m(\u001b[0m\u001b[0;34m(\u001b[0m\u001b[0mdf\u001b[0m\u001b[0;34m,\u001b[0m\u001b[0msat_mat\u001b[0m\u001b[0;34m.\u001b[0m\u001b[0mT\u001b[0m\u001b[0;34m)\u001b[0m\u001b[0;34m,\u001b[0m\u001b[0maxis\u001b[0m\u001b[0;34m=\u001b[0m\u001b[0;36m1\u001b[0m\u001b[0;34m)\u001b[0m\u001b[0;34m\u001b[0m\u001b[0m\n\u001b[0m\u001b[1;32m     20\u001b[0m \u001b[0mmat\u001b[0m\u001b[0;34m\u001b[0m\u001b[0m\n",
      "\u001b[0;31mValueError\u001b[0m: all the input array dimensions except for the concatenation axis must match exactly"
     ]
    }
   ],
   "source": [
    "\"\"\"\n",
    "Group by region, income, population density, private school density,\n",
    "\n",
    "\n",
    "\n",
    "\"\"\"\n",
    "\n",
    "import numpy as np\n",
    "import pandas as pd\n",
    "d=pd.read_table(\"/Users/thomas/GA-DSI/projects/projects-weekly/project-01/assets/sat_scores.csv\",sep=',')\n",
    "df=np.array(d)\n",
    "#Create new column with attrute sum\n",
    "sat_sum=[x[2]+x[3] for x in df]\n",
    "sat_mat=np.array(sat_sum)\n",
    "sat_mat.resize(len(sat_sum),1)\n",
    "\n",
    "print sat_mat.shape\n",
    "print df.shape\n",
    "\n",
    "#Create new matrix combining various new stats\n",
    "mat=np.concatenate((df,sat_mat.T),axis=1)\n",
    "mat"
   ]
  },
  {
   "cell_type": "code",
   "execution_count": 123,
   "metadata": {
    "collapsed": false,
    "scrolled": false
   },
   "outputs": [
    {
     "name": "stdout",
     "output_type": "stream",
     "text": [
      "['Math\\n', '510\\n', '513\\n', '515\\n', '505\\n', '516\\n', '499\\n', '499\\n', '506\\n', '500\\n', '501\\n', '499\\n', '510\\n', '499\\n', '489\\n', '501\\n', '488\\n', '474\\n', '526\\n', '499\\n', '527\\n', '499\\n', '515\\n', '510\\n', '517\\n', '525\\n', '515\\n', '542\\n', '439\\n', '539\\n', '512\\n', '542\\n', '553\\n', '542\\n', '589\\n', '550\\n', '545\\n', '572\\n', '589\\n', '580\\n', '554\\n', '568\\n', '561\\n', '577\\n', '562\\n', '596\\n', '550\\n', '570\\n', '603\\n', '582\\n', '599\\n', '551\\n', '514\\n']\n"
     ]
    }
   ],
   "source": [
    "import numpy as np\n",
    "import pandas as pd\n",
    "import csv\n",
    "#Open csv_file\n",
    "data=[]\n",
    "with open(\"/Users/thomas/GA-DSI/projects/projects-weekly/project-01/assets/sat_scores.csv\",'r') as f:\n",
    "    for line in f:\n",
    "        data.append(line)\n",
    "data2=[]\n",
    "for x in data:\n",
    "    data2.append(x.split(','))\n",
    "hold=[]\n",
    "for x in data2:\n",
    "    hold.append(x[3])\n",
    "hold2=[]\n",
    "for x in hold:\n",
    "    hold2.append(x.split('\\n'))\n",
    "print hold"
   ]
  },
  {
   "cell_type": "code",
   "execution_count": null,
   "metadata": {
    "collapsed": true
   },
   "outputs": [],
   "source": [
    "\"\"\"\n",
    "MATPLOTLIB PLOTS\n",
    "\"\"\"\n",
    "\n",
    "\"\"\"\n",
    "#Make matlibplot plots\n",
    "plt.hist(rate[len(rate)-1:],np.linspace(0, 100, 40),lw=3, fc=(0, 0, 0, 1),alpha=1)\n",
    "plt.hist(rate[:len(rate)-1],np.linspace(0, 100, 40),lw=3, fc=(0, 0, 1, 0.5))\n",
    "\n",
    "plt.show()\n",
    "\n",
    "\n",
    "plt.hist(verbal[len(verbal)-1:],np.linspace(400, 700, 40), lw=3, fc=(0, 0, 0, 1),alpha=1)\n",
    "plt.hist(verbal[:len(verbal)-1],np.linspace(400, 700, 40), lw=3, fc=(0, 0, 1, 0.5))\n",
    "plt.show()\n",
    "\n",
    "plt.hist(math[len(math)-1:],np.linspace(400, 700, 40), lw=3, fc=(0, 0, 0, 1),alpha=1)\n",
    "plt.hist(math[:len(math)-1],np.linspace(400, 700, 40),lw=3, fc=(1, 0, 0, 0.5))\n",
    "plt.show()\n",
    "\n",
    "plt.hist(verbal[:len(verbal)-1],np.linspace(400, 700, 40), lw=3, fc=(0, 0, 1, 0.5))\n",
    "plt.hist(math[:len(math)-1],np.linspace(400, 700, 40),lw=3, fc=(1, 0, 0, 0.5))\n",
    "plt.show()\n",
    "\n",
    "plt.hist(tot[len(rate)-1:],np.linspace(800, 1400, 40),lw=3, fc=(0, 0, 0, 1),alpha=1)\n",
    "plt.hist(tot[:len(rate)-1],np.linspace(800, 1400, 40),lw=3, fc=(0, 0, 1, 0.5))\n",
    "plt.show()\n",
    "\"\"\"\n",
    "#Make numpy array into pandas array\n",
    "d=pd.DataFrame(data=data[1:,1:],index=data[1:,0],columns=data[0,1:])"
   ]
  },
  {
   "cell_type": "code",
   "execution_count": 29,
   "metadata": {
    "collapsed": false,
    "scrolled": false
   },
   "outputs": [
    {
     "name": "stdout",
     "output_type": "stream",
     "text": [
      " ['State', 'Rate', 'Verbal', 'Math\\n'] []\n",
      "Rate 45\n",
      "rate    37.0 , 27.2792386761\n",
      "Verbal 514\n",
      "math    532.529411765 , 33.0319826842\n",
      "Math\n",
      "506\n",
      "verbal  531.843137255 , 35.9298731731\n",
      "Sum 1020\n",
      "total   1064.37254902 , 67.217224912\n",
      " \n"
     ]
    }
   ],
   "source": [
    "\"\"\"\n",
    "THIS IS THE PRIMARY CODE\n",
    "\n",
    "Rate is participation rate\n",
    "\"\"\"\n",
    "\n",
    "#Import Library\n",
    "import numpy as np\n",
    "import pandas as pd\n",
    "import csv\n",
    "import matplotlib.pyplot as plt\n",
    "\n",
    "#Open csv file and put it into an array; remove \\n\n",
    "data=data2=[]\n",
    "add=add2=ind=[]\n",
    "with open(\"/Users/thomas/GA-DSI/projects/projects-weekly/project-01/assets/sat_scores.csv\",'r') as f:\n",
    "    data=[line.rstrip('\\r') for line in f]\n",
    "for x in data:\n",
    "    data2.append(x.split(','))\n",
    "ind1=data2[0]\n",
    "d1=data2[1:]\n",
    "with open(\"/Users/thomas/GA-DSI/projects/projects-weekly/project-01/assets/untitled.csv\") as f:\n",
    "    add=[line.rstrip('\\r') for line in f]\n",
    "for x in add:\n",
    "    add2.append(x.split(','))\n",
    "ind2=add2[0]\n",
    "d2=add2[1:]\n",
    "\n",
    "\n",
    "\n",
    "print ind1, d2\n",
    "\n",
    "\n",
    "\n",
    "\n",
    "\n",
    "\n",
    "\n",
    "\n",
    "\n",
    "#Make nums in array into ints, and add column for summing scores\n",
    "s=True\n",
    "for x in data2:\n",
    "    if s:\n",
    "        s=False\n",
    "    else:\n",
    "        x[1]=int(x[1])\n",
    "        x[2]=int(x[2])\n",
    "        x[3]=int(x[3])\n",
    "s=True\n",
    "for x in data2:\n",
    "    if s:\n",
    "        s=False\n",
    "    else:\n",
    "        x.append(x[2]+x[3])\n",
    "data2[0].append('Sum')\n",
    "\n",
    "\n",
    "#Make array into various numpy arrays; indices marks the names of each <column/row>\n",
    "data=np.array(data2)\n",
    "indices=data[:][0].T\n",
    "data2=data[:][1:].T\n",
    "state=data2[0]\n",
    "rate=(data2[1]).astype(int)\n",
    "verbal=(data2[2]).astype(int)\n",
    "math=(data2[3]).astype(int)\n",
    "tot=(data2[4]).astype(int)\n",
    "\n",
    "\n",
    "#The last row makes no sense; it is not of averages. Instead, I will find these values independently\n",
    "sex=data2[0][:len(data2[0])-1]\n",
    "rex=(data2[1][:len(data2[1])-1]).astype(int)\n",
    "vex=(data2[2][:len(data2[2])-1]).astype(int)\n",
    "mex=(data2[3][:len(data2[3])-1]).astype(int)\n",
    "tex=(data2[4][:len(data2[4])-1]).astype(int)\n",
    "\n",
    "\n",
    "#Various stats figures\n",
    "r_mean=rex.mean()\n",
    "r_std=rex.std()\n",
    "v_mean=vex.mean()\n",
    "v_std=vex.std()\n",
    "m_mean=mex.mean()\n",
    "m_std=mex.std()\n",
    "t_mean=tex.mean()\n",
    "t_std=tex.std()\n",
    "\n",
    "\n",
    "\n",
    "\n",
    "# Discrepancy in ALL row values vs self-calculated means\n",
    "print indices[1],rate[-1]\n",
    "print \"rate   \",r_mean,\",\",r_std\n",
    "print indices[2],math[-1]\n",
    "print \"math   \",v_mean,\",\",v_std\n",
    "print indices[3],verbal[-1]\n",
    "print \"verbal \",m_mean,\",\",m_std\n",
    "print indices[4],tot[-1]\n",
    "print \"total  \",t_mean,\",\",t_std\n",
    "\n",
    "\n",
    "\"\"\"\n",
    "\n",
    "\n",
    "INSERT MATPLOTLIB PLOTS CELL HERE\n",
    "\n",
    "\n",
    "\"\"\"\n",
    "print ' '"
   ]
  },
  {
   "cell_type": "code",
   "execution_count": 163,
   "metadata": {
    "collapsed": false,
    "scrolled": false
   },
   "outputs": [
    {
     "data": {
      "text/plain": [
       "[('Verbal',\n",
       "  array([509, 499, 511, 495, 520, 501, 500, 511, 506, 510, 501, 508, 493,\n",
       "         491, 499, 486, 482, 526, 498, 527, 493, 485, 514, 498, 523, 509,\n",
       "         539, 534, 539, 527, 543, 562, 551, 576, 550, 547, 561, 580, 577,\n",
       "         559, 562, 567, 577, 564, 584, 562, 575, 593, 577, 592, 566, 506])),\n",
       " ('Dens/sqmi', array([  7.42600000e+02,   1.21010000e+03,   8.58000000e+02,\n",
       "           4.17000000e+02,   1.47800000e+02,   1.01710000e+03,\n",
       "           2.85500000e+02,   6.80000000e+01,   4.31000000e+01,\n",
       "           2.09200000e+02,   4.57100000e+02,   6.10800000e+02,\n",
       "           2.02600000e+02,   1.73700000e+02,   1.83400000e+02,\n",
       "           1.58800000e+02,   1.05888000e+04,   4.09000000e+01,\n",
       "           3.64600000e+02,   1.04900000e+02,   1.01200000e+02,\n",
       "           2.18600000e+02,   1.30000000e+00,   2.46100000e+02,\n",
       "           5.83000000e+01,   2.54000000e+01,   5.08000000e+01,\n",
       "           2.83200000e+02,   7.00000000e+00,   7.71000000e+01,\n",
       "           1.95000000e+01,   1.57500000e+02,   1.72000000e+01,\n",
       "           2.32000000e+02,   1.11300000e+02,   6.00000000e+00,\n",
       "           1.75000000e+02,   6.81000000e+01,   3.54000000e+01,\n",
       "           9.54000000e+01,   2.43000000e+01,   5.61000000e+01,\n",
       "           8.79000000e+01,   1.07100000e+02,   1.06000000e+02,\n",
       "           5.69000000e+01,   3.53000000e+01,   5.53000000e+01,\n",
       "           1.11000000e+01,   1.05000000e+01,   6.37000000e+01,\n",
       "           0.00000000e+00])),\n",
       " ('Region',\n",
       "  array(['NE', 'NE', 'NE', 'NE', 'NE', 'NE', 'NE', 'NE', 'NE', 'S', 'S', 'S',\n",
       "         'S', 'S', 'S', 'S', 'S', 'W', 'S', 'W', 'S', 'W', 'W', 'W', 'W',\n",
       "         'W', 'W', 'MW', 'W', 'S', 'W', 'S', 'W', 'MW', 'S', 'W', 'MW', 'MW',\n",
       "         'MW', 'S', 'MW', 'S', 'MW', 'S', 'MW', 'S', 'W', 'MW', 'MW', 'MW',\n",
       "         'S', 'N/A'], \n",
       "        dtype='|S8')),\n",
       " ('Rate',\n",
       "  array([82, 81, 79, 77, 72, 71, 71, 69, 69, 68, 67, 65, 65, 63, 60, 57, 56,\n",
       "         55, 54, 53, 53, 52, 51, 51, 34, 33, 31, 26, 23, 18, 17, 13, 13, 12,\n",
       "         12, 11, 11,  9,  9,  9,  8,  8,  8,  7,  6,  6,  5,  5,  4,  4,  4,\n",
       "         45])),\n",
       " ('State',\n",
       "  array(['CT', 'NJ', 'MA', 'NY', 'NH', 'RI', 'PA', 'VT', 'ME', 'VA', 'DE',\n",
       "         'MD', 'NC', 'GA', 'IN', 'SC', 'DC', 'OR', 'FL', 'WA', 'TX', 'HI',\n",
       "         'AK', 'CA', 'AZ', 'NV', 'CO', 'OH', 'MT', 'WV', 'ID', 'TN', 'NM',\n",
       "         'IL', 'KY', 'WY', 'MI', 'MN', 'KS', 'AL', 'NE', 'OK', 'MO', 'LA',\n",
       "         'WI', 'AR', 'UT', 'IA', 'SD', 'ND', 'MS', 'All'], \n",
       "        dtype='|S8')),\n",
       " ('Avg Income',\n",
       "  array([65753, 69825, 64859, 55246, 64712, 53636, 50228, 52776, 46033,\n",
       "         62881, 57954, 70004, 43916, 46007, 46438, 42367, 65124, 46816,\n",
       "         44299, 57835, 49392, 62814, 60287, 67458, 46709, 48927, 55387,\n",
       "         45749, 44222, 38482, 43341, 41693, 41963, 53234, 41141, 56322,\n",
       "         45981, 61814, 48964, 41415, 50296, 43225, 45247, 41734, 50395,\n",
       "         38758, 55869, 49427, 48321, 51704, 36919,     0])),\n",
       " ('% of Pop that is urban',\n",
       "  array([  88. ,   94.7,   92. ,   87.9,   60.3,   90.7,   78.7,   38.9,\n",
       "           38.7,   75.5,   83.3,   87.2,   66.1,   75.1,   72.4,   66.3,\n",
       "          100. ,   81. ,   91.2,   84.1,   84.7,   91.9,   66. ,   95. ,\n",
       "           89.8,   94.2,   86.2,   77.9,   55.9,   48.7,   70.6,   66.4,\n",
       "           77.4,   88.5,   58.4,   64.8,   74.6,   73.3,   74.2,   59. ,\n",
       "           73.1,   66.2,   70.4,   73.2,   70.2,   56.2,   90.6,   64. ,\n",
       "           56.7,   59.9,   49.4,    0. ])),\n",
       " ('Math',\n",
       "  array([510, 513, 515, 505, 516, 499, 499, 506, 500, 501, 499, 510, 499,\n",
       "         489, 501, 488, 474, 526, 499, 527, 499, 515, 510, 517, 525, 515,\n",
       "         542, 439, 539, 512, 542, 553, 542, 589, 550, 545, 572, 589, 580,\n",
       "         554, 568, 561, 577, 562, 596, 550, 570, 603, 582, 599, 551, 514])),\n",
       " ('Population',\n",
       "  array([ 3597000,  8938000,  6745000, 19750000,  1327000,  1055000,\n",
       "         12790000,   626562,  1330000,  8326000,   935614,  5976000,\n",
       "          9944000, 10100000,  6597000,  4832000,   658893,  3970000,\n",
       "         19890000,  7062000, 26960000,  1420000,   736732, 38800000,\n",
       "          6731000,  2839000,  5356000, 11590000,  1024000,  1850000,\n",
       "          1634000,  6549000,  2086000, 12880000,  4413000,   584153,\n",
       "          9910000,  5457000,  2904000,  4849000,  1882000,  3878000,\n",
       "          6064000,  3884000,  5758000,  2966000,  2943000,  3107000,\n",
       "           853175,   739482,  2994000,        0]))]"
      ]
     },
     "execution_count": 163,
     "metadata": {},
     "output_type": "execute_result"
    }
   ],
   "source": [
    "#Import Library\n",
    "import numpy as np\n",
    "import pandas as pd\n",
    "import csv\n",
    "import matplotlib.pyplot as plt\n",
    "\n",
    "#Open csv file and put it into an array; remove \\n\n",
    "data=data2=[]\n",
    "add=add2=ind=[]\n",
    "with open(\"/Users/thomas/GA-DSI/projects/projects-weekly/project-01/assets/sat_scores.csv\",'rU') as f:\n",
    "    data=[line.rstrip('\\n').replace('\\\"','') for line in f]\n",
    "for x in data:\n",
    "    data2.append(x.split(','))\n",
    "ind1=np.array(data2[0])\n",
    "d1=np.array(data2[1:])\n",
    "with open(\"/Users/thomas/GA-DSI/projects/projects-weekly/project-01/assets/untitled.csv\",'rU') as f:\n",
    "    add=[line.rstrip('\\n').replace('\\\"','') for line in f]\n",
    "for x in add:\n",
    "    add2.append(x.split('\\t'))\n",
    "ind2=np.array(add2[0][1:])\n",
    "d2=np.array([x[1:] for x in add2[1:]])\n",
    "ind=np.hstack((ind1,ind2))\n",
    "d=np.hstack((d1,d2))\n",
    "\n",
    "\n",
    "ind=ind.reshape(len(ind),1)\n",
    "d=d.T\n",
    "#d is the data matrix; ind is the index matrix\n",
    "\n",
    "\n",
    "\n",
    "#Break up 'ind' into arrays\n",
    "state=d[0]\n",
    "rate=d[1].astype(int)\n",
    "verbal=d[2].astype(int)\n",
    "math=d[3].astype(int)\n",
    "population=d[4].astype(int)\n",
    "region=d[5]\n",
    "avg_income=d[6].astype(int)\n",
    "dens_sqmi=d[7].astype(float)\n",
    "pop_urb=d[8].astype(float)\n",
    "\n",
    "all_data={}\n",
    "all_data[ind[0][0]]=state\n",
    "all_data[ind[1][0]]=rate\n",
    "all_data[ind[2][0]]=verbal\n",
    "all_data[ind[3][0]]=math\n",
    "all_data[ind[4][0]]=population\n",
    "all_data[ind[5][0]]=region\n",
    "all_data[ind[6][0]]=avg_income\n",
    "all_data[ind[7][0]]=dens_sqmi\n",
    "all_data[ind[8][0]]=pop_urb\n",
    "\n",
    "all_data.items()\n"
   ]
  },
  {
   "cell_type": "code",
   "execution_count": null,
   "metadata": {
    "collapsed": false
   },
   "outputs": [],
   "source": []
  },
  {
   "cell_type": "code",
   "execution_count": 155,
   "metadata": {
    "collapsed": false
   },
   "outputs": [],
   "source": [
    "with open(\"/Users/thomas/GA-DSI/projects/projects-weekly/project-01/assets/untitled.csv\",'rU') as f:\n",
    "    add=[line.rstrip('\\n').replace('\\\"','') for line in f]\n",
    "    add2 = [i.split('\\t') for i in add]"
   ]
  },
  {
   "cell_type": "code",
   "execution_count": null,
   "metadata": {
    "collapsed": true
   },
   "outputs": [],
   "source": []
  },
  {
   "cell_type": "code",
   "execution_count": null,
   "metadata": {
    "collapsed": true
   },
   "outputs": [],
   "source": []
  },
  {
   "cell_type": "code",
   "execution_count": null,
   "metadata": {
    "collapsed": true
   },
   "outputs": [],
   "source": []
  },
  {
   "cell_type": "code",
   "execution_count": null,
   "metadata": {
    "collapsed": true
   },
   "outputs": [],
   "source": []
  }
 ],
 "metadata": {
  "anaconda-cloud": {},
  "kernelspec": {
   "display_name": "Python [default]",
   "language": "python",
   "name": "python2"
  },
  "language_info": {
   "codemirror_mode": {
    "name": "ipython",
    "version": 2
   },
   "file_extension": ".py",
   "mimetype": "text/x-python",
   "name": "python",
   "nbconvert_exporter": "python",
   "pygments_lexer": "ipython2",
   "version": "2.7.12"
  }
 },
 "nbformat": 4,
 "nbformat_minor": 1
}
