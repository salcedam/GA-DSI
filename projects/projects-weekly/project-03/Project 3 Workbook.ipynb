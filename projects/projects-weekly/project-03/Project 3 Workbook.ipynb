{
 "cells": [
  {
   "cell_type": "code",
   "execution_count": 83,
   "metadata": {
    "collapsed": false
   },
   "outputs": [],
   "source": [
    "import pandas as pd\n",
    "import numpy as np\n",
    "import matplotlib.pyplot as plt\n",
    "import seaborn as sns\n",
    "import time\n",
    "import statsmodels.api as sm\n",
    "from scipy import stats\n",
    "from sklearn import datasets, linear_model\n",
    "from sklearn import datasets, linear_model\n",
    "from sklearn.pipeline import Pipeline\n",
    "from sklearn.preprocessing import PolynomialFeatures\n",
    "from sklearn.linear_model import LinearRegression\n",
    "from sklearn.linear_model import Ridge\n",
    "from sklearn.linear_model import Lasso\n",
    "from sklearn.metrics import mean_squared_error\n",
    "\n",
    "% matplotlib inline\n",
    "lm = linear_model.LinearRegression()"
   ]
  },
  {
   "cell_type": "code",
   "execution_count": 278,
   "metadata": {
    "collapsed": false
   },
   "outputs": [
    {
     "name": "stdout",
     "output_type": "stream",
     "text": [
      "--- 55.3738660812 seconds ---\n"
     ]
    }
   ],
   "source": [
    "start_time = time.time()\n",
    "\n",
    "df=pd.read_csv\\\n",
    "(\"/Users/thomas/GA-DSI/projects/projects-weekly/project-03/Resources/Iowa_Liquor_sales_sample_10pct_train.csv\")\n",
    "df_test=pd.read_csv\\\n",
    "(\"/Users/thomas/GA-DSI/projects/projects-weekly/project-03/Resources/Iowa_Liquor_sales_sample_10pct_test.csv\")\n",
    "\n",
    "\"\"\"CONVERTING DATA TO BE USABLE; DROPS ~1150 rows out of the 244000; This is acceptable\"\"\"\n",
    "\n",
    "#Date Conversion takes 42 Seconds\n",
    "#df['Date']=pd.to_datetime(df['Date'])\n",
    "\n",
    "\n",
    "#---\n",
    "#Make these float columns; removing the 'dollar' signs\n",
    "df['Sale (Dollars)']= [np.float(x[1:]) for x in df['Sale (Dollars)']]\n",
    "df['State Bottle Retail']= [np.float(x[1:]) for x in df['State Bottle Retail']]\n",
    "df['State Bottle Cost']= [np.float(x[1:]) for x in df['State Bottle Cost']]\n",
    "\n",
    "#---\n",
    "#There are Zip Codes with the value 712-2, which is the zip code of IA\n",
    "df=df.replace(\"712-2\",\"51529\")\n",
    "\n",
    "#---\n",
    "#Changed County number from float to int; there were null values before, so we took them out just above this\n",
    "zips= df[pd.notnull(df[\"County\"])].groupby(['Store Number',\"County\"])[\"County\"].unique()\n",
    "store=county=[]\n",
    "\n",
    "#Splits up the groupyby appropriately\n",
    "i=0\n",
    "while i < len(zips):\n",
    "    store.append(zips.index[i][0])\n",
    "    county.append(zips.index[i][1])\n",
    "    i+=1\n",
    "    \n",
    "#Puts the store as key and county as value\n",
    "d={}\n",
    "for x,y in zip(store,county):\n",
    "    d[x]=y\n",
    "d[5230]=\"Linn\";d[5210]=\"Page\";d[5227]=\"Clinton\";d[5247]=\"Cerro Gordo\";d[5236]=\"Jones\";d[5217]=\"Wayne\";\n",
    "d[5220]=\"Cerro Gordo\";d[5225]=\"Johnson\";d[5226]=\"Scott\";d[5222]=\"Linn\";d[5214]=\"Linn\";d[5240]=\"Cedar\";\n",
    "d[5233]=\"Marion\";d[5224]=\"Johnson\";d[5237]=\"Webster\";d[5229]=\"Warren\";d[5234]=\"Dubuque\";d[5208]=\"Cass\";\n",
    "d[5218]=\"Lucas\";d[5216]=\"Polk\";d[5223]=\"Fremont\";d[5232]=\"Audubon\"\n",
    "    \n",
    "#Will create a new df for the store number column and overwrite previous values\n",
    "#Look up every row and see if value is blank. If it is, fill it\n",
    "for i in range(len(df[\"City\"])):\n",
    "    if pd.isnull(df.iloc[i,6]):\n",
    "        df.iloc[i,6]=d[df.iloc[i,2]]\n",
    "    \n",
    "\n",
    "\n",
    "#---\n",
    "#Category Fix\n",
    "cat = df.set_index('Category')['Category Name'].to_frame()\n",
    "cat.dropna(inplace=True)\n",
    "undefined_cats = pd.DataFrame([[\"Moonshine\"],[\"Reposado\"],[\"Vodka\"],[\"Hennessy\"],[\"Spiced Rum\"],[\"Rum\"],\\\n",
    "                               [\"Amaretto\"],[\"Spirit\"],[\"Moonshine\"],[\"Moonshine\"],[\"Rum\"]], \\\n",
    "                              columns=['Category Name'], index=['1011700.0', '1022200.0', '1032100.0', '1052100.0',\\\n",
    "                        '1062400.0', '1062500.0', '1082100.0', '1082200.0', '1091100.0', '1091300.0', '1092100.0'])\n",
    "all_cats = pd.concat([cat, undefined_cats])\n",
    "\n",
    "def get_category_name(category):\n",
    "    return all_cats.T[str(float(category))].values[0]\n",
    "\n",
    "category_wo_name = df[pd.isnull(df[\"Category Name\"])][\"Category\"].to_frame()\n",
    "\n",
    "for row in category_wo_name.index:\n",
    "    if not np.isnan(category_wo_name.ix[row]['Category']):\n",
    "        df.set_value(row, 'Category Name', get_category_name(category_wo_name.ix[row]['Category']))\n",
    "\n",
    "#---\n",
    "#Delete Useless Columns\n",
    "del df[\"County Number\"]\n",
    "del df[\"Category\"]\n",
    "#---\n",
    "#Change city column to all uppercase\n",
    "df[\"City\"]=df[\"City\"].apply(lambda X: X.upper())\n",
    "\n",
    "#---\n",
    "#Create dictionary to fill in the null County values for each city\n",
    "print(\"--- %s seconds ---\" % (time.time() - start_time))"
   ]
  },
  {
   "cell_type": "code",
   "execution_count": 407,
   "metadata": {
    "collapsed": false
   },
   "outputs": [],
   "source": [
    "dfd=pd.read_csv(\"Resources/IA_Data_Master.csv\")\n",
    "copy=df.copy()\n",
    "copy=pd.merge(df,dfd,how='inner',on='County')\n",
    "copy=copy[pd.notnull(copy[\"Sale (Dollars)\"])]\n",
    "copy['Store Number']=1\n",
    "copy['Category Name']=1\n",
    "copy=copy.groupby('County')['Bottles Sold','Sale (Dollars)','Housing Estimate','Population Estimate',\\\n",
    "        'Per Capita Yearly Income','Store Number','Volume Sold (Liters)','Category Name'].sum()\n",
    "copy[\"Sale/Person\"]=copy[\"Sale (Dollars)\"]/copy[\"Population Estimate\"]\n",
    "copy[\"Store/Person\"]=copy[\"Store Number\"]/copy[\"Population Estimate\"]\n",
    "copy[\"Sale/Store\"]=copy[\"Sale (Dollars)\"]/copy[\"Store Number\"]\n",
    "copy[\"Avg Store Size\"]=copy[\"Category Name\"]/copy[\"Store Number\"]"
   ]
  },
  {
   "cell_type": "code",
   "execution_count": 415,
   "metadata": {
    "collapsed": false
   },
   "outputs": [
    {
     "data": {
      "text/plain": [
       "467711"
      ]
     },
     "execution_count": 415,
     "metadata": {},
     "output_type": "execute_result"
    }
   ],
   "source": [
    "max(dfd[\"Population Estimate\"])"
   ]
  },
  {
   "cell_type": "code",
   "execution_count": 412,
   "metadata": {
    "collapsed": false
   },
   "outputs": [],
   "source": [
    "copy2=copy[['Per Capita Yearly Income','Housing Estimate','Population Estimate']].copy()\n",
    "cols=[x for x in copy2]\n",
    "for x in cols:\n",
    "    for y in cols:\n",
    "        if x.index<=y.index:\n",
    "            copy2[x+\"*\"+y]=copy2[x]*copy2[y]\n",
    "        if x.index<y.index:\n",
    "            copy2[x+\"/\"+y]=copy2[x]/copy2[y]\n",
    "        if x.index>y.index:\n",
    "            copy2[x+\"/\"+y]=copy2[y]/copy2[x]\n",
    "    copy2[\"LOG of \"+x]=np.log(copy2[x])\n",
    "cols=[x for x in copy2]"
   ]
  },
  {
   "cell_type": "code",
   "execution_count": 316,
   "metadata": {
    "collapsed": false
   },
   "outputs": [],
   "source": [
    "#plt.hist(copy['Volume Sold (Liters)']/copy['Bottles Sold'],bins=30)\n",
    "#plt.show()\n",
    "#plt.hist(copy['Store Number'],bins=30)\n",
    "#plt.show()"
   ]
  },
  {
   "cell_type": "code",
   "execution_count": 416,
   "metadata": {
    "collapsed": false
   },
   "outputs": [
    {
     "name": "stdout",
     "output_type": "stream",
     "text": [
      "Sale/Person\n",
      "County\n",
      "Ringgold      0.018046\n",
      "Ida           0.017656\n",
      "Fremont       0.017328\n",
      "Howard        0.016639\n",
      "Audubon       0.014318\n",
      "Osceola       0.014204\n",
      "Adams         0.014070\n",
      "Shelby        0.013168\n",
      "Worth         0.013078\n",
      "Adair         0.012953\n",
      "Wayne         0.012800\n",
      "Pocahontas    0.012305\n",
      "Monroe        0.012207\n",
      "Van Buren     0.012092\n",
      "Lucas         0.011765\n",
      "Clarke        0.011449\n",
      "Humboldt      0.011258\n",
      "Greene        0.010898\n",
      "Decatur       0.010218\n",
      "Winnebago     0.009560\n",
      "Name: Sale/Person, dtype: float64\n",
      "\n",
      "Population\n",
      "County\n",
      "Ringgold       932512\n",
      "Ida           4005960\n",
      "Fremont        186462\n",
      "Howard        5166090\n",
      "Audubon       1160373\n",
      "Osceola       1956972\n",
      "Adams          816140\n",
      "Shelby        7132346\n",
      "Worth         2634012\n",
      "Adair         3852524\n",
      "Wayne         1015215\n",
      "Pocahontas    3356832\n",
      "Monroe        2607171\n",
      "Van Buren     1578960\n",
      "Lucas         3811398\n",
      "Clarke        5888724\n",
      "Humboldt      5064150\n",
      "Greene        5533551\n",
      "Decatur       1644000\n",
      "Winnebago     9049477\n",
      "Name: Population Estimate, dtype: int64\n",
      "\n",
      "Store/Person\n",
      "County\n",
      "Ringgold      0.000197\n",
      "Ida           0.000142\n",
      "Fremont       0.000145\n",
      "Howard        0.000106\n",
      "Audubon       0.000173\n",
      "Osceola       0.000162\n",
      "Adams         0.000263\n",
      "Shelby        0.000084\n",
      "Worth         0.000132\n",
      "Adair         0.000138\n",
      "Wayne         0.000157\n",
      "Pocahontas    0.000143\n",
      "Monroe        0.000125\n",
      "Van Buren     0.000136\n",
      "Lucas         0.000115\n",
      "Clarke        0.000108\n",
      "Humboldt      0.000105\n",
      "Greene        0.000111\n",
      "Decatur       0.000122\n",
      "Winnebago     0.000094\n",
      "Name: Store/Person, dtype: float64\n"
     ]
    }
   ],
   "source": [
    "print \"Sale/Person\"\n",
    "print copy['Sale/Person'].sort_values(ascending=False)[0:20]\n",
    "top20=copy['Sale/Person'].sort_values(ascending=False).index[0:20]\n",
    "print \n",
    "print \"Population\"\n",
    "print copy['Population Estimate'][top20]\n",
    "top20=copy['Population Estimate'][top20].index\n",
    "print \n",
    "print \"Store/Person\"\n",
    "print copy['Store/Person'][top20]\n",
    "#Howard and Shelby Looks "
   ]
  },
  {
   "cell_type": "code",
   "execution_count": 413,
   "metadata": {
    "collapsed": false
   },
   "outputs": [
    {
     "name": "stdout",
     "output_type": "stream",
     "text": [
      "Score: 0.77874879741\n",
      "Alpha: 0.0001\n",
      "\n"
     ]
    },
    {
     "data": {
      "image/png": "[encoded data removed]",
      "text/plain": [
       "<matplotlib.figure.Figure at 0x121d0f250>"
      ]
     },
     "metadata": {},
     "output_type": "display_data"
    },
    {
     "data": {
      "text/plain": [
       "<function matplotlib.pyplot.plot>"
      ]
     },
     "execution_count": 413,
     "metadata": {},
     "output_type": "execute_result"
    }
   ],
   "source": [
    "copy2=copy[['Per Capita Yearly Income','Housing Estimate','Population Estimate']].copy()\n",
    "cols=[x for x in copy2]\n",
    "for x in cols:\n",
    "    for y in cols:\n",
    "        if x.index<=y.index:\n",
    "            copy2[x+\"*\"+y]=copy2[x]*copy2[y]\n",
    "        if x.index<y.index:\n",
    "            copy2[x+\"/\"+y]=copy2[x]/copy2[y]\n",
    "        if x.index>y.index:\n",
    "            copy2[x+\"/\"+y]=copy2[y]/copy2[x]\n",
    "    #copy2[\"LOG of \"+x]=np.log10(x)\n",
    "cols=[x for x in copy2]\n",
    "y=copy['Sale/Person']\n",
    "x=copy2[cols]\n",
    "nums=np.linspace(0.0001,10,500)\n",
    "alpha=nums\n",
    "bestscore=0\n",
    "bestalpha=0\n",
    "\n",
    "for a in alpha:\n",
    "\n",
    "    #model=lm.fit(x,y)\n",
    "    model = Ridge(alpha=a)\n",
    "    model.fit(x,y)\n",
    "    predictions=model.predict(x)\n",
    "\n",
    "    if (model.score(x,y),a)>bestscore:\n",
    "        bestscore= model.score(x,y),a\n",
    "        bestalpha=a\n",
    "\n",
    "\n",
    "a=bestalpha\n",
    "model = Ridge(alpha=a)\n",
    "model.fit(x,y)\n",
    "#model=lm.fit(x,y)\n",
    "predictions=model.predict(x)\n",
    "\n",
    "print \"Score:\",model.score(x,y)\n",
    "print \"Alpha:\",a\n",
    "print \n",
    "coef= [[i,j] for i,j in zip(cols,model.coef_)]\n",
    "for x in coef:\n",
    "    if np.abs(x[1])>1:\n",
    "        print x\n",
    "plt.scatter(predictions,y)\n",
    "plt.plot(y,y)\n",
    "plt.xlim(0,.02)\n",
    "plt.ylim(0,.02)\n",
    "plt.show()\n",
    "plt.plot"
   ]
  },
  {
   "cell_type": "code",
   "execution_count": 389,
   "metadata": {
    "collapsed": false
   },
   "outputs": [
    {
     "data": {
      "text/plain": [
       "0.29184569077037986"
      ]
     },
     "execution_count": 389,
     "metadata": {},
     "output_type": "execute_result"
    }
   ],
   "source": [
    "np.std((predictions-y)/copy['Sale/Person'])"
   ]
  },
  {
   "cell_type": "markdown",
   "metadata": {},
   "source": [
    "We really need to try to predict sales per store with the regression. We can obviously make a few regressions to test, and we have, but what needs to be answered now is how we are going to test and with what."
   ]
  },
  {
   "cell_type": "code",
   "execution_count": 276,
   "metadata": {
    "collapsed": false
   },
   "outputs": [
    {
     "name": "stdout",
     "output_type": "stream",
     "text": [
      "Score: 0.991994600838\n",
      "Alpha: 0.0\n",
      "\n",
      "['Housing Estimate/Population Estimate', -32874.502950076756]\n",
      "['Per Capita Yearly Income/Housing Estimate', 53183.518865566017]\n",
      "['Per Capita Yearly Income/Population Estimate', -80913.422719241746]\n",
      "['Store Number', 156.84339300521003]\n",
      "['Housing Estimate/Store Number', 34726366.680066936]\n"
     ]
    }
   ],
   "source": [
    "y=copy['Sale (Dollars)']\n",
    "cols=['Housing Estimate/Population Estimate','Per Capita Yearly Income/Housing Estimate',\\\n",
    "        'Per Capita Yearly Income/Population Estimate','Store Number','Housing Estimate/Store Number']\n",
    "x=copy2[cols]\n",
    "nums=np.linspace(0,50,500)\n",
    "alpha=nums\n",
    "bestscore=0\n",
    "bestalpha=0\n",
    "\n",
    "for a in alpha:\n",
    "    #model=lm.fit(x,y)\n",
    "\n",
    "    model = Ridge(alpha=a)\n",
    "    model.fit(x,y)\n",
    "    predictions=model.predict(x)\n",
    "\n",
    "    if (model.score(x,y),a)>bestscore:\n",
    "        bestscore= model.score(x,y),a\n",
    "        bestalpha=a\n",
    "\n",
    "\n",
    "a=bestalpha\n",
    "model = Ridge(alpha=a)\n",
    "model.fit(x,y)\n",
    "predictions=model.predict(x)\n",
    "\n",
    "print \"Score:\",model.score(x,y)\n",
    "print \"Alpha:\",a\n",
    "print \n",
    "coef= [[i,j] for i,j in zip(cols,model.coef_)]\n",
    "for x in coef:\n",
    "    if np.abs(x[1])>1:\n",
    "        print x\n",
    "\n",
    "#Values indicate the lonelier the population, i.e. more houses and less people, the more likely people are to buy\n",
    "#alcohol. Additionally, the more wealthty per house, the likely for people to buy alcohol."
   ]
  },
  {
   "cell_type": "code",
   "execution_count": 279,
   "metadata": {
    "collapsed": false
   },
   "outputs": [
    {
     "data": {
      "text/plain": [
       "Index([u'Unnamed: 0', u'Date', u'Store Number', u'City', u'Zip Code',\n",
       "       u'County', u'Category Name', u'Vendor Number', u'Item Number',\n",
       "       u'Item Description', u'Bottle Volume (ml)', u'State Bottle Cost',\n",
       "       u'State Bottle Retail', u'Bottles Sold', u'Sale (Dollars)',\n",
       "       u'Volume Sold (Liters)', u'Volume Sold (Gallons)'],\n",
       "      dtype='object')"
      ]
     },
     "execution_count": 279,
     "metadata": {},
     "output_type": "execute_result"
    }
   ],
   "source": [
    "df.columns"
   ]
  },
  {
   "cell_type": "markdown",
   "metadata": {},
   "source": [
    "Will use Amish's model to find the highest positive delta counties for predicting total sales per store using median income, population, average of unique items sold in store (size), number of houses, houses/person. The delta indicates an unknown variable, which indicates that, if positive, the population is drinking more than predicted, and, if negative, the population is drinking less than predicted.\n",
    "\n",
    "The model takes the natural log of both sides. We do this because the data is skewed, and needs to be normalized.\n",
    "\n",
    "With those highest positive delta counties, we found the largest population centers (towns/cities) within them, and analyzed their suitability. We only selected the counties with a delta of 0.2 or above, which was 12 counties. We pulled the same metrics that we had for counties, which were median income, population, number of houses."
   ]
  },
  {
   "cell_type": "code",
   "execution_count": 417,
   "metadata": {
    "collapsed": true
   },
   "outputs": [],
   "source": [
    "l=['ACKLEY', 'ALDEN', 'ELDORA', 'FORT DODGE', 'HUBBARD', 'IOWA FALLS',\\\n",
    "      'AFTON', 'CRESTON', 'BELMOND', 'CLARION', 'DOWS', 'EAGLE GROVE',\\\n",
    "      'GOLDFIELD', 'BRITT', 'CORWITH', 'GARNER', 'BURLINGTON', 'DANVILLE',\\\n",
    "      'MEDIAPOLIS', 'WEST BURLINGTON', 'CARROLL', 'COON RAPIDS',\\\n",
    "      'GLIDDEN', 'MANNING', 'DECORAH', 'FORT ATKINSON', 'DELAWARE',\\\n",
    "      'DELHI', 'MANCHESTER', 'FAIRFIELD', 'GLENWOOD', 'MALVERN',\\\n",
    "      'PACIFIC JUNCTION', 'HOLSTEIN', 'IDA GROVE', 'OSCEOLA']"
   ]
  },
  {
   "cell_type": "code",
   "execution_count": 418,
   "metadata": {
    "collapsed": false,
    "scrolled": true
   },
   "outputs": [
    {
     "name": "stdout",
     "output_type": "stream",
     "text": [
      "ACKLEY\n",
      "ALDEN\n",
      "ELDORA\n",
      "FORT DODGE\n",
      "HUBBARD\n",
      "IOWA FALLS\n",
      "AFTON\n",
      "CRESTON\n",
      "BELMOND\n",
      "CLARION\n",
      "DOWS\n",
      "EAGLE GROVE\n",
      "GOLDFIELD\n",
      "BRITT\n",
      "CORWITH\n",
      "GARNER\n",
      "BURLINGTON\n",
      "DANVILLE\n",
      "MEDIAPOLIS\n",
      "WEST BURLINGTON\n",
      "CARROLL\n",
      "COON RAPIDS\n",
      "GLIDDEN\n",
      "MANNING\n",
      "DECORAH\n",
      "FORT ATKINSON\n",
      "DELAWARE\n",
      "DELHI\n",
      "MANCHESTER\n",
      "FAIRFIELD\n",
      "GLENWOOD\n",
      "MALVERN\n",
      "PACIFIC JUNCTION\n",
      "HOLSTEIN\n",
      "IDA GROVE\n",
      "OSCEOLA\n"
     ]
    }
   ],
   "source": [
    "for x in l:\n",
    "    print x"
   ]
  },
  {
   "cell_type": "code",
   "execution_count": null,
   "metadata": {
    "collapsed": true
   },
   "outputs": [],
   "source": []
  },
  {
   "cell_type": "code",
   "execution_count": null,
   "metadata": {
    "collapsed": true
   },
   "outputs": [],
   "source": []
  },
  {
   "cell_type": "code",
   "execution_count": null,
   "metadata": {
    "collapsed": true
   },
   "outputs": [],
   "source": []
  }
 ],
 "metadata": {
  "anaconda-cloud": {},
  "kernelspec": {
   "display_name": "Python [default]",
   "language": "python",
   "name": "python2"
  },
  "language_info": {
   "codemirror_mode": {
    "name": "ipython",
    "version": 2
   },
   "file_extension": ".py",
   "mimetype": "text/x-python",
   "name": "python",
   "nbconvert_exporter": "python",
   "pygments_lexer": "ipython2",
   "version": "2.7.12"
  }
 },
 "nbformat": 4,
 "nbformat_minor": 1
}
