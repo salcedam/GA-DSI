{
 "cells": [
  {
   "cell_type": "code",
   "execution_count": null,
   "metadata": {
    "collapsed": false
   },
   "outputs": [],
   "source": [
    "#import pandas as pd\n",
    "#import numpy as np\n",
    "#from sklearn.cross_validation import train_test_split\n",
    "\n",
    "#train, test = train_test_split(df, test_size = 0.1)\n",
    "#print train.shape\n",
    "#print test.shape\n",
    "#test.to_csv(\"/Users/thomas/GA-DSI/projects/projects-weekly/project-03/Resources/Iowa_Liquor_sales_sample_10pct_TEST.csv\")\n",
    "#train.to_csv(\"/Users/thomas/GA-DSI/projects/projects-weekly/project-03/Resources/Iowa_Liquor_sales_sample_10pct_TRAIN.csv\")"
   ]
  },
  {
   "cell_type": "code",
   "execution_count": null,
   "metadata": {
    "collapsed": true
   },
   "outputs": [],
   "source": [
    "#http://www.census.gov/popest/data/index.html"
   ]
  },
  {
   "cell_type": "code",
   "execution_count": 236,
   "metadata": {
    "collapsed": false
   },
   "outputs": [
    {
     "data": {
      "text/plain": [
       "Index([u'Unnamed: 0', u'Date', u'Store Number', u'City', u'Zip Code',\n",
       "       u'County Number', u'County', u'Category', u'Category Name',\n",
       "       u'Vendor Number', u'Item Number', u'Item Description',\n",
       "       u'Bottle Volume (ml)', u'State Bottle Cost', u'State Bottle Retail',\n",
       "       u'Bottles Sold', u'Sale (Dollars)', u'Volume Sold (Liters)',\n",
       "       u'Volume Sold (Gallons)'],\n",
       "      dtype='object')"
      ]
     },
     "execution_count": 236,
     "metadata": {},
     "output_type": "execute_result"
    }
   ],
   "source": [
    "df.columns"
   ]
  },
  {
   "cell_type": "code",
   "execution_count": 1,
   "metadata": {
    "collapsed": true
   },
   "outputs": [],
   "source": [
    "import pandas as pd\n",
    "import numpy as np\n",
    "import matplotlib.pyplot as plt\n",
    "import seaborn as sns\n",
    "import time\n",
    "df=pd.read_csv\\\n",
    "(\"/Users/thomas/GA-DSI/projects/projects-weekly/project-03/Resources/Iowa_Liquor_sales_sample_10pct_train.csv\")\n",
    "df_test=pd.read_csv\\\n",
    "(\"/Users/thomas/GA-DSI/projects/projects-weekly/project-03/Resources/Iowa_Liquor_sales_sample_10pct_test.csv\")"
   ]
  },
  {
   "cell_type": "code",
   "execution_count": 3,
   "metadata": {
    "collapsed": false
   },
   "outputs": [
    {
     "name": "stdout",
     "output_type": "stream",
     "text": [
      "--- 53.6137399673 seconds ---\n"
     ]
    }
   ],
   "source": [
    "start_time = time.time()\n",
    "\n",
    "df=pd.read_csv\\\n",
    "(\"/Users/thomas/GA-DSI/projects/projects-weekly/project-03/Resources/Iowa_Liquor_sales_sample_10pct_train.csv\")\n",
    "df_test=pd.read_csv\\\n",
    "(\"/Users/thomas/GA-DSI/projects/projects-weekly/project-03/Resources/Iowa_Liquor_sales_sample_10pct_test.csv\")\n",
    "\n",
    "\"\"\"CONVERTING DATA TO BE USABLE; DROPS ~1150 rows out of the 244000; This is acceptable\"\"\"\n",
    "\n",
    "#Date Conversion takes 42 Seconds\n",
    "#df['Date']=pd.to_datetime(df['Date'])\n",
    "\n",
    "\n",
    "#---\n",
    "#Make these float columns; removing the 'dollar' signs\n",
    "df['Sale (Dollars)']= [np.float(x[1:]) for x in df['Sale (Dollars)']]\n",
    "df['State Bottle Retail']= [np.float(x[1:]) for x in df['State Bottle Retail']]\n",
    "df['State Bottle Cost']= [np.float(x[1:]) for x in df['State Bottle Cost']]\n",
    "\n",
    "#---\n",
    "#There are Zip Codes with the value 712-2, which is the zip code of IA\n",
    "df=df.replace(\"712-2\",\"51529\")\n",
    "\n",
    "#---\n",
    "#Changed Country number from float to int; there were null values before, so we took them out just above this\n",
    "\n",
    "\n",
    "zips= df[pd.notnull(df[\"County\"])].groupby(['Store Number',\"County\"])[\"County\"].unique()\n",
    "store=county=[]\n",
    "\n",
    "#Splits up the groupyby appropriately\n",
    "i=0\n",
    "while i < len(zips):\n",
    "    store.append(zips.index[i][0])\n",
    "    county.append(zips.index[i][1])\n",
    "    i+=1\n",
    "    \n",
    "#Puts the store as key and county as value\n",
    "d={}\n",
    "for x,y in zip(store,county):\n",
    "    d[x]=y\n",
    "d[5230]=\"Linn\";d[5210]=\"Page\";d[5227]=\"Clinton\";d[5247]=\"Cerro Gordo\";d[5236]=\"Jones\";d[5217]=\"Wayne\";\n",
    "d[5220]=\"Cerro Gordo\";d[5225]=\"Johnson\";d[5226]=\"Scott\";d[5222]=\"Linn\";d[5214]=\"Linn\";d[5240]=\"Cedar\";\n",
    "d[5233]=\"Marion\";d[5224]=\"Johnson\";d[5237]=\"Webster\";d[5229]=\"Warren\";d[5234]=\"Dubuque\";d[5208]=\"Cass\";\n",
    "d[5218]=\"Lucas\";d[5216]=\"Polk\";d[5223]=\"Fremont\";d[5232]=\"Audubon\"\n",
    "    \n",
    "#Will create a new df for the store number column and overwrite previous values\n",
    "#Look up every row and see if value is blank. If it is, fill it\n",
    "for i in range(len(df[\"City\"])):\n",
    "    if pd.isnull(df.iloc[i,6]):\n",
    "        df.iloc[i,6]=d[df.iloc[i,2]]\n",
    "    \n",
    "\n",
    "\n",
    "#---\n",
    "#Category Fix\n",
    "cat = df.set_index('Category')['Category Name'].to_frame()\n",
    "cat.dropna(inplace=True)\n",
    "undefined_cats = pd.DataFrame([[\"Moonshine\"],[\"Reposado\"],[\"Vodka\"],[\"Hennessy\"],[\"Spiced Rum\"],[\"Rum\"],\\\n",
    "                               [\"Amaretto\"],[\"Spirit\"],[\"Moonshine\"],[\"Moonshine\"],[\"Rum\"]], \\\n",
    "                              columns=['Category Name'], index=['1011700.0', '1022200.0', '1032100.0', '1052100.0',\\\n",
    "                        '1062400.0', '1062500.0', '1082100.0', '1082200.0', '1091100.0', '1091300.0', '1092100.0'])\n",
    "all_cats = pd.concat([cat, undefined_cats])\n",
    "\n",
    "def get_category_name(category):\n",
    "    return all_cats.T[str(float(category))].values[0]\n",
    "\n",
    "category_wo_name = df[pd.isnull(df[\"Category Name\"])][\"Category\"].to_frame()\n",
    "\n",
    "for row in category_wo_name.index:\n",
    "    if not np.isnan(category_wo_name.ix[row]['Category']):\n",
    "        df.set_value(row, 'Category Name', get_category_name(category_wo_name.ix[row]['Category']))\n",
    "\n",
    "#---\n",
    "#Delete Useless Columns\n",
    "del df[\"County Number\"]\n",
    "del df[\"Category\"]\n",
    "#---\n",
    "#Change city column to all uppercase\n",
    "df[\"City\"]=df[\"City\"].apply(lambda X: X.upper())\n",
    "\n",
    "#---\n",
    "#Create dictionary to fill in the null County values for each city\n",
    "print(\"--- %s seconds ---\" % (time.time() - start_time))"
   ]
  },
  {
   "cell_type": "code",
   "execution_count": 43,
   "metadata": {
    "collapsed": false
   },
   "outputs": [],
   "source": [
    "df1=pd.read_csv(\"Resources/IA_Data_1.csv\")\n",
    "df2=pd.read_csv(\"Resources/IA_Data_2.csv\")\n",
    "df3=pd.read_csv(\"Resources/IA_Data_3.csv\")\n",
    "df4=pd.read_csv(\"Resources/IA_Data_4.csv\")\n",
    "df5=pd.read_csv(\"Resources/IA_Data_5.csv\")"
   ]
  },
  {
   "cell_type": "code",
   "execution_count": 184,
   "metadata": {
    "collapsed": false
   },
   "outputs": [
    {
     "name": "stdout",
     "output_type": "stream",
     "text": [
      "---DF1: 0.24657201767 seconds ---\n",
      "---DF2: 34.2764828205 seconds ---\n",
      "---DF3: 0.0806379318237 seconds ---\n",
      "---DF4: 0.0750269889832 seconds ---\n",
      "---DF5: 0.00355100631714 seconds ---\n",
      "--- Total Time: 34.682790041 seconds ---\n"
     ]
    }
   ],
   "source": [
    "#___DF1___\n",
    "start_time = time.time()\n",
    "start_time2=start_time\n",
    "df1=pd.read_csv(\"Resources/IA_Data_1.csv\")\n",
    "ind1=df1.iloc[0,:]\n",
    "df1=df1.iloc[1:,:].reset_index()\n",
    "\n",
    "tind1=['GEO.id','GEO.id2','GEO.display-label']\n",
    "tname1=[\"ID\",\"ID2\",\"Geography\"]\n",
    "name=[[y,x] for x,y in zip(ind1[3:],ind1[3:].index) if \"2015\" in x]\n",
    "tname1.extend([x[1] for x in name])\n",
    "name1=tname1\n",
    "tind1.extend([x[0] for x in name])\n",
    "ind1=tind1\n",
    "l=len(\"Population Estimates (as of July 1) - 2015 - \")\n",
    "r=name1[0:3]\n",
    "r.extend([x[l:] for x in name1[3:]])\n",
    "name1=r\n",
    "name1\n",
    "\n",
    "df1=df1[ind1]\n",
    "####FOCUS On renaming\n",
    "df1.columns=name1\n",
    "\n",
    "for i in range(len(df1[\"Geography\"])):\n",
    "    l=len(df1.loc[i,'Geography'])\n",
    "    df1.loc[i,'Geography']=df1.loc[i,'Geography'][0:l-len(\" County, Iowa\")]\n",
    "print(\"--- DF1: %s seconds ---\" % (time.time() - start_time))\n",
    "\n",
    "#___DF2___\n",
    "start_time = time.time()\n",
    "df2=pd.read_csv(\"Resources/IA_Data_2.csv\")\n",
    "ind2=df2.iloc[0,:]\n",
    "df2=df2.iloc[1:,:]\n",
    "df2.columns=ind2\n",
    "df2=df2.reset_index()\n",
    "\n",
    "\n",
    "for i in range(len(df2[\"Geography\"])):\n",
    "    l=len(df2.loc[i,'Geography'])\n",
    "    df2.loc[i,'Geography']=df2.loc[i,'Geography'][0:l-len(\" County, Iowa\")]\n",
    "    \n",
    "print(\"--- DF2: %s seconds ---\" % (time.time() - start_time))\n",
    "\n",
    "#___DF3___\n",
    "start_time = time.time()\n",
    "df3=pd.read_csv(\"Resources/IA_Data_3.csv\")\n",
    "ind3=df3.iloc[0,:]\n",
    "df3=df3.iloc[1:,:]\n",
    "df3.columns=ind3\n",
    "df3=df3.reset_index()\n",
    "\n",
    "\n",
    "for i in range(len(df3[\"Geography\"])):\n",
    "    l=len(df3.loc[i,'Geography'])\n",
    "    df3.loc[i,'Geography']=df3.loc[i,'Geography'][0:l-len(\" County, Iowa\")]\n",
    "    \n",
    "print(\"--- DF3: %s seconds ---\" % (time.time() - start_time))\n",
    "\n",
    "\n",
    "#___DF4___\n",
    "start_time = time.time()\n",
    "df4=pd.read_csv(\"Resources/IA_Data_4.csv\")\n",
    "ind4=df4.iloc[0,:]\n",
    "df4=df4.iloc[1:,:]\n",
    "df4.columns=ind4\n",
    "df4=df4.reset_index()\n",
    "\n",
    "\n",
    "for i in range(len(df4[\"Geography\"])):\n",
    "    l=len(df4.loc[i,'Geography'])\n",
    "    df4.loc[i,'Geography']=df4.loc[i,'Geography'][0:l-len(\" County, Iowa\")]\n",
    "    \n",
    "print(\"--- DF4: %s seconds ---\" % (time.time() - start_time))\n",
    "\n",
    "#___DF5___\n",
    "start_time = time.time()\n",
    "df5=pd.read_csv(\"Resources/IA_Data_5.csv\")\n",
    "print(\"--- DF5: %s seconds ---\" % (time.time() - start_time))\n",
    "\n",
    "print (\"--- Total Time: %s seconds ---\"  % (time.time() - start_time2))"
   ]
  },
  {
   "cell_type": "code",
   "execution_count": null,
   "metadata": {
    "collapsed": false
   },
   "outputs": [],
   "source": []
  },
  {
   "cell_type": "code",
   "execution_count": 30,
   "metadata": {
    "collapsed": false
   },
   "outputs": [
    {
     "data": {
      "image/png": "[encoded data removed]",
      "text/plain": [
       "<matplotlib.figure.Figure at 0x118fd8590>"
      ]
     },
     "metadata": {},
     "output_type": "display_data"
    }
   ],
   "source": [
    "a=df.groupby([\"Zip Code\"])[\"Sale (Dollars)\"].sum().to_frame()\n",
    "b=df.groupby([\"Zip Code\"])[\"Store Number\"].nunique().to_frame()\n",
    "c=df.groupby([\"Zip Code\"]).agg(lambda x:\\\n",
    "                    (x[\"State Bottle Retail\"]-x[\"State Bottle Cost\"])*x[\"Bottles Sold\"])\n",
    "d=df.groupby([\"Zip Code\"])[\"State Bottle Cost\"].sum().to_frame()\n",
    "e=df.groupby([\"Zip Code\"])[\"State Bottle Retail\"].sum().to_frame()\n",
    "(a[\"Sale (Dollars)\"]/b[\"Store Number\"]).sort_values().hist(bins=35)\n",
    "plt.show()\n",
    "#c.sort_values().to_frame()"
   ]
  },
  {
   "cell_type": "markdown",
   "metadata": {},
   "source": [
    "Best Performing stores:\n",
    "    High Profits\n",
    "    Low Competition\n",
    "    Large Local Customer Base\n",
    "    \n",
    "Metrics:\n",
    "    Sales per store by Zipcode\n",
    "    Stores per Capita\n",
    "    Income \n",
    "    "
   ]
  },
  {
   "cell_type": "code",
   "execution_count": null,
   "metadata": {
    "collapsed": true
   },
   "outputs": [],
   "source": []
  },
  {
   "cell_type": "code",
   "execution_count": null,
   "metadata": {
    "collapsed": true
   },
   "outputs": [],
   "source": []
  },
  {
   "cell_type": "code",
   "execution_count": null,
   "metadata": {
    "collapsed": true
   },
   "outputs": [],
   "source": []
  },
  {
   "cell_type": "code",
   "execution_count": null,
   "metadata": {
    "collapsed": true
   },
   "outputs": [],
   "source": []
  },
  {
   "cell_type": "code",
   "execution_count": null,
   "metadata": {
    "collapsed": true
   },
   "outputs": [],
   "source": []
  },
  {
   "cell_type": "code",
   "execution_count": null,
   "metadata": {
    "collapsed": true
   },
   "outputs": [],
   "source": []
  }
 ],
 "metadata": {
  "anaconda-cloud": {},
  "kernelspec": {
   "display_name": "Python [default]",
   "language": "python",
   "name": "python2"
  },
  "language_info": {
   "codemirror_mode": {
    "name": "ipython",
    "version": 2
   },
   "file_extension": ".py",
   "mimetype": "text/x-python",
   "name": "python",
   "nbconvert_exporter": "python",
   "pygments_lexer": "ipython2",
   "version": "2.7.12"
  }
 },
 "nbformat": 4,
 "nbformat_minor": 1
}
