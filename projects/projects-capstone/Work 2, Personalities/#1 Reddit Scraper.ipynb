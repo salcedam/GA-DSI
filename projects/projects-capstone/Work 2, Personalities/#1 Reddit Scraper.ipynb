{
 "cells": [
  {
   "cell_type": "code",
   "execution_count": 5,
   "metadata": {
    "collapsed": false
   },
   "outputs": [],
   "source": [
    "\"\"\"I used the documentation in addition to the following video for help on this webscraping/API process:\n",
    "    https://www.youtube.com/watch?v=yexxcrPC7U8 \"\"\"\n",
    "\n",
    "import requests\n",
    "import BeautifulSoup\n",
    "import pandas as pd\n",
    "import numpy as np\n",
    "import matplotlib.pyplot as plt\n",
    "import seaborn as sns\n",
    "import praw\n",
    "import json\n",
    "import time\n",
    "import datetime\n",
    "import re\n",
    "import selenium\n",
    "import time\n",
    "from selenium import webdriver\n",
    "from selenium.webdriver.support.ui import WebDriverWait\n",
    "from selenium.webdriver.support.select import Select\n",
    "from IPython.core.display import HTML\n",
    "\n",
    "driver = webdriver.PhantomJS(executable_path='/Users/thomas/Downloads/phantomjs-2.1.1-macosx/bin/phantomjs')\n",
    "driver.set_window_size(300, 200) \n",
    "\n",
    "%matplotlib inline"
   ]
  },
  {
   "cell_type": "markdown",
   "metadata": {},
   "source": [
    "## The below section is for reddit scraping"
   ]
  },
  {
   "cell_type": "code",
   "execution_count": 6,
   "metadata": {
    "collapsed": true
   },
   "outputs": [],
   "source": [
    "def get_replies(comment, reply_list):\n",
    "    \"\"\" recursive function that goes through the reply tree of a comment \"\"\"\n",
    "    reply_list.append({\"id\": comment.id, \"comment\": comment.body})\n",
    "    if len(comment._replies) > 0:\n",
    "        for r in comment._replies:\n",
    "            get_replies(r, reply_list)\n",
    "    return reply_list"
   ]
  },
  {
   "cell_type": "code",
   "execution_count": 20,
   "metadata": {
    "collapsed": false
   },
   "outputs": [],
   "source": []
  },
  {
   "cell_type": "code",
   "execution_count": null,
   "metadata": {
    "collapsed": false
   },
   "outputs": [],
   "source": []
  },
  {
   "cell_type": "code",
   "execution_count": null,
   "metadata": {
    "collapsed": false
   },
   "outputs": [],
   "source": []
  },
  {
   "cell_type": "code",
   "execution_count": null,
   "metadata": {
    "collapsed": false,
    "scrolled": false
   },
   "outputs": [
    {
     "name": "stdout",
     "output_type": "stream",
     "text": [
      "\n",
      "71\n",
      "\n",
      "Starting Collection from /r/pcmasterrace\n"
     ]
    }
   ],
   "source": [
    "df=pd.read_csv('Top Subreddits.csv')\n",
    "subreddit_list=[x for x in df['Reddit']]\n",
    "\n",
    "\n",
    "###\n",
    "\n",
    "Number_of_Posts=100\n",
    "Number_of_Comments=4\n",
    "\n",
    "###\n",
    "\n",
    "\n",
    "for i in range(71,len(subreddit_list)):\n",
    "    print \n",
    "    print i\n",
    "    print \n",
    "    count=0\n",
    "    current_time=time.time()\n",
    "    print \"Starting Collection from \"+subreddit_list[i]\n",
    "    subreddit_posts={}\n",
    "    json_name='/Users/thomas/GA-DSI/projects/projects-capstone/Work 2, Personalities/Subreddit Data/'\\\n",
    "                        +subreddit_list[i][3:]+'.json'\n",
    "    info_for_request='get top '+str(Number_of_Posts)+' posts w/ top '+str(Number_of_Comments)+\\\n",
    "                        ' comments and children comments from '+subreddit_list[i]+\\\n",
    "                        \"for Capstone project at General Assembly's DSI program by User: dingdong1111\"\n",
    "    r = praw.Reddit(user_agent=info_for_request)\n",
    "    r.login('dingdong1111', '01001759',disable_warning=True)\n",
    "    posts = r.get_subreddit(subreddit_list[i][3:]).get_top_from_year(limit=Number_of_Posts)\n",
    "    for post in posts:\n",
    "        count+=1\n",
    "        post_comments=[]\n",
    "        head_comments=[]\n",
    "        \n",
    "        post_id=post.id\n",
    "        post_title=post.title\n",
    "        post_score=post.score\n",
    "        post_url=post.url\n",
    "        post_date=datetime.datetime.fromtimestamp(post.created)\n",
    "#         post_author=post.author\n",
    "        \n",
    "        submission = r.get_submission(submission_id=post_id)\n",
    "        submission.replace_more_comments(limit=Number_of_Comments, threshold=0)\n",
    "        for comment in submission.comments:\n",
    "            \"\"\" loops through all comments to submission \"\"\"\n",
    "            x = []  # array that holds the comment and all replies\n",
    "            # get all replies and append it to our array for writing to file\n",
    "            post_comments.append(get_replies(comment, x))\n",
    "        for comment in submission.comments:\n",
    "            head_comments.append([comment.score,comment.body])\n",
    "            \n",
    "        if count%20==0:\n",
    "            print \"  Finished\",count,\"Out of\",Number_of_Posts\n",
    "            print \"    Time Elapsed:\",(time.time()-current_time)/60.,\"minutes\"\n",
    "        subreddit_posts[post_id]=[post_title,str(post_date),post_score,post_url,head_comments,post_comments]\n",
    "    with open(json_name, 'w') as fp:\n",
    "        json.dump(subreddit_posts, fp)\n",
    "    \n",
    "    print \"Time Spent:\",(time.time()-current_time)/60.,\"minutes\"\n",
    "    print \"Finished Collection from r/\"+subreddit_list[i][3:]\n",
    "    print\n",
    "    "
   ]
  },
  {
   "cell_type": "code",
   "execution_count": null,
   "metadata": {
    "collapsed": true
   },
   "outputs": [],
   "source": [
    "df=pd.read_csv('Top Subreddits.csv')\n",
    "subreddit_list=[x for x in df['Reddit']]\n",
    "\n",
    "\n",
    "###\n",
    "\n",
    "Number_of_Posts=100\n",
    "Number_of_Comments=0\n",
    "\n",
    "###\n",
    "\n",
    "\n",
    "for i in range(57,len(subreddit_list)):\n",
    "    print \n",
    "    print i\n",
    "    print \n",
    "    count=0\n",
    "    current_time=time.time()\n",
    "    print \"Starting Collection from \"+subreddit_list[i]\n",
    "    subreddit_posts={}\n",
    "    json_name='/Users/thomas/GA-DSI/projects/projects-capstone/Work 2, Personalities/Subreddit Data/'\\\n",
    "                        +subreddit_list[i][3:]+'.json'\n",
    "    info_for_request='get top '+str(Number_of_Posts)+' posts w/ top '+str(Number_of_Comments)+\\\n",
    "                        ' comments and children comments from '+subreddit_list[i]+\\\n",
    "                        \"for Capstone project at General Assembly's DSI program by User: dingdong1111\"\n",
    "    r = praw.Reddit(user_agent=info_for_request)\n",
    "    r.login('dingdong1111', '01001759',disable_warning=True)\n",
    "    posts = r.get_subreddit(subreddit_list[i][3:]).get_hot_from_year(limit=Number_of_Posts)\n",
    "    for post in posts:\n",
    "        count+=1\n",
    "        post_comments=[]\n",
    "        head_comments=[]\n",
    "        \n",
    "        post_id=post.id\n",
    "        post_title=post.title\n",
    "        post_score=post.score\n",
    "        post_url=post.url\n",
    "        post_date=datetime.datetime.fromtimestamp(post.created)\n",
    "#         post_author=post.author\n",
    "        \n",
    "        submission = r.get_submission(submission_id=post_id)\n",
    "        submission.replace_more_comments(limit=Number_of_Comments, threshold=0)\n",
    "        for comment in submission.comments:\n",
    "            \"\"\" loops through all comments to submission \"\"\"\n",
    "            x = []  # array that holds the comment and all replies\n",
    "            # get all replies and append it to our array for writing to file\n",
    "            post_comments.append(get_replies(comment, x))\n",
    "        for comment in submission.comments:\n",
    "            head_comments.append([comment.score,comment.body])\n",
    "            \n",
    "        if count%20==0:\n",
    "            print \"  Finished\",count,\"Out of\",Number_of_Posts\n",
    "            print \"    Time Elapsed:\",(time.time()-current_time)/60.,\"minutes\"\n",
    "        subreddit_posts[post_id]=[post_title,str(post_date),post_score,post_url,head_comments,post_comments]\n",
    "    with open(json_name, 'w') as fp:\n",
    "        json.dump(subreddit_posts, fp)\n",
    "    \n",
    "    print \"Time Spent:\",(time.time()-current_time)/60.,\"minutes\"\n",
    "    print \"Finished Collection from r/\"+subreddit_list[i][3:]\n",
    "    print\n",
    "    "
   ]
  },
  {
   "cell_type": "code",
   "execution_count": null,
   "metadata": {
    "collapsed": true
   },
   "outputs": [],
   "source": [
    "# for i in range(,len(user_list)):\n",
    "    current_time=time.time()\n",
    "    print \"Starting Collection from user %i out of %s users\" %i, %len(user_list) \n",
    "    user_info={}\n",
    "    json_name='/Users/thomas/GA-DSI/projects/projects-capstone/Work 2, Personalities/User Data/'\\\n",
    "                        +user_list[i]+'.json'\n",
    "    info_for_request='get info on user'+str(user_list[i])+\\\n",
    "                        'posts, likes, and dislikes'\\\n",
    "                        \"for Capstone project at General Assembly's DSI program by User: dingdong1111\"\n",
    "    r = praw.Reddit(user_agent=info_for_request)\n",
    "    r.login('dingdong1111', '01001759',disable_warning=True)\n",
    "\n",
    "    user=r.get_redditor(user_list[i])\n",
    "    comments=[]\n",
    "    liked=[]\n",
    "    disliked=[]\n",
    "    submitted=[]\n",
    "    for x in user.get_comments(limit=None,time='All'):\n",
    "        comments.append(x) #Get scores if possible\n",
    "    for x in user.get_liked():\n",
    "        liked.append(x)\n",
    "    for x in user.get_disliked():\n",
    "        disliked.append(x)\n",
    "    for x in user.get_submitted():\n",
    "        submitted.append(x)\n",
    "\n",
    "    if i%20==0:\n",
    "            print \"  Finished\",count,\"Out of\",len(user_list)\n",
    "            print \"    Time Elapsed:\",(time.time()-current_time)/60.,\"minutes\"\n",
    "    user_info[user_list[i]]=[comments,liked,disliked,submitted]\n",
    "    with open(json_name, 'w') as fp:\n",
    "        json.dump(user_info, fp)\n",
    "    \n",
    "    print \"Time Spent:\",(time.time()-current_time)/60.,\"minutes\"\n",
    "    print \"Finished Collection from r/\"+subreddit_list[i][3:]\n",
    "    print"
   ]
  },
  {
   "cell_type": "code",
   "execution_count": null,
   "metadata": {
    "collapsed": true
   },
   "outputs": [],
   "source": []
  },
  {
   "cell_type": "code",
   "execution_count": null,
   "metadata": {
    "collapsed": true
   },
   "outputs": [],
   "source": []
  },
  {
   "cell_type": "code",
   "execution_count": null,
   "metadata": {
    "collapsed": false
   },
   "outputs": [],
   "source": []
  },
  {
   "cell_type": "code",
   "execution_count": null,
   "metadata": {
    "collapsed": false
   },
   "outputs": [],
   "source": []
  },
  {
   "cell_type": "code",
   "execution_count": null,
   "metadata": {
    "collapsed": false
   },
   "outputs": [],
   "source": []
  },
  {
   "cell_type": "code",
   "execution_count": null,
   "metadata": {
    "collapsed": false
   },
   "outputs": [],
   "source": []
  },
  {
   "cell_type": "code",
   "execution_count": null,
   "metadata": {
    "collapsed": false
   },
   "outputs": [],
   "source": []
  },
  {
   "cell_type": "code",
   "execution_count": null,
   "metadata": {
    "collapsed": false
   },
   "outputs": [],
   "source": []
  },
  {
   "cell_type": "code",
   "execution_count": null,
   "metadata": {
    "collapsed": true
   },
   "outputs": [],
   "source": []
  },
  {
   "cell_type": "code",
   "execution_count": null,
   "metadata": {
    "collapsed": true
   },
   "outputs": [],
   "source": []
  },
  {
   "cell_type": "code",
   "execution_count": null,
   "metadata": {
    "collapsed": true
   },
   "outputs": [],
   "source": []
  },
  {
   "cell_type": "code",
   "execution_count": null,
   "metadata": {
    "collapsed": true
   },
   "outputs": [],
   "source": []
  },
  {
   "cell_type": "code",
   "execution_count": null,
   "metadata": {
    "collapsed": true
   },
   "outputs": [],
   "source": []
  },
  {
   "cell_type": "code",
   "execution_count": null,
   "metadata": {
    "collapsed": true
   },
   "outputs": [],
   "source": []
  },
  {
   "cell_type": "code",
   "execution_count": null,
   "metadata": {
    "collapsed": true
   },
   "outputs": [],
   "source": []
  }
 ],
 "metadata": {
  "anaconda-cloud": {},
  "kernelspec": {
   "display_name": "Python [default]",
   "language": "python",
   "name": "python2"
  },
  "language_info": {
   "codemirror_mode": {
    "name": "ipython",
    "version": 2
   },
   "file_extension": ".py",
   "mimetype": "text/x-python",
   "name": "python",
   "nbconvert_exporter": "python",
   "pygments_lexer": "ipython2",
   "version": "2.7.12"
  }
 },
 "nbformat": 4,
 "nbformat_minor": 1
}
