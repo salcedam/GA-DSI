{
 "cells": [
  {
   "cell_type": "code",
   "execution_count": 10,
   "metadata": {
    "collapsed": false
   },
   "outputs": [],
   "source": [
    "import pandas as pd\n",
    "import numpy as np\n",
    "import seaborn as sns\n",
    "import re\n",
    "import pprint\n",
    "\n",
    "import matplotlib.pyplot as plt\n",
    "%matplotlib inline"
   ]
  },
  {
   "cell_type": "code",
   "execution_count": 46,
   "metadata": {
    "collapsed": false
   },
   "outputs": [],
   "source": [
    "subreddit_names=pd.read_csv('Top Subreddits.csv')\n",
    "subreddit_list=['Subreddit Data/'+x[3:]+'.json' for x in subreddit_names['Reddit']]\n",
    "df=pd.read_json(subreddit_list[0])"
   ]
  },
  {
   "cell_type": "code",
   "execution_count": 52,
   "metadata": {
    "collapsed": true
   },
   "outputs": [],
   "source": [
    "top_post_info=[]"
   ]
  },
  {
   "cell_type": "code",
   "execution_count": 57,
   "metadata": {
    "collapsed": false
   },
   "outputs": [
    {
     "data": {
      "text/plain": [
       "'Subreddit Data/pokemon.json'"
      ]
     },
     "execution_count": 57,
     "metadata": {},
     "output_type": "execute_result"
    }
   ],
   "source": [
    "subreddit_list[77]"
   ]
  },
  {
   "cell_type": "markdown",
   "metadata": {},
   "source": [
    "Let's also get the nouns in the title; we can check to see to recurring nouns for 'memes'"
   ]
  },
  {
   "cell_type": "code",
   "execution_count": 56,
   "metadata": {
    "collapsed": false
   },
   "outputs": [
    {
     "ename": "ValueError",
     "evalue": "Expected object or value",
     "output_type": "error",
     "traceback": [
      "\u001b[0;31m---------------------------------------------------------------------------\u001b[0m",
      "\u001b[0;31mValueError\u001b[0m                                Traceback (most recent call last)",
      "\u001b[0;32m<ipython-input-56-b3c547fca305>\u001b[0m in \u001b[0;36m<module>\u001b[0;34m()\u001b[0m\n\u001b[1;32m      1\u001b[0m \u001b[0;32mfor\u001b[0m \u001b[0msubreddit\u001b[0m \u001b[0;32min\u001b[0m \u001b[0msubreddit_list\u001b[0m\u001b[0;34m[\u001b[0m\u001b[0;36m77\u001b[0m\u001b[0;34m:\u001b[0m\u001b[0;34m]\u001b[0m\u001b[0;34m:\u001b[0m\u001b[0;34m\u001b[0m\u001b[0m\n\u001b[1;32m      2\u001b[0m     \u001b[0mtop_posts\u001b[0m\u001b[0;34m=\u001b[0m\u001b[0;34m[\u001b[0m\u001b[0;34m]\u001b[0m\u001b[0;34m\u001b[0m\u001b[0m\n\u001b[0;32m----> 3\u001b[0;31m     \u001b[0msubreddit_df\u001b[0m\u001b[0;34m=\u001b[0m\u001b[0mpd\u001b[0m\u001b[0;34m.\u001b[0m\u001b[0mread_json\u001b[0m\u001b[0;34m(\u001b[0m\u001b[0msubreddit\u001b[0m\u001b[0;34m)\u001b[0m\u001b[0;34m\u001b[0m\u001b[0m\n\u001b[0m\u001b[1;32m      4\u001b[0m     \u001b[0;32mfor\u001b[0m \u001b[0mpost\u001b[0m \u001b[0;32min\u001b[0m \u001b[0msubreddit_df\u001b[0m\u001b[0;34m.\u001b[0m\u001b[0mcolumns\u001b[0m\u001b[0;34m:\u001b[0m\u001b[0;34m\u001b[0m\u001b[0m\n\u001b[1;32m      5\u001b[0m         \u001b[0mcomments\u001b[0m\u001b[0;34m=\u001b[0m\u001b[0;34m[\u001b[0m\u001b[0;34m]\u001b[0m\u001b[0;34m\u001b[0m\u001b[0m\n",
      "\u001b[0;32m/Users/thomas/anaconda/lib/python2.7/site-packages/pandas/io/json.pyc\u001b[0m in \u001b[0;36mread_json\u001b[0;34m(path_or_buf, orient, typ, dtype, convert_axes, convert_dates, keep_default_dates, numpy, precise_float, date_unit, encoding, lines)\u001b[0m\n\u001b[1;32m    232\u001b[0m         obj = FrameParser(json, orient, dtype, convert_axes, convert_dates,\n\u001b[1;32m    233\u001b[0m                           \u001b[0mkeep_default_dates\u001b[0m\u001b[0;34m,\u001b[0m \u001b[0mnumpy\u001b[0m\u001b[0;34m,\u001b[0m \u001b[0mprecise_float\u001b[0m\u001b[0;34m,\u001b[0m\u001b[0;34m\u001b[0m\u001b[0m\n\u001b[0;32m--> 234\u001b[0;31m                           date_unit).parse()\n\u001b[0m\u001b[1;32m    235\u001b[0m \u001b[0;34m\u001b[0m\u001b[0m\n\u001b[1;32m    236\u001b[0m     \u001b[0;32mif\u001b[0m \u001b[0mtyp\u001b[0m \u001b[0;34m==\u001b[0m \u001b[0;34m'series'\u001b[0m \u001b[0;32mor\u001b[0m \u001b[0mobj\u001b[0m \u001b[0;32mis\u001b[0m \u001b[0mNone\u001b[0m\u001b[0;34m:\u001b[0m\u001b[0;34m\u001b[0m\u001b[0m\n",
      "\u001b[0;32m/Users/thomas/anaconda/lib/python2.7/site-packages/pandas/io/json.pyc\u001b[0m in \u001b[0;36mparse\u001b[0;34m(self)\u001b[0m\n\u001b[1;32m    300\u001b[0m \u001b[0;34m\u001b[0m\u001b[0m\n\u001b[1;32m    301\u001b[0m         \u001b[0;32melse\u001b[0m\u001b[0;34m:\u001b[0m\u001b[0;34m\u001b[0m\u001b[0m\n\u001b[0;32m--> 302\u001b[0;31m             \u001b[0mself\u001b[0m\u001b[0;34m.\u001b[0m\u001b[0m_parse_no_numpy\u001b[0m\u001b[0;34m(\u001b[0m\u001b[0;34m)\u001b[0m\u001b[0;34m\u001b[0m\u001b[0m\n\u001b[0m\u001b[1;32m    303\u001b[0m \u001b[0;34m\u001b[0m\u001b[0m\n\u001b[1;32m    304\u001b[0m         \u001b[0;32mif\u001b[0m \u001b[0mself\u001b[0m\u001b[0;34m.\u001b[0m\u001b[0mobj\u001b[0m \u001b[0;32mis\u001b[0m \u001b[0mNone\u001b[0m\u001b[0;34m:\u001b[0m\u001b[0;34m\u001b[0m\u001b[0m\n",
      "\u001b[0;32m/Users/thomas/anaconda/lib/python2.7/site-packages/pandas/io/json.pyc\u001b[0m in \u001b[0;36m_parse_no_numpy\u001b[0;34m(self)\u001b[0m\n\u001b[1;32m    517\u001b[0m         \u001b[0;32mif\u001b[0m \u001b[0morient\u001b[0m \u001b[0;34m==\u001b[0m \u001b[0;34m\"columns\"\u001b[0m\u001b[0;34m:\u001b[0m\u001b[0;34m\u001b[0m\u001b[0m\n\u001b[1;32m    518\u001b[0m             self.obj = DataFrame(\n\u001b[0;32m--> 519\u001b[0;31m                 loads(json, precise_float=self.precise_float), dtype=None)\n\u001b[0m\u001b[1;32m    520\u001b[0m         \u001b[0;32melif\u001b[0m \u001b[0morient\u001b[0m \u001b[0;34m==\u001b[0m \u001b[0;34m\"split\"\u001b[0m\u001b[0;34m:\u001b[0m\u001b[0;34m\u001b[0m\u001b[0m\n\u001b[1;32m    521\u001b[0m             decoded = dict((str(k), v)\n",
      "\u001b[0;31mValueError\u001b[0m: Expected object or value"
     ]
    }
   ],
   "source": [
    "for subreddit in subreddit_list:\n",
    "    post_comments=[]\n",
    "    subreddit_df=pd.read_json(subreddit)\n",
    "    for post in subreddit_df.columns:\n",
    "        comments=[]\n",
    "        post_type=[]\n",
    "        for x in re.findall(r\"(u'comment': )(.*)|(\\n*)(,\\n\\s*u'id': )\",pprint.pformat(subreddit_df.loc[5,post])):\n",
    "            if \"u'id': u\" in x[1]:\n",
    "                comments.append(x[1][:-18])\n",
    "            else:\n",
    "                comments.append(x[1][:])\n",
    "        post_comments.append(comments)\n",
    "        for x in df.loc[3,post].split('.')[-1].split('/')[0]:\n",
    "            post_type.append(x)\n",
    "    top_post_info.append([post_type,top_posts])"
   ]
  },
  {
   "cell_type": "code",
   "execution_count": 69,
   "metadata": {
    "collapsed": false
   },
   "outputs": [
    {
     "data": {
      "text/plain": [
       "[[6314,\n",
       "  u'One thing most people don\\'t suspect is Rogue Access Points, for wifi you set up an access point using your own insecure protocols and you put it at a mall and call it \"Free wifi\" or \"Starbucks\" and people when connect you can steal session cookies, personal information etc.\\n\\nMost people just connect to any wifi point with the strongest signal or unprotected.'],\n",
       " [5926,\n",
       "  u'Pick up people\\'s phones when they\\'re not looking and \"hack\" into their Facebook accounts in order to write on their wall \"I\\'m gay\". Hackers have no respect.'],\n",
       " [4611,\n",
       "  u\"Whenever people ask me what the danger behind hackers is, i bring up Stuxnet. This was a virus written by 'some' government agencies which was specifically developed to destroy certain centrifuges which were used to enrich radioactive material in Iran.\\n\\nThat on itself is not that impressive, anybody who can get some form of access to these centrifuges can tamper with them in one way or another to break them.\\n\\nThe impressive, and dangerous, aspect of Stuxnet is the way it got to the centrifuges and how it hid throughout the whole world, looming until it finally infected the right system and could jump into action.\\n\\nIt hid on thousands and thousands of systems, infecting more one by one, hiding for any kind of anti-virus system you could imagine, being controlled remotely and updated with new code through command and control systems. Again, on itself it is not that impressive, 100s of botnets do this. But i still find Stuxnet one of the prime example of Cyber warfare. It hid itself by thinking of every little detail. Any tool that could be used to detect file changes, was infiltrated and deliberately altered in such a way that whenever it checked a file that Stuxnet infected, it would return a valid ok reply instead of an error. \\n\\nAfter infecting thousands of systems, it finally made it into the centrifuge control system (which was not connected to internet, btw) in Iran which used that specific version of centrifuges they wanted to destroy and did its thing (again fooling/avoiding any control mechanism which verified file/memory/... structure by injecting specific hacks in each control mechanism) and destroyed the centrifuges by just alternating the speed of the centrifuges by a tiny amount.\\n\\nEventually of course, it got caught and a lot of research has been done on Stuxnet. Showing us what a set of genius hackers can accomplish. \\n\\nIt is scary, it is dangerous, it should serve as a warning for anybody thinking IT security is ahead of the game. It is not, far from it. If it comes down to it, your systems are unsafe and open to whomever really want access. You are just lucky nobody, except for some simple criminals who are looking for some simple money or basic chaos, are really interested in your systems or information.\\n\\nThere are several white papers about Stuxnet (for instance [the Symantec one](http://www.symantec.com/content/en/us/enterprise/media/security_response/whitepapers/w32_stuxnet_dossier.pdf) ), and they are worth the read if you want to be amazed by what hackers can create.\"],\n",
       " [4164, u'[deleted]'],\n",
       " [3824,\n",
       "  u'That \"smart\" refrigerator, toaster, dildo? Hackable. And due to space limitations (where the firmware is stored), possibly not entirely fixable. \\n\\nThat being said, amazing advances are being made in the field of teledildonics. '],\n",
       " [3189,\n",
       "  u'My father was a vulnerability analyst for the DoD for two decades. I remember him telling me of one instance where DoD hackers accessed systems by using the EMF signals emitted from \"secured\" network cables that were laying close to unsecured network cables. Essentially, they were picking up the electro-magnetic signals (that all electronics emit) through a cable that was very near it, like a crude radio receiver. What\\'s even more insteresting is that not only could they steal data from the secured system, they could transmit signal into the secured system and do all manner of things. \\n\\nI\\'m not sure how it works (or how much of it is classified), but the DoD has some very sophisticated equipment and methods for hacking. '],\n",
       " [2989, u'Get the advertised speeds out of their Comcast connection.'],\n",
       " [2765,\n",
       "  u\"Computer security guy here. Typing from phone, so I'll keep it short.\\n\\n1. Gain full execution rights on your machine from a website by exploiting bugs in the browser or plugins. This can give them access to install malware and other nasty bits.\\n\\n2. Create exploit kits to do #1 across all platforms with relative ease.\\n\\n3. Do #1 and #2 from legitimate websites (even YouTube) by buying advertising space on them and embedding their exploit kits in the ads.\\n\\n4. EASILY bypass AV using packing and polymorphic code. Detection is dead, and attackers know it.\\n\\n5. Do the same as #1, but from a document, spreadsheet, or PDF.\\n\\n6. Persist across reformats using bootkits.\\n\\n7. Propagate into virtual machines.\\n\\n8. Propagate out of virtual machines.\\n\\nThere's a ton more, but this is the main stuff that most people should be worried about.\"],\n",
       " [2337,\n",
       "  u\"it's been 3 years but there was this journalist on Wired whose whole digital life was taken over by a hacker.\\n\\nhttp://www.wired.com/2012/08/apple-amazon-mat-honan-hacking/\\n\\nIt was published at the time but I am not sure if people reflected on it.\"],\n",
       " [1744, u'Kill a whole bag of Doritos in less than an hour'],\n",
       " [1590,\n",
       "  u'Keep their mouths shut, not boast.\\n\\nEdit: yay! Most up voted comment, now I just need gold...'],\n",
       " [1561,\n",
       "  u'A good interpretation of \"best computer hackers\" would be the NSA (and possibly the best state sponsored Chinese and Russian groups as well).\\n\\nAmong the most recent revelations of the \"Equations group\" (NSA) was that they have malware that hides in the firmware of your Hard Drive.  Not the regular place where files/folders are kept, but the internal storage of the device that tells your hard drive how to function and interact with the rest of your computer.  On boot, it infects the operating system.  So what happens if you reinstall your OS?  You\\'re still infected.  What if you try to flash your hard drive\\'s firmware back to something from the manufacturer?  Well, the NSA\\'s firmware loaded on the device is responsible for accepting the update, so chances are it will ignore any attempts to change it.  Basically, your hard drive is permanently a source of infection.\\n\\nAnd while most people have heard of Stuxnet, it seems like the the follow-up malware written by the same authors haven\\'t received as much attention in the public.  [Duqu, Flame, and Gauss](https://www.concise-courses.com/security/stuxnet-flame-gauss-duqu/) are in the same family, and they are pretty nasty.  They have remote kill switches that will leave no trace, which is what you would expect of state level espionage.  Gauss has an [encrypted payload where the key is the target computer\\'s configuration](http://www.wired.com/2012/08/gauss-mystery-payload/) - meaning that it won\\'t activate (and no one knows what it really is meant to do) unless it infects its intended target.  To my knowledge, no one in the public knows what it will attack or what damage it has caused.'],\n",
       " [1264,\n",
       "  u\"Due to a security bug and loophole that was found in android not long ago (I'm quite sure it got patched recently) a hacker could gain full access to your phone (from reading your emails and taking all your passwords to making it ring, changing settings, turning it off and back on etc.) bye SENDING an MMS to your phone. All your phone had to do was receive the text and they had full access.\\n\\nIt was called 'StageFright'\\n\\nEdited: added info\"],\n",
       " [1108,\n",
       "  u'A few months ago in the news there was a white hat hacker, basically someone that tries to find bugs and let the company know about them before others with malicious intent can, anyway this gentleman was not getting the response he wanted from the company, or any response at all so to bring it to light he live tweeted from an airplane how he was able to get into the flight control systems and control the direction, and speed of the aircraft mid flight.\\nSide Note: The FBI arrested him when they landed.\\n Link Here http://www.cnn.com/2015/05/17/us/fbi-hacker-flight-computer-systems/'],\n",
       " [997,\n",
       "  u'You can literally buy a idiot-proof tutorial in the darknet to prepare a usb-stick, walk up to a specific type of ATM (that is still used), stick the drive in the maintenance usb port and make it pay out whatever you want.\\n\\n/edit: many people ask me how to get to into the darknet, so i will just drop this here and walk away whistling:\\n\\n/r/DarkNetMarketsNoobs \\n/r/DarkNetMarkets \\n/r/darknetplan \\n/r/DarkNetDeals '],\n",
       " [776,\n",
       "  u'Social engineering is a skill that can be used to victimize naive people (because let\\'s be honest, human nature is to trust).\\n\\nFound a USB stick laying on the ground? What\\'s the first thing you do? You plug it in to your own computer. But it was planted by an adversary and has autorun software that drops a remote access trojan onto your system.\\n\\nDo you update your systems OR run weird software? Odds are there is at least one vulnerability on your system that an attacker can find and use a free distro of BackTrack or Kali Linux to exploit your machine and gain access.\\n\\nI could go on and on. Source: I do this full-time for the government.\\n\\nBest advice I can give on getting into the field is:\\n-learn at least one programming language, not necessarily to expert level, but to learn about logical/control flow\\n-take a SANS course, preferably GCIH or GCIA. They\\'re going to be difficult for people new to the field, though, so you might want to take an intro course at a community college first.\\n\\nI\\'ve been doing this for over 10 years, and adversaries are just getting better and more sophisticated. The best advice I can give (besides buy stock in info security companies) is, if you don\\'t want something digital to be compromised, don\\'t put it online in the first place. Don\\'t store things in the \"cloud\" that don\\'t need to be there. Know what your smartphone is doing (such as storing/sending your location). Think like an adversary - what could a bad person do with this **PLETHORA** of information that is now available in this age of technology?'],\n",
       " [664,\n",
       "  u\"I've done a fair amount of work in cybersecurity consulting, and what I think is far more terrifying than some of the more complex attacks out there is how common some other attack vectors are. So many organizations are completely unsecured and lack even basic protection mechanisms. That scares me a lot more than ultra-complex 0-days do. \"],\n",
       " [495, u'They can fuck up your Uranium enrichment centrifuges,'],\n",
       " [411,\n",
       "  u\"I am not a hacker, far from it. However I did write a script that does well over 90% of my job for me. I outperformed all other people in my department; they gave me a promotion and my own office. I now get all the work done that they used to have to hire 4-5 people to do, and all the work I get given, I can easily do in 10-15 minutes a day, but I am there for 9 hours. My boss thinks I am a workhorse and I sit on my PC all day, browsing reddit, watching netflix, youtube and listening to audiobooks.\\n\\nIf people were more IT literate most office jobs would be obsolete.\\n\\nEdit: Wow... I got a LOT of direct messages asking me what I do and how I do it, people wanting to do the same for their job as well. Also quite a few messages from others who are in the same situation as me, and told me tips on keeping it to myself as they also have a sweet gig. Also, a hell of a lot of people asking me to help set up similar things for their own Job. I actually have no formal training in programming or anything like that, I am all self-taught and my best friend who is a software developer who helped me get the whole thing working for the ever so expensive price of a pint of beer, I did do the majority of leg work to get it up and running but it was only doing about half my workload and he finished it off to get it to where it is now where it requires almost no input from me. That friend is also the ONLY person who knows about it, and he has been my best friend for 20 years+\\n\\n\\nThe company I work for is incredibly small, less than 15 employees in the UK. Larger companies than the one I work for more than likely already use programs similar to the one I use, and they more than likely layed off half their work force with introductions of programs like the one I use. The company I work for rents out rooms and equipment that independent contractors use in several different properties all in the south east of the UK. Sorry but I won't get more specific than that, I have a VERY sweet gig here, earn a great living essentially having fun at my PC. We have no work network or anything like that in my office and the network and system access is not closed and we have full access to the internet. I also double as the head of IT for my office as pretty much everyone else I work with is over the age of 50 and IT illiterate. The extent of me fixing any computers in my office boils down to me turning things off and on again or installing virus scanner software\\u2019s and they think I am a genius for doing it. \\n\\nWhat the program does: Basically, it reads my emails for me. Well, it finds certain key words and figures, automatically enters them into a spreadsheet, which then automatically updates a 'diary' I have of all the contractors, when they work, how much they are working, what they are renting from us ETC. It then works out what to invoice them, and what they have to pay us, and automatically formulates a response working out all the tax/rent/bills they need to pay and gives me a number in what I need to pay them. Someone in the comments actually guessed pretty much exactly how my program works and summed it up pretty well once he know basically what my job is, and I strongly suspect that he has managed to automate a large portion of his job as well. I use autohotkey, which I run through Citrix using my own OCR. \\n\\nYes I have back-ups! 4 at least! I haven't actually 'done' my job in several years; if the program got lost or corrupted I would probably have to re learn my job (which is admittedly not all that complicated, just very dull and time consuming). Also, to access the program, it doesn't pop up on my screen and ask me for a password. If I did that and someone had to use my computer when I was sick or on holiday and something jumped up asking for a password, which would raise several difficult to answer questions. \\n\\nAs for the people saying 'why don't you sell the program', is because I am positive that much larger companies already use programs like mine and have been doing so for years. If I offered to sell it to the guy who owns my company, he would realise that programs like mine exist, he could probably pay some student to whip up something very similar over a weekend and pay him cash in hand, then lay off half the people I work with. These people are my friends and I am in a management position now so I am the boss for most of them. I won't let my laziness cost them their job. \\n\\nAs for what I do with my day... well, it's pretty sweet. I make very good money with that I 'do'. I am able to support my family, pay bills and go on nice holidays a few times a year. I have a good pension with private healthcare. While when I get to work I play computer games, watch everything and anything on netflix, brows reddit and gaming forums etc. I watched Jessica Jones when it was relased on Netflix in a day and a half at work. I have spent most of my day today playing fallout 4. (I paid for the graphics card myself; I am not stupid enough to put that on the companies invoice).\\n\\n\"],\n",
       " [402, u'They can hack you back in time!'],\n",
       " [315, u'Push ups.\\n\\nNo one ever suspects that the IT guy can lift.'],\n",
       " [303,\n",
       "  u'If you delete system 32, your computer activates hidden features from  massages to handjobs!\\n\\nThe trade secret Microsoft DOESNT want you to know!'],\n",
       " [298,\n",
       "  u'The \"Darkode\" Radiolab podcast is interesting and goes into this. Part of it was basically 1. Take access of your computer. 2 Encrypt all your files so YOU can\\'t access them 3. Tell you to send money to x place using bitcoin in 7 days or delete everything off your computer.'],\n",
       " [275,\n",
       "  u\"Angelina Jolie and Jonny Lee Miller starred in a docudrama called [Hackers](https://www.youtube.com/watch?v=Ql1uLyuWra8) that you should check out.  It's a couple of years old now but it's widely considered to be the most accurate depiction of hacker culture and ability. \"],\n",
       " [266,\n",
       "  u\"I'd go with remotely turning off cars: http://www.wired.com/2015/07/hackers-remotely-kill-jeep-highway/\\n\\nI can imagine Swatting being a fun subject to explain to anyone tech-illiterate. \"],\n",
       " [248, u'Enhance'],\n",
       " [220,\n",
       "  u'Hello,\\n\\nI am the hacker known as \"4chan\"\\n\\nMost people don\\'t realize how easy it is to hack a system.\\n\\nIt\\'s pretty hard.\\n\\n*for you*\\n\\nSeriously though, when hackers want to hack, we mean it.\\n\\n[That\\'s when we go all out and break every system down.](http://i.imgur.com/iVHfwLc.gifv)'],\n",
       " [180,\n",
       "  u\"Hack into public companies, spy on their upcoming earnings, understand the stuff you're reading, purchase the right stock options and make shitloads of money. \\n\\nIt's not what they do, but what their potential best results are, which is big money.\\n\\nIt's may not be what you wanted, but I think this is more or less commonly done nowadays. I read about this recently, some people got caught, because they  were fucking morons, some Russians. I wonder how many out there do it, that are not morons. \"],\n",
       " [172,\n",
       "  u'The Stuxnet exploit was impressive. A bit of background for those who don\\'t know:\\n\\nMost automated process and manufacturing systems are controlled by PLCs (Programmable Logic Controllers). PLCs were invented in the late 1960\\'s for GM in order to facilitate model year changeovers more quickly. Before that, every automated circuit had to be physically wired to physical timers, relays, counters, and various other components. In order to make adjustments, the electrical panels would have to be re-wired. The PLC was revolutionary in that it was an industrial grade controller with I/O that could be programmed by people who weren\\'t programmers. From the first Modicon 084, an industry was created. Today, just about every piece of automated equipment is controlled by a PLC. It goes beyond just manufacturing into amusement parks (PLCs also control roller coasters), petrochemical, oil and gas, and even power generation. And power generation is where our story begins.\\n\\nBut first, we need to back up and talk about code. Most people, when they think about computer code, it\\'s something like this:\\n\\n    IF Something_Happens = 1 THEN\\n        DO_THIS = 1\\n    ELSE\\n        DO_OTHER_THING = 1\\n\\nPLC code is completely different. It looks more like this:\\n\\n           Something_Happens                        DO_THIS\\n    |-------------| |--------------------------------(   )-----|\\n    |      Something_Happens                     DO_OTHER THING|\\n    |-------------|/|--------------------------------(   )-----|\\n\\nSome of you might see the PLC code and it looks familiar. That PLC code is what\\'s known as \"ladder logic.\" It\\'s a graphical programming language where you build \"virtual circuits\" and you can change how the machine is controlled with a simple programming edit. Why use ladder logic in lieu of a more traditional language like BASIC? The reason is twofold. First, BASIC didn\\'t become common on computers until the mid-70s, so when the PLC first went online, computer programming was much more difficult. Second, the people who were programming the PLCs were used to looking at electrical schematics, so the bottom example made more sense to them than the top. As a result, GM didn\\'t have to train their electricians to be able to write computer code, since they were already familiar with ladder diagrams.\\n\\nLadder logic caught on and became the defacto standard PLC programming language. At first, security was not much of a concern. PLCs could be networked, but it was usually proprietary or the type of communication protocol that only PLCs used (Modbus being the most popular). But in the late 90\\'s, Ethernet began to take off, meaning PLCs could be hooked up to the entire plant network, making large, distributed systems possible. Two industrial Ethernet protocols arose: Ethernet/IP and Profinet. Profinet is most common in Europe and IIRC is backed by Siemens. Ethernet/IP is an ODVA standard is most common on American PLCs (Allen-Bradley being the most common). Ethernet/IP (the IP stands for \"Industrial Protocol,\" it\\'s NOT the same as TCP/IP) can work with any standard ethernet switch. Profinet requires special switches and network hardware. This is one reason that made Stuxnet so amazing.\\n\\nWhat is Stuxnet? Stuxnet was a worm that infiltrated Iranian nuclear power facilities. It implanted code that caused the centrifuges to spin at dangerous levels and ruin themselves, greatly sabotaging Iranian efforts to get nuclear power (or weapons, if you believe the hype). How it works is that it gets loaded on the \"patient zero\" PC and distributes itself throughout the network. It continuously scans for an installation of Siemens Step7 software (which is the programming software for Siemens S7 PLCs). If it finds it, it modifies the code of the software to install a rootkit on the PLC the next time the PC or laptop is connected to it.  The rootkit sends erronous commands to the ouputs, but it also (and this is the genius part) *covers its tracks* so when the programmer monitors the program live, it *looks* like everything is working correctly, even if it isn\\'t. For example, the PLC might be telling a motor to spin at 30 Hz. Stuxnet infects it, and sends out a command to the motor to spin at 90 Hz. But if you\\'re monitoring it with the Siemens software, it *tells you* the drive is spinning at 30 Hz, even though it isn\\'t. This is the first documented case of a PLC system being infiltrated from the internet and infected with a virus. The vast majority of computer hackers wouldn\\'t even know what to do with a PLC if they encountered one. The code and hardware architecture is so alien to most people in the IT and hacker realm, and only very specialized people with specific knowledge of how PLC systems work can do anything with it.\\n\\nBottom-line, Stuxnet required *very* intelligent people with a *very* specific knowledge set to pull off. I\\'m talking intelligence and knowledge that makes Anonymous look like your grandma trying to use a computer. The alarming thing is, they broke through on Profinet, which requires specialized hardware. The same thing could probably be done more easily on Ethernet/IP, which is  compatible with hardware you can get at Best Buy (though not recommended and any integrator worth his salt will use industrial-rated networking components). The most prevalent rumor is that this was an attack orchestrated by the US and Israeli governments. I think that\\'s pretty likely, considering the target and the amount of specific knowledge required.\\n\\nBut the point is, PLCs are one of those things that we have relied on for years without even realizing it. Almost everything you buy was made in part by automated equipment run by PLCs. They\\'re responsible for keeping power plants, water plants, oil refineries, sewage treatment plants, and a number of other points of infrastructure we take for granted running. Stuxnet was an emperor\\'s new clothes moment, because if a secure nuclear facility could be ruined by a virus, so could an oil refinery, or a water treatment plant. Most people don\\'t realize how utterly scary the implications of Stuxnet are. It was, essentially, the Hiroshima moment in the automation world.'],\n",
       " [167,\n",
       "  u'They can hack you back in time to Nazi Germany unless they accidentally hack too much time'],\n",
       " [164,\n",
       "  u'Getting finger prints of someone using photos \\nhttp://www.theguardian.com/technology/2014/dec/30/hacker-fakes-german-ministers-fingerprints-using-photos-of-her-hands\\n'],\n",
       " [154, u'Leave this comment without /u/supahmonkey knowing.'],\n",
       " [54,\n",
       "  u'Well if you go into some networks where they still use  non managed switches, you can take down an entire network just by plugging two ends of a network cable into the same switch. The cascading effect of a network loop is a spectacle to be seen. \\n\\nI have flow across the country three times this year for this issue. My Hackers seem to be mid forties moms who enter the workforce and tend to \"tidy up\" the rooms and if they see a network cable lying on the floor, why they find the nearest wall plate to put it in. '],\n",
       " [55,\n",
       "  u'I guess \"Hackers\" is kind of a broad term to use. We can get super technical with the stuff guys can do from home or we can get just plain clever using regular methods. \\n\\nCredit Card theft is interesting. You\\'ve probably heard of skimmers at ATMs and gas stations but those are the obvious ones who\\'ll get caught. Instead, writing your own keylogger that transmits info to a free cloud server and then running around from hotel to hotel and installing it as a startup service on the free lobby computers isn\\'t all that difficult (Your 14 year old can google how to do this).\\n\\nOnce you\\'ve got someone\\'s banking or credit card info they used on those PCs to check their balance while travelling - you use that to ship items to an anonymously registered PO box that you can check, or even just to a nearby neighbours house with a false name on it if you\\'re willing to watch for the mailman. Sell the goods, keep em, whatever, you\\'ve just stolen some cash from a hotel visitor without any Anti-virus or firewall software in the world stopping you because you\\'re not prolifically spreading your software like a traditional virus. You could use someone\\'s credit card to buy some cloud servers and use them to mine bitcoin, but I have a feeling this isn\\'t as secure as people think, and that there might be ways to trace that back to you. \\n\\nTechnical side of things - we\\'re still dealing with the same old problems. Browser plugins are on their way out as most browsers are starting to disable them as other tech picks up the slack (with html5 for video there\\'s no need for flash, etc) - but embedding scripts into video files, people are always sharing tv shows these days, images, downloading porn... even adverts that get loaded on Legitamit pages like Reddit are methods of mass exposure. If you find a browser exploit, and there\\'s always someone out there who knows something, then exploiting it through one of the above methods is most likely possible - where you can then get access to the appData folder for your browser they can put some nasty shit in your browsers startup that can basically do whatever they want, as long as they\\'ve coded it in before hand. \\n\\nThis might even be opening up remote access from abroad, and sending your public IP back to another server so they\\'ll know when you log onto the net and when they can listen in on what you\\'re doing.\\n\\nLike, all this stuff is possible, but the reality is that there\\'s far too few hackers of this level to monitor everyone, so the odds that a hacker has chosen you is minimal. There\\'s also the matter of getting caught; it\\'s one thing to be able to DO all this stuff, but there\\'s a decent amount of Risk it can come back on you, so you have to make sure what you\\'re getting out of it is worth the risk. Stealing credit card info to order a pizza now and then could mean years in Jail for a bit of food. \\n\\nThe trick isn\\'t to do something crazy, the methods are there. The real trick is to get away with it; \\'anonymity\\' these days is nothing like it used to be. '],\n",
       " [55,\n",
       "  u'I used to work at a computer retail store.  \\n\\nA regular would always buy the novality USB drives.  The ones that looked like pigs and sheep and daffy duck.  My co worker asked him why he always buys them.\\n\\nHe said he worked for a security firm and his job was to test how companys can be exploited.  Then he would write out ways to pervent such measures in the future.  \\n\\nHe would upload all sorts of nasty software on the USB drives then convertly leave them on desks in offices.  After a day or a month, someone would notice them.  Then curiosity did the rest. They would plug it in, then BAM! Infected.\\n\\nAlways thought that was interesting.   Little trojan horses.'],\n",
       " [21,\n",
       "  u\"This one is known, but some people might benefit from it: Flash drives out on the sidewalk or parking lot. You may be inclined to be a nice guy and find out if you can return it to the owner. Well, there's no name on it (who writes names on the drive? Most I've seen is a label for what content is on the drive). So you think about just plugging it into your computer and reading some files to see if you can find someone's name or pictures or something.\\n\\nBad news is, that flash drive wasn't lost. It was purposefully dropped there, waiting for someone to pick it up and do exactly that. Malware has instantly launched and has infected your system.\\n\\nIf you are on a company or school campus, bring any found flash drives to your IT department. They'll have equipment that is safer for them to test on - devices not connected to the internet, ones they will wipe routinely and don't contain sensitive information - and they can try to identify an owner or discard if it is an infected device.\"],\n",
       " [18,\n",
       "  u'Destroy infrastructure like dams, generators, power plants, etc. This isn\\'t just in the movies. It\\'s already been done a few times and our security in these areas is still inadequate. \\n\\nA hacker can access these systems, and issue commands that cause equipment operating at high temperatures, or high RPMs, or high pressure, to fall apart or blow up. At a minimum, the equipment is ruined, but there\\'s also a threat to anyone nearby.\\n\\nThis [demonstration in 2007](https://www.youtube.com/watch?v=fJyWngDco3g) was used to explain the severity of the threat - a massive generator is hacked, then given instructions that cause it to fall to pieces in about 2 minutes. \\n\\nhttps://en.wikipedia.org/wiki/Aurora_Generator_Test\\n\\nA lot of the critical infrastructure in our country has very weak protection - for example, computer systems that use the default straight-out-of-the-box password to access. Or passwords that are transmitted wirelessly in cleartext. \\n\\nThere\\'s an [excellent book about the Stuxnet virus](http://www.barnesandnoble.com/p/countdown-to-zero-day-kim-zetter/1116864204/2672373412445?st=PLA&sid=BNB_DRS_Marketplace+Shopping+greatbookprices_00000000&2sid=Google_&sourceId=PLGoP24106&k_clickid=3x24106) that has a chapter dedicated to this.\\n\\nThe famous virus Stuxnet, designed to slow down Iran\\'s nuclear program, accomplished this by issuing rogue instructions to centrifuges used to enrich uranium. By getting them to spin too fast or too slow, and closing safety valves, the attackers could do anything they wanted to the centrifuges... from making them appear to work poorly and inefficiently, to causing them to spin out of control and topple into their neighboring centrifuges (think of all of these [6 foot tall metal things](http://blog.nuclearsecrecy.com/wp-content/uploads/2012/06/2008-Iran-centrifuges-Natanz.jpg) whirling at 80,000 RPMS internally, getting unbalanced and whipping violently into their neighbors).\\n\\nAnother scary fact mentioned in this book -\\n\\nOccasionally hackers discover 0-day vulnerabilities, meaning new exploits that have never been seen or at least never been patched before. That\\'s nothing new. These vulnerabilities are virtually guaranteed to work for a while, until someone rushes to put out a fix. They\\'re rare, so attackers usually save these for something special.\\n\\nHowever Stuxnet used 4 of these exploits in a single attack. And apparently there\\'s plenty more where that came from. These exploits are sold openly, it\\'s not even technically illegal (except for americans to sell them to enemies of the state). And our own government is one of the buyers. You\\'d think they\\'d have an obligation to inform software companies of unpatches vulnerabilities, but instead we stockpile a collection of these so that we can use them for anonymous cyberwarfare. Read the book if this is sounding a bit \"conspiracy nut\". It\\'s documented and openly admitted. In fact some people run small businesses whose main stock and trade is selling exploits, 0-day and otherwise. '],\n",
       " [67, u'[deleted]'],\n",
       " [29,\n",
       "  u\"There is a search engine, that doesn't search for websites - but for computer systems online. If you understand the way these systems respond to requests, you can find very specific machines in very specific places. Anything from government routers with no passwords, to SCADA systems that allow you to directly interact with physical equipment like machinery, cooling systems, power stations, etc. \\n\\nTo put it mildly - Some hacker could search the IP address space of your country's entire national infrastructure (hospitals, military, public services, etc..) for vulnerable systems, exploit them and do anything they want - from modifying records, to re-routing network traffic to childish pranks. \\n\\nOr, they could just look at random webcams and eat doritos. It's a toss-up. \"],\n",
       " [35,\n",
       "  u\"Depends on what do you mean by best. Most valuable skill hackers have is probably espionage, simple gain of information which should be accessible to you without anyone knowing. If you mean most effective, I don't doubt that a skilled hacker could down a plane, luckily people with these skills usually don't have to resort to blind terrorism. Practically its more like industrial sabotage, of which [Stuxnet](https://en.wikipedia.org/wiki/Stuxnet) is a well known case. \"],\n",
       " [88,\n",
       "  u\"A fun thing that they do is having lots of zombie computers in their botnet. Many people don't even realize their computer is infected and committing illegal activity on behalf of the hacker.\\n\\n\\nAnother fun one I heard about is hackers that will encrypt your files once they get a hold of your computer and then charge you bitcoin to unencrypt them.\"],\n",
       " [12,\n",
       "  u'*reads thread*\\n\\n\\n*destroys laptop, smartphone, desktop, television, and toaster*'],\n",
       " [30,\n",
       "  u\"Actual employed hacker here. Wanted to chime in and point out that what many, many people don't realize is that it usually takes dozens of man hours to get an exploit to work even on just a single version of a single device. This means that all the hype and fear about hackers breaking into your smartphone, etc is pretty much unnecessary, unless you've pissed off some people with big budgets (aka governments)\\n\\nThat being said, we do some crazy amazing stuff. There's nothing like the feeling of finally landing code execution in a difficult target after weeks of work. It's like a drug. \\n\\nThe biggest threat to the average user is installing malicious software by mistake, pretty much anything else, you just aren't worth it.\"],\n",
       " [19,\n",
       "  u\"They can call you pretending to be microsoft personel and gain unrestricted access to your computer after you've opened the file they send you. True story, scary stuff. \"],\n",
       " [9, u\"You think that's air you're breathing right now?\"],\n",
       " [56,\n",
       "  u'When i read that Anonymus hacked banking accounts of the IS, I was happy..\\n\\nUntil i realized that they can probably hack every other banking account aswell..'],\n",
       " [37,\n",
       "  u'https://www.youtube.com/watch?v=tNPXoydz_zQ\\n\\nTLDW; A lot of scary stuff'],\n",
       " [27,\n",
       "  u'https://www.youtube.com/watch?v=-0ofQsAwF2I or\\nhttps://www.youtube.com/watch?v=hqKafI7Amd8\\ngoogle blackhat 2015 and defcon 2015 and also maybe kali linux,\\neverything is possible.'],\n",
       " [6, u'Post things with your own username.'],\n",
       " [6,\n",
       "  u'Let\\'s talk about what Google, etc., can do right now.\\n\\nEver used Google maps? Ever used location services? Great, Google now knows your home address, your daily routine, where your friends and family live, etc. Go ahead and look at your \"Maps\" app (I\\'m using Android), and tap \"Explore Timeline.\" There you go.\\n\\nCombine that with the fact that Google Chrome is the #1 internet browser, the fact that Google sells your information and makes a profit on the amount of data it can gather and analyze about people, the fact that they\\'re developing self-driving car technology, what exactly is there that you are hiding from Google? Can you name one thing, besides your own thoughts, beside the explicit details of conversations you have in real life (although there have been cases of voice recognition on phones being used to collect data) that Google doesn\\'t have access to?\\n\\nHackers break in to stuff. That\\'s what they do. If you have something digital, and you\\'re not a computer scientist taking every precaution, you\\'re probably vulnerable. The problem is we are creating such an amazingly fantastic target for hackers, and one day something is going to happen and we\\'ll all wake up and say \"holy shit.\" Something far beyond the scale of the Ashley Madison hack. Or Edward Snowden copy and pasting secret files onto a USB. \\n\\nSorry if that sounds \"tinfoil hat.\" Computers are amazing, but they\\'re a double edged sword.'],\n",
       " [7, u'I turn off projectors with my phone in class.'],\n",
       " [7, u'you mean the hacker known as 4chan?'],\n",
       " [18,\n",
       "  u'if you are running windows 7 and below and haven\\'t already disabled stickykeys, pressing a single key rapidly a half dozen times will bring up the sticky keys \"do you want to enable this\" window. Even at the login prompt. From there, you can open task manager and launch a command prompt. Once you have a command prompt window, if anyone has ever logged into that machine with an admin account that still has a valid kerberos ticket, you can use a simple command to copy that kerberos ticket to a different user account, or create a new user account that you know the username and password to, or disable all the other accounts. Saw a demonstration of the whole process at the last Microsoft Technet conference, took all of around 30 seconds. They\\'ve fixed it in windows 10 though.  '],\n",
       " [6,\n",
       "  u\"Cracking wifi passwords by listening to your computer's CPU: http://www.extremetech.com/extreme/173108-researchers-crack-the-worlds-toughest-encryption-by-listening-to-the-tiny-sounds-made-by-your-computers-cpu\\n\\nGovernment hackers created the Stuxnet worm that spread wildly through Iran. It went mostly undetected because it used several zero-day exploits. Using one zero-day exploit is unique, these are essentially bugs that no one else has ever found or used before, very difficult to find and very valuable from an intrusion perspective. The worm attacked the centrifuges that are used in Uranium enrichment and basically caused the machines to overheat while displaying everything was fine on the readouts.  The worm probably set back Iran's nuke program several years, without expending a single life.\\n\\nIn real terms it's probably just the fact that people can completely take over your computer or passively watch everything you do without even knowing about it or ever being found on a virus scan.\"],\n",
       " [6,\n",
       "  u\"Late to the party but I'll shoot anyway. The best hacker's can persuade people into giving them their information and access to their systems. Social engineering is one of the biggest tools a White Hat or Black Hat hacker can use.\"],\n",
       " [6, u'Hack the Gibson.'],\n",
       " [5,\n",
       "  u\"Ultra sonic Sound Hacking is starting to catch on. It's actually kind of scary if you think about because it sounds a bit futuristic in some ways but it's definitely very real and very clever. Currently it's being used and developed in ad industry to monitor the actions, habits, preferences of users on their phones, laptops, pcs, etc. Apps that have this monitoring function in use are willingly embedded into the app and runs in the background. If you give the app access to your mic, it can monitor ultrasonic waves other devices in your house may be emitting and learn information about you this way. There is absolutely no way to detect it because there is an non-disclosure agreement between the app makers and companies like Silverpush who provide the exploit. You could be watching an ad on TV, or on youtube and it could be emitting an ultrasonic sound that can be picked up and monitored by an infected device. What sucks is that there are at least a dozen marketing companies whose apps are making use of this capability so far. This is making ad companies far more intrusive than ever before, and there is no way for many to really know if your are using an infected app. I can imagine that hackers will start looking ultrasonic malware methods as this information becomes more and more mainstream...\"],\n",
       " [17,\n",
       "  u'Late to the game but what the hell. Soft Dev here.\\n\\nPretty much anything. A ton of software, including that which run banks, power grids, ect. is written poorly without security in mind. Short cuts are taken all the time in the name of going faster and make money. Too many business just don\\'t give a fuck about security. Look at the \"Internet of Things\" craze going on now. Many of those devices enable an attacker to gain access to the network they are on because they have exploits that are not patchable because of how the device was manufactured. \\n\\nLet\\'s see, crazy stuff that can happen today.\\n\\n* most cars with in car wifi can be hacked. Look up the wired (i think) story.\\n* Many IoT items such as coffee makers and fridges have been shown to allow access to the network they are on from the outside.\\n* If an attacker has physical access to a computer (without an encrypted HD) it is fairly easy to gain access. \\n* Many routers are not updated and exploitable.\\n* Many people will give up access if you ask the right questions (social engineering).\\n* Any my personal favorite. If you have wifi turned on, on your phone or device. An attacker can easily make you phone connect to a rogue wifi Access point and then capture all your data. Wifi Pineapple for the win.'],\n",
       " [11,\n",
       "  u'Manically mash their fingers on a keyboard for 30 seconds, then lean back and announce \"Alright, I\\'m in the NSA mainframe.\"'],\n",
       " [34, u'[deleted]'],\n",
       " [45,\n",
       "  u\"Two of the scariest hacks I've heard of : \\n\\n* Getting into a traffic system. It happened in L.A, and the system seems still vulnerable today. http://motherboard.vice.com/read/how-las-traffic-system-got-hacked\\n\\n* Hacking a plane : turning the emergency O2 system on, shutting down the reactor, etc... http://aptn.ca/news/wp-content/uploads/sites/4/2015/05/warrant-for-Roberts-electronics.pdf\"],\n",
       " [4,\n",
       "  u'I went to a presentation on cyber security and while it did not go into any advanced stuff it really stuck me as how easy it all was for them.  They work for the government doing penetration test on other government agencies and they had just done a rather large Phishing test. the results were that almost 40% of people at least clicked the link in the e-mail and a lot of them went on to enter their login info.\\n\\nThey showed how they had set up the test using a open source social engineering system. It could litteraly send out almost perfect spam e-mails with a couple of button clicks.\\n\\nAlso they hacked a quad copter and terminated its control files making it fall out of the air. The thing they used to do it is available for purchase for about 50 bucks.'],\n",
       " [7, u'Manipulate upvotes on reddit.'],\n",
       " [5, u'Steal your neopoints.'],\n",
       " [6,\n",
       "  u'This is one of those posts that\\'s right on the edge of, \"coulda used a serious tag,\" status.  I\\'m honestly not sure which I would have preferred, the entertainment value of the not-serious content, or not looking through that to read the serious replies. '],\n",
       " [4,\n",
       "  u'When I took hacking up as a hobby a few years back. I focused solely on personal computer hacking. I wasn\\'t interested in hacking websites or databases.\\n\\nBut there is literally a black market online, where people can buy FUD RAT\\'s for like $30 to infect other computers and give the hackers access to your computer. \\n\\n**FUD** - Fully undetectable, this cannot be picked up my anti-virus or anti-malware because it is brand new and the programs don\\'t know what to look for. \\n\\n**UD** - Somewhat detectable by a few\\n\\n**D** - Detectable, virus is now 100% worthless. \\n\\n**RAT** - Remote Administration Tool.\\n\\nBecause the virus would be a .exe program, there was another program you\\'d use to completely overwrite that, and hide it inside a broken .jpeg file with a custom error message. \\n\\nUsers would click the .jpeg file, it would open Windows Image Viewer and say the file was corrupt but the virus has now installed itself on your system and even added itself to the startup. \\n\\nCelebrus was one RAT that was often used, this was very very powerful tool. Once infected everything was just a click of a button away. You could:\\n\\n* Grab all their username/passwords and send it to your FTP\\n* Turn on their webcam\\n* Browse and download their files\\n* Watch their desktop\\n* Open their DVD drive\\n* Change all their settings\\n\\nAll this could be done without the person even knowing about it, even while directly using the computer. \\n\\nPro Tip: When your browser says, \"Do you want to save this username/password?\" **Always click NO**. Saved passwords is how the virus\\' gets them. \\n\\nEdit: I learned how to hack, because I wanted to know how to stop it. Seeing how it was done gave me the ability to write articles on how to protect yourself on my blog I had back then. It\\'s been many years since I\\'ve been a part of this, so things could have changed drastically by now. But still, be smart out there. Don\\'t just click on anything. '],\n",
       " [5, u'Hackerman can hack you back in time...'],\n",
       " [14,\n",
       "  u'ANYTHING that is in some way connected to a network, weather it be an internal one at work or the www is vulnerable to a whole host of attacks. The best thing to do is post as little about you online as possible and make sure you only connect to trusted sources. Other than that there is not a lot you can do. Everything can be broken into its just a matter of time and money.\\n\\nSo yes, that does mean that bloody expensive freezer you bought that connects to WIFI can be broken into and someone could remotely defrost all of your food over night. This one is only for the most evil of person though.'],\n",
       " [9,\n",
       "  u'Nothing is secure unless you write it by hand,  in a room with no cameras, and Windows.   And you need to personally deliver the letter.   Even outside,  there are satellites that can read words on pages from orbit. \\n\\nTechnology exists to intercept all other forms of communication,  in private or Public.\\n\\n'],\n",
       " [8,\n",
       "  u'Elite hackers can buddy up and both use the same keyboard at the same time.'],\n",
       " [42, u'Wear balaclava hats while they type away in scarily backlit rooms.'],\n",
       " [4,\n",
       "  u\"I think the scariest thing is how it could be used in warfare. \\n\\nThe United States Senate Airforce has the most complex and greatest missile detection system. If North Korea launched a missile out of their country, they'd know where it's going before anyone else. If that missile was going over the Pacific Ocean, we'd have it destroyed before it could hit Hawaii, California or Alaska. \\n\\nNow imagine a hacker that knows what's going on and takes out those defense systems, even for just a few moments. \\n\\nThat's just one example \"],\n",
       " [3,\n",
       "  u'Hackers can literally [kill you](http://www.eweek.com/security/defcon-hacker-details-how-to-forge-death-birth-records-online.html)'],\n",
       " [4, u'Get free WinRar.'],\n",
       " [5,\n",
       "  u\"[This is a pretty neat one that surfaced about a month ago](http://www.techworm.net/2015/10/hacker-reveals-how-to-extract-pin-of-a-smartphone-from-any-selfie.html), extracting a smartphone's pin from a selfie using the reflection of the screen in your eye whites. Fucking amazing right?\"],\n",
       " [3, u'Remove mcafee'],\n",
       " [3, u'Nice try, NSA!'],\n",
       " [5,\n",
       "  u'Install a free operating system on your computer that works well and is far less prone to viruses than Windows is.'],\n",
       " [4, u'Nice try NSA.'],\n",
       " [4,\n",
       "  u\"The best hackers could probably kill you by the magic of hacking.\\n\\nLet me run this scenario by you.\\n\\nYour local hospital has an IT department of, oh, maybe 3 guys. These guys know the son of the former hospital director and have been around for 5-15 years, and they are not up to date on the latest security issues. They mostly drink coffee, browse reddit and play darts using xray images of various patients for targets, trying to nail the cancer.\\n\\nThere's 800 employees at the hospital, and they have a lot of systems; there's various onsite and offsite servers, but the majority of the heavy lifting is done by external contractors.\\n\\nThese contractors are typically hired based on past jobs completed, but hospitals are so low risk that they likely don't care much about security certificates, and so no background checks have been completed on the employees working for the contractors.\\n\\nThis might sound super complicated, but basically, it's like this: The hospital has a number of software needs. All of these needs are tended to with software developed elsewhere. This stuff is relatively safe. The software may run on hardware the hospital owns. The hardware sits inside the hospital, and is safe from all but a few people with security access. Some of the software may also run on external hardware, off site. This is increasingly common. All of the software needs people running it. Some of the software can be run by hospital staff, but a significant part of it is maintained by external contractors. This is our hacktivists attack vector.\\n\\nYou see, a small external contractor likes to make money - and so they have interns. Our hacktivists offer to intern for such a contractor. Internship lasts 3 months, but a capable intern will absolutely start working for the customers of the contractor. Eventually, he has to update the task management system for the hospital. For this, he needs root access.\\n\\nThis is the point where everything turns ugly - the hacker can include a security hole in the update he applies to the software. Now he has a hole into the task management system of the hospital, and so he can forge tasks between people who rarely speak to each other. At this point, he can spoof two tasks. One is a task created by a physician on vacation concerning a prominent patient. They qualify for a testing program, or they are overdue for a test, or what have you, and they are to be booked for an appointment at a certain date with a certain doctor. Prior to the appointment, they need an xray, and so a task is generated for the x-ray operators to schedule an xray scan.\\n\\nA task from an employee concerning a technical glitch on one of the xray machines is simultaneously created. Model number, make, everything is included. Xray machines are highly complex, but technicians can obviously update them. As part of the task, which is given to maintenance, they must call a number so that the technician may make an arrangement to gain entry to the hospital and access the xray machines out-of-hours.\\n\\nOur hacker will need to show up, modify the code running on the machine, such that at a specific time, the machine is going to use too many xrays. This means he needs a copy of the firmware running on that x-ray machine, but considering he will be at the hospital, as a technician, with full access to the x-ray machine in question, this will be realtively simple.\\n\\nOnce the patient goes for his xray, he will receive a lethal dose - and he will be dead within 3 weeks. The police won't even be notified as he will simply die from a sickness the hospital isn't able to identify.\\n\\nHacking. It's delicious, lethal magic.\"],\n",
       " [4,\n",
       "  u'Watch Blackhat and realize you can do most of that with a few hundred dollars and all the spare time you have from a 9-5 office job. \\n\\nNow realize that most sophisticated hacker types have budgets that run in the tens of thousands, are extremely well educated, and do it as a full-time job. '],\n",
       " [5, u'Nice try, FBI.'],\n",
       " [4,\n",
       "  u\"There's [this story](http://www.wired.com/2015/07/hackers-remotely-kill-jeep-highway/) about some hackers that were able to remotely control certain aspects of a Jeep with a human driver inside. \"],\n",
       " [4, u'Bring down EvilCorp'],\n",
       " [4,\n",
       "  u'Scare you into buying computer security software. There are no security patches for stupid.'],\n",
       " [9, u'[deleted]'],\n",
       " [6,\n",
       "  u'Somewhere, probably in Maryland, a pasty white guy^1 not unlike you went to work this morning as he has gone to work every morning for the last decade or so.  He walked into his office, sat down at his computer, and began systematically probing the inner workings of a piece of software looking for vulnerabilities.  \\n\\nHe is among the best hackers in the world.\\n\\nHe takes notes as he works.  Each attack vector is cataloged, documented, and indexed by his employer.  Though the international community hasn\\'t really caught up yet, his employer treats each of these vulnerabilities like a weapon.  They are guarded in much the same way as other critical national secrets and stockpiled for strategic use should war ever come.\\n\\nAnd they have been used before.\\n\\nIn the Spring of 2010 the United States and Israel were both deeply concerned about the progress that Iran was making towards an atomic bomb.  Uranium centrifuge cascades spun in long chains in secret and heavily fortified locations deep inside Iran.  Cut off from the internet -- \"air-gapped,\" as is the parlance -- these systems were beyond the reach of both network and air-borne attack.\\n\\nSo the United States and Israel collaborated to create a purpose-built cyber-weapon.  It used some of these stockpiled vulnerabilities -- so called \"0-Days\" -- to spread through a MS Windows environment and infect the Siemens industrial control systems which regulated the centrifuge process.  Loaded onto USB sticks and other portable storage devices, the weapon needed only for a single unwitting accomplice to transport it beyond the air-gap to do its work.  \\n\\nOnce inside the secure network the weapon - a worm, more accurately - sought out and targeted the specific logic controllers which governed the speed at which the Iranian centrifuges spun.  It altered the rate at which they spun while simultaneously reporting back false data about that rate in order to cover its own tracks.  Doing this required intimate knowledge not only of the network security in use, but also operational details of the targeted controllers and how to exploit them.  \\n\\nNeither Microsoft nor Siemens knew of the vulnerabilities in their systems but that pasty white guy from Maryland and his co-workers figured them out.  Armed with that knowledge, they managed to destroy 20% of Iran\\'s uranium enrichment capability in the spring of 2010 with a USB drive.  \\n\\nSo what can the best computer hackers in the world do?  The can take a massive industrial plant that\\'s guarded round-the-clock and not even connected to the internet and they can bring it down, from half a world away right under the noses of the very people who are charged with safeguarding it.\\n\\nAnd if they can do that, they can do similar things to the power grid, to municipal water supplies, air traffic control, etc.  \\n\\nThe best hackers in the world have, at their fingertips, the capacity to teach the rest of us why informational weapons ought to be considered a Weapon of Mass Destruction.  It is only a matter of time before they do.\\n\\nEdited to include details of transmission.\\n\\n1. No judgements intended here; I\\'m just playing the odds.'],\n",
       " [8,\n",
       "  u'The Da Vinci virus was supposed to capsize a number of oil tankers belonging to Ellingson Mineral Company.  Luckily a bunch of teenagers with attitude were able to hack the Gibson supercomputer and prevent it from doing so.  They also revealed that the company IT security guy was defrauding the company.'],\n",
       " [8,\n",
       "  u\"On a WiFi network without a password (or a weak one) I can steal all of your non encrypted credentials. This means I can browse as you on sites using http:// for as long as the cookie doesn't expire. It's not the same as actually getting your password but it's just as dangerous imho. \"],\n",
       " [9,\n",
       "  u\"You can actually really easily hack into people's webcams and microphones and watch what they're doing.\"],\n",
       " [8,\n",
       "  u\"Trigger warning. If you're actually a infosec guy, don't read the comments here.\"],\n",
       " [11, u'Nice try, FBI!'],\n",
       " [3,\n",
       "  u'Recently, and i have no idea how, hackers managed to break into every car on my estate, just using a computer. If anyone knows how they do this, care to explain?'],\n",
       " [3,\n",
       "  u\"Honestly with the right skills, knowledge, and access nothing is safe. Pretty big in security right now though is hacking IoT (internet of things), which is basically interconnectedness of devices. Think self-driving cars with WiFi; someone could feasibly take control of this car. Or maybe you control your thermostat from your cellphone or tablet? Someone can crank your air up or down, potentially costing you serious money. Thankfully people with these skills are few and far between and in my experience they aren't really hackers who hack to just fuck with the average person.\"],\n",
       " [3, u'Hack your ip if you kill them in COD'],\n",
       " [3,\n",
       "  u'Late to the party:    \\nA German city hired a professional hacker to test how much damage he can do to the city. After two days he called the chef of municipal utility and sad:\"Just a few more clicks and it\\'s dark.\" He was able to do a blackout to the whole 40.000 citizen city by hacking the power supply.    \\nEffect: No more electricity, no more running water pumps, no more telecommunication, and so on...']]"
      ]
     },
     "execution_count": 69,
     "metadata": {},
     "output_type": "execute_result"
    }
   ],
   "source": [
    "df.iloc[4,0]"
   ]
  },
  {
   "cell_type": "code",
   "execution_count": null,
   "metadata": {
    "collapsed": false
   },
   "outputs": [],
   "source": []
  },
  {
   "cell_type": "code",
   "execution_count": null,
   "metadata": {
    "collapsed": false
   },
   "outputs": [],
   "source": []
  },
  {
   "cell_type": "code",
   "execution_count": null,
   "metadata": {
    "collapsed": false
   },
   "outputs": [],
   "source": []
  },
  {
   "cell_type": "code",
   "execution_count": null,
   "metadata": {
    "collapsed": false
   },
   "outputs": [],
   "source": []
  },
  {
   "cell_type": "code",
   "execution_count": null,
   "metadata": {
    "collapsed": false
   },
   "outputs": [],
   "source": []
  },
  {
   "cell_type": "code",
   "execution_count": null,
   "metadata": {
    "collapsed": true
   },
   "outputs": [],
   "source": []
  },
  {
   "cell_type": "code",
   "execution_count": null,
   "metadata": {
    "collapsed": true
   },
   "outputs": [],
   "source": []
  },
  {
   "cell_type": "code",
   "execution_count": null,
   "metadata": {
    "collapsed": true
   },
   "outputs": [],
   "source": []
  },
  {
   "cell_type": "code",
   "execution_count": null,
   "metadata": {
    "collapsed": true
   },
   "outputs": [],
   "source": []
  },
  {
   "cell_type": "code",
   "execution_count": null,
   "metadata": {
    "collapsed": true
   },
   "outputs": [],
   "source": []
  },
  {
   "cell_type": "code",
   "execution_count": null,
   "metadata": {
    "collapsed": true
   },
   "outputs": [],
   "source": []
  },
  {
   "cell_type": "code",
   "execution_count": null,
   "metadata": {
    "collapsed": true
   },
   "outputs": [],
   "source": []
  }
 ],
 "metadata": {
  "anaconda-cloud": {},
  "kernelspec": {
   "display_name": "Python [default]",
   "language": "python",
   "name": "python2"
  },
  "language_info": {
   "codemirror_mode": {
    "name": "ipython",
    "version": 2
   },
   "file_extension": ".py",
   "mimetype": "text/x-python",
   "name": "python",
   "nbconvert_exporter": "python",
   "pygments_lexer": "ipython2",
   "version": "2.7.12"
  }
 },
 "nbformat": 4,
 "nbformat_minor": 1
}
