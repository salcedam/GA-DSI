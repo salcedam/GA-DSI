{
 "cells": [
  {
   "cell_type": "code",
   "execution_count": 5,
   "metadata": {
    "collapsed": false
   },
   "outputs": [],
   "source": [
    "\"\"\"I used the documentation in addition to the following video for help on this webscraping/API process:\n",
    "    https://www.youtube.com/watch?v=yexxcrPC7U8 \"\"\"\n",
    "\n",
    "import requests\n",
    "import BeautifulSoup\n",
    "import pandas as pd\n",
    "import numpy as np\n",
    "import matplotlib.pyplot as plt\n",
    "import seaborn as sns\n",
    "import praw\n",
    "import json\n",
    "import time\n",
    "import datetime\n",
    "import re\n",
    "import selenium\n",
    "import time\n",
    "from selenium import webdriver\n",
    "from selenium.webdriver.support.ui import WebDriverWait\n",
    "from selenium.webdriver.support.select import Select\n",
    "from IPython.core.display import HTML\n",
    "\n",
    "driver = webdriver.PhantomJS(executable_path='/Users/thomas/Downloads/phantomjs-2.1.1-macosx/bin/phantomjs')\n",
    "driver.set_window_size(300, 200) \n",
    "\n",
    "%matplotlib inline"
   ]
  },
  {
   "cell_type": "markdown",
   "metadata": {},
   "source": [
    "## The below section is for reddit scraping"
   ]
  },
  {
   "cell_type": "code",
   "execution_count": 6,
   "metadata": {
    "collapsed": true
   },
   "outputs": [],
   "source": [
    "def get_replies(comment, reply_list):\n",
    "    \"\"\" recursive function that goes through the reply tree of a comment \"\"\"\n",
    "    reply_list.append({\"id\": comment.id, \"comment\": comment.body})\n",
    "    if len(comment._replies) > 0:\n",
    "        for r in comment._replies:\n",
    "            get_replies(r, reply_list)\n",
    "    return reply_list"
   ]
  },
  {
   "cell_type": "code",
   "execution_count": 20,
   "metadata": {
    "collapsed": false
   },
   "outputs": [],
   "source": []
  },
  {
   "cell_type": "code",
   "execution_count": null,
   "metadata": {
    "collapsed": false
   },
   "outputs": [],
   "source": []
  },
  {
   "cell_type": "code",
   "execution_count": null,
   "metadata": {
    "collapsed": false
   },
   "outputs": [],
   "source": []
  },
  {
   "cell_type": "code",
   "execution_count": 42,
   "metadata": {
    "collapsed": false,
    "scrolled": false
   },
   "outputs": [
    {
     "name": "stdout",
     "output_type": "stream",
     "text": [
      "\n",
      "68\n",
      "\n",
      "Starting Collection from /r/pokemongo\n",
      "  Finished 20 Out of 100\n",
      "    Time Elapsed: 3.59115601778 minutes\n",
      "  Finished 40 Out of 100\n",
      "    Time Elapsed: 6.6765467008 minutes\n",
      "  Finished 60 Out of 100\n",
      "    Time Elapsed: 9.88586177031 minutes\n",
      "  Finished 80 Out of 100\n",
      "    Time Elapsed: 13.2190621535 minutes\n",
      "  Finished 100 Out of 100\n",
      "    Time Elapsed: 16.5857922832 minutes\n",
      "Time Spent: 16.5946751515 minutes\n",
      "Finished Collection from r/pokemongo\n",
      "\n",
      "\n",
      "69\n",
      "\n",
      "Starting Collection from /r/programming\n",
      "  Finished 20 Out of 100\n",
      "    Time Elapsed: 3.42506474654 minutes\n",
      "  Finished 40 Out of 100\n",
      "    Time Elapsed: 6.7783987999 minutes\n",
      "  Finished 60 Out of 100\n",
      "    Time Elapsed: 10.0933739821 minutes\n",
      "  Finished 80 Out of 100\n",
      "    Time Elapsed: 13.1180947463 minutes\n",
      "  Finished 100 Out of 100\n",
      "    Time Elapsed: 16.1548182805 minutes\n",
      "Time Spent: 16.1631688317 minutes\n",
      "Finished Collection from r/programming\n",
      "\n",
      "\n",
      "70\n",
      "\n",
      "Starting Collection from /r/nsfw\n",
      "  Finished 20 Out of 100\n",
      "    Time Elapsed: 1.94353506962 minutes\n",
      "  Finished 40 Out of 100\n",
      "    Time Elapsed: 3.00088580052 minutes\n",
      "  Finished 60 Out of 100\n",
      "    Time Elapsed: 3.66513631741 minutes\n",
      "  Finished 80 Out of 100\n",
      "    Time Elapsed: 4.47354176839 minutes\n",
      "  Finished 100 Out of 100\n",
      "    Time Elapsed: 5.21072163582 minutes\n",
      "Time Spent: 5.21439323425 minutes\n",
      "Finished Collection from r/nsfw\n",
      "\n",
      "\n",
      "71\n",
      "\n",
      "Starting Collection from /r/pcmasterrace\n",
      "  Finished 20 Out of 100\n",
      "    Time Elapsed: 3.41590443452 minutes\n"
     ]
    },
    {
     "ename": "ReadTimeout",
     "evalue": "HTTPSConnectionPool(host='api.reddit.com', port=443): Read timed out. (read timeout=45.0)",
     "output_type": "error",
     "traceback": [
      "\u001b[0;31m---------------------------------------------------------------------------\u001b[0m",
      "\u001b[0;31mReadTimeout\u001b[0m                               Traceback (most recent call last)",
      "\u001b[0;32m<ipython-input-42-4d1bfe29fdc2>\u001b[0m in \u001b[0;36m<module>\u001b[0;34m()\u001b[0m\n\u001b[1;32m     37\u001b[0m \u001b[0;34m\u001b[0m\u001b[0m\n\u001b[1;32m     38\u001b[0m         \u001b[0msubmission\u001b[0m \u001b[0;34m=\u001b[0m \u001b[0mr\u001b[0m\u001b[0;34m.\u001b[0m\u001b[0mget_submission\u001b[0m\u001b[0;34m(\u001b[0m\u001b[0msubmission_id\u001b[0m\u001b[0;34m=\u001b[0m\u001b[0mpost_id\u001b[0m\u001b[0;34m)\u001b[0m\u001b[0;34m\u001b[0m\u001b[0m\n\u001b[0;32m---> 39\u001b[0;31m         \u001b[0msubmission\u001b[0m\u001b[0;34m.\u001b[0m\u001b[0mreplace_more_comments\u001b[0m\u001b[0;34m(\u001b[0m\u001b[0mlimit\u001b[0m\u001b[0;34m=\u001b[0m\u001b[0mNumber_of_Comments\u001b[0m\u001b[0;34m,\u001b[0m \u001b[0mthreshold\u001b[0m\u001b[0;34m=\u001b[0m\u001b[0;36m0\u001b[0m\u001b[0;34m)\u001b[0m\u001b[0;34m\u001b[0m\u001b[0m\n\u001b[0m\u001b[1;32m     40\u001b[0m         \u001b[0;32mfor\u001b[0m \u001b[0mcomment\u001b[0m \u001b[0;32min\u001b[0m \u001b[0msubmission\u001b[0m\u001b[0;34m.\u001b[0m\u001b[0mcomments\u001b[0m\u001b[0;34m:\u001b[0m\u001b[0;34m\u001b[0m\u001b[0m\n\u001b[1;32m     41\u001b[0m             \u001b[0;34m\"\"\" loops through all comments to submission \"\"\"\u001b[0m\u001b[0;34m\u001b[0m\u001b[0m\n",
      "\u001b[0;32m/Users/thomas/anaconda/lib/python2.7/site-packages/praw/objects.pyc\u001b[0m in \u001b[0;36mreplace_more_comments\u001b[0;34m(self, limit, threshold)\u001b[0m\n\u001b[1;32m   1313\u001b[0m \u001b[0;34m\u001b[0m\u001b[0m\n\u001b[1;32m   1314\u001b[0m             \u001b[0;31m# Fetch new comments and decrease remaining if a request was made\u001b[0m\u001b[0;34m\u001b[0m\u001b[0;34m\u001b[0m\u001b[0m\n\u001b[0;32m-> 1315\u001b[0;31m             \u001b[0mnew_comments\u001b[0m \u001b[0;34m=\u001b[0m \u001b[0mitem\u001b[0m\u001b[0;34m.\u001b[0m\u001b[0mcomments\u001b[0m\u001b[0;34m(\u001b[0m\u001b[0mupdate\u001b[0m\u001b[0;34m=\u001b[0m\u001b[0mFalse\u001b[0m\u001b[0;34m)\u001b[0m\u001b[0;34m\u001b[0m\u001b[0m\n\u001b[0m\u001b[1;32m   1316\u001b[0m             \u001b[0;32mif\u001b[0m \u001b[0mnew_comments\u001b[0m \u001b[0;32mis\u001b[0m \u001b[0;32mnot\u001b[0m \u001b[0mNone\u001b[0m \u001b[0;32mand\u001b[0m \u001b[0mremaining\u001b[0m \u001b[0;32mis\u001b[0m \u001b[0;32mnot\u001b[0m \u001b[0mNone\u001b[0m\u001b[0;34m:\u001b[0m\u001b[0;34m\u001b[0m\u001b[0m\n\u001b[1;32m   1317\u001b[0m                 \u001b[0mremaining\u001b[0m \u001b[0;34m-=\u001b[0m \u001b[0;36m1\u001b[0m\u001b[0;34m\u001b[0m\u001b[0m\n",
      "\u001b[0;32m/Users/thomas/anaconda/lib/python2.7/site-packages/praw/objects.pyc\u001b[0m in \u001b[0;36mcomments\u001b[0;34m(self, update)\u001b[0m\n\u001b[1;32m    819\u001b[0m             \u001b[0;31m# pylint: enable=W0212\u001b[0m\u001b[0;34m\u001b[0m\u001b[0;34m\u001b[0m\u001b[0m\n\u001b[1;32m    820\u001b[0m             \u001b[0murl\u001b[0m \u001b[0;34m=\u001b[0m \u001b[0mself\u001b[0m\u001b[0;34m.\u001b[0m\u001b[0mreddit_session\u001b[0m\u001b[0;34m.\u001b[0m\u001b[0mconfig\u001b[0m\u001b[0;34m[\u001b[0m\u001b[0;34m'morechildren'\u001b[0m\u001b[0;34m]\u001b[0m\u001b[0;34m\u001b[0m\u001b[0m\n\u001b[0;32m--> 821\u001b[0;31m             \u001b[0mresponse\u001b[0m \u001b[0;34m=\u001b[0m \u001b[0mself\u001b[0m\u001b[0;34m.\u001b[0m\u001b[0mreddit_session\u001b[0m\u001b[0;34m.\u001b[0m\u001b[0mrequest_json\u001b[0m\u001b[0;34m(\u001b[0m\u001b[0murl\u001b[0m\u001b[0;34m,\u001b[0m \u001b[0mdata\u001b[0m\u001b[0;34m=\u001b[0m\u001b[0mdata\u001b[0m\u001b[0;34m)\u001b[0m\u001b[0;34m\u001b[0m\u001b[0m\n\u001b[0m\u001b[1;32m    822\u001b[0m             \u001b[0mself\u001b[0m\u001b[0;34m.\u001b[0m\u001b[0m_comments\u001b[0m \u001b[0;34m=\u001b[0m \u001b[0mresponse\u001b[0m\u001b[0;34m[\u001b[0m\u001b[0;34m'data'\u001b[0m\u001b[0;34m]\u001b[0m\u001b[0;34m[\u001b[0m\u001b[0;34m'things'\u001b[0m\u001b[0;34m]\u001b[0m\u001b[0;34m\u001b[0m\u001b[0m\n\u001b[1;32m    823\u001b[0m             \u001b[0;32mif\u001b[0m \u001b[0mupdate\u001b[0m\u001b[0;34m:\u001b[0m\u001b[0;34m\u001b[0m\u001b[0m\n",
      "\u001b[0;32m<decorator-gen-129>\u001b[0m in \u001b[0;36mrequest_json\u001b[0;34m(self, url, params, data, as_objects, retry_on_error, method)\u001b[0m\n",
      "\u001b[0;32m/Users/thomas/anaconda/lib/python2.7/site-packages/praw/decorators.pyc\u001b[0m in \u001b[0;36mraise_api_exceptions\u001b[0;34m(function, *args, **kwargs)\u001b[0m\n\u001b[1;32m    114\u001b[0m     \"\"\"\n\u001b[1;32m    115\u001b[0m     \u001b[0;32mtry\u001b[0m\u001b[0;34m:\u001b[0m\u001b[0;34m\u001b[0m\u001b[0m\n\u001b[0;32m--> 116\u001b[0;31m         \u001b[0mreturn_value\u001b[0m \u001b[0;34m=\u001b[0m \u001b[0mfunction\u001b[0m\u001b[0;34m(\u001b[0m\u001b[0;34m*\u001b[0m\u001b[0margs\u001b[0m\u001b[0;34m,\u001b[0m \u001b[0;34m**\u001b[0m\u001b[0mkwargs\u001b[0m\u001b[0;34m)\u001b[0m\u001b[0;34m\u001b[0m\u001b[0m\n\u001b[0m\u001b[1;32m    117\u001b[0m     \u001b[0;32mexcept\u001b[0m \u001b[0merrors\u001b[0m\u001b[0;34m.\u001b[0m\u001b[0mHTTPException\u001b[0m \u001b[0;32mas\u001b[0m \u001b[0mexc\u001b[0m\u001b[0;34m:\u001b[0m\u001b[0;34m\u001b[0m\u001b[0m\n\u001b[1;32m    118\u001b[0m         \u001b[0;32mif\u001b[0m \u001b[0mexc\u001b[0m\u001b[0;34m.\u001b[0m\u001b[0m_raw\u001b[0m\u001b[0;34m.\u001b[0m\u001b[0mstatus_code\u001b[0m \u001b[0;34m!=\u001b[0m \u001b[0;36m400\u001b[0m\u001b[0;34m:\u001b[0m  \u001b[0;31m# pylint: disable=W0212\u001b[0m\u001b[0;34m\u001b[0m\u001b[0m\n",
      "\u001b[0;32m/Users/thomas/anaconda/lib/python2.7/site-packages/praw/__init__.pyc\u001b[0m in \u001b[0;36mrequest_json\u001b[0;34m(self, url, params, data, as_objects, retry_on_error, method)\u001b[0m\n\u001b[1;32m    620\u001b[0m             \u001b[0murl\u001b[0m \u001b[0;34m+=\u001b[0m \u001b[0;34m'.json'\u001b[0m\u001b[0;34m\u001b[0m\u001b[0m\n\u001b[1;32m    621\u001b[0m         response = self._request(url, params, data, method=method,\n\u001b[0;32m--> 622\u001b[0;31m                                  retry_on_error=retry_on_error)\n\u001b[0m\u001b[1;32m    623\u001b[0m         \u001b[0mhook\u001b[0m \u001b[0;34m=\u001b[0m \u001b[0mself\u001b[0m\u001b[0;34m.\u001b[0m\u001b[0m_json_reddit_objecter\u001b[0m \u001b[0;32mif\u001b[0m \u001b[0mas_objects\u001b[0m \u001b[0;32melse\u001b[0m \u001b[0mNone\u001b[0m\u001b[0;34m\u001b[0m\u001b[0m\n\u001b[1;32m    624\u001b[0m         \u001b[0;31m# Request url just needs to be available for the objecter to use\u001b[0m\u001b[0;34m\u001b[0m\u001b[0;34m\u001b[0m\u001b[0m\n",
      "\u001b[0;32m/Users/thomas/anaconda/lib/python2.7/site-packages/praw/__init__.pyc\u001b[0m in \u001b[0;36m_request\u001b[0;34m(self, url, params, data, files, auth, timeout, raw_response, retry_on_error, method)\u001b[0m\n\u001b[1;32m    451\u001b[0m             \u001b[0;32mtry\u001b[0m\u001b[0;34m:\u001b[0m\u001b[0;34m\u001b[0m\u001b[0m\n\u001b[1;32m    452\u001b[0m                 \u001b[0mself\u001b[0m\u001b[0;34m.\u001b[0m\u001b[0m_use_oauth\u001b[0m \u001b[0;34m=\u001b[0m \u001b[0mself\u001b[0m\u001b[0;34m.\u001b[0m\u001b[0mis_oauth_session\u001b[0m\u001b[0;34m(\u001b[0m\u001b[0;34m)\u001b[0m\u001b[0;34m\u001b[0m\u001b[0m\n\u001b[0;32m--> 453\u001b[0;31m                 \u001b[0mresponse\u001b[0m \u001b[0;34m=\u001b[0m \u001b[0mhandle_redirect\u001b[0m\u001b[0;34m(\u001b[0m\u001b[0;34m)\u001b[0m\u001b[0;34m\u001b[0m\u001b[0m\n\u001b[0m\u001b[1;32m    454\u001b[0m                 \u001b[0m_raise_response_exceptions\u001b[0m\u001b[0;34m(\u001b[0m\u001b[0mresponse\u001b[0m\u001b[0;34m)\u001b[0m\u001b[0;34m\u001b[0m\u001b[0m\n\u001b[1;32m    455\u001b[0m                 \u001b[0mself\u001b[0m\u001b[0;34m.\u001b[0m\u001b[0mhttp\u001b[0m\u001b[0;34m.\u001b[0m\u001b[0mcookies\u001b[0m\u001b[0;34m.\u001b[0m\u001b[0mupdate\u001b[0m\u001b[0;34m(\u001b[0m\u001b[0mresponse\u001b[0m\u001b[0;34m.\u001b[0m\u001b[0mcookies\u001b[0m\u001b[0;34m)\u001b[0m\u001b[0;34m\u001b[0m\u001b[0m\n",
      "\u001b[0;32m/Users/thomas/anaconda/lib/python2.7/site-packages/praw/__init__.pyc\u001b[0m in \u001b[0;36mhandle_redirect\u001b[0;34m()\u001b[0m\n\u001b[1;32m    432\u001b[0m                     \u001b[0mproxies\u001b[0m\u001b[0;34m=\u001b[0m\u001b[0mself\u001b[0m\u001b[0;34m.\u001b[0m\u001b[0mhttp\u001b[0m\u001b[0;34m.\u001b[0m\u001b[0mproxies\u001b[0m\u001b[0;34m,\u001b[0m\u001b[0;34m\u001b[0m\u001b[0m\n\u001b[1;32m    433\u001b[0m                     \u001b[0mtimeout\u001b[0m\u001b[0;34m=\u001b[0m\u001b[0mtimeout\u001b[0m\u001b[0;34m,\u001b[0m\u001b[0;34m\u001b[0m\u001b[0m\n\u001b[0;32m--> 434\u001b[0;31m                     verify=self.http.validate_certs, **kwargs)\n\u001b[0m\u001b[1;32m    435\u001b[0m \u001b[0;34m\u001b[0m\u001b[0m\n\u001b[1;32m    436\u001b[0m                 \u001b[0;32mif\u001b[0m \u001b[0mself\u001b[0m\u001b[0;34m.\u001b[0m\u001b[0mconfig\u001b[0m\u001b[0;34m.\u001b[0m\u001b[0mlog_requests\u001b[0m \u001b[0;34m>=\u001b[0m \u001b[0;36m2\u001b[0m\u001b[0;34m:\u001b[0m\u001b[0;34m\u001b[0m\u001b[0m\n",
      "\u001b[0;32m/Users/thomas/anaconda/lib/python2.7/site-packages/praw/handlers.pyc\u001b[0m in \u001b[0;36mwrapped\u001b[0;34m(cls, _cache_key, _cache_ignore, _cache_timeout, **kwargs)\u001b[0m\n\u001b[1;32m    144\u001b[0m             \u001b[0;31m# assumption only one request to a domain can be made at a\u001b[0m\u001b[0;34m\u001b[0m\u001b[0;34m\u001b[0m\u001b[0m\n\u001b[1;32m    145\u001b[0m             \u001b[0;31m# time), there isn't a better way to handle this.\u001b[0m\u001b[0;34m\u001b[0m\u001b[0;34m\u001b[0m\u001b[0m\n\u001b[0;32m--> 146\u001b[0;31m             \u001b[0mresult\u001b[0m \u001b[0;34m=\u001b[0m \u001b[0mfunction\u001b[0m\u001b[0;34m(\u001b[0m\u001b[0mcls\u001b[0m\u001b[0;34m,\u001b[0m \u001b[0;34m**\u001b[0m\u001b[0mkwargs\u001b[0m\u001b[0;34m)\u001b[0m\u001b[0;34m\u001b[0m\u001b[0m\n\u001b[0m\u001b[1;32m    147\u001b[0m             \u001b[0;31m# The handlers don't call `raise_for_status` so we need to ignore\u001b[0m\u001b[0;34m\u001b[0m\u001b[0;34m\u001b[0m\u001b[0m\n\u001b[1;32m    148\u001b[0m             \u001b[0;31m# status codes that will result in an exception that should not be\u001b[0m\u001b[0;34m\u001b[0m\u001b[0;34m\u001b[0m\u001b[0m\n",
      "\u001b[0;32m/Users/thomas/anaconda/lib/python2.7/site-packages/praw/handlers.pyc\u001b[0m in \u001b[0;36mwrapped\u001b[0;34m(cls, _rate_domain, _rate_delay, **kwargs)\u001b[0m\n\u001b[1;32m     54\u001b[0m                     \u001b[0mtime\u001b[0m\u001b[0;34m.\u001b[0m\u001b[0msleep\u001b[0m\u001b[0;34m(\u001b[0m\u001b[0mdelay\u001b[0m\u001b[0;34m)\u001b[0m\u001b[0;34m\u001b[0m\u001b[0m\n\u001b[1;32m     55\u001b[0m                 \u001b[0mlock_last\u001b[0m\u001b[0;34m[\u001b[0m\u001b[0;36m1\u001b[0m\u001b[0;34m]\u001b[0m \u001b[0;34m=\u001b[0m \u001b[0mnow\u001b[0m\u001b[0;34m\u001b[0m\u001b[0m\n\u001b[0;32m---> 56\u001b[0;31m                 \u001b[0;32mreturn\u001b[0m \u001b[0mfunction\u001b[0m\u001b[0;34m(\u001b[0m\u001b[0mcls\u001b[0m\u001b[0;34m,\u001b[0m \u001b[0;34m**\u001b[0m\u001b[0mkwargs\u001b[0m\u001b[0;34m)\u001b[0m\u001b[0;34m\u001b[0m\u001b[0m\n\u001b[0m\u001b[1;32m     57\u001b[0m         \u001b[0;32mreturn\u001b[0m \u001b[0mwrapped\u001b[0m\u001b[0;34m\u001b[0m\u001b[0m\n\u001b[1;32m     58\u001b[0m \u001b[0;34m\u001b[0m\u001b[0m\n",
      "\u001b[0;32m/Users/thomas/anaconda/lib/python2.7/site-packages/praw/handlers.pyc\u001b[0m in \u001b[0;36mrequest\u001b[0;34m(self, request, proxies, timeout, verify, **_)\u001b[0m\n\u001b[1;32m    100\u001b[0m         \"\"\"\n\u001b[1;32m    101\u001b[0m         return self.http.send(request, proxies=proxies, timeout=timeout,\n\u001b[0;32m--> 102\u001b[0;31m                               allow_redirects=False, verify=verify)\n\u001b[0m\u001b[1;32m    103\u001b[0m RateLimitHandler.request = RateLimitHandler.rate_limit(\n\u001b[1;32m    104\u001b[0m     RateLimitHandler.request)\n",
      "\u001b[0;32m/Users/thomas/anaconda/lib/python2.7/site-packages/requests/sessions.pyc\u001b[0m in \u001b[0;36msend\u001b[0;34m(self, request, **kwargs)\u001b[0m\n\u001b[1;32m    574\u001b[0m \u001b[0;34m\u001b[0m\u001b[0m\n\u001b[1;32m    575\u001b[0m         \u001b[0;31m# Send the request\u001b[0m\u001b[0;34m\u001b[0m\u001b[0;34m\u001b[0m\u001b[0m\n\u001b[0;32m--> 576\u001b[0;31m         \u001b[0mr\u001b[0m \u001b[0;34m=\u001b[0m \u001b[0madapter\u001b[0m\u001b[0;34m.\u001b[0m\u001b[0msend\u001b[0m\u001b[0;34m(\u001b[0m\u001b[0mrequest\u001b[0m\u001b[0;34m,\u001b[0m \u001b[0;34m**\u001b[0m\u001b[0mkwargs\u001b[0m\u001b[0;34m)\u001b[0m\u001b[0;34m\u001b[0m\u001b[0m\n\u001b[0m\u001b[1;32m    577\u001b[0m \u001b[0;34m\u001b[0m\u001b[0m\n\u001b[1;32m    578\u001b[0m         \u001b[0;31m# Total elapsed time of the request (approximately)\u001b[0m\u001b[0;34m\u001b[0m\u001b[0;34m\u001b[0m\u001b[0m\n",
      "\u001b[0;32m/Users/thomas/anaconda/lib/python2.7/site-packages/requests/adapters.pyc\u001b[0m in \u001b[0;36msend\u001b[0;34m(self, request, stream, timeout, verify, cert, proxies)\u001b[0m\n\u001b[1;32m    447\u001b[0m                 \u001b[0;32mraise\u001b[0m \u001b[0mSSLError\u001b[0m\u001b[0;34m(\u001b[0m\u001b[0me\u001b[0m\u001b[0;34m,\u001b[0m \u001b[0mrequest\u001b[0m\u001b[0;34m=\u001b[0m\u001b[0mrequest\u001b[0m\u001b[0;34m)\u001b[0m\u001b[0;34m\u001b[0m\u001b[0m\n\u001b[1;32m    448\u001b[0m             \u001b[0;32melif\u001b[0m \u001b[0misinstance\u001b[0m\u001b[0;34m(\u001b[0m\u001b[0me\u001b[0m\u001b[0;34m,\u001b[0m \u001b[0mReadTimeoutError\u001b[0m\u001b[0;34m)\u001b[0m\u001b[0;34m:\u001b[0m\u001b[0;34m\u001b[0m\u001b[0m\n\u001b[0;32m--> 449\u001b[0;31m                 \u001b[0;32mraise\u001b[0m \u001b[0mReadTimeout\u001b[0m\u001b[0;34m(\u001b[0m\u001b[0me\u001b[0m\u001b[0;34m,\u001b[0m \u001b[0mrequest\u001b[0m\u001b[0;34m=\u001b[0m\u001b[0mrequest\u001b[0m\u001b[0;34m)\u001b[0m\u001b[0;34m\u001b[0m\u001b[0m\n\u001b[0m\u001b[1;32m    450\u001b[0m             \u001b[0;32melse\u001b[0m\u001b[0;34m:\u001b[0m\u001b[0;34m\u001b[0m\u001b[0m\n\u001b[1;32m    451\u001b[0m                 \u001b[0;32mraise\u001b[0m\u001b[0;34m\u001b[0m\u001b[0m\n",
      "\u001b[0;31mReadTimeout\u001b[0m: HTTPSConnectionPool(host='api.reddit.com', port=443): Read timed out. (read timeout=45.0)"
     ]
    }
   ],
   "source": [
    "df=pd.read_csv('Top Subreddits.csv')\n",
    "subreddit_list=[x for x in df['Reddit']]\n",
    "\n",
    "\n",
    "###\n",
    "\n",
    "Number_of_Posts=100\n",
    "Number_of_Comments=4\n",
    "\n",
    "###\n",
    "\n",
    "\n",
    "for i in range(71,len(subreddit_list)):\n",
    "    print \n",
    "    print i\n",
    "    print \n",
    "    count=0\n",
    "    current_time=time.time()\n",
    "    print \"Starting Collection from \"+subreddit_list[i]\n",
    "    subreddit_posts={}\n",
    "    json_name='/Users/thomas/GA-DSI/projects/projects-capstone/Work 2, Personalities/Subreddit Data/'\\\n",
    "                        +subreddit_list[i][3:]+'.json'\n",
    "    info_for_request='get top '+str(Number_of_Posts)+' posts w/ top '+str(Number_of_Comments)+\\\n",
    "                        ' comments and children comments from '+subreddit_list[i]+\\\n",
    "                        \"for Capstone project at General Assembly's DSI program by User: dingdong1111\"\n",
    "    r = praw.Reddit(user_agent=info_for_request)\n",
    "    r.login('dingdong1111', '01001759',disable_warning=True)\n",
    "    posts = r.get_subreddit(subreddit_list[i][3:]).get_top_from_year(limit=Number_of_Posts)\n",
    "    for post in posts:\n",
    "        count+=1\n",
    "        post_comments=[]\n",
    "        head_comments=[]\n",
    "        \n",
    "        post_id=post.id\n",
    "        post_title=post.title\n",
    "        post_score=post.score\n",
    "        post_url=post.url\n",
    "        post_date=datetime.datetime.fromtimestamp(post.created)\n",
    "#         post_author=post.author\n",
    "        \n",
    "        submission = r.get_submission(submission_id=post_id)\n",
    "        submission.replace_more_comments(limit=Number_of_Comments, threshold=0)\n",
    "        for comment in submission.comments:\n",
    "            \"\"\" loops through all comments to submission \"\"\"\n",
    "            x = []  # array that holds the comment and all replies\n",
    "            # get all replies and append it to our array for writing to file\n",
    "            post_comments.append(get_replies(comment, x))\n",
    "        for comment in submission.comments:\n",
    "            head_comments.append([comment.score,comment.body])\n",
    "            \n",
    "        if count%20==0:\n",
    "            print \"  Finished\",count,\"Out of\",Number_of_Posts\n",
    "            print \"    Time Elapsed:\",(time.time()-current_time)/60.,\"minutes\"\n",
    "        subreddit_posts[post_id]=[post_title,str(post_date),post_score,post_url,head_comments,post_comments]\n",
    "    with open(json_name, 'w') as fp:\n",
    "        json.dump(subreddit_posts, fp)\n",
    "    \n",
    "    print \"Time Spent:\",(time.time()-current_time)/60.,\"minutes\"\n",
    "    print \"Finished Collection from r/\"+subreddit_list[i][3:]\n",
    "    print\n",
    "    "
   ]
  },
  {
   "cell_type": "code",
   "execution_count": null,
   "metadata": {
    "collapsed": true
   },
   "outputs": [],
   "source": [
    "df=pd.read_csv('Top Subreddits.csv')\n",
    "subreddit_list=[x for x in df['Reddit']]\n",
    "\n",
    "\n",
    "###\n",
    "\n",
    "Number_of_Posts=100\n",
    "Number_of_Comments=0\n",
    "\n",
    "###\n",
    "\n",
    "\n",
    "for i in range(57,len(subreddit_list)):\n",
    "    print \n",
    "    print i\n",
    "    print \n",
    "    count=0\n",
    "    current_time=time.time()\n",
    "    print \"Starting Collection from \"+subreddit_list[i]\n",
    "    subreddit_posts={}\n",
    "    json_name='/Users/thomas/GA-DSI/projects/projects-capstone/Work 2, Personalities/Subreddit Data/'\\\n",
    "                        +subreddit_list[i][3:]+'.json'\n",
    "    info_for_request='get top '+str(Number_of_Posts)+' posts w/ top '+str(Number_of_Comments)+\\\n",
    "                        ' comments and children comments from '+subreddit_list[i]+\\\n",
    "                        \"for Capstone project at General Assembly's DSI program by User: dingdong1111\"\n",
    "    r = praw.Reddit(user_agent=info_for_request)\n",
    "    r.login('dingdong1111', '01001759',disable_warning=True)\n",
    "    posts = r.get_subreddit(subreddit_list[i][3:]).get_hot_from_year(limit=Number_of_Posts)\n",
    "    for post in posts:\n",
    "        count+=1\n",
    "        post_comments=[]\n",
    "        head_comments=[]\n",
    "        \n",
    "        post_id=post.id\n",
    "        post_title=post.title\n",
    "        post_score=post.score\n",
    "        post_url=post.url\n",
    "        post_date=datetime.datetime.fromtimestamp(post.created)\n",
    "#         post_author=post.author\n",
    "        \n",
    "        submission = r.get_submission(submission_id=post_id)\n",
    "        submission.replace_more_comments(limit=Number_of_Comments, threshold=0)\n",
    "        for comment in submission.comments:\n",
    "            \"\"\" loops through all comments to submission \"\"\"\n",
    "            x = []  # array that holds the comment and all replies\n",
    "            # get all replies and append it to our array for writing to file\n",
    "            post_comments.append(get_replies(comment, x))\n",
    "        for comment in submission.comments:\n",
    "            head_comments.append([comment.score,comment.body])\n",
    "            \n",
    "        if count%20==0:\n",
    "            print \"  Finished\",count,\"Out of\",Number_of_Posts\n",
    "            print \"    Time Elapsed:\",(time.time()-current_time)/60.,\"minutes\"\n",
    "        subreddit_posts[post_id]=[post_title,str(post_date),post_score,post_url,head_comments,post_comments]\n",
    "    with open(json_name, 'w') as fp:\n",
    "        json.dump(subreddit_posts, fp)\n",
    "    \n",
    "    print \"Time Spent:\",(time.time()-current_time)/60.,\"minutes\"\n",
    "    print \"Finished Collection from r/\"+subreddit_list[i][3:]\n",
    "    print\n",
    "    "
   ]
  },
  {
   "cell_type": "code",
   "execution_count": null,
   "metadata": {
    "collapsed": true
   },
   "outputs": [],
   "source": [
    "# for i in range(,len(user_list)):\n",
    "    current_time=time.time()\n",
    "    print \"Starting Collection from user %i out of %s users\" %i, %len(user_list) \n",
    "    user_info={}\n",
    "    json_name='/Users/thomas/GA-DSI/projects/projects-capstone/Work 2, Personalities/User Data/'\\\n",
    "                        +user_list[i]+'.json'\n",
    "    info_for_request='get info on user'+str(user_list[i])+\\\n",
    "                        'posts, likes, and dislikes'\\\n",
    "                        \"for Capstone project at General Assembly's DSI program by User: dingdong1111\"\n",
    "    r = praw.Reddit(user_agent=info_for_request)\n",
    "    r.login('dingdong1111', '01001759',disable_warning=True)\n",
    "\n",
    "    user=r.get_redditor(user_list[i])\n",
    "    comments=[]\n",
    "    liked=[]\n",
    "    disliked=[]\n",
    "    submitted=[]\n",
    "    for x in user.get_comments(limit=None,time='All'):\n",
    "        comments.append(x) #Get scores if possible\n",
    "    for x in user.get_liked():\n",
    "        liked.append(x)\n",
    "    for x in user.get_disliked():\n",
    "        disliked.append(x)\n",
    "    for x in user.get_submitted():\n",
    "        submitted.append(x)\n",
    "\n",
    "    if i%20==0:\n",
    "            print \"  Finished\",count,\"Out of\",len(user_list)\n",
    "            print \"    Time Elapsed:\",(time.time()-current_time)/60.,\"minutes\"\n",
    "    user_info[user_list[i]]=[comments,liked,disliked,submitted]\n",
    "    with open(json_name, 'w') as fp:\n",
    "        json.dump(user_info, fp)\n",
    "    \n",
    "    print \"Time Spent:\",(time.time()-current_time)/60.,\"minutes\"\n",
    "    print \"Finished Collection from r/\"+subreddit_list[i][3:]\n",
    "    print"
   ]
  },
  {
   "cell_type": "code",
   "execution_count": null,
   "metadata": {
    "collapsed": true
   },
   "outputs": [],
   "source": []
  },
  {
   "cell_type": "code",
   "execution_count": null,
   "metadata": {
    "collapsed": true
   },
   "outputs": [],
   "source": []
  },
  {
   "cell_type": "code",
   "execution_count": null,
   "metadata": {
    "collapsed": false
   },
   "outputs": [],
   "source": []
  },
  {
   "cell_type": "code",
   "execution_count": null,
   "metadata": {
    "collapsed": false
   },
   "outputs": [],
   "source": []
  },
  {
   "cell_type": "code",
   "execution_count": null,
   "metadata": {
    "collapsed": false
   },
   "outputs": [],
   "source": []
  },
  {
   "cell_type": "code",
   "execution_count": null,
   "metadata": {
    "collapsed": false
   },
   "outputs": [],
   "source": []
  },
  {
   "cell_type": "code",
   "execution_count": null,
   "metadata": {
    "collapsed": false
   },
   "outputs": [],
   "source": []
  },
  {
   "cell_type": "code",
   "execution_count": null,
   "metadata": {
    "collapsed": false
   },
   "outputs": [],
   "source": []
  },
  {
   "cell_type": "code",
   "execution_count": null,
   "metadata": {
    "collapsed": true
   },
   "outputs": [],
   "source": []
  },
  {
   "cell_type": "code",
   "execution_count": null,
   "metadata": {
    "collapsed": true
   },
   "outputs": [],
   "source": []
  },
  {
   "cell_type": "code",
   "execution_count": null,
   "metadata": {
    "collapsed": true
   },
   "outputs": [],
   "source": []
  },
  {
   "cell_type": "code",
   "execution_count": null,
   "metadata": {
    "collapsed": true
   },
   "outputs": [],
   "source": []
  },
  {
   "cell_type": "code",
   "execution_count": null,
   "metadata": {
    "collapsed": true
   },
   "outputs": [],
   "source": []
  },
  {
   "cell_type": "code",
   "execution_count": null,
   "metadata": {
    "collapsed": true
   },
   "outputs": [],
   "source": []
  },
  {
   "cell_type": "code",
   "execution_count": null,
   "metadata": {
    "collapsed": true
   },
   "outputs": [],
   "source": []
  }
 ],
 "metadata": {
  "anaconda-cloud": {},
  "kernelspec": {
   "display_name": "Python [default]",
   "language": "python",
   "name": "python2"
  },
  "language_info": {
   "codemirror_mode": {
    "name": "ipython",
    "version": 2
   },
   "file_extension": ".py",
   "mimetype": "text/x-python",
   "name": "python",
   "nbconvert_exporter": "python",
   "pygments_lexer": "ipython2",
   "version": "2.7.12"
  }
 },
 "nbformat": 4,
 "nbformat_minor": 1
}
