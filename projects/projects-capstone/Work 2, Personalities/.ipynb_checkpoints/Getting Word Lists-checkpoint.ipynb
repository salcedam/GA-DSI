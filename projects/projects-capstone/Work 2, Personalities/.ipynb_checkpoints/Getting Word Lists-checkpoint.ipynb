{
 "cells": [
  {
   "cell_type": "markdown",
   "metadata": {},
   "source": [
    "### Also used the site : http://www.words-to-use.com/"
   ]
  },
  {
   "cell_type": "code",
   "execution_count": 280,
   "metadata": {
    "collapsed": false
   },
   "outputs": [],
   "source": [
    "import pandas as pd\n",
    "import numpy as np\n",
    "import matplotlib.pyplot as plt\n",
    "import seaborn as sns\n",
    "from sklearn.ensemble import ExtraTreesClassifier,GradientBoostingClassifier,RandomForestClassifier\n",
    "from sklearn.metrics import accuracy_score\n",
    "from sklearn.feature_extraction.text import CountVectorizer\n",
    "from sklearn.feature_extraction.text import HashingVectorizer\n",
    "from nltk.stem import SnowballStemmer,PorterStemmer\n",
    "from stemming import lovins,porter2,paicehusk\n",
    "import nltk\n",
    "from nltk.corpus import stopwords\n",
    "from sklearn.feature_extraction.text import TfidfVectorizer\n",
    "import stop_words\n",
    "import pprint\n",
    "import re\n",
    "import time\n",
    "import spacy\n",
    "import datetime\n",
    "import requests\n",
    "import BeautifulSoup\n",
    "import json\n",
    "%matplotlib inline"
   ]
  },
  {
   "cell_type": "code",
   "execution_count": 302,
   "metadata": {
    "collapsed": false
   },
   "outputs": [],
   "source": [
    "url='http://sexetc.org/sex-ed/sex-terms/?pageNum=100'\n",
    "r=requests.get(url)\n",
    "soup=BeautifulSoup.BeautifulSoup(r.text)\n",
    "soup=soup.findAll('article',{'class':'resource-container fl'})\n",
    "sexual_terms=[x.a.text for x in soup]"
   ]
  },
  {
   "cell_type": "code",
   "execution_count": 2,
   "metadata": {
    "collapsed": false
   },
   "outputs": [],
   "source": [
    "url='https://en.wikipedia.org/wiki/Wikipedia:List_of_controversial_issues'\n",
    "r=requests.get(url)\n",
    "soup=BeautifulSoup.BeautifulSoup(r.text)\n",
    "soup=soup.findAll('div',{'class':'div-col columns column-count column-count-2'})\n",
    "controversial_terms=[]\n",
    "for i in range(len(soup)):\n",
    "    controversial_terms.extend([x.text for x in soup[i].findAll('li')])"
   ]
  },
  {
   "cell_type": "code",
   "execution_count": 3,
   "metadata": {
    "collapsed": false
   },
   "outputs": [],
   "source": [
    "url='http://www.conservapedia.com/Essay:Best_New_Conservative_Words'\n",
    "r=requests.get(url)\n",
    "soup=BeautifulSoup.BeautifulSoup(r.text)\n",
    "conservative_terms=[]\n",
    "for i in range(1,len(soup.findAll('table')[1].findAll('tr'))):\n",
    "    conservative_terms.append(soup.findAll('table')[1].findAll('tr')[i].td.text)"
   ]
  },
  {
   "cell_type": "code",
   "execution_count": 4,
   "metadata": {
    "collapsed": true
   },
   "outputs": [],
   "source": [
    "technical_terms=[]"
   ]
  },
  {
   "cell_type": "code",
   "execution_count": 5,
   "metadata": {
    "collapsed": false
   },
   "outputs": [],
   "source": [
    "url='http://www.math.utah.edu/~wisnia/glossary.html'\n",
    "r=requests.get(url)\n",
    "soup=BeautifulSoup.BeautifulSoup(r.text)\n",
    "for x in soup.findAll('h3'):\n",
    "    technical_terms.append(x)"
   ]
  },
  {
   "cell_type": "code",
   "execution_count": 6,
   "metadata": {
    "collapsed": false
   },
   "outputs": [],
   "source": [
    "url='https://en.wikipedia.org/wiki/Glossary_of_physics'\n",
    "r=requests.get(url)\n",
    "soup=BeautifulSoup.BeautifulSoup(r.text)\n",
    "soup=soup.findAll('ul')\n",
    "for x in soup[1:-37]:\n",
    "    for y in x.findAll('a'):\n",
    "        technical_terms.append(y.text)"
   ]
  },
  {
   "cell_type": "code",
   "execution_count": 7,
   "metadata": {
    "collapsed": false
   },
   "outputs": [],
   "source": [
    "url='https://en.wikipedia.org/wiki/Glossary_of_chemistry_terms'\n",
    "r=requests.get(url)\n",
    "soup=BeautifulSoup.BeautifulSoup(r.text)\n",
    "soup=soup.findAll('ul')\n",
    "for x in soup[3:-17]:\n",
    "    for y in x.findAll('a'):\n",
    "        technical_terms.append(y.text)"
   ]
  },
  {
   "cell_type": "code",
   "execution_count": 8,
   "metadata": {
    "collapsed": false
   },
   "outputs": [],
   "source": [
    "url='https://en.wikipedia.org/wiki/Glossary_of_biology'\n",
    "r=requests.get(url)\n",
    "soup=BeautifulSoup.BeautifulSoup(r.text)\n",
    "soup=soup.findAll('ul')\n",
    "for x in soup[2:-15]:\n",
    "    for y in x.findAll('a'):\n",
    "        technical_terms.append(y.text)"
   ]
  },
  {
   "cell_type": "code",
   "execution_count": 9,
   "metadata": {
    "collapsed": false
   },
   "outputs": [],
   "source": [
    "url='https://en.wikipedia.org/wiki/Glossary_of_philosophy'\n",
    "r=requests.get(url)\n",
    "soup=BeautifulSoup.BeautifulSoup(r.text)\n",
    "soup=soup.findAll('a')\n",
    "for x in soup[70:-87]:\n",
    "    technical_terms.append(x.text)"
   ]
  },
  {
   "cell_type": "code",
   "execution_count": 10,
   "metadata": {
    "collapsed": false
   },
   "outputs": [],
   "source": [
    "url='http://members.cruzio.com/~zdino/psychology/political.science.glossary.htm'\n",
    "r=requests.get(url)\n",
    "soup=BeautifulSoup.BeautifulSoup(r.text)\n",
    "soup=soup.findAll('dl')\n",
    "for x in soup:\n",
    "    for y in x.findAll('a'):\n",
    "        if len(y.text)>1:\n",
    "            technical_terms.append(y.text)"
   ]
  },
  {
   "cell_type": "code",
   "execution_count": 20,
   "metadata": {
    "collapsed": false
   },
   "outputs": [],
   "source": [
    "url='http://www.hermes-press.com/psgloss1.htm'\n",
    "r=requests.get(url)\n",
    "soup=BeautifulSoup.BeautifulSoup(r.text)\n",
    "soup=soup.findAll('p')\n",
    "for x in soup:\n",
    "    for y in x.text.split('.'):\n",
    "        for z in y.split('-'):\n",
    "            if len(z)<15 and len(z)>5:\n",
    "                if 'U' not in z:\n",
    "                    z=z.strip(')').strip(', ').strip('(')\n",
    "                    technical_terms.append(z)"
   ]
  },
  {
   "cell_type": "code",
   "execution_count": 21,
   "metadata": {
    "collapsed": false
   },
   "outputs": [],
   "source": [
    "theological=[]\n",
    "url='http://www.rebecca-writes.com/theological-terms-in-ao/'\n",
    "r=requests.get(url)\n",
    "soup=BeautifulSoup.BeautifulSoup(r.text)\n",
    "for x in soup.findAll('a')[22:-2]:\n",
    "    theological.append(x.text)"
   ]
  },
  {
   "cell_type": "code",
   "execution_count": 74,
   "metadata": {
    "collapsed": true
   },
   "outputs": [],
   "source": [
    "sports=[]"
   ]
  },
  {
   "cell_type": "code",
   "execution_count": 75,
   "metadata": {
    "collapsed": false
   },
   "outputs": [],
   "source": [
    "url='https://en.wikipedia.org/wiki/Glossary_of_American_football'\n",
    "r=requests.get(url)\n",
    "soup=BeautifulSoup.BeautifulSoup(r.text)\n",
    "for x in soup.findAll('dt')[:-1]:\n",
    "    sports.append(x.text)"
   ]
  },
  {
   "cell_type": "code",
   "execution_count": 76,
   "metadata": {
    "collapsed": false
   },
   "outputs": [],
   "source": [
    "url='http://www.socceramerica.com/glossary/'\n",
    "r=requests.get(url)\n",
    "soup=BeautifulSoup.BeautifulSoup(r.text)\n",
    "for x in soup.findAll('strong')[19:]:\n",
    "    sports.append(x.text)"
   ]
  },
  {
   "cell_type": "code",
   "execution_count": 77,
   "metadata": {
    "collapsed": false
   },
   "outputs": [],
   "source": [
    "url='https://en.wikipedia.org/wiki/Glossary_of_professional_wrestling_terms'\n",
    "r=requests.get(url)\n",
    "soup=BeautifulSoup.BeautifulSoup(r.text)\n",
    "for x in soup.findAll('dl')[::2]:\n",
    "    sports.append(x.text)"
   ]
  },
  {
   "cell_type": "code",
   "execution_count": 78,
   "metadata": {
    "collapsed": false
   },
   "outputs": [],
   "source": [
    "url='http://wrestling.isport.com/wrestling-guides/wrestling-glossary/?key=1831'\n",
    "r=requests.get(url)\n",
    "soup=BeautifulSoup.BeautifulSoup(r.text)\n",
    "for x in soup.findAll('strong'):\n",
    "    sports.append(x.text)"
   ]
  },
  {
   "cell_type": "code",
   "execution_count": 79,
   "metadata": {
    "collapsed": false
   },
   "outputs": [],
   "source": [
    "url='https://en.wikipedia.org/wiki/Glossary_of_motorsport_terms'\n",
    "r=requests.get(url)\n",
    "soup=BeautifulSoup.BeautifulSoup(r.text)\n",
    "for x in soup.findAll('dt'):\n",
    "    sports.append(x.text)"
   ]
  },
  {
   "cell_type": "code",
   "execution_count": 80,
   "metadata": {
    "collapsed": false
   },
   "outputs": [],
   "source": [
    "url='https://en.wikipedia.org/wiki/Glossary_of_basketball_terms'\n",
    "r=requests.get(url)\n",
    "soup=BeautifulSoup.BeautifulSoup(r.text)\n",
    "for x in soup.findAll('dt'):\n",
    "    if '&#160;' in x.text:\n",
    "        sports.append(x.text[:-6])\n",
    "    else:\n",
    "        sports.append(x.text)"
   ]
  },
  {
   "cell_type": "code",
   "execution_count": 87,
   "metadata": {
    "collapsed": true
   },
   "outputs": [],
   "source": [
    "fitness=[]"
   ]
  },
  {
   "cell_type": "code",
   "execution_count": 88,
   "metadata": {
    "collapsed": false
   },
   "outputs": [],
   "source": [
    "url='http://www.bodybuilding.com/fun/glossam.htm'\n",
    "r=requests.get(url)\n",
    "soup=BeautifulSoup.BeautifulSoup(r.text)\n",
    "for x in soup.findAll('b'):\n",
    "    fitness.append(x.text)"
   ]
  },
  {
   "cell_type": "code",
   "execution_count": 89,
   "metadata": {
    "collapsed": false
   },
   "outputs": [],
   "source": [
    "url='http://www.bodybuilding.com/fun/glossnz.htm'\n",
    "r=requests.get(url)\n",
    "soup=BeautifulSoup.BeautifulSoup(r.text)\n",
    "for x in soup.findAll('strong'):\n",
    "    fitness.append(x.text)"
   ]
  },
  {
   "cell_type": "code",
   "execution_count": 103,
   "metadata": {
    "collapsed": true
   },
   "outputs": [],
   "source": [
    "anarchy=[]\n",
    "url='https://en.wikipedia.org/wiki/Glossary_of_anarchism'\n",
    "r=requests.get(url)\n",
    "soup=BeautifulSoup.BeautifulSoup(r.text)\n",
    "for x in soup.findAll('dfn'):\n",
    "    anarchy.append(x.text)"
   ]
  },
  {
   "cell_type": "code",
   "execution_count": 110,
   "metadata": {
    "collapsed": false
   },
   "outputs": [],
   "source": [
    "marxism=[]\n",
    "for letter in 'abcdefghijklmnopqrstuvwxyz':\n",
    "    baseurl='https://www.marxists.org/glossary/'+letter+'.htm'\n",
    "    r=requests.get(baseurl)\n",
    "    soup=BeautifulSoup.BeautifulSoup(r.text)\n",
    "    for x in soup.findAll('a'):\n",
    "        if '#8212;' in x.text:\n",
    "            x.text.replace('#8212;',\"-\")\n",
    "        if '&#8217;' in x.text:\n",
    "            x.text.replace('&#8217;',\"'\")\n",
    "        if '&#8211;' in x.text:\n",
    "            x.text.replace('&#8211;',\"'\")\n",
    "        marxism.append(x.text)"
   ]
  },
  {
   "cell_type": "code",
   "execution_count": 118,
   "metadata": {
    "collapsed": false
   },
   "outputs": [],
   "source": [
    "drugs=[]\n",
    "for letter in 'abcdefghijklmnopqrstuvwxyz':\n",
    "    url='http://www.noslang.com/drugs/dictionary/'+letter+'/'\n",
    "    r=requests.get(url)\n",
    "    soup=BeautifulSoup.BeautifulSoup(r.text)\n",
    "    for x in soup.findAll('b')[5:]:\n",
    "        drugs.append(x.text)"
   ]
  },
  {
   "cell_type": "code",
   "execution_count": 125,
   "metadata": {
    "collapsed": true
   },
   "outputs": [],
   "source": [
    "gaming=[]"
   ]
  },
  {
   "cell_type": "code",
   "execution_count": 126,
   "metadata": {
    "collapsed": false
   },
   "outputs": [],
   "source": [
    "url='http://www.theaveragegamer.com/terminology/'\n",
    "r=requests.get(url)\n",
    "soup=BeautifulSoup.BeautifulSoup(r.text)\n",
    "for x in soup.findAll('strong'):\n",
    "    gaming.append(x.text[:-1])"
   ]
  },
  {
   "cell_type": "code",
   "execution_count": 127,
   "metadata": {
    "collapsed": true
   },
   "outputs": [],
   "source": [
    "url='https://en.wikipedia.org/wiki/Category:Video_game_terminology'\n",
    "r=requests.get(url)\n",
    "soup=BeautifulSoup.BeautifulSoup(r.text)\n",
    "for x in soup.findAll('a')[4:]:\n",
    "    x=x.text\n",
    "    gaming.append(x)"
   ]
  },
  {
   "cell_type": "code",
   "execution_count": 152,
   "metadata": {
    "collapsed": false
   },
   "outputs": [],
   "source": [
    "url='http://videogamecritic.com/extras/glossary.htm'\n",
    "r=requests.get(url)\n",
    "soup=BeautifulSoup.BeautifulSoup(r.text)\n",
    "for x in soup.findAll('b')[:-1]:\n",
    "    gaming.append(x.text)"
   ]
  },
  {
   "cell_type": "code",
   "execution_count": 197,
   "metadata": {
    "collapsed": false
   },
   "outputs": [],
   "source": [
    "environmental=[]"
   ]
  },
  {
   "cell_type": "code",
   "execution_count": 198,
   "metadata": {
    "collapsed": true
   },
   "outputs": [],
   "source": [
    "url='http://www.theconscientioushome.net/glossary.php'\n",
    "r=requests.get(url)\n",
    "soup=BeautifulSoup.BeautifulSoup(r.text)\n",
    "for x in soup.findAll('a')[4:-26]:\n",
    "    environmental.append(x.text)"
   ]
  },
  {
   "cell_type": "code",
   "execution_count": 199,
   "metadata": {
    "collapsed": false,
    "scrolled": true
   },
   "outputs": [],
   "source": [
    "url='https://en.wikipedia.org/wiki/Glossary_of_environmental_science'\n",
    "r=requests.get(url)\n",
    "soup=BeautifulSoup.BeautifulSoup(r.text)\n",
    "for x in soup.findAll('a')[36:-134]:\n",
    "    if '[' not in x.text:\n",
    "        if 'edit' not in x.text:\n",
    "            environmental.append(x.text)"
   ]
  },
  {
   "cell_type": "code",
   "execution_count": 260,
   "metadata": {
    "collapsed": false
   },
   "outputs": [],
   "source": [
    "weirdo=[]\n",
    "url='http://imgur.com/gallery/c4oKNNO'\n",
    "r=requests.get(url)\n",
    "soup=BeautifulSoup.BeautifulSoup(r.text)\n",
    "for x in soup.findAll('div',{'class':'post-image-description'})[0]:\n",
    "    x=x.split('\\n')\n",
    "    for y in x[1:-5]:\n",
    "        weirdo.append(y.split(' =')[0])"
   ]
  },
  {
   "cell_type": "code",
   "execution_count": 262,
   "metadata": {
    "collapsed": false,
    "scrolled": true
   },
   "outputs": [],
   "source": [
    "vulgar_terms=[]"
   ]
  },
  {
   "cell_type": "code",
   "execution_count": 264,
   "metadata": {
    "collapsed": true
   },
   "outputs": [],
   "source": []
  },
  {
   "cell_type": "code",
   "execution_count": 277,
   "metadata": {
    "collapsed": true
   },
   "outputs": [],
   "source": [
    "alpha=\"abcdefghijklmnopqrstuvwxyz\"\n",
    "for letter in alpha:\n",
    "    url='http://www.noswearing.com/dictionary/'+letter\n",
    "    r=requests.get(url)\n",
    "    soup=BeautifulSoup.BeautifulSoup(r.text)\n",
    "    for x in soup.findAll('td')[3].findAll('a'):\n",
    "        vulgar_terms.append(x['name'])"
   ]
  },
  {
   "cell_type": "code",
   "execution_count": null,
   "metadata": {
    "collapsed": false
   },
   "outputs": [],
   "source": []
  },
  {
   "cell_type": "code",
   "execution_count": null,
   "metadata": {
    "collapsed": true
   },
   "outputs": [],
   "source": []
  },
  {
   "cell_type": "code",
   "execution_count": null,
   "metadata": {
    "collapsed": true
   },
   "outputs": [],
   "source": []
  },
  {
   "cell_type": "code",
   "execution_count": null,
   "metadata": {
    "collapsed": true
   },
   "outputs": [],
   "source": []
  },
  {
   "cell_type": "code",
   "execution_count": 34,
   "metadata": {
    "collapsed": true
   },
   "outputs": [],
   "source": [
    "liberal_string=\"\"\"Ally: Someone who advocates for and supports members of a community other than their own.\n",
    "Reaching across differences to achieve mutual goals.\n",
    "Androgynous: Someone who reflects an appearance that is both masculine and feminine, or who\n",
    "appears to be neither or both a boy and a girl.\n",
    "Asexual: Having no evident sex or sex organs. In usage, may refer to a person who is not sexually\n",
    "active, or not sexually attracted to other people.\n",
    "Bias: Prejudice; an inclination or preference, especially one that interferes with impartial judgment.\n",
    "Bigendered: Refers to those who feel they have both a male and a female side to their\n",
    "personalities. Some “bigendered” people crossdress, others may eventually have a sex-change\n",
    "operation, others may do neither.\n",
    "Biphobia: The irrational fear and intolerance of people who are bisexual.\n",
    "Birth Sex/Sex: The sex one is assigned at birth due to the presence of whatever external sex\n",
    "organs. Once this determination is made, it becomes a label used for raising the child in either one\n",
    "gender image or other (either as male or female).\n",
    "Bisexual: Also bi. A person who is attracted to two sexes or two genders, but not necessarily\n",
    "simultaneously or equally. [This used to be defined as a person who is attracted to both genders or\n",
    "both sexes, but since there are not only two sexes (see intersex and transsexual) and there are not\n",
    "only two genders (see transgender), this definition is inaccurate.]\n",
    "Coming out: To recognize one’s sexual orientation, gender identity, or sex identity, and to be\n",
    "open about it with oneself and with others.\n",
    "Cross Living: Living full-time in the preferred gender image, opposite to one’s assigned sex at\n",
    "birth, generally in preparation for a sex change operation.\n",
    "Direction: Refers to the way in which one is crossing the gender line. Masculine/Male to\n",
    "Feminine/Female (MTF) is one way; Feminine/ Female to Masculine/Male (FTM) is another. \n",
    " 2\n",
    "Discrimination: The act of showing partiality or prejudice; a prejudicial act.\n",
    "Domestic Partner: One who lives with their beloved and/or is at least emotionally and financially\n",
    "connected in a supportive manner with another. Another word for spouse, lover, significant other,\n",
    "etc.\n",
    "Dominant culture: The cultural values, beliefs, and practices that are assumed to be the most\n",
    "common and influential within a given society.\n",
    "Drab: Means dressing as a boy, referring to men’s clothes or wearing men’s clothes; is used\n",
    "mainly by gender benders and cross-dressers of both directions. Drag: The act of dressing in\n",
    "gendered clothing as part of a performance. Drag Queens perform in highly feminine attire. Drag\n",
    "Kings perform in highly masculine attire. Drag may be performed as a political comment on\n",
    "gender, as parody, or simply as entertainment. Drag performance does not indicate sexuality,\n",
    "gender identity, or sex identity.\n",
    "Family: Colloquial term used to identify other LGBTIQ community members. For example, an\n",
    "LGBTIQ person saying, “that person is family” often means that the person they are referring to is\n",
    "LGBTIQ as well.\n",
    "Family of choice (chosen family): Persons or group of people an individual sees as significant in\n",
    "his or her life. It may include none, all, or some members of his or her family of origin. In addition,\n",
    "it may include individuals such as significant others, domestic partners, friends, and coworkers.\n",
    "FTM: female-to-male (transvestite or transsexual).\n",
    "Gay: Men attracted to men. Colloquially used as an umbrella term to include all LGBTIQ people.\n",
    "Gender: 1) A socially constructed system of classification that ascribes qualities of masculinity\n",
    "and femininity to people. Gender characteristics can change over time and are different between\n",
    "cultures. Words that refer to gender include: man, woman, transgender, masculine, feminine, and\n",
    "gender queer. 2) One’s sense of self as masculine or feminine regardless of external genitalia. 3)\n",
    "Refers to the way we perceive certain things to be masculine or feminine. These things need not be\n",
    "human; for example, in the language of many cultures, cups are feminine, and pencils masculine.\n",
    "[Traditionally, we tend to associate gender – that is, masculine and feminine meanings – with\n",
    "features that include: · physical sex or genitals; · other physical features (for example height,\n",
    "weight, and body hair); · sexual orientation (gay men are often considered more feminine than their\n",
    "heterosexual counterparts, and lesbian women more masculine); and · behavior or dress (a man\n",
    "who cries may be considered unmanly, a woman who is aggressive or wears a suit-coat and slacks\n",
    "may be considered unfeminine).]\n",
    "Gender Binary System: A system of oppression that requires everyone to be raised either male or\n",
    "female, and masculine or feminine. Eliminates 5 the possibility for other gender expressions, and\n",
    "gives power to people whose genders do not break gender norms at the expense of transgender and\n",
    "intersex people. Manifests itself as transphobia. \n",
    " 3\n",
    "Gender Characteristics: Refers to the primary and secondary sexual physical characteristics like\n",
    "height, weight, and body hair, over which the individual has no control and which do not constitute\n",
    "part of their expression or identification. Examples might include a man with a high voice, a\n",
    "woman with prominent facial hair, or a person with anomalous genitalia (more correctly referred to\n",
    "as “intersex”).\n",
    "Gender Conformity: When your gender identity and sex “match” (i.e. fit social norms). For\n",
    "example, a male who is masculine and identifies as a man.\n",
    "Gender Expression/Gender Image: The way one presents oneself to the world, as either\n",
    "masculine or feminine, or both or neither. This can include dress, posture, vocal inflection, and\n",
    "other behavior.\n",
    "Gender Identity: 1) “Gender identity” refers to an individual’s self-awareness or fundamental\n",
    "sense of themselves as being masculine or feminine, and male or female. The phrase “gender\n",
    "identity” originated as a psychiatric term, and is commonly used to protect transsexual or\n",
    "transgender employees, particularly those who transition from one sex to another on the job. 2)\n",
    "The gender that a person sees oneself as. This can include refusing to label oneself with a gender.\n",
    "Gender identity is also often conflated with sexual orientation, but this is inaccurate. Gender\n",
    "identity does not cause sexual orientation. For example, a masculine woman is not necessarily a\n",
    "lesbian.\n",
    "Genderism: Holding people to traditional expectations based on gender, or punishing or excluding\n",
    "those who don’t conform to traditional gender expectations.\n",
    "Gender-neutral: Nondiscriminatory language to describe relationships—e.g. “spouse” and\n",
    "“partner” are gender-neutral alternatives to the gender-specific words “husband,” “wife,”\n",
    "“boyfriend” and “girlfriend.”\n",
    "Gender Queer (or Genderqueer): A person who redefines or plays with gender, or who refuses\n",
    "gender altogether. A label for people who bend/break the rules of gender and blur the boundaries.\n",
    "Gender Role: How “masculine” or “feminine” an individual acts. Societies commonly have norms\n",
    "regarding how males and females should behave, expecting people to have personality\n",
    "characteristics and/or act a certain way based on their biological sex.\n",
    "Gender Stereotypes: “Gender stereotypes” are the patterns or mental templates for what we\n",
    "expect members of each sex to be. For instance, the stereotype for males frequently includes being\n",
    "tall, muscular, hirsute, solitary, and impassive. For females it might include being small, weak,\n",
    "social, sensitive, and emotional.\n",
    "Gender-variant / Gender non-conforming: Displaying gender traits that are not normatively\n",
    "associated with their biological sex. “Feminine” behavior or appearance in a male is gender-variant\n",
    "as is “masculine” behavior or appearance a female. Gender-variant behavior is culturally specific.\n",
    " 4\n",
    "Genetic: refers to the chromosomal endowment of the individual, with emphasis on the sex\n",
    "chromosomes (XX in women and XY in men).\n",
    "Hate crime: Hate crime legislation often defines a hate crime as a crime motivated by the actual or\n",
    "perceived race, color, religion, national origin, ethnicity, gender, disability, or sexual orientation of\n",
    "any person.\n",
    "Heterosexism: Assuming every person to be heterosexual therefore marginalizing persons who do\n",
    "not identify as heterosexual. It is also believing heterosexuality to be superior to homosexuality\n",
    "and all other sexual orientations.\n",
    "Heterosexuality: Sexual, emotional, and/or romantic attraction to a sex other than your own.\n",
    "Commonly thought of as “attraction to the opposite sex” but since there are not only two sexes (see\n",
    "intersex and transsexual), this definition is inaccurate.\n",
    "Heterosexual Privilege: Benefits derived automatically by being (or being perceived as)\n",
    "heterosexual that are denied to homosexuals, bisexuals, and queers.\n",
    "Homophobia: The irrational fear and intolerance of people who are homosexual or of homosexual\n",
    "feelings within one’s self. This assumes that heterosexuality is superior.\n",
    "Homosexuality: Sexual, emotional, and/or romantic attraction to the same sex.\n",
    "Institutional Oppression: Arrangement of a society used to benefit one group at the expense of\n",
    "another through the use of language, media education, religion, economics, etc.\n",
    "Internalized Oppression: The process by which an oppressed person comes to believe, accept, or\n",
    "live out the inaccurate stereotypes and misinformation about their group.\n",
    "Intersex: Intersexuality is a set of medical conditions that feature congenital anomaly of the\n",
    "reproductive and sexual system. That is, intersex people are born with “sex chromosomes,”\n",
    "external genitalia, or internal reproductive systems that are not considered “standard” for either\n",
    "male or female. The existence of intersexuals shows that there are not just two 10 sexes and that\n",
    "our ways of thinking about sex (trying to force everyone to fit into either the male box or the\n",
    "female box) is socially constructed. About 1 in 2000 infants born are at risk for intersex genital\n",
    "mutilation. An even higher proportion of the population is intersex in some way. This word\n",
    "replaces “hermaphrodite”, which is generally considered impolite and/or derogatory.\n",
    "In the closet: Keeping one’s sexual orientation and/or gender or sex identity a secret.\n",
    "Invisible minority: A group whose minority status is not always immediately visible, such as\n",
    "some disabled people and LGBTIQ people. This lack of visibility may make organizing for rights\n",
    "difficult.\n",
    "Lambda: The Gay Activist Alliance originally chose the lambda, the Greek letter “L”, as a symbol\n",
    "in 1970. Organizers chose the letter “L” to signify liberation. The word has become a way of \n",
    " 5\n",
    "expressing the concept “lesbian and gay male” in a minimum of syllables and has been adopted by\n",
    "such organizations as Lambda Legal Defense and Education Fund.\n",
    "Lesbian: A woman attracted to women.\n",
    "LGBTIQ: Lesbian, Gay, Bisexual, Transgender, Intersex, Queer.\n",
    "Male supremacy: A system of oppression that gives power to men and values masculinity, at the\n",
    "expense of women and femininity.\n",
    "Marginalized: Excluded, ignored, or relegated to the outer edge of a group/society/community.\n",
    "Men who have sex with men (MSM): Men who engage in same-sex behavior, but who may not\n",
    "necessarily self-identify as gay.\n",
    "MTF: Male to Female (transvestite or transsexual).\n",
    "Non-Op: Refers to transsexuals who seek sex reassignment through hormones and who crosslive,\n",
    "but stop just short of surgery. Some have concerns about major surgery, which is not always\n",
    "successful, others are unable to pay for the expensive procedures surgery would entail, and still\n",
    "others feel that they are complete without the surgery.\n",
    "On T: When a FTM takes the hormone testosterone.\n",
    "Oppression: Results from the use of institutional power and privilege where one person or group\n",
    "benefits at the expense of another. Oppression is the use of power and the effects of domination.\n",
    "Out or Out of the closet: Refers to varying degrees of being open about one’s sexual orientation\n",
    "and/or sex identity or gender identity.\n",
    "Pansexual: A person who is fluid in sexual orientation and/or gender or sex identity.\n",
    "Pass: Means to be in your preferred gender image and to be able to do so convincingly in the eyes\n",
    "of those around you, for example an FTM or cross dresser or drag king who looks like a man and\n",
    "not like a woman.\n",
    "Polyamory: The practice of having multiple open, honest love relationships.\n",
    "Post-Op: A transsexual who has had their sex change operation and now has the physical anatomy\n",
    "which mimics that of the sex they have transitioned to.\n",
    "(Institutional) Power: Means control, access and influence. In U.S. society, power means having\n",
    "control of and access to ruling institutions; freedom from the threat of being questioned or\n",
    "reprimanded for wrong-doing; and the ability to define standards and norms.\n",
    "Present: Refers to gender expression and the process of reflecting ones gender to others; someone\n",
    "who is bigendered may present as female one day and male the next. \n",
    " 6\n",
    "Pre-Op: A transsexual who has not yet had their sex change operation(s) but who ‘plans on having\n",
    "it/them.\n",
    "Privilege: Means a right, a favor, an immunity or an advantage specially granted to one individual\n",
    "or group and withheld from another.\n",
    "Queer: 1) An umbrella term used to refer to all LGBTIQ people. 2) A political statement, as well\n",
    "as a sexual orientation, which advocates breaking binary thinking and seeing both sexual 14\n",
    "orientation and gender identity as potentially fluid. 3) A simple label to explain a complex set of\n",
    "sexual behaviors and desires. For example, a person who is attracted to multiple genders may\n",
    "identify as queer. Many older LGBT people feel the word has been hatefully used against them for\n",
    "too long and are reluctant to embrace it. 4) Originally a synonym for “odd”, this word became a\n",
    "derogatory expression for gays in the 20th Century. Even though many people still use “queer” as\n",
    "an anti-gay epithet, a movement emerged in the 1980s that calls itself queer. Used in this way,\n",
    "queer means sexually dissident, but not necessarily gay. Many gays, transsexuals, bisexuals and\n",
    "even heterosexuals whose sexuality doesn’t fit into the cultural standard of monogamous\n",
    "heterosexual marriage have adopted the “queer” label. In academic circles, the term “queer” often\n",
    "refers to the approaches and sensibilities of queer theory.\n",
    "Racism: Discrimination against people of color that results from the white supremacy system of\n",
    "domination. Racism is prejudice plus institutional power.\n",
    "Rainbow Flag: The Rainbow Freedom Flag was designed in 1978 by Gilbert Baker to designate\n",
    "the great diversity of the LGBTIQ community. It has been recognized by the International Flag\n",
    "Makers Association as the official flag of the LGBTIQ civil rights movement.\n",
    "Self-Identify: Refers to the process of people choosing with which identifying terms/groups they\n",
    "identify. (E.g. Someone could self-identify as male, female or bigendered, multi-racial, etc.)\n",
    "Sex: Refers to a person based on their anatomy (external genitalia, chromosomes, and internal\n",
    "reproductive system). Sex terms are male, female, transsexual, and intersex. Sex is biological,\n",
    "although social views and experiences of sex are cultural.\n",
    "Sex Identity: The sex that a person sees themselves as. This can include refusing to label oneself\n",
    "with a sex.\n",
    "Sexism: Discrimination against women that results from the male supremacy system of oppression.\n",
    "Sex-Reassignment Surgery (SRS): Sex change operation.\n",
    "Sexual minority: 1) Refers to members of sexual orientations or who engage in sexual activities\n",
    "that are not part of the mainstream. 2) Refers to members of sex groups that do not fall into the\n",
    "majority categories of male or female, such as intersexuals and transsexuals. \n",
    " 7\n",
    "Sexual Orientation: The deep-seated direction of one’s sexual (erotic) attraction. It is on a\n",
    "continuum and not a set of absolute categories, sometimes referred to as affection orientation or\n",
    "sexuality.\n",
    "Socialized: Refers to the “training” process that takes place once birth sex is determined/decided\n",
    "upon. People whose birth sex is female are “socialized” as women although they may or may not\n",
    "self-identify as women.\n",
    "SRS: Acronym for Sexual Reassignment Surgery, the surgery done by transsexuals to make their\n",
    "bodies and their sex identity match.\n",
    "Stereotype: An exaggerated oversimplified belief about an entire group of people without regard\n",
    "for individual differences.\n",
    "Straight: Person who is attracted to a gender other than their own. [Commonly thought of as\n",
    "“attraction to the opposite gender,” but since there are not only two genders (see transgender),\n",
    "this definition is inaccurate.]\n",
    "Systems of oppression: Interlocking societal, economic, moral, and religious values that keep\n",
    "many groups of people down to ensure the power and advantage of a few groups or one group of\n",
    "people. Some systems of oppression in the US and Europe include: heterosexism, male supremacy,\n",
    "white supremacy and the gender binary system.\n",
    "Trans Female/Woman: A male-to-female transition (MTF). [The medical literature tends to use\n",
    "the extremely demeaning term “male transsexual” to mean the same thing. Note that you can tell\n",
    "the preferred form is in use when the gender word comes after the “T” word.]\n",
    "Transgender: 1) Transgender (sometimes shortened to trans or TG) people are those whose\n",
    "psychological self (“gender identity”) differs from the social expectations for the physical sex they\n",
    "were born with. To understand this, one must understand the difference between biological sex,\n",
    "which is one’s body (genitals, chromosomes, ect.), and social gender, which refers to levels of\n",
    "masculinity and femininity. Often, society conflates sex and gender, viewing them as the same\n",
    "thing. But, gender and sex are not the same thing. Transgender people are those whose\n",
    "psychological self (“gender identity”) differs from the social expectations for the physical sex they\n",
    "were born with. For example, a female with a masculine gender identity or who identifies as a man.\n",
    "2) An umbrella term for transsexuals, cross-dressers (transvestites), transgenderists, gender queers,\n",
    "and people who identify as neither female nor male and/or as neither a man or as a woman.\n",
    "Transgender is not a sexual orientation; transgender people may have any sexual orientation. It is\n",
    "important to acknowledge that while some people may fit under this definition of transgender, they\n",
    "may not identify as such.\n",
    "Transgenderist: A person who lives either full time, or most of the time, in a gender role different\n",
    "than the role associated with their biological or chromosomal sex (a gender nonconformist).\n",
    "Transition: A complicated, multi-step process that can take years as transsexuals align their\n",
    "anatomy with their sex identity; this process may ultimately include sex reassignment surgery\n",
    "(SRS). \n",
    " 8\n",
    "Trans Man/Male: A female-to-male transition (FTM). [The medical literature tends to use the\n",
    "extremely demeaning term “female transsexual” to mean the same thing. Note that you can tell the\n",
    "preferred form is in use when the gender word comes after the “T” word.]\n",
    "Transphobia: 1) Discrimination, fear or hatred of people who blur traditional gender lines that\n",
    "results from the gender binary system. Often comes from one’s own insecurity about being a “real\n",
    "man,” or a “real woman.” 2) Fear or hatred of transgender people; transphobia is manifested in a\n",
    "number of ways, including violence, harassment and discrimination.\n",
    "Transsexual: Refers to a person who experiences a mismatch of the biological sex they were born\n",
    "as and the biological sex they identify as. A transsexual sometimes undergoes medical treatment to\n",
    "change his/her physical sex to match his/her sex identity through hormone treatments and/or\n",
    "surgically. [Transexuals are included in the umbrella term transgender, but not all transgendered\n",
    "people are transsexual. See also gender, sex, transgender.]\n",
    "Transvestite/Cross Dresser: Individuals who regularly or occasionally wear the clothing socially\n",
    "assigned to a gender not their own, but are usually comfortable with their anatomy and do not wish\n",
    "to change it (i.e. they are not transsexuals). Cross-dresser is the preferred term for men who enjoy\n",
    "or prefer women’s clothing and social roles. Contrary to popular belief, the overwhelming majority\n",
    "of male cross-dressers identify as straight and often are married. Very few women call themselves\n",
    "cross dressers.\n",
    "Triangle: A symbol of remembrance. Gay men in the Nazi concentration camps were forced to\n",
    "wear the pink triangle as a designation of being homosexual. Women who did not conform to\n",
    "social roles, often believed to be lesbians, had to wear the black triangle. The triangles are worn\n",
    "today as symbols of freedom, reminding us to never forget. \"\"\""
   ]
  },
  {
   "cell_type": "code",
   "execution_count": 40,
   "metadata": {
    "collapsed": false
   },
   "outputs": [],
   "source": [
    "liberal_terms=[]\n",
    "for x in liberal_string.split('\\n'):\n",
    "    if len(x.split(\":\"))>1:\n",
    "        liberal_terms.append(x.split(\":\")[0])"
   ]
  },
  {
   "cell_type": "code",
   "execution_count": 200,
   "metadata": {
    "collapsed": true
   },
   "outputs": [],
   "source": [
    "url='http://bellebrita.com/2014/08/feminism-101-learning-lingo/'\n",
    "r=requests.get(url)\n",
    "soup=BeautifulSoup.BeautifulSoup(r.text)\n",
    "for x in soup.findAll('p')[12:-44]:\n",
    "    x=x.text\n",
    "    x=x.split(':')[0]\n",
    "    liberal_terms.append(x)"
   ]
  },
  {
   "cell_type": "code",
   "execution_count": 227,
   "metadata": {
    "collapsed": false,
    "scrolled": true
   },
   "outputs": [],
   "source": [
    "df=pd.DataFrame()"
   ]
  },
  {
   "cell_type": "code",
   "execution_count": null,
   "metadata": {
    "collapsed": true
   },
   "outputs": [],
   "source": [
    "df.to_json"
   ]
  },
  {
   "cell_type": "code",
   "execution_count": 215,
   "metadata": {
    "collapsed": false
   },
   "outputs": [],
   "source": [
    "created_list=[liberal_terms,environmental,gaming,drugs,marxism,anarchy,fitness,sports,theological,technical_terms,\\\n",
    "    conservative_terms,controversial_terms,weirdo,vulgar_terms,sexual_terms]"
   ]
  },
  {
   "cell_type": "code",
   "execution_count": 228,
   "metadata": {
    "collapsed": false
   },
   "outputs": [],
   "source": [
    "for x,y in zip(created_list,['liberal_terms','environmental','gaming','drugs','marxism','anarchy','fitness','sports',\\\n",
    "            'theological','technical_terms','conservative_terms','controversial_terms','weirdo','vulgar_terms',\\\n",
    "                            'sexual_terms']):\n",
    "    json_name='/Users/thomas/GA-DSI/projects/projects-capstone/Work 2, Personalities/Key Terms Lists/'+y+'.json'\n",
    "    df=pd.DataFrame(x,columns=['Terms'])\n",
    "    json_file=df.to_json()\n",
    "    with open(json_name, 'w') as fp:\n",
    "        json.dump(json_file, fp)"
   ]
  },
  {
   "cell_type": "code",
   "execution_count": 304,
   "metadata": {
    "collapsed": false
   },
   "outputs": [],
   "source": [
    "json_name='/Users/thomas/GA-DSI/projects/projects-capstone/Work 2, Personalities/Key Terms Lists/'+insert name here+'.json'\n",
    "with open(json_name, 'w') as fp:\n",
    "        json.dump(sexual_terms, fp)"
   ]
  },
  {
   "cell_type": "code",
   "execution_count": null,
   "metadata": {
    "collapsed": true
   },
   "outputs": [],
   "source": []
  },
  {
   "cell_type": "code",
   "execution_count": 334,
   "metadata": {
    "collapsed": true
   },
   "outputs": [],
   "source": [
    "from nltk import pos_tag, ne_chunk\n",
    "from nltk.tokenize import SpaceTokenizer\n",
    "import nltk.tokenize as tokenize\n",
    "import pandas as pd\n",
    "import numpy as np\n",
    "import matplotlib.pyplot as plt\n",
    "import seaborn as sns\n",
    "from sklearn.ensemble import ExtraTreesClassifier,GradientBoostingClassifier,RandomForestClassifier\n",
    "from sklearn.metrics import accuracy_score,classification_report,confusion_matrix\n",
    "from sklearn.feature_extraction.text import CountVectorizer\n",
    "from sklearn.feature_extraction.text import HashingVectorizer\n",
    "from nltk.stem import SnowballStemmer,PorterStemmer\n",
    "from stemming import lovins,porter2,paicehusk\n",
    "import nltk\n",
    "from nltk.corpus import stopwords\n",
    "from sklearn.feature_extraction.text import TfidfVectorizer\n",
    "import stop_words\n",
    "import pprint\n",
    "import re\n",
    "import time\n",
    "import spacy\n",
    "import datetime\n",
    "import requests\n",
    "import BeautifulSoup\n",
    "\n",
    "stoppers=stopwords.words('english')\n",
    "stoppers= [x.lower() for x in stoppers]\n",
    "%matplotlib inline\n",
    "tokenizer = SpaceTokenizer()"
   ]
  },
  {
   "cell_type": "code",
   "execution_count": 306,
   "metadata": {
    "collapsed": true
   },
   "outputs": [],
   "source": [
    "category_lists=[\"aggression.csv\", \"anarchy.json\", \"animals.csv\", \"art_and_literature.csv\", \"cars.csv\", \n",
    "                \"companies.csv\",\\\n",
    "                \"conservative_terms.json\", \"controversial_terms.json\", \"drugs.json\", \"eco_friendly.csv\",\\\n",
    "                \"environmental.json\", \"feminine_terms.csv\", \"fitness.json\", \"gaming.json\", \"liberal_terms.json\",\\\n",
    "                \"marxism.json\", \"music_and_television.csv\", \"outdoors_words.csv\", \"romantic_words.csv\",\\\n",
    "                \"sadness_sorry.csv\",\"sentiment_pos.csv\",\"sentiment_neg.csv\", \"sentiment_neutral.csv\", \\\n",
    "                \"sexual_terms.json\", \"sports.json\", \"technical_terms.json\", \\\n",
    "                \"theological.json\", \"video_games.csv\", \"vulgar_terms.json\", \"weirdo.json\"]\n",
    "base_extension=\"/Users/thomas/GA-DSI/projects/projects-capstone/Work 2, Personalities/Key Terms Lists/\""
   ]
  },
  {
   "cell_type": "code",
   "execution_count": 307,
   "metadata": {
    "collapsed": true
   },
   "outputs": [],
   "source": [
    "# Here we are just reading in the category word lists into a list. Out put is a list of category lists.\n",
    "i=0\n",
    "category_word_list=[]\n",
    "for i in range(len(category_lists)):\n",
    "    extension=base_extension+category_lists[i]\n",
    "    if category_lists[i][-3:]=='csv':\n",
    "        df=pd.read_csv(extension)\n",
    "        words=[word for word in df.iloc[:,0]]\n",
    "    elif category_lists[i]=='sexual_terms.json':\n",
    "        df=pd.read_json(extension)\n",
    "        words=[word for word in df.iloc[:,0]]\n",
    "    else:\n",
    "        df=pd.read_table(extension)\n",
    "        info=df.columns[0]\n",
    "        info=info.strip(':').strip(',').split('\\\\\"')\n",
    "        words=[]\n",
    "        for i in range(1,len(info)):\n",
    "            if i%2==0:\n",
    "                if len(info[i])>4:\n",
    "                    words.append(info[i])\n",
    "    category_word_list.append(words)\n",
    "category_count=[]"
   ]
  },
  {
   "cell_type": "code",
   "execution_count": 308,
   "metadata": {
    "collapsed": true
   },
   "outputs": [],
   "source": [
    "all_words=[]\n",
    "new_cat_word_list=[]\n",
    "i=0\n",
    "for words in category_word_list:\n",
    "    new_cat_word_list.append([str(x).lower() for x in words])\n",
    "    cat_words=pd.DataFrame(new_cat_word_list[-1]).iloc[:,0].value_counts()\n",
    "    del_words=[]\n",
    "    for word in range(len(cat_words)):\n",
    "            ####\n",
    "            # This number below will remove words from a cat_list if they occur more than 'n' times\n",
    "        if cat_words[word]>2:\n",
    "            if cat_words[word] not in del_words:\n",
    "                del_words.append(cat_words.index[word])\n",
    "    for word in del_words:\n",
    "        while word in new_cat_word_list[-1]:\n",
    "            new_cat_word_list[-1].remove(word)\n",
    "category_word_list=new_cat_word_list\n",
    "for words in category_word_list:\n",
    "    all_words.extend(words)\n",
    "words=pd.DataFrame(all_words).iloc[:,0].value_counts()\n",
    "del_words=[]\n",
    "for word in range(len(words)):\n",
    "        ####\n",
    "        #This number will remove words that occur across categories more than 'n' number of times\n",
    "    if words[word]>5:\n",
    "        del_words.append(words.index[word])\n",
    "for word in del_words:\n",
    "    for cat in category_word_list:\n",
    "        while word in cat:\n",
    "            cat.remove(word)"
   ]
  },
  {
   "cell_type": "code",
   "execution_count": 347,
   "metadata": {
    "collapsed": false
   },
   "outputs": [
    {
     "name": "stdout",
     "output_type": "stream",
     "text": [
      "\n",
      " 1    2    3    4    5    6    7    8    9   10  11  12  13  14  15  16  17  18  19  20 \n",
      "21  22  23  24  25  26  27  28  29  30  31  32  33  34  35  36  37  38  39  40 \n",
      "41  42  43  44  45  46  47  48  49  50  51  52  53  54  55  56  57  58  59  60 \n",
      "61  62  63  64  65  66  67  68  69  70  71  72  73  74  75  76  77  78  79  80 \n",
      "81  82  83  84  85  86  87  88  89  90  91  92  93  94  95  96  97  98  99  100 \n",
      "101 \n",
      "102 \n",
      "103 \n",
      "104 \n",
      "105 \n",
      "106 \n",
      "107 \n",
      "108 \n",
      "109 \n",
      "110 \n",
      "111 \n",
      "112 \n",
      "113 \n",
      "114 \n",
      "115 \n",
      "116 \n",
      "117 \n",
      "118 \n",
      "119 \n",
      "120 \n",
      "\n",
      "121 \n",
      "122 \n",
      "123 \n",
      "124 \n",
      "125 \n",
      "\n",
      "Took 262.082026005 seconds\n"
     ]
    }
   ],
   "source": [
    "# Here, we are reading in our post information in the format ([post_type_list],[post_comments_list]).\n",
    "# Output is a list of subreddits, which contains a list of all post information.\n",
    "subreddit_names=pd.read_csv('Top Subreddits.csv')\n",
    "subreddit_list=['Subreddit Data/'+x[3:]+'.json' for x in subreddit_names['Reddit'][:125]]\n",
    "df=pd.read_json(subreddit_list[0])\n",
    "top_post_info=[]\n",
    "count=0\n",
    "start_time=time.time()\n",
    "for subreddit in subreddit_list:\n",
    "    if count%20==0:\n",
    "        print \n",
    "    if count<9:\n",
    "        print \" \",count+1,\" \",\n",
    "    elif count<100:\n",
    "        print \"\",count+1,\" \",\n",
    "    else:\n",
    "        print count+1,\" \",\n",
    "    count+=1\n",
    "    post_comments=[]\n",
    "    post_types=[]\n",
    "    subreddit_df=pd.read_json(subreddit)\n",
    "    for post in subreddit_df.columns:\n",
    "        comments=[]\n",
    "        for x in re.findall(r\"(u'comment': )(.*)|(\\n*)(,\\n\\s*u'id': )\",pprint.pformat(subreddit_df.loc[5,post])):\n",
    "            if \"u'id': u\" in x[1]:\n",
    "                comments.append(x[1][:-18])\n",
    "            else:\n",
    "                comments.append(x[1])\n",
    "        post_comments.append(comments)\n",
    "        post_types.append(subreddit_df.loc[3,post].split('.')[-1].split('/')[0][:3])\n",
    "    top_post_info.append([post_types,post_comments])\n",
    "print\n",
    "print 'Took %s seconds'%(time.time()-start_time)"
   ]
  },
  {
   "cell_type": "code",
   "execution_count": null,
   "metadata": {
    "collapsed": false
   },
   "outputs": [],
   "source": []
  },
  {
   "cell_type": "code",
   "execution_count": 368,
   "metadata": {
    "collapsed": true
   },
   "outputs": [],
   "source": [
    "# Our function will take in the subreddit data, clean the comments to get individual words, and then will \n",
    "# check all of the words in the comments of a post to create a tally of how many category words were mentioned.\n",
    "# This post-category_word_count matrix will be done for every post within a subreddit. The function will then\n",
    "# return the matrix of category_word_counts for each category for each post within a subreddit.\n",
    "common_nouns=pd.read_csv('Key Terms Lists/common_nouns.csv')\n",
    "common_nouns=[x for x in common_nouns[\"Word\"].values]\n",
    "\n",
    "def find_subreddit_nouns(word_list,curr_title):\n",
    "    newtemp=pd.DataFrame()\n",
    "    df_list=[]\n",
    "    temp_word_list=[]\n",
    "    print \"Starting Word Vectorization #%s at:\"%curr_title,time.ctime()\n",
    "    \n",
    "    #---\n",
    "    for test in word_list[1]:\n",
    "        new_words=[]\n",
    "        all_words=\"\"\n",
    "        for text in test:\n",
    "            all_words+=text+\" \"\n",
    "        all_words=all_words.replace(\"u'\",\"'\")\n",
    "        all_words=all_words.replace('\\\\n',\" \")\n",
    "        all_words=all_words.replace(\"\\\\\",\"\")\n",
    "        all_words=all_words.replace(\"\\'\",\"\")\n",
    "        if len(all_words)>8:\n",
    "            new_words=[word for word in all_words.split(\" \") if word not in stoppers]\n",
    "        temp_word_list.append(new_words)\n",
    "    #---\n",
    "    counter=0\n",
    "    category_count=[]\n",
    "    nouns=[]\n",
    "    proper_nouns=[]\n",
    "    full_names=[]\n",
    "    for post_word_list in temp_word_list:\n",
    "        counter+=1\n",
    "        if counter%75==0:\n",
    "            print \"Running Number\",counter,\"of 100\"\n",
    "        category_count.append([])\n",
    "        for category_index in range(len(category_word_list)):\n",
    "            cat_count=0\n",
    "            for word in category_word_list[category_index]:\n",
    "                cat_count+=post_word_list.count(word)\n",
    "            category_count[-1].append([])\n",
    "            category_count[-1][category_index]=cat_count\n",
    "        sentence=\"\"\n",
    "        for word in post_word_list:\n",
    "            sentence+=word+' '\n",
    "        tokenized=tokenizer.tokenize(sentence)\n",
    "        tokenized=[x for x in tokenized if len(x)>0]\n",
    "        things= [x[0] for x in pos_tag(tokenized) if (('nns'== x[1].lower()) or ('nnp'==x[1].lower()))]\n",
    "        things2=[]\n",
    "        for word in things:\n",
    "            word=word.strip('.').strip(',')\n",
    "            things2.append(word)\n",
    "        words= [str(x).lower() for x in things2 if x.lower() not in stoppers]\n",
    "        \n",
    "        sentence=\"\"\n",
    "        for word in words:\n",
    "            sentence+=word+' '\n",
    "        tokenized=tokenizer.tokenize(sentence)\n",
    "        tokenized=[x for x in tokenized if len(x)>0]\n",
    "        pos = pos_tag(tokenized)\n",
    "        chunked_nes = ne_chunk(pos) \n",
    "        nes = [' '.join(map(lambda x: x[0], ne.leaves())) for ne in chunked_nes if isinstance(ne, nltk.tree.Tree)]\n",
    "        full_names.append(nes)\n",
    "        \n",
    "        nouns.append([])    \n",
    "        proper_nouns.append([])\n",
    "        for word in words:\n",
    "            if word in common_nouns:\n",
    "                nouns[-1].append(word)\n",
    "#             else:\n",
    "#                 proper_nouns[-1].append(word)\n",
    "    \n",
    "    cat_df=pd.DataFrame(category_count,columns=category_lists)\n",
    "    noun_df=noun_vectorizer(nouns)\n",
    "    pnoun_df=noun_vectorizer(proper_nouns)\n",
    "    full_names_df=noun_vectorizer(full_names)\n",
    "    \n",
    "    return cat_df,noun_df,pnoun_df,full_names_df\n",
    "\n",
    "def noun_vectorizer(things):\n",
    "    thing_list=[]\n",
    "    for post in things:\n",
    "        thing_list.extend(post)\n",
    "    temp=pd.DataFrame(thing_list,columns=['Words'])\n",
    "    unique_things=temp['Words'].unique()\n",
    "    subreddit_things=[]\n",
    "    for post in things:\n",
    "        subreddit_things.append([])\n",
    "        for unique_thing in unique_things:\n",
    "            subreddit_things[-1].append(post.count(unique_thing))\n",
    "    return pd.DataFrame(subreddit_things,columns=unique_things)\n",
    "\n",
    "def reddit_noun_vectorizer(noun_df_list):\n",
    "    compressed_df=pd.DataFrame()\n",
    "    for col in noun_df_list.columns:\n",
    "        store_list=[]\n",
    "        for df in noun_df_list:\n",
    "            store_list.append(max(df[col]))\n",
    "        compressed_df[col]=store_list\n",
    "    return compressed_df"
   ]
  },
  {
   "cell_type": "code",
   "execution_count": 369,
   "metadata": {
    "collapsed": false
   },
   "outputs": [
    {
     "name": "stdout",
     "output_type": "stream",
     "text": [
      "Starting Word Vectorization #1 at: Sun Dec 11 18:25:05 2016\n",
      "Running Number 75 of 100\n",
      "Starting Word Vectorization #2 at: Sun Dec 11 18:32:06 2016\n",
      "Running Number 75 of 100\n",
      "Starting Word Vectorization #3 at: Sun Dec 11 18:34:58 2016\n"
     ]
    },
    {
     "ename": "KeyboardInterrupt",
     "evalue": "",
     "output_type": "error",
     "traceback": [
      "\u001b[0;31m---------------------------------------------------------------------------\u001b[0m",
      "\u001b[0;31mKeyboardInterrupt\u001b[0m                         Traceback (most recent call last)",
      "\u001b[0;32m<ipython-input-369-64cbffd45b01>\u001b[0m in \u001b[0;36m<module>\u001b[0;34m()\u001b[0m\n\u001b[1;32m      8\u001b[0m \u001b[0;32mfor\u001b[0m \u001b[0mtop_posts\u001b[0m \u001b[0;32min\u001b[0m \u001b[0mtop_post_info\u001b[0m\u001b[0;34m:\u001b[0m\u001b[0;34m\u001b[0m\u001b[0m\n\u001b[1;32m      9\u001b[0m     \u001b[0mi\u001b[0m\u001b[0;34m+=\u001b[0m\u001b[0;36m1\u001b[0m\u001b[0;34m\u001b[0m\u001b[0m\n\u001b[0;32m---> 10\u001b[0;31m     \u001b[0ma\u001b[0m\u001b[0;34m,\u001b[0m\u001b[0mb\u001b[0m\u001b[0;34m,\u001b[0m\u001b[0mc\u001b[0m\u001b[0;34m,\u001b[0m\u001b[0md\u001b[0m\u001b[0;34m=\u001b[0m\u001b[0mfind_subreddit_nouns\u001b[0m\u001b[0;34m(\u001b[0m\u001b[0mtop_posts\u001b[0m\u001b[0;34m,\u001b[0m\u001b[0mi\u001b[0m\u001b[0;34m)\u001b[0m\u001b[0;34m\u001b[0m\u001b[0m\n\u001b[0m\u001b[1;32m     11\u001b[0m     \u001b[0mcategory_dfs\u001b[0m\u001b[0;34m.\u001b[0m\u001b[0mappend\u001b[0m\u001b[0;34m(\u001b[0m\u001b[0ma\u001b[0m\u001b[0;34m)\u001b[0m\u001b[0;34m\u001b[0m\u001b[0m\n\u001b[1;32m     12\u001b[0m     \u001b[0mnoun_dfs\u001b[0m\u001b[0;34m.\u001b[0m\u001b[0mappend\u001b[0m\u001b[0;34m(\u001b[0m\u001b[0mb\u001b[0m\u001b[0;34m)\u001b[0m\u001b[0;34m\u001b[0m\u001b[0m\n",
      "\u001b[0;32m<ipython-input-368-60ec469f67c5>\u001b[0m in \u001b[0;36mfind_subreddit_nouns\u001b[0;34m(word_list, curr_title)\u001b[0m\n\u001b[1;32m     47\u001b[0m         \u001b[0mtokenized\u001b[0m\u001b[0;34m=\u001b[0m\u001b[0mtokenizer\u001b[0m\u001b[0;34m.\u001b[0m\u001b[0mtokenize\u001b[0m\u001b[0;34m(\u001b[0m\u001b[0msentence\u001b[0m\u001b[0;34m)\u001b[0m\u001b[0;34m\u001b[0m\u001b[0m\n\u001b[1;32m     48\u001b[0m         \u001b[0mtokenized\u001b[0m\u001b[0;34m=\u001b[0m\u001b[0;34m[\u001b[0m\u001b[0mx\u001b[0m \u001b[0;32mfor\u001b[0m \u001b[0mx\u001b[0m \u001b[0;32min\u001b[0m \u001b[0mtokenized\u001b[0m \u001b[0;32mif\u001b[0m \u001b[0mlen\u001b[0m\u001b[0;34m(\u001b[0m\u001b[0mx\u001b[0m\u001b[0;34m)\u001b[0m\u001b[0;34m>\u001b[0m\u001b[0;36m0\u001b[0m\u001b[0;34m]\u001b[0m\u001b[0;34m\u001b[0m\u001b[0m\n\u001b[0;32m---> 49\u001b[0;31m         \u001b[0mthings\u001b[0m\u001b[0;34m=\u001b[0m \u001b[0;34m[\u001b[0m\u001b[0mx\u001b[0m\u001b[0;34m[\u001b[0m\u001b[0;36m0\u001b[0m\u001b[0;34m]\u001b[0m \u001b[0;32mfor\u001b[0m \u001b[0mx\u001b[0m \u001b[0;32min\u001b[0m \u001b[0mpos_tag\u001b[0m\u001b[0;34m(\u001b[0m\u001b[0mtokenized\u001b[0m\u001b[0;34m)\u001b[0m \u001b[0;32mif\u001b[0m \u001b[0;34m(\u001b[0m\u001b[0;34m(\u001b[0m\u001b[0;34m'nns'\u001b[0m\u001b[0;34m==\u001b[0m \u001b[0mx\u001b[0m\u001b[0;34m[\u001b[0m\u001b[0;36m1\u001b[0m\u001b[0;34m]\u001b[0m\u001b[0;34m.\u001b[0m\u001b[0mlower\u001b[0m\u001b[0;34m(\u001b[0m\u001b[0;34m)\u001b[0m\u001b[0;34m)\u001b[0m \u001b[0;32mor\u001b[0m \u001b[0;34m(\u001b[0m\u001b[0;34m'nnp'\u001b[0m\u001b[0;34m==\u001b[0m\u001b[0mx\u001b[0m\u001b[0;34m[\u001b[0m\u001b[0;36m1\u001b[0m\u001b[0;34m]\u001b[0m\u001b[0;34m.\u001b[0m\u001b[0mlower\u001b[0m\u001b[0;34m(\u001b[0m\u001b[0;34m)\u001b[0m\u001b[0;34m)\u001b[0m\u001b[0;34m)\u001b[0m\u001b[0;34m]\u001b[0m\u001b[0;34m\u001b[0m\u001b[0m\n\u001b[0m\u001b[1;32m     50\u001b[0m         \u001b[0mthings2\u001b[0m\u001b[0;34m=\u001b[0m\u001b[0;34m[\u001b[0m\u001b[0;34m]\u001b[0m\u001b[0;34m\u001b[0m\u001b[0m\n\u001b[1;32m     51\u001b[0m         \u001b[0;32mfor\u001b[0m \u001b[0mword\u001b[0m \u001b[0;32min\u001b[0m \u001b[0mthings\u001b[0m\u001b[0;34m:\u001b[0m\u001b[0;34m\u001b[0m\u001b[0m\n",
      "\u001b[0;32m/Users/thomas/anaconda/lib/python2.7/site-packages/nltk/tag/__init__.pyc\u001b[0m in \u001b[0;36mpos_tag\u001b[0;34m(tokens, tagset)\u001b[0m\n\u001b[1;32m    109\u001b[0m     \"\"\"\n\u001b[1;32m    110\u001b[0m     \u001b[0mtagger\u001b[0m \u001b[0;34m=\u001b[0m \u001b[0mPerceptronTagger\u001b[0m\u001b[0;34m(\u001b[0m\u001b[0;34m)\u001b[0m\u001b[0;34m\u001b[0m\u001b[0m\n\u001b[0;32m--> 111\u001b[0;31m     \u001b[0;32mreturn\u001b[0m \u001b[0m_pos_tag\u001b[0m\u001b[0;34m(\u001b[0m\u001b[0mtokens\u001b[0m\u001b[0;34m,\u001b[0m \u001b[0mtagset\u001b[0m\u001b[0;34m,\u001b[0m \u001b[0mtagger\u001b[0m\u001b[0;34m)\u001b[0m\u001b[0;34m\u001b[0m\u001b[0m\n\u001b[0m\u001b[1;32m    112\u001b[0m \u001b[0;34m\u001b[0m\u001b[0m\n\u001b[1;32m    113\u001b[0m \u001b[0;34m\u001b[0m\u001b[0m\n",
      "\u001b[0;32m/Users/thomas/anaconda/lib/python2.7/site-packages/nltk/tag/__init__.pyc\u001b[0m in \u001b[0;36m_pos_tag\u001b[0;34m(tokens, tagset, tagger)\u001b[0m\n\u001b[1;32m     80\u001b[0m \u001b[0;34m\u001b[0m\u001b[0m\n\u001b[1;32m     81\u001b[0m \u001b[0;32mdef\u001b[0m \u001b[0m_pos_tag\u001b[0m\u001b[0;34m(\u001b[0m\u001b[0mtokens\u001b[0m\u001b[0;34m,\u001b[0m \u001b[0mtagset\u001b[0m\u001b[0;34m,\u001b[0m \u001b[0mtagger\u001b[0m\u001b[0;34m)\u001b[0m\u001b[0;34m:\u001b[0m\u001b[0;34m\u001b[0m\u001b[0m\n\u001b[0;32m---> 82\u001b[0;31m     \u001b[0mtagged_tokens\u001b[0m \u001b[0;34m=\u001b[0m \u001b[0mtagger\u001b[0m\u001b[0;34m.\u001b[0m\u001b[0mtag\u001b[0m\u001b[0;34m(\u001b[0m\u001b[0mtokens\u001b[0m\u001b[0;34m)\u001b[0m\u001b[0;34m\u001b[0m\u001b[0m\n\u001b[0m\u001b[1;32m     83\u001b[0m     \u001b[0;32mif\u001b[0m \u001b[0mtagset\u001b[0m\u001b[0;34m:\u001b[0m\u001b[0;34m\u001b[0m\u001b[0m\n\u001b[1;32m     84\u001b[0m         \u001b[0mtagged_tokens\u001b[0m \u001b[0;34m=\u001b[0m \u001b[0;34m[\u001b[0m\u001b[0;34m(\u001b[0m\u001b[0mtoken\u001b[0m\u001b[0;34m,\u001b[0m \u001b[0mmap_tag\u001b[0m\u001b[0;34m(\u001b[0m\u001b[0;34m'en-ptb'\u001b[0m\u001b[0;34m,\u001b[0m \u001b[0mtagset\u001b[0m\u001b[0;34m,\u001b[0m \u001b[0mtag\u001b[0m\u001b[0;34m)\u001b[0m\u001b[0;34m)\u001b[0m \u001b[0;32mfor\u001b[0m \u001b[0;34m(\u001b[0m\u001b[0mtoken\u001b[0m\u001b[0;34m,\u001b[0m \u001b[0mtag\u001b[0m\u001b[0;34m)\u001b[0m \u001b[0;32min\u001b[0m \u001b[0mtagged_tokens\u001b[0m\u001b[0;34m]\u001b[0m\u001b[0;34m\u001b[0m\u001b[0m\n",
      "\u001b[0;32m/Users/thomas/anaconda/lib/python2.7/site-packages/nltk/tag/perceptron.pyc\u001b[0m in \u001b[0;36mtag\u001b[0;34m(self, tokens)\u001b[0m\n\u001b[1;32m    155\u001b[0m             \u001b[0;32mif\u001b[0m \u001b[0;32mnot\u001b[0m \u001b[0mtag\u001b[0m\u001b[0;34m:\u001b[0m\u001b[0;34m\u001b[0m\u001b[0m\n\u001b[1;32m    156\u001b[0m                 \u001b[0mfeatures\u001b[0m \u001b[0;34m=\u001b[0m \u001b[0mself\u001b[0m\u001b[0;34m.\u001b[0m\u001b[0m_get_features\u001b[0m\u001b[0;34m(\u001b[0m\u001b[0mi\u001b[0m\u001b[0;34m,\u001b[0m \u001b[0mword\u001b[0m\u001b[0;34m,\u001b[0m \u001b[0mcontext\u001b[0m\u001b[0;34m,\u001b[0m \u001b[0mprev\u001b[0m\u001b[0;34m,\u001b[0m \u001b[0mprev2\u001b[0m\u001b[0;34m)\u001b[0m\u001b[0;34m\u001b[0m\u001b[0m\n\u001b[0;32m--> 157\u001b[0;31m                 \u001b[0mtag\u001b[0m \u001b[0;34m=\u001b[0m \u001b[0mself\u001b[0m\u001b[0;34m.\u001b[0m\u001b[0mmodel\u001b[0m\u001b[0;34m.\u001b[0m\u001b[0mpredict\u001b[0m\u001b[0;34m(\u001b[0m\u001b[0mfeatures\u001b[0m\u001b[0;34m)\u001b[0m\u001b[0;34m\u001b[0m\u001b[0m\n\u001b[0m\u001b[1;32m    158\u001b[0m             \u001b[0moutput\u001b[0m\u001b[0;34m.\u001b[0m\u001b[0mappend\u001b[0m\u001b[0;34m(\u001b[0m\u001b[0;34m(\u001b[0m\u001b[0mword\u001b[0m\u001b[0;34m,\u001b[0m \u001b[0mtag\u001b[0m\u001b[0;34m)\u001b[0m\u001b[0;34m)\u001b[0m\u001b[0;34m\u001b[0m\u001b[0m\n\u001b[1;32m    159\u001b[0m             \u001b[0mprev2\u001b[0m \u001b[0;34m=\u001b[0m \u001b[0mprev\u001b[0m\u001b[0;34m\u001b[0m\u001b[0m\n",
      "\u001b[0;32m/Users/thomas/anaconda/lib/python2.7/site-packages/nltk/tag/perceptron.pyc\u001b[0m in \u001b[0;36mpredict\u001b[0;34m(self, features)\u001b[0m\n\u001b[1;32m     54\u001b[0m             \u001b[0mweights\u001b[0m \u001b[0;34m=\u001b[0m \u001b[0mself\u001b[0m\u001b[0;34m.\u001b[0m\u001b[0mweights\u001b[0m\u001b[0;34m[\u001b[0m\u001b[0mfeat\u001b[0m\u001b[0;34m]\u001b[0m\u001b[0;34m\u001b[0m\u001b[0m\n\u001b[1;32m     55\u001b[0m             \u001b[0;32mfor\u001b[0m \u001b[0mlabel\u001b[0m\u001b[0;34m,\u001b[0m \u001b[0mweight\u001b[0m \u001b[0;32min\u001b[0m \u001b[0mweights\u001b[0m\u001b[0;34m.\u001b[0m\u001b[0mitems\u001b[0m\u001b[0;34m(\u001b[0m\u001b[0;34m)\u001b[0m\u001b[0;34m:\u001b[0m\u001b[0;34m\u001b[0m\u001b[0m\n\u001b[0;32m---> 56\u001b[0;31m                 \u001b[0mscores\u001b[0m\u001b[0;34m[\u001b[0m\u001b[0mlabel\u001b[0m\u001b[0;34m]\u001b[0m \u001b[0;34m+=\u001b[0m \u001b[0mvalue\u001b[0m \u001b[0;34m*\u001b[0m \u001b[0mweight\u001b[0m\u001b[0;34m\u001b[0m\u001b[0m\n\u001b[0m\u001b[1;32m     57\u001b[0m         \u001b[0;31m# Do a secondary alphabetic sort, for stability\u001b[0m\u001b[0;34m\u001b[0m\u001b[0;34m\u001b[0m\u001b[0m\n\u001b[1;32m     58\u001b[0m         \u001b[0;32mreturn\u001b[0m \u001b[0mmax\u001b[0m\u001b[0;34m(\u001b[0m\u001b[0mself\u001b[0m\u001b[0;34m.\u001b[0m\u001b[0mclasses\u001b[0m\u001b[0;34m,\u001b[0m \u001b[0mkey\u001b[0m\u001b[0;34m=\u001b[0m\u001b[0;32mlambda\u001b[0m \u001b[0mlabel\u001b[0m\u001b[0;34m:\u001b[0m \u001b[0;34m(\u001b[0m\u001b[0mscores\u001b[0m\u001b[0;34m[\u001b[0m\u001b[0mlabel\u001b[0m\u001b[0;34m]\u001b[0m\u001b[0;34m,\u001b[0m \u001b[0mlabel\u001b[0m\u001b[0;34m)\u001b[0m\u001b[0;34m)\u001b[0m\u001b[0;34m\u001b[0m\u001b[0m\n",
      "\u001b[0;31mKeyboardInterrupt\u001b[0m: "
     ]
    }
   ],
   "source": [
    "# Here, we use the function defined above to get the category_word_count matrix for each subreddit. We put \n",
    "# those matrices into a list. That list is then pickled to save time.\n",
    "i=0\n",
    "category_dfs=[]\n",
    "noun_dfs =[]\n",
    "pnoun_dfs=[]\n",
    "full_name_dfs=[]\n",
    "for top_posts in top_post_info:\n",
    "    i+=1\n",
    "    a,b,c,d=find_subreddit_nouns(top_posts,i)\n",
    "    category_dfs.append(a)\n",
    "    noun_dfs.append(b)\n",
    "    pnoun_dfs.append(c)\n",
    "    full_name_dfs.append(d)\n",
    "\n",
    "print \"Made it to reddit_noun_vectorizer\"\n",
    "noun_df_master = reddit_noun_vectorizer(noun_dfs)\n",
    "pnoun_df_master= reddit_noun_vectorizer(pnoun_dfs)\n",
    "full_name_df_master = reddit_noun_vectorizer(full_name_dfs)\n",
    "pickle.dump(category_dfs,open('Pickled_dfs/pickled_category_df','wb'))\n",
    "pickle.dump(noun_df_master,open('Pickled_dfs/pickled_noun_df','wb'))\n",
    "pickle.dump(pnoun_df_master,open('Pickled_dfs/pickled_proper_noun_df','wb'))\n",
    "pickle.dump(full_name_df_master,open('Pickled_dfs/pickled_full_name_df','wb'))"
   ]
  },
  {
   "cell_type": "code",
   "execution_count": null,
   "metadata": {
    "collapsed": false
   },
   "outputs": [],
   "source": []
  },
  {
   "cell_type": "code",
   "execution_count": null,
   "metadata": {
    "collapsed": true
   },
   "outputs": [],
   "source": []
  },
  {
   "cell_type": "code",
   "execution_count": null,
   "metadata": {
    "collapsed": true
   },
   "outputs": [],
   "source": []
  },
  {
   "cell_type": "code",
   "execution_count": null,
   "metadata": {
    "collapsed": true
   },
   "outputs": [],
   "source": []
  },
  {
   "cell_type": "code",
   "execution_count": null,
   "metadata": {
    "collapsed": true
   },
   "outputs": [],
   "source": []
  },
  {
   "cell_type": "code",
   "execution_count": null,
   "metadata": {
    "collapsed": true
   },
   "outputs": [],
   "source": []
  },
  {
   "cell_type": "code",
   "execution_count": null,
   "metadata": {
    "collapsed": true
   },
   "outputs": [],
   "source": []
  },
  {
   "cell_type": "code",
   "execution_count": null,
   "metadata": {
    "collapsed": true
   },
   "outputs": [],
   "source": []
  },
  {
   "cell_type": "code",
   "execution_count": null,
   "metadata": {
    "collapsed": true
   },
   "outputs": [],
   "source": []
  },
  {
   "cell_type": "code",
   "execution_count": null,
   "metadata": {
    "collapsed": true
   },
   "outputs": [],
   "source": []
  }
 ],
 "metadata": {
  "anaconda-cloud": {},
  "kernelspec": {
   "display_name": "Python [default]",
   "language": "python",
   "name": "python2"
  },
  "language_info": {
   "codemirror_mode": {
    "name": "ipython",
    "version": 2
   },
   "file_extension": ".py",
   "mimetype": "text/x-python",
   "name": "python",
   "nbconvert_exporter": "python",
   "pygments_lexer": "ipython2",
   "version": "2.7.12"
  }
 },
 "nbformat": 4,
 "nbformat_minor": 1
}
