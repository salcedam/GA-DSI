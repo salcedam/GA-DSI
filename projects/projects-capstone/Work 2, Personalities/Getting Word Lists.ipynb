{
 "cells": [
  {
   "cell_type": "markdown",
   "metadata": {},
   "source": [
    "### Also used the site : http://www.words-to-use.com/"
   ]
  },
  {
   "cell_type": "code",
   "execution_count": 280,
   "metadata": {
    "collapsed": false
   },
   "outputs": [],
   "source": [
    "import pandas as pd\n",
    "import numpy as np\n",
    "import matplotlib.pyplot as plt\n",
    "import seaborn as sns\n",
    "from sklearn.ensemble import ExtraTreesClassifier,GradientBoostingClassifier,RandomForestClassifier\n",
    "from sklearn.metrics import accuracy_score\n",
    "from sklearn.feature_extraction.text import CountVectorizer\n",
    "from sklearn.feature_extraction.text import HashingVectorizer\n",
    "from nltk.stem import SnowballStemmer,PorterStemmer\n",
    "from stemming import lovins,porter2,paicehusk\n",
    "import nltk\n",
    "from nltk.corpus import stopwords\n",
    "from sklearn.feature_extraction.text import TfidfVectorizer\n",
    "import stop_words\n",
    "import pprint\n",
    "import re\n",
    "import time\n",
    "import spacy\n",
    "import datetime\n",
    "import requests\n",
    "import BeautifulSoup\n",
    "import json\n",
    "%matplotlib inline"
   ]
  },
  {
   "cell_type": "code",
   "execution_count": 302,
   "metadata": {
    "collapsed": false
   },
   "outputs": [],
   "source": [
    "url='http://sexetc.org/sex-ed/sex-terms/?pageNum=100'\n",
    "r=requests.get(url)\n",
    "soup=BeautifulSoup.BeautifulSoup(r.text)\n",
    "soup=soup.findAll('article',{'class':'resource-container fl'})\n",
    "sexual_terms=[x.a.text for x in soup]"
   ]
  },
  {
   "cell_type": "code",
   "execution_count": 2,
   "metadata": {
    "collapsed": false
   },
   "outputs": [],
   "source": [
    "url='https://en.wikipedia.org/wiki/Wikipedia:List_of_controversial_issues'\n",
    "r=requests.get(url)\n",
    "soup=BeautifulSoup.BeautifulSoup(r.text)\n",
    "soup=soup.findAll('div',{'class':'div-col columns column-count column-count-2'})\n",
    "controversial_terms=[]\n",
    "for i in range(len(soup)):\n",
    "    controversial_terms.extend([x.text for x in soup[i].findAll('li')])"
   ]
  },
  {
   "cell_type": "code",
   "execution_count": 3,
   "metadata": {
    "collapsed": false
   },
   "outputs": [],
   "source": [
    "url='http://www.conservapedia.com/Essay:Best_New_Conservative_Words'\n",
    "r=requests.get(url)\n",
    "soup=BeautifulSoup.BeautifulSoup(r.text)\n",
    "conservative_terms=[]\n",
    "for i in range(1,len(soup.findAll('table')[1].findAll('tr'))):\n",
    "    conservative_terms.append(soup.findAll('table')[1].findAll('tr')[i].td.text)"
   ]
  },
  {
   "cell_type": "code",
   "execution_count": 4,
   "metadata": {
    "collapsed": true
   },
   "outputs": [],
   "source": [
    "technical_terms=[]"
   ]
  },
  {
   "cell_type": "code",
   "execution_count": 5,
   "metadata": {
    "collapsed": false
   },
   "outputs": [],
   "source": [
    "url='http://www.math.utah.edu/~wisnia/glossary.html'\n",
    "r=requests.get(url)\n",
    "soup=BeautifulSoup.BeautifulSoup(r.text)\n",
    "for x in soup.findAll('h3'):\n",
    "    technical_terms.append(x)"
   ]
  },
  {
   "cell_type": "code",
   "execution_count": 6,
   "metadata": {
    "collapsed": false
   },
   "outputs": [],
   "source": [
    "url='https://en.wikipedia.org/wiki/Glossary_of_physics'\n",
    "r=requests.get(url)\n",
    "soup=BeautifulSoup.BeautifulSoup(r.text)\n",
    "soup=soup.findAll('ul')\n",
    "for x in soup[1:-37]:\n",
    "    for y in x.findAll('a'):\n",
    "        technical_terms.append(y.text)"
   ]
  },
  {
   "cell_type": "code",
   "execution_count": 7,
   "metadata": {
    "collapsed": false
   },
   "outputs": [],
   "source": [
    "url='https://en.wikipedia.org/wiki/Glossary_of_chemistry_terms'\n",
    "r=requests.get(url)\n",
    "soup=BeautifulSoup.BeautifulSoup(r.text)\n",
    "soup=soup.findAll('ul')\n",
    "for x in soup[3:-17]:\n",
    "    for y in x.findAll('a'):\n",
    "        technical_terms.append(y.text)"
   ]
  },
  {
   "cell_type": "code",
   "execution_count": 8,
   "metadata": {
    "collapsed": false
   },
   "outputs": [],
   "source": [
    "url='https://en.wikipedia.org/wiki/Glossary_of_biology'\n",
    "r=requests.get(url)\n",
    "soup=BeautifulSoup.BeautifulSoup(r.text)\n",
    "soup=soup.findAll('ul')\n",
    "for x in soup[2:-15]:\n",
    "    for y in x.findAll('a'):\n",
    "        technical_terms.append(y.text)"
   ]
  },
  {
   "cell_type": "code",
   "execution_count": 9,
   "metadata": {
    "collapsed": false
   },
   "outputs": [],
   "source": [
    "url='https://en.wikipedia.org/wiki/Glossary_of_philosophy'\n",
    "r=requests.get(url)\n",
    "soup=BeautifulSoup.BeautifulSoup(r.text)\n",
    "soup=soup.findAll('a')\n",
    "for x in soup[70:-87]:\n",
    "    technical_terms.append(x.text)"
   ]
  },
  {
   "cell_type": "code",
   "execution_count": 10,
   "metadata": {
    "collapsed": false
   },
   "outputs": [],
   "source": [
    "url='http://members.cruzio.com/~zdino/psychology/political.science.glossary.htm'\n",
    "r=requests.get(url)\n",
    "soup=BeautifulSoup.BeautifulSoup(r.text)\n",
    "soup=soup.findAll('dl')\n",
    "for x in soup:\n",
    "    for y in x.findAll('a'):\n",
    "        if len(y.text)>1:\n",
    "            technical_terms.append(y.text)"
   ]
  },
  {
   "cell_type": "code",
   "execution_count": 20,
   "metadata": {
    "collapsed": false
   },
   "outputs": [],
   "source": [
    "url='http://www.hermes-press.com/psgloss1.htm'\n",
    "r=requests.get(url)\n",
    "soup=BeautifulSoup.BeautifulSoup(r.text)\n",
    "soup=soup.findAll('p')\n",
    "for x in soup:\n",
    "    for y in x.text.split('.'):\n",
    "        for z in y.split('-'):\n",
    "            if len(z)<15 and len(z)>5:\n",
    "                if 'U' not in z:\n",
    "                    z=z.strip(')').strip(', ').strip('(')\n",
    "                    technical_terms.append(z)"
   ]
  },
  {
   "cell_type": "code",
   "execution_count": 21,
   "metadata": {
    "collapsed": false
   },
   "outputs": [],
   "source": [
    "theological=[]\n",
    "url='http://www.rebecca-writes.com/theological-terms-in-ao/'\n",
    "r=requests.get(url)\n",
    "soup=BeautifulSoup.BeautifulSoup(r.text)\n",
    "for x in soup.findAll('a')[22:-2]:\n",
    "    theological.append(x.text)"
   ]
  },
  {
   "cell_type": "code",
   "execution_count": 74,
   "metadata": {
    "collapsed": true
   },
   "outputs": [],
   "source": [
    "sports=[]"
   ]
  },
  {
   "cell_type": "code",
   "execution_count": 75,
   "metadata": {
    "collapsed": false
   },
   "outputs": [],
   "source": [
    "url='https://en.wikipedia.org/wiki/Glossary_of_American_football'\n",
    "r=requests.get(url)\n",
    "soup=BeautifulSoup.BeautifulSoup(r.text)\n",
    "for x in soup.findAll('dt')[:-1]:\n",
    "    sports.append(x.text)"
   ]
  },
  {
   "cell_type": "code",
   "execution_count": 76,
   "metadata": {
    "collapsed": false
   },
   "outputs": [],
   "source": [
    "url='http://www.socceramerica.com/glossary/'\n",
    "r=requests.get(url)\n",
    "soup=BeautifulSoup.BeautifulSoup(r.text)\n",
    "for x in soup.findAll('strong')[19:]:\n",
    "    sports.append(x.text)"
   ]
  },
  {
   "cell_type": "code",
   "execution_count": 77,
   "metadata": {
    "collapsed": false
   },
   "outputs": [],
   "source": [
    "url='https://en.wikipedia.org/wiki/Glossary_of_professional_wrestling_terms'\n",
    "r=requests.get(url)\n",
    "soup=BeautifulSoup.BeautifulSoup(r.text)\n",
    "for x in soup.findAll('dl')[::2]:\n",
    "    sports.append(x.text)"
   ]
  },
  {
   "cell_type": "code",
   "execution_count": 78,
   "metadata": {
    "collapsed": false
   },
   "outputs": [],
   "source": [
    "url='http://wrestling.isport.com/wrestling-guides/wrestling-glossary/?key=1831'\n",
    "r=requests.get(url)\n",
    "soup=BeautifulSoup.BeautifulSoup(r.text)\n",
    "for x in soup.findAll('strong'):\n",
    "    sports.append(x.text)"
   ]
  },
  {
   "cell_type": "code",
   "execution_count": 79,
   "metadata": {
    "collapsed": false
   },
   "outputs": [],
   "source": [
    "url='https://en.wikipedia.org/wiki/Glossary_of_motorsport_terms'\n",
    "r=requests.get(url)\n",
    "soup=BeautifulSoup.BeautifulSoup(r.text)\n",
    "for x in soup.findAll('dt'):\n",
    "    sports.append(x.text)"
   ]
  },
  {
   "cell_type": "code",
   "execution_count": 80,
   "metadata": {
    "collapsed": false
   },
   "outputs": [],
   "source": [
    "url='https://en.wikipedia.org/wiki/Glossary_of_basketball_terms'\n",
    "r=requests.get(url)\n",
    "soup=BeautifulSoup.BeautifulSoup(r.text)\n",
    "for x in soup.findAll('dt'):\n",
    "    if '&#160;' in x.text:\n",
    "        sports.append(x.text[:-6])\n",
    "    else:\n",
    "        sports.append(x.text)"
   ]
  },
  {
   "cell_type": "code",
   "execution_count": 87,
   "metadata": {
    "collapsed": true
   },
   "outputs": [],
   "source": [
    "fitness=[]"
   ]
  },
  {
   "cell_type": "code",
   "execution_count": 88,
   "metadata": {
    "collapsed": false
   },
   "outputs": [],
   "source": [
    "url='http://www.bodybuilding.com/fun/glossam.htm'\n",
    "r=requests.get(url)\n",
    "soup=BeautifulSoup.BeautifulSoup(r.text)\n",
    "for x in soup.findAll('b'):\n",
    "    fitness.append(x.text)"
   ]
  },
  {
   "cell_type": "code",
   "execution_count": 89,
   "metadata": {
    "collapsed": false
   },
   "outputs": [],
   "source": [
    "url='http://www.bodybuilding.com/fun/glossnz.htm'\n",
    "r=requests.get(url)\n",
    "soup=BeautifulSoup.BeautifulSoup(r.text)\n",
    "for x in soup.findAll('strong'):\n",
    "    fitness.append(x.text)"
   ]
  },
  {
   "cell_type": "code",
   "execution_count": 103,
   "metadata": {
    "collapsed": true
   },
   "outputs": [],
   "source": [
    "anarchy=[]\n",
    "url='https://en.wikipedia.org/wiki/Glossary_of_anarchism'\n",
    "r=requests.get(url)\n",
    "soup=BeautifulSoup.BeautifulSoup(r.text)\n",
    "for x in soup.findAll('dfn'):\n",
    "    anarchy.append(x.text)"
   ]
  },
  {
   "cell_type": "code",
   "execution_count": 110,
   "metadata": {
    "collapsed": false
   },
   "outputs": [],
   "source": [
    "marxism=[]\n",
    "for letter in 'abcdefghijklmnopqrstuvwxyz':\n",
    "    baseurl='https://www.marxists.org/glossary/'+letter+'.htm'\n",
    "    r=requests.get(baseurl)\n",
    "    soup=BeautifulSoup.BeautifulSoup(r.text)\n",
    "    for x in soup.findAll('a'):\n",
    "        if '#8212;' in x.text:\n",
    "            x.text.replace('#8212;',\"-\")\n",
    "        if '&#8217;' in x.text:\n",
    "            x.text.replace('&#8217;',\"'\")\n",
    "        if '&#8211;' in x.text:\n",
    "            x.text.replace('&#8211;',\"'\")\n",
    "        marxism.append(x.text)"
   ]
  },
  {
   "cell_type": "code",
   "execution_count": 118,
   "metadata": {
    "collapsed": false
   },
   "outputs": [],
   "source": [
    "drugs=[]\n",
    "for letter in 'abcdefghijklmnopqrstuvwxyz':\n",
    "    url='http://www.noslang.com/drugs/dictionary/'+letter+'/'\n",
    "    r=requests.get(url)\n",
    "    soup=BeautifulSoup.BeautifulSoup(r.text)\n",
    "    for x in soup.findAll('b')[5:]:\n",
    "        drugs.append(x.text)"
   ]
  },
  {
   "cell_type": "code",
   "execution_count": 125,
   "metadata": {
    "collapsed": true
   },
   "outputs": [],
   "source": [
    "gaming=[]"
   ]
  },
  {
   "cell_type": "code",
   "execution_count": 126,
   "metadata": {
    "collapsed": false
   },
   "outputs": [],
   "source": [
    "url='http://www.theaveragegamer.com/terminology/'\n",
    "r=requests.get(url)\n",
    "soup=BeautifulSoup.BeautifulSoup(r.text)\n",
    "for x in soup.findAll('strong'):\n",
    "    gaming.append(x.text[:-1])"
   ]
  },
  {
   "cell_type": "code",
   "execution_count": 127,
   "metadata": {
    "collapsed": true
   },
   "outputs": [],
   "source": [
    "url='https://en.wikipedia.org/wiki/Category:Video_game_terminology'\n",
    "r=requests.get(url)\n",
    "soup=BeautifulSoup.BeautifulSoup(r.text)\n",
    "for x in soup.findAll('a')[4:]:\n",
    "    x=x.text\n",
    "    gaming.append(x)"
   ]
  },
  {
   "cell_type": "code",
   "execution_count": 152,
   "metadata": {
    "collapsed": false
   },
   "outputs": [],
   "source": [
    "url='http://videogamecritic.com/extras/glossary.htm'\n",
    "r=requests.get(url)\n",
    "soup=BeautifulSoup.BeautifulSoup(r.text)\n",
    "for x in soup.findAll('b')[:-1]:\n",
    "    gaming.append(x.text)"
   ]
  },
  {
   "cell_type": "code",
   "execution_count": 197,
   "metadata": {
    "collapsed": false
   },
   "outputs": [],
   "source": [
    "environmental=[]"
   ]
  },
  {
   "cell_type": "code",
   "execution_count": 198,
   "metadata": {
    "collapsed": true
   },
   "outputs": [],
   "source": [
    "url='http://www.theconscientioushome.net/glossary.php'\n",
    "r=requests.get(url)\n",
    "soup=BeautifulSoup.BeautifulSoup(r.text)\n",
    "for x in soup.findAll('a')[4:-26]:\n",
    "    environmental.append(x.text)"
   ]
  },
  {
   "cell_type": "code",
   "execution_count": 199,
   "metadata": {
    "collapsed": false,
    "scrolled": true
   },
   "outputs": [],
   "source": [
    "url='https://en.wikipedia.org/wiki/Glossary_of_environmental_science'\n",
    "r=requests.get(url)\n",
    "soup=BeautifulSoup.BeautifulSoup(r.text)\n",
    "for x in soup.findAll('a')[36:-134]:\n",
    "    if '[' not in x.text:\n",
    "        if 'edit' not in x.text:\n",
    "            environmental.append(x.text)"
   ]
  },
  {
   "cell_type": "code",
   "execution_count": 260,
   "metadata": {
    "collapsed": false
   },
   "outputs": [],
   "source": [
    "weeaboo=[]\n",
    "url='http://imgur.com/gallery/c4oKNNO'\n",
    "r=requests.get(url)\n",
    "soup=BeautifulSoup.BeautifulSoup(r.text)\n",
    "for x in soup.findAll('div',{'class':'post-image-description'})[0]:\n",
    "    x=x.split('\\n')\n",
    "    for y in x[1:-5]:\n",
    "        weeaboo.append(y.split(' =')[0])"
   ]
  },
  {
   "cell_type": "code",
   "execution_count": 262,
   "metadata": {
    "collapsed": false,
    "scrolled": true
   },
   "outputs": [],
   "source": [
    "vulgar_terms=[]"
   ]
  },
  {
   "cell_type": "code",
   "execution_count": 264,
   "metadata": {
    "collapsed": true
   },
   "outputs": [],
   "source": []
  },
  {
   "cell_type": "code",
   "execution_count": 277,
   "metadata": {
    "collapsed": true
   },
   "outputs": [],
   "source": [
    "alpha=\"abcdefghijklmnopqrstuvwxyz\"\n",
    "for letter in alpha:\n",
    "    url='http://www.noswearing.com/dictionary/'+letter\n",
    "    r=requests.get(url)\n",
    "    soup=BeautifulSoup.BeautifulSoup(r.text)\n",
    "    for x in soup.findAll('td')[3].findAll('a'):\n",
    "        vulgar_terms.append(x['name'])"
   ]
  },
  {
   "cell_type": "code",
   "execution_count": null,
   "metadata": {
    "collapsed": false
   },
   "outputs": [],
   "source": []
  },
  {
   "cell_type": "code",
   "execution_count": null,
   "metadata": {
    "collapsed": true
   },
   "outputs": [],
   "source": []
  },
  {
   "cell_type": "code",
   "execution_count": null,
   "metadata": {
    "collapsed": true
   },
   "outputs": [],
   "source": []
  },
  {
   "cell_type": "code",
   "execution_count": null,
   "metadata": {
    "collapsed": true
   },
   "outputs": [],
   "source": []
  },
  {
   "cell_type": "code",
   "execution_count": 34,
   "metadata": {
    "collapsed": true
   },
   "outputs": [],
   "source": [
    "liberal_string=\"\"\"Ally: Someone who advocates for and supports members of a community other than their own.\n",
    "Reaching across differences to achieve mutual goals.\n",
    "Androgynous: Someone who reflects an appearance that is both masculine and feminine, or who\n",
    "appears to be neither or both a boy and a girl.\n",
    "Asexual: Having no evident sex or sex organs. In usage, may refer to a person who is not sexually\n",
    "active, or not sexually attracted to other people.\n",
    "Bias: Prejudice; an inclination or preference, especially one that interferes with impartial judgment.\n",
    "Bigendered: Refers to those who feel they have both a male and a female side to their\n",
    "personalities. Some “bigendered” people crossdress, others may eventually have a sex-change\n",
    "operation, others may do neither.\n",
    "Biphobia: The irrational fear and intolerance of people who are bisexual.\n",
    "Birth Sex/Sex: The sex one is assigned at birth due to the presence of whatever external sex\n",
    "organs. Once this determination is made, it becomes a label used for raising the child in either one\n",
    "gender image or other (either as male or female).\n",
    "Bisexual: Also bi. A person who is attracted to two sexes or two genders, but not necessarily\n",
    "simultaneously or equally. [This used to be defined as a person who is attracted to both genders or\n",
    "both sexes, but since there are not only two sexes (see intersex and transsexual) and there are not\n",
    "only two genders (see transgender), this definition is inaccurate.]\n",
    "Coming out: To recognize one’s sexual orientation, gender identity, or sex identity, and to be\n",
    "open about it with oneself and with others.\n",
    "Cross Living: Living full-time in the preferred gender image, opposite to one’s assigned sex at\n",
    "birth, generally in preparation for a sex change operation.\n",
    "Direction: Refers to the way in which one is crossing the gender line. Masculine/Male to\n",
    "Feminine/Female (MTF) is one way; Feminine/ Female to Masculine/Male (FTM) is another. \n",
    " 2\n",
    "Discrimination: The act of showing partiality or prejudice; a prejudicial act.\n",
    "Domestic Partner: One who lives with their beloved and/or is at least emotionally and financially\n",
    "connected in a supportive manner with another. Another word for spouse, lover, significant other,\n",
    "etc.\n",
    "Dominant culture: The cultural values, beliefs, and practices that are assumed to be the most\n",
    "common and influential within a given society.\n",
    "Drab: Means dressing as a boy, referring to men’s clothes or wearing men’s clothes; is used\n",
    "mainly by gender benders and cross-dressers of both directions. Drag: The act of dressing in\n",
    "gendered clothing as part of a performance. Drag Queens perform in highly feminine attire. Drag\n",
    "Kings perform in highly masculine attire. Drag may be performed as a political comment on\n",
    "gender, as parody, or simply as entertainment. Drag performance does not indicate sexuality,\n",
    "gender identity, or sex identity.\n",
    "Family: Colloquial term used to identify other LGBTIQ community members. For example, an\n",
    "LGBTIQ person saying, “that person is family” often means that the person they are referring to is\n",
    "LGBTIQ as well.\n",
    "Family of choice (chosen family): Persons or group of people an individual sees as significant in\n",
    "his or her life. It may include none, all, or some members of his or her family of origin. In addition,\n",
    "it may include individuals such as significant others, domestic partners, friends, and coworkers.\n",
    "FTM: female-to-male (transvestite or transsexual).\n",
    "Gay: Men attracted to men. Colloquially used as an umbrella term to include all LGBTIQ people.\n",
    "Gender: 1) A socially constructed system of classification that ascribes qualities of masculinity\n",
    "and femininity to people. Gender characteristics can change over time and are different between\n",
    "cultures. Words that refer to gender include: man, woman, transgender, masculine, feminine, and\n",
    "gender queer. 2) One’s sense of self as masculine or feminine regardless of external genitalia. 3)\n",
    "Refers to the way we perceive certain things to be masculine or feminine. These things need not be\n",
    "human; for example, in the language of many cultures, cups are feminine, and pencils masculine.\n",
    "[Traditionally, we tend to associate gender – that is, masculine and feminine meanings – with\n",
    "features that include: · physical sex or genitals; · other physical features (for example height,\n",
    "weight, and body hair); · sexual orientation (gay men are often considered more feminine than their\n",
    "heterosexual counterparts, and lesbian women more masculine); and · behavior or dress (a man\n",
    "who cries may be considered unmanly, a woman who is aggressive or wears a suit-coat and slacks\n",
    "may be considered unfeminine).]\n",
    "Gender Binary System: A system of oppression that requires everyone to be raised either male or\n",
    "female, and masculine or feminine. Eliminates 5 the possibility for other gender expressions, and\n",
    "gives power to people whose genders do not break gender norms at the expense of transgender and\n",
    "intersex people. Manifests itself as transphobia. \n",
    " 3\n",
    "Gender Characteristics: Refers to the primary and secondary sexual physical characteristics like\n",
    "height, weight, and body hair, over which the individual has no control and which do not constitute\n",
    "part of their expression or identification. Examples might include a man with a high voice, a\n",
    "woman with prominent facial hair, or a person with anomalous genitalia (more correctly referred to\n",
    "as “intersex”).\n",
    "Gender Conformity: When your gender identity and sex “match” (i.e. fit social norms). For\n",
    "example, a male who is masculine and identifies as a man.\n",
    "Gender Expression/Gender Image: The way one presents oneself to the world, as either\n",
    "masculine or feminine, or both or neither. This can include dress, posture, vocal inflection, and\n",
    "other behavior.\n",
    "Gender Identity: 1) “Gender identity” refers to an individual’s self-awareness or fundamental\n",
    "sense of themselves as being masculine or feminine, and male or female. The phrase “gender\n",
    "identity” originated as a psychiatric term, and is commonly used to protect transsexual or\n",
    "transgender employees, particularly those who transition from one sex to another on the job. 2)\n",
    "The gender that a person sees oneself as. This can include refusing to label oneself with a gender.\n",
    "Gender identity is also often conflated with sexual orientation, but this is inaccurate. Gender\n",
    "identity does not cause sexual orientation. For example, a masculine woman is not necessarily a\n",
    "lesbian.\n",
    "Genderism: Holding people to traditional expectations based on gender, or punishing or excluding\n",
    "those who don’t conform to traditional gender expectations.\n",
    "Gender-neutral: Nondiscriminatory language to describe relationships—e.g. “spouse” and\n",
    "“partner” are gender-neutral alternatives to the gender-specific words “husband,” “wife,”\n",
    "“boyfriend” and “girlfriend.”\n",
    "Gender Queer (or Genderqueer): A person who redefines or plays with gender, or who refuses\n",
    "gender altogether. A label for people who bend/break the rules of gender and blur the boundaries.\n",
    "Gender Role: How “masculine” or “feminine” an individual acts. Societies commonly have norms\n",
    "regarding how males and females should behave, expecting people to have personality\n",
    "characteristics and/or act a certain way based on their biological sex.\n",
    "Gender Stereotypes: “Gender stereotypes” are the patterns or mental templates for what we\n",
    "expect members of each sex to be. For instance, the stereotype for males frequently includes being\n",
    "tall, muscular, hirsute, solitary, and impassive. For females it might include being small, weak,\n",
    "social, sensitive, and emotional.\n",
    "Gender-variant / Gender non-conforming: Displaying gender traits that are not normatively\n",
    "associated with their biological sex. “Feminine” behavior or appearance in a male is gender-variant\n",
    "as is “masculine” behavior or appearance a female. Gender-variant behavior is culturally specific.\n",
    " 4\n",
    "Genetic: refers to the chromosomal endowment of the individual, with emphasis on the sex\n",
    "chromosomes (XX in women and XY in men).\n",
    "Hate crime: Hate crime legislation often defines a hate crime as a crime motivated by the actual or\n",
    "perceived race, color, religion, national origin, ethnicity, gender, disability, or sexual orientation of\n",
    "any person.\n",
    "Heterosexism: Assuming every person to be heterosexual therefore marginalizing persons who do\n",
    "not identify as heterosexual. It is also believing heterosexuality to be superior to homosexuality\n",
    "and all other sexual orientations.\n",
    "Heterosexuality: Sexual, emotional, and/or romantic attraction to a sex other than your own.\n",
    "Commonly thought of as “attraction to the opposite sex” but since there are not only two sexes (see\n",
    "intersex and transsexual), this definition is inaccurate.\n",
    "Heterosexual Privilege: Benefits derived automatically by being (or being perceived as)\n",
    "heterosexual that are denied to homosexuals, bisexuals, and queers.\n",
    "Homophobia: The irrational fear and intolerance of people who are homosexual or of homosexual\n",
    "feelings within one’s self. This assumes that heterosexuality is superior.\n",
    "Homosexuality: Sexual, emotional, and/or romantic attraction to the same sex.\n",
    "Institutional Oppression: Arrangement of a society used to benefit one group at the expense of\n",
    "another through the use of language, media education, religion, economics, etc.\n",
    "Internalized Oppression: The process by which an oppressed person comes to believe, accept, or\n",
    "live out the inaccurate stereotypes and misinformation about their group.\n",
    "Intersex: Intersexuality is a set of medical conditions that feature congenital anomaly of the\n",
    "reproductive and sexual system. That is, intersex people are born with “sex chromosomes,”\n",
    "external genitalia, or internal reproductive systems that are not considered “standard” for either\n",
    "male or female. The existence of intersexuals shows that there are not just two 10 sexes and that\n",
    "our ways of thinking about sex (trying to force everyone to fit into either the male box or the\n",
    "female box) is socially constructed. About 1 in 2000 infants born are at risk for intersex genital\n",
    "mutilation. An even higher proportion of the population is intersex in some way. This word\n",
    "replaces “hermaphrodite”, which is generally considered impolite and/or derogatory.\n",
    "In the closet: Keeping one’s sexual orientation and/or gender or sex identity a secret.\n",
    "Invisible minority: A group whose minority status is not always immediately visible, such as\n",
    "some disabled people and LGBTIQ people. This lack of visibility may make organizing for rights\n",
    "difficult.\n",
    "Lambda: The Gay Activist Alliance originally chose the lambda, the Greek letter “L”, as a symbol\n",
    "in 1970. Organizers chose the letter “L” to signify liberation. The word has become a way of \n",
    " 5\n",
    "expressing the concept “lesbian and gay male” in a minimum of syllables and has been adopted by\n",
    "such organizations as Lambda Legal Defense and Education Fund.\n",
    "Lesbian: A woman attracted to women.\n",
    "LGBTIQ: Lesbian, Gay, Bisexual, Transgender, Intersex, Queer.\n",
    "Male supremacy: A system of oppression that gives power to men and values masculinity, at the\n",
    "expense of women and femininity.\n",
    "Marginalized: Excluded, ignored, or relegated to the outer edge of a group/society/community.\n",
    "Men who have sex with men (MSM): Men who engage in same-sex behavior, but who may not\n",
    "necessarily self-identify as gay.\n",
    "MTF: Male to Female (transvestite or transsexual).\n",
    "Non-Op: Refers to transsexuals who seek sex reassignment through hormones and who crosslive,\n",
    "but stop just short of surgery. Some have concerns about major surgery, which is not always\n",
    "successful, others are unable to pay for the expensive procedures surgery would entail, and still\n",
    "others feel that they are complete without the surgery.\n",
    "On T: When a FTM takes the hormone testosterone.\n",
    "Oppression: Results from the use of institutional power and privilege where one person or group\n",
    "benefits at the expense of another. Oppression is the use of power and the effects of domination.\n",
    "Out or Out of the closet: Refers to varying degrees of being open about one’s sexual orientation\n",
    "and/or sex identity or gender identity.\n",
    "Pansexual: A person who is fluid in sexual orientation and/or gender or sex identity.\n",
    "Pass: Means to be in your preferred gender image and to be able to do so convincingly in the eyes\n",
    "of those around you, for example an FTM or cross dresser or drag king who looks like a man and\n",
    "not like a woman.\n",
    "Polyamory: The practice of having multiple open, honest love relationships.\n",
    "Post-Op: A transsexual who has had their sex change operation and now has the physical anatomy\n",
    "which mimics that of the sex they have transitioned to.\n",
    "(Institutional) Power: Means control, access and influence. In U.S. society, power means having\n",
    "control of and access to ruling institutions; freedom from the threat of being questioned or\n",
    "reprimanded for wrong-doing; and the ability to define standards and norms.\n",
    "Present: Refers to gender expression and the process of reflecting ones gender to others; someone\n",
    "who is bigendered may present as female one day and male the next. \n",
    " 6\n",
    "Pre-Op: A transsexual who has not yet had their sex change operation(s) but who ‘plans on having\n",
    "it/them.\n",
    "Privilege: Means a right, a favor, an immunity or an advantage specially granted to one individual\n",
    "or group and withheld from another.\n",
    "Queer: 1) An umbrella term used to refer to all LGBTIQ people. 2) A political statement, as well\n",
    "as a sexual orientation, which advocates breaking binary thinking and seeing both sexual 14\n",
    "orientation and gender identity as potentially fluid. 3) A simple label to explain a complex set of\n",
    "sexual behaviors and desires. For example, a person who is attracted to multiple genders may\n",
    "identify as queer. Many older LGBT people feel the word has been hatefully used against them for\n",
    "too long and are reluctant to embrace it. 4) Originally a synonym for “odd”, this word became a\n",
    "derogatory expression for gays in the 20th Century. Even though many people still use “queer” as\n",
    "an anti-gay epithet, a movement emerged in the 1980s that calls itself queer. Used in this way,\n",
    "queer means sexually dissident, but not necessarily gay. Many gays, transsexuals, bisexuals and\n",
    "even heterosexuals whose sexuality doesn’t fit into the cultural standard of monogamous\n",
    "heterosexual marriage have adopted the “queer” label. In academic circles, the term “queer” often\n",
    "refers to the approaches and sensibilities of queer theory.\n",
    "Racism: Discrimination against people of color that results from the white supremacy system of\n",
    "domination. Racism is prejudice plus institutional power.\n",
    "Rainbow Flag: The Rainbow Freedom Flag was designed in 1978 by Gilbert Baker to designate\n",
    "the great diversity of the LGBTIQ community. It has been recognized by the International Flag\n",
    "Makers Association as the official flag of the LGBTIQ civil rights movement.\n",
    "Self-Identify: Refers to the process of people choosing with which identifying terms/groups they\n",
    "identify. (E.g. Someone could self-identify as male, female or bigendered, multi-racial, etc.)\n",
    "Sex: Refers to a person based on their anatomy (external genitalia, chromosomes, and internal\n",
    "reproductive system). Sex terms are male, female, transsexual, and intersex. Sex is biological,\n",
    "although social views and experiences of sex are cultural.\n",
    "Sex Identity: The sex that a person sees themselves as. This can include refusing to label oneself\n",
    "with a sex.\n",
    "Sexism: Discrimination against women that results from the male supremacy system of oppression.\n",
    "Sex-Reassignment Surgery (SRS): Sex change operation.\n",
    "Sexual minority: 1) Refers to members of sexual orientations or who engage in sexual activities\n",
    "that are not part of the mainstream. 2) Refers to members of sex groups that do not fall into the\n",
    "majority categories of male or female, such as intersexuals and transsexuals. \n",
    " 7\n",
    "Sexual Orientation: The deep-seated direction of one’s sexual (erotic) attraction. It is on a\n",
    "continuum and not a set of absolute categories, sometimes referred to as affection orientation or\n",
    "sexuality.\n",
    "Socialized: Refers to the “training” process that takes place once birth sex is determined/decided\n",
    "upon. People whose birth sex is female are “socialized” as women although they may or may not\n",
    "self-identify as women.\n",
    "SRS: Acronym for Sexual Reassignment Surgery, the surgery done by transsexuals to make their\n",
    "bodies and their sex identity match.\n",
    "Stereotype: An exaggerated oversimplified belief about an entire group of people without regard\n",
    "for individual differences.\n",
    "Straight: Person who is attracted to a gender other than their own. [Commonly thought of as\n",
    "“attraction to the opposite gender,” but since there are not only two genders (see transgender),\n",
    "this definition is inaccurate.]\n",
    "Systems of oppression: Interlocking societal, economic, moral, and religious values that keep\n",
    "many groups of people down to ensure the power and advantage of a few groups or one group of\n",
    "people. Some systems of oppression in the US and Europe include: heterosexism, male supremacy,\n",
    "white supremacy and the gender binary system.\n",
    "Trans Female/Woman: A male-to-female transition (MTF). [The medical literature tends to use\n",
    "the extremely demeaning term “male transsexual” to mean the same thing. Note that you can tell\n",
    "the preferred form is in use when the gender word comes after the “T” word.]\n",
    "Transgender: 1) Transgender (sometimes shortened to trans or TG) people are those whose\n",
    "psychological self (“gender identity”) differs from the social expectations for the physical sex they\n",
    "were born with. To understand this, one must understand the difference between biological sex,\n",
    "which is one’s body (genitals, chromosomes, ect.), and social gender, which refers to levels of\n",
    "masculinity and femininity. Often, society conflates sex and gender, viewing them as the same\n",
    "thing. But, gender and sex are not the same thing. Transgender people are those whose\n",
    "psychological self (“gender identity”) differs from the social expectations for the physical sex they\n",
    "were born with. For example, a female with a masculine gender identity or who identifies as a man.\n",
    "2) An umbrella term for transsexuals, cross-dressers (transvestites), transgenderists, gender queers,\n",
    "and people who identify as neither female nor male and/or as neither a man or as a woman.\n",
    "Transgender is not a sexual orientation; transgender people may have any sexual orientation. It is\n",
    "important to acknowledge that while some people may fit under this definition of transgender, they\n",
    "may not identify as such.\n",
    "Transgenderist: A person who lives either full time, or most of the time, in a gender role different\n",
    "than the role associated with their biological or chromosomal sex (a gender nonconformist).\n",
    "Transition: A complicated, multi-step process that can take years as transsexuals align their\n",
    "anatomy with their sex identity; this process may ultimately include sex reassignment surgery\n",
    "(SRS). \n",
    " 8\n",
    "Trans Man/Male: A female-to-male transition (FTM). [The medical literature tends to use the\n",
    "extremely demeaning term “female transsexual” to mean the same thing. Note that you can tell the\n",
    "preferred form is in use when the gender word comes after the “T” word.]\n",
    "Transphobia: 1) Discrimination, fear or hatred of people who blur traditional gender lines that\n",
    "results from the gender binary system. Often comes from one’s own insecurity about being a “real\n",
    "man,” or a “real woman.” 2) Fear or hatred of transgender people; transphobia is manifested in a\n",
    "number of ways, including violence, harassment and discrimination.\n",
    "Transsexual: Refers to a person who experiences a mismatch of the biological sex they were born\n",
    "as and the biological sex they identify as. A transsexual sometimes undergoes medical treatment to\n",
    "change his/her physical sex to match his/her sex identity through hormone treatments and/or\n",
    "surgically. [Transexuals are included in the umbrella term transgender, but not all transgendered\n",
    "people are transsexual. See also gender, sex, transgender.]\n",
    "Transvestite/Cross Dresser: Individuals who regularly or occasionally wear the clothing socially\n",
    "assigned to a gender not their own, but are usually comfortable with their anatomy and do not wish\n",
    "to change it (i.e. they are not transsexuals). Cross-dresser is the preferred term for men who enjoy\n",
    "or prefer women’s clothing and social roles. Contrary to popular belief, the overwhelming majority\n",
    "of male cross-dressers identify as straight and often are married. Very few women call themselves\n",
    "cross dressers.\n",
    "Triangle: A symbol of remembrance. Gay men in the Nazi concentration camps were forced to\n",
    "wear the pink triangle as a designation of being homosexual. Women who did not conform to\n",
    "social roles, often believed to be lesbians, had to wear the black triangle. The triangles are worn\n",
    "today as symbols of freedom, reminding us to never forget. \"\"\""
   ]
  },
  {
   "cell_type": "code",
   "execution_count": 40,
   "metadata": {
    "collapsed": false
   },
   "outputs": [],
   "source": [
    "liberal_terms=[]\n",
    "for x in liberal_string.split('\\n'):\n",
    "    if len(x.split(\":\"))>1:\n",
    "        liberal_terms.append(x.split(\":\")[0])"
   ]
  },
  {
   "cell_type": "code",
   "execution_count": 200,
   "metadata": {
    "collapsed": true
   },
   "outputs": [],
   "source": [
    "url='http://bellebrita.com/2014/08/feminism-101-learning-lingo/'\n",
    "r=requests.get(url)\n",
    "soup=BeautifulSoup.BeautifulSoup(r.text)\n",
    "for x in soup.findAll('p')[12:-44]:\n",
    "    x=x.text\n",
    "    x=x.split(':')[0]\n",
    "    liberal_terms.append(x)"
   ]
  },
  {
   "cell_type": "code",
   "execution_count": 227,
   "metadata": {
    "collapsed": false,
    "scrolled": true
   },
   "outputs": [],
   "source": [
    "df=pd.DataFrame()"
   ]
  },
  {
   "cell_type": "code",
   "execution_count": null,
   "metadata": {
    "collapsed": true
   },
   "outputs": [],
   "source": [
    "df.to_json"
   ]
  },
  {
   "cell_type": "code",
   "execution_count": 215,
   "metadata": {
    "collapsed": false
   },
   "outputs": [],
   "source": [
    "created_list=[liberal_terms,environmental,gaming,drugs,marxism,anarchy,fitness,sports,theological,technical_terms,\\\n",
    "    conservative_terms,controversial_terms,weeaboo,vulgar_terms,sexual_terms]"
   ]
  },
  {
   "cell_type": "code",
   "execution_count": 228,
   "metadata": {
    "collapsed": false
   },
   "outputs": [],
   "source": [
    "for x,y in zip(created_list,['liberal_terms','environmental','gaming','drugs','marxism','anarchy','fitness','sports',\\\n",
    "            'theological','technical_terms','conservative_terms','controversial_terms','weeaboo','vulgar_terms',\\\n",
    "                            'sexual_terms']):\n",
    "    json_name='/Users/thomas/GA-DSI/projects/projects-capstone/Work 2, Personalities/Key Terms Lists/'+y+'.json'\n",
    "    df=pd.DataFrame(x,columns=['Terms'])\n",
    "    json_file=df.to_json()\n",
    "    with open(json_name, 'w') as fp:\n",
    "        json.dump(json_file, fp)"
   ]
  },
  {
   "cell_type": "code",
   "execution_count": 304,
   "metadata": {
    "collapsed": false
   },
   "outputs": [],
   "source": [
    "json_name='/Users/thomas/GA-DSI/projects/projects-capstone/Work 2, Personalities/Key Terms Lists/'+insert name here+'.json'\n",
    "with open(json_name, 'w') as fp:\n",
    "        json.dump(sexual_terms, fp)"
   ]
  },
  {
   "cell_type": "code",
   "execution_count": null,
   "metadata": {
    "collapsed": true
   },
   "outputs": [],
   "source": []
  },
  {
   "cell_type": "code",
   "execution_count": null,
   "metadata": {
    "collapsed": true
   },
   "outputs": [],
   "source": []
  },
  {
   "cell_type": "code",
   "execution_count": null,
   "metadata": {
    "collapsed": true
   },
   "outputs": [],
   "source": []
  },
  {
   "cell_type": "code",
   "execution_count": null,
   "metadata": {
    "collapsed": true
   },
   "outputs": [],
   "source": []
  },
  {
   "cell_type": "code",
   "execution_count": null,
   "metadata": {
    "collapsed": true
   },
   "outputs": [],
   "source": []
  },
  {
   "cell_type": "code",
   "execution_count": null,
   "metadata": {
    "collapsed": true
   },
   "outputs": [],
   "source": []
  },
  {
   "cell_type": "code",
   "execution_count": null,
   "metadata": {
    "collapsed": true
   },
   "outputs": [],
   "source": []
  },
  {
   "cell_type": "code",
   "execution_count": null,
   "metadata": {
    "collapsed": true
   },
   "outputs": [],
   "source": []
  },
  {
   "cell_type": "code",
   "execution_count": null,
   "metadata": {
    "collapsed": true
   },
   "outputs": [],
   "source": []
  },
  {
   "cell_type": "code",
   "execution_count": null,
   "metadata": {
    "collapsed": true
   },
   "outputs": [],
   "source": []
  },
  {
   "cell_type": "code",
   "execution_count": null,
   "metadata": {
    "collapsed": true
   },
   "outputs": [],
   "source": []
  },
  {
   "cell_type": "code",
   "execution_count": null,
   "metadata": {
    "collapsed": true
   },
   "outputs": [],
   "source": []
  },
  {
   "cell_type": "code",
   "execution_count": null,
   "metadata": {
    "collapsed": true
   },
   "outputs": [],
   "source": []
  }
 ],
 "metadata": {
  "anaconda-cloud": {},
  "kernelspec": {
   "display_name": "Python [default]",
   "language": "python",
   "name": "python2"
  },
  "language_info": {
   "codemirror_mode": {
    "name": "ipython",
    "version": 2
   },
   "file_extension": ".py",
   "mimetype": "text/x-python",
   "name": "python",
   "nbconvert_exporter": "python",
   "pygments_lexer": "ipython2",
   "version": "2.7.12"
  }
 },
 "nbformat": 4,
 "nbformat_minor": 1
}
