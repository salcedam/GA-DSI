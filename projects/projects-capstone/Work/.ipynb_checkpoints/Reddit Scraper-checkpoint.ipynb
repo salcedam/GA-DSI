{
 "cells": [
  {
   "cell_type": "code",
   "execution_count": 26,
   "metadata": {
    "collapsed": false
   },
   "outputs": [],
   "source": [
    "\"\"\"I used the documentation in addition to the following video for help on this webscraping/API process:\n",
    "    https://www.youtube.com/watch?v=yexxcrPC7U8 \"\"\"\n",
    "\n",
    "import requests\n",
    "import BeautifulSoup\n",
    "import pandas as pd\n",
    "import numpy as np\n",
    "import matplotlib.pyplot as plt\n",
    "import seaborn as sns\n",
    "import praw\n",
    "import json\n",
    "import time\n",
    "\n",
    "%matplotlib inline"
   ]
  },
  {
   "cell_type": "code",
   "execution_count": 2,
   "metadata": {
    "collapsed": true
   },
   "outputs": [],
   "source": [
    "def get_replies(comment, reply_list):\n",
    "    \"\"\" recursive function that goes through the reply tree of a comment \"\"\"\n",
    "    reply_list.append({\"id\": comment.id, \"comment\": comment.body})\n",
    "    if len(comment._replies) > 0:\n",
    "        for r in comment._replies:\n",
    "            get_replies(r, reply_list)\n",
    "    return reply_list"
   ]
  },
  {
   "cell_type": "code",
   "execution_count": 32,
   "metadata": {
    "collapsed": false
   },
   "outputs": [
    {
     "name": "stdout",
     "output_type": "stream",
     "text": [
      "Starting Collection from r/technology\n",
      "Time Spent: 0.0995631217957 Seconds\n",
      "Finished Collection from r/technology\n",
      "\n"
     ]
    }
   ],
   "source": [
    "subreddit_dictionary={}\n",
    "title_list=[]\n",
    "\n",
    "###\n",
    "Number_of_Posts=300\n",
    "Number_of_Comments=12\n",
    "\n",
    "\n",
    "\n",
    "subreddit_list=[\"technology\",\"politics\",\"news\",\"worldnews\",\"inthenews\",\"Futurology\",\"StockMarket\"]\n",
    "\n",
    "for i in range(len(subreddit_list)):\n",
    "    current_time=time.time()\n",
    "    print \"Starting Collection from r/\"+subreddit_list[i]\n",
    "    subreddit_posts={}\n",
    "    json_name='/Users/thomas/GA-DSI/projects/projects-capstone/Work/r_'\\\n",
    "                        +subreddit_list[i]+'.json'\n",
    "    info_for_request='get top '+str(Number_of_Posts)+' posts w/ top '+str(Number_of_Comments)+\\\n",
    "                        ' comments and children comments from r/'+subreddit_list[i]+\\\n",
    "                        \"for Capstone project at General Assembly's DSI program by User: dingdong1111\"\n",
    "    r = praw.Reddit(user_agent=info_for_request)\n",
    "    r.login('dingdong1111', '01001759',disable_warning=True)\n",
    "    posts = r.get_subreddit(subreddit_list[i]).get_top_from_year(limit=Number_of_Posts)\n",
    "    for post in posts:\n",
    "        post_comments=[]\n",
    "        \n",
    "        post_id=post.id\n",
    "        post_title=post.title\n",
    "        post_score=post.score\n",
    "        post_url=post.url\n",
    "#         post_author=post.author\n",
    "        \n",
    "        submission = r.get_submission(submission_id=post_id)\n",
    "        submission.replace_more_comments(limit=Number_of_Comments, threshold=0)\n",
    "        for comment in submission.comments:\n",
    "            \"\"\" loops through all comments to submission \"\"\"\n",
    "            x = []  # array that holds the comment and all replies\n",
    "            # get all replies and append it to our array for writing to file\n",
    "            post_comments.append(get_replies(comment, x))\n",
    "            \n",
    "        subreddit_posts[post_id]=[post_title,post_score,post_url,post_comments]\n",
    "    with open(json_name, 'w') as fp:\n",
    "        json.dump(subreddit_posts, fp)\n",
    "    \n",
    "    print \"Time Spent:\",time.time()-current_time,\"Seconds\"\n",
    "    print \"Finished Collection from r/\"+subreddit_list[i]\n",
    "    print\n",
    "    "
   ]
  },
  {
   "cell_type": "code",
   "execution_count": 33,
   "metadata": {
    "collapsed": false
   },
   "outputs": [
    {
     "data": {
      "text/html": [
       "<div>\n",
       "<table border=\"1\" class=\"dataframe\">\n",
       "  <thead>\n",
       "    <tr style=\"text-align: right;\">\n",
       "      <th></th>\n",
       "      <th>0</th>\n",
       "      <th>1</th>\n",
       "      <th>2</th>\n",
       "      <th>3</th>\n",
       "    </tr>\n",
       "  </thead>\n",
       "  <tbody>\n",
       "    <tr>\n",
       "      <th>4if65h</th>\n",
       "      <td>Mod Announcement: We're considering banning al...</td>\n",
       "      <td>12002</td>\n",
       "      <td>https://www.reddit.com/r/technology/comments/4...</td>\n",
       "      <td>[[{u'comment': u'Do it. \n",
       "\n",
       "Media sites need to ...</td>\n",
       "    </tr>\n",
       "  </tbody>\n",
       "</table>\n",
       "</div>"
      ],
      "text/plain": [
       "                                                        0      1  \\\n",
       "4if65h  Mod Announcement: We're considering banning al...  12002   \n",
       "\n",
       "                                                        2  \\\n",
       "4if65h  https://www.reddit.com/r/technology/comments/4...   \n",
       "\n",
       "                                                        3  \n",
       "4if65h  [[{u'comment': u'Do it. \n",
       "\n",
       "Media sites need to ...  "
      ]
     },
     "execution_count": 33,
     "metadata": {},
     "output_type": "execute_result"
    }
   ],
   "source": [
    "json_name='/Users/thomas/GA-DSI/projects/projects-capstone/Work/r_technology.json'\n",
    "pd.read_json(json_name).T"
   ]
  },
  {
   "cell_type": "code",
   "execution_count": null,
   "metadata": {
    "collapsed": false
   },
   "outputs": [],
   "source": []
  },
  {
   "cell_type": "code",
   "execution_count": null,
   "metadata": {
    "collapsed": true
   },
   "outputs": [],
   "source": [
    "\"\"\"THIS IS THE CODE FROM THE AFOREMENTIONED VIDEO (SEE IMPORT CELL)\"\"\"\n",
    "\n",
    "\n",
    "import praw\n",
    "\n",
    "#key in the submission ID of the Reddit thread you want to scrape\n",
    "sub_id = \"xxxxxx\"\n",
    "\n",
    "def get_replies(comment, reply_list):\n",
    "    \"\"\" recursive function that goes through the reply tree of a comment \"\"\"\n",
    "    reply_list.append({\"id\": comment.id, \"comment\": comment.body})\n",
    "    if len(comment._replies) > 0:\n",
    "        for r in comment._replies:\n",
    "            get_replies(r, reply_list)\n",
    "    return reply_list\n",
    "\n",
    "\n",
    "#state your purpose for conducting the comment scrape\n",
    "r = praw.Reddit('get comments from xxxxxxxx for xxxxxxx by User: xxxxxxxxx')\n",
    "submission = r.get_submission(submission_id=sub_id)\n",
    "\"\"\" this is a costly operation due to reddit's limits but is necessary\n",
    "    to get all comments and prevent errors in script \"\"\"\n",
    "submission.replace_more_comments(limit=None, threshold=0)\n",
    "\n",
    "# final array for writing to file\n",
    "final = []\n",
    "\n",
    "for comment in submission.comments:\n",
    "    \"\"\" loops through all comments to submission \"\"\"\n",
    "    x = []  # array that holds the comment and all replies\n",
    "    # get all replies and append it to our array for writing to file\n",
    "    final.append(get_replies(comment, x))\n",
    "\n",
    "with open('comments.csv', 'a') as outf:\n",
    "    \"\"\" open file and write to it \"\"\"\n",
    "    # 2 dimension array needs two for loops\n",
    "    for ele in final:\n",
    "        for ele2 in ele:\n",
    "            # write to file in the proper comma delimited format, one per line\n",
    "            outf.write(u\"{0},{1}\\n\".format(ele2['id'], ele2['comment']).encode('utf-8'))"
   ]
  },
  {
   "cell_type": "code",
   "execution_count": null,
   "metadata": {
    "collapsed": true
   },
   "outputs": [],
   "source": []
  },
  {
   "cell_type": "code",
   "execution_count": null,
   "metadata": {
    "collapsed": true
   },
   "outputs": [],
   "source": []
  },
  {
   "cell_type": "code",
   "execution_count": null,
   "metadata": {
    "collapsed": true
   },
   "outputs": [],
   "source": []
  },
  {
   "cell_type": "code",
   "execution_count": null,
   "metadata": {
    "collapsed": true
   },
   "outputs": [],
   "source": []
  },
  {
   "cell_type": "code",
   "execution_count": null,
   "metadata": {
    "collapsed": true
   },
   "outputs": [],
   "source": []
  },
  {
   "cell_type": "code",
   "execution_count": null,
   "metadata": {
    "collapsed": true
   },
   "outputs": [],
   "source": []
  },
  {
   "cell_type": "code",
   "execution_count": null,
   "metadata": {
    "collapsed": true
   },
   "outputs": [],
   "source": []
  },
  {
   "cell_type": "code",
   "execution_count": null,
   "metadata": {
    "collapsed": true
   },
   "outputs": [],
   "source": []
  }
 ],
 "metadata": {
  "anaconda-cloud": {},
  "kernelspec": {
   "display_name": "Python [default]",
   "language": "python",
   "name": "python2"
  },
  "language_info": {
   "codemirror_mode": {
    "name": "ipython",
    "version": 2
   },
   "file_extension": ".py",
   "mimetype": "text/x-python",
   "name": "python",
   "nbconvert_exporter": "python",
   "pygments_lexer": "ipython2",
   "version": "2.7.12"
  }
 },
 "nbformat": 4,
 "nbformat_minor": 1
}
