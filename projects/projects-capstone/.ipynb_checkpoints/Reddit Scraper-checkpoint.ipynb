{
 "cells": [
  {
   "cell_type": "code",
   "execution_count": 226,
   "metadata": {
    "collapsed": false
   },
   "outputs": [],
   "source": [
    "import requests\n",
    "import BeautifulSoup\n",
    "import pandas as pd\n",
    "import numpy as np\n",
    "import matplotlib.pyplot as plt\n",
    "import seaborn as sns\n",
    "import praw\n",
    "import json\n",
    "\n",
    "%matplotlib inline"
   ]
  },
  {
   "cell_type": "code",
   "execution_count": 227,
   "metadata": {
    "collapsed": true
   },
   "outputs": [],
   "source": [
    "def get_replies(comment, reply_list):\n",
    "    \"\"\" recursive function that goes through the reply tree of a comment \"\"\"\n",
    "    reply_list.append({\"id\": comment.id, \"comment\": comment.body})\n",
    "    if len(comment._replies) > 0:\n",
    "        for r in comment._replies:\n",
    "            get_replies(r, reply_list)\n",
    "    return reply_list"
   ]
  },
  {
   "cell_type": "code",
   "execution_count": 238,
   "metadata": {
    "collapsed": false
   },
   "outputs": [],
   "source": [
    "subreddit_dictionary={}\n",
    "title_list=[]\n",
    "# Comment Array\n",
    "\n",
    "subreddit_list=[\"technology\",\"politics\",\"news\",\"worldnews\",\"inthenews\",\"Futurology\",\"StockMarket\"]\n",
    "\n",
    "for i in range(2):\n",
    "    subreddit_posts={}\n",
    "    json_name='/Users/thomas/GA-DSI/projects/projects-capstone/Work/'+subreddit_list[i]+' posts and comments.json'\n",
    "    info_for_request='get top 5 posts w/ comments from r/'+subreddit_list[i]+\\\n",
    "                \"for class project by User: dingdong1111\"\n",
    "    r = praw.Reddit(user_agent=info_for_request)\n",
    "    r.login('dingdong1111', '01001759')\n",
    "    posts = r.get_subreddit(subreddit_list[i]).get_top_from_year(limit=2)\n",
    "    for post in posts:\n",
    "        post_comments=[]\n",
    "        \n",
    "        post_id=post.id\n",
    "        post_title=post.title\n",
    "        post_score=post.score\n",
    "        post_url=post.url\n",
    "#         post_author=post.author\n",
    "        \n",
    "        submission = r.get_submission(submission_id=post_id)\n",
    "        submission.replace_more_comments(limit=12, threshold=0)\n",
    "        for comment in submission.comments:\n",
    "            \"\"\" loops through all comments to submission \"\"\"\n",
    "            x = []  # array that holds the comment and all replies\n",
    "            # get all replies and append it to our array for writing to file\n",
    "            post_comments.append(get_replies(comment, x))\n",
    "            \n",
    "        subreddit_posts[post_id]=[post_title,post_score,post_url,post_comments]\n",
    "    with open(json_name, 'w') as fp:\n",
    "        json.dump(subreddit_posts, fp)\n",
    "#     subreddit_dictionary[subreddit_list[i]]=subreddit_posts\n",
    "\n"
   ]
  },
  {
   "cell_type": "code",
   "execution_count": 240,
   "metadata": {
    "collapsed": false
   },
   "outputs": [
    {
     "data": {
      "text/html": [
       "<div>\n",
       "<table border=\"1\" class=\"dataframe\">\n",
       "  <thead>\n",
       "    <tr style=\"text-align: right;\">\n",
       "      <th></th>\n",
       "      <th>0</th>\n",
       "      <th>1</th>\n",
       "      <th>2</th>\n",
       "      <th>3</th>\n",
       "    </tr>\n",
       "  </thead>\n",
       "  <tbody>\n",
       "    <tr>\n",
       "      <th>4if65h</th>\n",
       "      <td>Mod Announcement: We're considering banning al...</td>\n",
       "      <td>12001</td>\n",
       "      <td>https://www.reddit.com/r/technology/comments/4...</td>\n",
       "      <td>[[{u'comment': u'Do it. \n",
       "\n",
       "Media sites need to ...</td>\n",
       "    </tr>\n",
       "    <tr>\n",
       "      <th>4zcdzj</th>\n",
       "      <td>Google to start punishing mobile sites that sh...</td>\n",
       "      <td>9985</td>\n",
       "      <td>https://techcrunch.com/2016/08/23/good-riddance/</td>\n",
       "      <td>[[{u'comment': u'Extra punishment for popups w...</td>\n",
       "    </tr>\n",
       "  </tbody>\n",
       "</table>\n",
       "</div>"
      ],
      "text/plain": [
       "                                                        0      1  \\\n",
       "4if65h  Mod Announcement: We're considering banning al...  12001   \n",
       "4zcdzj  Google to start punishing mobile sites that sh...   9985   \n",
       "\n",
       "                                                        2  \\\n",
       "4if65h  https://www.reddit.com/r/technology/comments/4...   \n",
       "4zcdzj   https://techcrunch.com/2016/08/23/good-riddance/   \n",
       "\n",
       "                                                        3  \n",
       "4if65h  [[{u'comment': u'Do it. \n",
       "\n",
       "Media sites need to ...  \n",
       "4zcdzj  [[{u'comment': u'Extra punishment for popups w...  "
      ]
     },
     "execution_count": 240,
     "metadata": {},
     "output_type": "execute_result"
    }
   ],
   "source": [
    "pd.read_json('/Users/thomas/GA-DSI/projects/projects-capstone/Work/technology posts and comments.json').T"
   ]
  },
  {
   "cell_type": "code",
   "execution_count": 137,
   "metadata": {
    "collapsed": false
   },
   "outputs": [
    {
     "name": "stdout",
     "output_type": "stream",
     "text": [
      "This is Comcast's bullshit diffusing to other companies. Fuck those cunts. \n"
     ]
    }
   ],
   "source": [
    "print comment_list[1][0]"
   ]
  },
  {
   "cell_type": "code",
   "execution_count": 153,
   "metadata": {
    "collapsed": false
   },
   "outputs": [
    {
     "name": "stdout",
     "output_type": "stream",
     "text": [
      "[]\n"
     ]
    }
   ],
   "source": [
    "print submission.replace_more_comments()"
   ]
  },
  {
   "cell_type": "code",
   "execution_count": null,
   "metadata": {
    "collapsed": false
   },
   "outputs": [],
   "source": []
  },
  {
   "cell_type": "code",
   "execution_count": 73,
   "metadata": {
    "collapsed": false
   },
   "outputs": [],
   "source": [
    "for x in submission_list[1]:\n",
    "    print x"
   ]
  },
  {
   "cell_type": "code",
   "execution_count": 72,
   "metadata": {
    "collapsed": false
   },
   "outputs": [
    {
     "name": "stdout",
     "output_type": "stream",
     "text": [
      "Reflects only users of some random CI service.\n",
      "Almost understandable the amount of *existing* python2 implementations. Legac...\n",
      "Python 3 is a better language, but the \"Pythoncalypse\" really took it's toll ...\n",
      "What does this mean for students? Should we just be learning 2.7 to have the ...\n",
      "Depressing.\n",
      "[You must watch this](https://www.youtube.com/watch?v=D0gh13Ex4AM)\n",
      "I'm not saying stick with 2 (I use 3 exclusively) but 2 will be supported pas...\n",
      "Python2.7 will always be superior. \n"
     ]
    }
   ],
   "source": [
    "for info in comment_list[0][3]:\n",
    "    print info"
   ]
  },
  {
   "cell_type": "code",
   "execution_count": 88,
   "metadata": {
    "collapsed": false
   },
   "outputs": [
    {
     "name": "stdout",
     "output_type": "stream",
     "text": [
      "Python\n"
     ]
    }
   ],
   "source": [
    "print submission.subreddit"
   ]
  },
  {
   "cell_type": "code",
   "execution_count": null,
   "metadata": {
    "collapsed": true
   },
   "outputs": [],
   "source": [
    "import praw\n",
    "\n",
    "#key in the submission ID of the Reddit thread you want to scrape\n",
    "sub_id = \"xxxxxx\"\n",
    "\n",
    "def get_replies(comment, reply_list):\n",
    "    \"\"\" recursive function that goes through the reply tree of a comment \"\"\"\n",
    "    reply_list.append({\"id\": comment.id, \"comment\": comment.body})\n",
    "    if len(comment._replies) > 0:\n",
    "        for r in comment._replies:\n",
    "            get_replies(r, reply_list)\n",
    "    return reply_list\n",
    "\n",
    "\n",
    "#state your purpose for conducting the comment scrape\n",
    "r = praw.Reddit('get comments from xxxxxxxx for xxxxxxx by User: xxxxxxxxx')\n",
    "submission = r.get_submission(submission_id=sub_id)\n",
    "\"\"\" this is a costly operation due to reddit's limits but is necessary\n",
    "    to get all comments and prevent errors in script \"\"\"\n",
    "submission.replace_more_comments(limit=None, threshold=0)\n",
    "\n",
    "# final array for writing to file\n",
    "final = []\n",
    "\n",
    "for comment in submission.comments:\n",
    "    \"\"\" loops through all comments to submission \"\"\"\n",
    "    x = []  # array that holds the comment and all replies\n",
    "    # get all replies and append it to our array for writing to file\n",
    "    final.append(get_replies(comment, x))\n",
    "\n",
    "with open('comments.csv', 'a') as outf:\n",
    "    \"\"\" open file and write to it \"\"\"\n",
    "    # 2 dimension array needs two for loops\n",
    "    for ele in final:\n",
    "        for ele2 in ele:\n",
    "            # write to file in the proper comma delimited format, one per line\n",
    "            outf.write(u\"{0},{1}\\n\".format(ele2['id'], ele2['comment']).encode('utf-8'))"
   ]
  },
  {
   "cell_type": "code",
   "execution_count": 222,
   "metadata": {
    "collapsed": false
   },
   "outputs": [
    {
     "data": {
      "text/plain": [
       "1.0"
      ]
     },
     "execution_count": 222,
     "metadata": {},
     "output_type": "execute_result"
    }
   ],
   "source": [
    "12*300*1/60/60."
   ]
  },
  {
   "cell_type": "code",
   "execution_count": null,
   "metadata": {
    "collapsed": true
   },
   "outputs": [],
   "source": []
  },
  {
   "cell_type": "code",
   "execution_count": null,
   "metadata": {
    "collapsed": true
   },
   "outputs": [],
   "source": []
  },
  {
   "cell_type": "code",
   "execution_count": null,
   "metadata": {
    "collapsed": true
   },
   "outputs": [],
   "source": []
  },
  {
   "cell_type": "code",
   "execution_count": null,
   "metadata": {
    "collapsed": true
   },
   "outputs": [],
   "source": []
  },
  {
   "cell_type": "code",
   "execution_count": null,
   "metadata": {
    "collapsed": true
   },
   "outputs": [],
   "source": []
  },
  {
   "cell_type": "code",
   "execution_count": null,
   "metadata": {
    "collapsed": true
   },
   "outputs": [],
   "source": []
  },
  {
   "cell_type": "code",
   "execution_count": null,
   "metadata": {
    "collapsed": true
   },
   "outputs": [],
   "source": []
  },
  {
   "cell_type": "code",
   "execution_count": null,
   "metadata": {
    "collapsed": true
   },
   "outputs": [],
   "source": []
  }
 ],
 "metadata": {
  "anaconda-cloud": {},
  "kernelspec": {
   "display_name": "Python [default]",
   "language": "python",
   "name": "python2"
  },
  "language_info": {
   "codemirror_mode": {
    "name": "ipython",
    "version": 2
   },
   "file_extension": ".py",
   "mimetype": "text/x-python",
   "name": "python",
   "nbconvert_exporter": "python",
   "pygments_lexer": "ipython2",
   "version": "2.7.12"
  }
 },
 "nbformat": 4,
 "nbformat_minor": 1
}
