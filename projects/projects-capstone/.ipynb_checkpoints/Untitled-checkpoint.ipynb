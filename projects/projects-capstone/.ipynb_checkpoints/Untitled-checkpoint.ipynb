{
 "cells": [
  {
   "cell_type": "code",
   "execution_count": 2,
   "metadata": {
    "collapsed": false
   },
   "outputs": [
    {
     "data": {
      "text/plain": [
       "21955"
      ]
     },
     "execution_count": 2,
     "metadata": {},
     "output_type": "execute_result"
    }
   ],
   "source": [
    "digits=range(10)\n",
    "c1=[]\n",
    "for a in digits:\n",
    "    for b in digits:\n",
    "        for c in digits:\n",
    "            for d in digits:\n",
    "                if a+b+c+d==12:\n",
    "                    c1.append([a,b,c,d])\n",
    "c2=[]\n",
    "for combo in c1:\n",
    "    for b in digits:\n",
    "        for c in digits:\n",
    "            for d in digits:\n",
    "                if combo[0]+b+c+d==12:\n",
    "                    c2.append([a,b,c,d])\n"
   ]
  },
  {
   "cell_type": "code",
   "execution_count": null,
   "metadata": {
    "collapsed": true
   },
   "outputs": [],
   "source": []
  }
 ],
 "metadata": {
  "anaconda-cloud": {},
  "kernelspec": {
   "display_name": "Python [default]",
   "language": "python",
   "name": "python2"
  },
  "language_info": {
   "codemirror_mode": {
    "name": "ipython",
    "version": 2
   },
   "file_extension": ".py",
   "mimetype": "text/x-python",
   "name": "python",
   "nbconvert_exporter": "python",
   "pygments_lexer": "ipython2",
   "version": "2.7.12"
  }
 },
 "nbformat": 4,
 "nbformat_minor": 1
}
