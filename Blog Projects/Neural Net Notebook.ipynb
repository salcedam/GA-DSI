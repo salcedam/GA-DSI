{
 "cells": [
  {
   "cell_type": "code",
   "execution_count": 1,
   "metadata": {
    "collapsed": false
   },
   "outputs": [
    {
     "name": "stderr",
     "output_type": "stream",
     "text": [
      "Using TensorFlow backend.\n"
     ]
    },
    {
     "ename": "Exception",
     "evalue": "Can't change the value of this config parameter after initialization!",
     "output_type": "error",
     "traceback": [
      "\u001b[0;31m---------------------------------------------------------------------------\u001b[0m",
      "\u001b[0;31mException\u001b[0m                                 Traceback (most recent call last)",
      "\u001b[0;32m<ipython-input-1-b561a093a81c>\u001b[0m in \u001b[0;36m<module>\u001b[0;34m()\u001b[0m\n\u001b[1;32m     21\u001b[0m \u001b[0mget_ipython\u001b[0m\u001b[0;34m(\u001b[0m\u001b[0;34m)\u001b[0m\u001b[0;34m.\u001b[0m\u001b[0mmagic\u001b[0m\u001b[0;34m(\u001b[0m\u001b[0;34mu'matplotlib inline'\u001b[0m\u001b[0;34m)\u001b[0m\u001b[0;34m\u001b[0m\u001b[0m\n\u001b[1;32m     22\u001b[0m \u001b[0mtheano\u001b[0m\u001b[0;34m.\u001b[0m\u001b[0mconfig\u001b[0m\u001b[0;34m.\u001b[0m\u001b[0mfloatX\u001b[0m \u001b[0;34m=\u001b[0m \u001b[0;34m'float32'\u001b[0m\u001b[0;34m\u001b[0m\u001b[0m\n\u001b[0;32m---> 23\u001b[0;31m \u001b[0mtheano\u001b[0m\u001b[0;34m.\u001b[0m\u001b[0mconfig\u001b[0m\u001b[0;34m.\u001b[0m\u001b[0mdevice\u001b[0m \u001b[0;34m=\u001b[0m \u001b[0;34m'gpu'\u001b[0m\u001b[0;34m\u001b[0m\u001b[0m\n\u001b[0m\u001b[1;32m     24\u001b[0m \u001b[0;34m\u001b[0m\u001b[0m\n\u001b[1;32m     25\u001b[0m \u001b[0;34m\u001b[0m\u001b[0m\n",
      "\u001b[0;32m/Users/thomas/anaconda/lib/python2.7/site-packages/theano/configparser.pyc\u001b[0m in \u001b[0;36m__set__\u001b[0;34m(self, cls, val)\u001b[0m\n\u001b[1;32m    329\u001b[0m         \u001b[0;32mif\u001b[0m \u001b[0;32mnot\u001b[0m \u001b[0mself\u001b[0m\u001b[0;34m.\u001b[0m\u001b[0mallow_override\u001b[0m \u001b[0;32mand\u001b[0m \u001b[0mhasattr\u001b[0m\u001b[0;34m(\u001b[0m\u001b[0mself\u001b[0m\u001b[0;34m,\u001b[0m \u001b[0;34m'val'\u001b[0m\u001b[0;34m)\u001b[0m\u001b[0;34m:\u001b[0m\u001b[0;34m\u001b[0m\u001b[0m\n\u001b[1;32m    330\u001b[0m             raise Exception(\n\u001b[0;32m--> 331\u001b[0;31m                 \u001b[0;34m\"Can't change the value of this config parameter \"\u001b[0m\u001b[0;34m\u001b[0m\u001b[0m\n\u001b[0m\u001b[1;32m    332\u001b[0m                 \"after initialization!\")\n\u001b[1;32m    333\u001b[0m         \u001b[0;31m# print \"SETTING PARAM\", self.fullname,(cls), val\u001b[0m\u001b[0;34m\u001b[0m\u001b[0;34m\u001b[0m\u001b[0m\n",
      "\u001b[0;31mException\u001b[0m: Can't change the value of this config parameter after initialization!"
     ]
    }
   ],
   "source": [
    "import pandas as pd\n",
    "import numpy as np\n",
    "import matplotlib.pyplot as plt\n",
    "import seaborn as sns\n",
    "import skimage\n",
    "from skimage import transform as tf\n",
    "from skimage import measure, feature, color, filters, draw, segmentation, morphology, exposure, transform\n",
    "from scipy import misc\n",
    "from sklearn.cross_validation import train_test_split\n",
    "from keras.layers.core import Dense, Activation, Merge, Flatten, Dropout\n",
    "from keras.layers.convolutional import Convolution2D, MaxPooling2D\n",
    "from keras.models import Sequential\n",
    "import keras\n",
    "from PIL import Image\n",
    "import glob\n",
    "import random, os\n",
    "from sklearn.metrics.pairwise import cosine_similarity\n",
    "import theano\n",
    "from skimage.filters.rank import median\n",
    "from skimage.morphology import disk\n",
    "%matplotlib inline\n",
    "theano.config.floatX = 'float32'\n",
    "theano.config.device = 'gpu'"
   ]
  },
  {
   "cell_type": "code",
   "execution_count": 70,
   "metadata": {
    "collapsed": true
   },
   "outputs": [],
   "source": [
    "# Reading in test images into Python\n",
    "def random_filename_generator(path):\n",
    "    return random.choice([x for x in os.listdir(path) if os.path.isfile(os.path.join(path, x))])\n",
    "\n",
    "def generate_images(max_images=5):\n",
    "    image_list, target_list = [] , []\n",
    "    ext_list=['ALB','BET','DOL','LAG','NoF','OTHER','SHARK','YFT']\n",
    "    for i in range(8):\n",
    "        path='/Users/thomas/Data Science Projects/Fish Identification/jpgs/train/'+ext_list[i]+'/*.jpg'\n",
    "        target=[0,0,0,0,0,0,0,0]\n",
    "        target[i]=1\n",
    "        j=0\n",
    "        file_names=[]\n",
    "        for filename in glob.glob(path):\n",
    "            file_names.append(filename)\n",
    "        while j<max_images and 0<len(file_names):\n",
    "            curr_file=random.choice(file_names)\n",
    "            file_names.remove(curr_file)\n",
    "            for filename in glob.glob(curr_file):\n",
    "                im=misc.imread(filename)\n",
    "                im=tf.resize(im,(360,640),4)\n",
    "                im=color.rgb2gray(im)\n",
    "                image_list.append(im)\n",
    "                target_list.append(target)\n",
    "                j+=1\n",
    "    return image_list,target_list\n"
   ]
  },
  {
   "cell_type": "code",
   "execution_count": 77,
   "metadata": {
    "collapsed": true
   },
   "outputs": [],
   "source": [
    "conv_layers=[24, 24, 48] # Changed from 20, 40 to 24, 48\n",
    "dense_layers=[1024,512]\n",
    "\n",
    "model=Sequential()\n",
    "model.add(Convolution2D(24,3,3, activation='relu', input_shape=(1,360,640), dim_ordering=\"th\"))\n",
    "model.add(MaxPooling2D(dim_ordering=\"th\"))\n",
    "for layer in conv_layers:\n",
    "    model.add(Convolution2D(layer, 3, 3, activation='relu', dim_ordering=\"th\"))\n",
    "    model.add(MaxPooling2D(dim_ordering=\"tf\"))\n",
    "model.add(Flatten())\n",
    "for dl in dense_layers:\n",
    "    model.add(Dense(dl, activation='relu'))\n",
    "    model.add(Dropout(0.3))\n",
    "model.add(Dense(8, activation='softmax'))\n",
    "model.compile(loss='categorical_crossentropy', optimizer=\"adamax\",metrics=['accuracy'])\n"
   ]
  },
  {
   "cell_type": "code",
   "execution_count": 71,
   "metadata": {
    "collapsed": false
   },
   "outputs": [],
   "source": [
    "X,Y=generate_images(45)\n",
    "X=np.reshape(X,(len(X), 1, 360, 640))\n",
    "x_train_0,x_test_0,y_train,y_test=train_test_split(X,Y,test_size=.15)"
   ]
  },
  {
   "cell_type": "code",
   "execution_count": 52,
   "metadata": {
    "collapsed": false
   },
   "outputs": [],
   "source": [
    "# # Making filtered images to extend training set\n",
    "\n",
    "# x_train_f_1, x_test_f_1= [], []\n",
    "# x_train_f_2, x_test_f_2= [], []\n",
    "# for image in x_train_0:\n",
    "#     x_train_f_1.append(filters.gaussian(image, sigma=.3))\n",
    "# #     x_train_f_2.append(median(image, disk(.8)))\n",
    "# for image in x_test_0:\n",
    "#     x_test_f_1.append(filters.gaussian(image, sigma=.3))\n",
    "# #     x_test_f_2.append(median(image, disk(.8)))\n",
    "# x_train_0=list(x_train_0)\n",
    "# x_test_0=list(x_test_0)\n",
    "# x_train_0.extend(x_train_f_1)\n",
    "# # x_train_0.extend(x_train_f_2)\n",
    "# x_test_0.extend(x_test_f_1)\n",
    "# # x_test_0.extend(x_test_f_2)\n",
    "\n",
    "# x_train_f_1, x_test_f_1= [], []\n",
    "# # x_train_f_2, x_test_f_2= [], []\n",
    "\n",
    "# y_train=y_train*2\n",
    "# y_test=y_test*2\n",
    "\n",
    "# x_train_0=np.reshape(x_train_0,(len(x_train_0), 1, 360, 640))\n",
    "# x_test_0=np.reshape(x_test_0,(len(x_test_0), 1, 360, 640))"
   ]
  },
  {
   "cell_type": "code",
   "execution_count": 78,
   "metadata": {
    "collapsed": false
   },
   "outputs": [
    {
     "name": "stdout",
     "output_type": "stream",
     "text": [
      "Train on 306 samples, validate on 54 samples\n",
      "Epoch 1/10\n",
      "306/306 [==============================] - 197s - loss: 3.2970 - acc: 0.1340 - val_loss: 2.0630 - val_acc: 0.2407\n",
      "Epoch 2/10\n",
      "306/306 [==============================] - 190s - loss: 1.9951 - acc: 0.3007 - val_loss: 1.8389 - val_acc: 0.3148\n",
      "Epoch 3/10\n",
      "306/306 [==============================] - 188s - loss: 1.7632 - acc: 0.3954 - val_loss: 1.9014 - val_acc: 0.3333\n",
      "Epoch 4/10\n",
      "306/306 [==============================] - 188s - loss: 1.3815 - acc: 0.5392 - val_loss: 1.2989 - val_acc: 0.4815\n",
      "Epoch 5/10\n",
      "306/306 [==============================] - 188s - loss: 0.8227 - acc: 0.7516 - val_loss: 0.8948 - val_acc: 0.6667\n",
      "Epoch 6/10\n",
      "306/306 [==============================] - 190s - loss: 0.4962 - acc: 0.8725 - val_loss: 0.7875 - val_acc: 0.7593\n",
      "Epoch 7/10\n",
      "306/306 [==============================] - 189s - loss: 0.2416 - acc: 0.9346 - val_loss: 1.1209 - val_acc: 0.7037\n",
      "Epoch 8/10\n",
      "306/306 [==============================] - 199s - loss: 0.0887 - acc: 0.9804 - val_loss: 0.8602 - val_acc: 0.7778\n",
      "Epoch 9/10\n",
      "306/306 [==============================] - 207s - loss: 0.0478 - acc: 0.9902 - val_loss: 1.2737 - val_acc: 0.7037\n",
      "Epoch 10/10\n",
      "306/306 [==============================] - 195s - loss: 0.0259 - acc: 1.0000 - val_loss: 1.2183 - val_acc: 0.6667\n"
     ]
    },
    {
     "data": {
      "text/plain": [
       "<keras.callbacks.History at 0x12bfa6e90>"
      ]
     },
     "execution_count": 78,
     "metadata": {},
     "output_type": "execute_result"
    }
   ],
   "source": [
    "model.fit(np.array(x_train_0),y_train,batch_size=21,nb_epoch=10,shuffle=True,verbose=1,\\\n",
    "                          validation_data=(np.array(x_test_0),y_test))"
   ]
  },
  {
   "cell_type": "code",
   "execution_count": null,
   "metadata": {
    "collapsed": false,
    "scrolled": false
   },
   "outputs": [
    {
     "name": "stdout",
     "output_type": "stream",
     "text": [
      "Train on 306 samples, validate on 54 samples\n",
      "Epoch 1/3\n",
      "306/306 [==============================] - 187s - loss: 0.9692 - acc: 0.7778 - val_loss: 0.6248 - val_acc: 0.8519\n",
      "Epoch 2/3\n",
      "306/306 [==============================] - 181s - loss: 0.5847 - acc: 0.8235 - val_loss: 0.6077 - val_acc: 0.8333\n",
      "Epoch 3/3\n",
      "306/306 [==============================] - 175s - loss: 0.3973 - acc: 0.8758 - val_loss: 0.5108 - val_acc: 0.8704\n"
     ]
    }
   ],
   "source": [
    "for i in range(5):\n",
    "    X,Y=generate_images(45)\n",
    "    X=np.reshape(X,(len(X), 1, 360, 640))\n",
    "    x_train_0,x_test_0,y_train,y_test=train_test_split(X,Y,test_size=.15)\n",
    "    model.fit(np.array(x_train_0),y_train,batch_size=54,nb_epoch=3,shuffle=True,verbose=1,\\\n",
    "                          validation_data=(np.array(x_test_0),y_test))"
   ]
  },
  {
   "cell_type": "markdown",
   "metadata": {},
   "source": [
    "### Testing for Probabilities"
   ]
  },
  {
   "cell_type": "code",
   "execution_count": 38,
   "metadata": {
    "collapsed": true
   },
   "outputs": [],
   "source": [
    "def generate_testing_images():\n",
    "    path='/Users/thomas/Data Science Projects/Fish Identification/jpgs/test_stg1/*.jpg'\n",
    "    testing_image_list, testing_image_name= [], []\n",
    "    for filename in glob.glob(path):\n",
    "        im=misc.imread(filename)\n",
    "        im=tf.resize(im,(360,640),4)\n",
    "        im=color.rgb2gray(im)\n",
    "        testing_image_list.append(im)\n",
    "        testing_image_name.append(filename)\n",
    "    return testing_image_list,testing_image_name"
   ]
  },
  {
   "cell_type": "code",
   "execution_count": 39,
   "metadata": {
    "collapsed": true
   },
   "outputs": [],
   "source": [
    "testing_images,testing_files=generate_testing_images()\n",
    "testing_images=np.reshape(testing_images,(1000, 1, 360, 640))"
   ]
  },
  {
   "cell_type": "code",
   "execution_count": 75,
   "metadata": {
    "collapsed": false
   },
   "outputs": [
    {
     "name": "stdout",
     "output_type": "stream",
     "text": [
      "1000/1000 [==============================] - 183s   \n"
     ]
    }
   ],
   "source": [
    "# With 60 Images Per Class\n",
    "testing_results_proba=model.predict_proba(np.array(testing_images))"
   ]
  },
  {
   "cell_type": "code",
   "execution_count": 76,
   "metadata": {
    "collapsed": true
   },
   "outputs": [],
   "source": [
    "df=pd.DataFrame(testing_results_proba)\n",
    "df['image']=testing_files\n",
    "df['image']=df['image'].apply(lambda x: x.split('/')[-1])\n",
    "for i in range(8):\n",
    "    ext_list=['ALB','BET','DOL','LAG','NoF','OTHER','SHARK','YFT']\n",
    "    df[ext_list[i]]=df[i]\n",
    "    del df[i]\n",
    "df.to_csv('/Users/thomas/Data Science Projects/Fish Identification/jpgs/test_answers.csv')"
   ]
  }
 ],
 "metadata": {
  "anaconda-cloud": {},
  "kernelspec": {
   "display_name": "Python [default]",
   "language": "python",
   "name": "python2"
  }
 },
 "nbformat": 4,
 "nbformat_minor": 1
}
