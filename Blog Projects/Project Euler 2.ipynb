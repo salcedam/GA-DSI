{
 "cells": [
  {
   "cell_type": "code",
   "execution_count": 1,
   "metadata": {
    "collapsed": true
   },
   "outputs": [],
   "source": [
    "import numpy as np\n",
    "import pandas as pd\n",
    "import matplotlib.pyplot as plt\n",
    "import seaborn as sns\n",
    "%matplotlib inline"
   ]
  },
  {
   "cell_type": "code",
   "execution_count": 85,
   "metadata": {
    "collapsed": false
   },
   "outputs": [
    {
     "name": "stdout",
     "output_type": "stream",
     "text": [
      "1074\n"
     ]
    }
   ],
   "source": [
    "#Problems 18 and 67\n",
    "\n",
    "nums=\"\"\"75\n",
    "95 64\n",
    "17 47 82\n",
    "18 35 87 10\n",
    "20 04 82 47 65\n",
    "19 01 23 75 03 34\n",
    "88 02 77 73 07 63 67\n",
    "99 65 04 28 06 16 70 92\n",
    "41 41 26 56 83 40 80 70 33\n",
    "41 48 72 33 47 32 37 16 94 29\n",
    "53 71 44 65 25 43 91 52 97 51 14\n",
    "70 11 33 28 77 73 17 78 39 68 17 57\n",
    "91 71 52 38 17 14 91 43 58 50 27 29 48\n",
    "63 66 04 68 89 53 67 30 73 16 69 87 40 31\n",
    "04 62 98 27 23 09 70 98 73 93 38 53 60 04 23\"\"\"\n",
    "\n",
    "nums=nums.split('\\n')\n",
    "nums=[x.split() for x in nums]\n",
    "new_nums=[]\n",
    "for x in nums:\n",
    "    new_nums.append([])\n",
    "    for y in x:\n",
    "        new_nums[-1].append(int(y))\n",
    "nums=new_nums\n",
    "\n",
    "prev_row=nums[0]\n",
    "curr_row=[]\n",
    "for row in nums[1:]:\n",
    "    curr_row=[]\n",
    "    for item in range(len(row)):\n",
    "        if item==0:\n",
    "            curr_row.append(row[item]+prev_row[0])\n",
    "        elif item==len(prev_row):\n",
    "            curr_row.append(row[item]+prev_row[-1])\n",
    "        elif prev_row[item]>prev_row[item-1]:\n",
    "            curr_row.append(row[item]+prev_row[item])\n",
    "        else:\n",
    "            curr_row.append(row[item]+prev_row[item-1])\n",
    "    prev_row=curr_row\n",
    "print max(curr_row)"
   ]
  },
  {
   "cell_type": "code",
   "execution_count": 109,
   "metadata": {
    "collapsed": false
   },
   "outputs": [
    {
     "data": {
      "text/plain": [
       "31626"
      ]
     },
     "execution_count": 109,
     "metadata": {},
     "output_type": "execute_result"
    }
   ],
   "source": [
    "# Problem 21\n",
    "def find_divisors_sum(num):\n",
    "    divisors=[]\n",
    "    if num%2==0:\n",
    "        #it is even; we can use evens and odds\n",
    "        for curr in range(1,(num/2)+1):\n",
    "            if num%curr==0:\n",
    "                divisors.append(curr)\n",
    "    else:\n",
    "        #it is odd; we can't use evens\n",
    "        for curr in range(1,(num/2)+1,2):\n",
    "            if num%curr==0:\n",
    "                divisors.append(curr)\n",
    "    return sum(divisors)\n",
    "\n",
    "\n",
    "amicable=[]\n",
    "for num in range(10000):\n",
    "    if num not in amicable:\n",
    "        temp_sum=find_divisors_sum(num)\n",
    "        if (find_divisors_sum(temp_sum)==num) and (temp_sum!=num):\n",
    "            amicable.append(num)\n",
    "            \n",
    "sum(amicable)"
   ]
  },
  {
   "cell_type": "code",
   "execution_count": 45,
   "metadata": {
    "collapsed": false
   },
   "outputs": [
    {
     "name": "stdout",
     "output_type": "stream",
     "text": [
      "127035954683\n"
     ]
    }
   ],
   "source": [
    "# Problem 62\n",
    "\n",
    "cubed=lambda x: x**3\n",
    "numbers_dict={}\n",
    "for i in range(20000):\n",
    "    num_slots=[0]*10\n",
    "    cubed_num=str(cubed(i))\n",
    "    for j in range(10):\n",
    "        num_slots[j]=cubed_num.count(str(j))\n",
    "    dict_key=''\n",
    "    for j in num_slots:\n",
    "        dict_key+=str(j)\n",
    "    if dict_key in numbers_dict.keys():\n",
    "        prev_values=numbers_dict[dict_key]\n",
    "        prev_values[0]+=1\n",
    "        numbers_dict[dict_key]=prev_values\n",
    "    else:\n",
    "        numbers_dict[dict_key]=[1,i]\n",
    "\n",
    "criteria_met_list=[]\n",
    "for values in numbers_dict.values():\n",
    "    if values[0]>4:\n",
    "        criteria_met_list.append(values[1])\n",
    "print min(criteria_met_list)**3"
   ]
  },
  {
   "cell_type": "code",
   "execution_count": 4,
   "metadata": {
    "collapsed": false
   },
   "outputs": [],
   "source": [
    "# Problem 84 - Monopoly Odds\n",
    "import numpy as np\n",
    "\n",
    "def dice_roll():\n",
    "    return [x for x in np.random.randint(1,7,2)]\n",
    "    \n",
    "def choose_util(i):\n",
    "    if i<12:\n",
    "        return '12'\n",
    "    elif i<28:\n",
    "        return '28'\n",
    "    return '12'\n",
    "\n",
    "class monopoly():\n",
    "    \n",
    "    def __init__(self):\n",
    "        self.player_position='00'\n",
    "        self.seed=np.random.randint(1,1000000)\n",
    "        self.cc_i=0\n",
    "        self.ch_i=0\n",
    "        \n",
    "    def next_turn(self):\n",
    "        board=['0'+str(x) if len(str(x))==1 else str(x) for x in range(40)]\n",
    "        spaces_visited=[]\n",
    "        doubles_count=0\n",
    "        boolean_value=True\n",
    "        while boolean_value:\n",
    "            roll=dice_roll()\n",
    "            next_space=roll[0]+roll[1]+int(self.player_position)\n",
    "            if next_space>=40:\n",
    "                next_space+=-40\n",
    "            next_space=str(next_space)\n",
    "            if len(next_space)==1:\n",
    "                next_space='0'+next_space\n",
    "            if roll[0]==roll[1]:\n",
    "                doubles_count+=1\n",
    "            if doubles_count==3:\n",
    "                spaces_visited.append('10')\n",
    "                self.player_position='10'\n",
    "                boolean_value=False\n",
    "            else:\n",
    "                    # Community Chest\n",
    "                if next_space in ['02','17','33']:\n",
    "                    cards=[next_space]\n",
    "                    cards=cards*14\n",
    "                    cards.extend(['00','10'])\n",
    "                    np.random.seed(self.seed)\n",
    "                    cards=np.random.permutation(cards)\n",
    "                    next_cc_i=self.cc_i+1\n",
    "                    if next_cc_i>15:\n",
    "                        next_cc_i=0\n",
    "                    proposed_space=cards[self.cc_i]\n",
    "                    self.cc_i=next_cc_i\n",
    "                    if proposed_space!=next_space:\n",
    "                        if proposed_space=='10': # Going to Jail\n",
    "                            spaces_visited.append('10')\n",
    "                            self.player_position=proposed_space\n",
    "                            boolean_value=False\n",
    "                        else:  # Not going to Jail\n",
    "                            spaces_visited.append(proposed_space)\n",
    "                            self.player_position=proposed_space\n",
    "                    else:\n",
    "                        spaces_visited.append(next_space)\n",
    "                        self.player_position=next_space\n",
    "                            \n",
    "                    # Chance\n",
    "                elif next_space in ['07','22','36']: \n",
    "                    i=next_space\n",
    "                    cards=[i]\n",
    "                    cards=cards*6\n",
    "                    cards.extend(['00','10','11','24','39','05',\\\n",
    "                                  str(int(i)/10*10+5),str(int(i)/10*10+5),choose_util(int(i)),str(int(i)-3)])\n",
    "                    np.random.seed(self.seed)\n",
    "                    cards=np.random.permutation(cards)\n",
    "                    next_ch_i=self.ch_i+1\n",
    "                    if next_ch_i>15:\n",
    "                        next_ch_i=0\n",
    "                    proposed_space=cards[self.ch_i]\n",
    "                    self.ch_i=next_ch_i\n",
    "                    if proposed_space!=next_space:\n",
    "                        if proposed_space=='10': # Going to Jail\n",
    "                            spaces_visited.append('10')\n",
    "                            self.player_position=proposed_space\n",
    "                            boolean_value=False\n",
    "                        else:  # Not going to Jail\n",
    "                            spaces_visited.append(proposed_space)\n",
    "                            self.player_position=proposed_space\n",
    "                    else:\n",
    "                        spaces_visited.append(next_space)\n",
    "                        self.player_position=next_space\n",
    "                        \n",
    "                    # Neither\n",
    "                else:\n",
    "                    spaces_visited.append(next_space)\n",
    "                    self.player_position=next_space\n",
    "            if roll[0]!=roll[1]:\n",
    "                boolean_value=False\n",
    "        return spaces_visited"
   ]
  },
  {
   "cell_type": "code",
   "execution_count": null,
   "metadata": {
    "collapsed": true
   },
   "outputs": [],
   "source": [
    "spaces_visited=[]\n",
    "trials=1000\n",
    "games=1000\n",
    "for i in range(games):\n",
    "    thing=monopoly()\n",
    "    for i in range(trials):\n",
    "        spaces=thing.next_turn()\n",
    "        for i in range(len(spaces)):\n",
    "            if len(spaces[i])==1:\n",
    "                spaces[i]='0'+spaces[i]\n",
    "        spaces_visited.extend(spaces)\n",
    "\n",
    "space_count=[]\n",
    "for i in range(40):\n",
    "    x=i\n",
    "    if len(str(x))==1:\n",
    "        x='0'+str(x)  \n",
    "    else: \n",
    "        x=str(x)\n",
    "    space_count.append([i,spaces_visited.count(x)/float(trials*games)])\n",
    "space_count.sort(key=lambda x: x[1],reverse=True)\n",
    "space_count[:4]"
   ]
  },
  {
   "cell_type": "code",
   "execution_count": null,
   "metadata": {
    "collapsed": true
   },
   "outputs": [],
   "source": [
    "space_count"
   ]
  },
  {
   "cell_type": "code",
   "execution_count": 455,
   "metadata": {
    "collapsed": false
   },
   "outputs": [
    {
     "name": "stdout",
     "output_type": "stream",
     "text": [
      "1901025 6 425 2550\n",
      "1909971 6 426 2556\n",
      "1918938 6 427 2562\n",
      "1927926 6 428 2568\n",
      "1936935 6 429 2574\n",
      "1945965 6 430 2580\n",
      "1955016 6 431 2586\n",
      "1964088 6 432 2592\n",
      "1973181 6 433 2598\n",
      "1982295 6 434 2604\n",
      "1991430 6 435 2610\n",
      "2000586 6 436 2616\n",
      "2000016 16 171 2736\n",
      "1999998 36 77 2772\n"
     ]
    }
   ],
   "source": [
    "# Problem 85 - Counting Rectangles\n",
    "side1=0\n",
    "side2=0\n",
    "rectangles=1900000\n",
    "for i in range(1,500):\n",
    "    for j in range(i,500):\n",
    "        temp=np.sum(range(1,i+1))*np.sum(range(1,j+1))\n",
    "        if np.abs(temp-2000000)<np.abs(rectangles-2000000):\n",
    "            print temp,i,j,i*j\n",
    "            rectangles=temp\n",
    "            side1=i\n",
    "            side2=j"
   ]
  },
  {
   "cell_type": "code",
   "execution_count": null,
   "metadata": {
    "collapsed": true
   },
   "outputs": [],
   "source": [
    "# Problem 88 - Product-sum Numbers\n",
    "\n"
   ]
  },
  {
   "cell_type": "code",
   "execution_count": 469,
   "metadata": {
    "collapsed": false
   },
   "outputs": [
    {
     "name": "stdout",
     "output_type": "stream",
     "text": [
      "[0, 0, 0, 0, 0, 0] [0, 0, 0, 0, 0, 0] [0, 0, 0, 0, 0, 0]\n",
      "[0, 0, 0, 0, 0, 1] [0, 0, 0, 0, 1, 0] [0, 0, 0, 0, 0, 0]\n",
      "[0, 0, 0, 0, 1, 0] [0, 0, 0, 1, 0, 0] [0, 0, 0, 0, 0, 0]\n",
      "[0, 0, 0, 1, 0, 0] [0, 0, 1, 0, 0, 0] [0, 0, 0, 0, 0, 0]\n",
      "[0, 0, 0, 1, 0, 1] [0, 0, 1, 0, 1, 0] [0, 0, 0, 0, 0, 0]\n",
      "[0, 0, 1, 0, 0, 0] [0, 1, 0, 0, 0, 0] [0, 0, 0, 0, 0, 0]\n",
      "[0, 0, 1, 0, 0, 1] [0, 1, 0, 0, 1, 0] [0, 0, 0, 0, 0, 0]\n",
      "[0, 0, 1, 0, 1, 0] [0, 1, 0, 1, 0, 0] [0, 0, 0, 0, 0, 0]\n",
      "[0, 1, 0, 0, 0, 0] [1, 0, 0, 0, 0, 0] [0, 0, 0, 0, 0, 0]\n",
      "[0, 1, 0, 0, 0, 1] [1, 0, 0, 0, 1, 0] [0, 0, 0, 0, 0, 0]\n",
      "[0, 1, 0, 0, 1, 0] [1, 0, 0, 1, 0, 0] [0, 0, 0, 0, 0, 0]\n",
      "[0, 1, 0, 1, 0, 0] [1, 0, 1, 0, 0, 0] [0, 0, 0, 0, 0, 0]\n",
      "[0, 1, 0, 1, 0, 1] [1, 0, 1, 0, 1, 0] [0, 0, 0, 0, 0, 0]\n",
      "[1, 0, 0, 0, 0, 0] [0, 0, 0, 0, 0, 1] [0, 0, 0, 0, 0, 0]\n",
      "[1, 0, 0, 0, 1, 0] [0, 0, 0, 1, 0, 1] [0, 0, 0, 0, 0, 0]\n",
      "[1, 0, 0, 1, 0, 0] [0, 0, 1, 0, 0, 1] [0, 0, 0, 0, 0, 0]\n",
      "[1, 0, 1, 0, 0, 0] [0, 1, 0, 0, 0, 1] [0, 0, 0, 0, 0, 0]\n",
      "[1, 0, 1, 0, 1, 0] [0, 1, 0, 1, 0, 1] [0, 0, 0, 0, 0, 0]\n",
      "18\n"
     ]
    }
   ],
   "source": [
    "# Problem 209 -Circular Logic\n",
    "tables_that_equal_zero=0\n",
    "table1=[]\n",
    "table2=[]\n",
    "for i1 in range(2):\n",
    "    for i2 in range(2):\n",
    "        for i3 in range(2):\n",
    "            for i4 in range(2):\n",
    "                for i5 in range(2):\n",
    "                    for i6 in range(2):\n",
    "                        table1=[i1,i2,i3,i4,i5,i6]\n",
    "                        final_element=0\n",
    "                        if (i2==1) and (i3==1):\n",
    "                            if i1==0:\n",
    "                                final_element=1\n",
    "                        elif i1==1:\n",
    "                            final_element=1\n",
    "                        table2=[i2,i3,i4,i5,i6,final_element]\n",
    "                        and_table=[1 if (x==1) and (y==1) else 0 for x,y in zip(table1,table2)]\n",
    "                        if sum(and_table)==0:\n",
    "                            tables_that_equal_zero+=1\n",
    "                            print table1,table2,and_table\n",
    "print tables_that_equal_zero"
   ]
  },
  {
   "cell_type": "code",
   "execution_count": 49,
   "metadata": {
    "collapsed": false
   },
   "outputs": [
    {
     "name": "stdout",
     "output_type": "stream",
     "text": [
      "Reviewed 2813044 possible combinations\n"
     ]
    }
   ],
   "source": [
    "# Problem 31 - Coin Sums\n",
    "coin_options=[1,2,5,10,20,50,100,200]\n",
    "closed_combinations=[[200]]\n",
    "open_combinations=[[x] for x in coin_options]\n",
    "go_throughs=0\n",
    "while len(open_combinations)>0:\n",
    "    new_open_combinations=[]\n",
    "    for combination in open_combinations:\n",
    "        # We can eliminate many duplicates by simply requiring the coin sums to be of equal or greater value than\n",
    "        # the most previous one\n",
    "        i=coin_options.index(combination[-1])\n",
    "        go_throughs+=1\n",
    "        while i < len(coin_options):\n",
    "            coin=coin_options[i]\n",
    "            if (coin+sum(combination))<200:\n",
    "                hold=[x for x in combination]\n",
    "                hold.append(coin)\n",
    "                new_open_combinations.append(hold)\n",
    "                i+=1\n",
    "            elif (coin+sum(combination))==200:\n",
    "                hold=[x for x in combination]\n",
    "                hold.append(coin)\n",
    "                closed_combinations.append(hold)\n",
    "                i=10\n",
    "            else:\n",
    "                i=10\n",
    "    open_combinations=new_open_combinations\n",
    "print \"Reviewed %s possible combinations\" %go_throughs"
   ]
  },
  {
   "cell_type": "code",
   "execution_count": 48,
   "metadata": {
    "collapsed": false
   },
   "outputs": [
    {
     "data": {
      "text/plain": [
       "73682"
      ]
     },
     "execution_count": 48,
     "metadata": {},
     "output_type": "execute_result"
    }
   ],
   "source": [
    "coin_amounts=[]\n",
    "for coins in closed_combinations:\n",
    "    coin_amounts.append([coins.count(1),coins.count(2),coins.count(5),coins.count(10),coins.count(20),coins.count(50),\n",
    "                    coins.count(100),coins.count(200)])\n",
    "len(pd.DataFrame(coin_amounts,columns=[str(x) for x in coin_options]).drop_duplicates())"
   ]
  },
  {
   "cell_type": "code",
   "execution_count": null,
   "metadata": {
    "collapsed": false
   },
   "outputs": [],
   "source": []
  },
  {
   "cell_type": "code",
   "execution_count": 76,
   "metadata": {
    "collapsed": false
   },
   "outputs": [
    {
     "name": "stdout",
     "output_type": "stream",
     "text": [
      "39\n"
     ]
    }
   ],
   "source": [
    "# Problem 78 - Coin Partitions\n",
    "coin_combinations={}\n",
    "coin_combinations[1]=1\n",
    "coin_combinations[2]=2\n",
    "coin_combinations[3]=3\n",
    "coin_combinations[4]=5\n",
    "coin_combinations[5]=7\n",
    "boolean_value=True\n",
    "i=6\n",
    "while boolean_value:\n",
    "    value_check=coin_combinations[i-2]*2+1\n",
    "    if value_check>1000000:\n",
    "        print i\n",
    "        boolean_value=False\n",
    "    coin_combinations[i]=value_check\n",
    "    i+=1"
   ]
  },
  {
   "cell_type": "code",
   "execution_count": 75,
   "metadata": {
    "collapsed": false
   },
   "outputs": [
    {
     "data": {
      "text/plain": [
       "4503599627370495"
      ]
     },
     "execution_count": 75,
     "metadata": {},
     "output_type": "execute_result"
    }
   ],
   "source": [
    "coin_combinations[103]"
   ]
  },
  {
   "cell_type": "code",
   "execution_count": 22,
   "metadata": {
    "collapsed": false
   },
   "outputs": [
    {
     "name": "stdout",
     "output_type": "stream",
     "text": [
      "16 64\n",
      "19 95\n",
      "26 65\n",
      "49 98\n"
     ]
    },
    {
     "data": {
      "text/plain": [
       "0.01"
      ]
     },
     "execution_count": 22,
     "metadata": {},
     "output_type": "execute_result"
    }
   ],
   "source": [
    "# Problem 33\n",
    "\n",
    "abnormal_fractions=[]\n",
    "for i in range(10,100):\n",
    "    for j in range(i,100):\n",
    "        if int(str(j)[-1])!=0:\n",
    "            if int(str(i)[0])!=int(str(i)[1]):\n",
    "                if str(i)[-1]==str(j)[0]:\n",
    "                    if (i/float(j))==(int(str(i)[0])/float(str(j)[-1])):\n",
    "                        print i,j\n",
    "                        abnormal_fractions.append([i,j])\n",
    "abnormal_fractions=np.array(abnormal_fractions).T\n",
    "np.product(abnormal_fractions[0])/float(np.product(abnormal_fractions[1]))"
   ]
  },
  {
   "cell_type": "code",
   "execution_count": 23,
   "metadata": {
    "collapsed": false
   },
   "outputs": [
    {
     "data": {
      "text/plain": [
       "210"
      ]
     },
     "execution_count": 23,
     "metadata": {},
     "output_type": "execute_result"
    }
   ],
   "source": [
    "# Problem 40\n",
    "digits=[]\n",
    "digit_number=0\n",
    "slots=[1,10,100,1000,10000,100000,1000000]\n",
    "for i in range(1,1000000):\n",
    "    for j in range(len(str(i))):\n",
    "        digit_number+=1\n",
    "        if digit_number in slots:\n",
    "            digits.append(int(str(i)[j]))\n",
    "np.product(digits)"
   ]
  },
  {
   "cell_type": "code",
   "execution_count": 130,
   "metadata": {
    "collapsed": false
   },
   "outputs": [
    {
     "name": "stdout",
     "output_type": "stream",
     "text": [
      "2153\n"
     ]
    },
    {
     "data": {
      "text/plain": [
       "259679.0"
      ]
     },
     "execution_count": 130,
     "metadata": {},
     "output_type": "execute_result"
    }
   ],
   "source": [
    "# Problem 107\n",
    "df=pd.read_csv('https://projecteuler.net/project/resources/p107_network.txt',header=None)\n",
    "df.iloc[0].to_frame().T\n",
    "df=df.replace('-',10000)\n",
    "for col in df.columns:\n",
    "    df[col]=df[col].astype(int)\n",
    "    \n",
    "vertices_list=[39]\n",
    "edge_list=[]\n",
    "while len(vertices_list)<len(df.columns):\n",
    "    col_min=0\n",
    "    row_min=0\n",
    "    val_min=10000\n",
    "    for col in vertices_list:\n",
    "        for row in df.index:\n",
    "            if row not in vertices_list:\n",
    "                if df.loc[row,col]<=val_min:\n",
    "                    val_min=df.loc[row,col]\n",
    "                    col_min=col\n",
    "                    row_min=row\n",
    "#     print row_min,col_min,val_min\n",
    "    vertices_list.append(row_min)\n",
    "    edge_list.append(val_min)\n",
    "    \n",
    "# Problem 107\n",
    "df=pd.read_csv('https://projecteuler.net/project/resources/p107_network.txt',header=None)\n",
    "df.iloc[0].to_frame().T\n",
    "df=df.replace('-',0)\n",
    "for col in df.columns:\n",
    "    df[col]=df[col].astype(int)\n",
    "print sum(edge_list)\n",
    "sum(sum(df.values))/2-np.sum(edge_list)"
   ]
  },
  {
   "cell_type": "code",
   "execution_count": 167,
   "metadata": {
    "collapsed": false
   },
   "outputs": [
    {
     "name": "stdout",
     "output_type": "stream",
     "text": [
      "1 2 3 4 5 6 7 8 9 10 11 12 13 14 15 16 17 18 19 20 21 22 23 24 25 26 27 28 29 30 31 32 33 34 35 36 37 38 39 40 41 42 43 44 45 46 47 48 49 50 51 52 53 54 55 56 57 58 59 60 61 62 63 64 65 66 67 68 69 70 71 72 73 74 75 76 77 78 79 80 81 82 83 84 85 86 87 88 89 90 91 92 93 94 95 96 97 98 99\n",
      "38182\n"
     ]
    }
   ],
   "source": [
    "# Problem 109 - Darts\n",
    "\n",
    "singles=range(21)\n",
    "singles.append(25)\n",
    "throws_dict={'S'+str(x):x for x in singles}\n",
    "doubles=range(0,42,2)\n",
    "doubles.append(50)\n",
    "for x in singles:\n",
    "    throws_dict['D'+str(x)]=x*2 \n",
    "triples=range(0,63,3)\n",
    "for x in singles[:-1]:\n",
    "    throws_dict['T'+str(x)]=x*3\n",
    "ending_throws=doubles[1:]\n",
    "singles=singles[1:]\n",
    "\n",
    "def make_combinations(init_throw,threshold,combinations=[]):\n",
    "    new_combinations=[]\n",
    "    finished_combinations=[]\n",
    "    if len(combinations)==0:\n",
    "        if init_throw==threshold:\n",
    "            finished_combinations.append([\"D\"+str(init_throw/2)])\n",
    "        for throw in throws_dict.keys():\n",
    "            if (throws_dict[throw]+init_throw)<threshold:\n",
    "                curr_comb=[\"D\"+str(init_throw/2),throw]\n",
    "                new_combinations.append(curr_comb)\n",
    "            elif (throws_dict[throw]+init_throw)==threshold:\n",
    "                curr_comb=[\"D\"+str(init_throw/2),throw]\n",
    "                finished_combinations.append(curr_comb) # <<<<<------\n",
    "    else:\n",
    "        for combination in combinations:\n",
    "            for throw in throws_dict.keys():\n",
    "                curr_comb=[x for x in combination]\n",
    "                curr_size=np.sum([throws_dict[x] for x in combination])\n",
    "                if throws_dict[throw]+curr_size<threshold:\n",
    "                    if len(curr_comb)+1<3:\n",
    "                        curr_comb.append(throw)\n",
    "                        new_combinations.append(curr_comb)\n",
    "                elif throws_dict[throw]+curr_size==threshold:\n",
    "                    curr_comb.append(throw)\n",
    "                    if len(curr_comb)<=3:\n",
    "                        finished_combinations.append(curr_comb)  # <<<<<----\n",
    "    if len(new_combinations)>0:\n",
    "        finished_combinations.extend(make_combinations(init_throw,threshold,new_combinations))\n",
    "    return finished_combinations\n",
    "\n",
    "all_combos=[]\n",
    "for i in range(1,100):\n",
    "    print i,\n",
    "    for ending_throw in ending_throws:\n",
    "        temp=make_combinations(ending_throw,i)\n",
    "        if len(temp)>0:\n",
    "            all_combos.extend(temp)\n",
    "\n",
    "print \n",
    "combos_dict={}\n",
    "for combo in all_combos:\n",
    "    temp=[x for x in combo]\n",
    "    if len(temp)>1:\n",
    "        hold=[temp[0]]\n",
    "        temp=temp[1:]\n",
    "        temp.sort()\n",
    "        hold.extend(temp)\n",
    "        temp=hold\n",
    "    temp_str=\"\"\n",
    "    for element in temp:\n",
    "        if element[1]!='0':\n",
    "            temp_str+=element\n",
    "    combos_dict[temp_str]=1\n",
    "print len(combos_dict.keys())\n"
   ]
  },
  {
   "cell_type": "code",
   "execution_count": 209,
   "metadata": {
    "collapsed": false
   },
   "outputs": [
    {
     "name": "stdout",
     "output_type": "stream",
     "text": [
      "\n",
      "DONE: 1389019170\n"
     ]
    }
   ],
   "source": [
    "# Problem 206 - Concealed Square\n",
    "\n",
    "for i in range(1399004842,1009402876,-2):\n",
    "    if i==1059402876:\n",
    "        print i,\n",
    "    if i==1109402876:\n",
    "        print i,\n",
    "    if i==1159402876:\n",
    "        print i,\n",
    "    if i==1209402876:\n",
    "        print i,\n",
    "    if i==1259402876:\n",
    "        print i,\n",
    "    if i==1309402876:\n",
    "        print i,\n",
    "    if i==1359402876:\n",
    "        print i,\n",
    "    temp=str(i**2)\n",
    "    if (temp[0]=='1') and (temp[2]=='2') and (temp[4]=='3') and (temp[6]=='4') and (temp[8]=='5')\\\n",
    "    and (temp[10]=='6') and (temp[12]=='7') and (temp[14]=='8') and (temp[16]=='9') and (temp[18]=='0'):\n",
    "        print \n",
    "        print 'DONE:',\n",
    "        print i\n",
    "        break"
   ]
  },
  {
   "cell_type": "code",
   "execution_count": 220,
   "metadata": {
    "collapsed": false
   },
   "outputs": [
    {
     "name": "stdout",
     "output_type": "stream",
     "text": [
      "1571130 1587000\n",
      "0.99\n"
     ]
    }
   ],
   "source": [
    "# Problem 112 - Bouncy Numbers\n",
    "\n",
    "bouncy=0\n",
    "total=0\n",
    "for i in range(1,10000000):\n",
    "    temp=str(i)\n",
    "    if len(temp)<=2:\n",
    "        total+=1\n",
    "    else:\n",
    "        up=0\n",
    "        down=0\n",
    "        for element in range(len(temp)-1):\n",
    "            if int(temp[element])>int(temp[element+1]):\n",
    "                down+=1\n",
    "            elif int(temp[element])<int(temp[element+1]):\n",
    "                up+=1\n",
    "        if (up>0) and (down>0):\n",
    "            bouncy+=1\n",
    "        total+=1\n",
    "    if bouncy/float(total)==0.99:\n",
    "        print bouncy,total\n",
    "        print bouncy/float(total)\n",
    "        break"
   ]
  },
  {
   "cell_type": "code",
   "execution_count": 72,
   "metadata": {
    "collapsed": true
   },
   "outputs": [],
   "source": []
  },
  {
   "cell_type": "code",
   "execution_count": 99,
   "metadata": {
    "collapsed": false,
    "scrolled": false
   },
   "outputs": [
    {
     "name": "stdout",
     "output_type": "stream",
     "text": [
      "Divisible:     24374790\n",
      "Not Divisible: 3753960\n",
      "Total:  28128750\n"
     ]
    }
   ],
   "source": [
    "# Problem 148 - Exploring Pascal's Triangle\n",
    "\n",
    "def create_row(prior_row,row_len):\n",
    "    if row_len==1:\n",
    "        next_row=[1,1]\n",
    "    else:\n",
    "        next_row=[1]\n",
    "        for element in range(row_len-1):\n",
    "            next_row.append(prior_row[element]+prior_row[element+1])\n",
    "        next_row.append(1)\n",
    "    return next_row\n",
    "\n",
    "def divisible_by_seven(row,counter,total,series):\n",
    "    second_counter=0\n",
    "    for element in row:\n",
    "        total+=1\n",
    "        if element%7==0:\n",
    "            counter+=1\n",
    "            second_counter+=1\n",
    "    series.append(second_counter),\n",
    "    return counter,total,series\n",
    "\n",
    "divisible_series=[]\n",
    "curr_row=[[1]]\n",
    "total_elements=1\n",
    "divisible_elements=0\n",
    "row_len=1\n",
    "for i in range(1,7500):\n",
    "    prev_row=curr_row\n",
    "    curr_row=create_row(prev_row,row_len)\n",
    "    row_len+=1\n",
    "    divisible_elements,total_elements,divisible_series=divisible_by_seven(curr_row,divisible_elements,total_elements,\\\n",
    "                                                                        divisible_series)\n",
    "print \"Divisible:    \",divisible_elements\n",
    "print \"Not Divisible:\",total_elements-divisible_elements\n",
    "print \"Total: \",total_elements"
   ]
  },
  {
   "cell_type": "code",
   "execution_count": 116,
   "metadata": {
    "collapsed": false
   },
   "outputs": [
    {
     "data": {
      "image/png": "[encoded data removed]",
      "text/plain": [
       "<matplotlib.figure.Figure at 0x117829490>"
      ]
     },
     "metadata": {},
     "output_type": "display_data"
    }
   ],
   "source": [
    "plt.scatter(range(3,len(divisible_series)),[x/float(y-2) for x,y in zip(divisible_series[3:],range(5,7501))])\n",
    "plt.show()"
   ]
  },
  {
   "cell_type": "code",
   "execution_count": null,
   "metadata": {
    "collapsed": true
   },
   "outputs": [],
   "source": []
  },
  {
   "cell_type": "code",
   "execution_count": null,
   "metadata": {
    "collapsed": true
   },
   "outputs": [],
   "source": []
  },
  {
   "cell_type": "code",
   "execution_count": null,
   "metadata": {
    "collapsed": true
   },
   "outputs": [],
   "source": []
  },
  {
   "cell_type": "code",
   "execution_count": 77,
   "metadata": {
    "collapsed": false
   },
   "outputs": [],
   "source": [
    "# #### Does not work (something to do with numpy)\n",
    "\n",
    "# # Problem 148 - Exploring Pascal's Triangle\n",
    "\n",
    "# def create_row(prior_row,row_len):\n",
    "#     if row_len==1:\n",
    "#         next_row=[1,1]\n",
    "#     else:\n",
    "#         next_row=[1]\n",
    "# #         for element in range(row_len-1):\n",
    "# #             next_row.append(prior_row[element]+prior_row[element+1])\n",
    "# #         next_row.append(1)\n",
    "        \n",
    "#         temp_row=np.insert(prior_row[:-1],[0],0)\n",
    "#         next_row=np.add(temp_row,prior_row)\n",
    "#         next_row=np.insert(next_row,[row_len],1)\n",
    "#     return [x for x in next_row]\n",
    "\n",
    "# def divisible_by_seven(row,counter,total):\n",
    "#     for element in row:\n",
    "#         total+=1\n",
    "#         if element%7==0:\n",
    "#             counter+=1\n",
    "#     return counter,total\n",
    "\n",
    "\n",
    "# curr_row=[1]\n",
    "# total_elements=1\n",
    "# divisible_elements=0\n",
    "# row_len=1\n",
    "# for i in range(1,100):\n",
    "#     prev_row=curr_row\n",
    "#     curr_row=create_row(prev_row,row_len)\n",
    "#     row_len+=1\n",
    "#     total_elements+=row_len\n",
    "#     divisible_elements+=row_len-np.count_nonzero(np.array(curr_row)%7)\n",
    "# print \"Divisible:    \",divisible_elements\n",
    "# print \"Not Divisible:\",total_elements-divisible_elements\n",
    "# print \"Total: \",total_elements\n",
    "\n",
    "\n",
    "\n",
    "# #     divisible_elements,total_elements=divisible_by_seven(curr_row,divisible_elements,total_elements)"
   ]
  },
  {
   "cell_type": "code",
   "execution_count": 36,
   "metadata": {
    "collapsed": false
   },
   "outputs": [],
   "source": []
  },
  {
   "cell_type": "code",
   "execution_count": 42,
   "metadata": {
    "collapsed": false
   },
   "outputs": [
    {
     "name": "stdout",
     "output_type": "stream",
     "text": [
      "[0, 1, 2, 3, 4, 5, 6, 7, 8, 9, 12]\n"
     ]
    }
   ],
   "source": [
    "# Create a sorted list from 2 sorted lists\n",
    "\n",
    "l1=[0,1,1,2,3,5,6,7,8]\n",
    "l2=[3,4,4,4,4,5,5,6,7,8,9,12]\n",
    "new_list=[min(l1[0],l2[0])]\n",
    "i,j=0,0\n",
    "while i<len(l1) or j<len(l2):\n",
    "    if i>=len(l1):\n",
    "        if l2[j]!=new_list[-1]:\n",
    "            new_list.append(l2[j])\n",
    "        j+=1\n",
    "    elif j>=len(l2):\n",
    "        if l1[i]!=new_list[-1]:\n",
    "            new_list.append(l1[i])\n",
    "        i+=1\n",
    "    elif l1[i]>l2[j]:\n",
    "        if l2[j]!=new_list[-1]:\n",
    "            new_list.append(l2[j])\n",
    "        j+=1\n",
    "    else: \n",
    "        if l1[i]!=new_list[-1]:\n",
    "            new_list.append(l1[i])\n",
    "        i+=1\n",
    "print new_list"
   ]
  },
  {
   "cell_type": "markdown",
   "metadata": {
    "collapsed": false
   },
   "source": [
    "# Problem 100 - Arranged Probability\n",
    "possibilities=[]\n",
    "boolean=True\n",
    "n=np.int(10**12)\n",
    "while boolean:\n",
    "    b=0.5+np.sqrt(1/4.-(1/2.)*n+(n/2.)*(n))  # Determined using Mathematica\n",
    "    if b*(b-1)*2==(n*(n-1)):\n",
    "        print \"B:\",b\n",
    "        print \"N:\",n\n",
    "        print \"Probability:\",str((solution/n)*((solution-1)/(n-1)))+\"%\"\n",
    "        print\n",
    "        possibilities.append([b,n])\n",
    "        if len(possibilities)>0:\n",
    "            boolean=False\n",
    "        if n>10**12+10**6:\n",
    "            boolean=False\n",
    "    n+=1"
   ]
  },
  {
   "cell_type": "code",
   "execution_count": 83,
   "metadata": {
    "collapsed": true
   },
   "outputs": [],
   "source": [
    "import requests\n",
    "import binascii\n",
    "import BeautifulSoup"
   ]
  },
  {
   "cell_type": "markdown",
   "metadata": {},
   "source": [
    "98 to 123 Inclusive"
   ]
  },
  {
   "cell_type": "code",
   "execution_count": 219,
   "metadata": {
    "collapsed": false
   },
   "outputs": [
    {
     "name": "stdout",
     "output_type": "stream",
     "text": [
      "103 111 100 107359\n",
      "(The Gospel of John, chapter 1) 1 In the beginning the Word already existed. He was with God, and he was God. 2 He was in the beginning with God. 3 He created everything there is. Nothing exists that he didn't make. 4 Life itself was in him, and this life gives light to everyone. 5 The light shines through the darkness, and the darkness can never extinguish it. 6 God sent John the Baptist 7 to tell everyone about the light so that everyone might believe because of his testimony. 8 John himself was not the light; he was only a witness to the light. 9 The one who is the true light, who gives light to everyone, was going to come into the world. 10 But although the world was made through him, the world didn't recognize him when he came. 11 Even in his own land and among his own people, he was not accepted. 12 But to all who believed him and accepted him, he gave the right to become children of God. 13 They are reborn! This is not a physical birth resulting from human passion or plan, this rebirth comes from God.14 So the Word became human and lived here on earth among us. He was full of unfailing love and faithfulness. And we have seen his glory, the glory of the only Son of the Father.\n",
      "\n"
     ]
    }
   ],
   "source": [
    "# Problem 59 - XOR Decryption\n",
    "\n",
    "html=requests.get('https://projecteuler.net/project/resources/p059_cipher.txt')\n",
    "html=html.text\n",
    "html=html.split('\\n')[0]\n",
    "digits=[int(x) for x in html.split(',')]\n",
    "binary=[np.binary_repr(x) for x in digits]\n",
    "\n",
    "html=requests.get('http://www.roubaixinteractive.com/PlayGround/Binary_Conversion/The_Characters.asp')\n",
    "html=BeautifulSoup.BeautifulSoup(html.text)\n",
    "\n",
    "converter=[y.split('&nbsp;') for y in [x.text for x in html.findAll('table')]][0][3::2]\n",
    "\n",
    "numb=converter[::3]\n",
    "numb=[int(x[4:][:-1])+1 for x in numb]\n",
    "char=converter[2::3]\n",
    "\n",
    "conv_dict={x:y for x,y in zip(numb,char)}\n",
    "rev_dict={y:x for x,y in zip(numb,char)}\n",
    "\n",
    "for i in range(103,104):\n",
    "    for j in range(98,124):\n",
    "        for k in range(98,124):\n",
    "            temp=np.array([[conv_dict[np.bitwise_xor(x,i)],conv_dict[np.bitwise_xor(y,j)],conv_dict[np.bitwise_xor(z,k)]] \\\n",
    "                for x,y,z in  \\\n",
    "                zip(np.packbits(new_binary[::3]),np.packbits(new_binary[1::3]),np.packbits(new_binary[2::3]))]).flatten()\n",
    "            decryption=\"\"\n",
    "            for char in temp:\n",
    "                decryption+=char\n",
    "            decryption+='.'\n",
    "            if \" the \" in decryption:\n",
    "                count=0\n",
    "                for char in decryption:\n",
    "                    count+=rev_dict[char]\n",
    "                print i,j,k,count\n",
    "                print decryption\n",
    "                print "
   ]
  },
  {
   "cell_type": "code",
   "execution_count": 312,
   "metadata": {
    "collapsed": false
   },
   "outputs": [
    {
     "name": "stdout",
     "output_type": "stream",
     "text": [
      "[2594936378711015, 2951051817673439, 6357528249411013, 6531031914842725]\n",
      "6531031914842725\n"
     ]
    }
   ],
   "source": [
    "# Problem 68 - Magic 5-gon Ring\n",
    "solution_strings=[]\n",
    "selected_elements=range(9)\n",
    "elements=range(1,11)\n",
    "for i1 in elements:\n",
    "#     print i1\n",
    "    selected_elements[0]=i1\n",
    "    for i2 in list(set(elements)^set(selected_elements[:1])):\n",
    "        selected_elements[1]=i2\n",
    "        for i3 in list(set(elements)^set(selected_elements[:2])):\n",
    "            selected_elements[2]=i3\n",
    "            for i4 in list(set(elements)^set(selected_elements[:3])):\n",
    "                selected_elements[3]=i4\n",
    "                for i5 in list(set(elements)^set(selected_elements[:4])):\n",
    "                    selected_elements[4]=i5\n",
    "                    for i6 in list(set(elements)^set(selected_elements[:5])):\n",
    "                        selected_elements[5]=i6\n",
    "                        for i7 in list(set(elements)^set(selected_elements[:6])):\n",
    "                            selected_elements[6]=i7\n",
    "                            for i8 in list(set(elements)^set(selected_elements[:7])):\n",
    "                                selected_elements[7]=i8\n",
    "                                for i9 in list(set(elements)^set(selected_elements[:8])):\n",
    "                                    selected_elements[8]=i9\n",
    "                                    for i10 in list(set(elements)^set(selected_elements[:9])):\n",
    "                                        leg1=i1+i2+i3\n",
    "                                        leg2=i4+i3+i5\n",
    "                                        leg3=i6+i5+i7\n",
    "                                        leg4=i8+i7+i9\n",
    "                                        leg5=i10+i9+i2\n",
    "                                        if leg1==leg2==leg3==leg4==leg5:\n",
    "                                            solution_strings.append([leg1,[[str(i1)+str(i2)+str(i3)],\\\n",
    "                                                [str(i4)+str(i3)+str(i5)],[str(i6)+str(i5)+str(i7)],\\\n",
    "                                                [str(i8)+str(i7)+str(i9)],[str(i10)+str(i9)+str(i2)]]])\n",
    "\n",
    "solutions=[]\n",
    "for sol in solution_strings:\n",
    "    string_parts=[int(x[0]) for x in sol[1]]\n",
    "    start=string_parts.index(min(string_parts))\n",
    "    string_parts=string_parts[start:]+string_parts[:start]\n",
    "    temp=\"\"\n",
    "    for part in string_parts:\n",
    "        temp+=str(part)\n",
    "    solutions.append(temp)\n",
    "\n",
    "solutions=[int(x) for x in solutions if len(x)==16]\n",
    "solutions=[x[0] for x in pd.DataFrame(solutions).drop_duplicates().values]\n",
    "print solutions\n",
    "\n",
    "print max(solutions)"
   ]
  },
  {
   "cell_type": "code",
   "execution_count": null,
   "metadata": {
    "collapsed": true
   },
   "outputs": [],
   "source": []
  },
  {
   "cell_type": "code",
   "execution_count": null,
   "metadata": {
    "collapsed": true
   },
   "outputs": [],
   "source": []
  },
  {
   "cell_type": "code",
   "execution_count": null,
   "metadata": {
    "collapsed": true
   },
   "outputs": [],
   "source": []
  },
  {
   "cell_type": "code",
   "execution_count": null,
   "metadata": {
    "collapsed": true
   },
   "outputs": [],
   "source": []
  },
  {
   "cell_type": "code",
   "execution_count": null,
   "metadata": {
    "collapsed": true
   },
   "outputs": [],
   "source": []
  },
  {
   "cell_type": "code",
   "execution_count": null,
   "metadata": {
    "collapsed": true
   },
   "outputs": [],
   "source": []
  },
  {
   "cell_type": "code",
   "execution_count": null,
   "metadata": {
    "collapsed": true
   },
   "outputs": [],
   "source": []
  },
  {
   "cell_type": "code",
   "execution_count": null,
   "metadata": {
    "collapsed": true
   },
   "outputs": [],
   "source": []
  },
  {
   "cell_type": "code",
   "execution_count": null,
   "metadata": {
    "collapsed": true
   },
   "outputs": [],
   "source": []
  },
  {
   "cell_type": "code",
   "execution_count": null,
   "metadata": {
    "collapsed": true
   },
   "outputs": [],
   "source": []
  },
  {
   "cell_type": "code",
   "execution_count": 238,
   "metadata": {
    "collapsed": true
   },
   "outputs": [],
   "source": [
    "# Generate Pascal's Triangle Row\n",
    "def next_row(array,row_num,remains):\n",
    "    remains=row_num-len(array)\n",
    "    if remains>0:\n",
    "        row=[1]\n",
    "        for i in range(len(array)-1):\n",
    "            row.append(array[i]+array[i+1])\n",
    "        row.append(1)\n",
    "        array=next_row(row,row_num,remains)\n",
    "    return array\n",
    "\n",
    "\n",
    "def generate_row(row_num,array=[1,1],remains=0):\n",
    "    if (row_num<1) or type(row_num)!=int:\n",
    "        return \"Invalid\"\n",
    "    if row_num==1:\n",
    "        return [1]\n",
    "    elif row_num==2:\n",
    "        return [1,1]\n",
    "    return next_row(array,row_num,remains)"
   ]
  },
  {
   "cell_type": "code",
   "execution_count": 244,
   "metadata": {
    "collapsed": false
   },
   "outputs": [
    {
     "name": "stdout",
     "output_type": "stream",
     "text": [
      "Invalid\n",
      "[1]\n",
      "[1, 1]\n",
      "[1, 2, 1]\n",
      "[1, 3, 3, 1]\n",
      "[1, 4, 6, 4, 1]\n",
      "[1, 5, 10, 10, 5, 1]\n",
      "[1, 6, 15, 20, 15, 6, 1]\n",
      "[1, 7, 21, 35, 35, 21, 7, 1]\n",
      "[1, 8, 28, 56, 70, 56, 28, 8, 1]\n"
     ]
    }
   ],
   "source": [
    "for i in range(10):\n",
    "    print generate_row(i)"
   ]
  },
  {
   "cell_type": "code",
   "execution_count": null,
   "metadata": {
    "collapsed": true
   },
   "outputs": [],
   "source": []
  },
  {
   "cell_type": "code",
   "execution_count": null,
   "metadata": {
    "collapsed": true
   },
   "outputs": [],
   "source": []
  },
  {
   "cell_type": "code",
   "execution_count": null,
   "metadata": {
    "collapsed": true
   },
   "outputs": [],
   "source": []
  },
  {
   "cell_type": "code",
   "execution_count": null,
   "metadata": {
    "collapsed": true
   },
   "outputs": [],
   "source": []
  },
  {
   "cell_type": "code",
   "execution_count": null,
   "metadata": {
    "collapsed": true
   },
   "outputs": [],
   "source": []
  }
 ],
 "metadata": {
  "anaconda-cloud": {},
  "kernelspec": {
   "display_name": "Python [default]",
   "language": "python",
   "name": "python2"
  },
  "language_info": {
   "codemirror_mode": {
    "name": "ipython",
    "version": 2
   },
   "file_extension": ".py",
   "mimetype": "text/x-python",
   "name": "python",
   "nbconvert_exporter": "python",
   "pygments_lexer": "ipython2",
   "version": "2.7.12"
  }
 },
 "nbformat": 4,
 "nbformat_minor": 1
}
