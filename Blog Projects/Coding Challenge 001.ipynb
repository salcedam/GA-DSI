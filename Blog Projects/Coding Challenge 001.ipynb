{
 "cells": [
  {
   "cell_type": "markdown",
   "metadata": {},
   "source": [
    "# #1 - The ”Sudo” Code Problem"
   ]
  },
  {
   "cell_type": "markdown",
   "metadata": {},
   "source": [
    "### #1.1"
   ]
  },
  {
   "cell_type": "code",
   "execution_count": 58,
   "metadata": {
    "collapsed": true
   },
   "outputs": [
    {
     "name": "stdout",
     "output_type": "stream",
     "text": [
      "8 % 4 = 0\n",
      "16 % 4 = 0\n",
      "32 % 4 = 0\n",
      "40 % 4 = 0\n",
      "56 % 4 = 0\n",
      "64 % 4 = 0\n",
      "80 % 4 = 0\n",
      "88 % 4 = 0\n",
      "104 % 4 = 0\n",
      "112 % 4 = 0\n",
      "128 % 4 = 0\n",
      "136 % 4 = 0\n",
      "152 % 4 = 0\n",
      "160 % 4 = 0\n",
      "176 % 4 = 0\n",
      "184 % 4 = 0\n",
      "200 % 4 = 0\n",
      "208 % 4 = 0\n",
      "224 % 4 = 0\n",
      "232 % 4 = 0\n",
      "248 % 4 = 0\n",
      "256 % 4 = 0\n",
      "272 % 4 = 0\n",
      "280 % 4 = 0\n",
      "296 % 4 = 0\n",
      "304 % 4 = 0\n",
      "320 % 4 = 0\n",
      "328 % 4 = 0\n",
      "344 % 4 = 0\n",
      "352 % 4 = 0\n",
      "368 % 4 = 0\n",
      "376 % 4 = 0\n",
      "392 % 4 = 0\n",
      "400 % 4 = 0\n",
      "416 % 4 = 0\n",
      "424 % 4 = 0\n",
      "440 % 4 = 0\n",
      "448 % 4 = 0\n",
      "464 % 4 = 0\n",
      "472 % 4 = 0\n",
      "488 % 4 = 0\n",
      "496 % 4 = 0\n",
      "512 % 4 = 0\n",
      "520 % 4 = 0\n",
      "536 % 4 = 0\n",
      "544 % 4 = 0\n",
      "560 % 4 = 0\n",
      "568 % 4 = 0\n",
      "584 % 4 = 0\n",
      "592 % 4 = 0\n",
      "608 % 4 = 0\n",
      "616 % 4 = 0\n",
      "632 % 4 = 0\n",
      "640 % 4 = 0\n",
      "656 % 4 = 0\n",
      "664 % 4 = 0\n",
      "680 % 4 = 0\n",
      "688 % 4 = 0\n",
      "704 % 4 = 0\n",
      "712 % 4 = 0\n",
      "728 % 4 = 0\n",
      "736 % 4 = 0\n",
      "752 % 4 = 0\n",
      "760 % 4 = 0\n",
      "776 % 4 = 0\n",
      "784 % 4 = 0\n",
      "800 % 4 = 0\n",
      "808 % 4 = 0\n",
      "824 % 4 = 0\n",
      "832 % 4 = 0\n",
      "848 % 4 = 0\n",
      "856 % 4 = 0\n",
      "872 % 4 = 0\n",
      "880 % 4 = 0\n",
      "896 % 4 = 0\n",
      "904 % 4 = 0\n",
      "920 % 4 = 0\n",
      "928 % 4 = 0\n",
      "944 % 4 = 0\n",
      "952 % 4 = 0\n",
      "968 % 4 = 0\n",
      "976 % 4 = 0\n",
      "992 % 4 = 0\n",
      "1000 % 4 = 0\n"
     ]
    }
   ],
   "source": [
    "j=0\n",
    "k=0\n",
    "for i in range(0,1001,2):\n",
    "    if j==4:\n",
    "        k+=1\n",
    "        if k!=3:\n",
    "            print i,\"%\",j,\"=\",i%j\n",
    "        else:\n",
    "            k=0\n",
    "        j=0\n",
    "    j+=1"
   ]
  },
  {
   "cell_type": "markdown",
   "metadata": {},
   "source": [
    "### #1.2"
   ]
  },
  {
   "cell_type": "code",
   "execution_count": 30,
   "metadata": {
    "collapsed": true
   },
   "outputs": [],
   "source": [
    "import numpy as np"
   ]
  },
  {
   "cell_type": "code",
   "execution_count": 29,
   "metadata": {
    "collapsed": true
   },
   "outputs": [],
   "source": [
    "# Assuming format is numpy array, and rows is in list form\n",
    "# I made 3 seperate functions because of the way the question was asked\n",
    "def sapient_matrix(matrix,rows):\n",
    "    return matrix_sorter(column_30_values(matrix[rows]))\n",
    "\n",
    "def columns_30_values(matrix):\n",
    "    for i in range(len(matrix)):\n",
    "        matrix[i][-1]=np.random.random()\n",
    "    return matrix\n",
    "\n",
    "def matrix_sorter(matrix):\n",
    "    matrix.sort(key=lambda x:x[-1])\n",
    "    return matrix\n",
    "\n",
    "\n",
    "\n",
    "sapient_matrix(matrix,rows)\n",
    "\n",
    "\n",
    "\n",
    "\n",
    "#--------------------------------\n",
    "# You can do all of this in one function as such\n",
    "def sapient_matrix(matrix,rows):\n",
    "    new_matrix=matrix[rows]\n",
    "    for i in range(len(new_matrix)):\n",
    "        new_matrix[i][-1]=np.random.random()\n",
    "    new_matrix.sort(key=lambda x:x[-1])\n",
    "    return new_matrix"
   ]
  },
  {
   "cell_type": "markdown",
   "metadata": {},
   "source": [
    "### #1.3"
   ]
  },
  {
   "cell_type": "markdown",
   "metadata": {},
   "source": [
    "The code in section 1.1 has a time complexity of O(n). The list loops through only once. Of course, there are 2 counters (j and k) within the code, but this has minimal because k is nested in j.\n",
    "\n",
    "The code in section 1.2, regardless of whether one uses 1 function or 3, has a time complexity of O(n+[rows]+[rows]\\*log[rows]). Here, n refers to the 1000 initial rows of the matrix, and 'rows' refers to the indices found in part 1.1.. The first n comes from looping through each of the rows in the initial matrix to find only the ones we want to use. The [rows] comes from looping through all of the rows of the new matrix to change the last element. The rows*log[rows] comes from the time complexity of the sort function (which is something one can Google to check.)"
   ]
  },
  {
   "cell_type": "markdown",
   "metadata": {},
   "source": [
    "# #2 - Quadtrees"
   ]
  },
  {
   "cell_type": "code",
   "execution_count": 473,
   "metadata": {
    "collapsed": false
   },
   "outputs": [],
   "source": [
    "import matplotlib.pyplot as plt\n",
    "import numpy as np\n",
    "%matplotlib inline\n",
    "\n",
    "def make_points(number_of_points=50):\n",
    "    x_points=[np.random.normal() for i in range(number_of_points)]\n",
    "    x_points=[-3 if point<-3 else 3 if point>3 else point for point in x_points]\n",
    "    y_points=[np.random.normal() for i in range(number_of_points)]\n",
    "    y_points=[-3 if point<-3 else 3 if point>3 else point for point in y_points]\n",
    "    return x_points,y_points\n",
    "\n",
    "def quadtrees(n,k):\n",
    "    number_of_points=n\n",
    "    maximum_points=k\n",
    "    x_points,y_points=make_points(number_of_points)\n",
    "        \n",
    "    # point_zone_dictionary assigns each point to the initial zone, zone 0\n",
    "    point_zone_dictionary={i:0 for i in range(number_of_points)}\n",
    "\n",
    "    # Creating list of zones; Format is [number_of_points,x_start,x_end,y_start,y_end,avg_x,avg_y]\n",
    "    zones_list=[[number_of_points,min(x_points),max(x_points),min(y_points),max(y_points),\\\n",
    "                            np.mean(x_points),np.mean(y_points)]]\n",
    "\n",
    "    # We don't need to pass anything back because we are altering the global variable within the function\n",
    "    zone_splitter(point_zone_dictionary,zones_list,maximum_points,number_of_points,x_points,y_points)\n",
    "    \n",
    "    # final_zones_dict states the zone_number as key, and the zone_parameters as value\n",
    "    # zone_parameters are [number_of_points,x_start,x_end,y_start,y_end,avg_x,avg_y]\n",
    "    quadtrees_plotter(zones_list,point_zone_dictionary,x_points,y_points)\n",
    "\n",
    "\n",
    "def quadtrees_plotter(zones_list,point_zone_dictionary,x_points,y_points):\n",
    "    plt.subplots(figsize=(10,7))\n",
    "    plt.scatter(x_points,y_points,cmap='hot',c=[point_zone_dictionary[i] for i in range(len(x_points))],s=35)\n",
    "    densities=[]\n",
    "    for zone in range(len(zones_list)):\n",
    "        x1,x2=zones_list[zone][1],zones_list[zone][2]\n",
    "        y1,y2=zones_list[zone][3],zones_list[zone][4]\n",
    "        densities.append([zones_list[zone][0]/float(((x2-x1)*(y2-y1))),float(((x2-x1)*(y2-y1))),\\\n",
    "                              zones_list[zone][0]])\n",
    "        plt.hlines([y1,y2],x1,x2)\n",
    "        plt.vlines([x1,x2],y1,y2)\n",
    "    plt.title(\"Quadtrees\",size=25)\n",
    "    plt.show()\n",
    "    print \"There are %s zones\" %(len(zones_list))\n",
    "    print \"The most dense region has %s points and an area of %s units**2\" \\\n",
    "                %(max(densities,key=lambda x: x[0])[2],max(densities,key=lambda x: x[0])[1])\n",
    "    \n",
    "    \n",
    "    \"\"\"point_zone_dictionary assigns each point to a zone\"\"\"\n",
    "    \"\"\"zones_list is the list of currently existing zones\"\"\"\n",
    "    # zone_parameters are [number_of_points,x_start,x_end,y_start,y_end,avg_x,avg_y]\n",
    "def zone_splitter(point_zone_dictionary,zones_list,maximum_points,number_of_points,x_points,y_points):\n",
    "    zone_element=0\n",
    "    boolean_value=True\n",
    "    while boolean_value:\n",
    "        if zone_element<len(zones_list):\n",
    "            if zones_list[zone_element][0]>maximum_points:\n",
    "                    # Will use these to keep track of which points go to what zone\n",
    "                pcount_quad1,pcount_quad2,pcount_quad3,pcount_quad4=0,0,0,0\n",
    "                xpos_quad1,xpos_quad2,xpos_quad3,xpos_quad4=[],[],[],[]\n",
    "                ypos_quad1,ypos_quad2,ypos_quad3,ypos_quad4=[],[],[],[]\n",
    "                    # [min,max,avg]\n",
    "                split_x=[zones_list[zone_element][1],zones_list[zone_element][2],zones_list[zone_element][5]] \n",
    "                split_y=[zones_list[zone_element][3],zones_list[zone_element][4],zones_list[zone_element][6]]\n",
    "                for point in point_zone_dictionary.keys():\n",
    "                    if (x_points[point]>=split_x[0]) & (x_points[point]<=split_x[1]):\n",
    "                        if (y_points[point]>=split_y[0]) & (y_points[point]<=split_y[1]):\n",
    "                            x_quad=x_points[point]-split_x[2]\n",
    "                            y_quad=y_points[point]-split_y[2]\n",
    "                            if y_quad>=0:\n",
    "                                if x_quad>=0:\n",
    "                                    # We won't change the grouping here; we will overwrite the previous group\n",
    "                                    pcount_quad1+=1\n",
    "                                    xpos_quad1.append(x_points[point])\n",
    "                                    ypos_quad1.append(y_points[point])\n",
    "                                else:\n",
    "                                    point_zone_dictionary[point]=len(zones_list)\n",
    "                                    pcount_quad2+=1\n",
    "                                    xpos_quad2.append(x_points[point])\n",
    "                                    ypos_quad2.append(y_points[point])\n",
    "                            else:\n",
    "                                if x_quad>=0:\n",
    "                                    point_zone_dictionary[point]=len(zones_list)+1\n",
    "                                    pcount_quad3+=1\n",
    "                                    xpos_quad3.append(x_points[point])\n",
    "                                    ypos_quad3.append(y_points[point])\n",
    "                                else:\n",
    "                                    point_zone_dictionary[point]=len(zones_list)+2\n",
    "                                    pcount_quad4+=1\n",
    "                                    xpos_quad4.append(x_points[point])\n",
    "                                    ypos_quad4.append(y_points[point])\n",
    "                    ## Upper right,upper left,lower right,lower left\n",
    "                zones_list[zone_element]=[pcount_quad1,split_x[2],split_x[1],split_y[2],split_y[1],\\\n",
    "                                  np.mean(xpos_quad1),np.mean(ypos_quad1)]\n",
    "                zones_list.append([pcount_quad2,split_x[0],split_x[2],split_y[2],split_y[1],\\\n",
    "                                  np.mean(xpos_quad2),np.mean(ypos_quad2)])\n",
    "                zones_list.append([pcount_quad3,split_x[2],split_x[1],split_y[0],split_y[2],\\\n",
    "                                  np.mean(xpos_quad3),np.mean(ypos_quad3)])\n",
    "                zones_list.append([pcount_quad4,split_x[0],split_x[2],split_y[0],split_y[2],\\\n",
    "                                  np.mean(xpos_quad4),np.mean(ypos_quad4)])\n",
    "            zone_element+=1\n",
    "        else:\n",
    "            boolean_value=False\n",
    "    \n",
    "    # Recursive Portion\n",
    "    if max(zones_list,key=lambda x:x[0])[0]>maximum_points:\n",
    "        zone_splitter(point_zone_dictionary,zones_list,maximum_points,\\\n",
    "                                                    number_of_points,x_points,y_points)\n",
    "    return"
   ]
  },
  {
   "cell_type": "code",
   "execution_count": 490,
   "metadata": {
    "collapsed": false,
    "scrolled": false
   },
   "outputs": [
    {
     "data": {
      "image/png": "[encoded data removed]",
      "text/plain": [
       "<matplotlib.figure.Figure at 0x108e88410>"
      ]
     },
     "metadata": {},
     "output_type": "display_data"
    },
    {
     "name": "stdout",
     "output_type": "stream",
     "text": [
      "There are 22 zones\n",
      "The most dense region has 2 points and an area of 0.111996501535 units**2\n"
     ]
    }
   ],
   "source": [
    "quadtrees(50,4)"
   ]
  },
  {
   "cell_type": "markdown",
   "metadata": {},
   "source": [
    "NOTE: To make quadtrees more efficient, one could iterate through the points within a zone to find the splitting location that minimizes subsequent splits. For instance, if we split one zone with 20 points, we would want four zones with 5 points in each, not 3 zones with 6 points each and one zone with 2 points. Using this idea, we can reduce the number of zones from 13 to 4 in the example just mentioned. "
   ]
  },
  {
   "cell_type": "markdown",
   "metadata": {},
   "source": [
    "The time complexity of quadtrees is O($\\dfrac{n}{k}*\\dfrac{n}{0.666} + 9n + C*z $) $\\sim$ O($\\dfrac{3n^{2}}{2k} + 9n $)."
   ]
  },
  {
   "cell_type": "markdown",
   "metadata": {},
   "source": [
    "The computationally expensive portion of the quadtrees algorithm is the splitting portion, which is the first set of terms in the O(...). The n/k is representative of the number of expected zones. We can expect in the perfect scenario for their to be $\\dfrac{n}{k}$ completely filled zones. We get this number because it is the minimum possible number of zones. We also have a multiplicative factor of $\\dfrac{n}{0.666}$. The n comes from having to iterate through all possible points in order to find those points that are within a particular zone. We can make this more efficient by saving the points within a particular zone. Additionally, we assume that the code is inefficient and state that on average each zone will be 2/3 full. Thus, we have a multiplicative factor of $\\dfrac{3}{2}$.\n",
    "\n",
    "The 9n comes from creating the various points and dictionaries to be used within the splitting portion. \n",
    "\n",
    "The $C*z$ comes from having to iterate through the 'z' zones up to 'C' times. The number of zones can be potentially small compared to n, so we can drop this term."
   ]
  },
  {
   "cell_type": "markdown",
   "metadata": {},
   "source": [
    "# #3 - Hyperspace "
   ]
  },
  {
   "cell_type": "markdown",
   "metadata": {},
   "source": [
    "### #3.1.0"
   ]
  },
  {
   "cell_type": "markdown",
   "metadata": {},
   "source": [
    "If we have a M x M x 3 matrix and want to reduce it to an M x M x 1 matrix, there are a variety of possible ways to accomplish this (Some strategies call for min, max, mean, median, or mode). However, not all of these ways are valid for every situation. For instance, in the real world we use certain redundencies in communication to account for error within our electrical signal. In the case of file transfers, we might use a majority encoder to add redundancy in order to account for flipped bits. In this case of binary variables, we would not want the mean value (which is certainly a valid way to combine variables in other situations), we would want the median or mode. In another real world situation, such as finding the rainfall across a county, we would not want to find the mode, but rather the mean. \n",
    "\n",
    "So, we've established that reducing a matrix from being 3-D to 2-D requires an understanding of what the data is. In the case of this unknown data, it is impossible to state that any strategy is better than the average. The reason for this is that there are many more situations where the average is the most acceptable choice, versus using the mode, max, min, or something else. However, there are two mainstream 'averages' that people use: the mean and the median. The mean is simply all of the numbers added together and then divided by the count. The median is the most middle element of a sorted list of our numbers; in the case of an even length list, we take the mean of the most middle two numbers.\n",
    "\n",
    "Two pros of the mean are 1) that it works well for a number coming from a continuous distribution, and 2) that it incorporates outliers. The cons of the mean are that it does not work well with categorical data, and that it can be highly biased if the numbers have a high variance relative to their count.\n",
    "\n",
    "Two pros of the median are 1) it works extremely well for categorical data (as seen in the aforementioned communication problem), and 2) it tends to ignore any outliers. The cons of the median are that 1) the number can be biased more so then the mean, and that 2) it can ignore crucial events, such as in the rainfall scenario. \n",
    "\n",
    "NOTE: We could use a PCA dimensionality reduction here instead of mean (and it would be best to), but I don't believe that was the purpose of the question. (We would implement PCA by assuming M\\*\\*2 points in 3-D space, and using the PCA library's dimensionality reduction feature). The pro of this method is that we are finding the relationship of all of the axes, and are generating a weighted mean. The con of this strategy is that for high variance data, we will be removing important information. On a sub-note, we would be removing information from the mean and median as well in this case. We would not use PCA as a replacement for mode or median, such as in the file transfter scenario. On another sub-note, we make the assumption that all features are the same and vectors are of the same variable. If features are different across the vectors, then we would be comparing dissimilar points, and our PCA would return a meaningless result."
   ]
  },
  {
   "cell_type": "code",
   "execution_count": 487,
   "metadata": {
    "collapsed": true
   },
   "outputs": [],
   "source": [
    "# Note, I have assumed the entire input matrix has been loaded into Python\n",
    "def matrix_layer_reduction(input_matrix):\n",
    "    M=len(input_matrix)\n",
    "    return np.array([[np.mean(input_matrix[j][i][:]) for i in range(M)] for j in range(M)])"
   ]
  },
  {
   "cell_type": "markdown",
   "metadata": {},
   "source": [
    "### #3.1.1"
   ]
  },
  {
   "cell_type": "markdown",
   "metadata": {},
   "source": [
    "The computational constraints of our strategies are definitely memory and time based.\n",
    "\n",
    "For time, the complexity of the mean are less than the median, but both require iterating through every element of every matrix. The mean just adds the three elements {i,j,1},{i,j,2},{i,j,3} together and divides by three. This mean then gets put into a new M x M x 1 matrix at position {i,j,1}. The median however, requires that we find the max of the list of our three elements and remove it, and then find the min of our list of three elements and remove it. Then, we have our median which we likewise put into our M x M x 1 matrix. In the case of extremely complex numbers, the mean's complexity certainly increases relative to the median's complexity. In the case of just iterating through the elements, using the median we must iterate through two additional elements relative to the mean's three elements. In the case of PCA, it is extremely time intensive, as we must look at the variance of each axis.\n",
    "\n",
    "For memory, both mean and median use about the same amount of memory, where nearly all of the memory is dedicated to storing the matrices. PCA, however, would be very expensive on a memory basis, which is one reason why someone might not use it over our mean strategy.\n",
    "\n",
    "If we were to implement the transformation using either the mean or median, it would be most effective to read in one 'element' at a time, s.t. {i,j,:}, and compute the new matrix element by element. Using this methodology, we would not need to worry about storing the original matrix in memory, which would increase the stored memory amount by an additional 300%. Again, with PCA, we would need all of our data read in, so we cannot get around this 'memory hump'."
   ]
  },
  {
   "cell_type": "markdown",
   "metadata": {},
   "source": [
    "### #3.2.0"
   ]
  },
  {
   "cell_type": "markdown",
   "metadata": {},
   "source": [
    "For clarification, I am understanding this problem to state that within a M x M x 3 input matrix, there is low variation of values across the {i,j,:} points, meaning there is a very narrow, or dirac-like distribution for any set of elements of the format {i,j,:}. Furthermore, I understand this problem to be stated as meaning that after transforming our data to an M x M x 1 martix, there is a gradual but near insignificant change from point {i,j,1} to point {i+1,j,1} or {i,j+1,1}. As such, we may compress the matrix, so to speak, to a P x P x 1 size, as we are not losing much information.\n",
    "\n",
    "Since the data has been assumed to have insignificant difference between the {i,j,:} points, it would be fair to use the predefined mean as our initial transformation strategy ( M x M x 3 --> M x M x 1 ). For one, we lose an insignificant amount of information, and two, it is quickest. \n",
    "\n",
    "As for the transformation from ( M x M x 1 --> P x P x 1 ), we would effectively take the mean of the windowns of the size M/P X M/P. This is similar to the scrolling window strategy of the convolutional layer of a convolutional neural network."
   ]
  },
  {
   "cell_type": "code",
   "execution_count": 486,
   "metadata": {
    "collapsed": true
   },
   "outputs": [],
   "source": [
    "# While this strategy will certainly work, there are better ways to compress a matrix. The improved strategy I have\n",
    "# in mind is to include those fractions of elements that are not included within our scrolling window. In english,\n",
    "# our window spans from (0,0) to (2.3, 2.3). In my code, I adjust the window to be (0,0) to (2,2), thus leaving the\n",
    "# next element to be picked up by the next window. We can improve the code by weighting those 'next elements' to be\n",
    "# only 0.3 instead of 1.0 in the summed count.\n",
    "def matrix_compression(reduced_matrix,P):\n",
    "    M=len(reduced_matrix)\n",
    "    a=float(M)/P\n",
    "    curr_row=0.\n",
    "    compressed_matrix=[]\n",
    "    for iteration_1 in range(P):\n",
    "        curr_col=0.\n",
    "        compressed_row=[]\n",
    "        for iteration_2 in range(P):\n",
    "            flat_grid=[]\n",
    "            # We add the elements in our subregion to a list\n",
    "            for i in range(curr_row,int(curr_row+a)):\n",
    "                for j in range(curr_col,int(curr_col+a)):\n",
    "                    flat_grid.append(reduced_matrix[i][j])\n",
    "            # We add the mean of the subregion to a compressed row\n",
    "            compressed_row.append(np.mean(flat_grid))\n",
    "            curr_col+=a\n",
    "        # We add our compressed row to the compressed matrix\n",
    "        compressed_matrix.append(flat_row)\n",
    "        curr_row+=a\n",
    "    return compressed_matrix"
   ]
  },
  {
   "cell_type": "markdown",
   "metadata": {},
   "source": [
    "### #3.2.1"
   ]
  },
  {
   "cell_type": "markdown",
   "metadata": {},
   "source": [
    "The constraints of the above code are time and memory. \n",
    "\n",
    "For time, the complexity is O($M^2$). In order to compress them M x M matrix, we have to go through every element with my code above. \n",
    "\n",
    "For memory, the reduced_matrix could be potentially large. If it is too large to fit into memory at once, we can use a similar strategy to 3.1.1 which was to load in a certain number of rows at any given time.\n",
    "\n",
    "Since the code has already been written, we can definitely implement it if we choose to. Again, depending upon input_matrix size, we may have to adjust my code."
   ]
  },
  {
   "cell_type": "markdown",
   "metadata": {},
   "source": [
    "### #3.3"
   ]
  },
  {
   "cell_type": "markdown",
   "metadata": {},
   "source": [
    "When it comes time to determine whether some event occurs, e ∈ {1, 2, 3}, we must adjust the transformations to be a classification problem. By transforming the data, we can be selective and choose only the information that is relevant. For example, let e=1 be completely normal, e=2 be worrisome, and e=3 be extremely worrisome. In this case, we don't care to find out a mean or median; we want to know whether e=3 at all. For this reason, we would use the max({i,j,:}) transformation. Furthermore, when we compress our matrix, we would take the max value of our scrolling window. Now we have increased our chances of finding whether e=3. If e=3 in 1 of every 1000 input matrices, we have transformed our probabilty of finding this event from $\\frac{1}{1000*3M^2}$ to $\\frac{1}{1000*P^2}$ (note we only get one observation, and I have assumed that each data point is an observation).\n",
    "\n",
    "However, in the case of determining the probability of whether some event occurs or not, we must can assume a binomial distribution. Let's say we want to know the probability of whether e=1 occurs. We would make our initial layer reduction transformation (where we reduce the M x M x 3 matrix to a M x M x 1 matrix) be of {i,j,:}.count(1)/3.. From this, we have found the number of occurrence of e=1 and have divided by the total number of occurrences. From this, we can compress our matrix to a P x P x 1 shape by taking the mean of the A x A windows. Now we have the probability of an event occurring within each one of those windows. Furthermore, if we make A=3, we find that our window has 9 samples, where each sample is derived from 3 samples; thus, we have a total of 27 samples per window. Many statisticians use a 30 sample minimum to derive an assumed distribution. Since 27 is so close to 30 (30 is not a definite number of samples) we may state that our sample size is reasonable. If our data is truly random, we may further state that our probability has an error of $\\sqrt{pq}$. This error is standard for a binomial distribution, we would use a different error term for different distributions. If we wanted to find out how many times an event occurs in 30 trials, we would use $n * p ± \\sqrt{npq}$. If $p=0.3$, we would expect $e=30*0.3±\\sqrt{30*0.3*0.7}=9±6.3$\n",
    "\n",
    "If our data is organized, we cannot use the current compression or layer-reduction techniques. Instead, we can simply take n=30 random samples, and then find the probability of whether event e does or does not occur.\n",
    "\n",
    "In the case of determining the probabilities of e=1, e=2, and e=3, we can use the same techniques as above for each of the events, and state a probability (with ± error term) for each of these events occurring."
   ]
  },
  {
   "cell_type": "markdown",
   "metadata": {},
   "source": [
    "# #4 - "
   ]
  },
  {
   "cell_type": "markdown",
   "metadata": {},
   "source": [
    "# #5 - Predicting Flight Delays"
   ]
  },
  {
   "cell_type": "markdown",
   "metadata": {},
   "source": [
    "Assumptions:\n",
    "* All flights are departures from Airport X\n",
    "* Airport X does not favor one airline over another (i.e. it is not a hub of UA, DL, or AA)\n",
    "* Cancellations are due to issues at Airport X, and not due to issues at the airport being flown to"
   ]
  },
  {
   "cell_type": "code",
   "execution_count": 774,
   "metadata": {
    "collapsed": true
   },
   "outputs": [],
   "source": [
    "import pandas as pd\n",
    "import numpy as np\n",
    "import matplotlib.pyplot as plt\n",
    "from sklearn.ensemble import ExtraTreesClassifier, GradientBoostingClassifier\n",
    "from sklearn.cross_validation import train_test_split\n",
    "import seaborn as sns\n",
    "%matplotlib inline"
   ]
  },
  {
   "cell_type": "code",
   "execution_count": 775,
   "metadata": {
    "collapsed": false
   },
   "outputs": [],
   "source": [
    "df=pd.read_csv('/Users/thomas/Downloads/CancelledFlights.csv',names=['Cancelled','Month','Departure_Time','Airline',\\\n",
    "                                                                'SchedElapsedTime','ArrDelay','DepDelay','Distance'])"
   ]
  },
  {
   "cell_type": "code",
   "execution_count": 776,
   "metadata": {
    "collapsed": true
   },
   "outputs": [],
   "source": [
    "def distance_bin(distance):\n",
    "    if distance<500:\n",
    "        return \"Short\"\n",
    "    elif distance<1500:\n",
    "        return \"Medium\"\n",
    "    return \"Long\"\n",
    "def depart_time_bin(time):\n",
    "    if len(str(time))==2:\n",
    "        return 0\n",
    "    if len(str(time))==3:\n",
    "        return int(str(time)[0])\n",
    "    return int(str(time)[:2])"
   ]
  },
  {
   "cell_type": "code",
   "execution_count": 777,
   "metadata": {
    "collapsed": true
   },
   "outputs": [],
   "source": [
    "df['Distance']=df['Distance'].apply(lambda x: distance_bin(x))\n",
    "df[\"Departure_Time\"]=df[\"Departure_Time\"].apply(lambda x: depart_time_bin(x))"
   ]
  },
  {
   "cell_type": "code",
   "execution_count": 569,
   "metadata": {
    "collapsed": false
   },
   "outputs": [
    {
     "data": {
      "text/html": [
       "<div>\n",
       "<table border=\"1\" class=\"dataframe\">\n",
       "  <thead>\n",
       "    <tr style=\"text-align: right;\">\n",
       "      <th></th>\n",
       "      <th>Cancelled</th>\n",
       "      <th>Month</th>\n",
       "      <th>Departure_Time</th>\n",
       "      <th>Airline</th>\n",
       "      <th>SchedElapsedTime</th>\n",
       "      <th>ArrDelay</th>\n",
       "      <th>DepDelay</th>\n",
       "      <th>Distance</th>\n",
       "    </tr>\n",
       "  </thead>\n",
       "  <tbody>\n",
       "    <tr>\n",
       "      <th>0</th>\n",
       "      <td>1</td>\n",
       "      <td>12</td>\n",
       "      <td>8</td>\n",
       "      <td>UA</td>\n",
       "      <td>134</td>\n",
       "      <td>0</td>\n",
       "      <td>0</td>\n",
       "      <td>Medium</td>\n",
       "    </tr>\n",
       "    <tr>\n",
       "      <th>1</th>\n",
       "      <td>1</td>\n",
       "      <td>12</td>\n",
       "      <td>8</td>\n",
       "      <td>DL</td>\n",
       "      <td>90</td>\n",
       "      <td>0</td>\n",
       "      <td>0</td>\n",
       "      <td>Short</td>\n",
       "    </tr>\n",
       "    <tr>\n",
       "      <th>2</th>\n",
       "      <td>1</td>\n",
       "      <td>1</td>\n",
       "      <td>18</td>\n",
       "      <td>UA</td>\n",
       "      <td>213</td>\n",
       "      <td>0</td>\n",
       "      <td>0</td>\n",
       "      <td>Long</td>\n",
       "    </tr>\n",
       "    <tr>\n",
       "      <th>3</th>\n",
       "      <td>1</td>\n",
       "      <td>4</td>\n",
       "      <td>17</td>\n",
       "      <td>AA</td>\n",
       "      <td>80</td>\n",
       "      <td>0</td>\n",
       "      <td>0</td>\n",
       "      <td>Short</td>\n",
       "    </tr>\n",
       "    <tr>\n",
       "      <th>4</th>\n",
       "      <td>1</td>\n",
       "      <td>7</td>\n",
       "      <td>14</td>\n",
       "      <td>UA</td>\n",
       "      <td>103</td>\n",
       "      <td>0</td>\n",
       "      <td>0</td>\n",
       "      <td>Short</td>\n",
       "    </tr>\n",
       "    <tr>\n",
       "      <th>5995</th>\n",
       "      <td>0</td>\n",
       "      <td>6</td>\n",
       "      <td>17</td>\n",
       "      <td>AA</td>\n",
       "      <td>115</td>\n",
       "      <td>17</td>\n",
       "      <td>30</td>\n",
       "      <td>Medium</td>\n",
       "    </tr>\n",
       "    <tr>\n",
       "      <th>5996</th>\n",
       "      <td>0</td>\n",
       "      <td>9</td>\n",
       "      <td>19</td>\n",
       "      <td>DL</td>\n",
       "      <td>127</td>\n",
       "      <td>-19</td>\n",
       "      <td>-9</td>\n",
       "      <td>Medium</td>\n",
       "    </tr>\n",
       "    <tr>\n",
       "      <th>5997</th>\n",
       "      <td>0</td>\n",
       "      <td>8</td>\n",
       "      <td>18</td>\n",
       "      <td>DL</td>\n",
       "      <td>101</td>\n",
       "      <td>6</td>\n",
       "      <td>-4</td>\n",
       "      <td>Short</td>\n",
       "    </tr>\n",
       "    <tr>\n",
       "      <th>5998</th>\n",
       "      <td>0</td>\n",
       "      <td>7</td>\n",
       "      <td>17</td>\n",
       "      <td>AA</td>\n",
       "      <td>210</td>\n",
       "      <td>178</td>\n",
       "      <td>42</td>\n",
       "      <td>Medium</td>\n",
       "    </tr>\n",
       "    <tr>\n",
       "      <th>5999</th>\n",
       "      <td>0</td>\n",
       "      <td>9</td>\n",
       "      <td>19</td>\n",
       "      <td>AA</td>\n",
       "      <td>265</td>\n",
       "      <td>4</td>\n",
       "      <td>3</td>\n",
       "      <td>Long</td>\n",
       "    </tr>\n",
       "  </tbody>\n",
       "</table>\n",
       "</div>"
      ],
      "text/plain": [
       "      Cancelled  Month  Departure_Time Airline  SchedElapsedTime  ArrDelay  \\\n",
       "0             1     12               8      UA               134         0   \n",
       "1             1     12               8      DL                90         0   \n",
       "2             1      1              18      UA               213         0   \n",
       "3             1      4              17      AA                80         0   \n",
       "4             1      7              14      UA               103         0   \n",
       "5995          0      6              17      AA               115        17   \n",
       "5996          0      9              19      DL               127       -19   \n",
       "5997          0      8              18      DL               101         6   \n",
       "5998          0      7              17      AA               210       178   \n",
       "5999          0      9              19      AA               265         4   \n",
       "\n",
       "      DepDelay Distance  \n",
       "0            0   Medium  \n",
       "1            0    Short  \n",
       "2            0     Long  \n",
       "3            0    Short  \n",
       "4            0    Short  \n",
       "5995        30   Medium  \n",
       "5996        -9   Medium  \n",
       "5997        -4    Short  \n",
       "5998        42   Medium  \n",
       "5999         3     Long  "
      ]
     },
     "execution_count": 569,
     "metadata": {},
     "output_type": "execute_result"
    }
   ],
   "source": [
    "pd.concat([df.head(5),df.tail(5)])"
   ]
  },
  {
   "cell_type": "code",
   "execution_count": 598,
   "metadata": {
    "collapsed": false
   },
   "outputs": [
    {
     "data": {
      "image/png": "[encoded data removed]",
      "text/plain": [
       "<matplotlib.figure.Figure at 0x10c205810>"
      ]
     },
     "metadata": {},
     "output_type": "display_data"
    }
   ],
   "source": [
    "temp=df.groupby(['Airline','Departure_Time'])['Cancelled'].sum().to_frame()\n",
    "temp=temp.merge(df.groupby(['Airline','Departure_Time'])['Cancelled'].count().to_frame(),left_index=True,\\\n",
    "                                right_index=True)\n",
    "temp.columns=['Cancelled','Total']\n",
    "temp['Percentage_Cancelled']=temp['Cancelled']/temp['Total']\n",
    "temp=temp.reset_index()\n",
    "i=0\n",
    "color=['red','green','gray']\n",
    "location=[0,.3,0.6]\n",
    "plt.subplots(figsize=(10,8))\n",
    "for airline in temp['Airline'].unique():\n",
    "    plt.bar(temp[temp['Airline']==airline]['Departure_Time']+location[i],\\\n",
    "            temp[temp['Airline']==airline]['Percentage_Cancelled'],width=0.3,color=color[i],label=airline)\n",
    "    i+=1\n",
    "plt.legend()\n",
    "plt.title('% of Flights Cancelled by Hour')\n",
    "plt.ylabel('% of Flights Cancelled')\n",
    "plt.xlabel('Hour')\n",
    "plt.xticks(np.linspace(.45,24.45,25),range(25))\n",
    "plt.show()"
   ]
  },
  {
   "cell_type": "markdown",
   "metadata": {},
   "source": [
    "AA seems to cancel flights much more often at lunch time. UA seems to cancel flights more often than others when it is early in the morning or late at night. DL seems to be pretty consistent. There are too many hours to incorporate into our model along with month. It would be easier to just allow the mean value to be used, there isn't that much fluctuation."
   ]
  },
  {
   "cell_type": "code",
   "execution_count": 609,
   "metadata": {
    "collapsed": false
   },
   "outputs": [
    {
     "data": {
      "image/png": "[encoded data removed]",
      "text/plain": [
       "<matplotlib.figure.Figure at 0x109d6ae90>"
      ]
     },
     "metadata": {},
     "output_type": "display_data"
    }
   ],
   "source": [
    "temp=df.groupby(['Airline','Month'])['Cancelled'].sum().to_frame()\n",
    "temp=temp.merge(df.groupby(['Airline','Month'])['Cancelled'].count().to_frame(),left_index=True,\\\n",
    "                                right_index=True)\n",
    "temp.columns=['Cancelled','Total']\n",
    "temp['Percentage_Cancelled']=temp['Cancelled']/temp['Total']\n",
    "temp=temp.reset_index()\n",
    "i=0\n",
    "color=['red','green','gray']\n",
    "location=[0,.3,0.6]\n",
    "plt.subplots(figsize=(10,8))\n",
    "for airline in temp['Airline'].unique():\n",
    "    plt.bar(temp[temp['Airline']==airline]['Month']+location[i],\\\n",
    "            temp[temp['Airline']==airline]['Percentage_Cancelled'],width=0.3,color=color[i],label=airline)\n",
    "    i+=1\n",
    "plt.legend()\n",
    "plt.title('% of Flights Cancelled by Month')\n",
    "plt.ylabel('% of Flights Cancelled')\n",
    "plt.xlabel('Month')\n",
    "plt.xticks(np.linspace(1.5,13.5,13),range(1,13))\n",
    "plt.show()"
   ]
  },
  {
   "cell_type": "markdown",
   "metadata": {},
   "source": [
    "There are definite seasonal trends in our data, most likely due to weather. Without having additional information, I will assume that weather plays a role in flight cancellations (out of experience). "
   ]
  },
  {
   "cell_type": "code",
   "execution_count": 660,
   "metadata": {
    "collapsed": false
   },
   "outputs": [
    {
     "data": {
      "image/png": "[encoded data removed]",
      "text/plain": [
       "<matplotlib.figure.Figure at 0x119bad510>"
      ]
     },
     "metadata": {},
     "output_type": "display_data"
    }
   ],
   "source": [
    "temp=df.groupby(['Airline','Distance'])['Cancelled'].sum().to_frame()\n",
    "temp=temp.merge(df.groupby(['Airline','Distance'])['Cancelled'].count().to_frame(),left_index=True,\\\n",
    "                                right_index=True)\n",
    "temp.columns=['Cancelled','Total']\n",
    "temp['Percentage_Cancelled']=temp['Cancelled']/temp['Total']\n",
    "temp=temp.reset_index()\n",
    "i=0\n",
    "color=['red','green','gray']\n",
    "location=[0,.3,0.6]\n",
    "plt.subplots(figsize=(7,5))\n",
    "for airline in temp['Airline'].unique():\n",
    "    plt.bar(temp[temp['Airline']==airline]['Distance'].apply(lambda x: 0 if x=='Short' else 1 if x=='Medium' else 2)+location[i],\\\n",
    "            temp[temp['Airline']==airline]['Percentage_Cancelled'],width=0.3,color=color[i],label=airline)\n",
    "    i+=1\n",
    "plt.legend()\n",
    "plt.title('% of Flights Cancelled by Trip Distance')\n",
    "plt.ylabel('% of Flights Cancelled')\n",
    "plt.xlabel('Trip Distance')\n",
    "plt.xticks(np.linspace(.5,2.5,3),['Short','Medium','Long'])\n",
    "plt.show()"
   ]
  },
  {
   "cell_type": "markdown",
   "metadata": {},
   "source": [
    "There is a clear drop in % cancellation for DL and UA as the flights travel a further distance. AA is a little strange in this regard."
   ]
  },
  {
   "cell_type": "code",
   "execution_count": 611,
   "metadata": {
    "collapsed": false
   },
   "outputs": [
    {
     "data": {
      "text/html": [
       "<div>\n",
       "<table border=\"1\" class=\"dataframe\">\n",
       "  <thead>\n",
       "    <tr style=\"text-align: right;\">\n",
       "      <th></th>\n",
       "      <th>Cancelled</th>\n",
       "      <th>Month</th>\n",
       "      <th>Departure_Time</th>\n",
       "      <th>Airline</th>\n",
       "      <th>SchedElapsedTime</th>\n",
       "      <th>ArrDelay</th>\n",
       "      <th>DepDelay</th>\n",
       "      <th>Distance</th>\n",
       "    </tr>\n",
       "  </thead>\n",
       "  <tbody>\n",
       "    <tr>\n",
       "      <th>0</th>\n",
       "      <td>1</td>\n",
       "      <td>12</td>\n",
       "      <td>8</td>\n",
       "      <td>UA</td>\n",
       "      <td>134</td>\n",
       "      <td>0</td>\n",
       "      <td>0</td>\n",
       "      <td>Medium</td>\n",
       "    </tr>\n",
       "    <tr>\n",
       "      <th>1</th>\n",
       "      <td>1</td>\n",
       "      <td>12</td>\n",
       "      <td>8</td>\n",
       "      <td>DL</td>\n",
       "      <td>90</td>\n",
       "      <td>0</td>\n",
       "      <td>0</td>\n",
       "      <td>Short</td>\n",
       "    </tr>\n",
       "    <tr>\n",
       "      <th>2</th>\n",
       "      <td>1</td>\n",
       "      <td>1</td>\n",
       "      <td>18</td>\n",
       "      <td>UA</td>\n",
       "      <td>213</td>\n",
       "      <td>0</td>\n",
       "      <td>0</td>\n",
       "      <td>Long</td>\n",
       "    </tr>\n",
       "    <tr>\n",
       "      <th>3</th>\n",
       "      <td>1</td>\n",
       "      <td>4</td>\n",
       "      <td>17</td>\n",
       "      <td>AA</td>\n",
       "      <td>80</td>\n",
       "      <td>0</td>\n",
       "      <td>0</td>\n",
       "      <td>Short</td>\n",
       "    </tr>\n",
       "    <tr>\n",
       "      <th>4</th>\n",
       "      <td>1</td>\n",
       "      <td>7</td>\n",
       "      <td>14</td>\n",
       "      <td>UA</td>\n",
       "      <td>103</td>\n",
       "      <td>0</td>\n",
       "      <td>0</td>\n",
       "      <td>Short</td>\n",
       "    </tr>\n",
       "  </tbody>\n",
       "</table>\n",
       "</div>"
      ],
      "text/plain": [
       "   Cancelled  Month  Departure_Time Airline  SchedElapsedTime  ArrDelay  \\\n",
       "0          1     12               8      UA               134         0   \n",
       "1          1     12               8      DL                90         0   \n",
       "2          1      1              18      UA               213         0   \n",
       "3          1      4              17      AA                80         0   \n",
       "4          1      7              14      UA               103         0   \n",
       "\n",
       "   DepDelay Distance  \n",
       "0         0   Medium  \n",
       "1         0    Short  \n",
       "2         0     Long  \n",
       "3         0    Short  \n",
       "4         0    Short  "
      ]
     },
     "execution_count": 611,
     "metadata": {},
     "output_type": "execute_result"
    }
   ],
   "source": [
    "df.head()"
   ]
  },
  {
   "cell_type": "markdown",
   "metadata": {},
   "source": [
    "#### The Model"
   ]
  },
  {
   "cell_type": "markdown",
   "metadata": {},
   "source": [
    "To keep the model simple, I will not use hourly data. Furthermore, I have binned Distance because I do not want to over-complicate my model. The provided delay information is not important, as tardiness is reflective of an airline's punctuality/preparedness, and days where all flights are delayed does not need to be accounted for, especially if we assume that all airlines act the same under certain weather conditions. Because we do not have weather data, we can not test this assumption. However, if we regard winter months versus summer months, we find that AA tends to cancel flights more often in winter conditions (ice and snow presumably). Thus, using months will incorporate an airline's cancellation rate relative to a weather condition."
   ]
  },
  {
   "cell_type": "code",
   "execution_count": 806,
   "metadata": {
    "collapsed": false
   },
   "outputs": [],
   "source": [
    "Y=df['Cancelled']\n",
    "X=df[['Month','Airline','Distance']].copy()\n",
    "X['Month']=X['Month'].astype(str)\n",
    "X=pd.get_dummies(X)\n",
    "for col in['Month_6','Distance_Long','Airline_AA']:\n",
    "    del X[col]\n",
    "x_train,x_test,y_train,y_test=train_test_split(X,Y,random_state=0)"
   ]
  },
  {
   "cell_type": "code",
   "execution_count": 807,
   "metadata": {
    "collapsed": false
   },
   "outputs": [
    {
     "data": {
      "text/plain": [
       "0.83666666666666667"
      ]
     },
     "execution_count": 807,
     "metadata": {},
     "output_type": "execute_result"
    }
   ],
   "source": [
    "model=ExtraTreesClassifier()\n",
    "model.fit(x_train,y_train)\n",
    "model.score(x_test,y_test)"
   ]
  },
  {
   "cell_type": "code",
   "execution_count": 808,
   "metadata": {
    "collapsed": true
   },
   "outputs": [],
   "source": [
    "def convert_info(month,airline,distance):\n",
    "    month='Month_'+str(month)\n",
    "    airline='Airline_'+str(airline)\n",
    "    distance='Distance_'+str(distance)\n",
    "    cols=x_train.columns\n",
    "    col_dict={cols[i]:i for i in range(len(x_train.columns))}\n",
    "    input_info=[0]*15\n",
    "    for info in [month,airline,distance]:\n",
    "        if info in col_dict.keys():\n",
    "            input_info[col_dict[info]]=1\n",
    "    input_info=np.reshape(input_info,(1,-1))\n",
    "    return input_info"
   ]
  },
  {
   "cell_type": "markdown",
   "metadata": {},
   "source": [
    "#### Probability of Cancellation"
   ]
  },
  {
   "cell_type": "code",
   "execution_count": 841,
   "metadata": {
    "collapsed": false
   },
   "outputs": [
    {
     "name": "stdout",
     "output_type": "stream",
     "text": [
      "[('AA', 0.1629902746498571), ('DL', 0.099372094534810787), ('UA', 0.15991735937070745)]\n"
     ]
    }
   ],
   "source": [
    "airlines_probs=[]\n",
    "for airline in ['AA','DL','UA']:\n",
    "    prob_list=[]\n",
    "    for month in range(1,13):\n",
    "        for distance in ['Short','Medium','Long']:\n",
    "            pred=model.predict(convert_info(month,airline,distance))\n",
    "            prob=model.predict_proba(convert_info(month,airline,distance))\n",
    "            prob_list.append(prob[0][1])\n",
    "            if pred[0]==1:\n",
    "                print pred\n",
    "    airlines_probs.append(np.mean(prob_list))\n",
    "print zip(['AA','DL','UA'],airlines_probs)"
   ]
  },
  {
   "cell_type": "markdown",
   "metadata": {},
   "source": [
    "Although our model only outputs a zero for cancellation prediction (because in no available scenario is there a 50% chance of cancellation), we can choose a certain scenario to test for probability of cancellation. In testing all scenarios, we find the overall lowest cancellation probability to be Delta's. This could change according to certain parameters, but I will leave that to the agent. This model is in essence a pd.groupby()"
   ]
  },
  {
   "cell_type": "code",
   "execution_count": 851,
   "metadata": {
    "collapsed": false
   },
   "outputs": [
    {
     "name": "stdout",
     "output_type": "stream",
     "text": [
      "13.4% chance of cancellation\n"
     ]
    }
   ],
   "source": [
    "## Feel free to play with finding probabilities by using the uncommented code below\n",
    "month=12        # 1-12\n",
    "airline=\"DL\"       # 'AA, DL, UA\n",
    "distance='Medium'  # Short,Medium,Long\n",
    "print \"%s%% chance of cancellation\" %(np.round(model.predict_proba(convert_info(month,airline,distance)),3)[0][1]*100)"
   ]
  },
  {
   "cell_type": "markdown",
   "metadata": {},
   "source": [
    "It would be better to have more data because this model is in essence a groupby of a single airport for a single year of cancellation information."
   ]
  },
  {
   "cell_type": "markdown",
   "metadata": {},
   "source": [
    "# #6"
   ]
  },
  {
   "cell_type": "markdown",
   "metadata": {},
   "source": [
    "### Please find the presentation here: \n",
    "https://docs.google.com/presentation/d/13uoI2h8JtqTooTZiuVSudDhL7isNKxMs0eR2r7o0IN4/edit?usp=sharing"
   ]
  },
  {
   "cell_type": "code",
   "execution_count": 867,
   "metadata": {
    "collapsed": true
   },
   "outputs": [],
   "source": [
    "model_decile=pd.read_csv('/Users/thomas/Downloads/sapient_case_questioning.csv')\n",
    "model_results=pd.read_csv('/Users/thomas/Downloads/sapient_regression_coef.csv')"
   ]
  },
  {
   "cell_type": "code",
   "execution_count": 868,
   "metadata": {
    "collapsed": true
   },
   "outputs": [],
   "source": [
    "for col in model_decile.columns[1:]:\n",
    "    model_decile[col]=model_decile[col].apply(lambda x: float(str(x)[:-1]))"
   ]
  },
  {
   "cell_type": "code",
   "execution_count": 893,
   "metadata": {
    "collapsed": false
   },
   "outputs": [],
   "source": [
    "model_decile=pd.concat([pd.DataFrame([[0],[10.0],[0.],[0.],[0.],[0.]],index=model_decile.columns).T,model_decile])"
   ]
  },
  {
   "cell_type": "code",
   "execution_count": 994,
   "metadata": {
    "collapsed": true
   },
   "outputs": [],
   "source": [
    "model_decile=model_decile.reset_index()\n",
    "del model_decile['index']"
   ]
  },
  {
   "cell_type": "code",
   "execution_count": 995,
   "metadata": {
    "collapsed": false
   },
   "outputs": [
    {
     "data": {
      "text/html": [
       "<div>\n",
       "<table border=\"1\" class=\"dataframe\">\n",
       "  <thead>\n",
       "    <tr style=\"text-align: right;\">\n",
       "      <th></th>\n",
       "      <th>Decile</th>\n",
       "      <th>Random per Decile</th>\n",
       "      <th>Random Cumulative</th>\n",
       "      <th>Logistic Per Decile</th>\n",
       "      <th>Logistic Cumulative</th>\n",
       "      <th>Difference</th>\n",
       "    </tr>\n",
       "  </thead>\n",
       "  <tbody>\n",
       "    <tr>\n",
       "      <th>0</th>\n",
       "      <td>0.0</td>\n",
       "      <td>10.0</td>\n",
       "      <td>0.0</td>\n",
       "      <td>0.0</td>\n",
       "      <td>0.0</td>\n",
       "      <td>0.0</td>\n",
       "    </tr>\n",
       "    <tr>\n",
       "      <th>1</th>\n",
       "      <td>1.0</td>\n",
       "      <td>10.0</td>\n",
       "      <td>10.0</td>\n",
       "      <td>37.3</td>\n",
       "      <td>37.3</td>\n",
       "      <td>27.3</td>\n",
       "    </tr>\n",
       "    <tr>\n",
       "      <th>2</th>\n",
       "      <td>2.0</td>\n",
       "      <td>10.0</td>\n",
       "      <td>20.0</td>\n",
       "      <td>19.1</td>\n",
       "      <td>56.4</td>\n",
       "      <td>36.4</td>\n",
       "    </tr>\n",
       "    <tr>\n",
       "      <th>3</th>\n",
       "      <td>3.0</td>\n",
       "      <td>10.0</td>\n",
       "      <td>30.0</td>\n",
       "      <td>12.2</td>\n",
       "      <td>68.6</td>\n",
       "      <td>38.6</td>\n",
       "    </tr>\n",
       "    <tr>\n",
       "      <th>4</th>\n",
       "      <td>4.0</td>\n",
       "      <td>10.0</td>\n",
       "      <td>40.0</td>\n",
       "      <td>9.0</td>\n",
       "      <td>77.6</td>\n",
       "      <td>37.6</td>\n",
       "    </tr>\n",
       "    <tr>\n",
       "      <th>5</th>\n",
       "      <td>5.0</td>\n",
       "      <td>10.0</td>\n",
       "      <td>50.0</td>\n",
       "      <td>7.3</td>\n",
       "      <td>84.9</td>\n",
       "      <td>34.9</td>\n",
       "    </tr>\n",
       "    <tr>\n",
       "      <th>6</th>\n",
       "      <td>6.0</td>\n",
       "      <td>10.0</td>\n",
       "      <td>60.0</td>\n",
       "      <td>5.2</td>\n",
       "      <td>90.1</td>\n",
       "      <td>30.1</td>\n",
       "    </tr>\n",
       "    <tr>\n",
       "      <th>7</th>\n",
       "      <td>7.0</td>\n",
       "      <td>10.0</td>\n",
       "      <td>70.0</td>\n",
       "      <td>3.7</td>\n",
       "      <td>93.8</td>\n",
       "      <td>23.8</td>\n",
       "    </tr>\n",
       "    <tr>\n",
       "      <th>8</th>\n",
       "      <td>8.0</td>\n",
       "      <td>10.0</td>\n",
       "      <td>80.0</td>\n",
       "      <td>3.1</td>\n",
       "      <td>96.9</td>\n",
       "      <td>16.9</td>\n",
       "    </tr>\n",
       "    <tr>\n",
       "      <th>9</th>\n",
       "      <td>9.0</td>\n",
       "      <td>10.0</td>\n",
       "      <td>90.0</td>\n",
       "      <td>2.2</td>\n",
       "      <td>99.1</td>\n",
       "      <td>9.1</td>\n",
       "    </tr>\n",
       "    <tr>\n",
       "      <th>10</th>\n",
       "      <td>10.0</td>\n",
       "      <td>10.0</td>\n",
       "      <td>100.0</td>\n",
       "      <td>0.9</td>\n",
       "      <td>100.0</td>\n",
       "      <td>0.0</td>\n",
       "    </tr>\n",
       "  </tbody>\n",
       "</table>\n",
       "</div>"
      ],
      "text/plain": [
       "    Decile  Random per Decile  Random Cumulative  Logistic Per Decile  \\\n",
       "0      0.0               10.0                0.0                  0.0   \n",
       "1      1.0               10.0               10.0                 37.3   \n",
       "2      2.0               10.0               20.0                 19.1   \n",
       "3      3.0               10.0               30.0                 12.2   \n",
       "4      4.0               10.0               40.0                  9.0   \n",
       "5      5.0               10.0               50.0                  7.3   \n",
       "6      6.0               10.0               60.0                  5.2   \n",
       "7      7.0               10.0               70.0                  3.7   \n",
       "8      8.0               10.0               80.0                  3.1   \n",
       "9      9.0               10.0               90.0                  2.2   \n",
       "10    10.0               10.0              100.0                  0.9   \n",
       "\n",
       "    Logistic Cumulative  Difference  \n",
       "0                   0.0         0.0  \n",
       "1                  37.3        27.3  \n",
       "2                  56.4        36.4  \n",
       "3                  68.6        38.6  \n",
       "4                  77.6        37.6  \n",
       "5                  84.9        34.9  \n",
       "6                  90.1        30.1  \n",
       "7                  93.8        23.8  \n",
       "8                  96.9        16.9  \n",
       "9                  99.1         9.1  \n",
       "10                100.0         0.0  "
      ]
     },
     "execution_count": 995,
     "metadata": {},
     "output_type": "execute_result"
    }
   ],
   "source": [
    "model_decile"
   ]
  },
  {
   "cell_type": "code",
   "execution_count": 1009,
   "metadata": {
    "collapsed": false
   },
   "outputs": [
    {
     "data": {
      "text/plain": [
       "37.299999999999997"
      ]
     },
     "execution_count": 1009,
     "metadata": {},
     "output_type": "execute_result"
    }
   ],
   "source": [
    "model_decile.iloc[1]['Logistic Per Decile']"
   ]
  },
  {
   "cell_type": "code",
   "execution_count": 1012,
   "metadata": {
    "collapsed": false
   },
   "outputs": [
    {
     "name": "stdout",
     "output_type": "stream",
     "text": [
      "0.65515\n"
     ]
    }
   ],
   "source": [
    "auc_calc=0.\n",
    "for row in model_decile.index[:-1]:\n",
    "    auc_calc+=model_decile.iloc[row]['Logistic Per Decile']*.01*.1*(9-row+.5)\n",
    "print auc_calc"
   ]
  },
  {
   "cell_type": "code",
   "execution_count": 1054,
   "metadata": {
    "collapsed": false
   },
   "outputs": [
    {
     "data": {
      "image/png": "[encoded data removed]",
      "text/plain": [
       "<matplotlib.figure.Figure at 0x11a19b250>"
      ]
     },
     "metadata": {},
     "output_type": "display_data"
    }
   ],
   "source": [
    "plt.style.use('ggplot')\n",
    "plt.subplots(figsize=(8,5.8))\n",
    "plt.plot(model_decile['Random Cumulative'],model_decile['Logistic Cumulative'],\\\n",
    "         label='Model Prediction - AUC: %s' %(auc_calc),linewidth=4,color='green')\n",
    "plt.plot(model_decile['Random Cumulative'],model_decile['Random Cumulative'],\\\n",
    "         label='Baseline Prediction',linewidth=4)\n",
    "# plt.vlines(30,64,72,linewidth=6,label=\"Model's Peak Efficiency\")\n",
    "plt.title('Model ROC Curve',size=20)\n",
    "plt.vlines(30,0,68.6,linewidth=1,label=\"Model's Peak Efficiency\")\n",
    "plt.xticks(range(0,101,10),np.linspace(0,1.0,11),size=13)\n",
    "plt.xlabel('False Positive Rate',size=15)\n",
    "plt.yticks(range(0,101,10),np.linspace(0,1.0,11),size=13)\n",
    "plt.ylabel('True Positive Rate',size=15)\n",
    "# plt.scatter(30,68.6,c='red',s=55,label='Model becomes less efficient')\n",
    "plt.legend(loc='lower right')\n",
    "plt.show()"
   ]
  },
  {
   "cell_type": "code",
   "execution_count": 1025,
   "metadata": {
    "collapsed": false
   },
   "outputs": [
    {
     "data": {
      "image/png": "[encoded data removed]",
      "text/plain": [
       "<matplotlib.figure.Figure at 0x11a117310>"
      ]
     },
     "metadata": {},
     "output_type": "display_data"
    }
   ],
   "source": [
    "plt.style.use('ggplot')\n",
    "plt.subplots(figsize=(8,5))\n",
    "plt.bar(model_decile['Random Cumulative']-4,model_decile['Logistic Cumulative'],label='Gain in Accuracy',\\\n",
    "        width=8,color=(.2,1,.2,1.))\n",
    "plt.bar(model_decile['Random Cumulative']-4,model_decile['Random Cumulative'],label='Baseline Prediction',\\\n",
    "        width=8,color=(1.,0,0,.8))\n",
    "plt.legend(loc='upper left')\n",
    "plt.xticks(range(0,101,10),[str(x)+\"%\" for x in range(100,-1,-10)],size=12)\n",
    "plt.xlim(-5,105)\n",
    "plt.yticks(range(0,101,20),[str(x)+\"%\" for x in range(0,101,20)],size=12)\n",
    "plt.xlabel('Confidence Measurement')\n",
    "plt.ylabel('Percentage of Total Defectors')\n",
    "plt.show()"
   ]
  },
  {
   "cell_type": "code",
   "execution_count": 1037,
   "metadata": {
    "collapsed": false
   },
   "outputs": [],
   "source": [
    "feature_array=zip(model_results['Parameter'].values,model_results['Estimate'].values)"
   ]
  },
  {
   "cell_type": "code",
   "execution_count": 1048,
   "metadata": {
    "collapsed": false
   },
   "outputs": [
    {
     "data": {
      "text/html": [
       "<div>\n",
       "<table border=\"1\" class=\"dataframe\">\n",
       "  <thead>\n",
       "    <tr style=\"text-align: right;\">\n",
       "      <th></th>\n",
       "      <th>Parameters</th>\n",
       "      <th>Beta Coefficient</th>\n",
       "    </tr>\n",
       "  </thead>\n",
       "  <tbody>\n",
       "    <tr>\n",
       "      <th>0</th>\n",
       "      <td>Intercept</td>\n",
       "      <td>-6.4701</td>\n",
       "    </tr>\n",
       "    <tr>\n",
       "      <th>1</th>\n",
       "      <td>Average_transactions_per_month</td>\n",
       "      <td>1.0121</td>\n",
       "    </tr>\n",
       "    <tr>\n",
       "      <th>2</th>\n",
       "      <td>Logged_customer_tenure_(days)</td>\n",
       "      <td>0.6629</td>\n",
       "    </tr>\n",
       "    <tr>\n",
       "      <th>3</th>\n",
       "      <td>Made_first_purchase_within_last_month_(binary)</td>\n",
       "      <td>0.6250</td>\n",
       "    </tr>\n",
       "    <tr>\n",
       "      <th>4</th>\n",
       "      <td>Unsubscribed_from_email_notifications</td>\n",
       "      <td>-0.5641</td>\n",
       "    </tr>\n",
       "    <tr>\n",
       "      <th>5</th>\n",
       "      <td>No_purchase_up_to_360_days_prior_(binary)</td>\n",
       "      <td>-0.3376</td>\n",
       "    </tr>\n",
       "    <tr>\n",
       "      <th>6</th>\n",
       "      <td>Logged_days_since_last_purchase</td>\n",
       "      <td>0.1028</td>\n",
       "    </tr>\n",
       "  </tbody>\n",
       "</table>\n",
       "</div>"
      ],
      "text/plain": [
       "                                       Parameters  Beta Coefficient\n",
       "0                                       Intercept           -6.4701\n",
       "1                  Average_transactions_per_month            1.0121\n",
       "2                   Logged_customer_tenure_(days)            0.6629\n",
       "3  Made_first_purchase_within_last_month_(binary)            0.6250\n",
       "4           Unsubscribed_from_email_notifications           -0.5641\n",
       "5       No_purchase_up_to_360_days_prior_(binary)           -0.3376\n",
       "6                 Logged_days_since_last_purchase            0.1028"
      ]
     },
     "execution_count": 1048,
     "metadata": {},
     "output_type": "execute_result"
    }
   ],
   "source": [
    "feature_array.sort(key=lambda x: np.abs(x[1]))\n",
    "feature_array=feature_array[::-1]\n",
    "pd.DataFrame(feature_array[:7],columns=['Parameters','Beta Coefficient'])"
   ]
  },
  {
   "cell_type": "code",
   "execution_count": null,
   "metadata": {
    "collapsed": true
   },
   "outputs": [],
   "source": []
  },
  {
   "cell_type": "code",
   "execution_count": null,
   "metadata": {
    "collapsed": true
   },
   "outputs": [],
   "source": []
  },
  {
   "cell_type": "code",
   "execution_count": null,
   "metadata": {
    "collapsed": true
   },
   "outputs": [],
   "source": []
  },
  {
   "cell_type": "code",
   "execution_count": null,
   "metadata": {
    "collapsed": true
   },
   "outputs": [],
   "source": []
  },
  {
   "cell_type": "code",
   "execution_count": null,
   "metadata": {
    "collapsed": true
   },
   "outputs": [],
   "source": []
  }
 ],
 "metadata": {
  "anaconda-cloud": {},
  "kernelspec": {
   "display_name": "Python [default]",
   "language": "python",
   "name": "python2"
  },
  "language_info": {
   "codemirror_mode": {
    "name": "ipython",
    "version": 2
   },
   "file_extension": ".py",
   "mimetype": "text/x-python",
   "name": "python",
   "nbconvert_exporter": "python",
   "pygments_lexer": "ipython2",
   "version": "2.7.12"
  }
 },
 "nbformat": 4,
 "nbformat_minor": 1
}
