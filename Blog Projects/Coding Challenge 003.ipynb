{
 "cells": [
  {
   "cell_type": "markdown",
   "metadata": {},
   "source": [
    "### Loading in my Libraries"
   ]
  },
  {
   "cell_type": "code",
   "execution_count": 45,
   "metadata": {
    "collapsed": true
   },
   "outputs": [],
   "source": [
    "import pandas as pd\n",
    "import numpy as np\n",
    "import re\n",
    "import datetime\n",
    "import matplotlib.pyplot as plt\n",
    "import seaborn as sns\n",
    "%matplotlib inline"
   ]
  },
  {
   "cell_type": "markdown",
   "metadata": {},
   "source": [
    "# #1"
   ]
  },
  {
   "cell_type": "markdown",
   "metadata": {},
   "source": [
    "### Loading in my DF"
   ]
  },
  {
   "cell_type": "code",
   "execution_count": 137,
   "metadata": {
    "collapsed": true
   },
   "outputs": [],
   "source": [
    "df=pd.read_csv('/Users/thomas/Downloads/enigma test (1).csv')"
   ]
  },
  {
   "cell_type": "markdown",
   "metadata": {},
   "source": [
    "### #1-1"
   ]
  },
  {
   "cell_type": "code",
   "execution_count": 138,
   "metadata": {
    "collapsed": false
   },
   "outputs": [],
   "source": [
    "def clean_text(text):\n",
    "    return text.replace('\\t',\" \").replace('\\n',' ').replace('  ',' ')\n",
    "# Removing tabs, new lines, and double spaces\n",
    "df['bio']=df['bio'].apply(lambda x: clean_text(x))"
   ]
  },
  {
   "cell_type": "markdown",
   "metadata": {},
   "source": [
    "### #1.2"
   ]
  },
  {
   "cell_type": "code",
   "execution_count": 139,
   "metadata": {
    "collapsed": true
   },
   "outputs": [],
   "source": [
    "state_abbreviations=pd.read_csv('/Users/thomas/Downloads/enigma state_abbreviations.csv')"
   ]
  },
  {
   "cell_type": "code",
   "execution_count": 140,
   "metadata": {
    "collapsed": false
   },
   "outputs": [],
   "source": [
    "# Creating dictionary object of the state abbreviations and the full names\n",
    "state_abbreviations.index=state_abbreviations['state_abbr']\n",
    "del state_abbreviations['state_abbr']\n",
    "states_dict=state_abbreviations.to_dict()['state_name']\n",
    "# Using dict to convert abbreviations\n",
    "df['state']=df['state'].apply(lambda x: states_dict[x])"
   ]
  },
  {
   "cell_type": "markdown",
   "metadata": {},
   "source": [
    "### #1.3"
   ]
  },
  {
   "cell_type": "code",
   "execution_count": 141,
   "metadata": {
    "collapsed": true
   },
   "outputs": [],
   "source": [
    "# We can see if the text is datetime compatible; if it is, we will also need to check completeness, thus the '/',...\n",
    "def check_date_completeness(text):\n",
    "    try: \n",
    "        pd.to_datetime(text)\n",
    "    except:\n",
    "        return 0\n",
    "    if '/' in text:\n",
    "        if len(text.split('/'))!=3:\n",
    "            return 0\n",
    "    elif '-' in text:\n",
    "        if len(text.split('-'))!=3:\n",
    "            return 0\n",
    "    elif ',' in text:\n",
    "        if len(text.split(',')[0].split())!=2:\n",
    "            return 0\n",
    "    else:\n",
    "        if len(text.split())!=3:\n",
    "            return 0\n",
    "    return 1"
   ]
  },
  {
   "cell_type": "code",
   "execution_count": 142,
   "metadata": {
    "collapsed": false
   },
   "outputs": [],
   "source": [
    "# Check Completeness; if incomplete, put into new column\n",
    "df['start_date_description']=df['start_date'].apply(lambda x: x if check_date_completeness(x)==0 else \"\")\n",
    "# If details column holds an object, remove the corresponding object in the date column\n",
    "for row in df.index:\n",
    "    if df.loc[row,'start_date']==df.loc[row,'start_date_description']:\n",
    "        df.loc[row,'start_date']=\"\"\n",
    "# Convert to datetime; automatic iso\n",
    "df['start_date']=pd.to_datetime(df['start_date'])\n",
    "# Save to csv\n",
    "df.to_csv('/Users/thomas/Downloads/enigma solutions.csv')"
   ]
  },
  {
   "cell_type": "markdown",
   "metadata": {},
   "source": [
    "# #2"
   ]
  },
  {
   "cell_type": "code",
   "execution_count": 252,
   "metadata": {
    "collapsed": false
   },
   "outputs": [],
   "source": [
    "import requests\n",
    "import BeautifulSoup\n",
    "import numpy as np\n",
    "import pandas as pd"
   ]
  },
  {
   "cell_type": "code",
   "execution_count": 246,
   "metadata": {
    "collapsed": true
   },
   "outputs": [],
   "source": [
    "company_data=[]\n",
    "column_info=[]\n",
    "for i in range(1,11):\n",
    "    # baseurl and pageurl seperated due to the urls of the individual hrefs\n",
    "    baseurl='http://data-interview.enigmalabs.org'\n",
    "    pageurl='/companies/?page=%s'%(i)\n",
    "    # getting the html\n",
    "    r=requests.get(baseurl+pageurl)\n",
    "    soup=BeautifulSoup.BeautifulSoup(r.text)\n",
    "    # getting the correct hrefs from the html, and replacing ' ' with %20\n",
    "    links=[x.a for x in soup.findAll('tr')][1:]\n",
    "    links=[x['href'].replace(' ','%20') for x in links]\n",
    "    for link in links:\n",
    "        # going to href locations\n",
    "        info_url=baseurl+link\n",
    "        info_r=requests.get(info_url)\n",
    "        info_soup=BeautifulSoup.BeautifulSoup(info_r.text)\n",
    "        # pulling in all info, and then selecting the correct info\n",
    "        company_data.append([y[1] for y in np.reshape([x.text for x in info_soup.findAll('td')],(-1,2))])\n",
    "        column_info=[y[0] for y in np.reshape([x.text for x in info_soup.findAll('td')],(-1,2))]\n",
    "# converting to df, and then saving df as a json\n",
    "json_df=pd.DataFrame(company_data,columns=column_info)\n",
    "json_df.to_json('/Users/thomas/Downloads/enigma json solutions.json')"
   ]
  },
  {
   "cell_type": "code",
   "execution_count": null,
   "metadata": {
    "collapsed": false
   },
   "outputs": [],
   "source": []
  },
  {
   "cell_type": "code",
   "execution_count": null,
   "metadata": {
    "collapsed": false
   },
   "outputs": [],
   "source": []
  },
  {
   "cell_type": "code",
   "execution_count": null,
   "metadata": {
    "collapsed": false
   },
   "outputs": [],
   "source": []
  },
  {
   "cell_type": "code",
   "execution_count": null,
   "metadata": {
    "collapsed": false,
    "scrolled": true
   },
   "outputs": [],
   "source": []
  },
  {
   "cell_type": "code",
   "execution_count": null,
   "metadata": {
    "collapsed": true
   },
   "outputs": [],
   "source": []
  },
  {
   "cell_type": "code",
   "execution_count": null,
   "metadata": {
    "collapsed": false
   },
   "outputs": [],
   "source": []
  },
  {
   "cell_type": "code",
   "execution_count": null,
   "metadata": {
    "collapsed": true
   },
   "outputs": [],
   "source": []
  },
  {
   "cell_type": "code",
   "execution_count": null,
   "metadata": {
    "collapsed": true
   },
   "outputs": [],
   "source": []
  },
  {
   "cell_type": "code",
   "execution_count": null,
   "metadata": {
    "collapsed": true
   },
   "outputs": [],
   "source": []
  },
  {
   "cell_type": "code",
   "execution_count": null,
   "metadata": {
    "collapsed": true
   },
   "outputs": [],
   "source": []
  },
  {
   "cell_type": "code",
   "execution_count": null,
   "metadata": {
    "collapsed": true
   },
   "outputs": [],
   "source": []
  },
  {
   "cell_type": "code",
   "execution_count": null,
   "metadata": {
    "collapsed": true
   },
   "outputs": [],
   "source": []
  },
  {
   "cell_type": "code",
   "execution_count": null,
   "metadata": {
    "collapsed": true
   },
   "outputs": [],
   "source": []
  },
  {
   "cell_type": "code",
   "execution_count": null,
   "metadata": {
    "collapsed": true
   },
   "outputs": [],
   "source": []
  },
  {
   "cell_type": "code",
   "execution_count": null,
   "metadata": {
    "collapsed": true
   },
   "outputs": [],
   "source": []
  },
  {
   "cell_type": "code",
   "execution_count": null,
   "metadata": {
    "collapsed": true
   },
   "outputs": [],
   "source": []
  },
  {
   "cell_type": "code",
   "execution_count": null,
   "metadata": {
    "collapsed": true
   },
   "outputs": [],
   "source": []
  }
 ],
 "metadata": {
  "anaconda-cloud": {},
  "kernelspec": {
   "display_name": "Python [default]",
   "language": "python",
   "name": "python2"
  },
  "language_info": {
   "codemirror_mode": {
    "name": "ipython",
    "version": 2
   },
   "file_extension": ".py",
   "mimetype": "text/x-python",
   "name": "python",
   "nbconvert_exporter": "python",
   "pygments_lexer": "ipython2",
   "version": "2.7.12"
  }
 },
 "nbformat": 4,
 "nbformat_minor": 1
}
